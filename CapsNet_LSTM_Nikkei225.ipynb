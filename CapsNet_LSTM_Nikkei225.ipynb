{
  "cells": [
    {
      "cell_type": "markdown",
      "metadata": {
        "id": "view-in-github",
        "colab_type": "text"
      },
      "source": [
        "<a href=\"https://colab.research.google.com/github/Orangefox76200/CapsNet-LSTM/blob/main/CapsNet_LSTM_Nikkei225.ipynb\" target=\"_parent\"><img src=\"https://colab.research.google.com/assets/colab-badge.svg\" alt=\"Open In Colab\"/></a>"
      ]
    },
    {
      "cell_type": "markdown",
      "metadata": {
        "id": "G92ON7NXEnkW"
      },
      "source": [
        "# Financial Time Series Forecasting Using A Hybrid CapsNet-LSTM Architecture: Using real world data (Nikkei225 Index)\n",
        "\n",
        "Nikkei225 Index dataset contains data of the Nikkei225 DJIA Index prices recorded from Jan 1st, 2010 to Dec 31st, 2019. In addition to be using Tensorflow's layers for processing sequence data such as LSTMs we will also intergrate Capsule Network in our proposed hybrid architecture to improve the model's performance.\n",
        "\n",
        "Let's get started!"
      ]
    },
    {
      "cell_type": "code",
      "source": [
        "!pip install keras-tuner -q"
      ],
      "metadata": {
        "id": "q-8z1SiOcPgO",
        "colab": {
          "base_uri": "https://localhost:8080/"
        },
        "outputId": "eafa66c2-e7d0-4432-9a28-d1bdcaba9621"
      },
      "execution_count": 1,
      "outputs": [
        {
          "output_type": "stream",
          "name": "stdout",
          "text": [
            "\u001b[K     |████████████████████████████████| 135 kB 5.2 MB/s \n",
            "\u001b[K     |████████████████████████████████| 1.6 MB 49.0 MB/s \n",
            "\u001b[?25h"
          ]
        }
      ]
    },
    {
      "cell_type": "code",
      "execution_count": 2,
      "metadata": {
        "id": "56XEQOGknrAk"
      },
      "outputs": [],
      "source": [
        "import keras.backend as K\n",
        "import tensorflow as tf\n",
        "\n",
        "import keras\n",
        "import keras_tuner\n",
        "from keras import backend as K\n",
        "from keras import initializers, layers, models, optimizers, callbacks, utils\n",
        "from keras.models import load_model\n",
        "from keras.models import model_from_json\n",
        "\n",
        "from keras.initializers import glorot_uniform\n",
        "\n",
        "from keras.initializers import *\n",
        "from keras.layers import *\n",
        "from keras.models import *\n",
        "from keras.optimizers import *\n",
        "from keras.callbacks import EarlyStopping\n",
        "from keras.utils import *\n",
        "\n",
        "from keras import losses\n",
        "from keras.utils.io_utils import ask_to_proceed_with_overwrite\n",
        "from tensorflow.python.platform import tf_logging as logging\n",
        "\n",
        "import os\n",
        "import copy\n",
        "import pickle\n",
        "import pandas as pd\n",
        "import numpy as np\n",
        "import matplotlib.pyplot as plt\n",
        "from dataclasses import dataclass"
      ]
    },
    {
      "cell_type": "code",
      "source": [
        "# Set seed\n",
        "from numpy.random import seed\n",
        "seed(1)\n",
        "tf.random.set_seed(1)"
      ],
      "metadata": {
        "id": "Xe-Rnq9QbQ7A"
      },
      "execution_count": 3,
      "outputs": []
    },
    {
      "cell_type": "code",
      "source": [
        "# If code is running on TPU\n",
        "resolver = tf.distribute.cluster_resolver.TPUClusterResolver(tpu='')\n",
        "tf.config.experimental_connect_to_cluster(resolver)\n",
        "# This is the TPU initialization code that has to be at the beginning.\n",
        "tf.tpu.experimental.initialize_tpu_system(resolver)\n",
        "print(\"All devices: \", tf.config.list_logical_devices('TPU'))"
      ],
      "metadata": {
        "colab": {
          "base_uri": "https://localhost:8080/"
        },
        "id": "CnjuziNxZdvf",
        "outputId": "339b341a-7e9a-47d8-9882-ce13a9816deb"
      },
      "execution_count": 4,
      "outputs": [
        {
          "output_type": "stream",
          "name": "stdout",
          "text": [
            "All devices:  [LogicalDevice(name='/job:worker/replica:0/task:0/device:TPU:0', device_type='TPU'), LogicalDevice(name='/job:worker/replica:0/task:0/device:TPU:1', device_type='TPU'), LogicalDevice(name='/job:worker/replica:0/task:0/device:TPU:2', device_type='TPU'), LogicalDevice(name='/job:worker/replica:0/task:0/device:TPU:3', device_type='TPU'), LogicalDevice(name='/job:worker/replica:0/task:0/device:TPU:4', device_type='TPU'), LogicalDevice(name='/job:worker/replica:0/task:0/device:TPU:5', device_type='TPU'), LogicalDevice(name='/job:worker/replica:0/task:0/device:TPU:6', device_type='TPU'), LogicalDevice(name='/job:worker/replica:0/task:0/device:TPU:7', device_type='TPU')]\n"
          ]
        }
      ]
    },
    {
      "cell_type": "code",
      "source": [
        "strategy = tf.distribute.TPUStrategy(resolver)"
      ],
      "metadata": {
        "id": "eb5Za_rOMFVx"
      },
      "execution_count": 5,
      "outputs": []
    },
    {
      "cell_type": "code",
      "source": [
        "print(tf.__version__)"
      ],
      "metadata": {
        "colab": {
          "base_uri": "https://localhost:8080/"
        },
        "id": "rA-JsdF3y5eE",
        "outputId": "3693f5a8-27c7-4893-9629-36b4bae8906d"
      },
      "execution_count": 6,
      "outputs": [
        {
          "output_type": "stream",
          "name": "stdout",
          "text": [
            "2.8.2\n"
          ]
        }
      ]
    },
    {
      "cell_type": "markdown",
      "metadata": {
        "id": "RBR7h1IgEnkc"
      },
      "source": [
        "## Parsing the raw data\n",
        "\n",
        "A couple of things to note:\n",
        "\n",
        "- There is no need to save the data points as numpy arrays, regular lists is fine.\n",
        "- The `time` list should contain every timestep (starting at zero), which is just a sequence of ordered numbers with the same length as the `series` list.\n",
        "- The values of the `series` should be of `float` type. You can use Python's built-in `float` function to ensure this."
      ]
    },
    {
      "cell_type": "markdown",
      "metadata": {
        "id": "GeP3JMZHEnkZ"
      },
      "source": [
        "Begin by looking at the structure of the xlsx file that contains the data:"
      ]
    },
    {
      "cell_type": "code",
      "source": [
        "from google.colab import drive\n",
        "drive.mount ('gdrive')"
      ],
      "metadata": {
        "colab": {
          "base_uri": "https://localhost:8080/"
        },
        "id": "o4Vkj4Y8DYm7",
        "outputId": "3ec04f8f-9985-49f5-b24c-5a2cace0102f"
      },
      "execution_count": 7,
      "outputs": [
        {
          "output_type": "stream",
          "name": "stdout",
          "text": [
            "Mounted at gdrive\n"
          ]
        }
      ]
    },
    {
      "cell_type": "code",
      "source": [
        "N225_raw = pd.read_csv('/content/gdrive/MyDrive/Nikkei225/N225.csv')\n",
        "N225_raw"
      ],
      "metadata": {
        "colab": {
          "base_uri": "https://localhost:8080/",
          "height": 424
        },
        "id": "vKv3toTHFgnh",
        "outputId": "6bf89de6-aa8b-4ab9-ff85-570f13f89c59"
      },
      "execution_count": 8,
      "outputs": [
        {
          "output_type": "execute_result",
          "data": {
            "text/plain": [
              "            Date         Open         High          Low        Close  \\\n",
              "0       4/1/2010  10609.33984  10694.49023  10608.13965  10654.79004   \n",
              "1       5/1/2010  10719.44043  10791.04004  10655.57031  10681.83008   \n",
              "2       6/1/2010  10709.54981  10768.61035  10661.16992  10731.45020   \n",
              "3       7/1/2010  10742.75000  10774.00000  10636.66992  10681.66016   \n",
              "4       8/1/2010  10743.29981  10816.45020  10677.55957  10798.32031   \n",
              "...          ...          ...          ...          ...          ...   \n",
              "2443  24/12/2019  23839.17969  23853.56055  23796.34961  23830.58008   \n",
              "2444  25/12/2019  23813.58984  23824.84961  23782.86914  23782.86914   \n",
              "2445  26/12/2019  23787.69922  23931.50977  23775.40039  23924.91992   \n",
              "2446  27/12/2019  23953.75000  23967.17969  23837.72070  23837.72070   \n",
              "2447  30/12/2019  23770.92969  23782.49023  23656.61914  23656.61914   \n",
              "\n",
              "        Adj Close     Volume  \n",
              "0     10654.79004  104400000  \n",
              "1     10681.83008  166200000  \n",
              "2     10731.45020  181800000  \n",
              "3     10681.66016  182600000  \n",
              "4     10798.32031  211800000  \n",
              "...           ...        ...  \n",
              "2443  23830.58008   37900000  \n",
              "2444  23782.86914   31600000  \n",
              "2445  23924.91992   40300000  \n",
              "2446  23837.72070   44800000  \n",
              "2447  23656.61914   41600000  \n",
              "\n",
              "[2448 rows x 7 columns]"
            ],
            "text/html": [
              "\n",
              "  <div id=\"df-0fa57feb-b54c-4dcf-876a-72138466a317\">\n",
              "    <div class=\"colab-df-container\">\n",
              "      <div>\n",
              "<style scoped>\n",
              "    .dataframe tbody tr th:only-of-type {\n",
              "        vertical-align: middle;\n",
              "    }\n",
              "\n",
              "    .dataframe tbody tr th {\n",
              "        vertical-align: top;\n",
              "    }\n",
              "\n",
              "    .dataframe thead th {\n",
              "        text-align: right;\n",
              "    }\n",
              "</style>\n",
              "<table border=\"1\" class=\"dataframe\">\n",
              "  <thead>\n",
              "    <tr style=\"text-align: right;\">\n",
              "      <th></th>\n",
              "      <th>Date</th>\n",
              "      <th>Open</th>\n",
              "      <th>High</th>\n",
              "      <th>Low</th>\n",
              "      <th>Close</th>\n",
              "      <th>Adj Close</th>\n",
              "      <th>Volume</th>\n",
              "    </tr>\n",
              "  </thead>\n",
              "  <tbody>\n",
              "    <tr>\n",
              "      <th>0</th>\n",
              "      <td>4/1/2010</td>\n",
              "      <td>10609.33984</td>\n",
              "      <td>10694.49023</td>\n",
              "      <td>10608.13965</td>\n",
              "      <td>10654.79004</td>\n",
              "      <td>10654.79004</td>\n",
              "      <td>104400000</td>\n",
              "    </tr>\n",
              "    <tr>\n",
              "      <th>1</th>\n",
              "      <td>5/1/2010</td>\n",
              "      <td>10719.44043</td>\n",
              "      <td>10791.04004</td>\n",
              "      <td>10655.57031</td>\n",
              "      <td>10681.83008</td>\n",
              "      <td>10681.83008</td>\n",
              "      <td>166200000</td>\n",
              "    </tr>\n",
              "    <tr>\n",
              "      <th>2</th>\n",
              "      <td>6/1/2010</td>\n",
              "      <td>10709.54981</td>\n",
              "      <td>10768.61035</td>\n",
              "      <td>10661.16992</td>\n",
              "      <td>10731.45020</td>\n",
              "      <td>10731.45020</td>\n",
              "      <td>181800000</td>\n",
              "    </tr>\n",
              "    <tr>\n",
              "      <th>3</th>\n",
              "      <td>7/1/2010</td>\n",
              "      <td>10742.75000</td>\n",
              "      <td>10774.00000</td>\n",
              "      <td>10636.66992</td>\n",
              "      <td>10681.66016</td>\n",
              "      <td>10681.66016</td>\n",
              "      <td>182600000</td>\n",
              "    </tr>\n",
              "    <tr>\n",
              "      <th>4</th>\n",
              "      <td>8/1/2010</td>\n",
              "      <td>10743.29981</td>\n",
              "      <td>10816.45020</td>\n",
              "      <td>10677.55957</td>\n",
              "      <td>10798.32031</td>\n",
              "      <td>10798.32031</td>\n",
              "      <td>211800000</td>\n",
              "    </tr>\n",
              "    <tr>\n",
              "      <th>...</th>\n",
              "      <td>...</td>\n",
              "      <td>...</td>\n",
              "      <td>...</td>\n",
              "      <td>...</td>\n",
              "      <td>...</td>\n",
              "      <td>...</td>\n",
              "      <td>...</td>\n",
              "    </tr>\n",
              "    <tr>\n",
              "      <th>2443</th>\n",
              "      <td>24/12/2019</td>\n",
              "      <td>23839.17969</td>\n",
              "      <td>23853.56055</td>\n",
              "      <td>23796.34961</td>\n",
              "      <td>23830.58008</td>\n",
              "      <td>23830.58008</td>\n",
              "      <td>37900000</td>\n",
              "    </tr>\n",
              "    <tr>\n",
              "      <th>2444</th>\n",
              "      <td>25/12/2019</td>\n",
              "      <td>23813.58984</td>\n",
              "      <td>23824.84961</td>\n",
              "      <td>23782.86914</td>\n",
              "      <td>23782.86914</td>\n",
              "      <td>23782.86914</td>\n",
              "      <td>31600000</td>\n",
              "    </tr>\n",
              "    <tr>\n",
              "      <th>2445</th>\n",
              "      <td>26/12/2019</td>\n",
              "      <td>23787.69922</td>\n",
              "      <td>23931.50977</td>\n",
              "      <td>23775.40039</td>\n",
              "      <td>23924.91992</td>\n",
              "      <td>23924.91992</td>\n",
              "      <td>40300000</td>\n",
              "    </tr>\n",
              "    <tr>\n",
              "      <th>2446</th>\n",
              "      <td>27/12/2019</td>\n",
              "      <td>23953.75000</td>\n",
              "      <td>23967.17969</td>\n",
              "      <td>23837.72070</td>\n",
              "      <td>23837.72070</td>\n",
              "      <td>23837.72070</td>\n",
              "      <td>44800000</td>\n",
              "    </tr>\n",
              "    <tr>\n",
              "      <th>2447</th>\n",
              "      <td>30/12/2019</td>\n",
              "      <td>23770.92969</td>\n",
              "      <td>23782.49023</td>\n",
              "      <td>23656.61914</td>\n",
              "      <td>23656.61914</td>\n",
              "      <td>23656.61914</td>\n",
              "      <td>41600000</td>\n",
              "    </tr>\n",
              "  </tbody>\n",
              "</table>\n",
              "<p>2448 rows × 7 columns</p>\n",
              "</div>\n",
              "      <button class=\"colab-df-convert\" onclick=\"convertToInteractive('df-0fa57feb-b54c-4dcf-876a-72138466a317')\"\n",
              "              title=\"Convert this dataframe to an interactive table.\"\n",
              "              style=\"display:none;\">\n",
              "        \n",
              "  <svg xmlns=\"http://www.w3.org/2000/svg\" height=\"24px\"viewBox=\"0 0 24 24\"\n",
              "       width=\"24px\">\n",
              "    <path d=\"M0 0h24v24H0V0z\" fill=\"none\"/>\n",
              "    <path d=\"M18.56 5.44l.94 2.06.94-2.06 2.06-.94-2.06-.94-.94-2.06-.94 2.06-2.06.94zm-11 1L8.5 8.5l.94-2.06 2.06-.94-2.06-.94L8.5 2.5l-.94 2.06-2.06.94zm10 10l.94 2.06.94-2.06 2.06-.94-2.06-.94-.94-2.06-.94 2.06-2.06.94z\"/><path d=\"M17.41 7.96l-1.37-1.37c-.4-.4-.92-.59-1.43-.59-.52 0-1.04.2-1.43.59L10.3 9.45l-7.72 7.72c-.78.78-.78 2.05 0 2.83L4 21.41c.39.39.9.59 1.41.59.51 0 1.02-.2 1.41-.59l7.78-7.78 2.81-2.81c.8-.78.8-2.07 0-2.86zM5.41 20L4 18.59l7.72-7.72 1.47 1.35L5.41 20z\"/>\n",
              "  </svg>\n",
              "      </button>\n",
              "      \n",
              "  <style>\n",
              "    .colab-df-container {\n",
              "      display:flex;\n",
              "      flex-wrap:wrap;\n",
              "      gap: 12px;\n",
              "    }\n",
              "\n",
              "    .colab-df-convert {\n",
              "      background-color: #E8F0FE;\n",
              "      border: none;\n",
              "      border-radius: 50%;\n",
              "      cursor: pointer;\n",
              "      display: none;\n",
              "      fill: #1967D2;\n",
              "      height: 32px;\n",
              "      padding: 0 0 0 0;\n",
              "      width: 32px;\n",
              "    }\n",
              "\n",
              "    .colab-df-convert:hover {\n",
              "      background-color: #E2EBFA;\n",
              "      box-shadow: 0px 1px 2px rgba(60, 64, 67, 0.3), 0px 1px 3px 1px rgba(60, 64, 67, 0.15);\n",
              "      fill: #174EA6;\n",
              "    }\n",
              "\n",
              "    [theme=dark] .colab-df-convert {\n",
              "      background-color: #3B4455;\n",
              "      fill: #D2E3FC;\n",
              "    }\n",
              "\n",
              "    [theme=dark] .colab-df-convert:hover {\n",
              "      background-color: #434B5C;\n",
              "      box-shadow: 0px 1px 3px 1px rgba(0, 0, 0, 0.15);\n",
              "      filter: drop-shadow(0px 1px 2px rgba(0, 0, 0, 0.3));\n",
              "      fill: #FFFFFF;\n",
              "    }\n",
              "  </style>\n",
              "\n",
              "      <script>\n",
              "        const buttonEl =\n",
              "          document.querySelector('#df-0fa57feb-b54c-4dcf-876a-72138466a317 button.colab-df-convert');\n",
              "        buttonEl.style.display =\n",
              "          google.colab.kernel.accessAllowed ? 'block' : 'none';\n",
              "\n",
              "        async function convertToInteractive(key) {\n",
              "          const element = document.querySelector('#df-0fa57feb-b54c-4dcf-876a-72138466a317');\n",
              "          const dataTable =\n",
              "            await google.colab.kernel.invokeFunction('convertToInteractive',\n",
              "                                                     [key], {});\n",
              "          if (!dataTable) return;\n",
              "\n",
              "          const docLinkHtml = 'Like what you see? Visit the ' +\n",
              "            '<a target=\"_blank\" href=https://colab.research.google.com/notebooks/data_table.ipynb>data table notebook</a>'\n",
              "            + ' to learn more about interactive tables.';\n",
              "          element.innerHTML = '';\n",
              "          dataTable['output_type'] = 'display_data';\n",
              "          await google.colab.output.renderOutput(dataTable, element);\n",
              "          const docLink = document.createElement('div');\n",
              "          docLink.innerHTML = docLinkHtml;\n",
              "          element.appendChild(docLink);\n",
              "        }\n",
              "      </script>\n",
              "    </div>\n",
              "  </div>\n",
              "  "
            ]
          },
          "metadata": {},
          "execution_count": 8
        }
      ]
    },
    {
      "cell_type": "code",
      "source": [
        "series = N225_raw.iloc[:,4]"
      ],
      "metadata": {
        "id": "vTg-wdf-Vpbi"
      },
      "execution_count": 9,
      "outputs": []
    },
    {
      "cell_type": "code",
      "source": [
        "time = []\n",
        "for i in range(0, len(series)):\n",
        "  time.append(i)"
      ],
      "metadata": {
        "id": "4P3cPCrbVpVl"
      },
      "execution_count": 10,
      "outputs": []
    },
    {
      "cell_type": "markdown",
      "source": [
        "A helper function to plot the time series:"
      ],
      "metadata": {
        "id": "XQh2IH8Tl0Le"
      }
    },
    {
      "cell_type": "code",
      "source": [
        "def plot_series(time, series, format=\"-\", start=0, end=None):\n",
        "    plt.plot(time[start:end], series[start:end], format)\n",
        "    plt.xlabel(\"Time\")\n",
        "    plt.ylabel(\"Value\")\n",
        "    plt.grid(True)"
      ],
      "metadata": {
        "id": "qMGyMzGelzEW"
      },
      "execution_count": 11,
      "outputs": []
    },
    {
      "cell_type": "markdown",
      "metadata": {
        "id": "tT1tB8J1Enkd"
      },
      "source": [
        "The next cell will use functions to compute the `time` and `series` and will save these as numpy arrays within the `G` dataclass. This cell will also plot the time series:"
      ]
    },
    {
      "cell_type": "code",
      "execution_count": 12,
      "metadata": {
        "colab": {
          "base_uri": "https://localhost:8080/",
          "height": 388
        },
        "id": "R8UYoZlKEnke",
        "outputId": "2dfea954-0b17-4588-b817-d0a81c69fc45"
      },
      "outputs": [
        {
          "output_type": "display_data",
          "data": {
            "text/plain": [
              "<Figure size 720x432 with 1 Axes>"
            ],
            "image/png": "[encoded data removed]"
          },
          "metadata": {
            "needs_background": "light"
          }
        }
      ],
      "source": [
        "# Save all \"global\" variables within the G class (G stands for global)\n",
        "@dataclass\n",
        "class G:\n",
        "    TIME = np.array(time)\n",
        "    SERIES = np.array(series)\n",
        "    SPLIT_TIME = int((len(series)-150)*0.8)\n",
        "    WINDOW_SIZE = 250\n",
        "    BATCH_SIZE = 32\n",
        "\n",
        "plt.figure(figsize=(10, 6))\n",
        "plot_series(G.TIME, G.SERIES)\n",
        "plt.show()"
      ]
    },
    {
      "cell_type": "markdown",
      "metadata": {
        "id": "Y8U3ckcaEnke"
      },
      "source": [
        "## Processing the data\n",
        "\n",
        "The `train_val_split` and `windowed_dataset` functions:"
      ]
    },
    {
      "cell_type": "code",
      "execution_count": 13,
      "metadata": {
        "id": "3O7A_9XdEnkf"
      },
      "outputs": [],
      "source": [
        "def train_val_test_split(time, series, time_step=G.SPLIT_TIME):\n",
        "\n",
        "    time_train = time[:time_step]\n",
        "    series_train = series[:time_step]\n",
        "    time_valid = time[time_step:-150]\n",
        "    series_valid = series[time_step:-150]\n",
        "    time_test = time[-150:]\n",
        "    series_test = series[-150:]\n",
        "\n",
        "    return time_train, series_train, time_valid, series_valid, time_test, series_test\n",
        "\n",
        "# Split the dataset\n",
        "time_train, series_train, time_valid, series_valid, time_test, series_test = train_val_test_split(G.TIME, G.SERIES)"
      ]
    },
    {
      "cell_type": "markdown",
      "source": [
        "min-max normalization:"
      ],
      "metadata": {
        "id": "M8xZy3QTZD8e"
      }
    },
    {
      "cell_type": "code",
      "source": [
        "def min_max_normalization(series):\n",
        "  series = (series - min(series_train))/(max(series_train) - min(series_train))\n",
        "  return series"
      ],
      "metadata": {
        "id": "aRkvaM6AauAy"
      },
      "execution_count": 14,
      "outputs": []
    },
    {
      "cell_type": "code",
      "source": [
        "series_norm = min_max_normalization(G.SERIES)"
      ],
      "metadata": {
        "id": "UR8bYse7ZC-G"
      },
      "execution_count": 15,
      "outputs": []
    },
    {
      "cell_type": "code",
      "source": [
        "series_train_norm = series_norm[:G.SPLIT_TIME]\n",
        "series_valid_norm = series_norm[G.SPLIT_TIME:-150]\n",
        "series_test_norm = series_norm[-150:]"
      ],
      "metadata": {
        "id": "CQr8LSVw4BIV"
      },
      "execution_count": 16,
      "outputs": []
    },
    {
      "cell_type": "code",
      "source": [
        "plot_series(time_train, series_train_norm)"
      ],
      "metadata": {
        "colab": {
          "base_uri": "https://localhost:8080/",
          "height": 279
        },
        "id": "slIykxCnn9Eb",
        "outputId": "302d9d2a-6a2e-4da0-dbea-8df82e13c947"
      },
      "execution_count": 17,
      "outputs": [
        {
          "output_type": "display_data",
          "data": {
            "text/plain": [
              "<Figure size 432x288 with 1 Axes>"
            ],
            "image/png": "[encoded data removed]"
          },
          "metadata": {
            "needs_background": "light"
          }
        }
      ]
    },
    {
      "cell_type": "code",
      "source": [
        "plot_series(time_valid, series_valid_norm)"
      ],
      "metadata": {
        "colab": {
          "base_uri": "https://localhost:8080/",
          "height": 279
        },
        "id": "2dBiTEwnoPCf",
        "outputId": "1ef40561-8d34-42b4-b5ca-efeb2a86cb0a"
      },
      "execution_count": 18,
      "outputs": [
        {
          "output_type": "display_data",
          "data": {
            "text/plain": [
              "<Figure size 432x288 with 1 Axes>"
            ],
            "image/png": "[encoded data removed]"
          },
          "metadata": {
            "needs_background": "light"
          }
        }
      ]
    },
    {
      "cell_type": "code",
      "source": [
        "plot_series(time_test, series_test_norm)"
      ],
      "metadata": {
        "colab": {
          "base_uri": "https://localhost:8080/",
          "height": 279
        },
        "id": "bCGYGHZC4oSt",
        "outputId": "9c5d051f-fe43-4195-9f75-7dbb7a2df52a"
      },
      "execution_count": 19,
      "outputs": [
        {
          "output_type": "display_data",
          "data": {
            "text/plain": [
              "<Figure size 432x288 with 1 Axes>"
            ],
            "image/png": "[encoded data removed]"
          },
          "metadata": {
            "needs_background": "light"
          }
        }
      ]
    },
    {
      "cell_type": "code",
      "source": [
        "# Create train_set, val_set, and train_val_set. train_set and val_set are used for hyper=parameters tuning, and train_val_set is used for training.\n",
        "def windowed_dataset(series, window_size=G.WINDOW_SIZE, batch_size=G.BATCH_SIZE):\n",
        "    ds = tf.data.Dataset.from_tensor_slices(series)\n",
        "    ds = ds.window(window_size + 1, shift=1, drop_remainder=True)\n",
        "    ds = ds.flat_map(lambda w: w.batch(window_size + 1))\n",
        "    ds = ds.map(lambda w: (w[:-1], w[-1]))\n",
        "    ds = ds.batch(batch_size).prefetch(1)\n",
        "    return ds\n",
        "train_set = windowed_dataset(series_train_norm, window_size=G.WINDOW_SIZE, batch_size=G.BATCH_SIZE)\n",
        "val_set = windowed_dataset(series_norm[G.SPLIT_TIME-G.WINDOW_SIZE:-150], window_size=G.WINDOW_SIZE, batch_size=G.BATCH_SIZE)\n",
        "train_val_set = windowed_dataset(series_norm[0:-150], window_size=G.WINDOW_SIZE, batch_size=G.BATCH_SIZE)"
      ],
      "metadata": {
        "id": "Uix6YCADP4wK"
      },
      "execution_count": 20,
      "outputs": []
    },
    {
      "cell_type": "markdown",
      "metadata": {
        "id": "E6stIQIqEnkh"
      },
      "source": [
        "## Compiling the model\n"
      ]
    },
    {
      "cell_type": "markdown",
      "metadata": {
        "id": "GaMon77MEnkf"
      },
      "source": [
        "### Defining the model architecture (CapsNet-LSTM)\n"
      ]
    },
    {
      "cell_type": "code",
      "source": [
        "# Squash function\n",
        "\n",
        "def squash(vectors, axis=-1):\n",
        "    \"\"\"\n",
        "    The non-linear activation used in Capsule. It drives the length of a large vector to near 1 and small vector to 0\n",
        "    :param vectors: some vectors to be squashed, N-dim tensor\n",
        "    :param axis: the axis to squash\n",
        "    :return: a Tensor with same shape as input vectors\n",
        "    \"\"\"\n",
        "    s_squared_norm = K.sum(K.square(vectors), axis, keepdims=True) \n",
        "    scale = s_squared_norm / (1 + s_squared_norm) / K.sqrt(s_squared_norm + K.epsilon())\n",
        "    return scale * vectors\n"
      ],
      "metadata": {
        "id": "NAPDHkls8FGx"
      },
      "execution_count": 21,
      "outputs": []
    },
    {
      "cell_type": "code",
      "source": [
        "# Dynamic routing (layer)\n",
        "#    The capsule layer. It is similar to Dense layer. Dense layer has `in_num` inputs, each is a scalar, the output of the \n",
        "#    neuron from the former layer, and it has `out_num` output neurons. CapsuleLayer just expand the output of the neuron\n",
        "#    from scalar to vector. So its input shape = [None, input_num_capsule, input_dim_capsule] and output shape = \\\n",
        "#    [None, num_capsule, dim_capsule]. For Dense Layer, input_dim_capsule = dim_capsule = 1.\n",
        "\n",
        "#    :param dim_capsule: dimension of the output vectors of the capsules in this layer\n",
        "#    :param routings: number of iterations for the routing algorithm \n",
        "\n",
        "@tf.keras.utils.register_keras_serializable() \n",
        "class Routing(keras.layers.Layer):\n",
        "\n",
        "    def __init__(self, dim_capsule = 32 , routings=3, kernel_initializer='glorot_uniform'):\n",
        "        super(Routing, self).__init__()\n",
        "        self.dim_capsule = dim_capsule\n",
        "        self.routings = routings\n",
        "        self.kernel_initializer = initializers.get(kernel_initializer)\n",
        "\n",
        "    def build(self, input_shape):\n",
        "        # build tansform matrix which can convert one primary cap to a vector with the same order as the digit cap.\n",
        "        # assert len(input_shape) >= 3  # The input Tensor should have shape=[None, input_num_capsule, input_dim_capsule]\n",
        "        self.input_num_capsule = input_shape[1]\n",
        "        self.input_dim_capsule = input_shape[2]\n",
        "        \n",
        "        # Transform matrix\n",
        "       \n",
        "        self.W = self.add_weight(shape=[self.input_num_capsule,self.dim_capsule, self.input_dim_capsule],initializer=self.kernel_initializer,name='W')\n",
        "\n",
        "    def call(self, inputs): #training=None\n",
        "        # inputs.shape=[input_num_capsule, input_dim_capsule]\n",
        "        # inputs_expand.shape=[input_num_capsule, input_dim_capsule, 1]\n",
        "        inputs_expand = K.expand_dims(inputs, -1)    \n",
        "\n",
        "        # Compute `inputs * W` by scanning inputs_tiled on dimension 0.\n",
        "        # x.shape=[None, input_num_capsule, input_dim_capsule, 1]\n",
        "        # W.shape=[input_num_capsule, dim_capsule, input_dim_capsule]\n",
        "        # Regard the first dimension as `batch` dimension,\n",
        "        # then matmul: [dim_capsule, input_dim_capsule] x [input_dim_capsule, 1] -> [dim_capsule].\n",
        "        # inputs_hat.shape = [None, input_num_capsule, dim_capsule, 1]     \n",
        "          \n",
        "        inputs_hat = K.map_fn(lambda x: K.batch_dot(self.W, x, [2, 1]), elems=inputs_expand) \n",
        "\n",
        "        inputs_hat = K.squeeze(inputs_hat, axis = -1)\n",
        "        # inputs_hat.shape = [None, input_num_capsule, dim_capsule]\n",
        "       \n",
        "        # Begin: Routing algorithm ---------------------------------------------------------------------#\n",
        "        # The prior for coupling coefficient, initialized as zeros.\n",
        "        # b.shape = [None, self.input_num_capsule].\n",
        "        b = tf.zeros(shape=[K.shape(inputs_hat)[0], self.input_num_capsule])\n",
        "        \n",
        "        assert self.routings > 0\n",
        "        for i in range(self.routings):\n",
        "            # c.shape=[batch_size, input_num_capsule]\n",
        "            c = tf.nn.softmax(b, axis=-1)\n",
        "\n",
        "            # c.shape =  [batch_size, input_num_capsule]\n",
        "            # inputs_hat.shape=[batch_size, input_num_capsule, dim_capsule]\n",
        "            # The first dimensions as `batch` dimension,\n",
        "            # then matmal: [input_num_capsule] x [input_num_capsule, dim_capsule] -> [dim_capsule].\n",
        "            # outputs.shape=[None, dim_capsule]\n",
        "            \n",
        "            #outputs = squash(K.batch_dot(c, inputs_hat, [1, 1])) \n",
        "            outputs = K.batch_dot(c, inputs_hat, [1, 1])\n",
        "\n",
        "            if i < self.routings - 1:\n",
        "                # outputs.shape =  [None, dim_capsule]\n",
        "                # inputs_hat.shape=[None, input_num_capsule, dim_capsule]\n",
        "                # The first dimension as `batch` dimension,\n",
        "                # then matmal: [dim_capsule] x [input_num_capsule, dim_capsule]^T -> [input_num_capsule].\n",
        "                # b.shape=[batch_size, input_num_capsule]\n",
        "                b += K.batch_dot(outputs, inputs_hat, [1, 2])\n",
        "       \n",
        "        # End: Routing algorithm -----------------------------------------------------------------------#\n",
        "\n",
        "        return outputs\n",
        "\n",
        "    def compute_output_shape(self, input_shape):\n",
        "        return tuple([None, self.dim_capsule])\n",
        "\n",
        "    def get_config(self):\n",
        "        config = super().get_config()\n",
        "        config.update({\n",
        "            \"dim_capsule\": self.dim_capsule,\n",
        "            \"routings\": self.routings,\n",
        "            \"kernel_initializer\": self.kernel_initializer,\n",
        "        })\n",
        "        return config"
      ],
      "metadata": {
        "id": "n2SUkh9LAFqP"
      },
      "execution_count": 22,
      "outputs": []
    },
    {
      "cell_type": "code",
      "execution_count": 23,
      "metadata": {
        "id": "1Y12KaJYEnki"
      },
      "outputs": [],
      "source": [
        "def compute_metrics(true_series, forecast):\n",
        "    \n",
        "    mse = tf.keras.metrics.mean_squared_error(true_series, forecast).numpy()   \n",
        "    rmse = tf.math.sqrt(mse).numpy()\n",
        "    mae = tf.keras.metrics.mean_absolute_error(true_series, forecast).numpy()\n",
        "    mape = tf.keras.metrics.mean_absolute_percentage_error(true_series, forecast).numpy()\n",
        "    return rmse, mae, mape"
      ]
    },
    {
      "cell_type": "code",
      "execution_count": 24,
      "metadata": {
        "id": "4XwGrf-A_wF0"
      },
      "outputs": [],
      "source": [
        "def model_forecast(model, series, window_size):\n",
        "    ds = tf.data.Dataset.from_tensor_slices(series)\n",
        "    ds = ds.window(window_size, shift=1, drop_remainder=True)\n",
        "    ds = ds.flat_map(lambda w: w.batch(window_size))\n",
        "    ds = ds.batch(32).prefetch(1)\n",
        "    forecast = model.predict(ds)\n",
        "    return forecast"
      ]
    },
    {
      "cell_type": "code",
      "source": [
        "def reverse_normalization(series):\n",
        "  series = series * (max(series_train) - min(series_train)) + min(series_train)\n",
        "  return series"
      ],
      "metadata": {
        "id": "xG8kJO3blWny"
      },
      "execution_count": 25,
      "outputs": []
    },
    {
      "cell_type": "code",
      "source": [
        "input_shape = (G.WINDOW_SIZE, 1)"
      ],
      "metadata": {
        "id": "uh3dZo2eVk0K"
      },
      "execution_count": 26,
      "outputs": []
    },
    {
      "cell_type": "code",
      "source": [
        "# Prepare callback\n",
        "stop_early = tf.keras.callbacks.EarlyStopping(monitor='val_mae', patience=5)"
      ],
      "metadata": {
        "id": "LxTHiYBFhIhF"
      },
      "execution_count": 27,
      "outputs": []
    },
    {
      "cell_type": "code",
      "source": [
        "K.clear_session()"
      ],
      "metadata": {
        "id": "-dD6KzvejX_o"
      },
      "execution_count": 28,
      "outputs": []
    },
    {
      "cell_type": "markdown",
      "source": [
        "### Tune hyper-parameters"
      ],
      "metadata": {
        "id": "HAgEm3Ue4PNF"
      }
    },
    {
      "cell_type": "code",
      "source": [
        "def build_CapsNet_LSTM(hp):\n",
        "   \n",
        "    input = tf.keras.layers.Input(shape=input_shape)\n",
        "      \n",
        "    # First layer\n",
        "    conv1d_1 = tf.keras.layers.Conv1D(filters=hp.Int('Conv1_units', 256, 1024, 256), kernel_size=2, strides=1, padding='causal', activation='relu', name = 'conv1d_1')(input)\n",
        "          \n",
        "    # Primary caps\n",
        "    conv1d_2 = tf.keras.layers.Conv1D(filters=512, kernel_size=2, strides=1, padding='causal',name = 'conv1d_2')(conv1d_1)\n",
        "\n",
        "    unsquashed_caps = tf.keras.layers.Reshape((G.WINDOW_SIZE, 64, 8))(conv1d_2)\n",
        "    squashed_caps = tf.keras.layers.Lambda(squash)(unsquashed_caps)\n",
        "\n",
        "    # Digit caps\n",
        "     \n",
        "    digit_caps = tf.keras.layers.TimeDistributed(Routing(dim_capsule = hp.Int('dim_capsule', 256, 1024, 256), routings = hp.Int('routings', 3, 5, 1)))(squashed_caps)\n",
        "\n",
        "    # LSTM layer\n",
        "    lstm = tf.keras.layers.LSTM(hp.Int('lstm_units', 150, 300, 50))(digit_caps)\n",
        "\n",
        "    # Dropout  \n",
        "    dropout = tf.keras.layers.Dropout(hp.Float('dropout', 0.1, 0.5, 0.1))(lstm)\n",
        "\n",
        "    # Dense layer\n",
        "    dense1 = tf.keras.layers.Dense(hp.Int('dense1_units', 20, 50, 10), activation=\"relu\")(dropout)\n",
        "    dense2 = tf.keras.layers.Dense(hp.Int('dense2_units', 5, 20, 5), activation=\"relu\")(dense1)\n",
        "    output = tf.keras.layers.Dense(1)(dense2)\n",
        "\n",
        "    model = keras.Model(inputs=input, outputs=output, name=\"capsnet_lstm\")\n",
        "\n",
        "    learning_rate = hp.Float(\"lr\", min_value=1e-4, max_value=1e-2, sampling=\"log\")\n",
        "    model.compile(\n",
        "        optimizer=tf.keras.optimizers.Adam(learning_rate = learning_rate),\n",
        "        loss=tf.keras.losses.Huber(),\n",
        "        metrics=[\"mae\"])\n",
        "\n",
        "    return model"
      ],
      "metadata": {
        "id": "CV7ss5NiVBZy"
      },
      "execution_count": 29,
      "outputs": []
    },
    {
      "cell_type": "code",
      "source": [
        "build_CapsNet_LSTM(keras_tuner.HyperParameters())\n",
        "\n",
        "tuner_capsnet_lstm = keras_tuner.Hyperband(\n",
        "    hypermodel=build_CapsNet_LSTM,\n",
        "    objective=\"val_mae\",\n",
        "    max_epochs=50,\n",
        "    factor=3,\n",
        "    hyperband_iterations=1,\n",
        "    distribution_strategy=strategy,\n",
        "    seed = 1,\n",
        "    directory='/content/gdrive/MyDrive/Tuner',\n",
        "    project_name='capsnet_lstm_N225',\n",
        "    overwrite = False)\n",
        "\n",
        "tuner_capsnet_lstm.search(train_set, epochs=50, validation_data=val_set, callbacks=[stop_early])\n",
        "\n",
        "tuner_capsnet_lstm.results_summary()\n",
        "\n",
        "# Get the top 5 hyperparameters.\n",
        "best_hps_capsnet_lstm = tuner_capsnet_lstm.get_best_hyperparameters(5)"
      ],
      "metadata": {
        "id": "Clw6kk0hViJD",
        "outputId": "f7878bbb-a5b9-4945-e229-30109dce4a82",
        "colab": {
          "base_uri": "https://localhost:8080/"
        }
      },
      "execution_count": null,
      "outputs": [
        {
          "output_type": "stream",
          "name": "stdout",
          "text": [
            "Trial 2 Complete [00h 00m 41s]\n",
            "val_mae: 0.2517385482788086\n",
            "\n",
            "Best val_mae So Far: 0.09093088656663895\n",
            "Total elapsed time: 00h 01m 29s\n",
            "\n",
            "Search: Running Trial #3\n",
            "\n",
            "Value             |Best Value So Far |Hyperparameter\n",
            "768               |256               |Conv1_units\n",
            "512               |1024              |dim_capsule\n",
            "4                 |3                 |routings\n",
            "300               |200               |lstm_units\n",
            "0.2               |0.3               |dropout\n",
            "50                |40                |dense1_units\n",
            "20                |10                |dense2_units\n",
            "0.0026588         |0.00028406        |lr\n",
            "2                 |2                 |tuner/epochs\n",
            "0                 |0                 |tuner/initial_epoch\n",
            "3                 |3                 |tuner/bracket\n",
            "0                 |0                 |tuner/round\n",
            "\n",
            "Epoch 1/2\n",
            "     14/Unknown - 11s 170ms/step - loss: 0.0026 - mae: 0.0507"
          ]
        }
      ]
    },
    {
      "cell_type": "code",
      "source": [
        "# Build the model with the best hp.\n",
        "with strategy.scope():\n",
        "  capsnet_lstm = build_CapsNet_LSTM(best_hps_capsnet_lstm[0])\n",
        "# Fit with the entire dataset.\n",
        "capsnet_lstm.fit(train_val_set, epochs=200)"
      ],
      "metadata": {
        "id": "Bz4kTlU3C_r_"
      },
      "execution_count": null,
      "outputs": []
    },
    {
      "cell_type": "code",
      "source": [
        "print(capsnet_lstm.summary())"
      ],
      "metadata": {
        "id": "bRU73bByvkyi"
      },
      "execution_count": null,
      "outputs": []
    },
    {
      "cell_type": "markdown",
      "metadata": {
        "id": "69lcH5cAEnki"
      },
      "source": [
        "## Evaluating the forecast\n",
        "\n",
        "Now it is time to evaluate the performance of the forecast. For this we use the `compute_metrics` function:"
      ]
    },
    {
      "cell_type": "markdown",
      "metadata": {
        "id": "r7V0kTKHEnki"
      },
      "source": [
        "At this point only the model that will perform the forecast is ready but we still need to compute the actual forecast.\n",
        "\n"
      ]
    },
    {
      "cell_type": "markdown",
      "metadata": {
        "id": "rJtDyAD9Enkj"
      },
      "source": [
        "### Faster model forecasts\n",
        "\n",
        "\n",
        "- The dataset is windowed using `window_size` rather than `window_size + 1`\n",
        "- No shuffle should be used\n",
        "- No need to split the data into features and labels\n",
        "- A model is used to predict batches of the dataset"
      ]
    },
    {
      "cell_type": "markdown",
      "metadata": {
        "id": "kIyFlTEwEnkj"
      },
      "source": [
        "Now compute the actual forecast:"
      ]
    },
    {
      "cell_type": "code",
      "execution_count": null,
      "metadata": {
        "id": "yEiYgYaA28PR"
      },
      "outputs": [],
      "source": [
        "# Compute the forecast for all the series\n",
        "capsnet_lstm_forecast = model_forecast(capsnet_lstm, series_norm, G.WINDOW_SIZE).squeeze()\n",
        "\n",
        "# Slice the forecast to get only the predictions for the validation set\n",
        "series_test_hat_capsnet_lstm = capsnet_lstm_forecast[-150:]\n",
        "\n",
        "# Reverse normalization\n",
        "series_test_hat_capsnet_lstm = reverse_normalization(series_test_hat_capsnet_lstm)"
      ]
    },
    {
      "cell_type": "code",
      "source": [
        "# Plot the forecast\n",
        "\n",
        "plt.figure(figsize=(10, 6))\n",
        "plot_series(np.arange( 1, len(time_test)+1 ), series_test)\n",
        "plot_series(np.arange( 1, len(time_test)+1 ), series_test_hat_capsnet_lstm)\n",
        "plt.ylabel(\"Index Value\")\n",
        "plt.xlabel(\"Time Step\")\n",
        "legend_drawn_flag = True\n",
        "plt.legend([\"Original Value (Nikkei225)\", \"Predicted Value (Nikkei225)\"], loc=0, frameon=legend_drawn_flag)\n",
        "plt.savefig(\"/content/gdrive/MyDrive/Forecasting_results/capsnet_lstm_forecasts_N225.svg\")"
      ],
      "metadata": {
        "id": "SmSKga7VAAKf"
      },
      "execution_count": null,
      "outputs": []
    },
    {
      "cell_type": "code",
      "execution_count": null,
      "metadata": {
        "id": "OmelEr6a3I70"
      },
      "outputs": [],
      "source": [
        "rmse_capsnet_lstm, mae_capsnet_lstm, mape_capsnet_lstm= compute_metrics(series_test, series_test_hat_capsnet_lstm)\n",
        "\n",
        "print(f\"mse: {rmse_capsnet_lstm:.2f}, mae: {mae_capsnet_lstm:.2f} , mape: {mape_capsnet_lstm:.2f} for forecast\")"
      ]
    },
    {
      "cell_type": "code",
      "source": [
        "# Save model\n",
        "\n",
        "capsnet_lstm.save('/content/gdrive/MyDrive/Saved_models/capsnet_lstm_N225.h5')"
      ],
      "metadata": {
        "id": "31KC2l1EEpTk"
      },
      "execution_count": null,
      "outputs": []
    },
    {
      "cell_type": "code",
      "source": [
        "capsnet_lstm.save_weights('/content/gdrive/MyDrive/Saved_models/capsnet_lstm_N225_weights.h5', overwrite=True, save_format=None, options=None)"
      ],
      "metadata": {
        "id": "oI_ZlBK1vcob"
      },
      "execution_count": null,
      "outputs": []
    },
    {
      "cell_type": "markdown",
      "source": [
        "### Load the saved model\n",
        "Direct loading the saved model encounters issues. On this occasion, we first rebuild the proposed model using the optimal hyper-parameters, then load the saved weights to this model."
      ],
      "metadata": {
        "id": "J3Lje6VBQbDU"
      }
    },
    {
      "cell_type": "code",
      "source": [
        "saved_capsnet_lstm = load_model('/content/gdrive/MyDrive/Saved_models/capsnet_lstm_N225.h5')"
      ],
      "metadata": {
        "id": "0urUg_MrvtRi"
      },
      "execution_count": null,
      "outputs": []
    },
    {
      "cell_type": "code",
      "source": [
        "print(saved_capsnet_lstm.summary())"
      ],
      "metadata": {
        "colab": {
          "base_uri": "https://localhost:8080/"
        },
        "id": "AEcAj7eDZdoW",
        "outputId": "363029a8-0f6c-4809-a1f4-50fde841ca4e"
      },
      "execution_count": null,
      "outputs": [
        {
          "output_type": "stream",
          "name": "stdout",
          "text": [
            "Model: \"capsnet_lstm\"\n",
            "_________________________________________________________________\n",
            " Layer (type)                Output Shape              Param #   \n",
            "=================================================================\n",
            " input_2 (InputLayer)        [(None, 250, 1)]          0         \n",
            "                                                                 \n",
            " conv1d_1 (Conv1D)           (None, 250, 256)          768       \n",
            "                                                                 \n",
            " conv1d_2 (Conv1D)           (None, 250, 512)          262656    \n",
            "                                                                 \n",
            " reshape_1 (Reshape)         (None, 250, 64, 8)        0         \n",
            "                                                                 \n",
            " lambda_1 (Lambda)           (None, 250, 64, 8)        0         \n",
            "                                                                 \n",
            " time_distributed_1 (TimeDis  (None, 250, 768)         393216    \n",
            " tributed)                                                       \n",
            "                                                                 \n",
            " lstm_1 (LSTM)               (None, 200)               775200    \n",
            "                                                                 \n",
            " dropout_1 (Dropout)         (None, 200)               0         \n",
            "                                                                 \n",
            " dense_3 (Dense)             (None, 20)                4020      \n",
            "                                                                 \n",
            " dense_4 (Dense)             (None, 15)                315       \n",
            "                                                                 \n",
            " dense_5 (Dense)             (None, 1)                 16        \n",
            "                                                                 \n",
            "=================================================================\n",
            "Total params: 1,436,191\n",
            "Trainable params: 1,436,191\n",
            "Non-trainable params: 0\n",
            "_________________________________________________________________\n",
            "None\n"
          ]
        }
      ]
    },
    {
      "cell_type": "code",
      "source": [
        "# Compute the forecast for all the series\n",
        "saved_capsnet_lstm_forecast = model_forecast(saved_capsnet_lstm, series_norm, G.WINDOW_SIZE).squeeze()\n",
        "\n",
        "# Slice the forecast to get only the predictions for the validation set\n",
        "series_test_hat_saved_capsnet_lstm = saved_capsnet_lstm_forecast[-150:]\n",
        "series_test_hat_saved_capsnet_lstm = reverse_normalization(series_test_hat_saved_capsnet_lstm)"
      ],
      "metadata": {
        "id": "Et87GoahZgr0"
      },
      "execution_count": null,
      "outputs": []
    },
    {
      "cell_type": "code",
      "source": [
        "# Plot the forecast\n",
        "\n",
        "plt.figure(figsize=(10, 6))\n",
        "plot_series(np.arange( 1, len(time_test)+1 ), series_test)\n",
        "plot_series(np.arange( 1, len(time_test)+1 ), series_test_hat_saved_capsnet_lstm)\n",
        "plt.ylabel(\"Index Value\")\n",
        "plt.xlabel(\"Time Step\")\n",
        "legend_drawn_flag = True\n",
        "plt.legend([\"Original Value (DJIA)\", \"Predicted Value (DJIA)\"], loc=0, frameon=legend_drawn_flag)\n",
        "plt.savefig(\"/content/gdrive/MyDrive/Forecasting_results/saved_capsnet_lstm_forecasts.svg\")"
      ],
      "metadata": {
        "colab": {
          "base_uri": "https://localhost:8080/",
          "height": 388
        },
        "id": "DOCvrIDTZj0t",
        "outputId": "5274961c-8a95-409b-91e5-a080b2bc00f1"
      },
      "execution_count": null,
      "outputs": [
        {
          "output_type": "display_data",
          "data": {
            "text/plain": [
              "<Figure size 720x432 with 1 Axes>"
            ],
            "image/png": "[encoded data removed]"
          },
          "metadata": {
            "needs_background": "light"
          }
        }
      ]
    },
    {
      "cell_type": "code",
      "source": [
        "rmse_saved_capsnet_lstm, mae_saved_capsnet_lstm, mape_saved_capsnet_lstm= compute_metrics(series_test, series_test_hat_saved_capsnet_lstm)\n",
        "\n",
        "print(f\"mse: {rmse_saved_capsnet_lstm:.2f}, mae: {mae_saved_capsnet_lstm:.2f} , mape: {mape_saved_capsnet_lstm:.2f} for forecast\")"
      ],
      "metadata": {
        "colab": {
          "base_uri": "https://localhost:8080/"
        },
        "id": "Qg_xuBMZaGaN",
        "outputId": "4d17bb43-f6ba-4632-ce28-a190fa3f1a2b"
      },
      "execution_count": null,
      "outputs": [
        {
          "output_type": "stream",
          "name": "stdout",
          "text": [
            "mse: 40.34, mae: 31.51 , mape: 0.12 for forecast\n"
          ]
        }
      ]
    },
    {
      "cell_type": "markdown",
      "source": [
        "## Baseline (LSTM, CNN-LSTM)"
      ],
      "metadata": {
        "id": "og2vNXLVgOeC"
      }
    },
    {
      "cell_type": "markdown",
      "source": [
        "### LSTM"
      ],
      "metadata": {
        "id": "DTXrC28w_ZGT"
      }
    },
    {
      "cell_type": "code",
      "execution_count": null,
      "metadata": {
        "id": "Sc6pU_kiEnkg"
      },
      "outputs": [],
      "source": [
        "def build_LSTM(hp):\n",
        "   \n",
        "    model = tf.keras.models.Sequential([\n",
        "          tf.keras.layers.LSTM(hp.Int('lstm_units', 100, 300, 50), input_shape=[G.WINDOW_SIZE, 1]),\n",
        "          tf.keras.layers.Dense(hp.Int('dense1_units', 20, 50, 10), activation=\"relu\"),\n",
        "          tf.keras.layers.Dense(hp.Int('dense2_units', 5, 20, 5), activation=\"relu\"),\n",
        "          tf.keras.layers.Dense(1)\n",
        "    ])\n",
        "    learning_rate = hp.Float(\"lr\", min_value=1e-4, max_value=1e-2, sampling=\"log\")\n",
        "    model.compile(\n",
        "        optimizer=tf.keras.optimizers.Adam(learning_rate=learning_rate),\n",
        "        loss=tf.keras.losses.Huber(),\n",
        "        metrics=[\"mae\"])\n",
        "\n",
        "    return model"
      ]
    },
    {
      "cell_type": "code",
      "source": [
        "build_LSTM(keras_tuner.HyperParameters())\n",
        "\n",
        "tuner_lstm = keras_tuner.Hyperband(\n",
        "    hypermodel=build_LSTM,\n",
        "    objective=\"val_mae\",\n",
        "    max_epochs=50,\n",
        "    factor=3,\n",
        "    hyperband_iterations=1,\n",
        "    distribution_strategy=strategy,\n",
        "    seed = 1,\n",
        "    directory='/content/gdrive/MyDrive/Tuner',\n",
        "    project_name=\"lstm_N225\",\n",
        "    overwrite=False)\n",
        "\n",
        "tuner_lstm.search(train_set, epochs=50, validation_data=val_set,callbacks=[stop_early])\n",
        "\n",
        "tuner_lstm.results_summary()\n",
        "\n",
        "# Get the top 5 hyperparameters.\n",
        "best_hps_lstm = tuner_lstm.get_best_hyperparameters(5)\n",
        "\n"
      ],
      "metadata": {
        "id": "JQ5JlaaZ8dD_"
      },
      "execution_count": null,
      "outputs": []
    },
    {
      "cell_type": "code",
      "source": [
        "# Build the model with the best hp.\n",
        "with strategy.scope():\n",
        "  lstm = build_LSTM(best_hps_lstm[0])\n",
        "# Fit with the entire dataset.\n",
        "lstm.fit(train_val_set, epochs=200)"
      ],
      "metadata": {
        "id": "VveQt5UllpUD"
      },
      "execution_count": null,
      "outputs": []
    },
    {
      "cell_type": "code",
      "source": [
        "print(lstm.summary())"
      ],
      "metadata": {
        "id": "CUVX9mrUwRc_"
      },
      "execution_count": null,
      "outputs": []
    },
    {
      "cell_type": "code",
      "source": [
        "# Compute the forecast for all the series\n",
        "lstm_forecast = model_forecast(lstm, series_norm, G.WINDOW_SIZE).squeeze()\n",
        "\n",
        "# Slice the forecast to get only the predictions for the validation set\n",
        "series_test_hat_lstm = lstm_forecast[-150:]\n",
        "series_test_hat_lstm = reverse_normalization(series_test_hat_lstm)"
      ],
      "metadata": {
        "id": "usOQ3cl6_rPV"
      },
      "execution_count": null,
      "outputs": []
    },
    {
      "cell_type": "code",
      "source": [
        "# Plot the forecast\n",
        "\n",
        "plt.figure(figsize=(10, 6))\n",
        "plot_series(np.arange( 1, len(time_test)+1 ), series_test)\n",
        "plot_series(np.arange( 1, len(time_test)+1 ), series_test_hat_lstm)\n",
        "plt.ylabel(\"Index Value\")\n",
        "plt.xlabel(\"Time Step\")\n",
        "legend_drawn_flag = True\n",
        "plt.legend([\"Original Value (Nikkei225)\", \"Predicted Value (Nikkei225)\"], loc=0, frameon=legend_drawn_flag)\n",
        "plt.savefig(\"/content/gdrive/MyDrive/Forecasting_results/lstm_forecasts_N225.svg\")"
      ],
      "metadata": {
        "id": "B_fYj_UQJjl1"
      },
      "execution_count": null,
      "outputs": []
    },
    {
      "cell_type": "code",
      "source": [
        "rmse_lstm, mae_lstm, mape_lstm= compute_metrics(series_test, series_test_hat_lstm)\n",
        "\n",
        "print(f\"mse: {rmse_lstm:.2f}, mae: {mae_lstm:.2f} , mape: {mape_lstm:.2f} for forecast\")"
      ],
      "metadata": {
        "id": "-U4UwUsf_Tp2"
      },
      "execution_count": null,
      "outputs": []
    },
    {
      "cell_type": "code",
      "source": [
        "# Save model\n",
        "lstm.save(\"/content/gdrive/MyDrive/Saved_models/lstm_N225.h5\")"
      ],
      "metadata": {
        "id": "SjvYU_82luNw"
      },
      "execution_count": null,
      "outputs": []
    },
    {
      "cell_type": "markdown",
      "source": [
        "### CNN-LSTM"
      ],
      "metadata": {
        "id": "EgSv9-FX_UEA"
      }
    },
    {
      "cell_type": "code",
      "source": [
        "def build_CNN_LSTM(hp):\n",
        "   \n",
        "    model = tf.keras.models.Sequential([\n",
        "          tf.keras.layers.Conv1D(filters=hp.Int('Conv_units', 256, 1024, 256), kernel_size=2,\n",
        "                                 strides=1,\n",
        "                                 activation=\"relu\",\n",
        "                                 padding='causal',\n",
        "                                 input_shape=[G.WINDOW_SIZE, 1]),\n",
        "          tf.keras.layers.MaxPooling1D(pool_size=2, strides=1, padding=\"same\"),\n",
        "          tf.keras.layers.LSTM(hp.Int('lstm_units', 100, 300, 50)),\n",
        "          tf.keras.layers.Dense(hp.Int('dense1_units', 20, 50, step = 10), activation=\"relu\"),\n",
        "          tf.keras.layers.Dense(hp.Int('dense2_units', 5, 20, step = 5), activation=\"relu\"),\n",
        "          tf.keras.layers.Dense(1)\n",
        "    ])\n",
        "    learning_rate = hp.Float(\"lr\", min_value=1e-4, max_value=1e-2, sampling=\"log\")\n",
        "    model.compile(\n",
        "        optimizer=tf.keras.optimizers.Adam(learning_rate=learning_rate),\n",
        "        loss=tf.keras.losses.Huber(),\n",
        "        metrics=[\"mae\"])\n",
        "\n",
        "    return model"
      ],
      "metadata": {
        "id": "Amka1E2csj3H"
      },
      "execution_count": null,
      "outputs": []
    },
    {
      "cell_type": "code",
      "source": [
        "build_CNN_LSTM(keras_tuner.HyperParameters())\n",
        "\n",
        "tuner_cnn_lstm = keras_tuner.Hyperband(\n",
        "    hypermodel=build_CNN_LSTM,\n",
        "    objective=\"val_mae\",\n",
        "    max_epochs=50,\n",
        "    factor=3,\n",
        "    hyperband_iterations=1,\n",
        "    distribution_strategy=strategy,\n",
        "    seed = 1,\n",
        "    directory='/content/gdrive/MyDrive/Tuner',\n",
        "    project_name=\"cnn_lstm_N225\",\n",
        "    overwrite=False)\n",
        "\n",
        "\n",
        "tuner_cnn_lstm.search(train_set, epochs=50, validation_data=val_set, callbacks=[stop_early])\n",
        "\n",
        "tuner_cnn_lstm.results_summary()\n",
        "\n",
        "# Get the top 5 hyperparameters.\n",
        "best_hps_cnn_lstm = tuner_cnn_lstm.get_best_hyperparameters(5)"
      ],
      "metadata": {
        "id": "A1PtMSsr-vSO"
      },
      "execution_count": null,
      "outputs": []
    },
    {
      "cell_type": "code",
      "source": [
        "# Build the model with the best hp.\n",
        "with strategy.scope():\n",
        "  cnn_lstm = build_CNN_LSTM(best_hps_cnn_lstm[0])\n",
        "# Fit with the entire dataset.\n",
        "cnn_lstm.fit(train_val_set, epochs=200)"
      ],
      "metadata": {
        "id": "TM5Zy7HdmTgU"
      },
      "execution_count": null,
      "outputs": []
    },
    {
      "cell_type": "code",
      "source": [
        "print(cnn_lstm.summary())"
      ],
      "metadata": {
        "id": "JRRKJ2VswVHY"
      },
      "execution_count": null,
      "outputs": []
    },
    {
      "cell_type": "code",
      "source": [
        "# Compute the forecast for all the series\n",
        "cnn_lstm_forecast = model_forecast(cnn_lstm, series_norm, G.WINDOW_SIZE).squeeze()\n",
        "\n",
        "# Slice the forecast to get only the predictions for the validation set\n",
        "series_test_hat_cnn_lstm = cnn_lstm_forecast[-150:]\n",
        "series_test_hat_cnn_lstm = reverse_normalization(series_test_hat_cnn_lstm)"
      ],
      "metadata": {
        "id": "54nm9-qaAU9o"
      },
      "execution_count": null,
      "outputs": []
    },
    {
      "cell_type": "code",
      "source": [
        "# Plot the forecast\n",
        "\n",
        "plt.figure(figsize=(10, 6))\n",
        "plot_series(np.arange( 1, len(time_test)+1 ), series_test)\n",
        "plot_series(np.arange( 1, len(time_test)+1 ), series_test_hat_cnn_lstm)\n",
        "plt.ylabel(\"Index Value\")\n",
        "plt.xlabel(\"Time Step\")\n",
        "legend_drawn_flag = True\n",
        "plt.legend([\"Original Value (Nikkei225)\", \"Predicted Value (Nikkei225)\"], loc=0, frameon=legend_drawn_flag)\n",
        "plt.savefig(\"/content/gdrive/MyDrive/Forecasting_results/cnn_lstm_forecasts_N225.svg\")"
      ],
      "metadata": {
        "id": "aunNgSHlJ7A6"
      },
      "execution_count": null,
      "outputs": []
    },
    {
      "cell_type": "code",
      "source": [
        "rmse_cnn_lstm, mae_cnn_lstm, mape_cnn_lstm= compute_metrics(series_test, series_test_hat_cnn_lstm)\n",
        "\n",
        "print(f\"mse: {rmse_cnn_lstm:.2f}, mae: {mae_cnn_lstm:.2f} , mape: {mape_cnn_lstm:.2f} for forecast\")"
      ],
      "metadata": {
        "id": "hW0VZCxdAVjO"
      },
      "execution_count": null,
      "outputs": []
    },
    {
      "cell_type": "code",
      "source": [
        "# Save model\n",
        "cnn_lstm.save('/content/gdrive/MyDrive/Saved_models/cnn_lstm_N225.h5')"
      ],
      "metadata": {
        "id": "ZTLG7OoYmWjD"
      },
      "execution_count": null,
      "outputs": []
    },
    {
      "cell_type": "markdown",
      "source": [
        "## Camparison"
      ],
      "metadata": {
        "id": "15FrV8PMAimg"
      }
    },
    {
      "cell_type": "markdown",
      "source": [
        "Compare our proposed Capsnet-LSTM with LSTM and CNN-LSTM"
      ],
      "metadata": {
        "id": "Z330X9SE8RWm"
      }
    },
    {
      "cell_type": "markdown",
      "source": [
        "### Three forecasting results in one figure:"
      ],
      "metadata": {
        "id": "x8SF-DmK78l9"
      }
    },
    {
      "cell_type": "code",
      "source": [
        "plt.figure(figsize=(30, 20))\n",
        "plot_series(np.arange( 1, len(time_test)+1 ), series_test)\n",
        "plot_series(np.arange( 1, len(time_test)+1 ), series_test_hat_capsnet_lstm)\n",
        "plot_series(np.arange( 1, len(time_test)+1 ), series_test_hat_lstm)\n",
        "plot_series(np.arange( 1, len(time_test)+1 ), series_test_hat_cnn_lstm)\n",
        "plt.ylabel(\"Index Value\")\n",
        "plt.xlabel(\"Time Step\")\n",
        "legend_drawn_flag = True\n",
        "plt.legend([\"Original Value\", \"Predicted Value (CapsNet-LSTM)\",\"Predicted Value (LSTM)\",\"Predicted Value (CNN-LSTM)\"], loc=0, frameon=legend_drawn_flag)\n",
        "plt.savefig(\"/content/gdrive/MyDrive/Forecasting_results/all_together_forecasts_N225.svg\")"
      ],
      "metadata": {
        "id": "rNCmNekCAuAF"
      },
      "execution_count": null,
      "outputs": []
    },
    {
      "cell_type": "markdown",
      "source": [
        "### Compare the rmse, mae mape"
      ],
      "metadata": {
        "id": "3frHiK9N8F87"
      }
    },
    {
      "cell_type": "code",
      "source": [
        "# Print RMSE\n",
        "\n",
        "print(rmse_capsnet_lstm)\n",
        "print(rmse_lstm)\n",
        "print(rmse_cnn_lstm)"
      ],
      "metadata": {
        "id": "JzlMIn_iAt7w"
      },
      "execution_count": null,
      "outputs": []
    },
    {
      "cell_type": "code",
      "source": [
        "# Print MAE\n",
        "\n",
        "print(mae_capsnet_lstm)\n",
        "print(mae_lstm)\n",
        "print(mae_cnn_lstm)"
      ],
      "metadata": {
        "id": "DbjZwg30MfWH"
      },
      "execution_count": null,
      "outputs": []
    },
    {
      "cell_type": "code",
      "source": [
        "# Print MAPE\n",
        "\n",
        "print(mape_capsnet_lstm)\n",
        "print(mape_lstm)\n",
        "print(mape_cnn_lstm)"
      ],
      "metadata": {
        "id": "_oui7lBDMWo7"
      },
      "execution_count": null,
      "outputs": []
    }
  ],
  "metadata": {
    "kernelspec": {
      "display_name": "Python 3",
      "language": "python",
      "name": "python3"
    },
    "language_info": {
      "codemirror_mode": {
        "name": "ipython",
        "version": 3
      },
      "file_extension": ".py",
      "mimetype": "text/x-python",
      "name": "python",
      "nbconvert_exporter": "python",
      "pygments_lexer": "ipython3",
      "version": "3.8.8"
    },
    "colab": {
      "provenance": [],
      "collapsed_sections": [],
      "machine_shape": "hm",
      "include_colab_link": true
    },
    "accelerator": "TPU",
    "gpuClass": "standard"
  },
  "nbformat": 4,
  "nbformat_minor": 0
}