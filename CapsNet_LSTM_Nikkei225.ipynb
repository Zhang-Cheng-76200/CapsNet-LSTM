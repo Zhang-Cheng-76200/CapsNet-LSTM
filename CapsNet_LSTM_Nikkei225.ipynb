{
  "cells": [
    {
      "cell_type": "markdown",
      "metadata": {
        "id": "view-in-github",
        "colab_type": "text"
      },
      "source": [
        "<a href=\"https://colab.research.google.com/github/Orangefox76200/CapsNet-LSTM/blob/main/CapsNet_LSTM_Nikkei225.ipynb\" target=\"_parent\"><img src=\"https://colab.research.google.com/assets/colab-badge.svg\" alt=\"Open In Colab\"/></a>"
      ]
    },
    {
      "cell_type": "markdown",
      "metadata": {
        "id": "G92ON7NXEnkW"
      },
      "source": [
        "# Financial Time Series Forecasting Using A Hybrid CapsNet-LSTM Architecture: Using real world data (Nikkei225 Index)\n",
        "\n",
        "Nikkei225 Index dataset contains data of the Nikkei225 DJIA Index prices recorded from Jan 1st, 2010 to Dec 31st, 2019. In addition to be using Tensorflow's layers for processing sequence data such as LSTMs we will also intergrate Capsule Network in our proposed hybrid architecture to improve the model's performance.\n",
        "\n",
        "Let's get started!"
      ]
    },
    {
      "cell_type": "code",
      "source": [
        "!pip install keras-tuner -q"
      ],
      "metadata": {
        "id": "q-8z1SiOcPgO",
        "colab": {
          "base_uri": "https://localhost:8080/"
        },
        "outputId": "6c7ee467-5b98-4c5a-9d6e-fda5a2c42ec0"
      },
      "execution_count": 1,
      "outputs": [
        {
          "output_type": "stream",
          "name": "stdout",
          "text": [
            "\u001b[K     |████████████████████████████████| 135 kB 4.9 MB/s \n",
            "\u001b[K     |████████████████████████████████| 1.6 MB 55.8 MB/s \n",
            "\u001b[?25h"
          ]
        }
      ]
    },
    {
      "cell_type": "code",
      "execution_count": 2,
      "metadata": {
        "id": "56XEQOGknrAk"
      },
      "outputs": [],
      "source": [
        "import keras.backend as K\n",
        "import tensorflow as tf\n",
        "\n",
        "import keras\n",
        "import keras_tuner\n",
        "from keras import backend as K\n",
        "from keras import initializers, layers, models, optimizers, callbacks, utils\n",
        "from keras.models import load_model\n",
        "from keras.models import model_from_json\n",
        "\n",
        "from keras.initializers import glorot_uniform\n",
        "\n",
        "from keras.initializers import *\n",
        "from keras.layers import *\n",
        "from keras.models import *\n",
        "from keras.optimizers import *\n",
        "from keras.callbacks import EarlyStopping\n",
        "from keras.utils import *\n",
        "\n",
        "from keras import losses\n",
        "from keras.utils.io_utils import ask_to_proceed_with_overwrite\n",
        "from tensorflow.python.platform import tf_logging as logging\n",
        "\n",
        "import os\n",
        "import copy\n",
        "import pickle\n",
        "import pandas as pd\n",
        "import numpy as np\n",
        "import matplotlib.pyplot as plt\n",
        "from dataclasses import dataclass"
      ]
    },
    {
      "cell_type": "code",
      "source": [
        "# Set seed\n",
        "from numpy.random import seed\n",
        "seed(1)\n",
        "tf.random.set_seed(3)"
      ],
      "metadata": {
        "id": "Xe-Rnq9QbQ7A"
      },
      "execution_count": 3,
      "outputs": []
    },
    {
      "cell_type": "code",
      "source": [
        "# If code is running on TPU\n",
        "resolver = tf.distribute.cluster_resolver.TPUClusterResolver(tpu='')\n",
        "tf.config.experimental_connect_to_cluster(resolver)\n",
        "# This is the TPU initialization code that has to be at the beginning.\n",
        "tf.tpu.experimental.initialize_tpu_system(resolver)\n",
        "print(\"All devices: \", tf.config.list_logical_devices('TPU'))"
      ],
      "metadata": {
        "colab": {
          "base_uri": "https://localhost:8080/"
        },
        "id": "CnjuziNxZdvf",
        "outputId": "1e00e722-c55c-48cf-b7a0-950411421983"
      },
      "execution_count": 4,
      "outputs": [
        {
          "output_type": "stream",
          "name": "stdout",
          "text": [
            "All devices:  [LogicalDevice(name='/job:worker/replica:0/task:0/device:TPU:0', device_type='TPU'), LogicalDevice(name='/job:worker/replica:0/task:0/device:TPU:1', device_type='TPU'), LogicalDevice(name='/job:worker/replica:0/task:0/device:TPU:2', device_type='TPU'), LogicalDevice(name='/job:worker/replica:0/task:0/device:TPU:3', device_type='TPU'), LogicalDevice(name='/job:worker/replica:0/task:0/device:TPU:4', device_type='TPU'), LogicalDevice(name='/job:worker/replica:0/task:0/device:TPU:5', device_type='TPU'), LogicalDevice(name='/job:worker/replica:0/task:0/device:TPU:6', device_type='TPU'), LogicalDevice(name='/job:worker/replica:0/task:0/device:TPU:7', device_type='TPU')]\n"
          ]
        }
      ]
    },
    {
      "cell_type": "code",
      "source": [
        "strategy = tf.distribute.TPUStrategy(resolver)"
      ],
      "metadata": {
        "id": "eb5Za_rOMFVx"
      },
      "execution_count": 5,
      "outputs": []
    },
    {
      "cell_type": "code",
      "source": [
        "print(tf.__version__)"
      ],
      "metadata": {
        "colab": {
          "base_uri": "https://localhost:8080/"
        },
        "id": "rA-JsdF3y5eE",
        "outputId": "ff5b489f-1e89-40f2-f15f-6dc991914d41"
      },
      "execution_count": 6,
      "outputs": [
        {
          "output_type": "stream",
          "name": "stdout",
          "text": [
            "2.8.2\n"
          ]
        }
      ]
    },
    {
      "cell_type": "markdown",
      "metadata": {
        "id": "RBR7h1IgEnkc"
      },
      "source": [
        "## Parsing the raw data\n",
        "\n",
        "A couple of things to note:\n",
        "\n",
        "- There is no need to save the data points as numpy arrays, regular lists is fine.\n",
        "- The `time` list should contain every timestep (starting at zero), which is just a sequence of ordered numbers with the same length as the `series` list.\n",
        "- The values of the `series` should be of `float` type. You can use Python's built-in `float` function to ensure this."
      ]
    },
    {
      "cell_type": "markdown",
      "metadata": {
        "id": "GeP3JMZHEnkZ"
      },
      "source": [
        "Begin by looking at the structure of the xlsx file that contains the data:"
      ]
    },
    {
      "cell_type": "code",
      "source": [
        "from google.colab import drive\n",
        "drive.mount ('gdrive')"
      ],
      "metadata": {
        "colab": {
          "base_uri": "https://localhost:8080/"
        },
        "id": "o4Vkj4Y8DYm7",
        "outputId": "abcbb41b-e40c-4c41-91fc-80a7122a9afb"
      },
      "execution_count": 7,
      "outputs": [
        {
          "output_type": "stream",
          "name": "stdout",
          "text": [
            "Mounted at gdrive\n"
          ]
        }
      ]
    },
    {
      "cell_type": "code",
      "source": [
        "N225_raw = pd.read_csv('/content/gdrive/MyDrive/Nikkei225/N225.csv')\n",
        "N225_raw"
      ],
      "metadata": {
        "colab": {
          "base_uri": "https://localhost:8080/",
          "height": 424
        },
        "id": "vKv3toTHFgnh",
        "outputId": "0fbe381d-eb78-4fd4-a2ab-dfa97fcf9636"
      },
      "execution_count": 8,
      "outputs": [
        {
          "output_type": "execute_result",
          "data": {
            "text/plain": [
              "            Date         Open         High          Low        Close  \\\n",
              "0       4/1/2010  10609.33984  10694.49023  10608.13965  10654.79004   \n",
              "1       5/1/2010  10719.44043  10791.04004  10655.57031  10681.83008   \n",
              "2       6/1/2010  10709.54981  10768.61035  10661.16992  10731.45020   \n",
              "3       7/1/2010  10742.75000  10774.00000  10636.66992  10681.66016   \n",
              "4       8/1/2010  10743.29981  10816.45020  10677.55957  10798.32031   \n",
              "...          ...          ...          ...          ...          ...   \n",
              "2443  24/12/2019  23839.17969  23853.56055  23796.34961  23830.58008   \n",
              "2444  25/12/2019  23813.58984  23824.84961  23782.86914  23782.86914   \n",
              "2445  26/12/2019  23787.69922  23931.50977  23775.40039  23924.91992   \n",
              "2446  27/12/2019  23953.75000  23967.17969  23837.72070  23837.72070   \n",
              "2447  30/12/2019  23770.92969  23782.49023  23656.61914  23656.61914   \n",
              "\n",
              "        Adj Close     Volume  \n",
              "0     10654.79004  104400000  \n",
              "1     10681.83008  166200000  \n",
              "2     10731.45020  181800000  \n",
              "3     10681.66016  182600000  \n",
              "4     10798.32031  211800000  \n",
              "...           ...        ...  \n",
              "2443  23830.58008   37900000  \n",
              "2444  23782.86914   31600000  \n",
              "2445  23924.91992   40300000  \n",
              "2446  23837.72070   44800000  \n",
              "2447  23656.61914   41600000  \n",
              "\n",
              "[2448 rows x 7 columns]"
            ],
            "text/html": [
              "\n",
              "  <div id=\"df-8cc287d8-16fd-4ae7-a7d0-dfdbf4897642\">\n",
              "    <div class=\"colab-df-container\">\n",
              "      <div>\n",
              "<style scoped>\n",
              "    .dataframe tbody tr th:only-of-type {\n",
              "        vertical-align: middle;\n",
              "    }\n",
              "\n",
              "    .dataframe tbody tr th {\n",
              "        vertical-align: top;\n",
              "    }\n",
              "\n",
              "    .dataframe thead th {\n",
              "        text-align: right;\n",
              "    }\n",
              "</style>\n",
              "<table border=\"1\" class=\"dataframe\">\n",
              "  <thead>\n",
              "    <tr style=\"text-align: right;\">\n",
              "      <th></th>\n",
              "      <th>Date</th>\n",
              "      <th>Open</th>\n",
              "      <th>High</th>\n",
              "      <th>Low</th>\n",
              "      <th>Close</th>\n",
              "      <th>Adj Close</th>\n",
              "      <th>Volume</th>\n",
              "    </tr>\n",
              "  </thead>\n",
              "  <tbody>\n",
              "    <tr>\n",
              "      <th>0</th>\n",
              "      <td>4/1/2010</td>\n",
              "      <td>10609.33984</td>\n",
              "      <td>10694.49023</td>\n",
              "      <td>10608.13965</td>\n",
              "      <td>10654.79004</td>\n",
              "      <td>10654.79004</td>\n",
              "      <td>104400000</td>\n",
              "    </tr>\n",
              "    <tr>\n",
              "      <th>1</th>\n",
              "      <td>5/1/2010</td>\n",
              "      <td>10719.44043</td>\n",
              "      <td>10791.04004</td>\n",
              "      <td>10655.57031</td>\n",
              "      <td>10681.83008</td>\n",
              "      <td>10681.83008</td>\n",
              "      <td>166200000</td>\n",
              "    </tr>\n",
              "    <tr>\n",
              "      <th>2</th>\n",
              "      <td>6/1/2010</td>\n",
              "      <td>10709.54981</td>\n",
              "      <td>10768.61035</td>\n",
              "      <td>10661.16992</td>\n",
              "      <td>10731.45020</td>\n",
              "      <td>10731.45020</td>\n",
              "      <td>181800000</td>\n",
              "    </tr>\n",
              "    <tr>\n",
              "      <th>3</th>\n",
              "      <td>7/1/2010</td>\n",
              "      <td>10742.75000</td>\n",
              "      <td>10774.00000</td>\n",
              "      <td>10636.66992</td>\n",
              "      <td>10681.66016</td>\n",
              "      <td>10681.66016</td>\n",
              "      <td>182600000</td>\n",
              "    </tr>\n",
              "    <tr>\n",
              "      <th>4</th>\n",
              "      <td>8/1/2010</td>\n",
              "      <td>10743.29981</td>\n",
              "      <td>10816.45020</td>\n",
              "      <td>10677.55957</td>\n",
              "      <td>10798.32031</td>\n",
              "      <td>10798.32031</td>\n",
              "      <td>211800000</td>\n",
              "    </tr>\n",
              "    <tr>\n",
              "      <th>...</th>\n",
              "      <td>...</td>\n",
              "      <td>...</td>\n",
              "      <td>...</td>\n",
              "      <td>...</td>\n",
              "      <td>...</td>\n",
              "      <td>...</td>\n",
              "      <td>...</td>\n",
              "    </tr>\n",
              "    <tr>\n",
              "      <th>2443</th>\n",
              "      <td>24/12/2019</td>\n",
              "      <td>23839.17969</td>\n",
              "      <td>23853.56055</td>\n",
              "      <td>23796.34961</td>\n",
              "      <td>23830.58008</td>\n",
              "      <td>23830.58008</td>\n",
              "      <td>37900000</td>\n",
              "    </tr>\n",
              "    <tr>\n",
              "      <th>2444</th>\n",
              "      <td>25/12/2019</td>\n",
              "      <td>23813.58984</td>\n",
              "      <td>23824.84961</td>\n",
              "      <td>23782.86914</td>\n",
              "      <td>23782.86914</td>\n",
              "      <td>23782.86914</td>\n",
              "      <td>31600000</td>\n",
              "    </tr>\n",
              "    <tr>\n",
              "      <th>2445</th>\n",
              "      <td>26/12/2019</td>\n",
              "      <td>23787.69922</td>\n",
              "      <td>23931.50977</td>\n",
              "      <td>23775.40039</td>\n",
              "      <td>23924.91992</td>\n",
              "      <td>23924.91992</td>\n",
              "      <td>40300000</td>\n",
              "    </tr>\n",
              "    <tr>\n",
              "      <th>2446</th>\n",
              "      <td>27/12/2019</td>\n",
              "      <td>23953.75000</td>\n",
              "      <td>23967.17969</td>\n",
              "      <td>23837.72070</td>\n",
              "      <td>23837.72070</td>\n",
              "      <td>23837.72070</td>\n",
              "      <td>44800000</td>\n",
              "    </tr>\n",
              "    <tr>\n",
              "      <th>2447</th>\n",
              "      <td>30/12/2019</td>\n",
              "      <td>23770.92969</td>\n",
              "      <td>23782.49023</td>\n",
              "      <td>23656.61914</td>\n",
              "      <td>23656.61914</td>\n",
              "      <td>23656.61914</td>\n",
              "      <td>41600000</td>\n",
              "    </tr>\n",
              "  </tbody>\n",
              "</table>\n",
              "<p>2448 rows × 7 columns</p>\n",
              "</div>\n",
              "      <button class=\"colab-df-convert\" onclick=\"convertToInteractive('df-8cc287d8-16fd-4ae7-a7d0-dfdbf4897642')\"\n",
              "              title=\"Convert this dataframe to an interactive table.\"\n",
              "              style=\"display:none;\">\n",
              "        \n",
              "  <svg xmlns=\"http://www.w3.org/2000/svg\" height=\"24px\"viewBox=\"0 0 24 24\"\n",
              "       width=\"24px\">\n",
              "    <path d=\"M0 0h24v24H0V0z\" fill=\"none\"/>\n",
              "    <path d=\"M18.56 5.44l.94 2.06.94-2.06 2.06-.94-2.06-.94-.94-2.06-.94 2.06-2.06.94zm-11 1L8.5 8.5l.94-2.06 2.06-.94-2.06-.94L8.5 2.5l-.94 2.06-2.06.94zm10 10l.94 2.06.94-2.06 2.06-.94-2.06-.94-.94-2.06-.94 2.06-2.06.94z\"/><path d=\"M17.41 7.96l-1.37-1.37c-.4-.4-.92-.59-1.43-.59-.52 0-1.04.2-1.43.59L10.3 9.45l-7.72 7.72c-.78.78-.78 2.05 0 2.83L4 21.41c.39.39.9.59 1.41.59.51 0 1.02-.2 1.41-.59l7.78-7.78 2.81-2.81c.8-.78.8-2.07 0-2.86zM5.41 20L4 18.59l7.72-7.72 1.47 1.35L5.41 20z\"/>\n",
              "  </svg>\n",
              "      </button>\n",
              "      \n",
              "  <style>\n",
              "    .colab-df-container {\n",
              "      display:flex;\n",
              "      flex-wrap:wrap;\n",
              "      gap: 12px;\n",
              "    }\n",
              "\n",
              "    .colab-df-convert {\n",
              "      background-color: #E8F0FE;\n",
              "      border: none;\n",
              "      border-radius: 50%;\n",
              "      cursor: pointer;\n",
              "      display: none;\n",
              "      fill: #1967D2;\n",
              "      height: 32px;\n",
              "      padding: 0 0 0 0;\n",
              "      width: 32px;\n",
              "    }\n",
              "\n",
              "    .colab-df-convert:hover {\n",
              "      background-color: #E2EBFA;\n",
              "      box-shadow: 0px 1px 2px rgba(60, 64, 67, 0.3), 0px 1px 3px 1px rgba(60, 64, 67, 0.15);\n",
              "      fill: #174EA6;\n",
              "    }\n",
              "\n",
              "    [theme=dark] .colab-df-convert {\n",
              "      background-color: #3B4455;\n",
              "      fill: #D2E3FC;\n",
              "    }\n",
              "\n",
              "    [theme=dark] .colab-df-convert:hover {\n",
              "      background-color: #434B5C;\n",
              "      box-shadow: 0px 1px 3px 1px rgba(0, 0, 0, 0.15);\n",
              "      filter: drop-shadow(0px 1px 2px rgba(0, 0, 0, 0.3));\n",
              "      fill: #FFFFFF;\n",
              "    }\n",
              "  </style>\n",
              "\n",
              "      <script>\n",
              "        const buttonEl =\n",
              "          document.querySelector('#df-8cc287d8-16fd-4ae7-a7d0-dfdbf4897642 button.colab-df-convert');\n",
              "        buttonEl.style.display =\n",
              "          google.colab.kernel.accessAllowed ? 'block' : 'none';\n",
              "\n",
              "        async function convertToInteractive(key) {\n",
              "          const element = document.querySelector('#df-8cc287d8-16fd-4ae7-a7d0-dfdbf4897642');\n",
              "          const dataTable =\n",
              "            await google.colab.kernel.invokeFunction('convertToInteractive',\n",
              "                                                     [key], {});\n",
              "          if (!dataTable) return;\n",
              "\n",
              "          const docLinkHtml = 'Like what you see? Visit the ' +\n",
              "            '<a target=\"_blank\" href=https://colab.research.google.com/notebooks/data_table.ipynb>data table notebook</a>'\n",
              "            + ' to learn more about interactive tables.';\n",
              "          element.innerHTML = '';\n",
              "          dataTable['output_type'] = 'display_data';\n",
              "          await google.colab.output.renderOutput(dataTable, element);\n",
              "          const docLink = document.createElement('div');\n",
              "          docLink.innerHTML = docLinkHtml;\n",
              "          element.appendChild(docLink);\n",
              "        }\n",
              "      </script>\n",
              "    </div>\n",
              "  </div>\n",
              "  "
            ]
          },
          "metadata": {},
          "execution_count": 8
        }
      ]
    },
    {
      "cell_type": "code",
      "source": [
        "series = N225_raw.iloc[:,4]"
      ],
      "metadata": {
        "id": "vTg-wdf-Vpbi"
      },
      "execution_count": 9,
      "outputs": []
    },
    {
      "cell_type": "code",
      "source": [
        "time = []\n",
        "for i in range(0, len(series)):\n",
        "  time.append(i)"
      ],
      "metadata": {
        "id": "4P3cPCrbVpVl"
      },
      "execution_count": 10,
      "outputs": []
    },
    {
      "cell_type": "markdown",
      "source": [
        "A helper function to plot the time series:"
      ],
      "metadata": {
        "id": "XQh2IH8Tl0Le"
      }
    },
    {
      "cell_type": "code",
      "source": [
        "def plot_series(time, series, format=\"-\", start=0, end=None):\n",
        "    plt.plot(time[start:end], series[start:end], format)\n",
        "    plt.xlabel(\"Time\")\n",
        "    plt.ylabel(\"Value\")\n",
        "    plt.grid(True)"
      ],
      "metadata": {
        "id": "qMGyMzGelzEW"
      },
      "execution_count": 11,
      "outputs": []
    },
    {
      "cell_type": "markdown",
      "metadata": {
        "id": "tT1tB8J1Enkd"
      },
      "source": [
        "The next cell will use functions to compute the `time` and `series` and will save these as numpy arrays within the `G` dataclass. This cell will also plot the time series:"
      ]
    },
    {
      "cell_type": "code",
      "execution_count": 12,
      "metadata": {
        "colab": {
          "base_uri": "https://localhost:8080/",
          "height": 388
        },
        "id": "R8UYoZlKEnke",
        "outputId": "70aff12a-18aa-408d-f3b5-2106b045fcce"
      },
      "outputs": [
        {
          "output_type": "display_data",
          "data": {
            "text/plain": [
              "<Figure size 720x432 with 1 Axes>"
            ],
            "image/png": "[encoded data removed]"
          },
          "metadata": {
            "needs_background": "light"
          }
        }
      ],
      "source": [
        "# Save all \"global\" variables within the G class (G stands for global)\n",
        "@dataclass\n",
        "class G:\n",
        "    TIME = np.array(time)\n",
        "    SERIES = np.array(series)\n",
        "    SPLIT_TIME = int((len(series)-150)*0.8)\n",
        "    WINDOW_SIZE = 250\n",
        "    BATCH_SIZE = 32\n",
        "\n",
        "plt.figure(figsize=(10, 6))\n",
        "plot_series(G.TIME, G.SERIES)\n",
        "plt.show()"
      ]
    },
    {
      "cell_type": "markdown",
      "metadata": {
        "id": "Y8U3ckcaEnke"
      },
      "source": [
        "## Processing the data\n",
        "\n",
        "The `train_val_split` and `windowed_dataset` functions:"
      ]
    },
    {
      "cell_type": "code",
      "execution_count": 13,
      "metadata": {
        "id": "3O7A_9XdEnkf"
      },
      "outputs": [],
      "source": [
        "def train_val_test_split(time, series, time_step=G.SPLIT_TIME):\n",
        "\n",
        "    time_train = time[:time_step]\n",
        "    series_train = series[:time_step]\n",
        "    time_valid = time[time_step:-150]\n",
        "    series_valid = series[time_step:-150]\n",
        "    time_test = time[-150:]\n",
        "    series_test = series[-150:]\n",
        "\n",
        "    return time_train, series_train, time_valid, series_valid, time_test, series_test\n",
        "\n",
        "# Split the dataset\n",
        "time_train, series_train, time_valid, series_valid, time_test, series_test = train_val_test_split(G.TIME, G.SERIES)"
      ]
    },
    {
      "cell_type": "markdown",
      "source": [
        "min-max normalization:"
      ],
      "metadata": {
        "id": "M8xZy3QTZD8e"
      }
    },
    {
      "cell_type": "code",
      "source": [
        "def min_max_normalization(series):\n",
        "  series = (series - min(series_train))/(max(series_train) - min(series_train))\n",
        "  return series"
      ],
      "metadata": {
        "id": "aRkvaM6AauAy"
      },
      "execution_count": 14,
      "outputs": []
    },
    {
      "cell_type": "code",
      "source": [
        "series_norm = min_max_normalization(G.SERIES)"
      ],
      "metadata": {
        "id": "UR8bYse7ZC-G"
      },
      "execution_count": 15,
      "outputs": []
    },
    {
      "cell_type": "code",
      "source": [
        "series_train_norm = series_norm[:G.SPLIT_TIME]\n",
        "series_valid_norm = series_norm[G.SPLIT_TIME:-150]\n",
        "series_test_norm = series_norm[-150:]"
      ],
      "metadata": {
        "id": "CQr8LSVw4BIV"
      },
      "execution_count": 16,
      "outputs": []
    },
    {
      "cell_type": "code",
      "source": [
        "plot_series(time_train, series_train_norm)"
      ],
      "metadata": {
        "colab": {
          "base_uri": "https://localhost:8080/",
          "height": 279
        },
        "id": "slIykxCnn9Eb",
        "outputId": "f12fefc1-6f75-44b8-9644-9b24287672ea"
      },
      "execution_count": 17,
      "outputs": [
        {
          "output_type": "display_data",
          "data": {
            "text/plain": [
              "<Figure size 432x288 with 1 Axes>"
            ],
            "image/png": "[encoded data removed]"
          },
          "metadata": {
            "needs_background": "light"
          }
        }
      ]
    },
    {
      "cell_type": "code",
      "source": [
        "plot_series(time_valid, series_valid_norm)"
      ],
      "metadata": {
        "colab": {
          "base_uri": "https://localhost:8080/",
          "height": 279
        },
        "id": "2dBiTEwnoPCf",
        "outputId": "502aa555-8d49-4b67-c714-6d8ed1f805ae"
      },
      "execution_count": 18,
      "outputs": [
        {
          "output_type": "display_data",
          "data": {
            "text/plain": [
              "<Figure size 432x288 with 1 Axes>"
            ],
            "image/png": "[encoded data removed]"
          },
          "metadata": {
            "needs_background": "light"
          }
        }
      ]
    },
    {
      "cell_type": "code",
      "source": [
        "plot_series(time_test, series_test_norm)"
      ],
      "metadata": {
        "colab": {
          "base_uri": "https://localhost:8080/",
          "height": 279
        },
        "id": "bCGYGHZC4oSt",
        "outputId": "49e6c12e-fc7c-41a1-a739-acd20276ae51"
      },
      "execution_count": 19,
      "outputs": [
        {
          "output_type": "display_data",
          "data": {
            "text/plain": [
              "<Figure size 432x288 with 1 Axes>"
            ],
            "image/png": "[encoded data removed]"
          },
          "metadata": {
            "needs_background": "light"
          }
        }
      ]
    },
    {
      "cell_type": "code",
      "source": [
        "# Create train_set, val_set, and train_val_set. train_set and val_set are used for hyper=parameters tuning, and train_val_set is used for training.\n",
        "def windowed_dataset(series, window_size=G.WINDOW_SIZE, batch_size=G.BATCH_SIZE):\n",
        "    ds = tf.data.Dataset.from_tensor_slices(series)\n",
        "    ds = ds.window(window_size + 1, shift=1, drop_remainder=True)\n",
        "    ds = ds.flat_map(lambda w: w.batch(window_size + 1))\n",
        "    ds = ds.map(lambda w: (w[:-1], w[-1]))\n",
        "    ds = ds.batch(batch_size).prefetch(1)\n",
        "    return ds\n",
        "train_set = windowed_dataset(series_train_norm, window_size=G.WINDOW_SIZE, batch_size=G.BATCH_SIZE)\n",
        "val_set = windowed_dataset(series_norm[G.SPLIT_TIME-G.WINDOW_SIZE:-150], window_size=G.WINDOW_SIZE, batch_size=G.BATCH_SIZE)\n",
        "train_val_set = windowed_dataset(series_norm[0:-150], window_size=G.WINDOW_SIZE, batch_size=G.BATCH_SIZE)"
      ],
      "metadata": {
        "id": "Uix6YCADP4wK"
      },
      "execution_count": 20,
      "outputs": []
    },
    {
      "cell_type": "markdown",
      "metadata": {
        "id": "E6stIQIqEnkh"
      },
      "source": [
        "## Compiling the model\n"
      ]
    },
    {
      "cell_type": "markdown",
      "metadata": {
        "id": "GaMon77MEnkf"
      },
      "source": [
        "### Defining the model architecture (CapsNet-LSTM)\n"
      ]
    },
    {
      "cell_type": "code",
      "source": [
        "# Squash function\n",
        "\n",
        "def squash(vectors, axis=-1):\n",
        "    \"\"\"\n",
        "    The non-linear activation used in Capsule. It drives the length of a large vector to near 1 and small vector to 0\n",
        "    :param vectors: some vectors to be squashed, N-dim tensor\n",
        "    :param axis: the axis to squash\n",
        "    :return: a Tensor with same shape as input vectors\n",
        "    \"\"\"\n",
        "    s_squared_norm = K.sum(K.square(vectors), axis, keepdims=True) \n",
        "    scale = s_squared_norm / (1 + s_squared_norm) / K.sqrt(s_squared_norm + K.epsilon())\n",
        "    return scale * vectors\n"
      ],
      "metadata": {
        "id": "NAPDHkls8FGx"
      },
      "execution_count": 21,
      "outputs": []
    },
    {
      "cell_type": "code",
      "source": [
        "# Dynamic routing (layer)\n",
        "#    The capsule layer. It is similar to Dense layer. Dense layer has `in_num` inputs, each is a scalar, the output of the \n",
        "#    neuron from the former layer, and it has `out_num` output neurons. CapsuleLayer just expand the output of the neuron\n",
        "#    from scalar to vector. So its input shape = [None, input_num_capsule, input_dim_capsule] and output shape = \\\n",
        "#    [None, num_capsule, dim_capsule]. For Dense Layer, input_dim_capsule = dim_capsule = 1.\n",
        "\n",
        "#    :param dim_capsule: dimension of the output vectors of the capsules in this layer\n",
        "#    :param routings: number of iterations for the routing algorithm \n",
        "\n",
        "class Routing(keras.layers.Layer):\n",
        "\n",
        "    def __init__(self, dim_capsule = 32 , routings=3, kernel_initializer='glorot_uniform'):\n",
        "        super(Routing, self).__init__()\n",
        "        self.dim_capsule = dim_capsule\n",
        "        self.routings = routings\n",
        "        self.kernel_initializer = initializers.get(kernel_initializer)\n",
        "\n",
        "    def build(self, input_shape):\n",
        "        # build tansform matrix which can convert one primary cap to a vector with the same order as the digit cap.\n",
        "        # assert len(input_shape) >= 3  # The input Tensor should have shape=[None, input_num_capsule, input_dim_capsule]\n",
        "        self.input_num_capsule = input_shape[1]\n",
        "        self.input_dim_capsule = input_shape[2]\n",
        "        \n",
        "        # Transform matrix\n",
        "       \n",
        "        self.W = self.add_weight(shape=[self.input_num_capsule,self.dim_capsule, self.input_dim_capsule],initializer=self.kernel_initializer,name='W')\n",
        "\n",
        "    def call(self, inputs): #training=None\n",
        "        # inputs.shape=[input_num_capsule, input_dim_capsule]\n",
        "        # inputs_expand.shape=[input_num_capsule, input_dim_capsule, 1]\n",
        "        inputs_expand = K.expand_dims(inputs, -1)    \n",
        "\n",
        "        # Compute `inputs * W` by scanning inputs_tiled on dimension 0.\n",
        "        # x.shape=[None, input_num_capsule, input_dim_capsule, 1]\n",
        "        # W.shape=[input_num_capsule, dim_capsule, input_dim_capsule]\n",
        "        # Regard the first dimension as `batch` dimension,\n",
        "        # then matmul: [dim_capsule, input_dim_capsule] x [input_dim_capsule, 1] -> [dim_capsule].\n",
        "        # inputs_hat.shape = [None, input_num_capsule, dim_capsule, 1]     \n",
        "          \n",
        "        inputs_hat = K.map_fn(lambda x: K.batch_dot(self.W, x, [2, 1]), elems=inputs_expand) \n",
        "\n",
        "        inputs_hat = K.squeeze(inputs_hat, axis = -1)\n",
        "        # inputs_hat.shape = [None, input_num_capsule, dim_capsule]\n",
        "       \n",
        "        # Begin: Routing algorithm ---------------------------------------------------------------------#\n",
        "        # The prior for coupling coefficient, initialized as zeros.\n",
        "        # b.shape = [None, self.input_num_capsule].\n",
        "        b = tf.zeros(shape=[K.shape(inputs_hat)[0], self.input_num_capsule])\n",
        "        \n",
        "        assert self.routings > 0\n",
        "        for i in range(self.routings):\n",
        "            # c.shape=[batch_size, input_num_capsule]\n",
        "            c = tf.nn.softmax(b, axis=-1)\n",
        "\n",
        "            # c.shape =  [batch_size, input_num_capsule]\n",
        "            # inputs_hat.shape=[batch_size, input_num_capsule, dim_capsule]\n",
        "            # The first dimensions as `batch` dimension,\n",
        "            # then matmal: [input_num_capsule] x [input_num_capsule, dim_capsule] -> [dim_capsule].\n",
        "            # outputs.shape=[None, dim_capsule]\n",
        "            \n",
        "            #outputs = squash(K.batch_dot(c, inputs_hat, [1, 1])) \n",
        "            outputs = K.batch_dot(c, inputs_hat, [1, 1])\n",
        "\n",
        "            if i < self.routings - 1:\n",
        "                # outputs.shape =  [None, dim_capsule]\n",
        "                # inputs_hat.shape=[None, input_num_capsule, dim_capsule]\n",
        "                # The first dimension as `batch` dimension,\n",
        "                # then matmal: [dim_capsule] x [input_num_capsule, dim_capsule]^T -> [input_num_capsule].\n",
        "                # b.shape=[batch_size, input_num_capsule]\n",
        "                b += K.batch_dot(outputs, inputs_hat, [1, 2])\n",
        "       \n",
        "        # End: Routing algorithm -----------------------------------------------------------------------#\n",
        "\n",
        "        return outputs\n",
        "\n",
        "    def compute_output_shape(self, input_shape):\n",
        "        return tuple([None, self.dim_capsule])\n",
        "\n",
        "    def get_config(self):\n",
        "        config = super().get_config()\n",
        "        config.update({\n",
        "            \"dim_capsule\": self.dim_capsule,\n",
        "            \"routings\": self.routings,\n",
        "            \"kernel_initializer\": self.kernel_initializer,\n",
        "        })\n",
        "        return config"
      ],
      "metadata": {
        "id": "n2SUkh9LAFqP"
      },
      "execution_count": 22,
      "outputs": []
    },
    {
      "cell_type": "code",
      "execution_count": 23,
      "metadata": {
        "id": "1Y12KaJYEnki"
      },
      "outputs": [],
      "source": [
        "def compute_metrics(true_series, forecast):\n",
        "    \n",
        "    mse = tf.keras.metrics.mean_squared_error(true_series, forecast).numpy()   \n",
        "    rmse = tf.math.sqrt(mse).numpy()\n",
        "    mae = tf.keras.metrics.mean_absolute_error(true_series, forecast).numpy()\n",
        "    mape = tf.keras.metrics.mean_absolute_percentage_error(true_series, forecast).numpy()\n",
        "    return rmse, mae, mape"
      ]
    },
    {
      "cell_type": "code",
      "execution_count": 24,
      "metadata": {
        "id": "4XwGrf-A_wF0"
      },
      "outputs": [],
      "source": [
        "def model_forecast(model, series, window_size):\n",
        "    ds = tf.data.Dataset.from_tensor_slices(series)\n",
        "    ds = ds.window(window_size, shift=1, drop_remainder=True)\n",
        "    ds = ds.flat_map(lambda w: w.batch(window_size))\n",
        "    ds = ds.batch(32).prefetch(1)\n",
        "    forecast = model.predict(ds)\n",
        "    return forecast"
      ]
    },
    {
      "cell_type": "code",
      "source": [
        "def reverse_normalization(series):\n",
        "  series = series * (max(series_train) - min(series_train)) + min(series_train)\n",
        "  return series"
      ],
      "metadata": {
        "id": "xG8kJO3blWny"
      },
      "execution_count": 25,
      "outputs": []
    },
    {
      "cell_type": "code",
      "source": [
        "input_shape = (G.WINDOW_SIZE, 1)"
      ],
      "metadata": {
        "id": "uh3dZo2eVk0K"
      },
      "execution_count": 26,
      "outputs": []
    },
    {
      "cell_type": "code",
      "source": [
        "# Prepare callback\n",
        "stop_early = tf.keras.callbacks.EarlyStopping(monitor='val_mae', patience=5)\n",
        "reduce_lr = tf.keras.callbacks.ReduceLROnPlateau(monitor='mae', factor=0.95,patience=5)"
      ],
      "metadata": {
        "id": "LxTHiYBFhIhF"
      },
      "execution_count": 54,
      "outputs": []
    },
    {
      "cell_type": "code",
      "source": [
        "K.clear_session()"
      ],
      "metadata": {
        "id": "-dD6KzvejX_o"
      },
      "execution_count": 29,
      "outputs": []
    },
    {
      "cell_type": "markdown",
      "source": [
        "### Tune hyper-parameters"
      ],
      "metadata": {
        "id": "HAgEm3Ue4PNF"
      }
    },
    {
      "cell_type": "code",
      "source": [
        "def build_CapsNet_LSTM(hp):\n",
        "   \n",
        "    input = tf.keras.layers.Input(shape=input_shape)\n",
        "      \n",
        "    # First layer\n",
        "    conv1d_1 = tf.keras.layers.Conv1D(filters=hp.Int('Conv1_units', 256, 1024, 256), kernel_size=2, strides=1, padding='causal', activation='relu', name = 'conv1d_1')(input)\n",
        "          \n",
        "    # Primary caps\n",
        "    conv1d_2 = tf.keras.layers.Conv1D(filters=512, kernel_size=2, strides=1, padding='causal',name = 'conv1d_2')(conv1d_1)\n",
        "\n",
        "    unsquashed_caps = tf.keras.layers.Reshape((G.WINDOW_SIZE, 64, 8))(conv1d_2)\n",
        "    squashed_caps = tf.keras.layers.Lambda(squash)(unsquashed_caps)\n",
        "\n",
        "    # Digit caps\n",
        "     \n",
        "    digit_caps = tf.keras.layers.TimeDistributed(Routing(dim_capsule = hp.Int('dim_capsule', 256, 1024, 256), routings = hp.Int('routings', 3, 5, 1)))(squashed_caps)\n",
        "\n",
        "    # LSTM layer\n",
        "    lstm = tf.keras.layers.LSTM(hp.Int('lstm_units', 150, 300, 50))(digit_caps)\n",
        "\n",
        "    # Dropout  \n",
        "    dropout = tf.keras.layers.Dropout(hp.Float('dropout', 0.1, 0.5, 0.1))(lstm)\n",
        "\n",
        "    # Dense layer\n",
        "    dense1 = tf.keras.layers.Dense(hp.Int('dense1_units', 20, 50, 10), activation=\"relu\")(dropout)\n",
        "    dense2 = tf.keras.layers.Dense(hp.Int('dense2_units', 5, 20, 5), activation=\"relu\")(dense1)\n",
        "    output = tf.keras.layers.Dense(1)(dense2)\n",
        "\n",
        "    model = keras.Model(inputs=input, outputs=output, name=\"capsnet_lstm\")\n",
        "\n",
        "    learning_rate = hp.Float(\"lr\", min_value=1e-4, max_value=1e-2, sampling=\"log\")\n",
        "    model.compile(\n",
        "        optimizer=tf.keras.optimizers.Adam(learning_rate = learning_rate),\n",
        "        loss=tf.keras.losses.Huber(),\n",
        "        metrics=[\"mae\"])\n",
        "\n",
        "    return model"
      ],
      "metadata": {
        "id": "CV7ss5NiVBZy"
      },
      "execution_count": 30,
      "outputs": []
    },
    {
      "cell_type": "code",
      "source": [
        "build_CapsNet_LSTM(keras_tuner.HyperParameters())\n",
        "\n",
        "tuner_capsnet_lstm = keras_tuner.Hyperband(\n",
        "    hypermodel=build_CapsNet_LSTM,\n",
        "    objective=\"val_mae\",\n",
        "    max_epochs=50,\n",
        "    factor=3,\n",
        "    hyperband_iterations=1,\n",
        "    distribution_strategy=strategy,\n",
        "    seed = 1,\n",
        "    directory='/content/gdrive/MyDrive/Tuner',\n",
        "    project_name='capsnet_lstm_N225',\n",
        "    overwrite = True)\n",
        "\n",
        "tuner_capsnet_lstm.search(train_set, epochs=50, validation_data=val_set, callbacks=[stop_early])\n",
        "\n",
        "tuner_capsnet_lstm.results_summary()\n",
        "\n",
        "# Get the top 5 hyperparameters.\n",
        "best_hps_capsnet_lstm = tuner_capsnet_lstm.get_best_hyperparameters(5)"
      ],
      "metadata": {
        "id": "Clw6kk0hViJD",
        "outputId": "982dfee8-72ea-4417-a9b6-2aa53e5b09cb",
        "colab": {
          "base_uri": "https://localhost:8080/"
        }
      },
      "execution_count": 31,
      "outputs": [
        {
          "output_type": "stream",
          "name": "stdout",
          "text": [
            "Trial 90 Complete [00h 01m 41s]\n",
            "val_mae: 0.08301810175180435\n",
            "\n",
            "Best val_mae So Far: 0.022772332653403282\n",
            "Total elapsed time: 02h 02m 50s\n",
            "Results summary\n",
            "Results in /content/gdrive/MyDrive/Tuner/capsnet_lstm_N225\n",
            "Showing 10 best trials\n",
            "<keras_tuner.engine.objective.Objective object at 0x7f8faa8af110>\n",
            "Trial summary\n",
            "Hyperparameters:\n",
            "Conv1_units: 256\n",
            "dim_capsule: 512\n",
            "routings: 3\n",
            "lstm_units: 250\n",
            "dropout: 0.30000000000000004\n",
            "dense1_units: 40\n",
            "dense2_units: 20\n",
            "lr: 0.0007880149255876653\n",
            "tuner/epochs: 50\n",
            "tuner/initial_epoch: 17\n",
            "tuner/bracket: 3\n",
            "tuner/round: 3\n",
            "tuner/trial_id: 0047\n",
            "Score: 0.022772332653403282\n",
            "Trial summary\n",
            "Hyperparameters:\n",
            "Conv1_units: 256\n",
            "dim_capsule: 512\n",
            "routings: 3\n",
            "lstm_units: 200\n",
            "dropout: 0.5\n",
            "dense1_units: 40\n",
            "dense2_units: 15\n",
            "lr: 0.0005510469719519641\n",
            "tuner/epochs: 17\n",
            "tuner/initial_epoch: 6\n",
            "tuner/bracket: 3\n",
            "tuner/round: 2\n",
            "tuner/trial_id: 0045\n",
            "Score: 0.026299629360437393\n",
            "Trial summary\n",
            "Hyperparameters:\n",
            "Conv1_units: 512\n",
            "dim_capsule: 512\n",
            "routings: 5\n",
            "lstm_units: 200\n",
            "dropout: 0.30000000000000004\n",
            "dense1_units: 30\n",
            "dense2_units: 10\n",
            "lr: 0.00017722137181005657\n",
            "tuner/epochs: 50\n",
            "tuner/initial_epoch: 17\n",
            "tuner/bracket: 1\n",
            "tuner/round: 1\n",
            "tuner/trial_id: 0079\n",
            "Score: 0.026865340769290924\n",
            "Trial summary\n",
            "Hyperparameters:\n",
            "Conv1_units: 256\n",
            "dim_capsule: 512\n",
            "routings: 3\n",
            "lstm_units: 250\n",
            "dropout: 0.30000000000000004\n",
            "dense1_units: 40\n",
            "dense2_units: 20\n",
            "lr: 0.0007880149255876653\n",
            "tuner/epochs: 17\n",
            "tuner/initial_epoch: 6\n",
            "tuner/bracket: 3\n",
            "tuner/round: 2\n",
            "tuner/trial_id: 0039\n",
            "Score: 0.027402717620134354\n",
            "Trial summary\n",
            "Hyperparameters:\n",
            "Conv1_units: 512\n",
            "dim_capsule: 512\n",
            "routings: 5\n",
            "lstm_units: 200\n",
            "dropout: 0.30000000000000004\n",
            "dense1_units: 40\n",
            "dense2_units: 10\n",
            "lr: 0.00036370716699464734\n",
            "tuner/epochs: 50\n",
            "tuner/initial_epoch: 17\n",
            "tuner/bracket: 1\n",
            "tuner/round: 1\n",
            "tuner/trial_id: 0080\n",
            "Score: 0.02815948985517025\n",
            "Trial summary\n",
            "Hyperparameters:\n",
            "Conv1_units: 768\n",
            "dim_capsule: 256\n",
            "routings: 5\n",
            "lstm_units: 200\n",
            "dropout: 0.4\n",
            "dense1_units: 40\n",
            "dense2_units: 10\n",
            "lr: 0.00034981818142934215\n",
            "tuner/epochs: 50\n",
            "tuner/initial_epoch: 0\n",
            "tuner/bracket: 0\n",
            "tuner/round: 0\n",
            "Score: 0.029303615912795067\n",
            "Trial summary\n",
            "Hyperparameters:\n",
            "Conv1_units: 768\n",
            "dim_capsule: 1024\n",
            "routings: 5\n",
            "lstm_units: 200\n",
            "dropout: 0.30000000000000004\n",
            "dense1_units: 50\n",
            "dense2_units: 5\n",
            "lr: 0.0001029562160619873\n",
            "tuner/epochs: 17\n",
            "tuner/initial_epoch: 6\n",
            "tuner/bracket: 2\n",
            "tuner/round: 1\n",
            "tuner/trial_id: 0059\n",
            "Score: 0.030164752155542374\n",
            "Trial summary\n",
            "Hyperparameters:\n",
            "Conv1_units: 256\n",
            "dim_capsule: 512\n",
            "routings: 3\n",
            "lstm_units: 200\n",
            "dropout: 0.5\n",
            "dense1_units: 40\n",
            "dense2_units: 15\n",
            "lr: 0.0005510469719519641\n",
            "tuner/epochs: 6\n",
            "tuner/initial_epoch: 2\n",
            "tuner/bracket: 3\n",
            "tuner/round: 1\n",
            "tuner/trial_id: 0011\n",
            "Score: 0.03054872900247574\n",
            "Trial summary\n",
            "Hyperparameters:\n",
            "Conv1_units: 768\n",
            "dim_capsule: 768\n",
            "routings: 4\n",
            "lstm_units: 250\n",
            "dropout: 0.2\n",
            "dense1_units: 30\n",
            "dense2_units: 15\n",
            "lr: 0.000167616977564964\n",
            "tuner/epochs: 50\n",
            "tuner/initial_epoch: 0\n",
            "tuner/bracket: 0\n",
            "tuner/round: 0\n",
            "Score: 0.032450053840875626\n",
            "Trial summary\n",
            "Hyperparameters:\n",
            "Conv1_units: 512\n",
            "dim_capsule: 512\n",
            "routings: 5\n",
            "lstm_units: 200\n",
            "dropout: 0.30000000000000004\n",
            "dense1_units: 40\n",
            "dense2_units: 10\n",
            "lr: 0.00036370716699464734\n",
            "tuner/epochs: 17\n",
            "tuner/initial_epoch: 0\n",
            "tuner/bracket: 1\n",
            "tuner/round: 0\n",
            "Score: 0.03271652013063431\n"
          ]
        }
      ]
    },
    {
      "cell_type": "code",
      "source": [
        "# Build the model with the best hp.\n",
        "with strategy.scope():\n",
        "  capsnet_lstm = build_CapsNet_LSTM(best_hps_capsnet_lstm[0])\n",
        "# Fit with the entire dataset.\n",
        "capsnet_lstm.fit(train_val_set, epochs=400, callbacks = [reduce_lr])"
      ],
      "metadata": {
        "id": "Bz4kTlU3C_r_",
        "colab": {
          "base_uri": "https://localhost:8080/"
        },
        "outputId": "d0afb5fb-bc81-44ac-c5c0-1db5714e548d"
      },
      "execution_count": 55,
      "outputs": [
        {
          "output_type": "stream",
          "name": "stdout",
          "text": [
            "Epoch 1/400\n",
            "64/64 [==============================] - 20s 163ms/step - loss: 0.0249 - mae: 0.1776 - lr: 7.8801e-04\n",
            "Epoch 2/400\n",
            "64/64 [==============================] - 10s 162ms/step - loss: 0.0805 - mae: 0.3436 - lr: 7.8801e-04\n",
            "Epoch 3/400\n",
            "64/64 [==============================] - 10s 162ms/step - loss: 0.0467 - mae: 0.2530 - lr: 7.8801e-04\n",
            "Epoch 4/400\n",
            "64/64 [==============================] - 10s 161ms/step - loss: 0.0324 - mae: 0.2271 - lr: 7.8801e-04\n",
            "Epoch 5/400\n",
            "64/64 [==============================] - 10s 162ms/step - loss: 0.0216 - mae: 0.1867 - lr: 7.8801e-04\n",
            "Epoch 6/400\n",
            "64/64 [==============================] - 10s 162ms/step - loss: 0.0134 - mae: 0.1450 - lr: 7.8801e-04\n",
            "Epoch 7/400\n",
            "64/64 [==============================] - 10s 162ms/step - loss: 0.0078 - mae: 0.0963 - lr: 7.8801e-04\n",
            "Epoch 8/400\n",
            "64/64 [==============================] - 10s 162ms/step - loss: 0.0082 - mae: 0.0985 - lr: 7.8801e-04\n",
            "Epoch 9/400\n",
            "64/64 [==============================] - 10s 163ms/step - loss: 0.0038 - mae: 0.0675 - lr: 7.8801e-04\n",
            "Epoch 10/400\n",
            "64/64 [==============================] - 10s 163ms/step - loss: 0.0019 - mae: 0.0457 - lr: 7.8801e-04\n",
            "Epoch 11/400\n",
            "64/64 [==============================] - 10s 162ms/step - loss: 0.0025 - mae: 0.0533 - lr: 7.8801e-04\n",
            "Epoch 12/400\n",
            "64/64 [==============================] - 10s 162ms/step - loss: 0.0023 - mae: 0.0476 - lr: 7.8801e-04\n",
            "Epoch 13/400\n",
            "64/64 [==============================] - 10s 161ms/step - loss: 0.0024 - mae: 0.0475 - lr: 7.8801e-04\n",
            "Epoch 14/400\n",
            "64/64 [==============================] - 10s 161ms/step - loss: 0.0023 - mae: 0.0468 - lr: 7.8801e-04\n",
            "Epoch 15/400\n",
            "64/64 [==============================] - 10s 162ms/step - loss: 0.0025 - mae: 0.0509 - lr: 7.8801e-04\n",
            "Epoch 16/400\n",
            "64/64 [==============================] - 10s 161ms/step - loss: 0.0026 - mae: 0.0529 - lr: 7.4861e-04\n",
            "Epoch 17/400\n",
            "64/64 [==============================] - 10s 163ms/step - loss: 0.0021 - mae: 0.0451 - lr: 7.4861e-04\n",
            "Epoch 18/400\n",
            "64/64 [==============================] - 10s 162ms/step - loss: 0.0020 - mae: 0.0430 - lr: 7.4861e-04\n",
            "Epoch 19/400\n",
            "64/64 [==============================] - 10s 162ms/step - loss: 0.0021 - mae: 0.0449 - lr: 7.4861e-04\n",
            "Epoch 20/400\n",
            "64/64 [==============================] - 10s 162ms/step - loss: 0.0026 - mae: 0.0498 - lr: 7.4861e-04\n",
            "Epoch 21/400\n",
            "64/64 [==============================] - 10s 162ms/step - loss: 0.0026 - mae: 0.0507 - lr: 7.4861e-04\n",
            "Epoch 22/400\n",
            "64/64 [==============================] - 10s 163ms/step - loss: 0.0022 - mae: 0.0470 - lr: 7.4861e-04\n",
            "Epoch 23/400\n",
            "64/64 [==============================] - 10s 162ms/step - loss: 0.0020 - mae: 0.0437 - lr: 7.4861e-04\n",
            "Epoch 24/400\n",
            "64/64 [==============================] - 10s 162ms/step - loss: 0.0021 - mae: 0.0430 - lr: 7.1118e-04\n",
            "Epoch 25/400\n",
            "64/64 [==============================] - 10s 162ms/step - loss: 0.0020 - mae: 0.0424 - lr: 7.1118e-04\n",
            "Epoch 26/400\n",
            "64/64 [==============================] - 10s 162ms/step - loss: 0.0019 - mae: 0.0411 - lr: 7.1118e-04\n",
            "Epoch 27/400\n",
            "64/64 [==============================] - 10s 162ms/step - loss: 0.0021 - mae: 0.0428 - lr: 7.1118e-04\n",
            "Epoch 28/400\n",
            "64/64 [==============================] - 10s 163ms/step - loss: 0.0021 - mae: 0.0443 - lr: 7.1118e-04\n",
            "Epoch 29/400\n",
            "64/64 [==============================] - 10s 163ms/step - loss: 0.0023 - mae: 0.0497 - lr: 7.1118e-04\n",
            "Epoch 30/400\n",
            "64/64 [==============================] - 10s 162ms/step - loss: 0.0023 - mae: 0.0464 - lr: 7.1118e-04\n",
            "Epoch 31/400\n",
            "64/64 [==============================] - 10s 162ms/step - loss: 0.0019 - mae: 0.0414 - lr: 7.1118e-04\n",
            "Epoch 32/400\n",
            "64/64 [==============================] - 10s 162ms/step - loss: 0.0019 - mae: 0.0431 - lr: 6.7562e-04\n",
            "Epoch 33/400\n",
            "64/64 [==============================] - 10s 162ms/step - loss: 0.0019 - mae: 0.0422 - lr: 6.7562e-04\n",
            "Epoch 34/400\n",
            "64/64 [==============================] - 10s 162ms/step - loss: 0.0020 - mae: 0.0424 - lr: 6.7562e-04\n",
            "Epoch 35/400\n",
            "64/64 [==============================] - 10s 161ms/step - loss: 0.0019 - mae: 0.0403 - lr: 6.7562e-04\n",
            "Epoch 36/400\n",
            "64/64 [==============================] - 10s 162ms/step - loss: 0.0017 - mae: 0.0386 - lr: 6.7562e-04\n",
            "Epoch 37/400\n",
            "64/64 [==============================] - 10s 163ms/step - loss: 0.0016 - mae: 0.0393 - lr: 6.7562e-04\n",
            "Epoch 38/400\n",
            "64/64 [==============================] - 10s 161ms/step - loss: 0.0019 - mae: 0.0420 - lr: 6.7562e-04\n",
            "Epoch 39/400\n",
            "64/64 [==============================] - 10s 163ms/step - loss: 0.0023 - mae: 0.0453 - lr: 6.7562e-04\n",
            "Epoch 40/400\n",
            "64/64 [==============================] - 10s 163ms/step - loss: 0.0021 - mae: 0.0463 - lr: 6.7562e-04\n",
            "Epoch 41/400\n",
            "64/64 [==============================] - 10s 162ms/step - loss: 0.0019 - mae: 0.0420 - lr: 6.7562e-04\n",
            "Epoch 42/400\n",
            "64/64 [==============================] - 10s 163ms/step - loss: 0.0017 - mae: 0.0408 - lr: 6.4184e-04\n",
            "Epoch 43/400\n",
            "64/64 [==============================] - 10s 162ms/step - loss: 0.0015 - mae: 0.0379 - lr: 6.4184e-04\n",
            "Epoch 44/400\n",
            "64/64 [==============================] - 10s 162ms/step - loss: 0.0016 - mae: 0.0380 - lr: 6.4184e-04\n",
            "Epoch 45/400\n",
            "64/64 [==============================] - 10s 163ms/step - loss: 0.0017 - mae: 0.0390 - lr: 6.4184e-04\n",
            "Epoch 46/400\n",
            "64/64 [==============================] - 10s 163ms/step - loss: 0.0018 - mae: 0.0402 - lr: 6.4184e-04\n",
            "Epoch 47/400\n",
            "64/64 [==============================] - 10s 162ms/step - loss: 0.0018 - mae: 0.0407 - lr: 6.4184e-04\n",
            "Epoch 48/400\n",
            "64/64 [==============================] - 10s 163ms/step - loss: 0.0016 - mae: 0.0391 - lr: 6.4184e-04\n",
            "Epoch 49/400\n",
            "64/64 [==============================] - 10s 163ms/step - loss: 0.0016 - mae: 0.0387 - lr: 6.0975e-04\n",
            "Epoch 50/400\n",
            "64/64 [==============================] - 10s 163ms/step - loss: 0.0017 - mae: 0.0399 - lr: 6.0975e-04\n",
            "Epoch 51/400\n",
            "64/64 [==============================] - 10s 163ms/step - loss: 0.0016 - mae: 0.0383 - lr: 6.0975e-04\n",
            "Epoch 52/400\n",
            "64/64 [==============================] - 10s 163ms/step - loss: 0.0016 - mae: 0.0387 - lr: 6.0975e-04\n",
            "Epoch 53/400\n",
            "64/64 [==============================] - 10s 162ms/step - loss: 0.0016 - mae: 0.0369 - lr: 6.0975e-04\n",
            "Epoch 54/400\n",
            "64/64 [==============================] - 10s 163ms/step - loss: 0.0014 - mae: 0.0352 - lr: 6.0975e-04\n",
            "Epoch 55/400\n",
            "64/64 [==============================] - 10s 163ms/step - loss: 0.0014 - mae: 0.0348 - lr: 6.0975e-04\n",
            "Epoch 56/400\n",
            "64/64 [==============================] - 10s 163ms/step - loss: 0.0016 - mae: 0.0373 - lr: 6.0975e-04\n",
            "Epoch 57/400\n",
            "64/64 [==============================] - 10s 163ms/step - loss: 0.0018 - mae: 0.0397 - lr: 6.0975e-04\n",
            "Epoch 58/400\n",
            "64/64 [==============================] - 10s 163ms/step - loss: 0.0016 - mae: 0.0384 - lr: 6.0975e-04\n",
            "Epoch 59/400\n",
            "64/64 [==============================] - 10s 163ms/step - loss: 0.0018 - mae: 0.0410 - lr: 6.0975e-04\n",
            "Epoch 60/400\n",
            "64/64 [==============================] - 10s 163ms/step - loss: 0.0020 - mae: 0.0454 - lr: 6.0975e-04\n",
            "Epoch 61/400\n",
            "64/64 [==============================] - 10s 163ms/step - loss: 0.0021 - mae: 0.0470 - lr: 5.7926e-04\n",
            "Epoch 62/400\n",
            "64/64 [==============================] - 10s 163ms/step - loss: 0.0020 - mae: 0.0469 - lr: 5.7926e-04\n",
            "Epoch 63/400\n",
            "64/64 [==============================] - 10s 163ms/step - loss: 0.0018 - mae: 0.0422 - lr: 5.7926e-04\n",
            "Epoch 64/400\n",
            "64/64 [==============================] - 10s 162ms/step - loss: 0.0015 - mae: 0.0373 - lr: 5.7926e-04\n",
            "Epoch 65/400\n",
            "64/64 [==============================] - 10s 162ms/step - loss: 0.0012 - mae: 0.0314 - lr: 5.7926e-04\n",
            "Epoch 66/400\n",
            "64/64 [==============================] - 10s 162ms/step - loss: 0.0013 - mae: 0.0348 - lr: 5.7926e-04\n",
            "Epoch 67/400\n",
            "64/64 [==============================] - 10s 162ms/step - loss: 0.0022 - mae: 0.0463 - lr: 5.7926e-04\n",
            "Epoch 68/400\n",
            "64/64 [==============================] - 10s 162ms/step - loss: 0.0019 - mae: 0.0435 - lr: 5.7926e-04\n",
            "Epoch 69/400\n",
            "64/64 [==============================] - 10s 161ms/step - loss: 0.0016 - mae: 0.0404 - lr: 5.7926e-04\n",
            "Epoch 70/400\n",
            "64/64 [==============================] - 10s 163ms/step - loss: 0.0016 - mae: 0.0398 - lr: 5.7926e-04\n",
            "Epoch 71/400\n",
            "64/64 [==============================] - 10s 162ms/step - loss: 0.0014 - mae: 0.0351 - lr: 5.5030e-04\n",
            "Epoch 72/400\n",
            "64/64 [==============================] - 10s 162ms/step - loss: 0.0013 - mae: 0.0337 - lr: 5.5030e-04\n",
            "Epoch 73/400\n",
            "64/64 [==============================] - 10s 162ms/step - loss: 0.0013 - mae: 0.0338 - lr: 5.5030e-04\n",
            "Epoch 74/400\n",
            "64/64 [==============================] - 10s 163ms/step - loss: 0.0012 - mae: 0.0331 - lr: 5.5030e-04\n",
            "Epoch 75/400\n",
            "64/64 [==============================] - 10s 161ms/step - loss: 0.0013 - mae: 0.0335 - lr: 5.5030e-04\n",
            "Epoch 76/400\n",
            "64/64 [==============================] - 10s 162ms/step - loss: 0.0013 - mae: 0.0343 - lr: 5.2279e-04\n",
            "Epoch 77/400\n",
            "64/64 [==============================] - 10s 163ms/step - loss: 0.0013 - mae: 0.0334 - lr: 5.2279e-04\n",
            "Epoch 78/400\n",
            "64/64 [==============================] - 10s 162ms/step - loss: 0.0011 - mae: 0.0306 - lr: 5.2279e-04\n",
            "Epoch 79/400\n",
            "64/64 [==============================] - 10s 162ms/step - loss: 0.0010 - mae: 0.0299 - lr: 5.2279e-04\n",
            "Epoch 80/400\n",
            "64/64 [==============================] - 10s 162ms/step - loss: 0.0013 - mae: 0.0345 - lr: 5.2279e-04\n",
            "Epoch 81/400\n",
            "64/64 [==============================] - 10s 162ms/step - loss: 0.0014 - mae: 0.0371 - lr: 5.2279e-04\n",
            "Epoch 82/400\n",
            "64/64 [==============================] - 10s 162ms/step - loss: 0.0012 - mae: 0.0351 - lr: 5.2279e-04\n",
            "Epoch 83/400\n",
            "64/64 [==============================] - 10s 163ms/step - loss: 0.0011 - mae: 0.0323 - lr: 5.2279e-04\n",
            "Epoch 84/400\n",
            "64/64 [==============================] - 10s 162ms/step - loss: 0.0012 - mae: 0.0352 - lr: 5.2279e-04\n",
            "Epoch 85/400\n",
            "64/64 [==============================] - 10s 162ms/step - loss: 0.0013 - mae: 0.0342 - lr: 4.9665e-04\n",
            "Epoch 86/400\n",
            "64/64 [==============================] - 10s 162ms/step - loss: 0.0011 - mae: 0.0321 - lr: 4.9665e-04\n",
            "Epoch 87/400\n",
            "64/64 [==============================] - 10s 162ms/step - loss: 9.7966e-04 - mae: 0.0291 - lr: 4.9665e-04\n",
            "Epoch 88/400\n",
            "64/64 [==============================] - 10s 162ms/step - loss: 0.0010 - mae: 0.0297 - lr: 4.9665e-04\n",
            "Epoch 89/400\n",
            "64/64 [==============================] - 10s 162ms/step - loss: 0.0013 - mae: 0.0333 - lr: 4.9665e-04\n",
            "Epoch 90/400\n",
            "64/64 [==============================] - 10s 162ms/step - loss: 0.0013 - mae: 0.0326 - lr: 4.9665e-04\n",
            "Epoch 91/400\n",
            "64/64 [==============================] - 10s 162ms/step - loss: 0.0011 - mae: 0.0309 - lr: 4.9665e-04\n",
            "Epoch 92/400\n",
            "64/64 [==============================] - 10s 162ms/step - loss: 0.0011 - mae: 0.0300 - lr: 4.9665e-04\n",
            "Epoch 93/400\n",
            "64/64 [==============================] - 10s 162ms/step - loss: 0.0010 - mae: 0.0297 - lr: 4.7181e-04\n",
            "Epoch 94/400\n",
            "64/64 [==============================] - 10s 163ms/step - loss: 9.8614e-04 - mae: 0.0293 - lr: 4.7181e-04\n",
            "Epoch 95/400\n",
            "64/64 [==============================] - 10s 162ms/step - loss: 0.0011 - mae: 0.0312 - lr: 4.7181e-04\n",
            "Epoch 96/400\n",
            "64/64 [==============================] - 10s 162ms/step - loss: 0.0012 - mae: 0.0332 - lr: 4.7181e-04\n",
            "Epoch 97/400\n",
            "64/64 [==============================] - 10s 162ms/step - loss: 0.0012 - mae: 0.0332 - lr: 4.7181e-04\n",
            "Epoch 98/400\n",
            "64/64 [==============================] - 10s 162ms/step - loss: 0.0011 - mae: 0.0331 - lr: 4.4822e-04\n",
            "Epoch 99/400\n",
            "64/64 [==============================] - 10s 162ms/step - loss: 9.5151e-04 - mae: 0.0306 - lr: 4.4822e-04\n",
            "Epoch 100/400\n",
            "64/64 [==============================] - 10s 163ms/step - loss: 9.5957e-04 - mae: 0.0301 - lr: 4.4822e-04\n",
            "Epoch 101/400\n",
            "64/64 [==============================] - 10s 163ms/step - loss: 9.2794e-04 - mae: 0.0290 - lr: 4.4822e-04\n",
            "Epoch 102/400\n",
            "64/64 [==============================] - 11s 164ms/step - loss: 9.9951e-04 - mae: 0.0301 - lr: 4.4822e-04\n",
            "Epoch 103/400\n",
            "64/64 [==============================] - 10s 162ms/step - loss: 0.0011 - mae: 0.0316 - lr: 4.2581e-04\n",
            "Epoch 104/400\n",
            "64/64 [==============================] - 10s 162ms/step - loss: 8.8035e-04 - mae: 0.0288 - lr: 4.2581e-04\n",
            "Epoch 105/400\n",
            "64/64 [==============================] - 10s 162ms/step - loss: 9.0131e-04 - mae: 0.0284 - lr: 4.2581e-04\n",
            "Epoch 106/400\n",
            "64/64 [==============================] - 10s 162ms/step - loss: 7.9159e-04 - mae: 0.0275 - lr: 4.2581e-04\n",
            "Epoch 107/400\n",
            "64/64 [==============================] - 10s 163ms/step - loss: 8.2278e-04 - mae: 0.0270 - lr: 4.2581e-04\n",
            "Epoch 108/400\n",
            "64/64 [==============================] - 10s 162ms/step - loss: 9.0694e-04 - mae: 0.0295 - lr: 4.2581e-04\n",
            "Epoch 109/400\n",
            "64/64 [==============================] - 10s 162ms/step - loss: 9.2843e-04 - mae: 0.0302 - lr: 4.2581e-04\n",
            "Epoch 110/400\n",
            "64/64 [==============================] - 10s 162ms/step - loss: 8.1992e-04 - mae: 0.0283 - lr: 4.2581e-04\n",
            "Epoch 111/400\n",
            "64/64 [==============================] - 10s 162ms/step - loss: 8.5078e-04 - mae: 0.0293 - lr: 4.2581e-04\n",
            "Epoch 112/400\n",
            "64/64 [==============================] - 10s 162ms/step - loss: 9.7242e-04 - mae: 0.0318 - lr: 4.2581e-04\n",
            "Epoch 113/400\n",
            "64/64 [==============================] - 10s 162ms/step - loss: 7.9857e-04 - mae: 0.0287 - lr: 4.0452e-04\n",
            "Epoch 114/400\n",
            "64/64 [==============================] - 10s 162ms/step - loss: 7.1321e-04 - mae: 0.0274 - lr: 4.0452e-04\n",
            "Epoch 115/400\n",
            "64/64 [==============================] - 10s 161ms/step - loss: 6.9177e-04 - mae: 0.0275 - lr: 4.0452e-04\n",
            "Epoch 116/400\n",
            "64/64 [==============================] - 10s 161ms/step - loss: 7.5064e-04 - mae: 0.0288 - lr: 4.0452e-04\n",
            "Epoch 117/400\n",
            "64/64 [==============================] - 10s 162ms/step - loss: 8.2034e-04 - mae: 0.0306 - lr: 4.0452e-04\n",
            "Epoch 118/400\n",
            "64/64 [==============================] - 10s 162ms/step - loss: 8.5161e-04 - mae: 0.0325 - lr: 3.8430e-04\n",
            "Epoch 119/400\n",
            "64/64 [==============================] - 10s 161ms/step - loss: 5.8429e-04 - mae: 0.0269 - lr: 3.8430e-04\n",
            "Epoch 120/400\n",
            "64/64 [==============================] - 10s 162ms/step - loss: 5.4541e-04 - mae: 0.0262 - lr: 3.8430e-04\n",
            "Epoch 121/400\n",
            "64/64 [==============================] - 10s 162ms/step - loss: 4.7382e-04 - mae: 0.0240 - lr: 3.8430e-04\n",
            "Epoch 122/400\n",
            "64/64 [==============================] - 10s 161ms/step - loss: 4.0842e-04 - mae: 0.0218 - lr: 3.8430e-04\n",
            "Epoch 123/400\n",
            "64/64 [==============================] - 10s 161ms/step - loss: 4.1948e-04 - mae: 0.0218 - lr: 3.8430e-04\n",
            "Epoch 124/400\n",
            "64/64 [==============================] - 10s 162ms/step - loss: 4.8309e-04 - mae: 0.0234 - lr: 3.8430e-04\n",
            "Epoch 125/400\n",
            "64/64 [==============================] - 10s 161ms/step - loss: 5.7597e-04 - mae: 0.0253 - lr: 3.8430e-04\n",
            "Epoch 126/400\n",
            "64/64 [==============================] - 10s 161ms/step - loss: 6.8232e-04 - mae: 0.0278 - lr: 3.8430e-04\n",
            "Epoch 127/400\n",
            "64/64 [==============================] - 10s 162ms/step - loss: 7.1543e-04 - mae: 0.0283 - lr: 3.8430e-04\n",
            "Epoch 128/400\n",
            "64/64 [==============================] - 10s 162ms/step - loss: 6.7772e-04 - mae: 0.0272 - lr: 3.6508e-04\n",
            "Epoch 129/400\n",
            "64/64 [==============================] - 10s 162ms/step - loss: 5.5732e-04 - mae: 0.0248 - lr: 3.6508e-04\n",
            "Epoch 130/400\n",
            "64/64 [==============================] - 10s 162ms/step - loss: 4.8983e-04 - mae: 0.0235 - lr: 3.6508e-04\n",
            "Epoch 131/400\n",
            "64/64 [==============================] - 10s 163ms/step - loss: 3.9098e-04 - mae: 0.0208 - lr: 3.6508e-04\n",
            "Epoch 132/400\n",
            "64/64 [==============================] - 10s 163ms/step - loss: 3.3755e-04 - mae: 0.0194 - lr: 3.6508e-04\n",
            "Epoch 133/400\n",
            "64/64 [==============================] - 10s 161ms/step - loss: 3.0927e-04 - mae: 0.0190 - lr: 3.6508e-04\n",
            "Epoch 134/400\n",
            "64/64 [==============================] - 10s 161ms/step - loss: 3.1729e-04 - mae: 0.0193 - lr: 3.6508e-04\n",
            "Epoch 135/400\n",
            "64/64 [==============================] - 10s 162ms/step - loss: 3.0534e-04 - mae: 0.0188 - lr: 3.6508e-04\n",
            "Epoch 136/400\n",
            "64/64 [==============================] - 10s 162ms/step - loss: 2.8099e-04 - mae: 0.0181 - lr: 3.6508e-04\n",
            "Epoch 137/400\n",
            "64/64 [==============================] - 10s 162ms/step - loss: 2.7868e-04 - mae: 0.0176 - lr: 3.6508e-04\n",
            "Epoch 138/400\n",
            "64/64 [==============================] - 10s 162ms/step - loss: 2.7217e-04 - mae: 0.0174 - lr: 3.6508e-04\n",
            "Epoch 139/400\n",
            "64/64 [==============================] - 10s 163ms/step - loss: 2.7467e-04 - mae: 0.0174 - lr: 3.6508e-04\n",
            "Epoch 140/400\n",
            "64/64 [==============================] - 10s 163ms/step - loss: 2.8115e-04 - mae: 0.0175 - lr: 3.6508e-04\n",
            "Epoch 141/400\n",
            "64/64 [==============================] - 10s 163ms/step - loss: 2.6873e-04 - mae: 0.0173 - lr: 3.6508e-04\n",
            "Epoch 142/400\n",
            "64/64 [==============================] - 10s 163ms/step - loss: 3.0534e-04 - mae: 0.0187 - lr: 3.6508e-04\n",
            "Epoch 143/400\n",
            "64/64 [==============================] - 10s 163ms/step - loss: 3.0179e-04 - mae: 0.0187 - lr: 3.6508e-04\n",
            "Epoch 144/400\n",
            "64/64 [==============================] - 10s 162ms/step - loss: 3.4150e-04 - mae: 0.0201 - lr: 3.4683e-04\n",
            "Epoch 145/400\n",
            "64/64 [==============================] - 10s 163ms/step - loss: 3.4957e-04 - mae: 0.0207 - lr: 3.4683e-04\n",
            "Epoch 146/400\n",
            "64/64 [==============================] - 10s 163ms/step - loss: 4.1543e-04 - mae: 0.0223 - lr: 3.4683e-04\n",
            "Epoch 147/400\n",
            "64/64 [==============================] - 10s 163ms/step - loss: 3.7326e-04 - mae: 0.0213 - lr: 3.4683e-04\n",
            "Epoch 148/400\n",
            "64/64 [==============================] - 10s 163ms/step - loss: 4.3197e-04 - mae: 0.0230 - lr: 3.4683e-04\n",
            "Epoch 149/400\n",
            "64/64 [==============================] - 10s 163ms/step - loss: 4.6850e-04 - mae: 0.0236 - lr: 3.2949e-04\n",
            "Epoch 150/400\n",
            "64/64 [==============================] - 10s 163ms/step - loss: 6.9490e-04 - mae: 0.0293 - lr: 3.2949e-04\n",
            "Epoch 151/400\n",
            "64/64 [==============================] - 10s 163ms/step - loss: 8.7426e-04 - mae: 0.0319 - lr: 3.2949e-04\n",
            "Epoch 152/400\n",
            "64/64 [==============================] - 10s 163ms/step - loss: 0.0011 - mae: 0.0353 - lr: 3.2949e-04\n",
            "Epoch 153/400\n",
            "64/64 [==============================] - 10s 163ms/step - loss: 0.0011 - mae: 0.0358 - lr: 3.2949e-04\n",
            "Epoch 154/400\n",
            "64/64 [==============================] - 10s 163ms/step - loss: 0.0011 - mae: 0.0355 - lr: 3.1301e-04\n",
            "Epoch 155/400\n",
            "64/64 [==============================] - 10s 162ms/step - loss: 7.2501e-04 - mae: 0.0298 - lr: 3.1301e-04\n",
            "Epoch 156/400\n",
            "64/64 [==============================] - 10s 162ms/step - loss: 5.0520e-04 - mae: 0.0245 - lr: 3.1301e-04\n",
            "Epoch 157/400\n",
            "64/64 [==============================] - 10s 162ms/step - loss: 3.1704e-04 - mae: 0.0189 - lr: 3.1301e-04\n",
            "Epoch 158/400\n",
            "64/64 [==============================] - 10s 162ms/step - loss: 3.3208e-04 - mae: 0.0200 - lr: 3.1301e-04\n",
            "Epoch 159/400\n",
            "64/64 [==============================] - 11s 163ms/step - loss: 2.8897e-04 - mae: 0.0185 - lr: 2.9736e-04\n",
            "Epoch 160/400\n",
            "64/64 [==============================] - 10s 163ms/step - loss: 2.4704e-04 - mae: 0.0167 - lr: 2.9736e-04\n",
            "Epoch 161/400\n",
            "64/64 [==============================] - 10s 163ms/step - loss: 2.5757e-04 - mae: 0.0166 - lr: 2.9736e-04\n",
            "Epoch 162/400\n",
            "64/64 [==============================] - 10s 162ms/step - loss: 2.4690e-04 - mae: 0.0166 - lr: 2.9736e-04\n",
            "Epoch 163/400\n",
            "64/64 [==============================] - 10s 161ms/step - loss: 2.3103e-04 - mae: 0.0157 - lr: 2.9736e-04\n",
            "Epoch 164/400\n",
            "64/64 [==============================] - 10s 161ms/step - loss: 2.4980e-04 - mae: 0.0166 - lr: 2.9736e-04\n",
            "Epoch 165/400\n",
            "64/64 [==============================] - 10s 162ms/step - loss: 2.5455e-04 - mae: 0.0168 - lr: 2.9736e-04\n",
            "Epoch 166/400\n",
            "64/64 [==============================] - 10s 162ms/step - loss: 2.5058e-04 - mae: 0.0166 - lr: 2.9736e-04\n",
            "Epoch 167/400\n",
            "64/64 [==============================] - 10s 162ms/step - loss: 3.0920e-04 - mae: 0.0185 - lr: 2.9736e-04\n",
            "Epoch 168/400\n",
            "64/64 [==============================] - 10s 162ms/step - loss: 3.2090e-04 - mae: 0.0188 - lr: 2.9736e-04\n",
            "Epoch 169/400\n",
            "64/64 [==============================] - 10s 162ms/step - loss: 4.0190e-04 - mae: 0.0210 - lr: 2.8249e-04\n",
            "Epoch 170/400\n",
            "64/64 [==============================] - 10s 162ms/step - loss: 3.5562e-04 - mae: 0.0197 - lr: 2.8249e-04\n",
            "Epoch 171/400\n",
            "64/64 [==============================] - 10s 162ms/step - loss: 3.8606e-04 - mae: 0.0204 - lr: 2.8249e-04\n",
            "Epoch 172/400\n",
            "64/64 [==============================] - 10s 162ms/step - loss: 4.2036e-04 - mae: 0.0212 - lr: 2.8249e-04\n",
            "Epoch 173/400\n",
            "64/64 [==============================] - 10s 162ms/step - loss: 3.9232e-04 - mae: 0.0209 - lr: 2.8249e-04\n",
            "Epoch 174/400\n",
            "64/64 [==============================] - 10s 162ms/step - loss: 4.3450e-04 - mae: 0.0220 - lr: 2.6837e-04\n",
            "Epoch 175/400\n",
            "64/64 [==============================] - 10s 162ms/step - loss: 4.0447e-04 - mae: 0.0211 - lr: 2.6837e-04\n",
            "Epoch 176/400\n",
            "64/64 [==============================] - 10s 162ms/step - loss: 3.1649e-04 - mae: 0.0186 - lr: 2.6837e-04\n",
            "Epoch 177/400\n",
            "64/64 [==============================] - 10s 162ms/step - loss: 2.7288e-04 - mae: 0.0173 - lr: 2.6837e-04\n",
            "Epoch 178/400\n",
            "64/64 [==============================] - 10s 163ms/step - loss: 2.4261e-04 - mae: 0.0164 - lr: 2.6837e-04\n",
            "Epoch 179/400\n",
            "64/64 [==============================] - 10s 162ms/step - loss: 2.4452e-04 - mae: 0.0165 - lr: 2.5495e-04\n",
            "Epoch 180/400\n",
            "64/64 [==============================] - 10s 162ms/step - loss: 2.3609e-04 - mae: 0.0164 - lr: 2.5495e-04\n",
            "Epoch 181/400\n",
            "64/64 [==============================] - 10s 162ms/step - loss: 2.3723e-04 - mae: 0.0167 - lr: 2.5495e-04\n",
            "Epoch 182/400\n",
            "64/64 [==============================] - 10s 162ms/step - loss: 2.3905e-04 - mae: 0.0165 - lr: 2.5495e-04\n",
            "Epoch 183/400\n",
            "64/64 [==============================] - 10s 162ms/step - loss: 2.3175e-04 - mae: 0.0160 - lr: 2.5495e-04\n",
            "Epoch 184/400\n",
            "64/64 [==============================] - 10s 162ms/step - loss: 2.4310e-04 - mae: 0.0163 - lr: 2.4220e-04\n",
            "Epoch 185/400\n",
            "64/64 [==============================] - 10s 163ms/step - loss: 1.9503e-04 - mae: 0.0145 - lr: 2.4220e-04\n",
            "Epoch 186/400\n",
            "64/64 [==============================] - 10s 162ms/step - loss: 2.4284e-04 - mae: 0.0162 - lr: 2.4220e-04\n",
            "Epoch 187/400\n",
            "64/64 [==============================] - 10s 163ms/step - loss: 2.5724e-04 - mae: 0.0170 - lr: 2.4220e-04\n",
            "Epoch 188/400\n",
            "64/64 [==============================] - 10s 163ms/step - loss: 2.3080e-04 - mae: 0.0159 - lr: 2.4220e-04\n",
            "Epoch 189/400\n",
            "64/64 [==============================] - 10s 162ms/step - loss: 2.9908e-04 - mae: 0.0184 - lr: 2.4220e-04\n",
            "Epoch 190/400\n",
            "64/64 [==============================] - 10s 162ms/step - loss: 2.5789e-04 - mae: 0.0169 - lr: 2.4220e-04\n",
            "Epoch 191/400\n",
            "64/64 [==============================] - 10s 162ms/step - loss: 3.1577e-04 - mae: 0.0187 - lr: 2.3009e-04\n",
            "Epoch 192/400\n",
            "64/64 [==============================] - 10s 161ms/step - loss: 3.6534e-04 - mae: 0.0201 - lr: 2.3009e-04\n",
            "Epoch 193/400\n",
            "64/64 [==============================] - 10s 162ms/step - loss: 4.1480e-04 - mae: 0.0213 - lr: 2.3009e-04\n",
            "Epoch 194/400\n",
            "64/64 [==============================] - 10s 161ms/step - loss: 4.2634e-04 - mae: 0.0218 - lr: 2.3009e-04\n",
            "Epoch 195/400\n",
            "64/64 [==============================] - 10s 162ms/step - loss: 4.5172e-04 - mae: 0.0224 - lr: 2.3009e-04\n",
            "Epoch 196/400\n",
            "64/64 [==============================] - 10s 162ms/step - loss: 3.8545e-04 - mae: 0.0209 - lr: 2.1859e-04\n",
            "Epoch 197/400\n",
            "64/64 [==============================] - 10s 162ms/step - loss: 3.3737e-04 - mae: 0.0196 - lr: 2.1859e-04\n",
            "Epoch 198/400\n",
            "64/64 [==============================] - 10s 162ms/step - loss: 2.4657e-04 - mae: 0.0164 - lr: 2.1859e-04\n",
            "Epoch 199/400\n",
            "64/64 [==============================] - 10s 162ms/step - loss: 2.2739e-04 - mae: 0.0158 - lr: 2.1859e-04\n",
            "Epoch 200/400\n",
            "64/64 [==============================] - 10s 162ms/step - loss: 2.2864e-04 - mae: 0.0161 - lr: 2.1859e-04\n",
            "Epoch 201/400\n",
            "64/64 [==============================] - 10s 162ms/step - loss: 2.1602e-04 - mae: 0.0154 - lr: 2.0766e-04\n",
            "Epoch 202/400\n",
            "64/64 [==============================] - 10s 162ms/step - loss: 2.1533e-04 - mae: 0.0154 - lr: 2.0766e-04\n",
            "Epoch 203/400\n",
            "64/64 [==============================] - 10s 162ms/step - loss: 2.0852e-04 - mae: 0.0151 - lr: 2.0766e-04\n",
            "Epoch 204/400\n",
            "64/64 [==============================] - 10s 162ms/step - loss: 2.1518e-04 - mae: 0.0152 - lr: 2.0766e-04\n",
            "Epoch 205/400\n",
            "64/64 [==============================] - 10s 163ms/step - loss: 2.2969e-04 - mae: 0.0159 - lr: 2.0766e-04\n",
            "Epoch 206/400\n",
            "64/64 [==============================] - 10s 162ms/step - loss: 2.2908e-04 - mae: 0.0157 - lr: 1.9727e-04\n",
            "Epoch 207/400\n",
            "64/64 [==============================] - 10s 162ms/step - loss: 2.4268e-04 - mae: 0.0162 - lr: 1.9727e-04\n",
            "Epoch 208/400\n",
            "64/64 [==============================] - 10s 162ms/step - loss: 2.5315e-04 - mae: 0.0167 - lr: 1.9727e-04\n",
            "Epoch 209/400\n",
            "64/64 [==============================] - 10s 162ms/step - loss: 2.7597e-04 - mae: 0.0172 - lr: 1.9727e-04\n",
            "Epoch 210/400\n",
            "64/64 [==============================] - 10s 162ms/step - loss: 2.8215e-04 - mae: 0.0176 - lr: 1.9727e-04\n",
            "Epoch 211/400\n",
            "64/64 [==============================] - 10s 162ms/step - loss: 2.8414e-04 - mae: 0.0174 - lr: 1.8741e-04\n",
            "Epoch 212/400\n",
            "64/64 [==============================] - 10s 162ms/step - loss: 2.9874e-04 - mae: 0.0181 - lr: 1.8741e-04\n",
            "Epoch 213/400\n",
            "64/64 [==============================] - 10s 163ms/step - loss: 3.0333e-04 - mae: 0.0181 - lr: 1.8741e-04\n",
            "Epoch 214/400\n",
            "64/64 [==============================] - 10s 162ms/step - loss: 2.6310e-04 - mae: 0.0169 - lr: 1.8741e-04\n",
            "Epoch 215/400\n",
            "64/64 [==============================] - 10s 162ms/step - loss: 2.2926e-04 - mae: 0.0158 - lr: 1.8741e-04\n",
            "Epoch 216/400\n",
            "64/64 [==============================] - 10s 163ms/step - loss: 2.4043e-04 - mae: 0.0163 - lr: 1.7804e-04\n",
            "Epoch 217/400\n",
            "64/64 [==============================] - 10s 162ms/step - loss: 2.2678e-04 - mae: 0.0159 - lr: 1.7804e-04\n",
            "Epoch 218/400\n",
            "64/64 [==============================] - 10s 163ms/step - loss: 2.2421e-04 - mae: 0.0157 - lr: 1.7804e-04\n",
            "Epoch 219/400\n",
            "64/64 [==============================] - 10s 162ms/step - loss: 2.1518e-04 - mae: 0.0154 - lr: 1.7804e-04\n",
            "Epoch 220/400\n",
            "64/64 [==============================] - 10s 162ms/step - loss: 2.3494e-04 - mae: 0.0162 - lr: 1.7804e-04\n",
            "Epoch 221/400\n",
            "64/64 [==============================] - 10s 162ms/step - loss: 2.0764e-04 - mae: 0.0149 - lr: 1.6914e-04\n",
            "Epoch 222/400\n",
            "64/64 [==============================] - 10s 161ms/step - loss: 2.3635e-04 - mae: 0.0161 - lr: 1.6914e-04\n",
            "Epoch 223/400\n",
            "64/64 [==============================] - 10s 161ms/step - loss: 2.1424e-04 - mae: 0.0153 - lr: 1.6914e-04\n",
            "Epoch 224/400\n",
            "64/64 [==============================] - 10s 161ms/step - loss: 2.2215e-04 - mae: 0.0156 - lr: 1.6914e-04\n",
            "Epoch 225/400\n",
            "64/64 [==============================] - 10s 162ms/step - loss: 2.2182e-04 - mae: 0.0155 - lr: 1.6914e-04\n",
            "Epoch 226/400\n",
            "64/64 [==============================] - 10s 162ms/step - loss: 2.2430e-04 - mae: 0.0155 - lr: 1.6068e-04\n",
            "Epoch 227/400\n",
            "64/64 [==============================] - 10s 161ms/step - loss: 2.4405e-04 - mae: 0.0165 - lr: 1.6068e-04\n",
            "Epoch 228/400\n",
            "64/64 [==============================] - 10s 163ms/step - loss: 2.2646e-04 - mae: 0.0158 - lr: 1.6068e-04\n",
            "Epoch 229/400\n",
            "64/64 [==============================] - 10s 163ms/step - loss: 2.1907e-04 - mae: 0.0153 - lr: 1.6068e-04\n",
            "Epoch 230/400\n",
            "64/64 [==============================] - 10s 163ms/step - loss: 2.1851e-04 - mae: 0.0153 - lr: 1.6068e-04\n",
            "Epoch 231/400\n",
            "64/64 [==============================] - 10s 162ms/step - loss: 2.0771e-04 - mae: 0.0148 - lr: 1.5265e-04\n",
            "Epoch 232/400\n",
            "64/64 [==============================] - 10s 162ms/step - loss: 2.1647e-04 - mae: 0.0152 - lr: 1.5265e-04\n",
            "Epoch 233/400\n",
            "64/64 [==============================] - 10s 162ms/step - loss: 2.0621e-04 - mae: 0.0147 - lr: 1.5265e-04\n",
            "Epoch 234/400\n",
            "64/64 [==============================] - 10s 163ms/step - loss: 1.9760e-04 - mae: 0.0146 - lr: 1.5265e-04\n",
            "Epoch 235/400\n",
            "64/64 [==============================] - 10s 163ms/step - loss: 2.1978e-04 - mae: 0.0155 - lr: 1.5265e-04\n",
            "Epoch 236/400\n",
            "64/64 [==============================] - 10s 163ms/step - loss: 2.0392e-04 - mae: 0.0146 - lr: 1.4502e-04\n",
            "Epoch 237/400\n",
            "64/64 [==============================] - 10s 161ms/step - loss: 2.2109e-04 - mae: 0.0154 - lr: 1.4502e-04\n",
            "Epoch 238/400\n",
            "64/64 [==============================] - 10s 162ms/step - loss: 2.3183e-04 - mae: 0.0157 - lr: 1.4502e-04\n",
            "Epoch 239/400\n",
            "64/64 [==============================] - 10s 162ms/step - loss: 2.2061e-04 - mae: 0.0154 - lr: 1.4502e-04\n",
            "Epoch 240/400\n",
            "64/64 [==============================] - 10s 162ms/step - loss: 2.2640e-04 - mae: 0.0155 - lr: 1.4502e-04\n",
            "Epoch 241/400\n",
            "64/64 [==============================] - 10s 162ms/step - loss: 2.1827e-04 - mae: 0.0156 - lr: 1.3776e-04\n",
            "Epoch 242/400\n",
            "64/64 [==============================] - 10s 162ms/step - loss: 2.0271e-04 - mae: 0.0150 - lr: 1.3776e-04\n",
            "Epoch 243/400\n",
            "64/64 [==============================] - 10s 162ms/step - loss: 1.9260e-04 - mae: 0.0143 - lr: 1.3776e-04\n",
            "Epoch 244/400\n",
            "64/64 [==============================] - 10s 163ms/step - loss: 2.0468e-04 - mae: 0.0148 - lr: 1.3776e-04\n",
            "Epoch 245/400\n",
            "64/64 [==============================] - 10s 163ms/step - loss: 2.2001e-04 - mae: 0.0154 - lr: 1.3776e-04\n",
            "Epoch 246/400\n",
            "64/64 [==============================] - 10s 162ms/step - loss: 2.0575e-04 - mae: 0.0149 - lr: 1.3776e-04\n",
            "Epoch 247/400\n",
            "64/64 [==============================] - 10s 162ms/step - loss: 2.1182e-04 - mae: 0.0152 - lr: 1.3776e-04\n",
            "Epoch 248/400\n",
            "64/64 [==============================] - 10s 162ms/step - loss: 2.1189e-04 - mae: 0.0152 - lr: 1.3776e-04\n",
            "Epoch 249/400\n",
            "64/64 [==============================] - 10s 162ms/step - loss: 2.1391e-04 - mae: 0.0150 - lr: 1.3088e-04\n",
            "Epoch 250/400\n",
            "64/64 [==============================] - 10s 163ms/step - loss: 2.2347e-04 - mae: 0.0156 - lr: 1.3088e-04\n",
            "Epoch 251/400\n",
            "64/64 [==============================] - 10s 162ms/step - loss: 2.1644e-04 - mae: 0.0153 - lr: 1.3088e-04\n",
            "Epoch 252/400\n",
            "64/64 [==============================] - 10s 162ms/step - loss: 2.0860e-04 - mae: 0.0149 - lr: 1.3088e-04\n",
            "Epoch 253/400\n",
            "64/64 [==============================] - 10s 162ms/step - loss: 1.9740e-04 - mae: 0.0144 - lr: 1.3088e-04\n",
            "Epoch 254/400\n",
            "64/64 [==============================] - 10s 162ms/step - loss: 2.0302e-04 - mae: 0.0146 - lr: 1.2433e-04\n",
            "Epoch 255/400\n",
            "64/64 [==============================] - 10s 162ms/step - loss: 2.1147e-04 - mae: 0.0151 - lr: 1.2433e-04\n",
            "Epoch 256/400\n",
            "64/64 [==============================] - 10s 162ms/step - loss: 2.0890e-04 - mae: 0.0150 - lr: 1.2433e-04\n",
            "Epoch 257/400\n",
            "64/64 [==============================] - 10s 162ms/step - loss: 2.2834e-04 - mae: 0.0158 - lr: 1.2433e-04\n",
            "Epoch 258/400\n",
            "64/64 [==============================] - 10s 162ms/step - loss: 2.2228e-04 - mae: 0.0155 - lr: 1.2433e-04\n",
            "Epoch 259/400\n",
            "64/64 [==============================] - 10s 163ms/step - loss: 2.1143e-04 - mae: 0.0152 - lr: 1.1812e-04\n",
            "Epoch 260/400\n",
            "64/64 [==============================] - 10s 162ms/step - loss: 1.9655e-04 - mae: 0.0146 - lr: 1.1812e-04\n",
            "Epoch 261/400\n",
            "64/64 [==============================] - 10s 162ms/step - loss: 1.9775e-04 - mae: 0.0146 - lr: 1.1812e-04\n",
            "Epoch 262/400\n",
            "64/64 [==============================] - 10s 162ms/step - loss: 1.9789e-04 - mae: 0.0145 - lr: 1.1812e-04\n",
            "Epoch 263/400\n",
            "64/64 [==============================] - 10s 162ms/step - loss: 1.9104e-04 - mae: 0.0142 - lr: 1.1812e-04\n",
            "Epoch 264/400\n",
            "64/64 [==============================] - 10s 161ms/step - loss: 1.9090e-04 - mae: 0.0144 - lr: 1.1812e-04\n",
            "Epoch 265/400\n",
            "64/64 [==============================] - 10s 161ms/step - loss: 1.9416e-04 - mae: 0.0145 - lr: 1.1812e-04\n",
            "Epoch 266/400\n",
            "64/64 [==============================] - 10s 162ms/step - loss: 1.9645e-04 - mae: 0.0144 - lr: 1.1812e-04\n",
            "Epoch 267/400\n",
            "64/64 [==============================] - 10s 162ms/step - loss: 2.0477e-04 - mae: 0.0148 - lr: 1.1812e-04\n",
            "Epoch 268/400\n",
            "64/64 [==============================] - 10s 163ms/step - loss: 2.0699e-04 - mae: 0.0150 - lr: 1.1812e-04\n",
            "Epoch 269/400\n",
            "64/64 [==============================] - 10s 163ms/step - loss: 2.0700e-04 - mae: 0.0150 - lr: 1.1221e-04\n",
            "Epoch 270/400\n",
            "64/64 [==============================] - 10s 162ms/step - loss: 2.1301e-04 - mae: 0.0151 - lr: 1.1221e-04\n",
            "Epoch 271/400\n",
            "64/64 [==============================] - 10s 162ms/step - loss: 2.0472e-04 - mae: 0.0148 - lr: 1.1221e-04\n",
            "Epoch 272/400\n",
            "64/64 [==============================] - 10s 162ms/step - loss: 1.9685e-04 - mae: 0.0145 - lr: 1.1221e-04\n",
            "Epoch 273/400\n",
            "64/64 [==============================] - 11s 164ms/step - loss: 2.0043e-04 - mae: 0.0146 - lr: 1.1221e-04\n",
            "Epoch 274/400\n",
            "64/64 [==============================] - 10s 162ms/step - loss: 1.8456e-04 - mae: 0.0141 - lr: 1.0660e-04\n",
            "Epoch 275/400\n",
            "64/64 [==============================] - 10s 162ms/step - loss: 1.8474e-04 - mae: 0.0140 - lr: 1.0660e-04\n",
            "Epoch 276/400\n",
            "64/64 [==============================] - 10s 162ms/step - loss: 1.9152e-04 - mae: 0.0143 - lr: 1.0660e-04\n",
            "Epoch 277/400\n",
            "64/64 [==============================] - 10s 161ms/step - loss: 1.8324e-04 - mae: 0.0139 - lr: 1.0660e-04\n",
            "Epoch 278/400\n",
            "64/64 [==============================] - 10s 162ms/step - loss: 1.9772e-04 - mae: 0.0144 - lr: 1.0660e-04\n",
            "Epoch 279/400\n",
            "64/64 [==============================] - 10s 162ms/step - loss: 1.9296e-04 - mae: 0.0145 - lr: 1.0660e-04\n",
            "Epoch 280/400\n",
            "64/64 [==============================] - 10s 162ms/step - loss: 2.0299e-04 - mae: 0.0148 - lr: 1.0660e-04\n",
            "Epoch 281/400\n",
            "64/64 [==============================] - 10s 161ms/step - loss: 1.9003e-04 - mae: 0.0143 - lr: 1.0660e-04\n",
            "Epoch 282/400\n",
            "64/64 [==============================] - 10s 162ms/step - loss: 1.9691e-04 - mae: 0.0145 - lr: 1.0660e-04\n",
            "Epoch 283/400\n",
            "64/64 [==============================] - 10s 162ms/step - loss: 1.8313e-04 - mae: 0.0139 - lr: 1.0127e-04\n",
            "Epoch 284/400\n",
            "64/64 [==============================] - 10s 162ms/step - loss: 1.8883e-04 - mae: 0.0143 - lr: 1.0127e-04\n",
            "Epoch 285/400\n",
            "64/64 [==============================] - 10s 163ms/step - loss: 1.9370e-04 - mae: 0.0142 - lr: 1.0127e-04\n",
            "Epoch 286/400\n",
            "64/64 [==============================] - 10s 162ms/step - loss: 1.8915e-04 - mae: 0.0141 - lr: 1.0127e-04\n",
            "Epoch 287/400\n",
            "64/64 [==============================] - 10s 162ms/step - loss: 1.9514e-04 - mae: 0.0144 - lr: 1.0127e-04\n",
            "Epoch 288/400\n",
            "64/64 [==============================] - 10s 162ms/step - loss: 1.8914e-04 - mae: 0.0139 - lr: 9.6206e-05\n",
            "Epoch 289/400\n",
            "64/64 [==============================] - 10s 162ms/step - loss: 1.9384e-04 - mae: 0.0144 - lr: 9.6206e-05\n",
            "Epoch 290/400\n",
            "64/64 [==============================] - 10s 162ms/step - loss: 1.9860e-04 - mae: 0.0147 - lr: 9.6206e-05\n",
            "Epoch 291/400\n",
            "64/64 [==============================] - 10s 162ms/step - loss: 1.8224e-04 - mae: 0.0137 - lr: 9.6206e-05\n",
            "Epoch 292/400\n",
            "64/64 [==============================] - 10s 162ms/step - loss: 1.8627e-04 - mae: 0.0140 - lr: 9.6206e-05\n",
            "Epoch 293/400\n",
            "64/64 [==============================] - 10s 162ms/step - loss: 1.9181e-04 - mae: 0.0140 - lr: 9.6206e-05\n",
            "Epoch 294/400\n",
            "64/64 [==============================] - 10s 162ms/step - loss: 1.9877e-04 - mae: 0.0145 - lr: 9.6206e-05\n",
            "Epoch 295/400\n",
            "64/64 [==============================] - 10s 162ms/step - loss: 2.0454e-04 - mae: 0.0147 - lr: 9.6206e-05\n",
            "Epoch 296/400\n",
            "64/64 [==============================] - 10s 163ms/step - loss: 2.1562e-04 - mae: 0.0152 - lr: 9.6206e-05\n",
            "Epoch 297/400\n",
            "64/64 [==============================] - 10s 162ms/step - loss: 1.9768e-04 - mae: 0.0146 - lr: 9.1396e-05\n",
            "Epoch 298/400\n",
            "64/64 [==============================] - 10s 162ms/step - loss: 2.0318e-04 - mae: 0.0147 - lr: 9.1396e-05\n",
            "Epoch 299/400\n",
            "64/64 [==============================] - 10s 163ms/step - loss: 1.9166e-04 - mae: 0.0142 - lr: 9.1396e-05\n",
            "Epoch 300/400\n",
            "64/64 [==============================] - 10s 163ms/step - loss: 1.9133e-04 - mae: 0.0144 - lr: 9.1396e-05\n",
            "Epoch 301/400\n",
            "64/64 [==============================] - 11s 164ms/step - loss: 1.8921e-04 - mae: 0.0142 - lr: 9.1396e-05\n",
            "Epoch 302/400\n",
            "64/64 [==============================] - 11s 164ms/step - loss: 1.8786e-04 - mae: 0.0140 - lr: 8.6826e-05\n",
            "Epoch 303/400\n",
            "64/64 [==============================] - 10s 162ms/step - loss: 1.8110e-04 - mae: 0.0138 - lr: 8.6826e-05\n",
            "Epoch 304/400\n",
            "64/64 [==============================] - 10s 162ms/step - loss: 1.8248e-04 - mae: 0.0139 - lr: 8.6826e-05\n",
            "Epoch 305/400\n",
            "64/64 [==============================] - 10s 162ms/step - loss: 1.8770e-04 - mae: 0.0141 - lr: 8.6826e-05\n",
            "Epoch 306/400\n",
            "64/64 [==============================] - 10s 162ms/step - loss: 1.7537e-04 - mae: 0.0136 - lr: 8.6826e-05\n",
            "Epoch 307/400\n",
            "64/64 [==============================] - 10s 162ms/step - loss: 1.7813e-04 - mae: 0.0137 - lr: 8.6826e-05\n",
            "Epoch 308/400\n",
            "64/64 [==============================] - 10s 163ms/step - loss: 1.8044e-04 - mae: 0.0139 - lr: 8.6826e-05\n",
            "Epoch 309/400\n",
            "64/64 [==============================] - 10s 162ms/step - loss: 1.7599e-04 - mae: 0.0135 - lr: 8.6826e-05\n",
            "Epoch 310/400\n",
            "64/64 [==============================] - 10s 163ms/step - loss: 1.8845e-04 - mae: 0.0141 - lr: 8.6826e-05\n",
            "Epoch 311/400\n",
            "64/64 [==============================] - 10s 163ms/step - loss: 1.9030e-04 - mae: 0.0142 - lr: 8.6826e-05\n",
            "Epoch 312/400\n",
            "64/64 [==============================] - 10s 162ms/step - loss: 1.9098e-04 - mae: 0.0143 - lr: 8.2485e-05\n",
            "Epoch 313/400\n",
            "64/64 [==============================] - 11s 165ms/step - loss: 1.8907e-04 - mae: 0.0141 - lr: 8.2485e-05\n",
            "Epoch 314/400\n",
            "64/64 [==============================] - 10s 163ms/step - loss: 1.9079e-04 - mae: 0.0143 - lr: 8.2485e-05\n",
            "Epoch 315/400\n",
            "64/64 [==============================] - 10s 163ms/step - loss: 1.8290e-04 - mae: 0.0139 - lr: 8.2485e-05\n",
            "Epoch 316/400\n",
            "64/64 [==============================] - 11s 164ms/step - loss: 1.9045e-04 - mae: 0.0139 - lr: 8.2485e-05\n",
            "Epoch 317/400\n",
            "64/64 [==============================] - 10s 163ms/step - loss: 1.8535e-04 - mae: 0.0138 - lr: 7.8360e-05\n",
            "Epoch 318/400\n",
            "64/64 [==============================] - 10s 163ms/step - loss: 1.7991e-04 - mae: 0.0136 - lr: 7.8360e-05\n",
            "Epoch 319/400\n",
            "64/64 [==============================] - 10s 163ms/step - loss: 1.7445e-04 - mae: 0.0137 - lr: 7.8360e-05\n",
            "Epoch 320/400\n",
            "64/64 [==============================] - 10s 163ms/step - loss: 1.8389e-04 - mae: 0.0140 - lr: 7.8360e-05\n",
            "Epoch 321/400\n",
            "64/64 [==============================] - 11s 164ms/step - loss: 1.8334e-04 - mae: 0.0138 - lr: 7.8360e-05\n",
            "Epoch 322/400\n",
            "64/64 [==============================] - 10s 162ms/step - loss: 1.9147e-04 - mae: 0.0142 - lr: 7.4442e-05\n",
            "Epoch 323/400\n",
            "64/64 [==============================] - 10s 162ms/step - loss: 1.8958e-04 - mae: 0.0141 - lr: 7.4442e-05\n",
            "Epoch 324/400\n",
            "64/64 [==============================] - 10s 162ms/step - loss: 1.8133e-04 - mae: 0.0139 - lr: 7.4442e-05\n",
            "Epoch 325/400\n",
            "64/64 [==============================] - 10s 162ms/step - loss: 1.7924e-04 - mae: 0.0136 - lr: 7.4442e-05\n",
            "Epoch 326/400\n",
            "64/64 [==============================] - 10s 163ms/step - loss: 1.8590e-04 - mae: 0.0139 - lr: 7.4442e-05\n",
            "Epoch 327/400\n",
            "64/64 [==============================] - 10s 162ms/step - loss: 1.8582e-04 - mae: 0.0139 - lr: 7.0720e-05\n",
            "Epoch 328/400\n",
            "64/64 [==============================] - 10s 163ms/step - loss: 1.8489e-04 - mae: 0.0140 - lr: 7.0720e-05\n",
            "Epoch 329/400\n",
            "64/64 [==============================] - 10s 163ms/step - loss: 1.8472e-04 - mae: 0.0139 - lr: 7.0720e-05\n",
            "Epoch 330/400\n",
            "64/64 [==============================] - 10s 163ms/step - loss: 1.8870e-04 - mae: 0.0141 - lr: 7.0720e-05\n",
            "Epoch 331/400\n",
            "64/64 [==============================] - 10s 163ms/step - loss: 1.8355e-04 - mae: 0.0139 - lr: 7.0720e-05\n",
            "Epoch 332/400\n",
            "64/64 [==============================] - 10s 163ms/step - loss: 1.8408e-04 - mae: 0.0138 - lr: 6.7184e-05\n",
            "Epoch 333/400\n",
            "64/64 [==============================] - 10s 163ms/step - loss: 1.8076e-04 - mae: 0.0136 - lr: 6.7184e-05\n",
            "Epoch 334/400\n",
            "64/64 [==============================] - 10s 162ms/step - loss: 1.7854e-04 - mae: 0.0137 - lr: 6.7184e-05\n",
            "Epoch 335/400\n",
            "64/64 [==============================] - 10s 163ms/step - loss: 1.8029e-04 - mae: 0.0137 - lr: 6.7184e-05\n",
            "Epoch 336/400\n",
            "64/64 [==============================] - 10s 163ms/step - loss: 1.8076e-04 - mae: 0.0136 - lr: 6.7184e-05\n",
            "Epoch 337/400\n",
            "64/64 [==============================] - 10s 163ms/step - loss: 1.8557e-04 - mae: 0.0138 - lr: 6.3825e-05\n",
            "Epoch 338/400\n",
            "64/64 [==============================] - 10s 163ms/step - loss: 1.7558e-04 - mae: 0.0135 - lr: 6.3825e-05\n",
            "Epoch 339/400\n",
            "64/64 [==============================] - 10s 162ms/step - loss: 1.8180e-04 - mae: 0.0138 - lr: 6.3825e-05\n",
            "Epoch 340/400\n",
            "64/64 [==============================] - 10s 163ms/step - loss: 1.7676e-04 - mae: 0.0136 - lr: 6.3825e-05\n",
            "Epoch 341/400\n",
            "64/64 [==============================] - 10s 162ms/step - loss: 1.7530e-04 - mae: 0.0135 - lr: 6.3825e-05\n",
            "Epoch 342/400\n",
            "64/64 [==============================] - 10s 162ms/step - loss: 1.8085e-04 - mae: 0.0137 - lr: 6.3825e-05\n",
            "Epoch 343/400\n",
            "64/64 [==============================] - 10s 163ms/step - loss: 1.7774e-04 - mae: 0.0137 - lr: 6.3825e-05\n",
            "Epoch 344/400\n",
            "64/64 [==============================] - 10s 163ms/step - loss: 1.7451e-04 - mae: 0.0135 - lr: 6.0634e-05\n",
            "Epoch 345/400\n",
            "64/64 [==============================] - 10s 163ms/step - loss: 1.8275e-04 - mae: 0.0137 - lr: 6.0634e-05\n",
            "Epoch 346/400\n",
            "64/64 [==============================] - 10s 163ms/step - loss: 1.7967e-04 - mae: 0.0138 - lr: 6.0634e-05\n",
            "Epoch 347/400\n",
            "64/64 [==============================] - 10s 162ms/step - loss: 1.7859e-04 - mae: 0.0137 - lr: 6.0634e-05\n",
            "Epoch 348/400\n",
            "64/64 [==============================] - 10s 163ms/step - loss: 1.8120e-04 - mae: 0.0138 - lr: 6.0634e-05\n",
            "Epoch 349/400\n",
            "64/64 [==============================] - 10s 162ms/step - loss: 1.6711e-04 - mae: 0.0132 - lr: 5.7602e-05\n",
            "Epoch 350/400\n",
            "64/64 [==============================] - 10s 163ms/step - loss: 1.8092e-04 - mae: 0.0138 - lr: 5.7602e-05\n",
            "Epoch 351/400\n",
            "64/64 [==============================] - 10s 162ms/step - loss: 1.7382e-04 - mae: 0.0135 - lr: 5.7602e-05\n",
            "Epoch 352/400\n",
            "64/64 [==============================] - 10s 162ms/step - loss: 1.7866e-04 - mae: 0.0137 - lr: 5.7602e-05\n",
            "Epoch 353/400\n",
            "64/64 [==============================] - 10s 162ms/step - loss: 1.7056e-04 - mae: 0.0134 - lr: 5.7602e-05\n",
            "Epoch 354/400\n",
            "64/64 [==============================] - 10s 163ms/step - loss: 1.7829e-04 - mae: 0.0136 - lr: 5.7602e-05\n",
            "Epoch 355/400\n",
            "64/64 [==============================] - 10s 162ms/step - loss: 1.7374e-04 - mae: 0.0136 - lr: 5.4722e-05\n",
            "Epoch 356/400\n",
            "64/64 [==============================] - 10s 162ms/step - loss: 1.7357e-04 - mae: 0.0134 - lr: 5.4722e-05\n",
            "Epoch 357/400\n",
            "64/64 [==============================] - 10s 162ms/step - loss: 1.7526e-04 - mae: 0.0136 - lr: 5.4722e-05\n",
            "Epoch 358/400\n",
            "64/64 [==============================] - 11s 164ms/step - loss: 1.7484e-04 - mae: 0.0136 - lr: 5.4722e-05\n",
            "Epoch 359/400\n",
            "64/64 [==============================] - 10s 163ms/step - loss: 1.8143e-04 - mae: 0.0137 - lr: 5.4722e-05\n",
            "Epoch 360/400\n",
            "64/64 [==============================] - 10s 162ms/step - loss: 1.7409e-04 - mae: 0.0136 - lr: 5.1986e-05\n",
            "Epoch 361/400\n",
            "64/64 [==============================] - 10s 162ms/step - loss: 1.7711e-04 - mae: 0.0137 - lr: 5.1986e-05\n",
            "Epoch 362/400\n",
            "64/64 [==============================] - 10s 162ms/step - loss: 1.7856e-04 - mae: 0.0137 - lr: 5.1986e-05\n",
            "Epoch 363/400\n",
            "64/64 [==============================] - 10s 162ms/step - loss: 1.7155e-04 - mae: 0.0134 - lr: 5.1986e-05\n",
            "Epoch 364/400\n",
            "64/64 [==============================] - 10s 163ms/step - loss: 1.7320e-04 - mae: 0.0134 - lr: 5.1986e-05\n",
            "Epoch 365/400\n",
            "64/64 [==============================] - 10s 163ms/step - loss: 1.7549e-04 - mae: 0.0135 - lr: 4.9387e-05\n",
            "Epoch 366/400\n",
            "64/64 [==============================] - 10s 162ms/step - loss: 1.8111e-04 - mae: 0.0137 - lr: 4.9387e-05\n",
            "Epoch 367/400\n",
            "64/64 [==============================] - 10s 162ms/step - loss: 1.7314e-04 - mae: 0.0135 - lr: 4.9387e-05\n",
            "Epoch 368/400\n",
            "64/64 [==============================] - 10s 162ms/step - loss: 1.7275e-04 - mae: 0.0135 - lr: 4.9387e-05\n",
            "Epoch 369/400\n",
            "64/64 [==============================] - 10s 162ms/step - loss: 1.7786e-04 - mae: 0.0137 - lr: 4.9387e-05\n",
            "Epoch 370/400\n",
            "64/64 [==============================] - 10s 162ms/step - loss: 1.7725e-04 - mae: 0.0137 - lr: 4.6917e-05\n",
            "Epoch 371/400\n",
            "64/64 [==============================] - 10s 161ms/step - loss: 1.7361e-04 - mae: 0.0135 - lr: 4.6917e-05\n",
            "Epoch 372/400\n",
            "64/64 [==============================] - 10s 161ms/step - loss: 1.7913e-04 - mae: 0.0137 - lr: 4.6917e-05\n",
            "Epoch 373/400\n",
            "64/64 [==============================] - 10s 161ms/step - loss: 1.7509e-04 - mae: 0.0135 - lr: 4.6917e-05\n",
            "Epoch 374/400\n",
            "64/64 [==============================] - 10s 161ms/step - loss: 1.8040e-04 - mae: 0.0136 - lr: 4.6917e-05\n",
            "Epoch 375/400\n",
            "64/64 [==============================] - 10s 162ms/step - loss: 1.6904e-04 - mae: 0.0133 - lr: 4.4571e-05\n",
            "Epoch 376/400\n",
            "64/64 [==============================] - 10s 162ms/step - loss: 1.6701e-04 - mae: 0.0133 - lr: 4.4571e-05\n",
            "Epoch 377/400\n",
            "64/64 [==============================] - 10s 161ms/step - loss: 1.7174e-04 - mae: 0.0134 - lr: 4.4571e-05\n",
            "Epoch 378/400\n",
            "64/64 [==============================] - 10s 162ms/step - loss: 1.6774e-04 - mae: 0.0134 - lr: 4.4571e-05\n",
            "Epoch 379/400\n",
            "64/64 [==============================] - 10s 161ms/step - loss: 1.6799e-04 - mae: 0.0132 - lr: 4.4571e-05\n",
            "Epoch 380/400\n",
            "64/64 [==============================] - 10s 162ms/step - loss: 1.7872e-04 - mae: 0.0136 - lr: 4.2343e-05\n",
            "Epoch 381/400\n",
            "64/64 [==============================] - 10s 162ms/step - loss: 1.6968e-04 - mae: 0.0134 - lr: 4.2343e-05\n",
            "Epoch 382/400\n",
            "64/64 [==============================] - 10s 162ms/step - loss: 1.7608e-04 - mae: 0.0135 - lr: 4.2343e-05\n",
            "Epoch 383/400\n",
            "64/64 [==============================] - 10s 161ms/step - loss: 1.7816e-04 - mae: 0.0137 - lr: 4.2343e-05\n",
            "Epoch 384/400\n",
            "64/64 [==============================] - 10s 162ms/step - loss: 1.7447e-04 - mae: 0.0135 - lr: 4.2343e-05\n",
            "Epoch 385/400\n",
            "64/64 [==============================] - 10s 162ms/step - loss: 1.7230e-04 - mae: 0.0134 - lr: 4.0226e-05\n",
            "Epoch 386/400\n",
            "64/64 [==============================] - 10s 163ms/step - loss: 1.7255e-04 - mae: 0.0135 - lr: 4.0226e-05\n",
            "Epoch 387/400\n",
            "64/64 [==============================] - 11s 164ms/step - loss: 1.6541e-04 - mae: 0.0133 - lr: 4.0226e-05\n",
            "Epoch 388/400\n",
            "64/64 [==============================] - 10s 163ms/step - loss: 1.7647e-04 - mae: 0.0135 - lr: 4.0226e-05\n",
            "Epoch 389/400\n",
            "64/64 [==============================] - 10s 162ms/step - loss: 1.7269e-04 - mae: 0.0134 - lr: 4.0226e-05\n",
            "Epoch 390/400\n",
            "64/64 [==============================] - 10s 162ms/step - loss: 1.6879e-04 - mae: 0.0132 - lr: 3.8214e-05\n",
            "Epoch 391/400\n",
            "64/64 [==============================] - 10s 162ms/step - loss: 1.6908e-04 - mae: 0.0134 - lr: 3.8214e-05\n",
            "Epoch 392/400\n",
            "64/64 [==============================] - 10s 162ms/step - loss: 1.7362e-04 - mae: 0.0135 - lr: 3.8214e-05\n",
            "Epoch 393/400\n",
            "64/64 [==============================] - 10s 162ms/step - loss: 1.6886e-04 - mae: 0.0133 - lr: 3.8214e-05\n",
            "Epoch 394/400\n",
            "64/64 [==============================] - 10s 162ms/step - loss: 1.6489e-04 - mae: 0.0131 - lr: 3.8214e-05\n",
            "Epoch 395/400\n",
            "64/64 [==============================] - 10s 162ms/step - loss: 1.6751e-04 - mae: 0.0132 - lr: 3.6304e-05\n",
            "Epoch 396/400\n",
            "64/64 [==============================] - 10s 161ms/step - loss: 1.7182e-04 - mae: 0.0135 - lr: 3.6304e-05\n",
            "Epoch 397/400\n",
            "64/64 [==============================] - 10s 161ms/step - loss: 1.7231e-04 - mae: 0.0135 - lr: 3.6304e-05\n",
            "Epoch 398/400\n",
            "64/64 [==============================] - 10s 162ms/step - loss: 1.6997e-04 - mae: 0.0132 - lr: 3.6304e-05\n",
            "Epoch 399/400\n",
            "64/64 [==============================] - 10s 162ms/step - loss: 1.6974e-04 - mae: 0.0133 - lr: 3.6304e-05\n",
            "Epoch 400/400\n",
            "64/64 [==============================] - 10s 162ms/step - loss: 1.7472e-04 - mae: 0.0134 - lr: 3.4489e-05\n"
          ]
        },
        {
          "output_type": "execute_result",
          "data": {
            "text/plain": [
              "<keras.callbacks.History at 0x7f8faa1618d0>"
            ]
          },
          "metadata": {},
          "execution_count": 55
        }
      ]
    },
    {
      "cell_type": "code",
      "source": [
        "print(capsnet_lstm.summary())"
      ],
      "metadata": {
        "colab": {
          "base_uri": "https://localhost:8080/"
        },
        "id": "Q4gWfSoNmuho",
        "outputId": "dba2f3a4-9293-4a93-ce53-4e2e020a45d6"
      },
      "execution_count": 62,
      "outputs": [
        {
          "output_type": "stream",
          "name": "stdout",
          "text": [
            "Model: \"capsnet_lstm\"\n",
            "_________________________________________________________________\n",
            " Layer (type)                Output Shape              Param #   \n",
            "=================================================================\n",
            " input_5 (InputLayer)        [(None, 250, 1)]          0         \n",
            "                                                                 \n",
            " conv1d_1 (Conv1D)           (None, 250, 256)          768       \n",
            "                                                                 \n",
            " conv1d_2 (Conv1D)           (None, 250, 512)          262656    \n",
            "                                                                 \n",
            " reshape_4 (Reshape)         (None, 250, 64, 8)        0         \n",
            "                                                                 \n",
            " lambda_4 (Lambda)           (None, 250, 64, 8)        0         \n",
            "                                                                 \n",
            " time_distributed_4 (TimeDis  (None, 250, 512)         262144    \n",
            " tributed)                                                       \n",
            "                                                                 \n",
            " lstm_4 (LSTM)               (None, 250)               763000    \n",
            "                                                                 \n",
            " dropout_4 (Dropout)         (None, 250)               0         \n",
            "                                                                 \n",
            " dense_12 (Dense)            (None, 40)                10040     \n",
            "                                                                 \n",
            " dense_13 (Dense)            (None, 20)                820       \n",
            "                                                                 \n",
            " dense_14 (Dense)            (None, 1)                 21        \n",
            "                                                                 \n",
            "=================================================================\n",
            "Total params: 1,299,449\n",
            "Trainable params: 1,299,449\n",
            "Non-trainable params: 0\n",
            "_________________________________________________________________\n",
            "None\n"
          ]
        }
      ]
    },
    {
      "cell_type": "markdown",
      "metadata": {
        "id": "69lcH5cAEnki"
      },
      "source": [
        "## Evaluating the forecast\n",
        "\n",
        "Now it is time to evaluate the performance of the forecast. For this we use the `compute_metrics` function:"
      ]
    },
    {
      "cell_type": "markdown",
      "metadata": {
        "id": "r7V0kTKHEnki"
      },
      "source": [
        "At this point only the model that will perform the forecast is ready but we still need to compute the actual forecast.\n",
        "\n"
      ]
    },
    {
      "cell_type": "markdown",
      "metadata": {
        "id": "rJtDyAD9Enkj"
      },
      "source": [
        "### Faster model forecasts\n",
        "\n",
        "\n",
        "- The dataset is windowed using `window_size` rather than `window_size + 1`\n",
        "- No shuffle should be used\n",
        "- No need to split the data into features and labels\n",
        "- A model is used to predict batches of the dataset"
      ]
    },
    {
      "cell_type": "markdown",
      "metadata": {
        "id": "kIyFlTEwEnkj"
      },
      "source": [
        "Now compute the actual forecast:"
      ]
    },
    {
      "cell_type": "code",
      "execution_count": 57,
      "metadata": {
        "id": "yEiYgYaA28PR"
      },
      "outputs": [],
      "source": [
        "# Compute the forecast for all the series\n",
        "capsnet_lstm_forecast = model_forecast(capsnet_lstm, series_norm, G.WINDOW_SIZE).squeeze()\n",
        "\n",
        "# Slice the forecast to get only the predictions for the validation set\n",
        "series_test_hat_capsnet_lstm = capsnet_lstm_forecast[-150:]\n",
        "\n",
        "# Reverse normalization\n",
        "series_test_hat_capsnet_lstm = reverse_normalization(series_test_hat_capsnet_lstm)"
      ]
    },
    {
      "cell_type": "code",
      "source": [
        "# Plot the forecast\n",
        "\n",
        "plt.figure(figsize=(10, 6))\n",
        "plot_series(np.arange( 1, len(time_test)+1 ), series_test)\n",
        "plot_series(np.arange( 1, len(time_test)+1 ), series_test_hat_capsnet_lstm)\n",
        "plt.ylabel(\"Index Value\")\n",
        "plt.xlabel(\"Time Step\")\n",
        "legend_drawn_flag = True\n",
        "plt.legend([\"Original Value (Nikkei225)\", \"Predicted Value (Nikkei225)\"], loc=0, frameon=legend_drawn_flag)\n",
        "plt.savefig(\"/content/gdrive/MyDrive/Forecasting_results/capsnet_lstm_forecasts_N225.svg\")"
      ],
      "metadata": {
        "colab": {
          "base_uri": "https://localhost:8080/",
          "height": 388
        },
        "id": "SmSKga7VAAKf",
        "outputId": "6c86b01a-0cc8-4a56-c924-11930b768409"
      },
      "execution_count": 58,
      "outputs": [
        {
          "output_type": "display_data",
          "data": {
            "text/plain": [
              "<Figure size 720x432 with 1 Axes>"
            ],
            "image/png": "[encoded data removed]"
          },
          "metadata": {
            "needs_background": "light"
          }
        }
      ]
    },
    {
      "cell_type": "code",
      "execution_count": 59,
      "metadata": {
        "id": "OmelEr6a3I70",
        "colab": {
          "base_uri": "https://localhost:8080/"
        },
        "outputId": "37d46289-49fd-4fed-dd87-1e76f9c0ed97"
      },
      "outputs": [
        {
          "output_type": "stream",
          "name": "stdout",
          "text": [
            "rmse: 57.99, mae: 50.94 , mape: 0.23 for forecast\n"
          ]
        }
      ],
      "source": [
        "rmse_capsnet_lstm, mae_capsnet_lstm, mape_capsnet_lstm= compute_metrics(series_test, series_test_hat_capsnet_lstm)\n",
        "\n",
        "print(f\"rmse: {rmse_capsnet_lstm:.2f}, mae: {mae_capsnet_lstm:.2f} , mape: {mape_capsnet_lstm:.2f} for forecast\")"
      ]
    },
    {
      "cell_type": "code",
      "source": [
        "# Save model\n",
        "\n",
        "capsnet_lstm.save('/content/gdrive/MyDrive/Saved_models/capsnet_lstm_N225.h5')"
      ],
      "metadata": {
        "id": "31KC2l1EEpTk"
      },
      "execution_count": 63,
      "outputs": []
    },
    {
      "cell_type": "code",
      "source": [
        "capsnet_lstm.save_weights('/content/gdrive/MyDrive/Saved_models/capsnet_lstm_N225_weights.h5', overwrite=True, save_format=None, options=None)"
      ],
      "metadata": {
        "id": "oI_ZlBK1vcob"
      },
      "execution_count": 64,
      "outputs": []
    },
    {
      "cell_type": "markdown",
      "source": [
        "### Load the saved model\n",
        "Direct loading the saved model encounters issues. On this occasion, we first rebuild the proposed model using the optimal hyper-parameters, then load the saved weights to this model."
      ],
      "metadata": {
        "id": "J3Lje6VBQbDU"
      }
    },
    {
      "cell_type": "code",
      "source": [
        "def CapsNet_LSTM():\n",
        "   \n",
        "    input = tf.keras.layers.Input(shape=input_shape)\n",
        "      \n",
        "    # First layer\n",
        "    conv1d_1 = tf.keras.layers.Conv1D(filters=256, kernel_size=2, strides=1, padding='causal', activation='relu', name = 'conv1d_1')(input)\n",
        "          \n",
        "    # Primary caps\n",
        "    conv1d_2 = tf.keras.layers.Conv1D(filters=512, kernel_size=2, strides=1, padding='causal',name = 'conv1d_2')(conv1d_1)\n",
        "\n",
        "    unsquashed_caps = tf.keras.layers.Reshape((G.WINDOW_SIZE, 64, 8))(conv1d_2)\n",
        "    squashed_caps = tf.keras.layers.Lambda(squash)(unsquashed_caps)\n",
        "\n",
        "    # Digit caps\n",
        "     \n",
        "    digit_caps = tf.keras.layers.TimeDistributed(Routing(dim_capsule = 512, routings = 3))(squashed_caps)\n",
        "\n",
        "    # LSTM layer\n",
        "    lstm = tf.keras.layers.LSTM(250)(digit_caps)\n",
        "\n",
        "    # Dropout  \n",
        "    dropout = tf.keras.layers.Dropout(0.30000000000000004)(lstm)\n",
        "\n",
        "    # Dense layer\n",
        "    dense1 = tf.keras.layers.Dense(40, activation=\"relu\")(dropout)\n",
        "    dense2 = tf.keras.layers.Dense(20, activation=\"relu\")(dense1)\n",
        "    output = tf.keras.layers.Dense(1)(dense2)\n",
        "\n",
        "    model = keras.Model(inputs=input, outputs=output, name=\"capsnet_lstm\")\n",
        "\n",
        "    learning_rate = 0.0007880149255876653\n",
        "    model.compile(\n",
        "        optimizer=tf.keras.optimizers.Adam(learning_rate = learning_rate),\n",
        "        loss=tf.keras.losses.Huber(),\n",
        "        metrics=[\"mae\"])\n",
        "\n",
        "    return model"
      ],
      "metadata": {
        "id": "vS-Edek3WXrs"
      },
      "execution_count": 65,
      "outputs": []
    },
    {
      "cell_type": "code",
      "source": [
        "saved_capsnet_lstm = CapsNet_LSTM()"
      ],
      "metadata": {
        "id": "0urUg_MrvtRi"
      },
      "execution_count": 66,
      "outputs": []
    },
    {
      "cell_type": "code",
      "source": [
        "print(saved_capsnet_lstm.summary())"
      ],
      "metadata": {
        "colab": {
          "base_uri": "https://localhost:8080/"
        },
        "id": "AEcAj7eDZdoW",
        "outputId": "3487523b-581d-4c15-97a9-446f18071b64"
      },
      "execution_count": 67,
      "outputs": [
        {
          "output_type": "stream",
          "name": "stdout",
          "text": [
            "Model: \"capsnet_lstm\"\n",
            "_________________________________________________________________\n",
            " Layer (type)                Output Shape              Param #   \n",
            "=================================================================\n",
            " input_6 (InputLayer)        [(None, 250, 1)]          0         \n",
            "                                                                 \n",
            " conv1d_1 (Conv1D)           (None, 250, 256)          768       \n",
            "                                                                 \n",
            " conv1d_2 (Conv1D)           (None, 250, 512)          262656    \n",
            "                                                                 \n",
            " reshape_5 (Reshape)         (None, 250, 64, 8)        0         \n",
            "                                                                 \n",
            " lambda_5 (Lambda)           (None, 250, 64, 8)        0         \n",
            "                                                                 \n",
            " time_distributed_5 (TimeDis  (None, 250, 512)         262144    \n",
            " tributed)                                                       \n",
            "                                                                 \n",
            " lstm_5 (LSTM)               (None, 250)               763000    \n",
            "                                                                 \n",
            " dropout_5 (Dropout)         (None, 250)               0         \n",
            "                                                                 \n",
            " dense_15 (Dense)            (None, 40)                10040     \n",
            "                                                                 \n",
            " dense_16 (Dense)            (None, 20)                820       \n",
            "                                                                 \n",
            " dense_17 (Dense)            (None, 1)                 21        \n",
            "                                                                 \n",
            "=================================================================\n",
            "Total params: 1,299,449\n",
            "Trainable params: 1,299,449\n",
            "Non-trainable params: 0\n",
            "_________________________________________________________________\n",
            "None\n"
          ]
        }
      ]
    },
    {
      "cell_type": "code",
      "source": [
        "# Load the saved weights\n",
        "saved_capsnet_lstm.load_weights('/content/gdrive/MyDrive/Saved_models/capsnet_lstm_N225_weights.h5')"
      ],
      "metadata": {
        "id": "e_NQYzBHXjOE"
      },
      "execution_count": 68,
      "outputs": []
    },
    {
      "cell_type": "code",
      "source": [
        "# Compute the forecast for all the series\n",
        "saved_capsnet_lstm_forecast = model_forecast(saved_capsnet_lstm, series_norm, G.WINDOW_SIZE).squeeze()\n",
        "\n",
        "# Slice the forecast to get only the predictions for the test set\n",
        "series_test_hat_saved_capsnet_lstm = saved_capsnet_lstm_forecast[-150:]\n",
        "series_test_hat_saved_capsnet_lstm = reverse_normalization(series_test_hat_saved_capsnet_lstm)"
      ],
      "metadata": {
        "id": "Et87GoahZgr0"
      },
      "execution_count": 69,
      "outputs": []
    },
    {
      "cell_type": "code",
      "source": [
        "# Plot the forecast\n",
        "\n",
        "plt.figure(figsize=(10, 6))\n",
        "plot_series(np.arange( 1, len(time_test)+1 ), series_test)\n",
        "plot_series(np.arange( 1, len(time_test)+1 ), series_test_hat_saved_capsnet_lstm)\n",
        "plt.ylabel(\"Index Value\")\n",
        "plt.xlabel(\"Time Step\")\n",
        "legend_drawn_flag = True\n",
        "plt.legend([\"Original Value (DJIA)\", \"Predicted Value (DJIA)\"], loc=0, frameon=legend_drawn_flag)\n",
        "plt.savefig(\"/content/gdrive/MyDrive/Forecasting_results/saved_capsnet_lstm_forecasts.svg\")"
      ],
      "metadata": {
        "colab": {
          "base_uri": "https://localhost:8080/",
          "height": 388
        },
        "id": "DOCvrIDTZj0t",
        "outputId": "27cf801f-364e-4524-de5f-77640f7b78b4"
      },
      "execution_count": 70,
      "outputs": [
        {
          "output_type": "display_data",
          "data": {
            "text/plain": [
              "<Figure size 720x432 with 1 Axes>"
            ],
            "image/png": "[encoded data removed]"
          },
          "metadata": {
            "needs_background": "light"
          }
        }
      ]
    },
    {
      "cell_type": "code",
      "source": [
        "rmse_saved_capsnet_lstm, mae_saved_capsnet_lstm, mape_saved_capsnet_lstm= compute_metrics(series_test, series_test_hat_saved_capsnet_lstm)\n",
        "\n",
        "print(f\"rmse: {rmse_saved_capsnet_lstm:.2f}, mae: {mae_saved_capsnet_lstm:.2f} , mape: {mape_saved_capsnet_lstm:.2f} for forecast\")"
      ],
      "metadata": {
        "colab": {
          "base_uri": "https://localhost:8080/"
        },
        "id": "Qg_xuBMZaGaN",
        "outputId": "15bdede3-9e0a-4812-d3fe-63def57ac941"
      },
      "execution_count": 71,
      "outputs": [
        {
          "output_type": "stream",
          "name": "stdout",
          "text": [
            "rmse: 51.34, mae: 49.11 , mape: 0.23 for forecast\n"
          ]
        }
      ]
    },
    {
      "cell_type": "markdown",
      "source": [
        "## Baseline (LSTM, CNN-LSTM)"
      ],
      "metadata": {
        "id": "og2vNXLVgOeC"
      }
    },
    {
      "cell_type": "markdown",
      "source": [
        "### LSTM"
      ],
      "metadata": {
        "id": "DTXrC28w_ZGT"
      }
    },
    {
      "cell_type": "code",
      "execution_count": 59,
      "metadata": {
        "id": "Sc6pU_kiEnkg"
      },
      "outputs": [],
      "source": [
        "def build_LSTM(hp):\n",
        "   \n",
        "    model = tf.keras.models.Sequential([\n",
        "          tf.keras.layers.LSTM(hp.Int('lstm_units', 100, 300, 50), input_shape=[G.WINDOW_SIZE, 1]),\n",
        "          tf.keras.layers.Dense(hp.Int('dense1_units', 20, 50, 10), activation=\"relu\"),\n",
        "          tf.keras.layers.Dense(hp.Int('dense2_units', 5, 20, 5), activation=\"relu\"),\n",
        "          tf.keras.layers.Dense(1)\n",
        "    ])\n",
        "    learning_rate = hp.Float(\"lr\", min_value=1e-4, max_value=1e-2, sampling=\"log\")\n",
        "    model.compile(\n",
        "        optimizer=tf.keras.optimizers.Adam(learning_rate=learning_rate),\n",
        "        loss=tf.keras.losses.Huber(),\n",
        "        metrics=[\"mae\"])\n",
        "\n",
        "    return model"
      ]
    },
    {
      "cell_type": "code",
      "source": [
        "build_LSTM(keras_tuner.HyperParameters())\n",
        "\n",
        "tuner_lstm = keras_tuner.Hyperband(\n",
        "    hypermodel=build_LSTM,\n",
        "    objective=\"val_mae\",\n",
        "    max_epochs=50,\n",
        "    factor=3,\n",
        "    hyperband_iterations=1,\n",
        "    distribution_strategy=strategy,\n",
        "    seed = 1,\n",
        "    directory='/content/gdrive/MyDrive/Tuner',\n",
        "    project_name=\"lstm_N225\",\n",
        "    overwrite=True)\n",
        "\n",
        "tuner_lstm.search(train_set, epochs=50, validation_data=val_set,callbacks=[stop_early])\n",
        "\n",
        "tuner_lstm.results_summary()\n",
        "\n",
        "# Get the top 5 hyperparameters.\n",
        "best_hps_lstm = tuner_lstm.get_best_hyperparameters(5)\n",
        "\n"
      ],
      "metadata": {
        "id": "JQ5JlaaZ8dD_",
        "colab": {
          "base_uri": "https://localhost:8080/"
        },
        "outputId": "676cfc44-6900-488c-b078-03b68e027cf9"
      },
      "execution_count": 60,
      "outputs": [
        {
          "output_type": "stream",
          "name": "stdout",
          "text": [
            "Trial 90 Complete [00h 00m 31s]\n",
            "val_mae: 0.056458719074726105\n",
            "\n",
            "Best val_mae So Far: 0.01953982003033161\n",
            "Total elapsed time: 00h 45m 27s\n",
            "Results summary\n",
            "Results in /content/gdrive/MyDrive/Tuner/lstm_N225\n",
            "Showing 10 best trials\n",
            "<keras_tuner.engine.objective.Objective object at 0x7f43c52342d0>\n",
            "Trial summary\n",
            "Hyperparameters:\n",
            "lstm_units: 300\n",
            "dense1_units: 30\n",
            "dense2_units: 15\n",
            "lr: 0.0009452767099282696\n",
            "tuner/epochs: 50\n",
            "tuner/initial_epoch: 17\n",
            "tuner/bracket: 2\n",
            "tuner/round: 2\n",
            "tuner/trial_id: 0068\n",
            "Score: 0.01953982003033161\n",
            "Trial summary\n",
            "Hyperparameters:\n",
            "lstm_units: 250\n",
            "dense1_units: 30\n",
            "dense2_units: 10\n",
            "lr: 0.002220709089529535\n",
            "tuner/epochs: 50\n",
            "tuner/initial_epoch: 0\n",
            "tuner/bracket: 0\n",
            "tuner/round: 0\n",
            "Score: 0.019567444920539856\n",
            "Trial summary\n",
            "Hyperparameters:\n",
            "lstm_units: 200\n",
            "dense1_units: 40\n",
            "dense2_units: 20\n",
            "lr: 0.0007880149255876653\n",
            "tuner/epochs: 50\n",
            "tuner/initial_epoch: 17\n",
            "tuner/bracket: 2\n",
            "tuner/round: 2\n",
            "tuner/trial_id: 0067\n",
            "Score: 0.020437434315681458\n",
            "Trial summary\n",
            "Hyperparameters:\n",
            "lstm_units: 200\n",
            "dense1_units: 40\n",
            "dense2_units: 20\n",
            "lr: 0.0007880149255876653\n",
            "tuner/epochs: 6\n",
            "tuner/initial_epoch: 0\n",
            "tuner/bracket: 2\n",
            "tuner/round: 0\n",
            "Score: 0.020733622834086418\n",
            "Trial summary\n",
            "Hyperparameters:\n",
            "lstm_units: 300\n",
            "dense1_units: 30\n",
            "dense2_units: 15\n",
            "lr: 0.0009452767099282696\n",
            "tuner/epochs: 17\n",
            "tuner/initial_epoch: 6\n",
            "tuner/bracket: 2\n",
            "tuner/round: 1\n",
            "tuner/trial_id: 0056\n",
            "Score: 0.02105565555393696\n",
            "Trial summary\n",
            "Hyperparameters:\n",
            "lstm_units: 100\n",
            "dense1_units: 40\n",
            "dense2_units: 5\n",
            "lr: 0.0006220323522895685\n",
            "tuner/epochs: 50\n",
            "tuner/initial_epoch: 17\n",
            "tuner/bracket: 1\n",
            "tuner/round: 1\n",
            "tuner/trial_id: 0075\n",
            "Score: 0.021333860233426094\n",
            "Trial summary\n",
            "Hyperparameters:\n",
            "lstm_units: 300\n",
            "dense1_units: 30\n",
            "dense2_units: 15\n",
            "lr: 0.0009452767099282696\n",
            "tuner/epochs: 6\n",
            "tuner/initial_epoch: 0\n",
            "tuner/bracket: 2\n",
            "tuner/round: 0\n",
            "Score: 0.022919844835996628\n",
            "Trial summary\n",
            "Hyperparameters:\n",
            "lstm_units: 200\n",
            "dense1_units: 30\n",
            "dense2_units: 15\n",
            "lr: 0.0006201914963139159\n",
            "tuner/epochs: 17\n",
            "tuner/initial_epoch: 0\n",
            "tuner/bracket: 1\n",
            "tuner/round: 0\n",
            "Score: 0.023194948211312294\n",
            "Trial summary\n",
            "Hyperparameters:\n",
            "lstm_units: 300\n",
            "dense1_units: 40\n",
            "dense2_units: 15\n",
            "lr: 0.0005510469719519641\n",
            "tuner/epochs: 17\n",
            "tuner/initial_epoch: 6\n",
            "tuner/bracket: 3\n",
            "tuner/round: 2\n",
            "tuner/trial_id: 0037\n",
            "Score: 0.023626074194908142\n",
            "Trial summary\n",
            "Hyperparameters:\n",
            "lstm_units: 250\n",
            "dense1_units: 20\n",
            "dense2_units: 15\n",
            "lr: 0.0006412147567706919\n",
            "tuner/epochs: 6\n",
            "tuner/initial_epoch: 0\n",
            "tuner/bracket: 2\n",
            "tuner/round: 0\n",
            "Score: 0.02379542402923107\n"
          ]
        }
      ]
    },
    {
      "cell_type": "code",
      "source": [
        "# Build the model with the best hp.\n",
        "with strategy.scope():\n",
        "  lstm = build_LSTM(best_hps_lstm[0])\n",
        "# Fit with the entire dataset.\n",
        "lstm.fit(train_val_set, epochs=200, callbacks = [reduce_lr])"
      ],
      "metadata": {
        "id": "VveQt5UllpUD",
        "colab": {
          "base_uri": "https://localhost:8080/"
        },
        "outputId": "0869b8bb-bbd4-4b1b-f5a9-00f8227a1ffc"
      },
      "execution_count": 61,
      "outputs": [
        {
          "output_type": "stream",
          "name": "stdout",
          "text": [
            "Epoch 1/200\n",
            "64/64 [==============================] - 8s 37ms/step - loss: 0.0020 - mae: 0.0492 - lr: 9.4528e-04\n",
            "Epoch 2/200\n",
            "64/64 [==============================] - 2s 33ms/step - loss: 0.0026 - mae: 0.0556 - lr: 9.4528e-04\n",
            "Epoch 3/200\n",
            "64/64 [==============================] - 2s 33ms/step - loss: 0.0027 - mae: 0.0563 - lr: 9.4528e-04\n",
            "Epoch 4/200\n",
            "64/64 [==============================] - 2s 34ms/step - loss: 0.0025 - mae: 0.0570 - lr: 9.4528e-04\n",
            "Epoch 5/200\n",
            "64/64 [==============================] - 2s 33ms/step - loss: 0.0014 - mae: 0.0437 - lr: 9.4528e-04\n",
            "Epoch 6/200\n",
            "64/64 [==============================] - 2s 33ms/step - loss: 6.0287e-04 - mae: 0.0276 - lr: 9.4528e-04\n",
            "Epoch 7/200\n",
            "64/64 [==============================] - 2s 33ms/step - loss: 4.6249e-04 - mae: 0.0239 - lr: 9.4528e-04\n",
            "Epoch 8/200\n",
            "64/64 [==============================] - 2s 33ms/step - loss: 4.0314e-04 - mae: 0.0222 - lr: 9.4528e-04\n",
            "Epoch 9/200\n",
            "64/64 [==============================] - 2s 33ms/step - loss: 3.4180e-04 - mae: 0.0203 - lr: 9.4528e-04\n",
            "Epoch 10/200\n",
            "64/64 [==============================] - 2s 33ms/step - loss: 3.0206e-04 - mae: 0.0187 - lr: 9.4528e-04\n",
            "Epoch 11/200\n",
            "64/64 [==============================] - 2s 33ms/step - loss: 3.0901e-04 - mae: 0.0190 - lr: 9.4528e-04\n",
            "Epoch 12/200\n",
            "64/64 [==============================] - 2s 33ms/step - loss: 3.1636e-04 - mae: 0.0194 - lr: 9.4528e-04\n",
            "Epoch 13/200\n",
            "64/64 [==============================] - 2s 33ms/step - loss: 3.3927e-04 - mae: 0.0203 - lr: 9.4528e-04\n",
            "Epoch 14/200\n",
            "64/64 [==============================] - 2s 33ms/step - loss: 3.7314e-04 - mae: 0.0215 - lr: 9.4528e-04\n",
            "Epoch 15/200\n",
            "64/64 [==============================] - 2s 33ms/step - loss: 4.5339e-04 - mae: 0.0242 - lr: 9.4528e-04\n",
            "Epoch 16/200\n",
            "64/64 [==============================] - 2s 33ms/step - loss: 4.8768e-04 - mae: 0.0253 - lr: 8.5075e-04\n",
            "Epoch 17/200\n",
            "64/64 [==============================] - 2s 33ms/step - loss: 2.9527e-04 - mae: 0.0189 - lr: 8.5075e-04\n",
            "Epoch 18/200\n",
            "64/64 [==============================] - 2s 33ms/step - loss: 2.5743e-04 - mae: 0.0171 - lr: 8.5075e-04\n",
            "Epoch 19/200\n",
            "64/64 [==============================] - 2s 33ms/step - loss: 2.6364e-04 - mae: 0.0173 - lr: 8.5075e-04\n",
            "Epoch 20/200\n",
            "64/64 [==============================] - 2s 33ms/step - loss: 2.7841e-04 - mae: 0.0181 - lr: 8.5075e-04\n",
            "Epoch 21/200\n",
            "64/64 [==============================] - 2s 32ms/step - loss: 3.0984e-04 - mae: 0.0195 - lr: 8.5075e-04\n",
            "Epoch 22/200\n",
            "64/64 [==============================] - 2s 33ms/step - loss: 3.3970e-04 - mae: 0.0207 - lr: 8.5075e-04\n",
            "Epoch 23/200\n",
            "64/64 [==============================] - 2s 33ms/step - loss: 3.6885e-04 - mae: 0.0218 - lr: 8.5075e-04\n",
            "Epoch 24/200\n",
            "64/64 [==============================] - 2s 33ms/step - loss: 3.5270e-04 - mae: 0.0213 - lr: 7.6567e-04\n",
            "Epoch 25/200\n",
            "64/64 [==============================] - 2s 33ms/step - loss: 2.6550e-04 - mae: 0.0179 - lr: 7.6567e-04\n",
            "Epoch 26/200\n",
            "64/64 [==============================] - 2s 33ms/step - loss: 2.3405e-04 - mae: 0.0164 - lr: 7.6567e-04\n",
            "Epoch 27/200\n",
            "64/64 [==============================] - 2s 33ms/step - loss: 2.3115e-04 - mae: 0.0162 - lr: 7.6567e-04\n",
            "Epoch 28/200\n",
            "64/64 [==============================] - 2s 33ms/step - loss: 2.4108e-04 - mae: 0.0167 - lr: 7.6567e-04\n",
            "Epoch 29/200\n",
            "64/64 [==============================] - 2s 33ms/step - loss: 2.4572e-04 - mae: 0.0171 - lr: 7.6567e-04\n",
            "Epoch 30/200\n",
            "64/64 [==============================] - 2s 33ms/step - loss: 2.5352e-04 - mae: 0.0175 - lr: 7.6567e-04\n",
            "Epoch 31/200\n",
            "64/64 [==============================] - 2s 33ms/step - loss: 2.6014e-04 - mae: 0.0178 - lr: 7.6567e-04\n",
            "Epoch 32/200\n",
            "64/64 [==============================] - 2s 33ms/step - loss: 2.7470e-04 - mae: 0.0185 - lr: 7.6567e-04\n",
            "Epoch 33/200\n",
            "64/64 [==============================] - 2s 33ms/step - loss: 3.0147e-04 - mae: 0.0195 - lr: 6.8911e-04\n",
            "Epoch 34/200\n",
            "64/64 [==============================] - 2s 33ms/step - loss: 2.8490e-04 - mae: 0.0188 - lr: 6.8911e-04\n",
            "Epoch 35/200\n",
            "64/64 [==============================] - 2s 33ms/step - loss: 2.6108e-04 - mae: 0.0179 - lr: 6.8911e-04\n",
            "Epoch 36/200\n",
            "64/64 [==============================] - 2s 33ms/step - loss: 2.5180e-04 - mae: 0.0175 - lr: 6.8911e-04\n",
            "Epoch 37/200\n",
            "64/64 [==============================] - 2s 33ms/step - loss: 2.3795e-04 - mae: 0.0169 - lr: 6.8911e-04\n",
            "Epoch 38/200\n",
            "64/64 [==============================] - 2s 33ms/step - loss: 2.3505e-04 - mae: 0.0167 - lr: 6.2020e-04\n",
            "Epoch 39/200\n",
            "64/64 [==============================] - 2s 34ms/step - loss: 2.3785e-04 - mae: 0.0165 - lr: 6.2020e-04\n",
            "Epoch 40/200\n",
            "64/64 [==============================] - 2s 33ms/step - loss: 2.6322e-04 - mae: 0.0176 - lr: 6.2020e-04\n",
            "Epoch 41/200\n",
            "64/64 [==============================] - 2s 33ms/step - loss: 3.3435e-04 - mae: 0.0201 - lr: 6.2020e-04\n",
            "Epoch 42/200\n",
            "64/64 [==============================] - 2s 33ms/step - loss: 5.0020e-04 - mae: 0.0253 - lr: 6.2020e-04\n",
            "Epoch 43/200\n",
            "64/64 [==============================] - 2s 33ms/step - loss: 6.8097e-04 - mae: 0.0302 - lr: 5.5818e-04\n",
            "Epoch 44/200\n",
            "64/64 [==============================] - 2s 33ms/step - loss: 9.2480e-04 - mae: 0.0352 - lr: 5.5818e-04\n",
            "Epoch 45/200\n",
            "64/64 [==============================] - 2s 33ms/step - loss: 0.0014 - mae: 0.0417 - lr: 5.5818e-04\n",
            "Epoch 46/200\n",
            "64/64 [==============================] - 2s 33ms/step - loss: 0.0021 - mae: 0.0507 - lr: 5.5818e-04\n",
            "Epoch 47/200\n",
            "64/64 [==============================] - 2s 33ms/step - loss: 0.0037 - mae: 0.0568 - lr: 5.5818e-04\n",
            "Epoch 48/200\n",
            "64/64 [==============================] - 2s 33ms/step - loss: 0.0015 - mae: 0.0449 - lr: 5.0236e-04\n",
            "Epoch 49/200\n",
            "64/64 [==============================] - 2s 34ms/step - loss: 0.0011 - mae: 0.0401 - lr: 5.0236e-04\n",
            "Epoch 50/200\n",
            "64/64 [==============================] - 2s 33ms/step - loss: 7.5556e-04 - mae: 0.0320 - lr: 5.0236e-04\n",
            "Epoch 51/200\n",
            "64/64 [==============================] - 2s 33ms/step - loss: 5.3821e-04 - mae: 0.0255 - lr: 5.0236e-04\n",
            "Epoch 52/200\n",
            "64/64 [==============================] - 2s 33ms/step - loss: 4.5978e-04 - mae: 0.0230 - lr: 5.0236e-04\n",
            "Epoch 53/200\n",
            "64/64 [==============================] - 2s 33ms/step - loss: 3.9879e-04 - mae: 0.0213 - lr: 4.5212e-04\n",
            "Epoch 54/200\n",
            "64/64 [==============================] - 2s 33ms/step - loss: 3.3090e-04 - mae: 0.0195 - lr: 4.5212e-04\n",
            "Epoch 55/200\n",
            "64/64 [==============================] - 2s 33ms/step - loss: 3.1801e-04 - mae: 0.0192 - lr: 4.5212e-04\n",
            "Epoch 56/200\n",
            "64/64 [==============================] - 2s 34ms/step - loss: 2.9552e-04 - mae: 0.0183 - lr: 4.5212e-04\n",
            "Epoch 57/200\n",
            "64/64 [==============================] - 2s 33ms/step - loss: 2.6125e-04 - mae: 0.0171 - lr: 4.5212e-04\n",
            "Epoch 58/200\n",
            "64/64 [==============================] - 2s 32ms/step - loss: 2.3704e-04 - mae: 0.0161 - lr: 4.0691e-04\n",
            "Epoch 59/200\n",
            "64/64 [==============================] - 2s 33ms/step - loss: 2.1666e-04 - mae: 0.0153 - lr: 4.0691e-04\n",
            "Epoch 60/200\n",
            "64/64 [==============================] - 2s 33ms/step - loss: 1.9403e-04 - mae: 0.0143 - lr: 4.0691e-04\n",
            "Epoch 61/200\n",
            "64/64 [==============================] - 2s 33ms/step - loss: 1.9121e-04 - mae: 0.0142 - lr: 4.0691e-04\n",
            "Epoch 62/200\n",
            "64/64 [==============================] - 2s 33ms/step - loss: 1.9843e-04 - mae: 0.0144 - lr: 4.0691e-04\n",
            "Epoch 63/200\n",
            "64/64 [==============================] - 2s 33ms/step - loss: 2.0624e-04 - mae: 0.0147 - lr: 4.0691e-04\n",
            "Epoch 64/200\n",
            "64/64 [==============================] - 2s 33ms/step - loss: 2.1324e-04 - mae: 0.0150 - lr: 4.0691e-04\n",
            "Epoch 65/200\n",
            "64/64 [==============================] - 2s 33ms/step - loss: 2.2954e-04 - mae: 0.0157 - lr: 4.0691e-04\n",
            "Epoch 66/200\n",
            "64/64 [==============================] - 2s 34ms/step - loss: 2.3598e-04 - mae: 0.0160 - lr: 4.0691e-04\n",
            "Epoch 67/200\n",
            "64/64 [==============================] - 2s 33ms/step - loss: 2.5685e-04 - mae: 0.0169 - lr: 3.6622e-04\n",
            "Epoch 68/200\n",
            "64/64 [==============================] - 2s 33ms/step - loss: 2.4131e-04 - mae: 0.0162 - lr: 3.6622e-04\n",
            "Epoch 69/200\n",
            "64/64 [==============================] - 2s 34ms/step - loss: 2.4562e-04 - mae: 0.0164 - lr: 3.6622e-04\n",
            "Epoch 70/200\n",
            "64/64 [==============================] - 2s 33ms/step - loss: 2.5016e-04 - mae: 0.0166 - lr: 3.6622e-04\n",
            "Epoch 71/200\n",
            "64/64 [==============================] - 2s 33ms/step - loss: 2.6175e-04 - mae: 0.0171 - lr: 3.6622e-04\n",
            "Epoch 72/200\n",
            "64/64 [==============================] - 2s 34ms/step - loss: 2.6284e-04 - mae: 0.0171 - lr: 3.2960e-04\n",
            "Epoch 73/200\n",
            "64/64 [==============================] - 2s 34ms/step - loss: 2.4678e-04 - mae: 0.0165 - lr: 3.2960e-04\n",
            "Epoch 74/200\n",
            "64/64 [==============================] - 2s 33ms/step - loss: 2.2284e-04 - mae: 0.0155 - lr: 3.2960e-04\n",
            "Epoch 75/200\n",
            "64/64 [==============================] - 2s 33ms/step - loss: 2.4429e-04 - mae: 0.0163 - lr: 3.2960e-04\n",
            "Epoch 76/200\n",
            "64/64 [==============================] - 2s 33ms/step - loss: 2.2862e-04 - mae: 0.0157 - lr: 3.2960e-04\n",
            "Epoch 77/200\n",
            "64/64 [==============================] - 2s 33ms/step - loss: 2.4793e-04 - mae: 0.0165 - lr: 2.9664e-04\n",
            "Epoch 78/200\n",
            "64/64 [==============================] - 2s 33ms/step - loss: 2.2216e-04 - mae: 0.0154 - lr: 2.9664e-04\n",
            "Epoch 79/200\n",
            "64/64 [==============================] - 2s 33ms/step - loss: 2.1721e-04 - mae: 0.0152 - lr: 2.9664e-04\n",
            "Epoch 80/200\n",
            "64/64 [==============================] - 2s 32ms/step - loss: 2.1274e-04 - mae: 0.0150 - lr: 2.9664e-04\n",
            "Epoch 81/200\n",
            "64/64 [==============================] - 2s 33ms/step - loss: 2.2242e-04 - mae: 0.0154 - lr: 2.9664e-04\n",
            "Epoch 82/200\n",
            "64/64 [==============================] - 2s 33ms/step - loss: 2.1030e-04 - mae: 0.0149 - lr: 2.6697e-04\n",
            "Epoch 83/200\n",
            "64/64 [==============================] - 2s 33ms/step - loss: 2.0867e-04 - mae: 0.0148 - lr: 2.6697e-04\n",
            "Epoch 84/200\n",
            "64/64 [==============================] - 2s 34ms/step - loss: 2.0124e-04 - mae: 0.0145 - lr: 2.6697e-04\n",
            "Epoch 85/200\n",
            "64/64 [==============================] - 2s 33ms/step - loss: 2.0489e-04 - mae: 0.0146 - lr: 2.6697e-04\n",
            "Epoch 86/200\n",
            "64/64 [==============================] - 2s 33ms/step - loss: 2.0540e-04 - mae: 0.0147 - lr: 2.6697e-04\n",
            "Epoch 87/200\n",
            "64/64 [==============================] - 2s 33ms/step - loss: 2.0800e-04 - mae: 0.0148 - lr: 2.4028e-04\n",
            "Epoch 88/200\n",
            "64/64 [==============================] - 2s 33ms/step - loss: 1.9285e-04 - mae: 0.0141 - lr: 2.4028e-04\n",
            "Epoch 89/200\n",
            "64/64 [==============================] - 2s 33ms/step - loss: 1.9405e-04 - mae: 0.0142 - lr: 2.4028e-04\n",
            "Epoch 90/200\n",
            "64/64 [==============================] - 2s 33ms/step - loss: 1.9525e-04 - mae: 0.0142 - lr: 2.4028e-04\n",
            "Epoch 91/200\n",
            "64/64 [==============================] - 2s 33ms/step - loss: 1.9746e-04 - mae: 0.0143 - lr: 2.4028e-04\n",
            "Epoch 92/200\n",
            "64/64 [==============================] - 2s 33ms/step - loss: 1.9727e-04 - mae: 0.0143 - lr: 2.1625e-04\n",
            "Epoch 93/200\n",
            "64/64 [==============================] - 2s 33ms/step - loss: 1.8742e-04 - mae: 0.0139 - lr: 2.1625e-04\n",
            "Epoch 94/200\n",
            "64/64 [==============================] - 2s 33ms/step - loss: 1.8615e-04 - mae: 0.0138 - lr: 2.1625e-04\n",
            "Epoch 95/200\n",
            "64/64 [==============================] - 2s 33ms/step - loss: 1.8633e-04 - mae: 0.0139 - lr: 2.1625e-04\n",
            "Epoch 96/200\n",
            "64/64 [==============================] - 2s 34ms/step - loss: 1.8753e-04 - mae: 0.0139 - lr: 2.1625e-04\n",
            "Epoch 97/200\n",
            "64/64 [==============================] - 2s 33ms/step - loss: 1.9247e-04 - mae: 0.0141 - lr: 2.1625e-04\n",
            "Epoch 98/200\n",
            "64/64 [==============================] - 2s 34ms/step - loss: 1.9486e-04 - mae: 0.0142 - lr: 2.1625e-04\n",
            "Epoch 99/200\n",
            "64/64 [==============================] - 2s 33ms/step - loss: 1.9683e-04 - mae: 0.0143 - lr: 1.9462e-04\n",
            "Epoch 100/200\n",
            "64/64 [==============================] - 2s 33ms/step - loss: 1.8655e-04 - mae: 0.0139 - lr: 1.9462e-04\n",
            "Epoch 101/200\n",
            "64/64 [==============================] - 2s 33ms/step - loss: 1.8704e-04 - mae: 0.0139 - lr: 1.9462e-04\n",
            "Epoch 102/200\n",
            "64/64 [==============================] - 2s 33ms/step - loss: 1.8787e-04 - mae: 0.0139 - lr: 1.9462e-04\n",
            "Epoch 103/200\n",
            "64/64 [==============================] - 2s 33ms/step - loss: 1.9064e-04 - mae: 0.0140 - lr: 1.9462e-04\n",
            "Epoch 104/200\n",
            "64/64 [==============================] - 2s 33ms/step - loss: 1.8810e-04 - mae: 0.0139 - lr: 1.7516e-04\n",
            "Epoch 105/200\n",
            "64/64 [==============================] - 2s 33ms/step - loss: 1.7990e-04 - mae: 0.0136 - lr: 1.7516e-04\n",
            "Epoch 106/200\n",
            "64/64 [==============================] - 2s 33ms/step - loss: 1.7876e-04 - mae: 0.0135 - lr: 1.7516e-04\n",
            "Epoch 107/200\n",
            "64/64 [==============================] - 2s 33ms/step - loss: 1.7808e-04 - mae: 0.0135 - lr: 1.7516e-04\n",
            "Epoch 108/200\n",
            "64/64 [==============================] - 2s 33ms/step - loss: 1.8080e-04 - mae: 0.0136 - lr: 1.7516e-04\n",
            "Epoch 109/200\n",
            "64/64 [==============================] - 2s 33ms/step - loss: 1.8319e-04 - mae: 0.0137 - lr: 1.7516e-04\n",
            "Epoch 110/200\n",
            "64/64 [==============================] - 2s 33ms/step - loss: 1.8539e-04 - mae: 0.0138 - lr: 1.7516e-04\n",
            "Epoch 111/200\n",
            "64/64 [==============================] - 2s 33ms/step - loss: 1.8447e-04 - mae: 0.0138 - lr: 1.5765e-04\n",
            "Epoch 112/200\n",
            "64/64 [==============================] - 2s 35ms/step - loss: 1.7830e-04 - mae: 0.0135 - lr: 1.5765e-04\n",
            "Epoch 113/200\n",
            "64/64 [==============================] - 2s 35ms/step - loss: 1.7621e-04 - mae: 0.0134 - lr: 1.5765e-04\n",
            "Epoch 114/200\n",
            "64/64 [==============================] - 2s 34ms/step - loss: 1.7623e-04 - mae: 0.0134 - lr: 1.5765e-04\n",
            "Epoch 115/200\n",
            "64/64 [==============================] - 2s 33ms/step - loss: 1.7774e-04 - mae: 0.0135 - lr: 1.5765e-04\n",
            "Epoch 116/200\n",
            "64/64 [==============================] - 2s 34ms/step - loss: 1.7969e-04 - mae: 0.0136 - lr: 1.5765e-04\n",
            "Epoch 117/200\n",
            "64/64 [==============================] - 2s 34ms/step - loss: 1.8185e-04 - mae: 0.0137 - lr: 1.5765e-04\n",
            "Epoch 118/200\n",
            "64/64 [==============================] - 2s 34ms/step - loss: 1.8602e-04 - mae: 0.0139 - lr: 1.5765e-04\n",
            "Epoch 119/200\n",
            "64/64 [==============================] - 2s 34ms/step - loss: 1.8319e-04 - mae: 0.0138 - lr: 1.4188e-04\n",
            "Epoch 120/200\n",
            "64/64 [==============================] - 2s 33ms/step - loss: 1.7546e-04 - mae: 0.0134 - lr: 1.4188e-04\n",
            "Epoch 121/200\n",
            "64/64 [==============================] - 2s 32ms/step - loss: 1.7343e-04 - mae: 0.0133 - lr: 1.4188e-04\n",
            "Epoch 122/200\n",
            "64/64 [==============================] - 2s 33ms/step - loss: 1.7259e-04 - mae: 0.0133 - lr: 1.4188e-04\n",
            "Epoch 123/200\n",
            "64/64 [==============================] - 2s 33ms/step - loss: 1.7288e-04 - mae: 0.0133 - lr: 1.4188e-04\n",
            "Epoch 124/200\n",
            "64/64 [==============================] - 2s 33ms/step - loss: 1.7451e-04 - mae: 0.0134 - lr: 1.4188e-04\n",
            "Epoch 125/200\n",
            "64/64 [==============================] - 2s 33ms/step - loss: 1.7568e-04 - mae: 0.0134 - lr: 1.4188e-04\n",
            "Epoch 126/200\n",
            "64/64 [==============================] - 2s 33ms/step - loss: 1.7720e-04 - mae: 0.0135 - lr: 1.4188e-04\n",
            "Epoch 127/200\n",
            "64/64 [==============================] - 2s 33ms/step - loss: 1.7615e-04 - mae: 0.0134 - lr: 1.2769e-04\n",
            "Epoch 128/200\n",
            "64/64 [==============================] - 2s 33ms/step - loss: 1.7029e-04 - mae: 0.0132 - lr: 1.2769e-04\n",
            "Epoch 129/200\n",
            "64/64 [==============================] - 2s 32ms/step - loss: 1.6994e-04 - mae: 0.0132 - lr: 1.2769e-04\n",
            "Epoch 130/200\n",
            "64/64 [==============================] - 2s 33ms/step - loss: 1.6916e-04 - mae: 0.0131 - lr: 1.2769e-04\n",
            "Epoch 131/200\n",
            "64/64 [==============================] - 2s 33ms/step - loss: 1.6917e-04 - mae: 0.0131 - lr: 1.2769e-04\n",
            "Epoch 132/200\n",
            "64/64 [==============================] - 2s 33ms/step - loss: 1.7118e-04 - mae: 0.0132 - lr: 1.2769e-04\n",
            "Epoch 133/200\n",
            "64/64 [==============================] - 2s 34ms/step - loss: 1.7301e-04 - mae: 0.0133 - lr: 1.2769e-04\n",
            "Epoch 134/200\n",
            "64/64 [==============================] - 2s 33ms/step - loss: 1.7189e-04 - mae: 0.0132 - lr: 1.1492e-04\n",
            "Epoch 135/200\n",
            "64/64 [==============================] - 2s 33ms/step - loss: 1.6854e-04 - mae: 0.0131 - lr: 1.1492e-04\n",
            "Epoch 136/200\n",
            "64/64 [==============================] - 2s 33ms/step - loss: 1.6529e-04 - mae: 0.0129 - lr: 1.1492e-04\n",
            "Epoch 137/200\n",
            "64/64 [==============================] - 2s 33ms/step - loss: 1.6503e-04 - mae: 0.0129 - lr: 1.1492e-04\n",
            "Epoch 138/200\n",
            "64/64 [==============================] - 2s 33ms/step - loss: 1.6594e-04 - mae: 0.0130 - lr: 1.1492e-04\n",
            "Epoch 139/200\n",
            "64/64 [==============================] - 2s 33ms/step - loss: 1.6709e-04 - mae: 0.0130 - lr: 1.1492e-04\n",
            "Epoch 140/200\n",
            "64/64 [==============================] - 2s 33ms/step - loss: 1.6925e-04 - mae: 0.0131 - lr: 1.1492e-04\n",
            "Epoch 141/200\n",
            "64/64 [==============================] - 2s 34ms/step - loss: 1.7050e-04 - mae: 0.0132 - lr: 1.1492e-04\n",
            "Epoch 142/200\n",
            "64/64 [==============================] - 2s 33ms/step - loss: 1.7000e-04 - mae: 0.0131 - lr: 1.0343e-04\n",
            "Epoch 143/200\n",
            "64/64 [==============================] - 2s 33ms/step - loss: 1.6571e-04 - mae: 0.0130 - lr: 1.0343e-04\n",
            "Epoch 144/200\n",
            "64/64 [==============================] - 2s 33ms/step - loss: 1.6517e-04 - mae: 0.0129 - lr: 1.0343e-04\n",
            "Epoch 145/200\n",
            "64/64 [==============================] - 2s 33ms/step - loss: 1.6321e-04 - mae: 0.0129 - lr: 1.0343e-04\n",
            "Epoch 146/200\n",
            "64/64 [==============================] - 2s 33ms/step - loss: 1.6327e-04 - mae: 0.0129 - lr: 1.0343e-04\n",
            "Epoch 147/200\n",
            "64/64 [==============================] - 2s 33ms/step - loss: 1.6129e-04 - mae: 0.0128 - lr: 9.3088e-05\n",
            "Epoch 148/200\n",
            "64/64 [==============================] - 2s 33ms/step - loss: 1.5874e-04 - mae: 0.0126 - lr: 9.3088e-05\n",
            "Epoch 149/200\n",
            "64/64 [==============================] - 2s 33ms/step - loss: 1.5777e-04 - mae: 0.0126 - lr: 9.3088e-05\n",
            "Epoch 150/200\n",
            "64/64 [==============================] - 2s 33ms/step - loss: 1.5792e-04 - mae: 0.0126 - lr: 9.3088e-05\n",
            "Epoch 151/200\n",
            "64/64 [==============================] - 2s 33ms/step - loss: 1.5868e-04 - mae: 0.0126 - lr: 9.3088e-05\n",
            "Epoch 152/200\n",
            "64/64 [==============================] - 2s 33ms/step - loss: 1.6015e-04 - mae: 0.0127 - lr: 9.3088e-05\n",
            "Epoch 153/200\n",
            "64/64 [==============================] - 2s 33ms/step - loss: 1.6148e-04 - mae: 0.0128 - lr: 9.3088e-05\n",
            "Epoch 154/200\n",
            "64/64 [==============================] - 2s 33ms/step - loss: 1.6021e-04 - mae: 0.0127 - lr: 8.3779e-05\n",
            "Epoch 155/200\n",
            "64/64 [==============================] - 2s 33ms/step - loss: 1.5688e-04 - mae: 0.0125 - lr: 8.3779e-05\n",
            "Epoch 156/200\n",
            "64/64 [==============================] - 2s 34ms/step - loss: 1.5613e-04 - mae: 0.0125 - lr: 8.3779e-05\n",
            "Epoch 157/200\n",
            "64/64 [==============================] - 2s 33ms/step - loss: 1.5585e-04 - mae: 0.0125 - lr: 8.3779e-05\n",
            "Epoch 158/200\n",
            "64/64 [==============================] - 2s 33ms/step - loss: 1.5668e-04 - mae: 0.0125 - lr: 8.3779e-05\n",
            "Epoch 159/200\n",
            "64/64 [==============================] - 2s 33ms/step - loss: 1.5773e-04 - mae: 0.0126 - lr: 8.3779e-05\n",
            "Epoch 160/200\n",
            "64/64 [==============================] - 2s 33ms/step - loss: 1.5826e-04 - mae: 0.0126 - lr: 8.3779e-05\n",
            "Epoch 161/200\n",
            "64/64 [==============================] - 2s 34ms/step - loss: 1.5942e-04 - mae: 0.0127 - lr: 8.3779e-05\n",
            "Epoch 162/200\n",
            "64/64 [==============================] - 2s 33ms/step - loss: 1.5886e-04 - mae: 0.0126 - lr: 7.5401e-05\n",
            "Epoch 163/200\n",
            "64/64 [==============================] - 2s 33ms/step - loss: 1.5535e-04 - mae: 0.0125 - lr: 7.5401e-05\n",
            "Epoch 164/200\n",
            "64/64 [==============================] - 2s 33ms/step - loss: 1.5452e-04 - mae: 0.0124 - lr: 7.5401e-05\n",
            "Epoch 165/200\n",
            "64/64 [==============================] - 2s 33ms/step - loss: 1.5434e-04 - mae: 0.0124 - lr: 7.5401e-05\n",
            "Epoch 166/200\n",
            "64/64 [==============================] - 2s 33ms/step - loss: 1.5513e-04 - mae: 0.0125 - lr: 7.5401e-05\n",
            "Epoch 167/200\n",
            "64/64 [==============================] - 2s 33ms/step - loss: 1.5458e-04 - mae: 0.0124 - lr: 6.7861e-05\n",
            "Epoch 168/200\n",
            "64/64 [==============================] - 2s 33ms/step - loss: 1.5327e-04 - mae: 0.0124 - lr: 6.7861e-05\n",
            "Epoch 169/200\n",
            "64/64 [==============================] - 2s 34ms/step - loss: 1.5285e-04 - mae: 0.0124 - lr: 6.7861e-05\n",
            "Epoch 170/200\n",
            "64/64 [==============================] - 2s 33ms/step - loss: 1.5292e-04 - mae: 0.0124 - lr: 6.7861e-05\n",
            "Epoch 171/200\n",
            "64/64 [==============================] - 2s 33ms/step - loss: 1.5338e-04 - mae: 0.0124 - lr: 6.7861e-05\n",
            "Epoch 172/200\n",
            "64/64 [==============================] - 2s 33ms/step - loss: 1.5404e-04 - mae: 0.0124 - lr: 6.7861e-05\n",
            "Epoch 173/200\n",
            "64/64 [==============================] - 2s 33ms/step - loss: 1.5512e-04 - mae: 0.0125 - lr: 6.7861e-05\n",
            "Epoch 174/200\n",
            "64/64 [==============================] - 2s 33ms/step - loss: 1.5399e-04 - mae: 0.0124 - lr: 6.1075e-05\n",
            "Epoch 175/200\n",
            "64/64 [==============================] - 2s 33ms/step - loss: 1.5203e-04 - mae: 0.0123 - lr: 6.1075e-05\n",
            "Epoch 176/200\n",
            "64/64 [==============================] - 2s 33ms/step - loss: 1.5099e-04 - mae: 0.0123 - lr: 6.1075e-05\n",
            "Epoch 177/200\n",
            "64/64 [==============================] - 2s 34ms/step - loss: 1.5134e-04 - mae: 0.0123 - lr: 6.1075e-05\n",
            "Epoch 178/200\n",
            "64/64 [==============================] - 2s 33ms/step - loss: 1.5168e-04 - mae: 0.0123 - lr: 6.1075e-05\n",
            "Epoch 179/200\n",
            "64/64 [==============================] - 2s 33ms/step - loss: 1.5204e-04 - mae: 0.0123 - lr: 6.1075e-05\n",
            "Epoch 180/200\n",
            "64/64 [==============================] - 2s 33ms/step - loss: 1.5281e-04 - mae: 0.0124 - lr: 6.1075e-05\n",
            "Epoch 181/200\n",
            "64/64 [==============================] - 2s 33ms/step - loss: 1.5409e-04 - mae: 0.0124 - lr: 6.1075e-05\n",
            "Epoch 182/200\n",
            "64/64 [==============================] - 2s 33ms/step - loss: 1.5340e-04 - mae: 0.0124 - lr: 5.4968e-05\n",
            "Epoch 183/200\n",
            "64/64 [==============================] - 2s 33ms/step - loss: 1.5129e-04 - mae: 0.0123 - lr: 5.4968e-05\n",
            "Epoch 184/200\n",
            "64/64 [==============================] - 2s 34ms/step - loss: 1.5059e-04 - mae: 0.0123 - lr: 5.4968e-05\n",
            "Epoch 185/200\n",
            "64/64 [==============================] - 2s 33ms/step - loss: 1.5053e-04 - mae: 0.0123 - lr: 5.4968e-05\n",
            "Epoch 186/200\n",
            "64/64 [==============================] - 2s 33ms/step - loss: 1.5091e-04 - mae: 0.0123 - lr: 5.4968e-05\n",
            "Epoch 187/200\n",
            "64/64 [==============================] - 2s 33ms/step - loss: 1.5034e-04 - mae: 0.0122 - lr: 4.9471e-05\n",
            "Epoch 188/200\n",
            "64/64 [==============================] - 2s 33ms/step - loss: 1.4929e-04 - mae: 0.0122 - lr: 4.9471e-05\n",
            "Epoch 189/200\n",
            "64/64 [==============================] - 2s 33ms/step - loss: 1.4933e-04 - mae: 0.0122 - lr: 4.9471e-05\n",
            "Epoch 190/200\n",
            "64/64 [==============================] - 2s 33ms/step - loss: 1.4938e-04 - mae: 0.0122 - lr: 4.9471e-05\n",
            "Epoch 191/200\n",
            "64/64 [==============================] - 2s 33ms/step - loss: 1.4962e-04 - mae: 0.0122 - lr: 4.9471e-05\n",
            "Epoch 192/200\n",
            "64/64 [==============================] - 2s 33ms/step - loss: 1.4905e-04 - mae: 0.0122 - lr: 4.4524e-05\n",
            "Epoch 193/200\n",
            "64/64 [==============================] - 2s 33ms/step - loss: 1.4814e-04 - mae: 0.0121 - lr: 4.4524e-05\n",
            "Epoch 194/200\n",
            "64/64 [==============================] - 2s 33ms/step - loss: 1.4800e-04 - mae: 0.0121 - lr: 4.4524e-05\n",
            "Epoch 195/200\n",
            "64/64 [==============================] - 2s 33ms/step - loss: 1.4812e-04 - mae: 0.0121 - lr: 4.4524e-05\n",
            "Epoch 196/200\n",
            "64/64 [==============================] - 2s 33ms/step - loss: 1.4822e-04 - mae: 0.0122 - lr: 4.4524e-05\n",
            "Epoch 197/200\n",
            "64/64 [==============================] - 2s 33ms/step - loss: 1.4814e-04 - mae: 0.0121 - lr: 4.4524e-05\n",
            "Epoch 198/200\n",
            "64/64 [==============================] - 2s 33ms/step - loss: 1.4811e-04 - mae: 0.0121 - lr: 4.4524e-05\n",
            "Epoch 199/200\n",
            "64/64 [==============================] - 2s 33ms/step - loss: 1.4777e-04 - mae: 0.0121 - lr: 4.0071e-05\n",
            "Epoch 200/200\n",
            "64/64 [==============================] - 2s 33ms/step - loss: 1.4704e-04 - mae: 0.0121 - lr: 4.0071e-05\n"
          ]
        },
        {
          "output_type": "execute_result",
          "data": {
            "text/plain": [
              "<keras.callbacks.History at 0x7f43c004f950>"
            ]
          },
          "metadata": {},
          "execution_count": 61
        }
      ]
    },
    {
      "cell_type": "code",
      "source": [
        "print(lstm.summary())"
      ],
      "metadata": {
        "id": "CUVX9mrUwRc_",
        "colab": {
          "base_uri": "https://localhost:8080/"
        },
        "outputId": "4063731d-c23e-4f2a-b56e-09b23948f826"
      },
      "execution_count": 62,
      "outputs": [
        {
          "output_type": "stream",
          "name": "stdout",
          "text": [
            "Model: \"sequential_1\"\n",
            "_________________________________________________________________\n",
            " Layer (type)                Output Shape              Param #   \n",
            "=================================================================\n",
            " lstm_1 (LSTM)               (None, 300)               362400    \n",
            "                                                                 \n",
            " dense_3 (Dense)             (None, 30)                9030      \n",
            "                                                                 \n",
            " dense_4 (Dense)             (None, 15)                465       \n",
            "                                                                 \n",
            " dense_5 (Dense)             (None, 1)                 16        \n",
            "                                                                 \n",
            "=================================================================\n",
            "Total params: 371,911\n",
            "Trainable params: 371,911\n",
            "Non-trainable params: 0\n",
            "_________________________________________________________________\n",
            "None\n"
          ]
        }
      ]
    },
    {
      "cell_type": "code",
      "source": [
        "# Compute the forecast for all the series\n",
        "lstm_forecast = model_forecast(lstm, series_norm, G.WINDOW_SIZE).squeeze()\n",
        "\n",
        "# Slice the forecast to get only the predictions for the test set\n",
        "series_test_hat_lstm = lstm_forecast[-150:]\n",
        "series_test_hat_lstm = reverse_normalization(series_test_hat_lstm)"
      ],
      "metadata": {
        "id": "usOQ3cl6_rPV"
      },
      "execution_count": 63,
      "outputs": []
    },
    {
      "cell_type": "code",
      "source": [
        "# Plot the forecast\n",
        "\n",
        "plt.figure(figsize=(10, 6))\n",
        "plot_series(np.arange( 1, len(time_test)+1 ), series_test)\n",
        "plot_series(np.arange( 1, len(time_test)+1 ), series_test_hat_lstm)\n",
        "plt.ylabel(\"Index Value\")\n",
        "plt.xlabel(\"Time Step\")\n",
        "legend_drawn_flag = True\n",
        "plt.legend([\"Original Value (Nikkei225)\", \"Predicted Value (Nikkei225)\"], loc=0, frameon=legend_drawn_flag)\n",
        "plt.savefig(\"/content/gdrive/MyDrive/Forecasting_results/lstm_forecasts_N225.svg\")"
      ],
      "metadata": {
        "colab": {
          "base_uri": "https://localhost:8080/",
          "height": 388
        },
        "id": "B_fYj_UQJjl1",
        "outputId": "8f750d9a-53bd-4009-c048-30f80308f209"
      },
      "execution_count": 64,
      "outputs": [
        {
          "output_type": "display_data",
          "data": {
            "text/plain": [
              "<Figure size 720x432 with 1 Axes>"
            ],
            "image/png": "[encoded data removed]"
          },
          "metadata": {
            "needs_background": "light"
          }
        }
      ]
    },
    {
      "cell_type": "code",
      "source": [
        "rmse_lstm, mae_lstm, mape_lstm= compute_metrics(series_test, series_test_hat_lstm)\n",
        "\n",
        "print(f\"rmse: {rmse_lstm:.2f}, mae: {mae_lstm:.2f} , mape: {mape_lstm:.2f} for forecast\")"
      ],
      "metadata": {
        "id": "-U4UwUsf_Tp2",
        "colab": {
          "base_uri": "https://localhost:8080/"
        },
        "outputId": "f86b9096-f275-4e82-f800-a78a53c5918b"
      },
      "execution_count": 65,
      "outputs": [
        {
          "output_type": "stream",
          "name": "stdout",
          "text": [
            "rmse: 106.47, mae: 93.31 , mape: 0.44 for forecast\n"
          ]
        }
      ]
    },
    {
      "cell_type": "code",
      "source": [
        "# Save model\n",
        "lstm.save(\"/content/gdrive/MyDrive/Saved_models/lstm_N225.h5\")"
      ],
      "metadata": {
        "id": "SjvYU_82luNw"
      },
      "execution_count": 66,
      "outputs": []
    },
    {
      "cell_type": "markdown",
      "source": [
        "### Reload the saved model"
      ],
      "metadata": {
        "id": "ViJ_sHtSIbHQ"
      }
    },
    {
      "cell_type": "markdown",
      "source": [
        "Google Colab will empty the variables every time the runtime is over, so we need to reload the saved model to show the forecasting result if the notebook is closed previously."
      ],
      "metadata": {
        "id": "SOkBuuhTIh1Y"
      }
    },
    {
      "cell_type": "markdown",
      "source": [
        "Different from our proposed model which contains custom layers, the baseline models can be loaded directly."
      ],
      "metadata": {
        "id": "5lgI9jawJN5s"
      }
    },
    {
      "cell_type": "code",
      "source": [
        "saved_lstm = load_model('/content/gdrive/MyDrive/Saved_models/lstm_N225.h5')"
      ],
      "metadata": {
        "id": "zdK9pgZQIasa"
      },
      "execution_count": 73,
      "outputs": []
    },
    {
      "cell_type": "code",
      "source": [
        "print(saved_lstm.summary())"
      ],
      "metadata": {
        "colab": {
          "base_uri": "https://localhost:8080/"
        },
        "id": "DpCZIYkaJqo3",
        "outputId": "b8928ef8-ae99-4f0a-c206-d0a188313703"
      },
      "execution_count": 74,
      "outputs": [
        {
          "output_type": "stream",
          "name": "stdout",
          "text": [
            "Model: \"sequential_1\"\n",
            "_________________________________________________________________\n",
            " Layer (type)                Output Shape              Param #   \n",
            "=================================================================\n",
            " lstm_1 (LSTM)               (None, 300)               362400    \n",
            "                                                                 \n",
            " dense_3 (Dense)             (None, 30)                9030      \n",
            "                                                                 \n",
            " dense_4 (Dense)             (None, 15)                465       \n",
            "                                                                 \n",
            " dense_5 (Dense)             (None, 1)                 16        \n",
            "                                                                 \n",
            "=================================================================\n",
            "Total params: 371,911\n",
            "Trainable params: 371,911\n",
            "Non-trainable params: 0\n",
            "_________________________________________________________________\n",
            "None\n"
          ]
        }
      ]
    },
    {
      "cell_type": "code",
      "source": [
        "# Compute the forecast for all the series\n",
        "saved_lstm_forecast = model_forecast(saved_lstm, series_norm, G.WINDOW_SIZE).squeeze()\n",
        "\n",
        "# Slice the forecast to get only the predictions for the test set\n",
        "series_test_hat_saved_lstm = saved_lstm_forecast[-150:]\n",
        "series_test_hat_saved_lstm = reverse_normalization(series_test_hat_saved_lstm)"
      ],
      "metadata": {
        "id": "5UfocmqkKGXx"
      },
      "execution_count": 75,
      "outputs": []
    },
    {
      "cell_type": "code",
      "source": [
        "# Plot the forecast\n",
        "\n",
        "plt.figure(figsize=(10, 6))\n",
        "plot_series(np.arange( 1, len(time_test)+1 ), series_test)\n",
        "plot_series(np.arange( 1, len(time_test)+1 ), series_test_hat_saved_lstm)\n",
        "plt.ylabel(\"Index Value\")\n",
        "plt.xlabel(\"Time Step\")\n",
        "legend_drawn_flag = True\n",
        "plt.legend([\"Original Value (DJIA)\", \"Predicted Value (DJIA)\"], loc=0, frameon=legend_drawn_flag)\n",
        "plt.savefig(\"/content/gdrive/MyDrive/Forecasting_results/saved_lstm_forecasts.svg\")"
      ],
      "metadata": {
        "colab": {
          "base_uri": "https://localhost:8080/",
          "height": 388
        },
        "id": "5fEGprpUKR-E",
        "outputId": "55dbbb9d-dba1-481b-ad87-5e9bf8d2358d"
      },
      "execution_count": 76,
      "outputs": [
        {
          "output_type": "display_data",
          "data": {
            "text/plain": [
              "<Figure size 720x432 with 1 Axes>"
            ],
            "image/png": "[encoded data removed]"
          },
          "metadata": {
            "needs_background": "light"
          }
        }
      ]
    },
    {
      "cell_type": "code",
      "source": [
        "rmse_saved_lstm, mae_saved_lstm, mape_saved_lstm= compute_metrics(series_test, series_test_hat_saved_lstm)\n",
        "\n",
        "print(f\"rmse: {rmse_saved_lstm:.2f}, mae: {mae_saved_lstm:.2f} , mape: {mape_saved_lstm:.2f} for forecast\")"
      ],
      "metadata": {
        "colab": {
          "base_uri": "https://localhost:8080/"
        },
        "id": "xiOqfL5RKcIW",
        "outputId": "c0182a1a-db97-4d88-e4bc-2184aa1b324c"
      },
      "execution_count": 77,
      "outputs": [
        {
          "output_type": "stream",
          "name": "stdout",
          "text": [
            "rmse: 108.11, mae: 93.83 , mape: 0.44 for forecast\n"
          ]
        }
      ]
    },
    {
      "cell_type": "markdown",
      "source": [
        "### CNN-LSTM"
      ],
      "metadata": {
        "id": "EgSv9-FX_UEA"
      }
    },
    {
      "cell_type": "code",
      "source": [
        "def build_CNN_LSTM(hp):\n",
        "   \n",
        "    model = tf.keras.models.Sequential([\n",
        "          tf.keras.layers.Conv1D(filters=hp.Int('Conv_units', 256, 1024, 256), kernel_size=2,\n",
        "                                 strides=1,\n",
        "                                 activation=\"relu\",\n",
        "                                 padding='causal',\n",
        "                                 input_shape=[G.WINDOW_SIZE, 1]),\n",
        "          tf.keras.layers.MaxPooling1D(pool_size=2, strides=1, padding=\"same\"),\n",
        "          tf.keras.layers.LSTM(hp.Int('lstm_units', 100, 300, 50)),\n",
        "          tf.keras.layers.Dense(hp.Int('dense1_units', 20, 50, step = 10), activation=\"relu\"),\n",
        "          tf.keras.layers.Dense(hp.Int('dense2_units', 5, 20, step = 5), activation=\"relu\"),\n",
        "          tf.keras.layers.Dense(1)\n",
        "    ])\n",
        "    learning_rate = hp.Float(\"lr\", min_value=1e-4, max_value=1e-2, sampling=\"log\")\n",
        "    model.compile(\n",
        "        optimizer=tf.keras.optimizers.Adam(learning_rate=learning_rate),\n",
        "        loss=tf.keras.losses.Huber(),\n",
        "        metrics=[\"mae\"])\n",
        "\n",
        "    return model"
      ],
      "metadata": {
        "id": "Amka1E2csj3H"
      },
      "execution_count": 67,
      "outputs": []
    },
    {
      "cell_type": "code",
      "source": [
        "build_CNN_LSTM(keras_tuner.HyperParameters())\n",
        "\n",
        "tuner_cnn_lstm = keras_tuner.Hyperband(\n",
        "    hypermodel=build_CNN_LSTM,\n",
        "    objective=\"val_mae\",\n",
        "    max_epochs=50,\n",
        "    factor=3,\n",
        "    hyperband_iterations=1,\n",
        "    distribution_strategy=strategy,\n",
        "    seed = 1,\n",
        "    directory='/content/gdrive/MyDrive/Tuner',\n",
        "    project_name=\"cnn_lstm_N225\",\n",
        "    overwrite=True)\n",
        "\n",
        "\n",
        "tuner_cnn_lstm.search(train_set, epochs=50, validation_data=val_set, callbacks=[stop_early])\n",
        "\n",
        "tuner_cnn_lstm.results_summary()\n",
        "\n",
        "# Get the top 5 hyperparameters.\n",
        "best_hps_cnn_lstm = tuner_cnn_lstm.get_best_hyperparameters(5)"
      ],
      "metadata": {
        "id": "A1PtMSsr-vSO",
        "colab": {
          "base_uri": "https://localhost:8080/"
        },
        "outputId": "dbb62f43-0321-4335-af34-2be67979b6f7"
      },
      "execution_count": 68,
      "outputs": [
        {
          "output_type": "stream",
          "name": "stdout",
          "text": [
            "Trial 90 Complete [00h 01m 16s]\n",
            "val_mae: 0.0314556285738945\n",
            "\n",
            "Best val_mae So Far: 0.01742534153163433\n",
            "Total elapsed time: 01h 01m 54s\n",
            "Results summary\n",
            "Results in /content/gdrive/MyDrive/Tuner/cnn_lstm_N225\n",
            "Showing 10 best trials\n",
            "<keras_tuner.engine.objective.Objective object at 0x7f43c38e5fd0>\n",
            "Trial summary\n",
            "Hyperparameters:\n",
            "Conv_units: 512\n",
            "lstm_units: 300\n",
            "dense1_units: 30\n",
            "dense2_units: 10\n",
            "lr: 0.0006752863927347823\n",
            "tuner/epochs: 6\n",
            "tuner/initial_epoch: 2\n",
            "tuner/bracket: 3\n",
            "tuner/round: 1\n",
            "tuner/trial_id: 0012\n",
            "Score: 0.01742534153163433\n",
            "Trial summary\n",
            "Hyperparameters:\n",
            "Conv_units: 512\n",
            "lstm_units: 250\n",
            "dense1_units: 40\n",
            "dense2_units: 10\n",
            "lr: 0.0008264439766792489\n",
            "tuner/epochs: 6\n",
            "tuner/initial_epoch: 2\n",
            "tuner/bracket: 3\n",
            "tuner/round: 1\n",
            "tuner/trial_id: 0007\n",
            "Score: 0.01885356195271015\n",
            "Trial summary\n",
            "Hyperparameters:\n",
            "Conv_units: 256\n",
            "lstm_units: 250\n",
            "dense1_units: 20\n",
            "dense2_units: 10\n",
            "lr: 0.0007393219895594406\n",
            "tuner/epochs: 6\n",
            "tuner/initial_epoch: 0\n",
            "tuner/bracket: 2\n",
            "tuner/round: 0\n",
            "Score: 0.019731344655156136\n",
            "Trial summary\n",
            "Hyperparameters:\n",
            "Conv_units: 256\n",
            "lstm_units: 200\n",
            "dense1_units: 30\n",
            "dense2_units: 15\n",
            "lr: 0.0005880431087905998\n",
            "tuner/epochs: 17\n",
            "tuner/initial_epoch: 6\n",
            "tuner/bracket: 2\n",
            "tuner/round: 1\n",
            "tuner/trial_id: 0059\n",
            "Score: 0.020792461931705475\n",
            "Trial summary\n",
            "Hyperparameters:\n",
            "Conv_units: 256\n",
            "lstm_units: 250\n",
            "dense1_units: 20\n",
            "dense2_units: 10\n",
            "lr: 0.0007393219895594406\n",
            "tuner/epochs: 50\n",
            "tuner/initial_epoch: 17\n",
            "tuner/bracket: 2\n",
            "tuner/round: 2\n",
            "tuner/trial_id: 0067\n",
            "Score: 0.02104695327579975\n",
            "Trial summary\n",
            "Hyperparameters:\n",
            "Conv_units: 512\n",
            "lstm_units: 300\n",
            "dense1_units: 30\n",
            "dense2_units: 10\n",
            "lr: 0.0006752863927347823\n",
            "tuner/epochs: 17\n",
            "tuner/initial_epoch: 6\n",
            "tuner/bracket: 3\n",
            "tuner/round: 2\n",
            "tuner/trial_id: 0045\n",
            "Score: 0.02115536294877529\n",
            "Trial summary\n",
            "Hyperparameters:\n",
            "Conv_units: 512\n",
            "lstm_units: 150\n",
            "dense1_units: 40\n",
            "dense2_units: 5\n",
            "lr: 0.00026384087338560336\n",
            "tuner/epochs: 50\n",
            "tuner/initial_epoch: 17\n",
            "tuner/bracket: 1\n",
            "tuner/round: 1\n",
            "tuner/trial_id: 0076\n",
            "Score: 0.021734250709414482\n",
            "Trial summary\n",
            "Hyperparameters:\n",
            "Conv_units: 256\n",
            "lstm_units: 200\n",
            "dense1_units: 30\n",
            "dense2_units: 15\n",
            "lr: 0.0005880431087905998\n",
            "tuner/epochs: 50\n",
            "tuner/initial_epoch: 17\n",
            "tuner/bracket: 2\n",
            "tuner/round: 2\n",
            "tuner/trial_id: 0070\n",
            "Score: 0.021861393004655838\n",
            "Trial summary\n",
            "Hyperparameters:\n",
            "Conv_units: 768\n",
            "lstm_units: 150\n",
            "dense1_units: 30\n",
            "dense2_units: 5\n",
            "lr: 0.0002554705805046948\n",
            "tuner/epochs: 6\n",
            "tuner/initial_epoch: 2\n",
            "tuner/bracket: 3\n",
            "tuner/round: 1\n",
            "tuner/trial_id: 0017\n",
            "Score: 0.022071383893489838\n",
            "Trial summary\n",
            "Hyperparameters:\n",
            "Conv_units: 768\n",
            "lstm_units: 150\n",
            "dense1_units: 30\n",
            "dense2_units: 5\n",
            "lr: 0.0002554705805046948\n",
            "tuner/epochs: 17\n",
            "tuner/initial_epoch: 6\n",
            "tuner/bracket: 3\n",
            "tuner/round: 2\n",
            "tuner/trial_id: 0041\n",
            "Score: 0.022183077409863472\n"
          ]
        }
      ]
    },
    {
      "cell_type": "code",
      "source": [
        "# Build the model with the best hp.\n",
        "with strategy.scope():\n",
        "  cnn_lstm = build_CNN_LSTM(best_hps_cnn_lstm[0])\n",
        "# Fit with the entire dataset.\n",
        "cnn_lstm.fit(train_val_set, epochs=200, callbacks = [reduce_lr])"
      ],
      "metadata": {
        "id": "TM5Zy7HdmTgU",
        "colab": {
          "base_uri": "https://localhost:8080/"
        },
        "outputId": "a41d2171-b7c7-490d-8a87-7c8258b8c7ef"
      },
      "execution_count": 69,
      "outputs": [
        {
          "output_type": "stream",
          "name": "stdout",
          "text": [
            "Epoch 1/200\n",
            "64/64 [==============================] - 11s 69ms/step - loss: 0.0018 - mae: 0.0439 - lr: 6.7529e-04\n",
            "Epoch 2/200\n",
            "64/64 [==============================] - 4s 68ms/step - loss: 0.0016 - mae: 0.0462 - lr: 6.7529e-04\n",
            "Epoch 3/200\n",
            "64/64 [==============================] - 4s 68ms/step - loss: 6.8101e-04 - mae: 0.0289 - lr: 6.7529e-04\n",
            "Epoch 4/200\n",
            "64/64 [==============================] - 4s 68ms/step - loss: 0.0014 - mae: 0.0409 - lr: 6.7529e-04\n",
            "Epoch 5/200\n",
            "64/64 [==============================] - 4s 68ms/step - loss: 5.5631e-04 - mae: 0.0256 - lr: 6.7529e-04\n",
            "Epoch 6/200\n",
            "64/64 [==============================] - 4s 68ms/step - loss: 3.7903e-04 - mae: 0.0205 - lr: 6.7529e-04\n",
            "Epoch 7/200\n",
            "64/64 [==============================] - 4s 68ms/step - loss: 6.3781e-04 - mae: 0.0273 - lr: 6.7529e-04\n",
            "Epoch 8/200\n",
            "64/64 [==============================] - 4s 69ms/step - loss: 8.7451e-04 - mae: 0.0339 - lr: 6.7529e-04\n",
            "Epoch 9/200\n",
            "64/64 [==============================] - 4s 68ms/step - loss: 6.3648e-04 - mae: 0.0286 - lr: 6.7529e-04\n",
            "Epoch 10/200\n",
            "64/64 [==============================] - 4s 69ms/step - loss: 3.6225e-04 - mae: 0.0205 - lr: 6.7529e-04\n",
            "Epoch 11/200\n",
            "64/64 [==============================] - 4s 68ms/step - loss: 3.5283e-04 - mae: 0.0199 - lr: 6.7529e-04\n",
            "Epoch 12/200\n",
            "64/64 [==============================] - 4s 68ms/step - loss: 3.0080e-04 - mae: 0.0182 - lr: 6.7529e-04\n",
            "Epoch 13/200\n",
            "64/64 [==============================] - 4s 68ms/step - loss: 3.5625e-04 - mae: 0.0198 - lr: 6.7529e-04\n",
            "Epoch 14/200\n",
            "64/64 [==============================] - 4s 69ms/step - loss: 4.2870e-04 - mae: 0.0223 - lr: 6.7529e-04\n",
            "Epoch 15/200\n",
            "64/64 [==============================] - 5s 70ms/step - loss: 4.5569e-04 - mae: 0.0236 - lr: 6.7529e-04\n",
            "Epoch 16/200\n",
            "64/64 [==============================] - 4s 69ms/step - loss: 4.7453e-04 - mae: 0.0242 - lr: 6.7529e-04\n",
            "Epoch 17/200\n",
            "64/64 [==============================] - 4s 69ms/step - loss: 4.2343e-04 - mae: 0.0227 - lr: 6.7529e-04\n",
            "Epoch 18/200\n",
            "64/64 [==============================] - 4s 69ms/step - loss: 3.5305e-04 - mae: 0.0206 - lr: 6.0776e-04\n",
            "Epoch 19/200\n",
            "64/64 [==============================] - 4s 68ms/step - loss: 4.2519e-04 - mae: 0.0221 - lr: 6.0776e-04\n",
            "Epoch 20/200\n",
            "64/64 [==============================] - 4s 68ms/step - loss: 3.4678e-04 - mae: 0.0200 - lr: 6.0776e-04\n",
            "Epoch 21/200\n",
            "64/64 [==============================] - 4s 68ms/step - loss: 3.3620e-04 - mae: 0.0198 - lr: 6.0776e-04\n",
            "Epoch 22/200\n",
            "64/64 [==============================] - 4s 69ms/step - loss: 3.2689e-04 - mae: 0.0194 - lr: 6.0776e-04\n",
            "Epoch 23/200\n",
            "64/64 [==============================] - 4s 69ms/step - loss: 3.3748e-04 - mae: 0.0198 - lr: 5.4698e-04\n",
            "Epoch 24/200\n",
            "64/64 [==============================] - 4s 68ms/step - loss: 3.5577e-04 - mae: 0.0204 - lr: 5.4698e-04\n",
            "Epoch 25/200\n",
            "64/64 [==============================] - 4s 68ms/step - loss: 3.4677e-04 - mae: 0.0200 - lr: 5.4698e-04\n",
            "Epoch 26/200\n",
            "64/64 [==============================] - 4s 68ms/step - loss: 3.5142e-04 - mae: 0.0202 - lr: 5.4698e-04\n",
            "Epoch 27/200\n",
            "64/64 [==============================] - 4s 68ms/step - loss: 3.6900e-04 - mae: 0.0208 - lr: 5.4698e-04\n",
            "Epoch 28/200\n",
            "64/64 [==============================] - 4s 68ms/step - loss: 4.0319e-04 - mae: 0.0217 - lr: 4.9228e-04\n",
            "Epoch 29/200\n",
            "64/64 [==============================] - 4s 68ms/step - loss: 4.4077e-04 - mae: 0.0222 - lr: 4.9228e-04\n",
            "Epoch 30/200\n",
            "64/64 [==============================] - 4s 68ms/step - loss: 5.6817e-04 - mae: 0.0249 - lr: 4.9228e-04\n",
            "Epoch 31/200\n",
            "64/64 [==============================] - 4s 68ms/step - loss: 8.9530e-04 - mae: 0.0314 - lr: 4.9228e-04\n",
            "Epoch 32/200\n",
            "64/64 [==============================] - 4s 68ms/step - loss: 0.0011 - mae: 0.0374 - lr: 4.9228e-04\n",
            "Epoch 33/200\n",
            "64/64 [==============================] - 4s 68ms/step - loss: 0.0014 - mae: 0.0414 - lr: 4.4306e-04\n",
            "Epoch 34/200\n",
            "64/64 [==============================] - 4s 68ms/step - loss: 0.0016 - mae: 0.0422 - lr: 4.4306e-04\n",
            "Epoch 35/200\n",
            "64/64 [==============================] - 4s 68ms/step - loss: 0.0010 - mae: 0.0355 - lr: 4.4306e-04\n",
            "Epoch 36/200\n",
            "64/64 [==============================] - 4s 68ms/step - loss: 0.0014 - mae: 0.0421 - lr: 4.4306e-04\n",
            "Epoch 37/200\n",
            "64/64 [==============================] - 4s 69ms/step - loss: 0.0019 - mae: 0.0493 - lr: 4.4306e-04\n",
            "Epoch 38/200\n",
            "64/64 [==============================] - 4s 69ms/step - loss: 0.0021 - mae: 0.0486 - lr: 3.9875e-04\n",
            "Epoch 39/200\n",
            "64/64 [==============================] - 4s 69ms/step - loss: 0.0026 - mae: 0.0542 - lr: 3.9875e-04\n",
            "Epoch 40/200\n",
            "64/64 [==============================] - 4s 68ms/step - loss: 0.0031 - mae: 0.0619 - lr: 3.9875e-04\n",
            "Epoch 41/200\n",
            "64/64 [==============================] - 4s 69ms/step - loss: 0.0027 - mae: 0.0559 - lr: 3.9875e-04\n",
            "Epoch 42/200\n",
            "64/64 [==============================] - 4s 69ms/step - loss: 0.0019 - mae: 0.0469 - lr: 3.9875e-04\n",
            "Epoch 43/200\n",
            "64/64 [==============================] - 4s 69ms/step - loss: 0.0012 - mae: 0.0373 - lr: 3.5887e-04\n",
            "Epoch 44/200\n",
            "64/64 [==============================] - 4s 69ms/step - loss: 7.5807e-04 - mae: 0.0293 - lr: 3.5887e-04\n",
            "Epoch 45/200\n",
            "64/64 [==============================] - 4s 68ms/step - loss: 6.1269e-04 - mae: 0.0258 - lr: 3.5887e-04\n",
            "Epoch 46/200\n",
            "64/64 [==============================] - 4s 68ms/step - loss: 6.2647e-04 - mae: 0.0257 - lr: 3.5887e-04\n",
            "Epoch 47/200\n",
            "64/64 [==============================] - 4s 68ms/step - loss: 6.1255e-04 - mae: 0.0254 - lr: 3.5887e-04\n",
            "Epoch 48/200\n",
            "64/64 [==============================] - 4s 68ms/step - loss: 6.8622e-04 - mae: 0.0272 - lr: 3.2299e-04\n",
            "Epoch 49/200\n",
            "64/64 [==============================] - 4s 68ms/step - loss: 5.5861e-04 - mae: 0.0237 - lr: 3.2299e-04\n",
            "Epoch 50/200\n",
            "64/64 [==============================] - 4s 68ms/step - loss: 4.8315e-04 - mae: 0.0221 - lr: 3.2299e-04\n",
            "Epoch 51/200\n",
            "64/64 [==============================] - 4s 68ms/step - loss: 5.3878e-04 - mae: 0.0233 - lr: 3.2299e-04\n",
            "Epoch 52/200\n",
            "64/64 [==============================] - 4s 69ms/step - loss: 5.0657e-04 - mae: 0.0230 - lr: 3.2299e-04\n",
            "Epoch 53/200\n",
            "64/64 [==============================] - 4s 68ms/step - loss: 5.6133e-04 - mae: 0.0240 - lr: 2.9069e-04\n",
            "Epoch 54/200\n",
            "64/64 [==============================] - 4s 68ms/step - loss: 4.3598e-04 - mae: 0.0207 - lr: 2.9069e-04\n",
            "Epoch 55/200\n",
            "64/64 [==============================] - 4s 68ms/step - loss: 4.3505e-04 - mae: 0.0206 - lr: 2.9069e-04\n",
            "Epoch 56/200\n",
            "64/64 [==============================] - 4s 68ms/step - loss: 4.2500e-04 - mae: 0.0205 - lr: 2.9069e-04\n",
            "Epoch 57/200\n",
            "64/64 [==============================] - 4s 69ms/step - loss: 4.6326e-04 - mae: 0.0216 - lr: 2.9069e-04\n",
            "Epoch 58/200\n",
            "64/64 [==============================] - 4s 68ms/step - loss: 4.2979e-04 - mae: 0.0208 - lr: 2.6162e-04\n",
            "Epoch 59/200\n",
            "64/64 [==============================] - 4s 68ms/step - loss: 4.0886e-04 - mae: 0.0200 - lr: 2.6162e-04\n",
            "Epoch 60/200\n",
            "64/64 [==============================] - 4s 68ms/step - loss: 3.6417e-04 - mae: 0.0188 - lr: 2.6162e-04\n",
            "Epoch 61/200\n",
            "64/64 [==============================] - 4s 68ms/step - loss: 3.8528e-04 - mae: 0.0194 - lr: 2.6162e-04\n",
            "Epoch 62/200\n",
            "64/64 [==============================] - 4s 69ms/step - loss: 3.9365e-04 - mae: 0.0198 - lr: 2.6162e-04\n",
            "Epoch 63/200\n",
            "64/64 [==============================] - 4s 68ms/step - loss: 3.9510e-04 - mae: 0.0198 - lr: 2.3546e-04\n",
            "Epoch 64/200\n",
            "64/64 [==============================] - 4s 68ms/step - loss: 3.4666e-04 - mae: 0.0184 - lr: 2.3546e-04\n",
            "Epoch 65/200\n",
            "64/64 [==============================] - 4s 68ms/step - loss: 3.4176e-04 - mae: 0.0182 - lr: 2.3546e-04\n",
            "Epoch 66/200\n",
            "64/64 [==============================] - 4s 68ms/step - loss: 3.4384e-04 - mae: 0.0183 - lr: 2.3546e-04\n",
            "Epoch 67/200\n",
            "64/64 [==============================] - 4s 68ms/step - loss: 3.5665e-04 - mae: 0.0188 - lr: 2.3546e-04\n",
            "Epoch 68/200\n",
            "64/64 [==============================] - 4s 68ms/step - loss: 3.5371e-04 - mae: 0.0187 - lr: 2.1191e-04\n",
            "Epoch 69/200\n",
            "64/64 [==============================] - 4s 68ms/step - loss: 3.1618e-04 - mae: 0.0175 - lr: 2.1191e-04\n",
            "Epoch 70/200\n",
            "64/64 [==============================] - 4s 68ms/step - loss: 3.0516e-04 - mae: 0.0172 - lr: 2.1191e-04\n",
            "Epoch 71/200\n",
            "64/64 [==============================] - 4s 68ms/step - loss: 3.0778e-04 - mae: 0.0173 - lr: 2.1191e-04\n",
            "Epoch 72/200\n",
            "64/64 [==============================] - 4s 68ms/step - loss: 3.1912e-04 - mae: 0.0177 - lr: 2.1191e-04\n",
            "Epoch 73/200\n",
            "64/64 [==============================] - 4s 69ms/step - loss: 3.3250e-04 - mae: 0.0183 - lr: 2.1191e-04\n",
            "Epoch 74/200\n",
            "64/64 [==============================] - 4s 69ms/step - loss: 3.4872e-04 - mae: 0.0188 - lr: 2.1191e-04\n",
            "Epoch 75/200\n",
            "64/64 [==============================] - 4s 69ms/step - loss: 3.6726e-04 - mae: 0.0194 - lr: 2.1191e-04\n",
            "Epoch 76/200\n",
            "64/64 [==============================] - 4s 68ms/step - loss: 3.5450e-04 - mae: 0.0189 - lr: 1.9072e-04\n",
            "Epoch 77/200\n",
            "64/64 [==============================] - 4s 69ms/step - loss: 3.0525e-04 - mae: 0.0174 - lr: 1.9072e-04\n",
            "Epoch 78/200\n",
            "64/64 [==============================] - 5s 70ms/step - loss: 2.9348e-04 - mae: 0.0170 - lr: 1.9072e-04\n",
            "Epoch 79/200\n",
            "64/64 [==============================] - 4s 69ms/step - loss: 2.9184e-04 - mae: 0.0170 - lr: 1.9072e-04\n",
            "Epoch 80/200\n",
            "64/64 [==============================] - 4s 69ms/step - loss: 3.0298e-04 - mae: 0.0175 - lr: 1.9072e-04\n",
            "Epoch 81/200\n",
            "64/64 [==============================] - 4s 68ms/step - loss: 3.1466e-04 - mae: 0.0179 - lr: 1.9072e-04\n",
            "Epoch 82/200\n",
            "64/64 [==============================] - 4s 68ms/step - loss: 3.2971e-04 - mae: 0.0184 - lr: 1.9072e-04\n",
            "Epoch 83/200\n",
            "64/64 [==============================] - 4s 68ms/step - loss: 3.3924e-04 - mae: 0.0187 - lr: 1.9072e-04\n",
            "Epoch 84/200\n",
            "64/64 [==============================] - 4s 69ms/step - loss: 3.2563e-04 - mae: 0.0182 - lr: 1.7165e-04\n",
            "Epoch 85/200\n",
            "64/64 [==============================] - 4s 69ms/step - loss: 2.8261e-04 - mae: 0.0168 - lr: 1.7165e-04\n",
            "Epoch 86/200\n",
            "64/64 [==============================] - 4s 69ms/step - loss: 2.7087e-04 - mae: 0.0164 - lr: 1.7165e-04\n",
            "Epoch 87/200\n",
            "64/64 [==============================] - 4s 69ms/step - loss: 2.6208e-04 - mae: 0.0161 - lr: 1.7165e-04\n",
            "Epoch 88/200\n",
            "64/64 [==============================] - 4s 68ms/step - loss: 2.7069e-04 - mae: 0.0165 - lr: 1.7165e-04\n",
            "Epoch 89/200\n",
            "64/64 [==============================] - 4s 69ms/step - loss: 2.7593e-04 - mae: 0.0167 - lr: 1.7165e-04\n",
            "Epoch 90/200\n",
            "64/64 [==============================] - 4s 69ms/step - loss: 2.8593e-04 - mae: 0.0171 - lr: 1.7165e-04\n",
            "Epoch 91/200\n",
            "64/64 [==============================] - 4s 68ms/step - loss: 2.9833e-04 - mae: 0.0175 - lr: 1.7165e-04\n",
            "Epoch 92/200\n",
            "64/64 [==============================] - 4s 68ms/step - loss: 3.1388e-04 - mae: 0.0180 - lr: 1.7165e-04\n",
            "Epoch 93/200\n",
            "64/64 [==============================] - 4s 68ms/step - loss: 3.0196e-04 - mae: 0.0176 - lr: 1.5448e-04\n",
            "Epoch 94/200\n",
            "64/64 [==============================] - 4s 69ms/step - loss: 2.6552e-04 - mae: 0.0163 - lr: 1.5448e-04\n",
            "Epoch 95/200\n",
            "64/64 [==============================] - 4s 69ms/step - loss: 2.4541e-04 - mae: 0.0156 - lr: 1.5448e-04\n",
            "Epoch 96/200\n",
            "64/64 [==============================] - 4s 69ms/step - loss: 2.4210e-04 - mae: 0.0155 - lr: 1.5448e-04\n",
            "Epoch 97/200\n",
            "64/64 [==============================] - 4s 68ms/step - loss: 2.4515e-04 - mae: 0.0157 - lr: 1.5448e-04\n",
            "Epoch 98/200\n",
            "64/64 [==============================] - 4s 68ms/step - loss: 2.5038e-04 - mae: 0.0159 - lr: 1.5448e-04\n",
            "Epoch 99/200\n",
            "64/64 [==============================] - 4s 69ms/step - loss: 2.5814e-04 - mae: 0.0162 - lr: 1.5448e-04\n",
            "Epoch 100/200\n",
            "64/64 [==============================] - 4s 68ms/step - loss: 2.6436e-04 - mae: 0.0164 - lr: 1.5448e-04\n",
            "Epoch 101/200\n",
            "64/64 [==============================] - 4s 68ms/step - loss: 2.5964e-04 - mae: 0.0163 - lr: 1.3904e-04\n",
            "Epoch 102/200\n",
            "64/64 [==============================] - 4s 68ms/step - loss: 2.3491e-04 - mae: 0.0154 - lr: 1.3904e-04\n",
            "Epoch 103/200\n",
            "64/64 [==============================] - 4s 68ms/step - loss: 2.2301e-04 - mae: 0.0149 - lr: 1.3904e-04\n",
            "Epoch 104/200\n",
            "64/64 [==============================] - 4s 68ms/step - loss: 2.2309e-04 - mae: 0.0150 - lr: 1.3904e-04\n",
            "Epoch 105/200\n",
            "64/64 [==============================] - 4s 69ms/step - loss: 2.2667e-04 - mae: 0.0151 - lr: 1.3904e-04\n",
            "Epoch 106/200\n",
            "64/64 [==============================] - 4s 69ms/step - loss: 2.3275e-04 - mae: 0.0154 - lr: 1.3904e-04\n",
            "Epoch 107/200\n",
            "64/64 [==============================] - 4s 69ms/step - loss: 2.3608e-04 - mae: 0.0156 - lr: 1.3904e-04\n",
            "Epoch 108/200\n",
            "64/64 [==============================] - 4s 69ms/step - loss: 2.4163e-04 - mae: 0.0158 - lr: 1.3904e-04\n",
            "Epoch 109/200\n",
            "64/64 [==============================] - 4s 69ms/step - loss: 2.3834e-04 - mae: 0.0157 - lr: 1.2513e-04\n",
            "Epoch 110/200\n",
            "64/64 [==============================] - 4s 68ms/step - loss: 2.1672e-04 - mae: 0.0148 - lr: 1.2513e-04\n",
            "Epoch 111/200\n",
            "64/64 [==============================] - 4s 69ms/step - loss: 2.0741e-04 - mae: 0.0145 - lr: 1.2513e-04\n",
            "Epoch 112/200\n",
            "64/64 [==============================] - 4s 68ms/step - loss: 2.0479e-04 - mae: 0.0144 - lr: 1.2513e-04\n",
            "Epoch 113/200\n",
            "64/64 [==============================] - 4s 68ms/step - loss: 2.0647e-04 - mae: 0.0144 - lr: 1.2513e-04\n",
            "Epoch 114/200\n",
            "64/64 [==============================] - 4s 68ms/step - loss: 2.1141e-04 - mae: 0.0147 - lr: 1.2513e-04\n",
            "Epoch 115/200\n",
            "64/64 [==============================] - 4s 68ms/step - loss: 2.1633e-04 - mae: 0.0149 - lr: 1.2513e-04\n",
            "Epoch 116/200\n",
            "64/64 [==============================] - 4s 68ms/step - loss: 2.2012e-04 - mae: 0.0151 - lr: 1.2513e-04\n",
            "Epoch 117/200\n",
            "64/64 [==============================] - 4s 69ms/step - loss: 2.1675e-04 - mae: 0.0150 - lr: 1.1262e-04\n",
            "Epoch 118/200\n",
            "64/64 [==============================] - 4s 69ms/step - loss: 1.9902e-04 - mae: 0.0142 - lr: 1.1262e-04\n",
            "Epoch 119/200\n",
            "64/64 [==============================] - 4s 68ms/step - loss: 1.9175e-04 - mae: 0.0139 - lr: 1.1262e-04\n",
            "Epoch 120/200\n",
            "64/64 [==============================] - 4s 69ms/step - loss: 1.9208e-04 - mae: 0.0140 - lr: 1.1262e-04\n",
            "Epoch 121/200\n",
            "64/64 [==============================] - 4s 68ms/step - loss: 1.9406e-04 - mae: 0.0141 - lr: 1.1262e-04\n",
            "Epoch 122/200\n",
            "64/64 [==============================] - 4s 68ms/step - loss: 1.9605e-04 - mae: 0.0142 - lr: 1.1262e-04\n",
            "Epoch 123/200\n",
            "64/64 [==============================] - 4s 69ms/step - loss: 1.9871e-04 - mae: 0.0143 - lr: 1.1262e-04\n",
            "Epoch 124/200\n",
            "64/64 [==============================] - 4s 69ms/step - loss: 2.0253e-04 - mae: 0.0145 - lr: 1.1262e-04\n",
            "Epoch 125/200\n",
            "64/64 [==============================] - 4s 69ms/step - loss: 1.9909e-04 - mae: 0.0144 - lr: 1.0136e-04\n",
            "Epoch 126/200\n",
            "64/64 [==============================] - 4s 68ms/step - loss: 1.8682e-04 - mae: 0.0138 - lr: 1.0136e-04\n",
            "Epoch 127/200\n",
            "64/64 [==============================] - 4s 69ms/step - loss: 1.8213e-04 - mae: 0.0136 - lr: 1.0136e-04\n",
            "Epoch 128/200\n",
            "64/64 [==============================] - 4s 68ms/step - loss: 1.8135e-04 - mae: 0.0136 - lr: 1.0136e-04\n",
            "Epoch 129/200\n",
            "64/64 [==============================] - 4s 68ms/step - loss: 1.8308e-04 - mae: 0.0137 - lr: 1.0136e-04\n",
            "Epoch 130/200\n",
            "64/64 [==============================] - 4s 68ms/step - loss: 1.8453e-04 - mae: 0.0137 - lr: 1.0136e-04\n",
            "Epoch 131/200\n",
            "64/64 [==============================] - 4s 68ms/step - loss: 1.8787e-04 - mae: 0.0139 - lr: 1.0136e-04\n",
            "Epoch 132/200\n",
            "64/64 [==============================] - 4s 69ms/step - loss: 1.9030e-04 - mae: 0.0140 - lr: 1.0136e-04\n",
            "Epoch 133/200\n",
            "64/64 [==============================] - 4s 69ms/step - loss: 1.8772e-04 - mae: 0.0139 - lr: 9.1221e-05\n",
            "Epoch 134/200\n",
            "64/64 [==============================] - 4s 68ms/step - loss: 1.7720e-04 - mae: 0.0135 - lr: 9.1221e-05\n",
            "Epoch 135/200\n",
            "64/64 [==============================] - 4s 69ms/step - loss: 1.7123e-04 - mae: 0.0132 - lr: 9.1221e-05\n",
            "Epoch 136/200\n",
            "64/64 [==============================] - 4s 69ms/step - loss: 1.7053e-04 - mae: 0.0131 - lr: 9.1221e-05\n",
            "Epoch 137/200\n",
            "64/64 [==============================] - 4s 68ms/step - loss: 1.7201e-04 - mae: 0.0132 - lr: 9.1221e-05\n",
            "Epoch 138/200\n",
            "64/64 [==============================] - 4s 68ms/step - loss: 1.7420e-04 - mae: 0.0133 - lr: 9.1221e-05\n",
            "Epoch 139/200\n",
            "64/64 [==============================] - 4s 69ms/step - loss: 1.7568e-04 - mae: 0.0134 - lr: 9.1221e-05\n",
            "Epoch 140/200\n",
            "64/64 [==============================] - 4s 69ms/step - loss: 1.7827e-04 - mae: 0.0135 - lr: 9.1221e-05\n",
            "Epoch 141/200\n",
            "64/64 [==============================] - 4s 70ms/step - loss: 1.7515e-04 - mae: 0.0134 - lr: 8.2099e-05\n",
            "Epoch 142/200\n",
            "64/64 [==============================] - 4s 69ms/step - loss: 1.6741e-04 - mae: 0.0131 - lr: 8.2099e-05\n",
            "Epoch 143/200\n",
            "64/64 [==============================] - 4s 69ms/step - loss: 1.6422e-04 - mae: 0.0129 - lr: 8.2099e-05\n",
            "Epoch 144/200\n",
            "64/64 [==============================] - 4s 68ms/step - loss: 1.6313e-04 - mae: 0.0128 - lr: 8.2099e-05\n",
            "Epoch 145/200\n",
            "64/64 [==============================] - 4s 69ms/step - loss: 1.6428e-04 - mae: 0.0129 - lr: 8.2099e-05\n",
            "Epoch 146/200\n",
            "64/64 [==============================] - 4s 68ms/step - loss: 1.6598e-04 - mae: 0.0130 - lr: 8.2099e-05\n",
            "Epoch 147/200\n",
            "64/64 [==============================] - 4s 69ms/step - loss: 1.6702e-04 - mae: 0.0130 - lr: 8.2099e-05\n",
            "Epoch 148/200\n",
            "64/64 [==============================] - 4s 68ms/step - loss: 1.6992e-04 - mae: 0.0132 - lr: 8.2099e-05\n",
            "Epoch 149/200\n",
            "64/64 [==============================] - 4s 68ms/step - loss: 1.6986e-04 - mae: 0.0132 - lr: 7.3889e-05\n",
            "Epoch 150/200\n",
            "64/64 [==============================] - 4s 68ms/step - loss: 1.6220e-04 - mae: 0.0128 - lr: 7.3889e-05\n",
            "Epoch 151/200\n",
            "64/64 [==============================] - 4s 69ms/step - loss: 1.5982e-04 - mae: 0.0127 - lr: 7.3889e-05\n",
            "Epoch 152/200\n",
            "64/64 [==============================] - 4s 69ms/step - loss: 1.5851e-04 - mae: 0.0126 - lr: 7.3889e-05\n",
            "Epoch 153/200\n",
            "64/64 [==============================] - 4s 68ms/step - loss: 1.5969e-04 - mae: 0.0127 - lr: 7.3889e-05\n",
            "Epoch 154/200\n",
            "64/64 [==============================] - 4s 68ms/step - loss: 1.6057e-04 - mae: 0.0127 - lr: 7.3889e-05\n",
            "Epoch 155/200\n",
            "64/64 [==============================] - 4s 69ms/step - loss: 1.6260e-04 - mae: 0.0128 - lr: 7.3889e-05\n",
            "Epoch 156/200\n",
            "64/64 [==============================] - 4s 69ms/step - loss: 1.6300e-04 - mae: 0.0129 - lr: 7.3889e-05\n",
            "Epoch 157/200\n",
            "64/64 [==============================] - 4s 69ms/step - loss: 1.6141e-04 - mae: 0.0128 - lr: 6.6500e-05\n",
            "Epoch 158/200\n",
            "64/64 [==============================] - 4s 68ms/step - loss: 1.5695e-04 - mae: 0.0126 - lr: 6.6500e-05\n",
            "Epoch 159/200\n",
            "64/64 [==============================] - 4s 68ms/step - loss: 1.5600e-04 - mae: 0.0125 - lr: 6.6500e-05\n",
            "Epoch 160/200\n",
            "64/64 [==============================] - 4s 68ms/step - loss: 1.5505e-04 - mae: 0.0125 - lr: 6.6500e-05\n",
            "Epoch 161/200\n",
            "64/64 [==============================] - 4s 68ms/step - loss: 1.5571e-04 - mae: 0.0125 - lr: 6.6500e-05\n",
            "Epoch 162/200\n",
            "64/64 [==============================] - 4s 69ms/step - loss: 1.5666e-04 - mae: 0.0125 - lr: 6.6500e-05\n",
            "Epoch 163/200\n",
            "64/64 [==============================] - 4s 68ms/step - loss: 1.5811e-04 - mae: 0.0126 - lr: 6.6500e-05\n",
            "Epoch 164/200\n",
            "64/64 [==============================] - 4s 68ms/step - loss: 1.5881e-04 - mae: 0.0126 - lr: 6.6500e-05\n",
            "Epoch 165/200\n",
            "64/64 [==============================] - 4s 69ms/step - loss: 1.6081e-04 - mae: 0.0128 - lr: 6.6500e-05\n",
            "Epoch 166/200\n",
            "64/64 [==============================] - 4s 69ms/step - loss: 1.5943e-04 - mae: 0.0127 - lr: 5.9850e-05\n",
            "Epoch 167/200\n",
            "64/64 [==============================] - 4s 68ms/step - loss: 1.5540e-04 - mae: 0.0125 - lr: 5.9850e-05\n",
            "Epoch 168/200\n",
            "64/64 [==============================] - 4s 69ms/step - loss: 1.5176e-04 - mae: 0.0123 - lr: 5.9850e-05\n",
            "Epoch 169/200\n",
            "64/64 [==============================] - 4s 69ms/step - loss: 1.5135e-04 - mae: 0.0123 - lr: 5.9850e-05\n",
            "Epoch 170/200\n",
            "64/64 [==============================] - 4s 68ms/step - loss: 1.5163e-04 - mae: 0.0123 - lr: 5.9850e-05\n",
            "Epoch 171/200\n",
            "64/64 [==============================] - 4s 69ms/step - loss: 1.5319e-04 - mae: 0.0124 - lr: 5.9850e-05\n",
            "Epoch 172/200\n",
            "64/64 [==============================] - 4s 69ms/step - loss: 1.5354e-04 - mae: 0.0124 - lr: 5.9850e-05\n",
            "Epoch 173/200\n",
            "64/64 [==============================] - 4s 68ms/step - loss: 1.5640e-04 - mae: 0.0126 - lr: 5.9850e-05\n",
            "Epoch 174/200\n",
            "64/64 [==============================] - 4s 69ms/step - loss: 1.5443e-04 - mae: 0.0125 - lr: 5.3865e-05\n",
            "Epoch 175/200\n",
            "64/64 [==============================] - 4s 69ms/step - loss: 1.5145e-04 - mae: 0.0123 - lr: 5.3865e-05\n",
            "Epoch 176/200\n",
            "64/64 [==============================] - 4s 69ms/step - loss: 1.4977e-04 - mae: 0.0122 - lr: 5.3865e-05\n",
            "Epoch 177/200\n",
            "64/64 [==============================] - 4s 68ms/step - loss: 1.5002e-04 - mae: 0.0122 - lr: 5.3865e-05\n",
            "Epoch 178/200\n",
            "64/64 [==============================] - 4s 69ms/step - loss: 1.4961e-04 - mae: 0.0122 - lr: 5.3865e-05\n",
            "Epoch 179/200\n",
            "64/64 [==============================] - 4s 69ms/step - loss: 1.5040e-04 - mae: 0.0122 - lr: 5.3865e-05\n",
            "Epoch 180/200\n",
            "64/64 [==============================] - 4s 69ms/step - loss: 1.5085e-04 - mae: 0.0122 - lr: 5.3865e-05\n",
            "Epoch 181/200\n",
            "64/64 [==============================] - 4s 69ms/step - loss: 1.5154e-04 - mae: 0.0123 - lr: 5.3865e-05\n",
            "Epoch 182/200\n",
            "64/64 [==============================] - 4s 68ms/step - loss: 1.5082e-04 - mae: 0.0123 - lr: 4.8479e-05\n",
            "Epoch 183/200\n",
            "64/64 [==============================] - 4s 68ms/step - loss: 1.4752e-04 - mae: 0.0121 - lr: 4.8479e-05\n",
            "Epoch 184/200\n",
            "64/64 [==============================] - 4s 69ms/step - loss: 1.4691e-04 - mae: 0.0121 - lr: 4.8479e-05\n",
            "Epoch 185/200\n",
            "64/64 [==============================] - 4s 68ms/step - loss: 1.4696e-04 - mae: 0.0121 - lr: 4.8479e-05\n",
            "Epoch 186/200\n",
            "64/64 [==============================] - 4s 69ms/step - loss: 1.4715e-04 - mae: 0.0121 - lr: 4.8479e-05\n",
            "Epoch 187/200\n",
            "64/64 [==============================] - 4s 68ms/step - loss: 1.4780e-04 - mae: 0.0121 - lr: 4.8479e-05\n",
            "Epoch 188/200\n",
            "64/64 [==============================] - 4s 68ms/step - loss: 1.4827e-04 - mae: 0.0121 - lr: 4.8479e-05\n",
            "Epoch 189/200\n",
            "64/64 [==============================] - 4s 68ms/step - loss: 1.4771e-04 - mae: 0.0121 - lr: 4.3631e-05\n",
            "Epoch 190/200\n",
            "64/64 [==============================] - 4s 68ms/step - loss: 1.4678e-04 - mae: 0.0121 - lr: 4.3631e-05\n",
            "Epoch 191/200\n",
            "64/64 [==============================] - 4s 68ms/step - loss: 1.4569e-04 - mae: 0.0120 - lr: 4.3631e-05\n",
            "Epoch 192/200\n",
            "64/64 [==============================] - 4s 68ms/step - loss: 1.4579e-04 - mae: 0.0120 - lr: 4.3631e-05\n",
            "Epoch 193/200\n",
            "64/64 [==============================] - 4s 68ms/step - loss: 1.4632e-04 - mae: 0.0120 - lr: 4.3631e-05\n",
            "Epoch 194/200\n",
            "64/64 [==============================] - 4s 69ms/step - loss: 1.4646e-04 - mae: 0.0120 - lr: 4.3631e-05\n",
            "Epoch 195/200\n",
            "64/64 [==============================] - 4s 68ms/step - loss: 1.4659e-04 - mae: 0.0121 - lr: 4.3631e-05\n",
            "Epoch 196/200\n",
            "64/64 [==============================] - 4s 69ms/step - loss: 1.4684e-04 - mae: 0.0121 - lr: 4.3631e-05\n",
            "Epoch 197/200\n",
            "64/64 [==============================] - 4s 68ms/step - loss: 1.4693e-04 - mae: 0.0121 - lr: 3.9268e-05\n",
            "Epoch 198/200\n",
            "64/64 [==============================] - 4s 68ms/step - loss: 1.4524e-04 - mae: 0.0120 - lr: 3.9268e-05\n",
            "Epoch 199/200\n",
            "64/64 [==============================] - 4s 68ms/step - loss: 1.4460e-04 - mae: 0.0120 - lr: 3.9268e-05\n",
            "Epoch 200/200\n",
            "64/64 [==============================] - 4s 68ms/step - loss: 1.4420e-04 - mae: 0.0119 - lr: 3.9268e-05\n"
          ]
        },
        {
          "output_type": "execute_result",
          "data": {
            "text/plain": [
              "<keras.callbacks.History at 0x7f43c0e8d490>"
            ]
          },
          "metadata": {},
          "execution_count": 69
        }
      ]
    },
    {
      "cell_type": "code",
      "source": [
        "print(cnn_lstm.summary())"
      ],
      "metadata": {
        "id": "JRRKJ2VswVHY",
        "colab": {
          "base_uri": "https://localhost:8080/"
        },
        "outputId": "55f5993d-fbbc-41fe-d3c5-617f5cc2e6d8"
      },
      "execution_count": 70,
      "outputs": [
        {
          "output_type": "stream",
          "name": "stdout",
          "text": [
            "Model: \"sequential_1\"\n",
            "_________________________________________________________________\n",
            " Layer (type)                Output Shape              Param #   \n",
            "=================================================================\n",
            " conv1d_1 (Conv1D)           (None, 250, 512)          1536      \n",
            "                                                                 \n",
            " max_pooling1d_1 (MaxPooling  (None, 250, 512)         0         \n",
            " 1D)                                                             \n",
            "                                                                 \n",
            " lstm_1 (LSTM)               (None, 300)               975600    \n",
            "                                                                 \n",
            " dense_3 (Dense)             (None, 30)                9030      \n",
            "                                                                 \n",
            " dense_4 (Dense)             (None, 10)                310       \n",
            "                                                                 \n",
            " dense_5 (Dense)             (None, 1)                 11        \n",
            "                                                                 \n",
            "=================================================================\n",
            "Total params: 986,487\n",
            "Trainable params: 986,487\n",
            "Non-trainable params: 0\n",
            "_________________________________________________________________\n",
            "None\n"
          ]
        }
      ]
    },
    {
      "cell_type": "code",
      "source": [
        "# Compute the forecast for all the series\n",
        "cnn_lstm_forecast = model_forecast(cnn_lstm, series_norm, G.WINDOW_SIZE).squeeze()\n",
        "\n",
        "# Slice the forecast to get only the predictions for the test set\n",
        "series_test_hat_cnn_lstm = cnn_lstm_forecast[-150:]\n",
        "series_test_hat_cnn_lstm = reverse_normalization(series_test_hat_cnn_lstm)"
      ],
      "metadata": {
        "id": "54nm9-qaAU9o"
      },
      "execution_count": 71,
      "outputs": []
    },
    {
      "cell_type": "code",
      "source": [
        "# Plot the forecast\n",
        "\n",
        "plt.figure(figsize=(10, 6))\n",
        "plot_series(np.arange( 1, len(time_test)+1 ), series_test)\n",
        "plot_series(np.arange( 1, len(time_test)+1 ), series_test_hat_cnn_lstm)\n",
        "plt.ylabel(\"Index Value\")\n",
        "plt.xlabel(\"Time Step\")\n",
        "legend_drawn_flag = True\n",
        "plt.legend([\"Original Value (Nikkei225)\", \"Predicted Value (Nikkei225)\"], loc=0, frameon=legend_drawn_flag)\n",
        "plt.savefig(\"/content/gdrive/MyDrive/Forecasting_results/cnn_lstm_forecasts_N225.svg\")"
      ],
      "metadata": {
        "colab": {
          "base_uri": "https://localhost:8080/",
          "height": 388
        },
        "id": "aunNgSHlJ7A6",
        "outputId": "8324113e-4cfd-4ee1-f5a7-8dd6ebdde8d0"
      },
      "execution_count": 72,
      "outputs": [
        {
          "output_type": "display_data",
          "data": {
            "text/plain": [
              "<Figure size 720x432 with 1 Axes>"
            ],
            "image/png": "[encoded data removed]"
          },
          "metadata": {
            "needs_background": "light"
          }
        }
      ]
    },
    {
      "cell_type": "code",
      "source": [
        "rmse_cnn_lstm, mae_cnn_lstm, mape_cnn_lstm= compute_metrics(series_test, series_test_hat_cnn_lstm)\n",
        "\n",
        "print(f\"rmse: {rmse_cnn_lstm:.2f}, mae: {mae_cnn_lstm:.2f} , mape: {mape_cnn_lstm:.2f} for forecast\")"
      ],
      "metadata": {
        "id": "hW0VZCxdAVjO",
        "colab": {
          "base_uri": "https://localhost:8080/"
        },
        "outputId": "a13b5aba-763b-4655-bd30-81b60d32d0e5"
      },
      "execution_count": 73,
      "outputs": [
        {
          "output_type": "stream",
          "name": "stdout",
          "text": [
            "mse: 74.76, mae: 63.50 , mape: 0.29 for forecast\n"
          ]
        }
      ]
    },
    {
      "cell_type": "code",
      "source": [
        "# Save model\n",
        "cnn_lstm.save('/content/gdrive/MyDrive/Saved_models/cnn_lstm_N225.h5')"
      ],
      "metadata": {
        "id": "ZTLG7OoYmWjD"
      },
      "execution_count": 74,
      "outputs": []
    },
    {
      "cell_type": "markdown",
      "source": [
        "### Reload the saved model"
      ],
      "metadata": {
        "id": "x5vwyATiKnhN"
      }
    },
    {
      "cell_type": "code",
      "source": [
        "saved_cnn_lstm = load_model('/content/gdrive/MyDrive/Saved_models/cnn_lstm_N225.h5')"
      ],
      "metadata": {
        "id": "mBNVG2lFKtjF"
      },
      "execution_count": 78,
      "outputs": []
    },
    {
      "cell_type": "code",
      "source": [
        "print(saved_cnn_lstm.summary())"
      ],
      "metadata": {
        "colab": {
          "base_uri": "https://localhost:8080/"
        },
        "id": "ty8ZQcBJKtWU",
        "outputId": "c47b16ef-efc1-4d2a-b70e-dfc9d967532b"
      },
      "execution_count": 79,
      "outputs": [
        {
          "output_type": "stream",
          "name": "stdout",
          "text": [
            "Model: \"sequential_1\"\n",
            "_________________________________________________________________\n",
            " Layer (type)                Output Shape              Param #   \n",
            "=================================================================\n",
            " conv1d_1 (Conv1D)           (None, 250, 512)          1536      \n",
            "                                                                 \n",
            " max_pooling1d_1 (MaxPooling  (None, 250, 512)         0         \n",
            " 1D)                                                             \n",
            "                                                                 \n",
            " lstm_1 (LSTM)               (None, 300)               975600    \n",
            "                                                                 \n",
            " dense_3 (Dense)             (None, 30)                9030      \n",
            "                                                                 \n",
            " dense_4 (Dense)             (None, 10)                310       \n",
            "                                                                 \n",
            " dense_5 (Dense)             (None, 1)                 11        \n",
            "                                                                 \n",
            "=================================================================\n",
            "Total params: 986,487\n",
            "Trainable params: 986,487\n",
            "Non-trainable params: 0\n",
            "_________________________________________________________________\n",
            "None\n"
          ]
        }
      ]
    },
    {
      "cell_type": "code",
      "source": [
        "# Compute the forecast for all the series\n",
        "saved_cnn_lstm_forecast = model_forecast(saved_cnn_lstm, series_norm, G.WINDOW_SIZE).squeeze()\n",
        "\n",
        "# Slice the forecast to get only the predictions for the test set\n",
        "series_test_hat_saved_cnn_lstm = saved_cnn_lstm_forecast[-150:]\n",
        "series_test_hat_saved_cnn_lstm = reverse_normalization(series_test_hat_saved_cnn_lstm)"
      ],
      "metadata": {
        "id": "kmF5UztVKtOq"
      },
      "execution_count": 80,
      "outputs": []
    },
    {
      "cell_type": "code",
      "source": [
        "# Plot the forecast\n",
        "\n",
        "plt.figure(figsize=(10, 6))\n",
        "plot_series(np.arange( 1, len(time_test)+1 ), series_test)\n",
        "plot_series(np.arange( 1, len(time_test)+1 ), series_test_hat_saved_cnn_lstm)\n",
        "plt.ylabel(\"Index Value\")\n",
        "plt.xlabel(\"Time Step\")\n",
        "legend_drawn_flag = True\n",
        "plt.legend([\"Original Value (DJIA)\", \"Predicted Value (DJIA)\"], loc=0, frameon=legend_drawn_flag)\n",
        "plt.savefig(\"/content/gdrive/MyDrive/Forecasting_results/saved_cnn_lstm_forecasts.svg\")"
      ],
      "metadata": {
        "colab": {
          "base_uri": "https://localhost:8080/",
          "height": 388
        },
        "id": "oBU3NZ4KKs7q",
        "outputId": "8030b9e8-d48a-497f-eb84-743345695a9e"
      },
      "execution_count": 81,
      "outputs": [
        {
          "output_type": "display_data",
          "data": {
            "text/plain": [
              "<Figure size 720x432 with 1 Axes>"
            ],
            "image/png": "[encoded data removed]"
          },
          "metadata": {
            "needs_background": "light"
          }
        }
      ]
    },
    {
      "cell_type": "code",
      "source": [
        "rmse_saved_cnn_lstm, mae_saved_cnn_lstm, mape_saved_cnn_lstm= compute_metrics(series_test, series_test_hat_saved_cnn_lstm)\n",
        "\n",
        "print(f\"rmse: {rmse_saved_cnn_lstm:.2f}, mae: {mae_saved_cnn_lstm:.2f} , mape: {mape_saved_cnn_lstm:.2f} for forecast\")"
      ],
      "metadata": {
        "colab": {
          "base_uri": "https://localhost:8080/"
        },
        "id": "B5fcbttxK_Rs",
        "outputId": "d4869e75-f656-45b9-bfe6-8d0549003528"
      },
      "execution_count": 82,
      "outputs": [
        {
          "output_type": "stream",
          "name": "stdout",
          "text": [
            "rmse: 66.94, mae: 57.14 , mape: 0.27 for forecast\n"
          ]
        }
      ]
    },
    {
      "cell_type": "markdown",
      "source": [
        "## Camparison"
      ],
      "metadata": {
        "id": "15FrV8PMAimg"
      }
    },
    {
      "cell_type": "markdown",
      "source": [
        "Compare our proposed Capsnet-LSTM with LSTM and CNN-LSTM"
      ],
      "metadata": {
        "id": "Z330X9SE8RWm"
      }
    },
    {
      "cell_type": "markdown",
      "source": [
        "### Three forecasting results in one figure:"
      ],
      "metadata": {
        "id": "x8SF-DmK78l9"
      }
    },
    {
      "cell_type": "code",
      "source": [
        "plt.figure(figsize=(30, 20))\n",
        "plot_series(np.arange( 1, len(time_test)+1 ), series_test)\n",
        "plot_series(np.arange( 1, len(time_test)+1 ), series_test_hat_saved_capsnet_lstm)\n",
        "plot_series(np.arange( 1, len(time_test)+1 ), series_test_hat_saved_lstm)\n",
        "plot_series(np.arange( 1, len(time_test)+1 ), series_test_hat_saved_cnn_lstm)\n",
        "plt.ylabel(\"Index Value\")\n",
        "plt.xlabel(\"Time Step\")\n",
        "legend_drawn_flag = True\n",
        "plt.legend([\"Original Value\", \"Predicted Value (CapsNet-LSTM)\",\"Predicted Value (LSTM)\",\"Predicted Value (CNN-LSTM)\"], loc=0, frameon=legend_drawn_flag)\n",
        "plt.savefig(\"/content/gdrive/MyDrive/Forecasting_results/all_together_forecasts_N225.svg\")"
      ],
      "metadata": {
        "id": "rNCmNekCAuAF",
        "colab": {
          "base_uri": "https://localhost:8080/",
          "height": 990
        },
        "outputId": "e200a4eb-2541-4b4c-d81b-5904608c5b2d"
      },
      "execution_count": 83,
      "outputs": [
        {
          "output_type": "display_data",
          "data": {
            "text/plain": [
              "<Figure size 2160x1440 with 1 Axes>"
            ],
            "image/png": "[encoded data removed]"
          },
          "metadata": {
            "needs_background": "light"
          }
        }
      ]
    },
    {
      "cell_type": "markdown",
      "source": [
        "### Compare the rmse, mae mape"
      ],
      "metadata": {
        "id": "3frHiK9N8F87"
      }
    },
    {
      "cell_type": "code",
      "source": [
        "# Print RMSE\n",
        "\n",
        "print(rmse_saved_capsnet_lstm)\n",
        "print(rmse_saved_lstm)\n",
        "print(rmse_saved_cnn_lstm)"
      ],
      "metadata": {
        "id": "JzlMIn_iAt7w",
        "colab": {
          "base_uri": "https://localhost:8080/"
        },
        "outputId": "c79f2c71-151f-49d8-889a-66947e5c8401"
      },
      "execution_count": 84,
      "outputs": [
        {
          "output_type": "stream",
          "name": "stdout",
          "text": [
            "51.342907\n",
            "108.107506\n",
            "66.9364\n"
          ]
        }
      ]
    },
    {
      "cell_type": "code",
      "source": [
        "# Print MAE\n",
        "\n",
        "print(mae_saved_capsnet_lstm)\n",
        "print(mae_saved_lstm)\n",
        "print(mae_saved_cnn_lstm)"
      ],
      "metadata": {
        "colab": {
          "base_uri": "https://localhost:8080/"
        },
        "id": "DbjZwg30MfWH",
        "outputId": "85f788d6-0a62-47ff-fb40-a62beb0bb0f5"
      },
      "execution_count": 85,
      "outputs": [
        {
          "output_type": "stream",
          "name": "stdout",
          "text": [
            "49.108658\n",
            "93.82571\n",
            "57.13953\n"
          ]
        }
      ]
    },
    {
      "cell_type": "code",
      "source": [
        "# Print MApe_saved\n",
        "\n",
        "print(mape_saved_capsnet_lstm)\n",
        "print(mape_saved_lstm)\n",
        "print(mape_saved_cnn_lstm)"
      ],
      "metadata": {
        "colab": {
          "base_uri": "https://localhost:8080/"
        },
        "id": "_oui7lBDMWo7",
        "outputId": "ef260c04-1d01-48b9-f2d1-b2bc6af5f4e2"
      },
      "execution_count": 86,
      "outputs": [
        {
          "output_type": "stream",
          "name": "stdout",
          "text": [
            "0.22601688\n",
            "0.43874633\n",
            "0.26562166\n"
          ]
        }
      ]
    }
  ],
  "metadata": {
    "kernelspec": {
      "display_name": "Python 3",
      "language": "python",
      "name": "python3"
    },
    "language_info": {
      "codemirror_mode": {
        "name": "ipython",
        "version": 3
      },
      "file_extension": ".py",
      "mimetype": "text/x-python",
      "name": "python",
      "nbconvert_exporter": "python",
      "pygments_lexer": "ipython3",
      "version": "3.8.8"
    },
    "colab": {
      "provenance": [],
      "collapsed_sections": [],
      "machine_shape": "hm",
      "include_colab_link": true
    },
    "accelerator": "TPU",
    "gpuClass": "standard"
  },
  "nbformat": 4,
  "nbformat_minor": 0
}