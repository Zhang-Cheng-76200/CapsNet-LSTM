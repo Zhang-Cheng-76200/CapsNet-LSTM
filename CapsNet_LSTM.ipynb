{
  "cells": [
    {
      "cell_type": "markdown",
      "metadata": {
        "id": "view-in-github",
        "colab_type": "text"
      },
      "source": [
        "<a href=\"https://colab.research.google.com/github/Orangefox76200/CapsNet-LSTM/blob/main/CapsNet_LSTM.ipynb\" target=\"_parent\"><img src=\"https://colab.research.google.com/assets/colab-badge.svg\" alt=\"Open In Colab\"/></a>"
      ]
    },
    {
      "cell_type": "markdown",
      "metadata": {
        "id": "G92ON7NXEnkW"
      },
      "source": [
        "# Financial Time Series Forecasting Using A Hybrid CapsNet-LSTM Architecture: Using real world data (DJIA Index)\n",
        "\n",
        "DJIA Index dataset contains data of the daily DJIA Index price recorded from Jan 1st, 2010 to Dec 31st, 2019. In addition to be using Tensorflow's layers for processing sequence data such as LSTMs we will also intergrate Capsule Network in our proposed hybrid architecture to improve the model's performance.\n",
        "\n",
        "Let's get started!"
      ]
    },
    {
      "cell_type": "code",
      "source": [
        "!pip install keras-tuner -q"
      ],
      "metadata": {
        "id": "q-8z1SiOcPgO",
        "outputId": "088e2efa-75b8-4bf7-f1aa-727cd5203e0f",
        "colab": {
          "base_uri": "https://localhost:8080/"
        }
      },
      "execution_count": 1,
      "outputs": [
        {
          "output_type": "stream",
          "name": "stdout",
          "text": [
            "\u001b[K     |████████████████████████████████| 135 kB 4.9 MB/s \n",
            "\u001b[K     |████████████████████████████████| 1.6 MB 48.6 MB/s \n",
            "\u001b[?25h"
          ]
        }
      ]
    },
    {
      "cell_type": "code",
      "execution_count": 2,
      "metadata": {
        "id": "56XEQOGknrAk"
      },
      "outputs": [],
      "source": [
        "import keras.backend as K\n",
        "import tensorflow as tf\n",
        "import keras\n",
        "import keras_tuner\n",
        "from keras import backend as K\n",
        "from keras import initializers, layers, models, optimizers, callbacks\n",
        "\n",
        "from keras.initializers import *\n",
        "from keras.layers import *\n",
        "from keras.models import *\n",
        "from keras.optimizers import *\n",
        "from keras.callbacks import *\n",
        "\n",
        "\n",
        "import os\n",
        "import pickle\n",
        "import pandas as pd\n",
        "import numpy as np\n",
        "import matplotlib.pyplot as plt\n",
        "from dataclasses import dataclass"
      ]
    },
    {
      "cell_type": "code",
      "source": [
        "# make sure reproducible\n",
        "from numpy.random import seed\n",
        "seed(1)\n",
        "tf.random.set_seed(2)"
      ],
      "metadata": {
        "id": "Xe-Rnq9QbQ7A"
      },
      "execution_count": 6,
      "outputs": []
    },
    {
      "cell_type": "code",
      "source": [
        "# If code is running on TPU\n",
        "resolver = tf.distribute.cluster_resolver.TPUClusterResolver(tpu='')\n",
        "tf.config.experimental_connect_to_cluster(resolver)\n",
        "# This is the TPU initialization code that has to be at the beginning.\n",
        "tf.tpu.experimental.initialize_tpu_system(resolver)\n",
        "print(\"All devices: \", tf.config.list_logical_devices('TPU'))"
      ],
      "metadata": {
        "colab": {
          "base_uri": "https://localhost:8080/"
        },
        "id": "CnjuziNxZdvf",
        "outputId": "06141b68-aa71-41b2-e110-4e055362710b"
      },
      "execution_count": 7,
      "outputs": [
        {
          "output_type": "stream",
          "name": "stdout",
          "text": [
            "All devices:  [LogicalDevice(name='/job:worker/replica:0/task:0/device:TPU:0', device_type='TPU'), LogicalDevice(name='/job:worker/replica:0/task:0/device:TPU:1', device_type='TPU'), LogicalDevice(name='/job:worker/replica:0/task:0/device:TPU:2', device_type='TPU'), LogicalDevice(name='/job:worker/replica:0/task:0/device:TPU:3', device_type='TPU'), LogicalDevice(name='/job:worker/replica:0/task:0/device:TPU:4', device_type='TPU'), LogicalDevice(name='/job:worker/replica:0/task:0/device:TPU:5', device_type='TPU'), LogicalDevice(name='/job:worker/replica:0/task:0/device:TPU:6', device_type='TPU'), LogicalDevice(name='/job:worker/replica:0/task:0/device:TPU:7', device_type='TPU')]\n"
          ]
        }
      ]
    },
    {
      "cell_type": "code",
      "source": [
        "strategy = tf.distribute.TPUStrategy(resolver)"
      ],
      "metadata": {
        "id": "eb5Za_rOMFVx"
      },
      "execution_count": 8,
      "outputs": []
    },
    {
      "cell_type": "code",
      "source": [
        "print(tf.__version__)"
      ],
      "metadata": {
        "colab": {
          "base_uri": "https://localhost:8080/"
        },
        "id": "rA-JsdF3y5eE",
        "outputId": "16d98ae7-350a-4bcf-825c-47e11916f389"
      },
      "execution_count": 11,
      "outputs": [
        {
          "output_type": "stream",
          "name": "stdout",
          "text": [
            "2.8.2\n"
          ]
        }
      ]
    },
    {
      "cell_type": "markdown",
      "metadata": {
        "id": "RBR7h1IgEnkc"
      },
      "source": [
        "## Parsing the raw data\n",
        "\n",
        "A couple of things to note:\n",
        "\n",
        "- There is no need to save the data points as numpy arrays, regular lists is fine.\n",
        "- The `time` list should contain every timestep (starting at zero), which is just a sequence of ordered numbers with the same length as the `series` list.\n",
        "- The values of the `series` should be of `float` type. You can use Python's built-in `float` function to ensure this."
      ]
    },
    {
      "cell_type": "markdown",
      "metadata": {
        "id": "GeP3JMZHEnkZ"
      },
      "source": [
        "Begin by looking at the structure of the xlsx file that contains the data:"
      ]
    },
    {
      "cell_type": "code",
      "source": [
        "from google.colab import drive\n",
        "drive.mount ('gdrive')\n",
        "DJIA_raw = pd.read_excel('/content/gdrive/MyDrive/Colab Notebooks/DJIA.xlsx')\n",
        "DJIA_raw"
      ],
      "metadata": {
        "colab": {
          "base_uri": "https://localhost:8080/",
          "height": 441
        },
        "id": "vKv3toTHFgnh",
        "outputId": "3021566d-c869-4f64-feba-03f191fe5ae7"
      },
      "execution_count": 12,
      "outputs": [
        {
          "output_type": "stream",
          "name": "stdout",
          "text": [
            "Mounted at gdrive\n"
          ]
        },
        {
          "output_type": "execute_result",
          "data": {
            "text/plain": [
              "              Date      Open      High       Low     Close     Volume\n",
              "0     Jan 04, 2010  10430.69  10604.97  10430.69  10583.96  179780000\n",
              "1     Jan 05, 2010  10584.56  10584.56  10522.52  10572.02  188540000\n",
              "2     Jan 06, 2010  10564.72  10594.99  10546.55  10573.68  186040000\n",
              "3     Jan 07, 2010  10571.11  10612.37  10505.21  10606.86  217390000\n",
              "4     Jan 08, 2010  10606.40  10619.40  10554.33  10618.19  172710000\n",
              "...            ...       ...       ...       ...       ...        ...\n",
              "2511  Dec 24, 2019  28572.57  28576.80  28503.21  28515.45   86150000\n",
              "2512  Dec 26, 2019  28539.46  28624.10  28535.15  28621.39  155970000\n",
              "2513  Dec 27, 2019  28675.34  28701.66  28608.98  28645.26  182280000\n",
              "2514  Dec 30, 2019  28654.76  28664.69  28428.98  28462.14  181600000\n",
              "2515  Dec 31, 2019  28414.64  28547.35  28376.49  28538.44  193340000\n",
              "\n",
              "[2516 rows x 6 columns]"
            ],
            "text/html": [
              "\n",
              "  <div id=\"df-2006998d-69e2-4380-ad53-120610a423b8\">\n",
              "    <div class=\"colab-df-container\">\n",
              "      <div>\n",
              "<style scoped>\n",
              "    .dataframe tbody tr th:only-of-type {\n",
              "        vertical-align: middle;\n",
              "    }\n",
              "\n",
              "    .dataframe tbody tr th {\n",
              "        vertical-align: top;\n",
              "    }\n",
              "\n",
              "    .dataframe thead th {\n",
              "        text-align: right;\n",
              "    }\n",
              "</style>\n",
              "<table border=\"1\" class=\"dataframe\">\n",
              "  <thead>\n",
              "    <tr style=\"text-align: right;\">\n",
              "      <th></th>\n",
              "      <th>Date</th>\n",
              "      <th>Open</th>\n",
              "      <th>High</th>\n",
              "      <th>Low</th>\n",
              "      <th>Close</th>\n",
              "      <th>Volume</th>\n",
              "    </tr>\n",
              "  </thead>\n",
              "  <tbody>\n",
              "    <tr>\n",
              "      <th>0</th>\n",
              "      <td>Jan 04, 2010</td>\n",
              "      <td>10430.69</td>\n",
              "      <td>10604.97</td>\n",
              "      <td>10430.69</td>\n",
              "      <td>10583.96</td>\n",
              "      <td>179780000</td>\n",
              "    </tr>\n",
              "    <tr>\n",
              "      <th>1</th>\n",
              "      <td>Jan 05, 2010</td>\n",
              "      <td>10584.56</td>\n",
              "      <td>10584.56</td>\n",
              "      <td>10522.52</td>\n",
              "      <td>10572.02</td>\n",
              "      <td>188540000</td>\n",
              "    </tr>\n",
              "    <tr>\n",
              "      <th>2</th>\n",
              "      <td>Jan 06, 2010</td>\n",
              "      <td>10564.72</td>\n",
              "      <td>10594.99</td>\n",
              "      <td>10546.55</td>\n",
              "      <td>10573.68</td>\n",
              "      <td>186040000</td>\n",
              "    </tr>\n",
              "    <tr>\n",
              "      <th>3</th>\n",
              "      <td>Jan 07, 2010</td>\n",
              "      <td>10571.11</td>\n",
              "      <td>10612.37</td>\n",
              "      <td>10505.21</td>\n",
              "      <td>10606.86</td>\n",
              "      <td>217390000</td>\n",
              "    </tr>\n",
              "    <tr>\n",
              "      <th>4</th>\n",
              "      <td>Jan 08, 2010</td>\n",
              "      <td>10606.40</td>\n",
              "      <td>10619.40</td>\n",
              "      <td>10554.33</td>\n",
              "      <td>10618.19</td>\n",
              "      <td>172710000</td>\n",
              "    </tr>\n",
              "    <tr>\n",
              "      <th>...</th>\n",
              "      <td>...</td>\n",
              "      <td>...</td>\n",
              "      <td>...</td>\n",
              "      <td>...</td>\n",
              "      <td>...</td>\n",
              "      <td>...</td>\n",
              "    </tr>\n",
              "    <tr>\n",
              "      <th>2511</th>\n",
              "      <td>Dec 24, 2019</td>\n",
              "      <td>28572.57</td>\n",
              "      <td>28576.80</td>\n",
              "      <td>28503.21</td>\n",
              "      <td>28515.45</td>\n",
              "      <td>86150000</td>\n",
              "    </tr>\n",
              "    <tr>\n",
              "      <th>2512</th>\n",
              "      <td>Dec 26, 2019</td>\n",
              "      <td>28539.46</td>\n",
              "      <td>28624.10</td>\n",
              "      <td>28535.15</td>\n",
              "      <td>28621.39</td>\n",
              "      <td>155970000</td>\n",
              "    </tr>\n",
              "    <tr>\n",
              "      <th>2513</th>\n",
              "      <td>Dec 27, 2019</td>\n",
              "      <td>28675.34</td>\n",
              "      <td>28701.66</td>\n",
              "      <td>28608.98</td>\n",
              "      <td>28645.26</td>\n",
              "      <td>182280000</td>\n",
              "    </tr>\n",
              "    <tr>\n",
              "      <th>2514</th>\n",
              "      <td>Dec 30, 2019</td>\n",
              "      <td>28654.76</td>\n",
              "      <td>28664.69</td>\n",
              "      <td>28428.98</td>\n",
              "      <td>28462.14</td>\n",
              "      <td>181600000</td>\n",
              "    </tr>\n",
              "    <tr>\n",
              "      <th>2515</th>\n",
              "      <td>Dec 31, 2019</td>\n",
              "      <td>28414.64</td>\n",
              "      <td>28547.35</td>\n",
              "      <td>28376.49</td>\n",
              "      <td>28538.44</td>\n",
              "      <td>193340000</td>\n",
              "    </tr>\n",
              "  </tbody>\n",
              "</table>\n",
              "<p>2516 rows × 6 columns</p>\n",
              "</div>\n",
              "      <button class=\"colab-df-convert\" onclick=\"convertToInteractive('df-2006998d-69e2-4380-ad53-120610a423b8')\"\n",
              "              title=\"Convert this dataframe to an interactive table.\"\n",
              "              style=\"display:none;\">\n",
              "        \n",
              "  <svg xmlns=\"http://www.w3.org/2000/svg\" height=\"24px\"viewBox=\"0 0 24 24\"\n",
              "       width=\"24px\">\n",
              "    <path d=\"M0 0h24v24H0V0z\" fill=\"none\"/>\n",
              "    <path d=\"M18.56 5.44l.94 2.06.94-2.06 2.06-.94-2.06-.94-.94-2.06-.94 2.06-2.06.94zm-11 1L8.5 8.5l.94-2.06 2.06-.94-2.06-.94L8.5 2.5l-.94 2.06-2.06.94zm10 10l.94 2.06.94-2.06 2.06-.94-2.06-.94-.94-2.06-.94 2.06-2.06.94z\"/><path d=\"M17.41 7.96l-1.37-1.37c-.4-.4-.92-.59-1.43-.59-.52 0-1.04.2-1.43.59L10.3 9.45l-7.72 7.72c-.78.78-.78 2.05 0 2.83L4 21.41c.39.39.9.59 1.41.59.51 0 1.02-.2 1.41-.59l7.78-7.78 2.81-2.81c.8-.78.8-2.07 0-2.86zM5.41 20L4 18.59l7.72-7.72 1.47 1.35L5.41 20z\"/>\n",
              "  </svg>\n",
              "      </button>\n",
              "      \n",
              "  <style>\n",
              "    .colab-df-container {\n",
              "      display:flex;\n",
              "      flex-wrap:wrap;\n",
              "      gap: 12px;\n",
              "    }\n",
              "\n",
              "    .colab-df-convert {\n",
              "      background-color: #E8F0FE;\n",
              "      border: none;\n",
              "      border-radius: 50%;\n",
              "      cursor: pointer;\n",
              "      display: none;\n",
              "      fill: #1967D2;\n",
              "      height: 32px;\n",
              "      padding: 0 0 0 0;\n",
              "      width: 32px;\n",
              "    }\n",
              "\n",
              "    .colab-df-convert:hover {\n",
              "      background-color: #E2EBFA;\n",
              "      box-shadow: 0px 1px 2px rgba(60, 64, 67, 0.3), 0px 1px 3px 1px rgba(60, 64, 67, 0.15);\n",
              "      fill: #174EA6;\n",
              "    }\n",
              "\n",
              "    [theme=dark] .colab-df-convert {\n",
              "      background-color: #3B4455;\n",
              "      fill: #D2E3FC;\n",
              "    }\n",
              "\n",
              "    [theme=dark] .colab-df-convert:hover {\n",
              "      background-color: #434B5C;\n",
              "      box-shadow: 0px 1px 3px 1px rgba(0, 0, 0, 0.15);\n",
              "      filter: drop-shadow(0px 1px 2px rgba(0, 0, 0, 0.3));\n",
              "      fill: #FFFFFF;\n",
              "    }\n",
              "  </style>\n",
              "\n",
              "      <script>\n",
              "        const buttonEl =\n",
              "          document.querySelector('#df-2006998d-69e2-4380-ad53-120610a423b8 button.colab-df-convert');\n",
              "        buttonEl.style.display =\n",
              "          google.colab.kernel.accessAllowed ? 'block' : 'none';\n",
              "\n",
              "        async function convertToInteractive(key) {\n",
              "          const element = document.querySelector('#df-2006998d-69e2-4380-ad53-120610a423b8');\n",
              "          const dataTable =\n",
              "            await google.colab.kernel.invokeFunction('convertToInteractive',\n",
              "                                                     [key], {});\n",
              "          if (!dataTable) return;\n",
              "\n",
              "          const docLinkHtml = 'Like what you see? Visit the ' +\n",
              "            '<a target=\"_blank\" href=https://colab.research.google.com/notebooks/data_table.ipynb>data table notebook</a>'\n",
              "            + ' to learn more about interactive tables.';\n",
              "          element.innerHTML = '';\n",
              "          dataTable['output_type'] = 'display_data';\n",
              "          await google.colab.output.renderOutput(dataTable, element);\n",
              "          const docLink = document.createElement('div');\n",
              "          docLink.innerHTML = docLinkHtml;\n",
              "          element.appendChild(docLink);\n",
              "        }\n",
              "      </script>\n",
              "    </div>\n",
              "  </div>\n",
              "  "
            ]
          },
          "metadata": {},
          "execution_count": 12
        }
      ]
    },
    {
      "cell_type": "code",
      "source": [
        "series = DJIA_raw.iloc[:,4]"
      ],
      "metadata": {
        "id": "vTg-wdf-Vpbi"
      },
      "execution_count": 13,
      "outputs": []
    },
    {
      "cell_type": "code",
      "source": [
        "time = []\n",
        "for i in range(0, len(series)):\n",
        "  time.append(i)"
      ],
      "metadata": {
        "id": "4P3cPCrbVpVl"
      },
      "execution_count": 14,
      "outputs": []
    },
    {
      "cell_type": "markdown",
      "source": [
        "A helper function to plot the time series:"
      ],
      "metadata": {
        "id": "XQh2IH8Tl0Le"
      }
    },
    {
      "cell_type": "code",
      "source": [
        "def plot_series(time, series, format=\"-\", start=0, end=None):\n",
        "    plt.plot(time[start:end], series[start:end], format)\n",
        "    plt.xlabel(\"Time\")\n",
        "    plt.ylabel(\"Value\")\n",
        "    plt.grid(True)"
      ],
      "metadata": {
        "id": "qMGyMzGelzEW"
      },
      "execution_count": 15,
      "outputs": []
    },
    {
      "cell_type": "markdown",
      "metadata": {
        "id": "tT1tB8J1Enkd"
      },
      "source": [
        "The next cell will use functions to compute the `time` and `series` and will save these as numpy arrays within the `G` dataclass. This cell will also plot the time series:"
      ]
    },
    {
      "cell_type": "code",
      "execution_count": 16,
      "metadata": {
        "colab": {
          "base_uri": "https://localhost:8080/",
          "height": 388
        },
        "id": "R8UYoZlKEnke",
        "outputId": "ea4e1036-be30-4627-8d8f-6cc063303e5f"
      },
      "outputs": [
        {
          "output_type": "display_data",
          "data": {
            "text/plain": [
              "<Figure size 720x432 with 1 Axes>"
            ],
            "image/png": "[encoded data removed]"
          },
          "metadata": {
            "needs_background": "light"
          }
        }
      ],
      "source": [
        "# Save all \"global\" variables within the G class (G stands for global)\n",
        "@dataclass\n",
        "class G:\n",
        "    TIME = np.array(time)\n",
        "    SERIES = np.array(series)\n",
        "    SPLIT_TIME = int((len(series)-150)*0.8)\n",
        "    WINDOW_SIZE = 250\n",
        "    BATCH_SIZE = 32\n",
        "    SHUFFLE_BUFFER_SIZE = 60\n",
        "\n",
        "plt.figure(figsize=(10, 6))\n",
        "plot_series(G.TIME, G.SERIES)\n",
        "plt.show()"
      ]
    },
    {
      "cell_type": "markdown",
      "metadata": {
        "id": "Y8U3ckcaEnke"
      },
      "source": [
        "## Processing the data\n",
        "\n",
        "The `train_val_split` and `windowed_dataset` functions:"
      ]
    },
    {
      "cell_type": "code",
      "execution_count": 17,
      "metadata": {
        "id": "3O7A_9XdEnkf"
      },
      "outputs": [],
      "source": [
        "def train_val_test_split(time, series, time_step=G.SPLIT_TIME):\n",
        "\n",
        "    time_train = time[:time_step]\n",
        "    series_train = series[:time_step]\n",
        "    time_valid = time[time_step:-150]\n",
        "    series_valid = series[time_step:-150]\n",
        "    time_test = time[-150:]\n",
        "    series_test = series[-150:]\n",
        "\n",
        "    return time_train, series_train, time_valid, series_valid, time_test, series_test\n",
        "\n",
        "# Split the dataset\n",
        "time_train, series_train, time_valid, series_valid, time_test, series_test = train_val_test_split(G.TIME, G.SERIES)"
      ]
    },
    {
      "cell_type": "markdown",
      "source": [
        "min-max normalization:"
      ],
      "metadata": {
        "id": "M8xZy3QTZD8e"
      }
    },
    {
      "cell_type": "code",
      "source": [
        "def min_max_normalization(series):\n",
        "  series = (series - min(series_train))/(max(series_train) - min(series_train))\n",
        "  return series"
      ],
      "metadata": {
        "id": "aRkvaM6AauAy"
      },
      "execution_count": 18,
      "outputs": []
    },
    {
      "cell_type": "code",
      "source": [
        "series_norm = min_max_normalization(G.SERIES)"
      ],
      "metadata": {
        "id": "UR8bYse7ZC-G"
      },
      "execution_count": 19,
      "outputs": []
    },
    {
      "cell_type": "code",
      "source": [
        "series_train_norm = series_norm[:G.SPLIT_TIME]\n",
        "series_valid_norm = series_norm[G.SPLIT_TIME:-150]\n",
        "series_test_norm = series_norm[-150:]"
      ],
      "metadata": {
        "id": "CQr8LSVw4BIV"
      },
      "execution_count": 20,
      "outputs": []
    },
    {
      "cell_type": "code",
      "source": [
        "plot_series(time_train, series_train_norm)"
      ],
      "metadata": {
        "colab": {
          "base_uri": "https://localhost:8080/",
          "height": 279
        },
        "id": "slIykxCnn9Eb",
        "outputId": "6f7d9d8e-0bf3-4af6-ef5b-42aea5cf075f"
      },
      "execution_count": 21,
      "outputs": [
        {
          "output_type": "display_data",
          "data": {
            "text/plain": [
              "<Figure size 432x288 with 1 Axes>"
            ],
            "image/png": "[encoded data removed]"
          },
          "metadata": {
            "needs_background": "light"
          }
        }
      ]
    },
    {
      "cell_type": "code",
      "source": [
        "plot_series(time_valid, series_valid_norm)"
      ],
      "metadata": {
        "colab": {
          "base_uri": "https://localhost:8080/",
          "height": 279
        },
        "id": "2dBiTEwnoPCf",
        "outputId": "80e75d4d-2361-4df8-ed6a-0fbf9c97b595"
      },
      "execution_count": 22,
      "outputs": [
        {
          "output_type": "display_data",
          "data": {
            "text/plain": [
              "<Figure size 432x288 with 1 Axes>"
            ],
            "image/png": "[encoded data removed]"
          },
          "metadata": {
            "needs_background": "light"
          }
        }
      ]
    },
    {
      "cell_type": "code",
      "source": [
        "plot_series(time_test, series_test_norm)"
      ],
      "metadata": {
        "colab": {
          "base_uri": "https://localhost:8080/",
          "height": 279
        },
        "id": "bCGYGHZC4oSt",
        "outputId": "99e51547-52e4-45b5-9622-e9f55ab30692"
      },
      "execution_count": 23,
      "outputs": [
        {
          "output_type": "display_data",
          "data": {
            "text/plain": [
              "<Figure size 432x288 with 1 Axes>"
            ],
            "image/png": "[encoded data removed]"
          },
          "metadata": {
            "needs_background": "light"
          }
        }
      ]
    },
    {
      "cell_type": "code",
      "execution_count": 24,
      "metadata": {
        "id": "lJwUUZscnG38"
      },
      "outputs": [],
      "source": [
        "def windowed_dataset(series, window_size=G.WINDOW_SIZE, batch_size=G.BATCH_SIZE, shuffle_buffer=G.SHUFFLE_BUFFER_SIZE):\n",
        "    ds = tf.data.Dataset.from_tensor_slices(series)\n",
        "    ds = ds.window(window_size + 1, shift=1, drop_remainder=True)\n",
        "    ds = ds.flat_map(lambda w: w.batch(window_size + 1))\n",
        "    ds = ds.shuffle(shuffle_buffer) \n",
        "    ds = ds.map(lambda w: (w[:-1], w[-1]))\n",
        "    ds = ds.batch(batch_size).prefetch(1)\n",
        "    return ds\n",
        "\n",
        "\n",
        "train_set = windowed_dataset(series_train_norm, window_size=G.WINDOW_SIZE, batch_size=G.BATCH_SIZE, shuffle_buffer=G.SHUFFLE_BUFFER_SIZE)"
      ]
    },
    {
      "cell_type": "code",
      "source": [
        "# create val_set without using shuffle method.\n",
        "def windowed_dataset_noshuffle(series, window_size=G.WINDOW_SIZE, batch_size=G.BATCH_SIZE):\n",
        "    ds = tf.data.Dataset.from_tensor_slices(series)\n",
        "    ds = ds.window(window_size + 1, shift=1, drop_remainder=True)\n",
        "    ds = ds.flat_map(lambda w: w.batch(window_size + 1))\n",
        "    ds = ds.map(lambda w: (w[:-1], w[-1]))\n",
        "    ds = ds.batch(batch_size).prefetch(1)\n",
        "    return ds\n",
        "\n",
        "\n",
        "val_set = windowed_dataset_noshuffle(series_norm[G.SPLIT_TIME-G.WINDOW_SIZE:-150], window_size=G.WINDOW_SIZE, batch_size=G.BATCH_SIZE)"
      ],
      "metadata": {
        "id": "Uix6YCADP4wK"
      },
      "execution_count": 25,
      "outputs": []
    },
    {
      "cell_type": "code",
      "source": [
        "train_val_set = windowed_dataset(series_norm[0:-150], window_size=G.WINDOW_SIZE, batch_size=G.BATCH_SIZE, shuffle_buffer=G.SHUFFLE_BUFFER_SIZE)"
      ],
      "metadata": {
        "id": "IpORkzCcWykM"
      },
      "execution_count": 26,
      "outputs": []
    },
    {
      "cell_type": "markdown",
      "metadata": {
        "id": "E6stIQIqEnkh"
      },
      "source": [
        "## Compiling the model\n"
      ]
    },
    {
      "cell_type": "markdown",
      "metadata": {
        "id": "GaMon77MEnkf"
      },
      "source": [
        "## Defining the model architecture (CapsNet-LSTM)\n"
      ]
    },
    {
      "cell_type": "code",
      "source": [
        "# Squash function\n",
        "\n",
        "\n",
        "def squash(vectors, axis=-1):\n",
        "    \"\"\"\n",
        "    The non-linear activation used in Capsule. It drives the length of a large vector to near 1 and small vector to 0\n",
        "    :param vectors: some vectors to be squashed, N-dim tensor\n",
        "    :param axis: the axis to squash\n",
        "    :return: a Tensor with same shape as input vectors\n",
        "    \"\"\"\n",
        "    s_squared_norm = K.sum(K.square(vectors), axis, keepdims=True) \n",
        "    scale = s_squared_norm / (1 + s_squared_norm) / K.sqrt(s_squared_norm + K.epsilon())\n",
        "    return scale * vectors\n"
      ],
      "metadata": {
        "id": "NAPDHkls8FGx"
      },
      "execution_count": 27,
      "outputs": []
    },
    {
      "cell_type": "code",
      "source": [
        "# Dynamic routing (layer)\n",
        "#    The capsule layer. It is similar to Dense layer. Dense layer has `in_num` inputs, each is a scalar, the output of the \n",
        "#    neuron from the former layer, and it has `out_num` output neurons. CapsuleLayer just expand the output of the neuron\n",
        "#    from scalar to vector. So its input shape = [None, input_num_capsule, input_dim_capsule] and output shape = \\\n",
        "#    [None, num_capsule, dim_capsule]. For Dense Layer, input_dim_capsule = dim_capsule = 1.\n",
        "\n",
        "#    :param dim_capsule: dimension of the output vectors of the capsules in this layer\n",
        "#    :param routings: number of iterations for the routing algorithm \n",
        "\n",
        "class Routing(keras.layers.Layer):\n",
        "\n",
        "    def __init__(self, dim_capsule = 32 , routings=3, kernel_initializer='glorot_uniform'):\n",
        "        super(Routing, self).__init__()\n",
        "        self.dim_capsule = dim_capsule\n",
        "        self.routings = routings\n",
        "        self.kernel_initializer = initializers.get(kernel_initializer)\n",
        "\n",
        "\n",
        "    def build(self, input_shape):\n",
        "        # build tansform matrix which can convert one primary cap to a vector with the same order as the digit cap.\n",
        "        # assert len(input_shape) >= 3  # The input Tensor should have shape=[None, input_num_capsule, input_dim_capsule]\n",
        "        self.input_num_capsule = input_shape[1]\n",
        "        self.input_dim_capsule = input_shape[2]\n",
        "        \n",
        "        # Transform matrix\n",
        "       \n",
        "        self.W = self.add_weight(shape=[self.input_num_capsule,self.dim_capsule, self.input_dim_capsule],initializer=self.kernel_initializer,name='W')\n",
        "\n",
        "        #super().build(input_shape)\n",
        "        #self.built = True\n",
        "    \n",
        "\n",
        "    def call(self, inputs): #training=None\n",
        "        # inputs.shape=[input_num_capsule, input_dim_capsule]\n",
        "        # inputs_expand.shape=[input_num_capsule, input_dim_capsule, 1]\n",
        "        inputs_expand = K.expand_dims(inputs, -1)    \n",
        "\n",
        "        # Compute `inputs * W` by scanning inputs_tiled on dimension 0.\n",
        "        # x.shape=[None, input_num_capsule, input_dim_capsule, 1]\n",
        "        # W.shape=[input_num_capsule, dim_capsule, input_dim_capsule]\n",
        "        # Regard the first dimension as `batch` dimension,\n",
        "        # then matmul: [dim_capsule, input_dim_capsule] x [input_dim_capsule, 1] -> [dim_capsule].\n",
        "        # inputs_hat.shape = [None, input_num_capsule, dim_capsule, 1]     \n",
        "          \n",
        "        inputs_hat = K.map_fn(lambda x: K.batch_dot(self.W, x, [2, 1]), elems=inputs_expand) \n",
        "\n",
        "        inputs_hat = K.squeeze(inputs_hat, axis = -1)\n",
        "        # inputs_hat.shape = [None, input_num_capsule, dim_capsule]\n",
        "       \n",
        "        # Begin: Routing algorithm ---------------------------------------------------------------------#\n",
        "        # The prior for coupling coefficient, initialized as zeros.\n",
        "        # b.shape = [None, self.input_num_capsule].\n",
        "        b = tf.zeros(shape=[K.shape(inputs_hat)[0], self.input_num_capsule])\n",
        "        \n",
        "        assert self.routings > 0\n",
        "        for i in range(self.routings):\n",
        "            # c.shape=[batch_size, input_num_capsule]\n",
        "            c = tf.nn.softmax(b, axis=-1)\n",
        "\n",
        "            # c.shape =  [batch_size, input_num_capsule]\n",
        "            # inputs_hat.shape=[batch_size, input_num_capsule, dim_capsule]\n",
        "            # The first dimensions as `batch` dimension,\n",
        "            # then matmal: [input_num_capsule] x [input_num_capsule, dim_capsule] -> [dim_capsule].\n",
        "            # outputs.shape=[None, dim_capsule]\n",
        "            \n",
        "            outputs = squash(K.batch_dot(c, inputs_hat, [1, 1])) \n",
        "            #outputs = K.batch_dot(c, inputs_hat, [1, 1])\n",
        "\n",
        "            if i < self.routings - 1:\n",
        "                # outputs.shape =  [None, dim_capsule]\n",
        "                # inputs_hat.shape=[None, input_num_capsule, dim_capsule]\n",
        "                # The first dimension as `batch` dimension,\n",
        "                # then matmal: [dim_capsule] x [input_num_capsule, dim_capsule]^T -> [input_num_capsule].\n",
        "                # b.shape=[batch_size, input_num_capsule]\n",
        "                b += K.batch_dot(outputs, inputs_hat, [1, 2])\n",
        "       \n",
        "        # End: Routing algorithm -----------------------------------------------------------------------#\n",
        "\n",
        "        return outputs\n",
        "\n",
        "    def compute_output_shape(self, input_shape):\n",
        "        return tuple([None, self.dim_capsule])"
      ],
      "metadata": {
        "id": "n2SUkh9LAFqP"
      },
      "execution_count": 41,
      "outputs": []
    },
    {
      "cell_type": "code",
      "execution_count": 29,
      "metadata": {
        "id": "1Y12KaJYEnki"
      },
      "outputs": [],
      "source": [
        "def compute_metrics(true_series, forecast):\n",
        "    \n",
        "    mse = tf.keras.metrics.mean_squared_error(true_series, forecast).numpy()\n",
        "    mae = tf.keras.metrics.mean_absolute_error(true_series, forecast).numpy()\n",
        "\n",
        "    return mse, mae"
      ]
    },
    {
      "cell_type": "code",
      "execution_count": 30,
      "metadata": {
        "id": "4XwGrf-A_wF0"
      },
      "outputs": [],
      "source": [
        "def model_forecast(model, series, window_size):\n",
        "    ds = tf.data.Dataset.from_tensor_slices(series)\n",
        "    ds = ds.window(window_size, shift=1, drop_remainder=True)\n",
        "    ds = ds.flat_map(lambda w: w.batch(window_size))\n",
        "    ds = ds.batch(44).prefetch(1)\n",
        "    forecast = model.predict(ds)\n",
        "    return forecast"
      ]
    },
    {
      "cell_type": "code",
      "source": [
        "def reverse_normalization(series):\n",
        "  series = series * (max(series_train) - min(series_train)) + min(series_train)\n",
        "  return series"
      ],
      "metadata": {
        "id": "xG8kJO3blWny"
      },
      "execution_count": 31,
      "outputs": []
    },
    {
      "cell_type": "code",
      "source": [
        "input_shape = (G.WINDOW_SIZE, 1)"
      ],
      "metadata": {
        "id": "uh3dZo2eVk0K"
      },
      "execution_count": 32,
      "outputs": []
    },
    {
      "cell_type": "code",
      "source": [
        "K.clear_session()"
      ],
      "metadata": {
        "id": "-dD6KzvejX_o"
      },
      "execution_count": 33,
      "outputs": []
    },
    {
      "cell_type": "markdown",
      "source": [
        "### Tune hyper-parameters"
      ],
      "metadata": {
        "id": "HAgEm3Ue4PNF"
      }
    },
    {
      "cell_type": "code",
      "source": [
        "def build_CapsNet_LSTM(hp):\n",
        "   \n",
        "    input = tf.keras.layers.Input(shape=input_shape)\n",
        "      \n",
        "    # First layer\n",
        "    conv1d_1 = tf.keras.layers.Conv1D(filters=hp.Int('Conv1_units', 256, 1024, 256), kernel_size=2, strides=1, padding='causal', activation='relu', name = 'conv1d_1')(input)\n",
        "          \n",
        "    # Primary caps\n",
        "    conv1d_2 = tf.keras.layers.Conv1D(filters=512, kernel_size=2, strides=1, padding='causal',name = 'conv1d_2')(conv1d_1)\n",
        "\n",
        "    unsquashed_caps = tf.keras.layers.Reshape((G.WINDOW_SIZE, 64, 8))(conv1d_2)\n",
        "    squashed_caps = tf.keras.layers.Lambda(squash)(unsquashed_caps)\n",
        "\n",
        "    # Digit caps\n",
        "     \n",
        "    digit_caps = tf.keras.layers.TimeDistributed(Routing(dim_capsule = hp.Int('dim_capsule', 256, 1024, 256), routings = hp.Int('routings', 3, 5, 1)))(squashed_caps)\n",
        "\n",
        "    # LSTM layer\n",
        "    lstm = tf.keras.layers.LSTM(hp.Int('lstm_units', 150, 300, 50))(conv1d_2)\n",
        "\n",
        "    # dropout  \n",
        "    dropout = tf.keras.layers.Dropout(0.1)(lstm)\n",
        "\n",
        "    # Dense layer\n",
        "    dense1 = tf.keras.layers.Dense(hp.Int('dense1_units', 20, 50, 10), activation=\"relu\")(dropout)\n",
        "    dense2 = tf.keras.layers.Dense(hp.Int('dense2_units', 5, 20, 5), activation=\"relu\")(dense1)\n",
        "    output = tf.keras.layers.Dense(1)(dense2)\n",
        "\n",
        "    model = keras.Model(inputs=input, outputs=output, name=\"capsnet_lstm\")\n",
        "\n",
        "    learning_rate = hp.Float(\"lr\", min_value=1e-4, max_value=1e-2, sampling=\"log\")\n",
        "    model.compile(\n",
        "        optimizer=tf.keras.optimizers.Adam(learning_rate = learning_rate),\n",
        "        loss=tf.keras.losses.Huber(),\n",
        "        metrics=[\"mae\"])\n",
        "\n",
        "    return model"
      ],
      "metadata": {
        "id": "CV7ss5NiVBZy"
      },
      "execution_count": 37,
      "outputs": []
    },
    {
      "cell_type": "code",
      "source": [
        "build_CapsNet_LSTM(keras_tuner.HyperParameters())\n",
        "\n",
        "tuner_capsnet_lstm = keras_tuner.Hyperband(\n",
        "    hypermodel=build_CapsNet_LSTM,\n",
        "    objective=\"val_mae\",\n",
        "    max_epochs=50,\n",
        "    factor=3,\n",
        "    hyperband_iterations=1,\n",
        "    distribution_strategy=strategy,\n",
        "    seed = 1,\n",
        "    directory='/content/gdrive/MyDrive/Tuner',\n",
        "    project_name='capsnet_lstm_tune',\n",
        "    overwrite = True)\n",
        "\n",
        "tuner_capsnet_lstm.search(train_set, epochs=2, validation_data=val_set)\n",
        "\n",
        "tuner_capsnet_lstm.results_summary()\n",
        "\n",
        "# Get the top 2 hyperparameters.\n",
        "best_hps_capsnet_lstm = tuner_capsnet_lstm.get_best_hyperparameters(5)\n",
        "\n",
        "# Build the model with the best hp.\n",
        "with strategy.scope():\n",
        "  capsnet_lstm_tune = build_CapsNet_LSTM(best_hps_capsnet_lstm[0])\n",
        "# Fit with the entire dataset.\n",
        "capsnet_lstm_tune.fit(train_val_set, epochs=50)"
      ],
      "metadata": {
        "id": "Clw6kk0hViJD",
        "outputId": "c661f20b-658a-4691-95a0-dc0cf546f4c4",
        "colab": {
          "base_uri": "https://localhost:8080/"
        }
      },
      "execution_count": 46,
      "outputs": [
        {
          "output_type": "stream",
          "name": "stdout",
          "text": [
            "Trial 90 Complete [00h 04m 33s]\n",
            "val_mae: 0.01970977708697319\n",
            "\n",
            "Best val_mae So Far: 0.03293372690677643\n",
            "Total elapsed time: 01h 36m 41s\n",
            "Results summary\n",
            "Results in /content/gdrive/MyDrive/Tuner/capsnet_lstm_tune\n",
            "Showing 10 best trials\n",
            "<keras_tuner.engine.objective.Objective object at 0x7f197524f350>\n",
            "Trial summary\n",
            "Hyperparameters:\n",
            "Conv1_units: 256\n",
            "dim_capsule: 512\n",
            "routings: 4\n",
            "lstm_units: 300\n",
            "dense1_units: 30\n",
            "dense2_units: 15\n",
            "lr: 0.00013607174450468629\n",
            "tuner/epochs: 6\n",
            "tuner/initial_epoch: 2\n",
            "tuner/bracket: 3\n",
            "tuner/round: 1\n",
            "tuner/trial_id: 0006\n",
            "Score: 0.03293372690677643\n",
            "Trial summary\n",
            "Hyperparameters:\n",
            "Conv1_units: 512\n",
            "dim_capsule: 512\n",
            "routings: 3\n",
            "lstm_units: 250\n",
            "dense1_units: 30\n",
            "dense2_units: 15\n",
            "lr: 0.0005880431087905998\n",
            "tuner/epochs: 6\n",
            "tuner/initial_epoch: 2\n",
            "tuner/bracket: 3\n",
            "tuner/round: 1\n",
            "tuner/trial_id: 0029\n",
            "Score: 0.03370216116309166\n",
            "Trial summary\n",
            "Hyperparameters:\n",
            "Conv1_units: 256\n",
            "dim_capsule: 512\n",
            "routings: 4\n",
            "lstm_units: 300\n",
            "dense1_units: 30\n",
            "dense2_units: 15\n",
            "lr: 0.00013607174450468629\n",
            "tuner/epochs: 2\n",
            "tuner/initial_epoch: 0\n",
            "tuner/bracket: 3\n",
            "tuner/round: 0\n",
            "Score: 0.034990642219781876\n",
            "Trial summary\n",
            "Hyperparameters:\n",
            "Conv1_units: 256\n",
            "dim_capsule: 1024\n",
            "routings: 3\n",
            "lstm_units: 200\n",
            "dense1_units: 40\n",
            "dense2_units: 15\n",
            "lr: 0.0004442889681244208\n",
            "tuner/epochs: 6\n",
            "tuner/initial_epoch: 2\n",
            "tuner/bracket: 3\n",
            "tuner/round: 1\n",
            "tuner/trial_id: 0000\n",
            "Score: 0.03644082695245743\n",
            "Trial summary\n",
            "Hyperparameters:\n",
            "Conv1_units: 512\n",
            "dim_capsule: 256\n",
            "routings: 4\n",
            "lstm_units: 300\n",
            "dense1_units: 30\n",
            "dense2_units: 10\n",
            "lr: 0.003964886305018653\n",
            "tuner/epochs: 2\n",
            "tuner/initial_epoch: 0\n",
            "tuner/bracket: 3\n",
            "tuner/round: 0\n",
            "Score: 0.042505811899900436\n",
            "Trial summary\n",
            "Hyperparameters:\n",
            "Conv1_units: 512\n",
            "dim_capsule: 512\n",
            "routings: 4\n",
            "lstm_units: 200\n",
            "dense1_units: 30\n",
            "dense2_units: 10\n",
            "lr: 0.00016355245798526342\n",
            "tuner/epochs: 6\n",
            "tuner/initial_epoch: 2\n",
            "tuner/bracket: 3\n",
            "tuner/round: 1\n",
            "tuner/trial_id: 0001\n",
            "Score: 0.05026040971279144\n",
            "Trial summary\n",
            "Hyperparameters:\n",
            "Conv1_units: 512\n",
            "dim_capsule: 1024\n",
            "routings: 4\n",
            "lstm_units: 250\n",
            "dense1_units: 30\n",
            "dense2_units: 10\n",
            "lr: 0.0005161743428272905\n",
            "tuner/epochs: 6\n",
            "tuner/initial_epoch: 2\n",
            "tuner/bracket: 3\n",
            "tuner/round: 1\n",
            "tuner/trial_id: 0013\n",
            "Score: 0.05178776755928993\n",
            "Trial summary\n",
            "Hyperparameters:\n",
            "Conv1_units: 768\n",
            "dim_capsule: 256\n",
            "routings: 4\n",
            "lstm_units: 150\n",
            "dense1_units: 20\n",
            "dense2_units: 15\n",
            "lr: 0.00015188551736259345\n",
            "tuner/epochs: 6\n",
            "tuner/initial_epoch: 2\n",
            "tuner/bracket: 3\n",
            "tuner/round: 1\n",
            "tuner/trial_id: 0028\n",
            "Score: 0.05461836978793144\n",
            "Trial summary\n",
            "Hyperparameters:\n",
            "Conv1_units: 256\n",
            "dim_capsule: 1024\n",
            "routings: 4\n",
            "lstm_units: 250\n",
            "dense1_units: 30\n",
            "dense2_units: 10\n",
            "lr: 0.0009719978423652108\n",
            "tuner/epochs: 2\n",
            "tuner/initial_epoch: 0\n",
            "tuner/bracket: 3\n",
            "tuner/round: 0\n",
            "Score: 0.05474482849240303\n",
            "Trial summary\n",
            "Hyperparameters:\n",
            "Conv1_units: 256\n",
            "dim_capsule: 1024\n",
            "routings: 3\n",
            "lstm_units: 200\n",
            "dense1_units: 40\n",
            "dense2_units: 15\n",
            "lr: 0.0004442889681244208\n",
            "tuner/epochs: 2\n",
            "tuner/initial_epoch: 0\n",
            "tuner/bracket: 3\n",
            "tuner/round: 0\n",
            "Score: 0.05727569758892059\n",
            "Epoch 1/50\n",
            "67/67 [==============================] - 13s 98ms/step - loss: 0.0026 - mae: 0.0528\n",
            "Epoch 2/50\n",
            "67/67 [==============================] - 5s 67ms/step - loss: 0.0013 - mae: 0.0396\n",
            "Epoch 3/50\n",
            "67/67 [==============================] - 5s 67ms/step - loss: 5.2799e-04 - mae: 0.0243\n",
            "Epoch 4/50\n",
            "67/67 [==============================] - 4s 66ms/step - loss: 5.9075e-04 - mae: 0.0252\n",
            "Epoch 5/50\n",
            "67/67 [==============================] - 4s 66ms/step - loss: 5.1562e-04 - mae: 0.0235\n",
            "Epoch 6/50\n",
            "67/67 [==============================] - 4s 66ms/step - loss: 5.1498e-04 - mae: 0.0245\n",
            "Epoch 7/50\n",
            "67/67 [==============================] - 5s 67ms/step - loss: 5.9718e-04 - mae: 0.0273\n",
            "Epoch 8/50\n",
            "67/67 [==============================] - 5s 67ms/step - loss: 6.4076e-04 - mae: 0.0280\n",
            "Epoch 9/50\n",
            "67/67 [==============================] - 5s 67ms/step - loss: 7.4623e-04 - mae: 0.0310\n",
            "Epoch 10/50\n",
            "67/67 [==============================] - 5s 67ms/step - loss: 7.5835e-04 - mae: 0.0309\n",
            "Epoch 11/50\n",
            "67/67 [==============================] - 5s 67ms/step - loss: 4.7735e-04 - mae: 0.0232\n",
            "Epoch 12/50\n",
            "67/67 [==============================] - 5s 66ms/step - loss: 4.1678e-04 - mae: 0.0220\n",
            "Epoch 13/50\n",
            "67/67 [==============================] - 5s 66ms/step - loss: 3.7949e-04 - mae: 0.0203\n",
            "Epoch 14/50\n",
            "67/67 [==============================] - 5s 66ms/step - loss: 5.0965e-04 - mae: 0.0231\n",
            "Epoch 15/50\n",
            "67/67 [==============================] - 5s 67ms/step - loss: 4.8830e-04 - mae: 0.0235\n",
            "Epoch 16/50\n",
            "67/67 [==============================] - 5s 66ms/step - loss: 6.0373e-04 - mae: 0.0274\n",
            "Epoch 17/50\n",
            "67/67 [==============================] - 5s 67ms/step - loss: 4.1767e-04 - mae: 0.0216\n",
            "Epoch 18/50\n",
            "67/67 [==============================] - 5s 67ms/step - loss: 4.4058e-04 - mae: 0.0223\n",
            "Epoch 19/50\n",
            "67/67 [==============================] - 4s 66ms/step - loss: 4.3251e-04 - mae: 0.0223\n",
            "Epoch 20/50\n",
            "67/67 [==============================] - 5s 67ms/step - loss: 4.3101e-04 - mae: 0.0209\n",
            "Epoch 21/50\n",
            "67/67 [==============================] - 5s 67ms/step - loss: 3.7004e-04 - mae: 0.0211\n",
            "Epoch 22/50\n",
            "67/67 [==============================] - 5s 66ms/step - loss: 3.1865e-04 - mae: 0.0184\n",
            "Epoch 23/50\n",
            "67/67 [==============================] - 5s 67ms/step - loss: 4.1259e-04 - mae: 0.0207\n",
            "Epoch 24/50\n",
            "67/67 [==============================] - 5s 67ms/step - loss: 3.8439e-04 - mae: 0.0200\n",
            "Epoch 25/50\n",
            "67/67 [==============================] - 5s 67ms/step - loss: 3.1009e-04 - mae: 0.0187\n",
            "Epoch 26/50\n",
            "67/67 [==============================] - 5s 67ms/step - loss: 3.3432e-04 - mae: 0.0198\n",
            "Epoch 27/50\n",
            "67/67 [==============================] - 5s 67ms/step - loss: 3.7354e-04 - mae: 0.0212\n",
            "Epoch 28/50\n",
            "67/67 [==============================] - 5s 67ms/step - loss: 3.4580e-04 - mae: 0.0192\n",
            "Epoch 29/50\n",
            "67/67 [==============================] - 5s 67ms/step - loss: 3.9862e-04 - mae: 0.0205\n",
            "Epoch 30/50\n",
            "67/67 [==============================] - 5s 67ms/step - loss: 5.7052e-04 - mae: 0.0263\n",
            "Epoch 31/50\n",
            "67/67 [==============================] - 5s 66ms/step - loss: 4.1960e-04 - mae: 0.0224\n",
            "Epoch 32/50\n",
            "67/67 [==============================] - 5s 67ms/step - loss: 5.3579e-04 - mae: 0.0253\n",
            "Epoch 33/50\n",
            "67/67 [==============================] - 5s 67ms/step - loss: 3.0148e-04 - mae: 0.0181\n",
            "Epoch 34/50\n",
            "67/67 [==============================] - 5s 66ms/step - loss: 3.0683e-04 - mae: 0.0179\n",
            "Epoch 35/50\n",
            "67/67 [==============================] - 4s 66ms/step - loss: 3.1275e-04 - mae: 0.0187\n",
            "Epoch 36/50\n",
            "67/67 [==============================] - 5s 67ms/step - loss: 2.7724e-04 - mae: 0.0176\n",
            "Epoch 37/50\n",
            "67/67 [==============================] - 4s 66ms/step - loss: 2.8659e-04 - mae: 0.0182\n",
            "Epoch 38/50\n",
            "67/67 [==============================] - 5s 67ms/step - loss: 3.7195e-04 - mae: 0.0214\n",
            "Epoch 39/50\n",
            "67/67 [==============================] - 5s 67ms/step - loss: 2.7961e-04 - mae: 0.0174\n",
            "Epoch 40/50\n",
            "67/67 [==============================] - 5s 67ms/step - loss: 2.8427e-04 - mae: 0.0177\n",
            "Epoch 41/50\n",
            "67/67 [==============================] - 5s 67ms/step - loss: 3.8310e-04 - mae: 0.0215\n",
            "Epoch 42/50\n",
            "67/67 [==============================] - 5s 68ms/step - loss: 3.8604e-04 - mae: 0.0216\n",
            "Epoch 43/50\n",
            "67/67 [==============================] - 5s 66ms/step - loss: 4.8783e-04 - mae: 0.0250\n",
            "Epoch 44/50\n",
            "67/67 [==============================] - 5s 68ms/step - loss: 4.5022e-04 - mae: 0.0233\n",
            "Epoch 45/50\n",
            "67/67 [==============================] - 5s 68ms/step - loss: 2.8141e-04 - mae: 0.0179\n",
            "Epoch 46/50\n",
            "67/67 [==============================] - 5s 67ms/step - loss: 2.9097e-04 - mae: 0.0186\n",
            "Epoch 47/50\n",
            "67/67 [==============================] - 5s 67ms/step - loss: 2.3581e-04 - mae: 0.0163\n",
            "Epoch 48/50\n",
            "67/67 [==============================] - 5s 67ms/step - loss: 2.6285e-04 - mae: 0.0172\n",
            "Epoch 49/50\n",
            "67/67 [==============================] - 4s 66ms/step - loss: 2.4009e-04 - mae: 0.0166\n",
            "Epoch 50/50\n",
            "67/67 [==============================] - 5s 66ms/step - loss: 2.6931e-04 - mae: 0.0168\n"
          ]
        },
        {
          "output_type": "execute_result",
          "data": {
            "text/plain": [
              "<keras.callbacks.History at 0x7f1972a214d0>"
            ]
          },
          "metadata": {},
          "execution_count": 46
        }
      ]
    },
    {
      "cell_type": "code",
      "source": [
        "capsnet_lstm_tune.save(\"/content/gdrive/MyDrive/Saved models/capsnet_lstm_tune.h5\")"
      ],
      "metadata": {
        "id": "31KC2l1EEpTk"
      },
      "execution_count": 70,
      "outputs": []
    },
    {
      "cell_type": "markdown",
      "metadata": {
        "id": "69lcH5cAEnki"
      },
      "source": [
        "## Evaluating the forecast\n",
        "\n",
        "Now it is time to evaluate the performance of the forecast. For this we use the `compute_metrics` function that you coded in a previous assignment:"
      ]
    },
    {
      "cell_type": "markdown",
      "metadata": {
        "id": "r7V0kTKHEnki"
      },
      "source": [
        "At this point only the model that will perform the forecast is ready but we still need to compute the actual forecast.\n",
        "\n"
      ]
    },
    {
      "cell_type": "markdown",
      "metadata": {
        "id": "rJtDyAD9Enkj"
      },
      "source": [
        "### Faster model forecasts\n",
        "\n",
        "\n",
        "- The dataset is windowed using `window_size` rather than `window_size + 1`\n",
        "- No shuffle should be used\n",
        "- No need to split the data into features and labels\n",
        "- A model is used to predict batches of the dataset"
      ]
    },
    {
      "cell_type": "markdown",
      "metadata": {
        "id": "kIyFlTEwEnkj"
      },
      "source": [
        "Now compute the actual forecast:"
      ]
    },
    {
      "cell_type": "code",
      "execution_count": 68,
      "metadata": {
        "colab": {
          "base_uri": "https://localhost:8080/",
          "height": 388
        },
        "outputId": "b906b95c-ed60-4a51-cf2e-a393f4adf99c",
        "id": "yEiYgYaA28PR"
      },
      "outputs": [
        {
          "output_type": "display_data",
          "data": {
            "text/plain": [
              "<Figure size 720x432 with 1 Axes>"
            ],
            "image/png": "[encoded data removed]"
          },
          "metadata": {
            "needs_background": "light"
          }
        }
      ],
      "source": [
        "# Compute the forecast for all the series\n",
        "capsnet_lstm_forecast = model_forecast(capsnet_lstm_tune, series_norm, G.WINDOW_SIZE).squeeze()\n",
        "\n",
        "# Slice the forecast to get only the predictions for the validation set\n",
        "series_test_hat_capsnet_lstm_tune = capsnet_lstm_forecast[-150:]\n",
        "# reverse normalization\n",
        "# series_test_hat = reverse_normalization(cnn_lstm_forecast)\n",
        "series_test_hat_capsnet_lstm_tune = reverse_normalization(series_test_hat_capsnet_lstm_tune)\n",
        "# Plot the forecast\n",
        "plt.figure(figsize=(10, 6))\n",
        "plot_series(time_test, series_test)\n",
        "plot_series(time_test, series_test_hat_capsnet_lstm_tune)"
      ]
    },
    {
      "cell_type": "code",
      "execution_count": 69,
      "metadata": {
        "colab": {
          "base_uri": "https://localhost:8080/"
        },
        "outputId": "22c6e5f3-3554-487f-bff3-d9f615ce5b1c",
        "id": "OmelEr6a3I70"
      },
      "outputs": [
        {
          "output_type": "stream",
          "name": "stdout",
          "text": [
            "mse: 15075.23, mae: 97.01 for forecast\n"
          ]
        }
      ],
      "source": [
        "mse_capsnet_lstm_tune, mae_capsnet_lstm_tune = compute_metrics(series_test, series_test_hat_capsnet_lstm_tune)\n",
        "\n",
        "print(f\"mse: {mse_capsnet_lstm_tune:.2f}, mae: {mae_capsnet_lstm_tune:.2f} for forecast\")"
      ]
    },
    {
      "cell_type": "markdown",
      "source": [
        "## Baseline (LSTM, CNN-LSTM)"
      ],
      "metadata": {
        "id": "og2vNXLVgOeC"
      }
    },
    {
      "cell_type": "markdown",
      "source": [
        "### LSTM"
      ],
      "metadata": {
        "id": "DTXrC28w_ZGT"
      }
    },
    {
      "cell_type": "code",
      "execution_count": 71,
      "metadata": {
        "id": "Sc6pU_kiEnkg"
      },
      "outputs": [],
      "source": [
        "def build_LSTM(hp):\n",
        "   \n",
        "    model = tf.keras.models.Sequential([\n",
        "          tf.keras.layers.LSTM(hp.Int('lstm_units', 100, 300, 50), input_shape=[G.WINDOW_SIZE, 1]),\n",
        "          tf.keras.layers.Dense(hp.Int('dense1_units', 20, 50, 10), activation=\"relu\"),\n",
        "          tf.keras.layers.Dense(hp.Int('dense2_units', 5, 20, 5), activation=\"relu\"),\n",
        "          tf.keras.layers.Dense(1)\n",
        "    ])\n",
        "    learning_rate = hp.Float(\"lr\", min_value=1e-4, max_value=1e-2, sampling=\"log\")\n",
        "    model.compile(\n",
        "        optimizer=tf.keras.optimizers.Adam(learning_rate=learning_rate),\n",
        "        loss=tf.keras.losses.Huber(),\n",
        "        metrics=[\"mae\"])\n",
        "\n",
        "    return model"
      ]
    },
    {
      "cell_type": "code",
      "source": [
        "build_LSTM(keras_tuner.HyperParameters())\n",
        "\n",
        "tuner_lstm = keras_tuner.Hyperband(\n",
        "    hypermodel=build_LSTM,\n",
        "    objective=\"val_mae\",\n",
        "    max_epochs=50,\n",
        "    factor=3,\n",
        "    hyperband_iterations=1,\n",
        "    distribution_strategy=strategy,\n",
        "    seed = 1,\n",
        "    directory='/content/gdrive/MyDrive/Tuner',\n",
        "    project_name=\"lstm\",\n",
        "    overwrite=True)\n",
        "\n",
        "tuner_lstm.search(train_set, epochs=2, validation_data=val_set)\n",
        "\n",
        "tuner_lstm.results_summary()\n",
        "\n",
        "# Get the top 5 hyperparameters.\n",
        "best_hps_lstm = tuner_lstm.get_best_hyperparameters(5)\n",
        "# Build the model with the best hp.\n",
        "with strategy.scope():\n",
        "  lstm = build_LSTM(best_hps_lstm[0])\n",
        "# Fit with the entire dataset.\n",
        "lstm.fit(train_val_set, epochs=200)\n",
        "\n",
        "#save model\n",
        "\n",
        "lstm.save(\"/content/gdrive/MyDrive/Saved models/lstm.h5\")"
      ],
      "metadata": {
        "id": "JQ5JlaaZ8dD_",
        "outputId": "8da42e89-19e4-49f7-c5af-a3d6974ebb79",
        "colab": {
          "base_uri": "https://localhost:8080/"
        }
      },
      "execution_count": null,
      "outputs": [
        {
          "output_type": "stream",
          "name": "stdout",
          "text": [
            "Trial 43 Complete [00h 00m 24s]\n",
            "val_mae: 0.0494607612490654\n",
            "\n",
            "Best val_mae So Far: 0.03236464783549309\n",
            "Total elapsed time: 00h 13m 15s\n",
            "\n",
            "Search: Running Trial #44\n",
            "\n",
            "Value             |Best Value So Far |Hyperparameter\n",
            "250               |250               |lstm_units\n",
            "40                |40                |dense1_units\n",
            "10                |5                 |dense2_units\n",
            "0.00082644        |0.00034913        |lr\n",
            "6                 |6                 |tuner/epochs\n",
            "2                 |2                 |tuner/initial_epoch\n",
            "3                 |3                 |tuner/bracket\n",
            "1                 |1                 |tuner/round\n",
            "0009              |0019              |tuner/trial_id\n",
            "\n",
            "Epoch 3/6\n",
            "52/52 [==============================] - 11s 115ms/step - loss: 0.0012 - mae: 0.0312 - val_loss: 5.6425e-04 - val_mae: 0.0252\n",
            "Epoch 4/6\n",
            "15/52 [=======>......................] - ETA: 1s - loss: 0.0014 - mae: 0.0460"
          ]
        }
      ]
    },
    {
      "cell_type": "code",
      "source": [
        "# Compute the forecast for all the series\n",
        "lstm_forecast = model_forecast(lstm, series_norm, G.WINDOW_SIZE).squeeze()\n",
        "\n",
        "# Slice the forecast to get only the predictions for the validation set\n",
        "series_test_hat_lstm = lstm_forecast[-150:]\n",
        "series_test_hat_lstm = reverse_normalization(series_test_hat_lstm)\n",
        "# Plot the forecast\n",
        "plt.figure(figsize=(10, 6))\n",
        "plot_series(time_test, series_test)\n",
        "plot_series(time_test, series_test_hat_lstm)"
      ],
      "metadata": {
        "id": "usOQ3cl6_rPV"
      },
      "execution_count": null,
      "outputs": []
    },
    {
      "cell_type": "code",
      "source": [
        "mse_lstm, mae_lstm = compute_metrics(series_test, series_test_hat_lstm)\n",
        "\n",
        "print(f\"mse: {mse_lstm:.2f}, mae: {mae_lstm:.2f} for forecast\")"
      ],
      "metadata": {
        "id": "-U4UwUsf_Tp2"
      },
      "execution_count": null,
      "outputs": []
    },
    {
      "cell_type": "markdown",
      "source": [
        "### CNN-LSTM"
      ],
      "metadata": {
        "id": "EgSv9-FX_UEA"
      }
    },
    {
      "cell_type": "code",
      "source": [
        "def build_CNN_LSTM(hp):\n",
        "   \n",
        "    model = tf.keras.models.Sequential([\n",
        "          tf.keras.layers.Conv1D(filters=hp.Int('Conv_units', 256, 1024, 256), kernel_size=2,\n",
        "                                 strides=1,\n",
        "                                 activation=\"relu\",\n",
        "                                 padding='causal',\n",
        "                                 input_shape=[G.WINDOW_SIZE, 1]),\n",
        "          tf.keras.layers.MaxPooling1D(pool_size=2, strides=1, padding=\"same\"),\n",
        "          tf.keras.layers.LSTM(hp.Int('lstm_units', 100, 300, 50)),\n",
        "          tf.keras.layers.Dense(hp.Int('dense1_units', 20, 50, step = 10), activation=\"relu\"),\n",
        "          tf.keras.layers.Dense(hp.Int('dense2_units', 5, 20, step = 5), activation=\"relu\"),\n",
        "          tf.keras.layers.Dense(1)\n",
        "    ])\n",
        "    learning_rate = hp.Float(\"lr\", min_value=1e-4, max_value=1e-2, sampling=\"log\")\n",
        "    model.compile(\n",
        "        optimizer=tf.keras.optimizers.Adam(learning_rate=learning_rate),\n",
        "        loss=tf.keras.losses.Huber(),\n",
        "        metrics=[\"mae\"])\n",
        "\n",
        "    return model"
      ],
      "metadata": {
        "id": "Amka1E2csj3H"
      },
      "execution_count": null,
      "outputs": []
    },
    {
      "cell_type": "code",
      "source": [
        "build_CNN_LSTM(keras_tuner.HyperParameters())\n",
        "\n",
        "tuner_cnn_lstm = keras_tuner.Hyperband(\n",
        "    hypermodel=build_CNN_LSTM,\n",
        "    objective=\"val_mae\",\n",
        "    max_epochs=50,\n",
        "    factor=3,\n",
        "    hyperband_iterations=1,\n",
        "    distribution_strategy=strategy,\n",
        "    seed = 1,\n",
        "    directory='/content/gdrive/MyDrive/Tuner',\n",
        "    project_name=\"cnn-lstm\",\n",
        "    overwrite=True)\n",
        "\n",
        "\n",
        "tuner_cnn_lstm.search(train_set, epochs=2, validation_data=val_set)\n",
        "\n",
        "tuner_cnn_lstm.results_summary()\n",
        "\n",
        "# Get the top 5 hyperparameters.\n",
        "best_hps_cnn_lstm = tuner_cnn_lstm.get_best_hyperparameters(5)\n",
        "# Build the model with the best hp.\n",
        "with strategy.scope():\n",
        "  cnn_lstm = build_LSTM(best_hps_cnn_lstm[0])\n",
        "# Fit with the entire dataset.\n",
        "cnn_lstm.fit(train_val_set, epochs=200)\n",
        "\n",
        "#save model\n",
        "\n",
        "cnn_lstm.save(\"/content/gdrive/MyDrive/Saved models/cnn_lstm.h5\")"
      ],
      "metadata": {
        "id": "A1PtMSsr-vSO"
      },
      "execution_count": null,
      "outputs": []
    },
    {
      "cell_type": "code",
      "source": [
        "# Compute the forecast for all the series\n",
        "cnn_lstm_forecast = model_forecast(cnn_lstm, series_norm, G.WINDOW_SIZE).squeeze()\n",
        "\n",
        "# Slice the forecast to get only the predictions for the validation set\n",
        "series_test_hat_cnn_lstm = cnn_lstm_forecast[-150:]\n",
        "series_test_hat_cnn_lstm = reverse_normalization(series_test_hat_cnn_lstm)\n",
        "# Plot the forecast\n",
        "plt.figure(figsize=(10, 6))\n",
        "plot_series(time_test, series_test)\n",
        "plot_series(time_test, series_test_hat_cnn_lstm)"
      ],
      "metadata": {
        "id": "54nm9-qaAU9o"
      },
      "execution_count": null,
      "outputs": []
    },
    {
      "cell_type": "code",
      "source": [
        "mse_cnn_lstm, mae_cnn_lstm = compute_metrics(series_test, series_test_hat_cnn_lstm)\n",
        "\n",
        "print(f\"mse: {mse_cnn_lstm:.2f}, mae: {mae_cnn_lstm:.2f} for forecast\")"
      ],
      "metadata": {
        "id": "hW0VZCxdAVjO"
      },
      "execution_count": null,
      "outputs": []
    },
    {
      "cell_type": "markdown",
      "source": [
        "## Camparison"
      ],
      "metadata": {
        "id": "15FrV8PMAimg"
      }
    },
    {
      "cell_type": "markdown",
      "source": [
        "Compare our proposed capsnet_lstm with lstm and cnn-lstm"
      ],
      "metadata": {
        "id": "Z330X9SE8RWm"
      }
    },
    {
      "cell_type": "markdown",
      "source": [
        "### Three forecasting results in one figure:"
      ],
      "metadata": {
        "id": "x8SF-DmK78l9"
      }
    },
    {
      "cell_type": "code",
      "source": [],
      "metadata": {
        "id": "rNCmNekCAuAF"
      },
      "execution_count": null,
      "outputs": []
    },
    {
      "cell_type": "markdown",
      "source": [
        "### Compare the rmse, mae mape"
      ],
      "metadata": {
        "id": "3frHiK9N8F87"
      }
    },
    {
      "cell_type": "code",
      "source": [],
      "metadata": {
        "id": "JzlMIn_iAt7w"
      },
      "execution_count": null,
      "outputs": []
    }
  ],
  "metadata": {
    "kernelspec": {
      "display_name": "Python 3",
      "language": "python",
      "name": "python3"
    },
    "language_info": {
      "codemirror_mode": {
        "name": "ipython",
        "version": 3
      },
      "file_extension": ".py",
      "mimetype": "text/x-python",
      "name": "python",
      "nbconvert_exporter": "python",
      "pygments_lexer": "ipython3",
      "version": "3.8.8"
    },
    "colab": {
      "name": "CapsNet_LSTM.ipynb",
      "provenance": [],
      "collapsed_sections": [],
      "machine_shape": "hm",
      "include_colab_link": true
    },
    "accelerator": "TPU",
    "gpuClass": "standard"
  },
  "nbformat": 4,
  "nbformat_minor": 0
}