{
  "cells": [
    {
      "cell_type": "markdown",
      "metadata": {
        "id": "view-in-github",
        "colab_type": "text"
      },
      "source": [
        "<a href=\"https://colab.research.google.com/github/Orangefox76200/CapsNet-LSTM/blob/main/CapsNet_LSTM.ipynb\" target=\"_parent\"><img src=\"https://colab.research.google.com/assets/colab-badge.svg\" alt=\"Open In Colab\"/></a>"
      ]
    },
    {
      "cell_type": "markdown",
      "metadata": {
        "id": "G92ON7NXEnkW"
      },
      "source": [
        "# Financial Time Series Forecasting Using A Hybrid CapsNet-LSTM Architecture: Using real world data (DJIA Index)\n",
        "\n",
        "DJIA Index dataset contains data of the daily DJIA Index price recorded from Jan 1st, 2010 to Dec 31st, 2019. In addition to be using Tensorflow's layers for processing sequence data such as LSTMs we will also intergrate Capsule Network in our proposed hybrid architecture to improve the model's performance.\n",
        "\n",
        "Let's get started!"
      ]
    },
    {
      "cell_type": "code",
      "source": [
        "!pip install keras-tuner -q"
      ],
      "metadata": {
        "id": "q-8z1SiOcPgO",
        "outputId": "e3e82d2e-d7d9-4435-8c3d-3938037f91c4",
        "colab": {
          "base_uri": "https://localhost:8080/"
        }
      },
      "execution_count": 1,
      "outputs": [
        {
          "output_type": "stream",
          "name": "stdout",
          "text": [
            "\u001b[K     |████████████████████████████████| 135 kB 5.1 MB/s \n",
            "\u001b[K     |████████████████████████████████| 1.6 MB 43.7 MB/s \n",
            "\u001b[?25h"
          ]
        }
      ]
    },
    {
      "cell_type": "code",
      "execution_count": 2,
      "metadata": {
        "id": "56XEQOGknrAk"
      },
      "outputs": [],
      "source": [
        "import keras.backend as K\n",
        "import tensorflow as tf\n",
        "import keras\n",
        "import keras_tuner\n",
        "from keras import backend as K\n",
        "from keras import initializers, layers, models, optimizers, callbacks\n",
        "\n",
        "from keras.initializers import *\n",
        "from keras.layers import *\n",
        "from keras.models import *\n",
        "from keras.optimizers import *\n",
        "from keras.callbacks import *\n",
        "\n",
        "import os\n",
        "import pickle\n",
        "import pandas as pd\n",
        "import numpy as np\n",
        "import matplotlib.pyplot as plt\n",
        "from dataclasses import dataclass"
      ]
    },
    {
      "cell_type": "code",
      "source": [
        "# If code is running on TPU\n",
        "resolver = tf.distribute.cluster_resolver.TPUClusterResolver(tpu='')\n",
        "tf.config.experimental_connect_to_cluster(resolver)\n",
        "# This is the TPU initialization code that has to be at the beginning.\n",
        "tf.tpu.experimental.initialize_tpu_system(resolver)\n",
        "print(\"All devices: \", tf.config.list_logical_devices('TPU'))"
      ],
      "metadata": {
        "colab": {
          "base_uri": "https://localhost:8080/"
        },
        "id": "CnjuziNxZdvf",
        "outputId": "931129b0-9bb2-4d69-cc35-39dc61d03267"
      },
      "execution_count": 3,
      "outputs": [
        {
          "output_type": "stream",
          "name": "stdout",
          "text": [
            "All devices:  [LogicalDevice(name='/job:worker/replica:0/task:0/device:TPU:0', device_type='TPU'), LogicalDevice(name='/job:worker/replica:0/task:0/device:TPU:1', device_type='TPU'), LogicalDevice(name='/job:worker/replica:0/task:0/device:TPU:2', device_type='TPU'), LogicalDevice(name='/job:worker/replica:0/task:0/device:TPU:3', device_type='TPU'), LogicalDevice(name='/job:worker/replica:0/task:0/device:TPU:4', device_type='TPU'), LogicalDevice(name='/job:worker/replica:0/task:0/device:TPU:5', device_type='TPU'), LogicalDevice(name='/job:worker/replica:0/task:0/device:TPU:6', device_type='TPU'), LogicalDevice(name='/job:worker/replica:0/task:0/device:TPU:7', device_type='TPU')]\n"
          ]
        }
      ]
    },
    {
      "cell_type": "code",
      "source": [
        "strategy = tf.distribute.TPUStrategy(resolver)"
      ],
      "metadata": {
        "id": "eb5Za_rOMFVx"
      },
      "execution_count": 4,
      "outputs": []
    },
    {
      "cell_type": "code",
      "source": [
        "# Load the TensorBoard notebook extension\n",
        "%load_ext tensorboard"
      ],
      "metadata": {
        "id": "xd85sJ-phkwi"
      },
      "execution_count": 5,
      "outputs": []
    },
    {
      "cell_type": "code",
      "source": [
        "print(tf.__version__)"
      ],
      "metadata": {
        "colab": {
          "base_uri": "https://localhost:8080/"
        },
        "id": "rA-JsdF3y5eE",
        "outputId": "67fd1878-efab-412a-c77a-18b73722ecc7"
      },
      "execution_count": 6,
      "outputs": [
        {
          "output_type": "stream",
          "name": "stdout",
          "text": [
            "2.8.2\n"
          ]
        }
      ]
    },
    {
      "cell_type": "markdown",
      "metadata": {
        "id": "RBR7h1IgEnkc"
      },
      "source": [
        "## Parsing the raw data\n",
        "\n",
        "A couple of things to note:\n",
        "\n",
        "- There is no need to save the data points as numpy arrays, regular lists is fine.\n",
        "- The `time` list should contain every timestep (starting at zero), which is just a sequence of ordered numbers with the same length as the `series` list.\n",
        "- The values of the `series` should be of `float` type. You can use Python's built-in `float` function to ensure this."
      ]
    },
    {
      "cell_type": "markdown",
      "metadata": {
        "id": "GeP3JMZHEnkZ"
      },
      "source": [
        "Begin by looking at the structure of the xlsx file that contains the data:"
      ]
    },
    {
      "cell_type": "code",
      "source": [
        "from google.colab import drive\n",
        "drive.mount ('gdrive')\n",
        "DJIA_raw = pd.read_excel('/content/gdrive/MyDrive/Colab Notebooks/DJIA.xlsx')\n",
        "DJIA_raw"
      ],
      "metadata": {
        "colab": {
          "base_uri": "https://localhost:8080/",
          "height": 442
        },
        "id": "vKv3toTHFgnh",
        "outputId": "0d886c49-b134-4d7c-c3e9-55a9729909b4"
      },
      "execution_count": 7,
      "outputs": [
        {
          "output_type": "stream",
          "name": "stdout",
          "text": [
            "Mounted at gdrive\n"
          ]
        },
        {
          "output_type": "execute_result",
          "data": {
            "text/plain": [
              "              Date      Open      High       Low     Close     Volume\n",
              "0     Jan 04, 2010  10430.69  10604.97  10430.69  10583.96  179780000\n",
              "1     Jan 05, 2010  10584.56  10584.56  10522.52  10572.02  188540000\n",
              "2     Jan 06, 2010  10564.72  10594.99  10546.55  10573.68  186040000\n",
              "3     Jan 07, 2010  10571.11  10612.37  10505.21  10606.86  217390000\n",
              "4     Jan 08, 2010  10606.40  10619.40  10554.33  10618.19  172710000\n",
              "...            ...       ...       ...       ...       ...        ...\n",
              "2511  Dec 24, 2019  28572.57  28576.80  28503.21  28515.45   86150000\n",
              "2512  Dec 26, 2019  28539.46  28624.10  28535.15  28621.39  155970000\n",
              "2513  Dec 27, 2019  28675.34  28701.66  28608.98  28645.26  182280000\n",
              "2514  Dec 30, 2019  28654.76  28664.69  28428.98  28462.14  181600000\n",
              "2515  Dec 31, 2019  28414.64  28547.35  28376.49  28538.44  193340000\n",
              "\n",
              "[2516 rows x 6 columns]"
            ],
            "text/html": [
              "\n",
              "  <div id=\"df-a90ae1a9-f2c4-439e-a44d-622a23fb8d93\">\n",
              "    <div class=\"colab-df-container\">\n",
              "      <div>\n",
              "<style scoped>\n",
              "    .dataframe tbody tr th:only-of-type {\n",
              "        vertical-align: middle;\n",
              "    }\n",
              "\n",
              "    .dataframe tbody tr th {\n",
              "        vertical-align: top;\n",
              "    }\n",
              "\n",
              "    .dataframe thead th {\n",
              "        text-align: right;\n",
              "    }\n",
              "</style>\n",
              "<table border=\"1\" class=\"dataframe\">\n",
              "  <thead>\n",
              "    <tr style=\"text-align: right;\">\n",
              "      <th></th>\n",
              "      <th>Date</th>\n",
              "      <th>Open</th>\n",
              "      <th>High</th>\n",
              "      <th>Low</th>\n",
              "      <th>Close</th>\n",
              "      <th>Volume</th>\n",
              "    </tr>\n",
              "  </thead>\n",
              "  <tbody>\n",
              "    <tr>\n",
              "      <th>0</th>\n",
              "      <td>Jan 04, 2010</td>\n",
              "      <td>10430.69</td>\n",
              "      <td>10604.97</td>\n",
              "      <td>10430.69</td>\n",
              "      <td>10583.96</td>\n",
              "      <td>179780000</td>\n",
              "    </tr>\n",
              "    <tr>\n",
              "      <th>1</th>\n",
              "      <td>Jan 05, 2010</td>\n",
              "      <td>10584.56</td>\n",
              "      <td>10584.56</td>\n",
              "      <td>10522.52</td>\n",
              "      <td>10572.02</td>\n",
              "      <td>188540000</td>\n",
              "    </tr>\n",
              "    <tr>\n",
              "      <th>2</th>\n",
              "      <td>Jan 06, 2010</td>\n",
              "      <td>10564.72</td>\n",
              "      <td>10594.99</td>\n",
              "      <td>10546.55</td>\n",
              "      <td>10573.68</td>\n",
              "      <td>186040000</td>\n",
              "    </tr>\n",
              "    <tr>\n",
              "      <th>3</th>\n",
              "      <td>Jan 07, 2010</td>\n",
              "      <td>10571.11</td>\n",
              "      <td>10612.37</td>\n",
              "      <td>10505.21</td>\n",
              "      <td>10606.86</td>\n",
              "      <td>217390000</td>\n",
              "    </tr>\n",
              "    <tr>\n",
              "      <th>4</th>\n",
              "      <td>Jan 08, 2010</td>\n",
              "      <td>10606.40</td>\n",
              "      <td>10619.40</td>\n",
              "      <td>10554.33</td>\n",
              "      <td>10618.19</td>\n",
              "      <td>172710000</td>\n",
              "    </tr>\n",
              "    <tr>\n",
              "      <th>...</th>\n",
              "      <td>...</td>\n",
              "      <td>...</td>\n",
              "      <td>...</td>\n",
              "      <td>...</td>\n",
              "      <td>...</td>\n",
              "      <td>...</td>\n",
              "    </tr>\n",
              "    <tr>\n",
              "      <th>2511</th>\n",
              "      <td>Dec 24, 2019</td>\n",
              "      <td>28572.57</td>\n",
              "      <td>28576.80</td>\n",
              "      <td>28503.21</td>\n",
              "      <td>28515.45</td>\n",
              "      <td>86150000</td>\n",
              "    </tr>\n",
              "    <tr>\n",
              "      <th>2512</th>\n",
              "      <td>Dec 26, 2019</td>\n",
              "      <td>28539.46</td>\n",
              "      <td>28624.10</td>\n",
              "      <td>28535.15</td>\n",
              "      <td>28621.39</td>\n",
              "      <td>155970000</td>\n",
              "    </tr>\n",
              "    <tr>\n",
              "      <th>2513</th>\n",
              "      <td>Dec 27, 2019</td>\n",
              "      <td>28675.34</td>\n",
              "      <td>28701.66</td>\n",
              "      <td>28608.98</td>\n",
              "      <td>28645.26</td>\n",
              "      <td>182280000</td>\n",
              "    </tr>\n",
              "    <tr>\n",
              "      <th>2514</th>\n",
              "      <td>Dec 30, 2019</td>\n",
              "      <td>28654.76</td>\n",
              "      <td>28664.69</td>\n",
              "      <td>28428.98</td>\n",
              "      <td>28462.14</td>\n",
              "      <td>181600000</td>\n",
              "    </tr>\n",
              "    <tr>\n",
              "      <th>2515</th>\n",
              "      <td>Dec 31, 2019</td>\n",
              "      <td>28414.64</td>\n",
              "      <td>28547.35</td>\n",
              "      <td>28376.49</td>\n",
              "      <td>28538.44</td>\n",
              "      <td>193340000</td>\n",
              "    </tr>\n",
              "  </tbody>\n",
              "</table>\n",
              "<p>2516 rows × 6 columns</p>\n",
              "</div>\n",
              "      <button class=\"colab-df-convert\" onclick=\"convertToInteractive('df-a90ae1a9-f2c4-439e-a44d-622a23fb8d93')\"\n",
              "              title=\"Convert this dataframe to an interactive table.\"\n",
              "              style=\"display:none;\">\n",
              "        \n",
              "  <svg xmlns=\"http://www.w3.org/2000/svg\" height=\"24px\"viewBox=\"0 0 24 24\"\n",
              "       width=\"24px\">\n",
              "    <path d=\"M0 0h24v24H0V0z\" fill=\"none\"/>\n",
              "    <path d=\"M18.56 5.44l.94 2.06.94-2.06 2.06-.94-2.06-.94-.94-2.06-.94 2.06-2.06.94zm-11 1L8.5 8.5l.94-2.06 2.06-.94-2.06-.94L8.5 2.5l-.94 2.06-2.06.94zm10 10l.94 2.06.94-2.06 2.06-.94-2.06-.94-.94-2.06-.94 2.06-2.06.94z\"/><path d=\"M17.41 7.96l-1.37-1.37c-.4-.4-.92-.59-1.43-.59-.52 0-1.04.2-1.43.59L10.3 9.45l-7.72 7.72c-.78.78-.78 2.05 0 2.83L4 21.41c.39.39.9.59 1.41.59.51 0 1.02-.2 1.41-.59l7.78-7.78 2.81-2.81c.8-.78.8-2.07 0-2.86zM5.41 20L4 18.59l7.72-7.72 1.47 1.35L5.41 20z\"/>\n",
              "  </svg>\n",
              "      </button>\n",
              "      \n",
              "  <style>\n",
              "    .colab-df-container {\n",
              "      display:flex;\n",
              "      flex-wrap:wrap;\n",
              "      gap: 12px;\n",
              "    }\n",
              "\n",
              "    .colab-df-convert {\n",
              "      background-color: #E8F0FE;\n",
              "      border: none;\n",
              "      border-radius: 50%;\n",
              "      cursor: pointer;\n",
              "      display: none;\n",
              "      fill: #1967D2;\n",
              "      height: 32px;\n",
              "      padding: 0 0 0 0;\n",
              "      width: 32px;\n",
              "    }\n",
              "\n",
              "    .colab-df-convert:hover {\n",
              "      background-color: #E2EBFA;\n",
              "      box-shadow: 0px 1px 2px rgba(60, 64, 67, 0.3), 0px 1px 3px 1px rgba(60, 64, 67, 0.15);\n",
              "      fill: #174EA6;\n",
              "    }\n",
              "\n",
              "    [theme=dark] .colab-df-convert {\n",
              "      background-color: #3B4455;\n",
              "      fill: #D2E3FC;\n",
              "    }\n",
              "\n",
              "    [theme=dark] .colab-df-convert:hover {\n",
              "      background-color: #434B5C;\n",
              "      box-shadow: 0px 1px 3px 1px rgba(0, 0, 0, 0.15);\n",
              "      filter: drop-shadow(0px 1px 2px rgba(0, 0, 0, 0.3));\n",
              "      fill: #FFFFFF;\n",
              "    }\n",
              "  </style>\n",
              "\n",
              "      <script>\n",
              "        const buttonEl =\n",
              "          document.querySelector('#df-a90ae1a9-f2c4-439e-a44d-622a23fb8d93 button.colab-df-convert');\n",
              "        buttonEl.style.display =\n",
              "          google.colab.kernel.accessAllowed ? 'block' : 'none';\n",
              "\n",
              "        async function convertToInteractive(key) {\n",
              "          const element = document.querySelector('#df-a90ae1a9-f2c4-439e-a44d-622a23fb8d93');\n",
              "          const dataTable =\n",
              "            await google.colab.kernel.invokeFunction('convertToInteractive',\n",
              "                                                     [key], {});\n",
              "          if (!dataTable) return;\n",
              "\n",
              "          const docLinkHtml = 'Like what you see? Visit the ' +\n",
              "            '<a target=\"_blank\" href=https://colab.research.google.com/notebooks/data_table.ipynb>data table notebook</a>'\n",
              "            + ' to learn more about interactive tables.';\n",
              "          element.innerHTML = '';\n",
              "          dataTable['output_type'] = 'display_data';\n",
              "          await google.colab.output.renderOutput(dataTable, element);\n",
              "          const docLink = document.createElement('div');\n",
              "          docLink.innerHTML = docLinkHtml;\n",
              "          element.appendChild(docLink);\n",
              "        }\n",
              "      </script>\n",
              "    </div>\n",
              "  </div>\n",
              "  "
            ]
          },
          "metadata": {},
          "execution_count": 7
        }
      ]
    },
    {
      "cell_type": "code",
      "source": [
        "series = DJIA_raw.iloc[:,4]"
      ],
      "metadata": {
        "id": "vTg-wdf-Vpbi"
      },
      "execution_count": 8,
      "outputs": []
    },
    {
      "cell_type": "code",
      "source": [
        "time = []\n",
        "for i in range(0, len(series)):\n",
        "  time.append(i)"
      ],
      "metadata": {
        "id": "4P3cPCrbVpVl"
      },
      "execution_count": 9,
      "outputs": []
    },
    {
      "cell_type": "markdown",
      "source": [
        "A helper function to plot the time series:"
      ],
      "metadata": {
        "id": "XQh2IH8Tl0Le"
      }
    },
    {
      "cell_type": "code",
      "source": [
        "def plot_series(time, series, format=\"-\", start=0, end=None):\n",
        "    plt.plot(time[start:end], series[start:end], format)\n",
        "    plt.xlabel(\"Time\")\n",
        "    plt.ylabel(\"Value\")\n",
        "    plt.grid(True)"
      ],
      "metadata": {
        "id": "qMGyMzGelzEW"
      },
      "execution_count": 10,
      "outputs": []
    },
    {
      "cell_type": "markdown",
      "metadata": {
        "id": "tT1tB8J1Enkd"
      },
      "source": [
        "The next cell will use functions to compute the `time` and `series` and will save these as numpy arrays within the `G` dataclass. This cell will also plot the time series:"
      ]
    },
    {
      "cell_type": "code",
      "execution_count": 11,
      "metadata": {
        "colab": {
          "base_uri": "https://localhost:8080/",
          "height": 388
        },
        "id": "R8UYoZlKEnke",
        "outputId": "d9fbc27d-ec0e-45cf-ca5c-d0a8d55c571b"
      },
      "outputs": [
        {
          "output_type": "display_data",
          "data": {
            "text/plain": [
              "<Figure size 720x432 with 1 Axes>"
            ],
            "image/png": "[encoded data removed]"
          },
          "metadata": {
            "needs_background": "light"
          }
        }
      ],
      "source": [
        "# Save all \"global\" variables within the G class (G stands for global)\n",
        "@dataclass\n",
        "class G:\n",
        "    TIME = np.array(time)\n",
        "    SERIES = np.array(series)\n",
        "    SPLIT_TIME = int((len(series)-150)*0.8)\n",
        "    WINDOW_SIZE = 250\n",
        "    BATCH_SIZE = 32\n",
        "    SHUFFLE_BUFFER_SIZE = 60\n",
        "\n",
        "plt.figure(figsize=(10, 6))\n",
        "plot_series(G.TIME, G.SERIES)\n",
        "plt.show()"
      ]
    },
    {
      "cell_type": "markdown",
      "metadata": {
        "id": "Y8U3ckcaEnke"
      },
      "source": [
        "## Processing the data\n",
        "\n",
        "The `train_val_split` and `windowed_dataset` functions:"
      ]
    },
    {
      "cell_type": "code",
      "execution_count": 12,
      "metadata": {
        "id": "3O7A_9XdEnkf"
      },
      "outputs": [],
      "source": [
        "def train_val_test_split(time, series, time_step=G.SPLIT_TIME):\n",
        "\n",
        "    time_train = time[:time_step]\n",
        "    series_train = series[:time_step]\n",
        "    time_valid = time[time_step:-150]\n",
        "    series_valid = series[time_step:-150]\n",
        "    time_test = time[-150:]\n",
        "    series_test = series[-150:]\n",
        "\n",
        "    return time_train, series_train, time_valid, series_valid, time_test, series_test\n",
        "\n",
        "# Split the dataset\n",
        "time_train, series_train, time_valid, series_valid, time_test, series_test = train_val_test_split(G.TIME, G.SERIES)"
      ]
    },
    {
      "cell_type": "markdown",
      "source": [
        "min-max normalization:"
      ],
      "metadata": {
        "id": "M8xZy3QTZD8e"
      }
    },
    {
      "cell_type": "code",
      "source": [
        "def min_max_normalization(series):\n",
        "  series = (series - min(series_train))/(max(series_train) - min(series_train))\n",
        "  return series"
      ],
      "metadata": {
        "id": "aRkvaM6AauAy"
      },
      "execution_count": 13,
      "outputs": []
    },
    {
      "cell_type": "code",
      "source": [
        "series_norm = min_max_normalization(G.SERIES)"
      ],
      "metadata": {
        "id": "UR8bYse7ZC-G"
      },
      "execution_count": 14,
      "outputs": []
    },
    {
      "cell_type": "code",
      "source": [
        "series_train_norm = series_norm[:G.SPLIT_TIME]\n",
        "series_valid_norm = series_norm[G.SPLIT_TIME:-150]\n",
        "series_test_norm = series_norm[-150:]"
      ],
      "metadata": {
        "id": "CQr8LSVw4BIV"
      },
      "execution_count": 15,
      "outputs": []
    },
    {
      "cell_type": "code",
      "source": [
        "plot_series(time_train, series_train_norm)"
      ],
      "metadata": {
        "colab": {
          "base_uri": "https://localhost:8080/",
          "height": 279
        },
        "id": "slIykxCnn9Eb",
        "outputId": "36d3b8d4-dabe-4dd5-fbdb-34ce138db710"
      },
      "execution_count": 16,
      "outputs": [
        {
          "output_type": "display_data",
          "data": {
            "text/plain": [
              "<Figure size 432x288 with 1 Axes>"
            ],
            "image/png": "[encoded data removed]"
          },
          "metadata": {
            "needs_background": "light"
          }
        }
      ]
    },
    {
      "cell_type": "code",
      "source": [
        "plot_series(time_valid, series_valid_norm)"
      ],
      "metadata": {
        "colab": {
          "base_uri": "https://localhost:8080/",
          "height": 279
        },
        "id": "2dBiTEwnoPCf",
        "outputId": "aa13054a-e343-4deb-db74-f81b936a6f00"
      },
      "execution_count": 17,
      "outputs": [
        {
          "output_type": "display_data",
          "data": {
            "text/plain": [
              "<Figure size 432x288 with 1 Axes>"
            ],
            "image/png": "[encoded data removed]"
          },
          "metadata": {
            "needs_background": "light"
          }
        }
      ]
    },
    {
      "cell_type": "code",
      "source": [
        "plot_series(time_test, series_test_norm)"
      ],
      "metadata": {
        "colab": {
          "base_uri": "https://localhost:8080/",
          "height": 279
        },
        "id": "bCGYGHZC4oSt",
        "outputId": "baecebf9-8862-478b-da99-51d70f35358f"
      },
      "execution_count": 18,
      "outputs": [
        {
          "output_type": "display_data",
          "data": {
            "text/plain": [
              "<Figure size 432x288 with 1 Axes>"
            ],
            "image/png": "[encoded data removed]"
          },
          "metadata": {
            "needs_background": "light"
          }
        }
      ]
    },
    {
      "cell_type": "code",
      "execution_count": 19,
      "metadata": {
        "id": "lJwUUZscnG38"
      },
      "outputs": [],
      "source": [
        "def windowed_dataset(series, window_size=G.WINDOW_SIZE, batch_size=G.BATCH_SIZE, shuffle_buffer=G.SHUFFLE_BUFFER_SIZE):\n",
        "    ds = tf.data.Dataset.from_tensor_slices(series)\n",
        "    ds = ds.window(window_size + 1, shift=1, drop_remainder=True)\n",
        "    ds = ds.flat_map(lambda w: w.batch(window_size + 1))\n",
        "    ds = ds.shuffle(shuffle_buffer) \n",
        "    ds = ds.map(lambda w: (w[:-1], w[-1]))\n",
        "    ds = ds.batch(batch_size).prefetch(1)\n",
        "    return ds\n",
        "\n",
        "\n",
        "train_set = windowed_dataset(series_train_norm, window_size=G.WINDOW_SIZE, batch_size=G.BATCH_SIZE, shuffle_buffer=G.SHUFFLE_BUFFER_SIZE)"
      ]
    },
    {
      "cell_type": "code",
      "source": [
        "# create val_set without using shuffle method.\n",
        "def windowed_dataset_noshuffle(series, window_size=G.WINDOW_SIZE, batch_size=G.BATCH_SIZE):\n",
        "    ds = tf.data.Dataset.from_tensor_slices(series)\n",
        "    ds = ds.window(window_size + 1, shift=1, drop_remainder=True)\n",
        "    ds = ds.flat_map(lambda w: w.batch(window_size + 1))\n",
        "    ds = ds.map(lambda w: (w[:-1], w[-1]))\n",
        "    ds = ds.batch(batch_size).prefetch(1)\n",
        "    return ds\n",
        "\n",
        "\n",
        "val_set = windowed_dataset_noshuffle(series_norm[G.SPLIT_TIME-G.WINDOW_SIZE:-150], window_size=G.WINDOW_SIZE, batch_size=G.BATCH_SIZE)"
      ],
      "metadata": {
        "id": "Uix6YCADP4wK"
      },
      "execution_count": 20,
      "outputs": []
    },
    {
      "cell_type": "code",
      "source": [
        "train_val_set = windowed_dataset(series_norm[0:-150], window_size=G.WINDOW_SIZE, batch_size=G.BATCH_SIZE, shuffle_buffer=G.SHUFFLE_BUFFER_SIZE)"
      ],
      "metadata": {
        "id": "IpORkzCcWykM"
      },
      "execution_count": 21,
      "outputs": []
    },
    {
      "cell_type": "markdown",
      "metadata": {
        "id": "E6stIQIqEnkh"
      },
      "source": [
        "## Compiling the model\n"
      ]
    },
    {
      "cell_type": "markdown",
      "metadata": {
        "id": "GaMon77MEnkf"
      },
      "source": [
        "## Defining the model architecture (CapsNet-LSTM)\n"
      ]
    },
    {
      "cell_type": "code",
      "source": [
        "# Squash function\n",
        "\n",
        "\n",
        "def squash(vectors, axis=-1):\n",
        "    \"\"\"\n",
        "    The non-linear activation used in Capsule. It drives the length of a large vector to near 1 and small vector to 0\n",
        "    :param vectors: some vectors to be squashed, N-dim tensor\n",
        "    :param axis: the axis to squash\n",
        "    :return: a Tensor with same shape as input vectors\n",
        "    \"\"\"\n",
        "    s_squared_norm = K.sum(K.square(vectors), axis, keepdims=True) \n",
        "    scale = s_squared_norm / (1 + s_squared_norm) / K.sqrt(s_squared_norm + K.epsilon())\n",
        "    return scale * vectors\n"
      ],
      "metadata": {
        "id": "NAPDHkls8FGx"
      },
      "execution_count": 22,
      "outputs": []
    },
    {
      "cell_type": "code",
      "source": [
        "# Dynamic routing (layer)\n",
        "#    The capsule layer. It is similar to Dense layer. Dense layer has `in_num` inputs, each is a scalar, the output of the \n",
        "#    neuron from the former layer, and it has `out_num` output neurons. CapsuleLayer just expand the output of the neuron\n",
        "#    from scalar to vector. So its input shape = [None, input_num_capsule, input_dim_capsule] and output shape = \\\n",
        "#    [None, num_capsule, dim_capsule]. For Dense Layer, input_dim_capsule = dim_capsule = 1.\n",
        "\n",
        "#    :param dim_capsule: dimension of the output vectors of the capsules in this layer\n",
        "#    :param routings: number of iterations for the routing algorithm \n",
        "\n",
        "class Routing(keras.layers.Layer):\n",
        "\n",
        "    def __init__(self, dim_capsule = 32 , routings=3, kernel_initializer='glorot_uniform'):\n",
        "        super(Routing, self).__init__()\n",
        "        self.dim_capsule = dim_capsule\n",
        "        self.routings = routings\n",
        "        self.kernel_initializer = initializers.get(kernel_initializer)\n",
        "\n",
        "\n",
        "    def build(self, input_shape):\n",
        "        # build tansform matrix which can convert one primary cap to a vector with the same order as the digit cap.\n",
        "        # assert len(input_shape) >= 3  # The input Tensor should have shape=[None, input_num_capsule, input_dim_capsule]\n",
        "        self.input_num_capsule = input_shape[1]\n",
        "        self.input_dim_capsule = input_shape[2]\n",
        "        \n",
        "        # Transform matrix\n",
        "       \n",
        "        self.W = self.add_weight(shape=[self.input_num_capsule,self.dim_capsule, self.input_dim_capsule],initializer=self.kernel_initializer,name='W')\n",
        "\n",
        "        #super().build(input_shape)\n",
        "        #self.built = True\n",
        "    \n",
        "\n",
        "    def call(self, inputs): #training=None\n",
        "        # inputs.shape=[input_num_capsule, input_dim_capsule]\n",
        "        # inputs_expand.shape=[input_num_capsule, input_dim_capsule, 1]\n",
        "        inputs_expand = K.expand_dims(inputs, -1)    \n",
        "\n",
        "        # Compute `inputs * W` by scanning inputs_tiled on dimension 0.\n",
        "        # x.shape=[None, input_num_capsule, input_dim_capsule, 1]\n",
        "        # W.shape=[input_num_capsule, dim_capsule, input_dim_capsule]\n",
        "        # Regard the first dimension as `batch` dimension,\n",
        "        # then matmul: [dim_capsule, input_dim_capsule] x [input_dim_capsule, 1] -> [dim_capsule].\n",
        "        # inputs_hat.shape = [None, input_num_capsule, dim_capsule, 1]     \n",
        "          \n",
        "        inputs_hat = K.map_fn(lambda x: K.batch_dot(self.W, x, [2, 1]), elems=inputs_expand) \n",
        "\n",
        "        inputs_hat = K.squeeze(inputs_hat, axis = -1)\n",
        "        # inputs_hat.shape = [None, input_num_capsule, dim_capsule]\n",
        "       \n",
        "        # Begin: Routing algorithm ---------------------------------------------------------------------#\n",
        "        # The prior for coupling coefficient, initialized as zeros.\n",
        "        # b.shape = [None, self.input_num_capsule].\n",
        "        b = tf.zeros(shape=[K.shape(inputs_hat)[0], self.input_num_capsule])\n",
        "        \n",
        "        assert self.routings > 0\n",
        "        for i in range(self.routings):\n",
        "            # c.shape=[batch_size, input_num_capsule]\n",
        "            c = tf.nn.softmax(b, axis=-1)\n",
        "\n",
        "            # c.shape =  [batch_size, input_num_capsule]\n",
        "            # inputs_hat.shape=[batch_size, input_num_capsule, dim_capsule]\n",
        "            # The first dimensions as `batch` dimension,\n",
        "            # then matmal: [input_num_capsule] x [input_num_capsule, dim_capsule] -> [dim_capsule].\n",
        "            # outputs.shape=[None, dim_capsule]\n",
        "            \n",
        "            #outputs = squash(K.batch_dot(c, inputs_hat, [1, 1])) \n",
        "            outputs = K.batch_dot(c, inputs_hat, [1, 1])\n",
        "\n",
        "            if i < self.routings - 1:\n",
        "                # outputs.shape =  [None, dim_capsule]\n",
        "                # inputs_hat.shape=[None, input_num_capsule, dim_capsule]\n",
        "                # The first dimension as `batch` dimension,\n",
        "                # then matmal: [dim_capsule] x [input_num_capsule, dim_capsule]^T -> [input_num_capsule].\n",
        "                # b.shape=[batch_size, input_num_capsule]\n",
        "                b += K.batch_dot(outputs, inputs_hat, [1, 2])\n",
        "       \n",
        "        # End: Routing algorithm -----------------------------------------------------------------------#\n",
        "\n",
        "        return outputs\n",
        "\n",
        "    def compute_output_shape(self, input_shape):\n",
        "        return tuple([None, self.dim_capsule])"
      ],
      "metadata": {
        "id": "n2SUkh9LAFqP"
      },
      "execution_count": 32,
      "outputs": []
    },
    {
      "cell_type": "code",
      "source": [
        "input_shape = (G.WINDOW_SIZE, 1)"
      ],
      "metadata": {
        "id": "uh3dZo2eVk0K"
      },
      "execution_count": 24,
      "outputs": []
    },
    {
      "cell_type": "markdown",
      "source": [
        "### Build CapsNet-LSTM"
      ],
      "metadata": {
        "id": "_p0mPdSUDQhB"
      }
    },
    {
      "cell_type": "code",
      "source": [
        "K.clear_session()"
      ],
      "metadata": {
        "id": "-dD6KzvejX_o"
      },
      "execution_count": 45,
      "outputs": []
    },
    {
      "cell_type": "code",
      "source": [
        "\n",
        "def CapsNet_LSTM(input_shape = (G.WINDOW_SIZE, 1), input_num_capsule =64, input_dim_capsule =8, dim_capsule = 32, routings =3):\n",
        "    \n",
        "      input = tf.keras.layers.Input(shape=input_shape)\n",
        "      \n",
        "      # First layer\n",
        "      conv1d_1 = tf.keras.layers.Conv1D(filters=512, kernel_size=2, strides=1, padding='causal', activation='relu', name = 'conv1d_1')(input)\n",
        "          \n",
        "      # Primary caps\n",
        "      conv1d_2 = tf.keras.layers.Conv1D(filters=512, kernel_size=2, strides=1, padding='causal',name = 'conv1d_2')(conv1d_1)\n",
        "      \n",
        "      unsquashed_caps = tf.keras.layers.Reshape((G.WINDOW_SIZE, input_num_capsule, input_dim_capsule))(conv1d_2)\n",
        "      #squashed_caps = tf.keras.layers.Lambda(squash)(unsquashed_caps)\n",
        "\n",
        "      # Digit caps\n",
        "\n",
        "      digit_caps = tf.keras.layers.TimeDistributed(Routing(dim_capsule = dim_capsule, routings = routings))(unsquashed_caps)\n",
        "\n",
        "      # LSTM layer\n",
        "      lstm = tf.keras.layers.LSTM(200)(digit_caps)\n",
        "\n",
        "      # Dense layer\n",
        "      dense1 = tf.keras.layers.Dense(30, activation=\"relu\")(lstm)\n",
        "      dense2 = tf.keras.layers.Dense(10, activation=\"relu\")(dense1)\n",
        "      output = tf.keras.layers.Dense(1)(dense2)\n",
        "\n",
        "      model = keras.Model(inputs=input, outputs=output, name=\"capsnet_lstm\")\n",
        "\n",
        "      model.summary()   \n",
        "      return model"
      ],
      "metadata": {
        "id": "0yZMvGxYbacl"
      },
      "execution_count": null,
      "outputs": []
    },
    {
      "cell_type": "code",
      "source": [
        "capsnet_lstm_check = CapsNet_LSTM(input_shape)"
      ],
      "metadata": {
        "id": "1c71f7dCVlyr",
        "colab": {
          "base_uri": "https://localhost:8080/"
        },
        "outputId": "f3fe8638-d4f6-40fc-fb91-dc095f5441ee"
      },
      "execution_count": null,
      "outputs": [
        {
          "output_type": "stream",
          "name": "stderr",
          "text": [
            "WARNING:tensorflow:From /usr/local/lib/python3.7/dist-packages/keras/backend.py:6659: calling map_fn (from tensorflow.python.ops.map_fn) with dtype is deprecated and will be removed in a future version.\n",
            "Instructions for updating:\n",
            "Use fn_output_signature instead\n"
          ]
        },
        {
          "output_type": "stream",
          "name": "stdout",
          "text": [
            "Model: \"capsnet_lstm\"\n",
            "_________________________________________________________________\n",
            " Layer (type)                Output Shape              Param #   \n",
            "=================================================================\n",
            " input_1 (InputLayer)        [(None, 250, 1)]          0         \n",
            "                                                                 \n",
            " conv1d_1 (Conv1D)           (None, 250, 512)          1536      \n",
            "                                                                 \n",
            " conv1d_2 (Conv1D)           (None, 250, 512)          524800    \n",
            "                                                                 \n",
            " reshape (Reshape)           (None, 250, 64, 8)        0         \n",
            "                                                                 \n",
            " lambda (Lambda)             (None, 250, 64, 8)        0         \n",
            "                                                                 \n",
            " time_distributed (TimeDistr  (None, 250, 32)          16384     \n",
            " ibuted)                                                         \n",
            "                                                                 \n",
            " lstm (LSTM)                 (None, 200)               186400    \n",
            "                                                                 \n",
            " dense (Dense)               (None, 30)                6030      \n",
            "                                                                 \n",
            " dense_1 (Dense)             (None, 10)                310       \n",
            "                                                                 \n",
            " dense_2 (Dense)             (None, 1)                 11        \n",
            "                                                                 \n",
            "=================================================================\n",
            "Total params: 735,471\n",
            "Trainable params: 735,471\n",
            "Non-trainable params: 0\n",
            "_________________________________________________________________\n"
          ]
        }
      ]
    },
    {
      "cell_type": "code",
      "source": [
        "# Test the uncompiled CapsNet_LSTM\n",
        "\n",
        "try:\n",
        "    capsnet_lstm_check.predict(train_set)\n",
        "except:\n",
        "    print(\"Your current architecture is incompatible with the windowed dataset, try adjusting it.\")\n",
        "else:\n",
        "    print(\"Your current architecture is compatible with the windowed dataset! :)\")"
      ],
      "metadata": {
        "colab": {
          "base_uri": "https://localhost:8080/"
        },
        "id": "IgKUAE8WVdqv",
        "outputId": "b42c5b16-c728-48e8-d69d-eb58a7f0fd0b"
      },
      "execution_count": null,
      "outputs": [
        {
          "output_type": "stream",
          "name": "stdout",
          "text": [
            "Your current architecture is compatible with the windowed dataset! :)\n"
          ]
        }
      ]
    },
    {
      "cell_type": "code",
      "source": [
        "def build_CapsNet_LSTM(hp):\n",
        "   \n",
        "    input = tf.keras.layers.Input(shape=input_shape)\n",
        "      \n",
        "    # First layer\n",
        "    conv1d_1 = tf.keras.layers.Conv1D(filters=hp.Int('Conv_units', 256, 1024, 256), kernel_size=2, strides=1, padding='causal', activation='relu', name = 'conv1d_1')(input)\n",
        "          \n",
        "    # Primary caps\n",
        "    conv1d_2 = tf.keras.layers.Conv1D(filters=512, kernel_size=2, strides=1, padding='causal',name = 'conv1d_2')(conv1d_1)\n",
        "\n",
        "    #unsquashed_caps = tf.keras.layers.Reshape((G.WINDOW_SIZE, 64, 8))(conv1d_2)\n",
        "    #squashed_caps = tf.keras.layers.Lambda(squash)(unsquashed_caps)\n",
        "\n",
        "    # Digit caps\n",
        "     \n",
        "    #digit_caps = tf.keras.layers.TimeDistributed(Routing(dim_capsule = 512, routings = hp.Int('routings', 3, 5, 1)))(squashed_caps)\n",
        "\n",
        "    # LSTM layer\n",
        "    lstm = tf.keras.layers.LSTM(hp.Int('lstm_units', 150, 300, 50))(conv1d_2)\n",
        "\n",
        "    # Dense layer\n",
        "    dense1 = tf.keras.layers.Dense(hp.Int('dense1_units', 20, 50, 10), activation=\"relu\")(lstm)\n",
        "    dense2 = tf.keras.layers.Dense(hp.Int('dense2_units', 5, 20, 5), activation=\"relu\")(dense1)\n",
        "    output = tf.keras.layers.Dense(1)(dense2)\n",
        "\n",
        "    model = keras.Model(inputs=input, outputs=output, name=\"capsnet_lstm\")\n",
        "\n",
        "    learning_rate = hp.Float(\"lr\", min_value=1e-4, max_value=1e-2, sampling=\"log\")\n",
        "    model.compile(\n",
        "        optimizer=tf.keras.optimizers.Adam(learning_rate = learning_rate),\n",
        "        loss=tf.keras.losses.Huber(),\n",
        "        metrics=[\"mae\"])\n",
        "\n",
        "    return model"
      ],
      "metadata": {
        "id": "CV7ss5NiVBZy"
      },
      "execution_count": 57,
      "outputs": []
    },
    {
      "cell_type": "code",
      "source": [
        "build_CapsNet_LSTM(keras_tuner.HyperParameters())\n",
        "\n",
        "tuner_capsnet_lstm = keras_tuner.Hyperband(\n",
        "    hypermodel=build_CapsNet_LSTM,\n",
        "    objective=\"val_mae\",\n",
        "    max_epochs=2,\n",
        "    factor=3,\n",
        "    hyperband_iterations=1,\n",
        "    distribution_strategy=strategy,\n",
        "    directory=\"capsnet_lstm_results_dir\",\n",
        "    project_name=\"capsnet_lstm\",\n",
        "    overwrite=True)\n",
        "\n",
        "tuner_capsnet_lstm.search(train_set, epochs=2, validation_data=val_set)\n",
        "\n",
        "tuner_capsnet_lstm.results_summary()\n",
        "\n",
        "# Get the top 2 hyperparameters.\n",
        "best_hps_capsnet_lstm = tuner_capsnet_lstm.get_best_hyperparameters(5)\n",
        "# Build the model with the best hp.\n",
        "with strategy.scope():\n",
        "  capsnet_lstm = build_CapsNet_LSTM(best_hps_capsnet_lstm[0])\n",
        "# Fit with the entire dataset.\n",
        "capsnet_lstm.fit(train_val_set, epochs=50)"
      ],
      "metadata": {
        "id": "Clw6kk0hViJD",
        "outputId": "b1fe6b22-46bd-47b6-d304-922dcf15dc9b",
        "colab": {
          "base_uri": "https://localhost:8080/"
        }
      },
      "execution_count": 58,
      "outputs": [
        {
          "output_type": "stream",
          "name": "stdout",
          "text": [
            "Trial 2 Complete [00h 00m 24s]\n",
            "val_mae: 0.04393772780895233\n",
            "\n",
            "Best val_mae So Far: 0.04393772780895233\n",
            "Total elapsed time: 00h 00m 47s\n",
            "Results summary\n",
            "Results in capsnet_lstm_results_dir/capsnet_lstm\n",
            "Showing 10 best trials\n",
            "<keras_tuner.engine.objective.Objective object at 0x7fef91157d90>\n",
            "Trial summary\n",
            "Hyperparameters:\n",
            "Conv_units: 768\n",
            "lstm_units: 250\n",
            "dense1_units: 40\n",
            "dense2_units: 20\n",
            "lr: 0.003998242846699164\n",
            "tuner/epochs: 2\n",
            "tuner/initial_epoch: 0\n",
            "tuner/bracket: 0\n",
            "tuner/round: 0\n",
            "Score: 0.04393772780895233\n",
            "Trial summary\n",
            "Hyperparameters:\n",
            "Conv_units: 256\n",
            "lstm_units: 250\n",
            "dense1_units: 50\n",
            "dense2_units: 15\n",
            "lr: 0.0025675045227976654\n",
            "tuner/epochs: 2\n",
            "tuner/initial_epoch: 0\n",
            "tuner/bracket: 0\n",
            "tuner/round: 0\n",
            "Score: 0.18533439934253693\n",
            "Epoch 1/50\n",
            "67/67 [==============================] - 14s 100ms/step - loss: 0.0049 - mae: 0.0645\n",
            "Epoch 2/50\n",
            "67/67 [==============================] - 4s 64ms/step - loss: 0.0119 - mae: 0.1049\n",
            "Epoch 3/50\n",
            "67/67 [==============================] - 4s 63ms/step - loss: 0.0200 - mae: 0.1111\n",
            "Epoch 4/50\n",
            "67/67 [==============================] - 4s 63ms/step - loss: 0.0305 - mae: 0.1261\n",
            "Epoch 5/50\n",
            "67/67 [==============================] - 4s 64ms/step - loss: 0.2318 - mae: 0.6399\n",
            "Epoch 6/50\n",
            "67/67 [==============================] - 4s 64ms/step - loss: 0.0653 - mae: 0.2904\n",
            "Epoch 7/50\n",
            "67/67 [==============================] - 4s 64ms/step - loss: 0.0798 - mae: 0.3283\n",
            "Epoch 8/50\n",
            "67/67 [==============================] - 4s 64ms/step - loss: 0.0825 - mae: 0.3338\n",
            "Epoch 9/50\n",
            "67/67 [==============================] - 4s 64ms/step - loss: 0.0821 - mae: 0.3329\n",
            "Epoch 10/50\n",
            "67/67 [==============================] - 4s 64ms/step - loss: 0.0817 - mae: 0.3318\n",
            "Epoch 11/50\n",
            "67/67 [==============================] - 4s 64ms/step - loss: 0.0813 - mae: 0.3309\n",
            "Epoch 12/50\n",
            "67/67 [==============================] - 4s 64ms/step - loss: 0.0810 - mae: 0.3302\n",
            "Epoch 13/50\n",
            "67/67 [==============================] - 4s 64ms/step - loss: 0.0808 - mae: 0.3297\n",
            "Epoch 14/50\n",
            "67/67 [==============================] - 4s 63ms/step - loss: 0.0806 - mae: 0.3291\n",
            "Epoch 15/50\n",
            "67/67 [==============================] - 4s 64ms/step - loss: 0.0805 - mae: 0.3287\n",
            "Epoch 16/50\n",
            "67/67 [==============================] - 4s 64ms/step - loss: 0.0803 - mae: 0.3283\n",
            "Epoch 17/50\n",
            "67/67 [==============================] - 4s 64ms/step - loss: 0.0802 - mae: 0.3280\n",
            "Epoch 18/50\n",
            "67/67 [==============================] - 4s 64ms/step - loss: 0.0800 - mae: 0.3277\n",
            "Epoch 19/50\n",
            "67/67 [==============================] - 4s 65ms/step - loss: 0.0799 - mae: 0.3274\n",
            "Epoch 20/50\n",
            "67/67 [==============================] - 4s 64ms/step - loss: 0.0798 - mae: 0.3270\n",
            "Epoch 21/50\n",
            "67/67 [==============================] - 4s 64ms/step - loss: 0.0797 - mae: 0.3269\n",
            "Epoch 22/50\n",
            "67/67 [==============================] - 4s 64ms/step - loss: 0.0796 - mae: 0.3266\n",
            "Epoch 23/50\n",
            "67/67 [==============================] - 4s 65ms/step - loss: 0.0795 - mae: 0.3263\n",
            "Epoch 24/50\n",
            "67/67 [==============================] - 4s 64ms/step - loss: 0.0794 - mae: 0.3261\n",
            "Epoch 25/50\n",
            "67/67 [==============================] - 4s 64ms/step - loss: 0.0794 - mae: 0.3261\n",
            "Epoch 26/50\n",
            "67/67 [==============================] - 4s 64ms/step - loss: 0.0793 - mae: 0.3258\n",
            "Epoch 27/50\n",
            "67/67 [==============================] - 4s 64ms/step - loss: 0.0792 - mae: 0.3257\n",
            "Epoch 28/50\n",
            "67/67 [==============================] - 4s 64ms/step - loss: 0.0792 - mae: 0.3254\n",
            "Epoch 29/50\n",
            "67/67 [==============================] - 4s 65ms/step - loss: 0.0791 - mae: 0.3252\n",
            "Epoch 30/50\n",
            "67/67 [==============================] - 4s 64ms/step - loss: 0.0790 - mae: 0.3250\n",
            "Epoch 31/50\n",
            "67/67 [==============================] - 4s 65ms/step - loss: 0.0789 - mae: 0.3248\n",
            "Epoch 32/50\n",
            "67/67 [==============================] - 4s 65ms/step - loss: 0.0788 - mae: 0.3245\n",
            "Epoch 33/50\n",
            "67/67 [==============================] - 4s 64ms/step - loss: 0.0787 - mae: 0.3244\n",
            "Epoch 34/50\n",
            "67/67 [==============================] - 4s 64ms/step - loss: 0.0787 - mae: 0.3241\n",
            "Epoch 35/50\n",
            "67/67 [==============================] - 4s 64ms/step - loss: 0.0786 - mae: 0.3240\n",
            "Epoch 36/50\n",
            "67/67 [==============================] - 4s 64ms/step - loss: 0.0785 - mae: 0.3238\n",
            "Epoch 37/50\n",
            "67/67 [==============================] - 4s 64ms/step - loss: 0.0785 - mae: 0.3235\n",
            "Epoch 38/50\n",
            "67/67 [==============================] - 4s 64ms/step - loss: 0.0784 - mae: 0.3234\n",
            "Epoch 39/50\n",
            "67/67 [==============================] - 4s 63ms/step - loss: 0.0783 - mae: 0.3233\n",
            "Epoch 40/50\n",
            "67/67 [==============================] - 4s 65ms/step - loss: 0.0783 - mae: 0.3230\n",
            "Epoch 41/50\n",
            "67/67 [==============================] - 4s 64ms/step - loss: 0.0782 - mae: 0.3229\n",
            "Epoch 42/50\n",
            "67/67 [==============================] - 4s 64ms/step - loss: 0.0781 - mae: 0.3227\n",
            "Epoch 43/50\n",
            "67/67 [==============================] - 4s 64ms/step - loss: 0.0780 - mae: 0.3225\n",
            "Epoch 44/50\n",
            "67/67 [==============================] - 4s 64ms/step - loss: 0.0779 - mae: 0.3223\n",
            "Epoch 45/50\n",
            "67/67 [==============================] - 4s 64ms/step - loss: 0.0779 - mae: 0.3222\n",
            "Epoch 46/50\n",
            "67/67 [==============================] - 4s 64ms/step - loss: 0.0778 - mae: 0.3219\n",
            "Epoch 47/50\n",
            "67/67 [==============================] - 4s 64ms/step - loss: 0.0777 - mae: 0.3217\n",
            "Epoch 48/50\n",
            "67/67 [==============================] - 4s 63ms/step - loss: 0.0777 - mae: 0.3216\n",
            "Epoch 49/50\n",
            "67/67 [==============================] - 4s 63ms/step - loss: 0.0776 - mae: 0.3213\n",
            "Epoch 50/50\n",
            "67/67 [==============================] - 4s 64ms/step - loss: 0.0775 - mae: 0.3212\n"
          ]
        },
        {
          "output_type": "execute_result",
          "data": {
            "text/plain": [
              "<keras.callbacks.History at 0x7fef93be8650>"
            ]
          },
          "metadata": {},
          "execution_count": 58
        }
      ]
    },
    {
      "cell_type": "markdown",
      "metadata": {
        "id": "69lcH5cAEnki"
      },
      "source": [
        "## Evaluating the forecast\n",
        "\n",
        "Now it is time to evaluate the performance of the forecast. For this we use the `compute_metrics` function that you coded in a previous assignment:"
      ]
    },
    {
      "cell_type": "code",
      "execution_count": 59,
      "metadata": {
        "id": "1Y12KaJYEnki"
      },
      "outputs": [],
      "source": [
        "def compute_metrics(true_series, forecast):\n",
        "    \n",
        "    mse = tf.keras.metrics.mean_squared_error(true_series, forecast).numpy()\n",
        "    mae = tf.keras.metrics.mean_absolute_error(true_series, forecast).numpy()\n",
        "\n",
        "    return mse, mae"
      ]
    },
    {
      "cell_type": "markdown",
      "metadata": {
        "id": "r7V0kTKHEnki"
      },
      "source": [
        "At this point only the model that will perform the forecast is ready but we still need to compute the actual forecast.\n",
        "\n"
      ]
    },
    {
      "cell_type": "markdown",
      "metadata": {
        "id": "rJtDyAD9Enkj"
      },
      "source": [
        "## Faster model forecasts\n",
        "\n",
        "\n",
        "- The dataset is windowed using `window_size` rather than `window_size + 1`\n",
        "- No shuffle should be used\n",
        "- No need to split the data into features and labels\n",
        "- A model is used to predict batches of the dataset"
      ]
    },
    {
      "cell_type": "code",
      "execution_count": 60,
      "metadata": {
        "id": "4XwGrf-A_wF0"
      },
      "outputs": [],
      "source": [
        "def model_forecast(model, series, window_size):\n",
        "    ds = tf.data.Dataset.from_tensor_slices(series)\n",
        "    ds = ds.window(window_size, shift=1, drop_remainder=True)\n",
        "    ds = ds.flat_map(lambda w: w.batch(window_size))\n",
        "    ds = ds.batch(44).prefetch(1)\n",
        "    forecast = model.predict(ds)\n",
        "    return forecast"
      ]
    },
    {
      "cell_type": "markdown",
      "metadata": {
        "id": "kIyFlTEwEnkj"
      },
      "source": [
        "Now compute the actual forecast:"
      ]
    },
    {
      "cell_type": "code",
      "source": [
        "def reverse_normalization(series):\n",
        "  series = series * (max(series_train) - min(series_train)) + min(series_train)\n",
        "  return series"
      ],
      "metadata": {
        "id": "xG8kJO3blWny"
      },
      "execution_count": 61,
      "outputs": []
    },
    {
      "cell_type": "code",
      "execution_count": 62,
      "metadata": {
        "colab": {
          "base_uri": "https://localhost:8080/",
          "height": 388
        },
        "id": "PrktQX3hKYex",
        "outputId": "1ad8faea-d575-4afc-9483-12d181bb37ee"
      },
      "outputs": [
        {
          "output_type": "display_data",
          "data": {
            "text/plain": [
              "<Figure size 720x432 with 1 Axes>"
            ],
            "image/png": "[encoded data removed]"
          },
          "metadata": {
            "needs_background": "light"
          }
        }
      ],
      "source": [
        "# Compute the forecast for all the series\n",
        "capsnet_lstm_forecast = model_forecast(capsnet_lstm, series_norm, G.WINDOW_SIZE).squeeze()\n",
        "\n",
        "# Slice the forecast to get only the predictions for the validation set\n",
        "series_test_hat = capsnet_lstm_forecast[-150:]\n",
        "# reverse normalization\n",
        "# series_test_hat = reverse_normalization(cnn_lstm_forecast)\n",
        "\n",
        "# Plot the forecast\n",
        "plt.figure(figsize=(10, 6))\n",
        "plot_series(time_test, series_test_norm)\n",
        "plot_series(time_test, series_test_hat)"
      ]
    },
    {
      "cell_type": "code",
      "source": [
        "series_test_hat = reverse_normalization(series_test_hat)\n",
        "\n",
        "# Plot the forecast\n",
        "plt.figure(figsize=(10, 6))\n",
        "plot_series(time_test, series_test)\n",
        "plot_series(time_test, series_test_hat)"
      ],
      "metadata": {
        "colab": {
          "base_uri": "https://localhost:8080/",
          "height": 388
        },
        "id": "f9uvk7NGnnwt",
        "outputId": "410dce95-8210-42e2-c202-4678b6a5ece5"
      },
      "execution_count": null,
      "outputs": [
        {
          "output_type": "display_data",
          "data": {
            "text/plain": [
              "<Figure size 720x432 with 1 Axes>"
            ],
            "image/png": "[encoded data removed]"
          },
          "metadata": {
            "needs_background": "light"
          }
        }
      ]
    },
    {
      "cell_type": "code",
      "execution_count": null,
      "metadata": {
        "id": "JyKUmK5BEnkj",
        "colab": {
          "base_uri": "https://localhost:8080/"
        },
        "outputId": "6561612e-e518-4c36-b19d-c698874f70f6"
      },
      "outputs": [
        {
          "output_type": "stream",
          "name": "stdout",
          "text": [
            "mse: 76918664.00, mae: 8732.37 for forecast\n"
          ]
        }
      ],
      "source": [
        "mse, mae = compute_metrics(series_test, series_test_hat)\n",
        "\n",
        "print(f\"mse: {mse:.2f}, mae: {mae:.2f} for forecast\")"
      ]
    },
    {
      "cell_type": "markdown",
      "source": [
        "## Baseline (LSTM, CNN-LSTM)"
      ],
      "metadata": {
        "id": "og2vNXLVgOeC"
      }
    },
    {
      "cell_type": "markdown",
      "source": [
        "### LSTM"
      ],
      "metadata": {
        "id": "DTXrC28w_ZGT"
      }
    },
    {
      "cell_type": "code",
      "execution_count": 36,
      "metadata": {
        "id": "Sc6pU_kiEnkg"
      },
      "outputs": [],
      "source": [
        "def build_LSTM(hp):\n",
        "   \n",
        "    model = tf.keras.models.Sequential([\n",
        "          tf.keras.layers.LSTM(hp.Int('lstm_units', 100, 300, 50), input_shape=[G.WINDOW_SIZE, 1]),\n",
        "          tf.keras.layers.Dense(hp.Int('dense1_units', 20, 50, 10), activation=\"relu\"),\n",
        "          tf.keras.layers.Dense(hp.Int('dense2_units', 5, 20, 5), activation=\"relu\"),\n",
        "          tf.keras.layers.Dense(1)\n",
        "    ])\n",
        "    learning_rate = hp.Float(\"lr\", min_value=1e-4, max_value=1e-2, sampling=\"log\")\n",
        "    model.compile(\n",
        "        optimizer=tf.keras.optimizers.Adam(learning_rate=learning_rate),\n",
        "        loss=tf.keras.losses.Huber(),\n",
        "        metrics=[\"mae\"])\n",
        "\n",
        "    return model"
      ]
    },
    {
      "cell_type": "code",
      "source": [
        "build_LSTM(keras_tuner.HyperParameters())\n",
        "\n",
        "tuner_lstm = keras_tuner.Hyperband(\n",
        "    hypermodel=build_LSTM,\n",
        "    objective=\"val_mae\",\n",
        "    max_epochs=2,\n",
        "    factor=3,\n",
        "    hyperband_iterations=1,\n",
        "    distribution_strategy=strategy,\n",
        "    directory=\"lstm_results_dir\",\n",
        "    project_name=\"lstm\",\n",
        "    overwrite=True)\n",
        "\n",
        "tuner_lstm.search(train_set, epochs=2, validation_data=val_set)\n",
        "\n",
        "tuner_lstm.results_summary()\n",
        "\n",
        "# Get the top 2 hyperparameters.\n",
        "best_hps_lstm = tuner_lstm.get_best_hyperparameters(5)\n",
        "# Build the model with the best hp.\n",
        "with strategy.scope():\n",
        "  lstm = build_LSTM(best_hps_lstm[0])\n",
        "# Fit with the entire dataset.\n",
        "lstm.fit(train_val_set, epochs=100)"
      ],
      "metadata": {
        "id": "JQ5JlaaZ8dD_",
        "outputId": "fcc627bf-26d7-4fe4-ea6c-936dc8a71096",
        "colab": {
          "base_uri": "https://localhost:8080/"
        }
      },
      "execution_count": 49,
      "outputs": [
        {
          "output_type": "stream",
          "name": "stdout",
          "text": [
            "Trial 2 Complete [00h 00m 17s]\n",
            "val_mae: 0.043499890714883804\n",
            "\n",
            "Best val_mae So Far: 0.030787594616413116\n",
            "Total elapsed time: 00h 00m 34s\n",
            "Results summary\n",
            "Results in lstm_results_dir/lstm\n",
            "Showing 10 best trials\n",
            "<keras_tuner.engine.objective.Objective object at 0x7fef964f1c10>\n",
            "Trial summary\n",
            "Hyperparameters:\n",
            "lstm_units: 150\n",
            "dense1_units: 40\n",
            "dense2_units: 15\n",
            "lr: 0.0021991663813950377\n",
            "tuner/epochs: 2\n",
            "tuner/initial_epoch: 0\n",
            "tuner/bracket: 0\n",
            "tuner/round: 0\n",
            "Score: 0.030787594616413116\n",
            "Trial summary\n",
            "Hyperparameters:\n",
            "lstm_units: 250\n",
            "dense1_units: 20\n",
            "dense2_units: 10\n",
            "lr: 0.00015485142777119614\n",
            "tuner/epochs: 2\n",
            "tuner/initial_epoch: 0\n",
            "tuner/bracket: 0\n",
            "tuner/round: 0\n",
            "Score: 0.043499890714883804\n",
            "Epoch 1/100\n",
            "67/67 [==============================] - 8s 46ms/step - loss: 0.0017 - mae: 0.0404\n",
            "Epoch 2/100\n",
            "67/67 [==============================] - 2s 28ms/step - loss: 0.0017 - mae: 0.0426\n",
            "Epoch 3/100\n",
            "67/67 [==============================] - 2s 28ms/step - loss: 0.0013 - mae: 0.0323\n",
            "Epoch 4/100\n",
            "67/67 [==============================] - 2s 29ms/step - loss: 8.1811e-04 - mae: 0.0299\n",
            "Epoch 5/100\n",
            "67/67 [==============================] - 2s 28ms/step - loss: 0.0011 - mae: 0.0320\n",
            "Epoch 6/100\n",
            "67/67 [==============================] - 2s 28ms/step - loss: 6.0008e-04 - mae: 0.0242\n",
            "Epoch 7/100\n",
            "67/67 [==============================] - 2s 28ms/step - loss: 5.7706e-04 - mae: 0.0245\n",
            "Epoch 8/100\n",
            "67/67 [==============================] - 2s 28ms/step - loss: 5.2326e-04 - mae: 0.0246\n",
            "Epoch 9/100\n",
            "67/67 [==============================] - 2s 28ms/step - loss: 2.8530e-04 - mae: 0.0183\n",
            "Epoch 10/100\n",
            "67/67 [==============================] - 2s 28ms/step - loss: 5.0017e-04 - mae: 0.0238\n",
            "Epoch 11/100\n",
            "67/67 [==============================] - 2s 28ms/step - loss: 3.7734e-04 - mae: 0.0209\n",
            "Epoch 12/100\n",
            "67/67 [==============================] - 2s 28ms/step - loss: 4.9168e-04 - mae: 0.0231\n",
            "Epoch 13/100\n",
            "67/67 [==============================] - 2s 28ms/step - loss: 5.1936e-04 - mae: 0.0237\n",
            "Epoch 14/100\n",
            "67/67 [==============================] - 2s 28ms/step - loss: 5.4723e-04 - mae: 0.0240\n",
            "Epoch 15/100\n",
            "67/67 [==============================] - 2s 28ms/step - loss: 6.9731e-04 - mae: 0.0257\n",
            "Epoch 16/100\n",
            "67/67 [==============================] - 2s 28ms/step - loss: 4.4232e-04 - mae: 0.0214\n",
            "Epoch 17/100\n",
            "67/67 [==============================] - 2s 28ms/step - loss: 6.7900e-04 - mae: 0.0265\n",
            "Epoch 18/100\n",
            "67/67 [==============================] - 2s 27ms/step - loss: 7.2933e-04 - mae: 0.0265\n",
            "Epoch 19/100\n",
            "67/67 [==============================] - 2s 28ms/step - loss: 5.4585e-04 - mae: 0.0232\n",
            "Epoch 20/100\n",
            "67/67 [==============================] - 2s 27ms/step - loss: 6.7311e-04 - mae: 0.0281\n",
            "Epoch 21/100\n",
            "67/67 [==============================] - 2s 28ms/step - loss: 8.6064e-04 - mae: 0.0302\n",
            "Epoch 22/100\n",
            "67/67 [==============================] - 2s 27ms/step - loss: 6.0721e-04 - mae: 0.0259\n",
            "Epoch 23/100\n",
            "67/67 [==============================] - 2s 28ms/step - loss: 7.7408e-04 - mae: 0.0301\n",
            "Epoch 24/100\n",
            "67/67 [==============================] - 2s 27ms/step - loss: 9.5889e-04 - mae: 0.0332\n",
            "Epoch 25/100\n",
            "67/67 [==============================] - 2s 27ms/step - loss: 0.0015 - mae: 0.0457\n",
            "Epoch 26/100\n",
            "67/67 [==============================] - 2s 28ms/step - loss: 0.0019 - mae: 0.0463\n",
            "Epoch 27/100\n",
            "67/67 [==============================] - 2s 28ms/step - loss: 0.0012 - mae: 0.0333\n",
            "Epoch 28/100\n",
            "67/67 [==============================] - 2s 28ms/step - loss: 6.7280e-04 - mae: 0.0266\n",
            "Epoch 29/100\n",
            "67/67 [==============================] - 2s 28ms/step - loss: 0.0013 - mae: 0.0423\n",
            "Epoch 30/100\n",
            "67/67 [==============================] - 2s 27ms/step - loss: 0.0016 - mae: 0.0423\n",
            "Epoch 31/100\n",
            "67/67 [==============================] - 2s 27ms/step - loss: 5.4704e-04 - mae: 0.0251\n",
            "Epoch 32/100\n",
            "67/67 [==============================] - 2s 27ms/step - loss: 3.1803e-04 - mae: 0.0193\n",
            "Epoch 33/100\n",
            "67/67 [==============================] - 2s 28ms/step - loss: 1.7268e-04 - mae: 0.0136\n",
            "Epoch 34/100\n",
            "67/67 [==============================] - 2s 27ms/step - loss: 1.7411e-04 - mae: 0.0138\n",
            "Epoch 35/100\n",
            "67/67 [==============================] - 2s 28ms/step - loss: 1.3243e-04 - mae: 0.0114\n",
            "Epoch 36/100\n",
            "67/67 [==============================] - 2s 28ms/step - loss: 1.3200e-04 - mae: 0.0118\n",
            "Epoch 37/100\n",
            "67/67 [==============================] - 2s 27ms/step - loss: 1.8557e-04 - mae: 0.0148\n",
            "Epoch 38/100\n",
            "67/67 [==============================] - 2s 28ms/step - loss: 1.8348e-04 - mae: 0.0145\n",
            "Epoch 39/100\n",
            "67/67 [==============================] - 2s 27ms/step - loss: 1.1431e-04 - mae: 0.0106\n",
            "Epoch 40/100\n",
            "67/67 [==============================] - 2s 28ms/step - loss: 1.4569e-04 - mae: 0.0127\n",
            "Epoch 41/100\n",
            "67/67 [==============================] - 2s 28ms/step - loss: 1.1277e-04 - mae: 0.0105\n",
            "Epoch 42/100\n",
            "67/67 [==============================] - 2s 28ms/step - loss: 1.0660e-04 - mae: 0.0102\n",
            "Epoch 43/100\n",
            "67/67 [==============================] - 2s 28ms/step - loss: 1.3476e-04 - mae: 0.0119\n",
            "Epoch 44/100\n",
            "67/67 [==============================] - 2s 27ms/step - loss: 1.1781e-04 - mae: 0.0111\n",
            "Epoch 45/100\n",
            "67/67 [==============================] - 2s 28ms/step - loss: 1.6936e-04 - mae: 0.0141\n",
            "Epoch 46/100\n",
            "67/67 [==============================] - 2s 28ms/step - loss: 2.1810e-04 - mae: 0.0161\n",
            "Epoch 47/100\n",
            "67/67 [==============================] - 2s 28ms/step - loss: 2.9326e-04 - mae: 0.0193\n",
            "Epoch 48/100\n",
            "67/67 [==============================] - 2s 28ms/step - loss: 7.8318e-04 - mae: 0.0328\n",
            "Epoch 49/100\n",
            "67/67 [==============================] - 2s 28ms/step - loss: 0.0017 - mae: 0.0463\n",
            "Epoch 50/100\n",
            "67/67 [==============================] - 2s 28ms/step - loss: 0.0015 - mae: 0.0374\n",
            "Epoch 51/100\n",
            "67/67 [==============================] - 2s 28ms/step - loss: 6.9139e-04 - mae: 0.0294\n",
            "Epoch 52/100\n",
            "67/67 [==============================] - 2s 28ms/step - loss: 6.6904e-04 - mae: 0.0273\n",
            "Epoch 53/100\n",
            "67/67 [==============================] - 2s 28ms/step - loss: 2.9862e-04 - mae: 0.0197\n",
            "Epoch 54/100\n",
            "67/67 [==============================] - 2s 28ms/step - loss: 2.9478e-04 - mae: 0.0188\n",
            "Epoch 55/100\n",
            "67/67 [==============================] - 2s 28ms/step - loss: 1.7479e-04 - mae: 0.0143\n",
            "Epoch 56/100\n",
            "67/67 [==============================] - 2s 27ms/step - loss: 3.5381e-04 - mae: 0.0210\n",
            "Epoch 57/100\n",
            "67/67 [==============================] - 2s 28ms/step - loss: 2.4698e-04 - mae: 0.0170\n",
            "Epoch 58/100\n",
            "67/67 [==============================] - 2s 28ms/step - loss: 1.1936e-04 - mae: 0.0113\n",
            "Epoch 59/100\n",
            "67/67 [==============================] - 2s 27ms/step - loss: 1.7423e-04 - mae: 0.0142\n",
            "Epoch 60/100\n",
            "67/67 [==============================] - 2s 28ms/step - loss: 2.3804e-04 - mae: 0.0165\n",
            "Epoch 61/100\n",
            "67/67 [==============================] - 2s 29ms/step - loss: 1.4462e-04 - mae: 0.0126\n",
            "Epoch 62/100\n",
            "67/67 [==============================] - 2s 28ms/step - loss: 1.0778e-04 - mae: 0.0105\n",
            "Epoch 63/100\n",
            "67/67 [==============================] - 2s 28ms/step - loss: 1.2200e-04 - mae: 0.0116\n",
            "Epoch 64/100\n",
            "67/67 [==============================] - 2s 28ms/step - loss: 2.4261e-04 - mae: 0.0174\n",
            "Epoch 65/100\n",
            "67/67 [==============================] - 2s 28ms/step - loss: 2.1763e-04 - mae: 0.0163\n",
            "Epoch 66/100\n",
            "67/67 [==============================] - 2s 28ms/step - loss: 4.7501e-04 - mae: 0.0252\n",
            "Epoch 67/100\n",
            "67/67 [==============================] - 2s 27ms/step - loss: 4.8170e-04 - mae: 0.0232\n",
            "Epoch 68/100\n",
            "67/67 [==============================] - 2s 28ms/step - loss: 4.1336e-04 - mae: 0.0209\n",
            "Epoch 69/100\n",
            "67/67 [==============================] - 2s 27ms/step - loss: 4.2659e-04 - mae: 0.0230\n",
            "Epoch 70/100\n",
            "67/67 [==============================] - 2s 28ms/step - loss: 3.6046e-04 - mae: 0.0209\n",
            "Epoch 71/100\n",
            "67/67 [==============================] - 2s 28ms/step - loss: 3.5001e-04 - mae: 0.0205\n",
            "Epoch 72/100\n",
            "67/67 [==============================] - 2s 28ms/step - loss: 3.3308e-04 - mae: 0.0205\n",
            "Epoch 73/100\n",
            "67/67 [==============================] - 2s 28ms/step - loss: 3.5920e-04 - mae: 0.0196\n",
            "Epoch 74/100\n",
            "67/67 [==============================] - 2s 28ms/step - loss: 1.8155e-04 - mae: 0.0152\n",
            "Epoch 75/100\n",
            "67/67 [==============================] - 2s 28ms/step - loss: 3.2239e-04 - mae: 0.0194\n",
            "Epoch 76/100\n",
            "67/67 [==============================] - 2s 28ms/step - loss: 2.5055e-04 - mae: 0.0178\n",
            "Epoch 77/100\n",
            "67/67 [==============================] - 2s 27ms/step - loss: 2.3196e-04 - mae: 0.0160\n",
            "Epoch 78/100\n",
            "67/67 [==============================] - 2s 28ms/step - loss: 2.0798e-04 - mae: 0.0164\n",
            "Epoch 79/100\n",
            "67/67 [==============================] - 2s 28ms/step - loss: 2.8598e-04 - mae: 0.0173\n",
            "Epoch 80/100\n",
            "67/67 [==============================] - 2s 28ms/step - loss: 1.8206e-04 - mae: 0.0147\n",
            "Epoch 81/100\n",
            "67/67 [==============================] - 2s 28ms/step - loss: 1.7746e-04 - mae: 0.0137\n",
            "Epoch 82/100\n",
            "67/67 [==============================] - 2s 28ms/step - loss: 1.3037e-04 - mae: 0.0117\n",
            "Epoch 83/100\n",
            "67/67 [==============================] - 2s 27ms/step - loss: 1.5474e-04 - mae: 0.0127\n",
            "Epoch 84/100\n",
            "67/67 [==============================] - 2s 28ms/step - loss: 9.4304e-05 - mae: 0.0095\n",
            "Epoch 85/100\n",
            "67/67 [==============================] - 2s 29ms/step - loss: 1.0506e-04 - mae: 0.0102\n",
            "Epoch 86/100\n",
            "67/67 [==============================] - 2s 29ms/step - loss: 1.0659e-04 - mae: 0.0106\n",
            "Epoch 87/100\n",
            "67/67 [==============================] - 2s 28ms/step - loss: 1.5272e-04 - mae: 0.0130\n",
            "Epoch 88/100\n",
            "67/67 [==============================] - 2s 28ms/step - loss: 1.3360e-04 - mae: 0.0122\n",
            "Epoch 89/100\n",
            "67/67 [==============================] - 2s 27ms/step - loss: 1.5355e-04 - mae: 0.0132\n",
            "Epoch 90/100\n",
            "67/67 [==============================] - 2s 27ms/step - loss: 1.8694e-04 - mae: 0.0145\n",
            "Epoch 91/100\n",
            "67/67 [==============================] - 2s 28ms/step - loss: 2.8036e-04 - mae: 0.0181\n",
            "Epoch 92/100\n",
            "67/67 [==============================] - 2s 27ms/step - loss: 3.4117e-04 - mae: 0.0206\n",
            "Epoch 93/100\n",
            "67/67 [==============================] - 2s 28ms/step - loss: 4.6224e-04 - mae: 0.0212\n",
            "Epoch 94/100\n",
            "67/67 [==============================] - 2s 28ms/step - loss: 3.4430e-04 - mae: 0.0184\n",
            "Epoch 95/100\n",
            "67/67 [==============================] - 2s 28ms/step - loss: 3.7215e-04 - mae: 0.0197\n",
            "Epoch 96/100\n",
            "67/67 [==============================] - 2s 28ms/step - loss: 2.9992e-04 - mae: 0.0194\n",
            "Epoch 97/100\n",
            "67/67 [==============================] - 2s 28ms/step - loss: 5.7390e-04 - mae: 0.0269\n",
            "Epoch 98/100\n",
            "67/67 [==============================] - 2s 28ms/step - loss: 5.4605e-04 - mae: 0.0236\n",
            "Epoch 99/100\n",
            "67/67 [==============================] - 2s 28ms/step - loss: 5.1694e-04 - mae: 0.0239\n",
            "Epoch 100/100\n",
            "67/67 [==============================] - 2s 28ms/step - loss: 5.4917e-04 - mae: 0.0236\n"
          ]
        },
        {
          "output_type": "execute_result",
          "data": {
            "text/plain": [
              "<keras.callbacks.History at 0x7fef92492210>"
            ]
          },
          "metadata": {},
          "execution_count": 49
        }
      ]
    },
    {
      "cell_type": "code",
      "source": [
        "# Compute the forecast for all the series\n",
        "lstm_forecast = model_forecast(lstm, series_norm, G.WINDOW_SIZE).squeeze()\n",
        "\n",
        "# Slice the forecast to get only the predictions for the validation set\n",
        "series_test_hat_lstm = lstm_forecast[-150:]\n",
        "\n",
        "# Plot the forecast\n",
        "plt.figure(figsize=(10, 6))\n",
        "plot_series(time_test, series_test_norm)\n",
        "plot_series(time_test, series_test_hat_lstm)"
      ],
      "metadata": {
        "id": "usOQ3cl6_rPV",
        "outputId": "7e297e4e-90a4-42a5-fd49-953ea39ebb73",
        "colab": {
          "base_uri": "https://localhost:8080/",
          "height": 388
        }
      },
      "execution_count": 50,
      "outputs": [
        {
          "output_type": "display_data",
          "data": {
            "text/plain": [
              "<Figure size 720x432 with 1 Axes>"
            ],
            "image/png": "[encoded data removed]"
          },
          "metadata": {
            "needs_background": "light"
          }
        }
      ]
    },
    {
      "cell_type": "code",
      "source": [
        "series_test_hat_lstm = reverse_normalization(series_test_hat_lstm)\n",
        "\n",
        "# Plot the forecast\n",
        "plt.figure(figsize=(10, 6))\n",
        "plot_series(time_test, series_test)\n",
        "plot_series(time_test, series_test_hat_lstm)"
      ],
      "metadata": {
        "id": "To-nLdJf_QOX",
        "outputId": "c1b3482a-393b-4403-dd03-59ed329a6895",
        "colab": {
          "base_uri": "https://localhost:8080/",
          "height": 388
        }
      },
      "execution_count": 51,
      "outputs": [
        {
          "output_type": "display_data",
          "data": {
            "text/plain": [
              "<Figure size 720x432 with 1 Axes>"
            ],
            "image/png": "[encoded data removed]"
          },
          "metadata": {
            "needs_background": "light"
          }
        }
      ]
    },
    {
      "cell_type": "code",
      "source": [
        "mse, mae = compute_metrics(series_test, series_test_hat_lstm)\n",
        "\n",
        "print(f\"mse: {mse:.2f}, mae: {mae:.2f} for forecast\")"
      ],
      "metadata": {
        "id": "-U4UwUsf_Tp2",
        "outputId": "3f6e7620-52c4-4be6-ab9b-66f5de667e17",
        "colab": {
          "base_uri": "https://localhost:8080/"
        }
      },
      "execution_count": 52,
      "outputs": [
        {
          "output_type": "stream",
          "name": "stdout",
          "text": [
            "mse: 158680.19, mae: 386.56 for forecast\n"
          ]
        }
      ]
    },
    {
      "cell_type": "markdown",
      "source": [
        "### CNN-LSTM"
      ],
      "metadata": {
        "id": "EgSv9-FX_UEA"
      }
    },
    {
      "cell_type": "code",
      "source": [
        "def build_CNN_LSTM(hp):\n",
        "   \n",
        "    model = tf.keras.models.Sequential([\n",
        "          tf.keras.layers.Conv1D(filters=hp.Int('Conv_units', 256, 1024, 256), kernel_size=2,\n",
        "                                 strides=1,\n",
        "                                 activation=\"relu\",\n",
        "                                 padding='causal',\n",
        "                                 input_shape=[G.WINDOW_SIZE, 1]),\n",
        "          tf.keras.layers.MaxPooling1D(pool_size=2, strides=1, padding=\"same\"),\n",
        "          tf.keras.layers.LSTM(hp.Int('lstm_units', 100, 300, 50)),\n",
        "          tf.keras.layers.Dense(hp.Int('dense1_units', 20, 50, step = 10), activation=\"relu\"),\n",
        "          tf.keras.layers.Dense(hp.Int('dense2_units', 5, 20, step = 5), activation=\"relu\"),\n",
        "          tf.keras.layers.Dense(1)\n",
        "    ])\n",
        "    learning_rate = hp.Float(\"lr\", min_value=1e-4, max_value=1e-2, sampling=\"log\")\n",
        "    model.compile(\n",
        "        optimizer=tf.keras.optimizers.Adam(learning_rate=learning_rate),\n",
        "        loss=tf.keras.losses.Huber(),\n",
        "        metrics=[\"mae\"])\n",
        "\n",
        "    return model"
      ],
      "metadata": {
        "id": "Amka1E2csj3H"
      },
      "execution_count": 39,
      "outputs": []
    },
    {
      "cell_type": "code",
      "source": [
        "build_CNN_LSTM(keras_tuner.HyperParameters())\n",
        "\n",
        "tuner_cnn_lstm = keras_tuner.Hyperband(\n",
        "    hypermodel=build_CNN_LSTM,\n",
        "    objective=\"val_mae\",\n",
        "    max_epochs=2,\n",
        "    factor=3,\n",
        "    hyperband_iterations=1,\n",
        "    distribution_strategy=strategy,\n",
        "    directory=\"cnn_lstm_results_dir\",\n",
        "    project_name=\"cnn-lstm\",\n",
        "    overwrite=True)\n",
        "\n",
        "\n",
        "tuner_cnn_lstm.search(train_set, epochs=2, validation_data=val_set)\n",
        "\n",
        "tuner_cnn_lstm.results_summary()\n",
        "\n",
        "# Get the top 2 hyperparameters.\n",
        "best_hps_cnn_lstm = tuner_cnn_lstm.get_best_hyperparameters(5)\n",
        "# Build the model with the best hp.\n",
        "with strategy.scope():\n",
        "  cnn_lstm = build_LSTM(best_hps_cnn_lstm[0])\n",
        "# Fit with the entire dataset.\n",
        "cnn_lstm.fit(train_val_set, epochs=100)"
      ],
      "metadata": {
        "id": "A1PtMSsr-vSO",
        "outputId": "46bf8911-459a-4e0b-d2de-4bdc98ba1e50",
        "colab": {
          "base_uri": "https://localhost:8080/"
        }
      },
      "execution_count": 40,
      "outputs": [
        {
          "output_type": "stream",
          "name": "stdout",
          "text": [
            "Trial 2 Complete [00h 00m 23s]\n",
            "val_mae: 0.21456332504749298\n",
            "\n",
            "Best val_mae So Far: 0.10423777252435684\n",
            "Total elapsed time: 00h 00m 49s\n",
            "Results summary\n",
            "Results in cnn_lstm_results_dir/cnn-lstm\n",
            "Showing 10 best trials\n",
            "<keras_tuner.engine.objective.Objective object at 0x7fef97f7e310>\n",
            "Trial summary\n",
            "Hyperparameters:\n",
            "Conv_units: 768\n",
            "lstm_units: 300\n",
            "dense1_units: 30\n",
            "dense2_units: 20\n",
            "lr: 0.00018924314686241615\n",
            "tuner/epochs: 2\n",
            "tuner/initial_epoch: 0\n",
            "tuner/bracket: 0\n",
            "tuner/round: 0\n",
            "Score: 0.10423777252435684\n",
            "Trial summary\n",
            "Hyperparameters:\n",
            "Conv_units: 768\n",
            "lstm_units: 150\n",
            "dense1_units: 50\n",
            "dense2_units: 10\n",
            "lr: 0.009770890999581843\n",
            "tuner/epochs: 2\n",
            "tuner/initial_epoch: 0\n",
            "tuner/bracket: 0\n",
            "tuner/round: 0\n",
            "Score: 0.21456332504749298\n",
            "Epoch 1/100\n",
            "67/67 [==============================] - 10s 53ms/step - loss: 0.0069 - mae: 0.0939\n",
            "Epoch 2/100\n",
            "67/67 [==============================] - 2s 32ms/step - loss: 0.0022 - mae: 0.0536\n",
            "Epoch 3/100\n",
            "67/67 [==============================] - 2s 33ms/step - loss: 0.0017 - mae: 0.0477\n",
            "Epoch 4/100\n",
            "67/67 [==============================] - 2s 33ms/step - loss: 0.0015 - mae: 0.0438\n",
            "Epoch 5/100\n",
            "67/67 [==============================] - 2s 33ms/step - loss: 0.0011 - mae: 0.0366\n",
            "Epoch 6/100\n",
            "67/67 [==============================] - 2s 32ms/step - loss: 7.8041e-04 - mae: 0.0313\n",
            "Epoch 7/100\n",
            "67/67 [==============================] - 2s 32ms/step - loss: 5.7966e-04 - mae: 0.0263\n",
            "Epoch 8/100\n",
            "67/67 [==============================] - 2s 32ms/step - loss: 4.7836e-04 - mae: 0.0238\n",
            "Epoch 9/100\n",
            "67/67 [==============================] - 2s 32ms/step - loss: 4.8934e-04 - mae: 0.0237\n",
            "Epoch 10/100\n",
            "67/67 [==============================] - 2s 32ms/step - loss: 4.0195e-04 - mae: 0.0215\n",
            "Epoch 11/100\n",
            "67/67 [==============================] - 2s 32ms/step - loss: 4.1821e-04 - mae: 0.0219\n",
            "Epoch 12/100\n",
            "67/67 [==============================] - 2s 33ms/step - loss: 4.1085e-04 - mae: 0.0217\n",
            "Epoch 13/100\n",
            "67/67 [==============================] - 2s 33ms/step - loss: 3.7413e-04 - mae: 0.0204\n",
            "Epoch 14/100\n",
            "67/67 [==============================] - 2s 32ms/step - loss: 3.5241e-04 - mae: 0.0196\n",
            "Epoch 15/100\n",
            "67/67 [==============================] - 2s 32ms/step - loss: 3.2384e-04 - mae: 0.0188\n",
            "Epoch 16/100\n",
            "67/67 [==============================] - 2s 32ms/step - loss: 3.3972e-04 - mae: 0.0192\n",
            "Epoch 17/100\n",
            "67/67 [==============================] - 2s 33ms/step - loss: 3.0603e-04 - mae: 0.0181\n",
            "Epoch 18/100\n",
            "67/67 [==============================] - 2s 33ms/step - loss: 3.3520e-04 - mae: 0.0188\n",
            "Epoch 19/100\n",
            "67/67 [==============================] - 2s 33ms/step - loss: 2.9157e-04 - mae: 0.0174\n",
            "Epoch 20/100\n",
            "67/67 [==============================] - 2s 32ms/step - loss: 2.9871e-04 - mae: 0.0174\n",
            "Epoch 21/100\n",
            "67/67 [==============================] - 2s 32ms/step - loss: 2.8653e-04 - mae: 0.0173\n",
            "Epoch 22/100\n",
            "67/67 [==============================] - 2s 33ms/step - loss: 2.9180e-04 - mae: 0.0173\n",
            "Epoch 23/100\n",
            "67/67 [==============================] - 2s 32ms/step - loss: 3.2252e-04 - mae: 0.0180\n",
            "Epoch 24/100\n",
            "67/67 [==============================] - 2s 33ms/step - loss: 2.9779e-04 - mae: 0.0176\n",
            "Epoch 25/100\n",
            "67/67 [==============================] - 2s 32ms/step - loss: 2.9254e-04 - mae: 0.0175\n",
            "Epoch 26/100\n",
            "67/67 [==============================] - 2s 32ms/step - loss: 2.8890e-04 - mae: 0.0179\n",
            "Epoch 27/100\n",
            "67/67 [==============================] - 2s 33ms/step - loss: 2.8653e-04 - mae: 0.0178\n",
            "Epoch 28/100\n",
            "67/67 [==============================] - 2s 32ms/step - loss: 2.5511e-04 - mae: 0.0165\n",
            "Epoch 29/100\n",
            "67/67 [==============================] - 2s 32ms/step - loss: 2.3486e-04 - mae: 0.0155\n",
            "Epoch 30/100\n",
            "67/67 [==============================] - 2s 33ms/step - loss: 2.5129e-04 - mae: 0.0161\n",
            "Epoch 31/100\n",
            "67/67 [==============================] - 2s 32ms/step - loss: 2.2907e-04 - mae: 0.0155\n",
            "Epoch 32/100\n",
            "67/67 [==============================] - 2s 32ms/step - loss: 2.4901e-04 - mae: 0.0162\n",
            "Epoch 33/100\n",
            "67/67 [==============================] - 2s 32ms/step - loss: 2.2908e-04 - mae: 0.0155\n",
            "Epoch 34/100\n",
            "67/67 [==============================] - 2s 32ms/step - loss: 2.2738e-04 - mae: 0.0154\n",
            "Epoch 35/100\n",
            "67/67 [==============================] - 2s 33ms/step - loss: 2.4799e-04 - mae: 0.0164\n",
            "Epoch 36/100\n",
            "67/67 [==============================] - 2s 32ms/step - loss: 2.2716e-04 - mae: 0.0152\n",
            "Epoch 37/100\n",
            "67/67 [==============================] - 2s 32ms/step - loss: 2.0653e-04 - mae: 0.0146\n",
            "Epoch 38/100\n",
            "67/67 [==============================] - 2s 33ms/step - loss: 2.7186e-04 - mae: 0.0174\n",
            "Epoch 39/100\n",
            "67/67 [==============================] - 2s 33ms/step - loss: 2.7688e-04 - mae: 0.0176\n",
            "Epoch 40/100\n",
            "67/67 [==============================] - 2s 33ms/step - loss: 1.9767e-04 - mae: 0.0143\n",
            "Epoch 41/100\n",
            "67/67 [==============================] - 2s 33ms/step - loss: 1.9646e-04 - mae: 0.0144\n",
            "Epoch 42/100\n",
            "67/67 [==============================] - 2s 33ms/step - loss: 2.0287e-04 - mae: 0.0146\n",
            "Epoch 43/100\n",
            "67/67 [==============================] - 2s 33ms/step - loss: 1.8620e-04 - mae: 0.0138\n",
            "Epoch 44/100\n",
            "67/67 [==============================] - 2s 33ms/step - loss: 1.7865e-04 - mae: 0.0136\n",
            "Epoch 45/100\n",
            "67/67 [==============================] - 2s 32ms/step - loss: 1.9423e-04 - mae: 0.0146\n",
            "Epoch 46/100\n",
            "67/67 [==============================] - 2s 33ms/step - loss: 2.2969e-04 - mae: 0.0163\n",
            "Epoch 47/100\n",
            "67/67 [==============================] - 2s 32ms/step - loss: 2.3115e-04 - mae: 0.0162\n",
            "Epoch 48/100\n",
            "67/67 [==============================] - 2s 33ms/step - loss: 1.8654e-04 - mae: 0.0141\n",
            "Epoch 49/100\n",
            "67/67 [==============================] - 2s 33ms/step - loss: 1.8368e-04 - mae: 0.0139\n",
            "Epoch 50/100\n",
            "67/67 [==============================] - 2s 33ms/step - loss: 1.8848e-04 - mae: 0.0142\n",
            "Epoch 51/100\n",
            "67/67 [==============================] - 2s 33ms/step - loss: 2.0972e-04 - mae: 0.0151\n",
            "Epoch 52/100\n",
            "67/67 [==============================] - 2s 33ms/step - loss: 1.8635e-04 - mae: 0.0140\n",
            "Epoch 53/100\n",
            "67/67 [==============================] - 2s 33ms/step - loss: 1.7778e-04 - mae: 0.0137\n",
            "Epoch 54/100\n",
            "67/67 [==============================] - 2s 33ms/step - loss: 1.7087e-04 - mae: 0.0133\n",
            "Epoch 55/100\n",
            "67/67 [==============================] - 2s 33ms/step - loss: 1.7247e-04 - mae: 0.0136\n",
            "Epoch 56/100\n",
            "67/67 [==============================] - 2s 33ms/step - loss: 1.7896e-04 - mae: 0.0137\n",
            "Epoch 57/100\n",
            "67/67 [==============================] - 2s 33ms/step - loss: 2.2262e-04 - mae: 0.0161\n",
            "Epoch 58/100\n",
            "67/67 [==============================] - 2s 33ms/step - loss: 1.7424e-04 - mae: 0.0137\n",
            "Epoch 59/100\n",
            "67/67 [==============================] - 2s 34ms/step - loss: 1.8287e-04 - mae: 0.0140\n",
            "Epoch 60/100\n",
            "67/67 [==============================] - 2s 33ms/step - loss: 1.6287e-04 - mae: 0.0130\n",
            "Epoch 61/100\n",
            "67/67 [==============================] - 2s 33ms/step - loss: 1.5985e-04 - mae: 0.0130\n",
            "Epoch 62/100\n",
            "67/67 [==============================] - 2s 33ms/step - loss: 1.8551e-04 - mae: 0.0143\n",
            "Epoch 63/100\n",
            "67/67 [==============================] - 2s 33ms/step - loss: 1.8513e-04 - mae: 0.0142\n",
            "Epoch 64/100\n",
            "67/67 [==============================] - 2s 33ms/step - loss: 1.6060e-04 - mae: 0.0127\n",
            "Epoch 65/100\n",
            "67/67 [==============================] - 2s 32ms/step - loss: 1.5735e-04 - mae: 0.0129\n",
            "Epoch 66/100\n",
            "67/67 [==============================] - 2s 33ms/step - loss: 2.0999e-04 - mae: 0.0157\n",
            "Epoch 67/100\n",
            "67/67 [==============================] - 2s 33ms/step - loss: 1.9361e-04 - mae: 0.0150\n",
            "Epoch 68/100\n",
            "67/67 [==============================] - 2s 32ms/step - loss: 3.0337e-04 - mae: 0.0189\n",
            "Epoch 69/100\n",
            "67/67 [==============================] - 2s 33ms/step - loss: 1.7470e-04 - mae: 0.0139\n",
            "Epoch 70/100\n",
            "67/67 [==============================] - 2s 32ms/step - loss: 1.5360e-04 - mae: 0.0127\n",
            "Epoch 71/100\n",
            "67/67 [==============================] - 2s 33ms/step - loss: 1.3972e-04 - mae: 0.0119\n",
            "Epoch 72/100\n",
            "67/67 [==============================] - 2s 33ms/step - loss: 1.3308e-04 - mae: 0.0116\n",
            "Epoch 73/100\n",
            "67/67 [==============================] - 2s 33ms/step - loss: 1.3339e-04 - mae: 0.0115\n",
            "Epoch 74/100\n",
            "67/67 [==============================] - 2s 32ms/step - loss: 1.3500e-04 - mae: 0.0117\n",
            "Epoch 75/100\n",
            "67/67 [==============================] - 2s 32ms/step - loss: 1.3856e-04 - mae: 0.0119\n",
            "Epoch 76/100\n",
            "67/67 [==============================] - 2s 32ms/step - loss: 1.5057e-04 - mae: 0.0125\n",
            "Epoch 77/100\n",
            "67/67 [==============================] - 2s 32ms/step - loss: 1.6537e-04 - mae: 0.0136\n",
            "Epoch 78/100\n",
            "67/67 [==============================] - 2s 32ms/step - loss: 1.7064e-04 - mae: 0.0138\n",
            "Epoch 79/100\n",
            "67/67 [==============================] - 2s 32ms/step - loss: 1.6417e-04 - mae: 0.0134\n",
            "Epoch 80/100\n",
            "67/67 [==============================] - 2s 32ms/step - loss: 1.2353e-04 - mae: 0.0111\n",
            "Epoch 81/100\n",
            "67/67 [==============================] - 2s 33ms/step - loss: 1.2997e-04 - mae: 0.0113\n",
            "Epoch 82/100\n",
            "67/67 [==============================] - 2s 32ms/step - loss: 1.3268e-04 - mae: 0.0115\n",
            "Epoch 83/100\n",
            "67/67 [==============================] - 2s 32ms/step - loss: 1.3305e-04 - mae: 0.0117\n",
            "Epoch 84/100\n",
            "67/67 [==============================] - 2s 34ms/step - loss: 1.2565e-04 - mae: 0.0111\n",
            "Epoch 85/100\n",
            "67/67 [==============================] - 2s 34ms/step - loss: 1.1928e-04 - mae: 0.0110\n",
            "Epoch 86/100\n",
            "67/67 [==============================] - 2s 33ms/step - loss: 1.3048e-04 - mae: 0.0115\n",
            "Epoch 87/100\n",
            "67/67 [==============================] - 2s 32ms/step - loss: 1.4070e-04 - mae: 0.0120\n",
            "Epoch 88/100\n",
            "67/67 [==============================] - 2s 33ms/step - loss: 1.3990e-04 - mae: 0.0122\n",
            "Epoch 89/100\n",
            "67/67 [==============================] - 2s 33ms/step - loss: 1.2466e-04 - mae: 0.0112\n",
            "Epoch 90/100\n",
            "67/67 [==============================] - 2s 33ms/step - loss: 1.3979e-04 - mae: 0.0122\n",
            "Epoch 91/100\n",
            "67/67 [==============================] - 2s 33ms/step - loss: 1.1934e-04 - mae: 0.0111\n",
            "Epoch 92/100\n",
            "67/67 [==============================] - 2s 33ms/step - loss: 1.4617e-04 - mae: 0.0128\n",
            "Epoch 93/100\n",
            "67/67 [==============================] - 2s 32ms/step - loss: 1.3208e-04 - mae: 0.0116\n",
            "Epoch 94/100\n",
            "67/67 [==============================] - 2s 32ms/step - loss: 1.2837e-04 - mae: 0.0116\n",
            "Epoch 95/100\n",
            "67/67 [==============================] - 2s 33ms/step - loss: 1.3100e-04 - mae: 0.0115\n",
            "Epoch 96/100\n",
            "67/67 [==============================] - 2s 33ms/step - loss: 1.1424e-04 - mae: 0.0107\n",
            "Epoch 97/100\n",
            "67/67 [==============================] - 2s 33ms/step - loss: 1.1205e-04 - mae: 0.0106\n",
            "Epoch 98/100\n",
            "67/67 [==============================] - 2s 33ms/step - loss: 1.2053e-04 - mae: 0.0110\n",
            "Epoch 99/100\n",
            "67/67 [==============================] - 2s 32ms/step - loss: 1.3504e-04 - mae: 0.0121\n",
            "Epoch 100/100\n",
            "67/67 [==============================] - 2s 32ms/step - loss: 1.4327e-04 - mae: 0.0126\n"
          ]
        },
        {
          "output_type": "execute_result",
          "data": {
            "text/plain": [
              "<keras.callbacks.History at 0x7fef93917f50>"
            ]
          },
          "metadata": {},
          "execution_count": 40
        }
      ]
    },
    {
      "cell_type": "code",
      "source": [
        "# Compute the forecast for all the series\n",
        "cnn_lstm_forecast = model_forecast(cnn_lstm, series_norm, G.WINDOW_SIZE).squeeze()\n",
        "\n",
        "# Slice the forecast to get only the predictions for the validation set\n",
        "series_test_hat_cnn_lstm = cnn_lstm_forecast[-150:]\n",
        "\n",
        "# Plot the forecast\n",
        "plt.figure(figsize=(10, 6))\n",
        "plot_series(time_test, series_test_norm)\n",
        "plot_series(time_test, series_test_hat_cnn_lstm)"
      ],
      "metadata": {
        "id": "54nm9-qaAU9o",
        "outputId": "9985a999-99af-44a7-df57-911f89391a09",
        "colab": {
          "base_uri": "https://localhost:8080/",
          "height": 388
        }
      },
      "execution_count": 41,
      "outputs": [
        {
          "output_type": "display_data",
          "data": {
            "text/plain": [
              "<Figure size 720x432 with 1 Axes>"
            ],
            "image/png": "[encoded data removed]"
          },
          "metadata": {
            "needs_background": "light"
          }
        }
      ]
    },
    {
      "cell_type": "code",
      "source": [
        "series_test_hat_cnn_lstm = reverse_normalization(series_test_hat_cnn_lstm)\n",
        "\n",
        "# Plot the forecast\n",
        "plt.figure(figsize=(10, 6))\n",
        "plot_series(time_test, series_test)\n",
        "plot_series(time_test, series_test_hat_cnn_lstm)"
      ],
      "metadata": {
        "id": "3Rsf4HtdAVTe",
        "outputId": "75480bbc-2cb1-4f09-fca5-d00491efa232",
        "colab": {
          "base_uri": "https://localhost:8080/",
          "height": 388
        }
      },
      "execution_count": 42,
      "outputs": [
        {
          "output_type": "display_data",
          "data": {
            "text/plain": [
              "<Figure size 720x432 with 1 Axes>"
            ],
            "image/png": "[encoded data removed]"
          },
          "metadata": {
            "needs_background": "light"
          }
        }
      ]
    },
    {
      "cell_type": "code",
      "source": [
        "mse, mae = compute_metrics(series_test, series_test_hat_cnn_lstm)\n",
        "\n",
        "print(f\"mse: {mse:.2f}, mae: {mae:.2f} for forecast\")"
      ],
      "metadata": {
        "id": "hW0VZCxdAVjO",
        "outputId": "95382dcc-2d68-4c20-d658-69d6370dd686",
        "colab": {
          "base_uri": "https://localhost:8080/"
        }
      },
      "execution_count": 43,
      "outputs": [
        {
          "output_type": "stream",
          "name": "stdout",
          "text": [
            "mse: 29937.43, mae: 159.06 for forecast\n"
          ]
        }
      ]
    },
    {
      "cell_type": "markdown",
      "source": [
        "## Camparison"
      ],
      "metadata": {
        "id": "15FrV8PMAimg"
      }
    },
    {
      "cell_type": "code",
      "source": [],
      "metadata": {
        "id": "rNCmNekCAuAF"
      },
      "execution_count": null,
      "outputs": []
    },
    {
      "cell_type": "code",
      "source": [],
      "metadata": {
        "id": "JzlMIn_iAt7w"
      },
      "execution_count": null,
      "outputs": []
    }
  ],
  "metadata": {
    "kernelspec": {
      "display_name": "Python 3",
      "language": "python",
      "name": "python3"
    },
    "language_info": {
      "codemirror_mode": {
        "name": "ipython",
        "version": 3
      },
      "file_extension": ".py",
      "mimetype": "text/x-python",
      "name": "python",
      "nbconvert_exporter": "python",
      "pygments_lexer": "ipython3",
      "version": "3.8.8"
    },
    "colab": {
      "name": "CapsNet_LSTM.ipynb",
      "provenance": [],
      "collapsed_sections": [],
      "machine_shape": "hm",
      "include_colab_link": true
    },
    "accelerator": "TPU",
    "gpuClass": "standard"
  },
  "nbformat": 4,
  "nbformat_minor": 0
}