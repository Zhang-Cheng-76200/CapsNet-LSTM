{
  "cells": [
    {
      "cell_type": "markdown",
      "metadata": {
        "id": "view-in-github",
        "colab_type": "text"
      },
      "source": [
        "<a href=\"https://colab.research.google.com/github/Orangefox76200/CapsNet-LSTM/blob/main/CapsNet_LSTM.ipynb\" target=\"_parent\"><img src=\"https://colab.research.google.com/assets/colab-badge.svg\" alt=\"Open In Colab\"/></a>"
      ]
    },
    {
      "cell_type": "markdown",
      "metadata": {
        "id": "G92ON7NXEnkW"
      },
      "source": [
        "# CapsNet_LSTM: Using real world data (DJIA Index)\n",
        "\n",
        "DJIA Index dataset contains data of the daily DJIA Index price recorded from Jan 1st, 2010 to Dec 31st, 2019. In addition to be using Tensorflow's layers for processing sequence data such as LSTMs we will also use Capsule Network to improve the model's performance.\n",
        "\n",
        "Let's get started!"
      ]
    },
    {
      "cell_type": "code",
      "execution_count": 9,
      "metadata": {
        "id": "56XEQOGknrAk"
      },
      "outputs": [],
      "source": [
        "import tensorflow as tf\n",
        "from keras import backend as K\n",
        "from keras import initializers, layers, models, optimizers\n",
        "\n",
        "import pickle\n",
        "import pandas as pd\n",
        "import numpy as np\n",
        "import matplotlib.pyplot as plt\n",
        "import datetime\n",
        "from PIL import Image\n",
        "from dataclasses import dataclass"
      ]
    },
    {
      "cell_type": "code",
      "source": [
        "# Load the TensorBoard notebook extension\n",
        "%load_ext tensorboard"
      ],
      "metadata": {
        "colab": {
          "base_uri": "https://localhost:8080/"
        },
        "id": "xd85sJ-phkwi",
        "outputId": "89544d1c-c496-4429-8369-ee602515eda2"
      },
      "execution_count": 10,
      "outputs": [
        {
          "output_type": "stream",
          "name": "stdout",
          "text": [
            "The tensorboard extension is already loaded. To reload it, use:\n",
            "  %reload_ext tensorboard\n"
          ]
        }
      ]
    },
    {
      "cell_type": "markdown",
      "metadata": {
        "id": "RBR7h1IgEnkc"
      },
      "source": [
        "## Parsing the raw data\n",
        "\n",
        "A couple of things to note:\n",
        "\n",
        "- There is no need to save the data points as numpy arrays, regular lists is fine.\n",
        "- The `time` list should contain every timestep (starting at zero), which is just a sequence of ordered numbers with the same length as the `series` list.\n",
        "- The values of the `series` should be of `float` type. You can use Python's built-in `float` function to ensure this."
      ]
    },
    {
      "cell_type": "markdown",
      "metadata": {
        "id": "GeP3JMZHEnkZ"
      },
      "source": [
        "Begin by looking at the structure of the xlsx file that contains the data:"
      ]
    },
    {
      "cell_type": "code",
      "source": [
        "from google.colab import drive\n",
        "drive.mount ('gdrive')\n",
        "DJIA_raw = pd.read_excel('/content/gdrive/MyDrive/Colab Notebooks/DJIA.xlsx')\n",
        "DJIA_raw"
      ],
      "metadata": {
        "colab": {
          "base_uri": "https://localhost:8080/",
          "height": 441
        },
        "id": "vKv3toTHFgnh",
        "outputId": "1695222d-9611-4eae-f951-25eda2a6e649"
      },
      "execution_count": 12,
      "outputs": [
        {
          "output_type": "stream",
          "name": "stdout",
          "text": [
            "Drive already mounted at gdrive; to attempt to forcibly remount, call drive.mount(\"gdrive\", force_remount=True).\n"
          ]
        },
        {
          "output_type": "execute_result",
          "data": {
            "text/plain": [
              "              Date      Open      High       Low     Close     Volume\n",
              "0     Jan 04, 2010  10430.69  10604.97  10430.69  10583.96  179780000\n",
              "1     Jan 05, 2010  10584.56  10584.56  10522.52  10572.02  188540000\n",
              "2     Jan 06, 2010  10564.72  10594.99  10546.55  10573.68  186040000\n",
              "3     Jan 07, 2010  10571.11  10612.37  10505.21  10606.86  217390000\n",
              "4     Jan 08, 2010  10606.40  10619.40  10554.33  10618.19  172710000\n",
              "...            ...       ...       ...       ...       ...        ...\n",
              "2511  Dec 24, 2019  28572.57  28576.80  28503.21  28515.45   86150000\n",
              "2512  Dec 26, 2019  28539.46  28624.10  28535.15  28621.39  155970000\n",
              "2513  Dec 27, 2019  28675.34  28701.66  28608.98  28645.26  182280000\n",
              "2514  Dec 30, 2019  28654.76  28664.69  28428.98  28462.14  181600000\n",
              "2515  Dec 31, 2019  28414.64  28547.35  28376.49  28538.44  193340000\n",
              "\n",
              "[2516 rows x 6 columns]"
            ],
            "text/html": [
              "\n",
              "  <div id=\"df-47f56774-2e77-4cd3-b51f-712e00c2929d\">\n",
              "    <div class=\"colab-df-container\">\n",
              "      <div>\n",
              "<style scoped>\n",
              "    .dataframe tbody tr th:only-of-type {\n",
              "        vertical-align: middle;\n",
              "    }\n",
              "\n",
              "    .dataframe tbody tr th {\n",
              "        vertical-align: top;\n",
              "    }\n",
              "\n",
              "    .dataframe thead th {\n",
              "        text-align: right;\n",
              "    }\n",
              "</style>\n",
              "<table border=\"1\" class=\"dataframe\">\n",
              "  <thead>\n",
              "    <tr style=\"text-align: right;\">\n",
              "      <th></th>\n",
              "      <th>Date</th>\n",
              "      <th>Open</th>\n",
              "      <th>High</th>\n",
              "      <th>Low</th>\n",
              "      <th>Close</th>\n",
              "      <th>Volume</th>\n",
              "    </tr>\n",
              "  </thead>\n",
              "  <tbody>\n",
              "    <tr>\n",
              "      <th>0</th>\n",
              "      <td>Jan 04, 2010</td>\n",
              "      <td>10430.69</td>\n",
              "      <td>10604.97</td>\n",
              "      <td>10430.69</td>\n",
              "      <td>10583.96</td>\n",
              "      <td>179780000</td>\n",
              "    </tr>\n",
              "    <tr>\n",
              "      <th>1</th>\n",
              "      <td>Jan 05, 2010</td>\n",
              "      <td>10584.56</td>\n",
              "      <td>10584.56</td>\n",
              "      <td>10522.52</td>\n",
              "      <td>10572.02</td>\n",
              "      <td>188540000</td>\n",
              "    </tr>\n",
              "    <tr>\n",
              "      <th>2</th>\n",
              "      <td>Jan 06, 2010</td>\n",
              "      <td>10564.72</td>\n",
              "      <td>10594.99</td>\n",
              "      <td>10546.55</td>\n",
              "      <td>10573.68</td>\n",
              "      <td>186040000</td>\n",
              "    </tr>\n",
              "    <tr>\n",
              "      <th>3</th>\n",
              "      <td>Jan 07, 2010</td>\n",
              "      <td>10571.11</td>\n",
              "      <td>10612.37</td>\n",
              "      <td>10505.21</td>\n",
              "      <td>10606.86</td>\n",
              "      <td>217390000</td>\n",
              "    </tr>\n",
              "    <tr>\n",
              "      <th>4</th>\n",
              "      <td>Jan 08, 2010</td>\n",
              "      <td>10606.40</td>\n",
              "      <td>10619.40</td>\n",
              "      <td>10554.33</td>\n",
              "      <td>10618.19</td>\n",
              "      <td>172710000</td>\n",
              "    </tr>\n",
              "    <tr>\n",
              "      <th>...</th>\n",
              "      <td>...</td>\n",
              "      <td>...</td>\n",
              "      <td>...</td>\n",
              "      <td>...</td>\n",
              "      <td>...</td>\n",
              "      <td>...</td>\n",
              "    </tr>\n",
              "    <tr>\n",
              "      <th>2511</th>\n",
              "      <td>Dec 24, 2019</td>\n",
              "      <td>28572.57</td>\n",
              "      <td>28576.80</td>\n",
              "      <td>28503.21</td>\n",
              "      <td>28515.45</td>\n",
              "      <td>86150000</td>\n",
              "    </tr>\n",
              "    <tr>\n",
              "      <th>2512</th>\n",
              "      <td>Dec 26, 2019</td>\n",
              "      <td>28539.46</td>\n",
              "      <td>28624.10</td>\n",
              "      <td>28535.15</td>\n",
              "      <td>28621.39</td>\n",
              "      <td>155970000</td>\n",
              "    </tr>\n",
              "    <tr>\n",
              "      <th>2513</th>\n",
              "      <td>Dec 27, 2019</td>\n",
              "      <td>28675.34</td>\n",
              "      <td>28701.66</td>\n",
              "      <td>28608.98</td>\n",
              "      <td>28645.26</td>\n",
              "      <td>182280000</td>\n",
              "    </tr>\n",
              "    <tr>\n",
              "      <th>2514</th>\n",
              "      <td>Dec 30, 2019</td>\n",
              "      <td>28654.76</td>\n",
              "      <td>28664.69</td>\n",
              "      <td>28428.98</td>\n",
              "      <td>28462.14</td>\n",
              "      <td>181600000</td>\n",
              "    </tr>\n",
              "    <tr>\n",
              "      <th>2515</th>\n",
              "      <td>Dec 31, 2019</td>\n",
              "      <td>28414.64</td>\n",
              "      <td>28547.35</td>\n",
              "      <td>28376.49</td>\n",
              "      <td>28538.44</td>\n",
              "      <td>193340000</td>\n",
              "    </tr>\n",
              "  </tbody>\n",
              "</table>\n",
              "<p>2516 rows × 6 columns</p>\n",
              "</div>\n",
              "      <button class=\"colab-df-convert\" onclick=\"convertToInteractive('df-47f56774-2e77-4cd3-b51f-712e00c2929d')\"\n",
              "              title=\"Convert this dataframe to an interactive table.\"\n",
              "              style=\"display:none;\">\n",
              "        \n",
              "  <svg xmlns=\"http://www.w3.org/2000/svg\" height=\"24px\"viewBox=\"0 0 24 24\"\n",
              "       width=\"24px\">\n",
              "    <path d=\"M0 0h24v24H0V0z\" fill=\"none\"/>\n",
              "    <path d=\"M18.56 5.44l.94 2.06.94-2.06 2.06-.94-2.06-.94-.94-2.06-.94 2.06-2.06.94zm-11 1L8.5 8.5l.94-2.06 2.06-.94-2.06-.94L8.5 2.5l-.94 2.06-2.06.94zm10 10l.94 2.06.94-2.06 2.06-.94-2.06-.94-.94-2.06-.94 2.06-2.06.94z\"/><path d=\"M17.41 7.96l-1.37-1.37c-.4-.4-.92-.59-1.43-.59-.52 0-1.04.2-1.43.59L10.3 9.45l-7.72 7.72c-.78.78-.78 2.05 0 2.83L4 21.41c.39.39.9.59 1.41.59.51 0 1.02-.2 1.41-.59l7.78-7.78 2.81-2.81c.8-.78.8-2.07 0-2.86zM5.41 20L4 18.59l7.72-7.72 1.47 1.35L5.41 20z\"/>\n",
              "  </svg>\n",
              "      </button>\n",
              "      \n",
              "  <style>\n",
              "    .colab-df-container {\n",
              "      display:flex;\n",
              "      flex-wrap:wrap;\n",
              "      gap: 12px;\n",
              "    }\n",
              "\n",
              "    .colab-df-convert {\n",
              "      background-color: #E8F0FE;\n",
              "      border: none;\n",
              "      border-radius: 50%;\n",
              "      cursor: pointer;\n",
              "      display: none;\n",
              "      fill: #1967D2;\n",
              "      height: 32px;\n",
              "      padding: 0 0 0 0;\n",
              "      width: 32px;\n",
              "    }\n",
              "\n",
              "    .colab-df-convert:hover {\n",
              "      background-color: #E2EBFA;\n",
              "      box-shadow: 0px 1px 2px rgba(60, 64, 67, 0.3), 0px 1px 3px 1px rgba(60, 64, 67, 0.15);\n",
              "      fill: #174EA6;\n",
              "    }\n",
              "\n",
              "    [theme=dark] .colab-df-convert {\n",
              "      background-color: #3B4455;\n",
              "      fill: #D2E3FC;\n",
              "    }\n",
              "\n",
              "    [theme=dark] .colab-df-convert:hover {\n",
              "      background-color: #434B5C;\n",
              "      box-shadow: 0px 1px 3px 1px rgba(0, 0, 0, 0.15);\n",
              "      filter: drop-shadow(0px 1px 2px rgba(0, 0, 0, 0.3));\n",
              "      fill: #FFFFFF;\n",
              "    }\n",
              "  </style>\n",
              "\n",
              "      <script>\n",
              "        const buttonEl =\n",
              "          document.querySelector('#df-47f56774-2e77-4cd3-b51f-712e00c2929d button.colab-df-convert');\n",
              "        buttonEl.style.display =\n",
              "          google.colab.kernel.accessAllowed ? 'block' : 'none';\n",
              "\n",
              "        async function convertToInteractive(key) {\n",
              "          const element = document.querySelector('#df-47f56774-2e77-4cd3-b51f-712e00c2929d');\n",
              "          const dataTable =\n",
              "            await google.colab.kernel.invokeFunction('convertToInteractive',\n",
              "                                                     [key], {});\n",
              "          if (!dataTable) return;\n",
              "\n",
              "          const docLinkHtml = 'Like what you see? Visit the ' +\n",
              "            '<a target=\"_blank\" href=https://colab.research.google.com/notebooks/data_table.ipynb>data table notebook</a>'\n",
              "            + ' to learn more about interactive tables.';\n",
              "          element.innerHTML = '';\n",
              "          dataTable['output_type'] = 'display_data';\n",
              "          await google.colab.output.renderOutput(dataTable, element);\n",
              "          const docLink = document.createElement('div');\n",
              "          docLink.innerHTML = docLinkHtml;\n",
              "          element.appendChild(docLink);\n",
              "        }\n",
              "      </script>\n",
              "    </div>\n",
              "  </div>\n",
              "  "
            ]
          },
          "metadata": {},
          "execution_count": 12
        }
      ]
    },
    {
      "cell_type": "code",
      "source": [
        "series = DJIA_raw.iloc[:,4]"
      ],
      "metadata": {
        "id": "vTg-wdf-Vpbi"
      },
      "execution_count": 21,
      "outputs": []
    },
    {
      "cell_type": "code",
      "source": [
        "time = []\n",
        "for i in range(0, len(series)):\n",
        "  time.append(i)"
      ],
      "metadata": {
        "id": "4P3cPCrbVpVl"
      },
      "execution_count": 22,
      "outputs": []
    },
    {
      "cell_type": "markdown",
      "source": [
        "A helper function to plot the time series"
      ],
      "metadata": {
        "id": "XQh2IH8Tl0Le"
      }
    },
    {
      "cell_type": "code",
      "source": [
        "def plot_series(time, series, format=\"-\", start=0, end=None):\n",
        "    plt.plot(time[start:end], series[start:end], format)\n",
        "    plt.xlabel(\"Time\")\n",
        "    plt.ylabel(\"Value\")\n",
        "    plt.grid(True)"
      ],
      "metadata": {
        "id": "qMGyMzGelzEW"
      },
      "execution_count": 20,
      "outputs": []
    },
    {
      "cell_type": "markdown",
      "metadata": {
        "id": "tT1tB8J1Enkd"
      },
      "source": [
        "The next cell will use your function to compute the `time` and `series` and will save these as numpy arrays within the `G` dataclass. This cell will also plot the time series:"
      ]
    },
    {
      "cell_type": "code",
      "execution_count": 23,
      "metadata": {
        "colab": {
          "base_uri": "https://localhost:8080/",
          "height": 388
        },
        "id": "R8UYoZlKEnke",
        "outputId": "5f16a865-3cf5-448d-df17-de310af302cc"
      },
      "outputs": [
        {
          "output_type": "display_data",
          "data": {
            "text/plain": [
              "<Figure size 720x432 with 1 Axes>"
            ],
            "image/png": "[encoded data removed]"
          },
          "metadata": {
            "needs_background": "light"
          }
        }
      ],
      "source": [
        "# Test your function and save all \"global\" variables within the G class (G stands for global)\n",
        "@dataclass\n",
        "class G:\n",
        "    TIME = np.array(time)\n",
        "    SERIES = np.array(series)\n",
        "    SPLIT_TIME = int((len(series)-150)*0.8)\n",
        "    WINDOW_SIZE = 250\n",
        "    BATCH_SIZE = 50\n",
        "    SHUFFLE_BUFFER_SIZE = 2000\n",
        "\n",
        "\n",
        "plt.figure(figsize=(10, 6))\n",
        "plot_series(G.TIME, G.SERIES)\n",
        "plt.show()"
      ]
    },
    {
      "cell_type": "markdown",
      "metadata": {
        "id": "Y8U3ckcaEnke"
      },
      "source": [
        "## Processing the data\n",
        "\n",
        "The `train_val_split` and `windowed_dataset` functions:"
      ]
    },
    {
      "cell_type": "code",
      "execution_count": 24,
      "metadata": {
        "id": "3O7A_9XdEnkf"
      },
      "outputs": [],
      "source": [
        "def train_val_test_split(time, series, time_step=G.SPLIT_TIME):\n",
        "\n",
        "    time_train = time[:time_step]\n",
        "    series_train = series[:time_step]\n",
        "    time_valid = time[time_step:-150]\n",
        "    series_valid = series[time_step:-150]\n",
        "    time_test = time[-150:]\n",
        "    series_test = series[-150:]\n",
        "\n",
        "    return time_train, series_train, time_valid, series_valid, time_test, series_test\n",
        "\n",
        "\n",
        "# Split the dataset\n",
        "time_train, series_train, time_valid, series_valid, time_test, series_test = train_val_test_split(G.TIME, G.SERIES)"
      ]
    },
    {
      "cell_type": "markdown",
      "source": [
        "min-max normalization"
      ],
      "metadata": {
        "id": "M8xZy3QTZD8e"
      }
    },
    {
      "cell_type": "code",
      "source": [
        "def min_max_normalization(series):\n",
        "  series = (series - min(series_train))/(max(series_train) - min(series_train))\n",
        "  return series"
      ],
      "metadata": {
        "id": "aRkvaM6AauAy"
      },
      "execution_count": 25,
      "outputs": []
    },
    {
      "cell_type": "code",
      "source": [
        "series_norm = min_max_normalization(G.SERIES)"
      ],
      "metadata": {
        "id": "UR8bYse7ZC-G"
      },
      "execution_count": 26,
      "outputs": []
    },
    {
      "cell_type": "code",
      "source": [
        "series_train_norm = series_norm[:G.SPLIT_TIME]\n",
        "series_valid_norm = series_norm[G.SPLIT_TIME:-150]\n",
        "series_test_norm = series_norm[-150:]"
      ],
      "metadata": {
        "id": "CQr8LSVw4BIV"
      },
      "execution_count": 27,
      "outputs": []
    },
    {
      "cell_type": "code",
      "source": [
        "plot_series(time_train, series_train_norm)"
      ],
      "metadata": {
        "colab": {
          "base_uri": "https://localhost:8080/",
          "height": 279
        },
        "id": "slIykxCnn9Eb",
        "outputId": "fc015228-ba4c-411f-f605-3d4eac0b9633"
      },
      "execution_count": 28,
      "outputs": [
        {
          "output_type": "display_data",
          "data": {
            "text/plain": [
              "<Figure size 432x288 with 1 Axes>"
            ],
            "image/png": "[encoded data removed]"
          },
          "metadata": {
            "needs_background": "light"
          }
        }
      ]
    },
    {
      "cell_type": "code",
      "source": [
        "plot_series(time_valid, series_valid_norm)"
      ],
      "metadata": {
        "colab": {
          "base_uri": "https://localhost:8080/",
          "height": 279
        },
        "id": "2dBiTEwnoPCf",
        "outputId": "5b56fdd2-e8d9-4059-b1fa-bcdd20f8ab73"
      },
      "execution_count": 29,
      "outputs": [
        {
          "output_type": "display_data",
          "data": {
            "text/plain": [
              "<Figure size 432x288 with 1 Axes>"
            ],
            "image/png": "[encoded data removed]"
          },
          "metadata": {
            "needs_background": "light"
          }
        }
      ]
    },
    {
      "cell_type": "code",
      "source": [
        "plot_series(time_test, series_test_norm)"
      ],
      "metadata": {
        "colab": {
          "base_uri": "https://localhost:8080/",
          "height": 279
        },
        "id": "bCGYGHZC4oSt",
        "outputId": "d8e4fcf8-06e2-47ec-a47e-442f6f9353d3"
      },
      "execution_count": 30,
      "outputs": [
        {
          "output_type": "display_data",
          "data": {
            "text/plain": [
              "<Figure size 432x288 with 1 Axes>"
            ],
            "image/png": "[encoded data removed]"
          },
          "metadata": {
            "needs_background": "light"
          }
        }
      ]
    },
    {
      "cell_type": "code",
      "execution_count": 31,
      "metadata": {
        "id": "lJwUUZscnG38"
      },
      "outputs": [],
      "source": [
        "def windowed_dataset(series, window_size=G.WINDOW_SIZE, batch_size=G.BATCH_SIZE, shuffle_buffer=G.SHUFFLE_BUFFER_SIZE):\n",
        "    ds = tf.data.Dataset.from_tensor_slices(series)\n",
        "    ds = ds.window(window_size + 1, shift=1, drop_remainder=True)\n",
        "    ds = ds.flat_map(lambda w: w.batch(window_size + 1))\n",
        "    ds = ds.shuffle(shuffle_buffer)\n",
        "    ds = ds.map(lambda w: (w[:-1], w[-1]))\n",
        "    ds = ds.batch(batch_size).prefetch(1)\n",
        "    return ds\n",
        "\n",
        "\n",
        "# Apply the transformation to the training set\n",
        "train_set = windowed_dataset(series_train_norm, window_size=G.WINDOW_SIZE, batch_size=G.BATCH_SIZE, shuffle_buffer=G.SHUFFLE_BUFFER_SIZE)"
      ]
    },
    {
      "cell_type": "code",
      "source": [
        "val_set = windowed_dataset(series_norm[G.SPLIT_TIME-G.WINDOW_SIZE:-150], window_size=G.WINDOW_SIZE, batch_size=G.BATCH_SIZE, shuffle_buffer=G.SHUFFLE_BUFFER_SIZE)"
      ],
      "metadata": {
        "id": "GS9Eait05Way"
      },
      "execution_count": 32,
      "outputs": []
    },
    {
      "cell_type": "markdown",
      "source": [
        "LSTM and CNN-LSTM Forecasts\n",
        "\n",
        "As baselines, we do a LSTM forecast and a CNN-LSTM forecast."
      ],
      "metadata": {
        "id": "WQRaGBD-s-r3"
      }
    },
    {
      "cell_type": "markdown",
      "metadata": {
        "id": "GaMon77MEnkf"
      },
      "source": [
        "## Defining the model architecture (LSTM, CNN-LSTM, and CapsNet-LSTM)\n"
      ]
    },
    {
      "cell_type": "code",
      "execution_count": 46,
      "metadata": {
        "id": "Sc6pU_kiEnkg"
      },
      "outputs": [],
      "source": [
        "def create_uncompiled_LSTM():\n",
        "   \n",
        "    model = tf.keras.models.Sequential([\n",
        "          tf.keras.layers.LSTM(200, input_shape=[G.WINDOW_SIZE, 1]),\n",
        "          tf.keras.layers.Dense(30, activation=\"relu\"),\n",
        "          tf.keras.layers.Dense(10, activation=\"relu\"),\n",
        "          tf.keras.layers.Dense(1)\n",
        "    ])\n",
        "    model.summary()\n",
        "\n",
        "    return model"
      ]
    },
    {
      "cell_type": "code",
      "source": [
        "def create_uncompiled_CNN_LSTM():\n",
        "   \n",
        "    model = tf.keras.models.Sequential([\n",
        "          tf.keras.layers.Conv1D(filters=512, kernel_size=2,\n",
        "                                 strides=1,\n",
        "                                 activation=\"relu\",\n",
        "                                 padding='causal',\n",
        "                                 input_shape=[G.WINDOW_SIZE, 1]),\n",
        "          tf.keras.layers.MaxPooling1D(pool_size=2, strides=1, padding=\"same\"),\n",
        "          tf.keras.layers.LSTM(200),\n",
        "          tf.keras.layers.Dense(30, activation=\"relu\"),\n",
        "          tf.keras.layers.Dense(10, activation=\"relu\"),\n",
        "          tf.keras.layers.Dense(1)\n",
        "    ])\n",
        "    model.summary()\n",
        "\n",
        "    return model"
      ],
      "metadata": {
        "id": "Amka1E2csj3H"
      },
      "execution_count": 47,
      "outputs": []
    },
    {
      "cell_type": "code",
      "execution_count": 36,
      "metadata": {
        "colab": {
          "base_uri": "https://localhost:8080/"
        },
        "id": "Eb1j3limEnkg",
        "outputId": "cda8f11c-c044-4086-f097-040d39ef93d4"
      },
      "outputs": [
        {
          "output_type": "stream",
          "name": "stdout",
          "text": [
            "Model: \"sequential_1\"\n",
            "_________________________________________________________________\n",
            " Layer (type)                Output Shape              Param #   \n",
            "=================================================================\n",
            " lstm_1 (LSTM)               (None, 200)               161600    \n",
            "                                                                 \n",
            " dense_3 (Dense)             (None, 30)                6030      \n",
            "                                                                 \n",
            " dense_4 (Dense)             (None, 10)                310       \n",
            "                                                                 \n",
            " dense_5 (Dense)             (None, 1)                 11        \n",
            "                                                                 \n",
            "=================================================================\n",
            "Total params: 167,951\n",
            "Trainable params: 167,951\n",
            "Non-trainable params: 0\n",
            "_________________________________________________________________\n",
            "Your current architecture is compatible with the windowed dataset! :)\n"
          ]
        }
      ],
      "source": [
        "# Test the uncompiled LSTM\n",
        "uncompiled_LSTM = create_uncompiled_LSTM()\n",
        "\n",
        "try:\n",
        "    uncompiled_LSTM.predict(train_set)\n",
        "except:\n",
        "    print(\"Your current architecture is incompatible with the windowed dataset, try adjusting it.\")\n",
        "else:\n",
        "    print(\"Your current architecture is compatible with the windowed dataset! :)\")"
      ]
    },
    {
      "cell_type": "code",
      "source": [
        "# Test the uncompiled CNN-CNN_LSTM\n",
        "uncompiled_CNN_LSTM = create_uncompiled_CNN_LSTM()\n",
        "\n",
        "try:\n",
        "    uncompiled_CNN_LSTM.predict(train_set)\n",
        "except:\n",
        "    print(\"Your current architecture is incompatible with the windowed dataset, try adjusting it.\")\n",
        "else:\n",
        "    print(\"Your current architecture is compatible with the windowed dataset! :)\")"
      ],
      "metadata": {
        "colab": {
          "base_uri": "https://localhost:8080/",
          "height": 236
        },
        "id": "exYmF_zFtBrV",
        "outputId": "1c1afa0f-a1f1-48cd-8143-03889b387459"
      },
      "execution_count": 45,
      "outputs": [
        {
          "output_type": "error",
          "ename": "NameError",
          "evalue": "ignored",
          "traceback": [
            "\u001b[0;31m---------------------------------------------------------------------------\u001b[0m",
            "\u001b[0;31mNameError\u001b[0m                                 Traceback (most recent call last)",
            "\u001b[0;32m<ipython-input-45-55b8261adbb2>\u001b[0m in \u001b[0;36m<module>\u001b[0;34m\u001b[0m\n\u001b[1;32m      1\u001b[0m \u001b[0;31m# Test the uncompiled CNN-CNN_LSTM\u001b[0m\u001b[0;34m\u001b[0m\u001b[0;34m\u001b[0m\u001b[0;34m\u001b[0m\u001b[0m\n\u001b[0;32m----> 2\u001b[0;31m \u001b[0muncompiled_CNN_LSTM\u001b[0m \u001b[0;34m=\u001b[0m \u001b[0mcreate_uncompiled_CNN_LSTM\u001b[0m\u001b[0;34m(\u001b[0m\u001b[0;34m)\u001b[0m\u001b[0;34m\u001b[0m\u001b[0;34m\u001b[0m\u001b[0m\n\u001b[0m\u001b[1;32m      3\u001b[0m \u001b[0;34m\u001b[0m\u001b[0m\n\u001b[1;32m      4\u001b[0m \u001b[0;32mtry\u001b[0m\u001b[0;34m:\u001b[0m\u001b[0;34m\u001b[0m\u001b[0;34m\u001b[0m\u001b[0m\n\u001b[1;32m      5\u001b[0m     \u001b[0muncompiled_CNN_LSTM\u001b[0m\u001b[0;34m.\u001b[0m\u001b[0mpredict\u001b[0m\u001b[0;34m(\u001b[0m\u001b[0mtrain_set\u001b[0m\u001b[0;34m)\u001b[0m\u001b[0;34m\u001b[0m\u001b[0;34m\u001b[0m\u001b[0m\n",
            "\u001b[0;31mNameError\u001b[0m: name 'create_uncompiled_CNN_LSTM' is not defined"
          ]
        }
      ]
    },
    {
      "cell_type": "markdown",
      "metadata": {
        "id": "vmiSz8lREnkg"
      },
      "source": [
        "## Adjusting the learning rate\n",
        "\n",
        "We can leverage Tensorflow's callbacks to dinamically vary the learning rate during training. This can be helpful to get a better sense of which learning rate better acommodates to the problem at hand.\n",
        "\n",
        "For the optimizers you can try out:\n",
        "\n",
        "- tf.keras.optimizers.Adam\n",
        "- tf.keras.optimizers.SGD with a momentum of 0.9"
      ]
    },
    {
      "cell_type": "code",
      "execution_count": 39,
      "metadata": {
        "id": "t2JmaEujEnkh"
      },
      "outputs": [],
      "source": [
        "def adjust_learning_rate_LSTM(dataset):\n",
        "    \n",
        "    model = create_uncompiled_LSTM()\n",
        "    \n",
        "    lr_schedule = tf.keras.callbacks.LearningRateScheduler(lambda epoch: 1e-6 * 10**(epoch / 20))\n",
        "        \n",
        "    # Select your optimizer\n",
        "    optimizer = tf.keras.optimizers.SGD(momentum = 0.9)\n",
        "    \n",
        "    # Compile the model passing in the appropriate loss\n",
        "    model.compile(loss=tf.keras.losses.Huber(),\n",
        "                  optimizer=optimizer, \n",
        "                  metrics=[\"mae\"]) \n",
        "   \n",
        "    history = model.fit(dataset, epochs=140, callbacks=[lr_schedule])\n",
        "    \n",
        "    return history"
      ]
    },
    {
      "cell_type": "code",
      "execution_count": 40,
      "metadata": {
        "colab": {
          "base_uri": "https://localhost:8080/"
        },
        "id": "cUdZqcOIEnkh",
        "outputId": "97b1f71d-1e53-4101-c5fb-95972aa78e54"
      },
      "outputs": [
        {
          "output_type": "stream",
          "name": "stdout",
          "text": [
            "Model: \"sequential_3\"\n",
            "_________________________________________________________________\n",
            " Layer (type)                Output Shape              Param #   \n",
            "=================================================================\n",
            " lstm_3 (LSTM)               (None, 200)               161600    \n",
            "                                                                 \n",
            " dense_9 (Dense)             (None, 30)                6030      \n",
            "                                                                 \n",
            " dense_10 (Dense)            (None, 10)                310       \n",
            "                                                                 \n",
            " dense_11 (Dense)            (None, 1)                 11        \n",
            "                                                                 \n",
            "=================================================================\n",
            "Total params: 167,951\n",
            "Trainable params: 167,951\n",
            "Non-trainable params: 0\n",
            "_________________________________________________________________\n",
            "Epoch 1/140\n",
            "33/33 [==============================] - 4s 21ms/step - loss: 0.1723 - mae: 0.5371 - lr: 1.0000e-06\n",
            "Epoch 2/140\n",
            "33/33 [==============================] - 1s 33ms/step - loss: 0.1720 - mae: 0.5366 - lr: 1.1220e-06\n",
            "Epoch 3/140\n",
            "33/33 [==============================] - 2s 38ms/step - loss: 0.1717 - mae: 0.5360 - lr: 1.2589e-06\n",
            "Epoch 4/140\n",
            "33/33 [==============================] - 1s 34ms/step - loss: 0.1713 - mae: 0.5353 - lr: 1.4125e-06\n",
            "Epoch 5/140\n",
            "33/33 [==============================] - 1s 15ms/step - loss: 0.1709 - mae: 0.5346 - lr: 1.5849e-06\n",
            "Epoch 6/140\n",
            "33/33 [==============================] - 1s 21ms/step - loss: 0.1704 - mae: 0.5338 - lr: 1.7783e-06\n",
            "Epoch 7/140\n",
            "33/33 [==============================] - 1s 17ms/step - loss: 0.1699 - mae: 0.5329 - lr: 1.9953e-06\n",
            "Epoch 8/140\n",
            "33/33 [==============================] - 1s 36ms/step - loss: 0.1694 - mae: 0.5319 - lr: 2.2387e-06\n",
            "Epoch 9/140\n",
            "33/33 [==============================] - 1s 15ms/step - loss: 0.1688 - mae: 0.5307 - lr: 2.5119e-06\n",
            "Epoch 10/140\n",
            "33/33 [==============================] - 1s 33ms/step - loss: 0.1681 - mae: 0.5295 - lr: 2.8184e-06\n",
            "Epoch 11/140\n",
            "33/33 [==============================] - 1s 19ms/step - loss: 0.1673 - mae: 0.5280 - lr: 3.1623e-06\n",
            "Epoch 12/140\n",
            "33/33 [==============================] - 1s 24ms/step - loss: 0.1665 - mae: 0.5265 - lr: 3.5481e-06\n",
            "Epoch 13/140\n",
            "33/33 [==============================] - 1s 17ms/step - loss: 0.1655 - mae: 0.5247 - lr: 3.9811e-06\n",
            "Epoch 14/140\n",
            "33/33 [==============================] - 2s 45ms/step - loss: 0.1645 - mae: 0.5228 - lr: 4.4668e-06\n",
            "Epoch 15/140\n",
            "33/33 [==============================] - 1s 32ms/step - loss: 0.1633 - mae: 0.5207 - lr: 5.0119e-06\n",
            "Epoch 16/140\n",
            "33/33 [==============================] - 1s 34ms/step - loss: 0.1621 - mae: 0.5184 - lr: 5.6234e-06\n",
            "Epoch 17/140\n",
            "33/33 [==============================] - 1s 18ms/step - loss: 0.1607 - mae: 0.5158 - lr: 6.3096e-06\n",
            "Epoch 18/140\n",
            "33/33 [==============================] - 1s 22ms/step - loss: 0.1592 - mae: 0.5130 - lr: 7.0795e-06\n",
            "Epoch 19/140\n",
            "33/33 [==============================] - 1s 27ms/step - loss: 0.1575 - mae: 0.5100 - lr: 7.9433e-06\n",
            "Epoch 20/140\n",
            "33/33 [==============================] - 2s 38ms/step - loss: 0.1558 - mae: 0.5067 - lr: 8.9125e-06\n",
            "Epoch 21/140\n",
            "33/33 [==============================] - 1s 20ms/step - loss: 0.1539 - mae: 0.5031 - lr: 1.0000e-05\n",
            "Epoch 22/140\n",
            "33/33 [==============================] - 1s 19ms/step - loss: 0.1518 - mae: 0.4991 - lr: 1.1220e-05\n",
            "Epoch 23/140\n",
            "33/33 [==============================] - 2s 49ms/step - loss: 0.1496 - mae: 0.4948 - lr: 1.2589e-05\n",
            "Epoch 24/140\n",
            "33/33 [==============================] - 1s 15ms/step - loss: 0.1471 - mae: 0.4901 - lr: 1.4125e-05\n",
            "Epoch 25/140\n",
            "33/33 [==============================] - 1s 33ms/step - loss: 0.1445 - mae: 0.4850 - lr: 1.5849e-05\n",
            "Epoch 26/140\n",
            "33/33 [==============================] - 2s 44ms/step - loss: 0.1416 - mae: 0.4794 - lr: 1.7783e-05\n",
            "Epoch 27/140\n",
            "33/33 [==============================] - 1s 15ms/step - loss: 0.1385 - mae: 0.4733 - lr: 1.9953e-05\n",
            "Epoch 28/140\n",
            "33/33 [==============================] - 1s 36ms/step - loss: 0.1351 - mae: 0.4666 - lr: 2.2387e-05\n",
            "Epoch 29/140\n",
            "33/33 [==============================] - 1s 18ms/step - loss: 0.1315 - mae: 0.4592 - lr: 2.5119e-05\n",
            "Epoch 30/140\n",
            "33/33 [==============================] - 1s 27ms/step - loss: 0.1276 - mae: 0.4512 - lr: 2.8184e-05\n",
            "Epoch 31/140\n",
            "33/33 [==============================] - 1s 21ms/step - loss: 0.1235 - mae: 0.4426 - lr: 3.1623e-05\n",
            "Epoch 32/140\n",
            "33/33 [==============================] - 1s 20ms/step - loss: 0.1192 - mae: 0.4334 - lr: 3.5481e-05\n",
            "Epoch 33/140\n",
            "33/33 [==============================] - 1s 17ms/step - loss: 0.1148 - mae: 0.4235 - lr: 3.9811e-05\n",
            "Epoch 34/140\n",
            "33/33 [==============================] - 1s 17ms/step - loss: 0.1101 - mae: 0.4129 - lr: 4.4668e-05\n",
            "Epoch 35/140\n",
            "33/33 [==============================] - 1s 24ms/step - loss: 0.1052 - mae: 0.4015 - lr: 5.0119e-05\n",
            "Epoch 36/140\n",
            "33/33 [==============================] - 1s 15ms/step - loss: 0.1001 - mae: 0.3890 - lr: 5.6234e-05\n",
            "Epoch 37/140\n",
            "33/33 [==============================] - 1s 15ms/step - loss: 0.0946 - mae: 0.3757 - lr: 6.3096e-05\n",
            "Epoch 38/140\n",
            "33/33 [==============================] - 1s 15ms/step - loss: 0.0889 - mae: 0.3613 - lr: 7.0795e-05\n",
            "Epoch 39/140\n",
            "33/33 [==============================] - 1s 33ms/step - loss: 0.0831 - mae: 0.3461 - lr: 7.9433e-05\n",
            "Epoch 40/140\n",
            "33/33 [==============================] - 1s 31ms/step - loss: 0.0770 - mae: 0.3302 - lr: 8.9125e-05\n",
            "Epoch 41/140\n",
            "33/33 [==============================] - 1s 23ms/step - loss: 0.0710 - mae: 0.3136 - lr: 1.0000e-04\n",
            "Epoch 42/140\n",
            "33/33 [==============================] - 2s 38ms/step - loss: 0.0649 - mae: 0.2968 - lr: 1.1220e-04\n",
            "Epoch 43/140\n",
            "33/33 [==============================] - 1s 15ms/step - loss: 0.0589 - mae: 0.2802 - lr: 1.2589e-04\n",
            "Epoch 44/140\n",
            "33/33 [==============================] - 1s 35ms/step - loss: 0.0530 - mae: 0.2642 - lr: 1.4125e-04\n",
            "Epoch 45/140\n",
            "33/33 [==============================] - 1s 23ms/step - loss: 0.0474 - mae: 0.2494 - lr: 1.5849e-04\n",
            "Epoch 46/140\n",
            "33/33 [==============================] - 2s 45ms/step - loss: 0.0421 - mae: 0.2357 - lr: 1.7783e-04\n",
            "Epoch 47/140\n",
            "33/33 [==============================] - 1s 20ms/step - loss: 0.0373 - mae: 0.2242 - lr: 1.9953e-04\n",
            "Epoch 48/140\n",
            "33/33 [==============================] - 1s 20ms/step - loss: 0.0330 - mae: 0.2139 - lr: 2.2387e-04\n",
            "Epoch 49/140\n",
            "33/33 [==============================] - 2s 51ms/step - loss: 0.0292 - mae: 0.2042 - lr: 2.5119e-04\n",
            "Epoch 50/140\n",
            "33/33 [==============================] - 1s 24ms/step - loss: 0.0261 - mae: 0.1951 - lr: 2.8184e-04\n",
            "Epoch 51/140\n",
            "33/33 [==============================] - 1s 22ms/step - loss: 0.0236 - mae: 0.1870 - lr: 3.1623e-04\n",
            "Epoch 52/140\n",
            "33/33 [==============================] - 1s 18ms/step - loss: 0.0217 - mae: 0.1798 - lr: 3.5481e-04\n",
            "Epoch 53/140\n",
            "33/33 [==============================] - 1s 18ms/step - loss: 0.0202 - mae: 0.1739 - lr: 3.9811e-04\n",
            "Epoch 54/140\n",
            "33/33 [==============================] - 1s 27ms/step - loss: 0.0191 - mae: 0.1690 - lr: 4.4668e-04\n",
            "Epoch 55/140\n",
            "33/33 [==============================] - 1s 17ms/step - loss: 0.0184 - mae: 0.1652 - lr: 5.0119e-04\n",
            "Epoch 56/140\n",
            "33/33 [==============================] - 1s 24ms/step - loss: 0.0178 - mae: 0.1620 - lr: 5.6234e-04\n",
            "Epoch 57/140\n",
            "33/33 [==============================] - 1s 22ms/step - loss: 0.0173 - mae: 0.1594 - lr: 6.3096e-04\n",
            "Epoch 58/140\n",
            "33/33 [==============================] - 1s 18ms/step - loss: 0.0169 - mae: 0.1569 - lr: 7.0795e-04\n",
            "Epoch 59/140\n",
            "33/33 [==============================] - 1s 15ms/step - loss: 0.0165 - mae: 0.1545 - lr: 7.9433e-04\n",
            "Epoch 60/140\n",
            "33/33 [==============================] - 1s 15ms/step - loss: 0.0160 - mae: 0.1521 - lr: 8.9125e-04\n",
            "Epoch 61/140\n",
            "33/33 [==============================] - 2s 45ms/step - loss: 0.0155 - mae: 0.1495 - lr: 0.0010\n",
            "Epoch 62/140\n",
            "33/33 [==============================] - 1s 18ms/step - loss: 0.0149 - mae: 0.1465 - lr: 0.0011\n",
            "Epoch 63/140\n",
            "33/33 [==============================] - 2s 41ms/step - loss: 0.0143 - mae: 0.1430 - lr: 0.0013\n",
            "Epoch 64/140\n",
            "33/33 [==============================] - 1s 15ms/step - loss: 0.0135 - mae: 0.1391 - lr: 0.0014\n",
            "Epoch 65/140\n",
            "33/33 [==============================] - 2s 37ms/step - loss: 0.0127 - mae: 0.1348 - lr: 0.0016\n",
            "Epoch 66/140\n",
            "33/33 [==============================] - 1s 25ms/step - loss: 0.0117 - mae: 0.1295 - lr: 0.0018\n",
            "Epoch 67/140\n",
            "33/33 [==============================] - 2s 40ms/step - loss: 0.0106 - mae: 0.1230 - lr: 0.0020\n",
            "Epoch 68/140\n",
            "33/33 [==============================] - 1s 15ms/step - loss: 0.0092 - mae: 0.1141 - lr: 0.0022\n",
            "Epoch 69/140\n",
            "33/33 [==============================] - 1s 18ms/step - loss: 0.0076 - mae: 0.1042 - lr: 0.0025\n",
            "Epoch 70/140\n",
            "33/33 [==============================] - 1s 34ms/step - loss: 0.0059 - mae: 0.0913 - lr: 0.0028\n",
            "Epoch 71/140\n",
            "33/33 [==============================] - 1s 15ms/step - loss: 0.0043 - mae: 0.0773 - lr: 0.0032\n",
            "Epoch 72/140\n",
            "33/33 [==============================] - 1s 33ms/step - loss: 0.0028 - mae: 0.0617 - lr: 0.0035\n",
            "Epoch 73/140\n",
            "33/33 [==============================] - 1s 18ms/step - loss: 0.0017 - mae: 0.0470 - lr: 0.0040\n",
            "Epoch 74/140\n",
            "33/33 [==============================] - 1s 19ms/step - loss: 8.9280e-04 - mae: 0.0335 - lr: 0.0045\n",
            "Epoch 75/140\n",
            "33/33 [==============================] - 1s 25ms/step - loss: 4.9197e-04 - mae: 0.0236 - lr: 0.0050\n",
            "Epoch 76/140\n",
            "33/33 [==============================] - 1s 18ms/step - loss: 3.2090e-04 - mae: 0.0185 - lr: 0.0056\n",
            "Epoch 77/140\n",
            "33/33 [==============================] - 1s 26ms/step - loss: 2.6673e-04 - mae: 0.0170 - lr: 0.0063\n",
            "Epoch 78/140\n",
            "33/33 [==============================] - 1s 23ms/step - loss: 2.4857e-04 - mae: 0.0168 - lr: 0.0071\n",
            "Epoch 79/140\n",
            "33/33 [==============================] - 1s 21ms/step - loss: 2.4225e-04 - mae: 0.0166 - lr: 0.0079\n",
            "Epoch 80/140\n",
            "33/33 [==============================] - 2s 38ms/step - loss: 2.3669e-04 - mae: 0.0164 - lr: 0.0089\n",
            "Epoch 81/140\n",
            "33/33 [==============================] - 2s 38ms/step - loss: 2.3335e-04 - mae: 0.0164 - lr: 0.0100\n",
            "Epoch 82/140\n",
            "33/33 [==============================] - 2s 42ms/step - loss: 2.3048e-04 - mae: 0.0162 - lr: 0.0112\n",
            "Epoch 83/140\n",
            "33/33 [==============================] - 1s 27ms/step - loss: 2.2753e-04 - mae: 0.0162 - lr: 0.0126\n",
            "Epoch 84/140\n",
            "33/33 [==============================] - 2s 41ms/step - loss: 2.2548e-04 - mae: 0.0162 - lr: 0.0141\n",
            "Epoch 85/140\n",
            "33/33 [==============================] - 1s 15ms/step - loss: 2.3079e-04 - mae: 0.0163 - lr: 0.0158\n",
            "Epoch 86/140\n",
            "33/33 [==============================] - 1s 15ms/step - loss: 2.2157e-04 - mae: 0.0160 - lr: 0.0178\n",
            "Epoch 87/140\n",
            "33/33 [==============================] - 1s 18ms/step - loss: 2.2265e-04 - mae: 0.0160 - lr: 0.0200\n",
            "Epoch 88/140\n",
            "33/33 [==============================] - 1s 18ms/step - loss: 2.2102e-04 - mae: 0.0159 - lr: 0.0224\n",
            "Epoch 89/140\n",
            "33/33 [==============================] - 2s 37ms/step - loss: 2.1479e-04 - mae: 0.0157 - lr: 0.0251\n",
            "Epoch 90/140\n",
            "33/33 [==============================] - 1s 33ms/step - loss: 2.1445e-04 - mae: 0.0157 - lr: 0.0282\n",
            "Epoch 91/140\n",
            "33/33 [==============================] - 2s 46ms/step - loss: 2.1086e-04 - mae: 0.0156 - lr: 0.0316\n",
            "Epoch 92/140\n",
            "33/33 [==============================] - 1s 28ms/step - loss: 2.0804e-04 - mae: 0.0155 - lr: 0.0355\n",
            "Epoch 93/140\n",
            "33/33 [==============================] - 2s 47ms/step - loss: 2.1021e-04 - mae: 0.0155 - lr: 0.0398\n",
            "Epoch 94/140\n",
            "33/33 [==============================] - 1s 17ms/step - loss: 2.2682e-04 - mae: 0.0162 - lr: 0.0447\n",
            "Epoch 95/140\n",
            "33/33 [==============================] - 2s 62ms/step - loss: 2.2017e-04 - mae: 0.0159 - lr: 0.0501\n",
            "Epoch 96/140\n",
            "33/33 [==============================] - 1s 15ms/step - loss: 2.0594e-04 - mae: 0.0155 - lr: 0.0562\n",
            "Epoch 97/140\n",
            "33/33 [==============================] - 2s 60ms/step - loss: 2.2005e-04 - mae: 0.0159 - lr: 0.0631\n",
            "Epoch 98/140\n",
            "33/33 [==============================] - 1s 15ms/step - loss: 2.0728e-04 - mae: 0.0154 - lr: 0.0708\n",
            "Epoch 99/140\n",
            "33/33 [==============================] - 2s 59ms/step - loss: 2.0589e-04 - mae: 0.0154 - lr: 0.0794\n",
            "Epoch 100/140\n",
            "33/33 [==============================] - 1s 19ms/step - loss: 2.0392e-04 - mae: 0.0154 - lr: 0.0891\n",
            "Epoch 101/140\n",
            "33/33 [==============================] - 1s 15ms/step - loss: 2.0736e-04 - mae: 0.0156 - lr: 0.1000\n",
            "Epoch 102/140\n",
            "33/33 [==============================] - 1s 15ms/step - loss: 1.8622e-04 - mae: 0.0146 - lr: 0.1122\n",
            "Epoch 103/140\n",
            "33/33 [==============================] - 1s 15ms/step - loss: 1.8956e-04 - mae: 0.0148 - lr: 0.1259\n",
            "Epoch 104/140\n",
            "33/33 [==============================] - 1s 33ms/step - loss: 2.1877e-04 - mae: 0.0161 - lr: 0.1413\n",
            "Epoch 105/140\n",
            "33/33 [==============================] - 1s 15ms/step - loss: 1.8367e-04 - mae: 0.0146 - lr: 0.1585\n",
            "Epoch 106/140\n",
            "33/33 [==============================] - 1s 34ms/step - loss: 2.0559e-04 - mae: 0.0156 - lr: 0.1778\n",
            "Epoch 107/140\n",
            "33/33 [==============================] - 1s 19ms/step - loss: 2.2186e-04 - mae: 0.0163 - lr: 0.1995\n",
            "Epoch 108/140\n",
            "33/33 [==============================] - 1s 26ms/step - loss: 2.3771e-04 - mae: 0.0169 - lr: 0.2239\n",
            "Epoch 109/140\n",
            "33/33 [==============================] - 1s 18ms/step - loss: 2.4230e-04 - mae: 0.0169 - lr: 0.2512\n",
            "Epoch 110/140\n",
            "33/33 [==============================] - 1s 24ms/step - loss: 2.1535e-04 - mae: 0.0162 - lr: 0.2818\n",
            "Epoch 111/140\n",
            "33/33 [==============================] - 2s 42ms/step - loss: 1.9893e-04 - mae: 0.0154 - lr: 0.3162\n",
            "Epoch 112/140\n",
            "33/33 [==============================] - 2s 50ms/step - loss: 2.3882e-04 - mae: 0.0172 - lr: 0.3548\n",
            "Epoch 113/140\n",
            "33/33 [==============================] - 1s 15ms/step - loss: 2.7987e-04 - mae: 0.0189 - lr: 0.3981\n",
            "Epoch 114/140\n",
            "33/33 [==============================] - 1s 15ms/step - loss: 3.1844e-04 - mae: 0.0203 - lr: 0.4467\n",
            "Epoch 115/140\n",
            "33/33 [==============================] - 1s 20ms/step - loss: 4.3902e-04 - mae: 0.0232 - lr: 0.5012\n",
            "Epoch 116/140\n",
            "33/33 [==============================] - 1s 32ms/step - loss: 2.4591e-04 - mae: 0.0173 - lr: 0.5623\n",
            "Epoch 117/140\n",
            "33/33 [==============================] - 1s 15ms/step - loss: 3.8535e-04 - mae: 0.0220 - lr: 0.6310\n",
            "Epoch 118/140\n",
            "33/33 [==============================] - 1s 33ms/step - loss: 4.5854e-04 - mae: 0.0244 - lr: 0.7079\n",
            "Epoch 119/140\n",
            "33/33 [==============================] - 2s 38ms/step - loss: 0.0011 - mae: 0.0362 - lr: 0.7943\n",
            "Epoch 120/140\n",
            "33/33 [==============================] - 1s 15ms/step - loss: 3.4951e-04 - mae: 0.0213 - lr: 0.8913\n",
            "Epoch 121/140\n",
            "33/33 [==============================] - 1s 20ms/step - loss: 2.9766e-04 - mae: 0.0197 - lr: 1.0000\n",
            "Epoch 122/140\n",
            "33/33 [==============================] - 1s 34ms/step - loss: 0.0011 - mae: 0.0392 - lr: 1.1220\n",
            "Epoch 123/140\n",
            "33/33 [==============================] - 1s 28ms/step - loss: 0.0024 - mae: 0.0570 - lr: 1.2589\n",
            "Epoch 124/140\n",
            "33/33 [==============================] - 1s 18ms/step - loss: 4.3534e-04 - mae: 0.0233 - lr: 1.4125\n",
            "Epoch 125/140\n",
            "33/33 [==============================] - 1s 21ms/step - loss: 0.0013 - mae: 0.0429 - lr: 1.5849\n",
            "Epoch 126/140\n",
            "33/33 [==============================] - 1s 20ms/step - loss: 0.0013 - mae: 0.0405 - lr: 1.7783\n",
            "Epoch 127/140\n",
            "33/33 [==============================] - 1s 15ms/step - loss: 0.0016 - mae: 0.0466 - lr: 1.9953\n",
            "Epoch 128/140\n",
            "33/33 [==============================] - 2s 67ms/step - loss: 0.0255 - mae: 0.1689 - lr: 2.2387\n",
            "Epoch 129/140\n",
            "33/33 [==============================] - 2s 45ms/step - loss: 5.6113 - mae: 5.9884 - lr: 2.5119\n",
            "Epoch 130/140\n",
            "33/33 [==============================] - 1s 34ms/step - loss: 0.0834 - mae: 0.3315 - lr: 2.8184\n",
            "Epoch 131/140\n",
            "33/33 [==============================] - 1s 18ms/step - loss: 0.0507 - mae: 0.2609 - lr: 3.1623\n",
            "Epoch 132/140\n",
            "33/33 [==============================] - 1s 18ms/step - loss: 0.1128 - mae: 0.3733 - lr: 3.5481\n",
            "Epoch 133/140\n",
            "33/33 [==============================] - 2s 39ms/step - loss: 0.3058 - mae: 0.6686 - lr: 3.9811\n",
            "Epoch 134/140\n",
            "33/33 [==============================] - 1s 32ms/step - loss: 0.5806 - mae: 1.0595 - lr: 4.4668\n",
            "Epoch 135/140\n",
            "33/33 [==============================] - 1s 27ms/step - loss: 0.7370 - mae: 1.2136 - lr: 5.0119\n",
            "Epoch 136/140\n",
            "33/33 [==============================] - 2s 36ms/step - loss: 2.1090 - mae: 2.5797 - lr: 5.6234\n",
            "Epoch 137/140\n",
            "33/33 [==============================] - 2s 50ms/step - loss: 2.8179 - mae: 3.3179 - lr: 6.3096\n",
            "Epoch 138/140\n",
            "33/33 [==============================] - 1s 15ms/step - loss: 3.1760 - mae: 3.6744 - lr: 7.0795\n",
            "Epoch 139/140\n",
            "33/33 [==============================] - 1s 15ms/step - loss: 3.6827 - mae: 4.1827 - lr: 7.9433\n",
            "Epoch 140/140\n",
            "33/33 [==============================] - 1s 35ms/step - loss: 4.8956 - mae: 5.3688 - lr: 8.9125\n"
          ]
        }
      ],
      "source": [
        "# Run the training with dynamic LR\n",
        "lr_history = adjust_learning_rate_LSTM(train_set)"
      ]
    },
    {
      "cell_type": "code",
      "execution_count": 42,
      "metadata": {
        "colab": {
          "base_uri": "https://localhost:8080/",
          "height": 290
        },
        "id": "vVcKmg7Q_7rD",
        "outputId": "d3825a79-b6b6-49fc-c39a-f9369e05b266"
      },
      "outputs": [
        {
          "output_type": "execute_result",
          "data": {
            "text/plain": [
              "(1e-06, 10.0, 0.0, 0.0005)"
            ]
          },
          "metadata": {},
          "execution_count": 42
        },
        {
          "output_type": "display_data",
          "data": {
            "text/plain": [
              "<Figure size 432x288 with 1 Axes>"
            ],
            "image/png": "[encoded data removed]"
          },
          "metadata": {
            "needs_background": "light"
          }
        }
      ],
      "source": [
        "plt.semilogx(lr_history.history[\"lr\"], lr_history.history[\"loss\"])\n",
        "plt.axis([1e-6, 10, 0, 0.0005])"
      ]
    },
    {
      "cell_type": "markdown",
      "source": [
        "First, we generate a val_set which are data windows and labels that our model can accept. We reuse the windowed_dataset function for that and we pass in the x_valid points to generate the windows."
      ],
      "metadata": {
        "id": "A5pLKJIciaWz"
      }
    },
    {
      "cell_type": "markdown",
      "source": [
        "We then do the same training as before but pass in the val_set to the validation_data parameter of the fit() method."
      ],
      "metadata": {
        "id": "UTvBxZ3fi6Pu"
      }
    },
    {
      "cell_type": "markdown",
      "metadata": {
        "id": "E6stIQIqEnkh"
      },
      "source": [
        "## Compiling the model\n",
        "Now that we have trained the model while varying the learning rate, it is time to do the actual training that will be used to forecast the time series."
      ]
    },
    {
      "cell_type": "code",
      "execution_count": 43,
      "metadata": {
        "id": "gW3cJkR8Enki"
      },
      "outputs": [],
      "source": [
        "def create_LSTM():\n",
        "\n",
        "    \n",
        "    model = create_uncompiled_LSTM()\n",
        "\n",
        "    optimizer = tf.keras.optimizers.SGD(learning_rate = 8e-2, momentum = 0.9)\n",
        "    \n",
        "    # Compile the model passing in the appropriate loss\n",
        "    model.compile(loss=tf.keras.losses.Huber(),\n",
        "                  optimizer=optimizer, \n",
        "                  metrics=[\"mae\"])   \n",
        "\n",
        "    return model"
      ]
    },
    {
      "cell_type": "code",
      "execution_count": 49,
      "metadata": {
        "colab": {
          "base_uri": "https://localhost:8080/"
        },
        "id": "ZRUCvoeKEnki",
        "outputId": "06f234ad-6cdc-4a72-dffe-4225bf26b6be"
      },
      "outputs": [
        {
          "output_type": "stream",
          "name": "stdout",
          "text": [
            "Model: \"sequential_5\"\n",
            "_________________________________________________________________\n",
            " Layer (type)                Output Shape              Param #   \n",
            "=================================================================\n",
            " lstm_5 (LSTM)               (None, 200)               161600    \n",
            "                                                                 \n",
            " dense_15 (Dense)            (None, 30)                6030      \n",
            "                                                                 \n",
            " dense_16 (Dense)            (None, 10)                310       \n",
            "                                                                 \n",
            " dense_17 (Dense)            (None, 1)                 11        \n",
            "                                                                 \n",
            "=================================================================\n",
            "Total params: 167,951\n",
            "Trainable params: 167,951\n",
            "Non-trainable params: 0\n",
            "_________________________________________________________________\n",
            "Epoch 1/200\n",
            "33/33 [==============================] - 3s 39ms/step - loss: 0.0420 - mae: 0.2343 - val_loss: 0.2983 - val_mae: 0.7645\n",
            "Epoch 2/200\n",
            "33/33 [==============================] - 2s 44ms/step - loss: 0.0161 - mae: 0.1479 - val_loss: 0.0537 - val_mae: 0.3167\n",
            "Epoch 3/200\n",
            "33/33 [==============================] - 1s 35ms/step - loss: 8.9223e-04 - mae: 0.0324 - val_loss: 0.0207 - val_mae: 0.1916\n",
            "Epoch 4/200\n",
            "33/33 [==============================] - 1s 23ms/step - loss: 2.7711e-04 - mae: 0.0180 - val_loss: 0.0155 - val_mae: 0.1640\n",
            "Epoch 5/200\n",
            "33/33 [==============================] - 1s 26ms/step - loss: 2.5217e-04 - mae: 0.0173 - val_loss: 0.0113 - val_mae: 0.1366\n",
            "Epoch 6/200\n",
            "33/33 [==============================] - 1s 29ms/step - loss: 2.4338e-04 - mae: 0.0168 - val_loss: 0.0118 - val_mae: 0.1405\n",
            "Epoch 7/200\n",
            "33/33 [==============================] - 1s 27ms/step - loss: 2.1364e-04 - mae: 0.0157 - val_loss: 0.0109 - val_mae: 0.1348\n",
            "Epoch 8/200\n",
            "33/33 [==============================] - 1s 29ms/step - loss: 2.1164e-04 - mae: 0.0157 - val_loss: 0.0111 - val_mae: 0.1365\n",
            "Epoch 9/200\n",
            "33/33 [==============================] - 2s 44ms/step - loss: 2.1762e-04 - mae: 0.0158 - val_loss: 0.0094 - val_mae: 0.1241\n",
            "Epoch 10/200\n",
            "33/33 [==============================] - 1s 24ms/step - loss: 2.0369e-04 - mae: 0.0153 - val_loss: 0.0102 - val_mae: 0.1304\n",
            "Epoch 11/200\n",
            "33/33 [==============================] - 1s 21ms/step - loss: 2.0094e-04 - mae: 0.0153 - val_loss: 0.0089 - val_mae: 0.1204\n",
            "Epoch 12/200\n",
            "33/33 [==============================] - 2s 54ms/step - loss: 1.9753e-04 - mae: 0.0151 - val_loss: 0.0091 - val_mae: 0.1221\n",
            "Epoch 13/200\n",
            "33/33 [==============================] - 1s 27ms/step - loss: 2.0009e-04 - mae: 0.0152 - val_loss: 0.0089 - val_mae: 0.1212\n",
            "Epoch 14/200\n",
            "33/33 [==============================] - 1s 28ms/step - loss: 2.0401e-04 - mae: 0.0154 - val_loss: 0.0077 - val_mae: 0.1113\n",
            "Epoch 15/200\n",
            "33/33 [==============================] - 2s 39ms/step - loss: 2.0568e-04 - mae: 0.0155 - val_loss: 0.0076 - val_mae: 0.1108\n",
            "Epoch 16/200\n",
            "33/33 [==============================] - 1s 28ms/step - loss: 1.9250e-04 - mae: 0.0148 - val_loss: 0.0063 - val_mae: 0.0991\n",
            "Epoch 17/200\n",
            "33/33 [==============================] - 2s 42ms/step - loss: 1.9265e-04 - mae: 0.0149 - val_loss: 0.0066 - val_mae: 0.1022\n",
            "Epoch 18/200\n",
            "33/33 [==============================] - 1s 27ms/step - loss: 1.8828e-04 - mae: 0.0146 - val_loss: 0.0063 - val_mae: 0.0992\n",
            "Epoch 19/200\n",
            "33/33 [==============================] - 1s 21ms/step - loss: 1.8330e-04 - mae: 0.0146 - val_loss: 0.0069 - val_mae: 0.1046\n",
            "Epoch 20/200\n",
            "33/33 [==============================] - 2s 63ms/step - loss: 1.8868e-04 - mae: 0.0147 - val_loss: 0.0056 - val_mae: 0.0924\n",
            "Epoch 21/200\n",
            "33/33 [==============================] - 1s 27ms/step - loss: 1.8254e-04 - mae: 0.0145 - val_loss: 0.0062 - val_mae: 0.0987\n",
            "Epoch 22/200\n",
            "33/33 [==============================] - 2s 47ms/step - loss: 1.8920e-04 - mae: 0.0147 - val_loss: 0.0055 - val_mae: 0.0924\n",
            "Epoch 23/200\n",
            "33/33 [==============================] - 1s 21ms/step - loss: 1.7562e-04 - mae: 0.0141 - val_loss: 0.0055 - val_mae: 0.0919\n",
            "Epoch 24/200\n",
            "33/33 [==============================] - 1s 21ms/step - loss: 1.8501e-04 - mae: 0.0148 - val_loss: 0.0041 - val_mae: 0.0781\n",
            "Epoch 25/200\n",
            "33/33 [==============================] - 1s 34ms/step - loss: 1.9478e-04 - mae: 0.0151 - val_loss: 0.0045 - val_mae: 0.0827\n",
            "Epoch 26/200\n",
            "33/33 [==============================] - 2s 39ms/step - loss: 1.7508e-04 - mae: 0.0141 - val_loss: 0.0055 - val_mae: 0.0923\n",
            "Epoch 27/200\n",
            "33/33 [==============================] - 2s 42ms/step - loss: 1.7015e-04 - mae: 0.0139 - val_loss: 0.0050 - val_mae: 0.0875\n",
            "Epoch 28/200\n",
            "33/33 [==============================] - 2s 36ms/step - loss: 1.7987e-04 - mae: 0.0144 - val_loss: 0.0049 - val_mae: 0.0873\n",
            "Epoch 29/200\n",
            "33/33 [==============================] - 2s 43ms/step - loss: 1.7097e-04 - mae: 0.0140 - val_loss: 0.0048 - val_mae: 0.0862\n",
            "Epoch 30/200\n",
            "33/33 [==============================] - 1s 21ms/step - loss: 1.8091e-04 - mae: 0.0145 - val_loss: 0.0051 - val_mae: 0.0894\n",
            "Epoch 31/200\n",
            "33/33 [==============================] - 2s 49ms/step - loss: 1.6863e-04 - mae: 0.0140 - val_loss: 0.0041 - val_mae: 0.0782\n",
            "Epoch 32/200\n",
            "33/33 [==============================] - 2s 39ms/step - loss: 1.6027e-04 - mae: 0.0134 - val_loss: 0.0044 - val_mae: 0.0815\n",
            "Epoch 33/200\n",
            "33/33 [==============================] - 2s 47ms/step - loss: 1.5755e-04 - mae: 0.0133 - val_loss: 0.0042 - val_mae: 0.0795\n",
            "Epoch 34/200\n",
            "33/33 [==============================] - 1s 36ms/step - loss: 1.5831e-04 - mae: 0.0133 - val_loss: 0.0042 - val_mae: 0.0797\n",
            "Epoch 35/200\n",
            "33/33 [==============================] - 2s 44ms/step - loss: 1.6013e-04 - mae: 0.0135 - val_loss: 0.0035 - val_mae: 0.0710\n",
            "Epoch 36/200\n",
            "33/33 [==============================] - 2s 45ms/step - loss: 1.5505e-04 - mae: 0.0132 - val_loss: 0.0039 - val_mae: 0.0770\n",
            "Epoch 37/200\n",
            "33/33 [==============================] - 1s 27ms/step - loss: 1.6205e-04 - mae: 0.0135 - val_loss: 0.0038 - val_mae: 0.0751\n",
            "Epoch 38/200\n",
            "33/33 [==============================] - 1s 27ms/step - loss: 1.5415e-04 - mae: 0.0132 - val_loss: 0.0038 - val_mae: 0.0758\n",
            "Epoch 39/200\n",
            "33/33 [==============================] - 1s 28ms/step - loss: 1.5842e-04 - mae: 0.0133 - val_loss: 0.0039 - val_mae: 0.0773\n",
            "Epoch 40/200\n",
            "33/33 [==============================] - 1s 25ms/step - loss: 1.5206e-04 - mae: 0.0131 - val_loss: 0.0034 - val_mae: 0.0714\n",
            "Epoch 41/200\n",
            "33/33 [==============================] - 2s 38ms/step - loss: 1.5237e-04 - mae: 0.0131 - val_loss: 0.0038 - val_mae: 0.0756\n",
            "Epoch 42/200\n",
            "33/33 [==============================] - 2s 46ms/step - loss: 1.5954e-04 - mae: 0.0135 - val_loss: 0.0036 - val_mae: 0.0745\n",
            "Epoch 43/200\n",
            "33/33 [==============================] - 1s 26ms/step - loss: 1.4797e-04 - mae: 0.0129 - val_loss: 0.0033 - val_mae: 0.0695\n",
            "Epoch 44/200\n",
            "33/33 [==============================] - 2s 44ms/step - loss: 1.4737e-04 - mae: 0.0128 - val_loss: 0.0028 - val_mae: 0.0635\n",
            "Epoch 45/200\n",
            "33/33 [==============================] - 1s 26ms/step - loss: 1.5076e-04 - mae: 0.0132 - val_loss: 0.0030 - val_mae: 0.0665\n",
            "Epoch 46/200\n",
            "33/33 [==============================] - 1s 21ms/step - loss: 1.4907e-04 - mae: 0.0130 - val_loss: 0.0026 - val_mae: 0.0613\n",
            "Epoch 47/200\n",
            "33/33 [==============================] - 2s 49ms/step - loss: 1.4347e-04 - mae: 0.0127 - val_loss: 0.0031 - val_mae: 0.0681\n",
            "Epoch 48/200\n",
            "33/33 [==============================] - 2s 49ms/step - loss: 1.4529e-04 - mae: 0.0128 - val_loss: 0.0024 - val_mae: 0.0576\n",
            "Epoch 49/200\n",
            "33/33 [==============================] - 1s 28ms/step - loss: 1.4925e-04 - mae: 0.0130 - val_loss: 0.0032 - val_mae: 0.0701\n",
            "Epoch 50/200\n",
            "33/33 [==============================] - 1s 27ms/step - loss: 1.5624e-04 - mae: 0.0133 - val_loss: 0.0024 - val_mae: 0.0584\n",
            "Epoch 51/200\n",
            "33/33 [==============================] - 2s 45ms/step - loss: 1.5180e-04 - mae: 0.0131 - val_loss: 0.0026 - val_mae: 0.0618\n",
            "Epoch 52/200\n",
            "33/33 [==============================] - 2s 36ms/step - loss: 1.3959e-04 - mae: 0.0126 - val_loss: 0.0022 - val_mae: 0.0558\n",
            "Epoch 53/200\n",
            "33/33 [==============================] - 2s 45ms/step - loss: 1.3948e-04 - mae: 0.0124 - val_loss: 0.0024 - val_mae: 0.0578\n",
            "Epoch 54/200\n",
            "33/33 [==============================] - 1s 27ms/step - loss: 1.4195e-04 - mae: 0.0127 - val_loss: 0.0023 - val_mae: 0.0575\n",
            "Epoch 55/200\n",
            "33/33 [==============================] - 1s 26ms/step - loss: 1.3754e-04 - mae: 0.0124 - val_loss: 0.0024 - val_mae: 0.0581\n",
            "Epoch 56/200\n",
            "33/33 [==============================] - 2s 44ms/step - loss: 1.3877e-04 - mae: 0.0125 - val_loss: 0.0020 - val_mae: 0.0528\n",
            "Epoch 57/200\n",
            "33/33 [==============================] - 1s 31ms/step - loss: 1.3877e-04 - mae: 0.0125 - val_loss: 0.0023 - val_mae: 0.0581\n",
            "Epoch 58/200\n",
            "33/33 [==============================] - 1s 24ms/step - loss: 1.3891e-04 - mae: 0.0126 - val_loss: 0.0021 - val_mae: 0.0549\n",
            "Epoch 59/200\n",
            "33/33 [==============================] - 1s 21ms/step - loss: 1.3451e-04 - mae: 0.0123 - val_loss: 0.0020 - val_mae: 0.0523\n",
            "Epoch 60/200\n",
            "33/33 [==============================] - 1s 26ms/step - loss: 1.3258e-04 - mae: 0.0122 - val_loss: 0.0019 - val_mae: 0.0512\n",
            "Epoch 61/200\n",
            "33/33 [==============================] - 2s 40ms/step - loss: 1.3162e-04 - mae: 0.0121 - val_loss: 0.0016 - val_mae: 0.0468\n",
            "Epoch 62/200\n",
            "33/33 [==============================] - 2s 45ms/step - loss: 1.3308e-04 - mae: 0.0121 - val_loss: 0.0017 - val_mae: 0.0485\n",
            "Epoch 63/200\n",
            "33/33 [==============================] - 1s 26ms/step - loss: 1.3264e-04 - mae: 0.0122 - val_loss: 0.0017 - val_mae: 0.0487\n",
            "Epoch 64/200\n",
            "33/33 [==============================] - 1s 21ms/step - loss: 1.3552e-04 - mae: 0.0124 - val_loss: 0.0017 - val_mae: 0.0484\n",
            "Epoch 65/200\n",
            "33/33 [==============================] - 2s 66ms/step - loss: 1.3657e-04 - mae: 0.0124 - val_loss: 0.0021 - val_mae: 0.0563\n",
            "Epoch 66/200\n",
            "33/33 [==============================] - 1s 21ms/step - loss: 1.3915e-04 - mae: 0.0125 - val_loss: 0.0015 - val_mae: 0.0453\n",
            "Epoch 67/200\n",
            "33/33 [==============================] - 2s 41ms/step - loss: 1.3216e-04 - mae: 0.0122 - val_loss: 0.0015 - val_mae: 0.0458\n",
            "Epoch 68/200\n",
            "33/33 [==============================] - 1s 23ms/step - loss: 1.3191e-04 - mae: 0.0122 - val_loss: 0.0014 - val_mae: 0.0440\n",
            "Epoch 69/200\n",
            "33/33 [==============================] - 1s 28ms/step - loss: 1.3403e-04 - mae: 0.0123 - val_loss: 0.0014 - val_mae: 0.0443\n",
            "Epoch 70/200\n",
            "33/33 [==============================] - 1s 21ms/step - loss: 1.2714e-04 - mae: 0.0119 - val_loss: 0.0012 - val_mae: 0.0391\n",
            "Epoch 71/200\n",
            "33/33 [==============================] - 1s 21ms/step - loss: 1.3492e-04 - mae: 0.0124 - val_loss: 0.0014 - val_mae: 0.0443\n",
            "Epoch 72/200\n",
            "33/33 [==============================] - 1s 24ms/step - loss: 1.3675e-04 - mae: 0.0125 - val_loss: 0.0013 - val_mae: 0.0426\n",
            "Epoch 73/200\n",
            "33/33 [==============================] - 2s 47ms/step - loss: 1.3053e-04 - mae: 0.0120 - val_loss: 0.0012 - val_mae: 0.0395\n",
            "Epoch 74/200\n",
            "33/33 [==============================] - 1s 27ms/step - loss: 1.2489e-04 - mae: 0.0118 - val_loss: 0.0011 - val_mae: 0.0383\n",
            "Epoch 75/200\n",
            "33/33 [==============================] - 1s 25ms/step - loss: 1.2765e-04 - mae: 0.0119 - val_loss: 0.0013 - val_mae: 0.0413\n",
            "Epoch 76/200\n",
            "33/33 [==============================] - 2s 40ms/step - loss: 1.2549e-04 - mae: 0.0118 - val_loss: 9.4696e-04 - val_mae: 0.0345\n",
            "Epoch 77/200\n",
            "33/33 [==============================] - 2s 57ms/step - loss: 1.2949e-04 - mae: 0.0121 - val_loss: 0.0011 - val_mae: 0.0372\n",
            "Epoch 78/200\n",
            "33/33 [==============================] - 1s 28ms/step - loss: 1.2798e-04 - mae: 0.0120 - val_loss: 0.0014 - val_mae: 0.0453\n",
            "Epoch 79/200\n",
            "33/33 [==============================] - 1s 21ms/step - loss: 1.2504e-04 - mae: 0.0118 - val_loss: 0.0011 - val_mae: 0.0386\n",
            "Epoch 80/200\n",
            "33/33 [==============================] - 2s 38ms/step - loss: 1.2238e-04 - mae: 0.0117 - val_loss: 0.0012 - val_mae: 0.0416\n",
            "Epoch 81/200\n",
            "33/33 [==============================] - 1s 22ms/step - loss: 1.2422e-04 - mae: 0.0118 - val_loss: 7.5635e-04 - val_mae: 0.0304\n",
            "Epoch 82/200\n",
            "33/33 [==============================] - 2s 43ms/step - loss: 1.2454e-04 - mae: 0.0117 - val_loss: 0.0011 - val_mae: 0.0395\n",
            "Epoch 83/200\n",
            "33/33 [==============================] - 2s 53ms/step - loss: 1.2714e-04 - mae: 0.0119 - val_loss: 8.7121e-04 - val_mae: 0.0332\n",
            "Epoch 84/200\n",
            "33/33 [==============================] - 1s 27ms/step - loss: 1.2284e-04 - mae: 0.0117 - val_loss: 8.7004e-04 - val_mae: 0.0334\n",
            "Epoch 85/200\n",
            "33/33 [==============================] - 1s 21ms/step - loss: 1.3235e-04 - mae: 0.0123 - val_loss: 9.9735e-04 - val_mae: 0.0366\n",
            "Epoch 86/200\n",
            "33/33 [==============================] - 3s 70ms/step - loss: 1.2234e-04 - mae: 0.0116 - val_loss: 7.6540e-04 - val_mae: 0.0308\n",
            "Epoch 87/200\n",
            "33/33 [==============================] - 1s 21ms/step - loss: 1.2855e-04 - mae: 0.0120 - val_loss: 9.7142e-04 - val_mae: 0.0362\n",
            "Epoch 88/200\n",
            "33/33 [==============================] - 2s 39ms/step - loss: 1.2761e-04 - mae: 0.0122 - val_loss: 8.1870e-04 - val_mae: 0.0322\n",
            "Epoch 89/200\n",
            "33/33 [==============================] - 1s 21ms/step - loss: 1.3136e-04 - mae: 0.0123 - val_loss: 8.5086e-04 - val_mae: 0.0332\n",
            "Epoch 90/200\n",
            "33/33 [==============================] - 1s 21ms/step - loss: 1.3355e-04 - mae: 0.0124 - val_loss: 7.1592e-04 - val_mae: 0.0296\n",
            "Epoch 91/200\n",
            "33/33 [==============================] - 1s 21ms/step - loss: 1.2152e-04 - mae: 0.0118 - val_loss: 6.8467e-04 - val_mae: 0.0288\n",
            "Epoch 92/200\n",
            "33/33 [==============================] - 1s 30ms/step - loss: 1.2289e-04 - mae: 0.0117 - val_loss: 8.8581e-04 - val_mae: 0.0343\n",
            "Epoch 93/200\n",
            "33/33 [==============================] - 2s 44ms/step - loss: 1.1796e-04 - mae: 0.0115 - val_loss: 7.6106e-04 - val_mae: 0.0311\n",
            "Epoch 94/200\n",
            "33/33 [==============================] - 1s 32ms/step - loss: 1.3269e-04 - mae: 0.0124 - val_loss: 8.1977e-04 - val_mae: 0.0328\n",
            "Epoch 95/200\n",
            "33/33 [==============================] - 1s 28ms/step - loss: 1.2070e-04 - mae: 0.0116 - val_loss: 7.3873e-04 - val_mae: 0.0307\n",
            "Epoch 96/200\n",
            "33/33 [==============================] - 1s 25ms/step - loss: 1.1709e-04 - mae: 0.0114 - val_loss: 8.5792e-04 - val_mae: 0.0340\n",
            "Epoch 97/200\n",
            "33/33 [==============================] - 1s 22ms/step - loss: 1.2272e-04 - mae: 0.0118 - val_loss: 8.4855e-04 - val_mae: 0.0339\n",
            "Epoch 98/200\n",
            "33/33 [==============================] - 1s 28ms/step - loss: 1.1652e-04 - mae: 0.0114 - val_loss: 6.2991e-04 - val_mae: 0.0276\n",
            "Epoch 99/200\n",
            "33/33 [==============================] - 1s 26ms/step - loss: 1.1946e-04 - mae: 0.0115 - val_loss: 6.6677e-04 - val_mae: 0.0288\n",
            "Epoch 100/200\n",
            "33/33 [==============================] - 1s 21ms/step - loss: 1.1743e-04 - mae: 0.0116 - val_loss: 6.2913e-04 - val_mae: 0.0277\n",
            "Epoch 101/200\n",
            "33/33 [==============================] - 2s 37ms/step - loss: 1.2043e-04 - mae: 0.0117 - val_loss: 6.1427e-04 - val_mae: 0.0274\n",
            "Epoch 102/200\n",
            "33/33 [==============================] - 2s 45ms/step - loss: 1.1786e-04 - mae: 0.0115 - val_loss: 8.0127e-04 - val_mae: 0.0333\n",
            "Epoch 103/200\n",
            "33/33 [==============================] - 1s 30ms/step - loss: 1.1978e-04 - mae: 0.0117 - val_loss: 6.3314e-04 - val_mae: 0.0280\n",
            "Epoch 104/200\n",
            "33/33 [==============================] - 2s 46ms/step - loss: 1.2005e-04 - mae: 0.0116 - val_loss: 5.9780e-04 - val_mae: 0.0270\n",
            "Epoch 105/200\n",
            "33/33 [==============================] - 1s 21ms/step - loss: 1.2359e-04 - mae: 0.0118 - val_loss: 5.5377e-04 - val_mae: 0.0256\n",
            "Epoch 106/200\n",
            "33/33 [==============================] - 2s 38ms/step - loss: 1.1741e-04 - mae: 0.0115 - val_loss: 6.0957e-04 - val_mae: 0.0275\n",
            "Epoch 107/200\n",
            "33/33 [==============================] - 2s 39ms/step - loss: 1.3036e-04 - mae: 0.0123 - val_loss: 6.4689e-04 - val_mae: 0.0289\n",
            "Epoch 108/200\n",
            "33/33 [==============================] - 1s 20ms/step - loss: 1.2396e-04 - mae: 0.0118 - val_loss: 6.2094e-04 - val_mae: 0.0280\n",
            "Epoch 109/200\n",
            "33/33 [==============================] - 1s 21ms/step - loss: 1.1562e-04 - mae: 0.0114 - val_loss: 6.8467e-04 - val_mae: 0.0303\n",
            "Epoch 110/200\n",
            "33/33 [==============================] - 2s 38ms/step - loss: 1.2184e-04 - mae: 0.0117 - val_loss: 6.5492e-04 - val_mae: 0.0294\n",
            "Epoch 111/200\n",
            "33/33 [==============================] - 1s 29ms/step - loss: 1.1615e-04 - mae: 0.0115 - val_loss: 5.5535e-04 - val_mae: 0.0260\n",
            "Epoch 112/200\n",
            "33/33 [==============================] - 2s 33ms/step - loss: 1.2209e-04 - mae: 0.0118 - val_loss: 6.3484e-04 - val_mae: 0.0289\n",
            "Epoch 113/200\n",
            "33/33 [==============================] - 2s 41ms/step - loss: 1.1673e-04 - mae: 0.0115 - val_loss: 7.3807e-04 - val_mae: 0.0322\n",
            "Epoch 114/200\n",
            "33/33 [==============================] - 1s 34ms/step - loss: 1.1915e-04 - mae: 0.0116 - val_loss: 5.4345e-04 - val_mae: 0.0258\n",
            "Epoch 115/200\n",
            "33/33 [==============================] - 1s 24ms/step - loss: 1.2024e-04 - mae: 0.0117 - val_loss: 5.1200e-04 - val_mae: 0.0247\n",
            "Epoch 116/200\n",
            "33/33 [==============================] - 2s 40ms/step - loss: 1.1790e-04 - mae: 0.0116 - val_loss: 7.4289e-04 - val_mae: 0.0325\n",
            "Epoch 117/200\n",
            "33/33 [==============================] - 2s 42ms/step - loss: 1.1323e-04 - mae: 0.0113 - val_loss: 5.2295e-04 - val_mae: 0.0253\n",
            "Epoch 118/200\n",
            "33/33 [==============================] - 2s 45ms/step - loss: 1.1235e-04 - mae: 0.0113 - val_loss: 4.9664e-04 - val_mae: 0.0244\n",
            "Epoch 119/200\n",
            "33/33 [==============================] - 2s 44ms/step - loss: 1.1141e-04 - mae: 0.0111 - val_loss: 5.1946e-04 - val_mae: 0.0253\n",
            "Epoch 120/200\n",
            "33/33 [==============================] - 2s 42ms/step - loss: 1.2195e-04 - mae: 0.0117 - val_loss: 6.3960e-04 - val_mae: 0.0296\n",
            "Epoch 121/200\n",
            "33/33 [==============================] - 2s 50ms/step - loss: 1.1889e-04 - mae: 0.0117 - val_loss: 4.5185e-04 - val_mae: 0.0228\n",
            "Epoch 122/200\n",
            "33/33 [==============================] - 2s 46ms/step - loss: 1.1315e-04 - mae: 0.0113 - val_loss: 4.9760e-04 - val_mae: 0.0246\n",
            "Epoch 123/200\n",
            "33/33 [==============================] - 1s 22ms/step - loss: 1.1971e-04 - mae: 0.0117 - val_loss: 4.5806e-04 - val_mae: 0.0232\n",
            "Epoch 124/200\n",
            "33/33 [==============================] - 1s 24ms/step - loss: 1.0927e-04 - mae: 0.0110 - val_loss: 5.6441e-04 - val_mae: 0.0272\n",
            "Epoch 125/200\n",
            "33/33 [==============================] - 1s 21ms/step - loss: 1.1576e-04 - mae: 0.0115 - val_loss: 4.9339e-04 - val_mae: 0.0247\n",
            "Epoch 126/200\n",
            "33/33 [==============================] - 1s 26ms/step - loss: 1.1112e-04 - mae: 0.0112 - val_loss: 6.0751e-04 - val_mae: 0.0288\n",
            "Epoch 127/200\n",
            "33/33 [==============================] - 1s 27ms/step - loss: 1.1220e-04 - mae: 0.0112 - val_loss: 4.6722e-04 - val_mae: 0.0238\n",
            "Epoch 128/200\n",
            "33/33 [==============================] - 2s 39ms/step - loss: 1.2097e-04 - mae: 0.0118 - val_loss: 5.1260e-04 - val_mae: 0.0256\n",
            "Epoch 129/200\n",
            "33/33 [==============================] - 2s 41ms/step - loss: 1.1791e-04 - mae: 0.0117 - val_loss: 5.3572e-04 - val_mae: 0.0265\n",
            "Epoch 130/200\n",
            "33/33 [==============================] - 1s 27ms/step - loss: 1.3821e-04 - mae: 0.0128 - val_loss: 4.0288e-04 - val_mae: 0.0210\n",
            "Epoch 131/200\n",
            "33/33 [==============================] - 2s 40ms/step - loss: 1.1451e-04 - mae: 0.0114 - val_loss: 4.9617e-04 - val_mae: 0.0250\n",
            "Epoch 132/200\n",
            "33/33 [==============================] - 1s 27ms/step - loss: 1.0833e-04 - mae: 0.0110 - val_loss: 4.3761e-04 - val_mae: 0.0227\n",
            "Epoch 133/200\n",
            "33/33 [==============================] - 2s 42ms/step - loss: 1.1440e-04 - mae: 0.0115 - val_loss: 6.4472e-04 - val_mae: 0.0302\n",
            "Epoch 134/200\n",
            "33/33 [==============================] - 2s 50ms/step - loss: 1.2423e-04 - mae: 0.0120 - val_loss: 4.3599e-04 - val_mae: 0.0227\n",
            "Epoch 135/200\n",
            "33/33 [==============================] - 1s 32ms/step - loss: 1.0892e-04 - mae: 0.0111 - val_loss: 4.1856e-04 - val_mae: 0.0220\n",
            "Epoch 136/200\n",
            "33/33 [==============================] - 2s 41ms/step - loss: 1.1620e-04 - mae: 0.0116 - val_loss: 5.1256e-04 - val_mae: 0.0258\n",
            "Epoch 137/200\n",
            "33/33 [==============================] - 1s 25ms/step - loss: 1.1814e-04 - mae: 0.0116 - val_loss: 4.9358e-04 - val_mae: 0.0252\n",
            "Epoch 138/200\n",
            "33/33 [==============================] - 2s 45ms/step - loss: 1.1100e-04 - mae: 0.0113 - val_loss: 4.8804e-04 - val_mae: 0.0250\n",
            "Epoch 139/200\n",
            "33/33 [==============================] - 2s 54ms/step - loss: 1.1098e-04 - mae: 0.0111 - val_loss: 4.1628e-04 - val_mae: 0.0220\n",
            "Epoch 140/200\n",
            "33/33 [==============================] - 2s 49ms/step - loss: 1.1082e-04 - mae: 0.0112 - val_loss: 3.9465e-04 - val_mae: 0.0210\n",
            "Epoch 141/200\n",
            "33/33 [==============================] - 2s 51ms/step - loss: 1.1466e-04 - mae: 0.0114 - val_loss: 3.8883e-04 - val_mae: 0.0207\n",
            "Epoch 142/200\n",
            "33/33 [==============================] - 2s 51ms/step - loss: 1.0889e-04 - mae: 0.0111 - val_loss: 4.0593e-04 - val_mae: 0.0216\n",
            "Epoch 143/200\n",
            "33/33 [==============================] - 1s 25ms/step - loss: 1.2023e-04 - mae: 0.0118 - val_loss: 3.8676e-04 - val_mae: 0.0207\n",
            "Epoch 144/200\n",
            "33/33 [==============================] - 1s 24ms/step - loss: 1.1437e-04 - mae: 0.0114 - val_loss: 4.6718e-04 - val_mae: 0.0243\n",
            "Epoch 145/200\n",
            "33/33 [==============================] - 2s 41ms/step - loss: 1.0927e-04 - mae: 0.0111 - val_loss: 4.8708e-04 - val_mae: 0.0252\n",
            "Epoch 146/200\n",
            "33/33 [==============================] - 2s 44ms/step - loss: 1.0545e-04 - mae: 0.0109 - val_loss: 3.8052e-04 - val_mae: 0.0205\n",
            "Epoch 147/200\n",
            "33/33 [==============================] - 2s 20ms/step - loss: 1.0668e-04 - mae: 0.0109 - val_loss: 4.7098e-04 - val_mae: 0.0246\n",
            "Epoch 148/200\n",
            "33/33 [==============================] - 2s 55ms/step - loss: 1.0994e-04 - mae: 0.0111 - val_loss: 4.7691e-04 - val_mae: 0.0249\n",
            "Epoch 149/200\n",
            "33/33 [==============================] - 1s 23ms/step - loss: 1.0624e-04 - mae: 0.0109 - val_loss: 3.8904e-04 - val_mae: 0.0211\n",
            "Epoch 150/200\n",
            "33/33 [==============================] - 2s 51ms/step - loss: 1.0691e-04 - mae: 0.0109 - val_loss: 4.0857e-04 - val_mae: 0.0221\n",
            "Epoch 151/200\n",
            "33/33 [==============================] - 1s 35ms/step - loss: 1.0463e-04 - mae: 0.0108 - val_loss: 4.3365e-04 - val_mae: 0.0233\n",
            "Epoch 152/200\n",
            "33/33 [==============================] - 2s 42ms/step - loss: 1.0890e-04 - mae: 0.0111 - val_loss: 3.7023e-04 - val_mae: 0.0202\n",
            "Epoch 153/200\n",
            "33/33 [==============================] - 1s 31ms/step - loss: 1.0600e-04 - mae: 0.0109 - val_loss: 3.9493e-04 - val_mae: 0.0215\n",
            "Epoch 154/200\n",
            "33/33 [==============================] - 1s 24ms/step - loss: 1.1358e-04 - mae: 0.0113 - val_loss: 3.6751e-04 - val_mae: 0.0201\n",
            "Epoch 155/200\n",
            "33/33 [==============================] - 2s 40ms/step - loss: 1.1027e-04 - mae: 0.0111 - val_loss: 3.6146e-04 - val_mae: 0.0197\n",
            "Epoch 156/200\n",
            "33/33 [==============================] - 1s 23ms/step - loss: 1.0992e-04 - mae: 0.0112 - val_loss: 3.8711e-04 - val_mae: 0.0199\n",
            "Epoch 157/200\n",
            "33/33 [==============================] - 1s 21ms/step - loss: 1.2042e-04 - mae: 0.0117 - val_loss: 4.0804e-04 - val_mae: 0.0222\n",
            "Epoch 158/200\n",
            "33/33 [==============================] - 1s 30ms/step - loss: 1.1132e-04 - mae: 0.0113 - val_loss: 4.6470e-04 - val_mae: 0.0247\n",
            "Epoch 159/200\n",
            "33/33 [==============================] - 1s 24ms/step - loss: 1.2395e-04 - mae: 0.0120 - val_loss: 3.6406e-04 - val_mae: 0.0193\n",
            "Epoch 160/200\n",
            "33/33 [==============================] - 1s 21ms/step - loss: 1.0594e-04 - mae: 0.0109 - val_loss: 3.9420e-04 - val_mae: 0.0216\n",
            "Epoch 161/200\n",
            "33/33 [==============================] - 1s 27ms/step - loss: 1.0655e-04 - mae: 0.0109 - val_loss: 3.6511e-04 - val_mae: 0.0201\n",
            "Epoch 162/200\n",
            "33/33 [==============================] - 2s 42ms/step - loss: 1.1378e-04 - mae: 0.0114 - val_loss: 3.5624e-04 - val_mae: 0.0195\n",
            "Epoch 163/200\n",
            "33/33 [==============================] - 2s 58ms/step - loss: 1.0846e-04 - mae: 0.0110 - val_loss: 3.6663e-04 - val_mae: 0.0202\n",
            "Epoch 164/200\n",
            "33/33 [==============================] - 1s 36ms/step - loss: 1.0644e-04 - mae: 0.0109 - val_loss: 4.1761e-04 - val_mae: 0.0228\n",
            "Epoch 165/200\n",
            "33/33 [==============================] - 2s 44ms/step - loss: 1.0747e-04 - mae: 0.0111 - val_loss: 3.6619e-04 - val_mae: 0.0202\n",
            "Epoch 166/200\n",
            "33/33 [==============================] - 1s 21ms/step - loss: 1.0981e-04 - mae: 0.0111 - val_loss: 3.6697e-04 - val_mae: 0.0203\n",
            "Epoch 167/200\n",
            "33/33 [==============================] - 2s 37ms/step - loss: 1.1229e-04 - mae: 0.0112 - val_loss: 4.2291e-04 - val_mae: 0.0231\n",
            "Epoch 168/200\n",
            "33/33 [==============================] - 2s 38ms/step - loss: 1.1109e-04 - mae: 0.0113 - val_loss: 3.6987e-04 - val_mae: 0.0205\n",
            "Epoch 169/200\n",
            "33/33 [==============================] - 1s 28ms/step - loss: 1.0620e-04 - mae: 0.0109 - val_loss: 4.0118e-04 - val_mae: 0.0221\n",
            "Epoch 170/200\n",
            "33/33 [==============================] - 2s 40ms/step - loss: 1.0557e-04 - mae: 0.0110 - val_loss: 3.5140e-04 - val_mae: 0.0194\n",
            "Epoch 171/200\n",
            "33/33 [==============================] - 1s 33ms/step - loss: 1.0476e-04 - mae: 0.0109 - val_loss: 3.8054e-04 - val_mae: 0.0212\n",
            "Epoch 172/200\n",
            "33/33 [==============================] - 1s 21ms/step - loss: 1.0480e-04 - mae: 0.0108 - val_loss: 3.5098e-04 - val_mae: 0.0195\n",
            "Epoch 173/200\n",
            "33/33 [==============================] - 1s 28ms/step - loss: 1.1415e-04 - mae: 0.0115 - val_loss: 3.4591e-04 - val_mae: 0.0191\n",
            "Epoch 174/200\n",
            "33/33 [==============================] - 1s 21ms/step - loss: 1.0712e-04 - mae: 0.0110 - val_loss: 3.7827e-04 - val_mae: 0.0211\n",
            "Epoch 175/200\n",
            "33/33 [==============================] - 2s 38ms/step - loss: 1.0844e-04 - mae: 0.0111 - val_loss: 3.6370e-04 - val_mae: 0.0203\n",
            "Epoch 176/200\n",
            "33/33 [==============================] - 1s 29ms/step - loss: 1.0373e-04 - mae: 0.0108 - val_loss: 3.6184e-04 - val_mae: 0.0202\n",
            "Epoch 177/200\n",
            "33/33 [==============================] - 1s 25ms/step - loss: 1.0197e-04 - mae: 0.0106 - val_loss: 3.4594e-04 - val_mae: 0.0193\n",
            "Epoch 178/200\n",
            "33/33 [==============================] - 1s 21ms/step - loss: 1.0823e-04 - mae: 0.0111 - val_loss: 3.4601e-04 - val_mae: 0.0193\n",
            "Epoch 179/200\n",
            "33/33 [==============================] - 1s 23ms/step - loss: 1.0494e-04 - mae: 0.0109 - val_loss: 3.5811e-04 - val_mae: 0.0201\n",
            "Epoch 180/200\n",
            "33/33 [==============================] - 1s 22ms/step - loss: 1.0289e-04 - mae: 0.0107 - val_loss: 3.4495e-04 - val_mae: 0.0193\n",
            "Epoch 181/200\n",
            "33/33 [==============================] - 1s 28ms/step - loss: 1.1097e-04 - mae: 0.0114 - val_loss: 4.7117e-04 - val_mae: 0.0253\n",
            "Epoch 182/200\n",
            "33/33 [==============================] - 1s 21ms/step - loss: 1.0709e-04 - mae: 0.0110 - val_loss: 3.5871e-04 - val_mae: 0.0202\n",
            "Epoch 183/200\n",
            "33/33 [==============================] - 2s 37ms/step - loss: 1.0744e-04 - mae: 0.0111 - val_loss: 3.3928e-04 - val_mae: 0.0185\n",
            "Epoch 184/200\n",
            "33/33 [==============================] - 2s 42ms/step - loss: 1.1170e-04 - mae: 0.0114 - val_loss: 3.3663e-04 - val_mae: 0.0186\n",
            "Epoch 185/200\n",
            "33/33 [==============================] - 2s 46ms/step - loss: 1.0901e-04 - mae: 0.0111 - val_loss: 4.2782e-04 - val_mae: 0.0236\n",
            "Epoch 186/200\n",
            "33/33 [==============================] - 1s 25ms/step - loss: 1.0730e-04 - mae: 0.0111 - val_loss: 3.5413e-04 - val_mae: 0.0200\n",
            "Epoch 187/200\n",
            "33/33 [==============================] - 1s 21ms/step - loss: 1.1316e-04 - mae: 0.0113 - val_loss: 3.3886e-04 - val_mae: 0.0185\n",
            "Epoch 188/200\n",
            "33/33 [==============================] - 2s 50ms/step - loss: 1.0548e-04 - mae: 0.0108 - val_loss: 3.6467e-04 - val_mae: 0.0206\n",
            "Epoch 189/200\n",
            "33/33 [==============================] - 2s 39ms/step - loss: 1.0006e-04 - mae: 0.0105 - val_loss: 4.2275e-04 - val_mae: 0.0233\n",
            "Epoch 190/200\n",
            "33/33 [==============================] - 2s 42ms/step - loss: 1.0667e-04 - mae: 0.0110 - val_loss: 3.4610e-04 - val_mae: 0.0195\n",
            "Epoch 191/200\n",
            "33/33 [==============================] - 1s 21ms/step - loss: 1.0498e-04 - mae: 0.0110 - val_loss: 3.3916e-04 - val_mae: 0.0191\n",
            "Epoch 192/200\n",
            "33/33 [==============================] - 2s 66ms/step - loss: 1.0288e-04 - mae: 0.0107 - val_loss: 3.6523e-04 - val_mae: 0.0207\n",
            "Epoch 193/200\n",
            "33/33 [==============================] - 2s 46ms/step - loss: 1.0077e-04 - mae: 0.0106 - val_loss: 3.4880e-04 - val_mae: 0.0198\n",
            "Epoch 194/200\n",
            "33/33 [==============================] - 2s 53ms/step - loss: 1.0375e-04 - mae: 0.0108 - val_loss: 4.0979e-04 - val_mae: 0.0228\n",
            "Epoch 195/200\n",
            "33/33 [==============================] - 1s 30ms/step - loss: 1.0057e-04 - mae: 0.0107 - val_loss: 3.2961e-04 - val_mae: 0.0183\n",
            "Epoch 196/200\n",
            "33/33 [==============================] - 1s 28ms/step - loss: 1.0041e-04 - mae: 0.0106 - val_loss: 3.3695e-04 - val_mae: 0.0190\n",
            "Epoch 197/200\n",
            "33/33 [==============================] - 1s 26ms/step - loss: 1.0245e-04 - mae: 0.0107 - val_loss: 3.3909e-04 - val_mae: 0.0192\n",
            "Epoch 198/200\n",
            "33/33 [==============================] - 1s 21ms/step - loss: 9.8147e-05 - mae: 0.0104 - val_loss: 3.3524e-04 - val_mae: 0.0189\n",
            "Epoch 199/200\n",
            "33/33 [==============================] - 2s 40ms/step - loss: 1.0078e-04 - mae: 0.0105 - val_loss: 3.3283e-04 - val_mae: 0.0188\n",
            "Epoch 200/200\n",
            "33/33 [==============================] - 2s 44ms/step - loss: 1.0004e-04 - mae: 0.0105 - val_loss: 3.3117e-04 - val_mae: 0.0187\n"
          ]
        }
      ],
      "source": [
        "\n",
        "# Save an instance of the model\n",
        "LSTM = create_LSTM()\n",
        "\n",
        "# Train it\n",
        "LSTM_history = LSTM.fit(train_set, epochs=200, validation_data = val_set)"
      ]
    },
    {
      "cell_type": "markdown",
      "source": [
        "training curve"
      ],
      "metadata": {
        "id": "CAQ4iJB68cFU"
      }
    },
    {
      "cell_type": "code",
      "source": [
        "plt.plot(LSTM_history.history['mae'])\n",
        "plt.plot(LSTM_history.history['val_mae'])\n",
        "plt.title('model MAE')\n",
        "plt.ylabel('MAE')\n",
        "plt.xlabel('epoch')\n",
        "plt.legend(['train', 'val'], loc='upper left')\n",
        "plt.show()"
      ],
      "metadata": {
        "colab": {
          "base_uri": "https://localhost:8080/",
          "height": 295
        },
        "id": "zoJJdSiD8d4j",
        "outputId": "085e7ca0-ad38-4b65-830e-970a0758962b"
      },
      "execution_count": null,
      "outputs": [
        {
          "output_type": "display_data",
          "data": {
            "text/plain": [
              "<Figure size 432x288 with 1 Axes>"
            ],
            "image/png": "[encoded data removed]"
          },
          "metadata": {
            "needs_background": "light"
          }
        }
      ]
    },
    {
      "cell_type": "markdown",
      "source": [
        "Train using train set and validation set together"
      ],
      "metadata": {
        "id": "N0m9BXbgBs4K"
      }
    },
    {
      "cell_type": "code",
      "source": [
        "final_LSTM = create_LSTM()\n",
        "train_val_set = windowed_dataset(series_norm[0:-150], window_size=G.WINDOW_SIZE, batch_size=G.BATCH_SIZE, shuffle_buffer=G.SHUFFLE_BUFFER_SIZE)\n",
        "# Train it\n",
        "LSTM_history = final_LSTM.fit(train_val_set, epochs=200)"
      ],
      "metadata": {
        "colab": {
          "base_uri": "https://localhost:8080/"
        },
        "id": "39hMkWlmBsMZ",
        "outputId": "507f3038-bed6-450f-9b28-63374999e134"
      },
      "execution_count": null,
      "outputs": [
        {
          "output_type": "stream",
          "name": "stdout",
          "text": [
            "Model: \"sequential_3\"\n",
            "_________________________________________________________________\n",
            " Layer (type)                Output Shape              Param #   \n",
            "=================================================================\n",
            " conv1d_3 (Conv1D)           (None, 250, 512)          1536      \n",
            "                                                                 \n",
            " max_pooling1d_3 (MaxPooling  (None, 250, 512)         0         \n",
            " 1D)                                                             \n",
            "                                                                 \n",
            " lstm_3 (LSTM)               (None, 200)               570400    \n",
            "                                                                 \n",
            " dense_9 (Dense)             (None, 30)                6030      \n",
            "                                                                 \n",
            " dense_10 (Dense)            (None, 10)                310       \n",
            "                                                                 \n",
            " dense_11 (Dense)            (None, 1)                 11        \n",
            "                                                                 \n",
            "=================================================================\n",
            "Total params: 578,287\n",
            "Trainable params: 578,287\n",
            "Non-trainable params: 0\n",
            "_________________________________________________________________\n",
            "Epoch 1/200\n",
            "43/43 [==============================] - 4s 29ms/step - loss: 0.0252 - mae: 0.1402\n",
            "Epoch 2/200\n",
            "43/43 [==============================] - 3s 62ms/step - loss: 4.2024e-04 - mae: 0.0223\n",
            "Epoch 3/200\n",
            "43/43 [==============================] - 2s 37ms/step - loss: 2.8593e-04 - mae: 0.0179\n",
            "Epoch 4/200\n",
            "43/43 [==============================] - 2s 42ms/step - loss: 2.5721e-04 - mae: 0.0168\n",
            "Epoch 5/200\n",
            "43/43 [==============================] - 2s 41ms/step - loss: 2.5184e-04 - mae: 0.0165\n",
            "Epoch 6/200\n",
            "43/43 [==============================] - 3s 60ms/step - loss: 2.3102e-04 - mae: 0.0156\n",
            "Epoch 7/200\n",
            "43/43 [==============================] - 3s 58ms/step - loss: 2.4884e-04 - mae: 0.0165\n",
            "Epoch 8/200\n",
            "43/43 [==============================] - 3s 58ms/step - loss: 2.2158e-04 - mae: 0.0152\n",
            "Epoch 9/200\n",
            "43/43 [==============================] - 3s 58ms/step - loss: 2.5871e-04 - mae: 0.0169\n",
            "Epoch 10/200\n",
            "43/43 [==============================] - 2s 43ms/step - loss: 2.3575e-04 - mae: 0.0159\n",
            "Epoch 11/200\n",
            "43/43 [==============================] - 2s 43ms/step - loss: 2.2619e-04 - mae: 0.0155\n",
            "Epoch 12/200\n",
            "43/43 [==============================] - 2s 41ms/step - loss: 2.3784e-04 - mae: 0.0160\n",
            "Epoch 13/200\n",
            "43/43 [==============================] - 2s 47ms/step - loss: 2.0798e-04 - mae: 0.0144\n",
            "Epoch 14/200\n",
            "43/43 [==============================] - 2s 44ms/step - loss: 2.0576e-04 - mae: 0.0146\n",
            "Epoch 15/200\n",
            "43/43 [==============================] - 4s 82ms/step - loss: 2.0322e-04 - mae: 0.0144\n",
            "Epoch 16/200\n",
            "43/43 [==============================] - 3s 47ms/step - loss: 2.0496e-04 - mae: 0.0144\n",
            "Epoch 17/200\n",
            "43/43 [==============================] - 2s 35ms/step - loss: 2.0780e-04 - mae: 0.0146\n",
            "Epoch 18/200\n",
            "43/43 [==============================] - 2s 33ms/step - loss: 2.0161e-04 - mae: 0.0144\n",
            "Epoch 19/200\n",
            "43/43 [==============================] - 3s 57ms/step - loss: 1.9487e-04 - mae: 0.0140\n",
            "Epoch 20/200\n",
            "43/43 [==============================] - 2s 44ms/step - loss: 2.0042e-04 - mae: 0.0144\n",
            "Epoch 21/200\n",
            "43/43 [==============================] - 4s 77ms/step - loss: 2.2155e-04 - mae: 0.0154\n",
            "Epoch 22/200\n",
            "43/43 [==============================] - 3s 67ms/step - loss: 1.9401e-04 - mae: 0.0141\n",
            "Epoch 23/200\n",
            "43/43 [==============================] - 2s 32ms/step - loss: 1.8977e-04 - mae: 0.0138\n",
            "Epoch 24/200\n",
            "43/43 [==============================] - 3s 54ms/step - loss: 1.9754e-04 - mae: 0.0141\n",
            "Epoch 25/200\n",
            "43/43 [==============================] - 2s 43ms/step - loss: 1.9741e-04 - mae: 0.0141\n",
            "Epoch 26/200\n",
            "43/43 [==============================] - 3s 57ms/step - loss: 2.1184e-04 - mae: 0.0149\n",
            "Epoch 27/200\n",
            "43/43 [==============================] - 2s 35ms/step - loss: 1.9034e-04 - mae: 0.0136\n",
            "Epoch 28/200\n",
            "43/43 [==============================] - 3s 59ms/step - loss: 1.9908e-04 - mae: 0.0143\n",
            "Epoch 29/200\n",
            "43/43 [==============================] - 2s 39ms/step - loss: 1.8855e-04 - mae: 0.0138\n",
            "Epoch 30/200\n",
            "43/43 [==============================] - 2s 37ms/step - loss: 2.0443e-04 - mae: 0.0146\n",
            "Epoch 31/200\n",
            "43/43 [==============================] - 3s 61ms/step - loss: 1.8877e-04 - mae: 0.0138\n",
            "Epoch 32/200\n",
            "43/43 [==============================] - 3s 60ms/step - loss: 1.9165e-04 - mae: 0.0139\n",
            "Epoch 33/200\n",
            "43/43 [==============================] - 4s 72ms/step - loss: 1.9539e-04 - mae: 0.0142\n",
            "Epoch 34/200\n",
            "43/43 [==============================] - 2s 35ms/step - loss: 1.8371e-04 - mae: 0.0136\n",
            "Epoch 35/200\n",
            "43/43 [==============================] - 3s 54ms/step - loss: 1.8508e-04 - mae: 0.0138\n",
            "Epoch 36/200\n",
            "43/43 [==============================] - 3s 51ms/step - loss: 1.7576e-04 - mae: 0.0132\n",
            "Epoch 37/200\n",
            "43/43 [==============================] - 4s 71ms/step - loss: 1.8489e-04 - mae: 0.0137\n",
            "Epoch 38/200\n",
            "43/43 [==============================] - 2s 45ms/step - loss: 1.7669e-04 - mae: 0.0131\n",
            "Epoch 39/200\n",
            "43/43 [==============================] - 3s 68ms/step - loss: 1.7354e-04 - mae: 0.0132\n",
            "Epoch 40/200\n",
            "43/43 [==============================] - 2s 30ms/step - loss: 1.8482e-04 - mae: 0.0137\n",
            "Epoch 41/200\n",
            "43/43 [==============================] - 2s 35ms/step - loss: 1.7079e-04 - mae: 0.0130\n",
            "Epoch 42/200\n",
            "43/43 [==============================] - 2s 31ms/step - loss: 1.8569e-04 - mae: 0.0137\n",
            "Epoch 43/200\n",
            "43/43 [==============================] - 2s 44ms/step - loss: 1.8423e-04 - mae: 0.0137\n",
            "Epoch 44/200\n",
            "43/43 [==============================] - 4s 75ms/step - loss: 1.7363e-04 - mae: 0.0131\n",
            "Epoch 45/200\n",
            "43/43 [==============================] - 3s 51ms/step - loss: 1.7614e-04 - mae: 0.0133\n",
            "Epoch 46/200\n",
            "43/43 [==============================] - 2s 34ms/step - loss: 1.8220e-04 - mae: 0.0138\n",
            "Epoch 47/200\n",
            "43/43 [==============================] - 3s 54ms/step - loss: 1.7029e-04 - mae: 0.0130\n",
            "Epoch 48/200\n",
            "43/43 [==============================] - 4s 73ms/step - loss: 1.7988e-04 - mae: 0.0135\n",
            "Epoch 49/200\n",
            "43/43 [==============================] - 3s 65ms/step - loss: 1.6569e-04 - mae: 0.0128\n",
            "Epoch 50/200\n",
            "43/43 [==============================] - 3s 67ms/step - loss: 1.6262e-04 - mae: 0.0126\n",
            "Epoch 51/200\n",
            "43/43 [==============================] - 3s 58ms/step - loss: 1.8179e-04 - mae: 0.0135\n",
            "Epoch 52/200\n",
            "43/43 [==============================] - 2s 46ms/step - loss: 1.7997e-04 - mae: 0.0136\n",
            "Epoch 53/200\n",
            "43/43 [==============================] - 3s 63ms/step - loss: 1.6896e-04 - mae: 0.0131\n",
            "Epoch 54/200\n",
            "43/43 [==============================] - 3s 68ms/step - loss: 1.9629e-04 - mae: 0.0142\n",
            "Epoch 55/200\n",
            "43/43 [==============================] - 2s 45ms/step - loss: 1.8500e-04 - mae: 0.0139\n",
            "Epoch 56/200\n",
            "43/43 [==============================] - 3s 46ms/step - loss: 1.8954e-04 - mae: 0.0140\n",
            "Epoch 57/200\n",
            "43/43 [==============================] - 4s 71ms/step - loss: 1.7098e-04 - mae: 0.0130\n",
            "Epoch 58/200\n",
            "43/43 [==============================] - 2s 41ms/step - loss: 1.6897e-04 - mae: 0.0131\n",
            "Epoch 59/200\n",
            "43/43 [==============================] - 3s 58ms/step - loss: 1.6124e-04 - mae: 0.0126\n",
            "Epoch 60/200\n",
            "43/43 [==============================] - 2s 34ms/step - loss: 1.5925e-04 - mae: 0.0126\n",
            "Epoch 61/200\n",
            "43/43 [==============================] - 2s 31ms/step - loss: 1.6673e-04 - mae: 0.0128\n",
            "Epoch 62/200\n",
            "43/43 [==============================] - 2s 39ms/step - loss: 1.6055e-04 - mae: 0.0126\n",
            "Epoch 63/200\n",
            "43/43 [==============================] - 2s 34ms/step - loss: 1.6902e-04 - mae: 0.0132\n",
            "Epoch 64/200\n",
            "43/43 [==============================] - 3s 60ms/step - loss: 1.5486e-04 - mae: 0.0123\n",
            "Epoch 65/200\n",
            "43/43 [==============================] - 2s 39ms/step - loss: 1.5528e-04 - mae: 0.0122\n",
            "Epoch 66/200\n",
            "43/43 [==============================] - 2s 37ms/step - loss: 1.6401e-04 - mae: 0.0129\n",
            "Epoch 67/200\n",
            "43/43 [==============================] - 4s 72ms/step - loss: 1.7139e-04 - mae: 0.0133\n",
            "Epoch 68/200\n",
            "43/43 [==============================] - 3s 66ms/step - loss: 1.6672e-04 - mae: 0.0131\n",
            "Epoch 69/200\n",
            "43/43 [==============================] - 4s 76ms/step - loss: 1.7072e-04 - mae: 0.0134\n",
            "Epoch 70/200\n",
            "43/43 [==============================] - 2s 30ms/step - loss: 1.5861e-04 - mae: 0.0125\n",
            "Epoch 71/200\n",
            "43/43 [==============================] - 3s 58ms/step - loss: 1.5424e-04 - mae: 0.0123\n",
            "Epoch 72/200\n",
            "43/43 [==============================] - 3s 55ms/step - loss: 1.4986e-04 - mae: 0.0120\n",
            "Epoch 73/200\n",
            "43/43 [==============================] - 2s 31ms/step - loss: 1.5919e-04 - mae: 0.0126\n",
            "Epoch 74/200\n",
            "43/43 [==============================] - 2s 47ms/step - loss: 1.5406e-04 - mae: 0.0124\n",
            "Epoch 75/200\n",
            "43/43 [==============================] - 3s 60ms/step - loss: 1.5032e-04 - mae: 0.0121\n",
            "Epoch 76/200\n",
            "43/43 [==============================] - 3s 40ms/step - loss: 1.4971e-04 - mae: 0.0120\n",
            "Epoch 77/200\n",
            "43/43 [==============================] - 4s 83ms/step - loss: 1.5771e-04 - mae: 0.0125\n",
            "Epoch 78/200\n",
            "43/43 [==============================] - 3s 50ms/step - loss: 1.4865e-04 - mae: 0.0121\n",
            "Epoch 79/200\n",
            "43/43 [==============================] - 2s 45ms/step - loss: 1.8494e-04 - mae: 0.0140\n",
            "Epoch 80/200\n",
            "43/43 [==============================] - 2s 40ms/step - loss: 1.6512e-04 - mae: 0.0129\n",
            "Epoch 81/200\n",
            "43/43 [==============================] - 3s 67ms/step - loss: 1.6400e-04 - mae: 0.0129\n",
            "Epoch 82/200\n",
            "43/43 [==============================] - 4s 75ms/step - loss: 1.5008e-04 - mae: 0.0122\n",
            "Epoch 83/200\n",
            "43/43 [==============================] - 2s 39ms/step - loss: 1.5278e-04 - mae: 0.0122\n",
            "Epoch 84/200\n",
            "43/43 [==============================] - 4s 68ms/step - loss: 1.5690e-04 - mae: 0.0125\n",
            "Epoch 85/200\n",
            "43/43 [==============================] - 2s 44ms/step - loss: 1.5023e-04 - mae: 0.0124\n",
            "Epoch 86/200\n",
            "43/43 [==============================] - 3s 61ms/step - loss: 1.6020e-04 - mae: 0.0128\n",
            "Epoch 87/200\n",
            "43/43 [==============================] - 2s 45ms/step - loss: 1.7785e-04 - mae: 0.0135\n",
            "Epoch 88/200\n",
            "43/43 [==============================] - 2s 31ms/step - loss: 1.6621e-04 - mae: 0.0130\n",
            "Epoch 89/200\n",
            "43/43 [==============================] - 2s 39ms/step - loss: 1.6066e-04 - mae: 0.0128\n",
            "Epoch 90/200\n",
            "43/43 [==============================] - 3s 60ms/step - loss: 1.7357e-04 - mae: 0.0133\n",
            "Epoch 91/200\n",
            "43/43 [==============================] - 2s 30ms/step - loss: 1.5405e-04 - mae: 0.0123\n",
            "Epoch 92/200\n",
            "43/43 [==============================] - 3s 71ms/step - loss: 1.5425e-04 - mae: 0.0124\n",
            "Epoch 93/200\n",
            "43/43 [==============================] - 2s 36ms/step - loss: 1.4977e-04 - mae: 0.0121\n",
            "Epoch 94/200\n",
            "43/43 [==============================] - 2s 39ms/step - loss: 1.4950e-04 - mae: 0.0122\n",
            "Epoch 95/200\n",
            "43/43 [==============================] - 2s 36ms/step - loss: 1.6270e-04 - mae: 0.0131\n",
            "Epoch 96/200\n",
            "43/43 [==============================] - 3s 49ms/step - loss: 1.5701e-04 - mae: 0.0127\n",
            "Epoch 97/200\n",
            "43/43 [==============================] - 2s 48ms/step - loss: 1.5909e-04 - mae: 0.0129\n",
            "Epoch 98/200\n",
            "43/43 [==============================] - 3s 70ms/step - loss: 1.5483e-04 - mae: 0.0124\n",
            "Epoch 99/200\n",
            "43/43 [==============================] - 3s 63ms/step - loss: 1.4679e-04 - mae: 0.0120\n",
            "Epoch 100/200\n",
            "43/43 [==============================] - 2s 38ms/step - loss: 1.6989e-04 - mae: 0.0133\n",
            "Epoch 101/200\n",
            "43/43 [==============================] - 4s 74ms/step - loss: 1.5872e-04 - mae: 0.0126\n",
            "Epoch 102/200\n",
            "43/43 [==============================] - 2s 30ms/step - loss: 1.5043e-04 - mae: 0.0124\n",
            "Epoch 103/200\n",
            "43/43 [==============================] - 2s 40ms/step - loss: 1.6499e-04 - mae: 0.0130\n",
            "Epoch 104/200\n",
            "43/43 [==============================] - 2s 43ms/step - loss: 1.6364e-04 - mae: 0.0132\n",
            "Epoch 105/200\n",
            "43/43 [==============================] - 3s 55ms/step - loss: 1.4184e-04 - mae: 0.0118\n",
            "Epoch 106/200\n",
            "43/43 [==============================] - 3s 60ms/step - loss: 1.5337e-04 - mae: 0.0123\n",
            "Epoch 107/200\n",
            "43/43 [==============================] - 2s 43ms/step - loss: 1.5119e-04 - mae: 0.0124\n",
            "Epoch 108/200\n",
            "43/43 [==============================] - 2s 36ms/step - loss: 1.5646e-04 - mae: 0.0126\n",
            "Epoch 109/200\n",
            "43/43 [==============================] - 2s 44ms/step - loss: 1.5814e-04 - mae: 0.0126\n",
            "Epoch 110/200\n",
            "43/43 [==============================] - 3s 57ms/step - loss: 1.4217e-04 - mae: 0.0119\n",
            "Epoch 111/200\n",
            "43/43 [==============================] - 2s 48ms/step - loss: 1.4698e-04 - mae: 0.0120\n",
            "Epoch 112/200\n",
            "43/43 [==============================] - 3s 59ms/step - loss: 1.8160e-04 - mae: 0.0140\n",
            "Epoch 113/200\n",
            "43/43 [==============================] - 3s 67ms/step - loss: 1.8998e-04 - mae: 0.0142\n",
            "Epoch 114/200\n",
            "43/43 [==============================] - 2s 33ms/step - loss: 1.4122e-04 - mae: 0.0117\n",
            "Epoch 115/200\n",
            "43/43 [==============================] - 3s 51ms/step - loss: 1.5321e-04 - mae: 0.0125\n",
            "Epoch 116/200\n",
            "43/43 [==============================] - 4s 73ms/step - loss: 1.4443e-04 - mae: 0.0120\n",
            "Epoch 117/200\n",
            "43/43 [==============================] - 2s 39ms/step - loss: 1.4659e-04 - mae: 0.0121\n",
            "Epoch 118/200\n",
            "43/43 [==============================] - 2s 32ms/step - loss: 1.5805e-04 - mae: 0.0128\n",
            "Epoch 119/200\n",
            "43/43 [==============================] - 3s 58ms/step - loss: 1.5300e-04 - mae: 0.0125\n",
            "Epoch 120/200\n",
            "43/43 [==============================] - 3s 60ms/step - loss: 1.5891e-04 - mae: 0.0128\n",
            "Epoch 121/200\n",
            "43/43 [==============================] - 2s 37ms/step - loss: 1.4513e-04 - mae: 0.0121\n",
            "Epoch 122/200\n",
            "43/43 [==============================] - 2s 35ms/step - loss: 1.4509e-04 - mae: 0.0121\n",
            "Epoch 123/200\n",
            "43/43 [==============================] - 3s 59ms/step - loss: 1.4283e-04 - mae: 0.0119\n",
            "Epoch 124/200\n",
            "43/43 [==============================] - 2s 47ms/step - loss: 1.4884e-04 - mae: 0.0123\n",
            "Epoch 125/200\n",
            "43/43 [==============================] - 3s 55ms/step - loss: 1.3521e-04 - mae: 0.0115\n",
            "Epoch 126/200\n",
            "43/43 [==============================] - 4s 74ms/step - loss: 1.5328e-04 - mae: 0.0126\n",
            "Epoch 127/200\n",
            "43/43 [==============================] - 2s 44ms/step - loss: 1.4011e-04 - mae: 0.0118\n",
            "Epoch 128/200\n",
            "43/43 [==============================] - 4s 72ms/step - loss: 1.4656e-04 - mae: 0.0122\n",
            "Epoch 129/200\n",
            "43/43 [==============================] - 2s 47ms/step - loss: 1.4000e-04 - mae: 0.0117\n",
            "Epoch 130/200\n",
            "43/43 [==============================] - 2s 47ms/step - loss: 1.5471e-04 - mae: 0.0124\n",
            "Epoch 131/200\n",
            "43/43 [==============================] - 4s 78ms/step - loss: 1.4027e-04 - mae: 0.0117\n",
            "Epoch 132/200\n",
            "43/43 [==============================] - 3s 64ms/step - loss: 1.5428e-04 - mae: 0.0126\n",
            "Epoch 133/200\n",
            "43/43 [==============================] - 2s 46ms/step - loss: 1.3674e-04 - mae: 0.0115\n",
            "Epoch 134/200\n",
            "43/43 [==============================] - 2s 37ms/step - loss: 1.5222e-04 - mae: 0.0123\n",
            "Epoch 135/200\n",
            "43/43 [==============================] - 2s 45ms/step - loss: 1.5062e-04 - mae: 0.0125\n",
            "Epoch 136/200\n",
            "43/43 [==============================] - 2s 43ms/step - loss: 1.5234e-04 - mae: 0.0126\n",
            "Epoch 137/200\n",
            "43/43 [==============================] - 3s 49ms/step - loss: 1.3926e-04 - mae: 0.0118\n",
            "Epoch 138/200\n",
            "43/43 [==============================] - 3s 63ms/step - loss: 1.4883e-04 - mae: 0.0124\n",
            "Epoch 139/200\n",
            "43/43 [==============================] - 3s 60ms/step - loss: 1.5230e-04 - mae: 0.0125\n",
            "Epoch 140/200\n",
            "43/43 [==============================] - 3s 57ms/step - loss: 1.6408e-04 - mae: 0.0132\n",
            "Epoch 141/200\n",
            "43/43 [==============================] - 3s 60ms/step - loss: 1.3577e-04 - mae: 0.0117\n",
            "Epoch 142/200\n",
            "43/43 [==============================] - 2s 44ms/step - loss: 1.3725e-04 - mae: 0.0116\n",
            "Epoch 143/200\n",
            "43/43 [==============================] - 4s 71ms/step - loss: 1.4559e-04 - mae: 0.0123\n",
            "Epoch 144/200\n",
            "43/43 [==============================] - 3s 58ms/step - loss: 1.5265e-04 - mae: 0.0126\n",
            "Epoch 145/200\n",
            "43/43 [==============================] - 2s 42ms/step - loss: 1.3716e-04 - mae: 0.0117\n",
            "Epoch 146/200\n",
            "43/43 [==============================] - 3s 52ms/step - loss: 1.5071e-04 - mae: 0.0123\n",
            "Epoch 147/200\n",
            "43/43 [==============================] - 3s 64ms/step - loss: 1.3664e-04 - mae: 0.0116\n",
            "Epoch 148/200\n",
            "43/43 [==============================] - 3s 47ms/step - loss: 1.6038e-04 - mae: 0.0129\n",
            "Epoch 149/200\n",
            "43/43 [==============================] - 2s 45ms/step - loss: 1.6552e-04 - mae: 0.0132\n",
            "Epoch 150/200\n",
            "43/43 [==============================] - 3s 58ms/step - loss: 1.3471e-04 - mae: 0.0114\n",
            "Epoch 151/200\n",
            "43/43 [==============================] - 2s 35ms/step - loss: 1.3747e-04 - mae: 0.0118\n",
            "Epoch 152/200\n",
            "43/43 [==============================] - 2s 31ms/step - loss: 1.3873e-04 - mae: 0.0118\n",
            "Epoch 153/200\n",
            "43/43 [==============================] - 2s 38ms/step - loss: 1.6162e-04 - mae: 0.0130\n",
            "Epoch 154/200\n",
            "43/43 [==============================] - 3s 58ms/step - loss: 1.4800e-04 - mae: 0.0123\n",
            "Epoch 155/200\n",
            "43/43 [==============================] - 3s 56ms/step - loss: 1.3567e-04 - mae: 0.0116\n",
            "Epoch 156/200\n",
            "43/43 [==============================] - 3s 61ms/step - loss: 1.4722e-04 - mae: 0.0121\n",
            "Epoch 157/200\n",
            "43/43 [==============================] - 2s 46ms/step - loss: 1.4205e-04 - mae: 0.0118\n",
            "Epoch 158/200\n",
            "43/43 [==============================] - 2s 33ms/step - loss: 1.3352e-04 - mae: 0.0114\n",
            "Epoch 159/200\n",
            "43/43 [==============================] - 3s 58ms/step - loss: 1.3161e-04 - mae: 0.0113\n",
            "Epoch 160/200\n",
            "43/43 [==============================] - 2s 45ms/step - loss: 1.3267e-04 - mae: 0.0114\n",
            "Epoch 161/200\n",
            "43/43 [==============================] - 2s 43ms/step - loss: 1.3450e-04 - mae: 0.0115\n",
            "Epoch 162/200\n",
            "43/43 [==============================] - 4s 78ms/step - loss: 1.4209e-04 - mae: 0.0120\n",
            "Epoch 163/200\n",
            "43/43 [==============================] - 3s 60ms/step - loss: 1.3322e-04 - mae: 0.0115\n",
            "Epoch 164/200\n",
            "43/43 [==============================] - 3s 59ms/step - loss: 1.4654e-04 - mae: 0.0120\n",
            "Epoch 165/200\n",
            "43/43 [==============================] - 2s 36ms/step - loss: 1.3314e-04 - mae: 0.0114\n",
            "Epoch 166/200\n",
            "43/43 [==============================] - 2s 32ms/step - loss: 1.4305e-04 - mae: 0.0120\n",
            "Epoch 167/200\n",
            "43/43 [==============================] - 2s 36ms/step - loss: 1.3552e-04 - mae: 0.0116\n",
            "Epoch 168/200\n",
            "43/43 [==============================] - 2s 44ms/step - loss: 1.3756e-04 - mae: 0.0118\n",
            "Epoch 169/200\n",
            "43/43 [==============================] - 2s 45ms/step - loss: 1.3885e-04 - mae: 0.0119\n",
            "Epoch 170/200\n",
            "43/43 [==============================] - 2s 32ms/step - loss: 1.3862e-04 - mae: 0.0118\n",
            "Epoch 171/200\n",
            "43/43 [==============================] - 3s 47ms/step - loss: 1.3492e-04 - mae: 0.0116\n",
            "Epoch 172/200\n",
            "43/43 [==============================] - 2s 39ms/step - loss: 1.3202e-04 - mae: 0.0114\n",
            "Epoch 173/200\n",
            "43/43 [==============================] - 3s 61ms/step - loss: 1.2927e-04 - mae: 0.0111\n",
            "Epoch 174/200\n",
            "43/43 [==============================] - 3s 66ms/step - loss: 1.2841e-04 - mae: 0.0112\n",
            "Epoch 175/200\n",
            "43/43 [==============================] - 2s 34ms/step - loss: 1.2775e-04 - mae: 0.0111\n",
            "Epoch 176/200\n",
            "43/43 [==============================] - 3s 60ms/step - loss: 1.3642e-04 - mae: 0.0117\n",
            "Epoch 177/200\n",
            "43/43 [==============================] - 3s 66ms/step - loss: 1.3092e-04 - mae: 0.0113\n",
            "Epoch 178/200\n",
            "43/43 [==============================] - 3s 60ms/step - loss: 1.3273e-04 - mae: 0.0115\n",
            "Epoch 179/200\n",
            "43/43 [==============================] - 3s 57ms/step - loss: 1.3569e-04 - mae: 0.0116\n",
            "Epoch 180/200\n",
            "43/43 [==============================] - 2s 37ms/step - loss: 1.3385e-04 - mae: 0.0115\n",
            "Epoch 181/200\n",
            "43/43 [==============================] - 3s 59ms/step - loss: 1.3460e-04 - mae: 0.0115\n",
            "Epoch 182/200\n",
            "43/43 [==============================] - 2s 31ms/step - loss: 1.4039e-04 - mae: 0.0118\n",
            "Epoch 183/200\n",
            "43/43 [==============================] - 2s 46ms/step - loss: 1.3165e-04 - mae: 0.0113\n",
            "Epoch 184/200\n",
            "43/43 [==============================] - 3s 61ms/step - loss: 1.4776e-04 - mae: 0.0122\n",
            "Epoch 185/200\n",
            "43/43 [==============================] - 3s 67ms/step - loss: 1.4310e-04 - mae: 0.0121\n",
            "Epoch 186/200\n",
            "43/43 [==============================] - 3s 61ms/step - loss: 1.2829e-04 - mae: 0.0112\n",
            "Epoch 187/200\n",
            "43/43 [==============================] - 3s 56ms/step - loss: 1.3969e-04 - mae: 0.0119\n",
            "Epoch 188/200\n",
            "43/43 [==============================] - 3s 64ms/step - loss: 1.3440e-04 - mae: 0.0116\n",
            "Epoch 189/200\n",
            "43/43 [==============================] - 2s 41ms/step - loss: 1.4415e-04 - mae: 0.0121\n",
            "Epoch 190/200\n",
            "43/43 [==============================] - 3s 58ms/step - loss: 1.3485e-04 - mae: 0.0115\n",
            "Epoch 191/200\n",
            "43/43 [==============================] - 2s 32ms/step - loss: 1.4718e-04 - mae: 0.0123\n",
            "Epoch 192/200\n",
            "43/43 [==============================] - 2s 39ms/step - loss: 1.3712e-04 - mae: 0.0119\n",
            "Epoch 193/200\n",
            "43/43 [==============================] - 2s 34ms/step - loss: 1.3781e-04 - mae: 0.0118\n",
            "Epoch 194/200\n",
            "43/43 [==============================] - 2s 36ms/step - loss: 1.3456e-04 - mae: 0.0116\n",
            "Epoch 195/200\n",
            "43/43 [==============================] - 2s 45ms/step - loss: 1.3902e-04 - mae: 0.0117\n",
            "Epoch 196/200\n",
            "43/43 [==============================] - 3s 69ms/step - loss: 1.4225e-04 - mae: 0.0120\n",
            "Epoch 197/200\n",
            "43/43 [==============================] - 2s 40ms/step - loss: 1.3374e-04 - mae: 0.0115\n",
            "Epoch 198/200\n",
            "43/43 [==============================] - 2s 47ms/step - loss: 1.4346e-04 - mae: 0.0120\n",
            "Epoch 199/200\n",
            "43/43 [==============================] - 3s 70ms/step - loss: 1.3315e-04 - mae: 0.0115\n",
            "Epoch 200/200\n",
            "43/43 [==============================] - 3s 48ms/step - loss: 1.3108e-04 - mae: 0.0113\n"
          ]
        }
      ]
    },
    {
      "cell_type": "markdown",
      "metadata": {
        "id": "69lcH5cAEnki"
      },
      "source": [
        "## Evaluating the forecast\n",
        "\n",
        "Now it is time to evaluate the performance of the forecast. For this you can use the `compute_metrics` function that you coded in a previous assignment:"
      ]
    },
    {
      "cell_type": "code",
      "execution_count": null,
      "metadata": {
        "id": "1Y12KaJYEnki"
      },
      "outputs": [],
      "source": [
        "def compute_metrics(true_series, forecast):\n",
        "    \n",
        "    mse = tf.keras.metrics.mean_squared_error(true_series, forecast).numpy()\n",
        "    mae = tf.keras.metrics.mean_absolute_error(true_series, forecast).numpy()\n",
        "\n",
        "    return mse, mae"
      ]
    },
    {
      "cell_type": "markdown",
      "metadata": {
        "id": "r7V0kTKHEnki"
      },
      "source": [
        "At this point only the model that will perform the forecast is ready but you still need to compute the actual forecast.\n",
        "\n"
      ]
    },
    {
      "cell_type": "markdown",
      "metadata": {
        "id": "rJtDyAD9Enkj"
      },
      "source": [
        "## Faster model forecasts\n",
        "\n",
        "In the previous week you saw a faster approach compared to using a for loop to compute the forecasts for every point in the sequence. Remember that this faster approach uses batches of data. \n",
        "\n",
        "The code to implement this is provided in the `model_forecast` below. Notice that the code is very similar to the one in the `windowed_dataset` function with the differences that:\n",
        "- The dataset is windowed using `window_size` rather than `window_size + 1`\n",
        "- No shuffle should be used\n",
        "- No need to split the data into features and labels\n",
        "- A model is used to predict batches of the dataset"
      ]
    },
    {
      "cell_type": "code",
      "execution_count": null,
      "metadata": {
        "id": "4XwGrf-A_wF0"
      },
      "outputs": [],
      "source": [
        "def model_forecast(model, series, window_size):\n",
        "    ds = tf.data.Dataset.from_tensor_slices(series)\n",
        "    ds = ds.window(window_size, shift=1, drop_remainder=True)\n",
        "    ds = ds.flat_map(lambda w: w.batch(window_size))\n",
        "    ds = ds.batch(32).prefetch(1)\n",
        "    forecast = model.predict(ds)\n",
        "    return forecast"
      ]
    },
    {
      "cell_type": "markdown",
      "metadata": {
        "id": "kIyFlTEwEnkj"
      },
      "source": [
        "Now compute the actual forecast:\n",
        "\n",
        "**Note:** Don't modify the cell below. \n",
        "\n",
        "The grader uses the same slicing to get the forecast so if you change the cell below you risk having issues when submitting your model for grading."
      ]
    },
    {
      "cell_type": "code",
      "source": [
        "def reverse_normalization(series):\n",
        "  series = series * (max(series_train) - min(series_train)) + min(series_train)\n",
        "  return series"
      ],
      "metadata": {
        "id": "xG8kJO3blWny"
      },
      "execution_count": null,
      "outputs": []
    },
    {
      "cell_type": "code",
      "execution_count": null,
      "metadata": {
        "colab": {
          "base_uri": "https://localhost:8080/",
          "height": 388
        },
        "id": "PrktQX3hKYex",
        "outputId": "65136a16-5194-4bbc-9066-99580cc2b097"
      },
      "outputs": [
        {
          "output_type": "display_data",
          "data": {
            "text/plain": [
              "<Figure size 720x432 with 1 Axes>"
            ],
            "image/png": "[encoded data removed]"
          },
          "metadata": {
            "needs_background": "light"
          }
        }
      ],
      "source": [
        "# Compute the forecast for all the series\n",
        "cnn_lstm_forecast = model_forecast(final_model, series_norm, G.WINDOW_SIZE).squeeze()\n",
        "\n",
        "# Slice the forecast to get only the predictions for the validation set\n",
        "series_test_hat = cnn_lstm_forecast[-150:]\n",
        "# reverse normalization\n",
        "# series_test_hat = reverse_normalization(cnn_lstm_forecast)\n",
        "\n",
        "# Plot the forecast\n",
        "plt.figure(figsize=(10, 6))\n",
        "plot_series(time_test, series_test_norm)\n",
        "plot_series(time_test, series_test_hat)"
      ]
    },
    {
      "cell_type": "code",
      "source": [
        "series_test_hat = reverse_normalization(series_test_hat)\n",
        "\n",
        "\n",
        "# Plot the forecast\n",
        "plt.figure(figsize=(10, 6))\n",
        "plot_series(time_test, series_test)\n",
        "plot_series(time_test, series_test_hat)"
      ],
      "metadata": {
        "colab": {
          "base_uri": "https://localhost:8080/",
          "height": 388
        },
        "id": "f9uvk7NGnnwt",
        "outputId": "72a6de5e-b326-48cb-c825-8b8c0c0270e5"
      },
      "execution_count": null,
      "outputs": [
        {
          "output_type": "display_data",
          "data": {
            "text/plain": [
              "<Figure size 720x432 with 1 Axes>"
            ],
            "image/png": "[encoded data removed]"
          },
          "metadata": {
            "needs_background": "light"
          }
        }
      ]
    },
    {
      "cell_type": "code",
      "source": [
        "print(tf.keras.metrics.mean_squared_error(series_test, series_test_hat).numpy())\n",
        "print(tf.keras.metrics.mean_absolute_error(series_test, series_test_hat).numpy())"
      ],
      "metadata": {
        "colab": {
          "base_uri": "https://localhost:8080/"
        },
        "id": "36akhacAAvgg",
        "outputId": "615c3054-66fe-4f78-9362-1c13611f9b40"
      },
      "execution_count": null,
      "outputs": [
        {
          "output_type": "stream",
          "name": "stdout",
          "text": [
            "19441.139\n",
            "104.655846\n"
          ]
        }
      ]
    },
    {
      "cell_type": "code",
      "execution_count": null,
      "metadata": {
        "id": "JyKUmK5BEnkj"
      },
      "outputs": [],
      "source": [
        "mse, mae = compute_metrics(series_test, series_test_hat)\n",
        "\n",
        "print(f\"mse: {mse:.2f}, mae: {mae:.2f} for forecast\")"
      ]
    },
    {
      "cell_type": "markdown",
      "metadata": {
        "id": "IMDYCFOqEnkj"
      },
      "source": [
        "**To pass this assignment your forecast should achieve a MSE of 6 or less and a MAE of 2 or less.**\n",
        "\n",
        "- If your forecast didn't achieve this threshold try re-training your model with a different architecture (you will need to re-run both `create_uncompiled_model` and `create_model` functions) or tweaking the optimizer's parameters.\n",
        "\n",
        "\n",
        "- If your forecast did achieve this threshold run the following cell to save the model in a HDF5 file which will be used for grading and after doing so, submit your assigment for grading.\n",
        "\n",
        "\n",
        "- This environment includes a dummy SavedModel directory which contains a dummy model trained for one epoch. **To replace this file with your actual model you need to run the next cell before submitting for grading.**"
      ]
    },
    {
      "cell_type": "markdown",
      "metadata": {
        "id": "X1e6honeEnkk"
      },
      "source": [
        "**Congratulations on finishing this week's assignment!**\n",
        "\n",
        "You have successfully implemented a neural network capable of forecasting time series leveraging a combination of Tensorflow's layers such as Convolutional and LSTMs! This resulted in a forecast that surpasses all the ones you did previously.\n",
        "\n",
        "**By finishing this assignment you have finished the specialization! Give yourself a pat on the back!!!**"
      ]
    }
  ],
  "metadata": {
    "kernelspec": {
      "display_name": "Python 3",
      "language": "python",
      "name": "python3"
    },
    "language_info": {
      "codemirror_mode": {
        "name": "ipython",
        "version": 3
      },
      "file_extension": ".py",
      "mimetype": "text/x-python",
      "name": "python",
      "nbconvert_exporter": "python",
      "pygments_lexer": "ipython3",
      "version": "3.8.8"
    },
    "colab": {
      "name": "CapsNet_LSTM.ipynb",
      "provenance": [],
      "collapsed_sections": [],
      "machine_shape": "hm",
      "include_colab_link": true
    },
    "accelerator": "GPU",
    "gpuClass": "standard"
  },
  "nbformat": 4,
  "nbformat_minor": 0
}