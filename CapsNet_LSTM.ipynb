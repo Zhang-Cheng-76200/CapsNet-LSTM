{
  "cells": [
    {
      "cell_type": "markdown",
      "metadata": {
        "id": "view-in-github",
        "colab_type": "text"
      },
      "source": [
        "<a href=\"https://colab.research.google.com/github/Orangefox76200/CapsNet-LSTM/blob/main/CapsNet_LSTM.ipynb\" target=\"_parent\"><img src=\"https://colab.research.google.com/assets/colab-badge.svg\" alt=\"Open In Colab\"/></a>"
      ]
    },
    {
      "cell_type": "markdown",
      "metadata": {
        "id": "G92ON7NXEnkW"
      },
      "source": [
        "# Financial Time Series Forecasting Using A Hybrid CapsNet-LSTM Architecture: Using real world data (DJIA Index)\n",
        "\n",
        "DJIA Index dataset contains data of the daily DJIA Index price recorded from Jan 1st, 2010 to Dec 31st, 2019. In addition to be using Tensorflow's layers for processing sequence data such as LSTMs we will also intergrate Capsule Network in our proposed hybrid architecture to improve the model's performance.\n",
        "\n",
        "Let's get started!"
      ]
    },
    {
      "cell_type": "code",
      "source": [
        "!pip install keras-tuner -q"
      ],
      "metadata": {
        "id": "q-8z1SiOcPgO",
        "outputId": "a563f63a-81f8-4edf-b1cc-7d8b66e0ade5",
        "colab": {
          "base_uri": "https://localhost:8080/"
        }
      },
      "execution_count": 2,
      "outputs": [
        {
          "output_type": "stream",
          "name": "stdout",
          "text": [
            "\u001b[K     |████████████████████████████████| 135 kB 4.6 MB/s \n",
            "\u001b[K     |████████████████████████████████| 1.6 MB 33.8 MB/s \n",
            "\u001b[?25h"
          ]
        }
      ]
    },
    {
      "cell_type": "code",
      "execution_count": 3,
      "metadata": {
        "id": "56XEQOGknrAk"
      },
      "outputs": [],
      "source": [
        "import keras.backend as K\n",
        "import tensorflow as tf\n",
        "import keras\n",
        "import keras_tuner\n",
        "from keras import backend as K\n",
        "from keras import initializers, layers, models, optimizers, callbacks\n",
        "\n",
        "from keras.initializers import *\n",
        "from keras.layers import *\n",
        "from keras.models import *\n",
        "from keras.optimizers import *\n",
        "from keras.callbacks import *\n",
        "\n",
        "import os\n",
        "import pickle\n",
        "import pandas as pd\n",
        "import numpy as np\n",
        "import matplotlib.pyplot as plt\n",
        "from dataclasses import dataclass"
      ]
    },
    {
      "cell_type": "code",
      "source": [
        "# If code is running on TPU\n",
        "resolver = tf.distribute.cluster_resolver.TPUClusterResolver(tpu='')\n",
        "tf.config.experimental_connect_to_cluster(resolver)\n",
        "# This is the TPU initialization code that has to be at the beginning.\n",
        "tf.tpu.experimental.initialize_tpu_system(resolver)\n",
        "print(\"All devices: \", tf.config.list_logical_devices('TPU'))"
      ],
      "metadata": {
        "colab": {
          "base_uri": "https://localhost:8080/"
        },
        "id": "CnjuziNxZdvf",
        "outputId": "a04d09ac-8e19-4652-b30d-456231942980"
      },
      "execution_count": 4,
      "outputs": [
        {
          "output_type": "stream",
          "name": "stdout",
          "text": [
            "All devices:  [LogicalDevice(name='/job:worker/replica:0/task:0/device:TPU:0', device_type='TPU'), LogicalDevice(name='/job:worker/replica:0/task:0/device:TPU:1', device_type='TPU'), LogicalDevice(name='/job:worker/replica:0/task:0/device:TPU:2', device_type='TPU'), LogicalDevice(name='/job:worker/replica:0/task:0/device:TPU:3', device_type='TPU'), LogicalDevice(name='/job:worker/replica:0/task:0/device:TPU:4', device_type='TPU'), LogicalDevice(name='/job:worker/replica:0/task:0/device:TPU:5', device_type='TPU'), LogicalDevice(name='/job:worker/replica:0/task:0/device:TPU:6', device_type='TPU'), LogicalDevice(name='/job:worker/replica:0/task:0/device:TPU:7', device_type='TPU')]\n"
          ]
        }
      ]
    },
    {
      "cell_type": "code",
      "source": [
        "strategy = tf.distribute.TPUStrategy(resolver)"
      ],
      "metadata": {
        "id": "eb5Za_rOMFVx"
      },
      "execution_count": 5,
      "outputs": []
    },
    {
      "cell_type": "code",
      "source": [
        "# Load the TensorBoard notebook extension\n",
        "%load_ext tensorboard"
      ],
      "metadata": {
        "id": "xd85sJ-phkwi"
      },
      "execution_count": 6,
      "outputs": []
    },
    {
      "cell_type": "code",
      "source": [
        "print(tf.__version__)"
      ],
      "metadata": {
        "colab": {
          "base_uri": "https://localhost:8080/"
        },
        "id": "rA-JsdF3y5eE",
        "outputId": "5daccbe1-5059-4775-f522-11c5ba1d8551"
      },
      "execution_count": 7,
      "outputs": [
        {
          "output_type": "stream",
          "name": "stdout",
          "text": [
            "2.8.2\n"
          ]
        }
      ]
    },
    {
      "cell_type": "markdown",
      "metadata": {
        "id": "RBR7h1IgEnkc"
      },
      "source": [
        "## Parsing the raw data\n",
        "\n",
        "A couple of things to note:\n",
        "\n",
        "- There is no need to save the data points as numpy arrays, regular lists is fine.\n",
        "- The `time` list should contain every timestep (starting at zero), which is just a sequence of ordered numbers with the same length as the `series` list.\n",
        "- The values of the `series` should be of `float` type. You can use Python's built-in `float` function to ensure this."
      ]
    },
    {
      "cell_type": "markdown",
      "metadata": {
        "id": "GeP3JMZHEnkZ"
      },
      "source": [
        "Begin by looking at the structure of the xlsx file that contains the data:"
      ]
    },
    {
      "cell_type": "code",
      "source": [
        "from google.colab import drive\n",
        "drive.mount ('gdrive')\n",
        "DJIA_raw = pd.read_excel('/content/gdrive/MyDrive/Colab Notebooks/DJIA.xlsx')\n",
        "DJIA_raw"
      ],
      "metadata": {
        "colab": {
          "base_uri": "https://localhost:8080/",
          "height": 441
        },
        "id": "vKv3toTHFgnh",
        "outputId": "0df62957-fe3f-4205-a5ae-7a114a792b8e"
      },
      "execution_count": 8,
      "outputs": [
        {
          "output_type": "stream",
          "name": "stdout",
          "text": [
            "Mounted at gdrive\n"
          ]
        },
        {
          "output_type": "execute_result",
          "data": {
            "text/plain": [
              "              Date      Open      High       Low     Close     Volume\n",
              "0     Jan 04, 2010  10430.69  10604.97  10430.69  10583.96  179780000\n",
              "1     Jan 05, 2010  10584.56  10584.56  10522.52  10572.02  188540000\n",
              "2     Jan 06, 2010  10564.72  10594.99  10546.55  10573.68  186040000\n",
              "3     Jan 07, 2010  10571.11  10612.37  10505.21  10606.86  217390000\n",
              "4     Jan 08, 2010  10606.40  10619.40  10554.33  10618.19  172710000\n",
              "...            ...       ...       ...       ...       ...        ...\n",
              "2511  Dec 24, 2019  28572.57  28576.80  28503.21  28515.45   86150000\n",
              "2512  Dec 26, 2019  28539.46  28624.10  28535.15  28621.39  155970000\n",
              "2513  Dec 27, 2019  28675.34  28701.66  28608.98  28645.26  182280000\n",
              "2514  Dec 30, 2019  28654.76  28664.69  28428.98  28462.14  181600000\n",
              "2515  Dec 31, 2019  28414.64  28547.35  28376.49  28538.44  193340000\n",
              "\n",
              "[2516 rows x 6 columns]"
            ],
            "text/html": [
              "\n",
              "  <div id=\"df-1893c80d-83aa-40e7-ace4-cc49e925467a\">\n",
              "    <div class=\"colab-df-container\">\n",
              "      <div>\n",
              "<style scoped>\n",
              "    .dataframe tbody tr th:only-of-type {\n",
              "        vertical-align: middle;\n",
              "    }\n",
              "\n",
              "    .dataframe tbody tr th {\n",
              "        vertical-align: top;\n",
              "    }\n",
              "\n",
              "    .dataframe thead th {\n",
              "        text-align: right;\n",
              "    }\n",
              "</style>\n",
              "<table border=\"1\" class=\"dataframe\">\n",
              "  <thead>\n",
              "    <tr style=\"text-align: right;\">\n",
              "      <th></th>\n",
              "      <th>Date</th>\n",
              "      <th>Open</th>\n",
              "      <th>High</th>\n",
              "      <th>Low</th>\n",
              "      <th>Close</th>\n",
              "      <th>Volume</th>\n",
              "    </tr>\n",
              "  </thead>\n",
              "  <tbody>\n",
              "    <tr>\n",
              "      <th>0</th>\n",
              "      <td>Jan 04, 2010</td>\n",
              "      <td>10430.69</td>\n",
              "      <td>10604.97</td>\n",
              "      <td>10430.69</td>\n",
              "      <td>10583.96</td>\n",
              "      <td>179780000</td>\n",
              "    </tr>\n",
              "    <tr>\n",
              "      <th>1</th>\n",
              "      <td>Jan 05, 2010</td>\n",
              "      <td>10584.56</td>\n",
              "      <td>10584.56</td>\n",
              "      <td>10522.52</td>\n",
              "      <td>10572.02</td>\n",
              "      <td>188540000</td>\n",
              "    </tr>\n",
              "    <tr>\n",
              "      <th>2</th>\n",
              "      <td>Jan 06, 2010</td>\n",
              "      <td>10564.72</td>\n",
              "      <td>10594.99</td>\n",
              "      <td>10546.55</td>\n",
              "      <td>10573.68</td>\n",
              "      <td>186040000</td>\n",
              "    </tr>\n",
              "    <tr>\n",
              "      <th>3</th>\n",
              "      <td>Jan 07, 2010</td>\n",
              "      <td>10571.11</td>\n",
              "      <td>10612.37</td>\n",
              "      <td>10505.21</td>\n",
              "      <td>10606.86</td>\n",
              "      <td>217390000</td>\n",
              "    </tr>\n",
              "    <tr>\n",
              "      <th>4</th>\n",
              "      <td>Jan 08, 2010</td>\n",
              "      <td>10606.40</td>\n",
              "      <td>10619.40</td>\n",
              "      <td>10554.33</td>\n",
              "      <td>10618.19</td>\n",
              "      <td>172710000</td>\n",
              "    </tr>\n",
              "    <tr>\n",
              "      <th>...</th>\n",
              "      <td>...</td>\n",
              "      <td>...</td>\n",
              "      <td>...</td>\n",
              "      <td>...</td>\n",
              "      <td>...</td>\n",
              "      <td>...</td>\n",
              "    </tr>\n",
              "    <tr>\n",
              "      <th>2511</th>\n",
              "      <td>Dec 24, 2019</td>\n",
              "      <td>28572.57</td>\n",
              "      <td>28576.80</td>\n",
              "      <td>28503.21</td>\n",
              "      <td>28515.45</td>\n",
              "      <td>86150000</td>\n",
              "    </tr>\n",
              "    <tr>\n",
              "      <th>2512</th>\n",
              "      <td>Dec 26, 2019</td>\n",
              "      <td>28539.46</td>\n",
              "      <td>28624.10</td>\n",
              "      <td>28535.15</td>\n",
              "      <td>28621.39</td>\n",
              "      <td>155970000</td>\n",
              "    </tr>\n",
              "    <tr>\n",
              "      <th>2513</th>\n",
              "      <td>Dec 27, 2019</td>\n",
              "      <td>28675.34</td>\n",
              "      <td>28701.66</td>\n",
              "      <td>28608.98</td>\n",
              "      <td>28645.26</td>\n",
              "      <td>182280000</td>\n",
              "    </tr>\n",
              "    <tr>\n",
              "      <th>2514</th>\n",
              "      <td>Dec 30, 2019</td>\n",
              "      <td>28654.76</td>\n",
              "      <td>28664.69</td>\n",
              "      <td>28428.98</td>\n",
              "      <td>28462.14</td>\n",
              "      <td>181600000</td>\n",
              "    </tr>\n",
              "    <tr>\n",
              "      <th>2515</th>\n",
              "      <td>Dec 31, 2019</td>\n",
              "      <td>28414.64</td>\n",
              "      <td>28547.35</td>\n",
              "      <td>28376.49</td>\n",
              "      <td>28538.44</td>\n",
              "      <td>193340000</td>\n",
              "    </tr>\n",
              "  </tbody>\n",
              "</table>\n",
              "<p>2516 rows × 6 columns</p>\n",
              "</div>\n",
              "      <button class=\"colab-df-convert\" onclick=\"convertToInteractive('df-1893c80d-83aa-40e7-ace4-cc49e925467a')\"\n",
              "              title=\"Convert this dataframe to an interactive table.\"\n",
              "              style=\"display:none;\">\n",
              "        \n",
              "  <svg xmlns=\"http://www.w3.org/2000/svg\" height=\"24px\"viewBox=\"0 0 24 24\"\n",
              "       width=\"24px\">\n",
              "    <path d=\"M0 0h24v24H0V0z\" fill=\"none\"/>\n",
              "    <path d=\"M18.56 5.44l.94 2.06.94-2.06 2.06-.94-2.06-.94-.94-2.06-.94 2.06-2.06.94zm-11 1L8.5 8.5l.94-2.06 2.06-.94-2.06-.94L8.5 2.5l-.94 2.06-2.06.94zm10 10l.94 2.06.94-2.06 2.06-.94-2.06-.94-.94-2.06-.94 2.06-2.06.94z\"/><path d=\"M17.41 7.96l-1.37-1.37c-.4-.4-.92-.59-1.43-.59-.52 0-1.04.2-1.43.59L10.3 9.45l-7.72 7.72c-.78.78-.78 2.05 0 2.83L4 21.41c.39.39.9.59 1.41.59.51 0 1.02-.2 1.41-.59l7.78-7.78 2.81-2.81c.8-.78.8-2.07 0-2.86zM5.41 20L4 18.59l7.72-7.72 1.47 1.35L5.41 20z\"/>\n",
              "  </svg>\n",
              "      </button>\n",
              "      \n",
              "  <style>\n",
              "    .colab-df-container {\n",
              "      display:flex;\n",
              "      flex-wrap:wrap;\n",
              "      gap: 12px;\n",
              "    }\n",
              "\n",
              "    .colab-df-convert {\n",
              "      background-color: #E8F0FE;\n",
              "      border: none;\n",
              "      border-radius: 50%;\n",
              "      cursor: pointer;\n",
              "      display: none;\n",
              "      fill: #1967D2;\n",
              "      height: 32px;\n",
              "      padding: 0 0 0 0;\n",
              "      width: 32px;\n",
              "    }\n",
              "\n",
              "    .colab-df-convert:hover {\n",
              "      background-color: #E2EBFA;\n",
              "      box-shadow: 0px 1px 2px rgba(60, 64, 67, 0.3), 0px 1px 3px 1px rgba(60, 64, 67, 0.15);\n",
              "      fill: #174EA6;\n",
              "    }\n",
              "\n",
              "    [theme=dark] .colab-df-convert {\n",
              "      background-color: #3B4455;\n",
              "      fill: #D2E3FC;\n",
              "    }\n",
              "\n",
              "    [theme=dark] .colab-df-convert:hover {\n",
              "      background-color: #434B5C;\n",
              "      box-shadow: 0px 1px 3px 1px rgba(0, 0, 0, 0.15);\n",
              "      filter: drop-shadow(0px 1px 2px rgba(0, 0, 0, 0.3));\n",
              "      fill: #FFFFFF;\n",
              "    }\n",
              "  </style>\n",
              "\n",
              "      <script>\n",
              "        const buttonEl =\n",
              "          document.querySelector('#df-1893c80d-83aa-40e7-ace4-cc49e925467a button.colab-df-convert');\n",
              "        buttonEl.style.display =\n",
              "          google.colab.kernel.accessAllowed ? 'block' : 'none';\n",
              "\n",
              "        async function convertToInteractive(key) {\n",
              "          const element = document.querySelector('#df-1893c80d-83aa-40e7-ace4-cc49e925467a');\n",
              "          const dataTable =\n",
              "            await google.colab.kernel.invokeFunction('convertToInteractive',\n",
              "                                                     [key], {});\n",
              "          if (!dataTable) return;\n",
              "\n",
              "          const docLinkHtml = 'Like what you see? Visit the ' +\n",
              "            '<a target=\"_blank\" href=https://colab.research.google.com/notebooks/data_table.ipynb>data table notebook</a>'\n",
              "            + ' to learn more about interactive tables.';\n",
              "          element.innerHTML = '';\n",
              "          dataTable['output_type'] = 'display_data';\n",
              "          await google.colab.output.renderOutput(dataTable, element);\n",
              "          const docLink = document.createElement('div');\n",
              "          docLink.innerHTML = docLinkHtml;\n",
              "          element.appendChild(docLink);\n",
              "        }\n",
              "      </script>\n",
              "    </div>\n",
              "  </div>\n",
              "  "
            ]
          },
          "metadata": {},
          "execution_count": 8
        }
      ]
    },
    {
      "cell_type": "code",
      "source": [
        "series = DJIA_raw.iloc[:,4]"
      ],
      "metadata": {
        "id": "vTg-wdf-Vpbi"
      },
      "execution_count": 9,
      "outputs": []
    },
    {
      "cell_type": "code",
      "source": [
        "time = []\n",
        "for i in range(0, len(series)):\n",
        "  time.append(i)"
      ],
      "metadata": {
        "id": "4P3cPCrbVpVl"
      },
      "execution_count": 10,
      "outputs": []
    },
    {
      "cell_type": "markdown",
      "source": [
        "A helper function to plot the time series:"
      ],
      "metadata": {
        "id": "XQh2IH8Tl0Le"
      }
    },
    {
      "cell_type": "code",
      "source": [
        "def plot_series(time, series, format=\"-\", start=0, end=None):\n",
        "    plt.plot(time[start:end], series[start:end], format)\n",
        "    plt.xlabel(\"Time\")\n",
        "    plt.ylabel(\"Value\")\n",
        "    plt.grid(True)"
      ],
      "metadata": {
        "id": "qMGyMzGelzEW"
      },
      "execution_count": 11,
      "outputs": []
    },
    {
      "cell_type": "markdown",
      "metadata": {
        "id": "tT1tB8J1Enkd"
      },
      "source": [
        "The next cell will use functions to compute the `time` and `series` and will save these as numpy arrays within the `G` dataclass. This cell will also plot the time series:"
      ]
    },
    {
      "cell_type": "code",
      "execution_count": 12,
      "metadata": {
        "colab": {
          "base_uri": "https://localhost:8080/",
          "height": 388
        },
        "id": "R8UYoZlKEnke",
        "outputId": "b7e785f3-a103-4610-a7fc-3c684790eeea"
      },
      "outputs": [
        {
          "output_type": "display_data",
          "data": {
            "text/plain": [
              "<Figure size 720x432 with 1 Axes>"
            ],
            "image/png": "[encoded data removed]"
          },
          "metadata": {
            "needs_background": "light"
          }
        }
      ],
      "source": [
        "# Save all \"global\" variables within the G class (G stands for global)\n",
        "@dataclass\n",
        "class G:\n",
        "    TIME = np.array(time)\n",
        "    SERIES = np.array(series)\n",
        "    SPLIT_TIME = int((len(series)-150)*0.8)\n",
        "    WINDOW_SIZE = 250\n",
        "    BATCH_SIZE = 32\n",
        "    SHUFFLE_BUFFER_SIZE = 60\n",
        "\n",
        "plt.figure(figsize=(10, 6))\n",
        "plot_series(G.TIME, G.SERIES)\n",
        "plt.show()"
      ]
    },
    {
      "cell_type": "markdown",
      "metadata": {
        "id": "Y8U3ckcaEnke"
      },
      "source": [
        "## Processing the data\n",
        "\n",
        "The `train_val_split` and `windowed_dataset` functions:"
      ]
    },
    {
      "cell_type": "code",
      "execution_count": 13,
      "metadata": {
        "id": "3O7A_9XdEnkf"
      },
      "outputs": [],
      "source": [
        "def train_val_test_split(time, series, time_step=G.SPLIT_TIME):\n",
        "\n",
        "    time_train = time[:time_step]\n",
        "    series_train = series[:time_step]\n",
        "    time_valid = time[time_step:-150]\n",
        "    series_valid = series[time_step:-150]\n",
        "    time_test = time[-150:]\n",
        "    series_test = series[-150:]\n",
        "\n",
        "    return time_train, series_train, time_valid, series_valid, time_test, series_test\n",
        "\n",
        "# Split the dataset\n",
        "time_train, series_train, time_valid, series_valid, time_test, series_test = train_val_test_split(G.TIME, G.SERIES)"
      ]
    },
    {
      "cell_type": "markdown",
      "source": [
        "min-max normalization:"
      ],
      "metadata": {
        "id": "M8xZy3QTZD8e"
      }
    },
    {
      "cell_type": "code",
      "source": [
        "def min_max_normalization(series):\n",
        "  series = (series - min(series_train))/(max(series_train) - min(series_train))\n",
        "  return series"
      ],
      "metadata": {
        "id": "aRkvaM6AauAy"
      },
      "execution_count": 14,
      "outputs": []
    },
    {
      "cell_type": "code",
      "source": [
        "series_norm = min_max_normalization(G.SERIES)"
      ],
      "metadata": {
        "id": "UR8bYse7ZC-G"
      },
      "execution_count": 15,
      "outputs": []
    },
    {
      "cell_type": "code",
      "source": [
        "series_train_norm = series_norm[:G.SPLIT_TIME]\n",
        "series_valid_norm = series_norm[G.SPLIT_TIME:-150]\n",
        "series_test_norm = series_norm[-150:]"
      ],
      "metadata": {
        "id": "CQr8LSVw4BIV"
      },
      "execution_count": 16,
      "outputs": []
    },
    {
      "cell_type": "code",
      "source": [
        "plot_series(time_train, series_train_norm)"
      ],
      "metadata": {
        "colab": {
          "base_uri": "https://localhost:8080/",
          "height": 279
        },
        "id": "slIykxCnn9Eb",
        "outputId": "36ee07b3-76d6-40d6-afb4-6f9f0823bece"
      },
      "execution_count": 17,
      "outputs": [
        {
          "output_type": "display_data",
          "data": {
            "text/plain": [
              "<Figure size 432x288 with 1 Axes>"
            ],
            "image/png": "[encoded data removed]"
          },
          "metadata": {
            "needs_background": "light"
          }
        }
      ]
    },
    {
      "cell_type": "code",
      "source": [
        "plot_series(time_valid, series_valid_norm)"
      ],
      "metadata": {
        "colab": {
          "base_uri": "https://localhost:8080/",
          "height": 279
        },
        "id": "2dBiTEwnoPCf",
        "outputId": "3faad33f-9a2a-4d35-9a43-64b224b50663"
      },
      "execution_count": 18,
      "outputs": [
        {
          "output_type": "display_data",
          "data": {
            "text/plain": [
              "<Figure size 432x288 with 1 Axes>"
            ],
            "image/png": "[encoded data removed]"
          },
          "metadata": {
            "needs_background": "light"
          }
        }
      ]
    },
    {
      "cell_type": "code",
      "source": [
        "plot_series(time_test, series_test_norm)"
      ],
      "metadata": {
        "colab": {
          "base_uri": "https://localhost:8080/",
          "height": 279
        },
        "id": "bCGYGHZC4oSt",
        "outputId": "92422dd0-6cd2-4619-e135-a6380d42f2fb"
      },
      "execution_count": 19,
      "outputs": [
        {
          "output_type": "display_data",
          "data": {
            "text/plain": [
              "<Figure size 432x288 with 1 Axes>"
            ],
            "image/png": "[encoded data removed]"
          },
          "metadata": {
            "needs_background": "light"
          }
        }
      ]
    },
    {
      "cell_type": "code",
      "execution_count": 20,
      "metadata": {
        "id": "lJwUUZscnG38"
      },
      "outputs": [],
      "source": [
        "def windowed_dataset(series, window_size=G.WINDOW_SIZE, batch_size=G.BATCH_SIZE, shuffle_buffer=G.SHUFFLE_BUFFER_SIZE):\n",
        "    ds = tf.data.Dataset.from_tensor_slices(series)\n",
        "    ds = ds.window(window_size + 1, shift=1, drop_remainder=True)\n",
        "    ds = ds.flat_map(lambda w: w.batch(window_size + 1))\n",
        "    ds = ds.shuffle(shuffle_buffer) \n",
        "    ds = ds.map(lambda w: (w[:-1], w[-1]))\n",
        "    ds = ds.batch(batch_size).prefetch(1)\n",
        "    return ds\n",
        "\n",
        "\n",
        "train_set = windowed_dataset(series_train_norm, window_size=G.WINDOW_SIZE, batch_size=G.BATCH_SIZE, shuffle_buffer=G.SHUFFLE_BUFFER_SIZE)"
      ]
    },
    {
      "cell_type": "code",
      "source": [
        "# create val_set without using shuffle method.\n",
        "def windowed_dataset_noshuffle(series, window_size=G.WINDOW_SIZE, batch_size=G.BATCH_SIZE):\n",
        "    ds = tf.data.Dataset.from_tensor_slices(series)\n",
        "    ds = ds.window(window_size + 1, shift=1, drop_remainder=True)\n",
        "    ds = ds.flat_map(lambda w: w.batch(window_size + 1))\n",
        "    ds = ds.map(lambda w: (w[:-1], w[-1]))\n",
        "    ds = ds.batch(batch_size).prefetch(1)\n",
        "    return ds\n",
        "\n",
        "\n",
        "val_set = windowed_dataset_noshuffle(series_norm[G.SPLIT_TIME-G.WINDOW_SIZE:-150], window_size=G.WINDOW_SIZE, batch_size=G.BATCH_SIZE)"
      ],
      "metadata": {
        "id": "Uix6YCADP4wK"
      },
      "execution_count": 21,
      "outputs": []
    },
    {
      "cell_type": "code",
      "source": [
        "train_val_set = windowed_dataset(series_norm[0:-150], window_size=G.WINDOW_SIZE, batch_size=G.BATCH_SIZE, shuffle_buffer=G.SHUFFLE_BUFFER_SIZE)"
      ],
      "metadata": {
        "id": "IpORkzCcWykM"
      },
      "execution_count": 22,
      "outputs": []
    },
    {
      "cell_type": "markdown",
      "metadata": {
        "id": "E6stIQIqEnkh"
      },
      "source": [
        "## Compiling the model\n"
      ]
    },
    {
      "cell_type": "markdown",
      "metadata": {
        "id": "GaMon77MEnkf"
      },
      "source": [
        "## Defining the model architecture (CapsNet-LSTM)\n"
      ]
    },
    {
      "cell_type": "code",
      "source": [
        "# Squash function\n",
        "\n",
        "\n",
        "def squash(vectors, axis=-1):\n",
        "    \"\"\"\n",
        "    The non-linear activation used in Capsule. It drives the length of a large vector to near 1 and small vector to 0\n",
        "    :param vectors: some vectors to be squashed, N-dim tensor\n",
        "    :param axis: the axis to squash\n",
        "    :return: a Tensor with same shape as input vectors\n",
        "    \"\"\"\n",
        "    s_squared_norm = K.sum(K.square(vectors), axis, keepdims=True) \n",
        "    scale = s_squared_norm / (1 + s_squared_norm) / K.sqrt(s_squared_norm + K.epsilon())\n",
        "    return scale * vectors\n"
      ],
      "metadata": {
        "id": "NAPDHkls8FGx"
      },
      "execution_count": 23,
      "outputs": []
    },
    {
      "cell_type": "code",
      "source": [
        "# Dynamic routing (layer)\n",
        "#    The capsule layer. It is similar to Dense layer. Dense layer has `in_num` inputs, each is a scalar, the output of the \n",
        "#    neuron from the former layer, and it has `out_num` output neurons. CapsuleLayer just expand the output of the neuron\n",
        "#    from scalar to vector. So its input shape = [None, input_num_capsule, input_dim_capsule] and output shape = \\\n",
        "#    [None, num_capsule, dim_capsule]. For Dense Layer, input_dim_capsule = dim_capsule = 1.\n",
        "\n",
        "#    :param dim_capsule: dimension of the output vectors of the capsules in this layer\n",
        "#    :param routings: number of iterations for the routing algorithm \n",
        "\n",
        "class Routing(keras.layers.Layer):\n",
        "\n",
        "    def __init__(self, dim_capsule = 32 , routings=3, kernel_initializer='glorot_uniform'):\n",
        "        super(Routing, self).__init__()\n",
        "        self.dim_capsule = dim_capsule\n",
        "        self.routings = routings\n",
        "        self.kernel_initializer = initializers.get(kernel_initializer)\n",
        "\n",
        "\n",
        "    def build(self, input_shape):\n",
        "        # build tansform matrix which can convert one primary cap to a vector with the same order as the digit cap.\n",
        "        # assert len(input_shape) >= 3  # The input Tensor should have shape=[None, input_num_capsule, input_dim_capsule]\n",
        "        self.input_num_capsule = input_shape[1]\n",
        "        self.input_dim_capsule = input_shape[2]\n",
        "        \n",
        "        # Transform matrix\n",
        "       \n",
        "        self.W = self.add_weight(shape=[self.input_num_capsule,self.dim_capsule, self.input_dim_capsule],initializer=self.kernel_initializer,name='W')\n",
        "\n",
        "        #super().build(input_shape)\n",
        "        #self.built = True\n",
        "    \n",
        "\n",
        "    def call(self, inputs): #training=None\n",
        "        # inputs.shape=[input_num_capsule, input_dim_capsule]\n",
        "        # inputs_expand.shape=[input_num_capsule, input_dim_capsule, 1]\n",
        "        inputs_expand = K.expand_dims(inputs, -1)    \n",
        "\n",
        "        # Compute `inputs * W` by scanning inputs_tiled on dimension 0.\n",
        "        # x.shape=[None, input_num_capsule, input_dim_capsule, 1]\n",
        "        # W.shape=[input_num_capsule, dim_capsule, input_dim_capsule]\n",
        "        # Regard the first dimension as `batch` dimension,\n",
        "        # then matmul: [dim_capsule, input_dim_capsule] x [input_dim_capsule, 1] -> [dim_capsule].\n",
        "        # inputs_hat.shape = [None, input_num_capsule, dim_capsule, 1]     \n",
        "          \n",
        "        inputs_hat = K.map_fn(lambda x: K.batch_dot(self.W, x, [2, 1]), elems=inputs_expand) \n",
        "\n",
        "        inputs_hat = K.squeeze(inputs_hat, axis = -1)\n",
        "        # inputs_hat.shape = [None, input_num_capsule, dim_capsule]\n",
        "       \n",
        "        # Begin: Routing algorithm ---------------------------------------------------------------------#\n",
        "        # The prior for coupling coefficient, initialized as zeros.\n",
        "        # b.shape = [None, self.input_num_capsule].\n",
        "        b = tf.zeros(shape=[K.shape(inputs_hat)[0], self.input_num_capsule])\n",
        "        \n",
        "        assert self.routings > 0\n",
        "        for i in range(self.routings):\n",
        "            # c.shape=[batch_size, input_num_capsule]\n",
        "            c = tf.nn.softmax(b, axis=-1)\n",
        "\n",
        "            # c.shape =  [batch_size, input_num_capsule]\n",
        "            # inputs_hat.shape=[batch_size, input_num_capsule, dim_capsule]\n",
        "            # The first dimensions as `batch` dimension,\n",
        "            # then matmal: [input_num_capsule] x [input_num_capsule, dim_capsule] -> [dim_capsule].\n",
        "            # outputs.shape=[None, dim_capsule]\n",
        "            \n",
        "            #outputs = squash(K.batch_dot(c, inputs_hat, [1, 1])) \n",
        "            outputs = K.batch_dot(c, inputs_hat, [1, 1])\n",
        "\n",
        "            if i < self.routings - 1:\n",
        "                # outputs.shape =  [None, dim_capsule]\n",
        "                # inputs_hat.shape=[None, input_num_capsule, dim_capsule]\n",
        "                # The first dimension as `batch` dimension,\n",
        "                # then matmal: [dim_capsule] x [input_num_capsule, dim_capsule]^T -> [input_num_capsule].\n",
        "                # b.shape=[batch_size, input_num_capsule]\n",
        "                b += K.batch_dot(outputs, inputs_hat, [1, 2])\n",
        "       \n",
        "        # End: Routing algorithm -----------------------------------------------------------------------#\n",
        "\n",
        "        return outputs\n",
        "\n",
        "    def compute_output_shape(self, input_shape):\n",
        "        return tuple([None, self.dim_capsule])"
      ],
      "metadata": {
        "id": "n2SUkh9LAFqP"
      },
      "execution_count": 24,
      "outputs": []
    },
    {
      "cell_type": "code",
      "execution_count": 25,
      "metadata": {
        "id": "1Y12KaJYEnki"
      },
      "outputs": [],
      "source": [
        "def compute_metrics(true_series, forecast):\n",
        "    \n",
        "    mse = tf.keras.metrics.mean_squared_error(true_series, forecast).numpy()\n",
        "    mae = tf.keras.metrics.mean_absolute_error(true_series, forecast).numpy()\n",
        "\n",
        "    return mse, mae"
      ]
    },
    {
      "cell_type": "code",
      "execution_count": 26,
      "metadata": {
        "id": "4XwGrf-A_wF0"
      },
      "outputs": [],
      "source": [
        "def model_forecast(model, series, window_size):\n",
        "    ds = tf.data.Dataset.from_tensor_slices(series)\n",
        "    ds = ds.window(window_size, shift=1, drop_remainder=True)\n",
        "    ds = ds.flat_map(lambda w: w.batch(window_size))\n",
        "    ds = ds.batch(44).prefetch(1)\n",
        "    forecast = model.predict(ds)\n",
        "    return forecast"
      ]
    },
    {
      "cell_type": "code",
      "source": [
        "def reverse_normalization(series):\n",
        "  series = series * (max(series_train) - min(series_train)) + min(series_train)\n",
        "  return series"
      ],
      "metadata": {
        "id": "xG8kJO3blWny"
      },
      "execution_count": 27,
      "outputs": []
    },
    {
      "cell_type": "code",
      "source": [
        "input_shape = (G.WINDOW_SIZE, 1)"
      ],
      "metadata": {
        "id": "uh3dZo2eVk0K"
      },
      "execution_count": 28,
      "outputs": []
    },
    {
      "cell_type": "code",
      "source": [
        "K.clear_session()"
      ],
      "metadata": {
        "id": "-dD6KzvejX_o"
      },
      "execution_count": 29,
      "outputs": []
    },
    {
      "cell_type": "markdown",
      "source": [
        "### Tune hyper-parameters"
      ],
      "metadata": {
        "id": "HAgEm3Ue4PNF"
      }
    },
    {
      "cell_type": "code",
      "source": [
        "def build_CapsNet_LSTM(hp):\n",
        "   \n",
        "    input = tf.keras.layers.Input(shape=input_shape)\n",
        "      \n",
        "    # First layer\n",
        "    conv1d_1 = tf.keras.layers.Conv1D(filters=hp.Int('Conv1_units', 256, 1024, 256), kernel_size=2, strides=1, padding='causal', activation='relu', name = 'conv1d_1')(input)\n",
        "          \n",
        "    # Primary caps\n",
        "    conv1d_2 = tf.keras.layers.Conv1D(filters=512, kernel_size=2, strides=1, padding='causal',name = 'conv1d_2')(conv1d_1)\n",
        "\n",
        "    unsquashed_caps = tf.keras.layers.Reshape((G.WINDOW_SIZE, 64, 8))(conv1d_2)\n",
        "    squashed_caps = tf.keras.layers.Lambda(squash)(unsquashed_caps)\n",
        "\n",
        "    # Digit caps\n",
        "     \n",
        "    digit_caps = tf.keras.layers.TimeDistributed(Routing(dim_capsule = 512, routings = hp.Int('routings', 3, 5, 1)))(squashed_caps)\n",
        "\n",
        "    # LSTM layer\n",
        "    lstm = tf.keras.layers.LSTM(hp.Int('lstm_units', 150, 300, 50))(conv1d_2)\n",
        "\n",
        "    # Dense layer\n",
        "    dense1 = tf.keras.layers.Dense(hp.Int('dense1_units', 20, 50, 10), activation=\"relu\")(lstm)\n",
        "    dense2 = tf.keras.layers.Dense(hp.Int('dense2_units', 5, 20, 5), activation=\"relu\")(dense1)\n",
        "    output = tf.keras.layers.Dense(1)(dense2)\n",
        "\n",
        "    model = keras.Model(inputs=input, outputs=output, name=\"capsnet_lstm\")\n",
        "\n",
        "    learning_rate = hp.Float(\"lr\", min_value=1e-4, max_value=1e-2, sampling=\"log\")\n",
        "    model.compile(\n",
        "        optimizer=tf.keras.optimizers.Adam(learning_rate = learning_rate),\n",
        "        loss=tf.keras.losses.Huber(),\n",
        "        metrics=[\"mae\"])\n",
        "\n",
        "    return model"
      ],
      "metadata": {
        "id": "CV7ss5NiVBZy"
      },
      "execution_count": 30,
      "outputs": []
    },
    {
      "cell_type": "code",
      "source": [
        "build_CapsNet_LSTM(keras_tuner.HyperParameters())\n",
        "\n",
        "tuner_capsnet_lstm = keras_tuner.Hyperband(\n",
        "    hypermodel=build_CapsNet_LSTM,\n",
        "    objective=\"val_mae\",\n",
        "    max_epochs=2,\n",
        "    factor=3,\n",
        "    hyperband_iterations=1,\n",
        "    distribution_strategy=strategy,\n",
        "    directory=\"capsnet_lstm_results_dir\",\n",
        "    project_name=\"capsnet_lstm\",\n",
        "    overwrite=True)\n",
        "\n",
        "tuner_capsnet_lstm.search(train_set, epochs=2, validation_data=val_set)\n",
        "\n",
        "tuner_capsnet_lstm.results_summary()\n",
        "\n",
        "# Get the top 2 hyperparameters.\n",
        "best_hps_capsnet_lstm = tuner_capsnet_lstm.get_best_hyperparameters(5)\n",
        "# Build the model with the best hp.\n",
        "with strategy.scope():\n",
        "  capsnet_lstm_tune = build_CapsNet_LSTM(best_hps_capsnet_lstm[0])\n",
        "# Fit with the entire dataset.\n",
        "capsnet_lstm_tune.fit(train_val_set, epochs=50)"
      ],
      "metadata": {
        "id": "Clw6kk0hViJD",
        "outputId": "28632070-62b1-4aa1-c1f9-84bffa9e960f",
        "colab": {
          "base_uri": "https://localhost:8080/"
        }
      },
      "execution_count": 32,
      "outputs": [
        {
          "output_type": "stream",
          "name": "stdout",
          "text": [
            "Trial 2 Complete [00h 00m 30s]\n",
            "val_mae: 0.07669666409492493\n",
            "\n",
            "Best val_mae So Far: 0.06961216777563095\n",
            "Total elapsed time: 00h 01m 03s\n",
            "Results summary\n",
            "Results in capsnet_lstm_results_dir/capsnet_lstm\n",
            "Showing 10 best trials\n",
            "<keras_tuner.engine.objective.Objective object at 0x7fd808f36850>\n",
            "Trial summary\n",
            "Hyperparameters:\n",
            "Conv1_units: 768\n",
            "routings: 4\n",
            "lstm_units: 300\n",
            "dense1_units: 30\n",
            "dense2_units: 10\n",
            "lr: 0.0003668695602067161\n",
            "tuner/epochs: 2\n",
            "tuner/initial_epoch: 0\n",
            "tuner/bracket: 0\n",
            "tuner/round: 0\n",
            "Score: 0.06961216777563095\n",
            "Trial summary\n",
            "Hyperparameters:\n",
            "Conv1_units: 256\n",
            "routings: 4\n",
            "lstm_units: 250\n",
            "dense1_units: 30\n",
            "dense2_units: 10\n",
            "lr: 0.0011884477201024625\n",
            "tuner/epochs: 2\n",
            "tuner/initial_epoch: 0\n",
            "tuner/bracket: 0\n",
            "tuner/round: 0\n",
            "Score: 0.07669666409492493\n",
            "Epoch 1/50\n",
            "67/67 [==============================] - 20s 187ms/step - loss: 0.0022 - mae: 0.0493\n",
            "Epoch 2/50\n",
            "67/67 [==============================] - 8s 109ms/step - loss: 0.0012 - mae: 0.0368\n",
            "Epoch 3/50\n",
            "67/67 [==============================] - 8s 122ms/step - loss: 0.0014 - mae: 0.0404\n",
            "Epoch 4/50\n",
            "67/67 [==============================] - 8s 109ms/step - loss: 9.3934e-04 - mae: 0.0333\n",
            "Epoch 5/50\n",
            "67/67 [==============================] - 7s 111ms/step - loss: 3.9325e-04 - mae: 0.0202\n",
            "Epoch 6/50\n",
            "67/67 [==============================] - 7s 106ms/step - loss: 4.0048e-04 - mae: 0.0194\n",
            "Epoch 7/50\n",
            "67/67 [==============================] - 7s 106ms/step - loss: 3.2868e-04 - mae: 0.0188\n",
            "Epoch 8/50\n",
            "67/67 [==============================] - 8s 125ms/step - loss: 3.3999e-04 - mae: 0.0180\n",
            "Epoch 9/50\n",
            "67/67 [==============================] - 9s 139ms/step - loss: 4.0117e-04 - mae: 0.0205\n",
            "Epoch 10/50\n",
            "67/67 [==============================] - 8s 124ms/step - loss: 7.0351e-04 - mae: 0.0287\n",
            "Epoch 11/50\n",
            "67/67 [==============================] - 9s 139ms/step - loss: 6.5525e-04 - mae: 0.0277\n",
            "Epoch 12/50\n",
            "67/67 [==============================] - 9s 124ms/step - loss: 4.6599e-04 - mae: 0.0235\n",
            "Epoch 13/50\n",
            "67/67 [==============================] - 9s 138ms/step - loss: 2.5336e-04 - mae: 0.0162\n",
            "Epoch 14/50\n",
            "67/67 [==============================] - 7s 97ms/step - loss: 3.1391e-04 - mae: 0.0181\n",
            "Epoch 15/50\n",
            "67/67 [==============================] - 9s 135ms/step - loss: 3.8737e-04 - mae: 0.0197\n",
            "Epoch 16/50\n",
            "67/67 [==============================] - 8s 116ms/step - loss: 3.4557e-04 - mae: 0.0202\n",
            "Epoch 17/50\n",
            "67/67 [==============================] - 6s 85ms/step - loss: 3.2431e-04 - mae: 0.0192\n",
            "Epoch 18/50\n",
            "67/67 [==============================] - 8s 110ms/step - loss: 2.2412e-04 - mae: 0.0152\n",
            "Epoch 19/50\n",
            "67/67 [==============================] - 8s 117ms/step - loss: 3.1801e-04 - mae: 0.0186\n",
            "Epoch 20/50\n",
            "67/67 [==============================] - 10s 149ms/step - loss: 3.2616e-04 - mae: 0.0190\n",
            "Epoch 21/50\n",
            "67/67 [==============================] - 10s 144ms/step - loss: 4.4691e-04 - mae: 0.0226\n",
            "Epoch 22/50\n",
            "67/67 [==============================] - 9s 134ms/step - loss: 6.1005e-04 - mae: 0.0276\n",
            "Epoch 23/50\n",
            "67/67 [==============================] - 7s 103ms/step - loss: 3.5191e-04 - mae: 0.0200\n",
            "Epoch 24/50\n",
            "67/67 [==============================] - 10s 144ms/step - loss: 2.3421e-04 - mae: 0.0167\n",
            "Epoch 25/50\n",
            "67/67 [==============================] - 7s 104ms/step - loss: 1.6249e-04 - mae: 0.0131\n",
            "Epoch 26/50\n",
            "67/67 [==============================] - 10s 147ms/step - loss: 1.9867e-04 - mae: 0.0140\n",
            "Epoch 27/50\n",
            "67/67 [==============================] - 11s 156ms/step - loss: 1.8928e-04 - mae: 0.0139\n",
            "Epoch 28/50\n",
            "67/67 [==============================] - 10s 150ms/step - loss: 2.3527e-04 - mae: 0.0148\n",
            "Epoch 29/50\n",
            "67/67 [==============================] - 10s 137ms/step - loss: 2.8761e-04 - mae: 0.0180\n",
            "Epoch 30/50\n",
            "67/67 [==============================] - 8s 108ms/step - loss: 4.7645e-04 - mae: 0.0229\n",
            "Epoch 31/50\n",
            "67/67 [==============================] - 10s 139ms/step - loss: 3.5153e-04 - mae: 0.0206\n",
            "Epoch 32/50\n",
            "67/67 [==============================] - 11s 154ms/step - loss: 2.2082e-04 - mae: 0.0159\n",
            "Epoch 33/50\n",
            "67/67 [==============================] - 8s 113ms/step - loss: 1.7076e-04 - mae: 0.0135\n",
            "Epoch 34/50\n",
            "67/67 [==============================] - 9s 138ms/step - loss: 2.1289e-04 - mae: 0.0156\n",
            "Epoch 35/50\n",
            "67/67 [==============================] - 10s 149ms/step - loss: 1.6716e-04 - mae: 0.0134\n",
            "Epoch 36/50\n",
            "67/67 [==============================] - 10s 140ms/step - loss: 1.5457e-04 - mae: 0.0125\n",
            "Epoch 37/50\n",
            "67/67 [==============================] - 9s 136ms/step - loss: 1.7803e-04 - mae: 0.0139\n",
            "Epoch 38/50\n",
            "67/67 [==============================] - 8s 111ms/step - loss: 1.6249e-04 - mae: 0.0130\n",
            "Epoch 39/50\n",
            "67/67 [==============================] - 8s 118ms/step - loss: 1.5120e-04 - mae: 0.0129\n",
            "Epoch 40/50\n",
            "67/67 [==============================] - 9s 136ms/step - loss: 1.4474e-04 - mae: 0.0119\n",
            "Epoch 41/50\n",
            "67/67 [==============================] - 7s 108ms/step - loss: 1.6372e-04 - mae: 0.0128\n",
            "Epoch 42/50\n",
            "67/67 [==============================] - 10s 136ms/step - loss: 1.2293e-04 - mae: 0.0112\n",
            "Epoch 43/50\n",
            "67/67 [==============================] - 7s 111ms/step - loss: 1.6039e-04 - mae: 0.0124\n",
            "Epoch 44/50\n",
            "67/67 [==============================] - 7s 103ms/step - loss: 1.7929e-04 - mae: 0.0146\n",
            "Epoch 45/50\n",
            "67/67 [==============================] - 6s 85ms/step - loss: 1.7113e-04 - mae: 0.0141\n",
            "Epoch 46/50\n",
            "67/67 [==============================] - 7s 109ms/step - loss: 1.1104e-04 - mae: 0.0106\n",
            "Epoch 47/50\n",
            "67/67 [==============================] - 7s 107ms/step - loss: 1.5338e-04 - mae: 0.0135\n",
            "Epoch 48/50\n",
            "67/67 [==============================] - 9s 126ms/step - loss: 1.0701e-04 - mae: 0.0105\n",
            "Epoch 49/50\n",
            "67/67 [==============================] - 7s 112ms/step - loss: 1.1022e-04 - mae: 0.0109\n",
            "Epoch 50/50\n",
            "67/67 [==============================] - 8s 114ms/step - loss: 1.4948e-04 - mae: 0.0129\n"
          ]
        },
        {
          "output_type": "execute_result",
          "data": {
            "text/plain": [
              "<keras.callbacks.History at 0x7fd804766390>"
            ]
          },
          "metadata": {},
          "execution_count": 32
        }
      ]
    },
    {
      "cell_type": "code",
      "execution_count": 33,
      "metadata": {
        "colab": {
          "base_uri": "https://localhost:8080/",
          "height": 388
        },
        "outputId": "cf6efcf7-4196-4a3a-f6fd-f01392de3d02",
        "id": "yEiYgYaA28PR"
      },
      "outputs": [
        {
          "output_type": "display_data",
          "data": {
            "text/plain": [
              "<Figure size 720x432 with 1 Axes>"
            ],
            "image/png": "[encoded data removed]"
          },
          "metadata": {
            "needs_background": "light"
          }
        }
      ],
      "source": [
        "# Compute the forecast for all the series\n",
        "capsnet_lstm_forecast = model_forecast(capsnet_lstm_tune, series_norm, G.WINDOW_SIZE).squeeze()\n",
        "\n",
        "# Slice the forecast to get only the predictions for the validation set\n",
        "series_test_hat_capsnet_lstm_tune = capsnet_lstm_forecast[-150:]\n",
        "# reverse normalization\n",
        "# series_test_hat = reverse_normalization(cnn_lstm_forecast)\n",
        "series_test_hat_capsnet_lstm_tune = reverse_normalization(series_test_hat_capsnet_lstm_tune)\n",
        "# Plot the forecast\n",
        "plt.figure(figsize=(10, 6))\n",
        "plot_series(time_test, series_test)\n",
        "plot_series(time_test, series_test_hat_capsnet_lstm_tune)"
      ]
    },
    {
      "cell_type": "code",
      "execution_count": 35,
      "metadata": {
        "colab": {
          "base_uri": "https://localhost:8080/"
        },
        "outputId": "11f655c7-e7f9-4674-dd3c-4cc56d93946b",
        "id": "OmelEr6a3I70"
      },
      "outputs": [
        {
          "output_type": "stream",
          "name": "stdout",
          "text": [
            "mse: 53159.41, mae: 213.95 for forecast\n"
          ]
        }
      ],
      "source": [
        "mse_capsnet_lstm_tune, mae_capsnet_lstm_tune = compute_metrics(series_test, series_test_hat)\n",
        "\n",
        "print(f\"mse: {mse_capsnet_lstm_tune:.2f}, mae: {mae_capsnet_lstm_tune:.2f} for forecast\")"
      ]
    },
    {
      "cell_type": "markdown",
      "source": [
        "### Build CapsNet-LSTM"
      ],
      "metadata": {
        "id": "_p0mPdSUDQhB"
      }
    },
    {
      "cell_type": "code",
      "source": [
        "# Adopt the optimal hyper-parameters\n",
        "def CapsNet_LSTM(input_shape = (G.WINDOW_SIZE, 1), input_num_capsule =64, input_dim_capsule =8, dim_capsule = 512, routings =4):\n",
        "    \n",
        "      input = tf.keras.layers.Input(shape=input_shape)\n",
        "      \n",
        "      # First layer\n",
        "      conv1d_1 = tf.keras.layers.Conv1D(filters=256, kernel_size=2, strides=1, padding='causal', activation='relu', name = 'conv1d_1')(input)\n",
        "          \n",
        "      # Primary caps\n",
        "      conv1d_2 = tf.keras.layers.Conv1D(filters=512, kernel_size=2, strides=1, padding='causal',name = 'conv1d_2')(conv1d_1)\n",
        "      \n",
        "      unsquashed_caps = tf.keras.layers.Reshape((G.WINDOW_SIZE, input_num_capsule, input_dim_capsule))(conv1d_2)\n",
        "      #squashed_caps = tf.keras.layers.Lambda(squash)(unsquashed_caps)\n",
        "\n",
        "      # Digit caps\n",
        "\n",
        "      digit_caps = tf.keras.layers.TimeDistributed(Routing(dim_capsule = dim_capsule, routings = routings))(unsquashed_caps)\n",
        "\n",
        "      # LSTM layer\n",
        "      lstm = tf.keras.layers.LSTM(250)(digit_caps)\n",
        "\n",
        "      # Dense layer\n",
        "      dense1 = tf.keras.layers.Dense(30, activation=\"relu\")(lstm)\n",
        "      dense2 = tf.keras.layers.Dense(20, activation=\"relu\")(dense1)\n",
        "      output = tf.keras.layers.Dense(1)(dense2)\n",
        "\n",
        "      model = keras.Model(inputs=input, outputs=output, name=\"capsnet_lstm\")\n",
        "\n",
        "      model.summary()   \n",
        "      return model"
      ],
      "metadata": {
        "id": "0yZMvGxYbacl"
      },
      "execution_count": 36,
      "outputs": []
    },
    {
      "cell_type": "code",
      "source": [
        "with strategy.scope():\n",
        "  \n",
        "  capsnet_lstm_val = CapsNet_LSTM(input_shape)\n",
        "  capsnet_lstm_val.compile(loss=tf.keras.losses.Huber(), optimizer=tf.keras.optimizers.Adam(learning_rate = 0.000527), metrics=[\"mae\"])\n",
        "\n",
        "# Fit with the entire dataset.\n",
        "history = capsnet_lstm_val.fit(train_set, epochs=200, validation_data = val_set)"
      ],
      "metadata": {
        "id": "6ckwSR7AuDaG",
        "outputId": "4dc95b1c-21fc-449d-fb95-bcd8ba3d940b",
        "colab": {
          "base_uri": "https://localhost:8080/"
        }
      },
      "execution_count": 37,
      "outputs": [
        {
          "output_type": "stream",
          "name": "stdout",
          "text": [
            "Model: \"capsnet_lstm\"\n",
            "_________________________________________________________________\n",
            " Layer (type)                Output Shape              Param #   \n",
            "=================================================================\n",
            " input_3 (InputLayer)        [(None, 250, 1)]          0         \n",
            "                                                                 \n",
            " conv1d_1 (Conv1D)           (None, 250, 256)          768       \n",
            "                                                                 \n",
            " conv1d_2 (Conv1D)           (None, 250, 512)          262656    \n",
            "                                                                 \n",
            " reshape_2 (Reshape)         (None, 250, 64, 8)        0         \n",
            "                                                                 \n",
            " time_distributed_2 (TimeDis  (None, 250, 512)         262144    \n",
            " tributed)                                                       \n",
            "                                                                 \n",
            " lstm_2 (LSTM)               (None, 250)               763000    \n",
            "                                                                 \n",
            " dense_6 (Dense)             (None, 30)                7530      \n",
            "                                                                 \n",
            " dense_7 (Dense)             (None, 20)                620       \n",
            "                                                                 \n",
            " dense_8 (Dense)             (None, 1)                 21        \n",
            "                                                                 \n",
            "=================================================================\n",
            "Total params: 1,296,739\n",
            "Trainable params: 1,296,739\n",
            "Non-trainable params: 0\n",
            "_________________________________________________________________\n",
            "Epoch 1/200\n",
            "52/52 [==============================] - 28s 361ms/step - loss: 0.0053 - mae: 0.0821 - val_loss: 0.0294 - val_mae: 0.2291\n",
            "Epoch 2/200\n",
            "52/52 [==============================] - 14s 266ms/step - loss: 0.0213 - mae: 0.1693 - val_loss: 0.0222 - val_mae: 0.1973\n",
            "Epoch 3/200\n",
            "52/52 [==============================] - 14s 264ms/step - loss: 0.0249 - mae: 0.1877 - val_loss: 0.0021 - val_mae: 0.0503\n",
            "Epoch 4/200\n",
            "52/52 [==============================] - 15s 277ms/step - loss: 0.0210 - mae: 0.1691 - val_loss: 0.0034 - val_mae: 0.0702\n",
            "Epoch 5/200\n",
            "52/52 [==============================] - 15s 284ms/step - loss: 0.0104 - mae: 0.1160 - val_loss: 0.0024 - val_mae: 0.0616\n",
            "Epoch 6/200\n",
            "52/52 [==============================] - 15s 298ms/step - loss: 0.0015 - mae: 0.0370 - val_loss: 7.8080e-04 - val_mae: 0.0334\n",
            "Epoch 7/200\n",
            "52/52 [==============================] - 16s 305ms/step - loss: 3.7460e-04 - mae: 0.0210 - val_loss: 7.0991e-04 - val_mae: 0.0309\n",
            "Epoch 8/200\n",
            "52/52 [==============================] - 15s 281ms/step - loss: 2.9460e-04 - mae: 0.0168 - val_loss: 6.3555e-04 - val_mae: 0.0290\n",
            "Epoch 9/200\n",
            "52/52 [==============================] - 15s 289ms/step - loss: 2.4355e-04 - mae: 0.0165 - val_loss: 5.9435e-04 - val_mae: 0.0278\n",
            "Epoch 10/200\n",
            "52/52 [==============================] - 15s 288ms/step - loss: 2.2000e-04 - mae: 0.0152 - val_loss: 7.0051e-04 - val_mae: 0.0309\n",
            "Epoch 11/200\n",
            "52/52 [==============================] - 15s 278ms/step - loss: 1.9668e-04 - mae: 0.0146 - val_loss: 7.8726e-04 - val_mae: 0.0332\n",
            "Epoch 12/200\n",
            "52/52 [==============================] - 16s 290ms/step - loss: 1.8806e-04 - mae: 0.0142 - val_loss: 8.8576e-04 - val_mae: 0.0357\n",
            "Epoch 13/200\n",
            "52/52 [==============================] - 16s 292ms/step - loss: 1.7631e-04 - mae: 0.0139 - val_loss: 0.0011 - val_mae: 0.0401\n",
            "Epoch 14/200\n",
            "52/52 [==============================] - 15s 292ms/step - loss: 1.6850e-04 - mae: 0.0136 - val_loss: 0.0011 - val_mae: 0.0400\n",
            "Epoch 15/200\n",
            "52/52 [==============================] - 16s 305ms/step - loss: 1.6191e-04 - mae: 0.0136 - val_loss: 0.0015 - val_mae: 0.0481\n",
            "Epoch 16/200\n",
            "52/52 [==============================] - 14s 265ms/step - loss: 1.5502e-04 - mae: 0.0131 - val_loss: 0.0013 - val_mae: 0.0440\n",
            "Epoch 17/200\n",
            "52/52 [==============================] - 15s 296ms/step - loss: 1.4778e-04 - mae: 0.0129 - val_loss: 0.0018 - val_mae: 0.0526\n",
            "Epoch 18/200\n",
            "52/52 [==============================] - 15s 291ms/step - loss: 1.4271e-04 - mae: 0.0128 - val_loss: 0.0020 - val_mae: 0.0565\n",
            "Epoch 19/200\n",
            "52/52 [==============================] - 16s 314ms/step - loss: 1.4978e-04 - mae: 0.0130 - val_loss: 0.0018 - val_mae: 0.0537\n",
            "Epoch 20/200\n",
            "52/52 [==============================] - 15s 285ms/step - loss: 1.4464e-04 - mae: 0.0128 - val_loss: 0.0015 - val_mae: 0.0475\n",
            "Epoch 21/200\n",
            "52/52 [==============================] - 14s 277ms/step - loss: 1.3296e-04 - mae: 0.0122 - val_loss: 0.0013 - val_mae: 0.0432\n",
            "Epoch 22/200\n",
            "52/52 [==============================] - 17s 319ms/step - loss: 1.2822e-04 - mae: 0.0121 - val_loss: 0.0013 - val_mae: 0.0437\n",
            "Epoch 23/200\n",
            "52/52 [==============================] - 15s 277ms/step - loss: 1.3108e-04 - mae: 0.0123 - val_loss: 9.1944e-04 - val_mae: 0.0358\n",
            "Epoch 24/200\n",
            "52/52 [==============================] - 16s 315ms/step - loss: 1.2493e-04 - mae: 0.0119 - val_loss: 0.0013 - val_mae: 0.0430\n",
            "Epoch 25/200\n",
            "52/52 [==============================] - 15s 285ms/step - loss: 1.2313e-04 - mae: 0.0118 - val_loss: 0.0015 - val_mae: 0.0489\n",
            "Epoch 26/200\n",
            "52/52 [==============================] - 17s 333ms/step - loss: 1.2175e-04 - mae: 0.0117 - val_loss: 0.0016 - val_mae: 0.0492\n",
            "Epoch 27/200\n",
            "52/52 [==============================] - 16s 298ms/step - loss: 1.2872e-04 - mae: 0.0123 - val_loss: 0.0013 - val_mae: 0.0446\n",
            "Epoch 28/200\n",
            "52/52 [==============================] - 16s 314ms/step - loss: 1.5678e-04 - mae: 0.0137 - val_loss: 9.2198e-04 - val_mae: 0.0358\n",
            "Epoch 29/200\n",
            "52/52 [==============================] - 16s 302ms/step - loss: 1.3408e-04 - mae: 0.0123 - val_loss: 0.0019 - val_mae: 0.0546\n",
            "Epoch 30/200\n",
            "52/52 [==============================] - 15s 288ms/step - loss: 1.2345e-04 - mae: 0.0119 - val_loss: 0.0022 - val_mae: 0.0588\n",
            "Epoch 31/200\n",
            "52/52 [==============================] - 17s 327ms/step - loss: 1.4982e-04 - mae: 0.0134 - val_loss: 0.0026 - val_mae: 0.0655\n",
            "Epoch 32/200\n",
            "52/52 [==============================] - 15s 297ms/step - loss: 1.6324e-04 - mae: 0.0141 - val_loss: 0.0021 - val_mae: 0.0575\n",
            "Epoch 33/200\n",
            "52/52 [==============================] - 14s 274ms/step - loss: 1.5909e-04 - mae: 0.0139 - val_loss: 0.0027 - val_mae: 0.0663\n",
            "Epoch 34/200\n",
            "52/52 [==============================] - 15s 287ms/step - loss: 1.9865e-04 - mae: 0.0159 - val_loss: 0.0030 - val_mae: 0.0700\n",
            "Epoch 35/200\n",
            "52/52 [==============================] - 15s 285ms/step - loss: 1.7486e-04 - mae: 0.0148 - val_loss: 0.0034 - val_mae: 0.0757\n",
            "Epoch 36/200\n",
            "52/52 [==============================] - 15s 282ms/step - loss: 2.1814e-04 - mae: 0.0166 - val_loss: 0.0025 - val_mae: 0.0633\n",
            "Epoch 37/200\n",
            "52/52 [==============================] - 15s 296ms/step - loss: 2.0588e-04 - mae: 0.0158 - val_loss: 0.0031 - val_mae: 0.0713\n",
            "Epoch 38/200\n",
            "52/52 [==============================] - 16s 303ms/step - loss: 1.5796e-04 - mae: 0.0139 - val_loss: 0.0036 - val_mae: 0.0782\n",
            "Epoch 39/200\n",
            "52/52 [==============================] - 14s 269ms/step - loss: 1.3257e-04 - mae: 0.0125 - val_loss: 0.0023 - val_mae: 0.0595\n",
            "Epoch 40/200\n",
            "52/52 [==============================] - 16s 300ms/step - loss: 1.2986e-04 - mae: 0.0121 - val_loss: 0.0023 - val_mae: 0.0613\n",
            "Epoch 41/200\n",
            "52/52 [==============================] - 16s 303ms/step - loss: 1.1782e-04 - mae: 0.0117 - val_loss: 0.0022 - val_mae: 0.0591\n",
            "Epoch 42/200\n",
            "52/52 [==============================] - 13s 249ms/step - loss: 1.1167e-04 - mae: 0.0112 - val_loss: 0.0021 - val_mae: 0.0578\n",
            "Epoch 43/200\n",
            "52/52 [==============================] - 16s 301ms/step - loss: 1.1770e-04 - mae: 0.0115 - val_loss: 0.0022 - val_mae: 0.0592\n",
            "Epoch 44/200\n",
            "52/52 [==============================] - 14s 269ms/step - loss: 1.1117e-04 - mae: 0.0112 - val_loss: 0.0024 - val_mae: 0.0623\n",
            "Epoch 45/200\n",
            "52/52 [==============================] - 18s 343ms/step - loss: 1.2672e-04 - mae: 0.0121 - val_loss: 0.0034 - val_mae: 0.0758\n",
            "Epoch 46/200\n",
            "52/52 [==============================] - 15s 278ms/step - loss: 1.2521e-04 - mae: 0.0121 - val_loss: 0.0028 - val_mae: 0.0685\n",
            "Epoch 47/200\n",
            "52/52 [==============================] - 18s 337ms/step - loss: 1.5635e-04 - mae: 0.0137 - val_loss: 0.0033 - val_mae: 0.0745\n",
            "Epoch 48/200\n",
            "52/52 [==============================] - 15s 289ms/step - loss: 1.4765e-04 - mae: 0.0134 - val_loss: 0.0042 - val_mae: 0.0857\n",
            "Epoch 49/200\n",
            "52/52 [==============================] - 18s 348ms/step - loss: 1.6564e-04 - mae: 0.0142 - val_loss: 0.0030 - val_mae: 0.0712\n",
            "Epoch 50/200\n",
            "52/52 [==============================] - 15s 299ms/step - loss: 1.8677e-04 - mae: 0.0149 - val_loss: 0.0027 - val_mae: 0.0668\n",
            "Epoch 51/200\n",
            "52/52 [==============================] - 15s 275ms/step - loss: 1.6557e-04 - mae: 0.0141 - val_loss: 0.0026 - val_mae: 0.0660\n",
            "Epoch 52/200\n",
            "52/52 [==============================] - 15s 282ms/step - loss: 1.5216e-04 - mae: 0.0134 - val_loss: 0.0022 - val_mae: 0.0602\n",
            "Epoch 53/200\n",
            "52/52 [==============================] - 15s 298ms/step - loss: 1.4412e-04 - mae: 0.0134 - val_loss: 0.0013 - val_mae: 0.0441\n",
            "Epoch 54/200\n",
            "52/52 [==============================] - 16s 293ms/step - loss: 1.3073e-04 - mae: 0.0123 - val_loss: 0.0015 - val_mae: 0.0489\n",
            "Epoch 55/200\n",
            "52/52 [==============================] - 18s 336ms/step - loss: 1.0964e-04 - mae: 0.0111 - val_loss: 7.4980e-04 - val_mae: 0.0326\n",
            "Epoch 56/200\n",
            "52/52 [==============================] - 16s 305ms/step - loss: 1.0132e-04 - mae: 0.0106 - val_loss: 8.4199e-04 - val_mae: 0.0353\n",
            "Epoch 57/200\n",
            "52/52 [==============================] - 18s 338ms/step - loss: 1.0308e-04 - mae: 0.0107 - val_loss: 7.1114e-04 - val_mae: 0.0319\n",
            "Epoch 58/200\n",
            "52/52 [==============================] - 18s 346ms/step - loss: 1.1303e-04 - mae: 0.0114 - val_loss: 3.7155e-04 - val_mae: 0.0214\n",
            "Epoch 59/200\n",
            "52/52 [==============================] - 16s 315ms/step - loss: 1.0855e-04 - mae: 0.0112 - val_loss: 0.0011 - val_mae: 0.0415\n",
            "Epoch 60/200\n",
            "52/52 [==============================] - 15s 286ms/step - loss: 1.1840e-04 - mae: 0.0117 - val_loss: 4.2484e-04 - val_mae: 0.0234\n",
            "Epoch 61/200\n",
            "52/52 [==============================] - 15s 296ms/step - loss: 1.0083e-04 - mae: 0.0107 - val_loss: 4.6802e-04 - val_mae: 0.0248\n",
            "Epoch 62/200\n",
            "52/52 [==============================] - 15s 277ms/step - loss: 1.0885e-04 - mae: 0.0110 - val_loss: 9.8648e-04 - val_mae: 0.0397\n",
            "Epoch 63/200\n",
            "52/52 [==============================] - 14s 266ms/step - loss: 1.2969e-04 - mae: 0.0125 - val_loss: 6.5720e-04 - val_mae: 0.0305\n",
            "Epoch 64/200\n",
            "52/52 [==============================] - 17s 329ms/step - loss: 1.3614e-04 - mae: 0.0128 - val_loss: 8.0861e-04 - val_mae: 0.0354\n",
            "Epoch 65/200\n",
            "52/52 [==============================] - 15s 285ms/step - loss: 9.6615e-05 - mae: 0.0105 - val_loss: 7.9647e-04 - val_mae: 0.0344\n",
            "Epoch 66/200\n",
            "52/52 [==============================] - 14s 277ms/step - loss: 1.2278e-04 - mae: 0.0120 - val_loss: 0.0013 - val_mae: 0.0457\n",
            "Epoch 67/200\n",
            "52/52 [==============================] - 15s 287ms/step - loss: 1.4756e-04 - mae: 0.0133 - val_loss: 0.0011 - val_mae: 0.0404\n",
            "Epoch 68/200\n",
            "52/52 [==============================] - 15s 295ms/step - loss: 2.3268e-04 - mae: 0.0169 - val_loss: 0.0013 - val_mae: 0.0465\n",
            "Epoch 69/200\n",
            "52/52 [==============================] - 15s 280ms/step - loss: 2.3954e-04 - mae: 0.0174 - val_loss: 5.8404e-04 - val_mae: 0.0284\n",
            "Epoch 70/200\n",
            "52/52 [==============================] - 17s 313ms/step - loss: 2.9801e-04 - mae: 0.0188 - val_loss: 4.1999e-04 - val_mae: 0.0236\n",
            "Epoch 71/200\n",
            "52/52 [==============================] - 13s 252ms/step - loss: 1.8226e-04 - mae: 0.0148 - val_loss: 2.5995e-04 - val_mae: 0.0166\n",
            "Epoch 72/200\n",
            "52/52 [==============================] - 16s 303ms/step - loss: 1.5139e-04 - mae: 0.0135 - val_loss: 2.4790e-04 - val_mae: 0.0157\n",
            "Epoch 73/200\n",
            "52/52 [==============================] - 14s 261ms/step - loss: 1.0154e-04 - mae: 0.0109 - val_loss: 2.5347e-04 - val_mae: 0.0162\n",
            "Epoch 74/200\n",
            "52/52 [==============================] - 16s 291ms/step - loss: 1.0223e-04 - mae: 0.0108 - val_loss: 5.0253e-04 - val_mae: 0.0269\n",
            "Epoch 75/200\n",
            "52/52 [==============================] - 16s 307ms/step - loss: 1.0010e-04 - mae: 0.0107 - val_loss: 5.4211e-04 - val_mae: 0.0282\n",
            "Epoch 76/200\n",
            "52/52 [==============================] - 17s 321ms/step - loss: 1.1340e-04 - mae: 0.0117 - val_loss: 6.2003e-04 - val_mae: 0.0301\n",
            "Epoch 77/200\n",
            "52/52 [==============================] - 14s 277ms/step - loss: 1.4204e-04 - mae: 0.0132 - val_loss: 7.7017e-04 - val_mae: 0.0339\n",
            "Epoch 78/200\n",
            "52/52 [==============================] - 17s 329ms/step - loss: 1.9692e-04 - mae: 0.0157 - val_loss: 0.0010 - val_mae: 0.0409\n",
            "Epoch 79/200\n",
            "52/52 [==============================] - 18s 329ms/step - loss: 2.1088e-04 - mae: 0.0166 - val_loss: 2.7417e-04 - val_mae: 0.0178\n",
            "Epoch 80/200\n",
            "52/52 [==============================] - 16s 301ms/step - loss: 2.7364e-04 - mae: 0.0185 - val_loss: 5.2385e-04 - val_mae: 0.0277\n",
            "Epoch 81/200\n",
            "52/52 [==============================] - 16s 317ms/step - loss: 1.5674e-04 - mae: 0.0138 - val_loss: 4.7827e-04 - val_mae: 0.0258\n",
            "Epoch 82/200\n",
            "52/52 [==============================] - 17s 328ms/step - loss: 1.6088e-04 - mae: 0.0139 - val_loss: 2.9046e-04 - val_mae: 0.0185\n",
            "Epoch 83/200\n",
            "52/52 [==============================] - 17s 318ms/step - loss: 1.2739e-04 - mae: 0.0125 - val_loss: 3.0813e-04 - val_mae: 0.0183\n",
            "Epoch 84/200\n",
            "52/52 [==============================] - 15s 295ms/step - loss: 1.1456e-04 - mae: 0.0115 - val_loss: 3.0033e-04 - val_mae: 0.0192\n",
            "Epoch 85/200\n",
            "52/52 [==============================] - 16s 317ms/step - loss: 8.3362e-05 - mae: 0.0095 - val_loss: 2.2773e-04 - val_mae: 0.0153\n",
            "Epoch 86/200\n",
            "52/52 [==============================] - 15s 279ms/step - loss: 8.1296e-05 - mae: 0.0094 - val_loss: 2.8841e-04 - val_mae: 0.0189\n",
            "Epoch 87/200\n",
            "52/52 [==============================] - 15s 290ms/step - loss: 8.2627e-05 - mae: 0.0096 - val_loss: 5.3156e-04 - val_mae: 0.0284\n",
            "Epoch 88/200\n",
            "52/52 [==============================] - 16s 307ms/step - loss: 8.9437e-05 - mae: 0.0101 - val_loss: 5.6214e-04 - val_mae: 0.0291\n",
            "Epoch 89/200\n",
            "52/52 [==============================] - 14s 278ms/step - loss: 1.0803e-04 - mae: 0.0112 - val_loss: 2.2286e-04 - val_mae: 0.0148\n",
            "Epoch 90/200\n",
            "52/52 [==============================] - 17s 313ms/step - loss: 9.6453e-05 - mae: 0.0106 - val_loss: 5.4400e-04 - val_mae: 0.0290\n",
            "Epoch 91/200\n",
            "52/52 [==============================] - 16s 300ms/step - loss: 7.9178e-05 - mae: 0.0093 - val_loss: 0.0011 - val_mae: 0.0421\n",
            "Epoch 92/200\n",
            "52/52 [==============================] - 15s 281ms/step - loss: 8.8592e-05 - mae: 0.0101 - val_loss: 3.2487e-04 - val_mae: 0.0203\n",
            "Epoch 93/200\n",
            "52/52 [==============================] - 17s 331ms/step - loss: 1.1048e-04 - mae: 0.0114 - val_loss: 3.5277e-04 - val_mae: 0.0220\n",
            "Epoch 94/200\n",
            "52/52 [==============================] - 16s 310ms/step - loss: 9.7043e-05 - mae: 0.0107 - val_loss: 2.2123e-04 - val_mae: 0.0148\n",
            "Epoch 95/200\n",
            "52/52 [==============================] - 16s 299ms/step - loss: 8.2260e-05 - mae: 0.0096 - val_loss: 4.3159e-04 - val_mae: 0.0252\n",
            "Epoch 96/200\n",
            "52/52 [==============================] - 13s 258ms/step - loss: 8.2768e-05 - mae: 0.0095 - val_loss: 5.1403e-04 - val_mae: 0.0275\n",
            "Epoch 97/200\n",
            "52/52 [==============================] - 14s 267ms/step - loss: 1.1576e-04 - mae: 0.0118 - val_loss: 5.1340e-04 - val_mae: 0.0279\n",
            "Epoch 98/200\n",
            "52/52 [==============================] - 15s 286ms/step - loss: 1.1046e-04 - mae: 0.0116 - val_loss: 4.0341e-04 - val_mae: 0.0240\n",
            "Epoch 99/200\n",
            "52/52 [==============================] - 16s 306ms/step - loss: 8.9366e-05 - mae: 0.0103 - val_loss: 8.0796e-04 - val_mae: 0.0362\n",
            "Epoch 100/200\n",
            "52/52 [==============================] - 16s 312ms/step - loss: 1.2949e-04 - mae: 0.0123 - val_loss: 2.4675e-04 - val_mae: 0.0169\n",
            "Epoch 101/200\n",
            "52/52 [==============================] - 14s 263ms/step - loss: 1.2625e-04 - mae: 0.0123 - val_loss: 2.4479e-04 - val_mae: 0.0169\n",
            "Epoch 102/200\n",
            "52/52 [==============================] - 17s 337ms/step - loss: 1.5851e-04 - mae: 0.0144 - val_loss: 2.0375e-04 - val_mae: 0.0141\n",
            "Epoch 103/200\n",
            "52/52 [==============================] - 16s 308ms/step - loss: 1.5697e-04 - mae: 0.0137 - val_loss: 2.2891e-04 - val_mae: 0.0160\n",
            "Epoch 104/200\n",
            "52/52 [==============================] - 15s 291ms/step - loss: 1.9036e-04 - mae: 0.0157 - val_loss: 2.9942e-04 - val_mae: 0.0178\n",
            "Epoch 105/200\n",
            "52/52 [==============================] - 17s 327ms/step - loss: 1.1715e-04 - mae: 0.0119 - val_loss: 4.6215e-04 - val_mae: 0.0238\n",
            "Epoch 106/200\n",
            "52/52 [==============================] - 17s 312ms/step - loss: 8.0390e-05 - mae: 0.0096 - val_loss: 2.8070e-04 - val_mae: 0.0168\n",
            "Epoch 107/200\n",
            "52/52 [==============================] - 17s 325ms/step - loss: 7.3714e-05 - mae: 0.0090 - val_loss: 2.1556e-04 - val_mae: 0.0142\n",
            "Epoch 108/200\n",
            "52/52 [==============================] - 16s 303ms/step - loss: 8.0680e-05 - mae: 0.0096 - val_loss: 3.6765e-04 - val_mae: 0.0232\n",
            "Epoch 109/200\n",
            "52/52 [==============================] - 15s 281ms/step - loss: 8.0389e-05 - mae: 0.0096 - val_loss: 2.4398e-04 - val_mae: 0.0170\n",
            "Epoch 110/200\n",
            "52/52 [==============================] - 15s 288ms/step - loss: 9.9067e-05 - mae: 0.0107 - val_loss: 5.3726e-04 - val_mae: 0.0289\n",
            "Epoch 111/200\n",
            "52/52 [==============================] - 15s 279ms/step - loss: 1.5557e-04 - mae: 0.0139 - val_loss: 2.7430e-04 - val_mae: 0.0185\n",
            "Epoch 112/200\n",
            "52/52 [==============================] - 16s 302ms/step - loss: 1.6520e-04 - mae: 0.0144 - val_loss: 1.9021e-04 - val_mae: 0.0134\n",
            "Epoch 113/200\n",
            "52/52 [==============================] - 15s 293ms/step - loss: 1.2799e-04 - mae: 0.0126 - val_loss: 3.5539e-04 - val_mae: 0.0206\n",
            "Epoch 114/200\n",
            "52/52 [==============================] - 16s 310ms/step - loss: 1.0613e-04 - mae: 0.0114 - val_loss: 3.1941e-04 - val_mae: 0.0186\n",
            "Epoch 115/200\n",
            "52/52 [==============================] - 16s 300ms/step - loss: 7.7317e-05 - mae: 0.0094 - val_loss: 1.9243e-04 - val_mae: 0.0133\n",
            "Epoch 116/200\n",
            "52/52 [==============================] - 16s 301ms/step - loss: 8.5855e-05 - mae: 0.0099 - val_loss: 2.0616e-04 - val_mae: 0.0150\n",
            "Epoch 117/200\n",
            "52/52 [==============================] - 16s 304ms/step - loss: 1.0540e-04 - mae: 0.0114 - val_loss: 2.8522e-04 - val_mae: 0.0177\n",
            "Epoch 118/200\n",
            "52/52 [==============================] - 16s 296ms/step - loss: 9.3184e-05 - mae: 0.0104 - val_loss: 3.4232e-04 - val_mae: 0.0197\n",
            "Epoch 119/200\n",
            "52/52 [==============================] - 15s 291ms/step - loss: 7.0261e-05 - mae: 0.0088 - val_loss: 1.9537e-04 - val_mae: 0.0139\n",
            "Epoch 120/200\n",
            "52/52 [==============================] - 15s 276ms/step - loss: 7.8651e-05 - mae: 0.0094 - val_loss: 3.3341e-04 - val_mae: 0.0200\n",
            "Epoch 121/200\n",
            "52/52 [==============================] - 17s 329ms/step - loss: 7.3129e-05 - mae: 0.0090 - val_loss: 2.3073e-04 - val_mae: 0.0167\n",
            "Epoch 122/200\n",
            "52/52 [==============================] - 16s 304ms/step - loss: 6.9063e-05 - mae: 0.0086 - val_loss: 2.3620e-04 - val_mae: 0.0167\n",
            "Epoch 123/200\n",
            "52/52 [==============================] - 15s 277ms/step - loss: 8.3265e-05 - mae: 0.0097 - val_loss: 3.5491e-04 - val_mae: 0.0226\n",
            "Epoch 124/200\n",
            "52/52 [==============================] - 16s 303ms/step - loss: 8.7442e-05 - mae: 0.0102 - val_loss: 5.4788e-04 - val_mae: 0.0293\n",
            "Epoch 125/200\n",
            "52/52 [==============================] - 13s 246ms/step - loss: 1.0098e-04 - mae: 0.0110 - val_loss: 0.0011 - val_mae: 0.0432\n",
            "Epoch 126/200\n",
            "52/52 [==============================] - 14s 273ms/step - loss: 1.1756e-04 - mae: 0.0120 - val_loss: 2.2915e-04 - val_mae: 0.0164\n",
            "Epoch 127/200\n",
            "52/52 [==============================] - 15s 283ms/step - loss: 1.2383e-04 - mae: 0.0124 - val_loss: 1.9428e-04 - val_mae: 0.0133\n",
            "Epoch 128/200\n",
            "52/52 [==============================] - 17s 315ms/step - loss: 1.1525e-04 - mae: 0.0120 - val_loss: 1.9075e-04 - val_mae: 0.0139\n",
            "Epoch 129/200\n",
            "52/52 [==============================] - 14s 271ms/step - loss: 9.3730e-05 - mae: 0.0106 - val_loss: 2.2415e-04 - val_mae: 0.0161\n",
            "Epoch 130/200\n",
            "52/52 [==============================] - 15s 284ms/step - loss: 9.8136e-05 - mae: 0.0109 - val_loss: 2.6214e-04 - val_mae: 0.0165\n",
            "Epoch 131/200\n",
            "52/52 [==============================] - 15s 284ms/step - loss: 7.7191e-05 - mae: 0.0093 - val_loss: 2.8651e-04 - val_mae: 0.0178\n",
            "Epoch 132/200\n",
            "52/52 [==============================] - 14s 265ms/step - loss: 7.8462e-05 - mae: 0.0096 - val_loss: 2.0199e-04 - val_mae: 0.0148\n",
            "Epoch 133/200\n",
            "52/52 [==============================] - 16s 305ms/step - loss: 9.0030e-05 - mae: 0.0103 - val_loss: 7.9008e-04 - val_mae: 0.0361\n",
            "Epoch 134/200\n",
            "52/52 [==============================] - 16s 300ms/step - loss: 1.0941e-04 - mae: 0.0116 - val_loss: 9.3976e-04 - val_mae: 0.0383\n",
            "Epoch 135/200\n",
            "52/52 [==============================] - 17s 329ms/step - loss: 2.0491e-04 - mae: 0.0154 - val_loss: 3.9320e-04 - val_mae: 0.0237\n",
            "Epoch 136/200\n",
            "52/52 [==============================] - 15s 288ms/step - loss: 2.5247e-04 - mae: 0.0177 - val_loss: 7.5539e-04 - val_mae: 0.0356\n",
            "Epoch 137/200\n",
            "52/52 [==============================] - 16s 300ms/step - loss: 1.7029e-04 - mae: 0.0146 - val_loss: 1.9623e-04 - val_mae: 0.0139\n",
            "Epoch 138/200\n",
            "52/52 [==============================] - 15s 279ms/step - loss: 1.4523e-04 - mae: 0.0129 - val_loss: 2.0243e-04 - val_mae: 0.0137\n",
            "Epoch 139/200\n",
            "52/52 [==============================] - 16s 307ms/step - loss: 1.1303e-04 - mae: 0.0119 - val_loss: 7.3577e-04 - val_mae: 0.0334\n",
            "Epoch 140/200\n",
            "52/52 [==============================] - 15s 295ms/step - loss: 7.2568e-05 - mae: 0.0090 - val_loss: 3.0583e-04 - val_mae: 0.0185\n",
            "Epoch 141/200\n",
            "52/52 [==============================] - 15s 284ms/step - loss: 6.6190e-05 - mae: 0.0085 - val_loss: 2.5924e-04 - val_mae: 0.0182\n",
            "Epoch 142/200\n",
            "52/52 [==============================] - 14s 271ms/step - loss: 7.5663e-05 - mae: 0.0095 - val_loss: 2.0751e-04 - val_mae: 0.0150\n",
            "Epoch 143/200\n",
            "52/52 [==============================] - 16s 312ms/step - loss: 1.0309e-04 - mae: 0.0112 - val_loss: 1.8603e-04 - val_mae: 0.0137\n",
            "Epoch 144/200\n",
            "52/52 [==============================] - 15s 285ms/step - loss: 1.2039e-04 - mae: 0.0121 - val_loss: 2.0898e-04 - val_mae: 0.0152\n",
            "Epoch 145/200\n",
            "52/52 [==============================] - 14s 269ms/step - loss: 7.3657e-05 - mae: 0.0091 - val_loss: 1.8807e-04 - val_mae: 0.0137\n",
            "Epoch 146/200\n",
            "52/52 [==============================] - 16s 304ms/step - loss: 6.7210e-05 - mae: 0.0086 - val_loss: 1.9063e-04 - val_mae: 0.0139\n",
            "Epoch 147/200\n",
            "52/52 [==============================] - 15s 280ms/step - loss: 6.6116e-05 - mae: 0.0086 - val_loss: 3.0935e-04 - val_mae: 0.0206\n",
            "Epoch 148/200\n",
            "52/52 [==============================] - 16s 302ms/step - loss: 7.8304e-05 - mae: 0.0094 - val_loss: 2.5199e-04 - val_mae: 0.0165\n",
            "Epoch 149/200\n",
            "52/52 [==============================] - 13s 245ms/step - loss: 7.2959e-05 - mae: 0.0090 - val_loss: 2.1889e-04 - val_mae: 0.0145\n",
            "Epoch 150/200\n",
            "52/52 [==============================] - 17s 320ms/step - loss: 6.9461e-05 - mae: 0.0088 - val_loss: 2.0878e-04 - val_mae: 0.0147\n",
            "Epoch 151/200\n",
            "52/52 [==============================] - 16s 311ms/step - loss: 6.9533e-05 - mae: 0.0088 - val_loss: 3.9841e-04 - val_mae: 0.0243\n",
            "Epoch 152/200\n",
            "52/52 [==============================] - 14s 266ms/step - loss: 6.8142e-05 - mae: 0.0087 - val_loss: 2.5882e-04 - val_mae: 0.0179\n",
            "Epoch 153/200\n",
            "52/52 [==============================] - 17s 311ms/step - loss: 6.8066e-05 - mae: 0.0087 - val_loss: 3.6262e-04 - val_mae: 0.0224\n",
            "Epoch 154/200\n",
            "52/52 [==============================] - 17s 318ms/step - loss: 8.0959e-05 - mae: 0.0098 - val_loss: 2.0297e-04 - val_mae: 0.0147\n",
            "Epoch 155/200\n",
            "52/52 [==============================] - 15s 286ms/step - loss: 7.8332e-05 - mae: 0.0096 - val_loss: 1.8542e-04 - val_mae: 0.0134\n",
            "Epoch 156/200\n",
            "52/52 [==============================] - 17s 313ms/step - loss: 7.1784e-05 - mae: 0.0091 - val_loss: 2.4214e-04 - val_mae: 0.0169\n",
            "Epoch 157/200\n",
            "52/52 [==============================] - 15s 292ms/step - loss: 7.2157e-05 - mae: 0.0090 - val_loss: 2.0333e-04 - val_mae: 0.0148\n",
            "Epoch 158/200\n",
            "52/52 [==============================] - 15s 281ms/step - loss: 7.6018e-05 - mae: 0.0094 - val_loss: 8.5384e-04 - val_mae: 0.0374\n",
            "Epoch 159/200\n",
            "52/52 [==============================] - 16s 300ms/step - loss: 1.0423e-04 - mae: 0.0112 - val_loss: 5.6573e-04 - val_mae: 0.0287\n",
            "Epoch 160/200\n",
            "52/52 [==============================] - 16s 309ms/step - loss: 1.8992e-04 - mae: 0.0151 - val_loss: 1.8569e-04 - val_mae: 0.0132\n",
            "Epoch 161/200\n",
            "52/52 [==============================] - 16s 305ms/step - loss: 1.7068e-04 - mae: 0.0150 - val_loss: 3.5741e-04 - val_mae: 0.0212\n",
            "Epoch 162/200\n",
            "52/52 [==============================] - 17s 326ms/step - loss: 1.3623e-04 - mae: 0.0131 - val_loss: 2.1048e-04 - val_mae: 0.0144\n",
            "Epoch 163/200\n",
            "52/52 [==============================] - 15s 293ms/step - loss: 1.0248e-04 - mae: 0.0112 - val_loss: 2.1820e-04 - val_mae: 0.0157\n",
            "Epoch 164/200\n",
            "52/52 [==============================] - 17s 312ms/step - loss: 8.4815e-05 - mae: 0.0100 - val_loss: 1.8491e-04 - val_mae: 0.0135\n",
            "Epoch 165/200\n",
            "52/52 [==============================] - 16s 297ms/step - loss: 7.2309e-05 - mae: 0.0091 - val_loss: 5.0470e-04 - val_mae: 0.0280\n",
            "Epoch 166/200\n",
            "52/52 [==============================] - 16s 302ms/step - loss: 7.6603e-05 - mae: 0.0095 - val_loss: 9.5805e-04 - val_mae: 0.0399\n",
            "Epoch 167/200\n",
            "52/52 [==============================] - 18s 343ms/step - loss: 9.1205e-05 - mae: 0.0106 - val_loss: 4.4124e-04 - val_mae: 0.0247\n",
            "Epoch 168/200\n",
            "52/52 [==============================] - 16s 311ms/step - loss: 1.0224e-04 - mae: 0.0111 - val_loss: 7.2022e-04 - val_mae: 0.0335\n",
            "Epoch 169/200\n",
            "52/52 [==============================] - 15s 297ms/step - loss: 1.2745e-04 - mae: 0.0123 - val_loss: 3.8791e-04 - val_mae: 0.0231\n",
            "Epoch 170/200\n",
            "52/52 [==============================] - 14s 266ms/step - loss: 1.5481e-04 - mae: 0.0143 - val_loss: 2.2545e-04 - val_mae: 0.0162\n",
            "Epoch 171/200\n",
            "52/52 [==============================] - 15s 292ms/step - loss: 8.9568e-05 - mae: 0.0102 - val_loss: 2.3058e-04 - val_mae: 0.0166\n",
            "Epoch 172/200\n",
            "52/52 [==============================] - 15s 288ms/step - loss: 6.5208e-05 - mae: 0.0085 - val_loss: 1.8735e-04 - val_mae: 0.0137\n",
            "Epoch 173/200\n",
            "52/52 [==============================] - 15s 282ms/step - loss: 6.7194e-05 - mae: 0.0087 - val_loss: 2.4879e-04 - val_mae: 0.0175\n",
            "Epoch 174/200\n",
            "52/52 [==============================] - 17s 325ms/step - loss: 6.2717e-05 - mae: 0.0082 - val_loss: 2.4693e-04 - val_mae: 0.0173\n",
            "Epoch 175/200\n",
            "52/52 [==============================] - 14s 267ms/step - loss: 8.4413e-05 - mae: 0.0099 - val_loss: 1.9956e-04 - val_mae: 0.0147\n",
            "Epoch 176/200\n",
            "52/52 [==============================] - 14s 263ms/step - loss: 8.3988e-05 - mae: 0.0098 - val_loss: 2.0082e-04 - val_mae: 0.0139\n",
            "Epoch 177/200\n",
            "52/52 [==============================] - 16s 299ms/step - loss: 7.7898e-05 - mae: 0.0093 - val_loss: 1.9786e-04 - val_mae: 0.0138\n",
            "Epoch 178/200\n",
            "52/52 [==============================] - 16s 292ms/step - loss: 6.2485e-05 - mae: 0.0083 - val_loss: 6.3428e-04 - val_mae: 0.0315\n",
            "Epoch 179/200\n",
            "52/52 [==============================] - 13s 244ms/step - loss: 7.6970e-05 - mae: 0.0094 - val_loss: 3.4298e-04 - val_mae: 0.0213\n",
            "Epoch 180/200\n",
            "52/52 [==============================] - 16s 308ms/step - loss: 8.7693e-05 - mae: 0.0102 - val_loss: 2.9650e-04 - val_mae: 0.0195\n",
            "Epoch 181/200\n",
            "52/52 [==============================] - 17s 323ms/step - loss: 7.3311e-05 - mae: 0.0092 - val_loss: 3.7552e-04 - val_mae: 0.0233\n",
            "Epoch 182/200\n",
            "52/52 [==============================] - 16s 311ms/step - loss: 7.5876e-05 - mae: 0.0095 - val_loss: 3.7377e-04 - val_mae: 0.0224\n",
            "Epoch 183/200\n",
            "52/52 [==============================] - 14s 269ms/step - loss: 8.0086e-05 - mae: 0.0095 - val_loss: 2.4926e-04 - val_mae: 0.0173\n",
            "Epoch 184/200\n",
            "52/52 [==============================] - 15s 289ms/step - loss: 7.3583e-05 - mae: 0.0091 - val_loss: 1.9095e-04 - val_mae: 0.0137\n",
            "Epoch 185/200\n",
            "52/52 [==============================] - 18s 341ms/step - loss: 6.6538e-05 - mae: 0.0085 - val_loss: 1.8496e-04 - val_mae: 0.0134\n",
            "Epoch 186/200\n",
            "52/52 [==============================] - 16s 300ms/step - loss: 7.2309e-05 - mae: 0.0090 - val_loss: 1.9502e-04 - val_mae: 0.0144\n",
            "Epoch 187/200\n",
            "52/52 [==============================] - 15s 297ms/step - loss: 6.7810e-05 - mae: 0.0088 - val_loss: 3.3989e-04 - val_mae: 0.0211\n",
            "Epoch 188/200\n",
            "52/52 [==============================] - 13s 242ms/step - loss: 7.2955e-05 - mae: 0.0091 - val_loss: 2.4863e-04 - val_mae: 0.0173\n",
            "Epoch 189/200\n",
            "52/52 [==============================] - 15s 285ms/step - loss: 6.4741e-05 - mae: 0.0085 - val_loss: 2.0890e-04 - val_mae: 0.0149\n",
            "Epoch 190/200\n",
            "52/52 [==============================] - 14s 267ms/step - loss: 7.8932e-05 - mae: 0.0096 - val_loss: 1.9242e-04 - val_mae: 0.0141\n",
            "Epoch 191/200\n",
            "52/52 [==============================] - 16s 319ms/step - loss: 6.5321e-05 - mae: 0.0085 - val_loss: 6.5159e-04 - val_mae: 0.0314\n",
            "Epoch 192/200\n",
            "52/52 [==============================] - 14s 275ms/step - loss: 6.8165e-05 - mae: 0.0087 - val_loss: 3.9911e-04 - val_mae: 0.0234\n",
            "Epoch 193/200\n",
            "52/52 [==============================] - 18s 331ms/step - loss: 7.7041e-05 - mae: 0.0096 - val_loss: 4.5842e-04 - val_mae: 0.0259\n",
            "Epoch 194/200\n",
            "52/52 [==============================] - 15s 289ms/step - loss: 7.1876e-05 - mae: 0.0091 - val_loss: 3.2652e-04 - val_mae: 0.0205\n",
            "Epoch 195/200\n",
            "52/52 [==============================] - 16s 313ms/step - loss: 9.8451e-05 - mae: 0.0113 - val_loss: 3.1803e-04 - val_mae: 0.0205\n",
            "Epoch 196/200\n",
            "52/52 [==============================] - 17s 318ms/step - loss: 7.4227e-05 - mae: 0.0092 - val_loss: 7.2239e-04 - val_mae: 0.0331\n",
            "Epoch 197/200\n",
            "52/52 [==============================] - 15s 285ms/step - loss: 8.9954e-05 - mae: 0.0104 - val_loss: 2.5401e-04 - val_mae: 0.0177\n",
            "Epoch 198/200\n",
            "52/52 [==============================] - 15s 283ms/step - loss: 8.8977e-05 - mae: 0.0104 - val_loss: 5.4279e-04 - val_mae: 0.0289\n",
            "Epoch 199/200\n",
            "52/52 [==============================] - 15s 282ms/step - loss: 7.1419e-05 - mae: 0.0088 - val_loss: 0.0012 - val_mae: 0.0443\n",
            "Epoch 200/200\n",
            "52/52 [==============================] - 15s 285ms/step - loss: 6.3999e-05 - mae: 0.0084 - val_loss: 5.6205e-04 - val_mae: 0.0284\n"
          ]
        }
      ]
    },
    {
      "cell_type": "markdown",
      "source": [
        "### Training Curve"
      ],
      "metadata": {
        "id": "YsBqV3Wl4kpE"
      }
    },
    {
      "cell_type": "code",
      "source": [
        "plt.plot(history.history['mae'])\n",
        "plt.plot(history.history['val_mae'])\n",
        "plt.title('model MAE')\n",
        "plt.ylabel('MAE')\n",
        "plt.xlabel('epoch')\n",
        "plt.legend(['train', 'val'], loc='upper left')\n",
        "plt.show()"
      ],
      "metadata": {
        "id": "l3HSVApn52qS",
        "outputId": "fc471b51-0cb1-44ed-9106-74e237f17481",
        "colab": {
          "base_uri": "https://localhost:8080/",
          "height": 295
        }
      },
      "execution_count": 38,
      "outputs": [
        {
          "output_type": "display_data",
          "data": {
            "text/plain": [
              "<Figure size 432x288 with 1 Axes>"
            ],
            "image/png": "[encoded data removed]"
          },
          "metadata": {
            "needs_background": "light"
          }
        }
      ]
    },
    {
      "cell_type": "markdown",
      "source": [
        "### Re-train using train_val_set \n",
        "train_set and val_set combine:"
      ],
      "metadata": {
        "id": "BPRV9bbD6fbe"
      }
    },
    {
      "cell_type": "code",
      "source": [
        "with strategy.scope():\n",
        "  \n",
        "  capsnet_lstm = CapsNet_LSTM(input_shape)\n",
        "  capsnet_lstm.compile(loss=tf.keras.losses.Huber(), optimizer=tf.keras.optimizers.Adam(learning_rate = 0.000527), metrics=[\"mae\"])\n",
        "\n",
        "# Fit with the entire dataset.\n",
        "capsnet_lstm.fit(train_val_set, epochs=200)"
      ],
      "metadata": {
        "id": "DCakx5Cg6G3E",
        "colab": {
          "base_uri": "https://localhost:8080/"
        },
        "outputId": "729a4bca-501d-4474-de2b-968f9266fcaa"
      },
      "execution_count": 39,
      "outputs": [
        {
          "output_type": "stream",
          "name": "stdout",
          "text": [
            "Model: \"capsnet_lstm\"\n",
            "_________________________________________________________________\n",
            " Layer (type)                Output Shape              Param #   \n",
            "=================================================================\n",
            " input_4 (InputLayer)        [(None, 250, 1)]          0         \n",
            "                                                                 \n",
            " conv1d_1 (Conv1D)           (None, 250, 256)          768       \n",
            "                                                                 \n",
            " conv1d_2 (Conv1D)           (None, 250, 512)          262656    \n",
            "                                                                 \n",
            " reshape_3 (Reshape)         (None, 250, 64, 8)        0         \n",
            "                                                                 \n",
            " time_distributed_3 (TimeDis  (None, 250, 512)         262144    \n",
            " tributed)                                                       \n",
            "                                                                 \n",
            " lstm_3 (LSTM)               (None, 250)               763000    \n",
            "                                                                 \n",
            " dense_9 (Dense)             (None, 30)                7530      \n",
            "                                                                 \n",
            " dense_10 (Dense)            (None, 20)                620       \n",
            "                                                                 \n",
            " dense_11 (Dense)            (None, 1)                 21        \n",
            "                                                                 \n",
            "=================================================================\n",
            "Total params: 1,296,739\n",
            "Trainable params: 1,296,739\n",
            "Non-trainable params: 0\n",
            "_________________________________________________________________\n",
            "Epoch 1/200\n",
            "67/67 [==============================] - 31s 324ms/step - loss: 0.0035 - mae: 0.0659\n",
            "Epoch 2/200\n",
            "67/67 [==============================] - 18s 274ms/step - loss: 0.0166 - mae: 0.1384\n",
            "Epoch 3/200\n",
            "67/67 [==============================] - 16s 235ms/step - loss: 0.0143 - mae: 0.1354\n",
            "Epoch 4/200\n",
            "67/67 [==============================] - 17s 250ms/step - loss: 0.0101 - mae: 0.1112\n",
            "Epoch 5/200\n",
            "67/67 [==============================] - 19s 276ms/step - loss: 0.0039 - mae: 0.0680\n",
            "Epoch 6/200\n",
            "67/67 [==============================] - 16s 245ms/step - loss: 6.3538e-04 - mae: 0.0248\n",
            "Epoch 7/200\n",
            "67/67 [==============================] - 19s 277ms/step - loss: 3.1835e-04 - mae: 0.0195\n",
            "Epoch 8/200\n",
            "67/67 [==============================] - 19s 284ms/step - loss: 2.5704e-04 - mae: 0.0166\n",
            "Epoch 9/200\n",
            "67/67 [==============================] - 20s 295ms/step - loss: 2.5674e-04 - mae: 0.0167\n",
            "Epoch 10/200\n",
            "67/67 [==============================] - 18s 264ms/step - loss: 2.4193e-04 - mae: 0.0159\n",
            "Epoch 11/200\n",
            "67/67 [==============================] - 20s 298ms/step - loss: 2.4152e-04 - mae: 0.0158\n",
            "Epoch 12/200\n",
            "67/67 [==============================] - 19s 290ms/step - loss: 2.5243e-04 - mae: 0.0170\n",
            "Epoch 13/200\n",
            "67/67 [==============================] - 17s 243ms/step - loss: 2.5436e-04 - mae: 0.0170\n",
            "Epoch 14/200\n",
            "67/67 [==============================] - 18s 276ms/step - loss: 2.1510e-04 - mae: 0.0152\n",
            "Epoch 15/200\n",
            "67/67 [==============================] - 18s 268ms/step - loss: 2.5967e-04 - mae: 0.0168\n",
            "Epoch 16/200\n",
            "67/67 [==============================] - 18s 265ms/step - loss: 3.0538e-04 - mae: 0.0183\n",
            "Epoch 17/200\n",
            "67/67 [==============================] - 16s 236ms/step - loss: 3.0843e-04 - mae: 0.0192\n",
            "Epoch 18/200\n",
            "67/67 [==============================] - 17s 256ms/step - loss: 2.5889e-04 - mae: 0.0165\n",
            "Epoch 19/200\n",
            "67/67 [==============================] - 17s 248ms/step - loss: 2.9789e-04 - mae: 0.0180\n",
            "Epoch 20/200\n",
            "67/67 [==============================] - 16s 233ms/step - loss: 2.4076e-04 - mae: 0.0158\n",
            "Epoch 21/200\n",
            "67/67 [==============================] - 18s 270ms/step - loss: 2.5029e-04 - mae: 0.0165\n",
            "Epoch 22/200\n",
            "67/67 [==============================] - 18s 258ms/step - loss: 2.4766e-04 - mae: 0.0167\n",
            "Epoch 23/200\n",
            "67/67 [==============================] - 18s 271ms/step - loss: 3.1279e-04 - mae: 0.0187\n",
            "Epoch 24/200\n",
            "67/67 [==============================] - 19s 280ms/step - loss: 2.9659e-04 - mae: 0.0181\n",
            "Epoch 25/200\n",
            "67/67 [==============================] - 19s 286ms/step - loss: 6.0762e-04 - mae: 0.0280\n",
            "Epoch 26/200\n",
            "67/67 [==============================] - 19s 284ms/step - loss: 3.8199e-04 - mae: 0.0201\n",
            "Epoch 27/200\n",
            "67/67 [==============================] - 19s 275ms/step - loss: 2.1908e-04 - mae: 0.0153\n",
            "Epoch 28/200\n",
            "67/67 [==============================] - 18s 274ms/step - loss: 2.4697e-04 - mae: 0.0164\n",
            "Epoch 29/200\n",
            "67/67 [==============================] - 21s 304ms/step - loss: 3.6753e-04 - mae: 0.0211\n",
            "Epoch 30/200\n",
            "67/67 [==============================] - 17s 252ms/step - loss: 2.1394e-04 - mae: 0.0149\n",
            "Epoch 31/200\n",
            "67/67 [==============================] - 19s 282ms/step - loss: 1.9983e-04 - mae: 0.0141\n",
            "Epoch 32/200\n",
            "67/67 [==============================] - 18s 269ms/step - loss: 2.2050e-04 - mae: 0.0148\n",
            "Epoch 33/200\n",
            "67/67 [==============================] - 17s 261ms/step - loss: 2.1564e-04 - mae: 0.0152\n",
            "Epoch 34/200\n",
            "67/67 [==============================] - 18s 274ms/step - loss: 2.6052e-04 - mae: 0.0167\n",
            "Epoch 35/200\n",
            "67/67 [==============================] - 18s 261ms/step - loss: 3.1560e-04 - mae: 0.0192\n",
            "Epoch 36/200\n",
            "67/67 [==============================] - 17s 254ms/step - loss: 2.5875e-04 - mae: 0.0174\n",
            "Epoch 37/200\n",
            "67/67 [==============================] - 17s 256ms/step - loss: 3.5047e-04 - mae: 0.0206\n",
            "Epoch 38/200\n",
            "67/67 [==============================] - 19s 286ms/step - loss: 5.7609e-04 - mae: 0.0271\n",
            "Epoch 39/200\n",
            "67/67 [==============================] - 17s 258ms/step - loss: 7.2059e-04 - mae: 0.0296\n",
            "Epoch 40/200\n",
            "67/67 [==============================] - 19s 281ms/step - loss: 3.5547e-04 - mae: 0.0196\n",
            "Epoch 41/200\n",
            "67/67 [==============================] - 18s 263ms/step - loss: 2.1370e-04 - mae: 0.0152\n",
            "Epoch 42/200\n",
            "67/67 [==============================] - 18s 260ms/step - loss: 1.9281e-04 - mae: 0.0149\n",
            "Epoch 43/200\n",
            "67/67 [==============================] - 16s 230ms/step - loss: 2.0160e-04 - mae: 0.0147\n",
            "Epoch 44/200\n",
            "67/67 [==============================] - 17s 246ms/step - loss: 3.2081e-04 - mae: 0.0196\n",
            "Epoch 45/200\n",
            "67/67 [==============================] - 17s 256ms/step - loss: 5.9363e-04 - mae: 0.0272\n",
            "Epoch 46/200\n",
            "67/67 [==============================] - 16s 233ms/step - loss: 8.0972e-04 - mae: 0.0284\n",
            "Epoch 47/200\n",
            "67/67 [==============================] - 19s 278ms/step - loss: 2.1875e-04 - mae: 0.0156\n",
            "Epoch 48/200\n",
            "67/67 [==============================] - 17s 254ms/step - loss: 1.7175e-04 - mae: 0.0134\n",
            "Epoch 49/200\n",
            "67/67 [==============================] - 19s 276ms/step - loss: 1.7013e-04 - mae: 0.0136\n",
            "Epoch 50/200\n",
            "67/67 [==============================] - 16s 239ms/step - loss: 1.5591e-04 - mae: 0.0129\n",
            "Epoch 51/200\n",
            "67/67 [==============================] - 15s 220ms/step - loss: 2.1159e-04 - mae: 0.0145\n",
            "Epoch 52/200\n",
            "67/67 [==============================] - 18s 270ms/step - loss: 2.2589e-04 - mae: 0.0155\n",
            "Epoch 53/200\n",
            "67/67 [==============================] - 16s 241ms/step - loss: 2.4190e-04 - mae: 0.0165\n",
            "Epoch 54/200\n",
            "67/67 [==============================] - 17s 251ms/step - loss: 2.1858e-04 - mae: 0.0149\n",
            "Epoch 55/200\n",
            "67/67 [==============================] - 17s 260ms/step - loss: 2.3362e-04 - mae: 0.0162\n",
            "Epoch 56/200\n",
            "67/67 [==============================] - 19s 282ms/step - loss: 3.0050e-04 - mae: 0.0182\n",
            "Epoch 57/200\n",
            "67/67 [==============================] - 18s 263ms/step - loss: 3.2411e-04 - mae: 0.0193\n",
            "Epoch 58/200\n",
            "67/67 [==============================] - 19s 288ms/step - loss: 2.8360e-04 - mae: 0.0185\n",
            "Epoch 59/200\n",
            "67/67 [==============================] - 16s 238ms/step - loss: 2.5121e-04 - mae: 0.0164\n",
            "Epoch 60/200\n",
            "67/67 [==============================] - 17s 256ms/step - loss: 1.9254e-04 - mae: 0.0139\n",
            "Epoch 61/200\n",
            "67/67 [==============================] - 17s 258ms/step - loss: 2.8719e-04 - mae: 0.0172\n",
            "Epoch 62/200\n",
            "67/67 [==============================] - 17s 257ms/step - loss: 2.5977e-04 - mae: 0.0167\n",
            "Epoch 63/200\n",
            "67/67 [==============================] - 17s 255ms/step - loss: 1.6462e-04 - mae: 0.0132\n",
            "Epoch 64/200\n",
            "67/67 [==============================] - 18s 256ms/step - loss: 2.3460e-04 - mae: 0.0152\n",
            "Epoch 65/200\n",
            "67/67 [==============================] - 19s 282ms/step - loss: 2.6939e-04 - mae: 0.0170\n",
            "Epoch 66/200\n",
            "67/67 [==============================] - 18s 264ms/step - loss: 2.0279e-04 - mae: 0.0148\n",
            "Epoch 67/200\n",
            "67/67 [==============================] - 18s 270ms/step - loss: 2.6529e-04 - mae: 0.0166\n",
            "Epoch 68/200\n",
            "67/67 [==============================] - 18s 261ms/step - loss: 2.1663e-04 - mae: 0.0152\n",
            "Epoch 69/200\n",
            "67/67 [==============================] - 16s 232ms/step - loss: 1.6811e-04 - mae: 0.0129\n",
            "Epoch 70/200\n",
            "67/67 [==============================] - 18s 273ms/step - loss: 2.2869e-04 - mae: 0.0150\n",
            "Epoch 71/200\n",
            "67/67 [==============================] - 17s 259ms/step - loss: 2.0022e-04 - mae: 0.0147\n",
            "Epoch 72/200\n",
            "67/67 [==============================] - 21s 301ms/step - loss: 1.9521e-04 - mae: 0.0144\n",
            "Epoch 73/200\n",
            "67/67 [==============================] - 17s 241ms/step - loss: 1.6234e-04 - mae: 0.0126\n",
            "Epoch 74/200\n",
            "67/67 [==============================] - 17s 248ms/step - loss: 1.5772e-04 - mae: 0.0125\n",
            "Epoch 75/200\n",
            "67/67 [==============================] - 15s 222ms/step - loss: 1.9253e-04 - mae: 0.0140\n",
            "Epoch 76/200\n",
            "67/67 [==============================] - 15s 220ms/step - loss: 2.4003e-04 - mae: 0.0162\n",
            "Epoch 77/200\n",
            "67/67 [==============================] - 19s 285ms/step - loss: 3.2636e-04 - mae: 0.0185\n",
            "Epoch 78/200\n",
            "67/67 [==============================] - 16s 226ms/step - loss: 3.1451e-04 - mae: 0.0185\n",
            "Epoch 79/200\n",
            "67/67 [==============================] - 18s 265ms/step - loss: 1.8007e-04 - mae: 0.0143\n",
            "Epoch 80/200\n",
            "67/67 [==============================] - 18s 273ms/step - loss: 2.2613e-04 - mae: 0.0154\n",
            "Epoch 81/200\n",
            "67/67 [==============================] - 18s 255ms/step - loss: 2.0569e-04 - mae: 0.0152\n",
            "Epoch 82/200\n",
            "67/67 [==============================] - 20s 292ms/step - loss: 2.7157e-04 - mae: 0.0176\n",
            "Epoch 83/200\n",
            "67/67 [==============================] - 19s 277ms/step - loss: 1.8868e-04 - mae: 0.0147\n",
            "Epoch 84/200\n",
            "67/67 [==============================] - 18s 275ms/step - loss: 3.7897e-04 - mae: 0.0216\n",
            "Epoch 85/200\n",
            "67/67 [==============================] - 20s 305ms/step - loss: 4.8284e-04 - mae: 0.0225\n",
            "Epoch 86/200\n",
            "67/67 [==============================] - 18s 259ms/step - loss: 2.3207e-04 - mae: 0.0159\n",
            "Epoch 87/200\n",
            "67/67 [==============================] - 17s 244ms/step - loss: 3.6534e-04 - mae: 0.0211\n",
            "Epoch 88/200\n",
            "67/67 [==============================] - 18s 264ms/step - loss: 2.9149e-04 - mae: 0.0180\n",
            "Epoch 89/200\n",
            "67/67 [==============================] - 19s 285ms/step - loss: 1.6650e-04 - mae: 0.0135\n",
            "Epoch 90/200\n",
            "67/67 [==============================] - 18s 276ms/step - loss: 2.0719e-04 - mae: 0.0150\n",
            "Epoch 91/200\n",
            "67/67 [==============================] - 17s 248ms/step - loss: 1.6177e-04 - mae: 0.0130\n",
            "Epoch 92/200\n",
            "67/67 [==============================] - 18s 270ms/step - loss: 1.7031e-04 - mae: 0.0134\n",
            "Epoch 93/200\n",
            "67/67 [==============================] - 19s 285ms/step - loss: 1.3507e-04 - mae: 0.0120\n",
            "Epoch 94/200\n",
            "67/67 [==============================] - 20s 294ms/step - loss: 1.3180e-04 - mae: 0.0115\n",
            "Epoch 95/200\n",
            "67/67 [==============================] - 18s 272ms/step - loss: 2.4693e-04 - mae: 0.0169\n",
            "Epoch 96/200\n",
            "67/67 [==============================] - 16s 241ms/step - loss: 2.6779e-04 - mae: 0.0170\n",
            "Epoch 97/200\n",
            "67/67 [==============================] - 18s 258ms/step - loss: 1.2872e-04 - mae: 0.0117\n",
            "Epoch 98/200\n",
            "67/67 [==============================] - 18s 264ms/step - loss: 1.4778e-04 - mae: 0.0123\n",
            "Epoch 99/200\n",
            "67/67 [==============================] - 17s 255ms/step - loss: 2.1552e-04 - mae: 0.0157\n",
            "Epoch 100/200\n",
            "67/67 [==============================] - 19s 281ms/step - loss: 2.4068e-04 - mae: 0.0162\n",
            "Epoch 101/200\n",
            "67/67 [==============================] - 19s 285ms/step - loss: 1.7478e-04 - mae: 0.0136\n",
            "Epoch 102/200\n",
            "67/67 [==============================] - 17s 253ms/step - loss: 2.2908e-04 - mae: 0.0157\n",
            "Epoch 103/200\n",
            "67/67 [==============================] - 17s 251ms/step - loss: 3.2309e-04 - mae: 0.0197\n",
            "Epoch 104/200\n",
            "67/67 [==============================] - 17s 244ms/step - loss: 3.5677e-04 - mae: 0.0198\n",
            "Epoch 105/200\n",
            "67/67 [==============================] - 17s 252ms/step - loss: 2.0110e-04 - mae: 0.0150\n",
            "Epoch 106/200\n",
            "67/67 [==============================] - 19s 286ms/step - loss: 2.1173e-04 - mae: 0.0151\n",
            "Epoch 107/200\n",
            "67/67 [==============================] - 18s 261ms/step - loss: 1.8760e-04 - mae: 0.0139\n",
            "Epoch 108/200\n",
            "67/67 [==============================] - 16s 240ms/step - loss: 1.2184e-04 - mae: 0.0114\n",
            "Epoch 109/200\n",
            "67/67 [==============================] - 16s 231ms/step - loss: 1.7750e-04 - mae: 0.0133\n",
            "Epoch 110/200\n",
            "67/67 [==============================] - 17s 260ms/step - loss: 1.8113e-04 - mae: 0.0138\n",
            "Epoch 111/200\n",
            "67/67 [==============================] - 18s 258ms/step - loss: 2.7069e-04 - mae: 0.0178\n",
            "Epoch 112/200\n",
            "67/67 [==============================] - 20s 298ms/step - loss: 2.6607e-04 - mae: 0.0173\n",
            "Epoch 113/200\n",
            "67/67 [==============================] - 19s 290ms/step - loss: 2.1750e-04 - mae: 0.0153\n",
            "Epoch 114/200\n",
            "67/67 [==============================] - 18s 277ms/step - loss: 1.2945e-04 - mae: 0.0118\n",
            "Epoch 115/200\n",
            "67/67 [==============================] - 17s 258ms/step - loss: 1.2964e-04 - mae: 0.0114\n",
            "Epoch 116/200\n",
            "67/67 [==============================] - 16s 235ms/step - loss: 1.2060e-04 - mae: 0.0111\n",
            "Epoch 117/200\n",
            "67/67 [==============================] - 17s 249ms/step - loss: 1.2432e-04 - mae: 0.0113\n",
            "Epoch 118/200\n",
            "67/67 [==============================] - 20s 295ms/step - loss: 1.3612e-04 - mae: 0.0118\n",
            "Epoch 119/200\n",
            "67/67 [==============================] - 18s 271ms/step - loss: 1.6110e-04 - mae: 0.0131\n",
            "Epoch 120/200\n",
            "67/67 [==============================] - 16s 240ms/step - loss: 1.7970e-04 - mae: 0.0139\n",
            "Epoch 121/200\n",
            "67/67 [==============================] - 19s 270ms/step - loss: 1.5102e-04 - mae: 0.0129\n",
            "Epoch 122/200\n",
            "67/67 [==============================] - 18s 258ms/step - loss: 1.5457e-04 - mae: 0.0128\n",
            "Epoch 123/200\n",
            "67/67 [==============================] - 19s 282ms/step - loss: 1.9282e-04 - mae: 0.0148\n",
            "Epoch 124/200\n",
            "67/67 [==============================] - 17s 249ms/step - loss: 2.4768e-04 - mae: 0.0165\n",
            "Epoch 125/200\n",
            "67/67 [==============================] - 21s 313ms/step - loss: 2.3439e-04 - mae: 0.0164\n",
            "Epoch 126/200\n",
            "67/67 [==============================] - 19s 280ms/step - loss: 2.4196e-04 - mae: 0.0171\n",
            "Epoch 127/200\n",
            "67/67 [==============================] - 20s 289ms/step - loss: 2.3254e-04 - mae: 0.0155\n",
            "Epoch 128/200\n",
            "67/67 [==============================] - 16s 236ms/step - loss: 1.2966e-04 - mae: 0.0114\n",
            "Epoch 129/200\n",
            "67/67 [==============================] - 18s 267ms/step - loss: 1.1701e-04 - mae: 0.0112\n",
            "Epoch 130/200\n",
            "67/67 [==============================] - 17s 250ms/step - loss: 1.1250e-04 - mae: 0.0107\n",
            "Epoch 131/200\n",
            "67/67 [==============================] - 18s 266ms/step - loss: 1.2873e-04 - mae: 0.0114\n",
            "Epoch 132/200\n",
            "67/67 [==============================] - 16s 241ms/step - loss: 1.2369e-04 - mae: 0.0113\n",
            "Epoch 133/200\n",
            "67/67 [==============================] - 19s 275ms/step - loss: 1.1537e-04 - mae: 0.0110\n",
            "Epoch 134/200\n",
            "67/67 [==============================] - 16s 242ms/step - loss: 1.1390e-04 - mae: 0.0107\n",
            "Epoch 135/200\n",
            "67/67 [==============================] - 16s 244ms/step - loss: 1.3322e-04 - mae: 0.0117\n",
            "Epoch 136/200\n",
            "67/67 [==============================] - 16s 238ms/step - loss: 1.9599e-04 - mae: 0.0149\n",
            "Epoch 137/200\n",
            "67/67 [==============================] - 18s 273ms/step - loss: 3.1779e-04 - mae: 0.0187\n",
            "Epoch 138/200\n",
            "67/67 [==============================] - 20s 288ms/step - loss: 2.4042e-04 - mae: 0.0172\n",
            "Epoch 139/200\n",
            "67/67 [==============================] - 16s 241ms/step - loss: 3.3131e-04 - mae: 0.0196\n",
            "Epoch 140/200\n",
            "67/67 [==============================] - 19s 276ms/step - loss: 3.2803e-04 - mae: 0.0193\n",
            "Epoch 141/200\n",
            "67/67 [==============================] - 18s 276ms/step - loss: 3.1470e-04 - mae: 0.0191\n",
            "Epoch 142/200\n",
            "67/67 [==============================] - 18s 263ms/step - loss: 3.4633e-04 - mae: 0.0199\n",
            "Epoch 143/200\n",
            "67/67 [==============================] - 17s 261ms/step - loss: 2.2650e-04 - mae: 0.0154\n",
            "Epoch 144/200\n",
            "67/67 [==============================] - 18s 272ms/step - loss: 1.2943e-04 - mae: 0.0117\n",
            "Epoch 145/200\n",
            "67/67 [==============================] - 17s 252ms/step - loss: 1.1362e-04 - mae: 0.0107\n",
            "Epoch 146/200\n",
            "67/67 [==============================] - 17s 250ms/step - loss: 1.2194e-04 - mae: 0.0111\n",
            "Epoch 147/200\n",
            "67/67 [==============================] - 18s 269ms/step - loss: 1.4601e-04 - mae: 0.0126\n",
            "Epoch 148/200\n",
            "67/67 [==============================] - 17s 240ms/step - loss: 1.3813e-04 - mae: 0.0121\n",
            "Epoch 149/200\n",
            "67/67 [==============================] - 20s 290ms/step - loss: 1.3083e-04 - mae: 0.0118\n",
            "Epoch 150/200\n",
            "67/67 [==============================] - 19s 278ms/step - loss: 1.3628e-04 - mae: 0.0123\n",
            "Epoch 151/200\n",
            "67/67 [==============================] - 17s 255ms/step - loss: 1.5398e-04 - mae: 0.0127\n",
            "Epoch 152/200\n",
            "67/67 [==============================] - 17s 250ms/step - loss: 1.7174e-04 - mae: 0.0132\n",
            "Epoch 153/200\n",
            "67/67 [==============================] - 18s 266ms/step - loss: 1.6828e-04 - mae: 0.0133\n",
            "Epoch 154/200\n",
            "67/67 [==============================] - 17s 245ms/step - loss: 1.7595e-04 - mae: 0.0136\n",
            "Epoch 155/200\n",
            "67/67 [==============================] - 21s 306ms/step - loss: 1.7240e-04 - mae: 0.0132\n",
            "Epoch 156/200\n",
            "67/67 [==============================] - 18s 273ms/step - loss: 1.2305e-04 - mae: 0.0115\n",
            "Epoch 157/200\n",
            "67/67 [==============================] - 20s 289ms/step - loss: 1.1573e-04 - mae: 0.0109\n",
            "Epoch 158/200\n",
            "67/67 [==============================] - 17s 254ms/step - loss: 1.3071e-04 - mae: 0.0118\n",
            "Epoch 159/200\n",
            "67/67 [==============================] - 17s 256ms/step - loss: 1.4645e-04 - mae: 0.0127\n",
            "Epoch 160/200\n",
            "67/67 [==============================] - 17s 244ms/step - loss: 1.3760e-04 - mae: 0.0122\n",
            "Epoch 161/200\n",
            "67/67 [==============================] - 17s 248ms/step - loss: 1.1056e-04 - mae: 0.0105\n",
            "Epoch 162/200\n",
            "67/67 [==============================] - 19s 291ms/step - loss: 1.3989e-04 - mae: 0.0115\n",
            "Epoch 163/200\n",
            "67/67 [==============================] - 18s 275ms/step - loss: 1.4690e-04 - mae: 0.0120\n",
            "Epoch 164/200\n",
            "67/67 [==============================] - 18s 270ms/step - loss: 2.2453e-04 - mae: 0.0162\n",
            "Epoch 165/200\n",
            "67/67 [==============================] - 16s 235ms/step - loss: 4.5327e-04 - mae: 0.0227\n",
            "Epoch 166/200\n",
            "67/67 [==============================] - 17s 258ms/step - loss: 2.9341e-04 - mae: 0.0176\n",
            "Epoch 167/200\n",
            "67/67 [==============================] - 19s 278ms/step - loss: 1.4343e-04 - mae: 0.0128\n",
            "Epoch 168/200\n",
            "67/67 [==============================] - 18s 263ms/step - loss: 1.1589e-04 - mae: 0.0109\n",
            "Epoch 169/200\n",
            "67/67 [==============================] - 17s 255ms/step - loss: 1.6707e-04 - mae: 0.0133\n",
            "Epoch 170/200\n",
            "67/67 [==============================] - 22s 328ms/step - loss: 1.9219e-04 - mae: 0.0145\n",
            "Epoch 171/200\n",
            "67/67 [==============================] - 18s 270ms/step - loss: 2.1755e-04 - mae: 0.0153\n",
            "Epoch 172/200\n",
            "67/67 [==============================] - 16s 234ms/step - loss: 2.1139e-04 - mae: 0.0149\n",
            "Epoch 173/200\n",
            "67/67 [==============================] - 21s 313ms/step - loss: 1.1658e-04 - mae: 0.0107\n",
            "Epoch 174/200\n",
            "67/67 [==============================] - 16s 224ms/step - loss: 1.0307e-04 - mae: 0.0102\n",
            "Epoch 175/200\n",
            "67/67 [==============================] - 19s 277ms/step - loss: 1.1618e-04 - mae: 0.0106\n",
            "Epoch 176/200\n",
            "67/67 [==============================] - 19s 288ms/step - loss: 1.0891e-04 - mae: 0.0106\n",
            "Epoch 177/200\n",
            "67/67 [==============================] - 18s 269ms/step - loss: 1.1201e-04 - mae: 0.0108\n",
            "Epoch 178/200\n",
            "67/67 [==============================] - 19s 270ms/step - loss: 1.5020e-04 - mae: 0.0125\n",
            "Epoch 179/200\n",
            "67/67 [==============================] - 19s 270ms/step - loss: 2.0507e-04 - mae: 0.0156\n",
            "Epoch 180/200\n",
            "67/67 [==============================] - 17s 251ms/step - loss: 2.6962e-04 - mae: 0.0179\n",
            "Epoch 181/200\n",
            "67/67 [==============================] - 18s 266ms/step - loss: 2.1768e-04 - mae: 0.0148\n",
            "Epoch 182/200\n",
            "67/67 [==============================] - 17s 249ms/step - loss: 1.3289e-04 - mae: 0.0115\n",
            "Epoch 183/200\n",
            "67/67 [==============================] - 17s 252ms/step - loss: 2.2743e-04 - mae: 0.0156\n",
            "Epoch 184/200\n",
            "67/67 [==============================] - 19s 284ms/step - loss: 3.0331e-04 - mae: 0.0194\n",
            "Epoch 185/200\n",
            "67/67 [==============================] - 19s 285ms/step - loss: 3.2075e-04 - mae: 0.0178\n",
            "Epoch 186/200\n",
            "67/67 [==============================] - 17s 258ms/step - loss: 2.1761e-04 - mae: 0.0149\n",
            "Epoch 187/200\n",
            "67/67 [==============================] - 18s 264ms/step - loss: 1.6780e-04 - mae: 0.0129\n",
            "Epoch 188/200\n",
            "67/67 [==============================] - 20s 301ms/step - loss: 1.6452e-04 - mae: 0.0137\n",
            "Epoch 189/200\n",
            "67/67 [==============================] - 17s 245ms/step - loss: 1.8793e-04 - mae: 0.0147\n",
            "Epoch 190/200\n",
            "67/67 [==============================] - 15s 227ms/step - loss: 1.0206e-04 - mae: 0.0102\n",
            "Epoch 191/200\n",
            "67/67 [==============================] - 20s 289ms/step - loss: 1.1412e-04 - mae: 0.0108\n",
            "Epoch 192/200\n",
            "67/67 [==============================] - 15s 217ms/step - loss: 1.2473e-04 - mae: 0.0115\n",
            "Epoch 193/200\n",
            "67/67 [==============================] - 16s 242ms/step - loss: 9.4655e-05 - mae: 0.0095\n",
            "Epoch 194/200\n",
            "67/67 [==============================] - 16s 235ms/step - loss: 1.6202e-04 - mae: 0.0132\n",
            "Epoch 195/200\n",
            "67/67 [==============================] - 19s 279ms/step - loss: 1.8339e-04 - mae: 0.0138\n",
            "Epoch 196/200\n",
            "67/67 [==============================] - 15s 223ms/step - loss: 1.6586e-04 - mae: 0.0137\n",
            "Epoch 197/200\n",
            "67/67 [==============================] - 16s 246ms/step - loss: 2.0810e-04 - mae: 0.0152\n",
            "Epoch 198/200\n",
            "67/67 [==============================] - 16s 238ms/step - loss: 1.5700e-04 - mae: 0.0128\n",
            "Epoch 199/200\n",
            "67/67 [==============================] - 18s 272ms/step - loss: 1.6320e-04 - mae: 0.0130\n",
            "Epoch 200/200\n",
            "67/67 [==============================] - 19s 292ms/step - loss: 2.1503e-04 - mae: 0.0153\n"
          ]
        },
        {
          "output_type": "execute_result",
          "data": {
            "text/plain": [
              "<keras.callbacks.History at 0x7fd8051681d0>"
            ]
          },
          "metadata": {},
          "execution_count": 39
        }
      ]
    },
    {
      "cell_type": "markdown",
      "metadata": {
        "id": "69lcH5cAEnki"
      },
      "source": [
        "## Evaluating the forecast\n",
        "\n",
        "Now it is time to evaluate the performance of the forecast. For this we use the `compute_metrics` function that you coded in a previous assignment:"
      ]
    },
    {
      "cell_type": "markdown",
      "metadata": {
        "id": "r7V0kTKHEnki"
      },
      "source": [
        "At this point only the model that will perform the forecast is ready but we still need to compute the actual forecast.\n",
        "\n"
      ]
    },
    {
      "cell_type": "markdown",
      "metadata": {
        "id": "rJtDyAD9Enkj"
      },
      "source": [
        "### Faster model forecasts\n",
        "\n",
        "\n",
        "- The dataset is windowed using `window_size` rather than `window_size + 1`\n",
        "- No shuffle should be used\n",
        "- No need to split the data into features and labels\n",
        "- A model is used to predict batches of the dataset"
      ]
    },
    {
      "cell_type": "markdown",
      "metadata": {
        "id": "kIyFlTEwEnkj"
      },
      "source": [
        "Now compute the actual forecast:"
      ]
    },
    {
      "cell_type": "code",
      "execution_count": 40,
      "metadata": {
        "colab": {
          "base_uri": "https://localhost:8080/",
          "height": 388
        },
        "id": "PrktQX3hKYex",
        "outputId": "aeea6dd0-57c2-40ca-8c2a-b2d8057c5135"
      },
      "outputs": [
        {
          "output_type": "display_data",
          "data": {
            "text/plain": [
              "<Figure size 720x432 with 1 Axes>"
            ],
            "image/png": "[encoded data removed]"
          },
          "metadata": {
            "needs_background": "light"
          }
        }
      ],
      "source": [
        "# Compute the forecast for all the series\n",
        "capsnet_lstm_forecast = model_forecast(capsnet_lstm, series_norm, G.WINDOW_SIZE).squeeze()\n",
        "\n",
        "# Slice the forecast to get only the predictions for the validation set\n",
        "series_test_hat_capsnet_lstm = capsnet_lstm_forecast[-150:]\n",
        "# reverse normalization\n",
        "# series_test_hat = reverse_normalization(cnn_lstm_forecast)\n",
        "series_test_hat_capsnet_lstm = reverse_normalization(series_test_hat_capsnet_lstm)\n",
        "# Plot the forecast\n",
        "plt.figure(figsize=(10, 6))\n",
        "plot_series(time_test, series_test_norm)\n",
        "plot_series(time_test, series_test_hat_capsnet_lstm)"
      ]
    },
    {
      "cell_type": "code",
      "execution_count": 42,
      "metadata": {
        "id": "JyKUmK5BEnkj",
        "colab": {
          "base_uri": "https://localhost:8080/"
        },
        "outputId": "f1e92d23-2ff0-4713-feb1-9f919c50a464"
      },
      "outputs": [
        {
          "output_type": "stream",
          "name": "stdout",
          "text": [
            "mse: 104335.82, mae: 298.02 for forecast\n"
          ]
        }
      ],
      "source": [
        "mse_capsnet_lstm, mae_capsnet_lstm = compute_metrics(series_test, series_test_hat_capsnet_lstm)\n",
        "\n",
        "print(f\"mse: {mse_capsnet_lstm:.2f}, mae: {mae_capsnet_lstm:.2f} for forecast\")"
      ]
    },
    {
      "cell_type": "markdown",
      "source": [
        "## Baseline (LSTM, CNN-LSTM)"
      ],
      "metadata": {
        "id": "og2vNXLVgOeC"
      }
    },
    {
      "cell_type": "markdown",
      "source": [
        "### LSTM"
      ],
      "metadata": {
        "id": "DTXrC28w_ZGT"
      }
    },
    {
      "cell_type": "code",
      "execution_count": null,
      "metadata": {
        "id": "Sc6pU_kiEnkg"
      },
      "outputs": [],
      "source": [
        "def build_LSTM(hp):\n",
        "   \n",
        "    model = tf.keras.models.Sequential([\n",
        "          tf.keras.layers.LSTM(hp.Int('lstm_units', 100, 300, 50), input_shape=[G.WINDOW_SIZE, 1]),\n",
        "          tf.keras.layers.Dense(hp.Int('dense1_units', 20, 50, 10), activation=\"relu\"),\n",
        "          tf.keras.layers.Dense(hp.Int('dense2_units', 5, 20, 5), activation=\"relu\"),\n",
        "          tf.keras.layers.Dense(1)\n",
        "    ])\n",
        "    learning_rate = hp.Float(\"lr\", min_value=1e-4, max_value=1e-2, sampling=\"log\")\n",
        "    model.compile(\n",
        "        optimizer=tf.keras.optimizers.Adam(learning_rate=learning_rate),\n",
        "        loss=tf.keras.losses.Huber(),\n",
        "        metrics=[\"mae\"])\n",
        "\n",
        "    return model"
      ]
    },
    {
      "cell_type": "code",
      "source": [
        "build_LSTM(keras_tuner.HyperParameters())\n",
        "\n",
        "tuner_lstm = keras_tuner.Hyperband(\n",
        "    hypermodel=build_LSTM,\n",
        "    objective=\"val_mae\",\n",
        "    max_epochs=2,\n",
        "    factor=3,\n",
        "    hyperband_iterations=1,\n",
        "    distribution_strategy=strategy,\n",
        "    directory=\"lstm_results_dir\",\n",
        "    project_name=\"lstm\",\n",
        "    overwrite=True)\n",
        "\n",
        "tuner_lstm.search(train_set, epochs=2, validation_data=val_set)\n",
        "\n",
        "tuner_lstm.results_summary()\n",
        "\n",
        "# Get the top 2 hyperparameters.\n",
        "best_hps_lstm = tuner_lstm.get_best_hyperparameters(5)\n",
        "# Build the model with the best hp.\n",
        "with strategy.scope():\n",
        "  lstm = build_LSTM(best_hps_lstm[0])\n",
        "# Fit with the entire dataset.\n",
        "lstm.fit(train_val_set, epochs=200)"
      ],
      "metadata": {
        "id": "JQ5JlaaZ8dD_"
      },
      "execution_count": null,
      "outputs": []
    },
    {
      "cell_type": "code",
      "source": [
        "# Compute the forecast for all the series\n",
        "lstm_forecast = model_forecast(lstm, series_norm, G.WINDOW_SIZE).squeeze()\n",
        "\n",
        "# Slice the forecast to get only the predictions for the validation set\n",
        "series_test_hat_lstm = lstm_forecast[-150:]\n",
        "series_test_hat_lstm = reverse_normalization(series_test_hat_lstm)\n",
        "# Plot the forecast\n",
        "plt.figure(figsize=(10, 6))\n",
        "plot_series(time_test, series_test)\n",
        "plot_series(time_test, series_test_hat_lstm)"
      ],
      "metadata": {
        "id": "usOQ3cl6_rPV"
      },
      "execution_count": null,
      "outputs": []
    },
    {
      "cell_type": "code",
      "source": [
        "mse_lstm, mae_lstm = compute_metrics(series_test, series_test_hat_lstm)\n",
        "\n",
        "print(f\"mse: {mse_lstm:.2f}, mae: {mae_lstm:.2f} for forecast\")"
      ],
      "metadata": {
        "id": "-U4UwUsf_Tp2"
      },
      "execution_count": null,
      "outputs": []
    },
    {
      "cell_type": "markdown",
      "source": [
        "### CNN-LSTM"
      ],
      "metadata": {
        "id": "EgSv9-FX_UEA"
      }
    },
    {
      "cell_type": "code",
      "source": [
        "def build_CNN_LSTM(hp):\n",
        "   \n",
        "    model = tf.keras.models.Sequential([\n",
        "          tf.keras.layers.Conv1D(filters=hp.Int('Conv_units', 256, 1024, 256), kernel_size=2,\n",
        "                                 strides=1,\n",
        "                                 activation=\"relu\",\n",
        "                                 padding='causal',\n",
        "                                 input_shape=[G.WINDOW_SIZE, 1]),\n",
        "          tf.keras.layers.MaxPooling1D(pool_size=2, strides=1, padding=\"same\"),\n",
        "          tf.keras.layers.LSTM(hp.Int('lstm_units', 100, 300, 50)),\n",
        "          tf.keras.layers.Dense(hp.Int('dense1_units', 20, 50, step = 10), activation=\"relu\"),\n",
        "          tf.keras.layers.Dense(hp.Int('dense2_units', 5, 20, step = 5), activation=\"relu\"),\n",
        "          tf.keras.layers.Dense(1)\n",
        "    ])\n",
        "    learning_rate = hp.Float(\"lr\", min_value=1e-4, max_value=1e-2, sampling=\"log\")\n",
        "    model.compile(\n",
        "        optimizer=tf.keras.optimizers.Adam(learning_rate=learning_rate),\n",
        "        loss=tf.keras.losses.Huber(),\n",
        "        metrics=[\"mae\"])\n",
        "\n",
        "    return model"
      ],
      "metadata": {
        "id": "Amka1E2csj3H"
      },
      "execution_count": null,
      "outputs": []
    },
    {
      "cell_type": "code",
      "source": [
        "build_CNN_LSTM(keras_tuner.HyperParameters())\n",
        "\n",
        "tuner_cnn_lstm = keras_tuner.Hyperband(\n",
        "    hypermodel=build_CNN_LSTM,\n",
        "    objective=\"val_mae\",\n",
        "    max_epochs=2,\n",
        "    factor=3,\n",
        "    hyperband_iterations=1,\n",
        "    distribution_strategy=strategy,\n",
        "    directory=\"cnn_lstm_results_dir\",\n",
        "    project_name=\"cnn-lstm\",\n",
        "    overwrite=True)\n",
        "\n",
        "\n",
        "tuner_cnn_lstm.search(train_set, epochs=2, validation_data=val_set)\n",
        "\n",
        "tuner_cnn_lstm.results_summary()\n",
        "\n",
        "# Get the top 2 hyperparameters.\n",
        "best_hps_cnn_lstm = tuner_cnn_lstm.get_best_hyperparameters(5)\n",
        "# Build the model with the best hp.\n",
        "with strategy.scope():\n",
        "  cnn_lstm = build_LSTM(best_hps_cnn_lstm[0])\n",
        "# Fit with the entire dataset.\n",
        "cnn_lstm.fit(train_val_set, epochs=200)"
      ],
      "metadata": {
        "id": "A1PtMSsr-vSO"
      },
      "execution_count": null,
      "outputs": []
    },
    {
      "cell_type": "code",
      "source": [
        "# Compute the forecast for all the series\n",
        "cnn_lstm_forecast = model_forecast(cnn_lstm, series_norm, G.WINDOW_SIZE).squeeze()\n",
        "\n",
        "# Slice the forecast to get only the predictions for the validation set\n",
        "series_test_hat_cnn_lstm = cnn_lstm_forecast[-150:]\n",
        "series_test_hat_cnn_lstm = reverse_normalization(series_test_hat_cnn_lstm)\n",
        "# Plot the forecast\n",
        "plt.figure(figsize=(10, 6))\n",
        "plot_series(time_test, series_test)\n",
        "plot_series(time_test, series_test_hat_cnn_lstm)"
      ],
      "metadata": {
        "id": "54nm9-qaAU9o"
      },
      "execution_count": null,
      "outputs": []
    },
    {
      "cell_type": "code",
      "source": [
        "mse_cnn_lstm, mae_cnn_lstm = compute_metrics(series_test, series_test_hat_cnn_lstm)\n",
        "\n",
        "print(f\"mse: {mse_cnn_lstm:.2f}, mae: {mae_cnn_lstm:.2f} for forecast\")"
      ],
      "metadata": {
        "id": "hW0VZCxdAVjO"
      },
      "execution_count": null,
      "outputs": []
    },
    {
      "cell_type": "markdown",
      "source": [
        "## Camparison"
      ],
      "metadata": {
        "id": "15FrV8PMAimg"
      }
    },
    {
      "cell_type": "markdown",
      "source": [
        "Compare our proposed capsnet_lstm with lstm and cnn-lstm"
      ],
      "metadata": {
        "id": "Z330X9SE8RWm"
      }
    },
    {
      "cell_type": "markdown",
      "source": [
        "### Three forecasting results in one figure:"
      ],
      "metadata": {
        "id": "x8SF-DmK78l9"
      }
    },
    {
      "cell_type": "code",
      "source": [],
      "metadata": {
        "id": "rNCmNekCAuAF"
      },
      "execution_count": null,
      "outputs": []
    },
    {
      "cell_type": "markdown",
      "source": [
        "### Compare the rmse, mae mape"
      ],
      "metadata": {
        "id": "3frHiK9N8F87"
      }
    },
    {
      "cell_type": "code",
      "source": [],
      "metadata": {
        "id": "JzlMIn_iAt7w"
      },
      "execution_count": null,
      "outputs": []
    }
  ],
  "metadata": {
    "kernelspec": {
      "display_name": "Python 3",
      "language": "python",
      "name": "python3"
    },
    "language_info": {
      "codemirror_mode": {
        "name": "ipython",
        "version": 3
      },
      "file_extension": ".py",
      "mimetype": "text/x-python",
      "name": "python",
      "nbconvert_exporter": "python",
      "pygments_lexer": "ipython3",
      "version": "3.8.8"
    },
    "colab": {
      "name": "CapsNet_LSTM.ipynb",
      "provenance": [],
      "collapsed_sections": [],
      "machine_shape": "hm",
      "include_colab_link": true
    },
    "accelerator": "TPU",
    "gpuClass": "standard"
  },
  "nbformat": 4,
  "nbformat_minor": 0
}