{
  "cells": [
    {
      "cell_type": "markdown",
      "metadata": {
        "id": "view-in-github",
        "colab_type": "text"
      },
      "source": [
        "<a href=\"https://colab.research.google.com/github/Orangefox76200/CapsNet-LSTM/blob/main/CapsNet_LSTM.ipynb\" target=\"_parent\"><img src=\"https://colab.research.google.com/assets/colab-badge.svg\" alt=\"Open In Colab\"/></a>"
      ]
    },
    {
      "cell_type": "markdown",
      "metadata": {
        "id": "G92ON7NXEnkW"
      },
      "source": [
        "# Financial Time Series Forecasting Using A Hybrid CapsNet-LSTM Architecture: Using real world data (DJIA Index)\n",
        "\n",
        "DJIA Index dataset contains data of the daily DJIA Index price recorded from Jan 1st, 2010 to Dec 31st, 2019. In addition to be using Tensorflow's layers for processing sequence data such as LSTMs we will also intergrate Capsule Network in our proposed hybrid architecture to improve the model's performance.\n",
        "\n",
        "Let's get started!"
      ]
    },
    {
      "cell_type": "code",
      "source": [
        "!pip install keras-tuner -q"
      ],
      "metadata": {
        "id": "q-8z1SiOcPgO"
      },
      "execution_count": 1,
      "outputs": []
    },
    {
      "cell_type": "code",
      "execution_count": 2,
      "metadata": {
        "id": "56XEQOGknrAk"
      },
      "outputs": [],
      "source": [
        "import keras.backend as K\n",
        "import tensorflow as tf\n",
        "import keras\n",
        "import keras_tuner\n",
        "from keras import backend as K\n",
        "from keras import initializers, layers, models, optimizers, callbacks\n",
        "\n",
        "from keras.initializers import *\n",
        "from keras.layers import *\n",
        "from keras.models import *\n",
        "from keras.optimizers import *\n",
        "from keras.callbacks import *\n",
        "\n",
        "import os\n",
        "import pickle\n",
        "import pandas as pd\n",
        "import numpy as np\n",
        "import matplotlib.pyplot as plt\n",
        "from dataclasses import dataclass"
      ]
    },
    {
      "cell_type": "code",
      "source": [
        "# If code is running on TPU\n",
        "resolver = tf.distribute.cluster_resolver.TPUClusterResolver(tpu='')\n",
        "tf.config.experimental_connect_to_cluster(resolver)\n",
        "# This is the TPU initialization code that has to be at the beginning.\n",
        "tf.tpu.experimental.initialize_tpu_system(resolver)\n",
        "print(\"All devices: \", tf.config.list_logical_devices('TPU'))"
      ],
      "metadata": {
        "colab": {
          "base_uri": "https://localhost:8080/"
        },
        "id": "CnjuziNxZdvf",
        "outputId": "8de2cac2-7464-4c61-d798-7c3986dbe2be"
      },
      "execution_count": 3,
      "outputs": [
        {
          "output_type": "stream",
          "name": "stdout",
          "text": [
            "All devices:  [LogicalDevice(name='/job:worker/replica:0/task:0/device:TPU:0', device_type='TPU'), LogicalDevice(name='/job:worker/replica:0/task:0/device:TPU:1', device_type='TPU'), LogicalDevice(name='/job:worker/replica:0/task:0/device:TPU:2', device_type='TPU'), LogicalDevice(name='/job:worker/replica:0/task:0/device:TPU:3', device_type='TPU'), LogicalDevice(name='/job:worker/replica:0/task:0/device:TPU:4', device_type='TPU'), LogicalDevice(name='/job:worker/replica:0/task:0/device:TPU:5', device_type='TPU'), LogicalDevice(name='/job:worker/replica:0/task:0/device:TPU:6', device_type='TPU'), LogicalDevice(name='/job:worker/replica:0/task:0/device:TPU:7', device_type='TPU')]\n"
          ]
        }
      ]
    },
    {
      "cell_type": "code",
      "source": [
        "strategy = tf.distribute.TPUStrategy(resolver)"
      ],
      "metadata": {
        "id": "eb5Za_rOMFVx"
      },
      "execution_count": 4,
      "outputs": []
    },
    {
      "cell_type": "code",
      "source": [
        "# Load the TensorBoard notebook extension\n",
        "%load_ext tensorboard"
      ],
      "metadata": {
        "id": "xd85sJ-phkwi"
      },
      "execution_count": 5,
      "outputs": []
    },
    {
      "cell_type": "code",
      "source": [
        "print(tf.__version__)"
      ],
      "metadata": {
        "colab": {
          "base_uri": "https://localhost:8080/"
        },
        "id": "rA-JsdF3y5eE",
        "outputId": "3783e44e-dfe6-40da-8305-e17ee329aabf"
      },
      "execution_count": 7,
      "outputs": [
        {
          "output_type": "stream",
          "name": "stdout",
          "text": [
            "2.8.2\n"
          ]
        }
      ]
    },
    {
      "cell_type": "markdown",
      "metadata": {
        "id": "RBR7h1IgEnkc"
      },
      "source": [
        "## Parsing the raw data\n",
        "\n",
        "A couple of things to note:\n",
        "\n",
        "- There is no need to save the data points as numpy arrays, regular lists is fine.\n",
        "- The `time` list should contain every timestep (starting at zero), which is just a sequence of ordered numbers with the same length as the `series` list.\n",
        "- The values of the `series` should be of `float` type. You can use Python's built-in `float` function to ensure this."
      ]
    },
    {
      "cell_type": "markdown",
      "metadata": {
        "id": "GeP3JMZHEnkZ"
      },
      "source": [
        "Begin by looking at the structure of the xlsx file that contains the data:"
      ]
    },
    {
      "cell_type": "code",
      "source": [
        "from google.colab import drive\n",
        "drive.mount ('gdrive')\n",
        "DJIA_raw = pd.read_excel('/content/gdrive/MyDrive/Colab Notebooks/DJIA.xlsx')\n",
        "DJIA_raw"
      ],
      "metadata": {
        "colab": {
          "base_uri": "https://localhost:8080/",
          "height": 441
        },
        "id": "vKv3toTHFgnh",
        "outputId": "1c20a1a6-e99c-428c-b07e-cf1dbca6310c"
      },
      "execution_count": 8,
      "outputs": [
        {
          "output_type": "stream",
          "name": "stdout",
          "text": [
            "Drive already mounted at gdrive; to attempt to forcibly remount, call drive.mount(\"gdrive\", force_remount=True).\n"
          ]
        },
        {
          "output_type": "execute_result",
          "data": {
            "text/plain": [
              "              Date      Open      High       Low     Close     Volume\n",
              "0     Jan 04, 2010  10430.69  10604.97  10430.69  10583.96  179780000\n",
              "1     Jan 05, 2010  10584.56  10584.56  10522.52  10572.02  188540000\n",
              "2     Jan 06, 2010  10564.72  10594.99  10546.55  10573.68  186040000\n",
              "3     Jan 07, 2010  10571.11  10612.37  10505.21  10606.86  217390000\n",
              "4     Jan 08, 2010  10606.40  10619.40  10554.33  10618.19  172710000\n",
              "...            ...       ...       ...       ...       ...        ...\n",
              "2511  Dec 24, 2019  28572.57  28576.80  28503.21  28515.45   86150000\n",
              "2512  Dec 26, 2019  28539.46  28624.10  28535.15  28621.39  155970000\n",
              "2513  Dec 27, 2019  28675.34  28701.66  28608.98  28645.26  182280000\n",
              "2514  Dec 30, 2019  28654.76  28664.69  28428.98  28462.14  181600000\n",
              "2515  Dec 31, 2019  28414.64  28547.35  28376.49  28538.44  193340000\n",
              "\n",
              "[2516 rows x 6 columns]"
            ],
            "text/html": [
              "\n",
              "  <div id=\"df-4b6e9247-bcbd-48c4-8e4b-223731af00b5\">\n",
              "    <div class=\"colab-df-container\">\n",
              "      <div>\n",
              "<style scoped>\n",
              "    .dataframe tbody tr th:only-of-type {\n",
              "        vertical-align: middle;\n",
              "    }\n",
              "\n",
              "    .dataframe tbody tr th {\n",
              "        vertical-align: top;\n",
              "    }\n",
              "\n",
              "    .dataframe thead th {\n",
              "        text-align: right;\n",
              "    }\n",
              "</style>\n",
              "<table border=\"1\" class=\"dataframe\">\n",
              "  <thead>\n",
              "    <tr style=\"text-align: right;\">\n",
              "      <th></th>\n",
              "      <th>Date</th>\n",
              "      <th>Open</th>\n",
              "      <th>High</th>\n",
              "      <th>Low</th>\n",
              "      <th>Close</th>\n",
              "      <th>Volume</th>\n",
              "    </tr>\n",
              "  </thead>\n",
              "  <tbody>\n",
              "    <tr>\n",
              "      <th>0</th>\n",
              "      <td>Jan 04, 2010</td>\n",
              "      <td>10430.69</td>\n",
              "      <td>10604.97</td>\n",
              "      <td>10430.69</td>\n",
              "      <td>10583.96</td>\n",
              "      <td>179780000</td>\n",
              "    </tr>\n",
              "    <tr>\n",
              "      <th>1</th>\n",
              "      <td>Jan 05, 2010</td>\n",
              "      <td>10584.56</td>\n",
              "      <td>10584.56</td>\n",
              "      <td>10522.52</td>\n",
              "      <td>10572.02</td>\n",
              "      <td>188540000</td>\n",
              "    </tr>\n",
              "    <tr>\n",
              "      <th>2</th>\n",
              "      <td>Jan 06, 2010</td>\n",
              "      <td>10564.72</td>\n",
              "      <td>10594.99</td>\n",
              "      <td>10546.55</td>\n",
              "      <td>10573.68</td>\n",
              "      <td>186040000</td>\n",
              "    </tr>\n",
              "    <tr>\n",
              "      <th>3</th>\n",
              "      <td>Jan 07, 2010</td>\n",
              "      <td>10571.11</td>\n",
              "      <td>10612.37</td>\n",
              "      <td>10505.21</td>\n",
              "      <td>10606.86</td>\n",
              "      <td>217390000</td>\n",
              "    </tr>\n",
              "    <tr>\n",
              "      <th>4</th>\n",
              "      <td>Jan 08, 2010</td>\n",
              "      <td>10606.40</td>\n",
              "      <td>10619.40</td>\n",
              "      <td>10554.33</td>\n",
              "      <td>10618.19</td>\n",
              "      <td>172710000</td>\n",
              "    </tr>\n",
              "    <tr>\n",
              "      <th>...</th>\n",
              "      <td>...</td>\n",
              "      <td>...</td>\n",
              "      <td>...</td>\n",
              "      <td>...</td>\n",
              "      <td>...</td>\n",
              "      <td>...</td>\n",
              "    </tr>\n",
              "    <tr>\n",
              "      <th>2511</th>\n",
              "      <td>Dec 24, 2019</td>\n",
              "      <td>28572.57</td>\n",
              "      <td>28576.80</td>\n",
              "      <td>28503.21</td>\n",
              "      <td>28515.45</td>\n",
              "      <td>86150000</td>\n",
              "    </tr>\n",
              "    <tr>\n",
              "      <th>2512</th>\n",
              "      <td>Dec 26, 2019</td>\n",
              "      <td>28539.46</td>\n",
              "      <td>28624.10</td>\n",
              "      <td>28535.15</td>\n",
              "      <td>28621.39</td>\n",
              "      <td>155970000</td>\n",
              "    </tr>\n",
              "    <tr>\n",
              "      <th>2513</th>\n",
              "      <td>Dec 27, 2019</td>\n",
              "      <td>28675.34</td>\n",
              "      <td>28701.66</td>\n",
              "      <td>28608.98</td>\n",
              "      <td>28645.26</td>\n",
              "      <td>182280000</td>\n",
              "    </tr>\n",
              "    <tr>\n",
              "      <th>2514</th>\n",
              "      <td>Dec 30, 2019</td>\n",
              "      <td>28654.76</td>\n",
              "      <td>28664.69</td>\n",
              "      <td>28428.98</td>\n",
              "      <td>28462.14</td>\n",
              "      <td>181600000</td>\n",
              "    </tr>\n",
              "    <tr>\n",
              "      <th>2515</th>\n",
              "      <td>Dec 31, 2019</td>\n",
              "      <td>28414.64</td>\n",
              "      <td>28547.35</td>\n",
              "      <td>28376.49</td>\n",
              "      <td>28538.44</td>\n",
              "      <td>193340000</td>\n",
              "    </tr>\n",
              "  </tbody>\n",
              "</table>\n",
              "<p>2516 rows × 6 columns</p>\n",
              "</div>\n",
              "      <button class=\"colab-df-convert\" onclick=\"convertToInteractive('df-4b6e9247-bcbd-48c4-8e4b-223731af00b5')\"\n",
              "              title=\"Convert this dataframe to an interactive table.\"\n",
              "              style=\"display:none;\">\n",
              "        \n",
              "  <svg xmlns=\"http://www.w3.org/2000/svg\" height=\"24px\"viewBox=\"0 0 24 24\"\n",
              "       width=\"24px\">\n",
              "    <path d=\"M0 0h24v24H0V0z\" fill=\"none\"/>\n",
              "    <path d=\"M18.56 5.44l.94 2.06.94-2.06 2.06-.94-2.06-.94-.94-2.06-.94 2.06-2.06.94zm-11 1L8.5 8.5l.94-2.06 2.06-.94-2.06-.94L8.5 2.5l-.94 2.06-2.06.94zm10 10l.94 2.06.94-2.06 2.06-.94-2.06-.94-.94-2.06-.94 2.06-2.06.94z\"/><path d=\"M17.41 7.96l-1.37-1.37c-.4-.4-.92-.59-1.43-.59-.52 0-1.04.2-1.43.59L10.3 9.45l-7.72 7.72c-.78.78-.78 2.05 0 2.83L4 21.41c.39.39.9.59 1.41.59.51 0 1.02-.2 1.41-.59l7.78-7.78 2.81-2.81c.8-.78.8-2.07 0-2.86zM5.41 20L4 18.59l7.72-7.72 1.47 1.35L5.41 20z\"/>\n",
              "  </svg>\n",
              "      </button>\n",
              "      \n",
              "  <style>\n",
              "    .colab-df-container {\n",
              "      display:flex;\n",
              "      flex-wrap:wrap;\n",
              "      gap: 12px;\n",
              "    }\n",
              "\n",
              "    .colab-df-convert {\n",
              "      background-color: #E8F0FE;\n",
              "      border: none;\n",
              "      border-radius: 50%;\n",
              "      cursor: pointer;\n",
              "      display: none;\n",
              "      fill: #1967D2;\n",
              "      height: 32px;\n",
              "      padding: 0 0 0 0;\n",
              "      width: 32px;\n",
              "    }\n",
              "\n",
              "    .colab-df-convert:hover {\n",
              "      background-color: #E2EBFA;\n",
              "      box-shadow: 0px 1px 2px rgba(60, 64, 67, 0.3), 0px 1px 3px 1px rgba(60, 64, 67, 0.15);\n",
              "      fill: #174EA6;\n",
              "    }\n",
              "\n",
              "    [theme=dark] .colab-df-convert {\n",
              "      background-color: #3B4455;\n",
              "      fill: #D2E3FC;\n",
              "    }\n",
              "\n",
              "    [theme=dark] .colab-df-convert:hover {\n",
              "      background-color: #434B5C;\n",
              "      box-shadow: 0px 1px 3px 1px rgba(0, 0, 0, 0.15);\n",
              "      filter: drop-shadow(0px 1px 2px rgba(0, 0, 0, 0.3));\n",
              "      fill: #FFFFFF;\n",
              "    }\n",
              "  </style>\n",
              "\n",
              "      <script>\n",
              "        const buttonEl =\n",
              "          document.querySelector('#df-4b6e9247-bcbd-48c4-8e4b-223731af00b5 button.colab-df-convert');\n",
              "        buttonEl.style.display =\n",
              "          google.colab.kernel.accessAllowed ? 'block' : 'none';\n",
              "\n",
              "        async function convertToInteractive(key) {\n",
              "          const element = document.querySelector('#df-4b6e9247-bcbd-48c4-8e4b-223731af00b5');\n",
              "          const dataTable =\n",
              "            await google.colab.kernel.invokeFunction('convertToInteractive',\n",
              "                                                     [key], {});\n",
              "          if (!dataTable) return;\n",
              "\n",
              "          const docLinkHtml = 'Like what you see? Visit the ' +\n",
              "            '<a target=\"_blank\" href=https://colab.research.google.com/notebooks/data_table.ipynb>data table notebook</a>'\n",
              "            + ' to learn more about interactive tables.';\n",
              "          element.innerHTML = '';\n",
              "          dataTable['output_type'] = 'display_data';\n",
              "          await google.colab.output.renderOutput(dataTable, element);\n",
              "          const docLink = document.createElement('div');\n",
              "          docLink.innerHTML = docLinkHtml;\n",
              "          element.appendChild(docLink);\n",
              "        }\n",
              "      </script>\n",
              "    </div>\n",
              "  </div>\n",
              "  "
            ]
          },
          "metadata": {},
          "execution_count": 8
        }
      ]
    },
    {
      "cell_type": "code",
      "source": [
        "series = DJIA_raw.iloc[:,4]"
      ],
      "metadata": {
        "id": "vTg-wdf-Vpbi"
      },
      "execution_count": 9,
      "outputs": []
    },
    {
      "cell_type": "code",
      "source": [
        "time = []\n",
        "for i in range(0, len(series)):\n",
        "  time.append(i)"
      ],
      "metadata": {
        "id": "4P3cPCrbVpVl"
      },
      "execution_count": 10,
      "outputs": []
    },
    {
      "cell_type": "markdown",
      "source": [
        "A helper function to plot the time series:"
      ],
      "metadata": {
        "id": "XQh2IH8Tl0Le"
      }
    },
    {
      "cell_type": "code",
      "source": [
        "def plot_series(time, series, format=\"-\", start=0, end=None):\n",
        "    plt.plot(time[start:end], series[start:end], format)\n",
        "    plt.xlabel(\"Time\")\n",
        "    plt.ylabel(\"Value\")\n",
        "    plt.grid(True)"
      ],
      "metadata": {
        "id": "qMGyMzGelzEW"
      },
      "execution_count": 11,
      "outputs": []
    },
    {
      "cell_type": "markdown",
      "metadata": {
        "id": "tT1tB8J1Enkd"
      },
      "source": [
        "The next cell will use functions to compute the `time` and `series` and will save these as numpy arrays within the `G` dataclass. This cell will also plot the time series:"
      ]
    },
    {
      "cell_type": "code",
      "execution_count": 12,
      "metadata": {
        "colab": {
          "base_uri": "https://localhost:8080/",
          "height": 388
        },
        "id": "R8UYoZlKEnke",
        "outputId": "c401d0e9-1e29-422c-f8f2-a4846bc7fe9e"
      },
      "outputs": [
        {
          "output_type": "display_data",
          "data": {
            "text/plain": [
              "<Figure size 720x432 with 1 Axes>"
            ],
            "image/png": "[encoded data removed]"
          },
          "metadata": {
            "needs_background": "light"
          }
        }
      ],
      "source": [
        "# Save all \"global\" variables within the G class (G stands for global)\n",
        "@dataclass\n",
        "class G:\n",
        "    TIME = np.array(time)\n",
        "    SERIES = np.array(series)\n",
        "    SPLIT_TIME = int((len(series)-150)*0.8)\n",
        "    WINDOW_SIZE = 250\n",
        "    BATCH_SIZE = 32\n",
        "    SHUFFLE_BUFFER_SIZE = 60\n",
        "\n",
        "plt.figure(figsize=(10, 6))\n",
        "plot_series(G.TIME, G.SERIES)\n",
        "plt.show()"
      ]
    },
    {
      "cell_type": "markdown",
      "metadata": {
        "id": "Y8U3ckcaEnke"
      },
      "source": [
        "## Processing the data\n",
        "\n",
        "The `train_val_split` and `windowed_dataset` functions:"
      ]
    },
    {
      "cell_type": "code",
      "execution_count": 13,
      "metadata": {
        "id": "3O7A_9XdEnkf"
      },
      "outputs": [],
      "source": [
        "def train_val_test_split(time, series, time_step=G.SPLIT_TIME):\n",
        "\n",
        "    time_train = time[:time_step]\n",
        "    series_train = series[:time_step]\n",
        "    time_valid = time[time_step:-150]\n",
        "    series_valid = series[time_step:-150]\n",
        "    time_test = time[-150:]\n",
        "    series_test = series[-150:]\n",
        "\n",
        "    return time_train, series_train, time_valid, series_valid, time_test, series_test\n",
        "\n",
        "# Split the dataset\n",
        "time_train, series_train, time_valid, series_valid, time_test, series_test = train_val_test_split(G.TIME, G.SERIES)"
      ]
    },
    {
      "cell_type": "markdown",
      "source": [
        "min-max normalization:"
      ],
      "metadata": {
        "id": "M8xZy3QTZD8e"
      }
    },
    {
      "cell_type": "code",
      "source": [
        "def min_max_normalization(series):\n",
        "  series = (series - min(series_train))/(max(series_train) - min(series_train))\n",
        "  return series"
      ],
      "metadata": {
        "id": "aRkvaM6AauAy"
      },
      "execution_count": 14,
      "outputs": []
    },
    {
      "cell_type": "code",
      "source": [
        "series_norm = min_max_normalization(G.SERIES)"
      ],
      "metadata": {
        "id": "UR8bYse7ZC-G"
      },
      "execution_count": 15,
      "outputs": []
    },
    {
      "cell_type": "code",
      "source": [
        "series_train_norm = series_norm[:G.SPLIT_TIME]\n",
        "series_valid_norm = series_norm[G.SPLIT_TIME:-150]\n",
        "series_test_norm = series_norm[-150:]"
      ],
      "metadata": {
        "id": "CQr8LSVw4BIV"
      },
      "execution_count": 16,
      "outputs": []
    },
    {
      "cell_type": "code",
      "source": [
        "plot_series(time_train, series_train_norm)"
      ],
      "metadata": {
        "colab": {
          "base_uri": "https://localhost:8080/",
          "height": 279
        },
        "id": "slIykxCnn9Eb",
        "outputId": "a1ea0384-9d0a-422a-bc83-005f591803ac"
      },
      "execution_count": 17,
      "outputs": [
        {
          "output_type": "display_data",
          "data": {
            "text/plain": [
              "<Figure size 432x288 with 1 Axes>"
            ],
            "image/png": "[encoded data removed]"
          },
          "metadata": {
            "needs_background": "light"
          }
        }
      ]
    },
    {
      "cell_type": "code",
      "source": [
        "plot_series(time_valid, series_valid_norm)"
      ],
      "metadata": {
        "colab": {
          "base_uri": "https://localhost:8080/",
          "height": 279
        },
        "id": "2dBiTEwnoPCf",
        "outputId": "d9b4753f-aae7-44bb-989b-6c203d12a526"
      },
      "execution_count": 18,
      "outputs": [
        {
          "output_type": "display_data",
          "data": {
            "text/plain": [
              "<Figure size 432x288 with 1 Axes>"
            ],
            "image/png": "[encoded data removed]"
          },
          "metadata": {
            "needs_background": "light"
          }
        }
      ]
    },
    {
      "cell_type": "code",
      "source": [
        "plot_series(time_test, series_test_norm)"
      ],
      "metadata": {
        "colab": {
          "base_uri": "https://localhost:8080/",
          "height": 279
        },
        "id": "bCGYGHZC4oSt",
        "outputId": "864fd5ed-6146-42c7-ec7f-972cc8e927db"
      },
      "execution_count": 19,
      "outputs": [
        {
          "output_type": "display_data",
          "data": {
            "text/plain": [
              "<Figure size 432x288 with 1 Axes>"
            ],
            "image/png": "[encoded data removed]"
          },
          "metadata": {
            "needs_background": "light"
          }
        }
      ]
    },
    {
      "cell_type": "code",
      "execution_count": 20,
      "metadata": {
        "id": "lJwUUZscnG38"
      },
      "outputs": [],
      "source": [
        "def windowed_dataset(series, window_size=G.WINDOW_SIZE, batch_size=G.BATCH_SIZE, shuffle_buffer=G.SHUFFLE_BUFFER_SIZE):\n",
        "    ds = tf.data.Dataset.from_tensor_slices(series)\n",
        "    ds = ds.window(window_size + 1, shift=1, drop_remainder=True)\n",
        "    ds = ds.flat_map(lambda w: w.batch(window_size + 1))\n",
        "    ds = ds.shuffle(shuffle_buffer) \n",
        "    ds = ds.map(lambda w: (w[:-1], w[-1]))\n",
        "    ds = ds.batch(batch_size).prefetch(1)\n",
        "    return ds\n",
        "\n",
        "\n",
        "train_set = windowed_dataset(series_train_norm, window_size=G.WINDOW_SIZE, batch_size=G.BATCH_SIZE, shuffle_buffer=G.SHUFFLE_BUFFER_SIZE)"
      ]
    },
    {
      "cell_type": "code",
      "source": [
        "# create val_set without using shuffle method.\n",
        "def windowed_dataset_noshuffle(series, window_size=G.WINDOW_SIZE, batch_size=G.BATCH_SIZE):\n",
        "    ds = tf.data.Dataset.from_tensor_slices(series)\n",
        "    ds = ds.window(window_size + 1, shift=1, drop_remainder=True)\n",
        "    ds = ds.flat_map(lambda w: w.batch(window_size + 1))\n",
        "    ds = ds.map(lambda w: (w[:-1], w[-1]))\n",
        "    ds = ds.batch(batch_size).prefetch(1)\n",
        "    return ds\n",
        "\n",
        "\n",
        "val_set = windowed_dataset_noshuffle(series_norm[G.SPLIT_TIME-G.WINDOW_SIZE:-150], window_size=G.WINDOW_SIZE, batch_size=G.BATCH_SIZE)"
      ],
      "metadata": {
        "id": "Uix6YCADP4wK"
      },
      "execution_count": 21,
      "outputs": []
    },
    {
      "cell_type": "markdown",
      "metadata": {
        "id": "GaMon77MEnkf"
      },
      "source": [
        "## Defining the model architecture (CapsNet-LSTM)\n"
      ]
    },
    {
      "cell_type": "code",
      "source": [
        "# Squash function\n",
        "\n",
        "\n",
        "def squash(vectors, axis=-1):\n",
        "    \"\"\"\n",
        "    The non-linear activation used in Capsule. It drives the length of a large vector to near 1 and small vector to 0\n",
        "    :param vectors: some vectors to be squashed, N-dim tensor\n",
        "    :param axis: the axis to squash\n",
        "    :return: a Tensor with same shape as input vectors\n",
        "    \"\"\"\n",
        "    s_squared_norm = K.sum(K.square(vectors), axis, keepdims=True) \n",
        "    scale = s_squared_norm / (1 + s_squared_norm) / K.sqrt(s_squared_norm + K.epsilon())\n",
        "    return scale * vectors\n"
      ],
      "metadata": {
        "id": "NAPDHkls8FGx"
      },
      "execution_count": 22,
      "outputs": []
    },
    {
      "cell_type": "code",
      "source": [
        "# Dynamic routing (layer)\n",
        "#    The capsule layer. It is similar to Dense layer. Dense layer has `in_num` inputs, each is a scalar, the output of the \n",
        "#    neuron from the former layer, and it has `out_num` output neurons. CapsuleLayer just expand the output of the neuron\n",
        "#    from scalar to vector. So its input shape = [None, input_num_capsule, input_dim_capsule] and output shape = \\\n",
        "#    [None, num_capsule, dim_capsule]. For Dense Layer, input_dim_capsule = dim_capsule = 1.\n",
        "\n",
        "#    :param dim_capsule: dimension of the output vectors of the capsules in this layer\n",
        "#    :param routings: number of iterations for the routing algorithm \n",
        "\n",
        "class Routing(keras.layers.Layer):\n",
        "\n",
        "    def __init__(self, dim_capsule = 32 , routings=3, kernel_initializer='glorot_uniform'):\n",
        "        super(Routing, self).__init__()\n",
        "        self.dim_capsule = dim_capsule\n",
        "        self.routings = routings\n",
        "        self.kernel_initializer = initializers.get(kernel_initializer)\n",
        "\n",
        "\n",
        "    def build(self, input_shape):\n",
        "        # build tansform matrix which can convert one primary cap to a vector with the same order as the digit cap.\n",
        "        # assert len(input_shape) >= 3  # The input Tensor should have shape=[None, input_num_capsule, input_dim_capsule]\n",
        "        self.input_num_capsule = input_shape[1]\n",
        "        self.input_dim_capsule = input_shape[2]\n",
        "        \n",
        "        # Transform matrix\n",
        "       \n",
        "        self.W = self.add_weight(shape=[self.input_num_capsule,self.dim_capsule, self.input_dim_capsule],initializer=self.kernel_initializer,name='W')\n",
        "\n",
        "        #super().build(input_shape)\n",
        "        #self.built = True\n",
        "    \n",
        "\n",
        "    def call(self, inputs): #training=None\n",
        "        # inputs.shape=[input_num_capsule, input_dim_capsule]\n",
        "        # inputs_expand.shape=[input_num_capsule, input_dim_capsule, 1]\n",
        "        inputs_expand = K.expand_dims(inputs, -1)    \n",
        "\n",
        "        # Compute `inputs * W` by scanning inputs_tiled on dimension 0.\n",
        "        # x.shape=[None, input_num_capsule, input_dim_capsule, 1]\n",
        "        # W.shape=[input_num_capsule, dim_capsule, input_dim_capsule]\n",
        "        # Regard the first dimension as `batch` dimension,\n",
        "        # then matmul: [dim_capsule, input_dim_capsule] x [input_dim_capsule, 1] -> [dim_capsule].\n",
        "        # inputs_hat.shape = [None, input_num_capsule, dim_capsule, 1]     \n",
        "          \n",
        "        inputs_hat = K.map_fn(lambda x: K.batch_dot(self.W, x, [2, 1]), elems=inputs_expand) \n",
        "\n",
        "        inputs_hat = K.squeeze(inputs_hat, axis = -1)\n",
        "        # inputs_hat.shape = [None, input_num_capsule, dim_capsule]\n",
        "       \n",
        "        # Begin: Routing algorithm ---------------------------------------------------------------------#\n",
        "        # The prior for coupling coefficient, initialized as zeros.\n",
        "        # b.shape = [None, self.input_num_capsule].\n",
        "        b = tf.zeros(shape=[K.shape(inputs_hat)[0], self.input_num_capsule])\n",
        "        \n",
        "        assert self.routings > 0\n",
        "        for i in range(self.routings):\n",
        "            # c.shape=[batch_size, input_num_capsule]\n",
        "            c = tf.nn.softmax(b, axis=-1)\n",
        "\n",
        "            # c.shape =  [batch_size, input_num_capsule]\n",
        "            # inputs_hat.shape=[batch_size, input_num_capsule, dim_capsule]\n",
        "            # The first dimensions as `batch` dimension,\n",
        "            # then matmal: [input_num_capsule] x [input_num_capsule, dim_capsule] -> [dim_capsule].\n",
        "            # outputs.shape=[None, dim_capsule]\n",
        "            outputs = squash(K.batch_dot(c, inputs_hat, [1, 1])) \n",
        "\n",
        "            if i < self.routings - 1:\n",
        "                # outputs.shape =  [None, dim_capsule]\n",
        "                # inputs_hat.shape=[None, input_num_capsule, dim_capsule]\n",
        "                # The first dimension as `batch` dimension,\n",
        "                # then matmal: [dim_capsule] x [input_num_capsule, dim_capsule]^T -> [input_num_capsule].\n",
        "                # b.shape=[batch_size, input_num_capsule]\n",
        "                b += K.batch_dot(outputs, inputs_hat, [1, 2])\n",
        "       \n",
        "        # End: Routing algorithm -----------------------------------------------------------------------#\n",
        "\n",
        "        return outputs\n",
        "\n",
        "    def compute_output_shape(self, input_shape):\n",
        "        return tuple([None, self.dim_capsule])"
      ],
      "metadata": {
        "id": "n2SUkh9LAFqP"
      },
      "execution_count": 23,
      "outputs": []
    },
    {
      "cell_type": "code",
      "source": [
        "input_shape = (G.WINDOW_SIZE, 1)"
      ],
      "metadata": {
        "id": "uh3dZo2eVk0K"
      },
      "execution_count": 24,
      "outputs": []
    },
    {
      "cell_type": "markdown",
      "source": [
        "### Build CapsNet-LSTM"
      ],
      "metadata": {
        "id": "_p0mPdSUDQhB"
      }
    },
    {
      "cell_type": "code",
      "source": [
        "K.clear_session()"
      ],
      "metadata": {
        "id": "-dD6KzvejX_o"
      },
      "execution_count": 25,
      "outputs": []
    },
    {
      "cell_type": "code",
      "source": [
        "\n",
        "def CapsNet_LSTM(input_shape = (G.WINDOW_SIZE, 1), input_num_capsule =64, input_dim_capsule =8, dim_capsule = 32, routings =3):\n",
        "    \n",
        "      input = tf.keras.layers.Input(shape=input_shape)\n",
        "      \n",
        "      # First layer\n",
        "      conv1d_1 = tf.keras.layers.Conv1D(filters=512, kernel_size=2, strides=1, padding='causal', activation='relu', name = 'conv1d_1')(input)\n",
        "          \n",
        "      # Primary caps\n",
        "      conv1d_2 = tf.keras.layers.Conv1D(filters=512, kernel_size=2, strides=1, padding='causal',name = 'conv1d_2')(conv1d_1)\n",
        "      #conv1d_2 = tf.keras.layers.Conv1D(filters=512, kernel_size=2, strides=1, padding='causal',groups = input_num_capsule, name = 'conv1d_2')(conv1d_1)\n",
        "      unsquashed_caps = tf.keras.layers.Reshape((G.WINDOW_SIZE, input_num_capsule, input_dim_capsule))(conv1d_2)\n",
        "      squashed_caps = tf.keras.layers.Lambda(squash)(unsquashed_caps)\n",
        "\n",
        "      # for test purpose\n",
        "      #squashed_caps = tf.keras.layers.Reshape((G.WINDOW_SIZE, 512))(squashed_caps)\n",
        "\n",
        "\n",
        "      # Digit caps\n",
        "      #digit_caps = Routing(dim_capsule = dim_capsule, routings = routings)(squashed_caps[:,0,:,:])\n",
        "      #digit_caps = tf.keras.layers.Lambda(lambda x: K.expand_dims(x, 1))(digit_caps)\n",
        "      #digit_caps = tf.keras.layers.Lambda(lambda x: K.tile(x, [1, 250, 1]))(digit_caps)\n",
        "      \n",
        "\n",
        "      digit_caps = tf.keras.layers.TimeDistributed(Routing(dim_capsule = dim_capsule, routings = routings))(squashed_caps)\n",
        "\n",
        "      # LSTM layer\n",
        "      lstm = tf.keras.layers.LSTM(200)(digit_caps)\n",
        "\n",
        "      # Dense layer\n",
        "      dense1 = tf.keras.layers.Dense(30, activation=\"relu\")(lstm)\n",
        "      dense2 = tf.keras.layers.Dense(10, activation=\"relu\")(dense1)\n",
        "      output = tf.keras.layers.Dense(1)(dense2)\n",
        "\n",
        "      model = keras.Model(inputs=input, outputs=output, name=\"capsnet_lstm\")\n",
        "\n",
        "      model.summary()   \n",
        "      return model"
      ],
      "metadata": {
        "id": "0yZMvGxYbacl"
      },
      "execution_count": 26,
      "outputs": []
    },
    {
      "cell_type": "code",
      "source": [
        "capsnet_lstm_check = CapsNet_LSTM(input_shape)"
      ],
      "metadata": {
        "id": "1c71f7dCVlyr",
        "outputId": "a7d4fb2f-7470-4dee-81db-2b0c4ec6124b",
        "colab": {
          "base_uri": "https://localhost:8080/"
        }
      },
      "execution_count": 27,
      "outputs": [
        {
          "output_type": "stream",
          "name": "stderr",
          "text": [
            "WARNING:tensorflow:From /usr/local/lib/python3.7/dist-packages/keras/backend.py:6659: calling map_fn (from tensorflow.python.ops.map_fn) with dtype is deprecated and will be removed in a future version.\n",
            "Instructions for updating:\n",
            "Use fn_output_signature instead\n"
          ]
        },
        {
          "output_type": "stream",
          "name": "stdout",
          "text": [
            "Model: \"capsnet_lstm\"\n",
            "_________________________________________________________________\n",
            " Layer (type)                Output Shape              Param #   \n",
            "=================================================================\n",
            " input_1 (InputLayer)        [(None, 250, 1)]          0         \n",
            "                                                                 \n",
            " conv1d_1 (Conv1D)           (None, 250, 512)          1536      \n",
            "                                                                 \n",
            " conv1d_2 (Conv1D)           (None, 250, 512)          524800    \n",
            "                                                                 \n",
            " reshape (Reshape)           (None, 250, 64, 8)        0         \n",
            "                                                                 \n",
            " lambda (Lambda)             (None, 250, 64, 8)        0         \n",
            "                                                                 \n",
            " time_distributed (TimeDistr  (None, 250, 32)          16384     \n",
            " ibuted)                                                         \n",
            "                                                                 \n",
            " lstm (LSTM)                 (None, 200)               186400    \n",
            "                                                                 \n",
            " dense (Dense)               (None, 30)                6030      \n",
            "                                                                 \n",
            " dense_1 (Dense)             (None, 10)                310       \n",
            "                                                                 \n",
            " dense_2 (Dense)             (None, 1)                 11        \n",
            "                                                                 \n",
            "=================================================================\n",
            "Total params: 735,471\n",
            "Trainable params: 735,471\n",
            "Non-trainable params: 0\n",
            "_________________________________________________________________\n"
          ]
        }
      ]
    },
    {
      "cell_type": "code",
      "source": [
        "# Test the uncompiled CapsNet_LSTM\n",
        "\n",
        "try:\n",
        "    capsnet_lstm_check.predict(train_set)\n",
        "except:\n",
        "    print(\"Your current architecture is incompatible with the windowed dataset, try adjusting it.\")\n",
        "else:\n",
        "    print(\"Your current architecture is compatible with the windowed dataset! :)\")"
      ],
      "metadata": {
        "colab": {
          "base_uri": "https://localhost:8080/"
        },
        "id": "IgKUAE8WVdqv",
        "outputId": "55de257d-fa0e-4d1d-cc88-cdb197f67e69"
      },
      "execution_count": 28,
      "outputs": [
        {
          "output_type": "stream",
          "name": "stdout",
          "text": [
            "Your current architecture is compatible with the windowed dataset! :)\n"
          ]
        }
      ]
    },
    {
      "cell_type": "markdown",
      "metadata": {
        "id": "vmiSz8lREnkg"
      },
      "source": [
        "## Adjusting the learning rate\n",
        "\n",
        "We can leverage Tensorflow's callbacks to dynamically vary the learning rate during training. This can be helpful to get a better sense of which learning rate better acommodates to the problem at hand.\n",
        "\n",
        "For the optimizers you can try out:\n",
        "\n",
        "- tf.keras.optimizers.Adam\n",
        "- tf.keras.optimizers.SGD with a momentum of 0.9"
      ]
    },
    {
      "cell_type": "code",
      "source": [
        "with strategy.scope():\n",
        "  \n",
        "  capsnet_lstm = CapsNet_LSTM(input_shape)\n",
        "  capsnet_lstm.compile(loss=tf.keras.losses.Huber(), optimizer=tf.keras.optimizers.Adam(), metrics=[\"mae\"])"
      ],
      "metadata": {
        "colab": {
          "base_uri": "https://localhost:8080/"
        },
        "id": "EB4i9JuUN_aC",
        "outputId": "2f919fbf-c904-4152-820f-0161ae36b142"
      },
      "execution_count": 29,
      "outputs": [
        {
          "output_type": "stream",
          "name": "stdout",
          "text": [
            "Model: \"capsnet_lstm\"\n",
            "_________________________________________________________________\n",
            " Layer (type)                Output Shape              Param #   \n",
            "=================================================================\n",
            " input_2 (InputLayer)        [(None, 250, 1)]          0         \n",
            "                                                                 \n",
            " conv1d_1 (Conv1D)           (None, 250, 512)          1536      \n",
            "                                                                 \n",
            " conv1d_2 (Conv1D)           (None, 250, 512)          524800    \n",
            "                                                                 \n",
            " reshape_1 (Reshape)         (None, 250, 64, 8)        0         \n",
            "                                                                 \n",
            " lambda_1 (Lambda)           (None, 250, 64, 8)        0         \n",
            "                                                                 \n",
            " time_distributed_1 (TimeDis  (None, 250, 32)          16384     \n",
            " tributed)                                                       \n",
            "                                                                 \n",
            " lstm_1 (LSTM)               (None, 200)               186400    \n",
            "                                                                 \n",
            " dense_3 (Dense)             (None, 30)                6030      \n",
            "                                                                 \n",
            " dense_4 (Dense)             (None, 10)                310       \n",
            "                                                                 \n",
            " dense_5 (Dense)             (None, 1)                 11        \n",
            "                                                                 \n",
            "=================================================================\n",
            "Total params: 735,471\n",
            "Trainable params: 735,471\n",
            "Non-trainable params: 0\n",
            "_________________________________________________________________\n"
          ]
        }
      ]
    },
    {
      "cell_type": "code",
      "source": [
        "batch_size = G.BATCH_SIZE\n",
        "steps_per_epoch =  len(list(train_set))// batch_size\n",
        "validation_steps = len(list(val_set)) // batch_size\n",
        "lr_schedule = tf.keras.callbacks.LearningRateScheduler(lambda epoch: 1e-6 * 10**(epoch / 20))\n",
        "\n",
        "history = capsnet_lstm.fit(train_set, epochs=100, callbacks=[lr_schedule])\n"
      ],
      "metadata": {
        "colab": {
          "base_uri": "https://localhost:8080/"
        },
        "id": "QYgtE1LoSZe3",
        "outputId": "34ffb25c-8ea4-4ed7-9062-1668a009713e"
      },
      "execution_count": 30,
      "outputs": [
        {
          "output_type": "stream",
          "name": "stdout",
          "text": [
            "Epoch 1/100\n",
            "52/52 [==============================] - 22s 243ms/step - loss: 0.1587 - mae: 0.5155 - lr: 1.0000e-06\n",
            "Epoch 2/100\n",
            "52/52 [==============================] - 10s 195ms/step - loss: 0.1585 - mae: 0.5152 - lr: 1.1220e-06\n",
            "Epoch 3/100\n",
            "52/52 [==============================] - 10s 193ms/step - loss: 0.1583 - mae: 0.5148 - lr: 1.2589e-06\n",
            "Epoch 4/100\n",
            "52/52 [==============================] - 8s 164ms/step - loss: 0.1581 - mae: 0.5143 - lr: 1.4125e-06\n",
            "Epoch 5/100\n",
            "52/52 [==============================] - 9s 179ms/step - loss: 0.1578 - mae: 0.5138 - lr: 1.5849e-06\n",
            "Epoch 6/100\n",
            "52/52 [==============================] - 9s 172ms/step - loss: 0.1575 - mae: 0.5132 - lr: 1.7783e-06\n",
            "Epoch 7/100\n",
            "52/52 [==============================] - 10s 182ms/step - loss: 0.1571 - mae: 0.5125 - lr: 1.9953e-06\n",
            "Epoch 8/100\n",
            "52/52 [==============================] - 9s 177ms/step - loss: 0.1566 - mae: 0.5116 - lr: 2.2387e-06\n",
            "Epoch 9/100\n",
            "52/52 [==============================] - 9s 171ms/step - loss: 0.1561 - mae: 0.5106 - lr: 2.5119e-06\n",
            "Epoch 10/100\n",
            "52/52 [==============================] - 8s 146ms/step - loss: 0.1554 - mae: 0.5093 - lr: 2.8184e-06\n",
            "Epoch 11/100\n",
            "52/52 [==============================] - 7s 143ms/step - loss: 0.1545 - mae: 0.5076 - lr: 3.1623e-06\n",
            "Epoch 12/100\n",
            "52/52 [==============================] - 8s 157ms/step - loss: 0.1532 - mae: 0.5052 - lr: 3.5481e-06\n",
            "Epoch 13/100\n",
            "52/52 [==============================] - 9s 172ms/step - loss: 0.1513 - mae: 0.5015 - lr: 3.9811e-06\n",
            "Epoch 14/100\n",
            "52/52 [==============================] - 9s 177ms/step - loss: 0.1475 - mae: 0.4945 - lr: 4.4668e-06\n",
            "Epoch 15/100\n",
            "52/52 [==============================] - 10s 185ms/step - loss: 0.1313 - mae: 0.4674 - lr: 5.0119e-06\n",
            "Epoch 16/100\n",
            "52/52 [==============================] - 8s 158ms/step - loss: 0.0036 - mae: 0.0679 - lr: 5.6234e-06\n",
            "Epoch 17/100\n",
            "52/52 [==============================] - 11s 201ms/step - loss: 0.0953 - mae: 0.3979 - lr: 6.3096e-06\n",
            "Epoch 18/100\n",
            "52/52 [==============================] - 10s 188ms/step - loss: 0.0480 - mae: 0.2742 - lr: 7.0795e-06\n",
            "Epoch 19/100\n",
            "52/52 [==============================] - 9s 177ms/step - loss: 0.0482 - mae: 0.2711 - lr: 7.9433e-06\n",
            "Epoch 20/100\n",
            "52/52 [==============================] - 8s 146ms/step - loss: 0.0425 - mae: 0.2547 - lr: 8.9125e-06\n",
            "Epoch 21/100\n",
            "52/52 [==============================] - 9s 173ms/step - loss: 0.0394 - mae: 0.2451 - lr: 1.0000e-05\n",
            "Epoch 22/100\n",
            "52/52 [==============================] - 9s 172ms/step - loss: 0.0377 - mae: 0.2399 - lr: 1.1220e-05\n",
            "Epoch 23/100\n",
            "52/52 [==============================] - 8s 149ms/step - loss: 0.0365 - mae: 0.2364 - lr: 1.2589e-05\n",
            "Epoch 24/100\n",
            "52/52 [==============================] - 11s 209ms/step - loss: 0.0356 - mae: 0.2338 - lr: 1.4125e-05\n",
            "Epoch 25/100\n",
            "52/52 [==============================] - 12s 221ms/step - loss: 0.0351 - mae: 0.2318 - lr: 1.5849e-05\n",
            "Epoch 26/100\n",
            "52/52 [==============================] - 8s 162ms/step - loss: 0.0345 - mae: 0.2312 - lr: 1.7783e-05\n",
            "Epoch 27/100\n",
            "52/52 [==============================] - 10s 194ms/step - loss: 0.0350 - mae: 0.2323 - lr: 1.9953e-05\n",
            "Epoch 28/100\n",
            "52/52 [==============================] - 9s 160ms/step - loss: 0.0346 - mae: 0.2314 - lr: 2.2387e-05\n",
            "Epoch 29/100\n",
            "52/52 [==============================] - 9s 167ms/step - loss: 0.0345 - mae: 0.2317 - lr: 2.5119e-05\n",
            "Epoch 30/100\n",
            "52/52 [==============================] - 8s 160ms/step - loss: 0.0350 - mae: 0.2339 - lr: 2.8184e-05\n",
            "Epoch 31/100\n",
            "52/52 [==============================] - 8s 154ms/step - loss: 0.0353 - mae: 0.2352 - lr: 3.1623e-05\n",
            "Epoch 32/100\n",
            "52/52 [==============================] - 9s 178ms/step - loss: 0.0358 - mae: 0.2374 - lr: 3.5481e-05\n",
            "Epoch 33/100\n",
            "52/52 [==============================] - 10s 191ms/step - loss: 0.0369 - mae: 0.2415 - lr: 3.9811e-05\n",
            "Epoch 34/100\n",
            "52/52 [==============================] - 8s 155ms/step - loss: 0.0375 - mae: 0.2439 - lr: 4.4668e-05\n",
            "Epoch 35/100\n",
            "52/52 [==============================] - 10s 182ms/step - loss: 0.0382 - mae: 0.2466 - lr: 5.0119e-05\n",
            "Epoch 36/100\n",
            "52/52 [==============================] - 9s 179ms/step - loss: 0.0393 - mae: 0.2504 - lr: 5.6234e-05\n",
            "Epoch 37/100\n",
            "52/52 [==============================] - 10s 187ms/step - loss: 0.0398 - mae: 0.2516 - lr: 6.3096e-05\n",
            "Epoch 38/100\n",
            "52/52 [==============================] - 8s 144ms/step - loss: 0.0410 - mae: 0.2561 - lr: 7.0795e-05\n",
            "Epoch 39/100\n",
            "52/52 [==============================] - 7s 136ms/step - loss: 0.0414 - mae: 0.2579 - lr: 7.9433e-05\n",
            "Epoch 40/100\n",
            "52/52 [==============================] - 9s 166ms/step - loss: 0.0421 - mae: 0.2599 - lr: 8.9125e-05\n",
            "Epoch 41/100\n",
            "52/52 [==============================] - 9s 165ms/step - loss: 0.0426 - mae: 0.2616 - lr: 1.0000e-04\n",
            "Epoch 42/100\n",
            "52/52 [==============================] - 11s 197ms/step - loss: 0.0433 - mae: 0.2636 - lr: 1.1220e-04\n",
            "Epoch 43/100\n",
            "52/52 [==============================] - 11s 200ms/step - loss: 0.0371 - mae: 0.2288 - lr: 1.2589e-04\n",
            "Epoch 44/100\n",
            "52/52 [==============================] - 8s 143ms/step - loss: 0.0506 - mae: 0.2842 - lr: 1.4125e-04\n",
            "Epoch 45/100\n",
            "52/52 [==============================] - 11s 217ms/step - loss: 0.0452 - mae: 0.2690 - lr: 1.5849e-04\n",
            "Epoch 46/100\n",
            "52/52 [==============================] - 8s 153ms/step - loss: 0.0444 - mae: 0.2671 - lr: 1.7783e-04\n",
            "Epoch 47/100\n",
            "52/52 [==============================] - 10s 181ms/step - loss: 0.0444 - mae: 0.2672 - lr: 1.9953e-04\n",
            "Epoch 48/100\n",
            "52/52 [==============================] - 9s 172ms/step - loss: 0.0316 - mae: 0.2069 - lr: 2.2387e-04\n",
            "Epoch 49/100\n",
            "52/52 [==============================] - 7s 131ms/step - loss: 0.0524 - mae: 0.2801 - lr: 2.5119e-04\n",
            "Epoch 50/100\n",
            "52/52 [==============================] - 9s 170ms/step - loss: 0.0497 - mae: 0.2776 - lr: 2.8184e-04\n",
            "Epoch 51/100\n",
            "52/52 [==============================] - 10s 193ms/step - loss: 0.0456 - mae: 0.2611 - lr: 3.1623e-04\n",
            "Epoch 52/100\n",
            "52/52 [==============================] - 10s 193ms/step - loss: 0.0513 - mae: 0.2862 - lr: 3.5481e-04\n",
            "Epoch 53/100\n",
            "52/52 [==============================] - 9s 159ms/step - loss: 0.0458 - mae: 0.2709 - lr: 3.9811e-04\n",
            "Epoch 54/100\n",
            "52/52 [==============================] - 8s 163ms/step - loss: 0.0445 - mae: 0.2678 - lr: 4.4668e-04\n",
            "Epoch 55/100\n",
            "52/52 [==============================] - 9s 181ms/step - loss: 0.0435 - mae: 0.2650 - lr: 5.0119e-04\n",
            "Epoch 56/100\n",
            "52/52 [==============================] - 11s 200ms/step - loss: 0.0336 - mae: 0.2226 - lr: 5.6234e-04\n",
            "Epoch 57/100\n",
            "52/52 [==============================] - 9s 174ms/step - loss: 0.0484 - mae: 0.2716 - lr: 6.3096e-04\n",
            "Epoch 58/100\n",
            "52/52 [==============================] - 9s 173ms/step - loss: 0.0464 - mae: 0.2582 - lr: 7.0795e-04\n",
            "Epoch 59/100\n",
            "52/52 [==============================] - 8s 151ms/step - loss: 0.0374 - mae: 0.2362 - lr: 7.9433e-04\n",
            "Epoch 60/100\n",
            "52/52 [==============================] - 8s 161ms/step - loss: 0.0506 - mae: 0.2797 - lr: 8.9125e-04\n",
            "Epoch 61/100\n",
            "52/52 [==============================] - 9s 172ms/step - loss: 0.0421 - mae: 0.2608 - lr: 0.0010\n",
            "Epoch 62/100\n",
            "52/52 [==============================] - 10s 184ms/step - loss: 0.0493 - mae: 0.2822 - lr: 0.0011\n",
            "Epoch 63/100\n",
            "52/52 [==============================] - 8s 152ms/step - loss: 0.0428 - mae: 0.2633 - lr: 0.0013\n",
            "Epoch 64/100\n",
            "52/52 [==============================] - 9s 172ms/step - loss: 0.0426 - mae: 0.2629 - lr: 0.0014\n",
            "Epoch 65/100\n",
            "52/52 [==============================] - 8s 153ms/step - loss: 0.0423 - mae: 0.2623 - lr: 0.0016\n",
            "Epoch 66/100\n",
            "52/52 [==============================] - 8s 151ms/step - loss: 0.0421 - mae: 0.2614 - lr: 0.0018\n",
            "Epoch 67/100\n",
            "52/52 [==============================] - 9s 168ms/step - loss: 0.0283 - mae: 0.1979 - lr: 0.0020\n",
            "Epoch 68/100\n",
            "52/52 [==============================] - 8s 163ms/step - loss: 0.0410 - mae: 0.2357 - lr: 0.0022\n",
            "Epoch 69/100\n",
            "52/52 [==============================] - 10s 191ms/step - loss: 0.0496 - mae: 0.2735 - lr: 0.0025\n",
            "Epoch 70/100\n",
            "52/52 [==============================] - 8s 152ms/step - loss: 0.0427 - mae: 0.2624 - lr: 0.0028\n",
            "Epoch 71/100\n",
            "52/52 [==============================] - 10s 195ms/step - loss: 0.0406 - mae: 0.2560 - lr: 0.0032\n",
            "Epoch 72/100\n",
            "52/52 [==============================] - 8s 155ms/step - loss: 0.0387 - mae: 0.2497 - lr: 0.0035\n",
            "Epoch 73/100\n",
            "52/52 [==============================] - 10s 196ms/step - loss: 0.0388 - mae: 0.2499 - lr: 0.0040\n",
            "Epoch 74/100\n",
            "52/52 [==============================] - 9s 171ms/step - loss: 0.0384 - mae: 0.2487 - lr: 0.0045\n",
            "Epoch 75/100\n",
            "52/52 [==============================] - 9s 180ms/step - loss: 0.0382 - mae: 0.2477 - lr: 0.0050\n",
            "Epoch 76/100\n",
            "52/52 [==============================] - 9s 171ms/step - loss: 0.0377 - mae: 0.2460 - lr: 0.0056\n",
            "Epoch 77/100\n",
            "52/52 [==============================] - 8s 162ms/step - loss: 0.0373 - mae: 0.2441 - lr: 0.0063\n",
            "Epoch 78/100\n",
            "52/52 [==============================] - 9s 169ms/step - loss: 0.0370 - mae: 0.2430 - lr: 0.0071\n",
            "Epoch 79/100\n",
            "52/52 [==============================] - 9s 165ms/step - loss: 0.0367 - mae: 0.2414 - lr: 0.0079\n",
            "Epoch 80/100\n",
            "52/52 [==============================] - 8s 148ms/step - loss: 0.0345 - mae: 0.2327 - lr: 0.0089\n",
            "Epoch 81/100\n",
            "52/52 [==============================] - 7s 142ms/step - loss: nan - mae: nan - lr: 0.0100\n",
            "Epoch 82/100\n",
            "52/52 [==============================] - 9s 168ms/step - loss: nan - mae: nan - lr: 0.0112\n",
            "Epoch 83/100\n",
            "52/52 [==============================] - 8s 143ms/step - loss: nan - mae: nan - lr: 0.0126\n",
            "Epoch 84/100\n",
            "52/52 [==============================] - 9s 172ms/step - loss: nan - mae: nan - lr: 0.0141\n",
            "Epoch 85/100\n",
            "52/52 [==============================] - 7s 139ms/step - loss: nan - mae: nan - lr: 0.0158\n",
            "Epoch 86/100\n",
            "52/52 [==============================] - 10s 193ms/step - loss: nan - mae: nan - lr: 0.0178\n",
            "Epoch 87/100\n",
            "52/52 [==============================] - 8s 163ms/step - loss: nan - mae: nan - lr: 0.0200\n",
            "Epoch 88/100\n",
            "52/52 [==============================] - 9s 171ms/step - loss: nan - mae: nan - lr: 0.0224\n",
            "Epoch 89/100\n",
            "52/52 [==============================] - 9s 171ms/step - loss: nan - mae: nan - lr: 0.0251\n",
            "Epoch 90/100\n",
            "52/52 [==============================] - 8s 155ms/step - loss: nan - mae: nan - lr: 0.0282\n",
            "Epoch 91/100\n",
            "52/52 [==============================] - 9s 182ms/step - loss: nan - mae: nan - lr: 0.0316\n",
            "Epoch 92/100\n",
            "52/52 [==============================] - 10s 186ms/step - loss: nan - mae: nan - lr: 0.0355\n",
            "Epoch 93/100\n",
            "52/52 [==============================] - 9s 179ms/step - loss: nan - mae: nan - lr: 0.0398\n",
            "Epoch 94/100\n",
            "52/52 [==============================] - 9s 163ms/step - loss: nan - mae: nan - lr: 0.0447\n",
            "Epoch 95/100\n",
            "52/52 [==============================] - 9s 182ms/step - loss: nan - mae: nan - lr: 0.0501\n",
            "Epoch 96/100\n",
            "52/52 [==============================] - 9s 160ms/step - loss: nan - mae: nan - lr: 0.0562\n",
            "Epoch 97/100\n",
            "52/52 [==============================] - 10s 197ms/step - loss: nan - mae: nan - lr: 0.0631\n",
            "Epoch 98/100\n",
            "52/52 [==============================] - 10s 194ms/step - loss: nan - mae: nan - lr: 0.0708\n",
            "Epoch 99/100\n",
            "52/52 [==============================] - 8s 163ms/step - loss: nan - mae: nan - lr: 0.0794\n",
            "Epoch 100/100\n",
            "52/52 [==============================] - 9s 180ms/step - loss: nan - mae: nan - lr: 0.0891\n"
          ]
        }
      ]
    },
    {
      "cell_type": "code",
      "execution_count": 33,
      "metadata": {
        "colab": {
          "base_uri": "https://localhost:8080/",
          "height": 290
        },
        "id": "vVcKmg7Q_7rD",
        "outputId": "37764b0a-1bc4-4a96-e9b8-df1402be1cbd"
      },
      "outputs": [
        {
          "output_type": "execute_result",
          "data": {
            "text/plain": [
              "(1e-06, 10.0, 0.0, 0.2)"
            ]
          },
          "metadata": {},
          "execution_count": 33
        },
        {
          "output_type": "display_data",
          "data": {
            "text/plain": [
              "<Figure size 432x288 with 1 Axes>"
            ],
            "image/png": "[encoded data removed]"
          },
          "metadata": {
            "needs_background": "light"
          }
        }
      ],
      "source": [
        "plt.semilogx(history.history[\"lr\"], history.history[\"loss\"])\n",
        "plt.axis([1e-6, 10, 0, 0.2])"
      ]
    },
    {
      "cell_type": "markdown",
      "source": [
        "We then do the same training as before but pass in the val_set to the validation_data parameter of the fit() method："
      ],
      "metadata": {
        "id": "UTvBxZ3fi6Pu"
      }
    },
    {
      "cell_type": "code",
      "execution_count": 37,
      "metadata": {
        "id": "gW3cJkR8Enki",
        "outputId": "0ee9f027-da91-4c45-dee1-7f4cfb10f452",
        "colab": {
          "base_uri": "https://localhost:8080/"
        }
      },
      "outputs": [
        {
          "output_type": "stream",
          "name": "stdout",
          "text": [
            "Model: \"capsnet_lstm\"\n",
            "_________________________________________________________________\n",
            " Layer (type)                Output Shape              Param #   \n",
            "=================================================================\n",
            " input_4 (InputLayer)        [(None, 250, 1)]          0         \n",
            "                                                                 \n",
            " conv1d_1 (Conv1D)           (None, 250, 512)          1536      \n",
            "                                                                 \n",
            " conv1d_2 (Conv1D)           (None, 250, 512)          524800    \n",
            "                                                                 \n",
            " reshape_3 (Reshape)         (None, 250, 64, 8)        0         \n",
            "                                                                 \n",
            " lambda_3 (Lambda)           (None, 250, 64, 8)        0         \n",
            "                                                                 \n",
            " time_distributed_3 (TimeDis  (None, 250, 32)          16384     \n",
            " tributed)                                                       \n",
            "                                                                 \n",
            " lstm_3 (LSTM)               (None, 200)               186400    \n",
            "                                                                 \n",
            " dense_9 (Dense)             (None, 30)                6030      \n",
            "                                                                 \n",
            " dense_10 (Dense)            (None, 10)                310       \n",
            "                                                                 \n",
            " dense_11 (Dense)            (None, 1)                 11        \n",
            "                                                                 \n",
            "=================================================================\n",
            "Total params: 735,471\n",
            "Trainable params: 735,471\n",
            "Non-trainable params: 0\n",
            "_________________________________________________________________\n"
          ]
        }
      ],
      "source": [
        "with strategy.scope():\n",
        "  \n",
        "  capsnet_lstm = CapsNet_LSTM(input_shape)\n",
        "  capsnet_lstm.compile(loss=tf.keras.losses.Huber(), optimizer=tf.keras.optimizers.Adam(learning_rate = 4e-3), metrics=[\"mae\"])"
      ]
    },
    {
      "cell_type": "code",
      "execution_count": 38,
      "metadata": {
        "colab": {
          "base_uri": "https://localhost:8080/"
        },
        "id": "ZRUCvoeKEnki",
        "outputId": "194136af-1303-4d3e-cfad-6e49c0c337ac"
      },
      "outputs": [
        {
          "output_type": "stream",
          "name": "stdout",
          "text": [
            "Epoch 1/200\n",
            "52/52 [==============================] - 26s 314ms/step - loss: 0.0035 - mae: 0.0644 - val_loss: 0.1036 - val_mae: 0.4403\n",
            "Epoch 2/200\n",
            "52/52 [==============================] - 10s 185ms/step - loss: 0.0171 - mae: 0.1466 - val_loss: 0.0226 - val_mae: 0.1901\n",
            "Epoch 3/200\n",
            "52/52 [==============================] - 10s 177ms/step - loss: 0.0361 - mae: 0.1833 - val_loss: 0.0448 - val_mae: 0.2762\n",
            "Epoch 4/200\n",
            "52/52 [==============================] - 13s 247ms/step - loss: 0.0175 - mae: 0.1415 - val_loss: 0.0219 - val_mae: 0.1873\n"
          ]
        }
      ],
      "source": [
        "# Train it\n",
        "callback = tf.keras.callbacks.EarlyStopping(monitor='loss', patience=3)\n",
        "history1 = capsnet_lstm.fit(train_set, epochs=200, validation_data = val_set,callbacks=[callback])"
      ]
    },
    {
      "cell_type": "markdown",
      "source": [
        "training curve"
      ],
      "metadata": {
        "id": "CAQ4iJB68cFU"
      }
    },
    {
      "cell_type": "code",
      "source": [
        "plt.plot(history1.history['mae'])\n",
        "plt.plot(history1.history['val_mae'])\n",
        "plt.title('model MAE')\n",
        "plt.ylabel('MAE')\n",
        "plt.xlabel('epoch')\n",
        "plt.legend(['train', 'val'], loc='upper left')\n",
        "plt.show()"
      ],
      "metadata": {
        "colab": {
          "base_uri": "https://localhost:8080/",
          "height": 295
        },
        "id": "zoJJdSiD8d4j",
        "outputId": "6cfb1fca-19a0-499c-84f8-babeaafd60dc"
      },
      "execution_count": 40,
      "outputs": [
        {
          "output_type": "display_data",
          "data": {
            "text/plain": [
              "<Figure size 432x288 with 1 Axes>"
            ],
            "image/png": "[encoded data removed]"
          },
          "metadata": {
            "needs_background": "light"
          }
        }
      ]
    },
    {
      "cell_type": "markdown",
      "metadata": {
        "id": "E6stIQIqEnkh"
      },
      "source": [
        "## Compiling the model\n",
        "Now that we have trained the model while varying the learning rate, it is time to do the actual training that will be used to forecast the time series."
      ]
    },
    {
      "cell_type": "markdown",
      "source": [
        "Train using train set and validation set together："
      ],
      "metadata": {
        "id": "N0m9BXbgBs4K"
      }
    },
    {
      "cell_type": "code",
      "source": [
        "with strategy.scope():\n",
        "  \n",
        "  capsnet_lstm = CapsNet_LSTM(input_shape)\n",
        "  capsnet_lstm.compile(loss=tf.keras.losses.Huber(), optimizer=tf.keras.optimizers.Adam(learning_rate = 4e-3), metrics=[\"mae\"])\n",
        "\n",
        "train_val_set = windowed_dataset(series_norm[0:-150], window_size=G.WINDOW_SIZE, batch_size=G.BATCH_SIZE, shuffle_buffer=G.SHUFFLE_BUFFER_SIZE)\n",
        "# Train it\n",
        "history2 = capsnet_lstm.fit(train_val_set, epochs=200,callbacks=[callback])"
      ],
      "metadata": {
        "colab": {
          "base_uri": "https://localhost:8080/"
        },
        "id": "39hMkWlmBsMZ",
        "outputId": "406808a8-93ef-4612-af95-aa95de037cb6"
      },
      "execution_count": 41,
      "outputs": [
        {
          "output_type": "stream",
          "name": "stdout",
          "text": [
            "Model: \"capsnet_lstm\"\n",
            "_________________________________________________________________\n",
            " Layer (type)                Output Shape              Param #   \n",
            "=================================================================\n",
            " input_5 (InputLayer)        [(None, 250, 1)]          0         \n",
            "                                                                 \n",
            " conv1d_1 (Conv1D)           (None, 250, 512)          1536      \n",
            "                                                                 \n",
            " conv1d_2 (Conv1D)           (None, 250, 512)          524800    \n",
            "                                                                 \n",
            " reshape_4 (Reshape)         (None, 250, 64, 8)        0         \n",
            "                                                                 \n",
            " lambda_4 (Lambda)           (None, 250, 64, 8)        0         \n",
            "                                                                 \n",
            " time_distributed_4 (TimeDis  (None, 250, 32)          16384     \n",
            " tributed)                                                       \n",
            "                                                                 \n",
            " lstm_4 (LSTM)               (None, 200)               186400    \n",
            "                                                                 \n",
            " dense_12 (Dense)            (None, 30)                6030      \n",
            "                                                                 \n",
            " dense_13 (Dense)            (None, 10)                310       \n",
            "                                                                 \n",
            " dense_14 (Dense)            (None, 1)                 11        \n",
            "                                                                 \n",
            "=================================================================\n",
            "Total params: 735,471\n",
            "Trainable params: 735,471\n",
            "Non-trainable params: 0\n",
            "_________________________________________________________________\n",
            "Epoch 1/200\n",
            "67/67 [==============================] - 25s 216ms/step - loss: 0.0049 - mae: 0.0765\n",
            "Epoch 2/200\n",
            "67/67 [==============================] - 12s 173ms/step - loss: 0.0254 - mae: 0.1282\n",
            "Epoch 3/200\n",
            "67/67 [==============================] - 12s 173ms/step - loss: 0.0371 - mae: 0.1683\n",
            "Epoch 4/200\n",
            "67/67 [==============================] - 12s 181ms/step - loss: 0.0440 - mae: 0.2180\n"
          ]
        }
      ]
    },
    {
      "cell_type": "markdown",
      "metadata": {
        "id": "69lcH5cAEnki"
      },
      "source": [
        "## Evaluating the forecast\n",
        "\n",
        "Now it is time to evaluate the performance of the forecast. For this we use the `compute_metrics` function that you coded in a previous assignment:"
      ]
    },
    {
      "cell_type": "code",
      "execution_count": 42,
      "metadata": {
        "id": "1Y12KaJYEnki"
      },
      "outputs": [],
      "source": [
        "def compute_metrics(true_series, forecast):\n",
        "    \n",
        "    mse = tf.keras.metrics.mean_squared_error(true_series, forecast).numpy()\n",
        "    mae = tf.keras.metrics.mean_absolute_error(true_series, forecast).numpy()\n",
        "\n",
        "    return mse, mae"
      ]
    },
    {
      "cell_type": "markdown",
      "metadata": {
        "id": "r7V0kTKHEnki"
      },
      "source": [
        "At this point only the model that will perform the forecast is ready but we still need to compute the actual forecast.\n",
        "\n"
      ]
    },
    {
      "cell_type": "markdown",
      "metadata": {
        "id": "rJtDyAD9Enkj"
      },
      "source": [
        "## Faster model forecasts\n",
        "\n",
        "\n",
        "- The dataset is windowed using `window_size` rather than `window_size + 1`\n",
        "- No shuffle should be used\n",
        "- No need to split the data into features and labels\n",
        "- A model is used to predict batches of the dataset"
      ]
    },
    {
      "cell_type": "code",
      "execution_count": 43,
      "metadata": {
        "id": "4XwGrf-A_wF0"
      },
      "outputs": [],
      "source": [
        "def model_forecast(model, series, window_size):\n",
        "    ds = tf.data.Dataset.from_tensor_slices(series)\n",
        "    ds = ds.window(window_size, shift=1, drop_remainder=True)\n",
        "    ds = ds.flat_map(lambda w: w.batch(window_size))\n",
        "    ds = ds.batch(44).prefetch(1)\n",
        "    forecast = model.predict(ds)\n",
        "    return forecast"
      ]
    },
    {
      "cell_type": "markdown",
      "metadata": {
        "id": "kIyFlTEwEnkj"
      },
      "source": [
        "Now compute the actual forecast:"
      ]
    },
    {
      "cell_type": "code",
      "source": [
        "def reverse_normalization(series):\n",
        "  series = series * (max(series_train) - min(series_train)) + min(series_train)\n",
        "  return series"
      ],
      "metadata": {
        "id": "xG8kJO3blWny"
      },
      "execution_count": 44,
      "outputs": []
    },
    {
      "cell_type": "code",
      "execution_count": 45,
      "metadata": {
        "colab": {
          "base_uri": "https://localhost:8080/",
          "height": 388
        },
        "id": "PrktQX3hKYex",
        "outputId": "fe973ebb-d8db-4118-c0ab-7aad7df9be37"
      },
      "outputs": [
        {
          "output_type": "display_data",
          "data": {
            "text/plain": [
              "<Figure size 720x432 with 1 Axes>"
            ],
            "image/png": "[encoded data removed]"
          },
          "metadata": {
            "needs_background": "light"
          }
        }
      ],
      "source": [
        "# Compute the forecast for all the series\n",
        "capsnet_lstm_forecast = model_forecast(capsnet_lstm, series_norm, G.WINDOW_SIZE).squeeze()\n",
        "\n",
        "# Slice the forecast to get only the predictions for the validation set\n",
        "series_test_hat = capsnet_lstm_forecast[-150:]\n",
        "# reverse normalization\n",
        "# series_test_hat = reverse_normalization(cnn_lstm_forecast)\n",
        "\n",
        "# Plot the forecast\n",
        "plt.figure(figsize=(10, 6))\n",
        "plot_series(time_test, series_test_norm)\n",
        "plot_series(time_test, series_test_hat)"
      ]
    },
    {
      "cell_type": "code",
      "source": [
        "series_test_hat = reverse_normalization(series_test_hat)\n",
        "\n",
        "# Plot the forecast\n",
        "plt.figure(figsize=(10, 6))\n",
        "plot_series(time_test, series_test)\n",
        "plot_series(time_test, series_test_hat)"
      ],
      "metadata": {
        "colab": {
          "base_uri": "https://localhost:8080/",
          "height": 388
        },
        "id": "f9uvk7NGnnwt",
        "outputId": "a3d0a1a8-85ff-43f6-9db6-5562b89fad90"
      },
      "execution_count": 46,
      "outputs": [
        {
          "output_type": "display_data",
          "data": {
            "text/plain": [
              "<Figure size 720x432 with 1 Axes>"
            ],
            "image/png": "[encoded data removed]"
          },
          "metadata": {
            "needs_background": "light"
          }
        }
      ]
    },
    {
      "cell_type": "code",
      "execution_count": 48,
      "metadata": {
        "id": "JyKUmK5BEnkj",
        "outputId": "e78d5e5c-d657-46e0-99ff-f81197324898",
        "colab": {
          "base_uri": "https://localhost:8080/"
        }
      },
      "outputs": [
        {
          "output_type": "stream",
          "name": "stdout",
          "text": [
            "mse: 1448652.00, mae: 993.15 for forecast\n"
          ]
        }
      ],
      "source": [
        "mse, mae = compute_metrics(series_test, series_test_hat)\n",
        "\n",
        "print(f\"mse: {mse:.2f}, mae: {mae:.2f} for forecast\")"
      ]
    },
    {
      "cell_type": "markdown",
      "source": [
        "## Baseline (LSTM, CNN-LSTM)"
      ],
      "metadata": {
        "id": "og2vNXLVgOeC"
      }
    },
    {
      "cell_type": "code",
      "execution_count": null,
      "metadata": {
        "id": "Sc6pU_kiEnkg"
      },
      "outputs": [],
      "source": [
        "def create_uncompiled_LSTM():\n",
        "   \n",
        "    model = tf.keras.models.Sequential([\n",
        "          tf.keras.layers.LSTM(200, input_shape=[G.WINDOW_SIZE, 1]),\n",
        "          tf.keras.layers.Dense(30, activation=\"relu\"),\n",
        "          tf.keras.layers.Dense(10, activation=\"relu\"),\n",
        "          tf.keras.layers.Dense(1)\n",
        "    ])\n",
        "    model.summary()\n",
        "\n",
        "    return model"
      ]
    },
    {
      "cell_type": "code",
      "source": [
        "def create_uncompiled_CNN_LSTM():\n",
        "   \n",
        "    model = tf.keras.models.Sequential([\n",
        "          tf.keras.layers.Conv1D(filters=512, kernel_size=2,\n",
        "                                 strides=1,\n",
        "                                 activation=\"relu\",\n",
        "                                 padding='causal',\n",
        "                                 input_shape=[G.WINDOW_SIZE, 1]),\n",
        "          tf.keras.layers.MaxPooling1D(pool_size=2, strides=1, padding=\"same\"),\n",
        "          tf.keras.layers.LSTM(200),\n",
        "          tf.keras.layers.Dense(30, activation=\"relu\"),\n",
        "          tf.keras.layers.Dense(10, activation=\"relu\"),\n",
        "          tf.keras.layers.Dense(1)\n",
        "    ])\n",
        "    model.summary()\n",
        "\n",
        "    return model"
      ],
      "metadata": {
        "id": "Amka1E2csj3H"
      },
      "execution_count": null,
      "outputs": []
    }
  ],
  "metadata": {
    "kernelspec": {
      "display_name": "Python 3",
      "language": "python",
      "name": "python3"
    },
    "language_info": {
      "codemirror_mode": {
        "name": "ipython",
        "version": 3
      },
      "file_extension": ".py",
      "mimetype": "text/x-python",
      "name": "python",
      "nbconvert_exporter": "python",
      "pygments_lexer": "ipython3",
      "version": "3.8.8"
    },
    "colab": {
      "name": "CapsNet_LSTM.ipynb",
      "provenance": [],
      "collapsed_sections": [],
      "machine_shape": "hm",
      "include_colab_link": true
    },
    "accelerator": "TPU",
    "gpuClass": "standard"
  },
  "nbformat": 4,
  "nbformat_minor": 0
}