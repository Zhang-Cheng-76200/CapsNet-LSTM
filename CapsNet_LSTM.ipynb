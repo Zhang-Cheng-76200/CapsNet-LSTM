{
  "cells": [
    {
      "cell_type": "markdown",
      "metadata": {
        "id": "view-in-github",
        "colab_type": "text"
      },
      "source": [
        "<a href=\"https://colab.research.google.com/github/Orangefox76200/CapsNet-LSTM/blob/main/CapsNet_LSTM.ipynb\" target=\"_parent\"><img src=\"https://colab.research.google.com/assets/colab-badge.svg\" alt=\"Open In Colab\"/></a>"
      ]
    },
    {
      "cell_type": "markdown",
      "metadata": {
        "id": "G92ON7NXEnkW"
      },
      "source": [
        "# Financial Time Series Forecasting Using A Hybrid CapsNet-LSTM Architecture: Using real world data (DJIA Index)\n",
        "\n",
        "DJIA Index dataset contains data of the daily DJIA Index price recorded from Jan 1st, 2010 to Dec 31st, 2019. In addition to be using Tensorflow's layers for processing sequence data such as LSTMs we will also intergrate Capsule Network in our proposed hybrid architecture to improve the model's performance.\n",
        "\n",
        "Let's get started!"
      ]
    },
    {
      "cell_type": "code",
      "source": [
        "!pip install keras-tuner -q"
      ],
      "metadata": {
        "id": "q-8z1SiOcPgO"
      },
      "execution_count": 1,
      "outputs": []
    },
    {
      "cell_type": "code",
      "execution_count": 1,
      "metadata": {
        "id": "56XEQOGknrAk"
      },
      "outputs": [],
      "source": [
        "import keras.backend as K\n",
        "import tensorflow as tf\n",
        "import keras\n",
        "import keras_tuner\n",
        "from keras import backend as K\n",
        "from keras import initializers, layers, models, optimizers, callbacks\n",
        "\n",
        "from keras.initializers import *\n",
        "from keras.layers import *\n",
        "from keras.models import *\n",
        "from keras.optimizers import *\n",
        "from keras.callbacks import *\n",
        "\n",
        "import os\n",
        "import pickle\n",
        "import pandas as pd\n",
        "import numpy as np\n",
        "import matplotlib.pyplot as plt\n",
        "from dataclasses import dataclass"
      ]
    },
    {
      "cell_type": "code",
      "source": [
        "# If code is running on TPU\n",
        "resolver = tf.distribute.cluster_resolver.TPUClusterResolver(tpu='')\n",
        "tf.config.experimental_connect_to_cluster(resolver)\n",
        "# This is the TPU initialization code that has to be at the beginning.\n",
        "tf.tpu.experimental.initialize_tpu_system(resolver)\n",
        "print(\"All devices: \", tf.config.list_logical_devices('TPU'))"
      ],
      "metadata": {
        "colab": {
          "base_uri": "https://localhost:8080/"
        },
        "id": "CnjuziNxZdvf",
        "outputId": "a1d7da05-100f-4a8f-938e-2f6e1e7fb478"
      },
      "execution_count": 2,
      "outputs": [
        {
          "output_type": "stream",
          "name": "stdout",
          "text": [
            "All devices:  [LogicalDevice(name='/job:worker/replica:0/task:0/device:TPU:0', device_type='TPU'), LogicalDevice(name='/job:worker/replica:0/task:0/device:TPU:1', device_type='TPU'), LogicalDevice(name='/job:worker/replica:0/task:0/device:TPU:2', device_type='TPU'), LogicalDevice(name='/job:worker/replica:0/task:0/device:TPU:3', device_type='TPU'), LogicalDevice(name='/job:worker/replica:0/task:0/device:TPU:4', device_type='TPU'), LogicalDevice(name='/job:worker/replica:0/task:0/device:TPU:5', device_type='TPU'), LogicalDevice(name='/job:worker/replica:0/task:0/device:TPU:6', device_type='TPU'), LogicalDevice(name='/job:worker/replica:0/task:0/device:TPU:7', device_type='TPU')]\n"
          ]
        }
      ]
    },
    {
      "cell_type": "code",
      "source": [
        "strategy = tf.distribute.TPUStrategy(resolver)"
      ],
      "metadata": {
        "id": "eb5Za_rOMFVx"
      },
      "execution_count": 3,
      "outputs": []
    },
    {
      "cell_type": "code",
      "source": [
        "# Load the TensorBoard notebook extension\n",
        "%load_ext tensorboard"
      ],
      "metadata": {
        "id": "xd85sJ-phkwi"
      },
      "execution_count": 4,
      "outputs": []
    },
    {
      "cell_type": "code",
      "source": [
        "print(tf.__version__)"
      ],
      "metadata": {
        "colab": {
          "base_uri": "https://localhost:8080/"
        },
        "id": "rA-JsdF3y5eE",
        "outputId": "71241273-df68-4983-e6e5-c52e10ef11e2"
      },
      "execution_count": 5,
      "outputs": [
        {
          "output_type": "stream",
          "name": "stdout",
          "text": [
            "2.8.2\n"
          ]
        }
      ]
    },
    {
      "cell_type": "markdown",
      "metadata": {
        "id": "RBR7h1IgEnkc"
      },
      "source": [
        "## Parsing the raw data\n",
        "\n",
        "A couple of things to note:\n",
        "\n",
        "- There is no need to save the data points as numpy arrays, regular lists is fine.\n",
        "- The `time` list should contain every timestep (starting at zero), which is just a sequence of ordered numbers with the same length as the `series` list.\n",
        "- The values of the `series` should be of `float` type. You can use Python's built-in `float` function to ensure this."
      ]
    },
    {
      "cell_type": "markdown",
      "metadata": {
        "id": "GeP3JMZHEnkZ"
      },
      "source": [
        "Begin by looking at the structure of the xlsx file that contains the data:"
      ]
    },
    {
      "cell_type": "code",
      "source": [
        "from google.colab import drive\n",
        "drive.mount ('gdrive')\n",
        "DJIA_raw = pd.read_excel('/content/gdrive/MyDrive/Colab Notebooks/DJIA.xlsx')\n",
        "DJIA_raw"
      ],
      "metadata": {
        "colab": {
          "base_uri": "https://localhost:8080/",
          "height": 441
        },
        "id": "vKv3toTHFgnh",
        "outputId": "cb8a624e-f3f3-43d6-eb22-359d19b988cf"
      },
      "execution_count": 6,
      "outputs": [
        {
          "output_type": "stream",
          "name": "stdout",
          "text": [
            "Drive already mounted at gdrive; to attempt to forcibly remount, call drive.mount(\"gdrive\", force_remount=True).\n"
          ]
        },
        {
          "output_type": "execute_result",
          "data": {
            "text/plain": [
              "              Date      Open      High       Low     Close     Volume\n",
              "0     Jan 04, 2010  10430.69  10604.97  10430.69  10583.96  179780000\n",
              "1     Jan 05, 2010  10584.56  10584.56  10522.52  10572.02  188540000\n",
              "2     Jan 06, 2010  10564.72  10594.99  10546.55  10573.68  186040000\n",
              "3     Jan 07, 2010  10571.11  10612.37  10505.21  10606.86  217390000\n",
              "4     Jan 08, 2010  10606.40  10619.40  10554.33  10618.19  172710000\n",
              "...            ...       ...       ...       ...       ...        ...\n",
              "2511  Dec 24, 2019  28572.57  28576.80  28503.21  28515.45   86150000\n",
              "2512  Dec 26, 2019  28539.46  28624.10  28535.15  28621.39  155970000\n",
              "2513  Dec 27, 2019  28675.34  28701.66  28608.98  28645.26  182280000\n",
              "2514  Dec 30, 2019  28654.76  28664.69  28428.98  28462.14  181600000\n",
              "2515  Dec 31, 2019  28414.64  28547.35  28376.49  28538.44  193340000\n",
              "\n",
              "[2516 rows x 6 columns]"
            ],
            "text/html": [
              "\n",
              "  <div id=\"df-919ee6d2-0e8c-4bd0-9da3-0e8aaed90004\">\n",
              "    <div class=\"colab-df-container\">\n",
              "      <div>\n",
              "<style scoped>\n",
              "    .dataframe tbody tr th:only-of-type {\n",
              "        vertical-align: middle;\n",
              "    }\n",
              "\n",
              "    .dataframe tbody tr th {\n",
              "        vertical-align: top;\n",
              "    }\n",
              "\n",
              "    .dataframe thead th {\n",
              "        text-align: right;\n",
              "    }\n",
              "</style>\n",
              "<table border=\"1\" class=\"dataframe\">\n",
              "  <thead>\n",
              "    <tr style=\"text-align: right;\">\n",
              "      <th></th>\n",
              "      <th>Date</th>\n",
              "      <th>Open</th>\n",
              "      <th>High</th>\n",
              "      <th>Low</th>\n",
              "      <th>Close</th>\n",
              "      <th>Volume</th>\n",
              "    </tr>\n",
              "  </thead>\n",
              "  <tbody>\n",
              "    <tr>\n",
              "      <th>0</th>\n",
              "      <td>Jan 04, 2010</td>\n",
              "      <td>10430.69</td>\n",
              "      <td>10604.97</td>\n",
              "      <td>10430.69</td>\n",
              "      <td>10583.96</td>\n",
              "      <td>179780000</td>\n",
              "    </tr>\n",
              "    <tr>\n",
              "      <th>1</th>\n",
              "      <td>Jan 05, 2010</td>\n",
              "      <td>10584.56</td>\n",
              "      <td>10584.56</td>\n",
              "      <td>10522.52</td>\n",
              "      <td>10572.02</td>\n",
              "      <td>188540000</td>\n",
              "    </tr>\n",
              "    <tr>\n",
              "      <th>2</th>\n",
              "      <td>Jan 06, 2010</td>\n",
              "      <td>10564.72</td>\n",
              "      <td>10594.99</td>\n",
              "      <td>10546.55</td>\n",
              "      <td>10573.68</td>\n",
              "      <td>186040000</td>\n",
              "    </tr>\n",
              "    <tr>\n",
              "      <th>3</th>\n",
              "      <td>Jan 07, 2010</td>\n",
              "      <td>10571.11</td>\n",
              "      <td>10612.37</td>\n",
              "      <td>10505.21</td>\n",
              "      <td>10606.86</td>\n",
              "      <td>217390000</td>\n",
              "    </tr>\n",
              "    <tr>\n",
              "      <th>4</th>\n",
              "      <td>Jan 08, 2010</td>\n",
              "      <td>10606.40</td>\n",
              "      <td>10619.40</td>\n",
              "      <td>10554.33</td>\n",
              "      <td>10618.19</td>\n",
              "      <td>172710000</td>\n",
              "    </tr>\n",
              "    <tr>\n",
              "      <th>...</th>\n",
              "      <td>...</td>\n",
              "      <td>...</td>\n",
              "      <td>...</td>\n",
              "      <td>...</td>\n",
              "      <td>...</td>\n",
              "      <td>...</td>\n",
              "    </tr>\n",
              "    <tr>\n",
              "      <th>2511</th>\n",
              "      <td>Dec 24, 2019</td>\n",
              "      <td>28572.57</td>\n",
              "      <td>28576.80</td>\n",
              "      <td>28503.21</td>\n",
              "      <td>28515.45</td>\n",
              "      <td>86150000</td>\n",
              "    </tr>\n",
              "    <tr>\n",
              "      <th>2512</th>\n",
              "      <td>Dec 26, 2019</td>\n",
              "      <td>28539.46</td>\n",
              "      <td>28624.10</td>\n",
              "      <td>28535.15</td>\n",
              "      <td>28621.39</td>\n",
              "      <td>155970000</td>\n",
              "    </tr>\n",
              "    <tr>\n",
              "      <th>2513</th>\n",
              "      <td>Dec 27, 2019</td>\n",
              "      <td>28675.34</td>\n",
              "      <td>28701.66</td>\n",
              "      <td>28608.98</td>\n",
              "      <td>28645.26</td>\n",
              "      <td>182280000</td>\n",
              "    </tr>\n",
              "    <tr>\n",
              "      <th>2514</th>\n",
              "      <td>Dec 30, 2019</td>\n",
              "      <td>28654.76</td>\n",
              "      <td>28664.69</td>\n",
              "      <td>28428.98</td>\n",
              "      <td>28462.14</td>\n",
              "      <td>181600000</td>\n",
              "    </tr>\n",
              "    <tr>\n",
              "      <th>2515</th>\n",
              "      <td>Dec 31, 2019</td>\n",
              "      <td>28414.64</td>\n",
              "      <td>28547.35</td>\n",
              "      <td>28376.49</td>\n",
              "      <td>28538.44</td>\n",
              "      <td>193340000</td>\n",
              "    </tr>\n",
              "  </tbody>\n",
              "</table>\n",
              "<p>2516 rows × 6 columns</p>\n",
              "</div>\n",
              "      <button class=\"colab-df-convert\" onclick=\"convertToInteractive('df-919ee6d2-0e8c-4bd0-9da3-0e8aaed90004')\"\n",
              "              title=\"Convert this dataframe to an interactive table.\"\n",
              "              style=\"display:none;\">\n",
              "        \n",
              "  <svg xmlns=\"http://www.w3.org/2000/svg\" height=\"24px\"viewBox=\"0 0 24 24\"\n",
              "       width=\"24px\">\n",
              "    <path d=\"M0 0h24v24H0V0z\" fill=\"none\"/>\n",
              "    <path d=\"M18.56 5.44l.94 2.06.94-2.06 2.06-.94-2.06-.94-.94-2.06-.94 2.06-2.06.94zm-11 1L8.5 8.5l.94-2.06 2.06-.94-2.06-.94L8.5 2.5l-.94 2.06-2.06.94zm10 10l.94 2.06.94-2.06 2.06-.94-2.06-.94-.94-2.06-.94 2.06-2.06.94z\"/><path d=\"M17.41 7.96l-1.37-1.37c-.4-.4-.92-.59-1.43-.59-.52 0-1.04.2-1.43.59L10.3 9.45l-7.72 7.72c-.78.78-.78 2.05 0 2.83L4 21.41c.39.39.9.59 1.41.59.51 0 1.02-.2 1.41-.59l7.78-7.78 2.81-2.81c.8-.78.8-2.07 0-2.86zM5.41 20L4 18.59l7.72-7.72 1.47 1.35L5.41 20z\"/>\n",
              "  </svg>\n",
              "      </button>\n",
              "      \n",
              "  <style>\n",
              "    .colab-df-container {\n",
              "      display:flex;\n",
              "      flex-wrap:wrap;\n",
              "      gap: 12px;\n",
              "    }\n",
              "\n",
              "    .colab-df-convert {\n",
              "      background-color: #E8F0FE;\n",
              "      border: none;\n",
              "      border-radius: 50%;\n",
              "      cursor: pointer;\n",
              "      display: none;\n",
              "      fill: #1967D2;\n",
              "      height: 32px;\n",
              "      padding: 0 0 0 0;\n",
              "      width: 32px;\n",
              "    }\n",
              "\n",
              "    .colab-df-convert:hover {\n",
              "      background-color: #E2EBFA;\n",
              "      box-shadow: 0px 1px 2px rgba(60, 64, 67, 0.3), 0px 1px 3px 1px rgba(60, 64, 67, 0.15);\n",
              "      fill: #174EA6;\n",
              "    }\n",
              "\n",
              "    [theme=dark] .colab-df-convert {\n",
              "      background-color: #3B4455;\n",
              "      fill: #D2E3FC;\n",
              "    }\n",
              "\n",
              "    [theme=dark] .colab-df-convert:hover {\n",
              "      background-color: #434B5C;\n",
              "      box-shadow: 0px 1px 3px 1px rgba(0, 0, 0, 0.15);\n",
              "      filter: drop-shadow(0px 1px 2px rgba(0, 0, 0, 0.3));\n",
              "      fill: #FFFFFF;\n",
              "    }\n",
              "  </style>\n",
              "\n",
              "      <script>\n",
              "        const buttonEl =\n",
              "          document.querySelector('#df-919ee6d2-0e8c-4bd0-9da3-0e8aaed90004 button.colab-df-convert');\n",
              "        buttonEl.style.display =\n",
              "          google.colab.kernel.accessAllowed ? 'block' : 'none';\n",
              "\n",
              "        async function convertToInteractive(key) {\n",
              "          const element = document.querySelector('#df-919ee6d2-0e8c-4bd0-9da3-0e8aaed90004');\n",
              "          const dataTable =\n",
              "            await google.colab.kernel.invokeFunction('convertToInteractive',\n",
              "                                                     [key], {});\n",
              "          if (!dataTable) return;\n",
              "\n",
              "          const docLinkHtml = 'Like what you see? Visit the ' +\n",
              "            '<a target=\"_blank\" href=https://colab.research.google.com/notebooks/data_table.ipynb>data table notebook</a>'\n",
              "            + ' to learn more about interactive tables.';\n",
              "          element.innerHTML = '';\n",
              "          dataTable['output_type'] = 'display_data';\n",
              "          await google.colab.output.renderOutput(dataTable, element);\n",
              "          const docLink = document.createElement('div');\n",
              "          docLink.innerHTML = docLinkHtml;\n",
              "          element.appendChild(docLink);\n",
              "        }\n",
              "      </script>\n",
              "    </div>\n",
              "  </div>\n",
              "  "
            ]
          },
          "metadata": {},
          "execution_count": 6
        }
      ]
    },
    {
      "cell_type": "code",
      "source": [
        "series = DJIA_raw.iloc[:,4]"
      ],
      "metadata": {
        "id": "vTg-wdf-Vpbi"
      },
      "execution_count": 7,
      "outputs": []
    },
    {
      "cell_type": "code",
      "source": [
        "time = []\n",
        "for i in range(0, len(series)):\n",
        "  time.append(i)"
      ],
      "metadata": {
        "id": "4P3cPCrbVpVl"
      },
      "execution_count": 8,
      "outputs": []
    },
    {
      "cell_type": "markdown",
      "source": [
        "A helper function to plot the time series:"
      ],
      "metadata": {
        "id": "XQh2IH8Tl0Le"
      }
    },
    {
      "cell_type": "code",
      "source": [
        "def plot_series(time, series, format=\"-\", start=0, end=None):\n",
        "    plt.plot(time[start:end], series[start:end], format)\n",
        "    plt.xlabel(\"Time\")\n",
        "    plt.ylabel(\"Value\")\n",
        "    plt.grid(True)"
      ],
      "metadata": {
        "id": "qMGyMzGelzEW"
      },
      "execution_count": 9,
      "outputs": []
    },
    {
      "cell_type": "markdown",
      "metadata": {
        "id": "tT1tB8J1Enkd"
      },
      "source": [
        "The next cell will use functions to compute the `time` and `series` and will save these as numpy arrays within the `G` dataclass. This cell will also plot the time series:"
      ]
    },
    {
      "cell_type": "code",
      "execution_count": 10,
      "metadata": {
        "colab": {
          "base_uri": "https://localhost:8080/",
          "height": 388
        },
        "id": "R8UYoZlKEnke",
        "outputId": "c2a76d37-e78d-4377-9814-4e179819b5ba"
      },
      "outputs": [
        {
          "output_type": "display_data",
          "data": {
            "text/plain": [
              "<Figure size 720x432 with 1 Axes>"
            ],
            "image/png": "[encoded data removed]"
          },
          "metadata": {
            "needs_background": "light"
          }
        }
      ],
      "source": [
        "# Save all \"global\" variables within the G class (G stands for global)\n",
        "@dataclass\n",
        "class G:\n",
        "    TIME = np.array(time)\n",
        "    SERIES = np.array(series)\n",
        "    SPLIT_TIME = int((len(series)-150)*0.8)\n",
        "    WINDOW_SIZE = 250\n",
        "    BATCH_SIZE = 32\n",
        "    SHUFFLE_BUFFER_SIZE = 60\n",
        "\n",
        "plt.figure(figsize=(10, 6))\n",
        "plot_series(G.TIME, G.SERIES)\n",
        "plt.show()"
      ]
    },
    {
      "cell_type": "markdown",
      "metadata": {
        "id": "Y8U3ckcaEnke"
      },
      "source": [
        "## Processing the data\n",
        "\n",
        "The `train_val_split` and `windowed_dataset` functions:"
      ]
    },
    {
      "cell_type": "code",
      "execution_count": 11,
      "metadata": {
        "id": "3O7A_9XdEnkf"
      },
      "outputs": [],
      "source": [
        "def train_val_test_split(time, series, time_step=G.SPLIT_TIME):\n",
        "\n",
        "    time_train = time[:time_step]\n",
        "    series_train = series[:time_step]\n",
        "    time_valid = time[time_step:-150]\n",
        "    series_valid = series[time_step:-150]\n",
        "    time_test = time[-150:]\n",
        "    series_test = series[-150:]\n",
        "\n",
        "    return time_train, series_train, time_valid, series_valid, time_test, series_test\n",
        "\n",
        "# Split the dataset\n",
        "time_train, series_train, time_valid, series_valid, time_test, series_test = train_val_test_split(G.TIME, G.SERIES)"
      ]
    },
    {
      "cell_type": "markdown",
      "source": [
        "min-max normalization:"
      ],
      "metadata": {
        "id": "M8xZy3QTZD8e"
      }
    },
    {
      "cell_type": "code",
      "source": [
        "def min_max_normalization(series):\n",
        "  series = (series - min(series_train))/(max(series_train) - min(series_train))\n",
        "  return series"
      ],
      "metadata": {
        "id": "aRkvaM6AauAy"
      },
      "execution_count": 12,
      "outputs": []
    },
    {
      "cell_type": "code",
      "source": [
        "series_norm = min_max_normalization(G.SERIES)"
      ],
      "metadata": {
        "id": "UR8bYse7ZC-G"
      },
      "execution_count": 13,
      "outputs": []
    },
    {
      "cell_type": "code",
      "source": [
        "series_train_norm = series_norm[:G.SPLIT_TIME]\n",
        "series_valid_norm = series_norm[G.SPLIT_TIME:-150]\n",
        "series_test_norm = series_norm[-150:]"
      ],
      "metadata": {
        "id": "CQr8LSVw4BIV"
      },
      "execution_count": 14,
      "outputs": []
    },
    {
      "cell_type": "code",
      "source": [
        "plot_series(time_train, series_train_norm)"
      ],
      "metadata": {
        "colab": {
          "base_uri": "https://localhost:8080/",
          "height": 279
        },
        "id": "slIykxCnn9Eb",
        "outputId": "4d48a5dc-2882-4aa0-818d-adf458e2b689"
      },
      "execution_count": 15,
      "outputs": [
        {
          "output_type": "display_data",
          "data": {
            "text/plain": [
              "<Figure size 432x288 with 1 Axes>"
            ],
            "image/png": "[encoded data removed]"
          },
          "metadata": {
            "needs_background": "light"
          }
        }
      ]
    },
    {
      "cell_type": "code",
      "source": [
        "plot_series(time_valid, series_valid_norm)"
      ],
      "metadata": {
        "colab": {
          "base_uri": "https://localhost:8080/",
          "height": 279
        },
        "id": "2dBiTEwnoPCf",
        "outputId": "64f5c6b0-3323-403b-df47-437fa29d1ae0"
      },
      "execution_count": 16,
      "outputs": [
        {
          "output_type": "display_data",
          "data": {
            "text/plain": [
              "<Figure size 432x288 with 1 Axes>"
            ],
            "image/png": "[encoded data removed]"
          },
          "metadata": {
            "needs_background": "light"
          }
        }
      ]
    },
    {
      "cell_type": "code",
      "source": [
        "plot_series(time_test, series_test_norm)"
      ],
      "metadata": {
        "colab": {
          "base_uri": "https://localhost:8080/",
          "height": 279
        },
        "id": "bCGYGHZC4oSt",
        "outputId": "df188c1a-aa97-461b-e2cc-b79f591367b6"
      },
      "execution_count": 17,
      "outputs": [
        {
          "output_type": "display_data",
          "data": {
            "text/plain": [
              "<Figure size 432x288 with 1 Axes>"
            ],
            "image/png": "[encoded data removed]"
          },
          "metadata": {
            "needs_background": "light"
          }
        }
      ]
    },
    {
      "cell_type": "code",
      "execution_count": 18,
      "metadata": {
        "id": "lJwUUZscnG38"
      },
      "outputs": [],
      "source": [
        "def windowed_dataset(series, window_size=G.WINDOW_SIZE, batch_size=G.BATCH_SIZE, shuffle_buffer=G.SHUFFLE_BUFFER_SIZE):\n",
        "    ds = tf.data.Dataset.from_tensor_slices(series)\n",
        "    ds = ds.window(window_size + 1, shift=1, drop_remainder=True)\n",
        "    ds = ds.flat_map(lambda w: w.batch(window_size + 1))\n",
        "    ds = ds.shuffle(shuffle_buffer) \n",
        "    ds = ds.map(lambda w: (w[:-1], w[-1]))\n",
        "    ds = ds.batch(batch_size).prefetch(1)\n",
        "    return ds\n",
        "\n",
        "\n",
        "train_set = windowed_dataset(series_train_norm, window_size=G.WINDOW_SIZE, batch_size=G.BATCH_SIZE, shuffle_buffer=G.SHUFFLE_BUFFER_SIZE)"
      ]
    },
    {
      "cell_type": "code",
      "source": [
        "# create val_set without using shuffle method.\n",
        "def windowed_dataset_noshuffle(series, window_size=G.WINDOW_SIZE, batch_size=G.BATCH_SIZE):\n",
        "    ds = tf.data.Dataset.from_tensor_slices(series)\n",
        "    ds = ds.window(window_size + 1, shift=1, drop_remainder=True)\n",
        "    ds = ds.flat_map(lambda w: w.batch(window_size + 1))\n",
        "    ds = ds.map(lambda w: (w[:-1], w[-1]))\n",
        "    ds = ds.batch(batch_size).prefetch(1)\n",
        "    return ds\n",
        "\n",
        "\n",
        "val_set = windowed_dataset_noshuffle(series_norm[G.SPLIT_TIME-G.WINDOW_SIZE:-150], window_size=G.WINDOW_SIZE, batch_size=G.BATCH_SIZE)"
      ],
      "metadata": {
        "id": "Uix6YCADP4wK"
      },
      "execution_count": 19,
      "outputs": []
    },
    {
      "cell_type": "code",
      "source": [
        "train_val_set = windowed_dataset(series_norm[0:-150], window_size=G.WINDOW_SIZE, batch_size=G.BATCH_SIZE, shuffle_buffer=G.SHUFFLE_BUFFER_SIZE)"
      ],
      "metadata": {
        "id": "IpORkzCcWykM"
      },
      "execution_count": 56,
      "outputs": []
    },
    {
      "cell_type": "markdown",
      "metadata": {
        "id": "E6stIQIqEnkh"
      },
      "source": [
        "## Compiling the model\n"
      ]
    },
    {
      "cell_type": "markdown",
      "metadata": {
        "id": "GaMon77MEnkf"
      },
      "source": [
        "## Defining the model architecture (CapsNet-LSTM)\n"
      ]
    },
    {
      "cell_type": "code",
      "source": [
        "# Squash function\n",
        "\n",
        "\n",
        "def squash(vectors, axis=-1):\n",
        "    \"\"\"\n",
        "    The non-linear activation used in Capsule. It drives the length of a large vector to near 1 and small vector to 0\n",
        "    :param vectors: some vectors to be squashed, N-dim tensor\n",
        "    :param axis: the axis to squash\n",
        "    :return: a Tensor with same shape as input vectors\n",
        "    \"\"\"\n",
        "    s_squared_norm = K.sum(K.square(vectors), axis, keepdims=True) \n",
        "    scale = s_squared_norm / (1 + s_squared_norm) / K.sqrt(s_squared_norm + K.epsilon())\n",
        "    return scale * vectors\n"
      ],
      "metadata": {
        "id": "NAPDHkls8FGx"
      },
      "execution_count": 20,
      "outputs": []
    },
    {
      "cell_type": "code",
      "source": [
        "# Dynamic routing (layer)\n",
        "#    The capsule layer. It is similar to Dense layer. Dense layer has `in_num` inputs, each is a scalar, the output of the \n",
        "#    neuron from the former layer, and it has `out_num` output neurons. CapsuleLayer just expand the output of the neuron\n",
        "#    from scalar to vector. So its input shape = [None, input_num_capsule, input_dim_capsule] and output shape = \\\n",
        "#    [None, num_capsule, dim_capsule]. For Dense Layer, input_dim_capsule = dim_capsule = 1.\n",
        "\n",
        "#    :param dim_capsule: dimension of the output vectors of the capsules in this layer\n",
        "#    :param routings: number of iterations for the routing algorithm \n",
        "\n",
        "class Routing(keras.layers.Layer):\n",
        "\n",
        "    def __init__(self, dim_capsule = 32 , routings=3, kernel_initializer='glorot_uniform'):\n",
        "        super(Routing, self).__init__()\n",
        "        self.dim_capsule = dim_capsule\n",
        "        self.routings = routings\n",
        "        self.kernel_initializer = initializers.get(kernel_initializer)\n",
        "\n",
        "\n",
        "    def build(self, input_shape):\n",
        "        # build tansform matrix which can convert one primary cap to a vector with the same order as the digit cap.\n",
        "        # assert len(input_shape) >= 3  # The input Tensor should have shape=[None, input_num_capsule, input_dim_capsule]\n",
        "        self.input_num_capsule = input_shape[1]\n",
        "        self.input_dim_capsule = input_shape[2]\n",
        "        \n",
        "        # Transform matrix\n",
        "       \n",
        "        self.W = self.add_weight(shape=[self.input_num_capsule,self.dim_capsule, self.input_dim_capsule],initializer=self.kernel_initializer,name='W')\n",
        "\n",
        "        #super().build(input_shape)\n",
        "        #self.built = True\n",
        "    \n",
        "\n",
        "    def call(self, inputs): #training=None\n",
        "        # inputs.shape=[input_num_capsule, input_dim_capsule]\n",
        "        # inputs_expand.shape=[input_num_capsule, input_dim_capsule, 1]\n",
        "        inputs_expand = K.expand_dims(inputs, -1)    \n",
        "\n",
        "        # Compute `inputs * W` by scanning inputs_tiled on dimension 0.\n",
        "        # x.shape=[None, input_num_capsule, input_dim_capsule, 1]\n",
        "        # W.shape=[input_num_capsule, dim_capsule, input_dim_capsule]\n",
        "        # Regard the first dimension as `batch` dimension,\n",
        "        # then matmul: [dim_capsule, input_dim_capsule] x [input_dim_capsule, 1] -> [dim_capsule].\n",
        "        # inputs_hat.shape = [None, input_num_capsule, dim_capsule, 1]     \n",
        "          \n",
        "        inputs_hat = K.map_fn(lambda x: K.batch_dot(self.W, x, [2, 1]), elems=inputs_expand) \n",
        "\n",
        "        inputs_hat = K.squeeze(inputs_hat, axis = -1)\n",
        "        # inputs_hat.shape = [None, input_num_capsule, dim_capsule]\n",
        "       \n",
        "        # Begin: Routing algorithm ---------------------------------------------------------------------#\n",
        "        # The prior for coupling coefficient, initialized as zeros.\n",
        "        # b.shape = [None, self.input_num_capsule].\n",
        "        b = tf.zeros(shape=[K.shape(inputs_hat)[0], self.input_num_capsule])\n",
        "        \n",
        "        assert self.routings > 0\n",
        "        for i in range(self.routings):\n",
        "            # c.shape=[batch_size, input_num_capsule]\n",
        "            c = tf.nn.softmax(b, axis=-1)\n",
        "\n",
        "            # c.shape =  [batch_size, input_num_capsule]\n",
        "            # inputs_hat.shape=[batch_size, input_num_capsule, dim_capsule]\n",
        "            # The first dimensions as `batch` dimension,\n",
        "            # then matmal: [input_num_capsule] x [input_num_capsule, dim_capsule] -> [dim_capsule].\n",
        "            # outputs.shape=[None, dim_capsule]\n",
        "            outputs = squash(K.batch_dot(c, inputs_hat, [1, 1])) \n",
        "\n",
        "            if i < self.routings - 1:\n",
        "                # outputs.shape =  [None, dim_capsule]\n",
        "                # inputs_hat.shape=[None, input_num_capsule, dim_capsule]\n",
        "                # The first dimension as `batch` dimension,\n",
        "                # then matmal: [dim_capsule] x [input_num_capsule, dim_capsule]^T -> [input_num_capsule].\n",
        "                # b.shape=[batch_size, input_num_capsule]\n",
        "                b += K.batch_dot(outputs, inputs_hat, [1, 2])\n",
        "       \n",
        "        # End: Routing algorithm -----------------------------------------------------------------------#\n",
        "\n",
        "        return outputs\n",
        "\n",
        "    def compute_output_shape(self, input_shape):\n",
        "        return tuple([None, self.dim_capsule])"
      ],
      "metadata": {
        "id": "n2SUkh9LAFqP"
      },
      "execution_count": 21,
      "outputs": []
    },
    {
      "cell_type": "code",
      "source": [
        "input_shape = (G.WINDOW_SIZE, 1)"
      ],
      "metadata": {
        "id": "uh3dZo2eVk0K"
      },
      "execution_count": 22,
      "outputs": []
    },
    {
      "cell_type": "markdown",
      "source": [
        "### Build CapsNet-LSTM"
      ],
      "metadata": {
        "id": "_p0mPdSUDQhB"
      }
    },
    {
      "cell_type": "code",
      "source": [
        "K.clear_session()"
      ],
      "metadata": {
        "id": "-dD6KzvejX_o"
      },
      "execution_count": 23,
      "outputs": []
    },
    {
      "cell_type": "code",
      "source": [
        "\n",
        "def CapsNet_LSTM(input_shape = (G.WINDOW_SIZE, 1), input_num_capsule =64, input_dim_capsule =8, dim_capsule = 32, routings =3):\n",
        "    \n",
        "      input = tf.keras.layers.Input(shape=input_shape)\n",
        "      \n",
        "      # First layer\n",
        "      conv1d_1 = tf.keras.layers.Conv1D(filters=512, kernel_size=2, strides=1, padding='causal', activation='relu', name = 'conv1d_1')(input)\n",
        "          \n",
        "      # Primary caps\n",
        "      conv1d_2 = tf.keras.layers.Conv1D(filters=512, kernel_size=2, strides=1, padding='causal',name = 'conv1d_2')(conv1d_1)\n",
        "      \n",
        "      unsquashed_caps = tf.keras.layers.Reshape((G.WINDOW_SIZE, input_num_capsule, input_dim_capsule))(conv1d_2)\n",
        "      squashed_caps = tf.keras.layers.Lambda(squash)(unsquashed_caps)\n",
        "\n",
        "      # Digit caps\n",
        "\n",
        "      digit_caps = tf.keras.layers.TimeDistributed(Routing(dim_capsule = dim_capsule, routings = routings))(squashed_caps)\n",
        "\n",
        "      # LSTM layer\n",
        "      lstm = tf.keras.layers.LSTM(200)(digit_caps)\n",
        "\n",
        "      # Dense layer\n",
        "      dense1 = tf.keras.layers.Dense(30, activation=\"relu\")(lstm)\n",
        "      dense2 = tf.keras.layers.Dense(10, activation=\"relu\")(dense1)\n",
        "      output = tf.keras.layers.Dense(1)(dense2)\n",
        "\n",
        "      model = keras.Model(inputs=input, outputs=output, name=\"capsnet_lstm\")\n",
        "\n",
        "      model.summary()   \n",
        "      return model"
      ],
      "metadata": {
        "id": "0yZMvGxYbacl"
      },
      "execution_count": 24,
      "outputs": []
    },
    {
      "cell_type": "code",
      "source": [
        "capsnet_lstm_check = CapsNet_LSTM(input_shape)"
      ],
      "metadata": {
        "id": "1c71f7dCVlyr",
        "colab": {
          "base_uri": "https://localhost:8080/"
        },
        "outputId": "f3fe8638-d4f6-40fc-fb91-dc095f5441ee"
      },
      "execution_count": 25,
      "outputs": [
        {
          "output_type": "stream",
          "name": "stderr",
          "text": [
            "WARNING:tensorflow:From /usr/local/lib/python3.7/dist-packages/keras/backend.py:6659: calling map_fn (from tensorflow.python.ops.map_fn) with dtype is deprecated and will be removed in a future version.\n",
            "Instructions for updating:\n",
            "Use fn_output_signature instead\n"
          ]
        },
        {
          "output_type": "stream",
          "name": "stdout",
          "text": [
            "Model: \"capsnet_lstm\"\n",
            "_________________________________________________________________\n",
            " Layer (type)                Output Shape              Param #   \n",
            "=================================================================\n",
            " input_1 (InputLayer)        [(None, 250, 1)]          0         \n",
            "                                                                 \n",
            " conv1d_1 (Conv1D)           (None, 250, 512)          1536      \n",
            "                                                                 \n",
            " conv1d_2 (Conv1D)           (None, 250, 512)          524800    \n",
            "                                                                 \n",
            " reshape (Reshape)           (None, 250, 64, 8)        0         \n",
            "                                                                 \n",
            " lambda (Lambda)             (None, 250, 64, 8)        0         \n",
            "                                                                 \n",
            " time_distributed (TimeDistr  (None, 250, 32)          16384     \n",
            " ibuted)                                                         \n",
            "                                                                 \n",
            " lstm (LSTM)                 (None, 200)               186400    \n",
            "                                                                 \n",
            " dense (Dense)               (None, 30)                6030      \n",
            "                                                                 \n",
            " dense_1 (Dense)             (None, 10)                310       \n",
            "                                                                 \n",
            " dense_2 (Dense)             (None, 1)                 11        \n",
            "                                                                 \n",
            "=================================================================\n",
            "Total params: 735,471\n",
            "Trainable params: 735,471\n",
            "Non-trainable params: 0\n",
            "_________________________________________________________________\n"
          ]
        }
      ]
    },
    {
      "cell_type": "code",
      "source": [
        "# Test the uncompiled CapsNet_LSTM\n",
        "\n",
        "try:\n",
        "    capsnet_lstm_check.predict(train_set)\n",
        "except:\n",
        "    print(\"Your current architecture is incompatible with the windowed dataset, try adjusting it.\")\n",
        "else:\n",
        "    print(\"Your current architecture is compatible with the windowed dataset! :)\")"
      ],
      "metadata": {
        "colab": {
          "base_uri": "https://localhost:8080/"
        },
        "id": "IgKUAE8WVdqv",
        "outputId": "b42c5b16-c728-48e8-d69d-eb58a7f0fd0b"
      },
      "execution_count": 26,
      "outputs": [
        {
          "output_type": "stream",
          "name": "stdout",
          "text": [
            "Your current architecture is compatible with the windowed dataset! :)\n"
          ]
        }
      ]
    },
    {
      "cell_type": "code",
      "source": [
        "def build_CapsNet_LSTM(hp):\n",
        "   \n",
        "    input = tf.keras.layers.Input(shape=input_shape)\n",
        "      \n",
        "    # First layer\n",
        "    conv1d_1 = tf.keras.layers.Conv1D(filters=hp.Int('Conv_units', 256, 1024, 256), kernel_size=2, strides=1, padding='causal', activation='relu', name = 'conv1d_1')(input)\n",
        "          \n",
        "    # Primary caps\n",
        "    conv1d_2 = tf.keras.layers.Conv1D(filters=512, kernel_size=2, strides=1, padding='causal',name = 'conv1d_2')(conv1d_1)\n",
        "\n",
        "    unsquashed_caps = tf.keras.layers.Reshape((G.WINDOW_SIZE, 64, 8))(conv1d_2)\n",
        "    squashed_caps = tf.keras.layers.Lambda(squash)(unsquashed_caps)\n",
        "\n",
        "    # Digit caps\n",
        "     \n",
        "    digit_caps = tf.keras.layers.TimeDistributed(Routing(dim_capsule = hp.Int('dim_capsule', 16, 64, 16), routings = hp.Int('routings', 3, 5, 1)))(squashed_caps)\n",
        "\n",
        "    # LSTM layer\n",
        "    lstm = tf.keras.layers.LSTM(hp.Int('lstm_units', 150, 300, 50))(digit_caps)\n",
        "\n",
        "    # Dense layer\n",
        "    dense1 = tf.keras.layers.Dense(hp.Int('dense1_units', 20, 50, 10), activation=\"relu\")(lstm)\n",
        "    dense2 = tf.keras.layers.Dense(hp.Int('dense2_units', 5, 20, 5), activation=\"relu\")(dense1)\n",
        "    output = tf.keras.layers.Dense(1)(dense2)\n",
        "\n",
        "    model = keras.Model(inputs=input, outputs=output, name=\"capsnet_lstm\")\n",
        "\n",
        "    learning_rate = hp.Float(\"lr\", min_value=1e-4, max_value=1e-2, sampling=\"log\")\n",
        "    model.compile(\n",
        "        optimizer=tf.keras.optimizers.SGD(learning_rate = learning_rate, momentum = 0.9),\n",
        "        loss=tf.keras.losses.Huber(),\n",
        "        metrics=[\"mae\"])\n",
        "\n",
        "    return model"
      ],
      "metadata": {
        "id": "CV7ss5NiVBZy"
      },
      "execution_count": 62,
      "outputs": []
    },
    {
      "cell_type": "code",
      "source": [
        "build_CapsNet_LSTM(keras_tuner.HyperParameters())\n",
        "\n",
        "tuner_capsnet_lstm = keras_tuner.Hyperband(\n",
        "    hypermodel=build_CapsNet_LSTM,\n",
        "    objective=\"val_mae\",\n",
        "    max_epochs=2,\n",
        "    factor=3,\n",
        "    hyperband_iterations=1,\n",
        "    distribution_strategy=strategy,\n",
        "    directory=\"capsnet_lstm_results_dir\",\n",
        "    project_name=\"capsnet_lstm\",\n",
        "    overwrite=True)\n",
        "\n",
        "tuner_capsnet_lstm.search(train_set, epochs=2, validation_data=val_set)\n",
        "\n",
        "tuner_capsnet_lstm.results_summary()\n",
        "\n",
        "# Get the top 2 hyperparameters.\n",
        "best_hps_capsnet_lstm = tuner_capsnet_lstm.get_best_hyperparameters(5)\n",
        "# Build the model with the best hp.\n",
        "with strategy.scope():\n",
        "  capsnet_lstm = build_CapsNet_LSTM(best_hps_capsnet_lstm[0])\n",
        "# Fit with the entire dataset.\n",
        "capsnet_lstm.fit(train_val_set, epochs=100)"
      ],
      "metadata": {
        "id": "Clw6kk0hViJD",
        "outputId": "2357de04-aa99-485c-a373-c14c2e53db66",
        "colab": {
          "base_uri": "https://localhost:8080/"
        }
      },
      "execution_count": 63,
      "outputs": [
        {
          "output_type": "stream",
          "name": "stdout",
          "text": [
            "Trial 2 Complete [00h 00m 42s]\n",
            "val_mae: 0.4519873261451721\n",
            "\n",
            "Best val_mae So Far: 0.4519873261451721\n",
            "Total elapsed time: 00h 01m 26s\n",
            "Results summary\n",
            "Results in capsnet_lstm_results_dir/capsnet_lstm\n",
            "Showing 10 best trials\n",
            "<keras_tuner.engine.objective.Objective object at 0x7f28d1a35a90>\n",
            "Trial summary\n",
            "Hyperparameters:\n",
            "Conv_units: 256\n",
            "dim_capsule: 48\n",
            "routings: 4\n",
            "lstm_units: 200\n",
            "dense1_units: 30\n",
            "dense2_units: 10\n",
            "lr: 0.0036707022660252813\n",
            "tuner/epochs: 2\n",
            "tuner/initial_epoch: 0\n",
            "tuner/bracket: 0\n",
            "tuner/round: 0\n",
            "Score: 0.4519873261451721\n",
            "Trial summary\n",
            "Hyperparameters:\n",
            "Conv_units: 256\n",
            "dim_capsule: 16\n",
            "routings: 5\n",
            "lstm_units: 250\n",
            "dense1_units: 40\n",
            "dense2_units: 15\n",
            "lr: 0.004975053366422772\n",
            "tuner/epochs: 2\n",
            "tuner/initial_epoch: 0\n",
            "tuner/bracket: 0\n",
            "tuner/round: 0\n",
            "Score: 0.5623981952667236\n",
            "Epoch 1/100\n",
            "67/67 [==============================] - 24s 232ms/step - loss: 0.0141 - mae: 0.1372\n",
            "Epoch 2/100\n",
            "67/67 [==============================] - 12s 170ms/step - loss: 0.1030 - mae: 0.3368\n",
            "Epoch 3/100\n",
            "67/67 [==============================] - 14s 188ms/step - loss: 0.1124 - mae: 0.3952\n",
            "Epoch 4/100\n",
            "67/67 [==============================] - 15s 228ms/step - loss: 0.1188 - mae: 0.4128\n",
            "Epoch 5/100\n",
            "67/67 [==============================] - 14s 198ms/step - loss: 0.1196 - mae: 0.4160\n",
            "Epoch 6/100\n",
            "67/67 [==============================] - 14s 206ms/step - loss: 0.1111 - mae: 0.3994\n",
            "Epoch 7/100\n",
            "67/67 [==============================] - 13s 198ms/step - loss: 0.1058 - mae: 0.3888\n",
            "Epoch 8/100\n",
            "67/67 [==============================] - 12s 180ms/step - loss: 0.1029 - mae: 0.3824\n",
            "Epoch 9/100\n",
            "67/67 [==============================] - 16s 233ms/step - loss: 0.1008 - mae: 0.3779\n",
            "Epoch 10/100\n",
            "67/67 [==============================] - 16s 242ms/step - loss: 0.0995 - mae: 0.3745\n",
            "Epoch 11/100\n",
            "67/67 [==============================] - 14s 199ms/step - loss: 0.0980 - mae: 0.3712\n",
            "Epoch 12/100\n",
            "67/67 [==============================] - 13s 184ms/step - loss: 0.0904 - mae: 0.3550\n",
            "Epoch 13/100\n",
            "67/67 [==============================] - 14s 209ms/step - loss: 0.1048 - mae: 0.3859\n",
            "Epoch 14/100\n",
            "67/67 [==============================] - 13s 187ms/step - loss: 0.1013 - mae: 0.3786\n",
            "Epoch 15/100\n",
            "67/67 [==============================] - 14s 216ms/step - loss: 0.0996 - mae: 0.3747\n",
            "Epoch 16/100\n",
            "67/67 [==============================] - 14s 214ms/step - loss: 0.0982 - mae: 0.3713\n",
            "Epoch 17/100\n",
            "67/67 [==============================] - 14s 197ms/step - loss: 0.0971 - mae: 0.3690\n",
            "Epoch 18/100\n",
            "67/67 [==============================] - 14s 203ms/step - loss: 0.0963 - mae: 0.3668\n",
            "Epoch 19/100\n",
            "67/67 [==============================] - 14s 210ms/step - loss: 0.0956 - mae: 0.3652\n",
            "Epoch 20/100\n",
            "67/67 [==============================] - 11s 169ms/step - loss: 0.0948 - mae: 0.3636\n",
            "Epoch 21/100\n",
            "67/67 [==============================] - 14s 201ms/step - loss: 0.0943 - mae: 0.3623\n",
            "Epoch 22/100\n",
            "67/67 [==============================] - 15s 226ms/step - loss: 0.0938 - mae: 0.3612\n",
            "Epoch 23/100\n",
            "67/67 [==============================] - 15s 218ms/step - loss: 0.0934 - mae: 0.3601\n",
            "Epoch 24/100\n",
            "67/67 [==============================] - 15s 220ms/step - loss: 0.0931 - mae: 0.3594\n",
            "Epoch 25/100\n",
            "67/67 [==============================] - 16s 237ms/step - loss: 0.0926 - mae: 0.3583\n",
            "Epoch 26/100\n",
            "67/67 [==============================] - 15s 224ms/step - loss: 0.0924 - mae: 0.3579\n",
            "Epoch 27/100\n",
            "67/67 [==============================] - 13s 188ms/step - loss: 0.0921 - mae: 0.3572\n",
            "Epoch 28/100\n",
            "67/67 [==============================] - 13s 188ms/step - loss: 0.0919 - mae: 0.3568\n",
            "Epoch 29/100\n",
            "67/67 [==============================] - 12s 183ms/step - loss: 0.0918 - mae: 0.3564\n",
            "Epoch 30/100\n",
            "67/67 [==============================] - 15s 227ms/step - loss: 0.0916 - mae: 0.3559\n",
            "Epoch 31/100\n",
            "67/67 [==============================] - 13s 196ms/step - loss: 0.0915 - mae: 0.3558\n",
            "Epoch 32/100\n",
            "67/67 [==============================] - 12s 186ms/step - loss: 0.0914 - mae: 0.3556\n",
            "Epoch 33/100\n",
            "67/67 [==============================] - 14s 201ms/step - loss: 0.0913 - mae: 0.3552\n",
            "Epoch 34/100\n",
            "67/67 [==============================] - 13s 189ms/step - loss: 0.0912 - mae: 0.3550\n",
            "Epoch 35/100\n",
            "67/67 [==============================] - 15s 217ms/step - loss: 0.0911 - mae: 0.3548\n",
            "Epoch 36/100\n",
            "67/67 [==============================] - 15s 229ms/step - loss: 0.0910 - mae: 0.3547\n",
            "Epoch 37/100\n",
            "67/67 [==============================] - 13s 196ms/step - loss: 0.0910 - mae: 0.3545\n",
            "Epoch 38/100\n",
            "67/67 [==============================] - 12s 172ms/step - loss: 0.0910 - mae: 0.3544\n",
            "Epoch 39/100\n",
            "67/67 [==============================] - 13s 196ms/step - loss: 0.0909 - mae: 0.3545\n",
            "Epoch 40/100\n",
            "67/67 [==============================] - 13s 180ms/step - loss: 0.0909 - mae: 0.3543\n",
            "Epoch 41/100\n",
            "67/67 [==============================] - 14s 198ms/step - loss: 0.0907 - mae: 0.3538\n",
            "Epoch 42/100\n",
            "67/67 [==============================] - 14s 204ms/step - loss: 0.0908 - mae: 0.3542\n",
            "Epoch 43/100\n",
            "67/67 [==============================] - 13s 193ms/step - loss: 0.0908 - mae: 0.3542\n",
            "Epoch 44/100\n",
            "67/67 [==============================] - 15s 215ms/step - loss: 0.0907 - mae: 0.3539\n",
            "Epoch 45/100\n",
            "67/67 [==============================] - 14s 202ms/step - loss: 0.0907 - mae: 0.3539\n",
            "Epoch 46/100\n",
            "67/67 [==============================] - 15s 232ms/step - loss: 0.0907 - mae: 0.3539\n",
            "Epoch 47/100\n",
            "67/67 [==============================] - 15s 227ms/step - loss: 0.0907 - mae: 0.3538\n",
            "Epoch 48/100\n",
            "67/67 [==============================] - 13s 201ms/step - loss: 0.0907 - mae: 0.3539\n",
            "Epoch 49/100\n",
            "67/67 [==============================] - 13s 183ms/step - loss: 0.0907 - mae: 0.3539\n",
            "Epoch 50/100\n",
            "67/67 [==============================] - 15s 222ms/step - loss: 0.0906 - mae: 0.3538\n",
            "Epoch 51/100\n",
            "67/67 [==============================] - 14s 214ms/step - loss: 0.0906 - mae: 0.3537\n",
            "Epoch 52/100\n",
            "67/67 [==============================] - 17s 247ms/step - loss: 0.0906 - mae: 0.3538\n",
            "Epoch 53/100\n",
            "67/67 [==============================] - 14s 215ms/step - loss: 0.0906 - mae: 0.3538\n",
            "Epoch 54/100\n",
            "67/67 [==============================] - 14s 214ms/step - loss: 0.0906 - mae: 0.3538\n",
            "Epoch 55/100\n",
            "67/67 [==============================] - 14s 214ms/step - loss: 0.0906 - mae: 0.3537\n",
            "Epoch 56/100\n",
            "67/67 [==============================] - 14s 205ms/step - loss: 0.0906 - mae: 0.3538\n",
            "Epoch 57/100\n",
            "67/67 [==============================] - 14s 203ms/step - loss: 0.0906 - mae: 0.3537\n",
            "Epoch 58/100\n",
            "67/67 [==============================] - 13s 197ms/step - loss: 0.0906 - mae: 0.3537\n",
            "Epoch 59/100\n",
            "67/67 [==============================] - 15s 214ms/step - loss: 0.0906 - mae: 0.3536\n",
            "Epoch 60/100\n",
            "67/67 [==============================] - 14s 204ms/step - loss: 0.0906 - mae: 0.3537\n",
            "Epoch 61/100\n",
            "67/67 [==============================] - 13s 199ms/step - loss: 0.0906 - mae: 0.3536\n",
            "Epoch 62/100\n",
            "67/67 [==============================] - 12s 183ms/step - loss: 0.0906 - mae: 0.3537\n",
            "Epoch 63/100\n",
            "67/67 [==============================] - 15s 213ms/step - loss: 0.0906 - mae: 0.3536\n",
            "Epoch 64/100\n",
            "67/67 [==============================] - 15s 211ms/step - loss: 0.0905 - mae: 0.3534\n",
            "Epoch 65/100\n",
            "67/67 [==============================] - 12s 170ms/step - loss: 0.0905 - mae: 0.3535\n",
            "Epoch 66/100\n",
            "67/67 [==============================] - 16s 244ms/step - loss: 0.0906 - mae: 0.3536\n",
            "Epoch 67/100\n",
            "67/67 [==============================] - 15s 212ms/step - loss: 0.0906 - mae: 0.3537\n",
            "Epoch 68/100\n",
            "67/67 [==============================] - 15s 213ms/step - loss: 0.0906 - mae: 0.3537\n",
            "Epoch 69/100\n",
            "67/67 [==============================] - 13s 196ms/step - loss: 0.0906 - mae: 0.3536\n",
            "Epoch 70/100\n",
            "67/67 [==============================] - 13s 186ms/step - loss: 0.0906 - mae: 0.3538\n",
            "Epoch 71/100\n",
            "67/67 [==============================] - 13s 191ms/step - loss: 0.0905 - mae: 0.3536\n",
            "Epoch 72/100\n",
            "67/67 [==============================] - 16s 239ms/step - loss: 0.0906 - mae: 0.3537\n",
            "Epoch 73/100\n",
            "67/67 [==============================] - 19s 273ms/step - loss: 0.0905 - mae: 0.3536\n",
            "Epoch 74/100\n",
            "67/67 [==============================] - 14s 212ms/step - loss: 0.0906 - mae: 0.3538\n",
            "Epoch 75/100\n",
            "67/67 [==============================] - 13s 186ms/step - loss: 0.0905 - mae: 0.3536\n",
            "Epoch 76/100\n",
            "67/67 [==============================] - 12s 179ms/step - loss: 0.0906 - mae: 0.3536\n",
            "Epoch 77/100\n",
            "67/67 [==============================] - 15s 215ms/step - loss: 0.0906 - mae: 0.3536\n",
            "Epoch 78/100\n",
            "67/67 [==============================] - 14s 210ms/step - loss: 0.0906 - mae: 0.3536\n",
            "Epoch 79/100\n",
            "67/67 [==============================] - 15s 220ms/step - loss: 0.0905 - mae: 0.3536\n",
            "Epoch 80/100\n",
            "67/67 [==============================] - 14s 197ms/step - loss: 0.0905 - mae: 0.3537\n",
            "Epoch 81/100\n",
            "67/67 [==============================] - 15s 219ms/step - loss: 0.0906 - mae: 0.3536\n",
            "Epoch 82/100\n",
            "67/67 [==============================] - 14s 211ms/step - loss: 0.0906 - mae: 0.3536\n",
            "Epoch 83/100\n",
            "67/67 [==============================] - 15s 212ms/step - loss: 0.0906 - mae: 0.3537\n",
            "Epoch 84/100\n",
            "67/67 [==============================] - 12s 176ms/step - loss: 0.0906 - mae: 0.3536\n",
            "Epoch 85/100\n",
            "67/67 [==============================] - 14s 208ms/step - loss: 0.0906 - mae: 0.3536\n",
            "Epoch 86/100\n",
            "67/67 [==============================] - 13s 186ms/step - loss: 0.0906 - mae: 0.3537\n",
            "Epoch 87/100\n",
            "67/67 [==============================] - 13s 194ms/step - loss: 0.0904 - mae: 0.3534\n",
            "Epoch 88/100\n",
            "67/67 [==============================] - 15s 216ms/step - loss: 0.0906 - mae: 0.3536\n",
            "Epoch 89/100\n",
            "67/67 [==============================] - 15s 216ms/step - loss: 0.0906 - mae: 0.3537\n",
            "Epoch 90/100\n",
            "67/67 [==============================] - 14s 212ms/step - loss: 0.0905 - mae: 0.3536\n",
            "Epoch 91/100\n",
            "67/67 [==============================] - 14s 209ms/step - loss: 0.0906 - mae: 0.3533\n",
            "Epoch 92/100\n",
            "67/67 [==============================] - 15s 222ms/step - loss: 0.0905 - mae: 0.3536\n",
            "Epoch 93/100\n",
            "67/67 [==============================] - 15s 223ms/step - loss: 0.0906 - mae: 0.3536\n",
            "Epoch 94/100\n",
            "67/67 [==============================] - 16s 226ms/step - loss: 0.0905 - mae: 0.3536\n",
            "Epoch 95/100\n",
            "67/67 [==============================] - 15s 214ms/step - loss: 0.0906 - mae: 0.3536\n",
            "Epoch 96/100\n",
            "67/67 [==============================] - 15s 216ms/step - loss: 0.0906 - mae: 0.3538\n",
            "Epoch 97/100\n",
            "67/67 [==============================] - 12s 168ms/step - loss: 0.0906 - mae: 0.3537\n",
            "Epoch 98/100\n",
            "67/67 [==============================] - 12s 175ms/step - loss: 0.0906 - mae: 0.3537\n",
            "Epoch 99/100\n",
            "67/67 [==============================] - 15s 222ms/step - loss: 0.0906 - mae: 0.3537\n",
            "Epoch 100/100\n",
            "67/67 [==============================] - 16s 234ms/step - loss: 0.0905 - mae: 0.3535\n"
          ]
        },
        {
          "output_type": "execute_result",
          "data": {
            "text/plain": [
              "<keras.callbacks.History at 0x7f28cda9a2d0>"
            ]
          },
          "metadata": {},
          "execution_count": 63
        }
      ]
    },
    {
      "cell_type": "markdown",
      "metadata": {
        "id": "69lcH5cAEnki"
      },
      "source": [
        "## Evaluating the forecast\n",
        "\n",
        "Now it is time to evaluate the performance of the forecast. For this we use the `compute_metrics` function that you coded in a previous assignment:"
      ]
    },
    {
      "cell_type": "code",
      "execution_count": 31,
      "metadata": {
        "id": "1Y12KaJYEnki"
      },
      "outputs": [],
      "source": [
        "def compute_metrics(true_series, forecast):\n",
        "    \n",
        "    mse = tf.keras.metrics.mean_squared_error(true_series, forecast).numpy()\n",
        "    mae = tf.keras.metrics.mean_absolute_error(true_series, forecast).numpy()\n",
        "\n",
        "    return mse, mae"
      ]
    },
    {
      "cell_type": "markdown",
      "metadata": {
        "id": "r7V0kTKHEnki"
      },
      "source": [
        "At this point only the model that will perform the forecast is ready but we still need to compute the actual forecast.\n",
        "\n"
      ]
    },
    {
      "cell_type": "markdown",
      "metadata": {
        "id": "rJtDyAD9Enkj"
      },
      "source": [
        "## Faster model forecasts\n",
        "\n",
        "\n",
        "- The dataset is windowed using `window_size` rather than `window_size + 1`\n",
        "- No shuffle should be used\n",
        "- No need to split the data into features and labels\n",
        "- A model is used to predict batches of the dataset"
      ]
    },
    {
      "cell_type": "code",
      "execution_count": 32,
      "metadata": {
        "id": "4XwGrf-A_wF0"
      },
      "outputs": [],
      "source": [
        "def model_forecast(model, series, window_size):\n",
        "    ds = tf.data.Dataset.from_tensor_slices(series)\n",
        "    ds = ds.window(window_size, shift=1, drop_remainder=True)\n",
        "    ds = ds.flat_map(lambda w: w.batch(window_size))\n",
        "    ds = ds.batch(44).prefetch(1)\n",
        "    forecast = model.predict(ds)\n",
        "    return forecast"
      ]
    },
    {
      "cell_type": "markdown",
      "metadata": {
        "id": "kIyFlTEwEnkj"
      },
      "source": [
        "Now compute the actual forecast:"
      ]
    },
    {
      "cell_type": "code",
      "source": [
        "def reverse_normalization(series):\n",
        "  series = series * (max(series_train) - min(series_train)) + min(series_train)\n",
        "  return series"
      ],
      "metadata": {
        "id": "xG8kJO3blWny"
      },
      "execution_count": 33,
      "outputs": []
    },
    {
      "cell_type": "code",
      "execution_count": 64,
      "metadata": {
        "colab": {
          "base_uri": "https://localhost:8080/",
          "height": 388
        },
        "id": "PrktQX3hKYex",
        "outputId": "bd76105f-c31f-46fd-8515-b146f533419d"
      },
      "outputs": [
        {
          "output_type": "display_data",
          "data": {
            "text/plain": [
              "<Figure size 720x432 with 1 Axes>"
            ],
            "image/png": "[encoded data removed]"
          },
          "metadata": {
            "needs_background": "light"
          }
        }
      ],
      "source": [
        "# Compute the forecast for all the series\n",
        "capsnet_lstm_forecast = model_forecast(capsnet_lstm, series_norm, G.WINDOW_SIZE).squeeze()\n",
        "\n",
        "# Slice the forecast to get only the predictions for the validation set\n",
        "series_test_hat = capsnet_lstm_forecast[-150:]\n",
        "# reverse normalization\n",
        "# series_test_hat = reverse_normalization(cnn_lstm_forecast)\n",
        "\n",
        "# Plot the forecast\n",
        "plt.figure(figsize=(10, 6))\n",
        "plot_series(time_test, series_test_norm)\n",
        "plot_series(time_test, series_test_hat)"
      ]
    },
    {
      "cell_type": "code",
      "source": [
        "series_test_hat = reverse_normalization(series_test_hat)\n",
        "\n",
        "# Plot the forecast\n",
        "plt.figure(figsize=(10, 6))\n",
        "plot_series(time_test, series_test)\n",
        "plot_series(time_test, series_test_hat)"
      ],
      "metadata": {
        "colab": {
          "base_uri": "https://localhost:8080/",
          "height": 388
        },
        "id": "f9uvk7NGnnwt",
        "outputId": "410dce95-8210-42e2-c202-4678b6a5ece5"
      },
      "execution_count": 60,
      "outputs": [
        {
          "output_type": "display_data",
          "data": {
            "text/plain": [
              "<Figure size 720x432 with 1 Axes>"
            ],
            "image/png": "[encoded data removed]"
          },
          "metadata": {
            "needs_background": "light"
          }
        }
      ]
    },
    {
      "cell_type": "code",
      "execution_count": 61,
      "metadata": {
        "id": "JyKUmK5BEnkj",
        "colab": {
          "base_uri": "https://localhost:8080/"
        },
        "outputId": "6561612e-e518-4c36-b19d-c698874f70f6"
      },
      "outputs": [
        {
          "output_type": "stream",
          "name": "stdout",
          "text": [
            "mse: 76918664.00, mae: 8732.37 for forecast\n"
          ]
        }
      ],
      "source": [
        "mse, mae = compute_metrics(series_test, series_test_hat)\n",
        "\n",
        "print(f\"mse: {mse:.2f}, mae: {mae:.2f} for forecast\")"
      ]
    },
    {
      "cell_type": "markdown",
      "source": [
        "## Baseline (LSTM, CNN-LSTM)"
      ],
      "metadata": {
        "id": "og2vNXLVgOeC"
      }
    },
    {
      "cell_type": "markdown",
      "source": [
        "### LSTM"
      ],
      "metadata": {
        "id": "DTXrC28w_ZGT"
      }
    },
    {
      "cell_type": "code",
      "execution_count": 41,
      "metadata": {
        "id": "Sc6pU_kiEnkg"
      },
      "outputs": [],
      "source": [
        "def build_LSTM(hp):\n",
        "   \n",
        "    model = tf.keras.models.Sequential([\n",
        "          tf.keras.layers.LSTM(hp.Int('lstm_units', 100, 300, 50), input_shape=[G.WINDOW_SIZE, 1]),\n",
        "          tf.keras.layers.Dense(hp.Int('dense1_units', 20, 50, 10), activation=\"relu\"),\n",
        "          tf.keras.layers.Dense(hp.Int('dense2_units', 5, 20, 5), activation=\"relu\"),\n",
        "          tf.keras.layers.Dense(1)\n",
        "    ])\n",
        "    learning_rate = hp.Float(\"lr\", min_value=1e-4, max_value=1e-2, sampling=\"log\")\n",
        "    model.compile(\n",
        "        optimizer=tf.keras.optimizers.Adam(learning_rate=learning_rate),\n",
        "        loss=tf.keras.losses.Huber(),\n",
        "        metrics=[\"mae\"])\n",
        "\n",
        "    return model"
      ]
    },
    {
      "cell_type": "code",
      "source": [
        "build_LSTM(keras_tuner.HyperParameters())\n",
        "\n",
        "tuner_lstm = keras_tuner.Hyperband(\n",
        "    hypermodel=build_LSTM,\n",
        "    objective=\"val_mae\",\n",
        "    max_epochs=2,\n",
        "    factor=3,\n",
        "    hyperband_iterations=1,\n",
        "    distribution_strategy=strategy,\n",
        "    directory=\"lstm_results_dir\",\n",
        "    project_name=\"lstm\",\n",
        "    overwrite=True)\n",
        "\n",
        "tuner_lstm.search(train_set, epochs=2, validation_data=val_set)\n",
        "\n",
        "tuner_lstm.results_summary()\n",
        "\n",
        "# Get the top 2 hyperparameters.\n",
        "best_hps_lstm = tuner_lstm.get_best_hyperparameters(5)\n",
        "# Build the model with the best hp.\n",
        "with strategy.scope():\n",
        "  lstm = build_LSTM(best_hps_lstm[0])\n",
        "# Fit with the entire dataset.\n",
        "lstm.fit(train_val_set, epochs=100)"
      ],
      "metadata": {
        "id": "JQ5JlaaZ8dD_",
        "outputId": "9e037e96-a886-487d-96cc-9ebed4246759",
        "colab": {
          "base_uri": "https://localhost:8080/"
        }
      },
      "execution_count": 43,
      "outputs": [
        {
          "output_type": "stream",
          "name": "stdout",
          "text": [
            "Trial 2 Complete [00h 00m 23s]\n",
            "val_mae: 0.03334487974643707\n",
            "\n",
            "Best val_mae So Far: 0.03334487974643707\n",
            "Total elapsed time: 00h 00m 46s\n",
            "Results summary\n",
            "Results in results_dir/lstm\n",
            "Showing 10 best trials\n",
            "<keras_tuner.engine.objective.Objective object at 0x7f28d334b3d0>\n",
            "Trial summary\n",
            "Hyperparameters:\n",
            "lstm_units: 200\n",
            "dense1_units: 50\n",
            "dense2_units: 5\n",
            "lr: 0.0004176467208601923\n",
            "tuner/epochs: 2\n",
            "tuner/initial_epoch: 0\n",
            "tuner/bracket: 0\n",
            "tuner/round: 0\n",
            "Score: 0.03334487974643707\n",
            "Trial summary\n",
            "Hyperparameters:\n",
            "lstm_units: 200\n",
            "dense1_units: 20\n",
            "dense2_units: 5\n",
            "lr: 0.00030021117631513403\n",
            "tuner/epochs: 2\n",
            "tuner/initial_epoch: 0\n",
            "tuner/bracket: 0\n",
            "tuner/round: 0\n",
            "Score: 1.2257616519927979\n",
            "Epoch 1/100\n",
            "67/67 [==============================] - 12s 73ms/step - loss: 0.0055 - mae: 0.0787\n",
            "Epoch 2/100\n",
            "67/67 [==============================] - 4s 57ms/step - loss: 0.0025 - mae: 0.0542\n",
            "Epoch 3/100\n",
            "67/67 [==============================] - 5s 66ms/step - loss: 0.0016 - mae: 0.0434\n",
            "Epoch 4/100\n",
            "67/67 [==============================] - 4s 52ms/step - loss: 0.0013 - mae: 0.0400\n",
            "Epoch 5/100\n",
            "67/67 [==============================] - 4s 61ms/step - loss: 9.2337e-04 - mae: 0.0339\n",
            "Epoch 6/100\n",
            "67/67 [==============================] - 5s 76ms/step - loss: 8.9912e-04 - mae: 0.0328\n",
            "Epoch 7/100\n",
            "67/67 [==============================] - 4s 62ms/step - loss: 4.8352e-04 - mae: 0.0238\n",
            "Epoch 8/100\n",
            "67/67 [==============================] - 5s 68ms/step - loss: 4.2157e-04 - mae: 0.0220\n",
            "Epoch 9/100\n",
            "67/67 [==============================] - 4s 58ms/step - loss: 3.5899e-04 - mae: 0.0201\n",
            "Epoch 10/100\n",
            "67/67 [==============================] - 6s 83ms/step - loss: 3.5832e-04 - mae: 0.0204\n",
            "Epoch 11/100\n",
            "67/67 [==============================] - 5s 61ms/step - loss: 4.3915e-04 - mae: 0.0226\n",
            "Epoch 12/100\n",
            "67/67 [==============================] - 3s 42ms/step - loss: 3.1132e-04 - mae: 0.0183\n",
            "Epoch 13/100\n",
            "67/67 [==============================] - 3s 40ms/step - loss: 2.9886e-04 - mae: 0.0174\n",
            "Epoch 14/100\n",
            "67/67 [==============================] - 5s 62ms/step - loss: 2.6786e-04 - mae: 0.0170\n",
            "Epoch 15/100\n",
            "67/67 [==============================] - 4s 53ms/step - loss: 3.5600e-04 - mae: 0.0200\n",
            "Epoch 16/100\n",
            "67/67 [==============================] - 3s 42ms/step - loss: 2.5510e-04 - mae: 0.0159\n",
            "Epoch 17/100\n",
            "67/67 [==============================] - 3s 52ms/step - loss: 2.3902e-04 - mae: 0.0156\n",
            "Epoch 18/100\n",
            "67/67 [==============================] - 5s 70ms/step - loss: 2.4713e-04 - mae: 0.0161\n",
            "Epoch 19/100\n",
            "67/67 [==============================] - 3s 51ms/step - loss: 2.9836e-04 - mae: 0.0189\n",
            "Epoch 20/100\n",
            "67/67 [==============================] - 5s 64ms/step - loss: 3.9562e-04 - mae: 0.0222\n",
            "Epoch 21/100\n",
            "67/67 [==============================] - 5s 74ms/step - loss: 3.5216e-04 - mae: 0.0208\n",
            "Epoch 22/100\n",
            "67/67 [==============================] - 6s 77ms/step - loss: 2.6299e-04 - mae: 0.0172\n",
            "Epoch 23/100\n",
            "67/67 [==============================] - 5s 73ms/step - loss: 2.1318e-04 - mae: 0.0150\n",
            "Epoch 24/100\n",
            "67/67 [==============================] - 3s 44ms/step - loss: 1.9878e-04 - mae: 0.0143\n",
            "Epoch 25/100\n",
            "67/67 [==============================] - 4s 59ms/step - loss: 2.1144e-04 - mae: 0.0149\n",
            "Epoch 26/100\n",
            "67/67 [==============================] - 4s 52ms/step - loss: 2.0163e-04 - mae: 0.0145\n",
            "Epoch 27/100\n",
            "67/67 [==============================] - 3s 50ms/step - loss: 2.0460e-04 - mae: 0.0145\n",
            "Epoch 28/100\n",
            "67/67 [==============================] - 5s 62ms/step - loss: 2.4912e-04 - mae: 0.0163\n",
            "Epoch 29/100\n",
            "67/67 [==============================] - 6s 77ms/step - loss: 2.2433e-04 - mae: 0.0158\n",
            "Epoch 30/100\n",
            "67/67 [==============================] - 4s 49ms/step - loss: 2.6988e-04 - mae: 0.0177\n",
            "Epoch 31/100\n",
            "67/67 [==============================] - 3s 47ms/step - loss: 2.0741e-04 - mae: 0.0152\n",
            "Epoch 32/100\n",
            "67/67 [==============================] - 4s 66ms/step - loss: 2.1383e-04 - mae: 0.0153\n",
            "Epoch 33/100\n",
            "67/67 [==============================] - 3s 51ms/step - loss: 2.3035e-04 - mae: 0.0161\n",
            "Epoch 34/100\n",
            "67/67 [==============================] - 4s 66ms/step - loss: 1.9613e-04 - mae: 0.0139\n",
            "Epoch 35/100\n",
            "67/67 [==============================] - 4s 57ms/step - loss: 2.1336e-04 - mae: 0.0152\n",
            "Epoch 36/100\n",
            "67/67 [==============================] - 4s 51ms/step - loss: 3.6746e-04 - mae: 0.0212\n",
            "Epoch 37/100\n",
            "67/67 [==============================] - 4s 58ms/step - loss: 2.9725e-04 - mae: 0.0186\n",
            "Epoch 38/100\n",
            "67/67 [==============================] - 4s 59ms/step - loss: 1.5771e-04 - mae: 0.0127\n",
            "Epoch 39/100\n",
            "67/67 [==============================] - 4s 63ms/step - loss: 1.7153e-04 - mae: 0.0131\n",
            "Epoch 40/100\n",
            "67/67 [==============================] - 4s 51ms/step - loss: 1.6760e-04 - mae: 0.0134\n",
            "Epoch 41/100\n",
            "67/67 [==============================] - 3s 47ms/step - loss: 2.8812e-04 - mae: 0.0185\n",
            "Epoch 42/100\n",
            "67/67 [==============================] - 4s 54ms/step - loss: 2.0387e-04 - mae: 0.0150\n",
            "Epoch 43/100\n",
            "67/67 [==============================] - 5s 75ms/step - loss: 1.4370e-04 - mae: 0.0121\n",
            "Epoch 44/100\n",
            "67/67 [==============================] - 5s 64ms/step - loss: 1.4370e-04 - mae: 0.0122\n",
            "Epoch 45/100\n",
            "67/67 [==============================] - 4s 62ms/step - loss: 1.6290e-04 - mae: 0.0133\n",
            "Epoch 46/100\n",
            "67/67 [==============================] - 4s 55ms/step - loss: 1.7582e-04 - mae: 0.0139\n",
            "Epoch 47/100\n",
            "67/67 [==============================] - 4s 62ms/step - loss: 1.9174e-04 - mae: 0.0146\n",
            "Epoch 48/100\n",
            "67/67 [==============================] - 3s 43ms/step - loss: 1.5705e-04 - mae: 0.0129\n",
            "Epoch 49/100\n",
            "67/67 [==============================] - 3s 43ms/step - loss: 1.7643e-04 - mae: 0.0139\n",
            "Epoch 50/100\n",
            "67/67 [==============================] - 5s 61ms/step - loss: 1.6358e-04 - mae: 0.0133\n",
            "Epoch 51/100\n",
            "67/67 [==============================] - 4s 50ms/step - loss: 1.4725e-04 - mae: 0.0123\n",
            "Epoch 52/100\n",
            "67/67 [==============================] - 4s 62ms/step - loss: 1.3426e-04 - mae: 0.0118\n",
            "Epoch 53/100\n",
            "67/67 [==============================] - 4s 50ms/step - loss: 1.5985e-04 - mae: 0.0131\n",
            "Epoch 54/100\n",
            "67/67 [==============================] - 4s 63ms/step - loss: 1.4394e-04 - mae: 0.0124\n",
            "Epoch 55/100\n",
            "67/67 [==============================] - 4s 51ms/step - loss: 1.7503e-04 - mae: 0.0140\n",
            "Epoch 56/100\n",
            "67/67 [==============================] - 5s 67ms/step - loss: 1.2881e-04 - mae: 0.0113\n",
            "Epoch 57/100\n",
            "67/67 [==============================] - 3s 41ms/step - loss: 1.3061e-04 - mae: 0.0116\n",
            "Epoch 58/100\n",
            "67/67 [==============================] - 2s 35ms/step - loss: 1.4392e-04 - mae: 0.0123\n",
            "Epoch 59/100\n",
            "67/67 [==============================] - 3s 43ms/step - loss: 1.4459e-04 - mae: 0.0120\n",
            "Epoch 60/100\n",
            "67/67 [==============================] - 5s 72ms/step - loss: 1.6141e-04 - mae: 0.0135\n",
            "Epoch 61/100\n",
            "67/67 [==============================] - 3s 43ms/step - loss: 2.4956e-04 - mae: 0.0169\n",
            "Epoch 62/100\n",
            "67/67 [==============================] - 5s 68ms/step - loss: 1.5601e-04 - mae: 0.0132\n",
            "Epoch 63/100\n",
            "67/67 [==============================] - 4s 50ms/step - loss: 1.5612e-04 - mae: 0.0134\n",
            "Epoch 64/100\n",
            "67/67 [==============================] - 5s 68ms/step - loss: 2.1905e-04 - mae: 0.0156\n",
            "Epoch 65/100\n",
            "67/67 [==============================] - 5s 70ms/step - loss: 2.1687e-04 - mae: 0.0159\n",
            "Epoch 66/100\n",
            "67/67 [==============================] - 6s 77ms/step - loss: 2.1946e-04 - mae: 0.0156\n",
            "Epoch 67/100\n",
            "67/67 [==============================] - 4s 61ms/step - loss: 1.1602e-04 - mae: 0.0107\n",
            "Epoch 68/100\n",
            "67/67 [==============================] - 4s 47ms/step - loss: 1.1744e-04 - mae: 0.0110\n",
            "Epoch 69/100\n",
            "67/67 [==============================] - 4s 52ms/step - loss: 1.2609e-04 - mae: 0.0115\n",
            "Epoch 70/100\n",
            "67/67 [==============================] - 4s 67ms/step - loss: 1.2926e-04 - mae: 0.0117\n",
            "Epoch 71/100\n",
            "67/67 [==============================] - 4s 50ms/step - loss: 1.1828e-04 - mae: 0.0108\n",
            "Epoch 72/100\n",
            "67/67 [==============================] - 4s 52ms/step - loss: 1.2833e-04 - mae: 0.0116\n",
            "Epoch 73/100\n",
            "67/67 [==============================] - 4s 66ms/step - loss: 1.3926e-04 - mae: 0.0122\n",
            "Epoch 74/100\n",
            "67/67 [==============================] - 4s 60ms/step - loss: 1.2111e-04 - mae: 0.0114\n",
            "Epoch 75/100\n",
            "67/67 [==============================] - 4s 60ms/step - loss: 2.2927e-04 - mae: 0.0168\n",
            "Epoch 76/100\n",
            "67/67 [==============================] - 6s 77ms/step - loss: 2.1307e-04 - mae: 0.0160\n",
            "Epoch 77/100\n",
            "67/67 [==============================] - 4s 49ms/step - loss: 1.8139e-04 - mae: 0.0146\n",
            "Epoch 78/100\n",
            "67/67 [==============================] - 3s 41ms/step - loss: 1.2761e-04 - mae: 0.0116\n",
            "Epoch 79/100\n",
            "67/67 [==============================] - 5s 69ms/step - loss: 1.0500e-04 - mae: 0.0104\n",
            "Epoch 80/100\n",
            "67/67 [==============================] - 5s 73ms/step - loss: 1.4622e-04 - mae: 0.0128\n",
            "Epoch 81/100\n",
            "67/67 [==============================] - 5s 76ms/step - loss: 1.2733e-04 - mae: 0.0115\n",
            "Epoch 82/100\n",
            "67/67 [==============================] - 2s 33ms/step - loss: 1.3938e-04 - mae: 0.0124\n",
            "Epoch 83/100\n",
            "67/67 [==============================] - 4s 61ms/step - loss: 1.0462e-04 - mae: 0.0103\n",
            "Epoch 84/100\n",
            "67/67 [==============================] - 4s 64ms/step - loss: 1.1561e-04 - mae: 0.0108\n",
            "Epoch 85/100\n",
            "67/67 [==============================] - 5s 64ms/step - loss: 1.3246e-04 - mae: 0.0122\n",
            "Epoch 86/100\n",
            "67/67 [==============================] - 4s 54ms/step - loss: 1.6004e-04 - mae: 0.0134\n",
            "Epoch 87/100\n",
            "67/67 [==============================] - 3s 41ms/step - loss: 1.0305e-04 - mae: 0.0100\n",
            "Epoch 88/100\n",
            "67/67 [==============================] - 3s 45ms/step - loss: 1.1672e-04 - mae: 0.0110\n",
            "Epoch 89/100\n",
            "67/67 [==============================] - 4s 53ms/step - loss: 1.1522e-04 - mae: 0.0111\n",
            "Epoch 90/100\n",
            "67/67 [==============================] - 4s 65ms/step - loss: 1.1374e-04 - mae: 0.0106\n",
            "Epoch 91/100\n",
            "67/67 [==============================] - 4s 51ms/step - loss: 1.0022e-04 - mae: 0.0099\n",
            "Epoch 92/100\n",
            "67/67 [==============================] - 4s 54ms/step - loss: 1.0511e-04 - mae: 0.0104\n",
            "Epoch 93/100\n",
            "67/67 [==============================] - 4s 50ms/step - loss: 1.1612e-04 - mae: 0.0109\n",
            "Epoch 94/100\n",
            "67/67 [==============================] - 4s 61ms/step - loss: 9.8960e-05 - mae: 0.0098\n",
            "Epoch 95/100\n",
            "67/67 [==============================] - 4s 58ms/step - loss: 1.1307e-04 - mae: 0.0110\n",
            "Epoch 96/100\n",
            "67/67 [==============================] - 4s 53ms/step - loss: 9.7722e-05 - mae: 0.0099\n",
            "Epoch 97/100\n",
            "67/67 [==============================] - 5s 64ms/step - loss: 1.3052e-04 - mae: 0.0121\n",
            "Epoch 98/100\n",
            "67/67 [==============================] - 3s 40ms/step - loss: 1.1425e-04 - mae: 0.0110\n",
            "Epoch 99/100\n",
            "67/67 [==============================] - 4s 56ms/step - loss: 1.5849e-04 - mae: 0.0133\n",
            "Epoch 100/100\n",
            "67/67 [==============================] - 4s 58ms/step - loss: 1.1089e-04 - mae: 0.0109\n"
          ]
        },
        {
          "output_type": "execute_result",
          "data": {
            "text/plain": [
              "<keras.callbacks.History at 0x7f28d19b8290>"
            ]
          },
          "metadata": {},
          "execution_count": 43
        }
      ]
    },
    {
      "cell_type": "code",
      "source": [
        "# Compute the forecast for all the series\n",
        "lstm_forecast = model_forecast(lstm, series_norm, G.WINDOW_SIZE).squeeze()\n",
        "\n",
        "# Slice the forecast to get only the predictions for the validation set\n",
        "series_test_hat_lstm = lstm_forecast[-150:]\n",
        "\n",
        "# Plot the forecast\n",
        "plt.figure(figsize=(10, 6))\n",
        "plot_series(time_test, series_test_norm)\n",
        "plot_series(time_test, series_test_hat_lstm)"
      ],
      "metadata": {
        "id": "usOQ3cl6_rPV",
        "outputId": "1ae1980c-fd71-4f4f-8f0b-3a8c1dc7b198",
        "colab": {
          "base_uri": "https://localhost:8080/",
          "height": 388
        }
      },
      "execution_count": 44,
      "outputs": [
        {
          "output_type": "display_data",
          "data": {
            "text/plain": [
              "<Figure size 720x432 with 1 Axes>"
            ],
            "image/png": "[encoded data removed]"
          },
          "metadata": {
            "needs_background": "light"
          }
        }
      ]
    },
    {
      "cell_type": "code",
      "source": [
        "series_test_hat_lstm = reverse_normalization(series_test_hat_lstm)\n",
        "\n",
        "# Plot the forecast\n",
        "plt.figure(figsize=(10, 6))\n",
        "plot_series(time_test, series_test)\n",
        "plot_series(time_test, series_test_hat_lstm)"
      ],
      "metadata": {
        "id": "To-nLdJf_QOX",
        "outputId": "d527b375-25c6-4464-f604-643888a5f9a7",
        "colab": {
          "base_uri": "https://localhost:8080/",
          "height": 388
        }
      },
      "execution_count": 45,
      "outputs": [
        {
          "output_type": "display_data",
          "data": {
            "text/plain": [
              "<Figure size 720x432 with 1 Axes>"
            ],
            "image/png": "[encoded data removed]"
          },
          "metadata": {
            "needs_background": "light"
          }
        }
      ]
    },
    {
      "cell_type": "code",
      "source": [
        "mse, mae = compute_metrics(series_test, series_test_hat_lstm)\n",
        "\n",
        "print(f\"mse: {mse:.2f}, mae: {mae:.2f} for forecast\")"
      ],
      "metadata": {
        "id": "-U4UwUsf_Tp2",
        "outputId": "fe3c8b03-ef7a-4d33-e8c9-c389d49eddd0",
        "colab": {
          "base_uri": "https://localhost:8080/"
        }
      },
      "execution_count": 46,
      "outputs": [
        {
          "output_type": "stream",
          "name": "stdout",
          "text": [
            "mse: 46019.45, mae: 211.85 for forecast\n"
          ]
        }
      ]
    },
    {
      "cell_type": "markdown",
      "source": [
        "### CNN-LSTM"
      ],
      "metadata": {
        "id": "EgSv9-FX_UEA"
      }
    },
    {
      "cell_type": "code",
      "source": [
        "def build_CNN_LSTM(hp):\n",
        "   \n",
        "    model = tf.keras.models.Sequential([\n",
        "          tf.keras.layers.Conv1D(filters=hp.Int('Conv_units', 256, 1024, 256), kernel_size=2,\n",
        "                                 strides=1,\n",
        "                                 activation=\"relu\",\n",
        "                                 padding='causal',\n",
        "                                 input_shape=[G.WINDOW_SIZE, 1]),\n",
        "          tf.keras.layers.MaxPooling1D(pool_size=2, strides=1, padding=\"same\"),\n",
        "          tf.keras.layers.LSTM(hp.Int('lstm_units', 100, 300, 50)),\n",
        "          tf.keras.layers.Dense(hp.Int('dense1_units', 20, 50, step = 10), activation=\"relu\"),\n",
        "          tf.keras.layers.Dense(hp.Int('dense2_units', 5, 20, step = 5), activation=\"relu\"),\n",
        "          tf.keras.layers.Dense(1)\n",
        "    ])\n",
        "    learning_rate = hp.Float(\"lr\", min_value=1e-4, max_value=1e-2, sampling=\"log\")\n",
        "    model.compile(\n",
        "        optimizer=tf.keras.optimizers.Adam(learning_rate=learning_rate),\n",
        "        loss=tf.keras.losses.Huber(),\n",
        "        metrics=[\"mae\"])\n",
        "\n",
        "    return model"
      ],
      "metadata": {
        "id": "Amka1E2csj3H"
      },
      "execution_count": 49,
      "outputs": []
    },
    {
      "cell_type": "code",
      "source": [
        "build_CNN_LSTM(keras_tuner.HyperParameters())\n",
        "\n",
        "tuner_cnn_lstm = keras_tuner.Hyperband(\n",
        "    hypermodel=build_CNN_LSTM,\n",
        "    objective=\"val_mae\",\n",
        "    max_epochs=2,\n",
        "    factor=3,\n",
        "    hyperband_iterations=1,\n",
        "    distribution_strategy=strategy,\n",
        "    directory=\"cnn_lstm_results_dir\",\n",
        "    project_name=\"cnn-lstm\",\n",
        "    overwrite=True)\n",
        "\n",
        "\n",
        "tuner_cnn_lstm.search(train_set, epochs=2, validation_data=val_set)\n",
        "\n",
        "tuner_cnn_lstm.results_summary()\n",
        "\n",
        "# Get the top 2 hyperparameters.\n",
        "best_hps_cnn_lstm = tuner_cnn_lstm.get_best_hyperparameters(5)\n",
        "# Build the model with the best hp.\n",
        "with strategy.scope():\n",
        "  cnn_lstm = build_LSTM(best_hps_cnn_lstm[0])\n",
        "# Fit with the entire dataset.\n",
        "cnn_lstm.fit(train_val_set, epochs=100)"
      ],
      "metadata": {
        "id": "A1PtMSsr-vSO",
        "outputId": "62391370-3597-4e08-fe6f-2b373722df0e",
        "colab": {
          "base_uri": "https://localhost:8080/"
        }
      },
      "execution_count": 52,
      "outputs": [
        {
          "output_type": "stream",
          "name": "stdout",
          "text": [
            "Trial 2 Complete [00h 00m 29s]\n",
            "val_mae: 0.04136364161968231\n",
            "\n",
            "Best val_mae So Far: 0.04136364161968231\n",
            "Total elapsed time: 00h 01m 04s\n",
            "Results summary\n",
            "Results in cnn_lstm_results_dir/cnn-lstm\n",
            "Showing 10 best trials\n",
            "<keras_tuner.engine.objective.Objective object at 0x7f28d0e35750>\n",
            "Trial summary\n",
            "Hyperparameters:\n",
            "Conv_units: 512\n",
            "lstm_units: 150\n",
            "dense1_units: 30\n",
            "dense2_units: 5\n",
            "lr: 0.00017051882988302358\n",
            "tuner/epochs: 2\n",
            "tuner/initial_epoch: 0\n",
            "tuner/bracket: 0\n",
            "tuner/round: 0\n",
            "Score: 0.04136364161968231\n",
            "Trial summary\n",
            "Hyperparameters:\n",
            "Conv_units: 768\n",
            "lstm_units: 250\n",
            "dense1_units: 40\n",
            "dense2_units: 20\n",
            "lr: 0.007272997158352954\n",
            "tuner/epochs: 2\n",
            "tuner/initial_epoch: 0\n",
            "tuner/bracket: 0\n",
            "tuner/round: 0\n",
            "Score: 0.2245914489030838\n",
            "Epoch 1/100\n",
            "67/67 [==============================] - 11s 77ms/step - loss: 0.0313 - mae: 0.2175\n",
            "Epoch 2/100\n",
            "67/67 [==============================] - 5s 64ms/step - loss: 0.0529 - mae: 0.2730\n",
            "Epoch 3/100\n",
            "67/67 [==============================] - 2s 32ms/step - loss: 0.0257 - mae: 0.1732\n",
            "Epoch 4/100\n",
            "67/67 [==============================] - 4s 58ms/step - loss: 0.0079 - mae: 0.0929\n",
            "Epoch 5/100\n",
            "67/67 [==============================] - 3s 49ms/step - loss: 0.0025 - mae: 0.0546\n",
            "Epoch 6/100\n",
            "67/67 [==============================] - 4s 65ms/step - loss: 0.0011 - mae: 0.0359\n",
            "Epoch 7/100\n",
            "67/67 [==============================] - 4s 52ms/step - loss: 6.3929e-04 - mae: 0.0261\n",
            "Epoch 8/100\n",
            "67/67 [==============================] - 3s 49ms/step - loss: 5.3731e-04 - mae: 0.0232\n",
            "Epoch 9/100\n",
            "67/67 [==============================] - 5s 75ms/step - loss: 5.1056e-04 - mae: 0.0227\n",
            "Epoch 10/100\n",
            "67/67 [==============================] - 3s 31ms/step - loss: 4.9602e-04 - mae: 0.0226\n",
            "Epoch 11/100\n",
            "67/67 [==============================] - 3s 38ms/step - loss: 5.0307e-04 - mae: 0.0231\n",
            "Epoch 12/100\n",
            "67/67 [==============================] - 4s 49ms/step - loss: 4.8443e-04 - mae: 0.0232\n",
            "Epoch 13/100\n",
            "67/67 [==============================] - 4s 62ms/step - loss: 4.8070e-04 - mae: 0.0226\n",
            "Epoch 14/100\n",
            "67/67 [==============================] - 3s 43ms/step - loss: 4.7340e-04 - mae: 0.0224\n",
            "Epoch 15/100\n",
            "67/67 [==============================] - 4s 59ms/step - loss: 4.8734e-04 - mae: 0.0228\n",
            "Epoch 16/100\n",
            "67/67 [==============================] - 4s 53ms/step - loss: 4.7675e-04 - mae: 0.0227\n",
            "Epoch 17/100\n",
            "67/67 [==============================] - 3s 40ms/step - loss: 4.6363e-04 - mae: 0.0226\n",
            "Epoch 18/100\n",
            "67/67 [==============================] - 4s 57ms/step - loss: 4.6052e-04 - mae: 0.0222\n",
            "Epoch 19/100\n",
            "67/67 [==============================] - 4s 64ms/step - loss: 4.7478e-04 - mae: 0.0224\n",
            "Epoch 20/100\n",
            "67/67 [==============================] - 4s 58ms/step - loss: 4.7031e-04 - mae: 0.0225\n",
            "Epoch 21/100\n",
            "67/67 [==============================] - 3s 50ms/step - loss: 4.7393e-04 - mae: 0.0228\n",
            "Epoch 22/100\n",
            "67/67 [==============================] - 5s 59ms/step - loss: 4.5477e-04 - mae: 0.0222\n",
            "Epoch 23/100\n",
            "67/67 [==============================] - 4s 52ms/step - loss: 4.4812e-04 - mae: 0.0218\n",
            "Epoch 24/100\n",
            "67/67 [==============================] - 5s 65ms/step - loss: 4.4832e-04 - mae: 0.0217\n",
            "Epoch 25/100\n",
            "67/67 [==============================] - 4s 56ms/step - loss: 4.5151e-04 - mae: 0.0222\n",
            "Epoch 26/100\n",
            "67/67 [==============================] - 4s 58ms/step - loss: 4.3756e-04 - mae: 0.0222\n",
            "Epoch 27/100\n",
            "67/67 [==============================] - 3s 50ms/step - loss: 4.3998e-04 - mae: 0.0217\n",
            "Epoch 28/100\n",
            "67/67 [==============================] - 5s 64ms/step - loss: 4.3114e-04 - mae: 0.0216\n",
            "Epoch 29/100\n",
            "67/67 [==============================] - 3s 48ms/step - loss: 4.2750e-04 - mae: 0.0217\n",
            "Epoch 30/100\n",
            "67/67 [==============================] - 4s 54ms/step - loss: 4.5006e-04 - mae: 0.0220\n",
            "Epoch 31/100\n",
            "67/67 [==============================] - 2s 33ms/step - loss: 4.3271e-04 - mae: 0.0219\n",
            "Epoch 32/100\n",
            "67/67 [==============================] - 4s 48ms/step - loss: 4.6063e-04 - mae: 0.0229\n",
            "Epoch 33/100\n",
            "67/67 [==============================] - 4s 54ms/step - loss: 4.3656e-04 - mae: 0.0215\n",
            "Epoch 34/100\n",
            "67/67 [==============================] - 3s 39ms/step - loss: 4.2403e-04 - mae: 0.0217\n",
            "Epoch 35/100\n",
            "67/67 [==============================] - 5s 64ms/step - loss: 4.3371e-04 - mae: 0.0226\n",
            "Epoch 36/100\n",
            "67/67 [==============================] - 4s 50ms/step - loss: 4.0492e-04 - mae: 0.0209\n",
            "Epoch 37/100\n",
            "67/67 [==============================] - 4s 65ms/step - loss: 4.0891e-04 - mae: 0.0209\n",
            "Epoch 38/100\n",
            "67/67 [==============================] - 4s 65ms/step - loss: 3.8995e-04 - mae: 0.0205\n",
            "Epoch 39/100\n",
            "67/67 [==============================] - 5s 65ms/step - loss: 3.8041e-04 - mae: 0.0205\n",
            "Epoch 40/100\n",
            "67/67 [==============================] - 4s 51ms/step - loss: 3.9370e-04 - mae: 0.0206\n",
            "Epoch 41/100\n",
            "67/67 [==============================] - 5s 77ms/step - loss: 3.6499e-04 - mae: 0.0199\n",
            "Epoch 42/100\n",
            "67/67 [==============================] - 5s 67ms/step - loss: 3.9431e-04 - mae: 0.0206\n",
            "Epoch 43/100\n",
            "67/67 [==============================] - 3s 49ms/step - loss: 3.6567e-04 - mae: 0.0200\n",
            "Epoch 44/100\n",
            "67/67 [==============================] - 4s 49ms/step - loss: 3.9773e-04 - mae: 0.0206\n",
            "Epoch 45/100\n",
            "67/67 [==============================] - 4s 51ms/step - loss: 3.5489e-04 - mae: 0.0195\n",
            "Epoch 46/100\n",
            "67/67 [==============================] - 3s 51ms/step - loss: 3.6578e-04 - mae: 0.0200\n",
            "Epoch 47/100\n",
            "67/67 [==============================] - 3s 43ms/step - loss: 3.7858e-04 - mae: 0.0202\n",
            "Epoch 48/100\n",
            "67/67 [==============================] - 2s 34ms/step - loss: 3.3082e-04 - mae: 0.0188\n",
            "Epoch 49/100\n",
            "67/67 [==============================] - 4s 57ms/step - loss: 3.3811e-04 - mae: 0.0187\n",
            "Epoch 50/100\n",
            "67/67 [==============================] - 4s 51ms/step - loss: 3.1913e-04 - mae: 0.0184\n",
            "Epoch 51/100\n",
            "67/67 [==============================] - 4s 63ms/step - loss: 3.2306e-04 - mae: 0.0184\n",
            "Epoch 52/100\n",
            "67/67 [==============================] - 3s 51ms/step - loss: 3.3923e-04 - mae: 0.0194\n",
            "Epoch 53/100\n",
            "67/67 [==============================] - 3s 51ms/step - loss: 3.8502e-04 - mae: 0.0211\n",
            "Epoch 54/100\n",
            "67/67 [==============================] - 3s 52ms/step - loss: 3.5319e-04 - mae: 0.0199\n",
            "Epoch 55/100\n",
            "67/67 [==============================] - 3s 48ms/step - loss: 3.0982e-04 - mae: 0.0179\n",
            "Epoch 56/100\n",
            "67/67 [==============================] - 4s 58ms/step - loss: 3.1801e-04 - mae: 0.0179\n",
            "Epoch 57/100\n",
            "67/67 [==============================] - 5s 71ms/step - loss: 3.1151e-04 - mae: 0.0181\n",
            "Epoch 58/100\n",
            "67/67 [==============================] - 5s 62ms/step - loss: 2.7478e-04 - mae: 0.0170\n",
            "Epoch 59/100\n",
            "67/67 [==============================] - 3s 41ms/step - loss: 2.8891e-04 - mae: 0.0177\n",
            "Epoch 60/100\n",
            "67/67 [==============================] - 3s 41ms/step - loss: 3.0261e-04 - mae: 0.0178\n",
            "Epoch 61/100\n",
            "67/67 [==============================] - 4s 53ms/step - loss: 3.1267e-04 - mae: 0.0182\n",
            "Epoch 62/100\n",
            "67/67 [==============================] - 3s 49ms/step - loss: 2.9122e-04 - mae: 0.0177\n",
            "Epoch 63/100\n",
            "67/67 [==============================] - 4s 50ms/step - loss: 2.8237e-04 - mae: 0.0179\n",
            "Epoch 64/100\n",
            "67/67 [==============================] - 4s 64ms/step - loss: 2.5995e-04 - mae: 0.0166\n",
            "Epoch 65/100\n",
            "67/67 [==============================] - 4s 60ms/step - loss: 2.9924e-04 - mae: 0.0178\n",
            "Epoch 66/100\n",
            "67/67 [==============================] - 4s 54ms/step - loss: 2.6460e-04 - mae: 0.0169\n",
            "Epoch 67/100\n",
            "67/67 [==============================] - 4s 50ms/step - loss: 2.9792e-04 - mae: 0.0184\n",
            "Epoch 68/100\n",
            "67/67 [==============================] - 4s 56ms/step - loss: 3.1567e-04 - mae: 0.0188\n",
            "Epoch 69/100\n",
            "67/67 [==============================] - 3s 50ms/step - loss: 2.7114e-04 - mae: 0.0170\n",
            "Epoch 70/100\n",
            "67/67 [==============================] - 3s 43ms/step - loss: 2.8119e-04 - mae: 0.0171\n",
            "Epoch 71/100\n",
            "67/67 [==============================] - 4s 51ms/step - loss: 2.6360e-04 - mae: 0.0166\n",
            "Epoch 72/100\n",
            "67/67 [==============================] - 4s 50ms/step - loss: 2.4660e-04 - mae: 0.0161\n",
            "Epoch 73/100\n",
            "67/67 [==============================] - 3s 43ms/step - loss: 2.4681e-04 - mae: 0.0161\n",
            "Epoch 74/100\n",
            "67/67 [==============================] - 5s 65ms/step - loss: 2.3182e-04 - mae: 0.0158\n",
            "Epoch 75/100\n",
            "67/67 [==============================] - 3s 48ms/step - loss: 2.5484e-04 - mae: 0.0167\n",
            "Epoch 76/100\n",
            "67/67 [==============================] - 4s 53ms/step - loss: 3.0644e-04 - mae: 0.0190\n",
            "Epoch 77/100\n",
            "67/67 [==============================] - 3s 50ms/step - loss: 2.8456e-04 - mae: 0.0176\n",
            "Epoch 78/100\n",
            "67/67 [==============================] - 4s 60ms/step - loss: 2.8678e-04 - mae: 0.0178\n",
            "Epoch 79/100\n",
            "67/67 [==============================] - 5s 65ms/step - loss: 2.3684e-04 - mae: 0.0158\n",
            "Epoch 80/100\n",
            "67/67 [==============================] - 5s 76ms/step - loss: 2.5658e-04 - mae: 0.0162\n",
            "Epoch 81/100\n",
            "67/67 [==============================] - 5s 66ms/step - loss: 2.5186e-04 - mae: 0.0159\n",
            "Epoch 82/100\n",
            "67/67 [==============================] - 3s 50ms/step - loss: 3.1299e-04 - mae: 0.0183\n",
            "Epoch 83/100\n",
            "67/67 [==============================] - 3s 43ms/step - loss: 2.6690e-04 - mae: 0.0168\n",
            "Epoch 84/100\n",
            "67/67 [==============================] - 4s 59ms/step - loss: 2.6545e-04 - mae: 0.0172\n",
            "Epoch 85/100\n",
            "67/67 [==============================] - 5s 65ms/step - loss: 2.6192e-04 - mae: 0.0166\n",
            "Epoch 86/100\n",
            "67/67 [==============================] - 5s 74ms/step - loss: 2.0928e-04 - mae: 0.0150\n",
            "Epoch 87/100\n",
            "67/67 [==============================] - 3s 51ms/step - loss: 2.0560e-04 - mae: 0.0145\n",
            "Epoch 88/100\n",
            "67/67 [==============================] - 3s 48ms/step - loss: 1.9479e-04 - mae: 0.0142\n",
            "Epoch 89/100\n",
            "67/67 [==============================] - 3s 48ms/step - loss: 2.0924e-04 - mae: 0.0147\n",
            "Epoch 90/100\n",
            "67/67 [==============================] - 3s 50ms/step - loss: 2.2483e-04 - mae: 0.0158\n",
            "Epoch 91/100\n",
            "67/67 [==============================] - 4s 62ms/step - loss: 2.3170e-04 - mae: 0.0160\n",
            "Epoch 92/100\n",
            "67/67 [==============================] - 3s 51ms/step - loss: 2.0379e-04 - mae: 0.0148\n",
            "Epoch 93/100\n",
            "67/67 [==============================] - 5s 66ms/step - loss: 2.2289e-04 - mae: 0.0156\n",
            "Epoch 94/100\n",
            "67/67 [==============================] - 3s 51ms/step - loss: 1.9202e-04 - mae: 0.0144\n",
            "Epoch 95/100\n",
            "67/67 [==============================] - 4s 56ms/step - loss: 2.3901e-04 - mae: 0.0158\n",
            "Epoch 96/100\n",
            "67/67 [==============================] - 3s 51ms/step - loss: 2.1773e-04 - mae: 0.0156\n",
            "Epoch 97/100\n",
            "67/67 [==============================] - 4s 55ms/step - loss: 2.0091e-04 - mae: 0.0146\n",
            "Epoch 98/100\n",
            "67/67 [==============================] - 3s 52ms/step - loss: 2.0522e-04 - mae: 0.0148\n",
            "Epoch 99/100\n",
            "67/67 [==============================] - 2s 34ms/step - loss: 2.0158e-04 - mae: 0.0146\n",
            "Epoch 100/100\n",
            "67/67 [==============================] - 4s 59ms/step - loss: 2.2648e-04 - mae: 0.0159\n"
          ]
        },
        {
          "output_type": "execute_result",
          "data": {
            "text/plain": [
              "<keras.callbacks.History at 0x7f28cfd85a10>"
            ]
          },
          "metadata": {},
          "execution_count": 52
        }
      ]
    },
    {
      "cell_type": "code",
      "source": [
        "# Compute the forecast for all the series\n",
        "cnn_lstm_forecast = model_forecast(cnn_lstm, series_norm, G.WINDOW_SIZE).squeeze()\n",
        "\n",
        "# Slice the forecast to get only the predictions for the validation set\n",
        "series_test_hat_cnn_lstm = cnn_lstm_forecast[-150:]\n",
        "\n",
        "# Plot the forecast\n",
        "plt.figure(figsize=(10, 6))\n",
        "plot_series(time_test, series_test_norm)\n",
        "plot_series(time_test, series_test_hat_cnn_lstm)"
      ],
      "metadata": {
        "id": "54nm9-qaAU9o",
        "outputId": "cce70146-ce11-462c-afa5-8714e91ce735",
        "colab": {
          "base_uri": "https://localhost:8080/",
          "height": 388
        }
      },
      "execution_count": 53,
      "outputs": [
        {
          "output_type": "display_data",
          "data": {
            "text/plain": [
              "<Figure size 720x432 with 1 Axes>"
            ],
            "image/png": "[encoded data removed]"
          },
          "metadata": {
            "needs_background": "light"
          }
        }
      ]
    },
    {
      "cell_type": "code",
      "source": [
        "series_test_hat_cnn_lstm = reverse_normalization(series_test_hat_cnn_lstm)\n",
        "\n",
        "# Plot the forecast\n",
        "plt.figure(figsize=(10, 6))\n",
        "plot_series(time_test, series_test)\n",
        "plot_series(time_test, series_test_hat_cnn_lstm)"
      ],
      "metadata": {
        "id": "3Rsf4HtdAVTe",
        "outputId": "54f613aa-07d4-49f7-af80-e17f54f8f809",
        "colab": {
          "base_uri": "https://localhost:8080/",
          "height": 388
        }
      },
      "execution_count": 54,
      "outputs": [
        {
          "output_type": "display_data",
          "data": {
            "text/plain": [
              "<Figure size 720x432 with 1 Axes>"
            ],
            "image/png": "[encoded data removed]"
          },
          "metadata": {
            "needs_background": "light"
          }
        }
      ]
    },
    {
      "cell_type": "code",
      "source": [
        "mse, mae = compute_metrics(series_test, series_test_hat_cnn_lstm)\n",
        "\n",
        "print(f\"mse: {mse:.2f}, mae: {mae:.2f} for forecast\")"
      ],
      "metadata": {
        "id": "hW0VZCxdAVjO",
        "outputId": "b7fc72e4-c363-44be-a0c5-774596847014",
        "colab": {
          "base_uri": "https://localhost:8080/"
        }
      },
      "execution_count": 55,
      "outputs": [
        {
          "output_type": "stream",
          "name": "stdout",
          "text": [
            "mse: 65150.74, mae: 219.39 for forecast\n"
          ]
        }
      ]
    },
    {
      "cell_type": "markdown",
      "source": [
        "## Camparison"
      ],
      "metadata": {
        "id": "15FrV8PMAimg"
      }
    },
    {
      "cell_type": "code",
      "source": [],
      "metadata": {
        "id": "rNCmNekCAuAF"
      },
      "execution_count": null,
      "outputs": []
    },
    {
      "cell_type": "code",
      "source": [],
      "metadata": {
        "id": "JzlMIn_iAt7w"
      },
      "execution_count": null,
      "outputs": []
    }
  ],
  "metadata": {
    "kernelspec": {
      "display_name": "Python 3",
      "language": "python",
      "name": "python3"
    },
    "language_info": {
      "codemirror_mode": {
        "name": "ipython",
        "version": 3
      },
      "file_extension": ".py",
      "mimetype": "text/x-python",
      "name": "python",
      "nbconvert_exporter": "python",
      "pygments_lexer": "ipython3",
      "version": "3.8.8"
    },
    "colab": {
      "name": "CapsNet_LSTM.ipynb",
      "provenance": [],
      "collapsed_sections": [],
      "machine_shape": "hm",
      "include_colab_link": true
    },
    "accelerator": "TPU",
    "gpuClass": "standard"
  },
  "nbformat": 4,
  "nbformat_minor": 0
}