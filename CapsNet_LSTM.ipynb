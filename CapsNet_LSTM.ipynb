{
  "cells": [
    {
      "cell_type": "markdown",
      "metadata": {
        "id": "view-in-github",
        "colab_type": "text"
      },
      "source": [
        "<a href=\"https://colab.research.google.com/github/Orangefox76200/CapsNet-LSTM/blob/main/CapsNet_LSTM.ipynb\" target=\"_parent\"><img src=\"https://colab.research.google.com/assets/colab-badge.svg\" alt=\"Open In Colab\"/></a>"
      ]
    },
    {
      "cell_type": "markdown",
      "metadata": {
        "id": "G92ON7NXEnkW"
      },
      "source": [
        "# Financial Time Series Forecasting Using A Hybrid CapsNet-LSTM Architecture: Using real world data (DJIA Index)\n",
        "\n",
        "DJIA Index dataset contains data of the daily DJIA Index prices recorded from Jan 1st, 2010 to Dec 31st, 2019. In addition to be using Tensorflow's layers for processing sequence data such as LSTMs we will also intergrate Capsule Network in our proposed hybrid architecture to improve the model's performance.\n",
        "\n",
        "Let's get started!"
      ]
    },
    {
      "cell_type": "code",
      "source": [
        "!pip install keras-tuner -q"
      ],
      "metadata": {
        "id": "q-8z1SiOcPgO",
        "outputId": "ec06d1e8-8ca2-48bc-ae0c-7c57b2daf2e5",
        "colab": {
          "base_uri": "https://localhost:8080/"
        }
      },
      "execution_count": 1,
      "outputs": [
        {
          "output_type": "stream",
          "name": "stdout",
          "text": [
            "\u001b[K     |████████████████████████████████| 135 kB 5.1 MB/s \n",
            "\u001b[K     |████████████████████████████████| 1.6 MB 45.2 MB/s \n",
            "\u001b[?25h"
          ]
        }
      ]
    },
    {
      "cell_type": "code",
      "execution_count": 2,
      "metadata": {
        "id": "56XEQOGknrAk"
      },
      "outputs": [],
      "source": [
        "import keras.backend as K\n",
        "import tensorflow as tf\n",
        "import keras\n",
        "import keras_tuner\n",
        "from keras import backend as K\n",
        "from keras import initializers, layers, models, optimizers, callbacks\n",
        "from keras.callbacks import EarlyStopping, ModelCheckpoint\n",
        "from keras.initializers import *\n",
        "from keras.layers import *\n",
        "from keras.models import *\n",
        "from keras.optimizers import *\n",
        "# from keras.callbacks import *\n",
        "from keras import losses\n",
        "from keras.utils.io_utils import ask_to_proceed_with_overwrite\n",
        "from tensorflow.python.platform import tf_logging as logging\n",
        "\n",
        "\n",
        "import os\n",
        "import copy\n",
        "import pickle\n",
        "import pandas as pd\n",
        "import numpy as np\n",
        "import matplotlib.pyplot as plt\n",
        "from dataclasses import dataclass"
      ]
    },
    {
      "cell_type": "code",
      "source": [
        "# Set seed\n",
        "from numpy.random import seed\n",
        "seed(1)\n",
        "tf.random.set_seed(2)"
      ],
      "metadata": {
        "id": "Xe-Rnq9QbQ7A"
      },
      "execution_count": 3,
      "outputs": []
    },
    {
      "cell_type": "code",
      "source": [
        "# If code is running on TPU\n",
        "resolver = tf.distribute.cluster_resolver.TPUClusterResolver(tpu='')\n",
        "tf.config.experimental_connect_to_cluster(resolver)\n",
        "# This is the TPU initialization code that has to be at the beginning.\n",
        "tf.tpu.experimental.initialize_tpu_system(resolver)\n",
        "print(\"All devices: \", tf.config.list_logical_devices('TPU'))"
      ],
      "metadata": {
        "colab": {
          "base_uri": "https://localhost:8080/"
        },
        "id": "CnjuziNxZdvf",
        "outputId": "abc0b516-d463-4d81-c942-751aeda6ed52"
      },
      "execution_count": 4,
      "outputs": [
        {
          "output_type": "stream",
          "name": "stdout",
          "text": [
            "All devices:  [LogicalDevice(name='/job:worker/replica:0/task:0/device:TPU:0', device_type='TPU'), LogicalDevice(name='/job:worker/replica:0/task:0/device:TPU:1', device_type='TPU'), LogicalDevice(name='/job:worker/replica:0/task:0/device:TPU:2', device_type='TPU'), LogicalDevice(name='/job:worker/replica:0/task:0/device:TPU:3', device_type='TPU'), LogicalDevice(name='/job:worker/replica:0/task:0/device:TPU:4', device_type='TPU'), LogicalDevice(name='/job:worker/replica:0/task:0/device:TPU:5', device_type='TPU'), LogicalDevice(name='/job:worker/replica:0/task:0/device:TPU:6', device_type='TPU'), LogicalDevice(name='/job:worker/replica:0/task:0/device:TPU:7', device_type='TPU')]\n"
          ]
        }
      ]
    },
    {
      "cell_type": "code",
      "source": [
        "strategy = tf.distribute.TPUStrategy(resolver)"
      ],
      "metadata": {
        "id": "eb5Za_rOMFVx"
      },
      "execution_count": 5,
      "outputs": []
    },
    {
      "cell_type": "code",
      "source": [
        "print(tf.__version__)"
      ],
      "metadata": {
        "colab": {
          "base_uri": "https://localhost:8080/"
        },
        "id": "rA-JsdF3y5eE",
        "outputId": "0158864d-35f1-445b-ee1e-6da56ce48e2e"
      },
      "execution_count": 6,
      "outputs": [
        {
          "output_type": "stream",
          "name": "stdout",
          "text": [
            "2.8.2\n"
          ]
        }
      ]
    },
    {
      "cell_type": "markdown",
      "metadata": {
        "id": "RBR7h1IgEnkc"
      },
      "source": [
        "## Parsing the raw data\n",
        "\n",
        "A couple of things to note:\n",
        "\n",
        "- There is no need to save the data points as numpy arrays, regular lists is fine.\n",
        "- The `time` list should contain every timestep (starting at zero), which is just a sequence of ordered numbers with the same length as the `series` list.\n",
        "- The values of the `series` should be of `float` type. You can use Python's built-in `float` function to ensure this."
      ]
    },
    {
      "cell_type": "markdown",
      "metadata": {
        "id": "GeP3JMZHEnkZ"
      },
      "source": [
        "Begin by looking at the structure of the xlsx file that contains the data:"
      ]
    },
    {
      "cell_type": "code",
      "source": [
        "from google.colab import drive\n",
        "drive.mount ('gdrive')\n",
        "DJIA_raw = pd.read_excel('/content/gdrive/MyDrive/Colab Notebooks/DJIA.xlsx')\n",
        "DJIA_raw"
      ],
      "metadata": {
        "colab": {
          "base_uri": "https://localhost:8080/",
          "height": 442
        },
        "id": "vKv3toTHFgnh",
        "outputId": "4a7f2d2c-2157-4640-c2d4-eb7bb3eda252"
      },
      "execution_count": 7,
      "outputs": [
        {
          "output_type": "stream",
          "name": "stdout",
          "text": [
            "Mounted at gdrive\n"
          ]
        },
        {
          "output_type": "execute_result",
          "data": {
            "text/plain": [
              "              Date      Open      High       Low     Close     Volume\n",
              "0     Jan 04, 2010  10430.69  10604.97  10430.69  10583.96  179780000\n",
              "1     Jan 05, 2010  10584.56  10584.56  10522.52  10572.02  188540000\n",
              "2     Jan 06, 2010  10564.72  10594.99  10546.55  10573.68  186040000\n",
              "3     Jan 07, 2010  10571.11  10612.37  10505.21  10606.86  217390000\n",
              "4     Jan 08, 2010  10606.40  10619.40  10554.33  10618.19  172710000\n",
              "...            ...       ...       ...       ...       ...        ...\n",
              "2511  Dec 24, 2019  28572.57  28576.80  28503.21  28515.45   86150000\n",
              "2512  Dec 26, 2019  28539.46  28624.10  28535.15  28621.39  155970000\n",
              "2513  Dec 27, 2019  28675.34  28701.66  28608.98  28645.26  182280000\n",
              "2514  Dec 30, 2019  28654.76  28664.69  28428.98  28462.14  181600000\n",
              "2515  Dec 31, 2019  28414.64  28547.35  28376.49  28538.44  193340000\n",
              "\n",
              "[2516 rows x 6 columns]"
            ],
            "text/html": [
              "\n",
              "  <div id=\"df-cca15c12-2d27-4b24-99e2-f29c45a708e7\">\n",
              "    <div class=\"colab-df-container\">\n",
              "      <div>\n",
              "<style scoped>\n",
              "    .dataframe tbody tr th:only-of-type {\n",
              "        vertical-align: middle;\n",
              "    }\n",
              "\n",
              "    .dataframe tbody tr th {\n",
              "        vertical-align: top;\n",
              "    }\n",
              "\n",
              "    .dataframe thead th {\n",
              "        text-align: right;\n",
              "    }\n",
              "</style>\n",
              "<table border=\"1\" class=\"dataframe\">\n",
              "  <thead>\n",
              "    <tr style=\"text-align: right;\">\n",
              "      <th></th>\n",
              "      <th>Date</th>\n",
              "      <th>Open</th>\n",
              "      <th>High</th>\n",
              "      <th>Low</th>\n",
              "      <th>Close</th>\n",
              "      <th>Volume</th>\n",
              "    </tr>\n",
              "  </thead>\n",
              "  <tbody>\n",
              "    <tr>\n",
              "      <th>0</th>\n",
              "      <td>Jan 04, 2010</td>\n",
              "      <td>10430.69</td>\n",
              "      <td>10604.97</td>\n",
              "      <td>10430.69</td>\n",
              "      <td>10583.96</td>\n",
              "      <td>179780000</td>\n",
              "    </tr>\n",
              "    <tr>\n",
              "      <th>1</th>\n",
              "      <td>Jan 05, 2010</td>\n",
              "      <td>10584.56</td>\n",
              "      <td>10584.56</td>\n",
              "      <td>10522.52</td>\n",
              "      <td>10572.02</td>\n",
              "      <td>188540000</td>\n",
              "    </tr>\n",
              "    <tr>\n",
              "      <th>2</th>\n",
              "      <td>Jan 06, 2010</td>\n",
              "      <td>10564.72</td>\n",
              "      <td>10594.99</td>\n",
              "      <td>10546.55</td>\n",
              "      <td>10573.68</td>\n",
              "      <td>186040000</td>\n",
              "    </tr>\n",
              "    <tr>\n",
              "      <th>3</th>\n",
              "      <td>Jan 07, 2010</td>\n",
              "      <td>10571.11</td>\n",
              "      <td>10612.37</td>\n",
              "      <td>10505.21</td>\n",
              "      <td>10606.86</td>\n",
              "      <td>217390000</td>\n",
              "    </tr>\n",
              "    <tr>\n",
              "      <th>4</th>\n",
              "      <td>Jan 08, 2010</td>\n",
              "      <td>10606.40</td>\n",
              "      <td>10619.40</td>\n",
              "      <td>10554.33</td>\n",
              "      <td>10618.19</td>\n",
              "      <td>172710000</td>\n",
              "    </tr>\n",
              "    <tr>\n",
              "      <th>...</th>\n",
              "      <td>...</td>\n",
              "      <td>...</td>\n",
              "      <td>...</td>\n",
              "      <td>...</td>\n",
              "      <td>...</td>\n",
              "      <td>...</td>\n",
              "    </tr>\n",
              "    <tr>\n",
              "      <th>2511</th>\n",
              "      <td>Dec 24, 2019</td>\n",
              "      <td>28572.57</td>\n",
              "      <td>28576.80</td>\n",
              "      <td>28503.21</td>\n",
              "      <td>28515.45</td>\n",
              "      <td>86150000</td>\n",
              "    </tr>\n",
              "    <tr>\n",
              "      <th>2512</th>\n",
              "      <td>Dec 26, 2019</td>\n",
              "      <td>28539.46</td>\n",
              "      <td>28624.10</td>\n",
              "      <td>28535.15</td>\n",
              "      <td>28621.39</td>\n",
              "      <td>155970000</td>\n",
              "    </tr>\n",
              "    <tr>\n",
              "      <th>2513</th>\n",
              "      <td>Dec 27, 2019</td>\n",
              "      <td>28675.34</td>\n",
              "      <td>28701.66</td>\n",
              "      <td>28608.98</td>\n",
              "      <td>28645.26</td>\n",
              "      <td>182280000</td>\n",
              "    </tr>\n",
              "    <tr>\n",
              "      <th>2514</th>\n",
              "      <td>Dec 30, 2019</td>\n",
              "      <td>28654.76</td>\n",
              "      <td>28664.69</td>\n",
              "      <td>28428.98</td>\n",
              "      <td>28462.14</td>\n",
              "      <td>181600000</td>\n",
              "    </tr>\n",
              "    <tr>\n",
              "      <th>2515</th>\n",
              "      <td>Dec 31, 2019</td>\n",
              "      <td>28414.64</td>\n",
              "      <td>28547.35</td>\n",
              "      <td>28376.49</td>\n",
              "      <td>28538.44</td>\n",
              "      <td>193340000</td>\n",
              "    </tr>\n",
              "  </tbody>\n",
              "</table>\n",
              "<p>2516 rows × 6 columns</p>\n",
              "</div>\n",
              "      <button class=\"colab-df-convert\" onclick=\"convertToInteractive('df-cca15c12-2d27-4b24-99e2-f29c45a708e7')\"\n",
              "              title=\"Convert this dataframe to an interactive table.\"\n",
              "              style=\"display:none;\">\n",
              "        \n",
              "  <svg xmlns=\"http://www.w3.org/2000/svg\" height=\"24px\"viewBox=\"0 0 24 24\"\n",
              "       width=\"24px\">\n",
              "    <path d=\"M0 0h24v24H0V0z\" fill=\"none\"/>\n",
              "    <path d=\"M18.56 5.44l.94 2.06.94-2.06 2.06-.94-2.06-.94-.94-2.06-.94 2.06-2.06.94zm-11 1L8.5 8.5l.94-2.06 2.06-.94-2.06-.94L8.5 2.5l-.94 2.06-2.06.94zm10 10l.94 2.06.94-2.06 2.06-.94-2.06-.94-.94-2.06-.94 2.06-2.06.94z\"/><path d=\"M17.41 7.96l-1.37-1.37c-.4-.4-.92-.59-1.43-.59-.52 0-1.04.2-1.43.59L10.3 9.45l-7.72 7.72c-.78.78-.78 2.05 0 2.83L4 21.41c.39.39.9.59 1.41.59.51 0 1.02-.2 1.41-.59l7.78-7.78 2.81-2.81c.8-.78.8-2.07 0-2.86zM5.41 20L4 18.59l7.72-7.72 1.47 1.35L5.41 20z\"/>\n",
              "  </svg>\n",
              "      </button>\n",
              "      \n",
              "  <style>\n",
              "    .colab-df-container {\n",
              "      display:flex;\n",
              "      flex-wrap:wrap;\n",
              "      gap: 12px;\n",
              "    }\n",
              "\n",
              "    .colab-df-convert {\n",
              "      background-color: #E8F0FE;\n",
              "      border: none;\n",
              "      border-radius: 50%;\n",
              "      cursor: pointer;\n",
              "      display: none;\n",
              "      fill: #1967D2;\n",
              "      height: 32px;\n",
              "      padding: 0 0 0 0;\n",
              "      width: 32px;\n",
              "    }\n",
              "\n",
              "    .colab-df-convert:hover {\n",
              "      background-color: #E2EBFA;\n",
              "      box-shadow: 0px 1px 2px rgba(60, 64, 67, 0.3), 0px 1px 3px 1px rgba(60, 64, 67, 0.15);\n",
              "      fill: #174EA6;\n",
              "    }\n",
              "\n",
              "    [theme=dark] .colab-df-convert {\n",
              "      background-color: #3B4455;\n",
              "      fill: #D2E3FC;\n",
              "    }\n",
              "\n",
              "    [theme=dark] .colab-df-convert:hover {\n",
              "      background-color: #434B5C;\n",
              "      box-shadow: 0px 1px 3px 1px rgba(0, 0, 0, 0.15);\n",
              "      filter: drop-shadow(0px 1px 2px rgba(0, 0, 0, 0.3));\n",
              "      fill: #FFFFFF;\n",
              "    }\n",
              "  </style>\n",
              "\n",
              "      <script>\n",
              "        const buttonEl =\n",
              "          document.querySelector('#df-cca15c12-2d27-4b24-99e2-f29c45a708e7 button.colab-df-convert');\n",
              "        buttonEl.style.display =\n",
              "          google.colab.kernel.accessAllowed ? 'block' : 'none';\n",
              "\n",
              "        async function convertToInteractive(key) {\n",
              "          const element = document.querySelector('#df-cca15c12-2d27-4b24-99e2-f29c45a708e7');\n",
              "          const dataTable =\n",
              "            await google.colab.kernel.invokeFunction('convertToInteractive',\n",
              "                                                     [key], {});\n",
              "          if (!dataTable) return;\n",
              "\n",
              "          const docLinkHtml = 'Like what you see? Visit the ' +\n",
              "            '<a target=\"_blank\" href=https://colab.research.google.com/notebooks/data_table.ipynb>data table notebook</a>'\n",
              "            + ' to learn more about interactive tables.';\n",
              "          element.innerHTML = '';\n",
              "          dataTable['output_type'] = 'display_data';\n",
              "          await google.colab.output.renderOutput(dataTable, element);\n",
              "          const docLink = document.createElement('div');\n",
              "          docLink.innerHTML = docLinkHtml;\n",
              "          element.appendChild(docLink);\n",
              "        }\n",
              "      </script>\n",
              "    </div>\n",
              "  </div>\n",
              "  "
            ]
          },
          "metadata": {},
          "execution_count": 7
        }
      ]
    },
    {
      "cell_type": "code",
      "source": [
        "series = DJIA_raw.iloc[:,4]"
      ],
      "metadata": {
        "id": "vTg-wdf-Vpbi"
      },
      "execution_count": 8,
      "outputs": []
    },
    {
      "cell_type": "code",
      "source": [
        "time = []\n",
        "for i in range(0, len(series)):\n",
        "  time.append(i)"
      ],
      "metadata": {
        "id": "4P3cPCrbVpVl"
      },
      "execution_count": 9,
      "outputs": []
    },
    {
      "cell_type": "markdown",
      "source": [
        "A helper function to plot the time series:"
      ],
      "metadata": {
        "id": "XQh2IH8Tl0Le"
      }
    },
    {
      "cell_type": "code",
      "source": [
        "def plot_series(time, series, format=\"-\", start=0, end=None):\n",
        "    plt.plot(time[start:end], series[start:end], format)\n",
        "    plt.xlabel(\"Time\")\n",
        "    plt.ylabel(\"Value\")\n",
        "    plt.grid(True)"
      ],
      "metadata": {
        "id": "qMGyMzGelzEW"
      },
      "execution_count": 10,
      "outputs": []
    },
    {
      "cell_type": "markdown",
      "metadata": {
        "id": "tT1tB8J1Enkd"
      },
      "source": [
        "The next cell will use functions to compute the `time` and `series` and will save these as numpy arrays within the `G` dataclass. This cell will also plot the time series:"
      ]
    },
    {
      "cell_type": "code",
      "execution_count": 11,
      "metadata": {
        "colab": {
          "base_uri": "https://localhost:8080/",
          "height": 388
        },
        "id": "R8UYoZlKEnke",
        "outputId": "34cf5558-edde-490b-c458-6bf45adb44b8"
      },
      "outputs": [
        {
          "output_type": "display_data",
          "data": {
            "text/plain": [
              "<Figure size 720x432 with 1 Axes>"
            ],
            "image/png": "[encoded data removed]"
          },
          "metadata": {
            "needs_background": "light"
          }
        }
      ],
      "source": [
        "# Save all \"global\" variables within the G class (G stands for global)\n",
        "@dataclass\n",
        "class G:\n",
        "    TIME = np.array(time)\n",
        "    SERIES = np.array(series)\n",
        "    SPLIT_TIME = int((len(series)-150)*0.8)\n",
        "    WINDOW_SIZE = 250\n",
        "    BATCH_SIZE = 32\n",
        "    SHUFFLE_BUFFER_SIZE = 60\n",
        "\n",
        "plt.figure(figsize=(10, 6))\n",
        "plot_series(G.TIME, G.SERIES)\n",
        "plt.show()"
      ]
    },
    {
      "cell_type": "markdown",
      "metadata": {
        "id": "Y8U3ckcaEnke"
      },
      "source": [
        "## Processing the data\n",
        "\n",
        "The `train_val_split` and `windowed_dataset` functions:"
      ]
    },
    {
      "cell_type": "code",
      "execution_count": 12,
      "metadata": {
        "id": "3O7A_9XdEnkf"
      },
      "outputs": [],
      "source": [
        "def train_val_test_split(time, series, time_step=G.SPLIT_TIME):\n",
        "\n",
        "    time_train = time[:time_step]\n",
        "    series_train = series[:time_step]\n",
        "    time_valid = time[time_step:-150]\n",
        "    series_valid = series[time_step:-150]\n",
        "    time_test = time[-150:]\n",
        "    series_test = series[-150:]\n",
        "\n",
        "    return time_train, series_train, time_valid, series_valid, time_test, series_test\n",
        "\n",
        "# Split the dataset\n",
        "time_train, series_train, time_valid, series_valid, time_test, series_test = train_val_test_split(G.TIME, G.SERIES)"
      ]
    },
    {
      "cell_type": "markdown",
      "source": [
        "min-max normalization:"
      ],
      "metadata": {
        "id": "M8xZy3QTZD8e"
      }
    },
    {
      "cell_type": "code",
      "source": [
        "def min_max_normalization(series):\n",
        "  series = (series - min(series_train))/(max(series_train) - min(series_train))\n",
        "  return series"
      ],
      "metadata": {
        "id": "aRkvaM6AauAy"
      },
      "execution_count": 13,
      "outputs": []
    },
    {
      "cell_type": "code",
      "source": [
        "series_norm = min_max_normalization(G.SERIES)"
      ],
      "metadata": {
        "id": "UR8bYse7ZC-G"
      },
      "execution_count": 14,
      "outputs": []
    },
    {
      "cell_type": "code",
      "source": [
        "series_train_norm = series_norm[:G.SPLIT_TIME]\n",
        "series_valid_norm = series_norm[G.SPLIT_TIME:-150]\n",
        "series_test_norm = series_norm[-150:]"
      ],
      "metadata": {
        "id": "CQr8LSVw4BIV"
      },
      "execution_count": 15,
      "outputs": []
    },
    {
      "cell_type": "code",
      "source": [
        "plot_series(time_train, series_train_norm)"
      ],
      "metadata": {
        "colab": {
          "base_uri": "https://localhost:8080/",
          "height": 279
        },
        "id": "slIykxCnn9Eb",
        "outputId": "715cb9f3-6e53-4777-8e7d-3dbc0867480c"
      },
      "execution_count": 16,
      "outputs": [
        {
          "output_type": "display_data",
          "data": {
            "text/plain": [
              "<Figure size 432x288 with 1 Axes>"
            ],
            "image/png": "[encoded data removed]"
          },
          "metadata": {
            "needs_background": "light"
          }
        }
      ]
    },
    {
      "cell_type": "code",
      "source": [
        "plot_series(time_valid, series_valid_norm)"
      ],
      "metadata": {
        "colab": {
          "base_uri": "https://localhost:8080/",
          "height": 279
        },
        "id": "2dBiTEwnoPCf",
        "outputId": "738c75f7-22a9-40cb-889c-7115f913f3e3"
      },
      "execution_count": 17,
      "outputs": [
        {
          "output_type": "display_data",
          "data": {
            "text/plain": [
              "<Figure size 432x288 with 1 Axes>"
            ],
            "image/png": "[encoded data removed]"
          },
          "metadata": {
            "needs_background": "light"
          }
        }
      ]
    },
    {
      "cell_type": "code",
      "source": [
        "plot_series(time_test, series_test_norm)"
      ],
      "metadata": {
        "colab": {
          "base_uri": "https://localhost:8080/",
          "height": 279
        },
        "id": "bCGYGHZC4oSt",
        "outputId": "18afcb52-e3ef-416e-f776-461a83ad44e3"
      },
      "execution_count": 18,
      "outputs": [
        {
          "output_type": "display_data",
          "data": {
            "text/plain": [
              "<Figure size 432x288 with 1 Axes>"
            ],
            "image/png": "[encoded data removed]"
          },
          "metadata": {
            "needs_background": "light"
          }
        }
      ]
    },
    {
      "cell_type": "code",
      "execution_count": 19,
      "metadata": {
        "id": "lJwUUZscnG38"
      },
      "outputs": [],
      "source": [
        "def windowed_dataset(series, window_size=G.WINDOW_SIZE, batch_size=G.BATCH_SIZE, shuffle_buffer=G.SHUFFLE_BUFFER_SIZE):\n",
        "    ds = tf.data.Dataset.from_tensor_slices(series)\n",
        "    ds = ds.window(window_size + 1, shift=1, drop_remainder=True)\n",
        "    ds = ds.flat_map(lambda w: w.batch(window_size + 1))\n",
        "    ds = ds.shuffle(shuffle_buffer) \n",
        "    ds = ds.map(lambda w: (w[:-1], w[-1]))\n",
        "    ds = ds.batch(batch_size).prefetch(1)\n",
        "    return ds\n",
        "\n",
        "train_set = windowed_dataset(series_train_norm, window_size=G.WINDOW_SIZE, batch_size=G.BATCH_SIZE, shuffle_buffer=G.SHUFFLE_BUFFER_SIZE)"
      ]
    },
    {
      "cell_type": "code",
      "source": [
        "# create val_set without using shuffle method.\n",
        "def windowed_dataset_noshuffle(series, window_size=G.WINDOW_SIZE, batch_size=G.BATCH_SIZE):\n",
        "    ds = tf.data.Dataset.from_tensor_slices(series)\n",
        "    ds = ds.window(window_size + 1, shift=1, drop_remainder=True)\n",
        "    ds = ds.flat_map(lambda w: w.batch(window_size + 1))\n",
        "    ds = ds.map(lambda w: (w[:-1], w[-1]))\n",
        "    ds = ds.batch(batch_size).prefetch(1)\n",
        "    return ds\n",
        "\n",
        "val_set = windowed_dataset_noshuffle(series_norm[G.SPLIT_TIME-G.WINDOW_SIZE:-150], window_size=G.WINDOW_SIZE, batch_size=G.BATCH_SIZE)"
      ],
      "metadata": {
        "id": "Uix6YCADP4wK"
      },
      "execution_count": 20,
      "outputs": []
    },
    {
      "cell_type": "code",
      "source": [
        "train_val_set = windowed_dataset(series_norm[0:-150], window_size=G.WINDOW_SIZE, batch_size=G.BATCH_SIZE, shuffle_buffer=G.SHUFFLE_BUFFER_SIZE)"
      ],
      "metadata": {
        "id": "IpORkzCcWykM"
      },
      "execution_count": 21,
      "outputs": []
    },
    {
      "cell_type": "markdown",
      "metadata": {
        "id": "E6stIQIqEnkh"
      },
      "source": [
        "## Compiling the model\n"
      ]
    },
    {
      "cell_type": "markdown",
      "metadata": {
        "id": "GaMon77MEnkf"
      },
      "source": [
        "### Defining the model architecture (CapsNet-LSTM)\n"
      ]
    },
    {
      "cell_type": "code",
      "source": [
        "# Squash function\n",
        "\n",
        "def squash(vectors, axis=-1):\n",
        "    \"\"\"\n",
        "    The non-linear activation used in Capsule. It drives the length of a large vector to near 1 and small vector to 0\n",
        "    :param vectors: some vectors to be squashed, N-dim tensor\n",
        "    :param axis: the axis to squash\n",
        "    :return: a Tensor with same shape as input vectors\n",
        "    \"\"\"\n",
        "    s_squared_norm = K.sum(K.square(vectors), axis, keepdims=True) \n",
        "    scale = s_squared_norm / (1 + s_squared_norm) / K.sqrt(s_squared_norm + K.epsilon())\n",
        "    return scale * vectors\n"
      ],
      "metadata": {
        "id": "NAPDHkls8FGx"
      },
      "execution_count": 22,
      "outputs": []
    },
    {
      "cell_type": "code",
      "source": [
        "# Dynamic routing (layer)\n",
        "#    The capsule layer. It is similar to Dense layer. Dense layer has `in_num` inputs, each is a scalar, the output of the \n",
        "#    neuron from the former layer, and it has `out_num` output neurons. CapsuleLayer just expand the output of the neuron\n",
        "#    from scalar to vector. So its input shape = [None, input_num_capsule, input_dim_capsule] and output shape = \\\n",
        "#    [None, num_capsule, dim_capsule]. For Dense Layer, input_dim_capsule = dim_capsule = 1.\n",
        "\n",
        "#    :param dim_capsule: dimension of the output vectors of the capsules in this layer\n",
        "#    :param routings: number of iterations for the routing algorithm \n",
        "\n",
        "class Routing(keras.layers.Layer):\n",
        "\n",
        "    def __init__(self, dim_capsule = 32 , routings=3, kernel_initializer='glorot_uniform'):\n",
        "        super(Routing, self).__init__()\n",
        "        self.dim_capsule = dim_capsule\n",
        "        self.routings = routings\n",
        "        self.kernel_initializer = initializers.get(kernel_initializer)\n",
        "\n",
        "    def build(self, input_shape):\n",
        "        # build tansform matrix which can convert one primary cap to a vector with the same order as the digit cap.\n",
        "        # assert len(input_shape) >= 3  # The input Tensor should have shape=[None, input_num_capsule, input_dim_capsule]\n",
        "        self.input_num_capsule = input_shape[1]\n",
        "        self.input_dim_capsule = input_shape[2]\n",
        "        \n",
        "        # Transform matrix\n",
        "       \n",
        "        self.W = self.add_weight(shape=[self.input_num_capsule,self.dim_capsule, self.input_dim_capsule],initializer=self.kernel_initializer,name='W')\n",
        "\n",
        "    def call(self, inputs): #training=None\n",
        "        # inputs.shape=[input_num_capsule, input_dim_capsule]\n",
        "        # inputs_expand.shape=[input_num_capsule, input_dim_capsule, 1]\n",
        "        inputs_expand = K.expand_dims(inputs, -1)    \n",
        "\n",
        "        # Compute `inputs * W` by scanning inputs_tiled on dimension 0.\n",
        "        # x.shape=[None, input_num_capsule, input_dim_capsule, 1]\n",
        "        # W.shape=[input_num_capsule, dim_capsule, input_dim_capsule]\n",
        "        # Regard the first dimension as `batch` dimension,\n",
        "        # then matmul: [dim_capsule, input_dim_capsule] x [input_dim_capsule, 1] -> [dim_capsule].\n",
        "        # inputs_hat.shape = [None, input_num_capsule, dim_capsule, 1]     \n",
        "          \n",
        "        inputs_hat = K.map_fn(lambda x: K.batch_dot(self.W, x, [2, 1]), elems=inputs_expand) \n",
        "\n",
        "        inputs_hat = K.squeeze(inputs_hat, axis = -1)\n",
        "        # inputs_hat.shape = [None, input_num_capsule, dim_capsule]\n",
        "       \n",
        "        # Begin: Routing algorithm ---------------------------------------------------------------------#\n",
        "        # The prior for coupling coefficient, initialized as zeros.\n",
        "        # b.shape = [None, self.input_num_capsule].\n",
        "        b = tf.zeros(shape=[K.shape(inputs_hat)[0], self.input_num_capsule])\n",
        "        \n",
        "        assert self.routings > 0\n",
        "        for i in range(self.routings):\n",
        "            # c.shape=[batch_size, input_num_capsule]\n",
        "            c = tf.nn.softmax(b, axis=-1)\n",
        "\n",
        "            # c.shape =  [batch_size, input_num_capsule]\n",
        "            # inputs_hat.shape=[batch_size, input_num_capsule, dim_capsule]\n",
        "            # The first dimensions as `batch` dimension,\n",
        "            # then matmal: [input_num_capsule] x [input_num_capsule, dim_capsule] -> [dim_capsule].\n",
        "            # outputs.shape=[None, dim_capsule]\n",
        "            \n",
        "            #outputs = squash(K.batch_dot(c, inputs_hat, [1, 1])) \n",
        "            outputs = K.batch_dot(c, inputs_hat, [1, 1])\n",
        "\n",
        "            if i < self.routings - 1:\n",
        "                # outputs.shape =  [None, dim_capsule]\n",
        "                # inputs_hat.shape=[None, input_num_capsule, dim_capsule]\n",
        "                # The first dimension as `batch` dimension,\n",
        "                # then matmal: [dim_capsule] x [input_num_capsule, dim_capsule]^T -> [input_num_capsule].\n",
        "                # b.shape=[batch_size, input_num_capsule]\n",
        "                b += K.batch_dot(outputs, inputs_hat, [1, 2])\n",
        "       \n",
        "        # End: Routing algorithm -----------------------------------------------------------------------#\n",
        "\n",
        "        return outputs\n",
        "\n",
        "    def compute_output_shape(self, input_shape):\n",
        "        return tuple([None, self.dim_capsule])\n",
        "\n",
        "    def get_config(self):\n",
        "        config = super().get_config()\n",
        "        config.update({\n",
        "            \"dim_capsule\": self.dim_capsule,\n",
        "            \"routings\": self.routings,\n",
        "            \"kernel_initializer\": self.kernel_initializer,\n",
        "        })\n",
        "        return config"
      ],
      "metadata": {
        "id": "n2SUkh9LAFqP"
      },
      "execution_count": 43,
      "outputs": []
    },
    {
      "cell_type": "code",
      "execution_count": 24,
      "metadata": {
        "id": "1Y12KaJYEnki"
      },
      "outputs": [],
      "source": [
        "def compute_metrics(true_series, forecast):\n",
        "    \n",
        "    mse = tf.keras.metrics.mean_squared_error(true_series, forecast).numpy()\n",
        "    mae = tf.keras.metrics.mean_absolute_error(true_series, forecast).numpy()\n",
        "\n",
        "    return mse, mae"
      ]
    },
    {
      "cell_type": "code",
      "execution_count": 25,
      "metadata": {
        "id": "4XwGrf-A_wF0"
      },
      "outputs": [],
      "source": [
        "def model_forecast(model, series, window_size):\n",
        "    ds = tf.data.Dataset.from_tensor_slices(series)\n",
        "    ds = ds.window(window_size, shift=1, drop_remainder=True)\n",
        "    ds = ds.flat_map(lambda w: w.batch(window_size))\n",
        "    ds = ds.batch(32).prefetch(1)\n",
        "    forecast = model.predict(ds)\n",
        "    return forecast"
      ]
    },
    {
      "cell_type": "code",
      "source": [
        "def reverse_normalization(series):\n",
        "  series = series * (max(series_train) - min(series_train)) + min(series_train)\n",
        "  return series"
      ],
      "metadata": {
        "id": "xG8kJO3blWny"
      },
      "execution_count": 26,
      "outputs": []
    },
    {
      "cell_type": "code",
      "source": [
        "input_shape = (G.WINDOW_SIZE, 1)"
      ],
      "metadata": {
        "id": "uh3dZo2eVk0K"
      },
      "execution_count": 27,
      "outputs": []
    },
    {
      "cell_type": "code",
      "source": [
        "# Prepare callback\n",
        "stop_early = tf.keras.callbacks.EarlyStopping(monitor='val_mae', patience=5)"
      ],
      "metadata": {
        "id": "LxTHiYBFhIhF"
      },
      "execution_count": 28,
      "outputs": []
    },
    {
      "cell_type": "code",
      "source": [
        "K.clear_session()"
      ],
      "metadata": {
        "id": "-dD6KzvejX_o"
      },
      "execution_count": 29,
      "outputs": []
    },
    {
      "cell_type": "markdown",
      "source": [
        "### Tune hyper-parameters"
      ],
      "metadata": {
        "id": "HAgEm3Ue4PNF"
      }
    },
    {
      "cell_type": "code",
      "source": [
        "def build_CapsNet_LSTM(hp):\n",
        "   \n",
        "    input = tf.keras.layers.Input(shape=input_shape)\n",
        "      \n",
        "    # First layer\n",
        "    conv1d_1 = tf.keras.layers.Conv1D(filters=hp.Int('Conv1_units', 256, 1024, 256), kernel_size=2, strides=1, padding='causal', activation='relu', name = 'conv1d_1')(input)\n",
        "          \n",
        "    # Primary caps\n",
        "    conv1d_2 = tf.keras.layers.Conv1D(filters=512, kernel_size=2, strides=1, padding='causal',name = 'conv1d_2')(conv1d_1)\n",
        "\n",
        "    unsquashed_caps = tf.keras.layers.Reshape((G.WINDOW_SIZE, 64, 8))(conv1d_2)\n",
        "    squashed_caps = tf.keras.layers.Lambda(squash)(unsquashed_caps)\n",
        "\n",
        "    # Digit caps\n",
        "     \n",
        "    digit_caps = tf.keras.layers.TimeDistributed(Routing(dim_capsule = hp.Int('dim_capsule', 256, 1024, 256), routings = hp.Int('routings', 3, 5, 1)))(squashed_caps)\n",
        "\n",
        "    # LSTM layer\n",
        "    lstm = tf.keras.layers.LSTM(hp.Int('lstm_units', 150, 300, 50))(digit_caps)\n",
        "\n",
        "    # Dropout  \n",
        "    dropout = tf.keras.layers.Dropout(hp.Float('dropout', 0.1, 0.5, 0.1))(lstm)\n",
        "\n",
        "    # Dense layer\n",
        "    dense1 = tf.keras.layers.Dense(hp.Int('dense1_units', 20, 50, 10), activation=\"relu\")(dropout)\n",
        "    dense2 = tf.keras.layers.Dense(hp.Int('dense2_units', 5, 20, 5), activation=\"relu\")(dense1)\n",
        "    output = tf.keras.layers.Dense(1)(dense2)\n",
        "\n",
        "    model = keras.Model(inputs=input, outputs=output, name=\"capsnet_lstm\")\n",
        "\n",
        "    learning_rate = hp.Float(\"lr\", min_value=1e-4, max_value=1e-2, sampling=\"log\")\n",
        "    model.compile(\n",
        "        optimizer=tf.keras.optimizers.Adam(learning_rate = learning_rate),\n",
        "        loss=tf.keras.losses.Huber(),\n",
        "        metrics=[\"mae\"])\n",
        "\n",
        "    return model"
      ],
      "metadata": {
        "id": "CV7ss5NiVBZy"
      },
      "execution_count": 53,
      "outputs": []
    },
    {
      "cell_type": "code",
      "source": [
        "build_CapsNet_LSTM(keras_tuner.HyperParameters())\n",
        "\n",
        "tuner_capsnet_lstm = keras_tuner.Hyperband(\n",
        "    hypermodel=build_CapsNet_LSTM,\n",
        "    objective=\"val_mae\",\n",
        "    max_epochs=50,\n",
        "    factor=3,\n",
        "    hyperband_iterations=1,\n",
        "    distribution_strategy=strategy,\n",
        "    seed = 1,\n",
        "    directory='/content/gdrive/MyDrive/Tuner',\n",
        "    project_name='capsnet_lstm_2',\n",
        "    overwrite = True)\n",
        "\n",
        "tuner_capsnet_lstm.search(train_set, epochs=50, validation_data=val_set, callbacks=[stop_early])\n",
        "\n",
        "tuner_capsnet_lstm.results_summary()\n",
        "\n",
        "# Get the top 5 hyperparameters.\n",
        "best_hps_capsnet_lstm = tuner_capsnet_lstm.get_best_hyperparameters(5)"
      ],
      "metadata": {
        "id": "Clw6kk0hViJD",
        "outputId": "46dc8342-88fc-4e08-c304-9328ac439c9f",
        "colab": {
          "base_uri": "https://localhost:8080/"
        }
      },
      "execution_count": 54,
      "outputs": [
        {
          "output_type": "stream",
          "name": "stdout",
          "text": [
            "Trial 90 Complete [00h 02m 38s]\n",
            "val_mae: 0.06437382102012634\n",
            "\n",
            "Best val_mae So Far: 0.0290041696280241\n",
            "Total elapsed time: 02h 13m 58s\n",
            "Results summary\n",
            "Results in /content/gdrive/MyDrive/Tuner/capsnet_lstm_2\n",
            "Showing 10 best trials\n",
            "<keras_tuner.engine.objective.Objective object at 0x7fcd0955dfd0>\n",
            "Trial summary\n",
            "Hyperparameters:\n",
            "Conv1_units: 256\n",
            "dim_capsule: 1024\n",
            "routings: 3\n",
            "lstm_units: 200\n",
            "dropout: 0.30000000000000004\n",
            "dense1_units: 40\n",
            "dense2_units: 10\n",
            "lr: 0.00028406107009737317\n",
            "tuner/epochs: 17\n",
            "tuner/initial_epoch: 6\n",
            "tuner/bracket: 3\n",
            "tuner/round: 2\n",
            "tuner/trial_id: 0044\n",
            "Score: 0.0290041696280241\n",
            "Trial summary\n",
            "Hyperparameters:\n",
            "Conv1_units: 512\n",
            "dim_capsule: 768\n",
            "routings: 5\n",
            "lstm_units: 200\n",
            "dropout: 0.2\n",
            "dense1_units: 40\n",
            "dense2_units: 10\n",
            "lr: 0.00011465640987948183\n",
            "tuner/epochs: 50\n",
            "tuner/initial_epoch: 17\n",
            "tuner/bracket: 3\n",
            "tuner/round: 3\n",
            "tuner/trial_id: 0046\n",
            "Score: 0.029817240312695503\n",
            "Trial summary\n",
            "Hyperparameters:\n",
            "Conv1_units: 768\n",
            "dim_capsule: 1024\n",
            "routings: 5\n",
            "lstm_units: 200\n",
            "dropout: 0.30000000000000004\n",
            "dense1_units: 50\n",
            "dense2_units: 5\n",
            "lr: 0.0001029562160619873\n",
            "tuner/epochs: 17\n",
            "tuner/initial_epoch: 6\n",
            "tuner/bracket: 2\n",
            "tuner/round: 1\n",
            "tuner/trial_id: 0059\n",
            "Score: 0.030802814289927483\n",
            "Trial summary\n",
            "Hyperparameters:\n",
            "Conv1_units: 512\n",
            "dim_capsule: 768\n",
            "routings: 5\n",
            "lstm_units: 200\n",
            "dropout: 0.2\n",
            "dense1_units: 40\n",
            "dense2_units: 10\n",
            "lr: 0.00011465640987948183\n",
            "tuner/epochs: 17\n",
            "tuner/initial_epoch: 6\n",
            "tuner/bracket: 3\n",
            "tuner/round: 2\n",
            "tuner/trial_id: 0036\n",
            "Score: 0.031606387346982956\n",
            "Trial summary\n",
            "Hyperparameters:\n",
            "Conv1_units: 768\n",
            "dim_capsule: 1024\n",
            "routings: 5\n",
            "lstm_units: 200\n",
            "dropout: 0.30000000000000004\n",
            "dense1_units: 50\n",
            "dense2_units: 5\n",
            "lr: 0.0001029562160619873\n",
            "tuner/epochs: 50\n",
            "tuner/initial_epoch: 17\n",
            "tuner/bracket: 2\n",
            "tuner/round: 2\n",
            "tuner/trial_id: 0068\n",
            "Score: 0.03297412395477295\n",
            "Trial summary\n",
            "Hyperparameters:\n",
            "Conv1_units: 256\n",
            "dim_capsule: 1024\n",
            "routings: 3\n",
            "lstm_units: 200\n",
            "dropout: 0.30000000000000004\n",
            "dense1_units: 40\n",
            "dense2_units: 10\n",
            "lr: 0.00028406107009737317\n",
            "tuner/epochs: 50\n",
            "tuner/initial_epoch: 17\n",
            "tuner/bracket: 3\n",
            "tuner/round: 3\n",
            "tuner/trial_id: 0047\n",
            "Score: 0.03324492648243904\n",
            "Trial summary\n",
            "Hyperparameters:\n",
            "Conv1_units: 512\n",
            "dim_capsule: 512\n",
            "routings: 5\n",
            "lstm_units: 200\n",
            "dropout: 0.30000000000000004\n",
            "dense1_units: 30\n",
            "dense2_units: 10\n",
            "lr: 0.00017722137181005657\n",
            "tuner/epochs: 17\n",
            "tuner/initial_epoch: 0\n",
            "tuner/bracket: 1\n",
            "tuner/round: 0\n",
            "Score: 0.03408884257078171\n",
            "Trial summary\n",
            "Hyperparameters:\n",
            "Conv1_units: 512\n",
            "dim_capsule: 512\n",
            "routings: 5\n",
            "lstm_units: 200\n",
            "dropout: 0.30000000000000004\n",
            "dense1_units: 30\n",
            "dense2_units: 10\n",
            "lr: 0.00017722137181005657\n",
            "tuner/epochs: 50\n",
            "tuner/initial_epoch: 17\n",
            "tuner/bracket: 1\n",
            "tuner/round: 1\n",
            "tuner/trial_id: 0079\n",
            "Score: 0.035168420523405075\n",
            "Trial summary\n",
            "Hyperparameters:\n",
            "Conv1_units: 512\n",
            "dim_capsule: 768\n",
            "routings: 5\n",
            "lstm_units: 200\n",
            "dropout: 0.2\n",
            "dense1_units: 40\n",
            "dense2_units: 10\n",
            "lr: 0.00011465640987948183\n",
            "tuner/epochs: 6\n",
            "tuner/initial_epoch: 2\n",
            "tuner/bracket: 3\n",
            "tuner/round: 1\n",
            "tuner/trial_id: 0021\n",
            "Score: 0.036323126405477524\n",
            "Trial summary\n",
            "Hyperparameters:\n",
            "Conv1_units: 1024\n",
            "dim_capsule: 768\n",
            "routings: 4\n",
            "lstm_units: 250\n",
            "dropout: 0.4\n",
            "dense1_units: 40\n",
            "dense2_units: 10\n",
            "lr: 0.0017004031943995508\n",
            "tuner/epochs: 6\n",
            "tuner/initial_epoch: 0\n",
            "tuner/bracket: 2\n",
            "tuner/round: 0\n",
            "Score: 0.03830067068338394\n"
          ]
        }
      ]
    },
    {
      "cell_type": "code",
      "source": [
        "# Prepare check point\n",
        "# capsnet_lstm_checkpoint_filepath = '/content/gdrive/MyDrive/model_checkpoint/capsnet_lstm.hdf5'\n",
        "# model_checkpoint_callback_capsnet_lstm = tf.keras.callbacks.ModelCheckpoint(\n",
        "#    filepath=capsnet_lstm_checkpoint_filepath,\n",
        "#    save_weights_only=True,\n",
        "#    monitor='mae',\n",
        "#    mode='min',\n",
        "#    save_best_only=True)"
      ],
      "metadata": {
        "id": "lBqE-itoC6gR"
      },
      "execution_count": null,
      "outputs": []
    },
    {
      "cell_type": "code",
      "source": [
        "# Build the model with the best hp.\n",
        "with strategy.scope():\n",
        "  capsnet_lstm = build_CapsNet_LSTM(best_hps_capsnet_lstm[0])\n",
        "# Fit with the entire dataset.\n",
        "capsnet_lstm.fit(train_val_set, epochs=200)"
      ],
      "metadata": {
        "colab": {
          "base_uri": "https://localhost:8080/"
        },
        "id": "Bz4kTlU3C_r_",
        "outputId": "40b53d09-fb05-48a1-c01c-07e108b350c4"
      },
      "execution_count": 55,
      "outputs": [
        {
          "output_type": "stream",
          "name": "stdout",
          "text": [
            "Epoch 1/200\n",
            "67/67 [==============================] - 27s 267ms/step - loss: 0.0182 - mae: 0.1700\n",
            "Epoch 2/200\n",
            "67/67 [==============================] - 14s 212ms/step - loss: 0.0542 - mae: 0.2576\n",
            "Epoch 3/200\n",
            "67/67 [==============================] - 14s 213ms/step - loss: 0.0046 - mae: 0.0793\n",
            "Epoch 4/200\n",
            "67/67 [==============================] - 14s 213ms/step - loss: 0.0038 - mae: 0.0698\n",
            "Epoch 5/200\n",
            "67/67 [==============================] - 14s 212ms/step - loss: 0.0025 - mae: 0.0559\n",
            "Epoch 6/200\n",
            "67/67 [==============================] - 14s 213ms/step - loss: 0.0019 - mae: 0.0485\n",
            "Epoch 7/200\n",
            "67/67 [==============================] - 14s 213ms/step - loss: 0.0017 - mae: 0.0456\n",
            "Epoch 8/200\n",
            "67/67 [==============================] - 14s 212ms/step - loss: 0.0014 - mae: 0.0396\n",
            "Epoch 9/200\n",
            "67/67 [==============================] - 14s 213ms/step - loss: 0.0014 - mae: 0.0393\n",
            "Epoch 10/200\n",
            "67/67 [==============================] - 14s 212ms/step - loss: 0.0013 - mae: 0.0380\n",
            "Epoch 11/200\n",
            "67/67 [==============================] - 14s 212ms/step - loss: 0.0012 - mae: 0.0371\n",
            "Epoch 12/200\n",
            "67/67 [==============================] - 14s 212ms/step - loss: 0.0015 - mae: 0.0426\n",
            "Epoch 13/200\n",
            "67/67 [==============================] - 14s 212ms/step - loss: 0.0014 - mae: 0.0427\n",
            "Epoch 14/200\n",
            "67/67 [==============================] - 14s 213ms/step - loss: 0.0014 - mae: 0.0414\n",
            "Epoch 15/200\n",
            "67/67 [==============================] - 14s 213ms/step - loss: 0.0013 - mae: 0.0386\n",
            "Epoch 16/200\n",
            "67/67 [==============================] - 14s 212ms/step - loss: 0.0013 - mae: 0.0390\n",
            "Epoch 17/200\n",
            "67/67 [==============================] - 14s 213ms/step - loss: 0.0013 - mae: 0.0390\n",
            "Epoch 18/200\n",
            "67/67 [==============================] - 14s 212ms/step - loss: 0.0012 - mae: 0.0382\n",
            "Epoch 19/200\n",
            "67/67 [==============================] - 14s 212ms/step - loss: 0.0012 - mae: 0.0367\n",
            "Epoch 20/200\n",
            "67/67 [==============================] - 14s 214ms/step - loss: 0.0010 - mae: 0.0329\n",
            "Epoch 21/200\n",
            "67/67 [==============================] - 14s 213ms/step - loss: 0.0010 - mae: 0.0343\n",
            "Epoch 22/200\n",
            "67/67 [==============================] - 14s 213ms/step - loss: 0.0011 - mae: 0.0366\n",
            "Epoch 23/200\n",
            "67/67 [==============================] - 14s 213ms/step - loss: 0.0011 - mae: 0.0375\n",
            "Epoch 24/200\n",
            "67/67 [==============================] - 14s 213ms/step - loss: 0.0013 - mae: 0.0404\n",
            "Epoch 25/200\n",
            "67/67 [==============================] - 14s 212ms/step - loss: 0.0012 - mae: 0.0383\n",
            "Epoch 26/200\n",
            "67/67 [==============================] - 14s 213ms/step - loss: 0.0010 - mae: 0.0339\n",
            "Epoch 27/200\n",
            "67/67 [==============================] - 14s 213ms/step - loss: 9.5076e-04 - mae: 0.0324\n",
            "Epoch 28/200\n",
            "67/67 [==============================] - 14s 213ms/step - loss: 9.3227e-04 - mae: 0.0326\n",
            "Epoch 29/200\n",
            "67/67 [==============================] - 14s 212ms/step - loss: 9.4294e-04 - mae: 0.0336\n",
            "Epoch 30/200\n",
            "67/67 [==============================] - 14s 213ms/step - loss: 9.0566e-04 - mae: 0.0324\n",
            "Epoch 31/200\n",
            "67/67 [==============================] - 14s 213ms/step - loss: 0.0011 - mae: 0.0360\n",
            "Epoch 32/200\n",
            "67/67 [==============================] - 14s 212ms/step - loss: 0.0013 - mae: 0.0402\n",
            "Epoch 33/200\n",
            "67/67 [==============================] - 14s 212ms/step - loss: 0.0013 - mae: 0.0410\n",
            "Epoch 34/200\n",
            "67/67 [==============================] - 14s 212ms/step - loss: 0.0012 - mae: 0.0387\n",
            "Epoch 35/200\n",
            "67/67 [==============================] - 14s 213ms/step - loss: 0.0010 - mae: 0.0358\n",
            "Epoch 36/200\n",
            "67/67 [==============================] - 14s 214ms/step - loss: 0.0010 - mae: 0.0331\n",
            "Epoch 37/200\n",
            "67/67 [==============================] - 14s 213ms/step - loss: 9.0930e-04 - mae: 0.0310\n",
            "Epoch 38/200\n",
            "67/67 [==============================] - 14s 213ms/step - loss: 9.2256e-04 - mae: 0.0331\n",
            "Epoch 39/200\n",
            "67/67 [==============================] - 14s 214ms/step - loss: 8.8392e-04 - mae: 0.0323\n",
            "Epoch 40/200\n",
            "67/67 [==============================] - 14s 213ms/step - loss: 0.0010 - mae: 0.0331\n",
            "Epoch 41/200\n",
            "67/67 [==============================] - 14s 213ms/step - loss: 8.7072e-04 - mae: 0.0310\n",
            "Epoch 42/200\n",
            "67/67 [==============================] - 14s 213ms/step - loss: 9.2106e-04 - mae: 0.0324\n",
            "Epoch 43/200\n",
            "67/67 [==============================] - 14s 213ms/step - loss: 8.5220e-04 - mae: 0.0307\n",
            "Epoch 44/200\n",
            "67/67 [==============================] - 14s 213ms/step - loss: 8.9651e-04 - mae: 0.0328\n",
            "Epoch 45/200\n",
            "67/67 [==============================] - 14s 213ms/step - loss: 0.0011 - mae: 0.0371\n",
            "Epoch 46/200\n",
            "67/67 [==============================] - 14s 213ms/step - loss: 0.0012 - mae: 0.0390\n",
            "Epoch 47/200\n",
            "67/67 [==============================] - 14s 212ms/step - loss: 0.0011 - mae: 0.0366\n",
            "Epoch 48/200\n",
            "67/67 [==============================] - 14s 213ms/step - loss: 9.4145e-04 - mae: 0.0337\n",
            "Epoch 49/200\n",
            "67/67 [==============================] - 14s 212ms/step - loss: 8.4493e-04 - mae: 0.0322\n",
            "Epoch 50/200\n",
            "67/67 [==============================] - 14s 213ms/step - loss: 8.9851e-04 - mae: 0.0330\n",
            "Epoch 51/200\n",
            "67/67 [==============================] - 14s 212ms/step - loss: 8.6606e-04 - mae: 0.0319\n",
            "Epoch 52/200\n",
            "67/67 [==============================] - 14s 212ms/step - loss: 7.8973e-04 - mae: 0.0299\n",
            "Epoch 53/200\n",
            "67/67 [==============================] - 14s 213ms/step - loss: 8.0680e-04 - mae: 0.0300\n",
            "Epoch 54/200\n",
            "67/67 [==============================] - 14s 213ms/step - loss: 8.0679e-04 - mae: 0.0302\n",
            "Epoch 55/200\n",
            "67/67 [==============================] - 14s 213ms/step - loss: 9.0626e-04 - mae: 0.0324\n",
            "Epoch 56/200\n",
            "67/67 [==============================] - 14s 213ms/step - loss: 9.1611e-04 - mae: 0.0321\n",
            "Epoch 57/200\n",
            "67/67 [==============================] - 14s 213ms/step - loss: 9.3527e-04 - mae: 0.0315\n",
            "Epoch 58/200\n",
            "67/67 [==============================] - 14s 213ms/step - loss: 0.0011 - mae: 0.0372\n",
            "Epoch 59/200\n",
            "67/67 [==============================] - 14s 213ms/step - loss: 0.0011 - mae: 0.0375\n",
            "Epoch 60/200\n",
            "67/67 [==============================] - 14s 213ms/step - loss: 9.8698e-04 - mae: 0.0360\n",
            "Epoch 61/200\n",
            "67/67 [==============================] - 14s 213ms/step - loss: 0.0011 - mae: 0.0370\n",
            "Epoch 62/200\n",
            "67/67 [==============================] - 14s 213ms/step - loss: 9.9602e-04 - mae: 0.0352\n",
            "Epoch 63/200\n",
            "67/67 [==============================] - 14s 213ms/step - loss: 9.2771e-04 - mae: 0.0335\n",
            "Epoch 64/200\n",
            "67/67 [==============================] - 14s 213ms/step - loss: 7.6626e-04 - mae: 0.0291\n",
            "Epoch 65/200\n",
            "67/67 [==============================] - 14s 213ms/step - loss: 7.7265e-04 - mae: 0.0292\n",
            "Epoch 66/200\n",
            "67/67 [==============================] - 14s 212ms/step - loss: 8.0780e-04 - mae: 0.0300\n",
            "Epoch 67/200\n",
            "67/67 [==============================] - 14s 213ms/step - loss: 9.0049e-04 - mae: 0.0322\n",
            "Epoch 68/200\n",
            "67/67 [==============================] - 14s 212ms/step - loss: 8.6522e-04 - mae: 0.0329\n",
            "Epoch 69/200\n",
            "67/67 [==============================] - 14s 212ms/step - loss: 8.7417e-04 - mae: 0.0317\n",
            "Epoch 70/200\n",
            "67/67 [==============================] - 14s 212ms/step - loss: 8.1318e-04 - mae: 0.0307\n",
            "Epoch 71/200\n",
            "67/67 [==============================] - 14s 212ms/step - loss: 8.4562e-04 - mae: 0.0305\n",
            "Epoch 72/200\n",
            "67/67 [==============================] - 14s 212ms/step - loss: 7.4268e-04 - mae: 0.0298\n",
            "Epoch 73/200\n",
            "67/67 [==============================] - 14s 213ms/step - loss: 8.6632e-04 - mae: 0.0326\n",
            "Epoch 74/200\n",
            "67/67 [==============================] - 14s 212ms/step - loss: 8.0959e-04 - mae: 0.0299\n",
            "Epoch 75/200\n",
            "67/67 [==============================] - 14s 213ms/step - loss: 8.0194e-04 - mae: 0.0300\n",
            "Epoch 76/200\n",
            "67/67 [==============================] - 14s 213ms/step - loss: 7.4474e-04 - mae: 0.0297\n",
            "Epoch 77/200\n",
            "67/67 [==============================] - 14s 213ms/step - loss: 6.6443e-04 - mae: 0.0267\n",
            "Epoch 78/200\n",
            "67/67 [==============================] - 14s 212ms/step - loss: 7.8213e-04 - mae: 0.0303\n",
            "Epoch 79/200\n",
            "67/67 [==============================] - 14s 212ms/step - loss: 6.9021e-04 - mae: 0.0279\n",
            "Epoch 80/200\n",
            "67/67 [==============================] - 14s 212ms/step - loss: 5.9220e-04 - mae: 0.0257\n",
            "Epoch 81/200\n",
            "67/67 [==============================] - 14s 212ms/step - loss: 7.4185e-04 - mae: 0.0277\n",
            "Epoch 82/200\n",
            "67/67 [==============================] - 14s 212ms/step - loss: 6.1507e-04 - mae: 0.0260\n",
            "Epoch 83/200\n",
            "67/67 [==============================] - 14s 213ms/step - loss: 6.3451e-04 - mae: 0.0256\n",
            "Epoch 84/200\n",
            "67/67 [==============================] - 14s 213ms/step - loss: 6.2867e-04 - mae: 0.0253\n",
            "Epoch 85/200\n",
            "67/67 [==============================] - 14s 212ms/step - loss: 6.0355e-04 - mae: 0.0249\n",
            "Epoch 86/200\n",
            "67/67 [==============================] - 14s 213ms/step - loss: 6.1925e-04 - mae: 0.0254\n",
            "Epoch 87/200\n",
            "67/67 [==============================] - 14s 212ms/step - loss: 6.8202e-04 - mae: 0.0275\n",
            "Epoch 88/200\n",
            "67/67 [==============================] - 14s 212ms/step - loss: 5.9027e-04 - mae: 0.0252\n",
            "Epoch 89/200\n",
            "67/67 [==============================] - 14s 212ms/step - loss: 5.6777e-04 - mae: 0.0245\n",
            "Epoch 90/200\n",
            "67/67 [==============================] - 14s 212ms/step - loss: 6.6621e-04 - mae: 0.0272\n",
            "Epoch 91/200\n",
            "67/67 [==============================] - 14s 213ms/step - loss: 5.9253e-04 - mae: 0.0254\n",
            "Epoch 92/200\n",
            "67/67 [==============================] - 14s 213ms/step - loss: 5.5756e-04 - mae: 0.0247\n",
            "Epoch 93/200\n",
            "67/67 [==============================] - 14s 213ms/step - loss: 5.9751e-04 - mae: 0.0247\n",
            "Epoch 94/200\n",
            "67/67 [==============================] - 14s 213ms/step - loss: 5.5936e-04 - mae: 0.0238\n",
            "Epoch 95/200\n",
            "67/67 [==============================] - 14s 213ms/step - loss: 6.3260e-04 - mae: 0.0269\n",
            "Epoch 96/200\n",
            "67/67 [==============================] - 14s 213ms/step - loss: 8.5529e-04 - mae: 0.0317\n",
            "Epoch 97/200\n",
            "67/67 [==============================] - 14s 212ms/step - loss: 8.5193e-04 - mae: 0.0318\n",
            "Epoch 98/200\n",
            "67/67 [==============================] - 14s 212ms/step - loss: 5.9666e-04 - mae: 0.0253\n",
            "Epoch 99/200\n",
            "67/67 [==============================] - 14s 212ms/step - loss: 7.0284e-04 - mae: 0.0284\n",
            "Epoch 100/200\n",
            "67/67 [==============================] - 14s 212ms/step - loss: 7.3321e-04 - mae: 0.0283\n",
            "Epoch 101/200\n",
            "67/67 [==============================] - 14s 212ms/step - loss: 7.1751e-04 - mae: 0.0287\n",
            "Epoch 102/200\n",
            "67/67 [==============================] - 14s 213ms/step - loss: 5.5613e-04 - mae: 0.0245\n",
            "Epoch 103/200\n",
            "67/67 [==============================] - 14s 212ms/step - loss: 7.5761e-04 - mae: 0.0295\n",
            "Epoch 104/200\n",
            "67/67 [==============================] - 14s 213ms/step - loss: 7.5935e-04 - mae: 0.0290\n",
            "Epoch 105/200\n",
            "67/67 [==============================] - 14s 213ms/step - loss: 7.2509e-04 - mae: 0.0289\n",
            "Epoch 106/200\n",
            "67/67 [==============================] - 14s 213ms/step - loss: 5.6642e-04 - mae: 0.0251\n",
            "Epoch 107/200\n",
            "67/67 [==============================] - 14s 213ms/step - loss: 5.4651e-04 - mae: 0.0233\n",
            "Epoch 108/200\n",
            "67/67 [==============================] - 14s 212ms/step - loss: 5.8169e-04 - mae: 0.0237\n",
            "Epoch 109/200\n",
            "67/67 [==============================] - 14s 212ms/step - loss: 5.3162e-04 - mae: 0.0243\n",
            "Epoch 110/200\n",
            "67/67 [==============================] - 14s 213ms/step - loss: 5.3734e-04 - mae: 0.0235\n",
            "Epoch 111/200\n",
            "67/67 [==============================] - 14s 213ms/step - loss: 4.7415e-04 - mae: 0.0224\n",
            "Epoch 112/200\n",
            "67/67 [==============================] - 14s 212ms/step - loss: 6.0335e-04 - mae: 0.0255\n",
            "Epoch 113/200\n",
            "67/67 [==============================] - 14s 213ms/step - loss: 5.4900e-04 - mae: 0.0243\n",
            "Epoch 114/200\n",
            "67/67 [==============================] - 14s 212ms/step - loss: 5.8460e-04 - mae: 0.0255\n",
            "Epoch 115/200\n",
            "67/67 [==============================] - 14s 213ms/step - loss: 5.1101e-04 - mae: 0.0233\n",
            "Epoch 116/200\n",
            "67/67 [==============================] - 14s 212ms/step - loss: 5.0866e-04 - mae: 0.0234\n",
            "Epoch 117/200\n",
            "67/67 [==============================] - 14s 212ms/step - loss: 4.8186e-04 - mae: 0.0219\n",
            "Epoch 118/200\n",
            "67/67 [==============================] - 14s 213ms/step - loss: 4.3425e-04 - mae: 0.0210\n",
            "Epoch 119/200\n",
            "67/67 [==============================] - 14s 213ms/step - loss: 4.9605e-04 - mae: 0.0233\n",
            "Epoch 120/200\n",
            "67/67 [==============================] - 14s 212ms/step - loss: 5.1673e-04 - mae: 0.0229\n",
            "Epoch 121/200\n",
            "67/67 [==============================] - 14s 212ms/step - loss: 4.6587e-04 - mae: 0.0226\n",
            "Epoch 122/200\n",
            "67/67 [==============================] - 14s 213ms/step - loss: 5.1016e-04 - mae: 0.0234\n",
            "Epoch 123/200\n",
            "67/67 [==============================] - 14s 212ms/step - loss: 5.0192e-04 - mae: 0.0228\n",
            "Epoch 124/200\n",
            "67/67 [==============================] - 14s 212ms/step - loss: 5.6561e-04 - mae: 0.0254\n",
            "Epoch 125/200\n",
            "67/67 [==============================] - 14s 214ms/step - loss: 4.7133e-04 - mae: 0.0226\n",
            "Epoch 126/200\n",
            "67/67 [==============================] - 14s 213ms/step - loss: 5.4237e-04 - mae: 0.0239\n",
            "Epoch 127/200\n",
            "67/67 [==============================] - 14s 213ms/step - loss: 5.0746e-04 - mae: 0.0237\n",
            "Epoch 128/200\n",
            "67/67 [==============================] - 14s 212ms/step - loss: 8.1206e-04 - mae: 0.0307\n",
            "Epoch 129/200\n",
            "67/67 [==============================] - 14s 212ms/step - loss: 5.7323e-04 - mae: 0.0260\n",
            "Epoch 130/200\n",
            "67/67 [==============================] - 14s 212ms/step - loss: 4.5009e-04 - mae: 0.0220\n",
            "Epoch 131/200\n",
            "67/67 [==============================] - 14s 212ms/step - loss: 5.0521e-04 - mae: 0.0239\n",
            "Epoch 132/200\n",
            "67/67 [==============================] - 14s 212ms/step - loss: 9.0833e-04 - mae: 0.0328\n",
            "Epoch 133/200\n",
            "67/67 [==============================] - 14s 212ms/step - loss: 6.4554e-04 - mae: 0.0267\n",
            "Epoch 134/200\n",
            "67/67 [==============================] - 14s 212ms/step - loss: 5.1183e-04 - mae: 0.0237\n",
            "Epoch 135/200\n",
            "67/67 [==============================] - 14s 212ms/step - loss: 6.4325e-04 - mae: 0.0264\n",
            "Epoch 136/200\n",
            "67/67 [==============================] - 14s 212ms/step - loss: 4.7249e-04 - mae: 0.0227\n",
            "Epoch 137/200\n",
            "67/67 [==============================] - 14s 212ms/step - loss: 5.5082e-04 - mae: 0.0251\n",
            "Epoch 138/200\n",
            "67/67 [==============================] - 14s 213ms/step - loss: 6.8831e-04 - mae: 0.0285\n",
            "Epoch 139/200\n",
            "67/67 [==============================] - 14s 213ms/step - loss: 4.8551e-04 - mae: 0.0224\n",
            "Epoch 140/200\n",
            "67/67 [==============================] - 14s 213ms/step - loss: 5.1307e-04 - mae: 0.0234\n",
            "Epoch 141/200\n",
            "67/67 [==============================] - 14s 212ms/step - loss: 5.4252e-04 - mae: 0.0242\n",
            "Epoch 142/200\n",
            "67/67 [==============================] - 14s 212ms/step - loss: 5.1637e-04 - mae: 0.0237\n",
            "Epoch 143/200\n",
            "67/67 [==============================] - 14s 212ms/step - loss: 5.4268e-04 - mae: 0.0245\n",
            "Epoch 144/200\n",
            "67/67 [==============================] - 14s 213ms/step - loss: 4.6300e-04 - mae: 0.0228\n",
            "Epoch 145/200\n",
            "67/67 [==============================] - 14s 212ms/step - loss: 4.8923e-04 - mae: 0.0230\n",
            "Epoch 146/200\n",
            "67/67 [==============================] - 14s 214ms/step - loss: 4.8758e-04 - mae: 0.0225\n",
            "Epoch 147/200\n",
            "67/67 [==============================] - 14s 213ms/step - loss: 5.1385e-04 - mae: 0.0235\n",
            "Epoch 148/200\n",
            "67/67 [==============================] - 14s 213ms/step - loss: 3.9872e-04 - mae: 0.0202\n",
            "Epoch 149/200\n",
            "67/67 [==============================] - 14s 213ms/step - loss: 5.1906e-04 - mae: 0.0236\n",
            "Epoch 150/200\n",
            "67/67 [==============================] - 14s 212ms/step - loss: 6.4102e-04 - mae: 0.0271\n",
            "Epoch 151/200\n",
            "67/67 [==============================] - 14s 212ms/step - loss: 5.4293e-04 - mae: 0.0248\n",
            "Epoch 152/200\n",
            "67/67 [==============================] - 14s 213ms/step - loss: 4.5583e-04 - mae: 0.0228\n",
            "Epoch 153/200\n",
            "67/67 [==============================] - 14s 213ms/step - loss: 4.9124e-04 - mae: 0.0240\n",
            "Epoch 154/200\n",
            "67/67 [==============================] - 14s 213ms/step - loss: 4.4214e-04 - mae: 0.0217\n",
            "Epoch 155/200\n",
            "67/67 [==============================] - 14s 213ms/step - loss: 4.2260e-04 - mae: 0.0216\n",
            "Epoch 156/200\n",
            "67/67 [==============================] - 14s 213ms/step - loss: 4.5130e-04 - mae: 0.0224\n",
            "Epoch 157/200\n",
            "67/67 [==============================] - 14s 213ms/step - loss: 6.3239e-04 - mae: 0.0275\n",
            "Epoch 158/200\n",
            "67/67 [==============================] - 14s 213ms/step - loss: 4.4239e-04 - mae: 0.0219\n",
            "Epoch 159/200\n",
            "67/67 [==============================] - 14s 212ms/step - loss: 3.7428e-04 - mae: 0.0201\n",
            "Epoch 160/200\n",
            "67/67 [==============================] - 14s 213ms/step - loss: 4.4941e-04 - mae: 0.0221\n",
            "Epoch 161/200\n",
            "67/67 [==============================] - 14s 213ms/step - loss: 4.0313e-04 - mae: 0.0209\n",
            "Epoch 162/200\n",
            "67/67 [==============================] - 14s 213ms/step - loss: 4.6413e-04 - mae: 0.0221\n",
            "Epoch 163/200\n",
            "67/67 [==============================] - 14s 213ms/step - loss: 4.1055e-04 - mae: 0.0213\n",
            "Epoch 164/200\n",
            "67/67 [==============================] - 14s 213ms/step - loss: 5.7266e-04 - mae: 0.0259\n",
            "Epoch 165/200\n",
            "67/67 [==============================] - 14s 213ms/step - loss: 3.8608e-04 - mae: 0.0196\n",
            "Epoch 166/200\n",
            "67/67 [==============================] - 14s 213ms/step - loss: 4.4921e-04 - mae: 0.0222\n",
            "Epoch 167/200\n",
            "67/67 [==============================] - 14s 213ms/step - loss: 4.4786e-04 - mae: 0.0225\n",
            "Epoch 168/200\n",
            "67/67 [==============================] - 14s 213ms/step - loss: 3.8453e-04 - mae: 0.0204\n",
            "Epoch 169/200\n",
            "67/67 [==============================] - 14s 213ms/step - loss: 5.8601e-04 - mae: 0.0260\n",
            "Epoch 170/200\n",
            "67/67 [==============================] - 14s 213ms/step - loss: 5.3155e-04 - mae: 0.0252\n",
            "Epoch 171/200\n",
            "67/67 [==============================] - 14s 213ms/step - loss: 3.6070e-04 - mae: 0.0196\n",
            "Epoch 172/200\n",
            "67/67 [==============================] - 14s 213ms/step - loss: 3.4665e-04 - mae: 0.0186\n",
            "Epoch 173/200\n",
            "67/67 [==============================] - 14s 213ms/step - loss: 4.4818e-04 - mae: 0.0224\n",
            "Epoch 174/200\n",
            "67/67 [==============================] - 14s 213ms/step - loss: 4.5971e-04 - mae: 0.0218\n",
            "Epoch 175/200\n",
            "67/67 [==============================] - 14s 213ms/step - loss: 5.2532e-04 - mae: 0.0250\n",
            "Epoch 176/200\n",
            "67/67 [==============================] - 14s 213ms/step - loss: 4.1431e-04 - mae: 0.0213\n",
            "Epoch 177/200\n",
            "67/67 [==============================] - 14s 213ms/step - loss: 3.7087e-04 - mae: 0.0196\n",
            "Epoch 178/200\n",
            "67/67 [==============================] - 14s 213ms/step - loss: 3.6498e-04 - mae: 0.0195\n",
            "Epoch 179/200\n",
            "67/67 [==============================] - 14s 212ms/step - loss: 3.8853e-04 - mae: 0.0213\n",
            "Epoch 180/200\n",
            "67/67 [==============================] - 14s 213ms/step - loss: 3.8757e-04 - mae: 0.0206\n",
            "Epoch 181/200\n",
            "67/67 [==============================] - 14s 213ms/step - loss: 6.3857e-04 - mae: 0.0280\n",
            "Epoch 182/200\n",
            "67/67 [==============================] - 14s 213ms/step - loss: 5.0214e-04 - mae: 0.0239\n",
            "Epoch 183/200\n",
            "67/67 [==============================] - 14s 213ms/step - loss: 8.9115e-04 - mae: 0.0314\n",
            "Epoch 184/200\n",
            "67/67 [==============================] - 14s 213ms/step - loss: 4.5822e-04 - mae: 0.0227\n",
            "Epoch 185/200\n",
            "67/67 [==============================] - 14s 213ms/step - loss: 3.4212e-04 - mae: 0.0189\n",
            "Epoch 186/200\n",
            "67/67 [==============================] - 14s 214ms/step - loss: 3.3218e-04 - mae: 0.0181\n",
            "Epoch 187/200\n",
            "67/67 [==============================] - 14s 213ms/step - loss: 3.5348e-04 - mae: 0.0197\n",
            "Epoch 188/200\n",
            "67/67 [==============================] - 14s 214ms/step - loss: 2.9150e-04 - mae: 0.0173\n",
            "Epoch 189/200\n",
            "67/67 [==============================] - 14s 213ms/step - loss: 3.4572e-04 - mae: 0.0185\n",
            "Epoch 190/200\n",
            "67/67 [==============================] - 14s 213ms/step - loss: 3.9310e-04 - mae: 0.0207\n",
            "Epoch 191/200\n",
            "67/67 [==============================] - 14s 213ms/step - loss: 3.7564e-04 - mae: 0.0198\n",
            "Epoch 192/200\n",
            "67/67 [==============================] - 14s 213ms/step - loss: 5.0029e-04 - mae: 0.0246\n",
            "Epoch 193/200\n",
            "67/67 [==============================] - 14s 213ms/step - loss: 3.3570e-04 - mae: 0.0192\n",
            "Epoch 194/200\n",
            "67/67 [==============================] - 14s 213ms/step - loss: 3.0397e-04 - mae: 0.0172\n",
            "Epoch 195/200\n",
            "67/67 [==============================] - 14s 213ms/step - loss: 3.9565e-04 - mae: 0.0204\n",
            "Epoch 196/200\n",
            "67/67 [==============================] - 14s 213ms/step - loss: 5.2848e-04 - mae: 0.0242\n",
            "Epoch 197/200\n",
            "67/67 [==============================] - 14s 213ms/step - loss: 2.9274e-04 - mae: 0.0178\n",
            "Epoch 198/200\n",
            "67/67 [==============================] - 14s 213ms/step - loss: 3.4424e-04 - mae: 0.0192\n",
            "Epoch 199/200\n",
            "67/67 [==============================] - 14s 214ms/step - loss: 4.2515e-04 - mae: 0.0218\n",
            "Epoch 200/200\n",
            "67/67 [==============================] - 14s 214ms/step - loss: 3.4812e-04 - mae: 0.0187\n"
          ]
        },
        {
          "output_type": "execute_result",
          "data": {
            "text/plain": [
              "<keras.callbacks.History at 0x7fcd0f030d10>"
            ]
          },
          "metadata": {},
          "execution_count": 55
        }
      ]
    },
    {
      "cell_type": "code",
      "source": [
        "# Load the best parameters.\n",
        "# capsnet_lstm.load_weights(capsnet_lstm_checkpoint_filepath)"
      ],
      "metadata": {
        "id": "F6UNhtayDQ6m"
      },
      "execution_count": 34,
      "outputs": []
    },
    {
      "cell_type": "code",
      "source": [
        "print(capsnet_lstm.summary())"
      ],
      "metadata": {
        "colab": {
          "base_uri": "https://localhost:8080/"
        },
        "id": "bRU73bByvkyi",
        "outputId": "9c5f5507-60a9-4461-9077-f9f8cc1714b7"
      },
      "execution_count": 56,
      "outputs": [
        {
          "output_type": "stream",
          "name": "stdout",
          "text": [
            "Model: \"capsnet_lstm\"\n",
            "_________________________________________________________________\n",
            " Layer (type)                Output Shape              Param #   \n",
            "=================================================================\n",
            " input_2 (InputLayer)        [(None, 250, 1)]          0         \n",
            "                                                                 \n",
            " conv1d_1 (Conv1D)           (None, 250, 256)          768       \n",
            "                                                                 \n",
            " conv1d_2 (Conv1D)           (None, 250, 512)          262656    \n",
            "                                                                 \n",
            " reshape_1 (Reshape)         (None, 250, 64, 8)        0         \n",
            "                                                                 \n",
            " lambda_1 (Lambda)           (None, 250, 64, 8)        0         \n",
            "                                                                 \n",
            " time_distributed_1 (TimeDis  (None, 250, 1024)        524288    \n",
            " tributed)                                                       \n",
            "                                                                 \n",
            " lstm_1 (LSTM)               (None, 200)               980000    \n",
            "                                                                 \n",
            " dropout_1 (Dropout)         (None, 200)               0         \n",
            "                                                                 \n",
            " dense_3 (Dense)             (None, 40)                8040      \n",
            "                                                                 \n",
            " dense_4 (Dense)             (None, 10)                410       \n",
            "                                                                 \n",
            " dense_5 (Dense)             (None, 1)                 11        \n",
            "                                                                 \n",
            "=================================================================\n",
            "Total params: 1,776,173\n",
            "Trainable params: 1,776,173\n",
            "Non-trainable params: 0\n",
            "_________________________________________________________________\n",
            "None\n"
          ]
        }
      ]
    },
    {
      "cell_type": "markdown",
      "metadata": {
        "id": "69lcH5cAEnki"
      },
      "source": [
        "## Evaluating the forecast\n",
        "\n",
        "Now it is time to evaluate the performance of the forecast. For this we use the `compute_metrics` function:"
      ]
    },
    {
      "cell_type": "markdown",
      "metadata": {
        "id": "r7V0kTKHEnki"
      },
      "source": [
        "At this point only the model that will perform the forecast is ready but we still need to compute the actual forecast.\n",
        "\n"
      ]
    },
    {
      "cell_type": "markdown",
      "metadata": {
        "id": "rJtDyAD9Enkj"
      },
      "source": [
        "### Faster model forecasts\n",
        "\n",
        "\n",
        "- The dataset is windowed using `window_size` rather than `window_size + 1`\n",
        "- No shuffle should be used\n",
        "- No need to split the data into features and labels\n",
        "- A model is used to predict batches of the dataset"
      ]
    },
    {
      "cell_type": "markdown",
      "metadata": {
        "id": "kIyFlTEwEnkj"
      },
      "source": [
        "Now compute the actual forecast:"
      ]
    },
    {
      "cell_type": "code",
      "execution_count": 57,
      "metadata": {
        "colab": {
          "base_uri": "https://localhost:8080/",
          "height": 388
        },
        "outputId": "6100e50b-ab34-4d8b-a569-506ac9fc77c8",
        "id": "yEiYgYaA28PR"
      },
      "outputs": [
        {
          "output_type": "display_data",
          "data": {
            "text/plain": [
              "<Figure size 720x432 with 1 Axes>"
            ],
            "image/png": "[encoded data removed]"
          },
          "metadata": {
            "needs_background": "light"
          }
        }
      ],
      "source": [
        "# Compute the forecast for all the series\n",
        "capsnet_lstm_forecast = model_forecast(capsnet_lstm, series_norm, G.WINDOW_SIZE).squeeze()\n",
        "\n",
        "# Slice the forecast to get only the predictions for the validation set\n",
        "series_test_hat_capsnet_lstm = capsnet_lstm_forecast[-150:]\n",
        "\n",
        "# Reverse normalization\n",
        "series_test_hat_capsnet_lstm = reverse_normalization(series_test_hat_capsnet_lstm)\n",
        "\n",
        "# Plot the forecast\n",
        "plt.figure(figsize=(10, 6))\n",
        "plot_series(time_test, series_test)\n",
        "plot_series(time_test, series_test_hat_capsnet_lstm)"
      ]
    },
    {
      "cell_type": "code",
      "execution_count": 58,
      "metadata": {
        "colab": {
          "base_uri": "https://localhost:8080/"
        },
        "outputId": "80a8d7cd-2ac0-4ff3-8c9d-185d6702d64d",
        "id": "OmelEr6a3I70"
      },
      "outputs": [
        {
          "output_type": "stream",
          "name": "stdout",
          "text": [
            "mse: 682508.56, mae: 819.11 for forecast\n"
          ]
        }
      ],
      "source": [
        "mse_capsnet_lstm, mae_capsnet_lstm = compute_metrics(series_test, series_test_hat_capsnet_lstm)\n",
        "\n",
        "print(f\"mse: {mse_capsnet_lstm:.2f}, mae: {mae_capsnet_lstm:.2f} for forecast\")"
      ]
    },
    {
      "cell_type": "code",
      "source": [
        "# Save model\n",
        "capsnet_lstm.save('/content/gdrive/MyDrive/Saved_models/capsnet_lstm_2.h5')"
      ],
      "metadata": {
        "id": "31KC2l1EEpTk"
      },
      "execution_count": 59,
      "outputs": []
    },
    {
      "cell_type": "markdown",
      "source": [
        "## Baseline (LSTM, CNN-LSTM)"
      ],
      "metadata": {
        "id": "og2vNXLVgOeC"
      }
    },
    {
      "cell_type": "markdown",
      "source": [
        "### LSTM"
      ],
      "metadata": {
        "id": "DTXrC28w_ZGT"
      }
    },
    {
      "cell_type": "code",
      "execution_count": 39,
      "metadata": {
        "id": "Sc6pU_kiEnkg"
      },
      "outputs": [],
      "source": [
        "def build_LSTM(hp):\n",
        "   \n",
        "    model = tf.keras.models.Sequential([\n",
        "          tf.keras.layers.LSTM(hp.Int('lstm_units', 100, 300, 50), input_shape=[G.WINDOW_SIZE, 1]),\n",
        "          tf.keras.layers.Dense(hp.Int('dense1_units', 20, 50, 10), activation=\"relu\"),\n",
        "          tf.keras.layers.Dense(hp.Int('dense2_units', 5, 20, 5), activation=\"relu\"),\n",
        "          tf.keras.layers.Dense(1)\n",
        "    ])\n",
        "    learning_rate = hp.Float(\"lr\", min_value=1e-4, max_value=1e-2, sampling=\"log\")\n",
        "    model.compile(\n",
        "        optimizer=tf.keras.optimizers.Adam(learning_rate=learning_rate),\n",
        "        loss=tf.keras.losses.Huber(),\n",
        "        metrics=[\"mae\"])\n",
        "\n",
        "    return model"
      ]
    },
    {
      "cell_type": "code",
      "source": [
        "build_LSTM(keras_tuner.HyperParameters())\n",
        "\n",
        "tuner_lstm = keras_tuner.Hyperband(\n",
        "    hypermodel=build_LSTM,\n",
        "    objective=\"val_mae\",\n",
        "    max_epochs=50,\n",
        "    factor=3,\n",
        "    hyperband_iterations=1,\n",
        "    distribution_strategy=strategy,\n",
        "    seed = 1,\n",
        "    directory='/content/gdrive/MyDrive/Tuner',\n",
        "    project_name=\"lstm\",\n",
        "    overwrite=True)\n",
        "\n",
        "tuner_lstm.search(train_set, epochs=50, validation_data=val_set,callbacks=[stop_early])\n",
        "\n",
        "tuner_lstm.results_summary()\n",
        "\n",
        "# Get the top 5 hyperparameters.\n",
        "best_hps_lstm = tuner_lstm.get_best_hyperparameters(5)\n",
        "\n"
      ],
      "metadata": {
        "id": "JQ5JlaaZ8dD_",
        "outputId": "38b995b6-052b-47e6-80b7-b1b963534243",
        "colab": {
          "base_uri": "https://localhost:8080/"
        }
      },
      "execution_count": 40,
      "outputs": [
        {
          "output_type": "stream",
          "name": "stdout",
          "text": [
            "Trial 90 Complete [00h 01m 47s]\n",
            "val_mae: 0.02772478573024273\n",
            "\n",
            "Best val_mae So Far: 0.023197626695036888\n",
            "Total elapsed time: 00h 46m 09s\n",
            "Results summary\n",
            "Results in /content/gdrive/MyDrive/Tuner/lstm\n",
            "Showing 10 best trials\n",
            "<keras_tuner.engine.objective.Objective object at 0x7f31ea14b7d0>\n",
            "Trial summary\n",
            "Hyperparameters:\n",
            "lstm_units: 200\n",
            "dense1_units: 30\n",
            "dense2_units: 15\n",
            "lr: 0.0006201914963139159\n",
            "tuner/epochs: 17\n",
            "tuner/initial_epoch: 0\n",
            "tuner/bracket: 1\n",
            "tuner/round: 0\n",
            "Score: 0.023197626695036888\n",
            "Trial summary\n",
            "Hyperparameters:\n",
            "lstm_units: 300\n",
            "dense1_units: 30\n",
            "dense2_units: 15\n",
            "lr: 0.0009452767099282696\n",
            "tuner/epochs: 50\n",
            "tuner/initial_epoch: 17\n",
            "tuner/bracket: 2\n",
            "tuner/round: 2\n",
            "tuner/trial_id: 0068\n",
            "Score: 0.023722941055893898\n",
            "Trial summary\n",
            "Hyperparameters:\n",
            "lstm_units: 200\n",
            "dense1_units: 50\n",
            "dense2_units: 10\n",
            "lr: 0.0008960175671873151\n",
            "tuner/epochs: 50\n",
            "tuner/initial_epoch: 17\n",
            "tuner/bracket: 3\n",
            "tuner/round: 3\n",
            "tuner/trial_id: 0046\n",
            "Score: 0.02385629713535309\n",
            "Trial summary\n",
            "Hyperparameters:\n",
            "lstm_units: 200\n",
            "dense1_units: 20\n",
            "dense2_units: 15\n",
            "lr: 0.00036151371126048177\n",
            "tuner/epochs: 17\n",
            "tuner/initial_epoch: 0\n",
            "tuner/bracket: 1\n",
            "tuner/round: 0\n",
            "Score: 0.023994119837880135\n",
            "Trial summary\n",
            "Hyperparameters:\n",
            "lstm_units: 200\n",
            "dense1_units: 50\n",
            "dense2_units: 10\n",
            "lr: 0.0008960175671873151\n",
            "tuner/epochs: 6\n",
            "tuner/initial_epoch: 2\n",
            "tuner/bracket: 3\n",
            "tuner/round: 1\n",
            "tuner/trial_id: 0015\n",
            "Score: 0.024663100019097328\n",
            "Trial summary\n",
            "Hyperparameters:\n",
            "lstm_units: 200\n",
            "dense1_units: 40\n",
            "dense2_units: 20\n",
            "lr: 0.0003647863570162414\n",
            "tuner/epochs: 50\n",
            "tuner/initial_epoch: 0\n",
            "tuner/bracket: 0\n",
            "tuner/round: 0\n",
            "Score: 0.026067176833748817\n",
            "Trial summary\n",
            "Hyperparameters:\n",
            "lstm_units: 200\n",
            "dense1_units: 30\n",
            "dense2_units: 15\n",
            "lr: 0.0006201914963139159\n",
            "tuner/epochs: 50\n",
            "tuner/initial_epoch: 17\n",
            "tuner/bracket: 1\n",
            "tuner/round: 1\n",
            "tuner/trial_id: 0077\n",
            "Score: 0.027138663455843925\n",
            "Trial summary\n",
            "Hyperparameters:\n",
            "lstm_units: 150\n",
            "dense1_units: 50\n",
            "dense2_units: 10\n",
            "lr: 0.0047156844970391324\n",
            "tuner/epochs: 50\n",
            "tuner/initial_epoch: 0\n",
            "tuner/bracket: 0\n",
            "tuner/round: 0\n",
            "Score: 0.02772478573024273\n",
            "Trial summary\n",
            "Hyperparameters:\n",
            "lstm_units: 300\n",
            "dense1_units: 30\n",
            "dense2_units: 15\n",
            "lr: 0.0009452767099282696\n",
            "tuner/epochs: 17\n",
            "tuner/initial_epoch: 6\n",
            "tuner/bracket: 2\n",
            "tuner/round: 1\n",
            "tuner/trial_id: 0056\n",
            "Score: 0.029107097536325455\n",
            "Trial summary\n",
            "Hyperparameters:\n",
            "lstm_units: 200\n",
            "dense1_units: 30\n",
            "dense2_units: 5\n",
            "lr: 0.0003563164068303565\n",
            "tuner/epochs: 17\n",
            "tuner/initial_epoch: 6\n",
            "tuner/bracket: 2\n",
            "tuner/round: 1\n",
            "tuner/trial_id: 0063\n",
            "Score: 0.03069129027426243\n"
          ]
        }
      ]
    },
    {
      "cell_type": "code",
      "source": [
        "# Prepare check point\n",
        "# lstm_checkpoint_filepath = '/content/gdrive/MyDrive/model_checkpoint/lstm.hdf5'\n",
        "# model_checkpoint_callback_lstm = tf.keras.callbacks.ModelCheckpoint(\n",
        "#    filepath=lstm_checkpoint_filepath,\n",
        "#    save_weights_only=True,\n",
        "#    monitor='mae',\n",
        "#    mode='min',\n",
        "#    save_best_only=True)"
      ],
      "metadata": {
        "id": "pmPKBp80lnWv"
      },
      "execution_count": 41,
      "outputs": []
    },
    {
      "cell_type": "code",
      "source": [
        "# Build the model with the best hp.\n",
        "with strategy.scope():\n",
        "  lstm = build_LSTM(best_hps_lstm[0])\n",
        "# Fit with the entire dataset.\n",
        "lstm.fit(train_val_set, epochs=200)"
      ],
      "metadata": {
        "colab": {
          "base_uri": "https://localhost:8080/"
        },
        "id": "VveQt5UllpUD",
        "outputId": "0b58a1e1-ea5d-4e94-af10-de0f59aee21d"
      },
      "execution_count": 42,
      "outputs": [
        {
          "output_type": "stream",
          "name": "stdout",
          "text": [
            "Epoch 1/200\n",
            "67/67 [==============================] - 8s 49ms/step - loss: 0.0079 - mae: 0.1038\n",
            "Epoch 2/200\n",
            "67/67 [==============================] - 2s 29ms/step - loss: 0.0335 - mae: 0.2005\n",
            "Epoch 3/200\n",
            "67/67 [==============================] - 2s 30ms/step - loss: 0.0143 - mae: 0.1325\n",
            "Epoch 4/200\n",
            "67/67 [==============================] - 2s 29ms/step - loss: 0.0100 - mae: 0.1047\n",
            "Epoch 5/200\n",
            "67/67 [==============================] - 2s 29ms/step - loss: 0.0075 - mae: 0.1000\n",
            "Epoch 6/200\n",
            "67/67 [==============================] - 2s 29ms/step - loss: 0.0046 - mae: 0.0756\n",
            "Epoch 7/200\n",
            "67/67 [==============================] - 2s 29ms/step - loss: 0.0032 - mae: 0.0626\n",
            "Epoch 8/200\n",
            "67/67 [==============================] - 2s 29ms/step - loss: 0.0014 - mae: 0.0410\n",
            "Epoch 9/200\n",
            "67/67 [==============================] - 2s 29ms/step - loss: 4.1443e-04 - mae: 0.0218\n",
            "Epoch 10/200\n",
            "67/67 [==============================] - 2s 29ms/step - loss: 3.3659e-04 - mae: 0.0196\n",
            "Epoch 11/200\n",
            "67/67 [==============================] - 2s 29ms/step - loss: 3.0676e-04 - mae: 0.0189\n",
            "Epoch 12/200\n",
            "67/67 [==============================] - 2s 29ms/step - loss: 2.6343e-04 - mae: 0.0172\n",
            "Epoch 13/200\n",
            "67/67 [==============================] - 2s 29ms/step - loss: 2.6811e-04 - mae: 0.0171\n",
            "Epoch 14/200\n",
            "67/67 [==============================] - 2s 29ms/step - loss: 2.5608e-04 - mae: 0.0166\n",
            "Epoch 15/200\n",
            "67/67 [==============================] - 2s 30ms/step - loss: 2.5890e-04 - mae: 0.0168\n",
            "Epoch 16/200\n",
            "67/67 [==============================] - 2s 29ms/step - loss: 2.5048e-04 - mae: 0.0164\n",
            "Epoch 17/200\n",
            "67/67 [==============================] - 2s 29ms/step - loss: 2.6425e-04 - mae: 0.0173\n",
            "Epoch 18/200\n",
            "67/67 [==============================] - 2s 29ms/step - loss: 2.3982e-04 - mae: 0.0161\n",
            "Epoch 19/200\n",
            "67/67 [==============================] - 2s 30ms/step - loss: 2.3687e-04 - mae: 0.0159\n",
            "Epoch 20/200\n",
            "67/67 [==============================] - 2s 28ms/step - loss: 2.3721e-04 - mae: 0.0160\n",
            "Epoch 21/200\n",
            "67/67 [==============================] - 2s 29ms/step - loss: 2.6101e-04 - mae: 0.0167\n",
            "Epoch 22/200\n",
            "67/67 [==============================] - 2s 29ms/step - loss: 2.3138e-04 - mae: 0.0156\n",
            "Epoch 23/200\n",
            "67/67 [==============================] - 2s 29ms/step - loss: 2.3157e-04 - mae: 0.0156\n",
            "Epoch 24/200\n",
            "67/67 [==============================] - 2s 29ms/step - loss: 2.2056e-04 - mae: 0.0151\n",
            "Epoch 25/200\n",
            "67/67 [==============================] - 2s 30ms/step - loss: 2.1653e-04 - mae: 0.0149\n",
            "Epoch 26/200\n",
            "67/67 [==============================] - 2s 29ms/step - loss: 2.2716e-04 - mae: 0.0156\n",
            "Epoch 27/200\n",
            "67/67 [==============================] - 2s 29ms/step - loss: 2.2790e-04 - mae: 0.0157\n",
            "Epoch 28/200\n",
            "67/67 [==============================] - 2s 29ms/step - loss: 2.8915e-04 - mae: 0.0181\n",
            "Epoch 29/200\n",
            "67/67 [==============================] - 2s 29ms/step - loss: 2.0824e-04 - mae: 0.0147\n",
            "Epoch 30/200\n",
            "67/67 [==============================] - 2s 29ms/step - loss: 1.9648e-04 - mae: 0.0143\n",
            "Epoch 31/200\n",
            "67/67 [==============================] - 2s 30ms/step - loss: 2.0354e-04 - mae: 0.0145\n",
            "Epoch 32/200\n",
            "67/67 [==============================] - 2s 30ms/step - loss: 2.2414e-04 - mae: 0.0154\n",
            "Epoch 33/200\n",
            "67/67 [==============================] - 2s 29ms/step - loss: 2.0938e-04 - mae: 0.0150\n",
            "Epoch 34/200\n",
            "67/67 [==============================] - 2s 29ms/step - loss: 2.3961e-04 - mae: 0.0159\n",
            "Epoch 35/200\n",
            "67/67 [==============================] - 2s 29ms/step - loss: 2.0014e-04 - mae: 0.0145\n",
            "Epoch 36/200\n",
            "67/67 [==============================] - 2s 29ms/step - loss: 1.9131e-04 - mae: 0.0140\n",
            "Epoch 37/200\n",
            "67/67 [==============================] - 2s 29ms/step - loss: 2.0214e-04 - mae: 0.0144\n",
            "Epoch 38/200\n",
            "67/67 [==============================] - 2s 29ms/step - loss: 2.1206e-04 - mae: 0.0150\n",
            "Epoch 39/200\n",
            "67/67 [==============================] - 2s 29ms/step - loss: 1.9974e-04 - mae: 0.0148\n",
            "Epoch 40/200\n",
            "67/67 [==============================] - 2s 30ms/step - loss: 2.3570e-04 - mae: 0.0163\n",
            "Epoch 41/200\n",
            "67/67 [==============================] - 2s 29ms/step - loss: 1.8674e-04 - mae: 0.0140\n",
            "Epoch 42/200\n",
            "67/67 [==============================] - 2s 29ms/step - loss: 2.1072e-04 - mae: 0.0145\n",
            "Epoch 43/200\n",
            "67/67 [==============================] - 2s 30ms/step - loss: 1.7927e-04 - mae: 0.0136\n",
            "Epoch 44/200\n",
            "67/67 [==============================] - 2s 29ms/step - loss: 1.8801e-04 - mae: 0.0141\n",
            "Epoch 45/200\n",
            "67/67 [==============================] - 2s 29ms/step - loss: 1.8535e-04 - mae: 0.0139\n",
            "Epoch 46/200\n",
            "67/67 [==============================] - 2s 29ms/step - loss: 1.8983e-04 - mae: 0.0142\n",
            "Epoch 47/200\n",
            "67/67 [==============================] - 2s 29ms/step - loss: 1.7062e-04 - mae: 0.0132\n",
            "Epoch 48/200\n",
            "67/67 [==============================] - 2s 29ms/step - loss: 1.9700e-04 - mae: 0.0145\n",
            "Epoch 49/200\n",
            "67/67 [==============================] - 2s 29ms/step - loss: 1.7038e-04 - mae: 0.0132\n",
            "Epoch 50/200\n",
            "67/67 [==============================] - 2s 30ms/step - loss: 1.5933e-04 - mae: 0.0128\n",
            "Epoch 51/200\n",
            "67/67 [==============================] - 2s 29ms/step - loss: 2.0828e-04 - mae: 0.0150\n",
            "Epoch 52/200\n",
            "67/67 [==============================] - 2s 29ms/step - loss: 1.7257e-04 - mae: 0.0134\n",
            "Epoch 53/200\n",
            "67/67 [==============================] - 2s 29ms/step - loss: 1.7895e-04 - mae: 0.0134\n",
            "Epoch 54/200\n",
            "67/67 [==============================] - 2s 29ms/step - loss: 1.8899e-04 - mae: 0.0142\n",
            "Epoch 55/200\n",
            "67/67 [==============================] - 2s 29ms/step - loss: 3.0200e-04 - mae: 0.0188\n",
            "Epoch 56/200\n",
            "67/67 [==============================] - 2s 29ms/step - loss: 1.8619e-04 - mae: 0.0143\n",
            "Epoch 57/200\n",
            "67/67 [==============================] - 2s 29ms/step - loss: 1.5919e-04 - mae: 0.0128\n",
            "Epoch 58/200\n",
            "67/67 [==============================] - 2s 29ms/step - loss: 1.5458e-04 - mae: 0.0126\n",
            "Epoch 59/200\n",
            "67/67 [==============================] - 2s 29ms/step - loss: 1.4720e-04 - mae: 0.0122\n",
            "Epoch 60/200\n",
            "67/67 [==============================] - 2s 29ms/step - loss: 1.7494e-04 - mae: 0.0135\n",
            "Epoch 61/200\n",
            "67/67 [==============================] - 2s 30ms/step - loss: 1.5624e-04 - mae: 0.0124\n",
            "Epoch 62/200\n",
            "67/67 [==============================] - 2s 30ms/step - loss: 1.5495e-04 - mae: 0.0126\n",
            "Epoch 63/200\n",
            "67/67 [==============================] - 2s 29ms/step - loss: 2.3876e-04 - mae: 0.0167\n",
            "Epoch 64/200\n",
            "67/67 [==============================] - 2s 29ms/step - loss: 2.4213e-04 - mae: 0.0166\n",
            "Epoch 65/200\n",
            "67/67 [==============================] - 2s 29ms/step - loss: 1.5881e-04 - mae: 0.0126\n",
            "Epoch 66/200\n",
            "67/67 [==============================] - 2s 29ms/step - loss: 1.4051e-04 - mae: 0.0119\n",
            "Epoch 67/200\n",
            "67/67 [==============================] - 2s 29ms/step - loss: 1.4054e-04 - mae: 0.0120\n",
            "Epoch 68/200\n",
            "67/67 [==============================] - 2s 29ms/step - loss: 1.3249e-04 - mae: 0.0115\n",
            "Epoch 69/200\n",
            "67/67 [==============================] - 2s 29ms/step - loss: 1.4939e-04 - mae: 0.0128\n",
            "Epoch 70/200\n",
            "67/67 [==============================] - 2s 29ms/step - loss: 2.2331e-04 - mae: 0.0161\n",
            "Epoch 71/200\n",
            "67/67 [==============================] - 2s 30ms/step - loss: 2.6119e-04 - mae: 0.0179\n",
            "Epoch 72/200\n",
            "67/67 [==============================] - 2s 29ms/step - loss: 4.2587e-04 - mae: 0.0229\n",
            "Epoch 73/200\n",
            "67/67 [==============================] - 2s 30ms/step - loss: 3.6046e-04 - mae: 0.0211\n",
            "Epoch 74/200\n",
            "67/67 [==============================] - 2s 29ms/step - loss: 2.2103e-04 - mae: 0.0160\n",
            "Epoch 75/200\n",
            "67/67 [==============================] - 2s 29ms/step - loss: 1.5486e-04 - mae: 0.0130\n",
            "Epoch 76/200\n",
            "67/67 [==============================] - 2s 29ms/step - loss: 1.2927e-04 - mae: 0.0113\n",
            "Epoch 77/200\n",
            "67/67 [==============================] - 2s 29ms/step - loss: 1.2767e-04 - mae: 0.0112\n",
            "Epoch 78/200\n",
            "67/67 [==============================] - 2s 28ms/step - loss: 1.3535e-04 - mae: 0.0119\n",
            "Epoch 79/200\n",
            "67/67 [==============================] - 2s 29ms/step - loss: 1.3244e-04 - mae: 0.0117\n",
            "Epoch 80/200\n",
            "67/67 [==============================] - 2s 29ms/step - loss: 1.7618e-04 - mae: 0.0139\n",
            "Epoch 81/200\n",
            "67/67 [==============================] - 2s 29ms/step - loss: 1.5226e-04 - mae: 0.0131\n",
            "Epoch 82/200\n",
            "67/67 [==============================] - 2s 29ms/step - loss: 1.9366e-04 - mae: 0.0148\n",
            "Epoch 83/200\n",
            "67/67 [==============================] - 2s 28ms/step - loss: 1.4255e-04 - mae: 0.0122\n",
            "Epoch 84/200\n",
            "67/67 [==============================] - 2s 29ms/step - loss: 1.5669e-04 - mae: 0.0133\n",
            "Epoch 85/200\n",
            "67/67 [==============================] - 2s 29ms/step - loss: 1.4394e-04 - mae: 0.0125\n",
            "Epoch 86/200\n",
            "67/67 [==============================] - 2s 29ms/step - loss: 1.2954e-04 - mae: 0.0115\n",
            "Epoch 87/200\n",
            "67/67 [==============================] - 2s 29ms/step - loss: 1.5256e-04 - mae: 0.0130\n",
            "Epoch 88/200\n",
            "67/67 [==============================] - 2s 29ms/step - loss: 1.7597e-04 - mae: 0.0143\n",
            "Epoch 89/200\n",
            "67/67 [==============================] - 2s 29ms/step - loss: 1.4476e-04 - mae: 0.0125\n",
            "Epoch 90/200\n",
            "67/67 [==============================] - 2s 29ms/step - loss: 2.6302e-04 - mae: 0.0174\n",
            "Epoch 91/200\n",
            "67/67 [==============================] - 2s 30ms/step - loss: 1.8023e-04 - mae: 0.0147\n",
            "Epoch 92/200\n",
            "67/67 [==============================] - 2s 30ms/step - loss: 2.9697e-04 - mae: 0.0181\n",
            "Epoch 93/200\n",
            "67/67 [==============================] - 2s 30ms/step - loss: 3.0845e-04 - mae: 0.0196\n",
            "Epoch 94/200\n",
            "67/67 [==============================] - 2s 30ms/step - loss: 3.3569e-04 - mae: 0.0201\n",
            "Epoch 95/200\n",
            "67/67 [==============================] - 2s 29ms/step - loss: 2.4600e-04 - mae: 0.0170\n",
            "Epoch 96/200\n",
            "67/67 [==============================] - 2s 30ms/step - loss: 1.7895e-04 - mae: 0.0143\n",
            "Epoch 97/200\n",
            "67/67 [==============================] - 2s 30ms/step - loss: 1.2686e-04 - mae: 0.0114\n",
            "Epoch 98/200\n",
            "67/67 [==============================] - 2s 30ms/step - loss: 1.5336e-04 - mae: 0.0129\n",
            "Epoch 99/200\n",
            "67/67 [==============================] - 2s 30ms/step - loss: 1.1569e-04 - mae: 0.0108\n",
            "Epoch 100/200\n",
            "67/67 [==============================] - 2s 30ms/step - loss: 1.2606e-04 - mae: 0.0114\n",
            "Epoch 101/200\n",
            "67/67 [==============================] - 2s 29ms/step - loss: 1.0946e-04 - mae: 0.0102\n",
            "Epoch 102/200\n",
            "67/67 [==============================] - 2s 30ms/step - loss: 1.1699e-04 - mae: 0.0110\n",
            "Epoch 103/200\n",
            "67/67 [==============================] - 2s 29ms/step - loss: 1.6245e-04 - mae: 0.0136\n",
            "Epoch 104/200\n",
            "67/67 [==============================] - 2s 30ms/step - loss: 1.5402e-04 - mae: 0.0127\n",
            "Epoch 105/200\n",
            "67/67 [==============================] - 2s 29ms/step - loss: 1.1622e-04 - mae: 0.0112\n",
            "Epoch 106/200\n",
            "67/67 [==============================] - 2s 30ms/step - loss: 2.2312e-04 - mae: 0.0166\n",
            "Epoch 107/200\n",
            "67/67 [==============================] - 2s 30ms/step - loss: 2.3600e-04 - mae: 0.0164\n",
            "Epoch 108/200\n",
            "67/67 [==============================] - 2s 29ms/step - loss: 1.0787e-04 - mae: 0.0105\n",
            "Epoch 109/200\n",
            "67/67 [==============================] - 2s 29ms/step - loss: 1.1561e-04 - mae: 0.0110\n",
            "Epoch 110/200\n",
            "67/67 [==============================] - 2s 30ms/step - loss: 1.1558e-04 - mae: 0.0107\n",
            "Epoch 111/200\n",
            "67/67 [==============================] - 2s 30ms/step - loss: 1.2894e-04 - mae: 0.0120\n",
            "Epoch 112/200\n",
            "67/67 [==============================] - 2s 29ms/step - loss: 1.1774e-04 - mae: 0.0110\n",
            "Epoch 113/200\n",
            "67/67 [==============================] - 2s 29ms/step - loss: 1.0200e-04 - mae: 0.0103\n",
            "Epoch 114/200\n",
            "67/67 [==============================] - 2s 29ms/step - loss: 1.4435e-04 - mae: 0.0128\n",
            "Epoch 115/200\n",
            "67/67 [==============================] - 2s 29ms/step - loss: 1.1256e-04 - mae: 0.0108\n",
            "Epoch 116/200\n",
            "67/67 [==============================] - 2s 30ms/step - loss: 9.7071e-05 - mae: 0.0097\n",
            "Epoch 117/200\n",
            "67/67 [==============================] - 2s 30ms/step - loss: 1.0083e-04 - mae: 0.0099\n",
            "Epoch 118/200\n",
            "67/67 [==============================] - 2s 30ms/step - loss: 1.0209e-04 - mae: 0.0098\n",
            "Epoch 119/200\n",
            "67/67 [==============================] - 2s 29ms/step - loss: 1.1771e-04 - mae: 0.0113\n",
            "Epoch 120/200\n",
            "67/67 [==============================] - 2s 30ms/step - loss: 1.3047e-04 - mae: 0.0122\n",
            "Epoch 121/200\n",
            "67/67 [==============================] - 2s 29ms/step - loss: 1.8851e-04 - mae: 0.0148\n",
            "Epoch 122/200\n",
            "67/67 [==============================] - 2s 29ms/step - loss: 2.1142e-04 - mae: 0.0156\n",
            "Epoch 123/200\n",
            "67/67 [==============================] - 2s 29ms/step - loss: 1.0048e-04 - mae: 0.0102\n",
            "Epoch 124/200\n",
            "67/67 [==============================] - 2s 29ms/step - loss: 1.7834e-04 - mae: 0.0147\n",
            "Epoch 125/200\n",
            "67/67 [==============================] - 2s 29ms/step - loss: 2.6117e-04 - mae: 0.0176\n",
            "Epoch 126/200\n",
            "67/67 [==============================] - 2s 29ms/step - loss: 2.9524e-04 - mae: 0.0177\n",
            "Epoch 127/200\n",
            "67/67 [==============================] - 2s 29ms/step - loss: 1.7080e-04 - mae: 0.0138\n",
            "Epoch 128/200\n",
            "67/67 [==============================] - 2s 28ms/step - loss: 1.3478e-04 - mae: 0.0124\n",
            "Epoch 129/200\n",
            "67/67 [==============================] - 2s 29ms/step - loss: 1.4339e-04 - mae: 0.0126\n",
            "Epoch 130/200\n",
            "67/67 [==============================] - 2s 29ms/step - loss: 1.1557e-04 - mae: 0.0107\n",
            "Epoch 131/200\n",
            "67/67 [==============================] - 2s 28ms/step - loss: 1.2768e-04 - mae: 0.0119\n",
            "Epoch 132/200\n",
            "67/67 [==============================] - 2s 29ms/step - loss: 1.6981e-04 - mae: 0.0141\n",
            "Epoch 133/200\n",
            "67/67 [==============================] - 2s 29ms/step - loss: 1.0096e-04 - mae: 0.0101\n",
            "Epoch 134/200\n",
            "67/67 [==============================] - 2s 29ms/step - loss: 9.7890e-05 - mae: 0.0096\n",
            "Epoch 135/200\n",
            "67/67 [==============================] - 2s 29ms/step - loss: 1.0254e-04 - mae: 0.0102\n",
            "Epoch 136/200\n",
            "67/67 [==============================] - 2s 30ms/step - loss: 9.5373e-05 - mae: 0.0096\n",
            "Epoch 137/200\n",
            "67/67 [==============================] - 2s 29ms/step - loss: 1.0680e-04 - mae: 0.0105\n",
            "Epoch 138/200\n",
            "67/67 [==============================] - 2s 30ms/step - loss: 1.1065e-04 - mae: 0.0108\n",
            "Epoch 139/200\n",
            "67/67 [==============================] - 2s 30ms/step - loss: 1.1046e-04 - mae: 0.0107\n",
            "Epoch 140/200\n",
            "67/67 [==============================] - 2s 29ms/step - loss: 1.0817e-04 - mae: 0.0104\n",
            "Epoch 141/200\n",
            "67/67 [==============================] - 2s 29ms/step - loss: 1.4389e-04 - mae: 0.0128\n",
            "Epoch 142/200\n",
            "67/67 [==============================] - 2s 29ms/step - loss: 1.5802e-04 - mae: 0.0133\n",
            "Epoch 143/200\n",
            "67/67 [==============================] - 2s 30ms/step - loss: 1.0477e-04 - mae: 0.0105\n",
            "Epoch 144/200\n",
            "67/67 [==============================] - 2s 28ms/step - loss: 1.2292e-04 - mae: 0.0117\n",
            "Epoch 145/200\n",
            "67/67 [==============================] - 2s 29ms/step - loss: 1.0276e-04 - mae: 0.0104\n",
            "Epoch 146/200\n",
            "67/67 [==============================] - 2s 29ms/step - loss: 1.0383e-04 - mae: 0.0103\n",
            "Epoch 147/200\n",
            "67/67 [==============================] - 2s 29ms/step - loss: 1.0864e-04 - mae: 0.0107\n",
            "Epoch 148/200\n",
            "67/67 [==============================] - 2s 30ms/step - loss: 9.2126e-05 - mae: 0.0095\n",
            "Epoch 149/200\n",
            "67/67 [==============================] - 2s 30ms/step - loss: 1.0055e-04 - mae: 0.0102\n",
            "Epoch 150/200\n",
            "67/67 [==============================] - 2s 30ms/step - loss: 1.4503e-04 - mae: 0.0127\n",
            "Epoch 151/200\n",
            "67/67 [==============================] - 2s 30ms/step - loss: 1.0883e-04 - mae: 0.0106\n",
            "Epoch 152/200\n",
            "67/67 [==============================] - 2s 30ms/step - loss: 1.2939e-04 - mae: 0.0121\n",
            "Epoch 153/200\n",
            "67/67 [==============================] - 2s 30ms/step - loss: 1.4341e-04 - mae: 0.0125\n",
            "Epoch 154/200\n",
            "67/67 [==============================] - 2s 29ms/step - loss: 1.3515e-04 - mae: 0.0122\n",
            "Epoch 155/200\n",
            "67/67 [==============================] - 2s 29ms/step - loss: 1.1520e-04 - mae: 0.0112\n",
            "Epoch 156/200\n",
            "67/67 [==============================] - 2s 29ms/step - loss: 1.1206e-04 - mae: 0.0108\n",
            "Epoch 157/200\n",
            "67/67 [==============================] - 2s 29ms/step - loss: 1.3746e-04 - mae: 0.0123\n",
            "Epoch 158/200\n",
            "67/67 [==============================] - 2s 30ms/step - loss: 9.6380e-05 - mae: 0.0098\n",
            "Epoch 159/200\n",
            "67/67 [==============================] - 2s 29ms/step - loss: 1.2661e-04 - mae: 0.0118\n",
            "Epoch 160/200\n",
            "67/67 [==============================] - 2s 29ms/step - loss: 9.7712e-05 - mae: 0.0096\n",
            "Epoch 161/200\n",
            "67/67 [==============================] - 2s 29ms/step - loss: 1.1411e-04 - mae: 0.0107\n",
            "Epoch 162/200\n",
            "67/67 [==============================] - 2s 29ms/step - loss: 1.3985e-04 - mae: 0.0125\n",
            "Epoch 163/200\n",
            "67/67 [==============================] - 2s 29ms/step - loss: 9.3296e-05 - mae: 0.0094\n",
            "Epoch 164/200\n",
            "67/67 [==============================] - 2s 30ms/step - loss: 9.6975e-05 - mae: 0.0097\n",
            "Epoch 165/200\n",
            "67/67 [==============================] - 2s 29ms/step - loss: 9.5204e-05 - mae: 0.0095\n",
            "Epoch 166/200\n",
            "67/67 [==============================] - 2s 29ms/step - loss: 1.0484e-04 - mae: 0.0104\n",
            "Epoch 167/200\n",
            "67/67 [==============================] - 2s 29ms/step - loss: 9.6286e-05 - mae: 0.0098\n",
            "Epoch 168/200\n",
            "67/67 [==============================] - 2s 28ms/step - loss: 1.1926e-04 - mae: 0.0116\n",
            "Epoch 169/200\n",
            "67/67 [==============================] - 2s 29ms/step - loss: 1.5508e-04 - mae: 0.0133\n",
            "Epoch 170/200\n",
            "67/67 [==============================] - 2s 29ms/step - loss: 1.0799e-04 - mae: 0.0107\n",
            "Epoch 171/200\n",
            "67/67 [==============================] - 2s 30ms/step - loss: 9.4287e-05 - mae: 0.0095\n",
            "Epoch 172/200\n",
            "67/67 [==============================] - 2s 29ms/step - loss: 9.5421e-05 - mae: 0.0097\n",
            "Epoch 173/200\n",
            "67/67 [==============================] - 2s 29ms/step - loss: 1.2594e-04 - mae: 0.0117\n",
            "Epoch 174/200\n",
            "67/67 [==============================] - 2s 29ms/step - loss: 9.6996e-05 - mae: 0.0098\n",
            "Epoch 175/200\n",
            "67/67 [==============================] - 2s 29ms/step - loss: 1.1108e-04 - mae: 0.0109\n",
            "Epoch 176/200\n",
            "67/67 [==============================] - 2s 29ms/step - loss: 1.0638e-04 - mae: 0.0102\n",
            "Epoch 177/200\n",
            "67/67 [==============================] - 2s 29ms/step - loss: 1.5179e-04 - mae: 0.0131\n",
            "Epoch 178/200\n",
            "67/67 [==============================] - 2s 29ms/step - loss: 1.6537e-04 - mae: 0.0133\n",
            "Epoch 179/200\n",
            "67/67 [==============================] - 2s 29ms/step - loss: 1.1732e-04 - mae: 0.0114\n",
            "Epoch 180/200\n",
            "67/67 [==============================] - 2s 29ms/step - loss: 1.5546e-04 - mae: 0.0132\n",
            "Epoch 181/200\n",
            "67/67 [==============================] - 2s 28ms/step - loss: 9.9545e-05 - mae: 0.0102\n",
            "Epoch 182/200\n",
            "67/67 [==============================] - 2s 29ms/step - loss: 9.9831e-05 - mae: 0.0100\n",
            "Epoch 183/200\n",
            "67/67 [==============================] - 2s 29ms/step - loss: 9.7960e-05 - mae: 0.0099\n",
            "Epoch 184/200\n",
            "67/67 [==============================] - 2s 29ms/step - loss: 1.1930e-04 - mae: 0.0116\n",
            "Epoch 185/200\n",
            "67/67 [==============================] - 2s 30ms/step - loss: 1.4081e-04 - mae: 0.0126\n",
            "Epoch 186/200\n",
            "67/67 [==============================] - 2s 30ms/step - loss: 1.2233e-04 - mae: 0.0117\n",
            "Epoch 187/200\n",
            "67/67 [==============================] - 2s 30ms/step - loss: 1.2859e-04 - mae: 0.0121\n",
            "Epoch 188/200\n",
            "67/67 [==============================] - 2s 30ms/step - loss: 9.0680e-05 - mae: 0.0094\n",
            "Epoch 189/200\n",
            "67/67 [==============================] - 2s 29ms/step - loss: 1.0812e-04 - mae: 0.0108\n",
            "Epoch 190/200\n",
            "67/67 [==============================] - 2s 30ms/step - loss: 8.9088e-05 - mae: 0.0092\n",
            "Epoch 191/200\n",
            "67/67 [==============================] - 2s 29ms/step - loss: 1.0621e-04 - mae: 0.0104\n",
            "Epoch 192/200\n",
            "67/67 [==============================] - 2s 30ms/step - loss: 1.3334e-04 - mae: 0.0121\n",
            "Epoch 193/200\n",
            "67/67 [==============================] - 2s 29ms/step - loss: 1.1330e-04 - mae: 0.0111\n",
            "Epoch 194/200\n",
            "67/67 [==============================] - 2s 29ms/step - loss: 1.6523e-04 - mae: 0.0134\n",
            "Epoch 195/200\n",
            "67/67 [==============================] - 2s 29ms/step - loss: 1.3489e-04 - mae: 0.0121\n",
            "Epoch 196/200\n",
            "67/67 [==============================] - 2s 30ms/step - loss: 1.3907e-04 - mae: 0.0124\n",
            "Epoch 197/200\n",
            "67/67 [==============================] - 2s 30ms/step - loss: 1.0893e-04 - mae: 0.0106\n",
            "Epoch 198/200\n",
            "67/67 [==============================] - 2s 30ms/step - loss: 1.2529e-04 - mae: 0.0117\n",
            "Epoch 199/200\n",
            "67/67 [==============================] - 2s 30ms/step - loss: 9.3563e-05 - mae: 0.0096\n",
            "Epoch 200/200\n",
            "67/67 [==============================] - 2s 29ms/step - loss: 1.1351e-04 - mae: 0.0111\n"
          ]
        },
        {
          "output_type": "execute_result",
          "data": {
            "text/plain": [
              "<keras.callbacks.History at 0x7f31ea1fa5d0>"
            ]
          },
          "metadata": {},
          "execution_count": 42
        }
      ]
    },
    {
      "cell_type": "code",
      "source": [
        "# lstm.load_weights(lstm_checkpoint_filepath)"
      ],
      "metadata": {
        "id": "2ZX_twjNlrqA"
      },
      "execution_count": 43,
      "outputs": []
    },
    {
      "cell_type": "code",
      "source": [
        "print(lstm.summary())"
      ],
      "metadata": {
        "colab": {
          "base_uri": "https://localhost:8080/"
        },
        "id": "CUVX9mrUwRc_",
        "outputId": "d7c550c9-f064-4db7-f9b6-821873b64ff8"
      },
      "execution_count": 44,
      "outputs": [
        {
          "output_type": "stream",
          "name": "stdout",
          "text": [
            "Model: \"sequential_1\"\n",
            "_________________________________________________________________\n",
            " Layer (type)                Output Shape              Param #   \n",
            "=================================================================\n",
            " lstm_1 (LSTM)               (None, 200)               161600    \n",
            "                                                                 \n",
            " dense_3 (Dense)             (None, 30)                6030      \n",
            "                                                                 \n",
            " dense_4 (Dense)             (None, 15)                465       \n",
            "                                                                 \n",
            " dense_5 (Dense)             (None, 1)                 16        \n",
            "                                                                 \n",
            "=================================================================\n",
            "Total params: 168,111\n",
            "Trainable params: 168,111\n",
            "Non-trainable params: 0\n",
            "_________________________________________________________________\n",
            "None\n"
          ]
        }
      ]
    },
    {
      "cell_type": "code",
      "source": [
        "# Compute the forecast for all the series\n",
        "lstm_forecast = model_forecast(lstm, series_norm, G.WINDOW_SIZE).squeeze()\n",
        "\n",
        "# Slice the forecast to get only the predictions for the validation set\n",
        "series_test_hat_lstm = lstm_forecast[-150:]\n",
        "series_test_hat_lstm = reverse_normalization(series_test_hat_lstm)\n",
        "\n",
        "# Plot the forecast\n",
        "plt.figure(figsize=(10, 6))\n",
        "plot_series(time_test, series_test)\n",
        "plot_series(time_test, series_test_hat_lstm)"
      ],
      "metadata": {
        "id": "usOQ3cl6_rPV",
        "outputId": "27e47f46-7b31-4a70-ec4f-0058a492ebd4",
        "colab": {
          "base_uri": "https://localhost:8080/",
          "height": 388
        }
      },
      "execution_count": 46,
      "outputs": [
        {
          "output_type": "display_data",
          "data": {
            "text/plain": [
              "<Figure size 720x432 with 1 Axes>"
            ],
            "image/png": "[encoded data removed]"
          },
          "metadata": {
            "needs_background": "light"
          }
        }
      ]
    },
    {
      "cell_type": "code",
      "source": [
        "mse_lstm, mae_lstm = compute_metrics(series_test, series_test_hat_lstm)\n",
        "\n",
        "print(f\"mse: {mse_lstm:.2f}, mae: {mae_lstm:.2f} for forecast\")"
      ],
      "metadata": {
        "id": "-U4UwUsf_Tp2",
        "outputId": "7230d361-b095-4d75-8bdc-71cad6de87f6",
        "colab": {
          "base_uri": "https://localhost:8080/"
        }
      },
      "execution_count": 47,
      "outputs": [
        {
          "output_type": "stream",
          "name": "stdout",
          "text": [
            "mse: 3516.02, mae: 48.71 for forecast\n"
          ]
        }
      ]
    },
    {
      "cell_type": "code",
      "source": [
        "# Save model\n",
        "lstm.save(\"/content/gdrive/MyDrive/Saved_models/lstm.h5\")"
      ],
      "metadata": {
        "id": "SjvYU_82luNw"
      },
      "execution_count": 45,
      "outputs": []
    },
    {
      "cell_type": "markdown",
      "source": [
        "### CNN-LSTM"
      ],
      "metadata": {
        "id": "EgSv9-FX_UEA"
      }
    },
    {
      "cell_type": "code",
      "source": [
        "def build_CNN_LSTM(hp):\n",
        "   \n",
        "    model = tf.keras.models.Sequential([\n",
        "          tf.keras.layers.Conv1D(filters=hp.Int('Conv_units', 256, 1024, 256), kernel_size=2,\n",
        "                                 strides=1,\n",
        "                                 activation=\"relu\",\n",
        "                                 padding='causal',\n",
        "                                 input_shape=[G.WINDOW_SIZE, 1]),\n",
        "          tf.keras.layers.MaxPooling1D(pool_size=2, strides=1, padding=\"same\"),\n",
        "          tf.keras.layers.LSTM(hp.Int('lstm_units', 100, 300, 50)),\n",
        "          tf.keras.layers.Dense(hp.Int('dense1_units', 20, 50, step = 10), activation=\"relu\"),\n",
        "          tf.keras.layers.Dense(hp.Int('dense2_units', 5, 20, step = 5), activation=\"relu\"),\n",
        "          tf.keras.layers.Dense(1)\n",
        "    ])\n",
        "    learning_rate = hp.Float(\"lr\", min_value=1e-4, max_value=1e-2, sampling=\"log\")\n",
        "    model.compile(\n",
        "        optimizer=tf.keras.optimizers.Adam(learning_rate=learning_rate),\n",
        "        loss=tf.keras.losses.Huber(),\n",
        "        metrics=[\"mae\"])\n",
        "\n",
        "    return model"
      ],
      "metadata": {
        "id": "Amka1E2csj3H"
      },
      "execution_count": 28,
      "outputs": []
    },
    {
      "cell_type": "code",
      "source": [
        "build_CNN_LSTM(keras_tuner.HyperParameters())\n",
        "\n",
        "tuner_cnn_lstm = keras_tuner.Hyperband(\n",
        "    hypermodel=build_CNN_LSTM,\n",
        "    objective=\"val_mae\",\n",
        "    max_epochs=50,\n",
        "    factor=3,\n",
        "    hyperband_iterations=1,\n",
        "    distribution_strategy=strategy,\n",
        "    seed = 1,\n",
        "    directory='/content/gdrive/MyDrive/Tuner',\n",
        "    project_name=\"cnn-lstm\",\n",
        "    overwrite=True)\n",
        "\n",
        "\n",
        "tuner_cnn_lstm.search(train_set, epochs=50, validation_data=val_set, callbacks=[stop_early])\n",
        "\n",
        "tuner_cnn_lstm.results_summary()\n",
        "\n",
        "# Get the top 5 hyperparameters.\n",
        "best_hps_cnn_lstm = tuner_cnn_lstm.get_best_hyperparameters(5)"
      ],
      "metadata": {
        "id": "A1PtMSsr-vSO",
        "outputId": "1f7a801c-cd01-434b-efc2-7be8077ae62e",
        "colab": {
          "base_uri": "https://localhost:8080/"
        }
      },
      "execution_count": 31,
      "outputs": [
        {
          "output_type": "stream",
          "name": "stdout",
          "text": [
            "Trial 90 Complete [00h 02m 19s]\n",
            "val_mae: 0.01555017288774252\n",
            "\n",
            "Best val_mae So Far: 0.014640899375081062\n",
            "Total elapsed time: 01h 05m 20s\n",
            "Results summary\n",
            "Results in /content/gdrive/MyDrive/Tuner/cnn-lstm\n",
            "Showing 10 best trials\n",
            "<keras_tuner.engine.objective.Objective object at 0x7f98580630d0>\n",
            "Trial summary\n",
            "Hyperparameters:\n",
            "Conv_units: 256\n",
            "lstm_units: 200\n",
            "dense1_units: 30\n",
            "dense2_units: 10\n",
            "lr: 0.0015681643294594688\n",
            "tuner/epochs: 50\n",
            "tuner/initial_epoch: 0\n",
            "tuner/bracket: 0\n",
            "tuner/round: 0\n",
            "Score: 0.014640899375081062\n",
            "Trial summary\n",
            "Hyperparameters:\n",
            "Conv_units: 512\n",
            "lstm_units: 250\n",
            "dense1_units: 30\n",
            "dense2_units: 5\n",
            "lr: 0.0012650614556534965\n",
            "tuner/epochs: 50\n",
            "tuner/initial_epoch: 0\n",
            "tuner/bracket: 0\n",
            "tuner/round: 0\n",
            "Score: 0.01555017288774252\n",
            "Trial summary\n",
            "Hyperparameters:\n",
            "Conv_units: 768\n",
            "lstm_units: 250\n",
            "dense1_units: 20\n",
            "dense2_units: 15\n",
            "lr: 0.0011971901340926848\n",
            "tuner/epochs: 17\n",
            "tuner/initial_epoch: 6\n",
            "tuner/bracket: 3\n",
            "tuner/round: 2\n",
            "tuner/trial_id: 0040\n",
            "Score: 0.01649758405983448\n",
            "Trial summary\n",
            "Hyperparameters:\n",
            "Conv_units: 256\n",
            "lstm_units: 300\n",
            "dense1_units: 50\n",
            "dense2_units: 20\n",
            "lr: 0.00019430304760198347\n",
            "tuner/epochs: 17\n",
            "tuner/initial_epoch: 6\n",
            "tuner/bracket: 2\n",
            "tuner/round: 1\n",
            "tuner/trial_id: 0053\n",
            "Score: 0.020638635382056236\n",
            "Trial summary\n",
            "Hyperparameters:\n",
            "Conv_units: 256\n",
            "lstm_units: 300\n",
            "dense1_units: 50\n",
            "dense2_units: 20\n",
            "lr: 0.00019430304760198347\n",
            "tuner/epochs: 50\n",
            "tuner/initial_epoch: 17\n",
            "tuner/bracket: 2\n",
            "tuner/round: 2\n",
            "tuner/trial_id: 0068\n",
            "Score: 0.021333985030651093\n",
            "Trial summary\n",
            "Hyperparameters:\n",
            "Conv_units: 512\n",
            "lstm_units: 200\n",
            "dense1_units: 50\n",
            "dense2_units: 20\n",
            "lr: 0.0012172862812975754\n",
            "tuner/epochs: 50\n",
            "tuner/initial_epoch: 0\n",
            "tuner/bracket: 0\n",
            "tuner/round: 0\n",
            "Score: 0.022760987281799316\n",
            "Trial summary\n",
            "Hyperparameters:\n",
            "Conv_units: 512\n",
            "lstm_units: 300\n",
            "dense1_units: 30\n",
            "dense2_units: 10\n",
            "lr: 0.0006752863927347823\n",
            "tuner/epochs: 6\n",
            "tuner/initial_epoch: 2\n",
            "tuner/bracket: 3\n",
            "tuner/round: 1\n",
            "tuner/trial_id: 0012\n",
            "Score: 0.022974740713834763\n",
            "Trial summary\n",
            "Hyperparameters:\n",
            "Conv_units: 512\n",
            "lstm_units: 300\n",
            "dense1_units: 30\n",
            "dense2_units: 10\n",
            "lr: 0.0006752863927347823\n",
            "tuner/epochs: 2\n",
            "tuner/initial_epoch: 0\n",
            "tuner/bracket: 3\n",
            "tuner/round: 0\n",
            "Score: 0.025530226528644562\n",
            "Trial summary\n",
            "Hyperparameters:\n",
            "Conv_units: 768\n",
            "lstm_units: 200\n",
            "dense1_units: 20\n",
            "dense2_units: 10\n",
            "lr: 0.00012337256785879854\n",
            "tuner/epochs: 6\n",
            "tuner/initial_epoch: 0\n",
            "tuner/bracket: 2\n",
            "tuner/round: 0\n",
            "Score: 0.02589135803282261\n",
            "Trial summary\n",
            "Hyperparameters:\n",
            "Conv_units: 768\n",
            "lstm_units: 300\n",
            "dense1_units: 50\n",
            "dense2_units: 10\n",
            "lr: 0.0014513514342725856\n",
            "tuner/epochs: 6\n",
            "tuner/initial_epoch: 2\n",
            "tuner/bracket: 3\n",
            "tuner/round: 1\n",
            "tuner/trial_id: 0030\n",
            "Score: 0.02693886123597622\n"
          ]
        }
      ]
    },
    {
      "cell_type": "code",
      "source": [
        "# Prepare check point\n",
        "# cnn_lstm_checkpoint_filepath = '/content/gdrive/MyDrive/model_checkpoint/cnn_lstm_checkpoint.hdf5'\n",
        "# model_checkpoint_callback_cnn_lstm = tf.keras.callbacks.ModelCheckpoint(\n",
        "#    filepath=cnn_lstm_checkpoint_filepath,\n",
        "#    save_weights_only=True,\n",
        "#    monitor='mae',\n",
        "#    mode='min',\n",
        "#    save_best_only=True)"
      ],
      "metadata": {
        "id": "uacMNu-2mRoy"
      },
      "execution_count": null,
      "outputs": []
    },
    {
      "cell_type": "code",
      "source": [
        "# Build the model with the best hp.\n",
        "with strategy.scope():\n",
        "  cnn_lstm = build_CNN_LSTM(best_hps_cnn_lstm[0])\n",
        "# Fit with the entire dataset.\n",
        "cnn_lstm.fit(train_val_set, epochs=200)"
      ],
      "metadata": {
        "colab": {
          "base_uri": "https://localhost:8080/"
        },
        "id": "TM5Zy7HdmTgU",
        "outputId": "69ea7893-be4f-4ef3-b72b-89508354c1fc"
      },
      "execution_count": 34,
      "outputs": [
        {
          "output_type": "stream",
          "name": "stdout",
          "text": [
            "Epoch 1/200\n",
            "67/67 [==============================] - 11s 74ms/step - loss: 0.0056 - mae: 0.0803\n",
            "Epoch 2/200\n",
            "67/67 [==============================] - 3s 49ms/step - loss: 0.0032 - mae: 0.0562\n",
            "Epoch 3/200\n",
            "67/67 [==============================] - 3s 49ms/step - loss: 0.0014 - mae: 0.0378\n",
            "Epoch 4/200\n",
            "67/67 [==============================] - 3s 48ms/step - loss: 9.9701e-04 - mae: 0.0306\n",
            "Epoch 5/200\n",
            "67/67 [==============================] - 3s 49ms/step - loss: 0.0010 - mae: 0.0360\n",
            "Epoch 6/200\n",
            "67/67 [==============================] - 3s 48ms/step - loss: 0.0013 - mae: 0.0422\n",
            "Epoch 7/200\n",
            "67/67 [==============================] - 3s 49ms/step - loss: 0.0014 - mae: 0.0424\n",
            "Epoch 8/200\n",
            "67/67 [==============================] - 3s 49ms/step - loss: 5.3257e-04 - mae: 0.0264\n",
            "Epoch 9/200\n",
            "67/67 [==============================] - 3s 49ms/step - loss: 3.4636e-04 - mae: 0.0201\n",
            "Epoch 10/200\n",
            "67/67 [==============================] - 3s 50ms/step - loss: 1.8975e-04 - mae: 0.0135\n",
            "Epoch 11/200\n",
            "67/67 [==============================] - 3s 49ms/step - loss: 1.5335e-04 - mae: 0.0123\n",
            "Epoch 12/200\n",
            "67/67 [==============================] - 3s 49ms/step - loss: 1.7880e-04 - mae: 0.0139\n",
            "Epoch 13/200\n",
            "67/67 [==============================] - 3s 49ms/step - loss: 1.9850e-04 - mae: 0.0151\n",
            "Epoch 14/200\n",
            "67/67 [==============================] - 3s 48ms/step - loss: 2.9314e-04 - mae: 0.0188\n",
            "Epoch 15/200\n",
            "67/67 [==============================] - 3s 48ms/step - loss: 4.1725e-04 - mae: 0.0234\n",
            "Epoch 16/200\n",
            "67/67 [==============================] - 3s 48ms/step - loss: 7.3490e-04 - mae: 0.0316\n",
            "Epoch 17/200\n",
            "67/67 [==============================] - 3s 49ms/step - loss: 9.2654e-04 - mae: 0.0355\n",
            "Epoch 18/200\n",
            "67/67 [==============================] - 3s 49ms/step - loss: 6.6071e-04 - mae: 0.0278\n",
            "Epoch 19/200\n",
            "67/67 [==============================] - 3s 48ms/step - loss: 2.1014e-04 - mae: 0.0158\n",
            "Epoch 20/200\n",
            "67/67 [==============================] - 3s 49ms/step - loss: 2.2192e-04 - mae: 0.0159\n",
            "Epoch 21/200\n",
            "67/67 [==============================] - 3s 49ms/step - loss: 1.2630e-04 - mae: 0.0113\n",
            "Epoch 22/200\n",
            "67/67 [==============================] - 3s 49ms/step - loss: 1.2354e-04 - mae: 0.0108\n",
            "Epoch 23/200\n",
            "67/67 [==============================] - 3s 49ms/step - loss: 1.5458e-04 - mae: 0.0125\n",
            "Epoch 24/200\n",
            "67/67 [==============================] - 3s 48ms/step - loss: 2.2331e-04 - mae: 0.0166\n",
            "Epoch 25/200\n",
            "67/67 [==============================] - 3s 49ms/step - loss: 3.1825e-04 - mae: 0.0201\n",
            "Epoch 26/200\n",
            "67/67 [==============================] - 3s 48ms/step - loss: 2.9469e-04 - mae: 0.0194\n",
            "Epoch 27/200\n",
            "67/67 [==============================] - 3s 49ms/step - loss: 3.9840e-04 - mae: 0.0231\n",
            "Epoch 28/200\n",
            "67/67 [==============================] - 3s 49ms/step - loss: 8.7323e-04 - mae: 0.0351\n",
            "Epoch 29/200\n",
            "67/67 [==============================] - 3s 49ms/step - loss: 0.0013 - mae: 0.0412\n",
            "Epoch 30/200\n",
            "67/67 [==============================] - 3s 49ms/step - loss: 0.0010 - mae: 0.0353\n",
            "Epoch 31/200\n",
            "67/67 [==============================] - 3s 49ms/step - loss: 3.1363e-04 - mae: 0.0188\n",
            "Epoch 32/200\n",
            "67/67 [==============================] - 3s 48ms/step - loss: 1.2122e-04 - mae: 0.0106\n",
            "Epoch 33/200\n",
            "67/67 [==============================] - 3s 49ms/step - loss: 1.2691e-04 - mae: 0.0112\n",
            "Epoch 34/200\n",
            "67/67 [==============================] - 3s 49ms/step - loss: 1.4989e-04 - mae: 0.0129\n",
            "Epoch 35/200\n",
            "67/67 [==============================] - 3s 48ms/step - loss: 1.5372e-04 - mae: 0.0128\n",
            "Epoch 36/200\n",
            "67/67 [==============================] - 3s 49ms/step - loss: 1.5497e-04 - mae: 0.0134\n",
            "Epoch 37/200\n",
            "67/67 [==============================] - 3s 49ms/step - loss: 1.2418e-04 - mae: 0.0111\n",
            "Epoch 38/200\n",
            "67/67 [==============================] - 3s 48ms/step - loss: 1.1531e-04 - mae: 0.0106\n",
            "Epoch 39/200\n",
            "67/67 [==============================] - 3s 49ms/step - loss: 1.1756e-04 - mae: 0.0110\n",
            "Epoch 40/200\n",
            "67/67 [==============================] - 3s 48ms/step - loss: 1.3706e-04 - mae: 0.0126\n",
            "Epoch 41/200\n",
            "67/67 [==============================] - 3s 49ms/step - loss: 1.8137e-04 - mae: 0.0141\n",
            "Epoch 42/200\n",
            "67/67 [==============================] - 3s 50ms/step - loss: 4.4177e-04 - mae: 0.0236\n",
            "Epoch 43/200\n",
            "67/67 [==============================] - 3s 48ms/step - loss: 0.0011 - mae: 0.0370\n",
            "Epoch 44/200\n",
            "67/67 [==============================] - 3s 49ms/step - loss: 0.0013 - mae: 0.0375\n",
            "Epoch 45/200\n",
            "67/67 [==============================] - 3s 49ms/step - loss: 7.1750e-04 - mae: 0.0284\n",
            "Epoch 46/200\n",
            "67/67 [==============================] - 3s 49ms/step - loss: 2.5600e-04 - mae: 0.0174\n",
            "Epoch 47/200\n",
            "67/67 [==============================] - 3s 49ms/step - loss: 1.4799e-04 - mae: 0.0121\n",
            "Epoch 48/200\n",
            "67/67 [==============================] - 3s 48ms/step - loss: 1.7979e-04 - mae: 0.0138\n",
            "Epoch 49/200\n",
            "67/67 [==============================] - 3s 48ms/step - loss: 1.4136e-04 - mae: 0.0123\n",
            "Epoch 50/200\n",
            "67/67 [==============================] - 3s 48ms/step - loss: 1.2053e-04 - mae: 0.0111\n",
            "Epoch 51/200\n",
            "67/67 [==============================] - 3s 49ms/step - loss: 1.5093e-04 - mae: 0.0130\n",
            "Epoch 52/200\n",
            "67/67 [==============================] - 3s 49ms/step - loss: 1.3563e-04 - mae: 0.0120\n",
            "Epoch 53/200\n",
            "67/67 [==============================] - 3s 49ms/step - loss: 1.4485e-04 - mae: 0.0124\n",
            "Epoch 54/200\n",
            "67/67 [==============================] - 3s 49ms/step - loss: 1.2640e-04 - mae: 0.0114\n",
            "Epoch 55/200\n",
            "67/67 [==============================] - 3s 49ms/step - loss: 1.6446e-04 - mae: 0.0135\n",
            "Epoch 56/200\n",
            "67/67 [==============================] - 3s 51ms/step - loss: 2.0163e-04 - mae: 0.0154\n",
            "Epoch 57/200\n",
            "67/67 [==============================] - 3s 50ms/step - loss: 2.3171e-04 - mae: 0.0166\n",
            "Epoch 58/200\n",
            "67/67 [==============================] - 3s 49ms/step - loss: 3.4787e-04 - mae: 0.0210\n",
            "Epoch 59/200\n",
            "67/67 [==============================] - 3s 48ms/step - loss: 4.5312e-04 - mae: 0.0236\n",
            "Epoch 60/200\n",
            "67/67 [==============================] - 3s 49ms/step - loss: 4.3474e-04 - mae: 0.0202\n",
            "Epoch 61/200\n",
            "67/67 [==============================] - 3s 49ms/step - loss: 1.7547e-04 - mae: 0.0140\n",
            "Epoch 62/200\n",
            "67/67 [==============================] - 3s 50ms/step - loss: 1.4351e-04 - mae: 0.0125\n",
            "Epoch 63/200\n",
            "67/67 [==============================] - 3s 49ms/step - loss: 1.3399e-04 - mae: 0.0119\n",
            "Epoch 64/200\n",
            "67/67 [==============================] - 3s 49ms/step - loss: 2.4296e-04 - mae: 0.0170\n",
            "Epoch 65/200\n",
            "67/67 [==============================] - 3s 49ms/step - loss: 3.2121e-04 - mae: 0.0199\n",
            "Epoch 66/200\n",
            "67/67 [==============================] - 3s 49ms/step - loss: 4.5434e-04 - mae: 0.0226\n",
            "Epoch 67/200\n",
            "67/67 [==============================] - 3s 48ms/step - loss: 3.0911e-04 - mae: 0.0175\n",
            "Epoch 68/200\n",
            "67/67 [==============================] - 3s 49ms/step - loss: 3.0716e-04 - mae: 0.0191\n",
            "Epoch 69/200\n",
            "67/67 [==============================] - 3s 49ms/step - loss: 6.8968e-04 - mae: 0.0310\n",
            "Epoch 70/200\n",
            "67/67 [==============================] - 3s 49ms/step - loss: 7.9681e-04 - mae: 0.0263\n",
            "Epoch 71/200\n",
            "67/67 [==============================] - 3s 49ms/step - loss: 2.0597e-04 - mae: 0.0154\n",
            "Epoch 72/200\n",
            "67/67 [==============================] - 3s 49ms/step - loss: 1.2733e-04 - mae: 0.0115\n",
            "Epoch 73/200\n",
            "67/67 [==============================] - 3s 49ms/step - loss: 1.8618e-04 - mae: 0.0151\n",
            "Epoch 74/200\n",
            "67/67 [==============================] - 3s 49ms/step - loss: 1.9400e-04 - mae: 0.0148\n",
            "Epoch 75/200\n",
            "67/67 [==============================] - 3s 49ms/step - loss: 1.2147e-04 - mae: 0.0112\n",
            "Epoch 76/200\n",
            "67/67 [==============================] - 3s 49ms/step - loss: 1.0957e-04 - mae: 0.0102\n",
            "Epoch 77/200\n",
            "67/67 [==============================] - 3s 49ms/step - loss: 1.1563e-04 - mae: 0.0109\n",
            "Epoch 78/200\n",
            "67/67 [==============================] - 3s 49ms/step - loss: 1.6254e-04 - mae: 0.0137\n",
            "Epoch 79/200\n",
            "67/67 [==============================] - 3s 49ms/step - loss: 1.4696e-04 - mae: 0.0131\n",
            "Epoch 80/200\n",
            "67/67 [==============================] - 3s 49ms/step - loss: 1.9683e-04 - mae: 0.0157\n",
            "Epoch 81/200\n",
            "67/67 [==============================] - 3s 49ms/step - loss: 3.1508e-04 - mae: 0.0194\n",
            "Epoch 82/200\n",
            "67/67 [==============================] - 3s 49ms/step - loss: 2.2471e-04 - mae: 0.0163\n",
            "Epoch 83/200\n",
            "67/67 [==============================] - 3s 49ms/step - loss: 1.3688e-04 - mae: 0.0123\n",
            "Epoch 84/200\n",
            "67/67 [==============================] - 3s 49ms/step - loss: 2.0022e-04 - mae: 0.0152\n",
            "Epoch 85/200\n",
            "67/67 [==============================] - 3s 49ms/step - loss: 2.4496e-04 - mae: 0.0171\n",
            "Epoch 86/200\n",
            "67/67 [==============================] - 3s 50ms/step - loss: 2.0935e-04 - mae: 0.0156\n",
            "Epoch 87/200\n",
            "67/67 [==============================] - 3s 49ms/step - loss: 1.5310e-04 - mae: 0.0130\n",
            "Epoch 88/200\n",
            "67/67 [==============================] - 3s 49ms/step - loss: 1.4930e-04 - mae: 0.0128\n",
            "Epoch 89/200\n",
            "67/67 [==============================] - 3s 49ms/step - loss: 1.2973e-04 - mae: 0.0120\n",
            "Epoch 90/200\n",
            "67/67 [==============================] - 3s 49ms/step - loss: 1.7187e-04 - mae: 0.0141\n",
            "Epoch 91/200\n",
            "67/67 [==============================] - 3s 49ms/step - loss: 1.8627e-04 - mae: 0.0145\n",
            "Epoch 92/200\n",
            "67/67 [==============================] - 3s 49ms/step - loss: 2.0230e-04 - mae: 0.0155\n",
            "Epoch 93/200\n",
            "67/67 [==============================] - 3s 49ms/step - loss: 3.4387e-04 - mae: 0.0207\n",
            "Epoch 94/200\n",
            "67/67 [==============================] - 3s 48ms/step - loss: 4.2406e-04 - mae: 0.0224\n",
            "Epoch 95/200\n",
            "67/67 [==============================] - 3s 49ms/step - loss: 2.8175e-04 - mae: 0.0178\n",
            "Epoch 96/200\n",
            "67/67 [==============================] - 3s 49ms/step - loss: 2.4911e-04 - mae: 0.0173\n",
            "Epoch 97/200\n",
            "67/67 [==============================] - 3s 49ms/step - loss: 3.3804e-04 - mae: 0.0203\n",
            "Epoch 98/200\n",
            "67/67 [==============================] - 3s 49ms/step - loss: 2.8913e-04 - mae: 0.0181\n",
            "Epoch 99/200\n",
            "67/67 [==============================] - 3s 49ms/step - loss: 2.5503e-04 - mae: 0.0167\n",
            "Epoch 100/200\n",
            "67/67 [==============================] - 3s 49ms/step - loss: 1.6337e-04 - mae: 0.0133\n",
            "Epoch 101/200\n",
            "67/67 [==============================] - 3s 49ms/step - loss: 1.2785e-04 - mae: 0.0119\n",
            "Epoch 102/200\n",
            "67/67 [==============================] - 3s 49ms/step - loss: 1.7917e-04 - mae: 0.0137\n",
            "Epoch 103/200\n",
            "67/67 [==============================] - 3s 49ms/step - loss: 2.1118e-04 - mae: 0.0157\n",
            "Epoch 104/200\n",
            "67/67 [==============================] - 3s 49ms/step - loss: 2.8063e-04 - mae: 0.0178\n",
            "Epoch 105/200\n",
            "67/67 [==============================] - 3s 48ms/step - loss: 2.0534e-04 - mae: 0.0151\n",
            "Epoch 106/200\n",
            "67/67 [==============================] - 3s 49ms/step - loss: 1.9860e-04 - mae: 0.0148\n",
            "Epoch 107/200\n",
            "67/67 [==============================] - 3s 49ms/step - loss: 2.5003e-04 - mae: 0.0166\n",
            "Epoch 108/200\n",
            "67/67 [==============================] - 3s 49ms/step - loss: 1.5096e-04 - mae: 0.0128\n",
            "Epoch 109/200\n",
            "67/67 [==============================] - 3s 49ms/step - loss: 1.2913e-04 - mae: 0.0117\n",
            "Epoch 110/200\n",
            "67/67 [==============================] - 3s 49ms/step - loss: 1.0639e-04 - mae: 0.0104\n",
            "Epoch 111/200\n",
            "67/67 [==============================] - 3s 49ms/step - loss: 1.0999e-04 - mae: 0.0105\n",
            "Epoch 112/200\n",
            "67/67 [==============================] - 3s 49ms/step - loss: 1.3821e-04 - mae: 0.0120\n",
            "Epoch 113/200\n",
            "67/67 [==============================] - 3s 49ms/step - loss: 1.6754e-04 - mae: 0.0140\n",
            "Epoch 114/200\n",
            "67/67 [==============================] - 3s 49ms/step - loss: 1.8503e-04 - mae: 0.0150\n",
            "Epoch 115/200\n",
            "67/67 [==============================] - 3s 49ms/step - loss: 2.3488e-04 - mae: 0.0164\n",
            "Epoch 116/200\n",
            "67/67 [==============================] - 3s 49ms/step - loss: 2.0805e-04 - mae: 0.0154\n",
            "Epoch 117/200\n",
            "67/67 [==============================] - 3s 49ms/step - loss: 2.4792e-04 - mae: 0.0167\n",
            "Epoch 118/200\n",
            "67/67 [==============================] - 3s 49ms/step - loss: 2.8691e-04 - mae: 0.0187\n",
            "Epoch 119/200\n",
            "67/67 [==============================] - 3s 49ms/step - loss: 3.2805e-04 - mae: 0.0183\n",
            "Epoch 120/200\n",
            "67/67 [==============================] - 3s 49ms/step - loss: 1.8057e-04 - mae: 0.0142\n",
            "Epoch 121/200\n",
            "67/67 [==============================] - 3s 48ms/step - loss: 2.2397e-04 - mae: 0.0163\n",
            "Epoch 122/200\n",
            "67/67 [==============================] - 3s 48ms/step - loss: 2.1062e-04 - mae: 0.0158\n",
            "Epoch 123/200\n",
            "67/67 [==============================] - 3s 48ms/step - loss: 1.9520e-04 - mae: 0.0144\n",
            "Epoch 124/200\n",
            "67/67 [==============================] - 3s 49ms/step - loss: 1.2530e-04 - mae: 0.0115\n",
            "Epoch 125/200\n",
            "67/67 [==============================] - 3s 49ms/step - loss: 1.2371e-04 - mae: 0.0115\n",
            "Epoch 126/200\n",
            "67/67 [==============================] - 3s 49ms/step - loss: 1.1366e-04 - mae: 0.0107\n",
            "Epoch 127/200\n",
            "67/67 [==============================] - 3s 49ms/step - loss: 1.0517e-04 - mae: 0.0105\n",
            "Epoch 128/200\n",
            "67/67 [==============================] - 3s 48ms/step - loss: 1.0560e-04 - mae: 0.0102\n",
            "Epoch 129/200\n",
            "67/67 [==============================] - 3s 49ms/step - loss: 1.2369e-04 - mae: 0.0109\n",
            "Epoch 130/200\n",
            "67/67 [==============================] - 3s 48ms/step - loss: 1.3966e-04 - mae: 0.0122\n",
            "Epoch 131/200\n",
            "67/67 [==============================] - 3s 49ms/step - loss: 1.6148e-04 - mae: 0.0134\n",
            "Epoch 132/200\n",
            "67/67 [==============================] - 3s 48ms/step - loss: 1.8923e-04 - mae: 0.0146\n",
            "Epoch 133/200\n",
            "67/67 [==============================] - 3s 48ms/step - loss: 1.8416e-04 - mae: 0.0141\n",
            "Epoch 134/200\n",
            "67/67 [==============================] - 3s 49ms/step - loss: 2.2641e-04 - mae: 0.0168\n",
            "Epoch 135/200\n",
            "67/67 [==============================] - 3s 49ms/step - loss: 3.7693e-04 - mae: 0.0208\n",
            "Epoch 136/200\n",
            "67/67 [==============================] - 3s 49ms/step - loss: 3.1745e-04 - mae: 0.0178\n",
            "Epoch 137/200\n",
            "67/67 [==============================] - 3s 50ms/step - loss: 1.8145e-04 - mae: 0.0141\n",
            "Epoch 138/200\n",
            "67/67 [==============================] - 3s 50ms/step - loss: 1.2033e-04 - mae: 0.0110\n",
            "Epoch 139/200\n",
            "67/67 [==============================] - 3s 49ms/step - loss: 1.3768e-04 - mae: 0.0114\n",
            "Epoch 140/200\n",
            "67/67 [==============================] - 3s 49ms/step - loss: 1.3308e-04 - mae: 0.0123\n",
            "Epoch 141/200\n",
            "67/67 [==============================] - 3s 48ms/step - loss: 1.4142e-04 - mae: 0.0123\n",
            "Epoch 142/200\n",
            "67/67 [==============================] - 3s 49ms/step - loss: 1.2911e-04 - mae: 0.0118\n",
            "Epoch 143/200\n",
            "67/67 [==============================] - 3s 49ms/step - loss: 1.7895e-04 - mae: 0.0129\n",
            "Epoch 144/200\n",
            "67/67 [==============================] - 3s 49ms/step - loss: 1.6040e-04 - mae: 0.0140\n",
            "Epoch 145/200\n",
            "67/67 [==============================] - 3s 48ms/step - loss: 2.5437e-04 - mae: 0.0165\n",
            "Epoch 146/200\n",
            "67/67 [==============================] - 3s 49ms/step - loss: 1.3710e-04 - mae: 0.0122\n",
            "Epoch 147/200\n",
            "67/67 [==============================] - 3s 49ms/step - loss: 1.3618e-04 - mae: 0.0120\n",
            "Epoch 148/200\n",
            "67/67 [==============================] - 3s 49ms/step - loss: 1.6581e-04 - mae: 0.0138\n",
            "Epoch 149/200\n",
            "67/67 [==============================] - 3s 48ms/step - loss: 2.1685e-04 - mae: 0.0157\n",
            "Epoch 150/200\n",
            "67/67 [==============================] - 3s 49ms/step - loss: 1.9039e-04 - mae: 0.0149\n",
            "Epoch 151/200\n",
            "67/67 [==============================] - 3s 49ms/step - loss: 2.1451e-04 - mae: 0.0160\n",
            "Epoch 152/200\n",
            "67/67 [==============================] - 3s 49ms/step - loss: 3.2477e-04 - mae: 0.0187\n",
            "Epoch 153/200\n",
            "67/67 [==============================] - 3s 49ms/step - loss: 1.9956e-04 - mae: 0.0150\n",
            "Epoch 154/200\n",
            "67/67 [==============================] - 3s 48ms/step - loss: 1.6184e-04 - mae: 0.0134\n",
            "Epoch 155/200\n",
            "67/67 [==============================] - 3s 48ms/step - loss: 1.5568e-04 - mae: 0.0131\n",
            "Epoch 156/200\n",
            "67/67 [==============================] - 3s 48ms/step - loss: 1.7217e-04 - mae: 0.0136\n",
            "Epoch 157/200\n",
            "67/67 [==============================] - 3s 49ms/step - loss: 1.1456e-04 - mae: 0.0108\n",
            "Epoch 158/200\n",
            "67/67 [==============================] - 3s 49ms/step - loss: 1.1611e-04 - mae: 0.0112\n",
            "Epoch 159/200\n",
            "67/67 [==============================] - 3s 49ms/step - loss: 1.1963e-04 - mae: 0.0110\n",
            "Epoch 160/200\n",
            "67/67 [==============================] - 3s 49ms/step - loss: 1.1027e-04 - mae: 0.0107\n",
            "Epoch 161/200\n",
            "67/67 [==============================] - 3s 49ms/step - loss: 1.0493e-04 - mae: 0.0104\n",
            "Epoch 162/200\n",
            "67/67 [==============================] - 3s 49ms/step - loss: 1.1988e-04 - mae: 0.0110\n",
            "Epoch 163/200\n",
            "67/67 [==============================] - 3s 49ms/step - loss: 1.3884e-04 - mae: 0.0122\n",
            "Epoch 164/200\n",
            "67/67 [==============================] - 3s 49ms/step - loss: 2.6520e-04 - mae: 0.0176\n",
            "Epoch 165/200\n",
            "67/67 [==============================] - 3s 49ms/step - loss: 3.0727e-04 - mae: 0.0179\n",
            "Epoch 166/200\n",
            "67/67 [==============================] - 3s 49ms/step - loss: 1.7651e-04 - mae: 0.0141\n",
            "Epoch 167/200\n",
            "67/67 [==============================] - 3s 49ms/step - loss: 1.4685e-04 - mae: 0.0128\n",
            "Epoch 168/200\n",
            "67/67 [==============================] - 3s 49ms/step - loss: 1.4277e-04 - mae: 0.0122\n",
            "Epoch 169/200\n",
            "67/67 [==============================] - 3s 49ms/step - loss: 1.3361e-04 - mae: 0.0121\n",
            "Epoch 170/200\n",
            "67/67 [==============================] - 3s 50ms/step - loss: 1.2690e-04 - mae: 0.0118\n",
            "Epoch 171/200\n",
            "67/67 [==============================] - 3s 49ms/step - loss: 1.4156e-04 - mae: 0.0124\n",
            "Epoch 172/200\n",
            "67/67 [==============================] - 3s 49ms/step - loss: 1.8076e-04 - mae: 0.0143\n",
            "Epoch 173/200\n",
            "67/67 [==============================] - 3s 50ms/step - loss: 2.6867e-04 - mae: 0.0176\n",
            "Epoch 174/200\n",
            "67/67 [==============================] - 3s 49ms/step - loss: 2.9805e-04 - mae: 0.0183\n",
            "Epoch 175/200\n",
            "67/67 [==============================] - 3s 49ms/step - loss: 1.9081e-04 - mae: 0.0144\n",
            "Epoch 176/200\n",
            "67/67 [==============================] - 3s 49ms/step - loss: 1.1296e-04 - mae: 0.0108\n",
            "Epoch 177/200\n",
            "67/67 [==============================] - 3s 49ms/step - loss: 1.1784e-04 - mae: 0.0110\n",
            "Epoch 178/200\n",
            "67/67 [==============================] - 3s 49ms/step - loss: 1.2764e-04 - mae: 0.0113\n",
            "Epoch 179/200\n",
            "67/67 [==============================] - 3s 49ms/step - loss: 1.0747e-04 - mae: 0.0105\n",
            "Epoch 180/200\n",
            "67/67 [==============================] - 3s 49ms/step - loss: 1.0604e-04 - mae: 0.0104\n",
            "Epoch 181/200\n",
            "67/67 [==============================] - 3s 50ms/step - loss: 1.1602e-04 - mae: 0.0105\n",
            "Epoch 182/200\n",
            "67/67 [==============================] - 3s 49ms/step - loss: 1.3202e-04 - mae: 0.0117\n",
            "Epoch 183/200\n",
            "67/67 [==============================] - 3s 49ms/step - loss: 1.8679e-04 - mae: 0.0142\n",
            "Epoch 184/200\n",
            "67/67 [==============================] - 3s 49ms/step - loss: 1.9417e-04 - mae: 0.0144\n",
            "Epoch 185/200\n",
            "67/67 [==============================] - 3s 49ms/step - loss: 2.0646e-04 - mae: 0.0154\n",
            "Epoch 186/200\n",
            "67/67 [==============================] - 3s 49ms/step - loss: 1.0963e-04 - mae: 0.0108\n",
            "Epoch 187/200\n",
            "67/67 [==============================] - 3s 49ms/step - loss: 1.2870e-04 - mae: 0.0117\n",
            "Epoch 188/200\n",
            "67/67 [==============================] - 3s 49ms/step - loss: 9.8315e-05 - mae: 0.0101\n",
            "Epoch 189/200\n",
            "67/67 [==============================] - 3s 49ms/step - loss: 1.1442e-04 - mae: 0.0111\n",
            "Epoch 190/200\n",
            "67/67 [==============================] - 3s 50ms/step - loss: 1.0791e-04 - mae: 0.0103\n",
            "Epoch 191/200\n",
            "67/67 [==============================] - 3s 50ms/step - loss: 1.2979e-04 - mae: 0.0120\n",
            "Epoch 192/200\n",
            "67/67 [==============================] - 3s 49ms/step - loss: 1.3955e-04 - mae: 0.0126\n",
            "Epoch 193/200\n",
            "67/67 [==============================] - 3s 49ms/step - loss: 2.6390e-04 - mae: 0.0173\n",
            "Epoch 194/200\n",
            "67/67 [==============================] - 3s 49ms/step - loss: 3.7645e-04 - mae: 0.0209\n",
            "Epoch 195/200\n",
            "67/67 [==============================] - 3s 49ms/step - loss: 3.3112e-04 - mae: 0.0196\n",
            "Epoch 196/200\n",
            "67/67 [==============================] - 3s 49ms/step - loss: 3.7331e-04 - mae: 0.0194\n",
            "Epoch 197/200\n",
            "67/67 [==============================] - 3s 49ms/step - loss: 1.2992e-04 - mae: 0.0118\n",
            "Epoch 198/200\n",
            "67/67 [==============================] - 3s 50ms/step - loss: 1.2104e-04 - mae: 0.0110\n",
            "Epoch 199/200\n",
            "67/67 [==============================] - 3s 49ms/step - loss: 1.5596e-04 - mae: 0.0128\n",
            "Epoch 200/200\n",
            "67/67 [==============================] - 3s 49ms/step - loss: 1.2482e-04 - mae: 0.0116\n"
          ]
        },
        {
          "output_type": "execute_result",
          "data": {
            "text/plain": [
              "<keras.callbacks.History at 0x7f985561fdd0>"
            ]
          },
          "metadata": {},
          "execution_count": 34
        }
      ]
    },
    {
      "cell_type": "code",
      "source": [
        "# cnn_lstm.load_weights(cnn_lstm_checkpoint_filepath)"
      ],
      "metadata": {
        "id": "MuWy21XrmU8K"
      },
      "execution_count": null,
      "outputs": []
    },
    {
      "cell_type": "code",
      "source": [
        "print(cnn_lstm.summary())"
      ],
      "metadata": {
        "colab": {
          "base_uri": "https://localhost:8080/"
        },
        "id": "JRRKJ2VswVHY",
        "outputId": "fea55f4a-2023-418a-c5f8-ae007c5e91dd"
      },
      "execution_count": 35,
      "outputs": [
        {
          "output_type": "stream",
          "name": "stdout",
          "text": [
            "Model: \"sequential_1\"\n",
            "_________________________________________________________________\n",
            " Layer (type)                Output Shape              Param #   \n",
            "=================================================================\n",
            " conv1d_1 (Conv1D)           (None, 250, 256)          768       \n",
            "                                                                 \n",
            " max_pooling1d_1 (MaxPooling  (None, 250, 256)         0         \n",
            " 1D)                                                             \n",
            "                                                                 \n",
            " lstm_1 (LSTM)               (None, 200)               365600    \n",
            "                                                                 \n",
            " dense_3 (Dense)             (None, 30)                6030      \n",
            "                                                                 \n",
            " dense_4 (Dense)             (None, 10)                310       \n",
            "                                                                 \n",
            " dense_5 (Dense)             (None, 1)                 11        \n",
            "                                                                 \n",
            "=================================================================\n",
            "Total params: 372,719\n",
            "Trainable params: 372,719\n",
            "Non-trainable params: 0\n",
            "_________________________________________________________________\n",
            "None\n"
          ]
        }
      ]
    },
    {
      "cell_type": "code",
      "source": [
        "# Compute the forecast for all the series\n",
        "cnn_lstm_forecast = model_forecast(cnn_lstm, series_norm, G.WINDOW_SIZE).squeeze()\n",
        "\n",
        "# Slice the forecast to get only the predictions for the validation set\n",
        "series_test_hat_cnn_lstm = cnn_lstm_forecast[-150:]\n",
        "series_test_hat_cnn_lstm = reverse_normalization(series_test_hat_cnn_lstm)\n",
        "\n",
        "# Plot the forecast\n",
        "plt.figure(figsize=(10, 6))\n",
        "plot_series(time_test, series_test)\n",
        "plot_series(time_test, series_test_hat_cnn_lstm)"
      ],
      "metadata": {
        "id": "54nm9-qaAU9o",
        "outputId": "3f98235d-a3f1-4e4a-e96a-299d2efa7da2",
        "colab": {
          "base_uri": "https://localhost:8080/",
          "height": 388
        }
      },
      "execution_count": 37,
      "outputs": [
        {
          "output_type": "display_data",
          "data": {
            "text/plain": [
              "<Figure size 720x432 with 1 Axes>"
            ],
            "image/png": "[encoded data removed]"
          },
          "metadata": {
            "needs_background": "light"
          }
        }
      ]
    },
    {
      "cell_type": "code",
      "source": [
        "mse_cnn_lstm, mae_cnn_lstm = compute_metrics(series_test, series_test_hat_cnn_lstm)\n",
        "\n",
        "print(f\"mse: {mse_cnn_lstm:.2f}, mae: {mae_cnn_lstm:.2f} for forecast\")"
      ],
      "metadata": {
        "id": "hW0VZCxdAVjO",
        "outputId": "3601a5b9-f949-4a5b-fe64-dab3a456076d",
        "colab": {
          "base_uri": "https://localhost:8080/"
        }
      },
      "execution_count": 38,
      "outputs": [
        {
          "output_type": "stream",
          "name": "stdout",
          "text": [
            "mse: 8637.47, mae: 78.72 for forecast\n"
          ]
        }
      ]
    },
    {
      "cell_type": "code",
      "source": [
        "# Save model\n",
        "cnn_lstm.save('/content/gdrive/MyDrive/Saved_models/cnn_lstm.h5')"
      ],
      "metadata": {
        "id": "ZTLG7OoYmWjD"
      },
      "execution_count": 36,
      "outputs": []
    },
    {
      "cell_type": "markdown",
      "source": [
        "## Camparison"
      ],
      "metadata": {
        "id": "15FrV8PMAimg"
      }
    },
    {
      "cell_type": "markdown",
      "source": [
        "Compare our proposed Capsnet-LSTM with LSTM and CNN-LSTM"
      ],
      "metadata": {
        "id": "Z330X9SE8RWm"
      }
    },
    {
      "cell_type": "markdown",
      "source": [
        "### Three forecasting results in one figure:"
      ],
      "metadata": {
        "id": "x8SF-DmK78l9"
      }
    },
    {
      "cell_type": "code",
      "source": [],
      "metadata": {
        "id": "rNCmNekCAuAF"
      },
      "execution_count": null,
      "outputs": []
    },
    {
      "cell_type": "markdown",
      "source": [
        "### Compare the rmse, mae mape"
      ],
      "metadata": {
        "id": "3frHiK9N8F87"
      }
    },
    {
      "cell_type": "code",
      "source": [],
      "metadata": {
        "id": "JzlMIn_iAt7w"
      },
      "execution_count": null,
      "outputs": []
    }
  ],
  "metadata": {
    "kernelspec": {
      "display_name": "Python 3",
      "language": "python",
      "name": "python3"
    },
    "language_info": {
      "codemirror_mode": {
        "name": "ipython",
        "version": 3
      },
      "file_extension": ".py",
      "mimetype": "text/x-python",
      "name": "python",
      "nbconvert_exporter": "python",
      "pygments_lexer": "ipython3",
      "version": "3.8.8"
    },
    "colab": {
      "name": "CapsNet_LSTM.ipynb",
      "provenance": [],
      "collapsed_sections": [],
      "machine_shape": "hm",
      "include_colab_link": true
    },
    "accelerator": "TPU",
    "gpuClass": "standard"
  },
  "nbformat": 4,
  "nbformat_minor": 0
}