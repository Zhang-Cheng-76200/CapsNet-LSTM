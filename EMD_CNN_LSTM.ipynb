{
  "nbformat": 4,
  "nbformat_minor": 0,
  "metadata": {
    "colab": {
      "name": "EMD_CNN_LSTM.ipynb",
      "provenance": [],
      "machine_shape": "hm",
      "authorship_tag": "ABX9TyOYv52bVgN1qV6CRzbPDOS4",
      "include_colab_link": true
    },
    "kernelspec": {
      "name": "python3",
      "display_name": "Python 3"
    },
    "language_info": {
      "name": "python"
    },
    "accelerator": "GPU",
    "gpuClass": "standard"
  },
  "cells": [
    {
      "cell_type": "markdown",
      "metadata": {
        "id": "view-in-github",
        "colab_type": "text"
      },
      "source": [
        "<a href=\"https://colab.research.google.com/github/Orangefox76200/EMD-Capsule-LSTM/blob/main/EMD_CNN_LSTM.ipynb\" target=\"_parent\"><img src=\"https://colab.research.google.com/assets/colab-badge.svg\" alt=\"Open In Colab\"/></a>"
      ]
    },
    {
      "cell_type": "markdown",
      "source": [
        "# **EMD-CNN-LSTM**"
      ],
      "metadata": {
        "id": "Pvmp4R5xj7t_"
      }
    },
    {
      "cell_type": "markdown",
      "source": [
        "## Install and import packages"
      ],
      "metadata": {
        "id": "RRueEVZEaab3"
      }
    },
    {
      "cell_type": "markdown",
      "source": [
        "Install pyEMD (EMD-signal 1.2.3)"
      ],
      "metadata": {
        "id": "zMmfUkbM6xEk"
      }
    },
    {
      "cell_type": "code",
      "source": [
        "!pip install EMD-signal"
      ],
      "metadata": {
        "id": "3_OAd5_-6wci",
        "outputId": "a791dd83-e272-4982-ba5e-62d607eb0f17",
        "colab": {
          "base_uri": "https://localhost:8080/"
        }
      },
      "execution_count": 1,
      "outputs": [
        {
          "output_type": "stream",
          "name": "stdout",
          "text": [
            "Looking in indexes: https://pypi.org/simple, https://us-python.pkg.dev/colab-wheels/public/simple/\n",
            "Requirement already satisfied: EMD-signal in /usr/local/lib/python3.7/dist-packages (1.2.3)\n",
            "Requirement already satisfied: scipy>=0.19 in /usr/local/lib/python3.7/dist-packages (from EMD-signal) (1.7.3)\n",
            "Requirement already satisfied: pathos>=0.2.1 in /usr/local/lib/python3.7/dist-packages (from EMD-signal) (0.2.9)\n",
            "Requirement already satisfied: numpy>=1.12 in /usr/local/lib/python3.7/dist-packages (from EMD-signal) (1.21.6)\n",
            "Requirement already satisfied: multiprocess>=0.70.13 in /usr/local/lib/python3.7/dist-packages (from pathos>=0.2.1->EMD-signal) (0.70.13)\n",
            "Requirement already satisfied: ppft>=1.7.6.5 in /usr/local/lib/python3.7/dist-packages (from pathos>=0.2.1->EMD-signal) (1.7.6.5)\n",
            "Requirement already satisfied: pox>=0.3.1 in /usr/local/lib/python3.7/dist-packages (from pathos>=0.2.1->EMD-signal) (0.3.1)\n",
            "Requirement already satisfied: dill>=0.3.5.1 in /usr/local/lib/python3.7/dist-packages (from pathos>=0.2.1->EMD-signal) (0.3.5.1)\n",
            "Requirement already satisfied: six>=1.7.3 in /usr/local/lib/python3.7/dist-packages (from ppft>=1.7.6.5->pathos>=0.2.1->EMD-signal) (1.15.0)\n"
          ]
        }
      ]
    },
    {
      "cell_type": "code",
      "source": [
        "!pip install keras-utils"
      ],
      "metadata": {
        "id": "r0U4Nj6dVZXT",
        "outputId": "be7b3ccc-1857-4459-e6c7-7ec2bb17909c",
        "colab": {
          "base_uri": "https://localhost:8080/"
        }
      },
      "execution_count": 2,
      "outputs": [
        {
          "output_type": "stream",
          "name": "stdout",
          "text": [
            "Looking in indexes: https://pypi.org/simple, https://us-python.pkg.dev/colab-wheels/public/simple/\n",
            "Requirement already satisfied: keras-utils in /usr/local/lib/python3.7/dist-packages (1.0.13)\n",
            "Requirement already satisfied: Keras>=2.1.5 in /usr/local/lib/python3.7/dist-packages (from keras-utils) (2.8.0)\n"
          ]
        }
      ]
    },
    {
      "cell_type": "code",
      "source": [
        "#!pip list"
      ],
      "metadata": {
        "id": "D1IdHd-NOmsJ"
      },
      "execution_count": 3,
      "outputs": []
    },
    {
      "cell_type": "markdown",
      "source": [
        "Import Packages"
      ],
      "metadata": {
        "id": "Xz1kL_zQk2xf"
      }
    },
    {
      "cell_type": "code",
      "source": [
        "import tensorflow as tf\n",
        "from tensorflow import keras\n",
        "from tensorflow.keras import layers\n",
        "import pandas as pd\n",
        "import numpy as np\n",
        "from PyEMD import EMD , Visualisation\n",
        "from PyEMD import EEMD\n",
        "from PyEMD import CEEMDAN\n",
        "from matplotlib import pyplot as plt"
      ],
      "metadata": {
        "id": "xDgncICuXnfw"
      },
      "execution_count": 4,
      "outputs": []
    },
    {
      "cell_type": "markdown",
      "source": [
        "## Select the time series from raw data"
      ],
      "metadata": {
        "id": "KEnabwKgaOi5"
      }
    },
    {
      "cell_type": "markdown",
      "source": [
        "Stock Index Dataset: DJIA (Jan 04,2010-Dec 31,2019)\n",
        "\n",
        "Upload **Orangefox76200/EMD-Capsule-LSTM/DJIA.xlsx** (Github) to Google Drive, then import it from Google Drive to EMD_Capsule_LSTM.ipynb"
      ],
      "metadata": {
        "id": "jrF_Re5ii1Co"
      }
    },
    {
      "cell_type": "code",
      "source": [
        "from google.colab import drive\n",
        "drive.mount ('gdrive')\n",
        "DJIA_raw = pd.read_excel ('gdrive/MyDrive/Colab Notebooks/DJIA.xlsx')\n",
        "DJIA_raw"
      ],
      "metadata": {
        "id": "7FD_RJZwKbVZ",
        "colab": {
          "base_uri": "https://localhost:8080/",
          "height": 442
        },
        "outputId": "0d1649bb-2162-4cd6-de0b-330d93181969"
      },
      "execution_count": 5,
      "outputs": [
        {
          "output_type": "stream",
          "name": "stdout",
          "text": [
            "Drive already mounted at gdrive; to attempt to forcibly remount, call drive.mount(\"gdrive\", force_remount=True).\n"
          ]
        },
        {
          "output_type": "execute_result",
          "data": {
            "text/plain": [
              "              Date      Open      High       Low     Close     Volume\n",
              "0     Jan 04, 2010  10430.69  10604.97  10430.69  10583.96  179780000\n",
              "1     Jan 05, 2010  10584.56  10584.56  10522.52  10572.02  188540000\n",
              "2     Jan 06, 2010  10564.72  10594.99  10546.55  10573.68  186040000\n",
              "3     Jan 07, 2010  10571.11  10612.37  10505.21  10606.86  217390000\n",
              "4     Jan 08, 2010  10606.40  10619.40  10554.33  10618.19  172710000\n",
              "...            ...       ...       ...       ...       ...        ...\n",
              "2511  Dec 24, 2019  28572.57  28576.80  28503.21  28515.45   86150000\n",
              "2512  Dec 26, 2019  28539.46  28624.10  28535.15  28621.39  155970000\n",
              "2513  Dec 27, 2019  28675.34  28701.66  28608.98  28645.26  182280000\n",
              "2514  Dec 30, 2019  28654.76  28664.69  28428.98  28462.14  181600000\n",
              "2515  Dec 31, 2019  28414.64  28547.35  28376.49  28538.44  193340000\n",
              "\n",
              "[2516 rows x 6 columns]"
            ],
            "text/html": [
              "\n",
              "  <div id=\"df-189a6c36-e072-47d8-adaa-be9e63ee8763\">\n",
              "    <div class=\"colab-df-container\">\n",
              "      <div>\n",
              "<style scoped>\n",
              "    .dataframe tbody tr th:only-of-type {\n",
              "        vertical-align: middle;\n",
              "    }\n",
              "\n",
              "    .dataframe tbody tr th {\n",
              "        vertical-align: top;\n",
              "    }\n",
              "\n",
              "    .dataframe thead th {\n",
              "        text-align: right;\n",
              "    }\n",
              "</style>\n",
              "<table border=\"1\" class=\"dataframe\">\n",
              "  <thead>\n",
              "    <tr style=\"text-align: right;\">\n",
              "      <th></th>\n",
              "      <th>Date</th>\n",
              "      <th>Open</th>\n",
              "      <th>High</th>\n",
              "      <th>Low</th>\n",
              "      <th>Close</th>\n",
              "      <th>Volume</th>\n",
              "    </tr>\n",
              "  </thead>\n",
              "  <tbody>\n",
              "    <tr>\n",
              "      <th>0</th>\n",
              "      <td>Jan 04, 2010</td>\n",
              "      <td>10430.69</td>\n",
              "      <td>10604.97</td>\n",
              "      <td>10430.69</td>\n",
              "      <td>10583.96</td>\n",
              "      <td>179780000</td>\n",
              "    </tr>\n",
              "    <tr>\n",
              "      <th>1</th>\n",
              "      <td>Jan 05, 2010</td>\n",
              "      <td>10584.56</td>\n",
              "      <td>10584.56</td>\n",
              "      <td>10522.52</td>\n",
              "      <td>10572.02</td>\n",
              "      <td>188540000</td>\n",
              "    </tr>\n",
              "    <tr>\n",
              "      <th>2</th>\n",
              "      <td>Jan 06, 2010</td>\n",
              "      <td>10564.72</td>\n",
              "      <td>10594.99</td>\n",
              "      <td>10546.55</td>\n",
              "      <td>10573.68</td>\n",
              "      <td>186040000</td>\n",
              "    </tr>\n",
              "    <tr>\n",
              "      <th>3</th>\n",
              "      <td>Jan 07, 2010</td>\n",
              "      <td>10571.11</td>\n",
              "      <td>10612.37</td>\n",
              "      <td>10505.21</td>\n",
              "      <td>10606.86</td>\n",
              "      <td>217390000</td>\n",
              "    </tr>\n",
              "    <tr>\n",
              "      <th>4</th>\n",
              "      <td>Jan 08, 2010</td>\n",
              "      <td>10606.40</td>\n",
              "      <td>10619.40</td>\n",
              "      <td>10554.33</td>\n",
              "      <td>10618.19</td>\n",
              "      <td>172710000</td>\n",
              "    </tr>\n",
              "    <tr>\n",
              "      <th>...</th>\n",
              "      <td>...</td>\n",
              "      <td>...</td>\n",
              "      <td>...</td>\n",
              "      <td>...</td>\n",
              "      <td>...</td>\n",
              "      <td>...</td>\n",
              "    </tr>\n",
              "    <tr>\n",
              "      <th>2511</th>\n",
              "      <td>Dec 24, 2019</td>\n",
              "      <td>28572.57</td>\n",
              "      <td>28576.80</td>\n",
              "      <td>28503.21</td>\n",
              "      <td>28515.45</td>\n",
              "      <td>86150000</td>\n",
              "    </tr>\n",
              "    <tr>\n",
              "      <th>2512</th>\n",
              "      <td>Dec 26, 2019</td>\n",
              "      <td>28539.46</td>\n",
              "      <td>28624.10</td>\n",
              "      <td>28535.15</td>\n",
              "      <td>28621.39</td>\n",
              "      <td>155970000</td>\n",
              "    </tr>\n",
              "    <tr>\n",
              "      <th>2513</th>\n",
              "      <td>Dec 27, 2019</td>\n",
              "      <td>28675.34</td>\n",
              "      <td>28701.66</td>\n",
              "      <td>28608.98</td>\n",
              "      <td>28645.26</td>\n",
              "      <td>182280000</td>\n",
              "    </tr>\n",
              "    <tr>\n",
              "      <th>2514</th>\n",
              "      <td>Dec 30, 2019</td>\n",
              "      <td>28654.76</td>\n",
              "      <td>28664.69</td>\n",
              "      <td>28428.98</td>\n",
              "      <td>28462.14</td>\n",
              "      <td>181600000</td>\n",
              "    </tr>\n",
              "    <tr>\n",
              "      <th>2515</th>\n",
              "      <td>Dec 31, 2019</td>\n",
              "      <td>28414.64</td>\n",
              "      <td>28547.35</td>\n",
              "      <td>28376.49</td>\n",
              "      <td>28538.44</td>\n",
              "      <td>193340000</td>\n",
              "    </tr>\n",
              "  </tbody>\n",
              "</table>\n",
              "<p>2516 rows × 6 columns</p>\n",
              "</div>\n",
              "      <button class=\"colab-df-convert\" onclick=\"convertToInteractive('df-189a6c36-e072-47d8-adaa-be9e63ee8763')\"\n",
              "              title=\"Convert this dataframe to an interactive table.\"\n",
              "              style=\"display:none;\">\n",
              "        \n",
              "  <svg xmlns=\"http://www.w3.org/2000/svg\" height=\"24px\"viewBox=\"0 0 24 24\"\n",
              "       width=\"24px\">\n",
              "    <path d=\"M0 0h24v24H0V0z\" fill=\"none\"/>\n",
              "    <path d=\"M18.56 5.44l.94 2.06.94-2.06 2.06-.94-2.06-.94-.94-2.06-.94 2.06-2.06.94zm-11 1L8.5 8.5l.94-2.06 2.06-.94-2.06-.94L8.5 2.5l-.94 2.06-2.06.94zm10 10l.94 2.06.94-2.06 2.06-.94-2.06-.94-.94-2.06-.94 2.06-2.06.94z\"/><path d=\"M17.41 7.96l-1.37-1.37c-.4-.4-.92-.59-1.43-.59-.52 0-1.04.2-1.43.59L10.3 9.45l-7.72 7.72c-.78.78-.78 2.05 0 2.83L4 21.41c.39.39.9.59 1.41.59.51 0 1.02-.2 1.41-.59l7.78-7.78 2.81-2.81c.8-.78.8-2.07 0-2.86zM5.41 20L4 18.59l7.72-7.72 1.47 1.35L5.41 20z\"/>\n",
              "  </svg>\n",
              "      </button>\n",
              "      \n",
              "  <style>\n",
              "    .colab-df-container {\n",
              "      display:flex;\n",
              "      flex-wrap:wrap;\n",
              "      gap: 12px;\n",
              "    }\n",
              "\n",
              "    .colab-df-convert {\n",
              "      background-color: #E8F0FE;\n",
              "      border: none;\n",
              "      border-radius: 50%;\n",
              "      cursor: pointer;\n",
              "      display: none;\n",
              "      fill: #1967D2;\n",
              "      height: 32px;\n",
              "      padding: 0 0 0 0;\n",
              "      width: 32px;\n",
              "    }\n",
              "\n",
              "    .colab-df-convert:hover {\n",
              "      background-color: #E2EBFA;\n",
              "      box-shadow: 0px 1px 2px rgba(60, 64, 67, 0.3), 0px 1px 3px 1px rgba(60, 64, 67, 0.15);\n",
              "      fill: #174EA6;\n",
              "    }\n",
              "\n",
              "    [theme=dark] .colab-df-convert {\n",
              "      background-color: #3B4455;\n",
              "      fill: #D2E3FC;\n",
              "    }\n",
              "\n",
              "    [theme=dark] .colab-df-convert:hover {\n",
              "      background-color: #434B5C;\n",
              "      box-shadow: 0px 1px 3px 1px rgba(0, 0, 0, 0.15);\n",
              "      filter: drop-shadow(0px 1px 2px rgba(0, 0, 0, 0.3));\n",
              "      fill: #FFFFFF;\n",
              "    }\n",
              "  </style>\n",
              "\n",
              "      <script>\n",
              "        const buttonEl =\n",
              "          document.querySelector('#df-189a6c36-e072-47d8-adaa-be9e63ee8763 button.colab-df-convert');\n",
              "        buttonEl.style.display =\n",
              "          google.colab.kernel.accessAllowed ? 'block' : 'none';\n",
              "\n",
              "        async function convertToInteractive(key) {\n",
              "          const element = document.querySelector('#df-189a6c36-e072-47d8-adaa-be9e63ee8763');\n",
              "          const dataTable =\n",
              "            await google.colab.kernel.invokeFunction('convertToInteractive',\n",
              "                                                     [key], {});\n",
              "          if (!dataTable) return;\n",
              "\n",
              "          const docLinkHtml = 'Like what you see? Visit the ' +\n",
              "            '<a target=\"_blank\" href=https://colab.research.google.com/notebooks/data_table.ipynb>data table notebook</a>'\n",
              "            + ' to learn more about interactive tables.';\n",
              "          element.innerHTML = '';\n",
              "          dataTable['output_type'] = 'display_data';\n",
              "          await google.colab.output.renderOutput(dataTable, element);\n",
              "          const docLink = document.createElement('div');\n",
              "          docLink.innerHTML = docLinkHtml;\n",
              "          element.appendChild(docLink);\n",
              "        }\n",
              "      </script>\n",
              "    </div>\n",
              "  </div>\n",
              "  "
            ]
          },
          "metadata": {},
          "execution_count": 5
        }
      ]
    },
    {
      "cell_type": "code",
      "source": [
        "DJIA_raw.shape"
      ],
      "metadata": {
        "id": "Kxhn0aFTvFSa",
        "outputId": "971933d6-570e-4ddb-fc4b-9eacb13bb688",
        "colab": {
          "base_uri": "https://localhost:8080/"
        }
      },
      "execution_count": 6,
      "outputs": [
        {
          "output_type": "execute_result",
          "data": {
            "text/plain": [
              "(2516, 6)"
            ]
          },
          "metadata": {},
          "execution_count": 6
        }
      ]
    },
    {
      "cell_type": "code",
      "source": [
        "DJIA_raw.ndim"
      ],
      "metadata": {
        "id": "BBowUaJcq-by",
        "outputId": "82c10959-1e5d-46b3-ebc4-8cc88114f339",
        "colab": {
          "base_uri": "https://localhost:8080/"
        }
      },
      "execution_count": 7,
      "outputs": [
        {
          "output_type": "execute_result",
          "data": {
            "text/plain": [
              "2"
            ]
          },
          "metadata": {},
          "execution_count": 7
        }
      ]
    },
    {
      "cell_type": "code",
      "source": [
        "DJIA_raw.dtypes"
      ],
      "metadata": {
        "id": "sTGzHSEdv0Nq",
        "outputId": "72205ad2-4542-466a-8135-521ae4c59aa4",
        "colab": {
          "base_uri": "https://localhost:8080/"
        }
      },
      "execution_count": 8,
      "outputs": [
        {
          "output_type": "execute_result",
          "data": {
            "text/plain": [
              "Date       object\n",
              "Open      float64\n",
              "High      float64\n",
              "Low       float64\n",
              "Close     float64\n",
              "Volume      int64\n",
              "dtype: object"
            ]
          },
          "metadata": {},
          "execution_count": 8
        }
      ]
    },
    {
      "cell_type": "code",
      "source": [
        "DJIA_raw.describe()"
      ],
      "metadata": {
        "id": "RYiYWK1sztXK",
        "outputId": "67bb6d26-fc03-4cd2-e52b-37ae27603a9e",
        "colab": {
          "base_uri": "https://localhost:8080/",
          "height": 300
        }
      },
      "execution_count": 9,
      "outputs": [
        {
          "output_type": "execute_result",
          "data": {
            "text/plain": [
              "               Open          High           Low         Close        Volume\n",
              "count   2516.000000   2516.000000   2516.000000   2516.000000  2.516000e+03\n",
              "mean   17601.997731  17686.674499  17513.448593  17606.741574  1.895687e+08\n",
              "std     5148.425951   5162.804510   5131.962418   5147.050108  1.106612e+08\n",
              "min     9686.480000   9770.870000   9614.320000   9686.480000  8.410000e+06\n",
              "25%    12977.190000  13044.985000  12921.337500  12981.207500  1.028275e+08\n",
              "50%    17011.075000  17081.805000  16943.140000  17008.230000  1.516350e+08\n",
              "75%    21426.617500  21488.690000  21383.437500  21411.107500  2.602025e+08\n",
              "max    28675.340000  28701.660000  28608.980000  28645.260000  9.005100e+08"
            ],
            "text/html": [
              "\n",
              "  <div id=\"df-f5a0e55a-b167-47a0-a432-81e42a793c60\">\n",
              "    <div class=\"colab-df-container\">\n",
              "      <div>\n",
              "<style scoped>\n",
              "    .dataframe tbody tr th:only-of-type {\n",
              "        vertical-align: middle;\n",
              "    }\n",
              "\n",
              "    .dataframe tbody tr th {\n",
              "        vertical-align: top;\n",
              "    }\n",
              "\n",
              "    .dataframe thead th {\n",
              "        text-align: right;\n",
              "    }\n",
              "</style>\n",
              "<table border=\"1\" class=\"dataframe\">\n",
              "  <thead>\n",
              "    <tr style=\"text-align: right;\">\n",
              "      <th></th>\n",
              "      <th>Open</th>\n",
              "      <th>High</th>\n",
              "      <th>Low</th>\n",
              "      <th>Close</th>\n",
              "      <th>Volume</th>\n",
              "    </tr>\n",
              "  </thead>\n",
              "  <tbody>\n",
              "    <tr>\n",
              "      <th>count</th>\n",
              "      <td>2516.000000</td>\n",
              "      <td>2516.000000</td>\n",
              "      <td>2516.000000</td>\n",
              "      <td>2516.000000</td>\n",
              "      <td>2.516000e+03</td>\n",
              "    </tr>\n",
              "    <tr>\n",
              "      <th>mean</th>\n",
              "      <td>17601.997731</td>\n",
              "      <td>17686.674499</td>\n",
              "      <td>17513.448593</td>\n",
              "      <td>17606.741574</td>\n",
              "      <td>1.895687e+08</td>\n",
              "    </tr>\n",
              "    <tr>\n",
              "      <th>std</th>\n",
              "      <td>5148.425951</td>\n",
              "      <td>5162.804510</td>\n",
              "      <td>5131.962418</td>\n",
              "      <td>5147.050108</td>\n",
              "      <td>1.106612e+08</td>\n",
              "    </tr>\n",
              "    <tr>\n",
              "      <th>min</th>\n",
              "      <td>9686.480000</td>\n",
              "      <td>9770.870000</td>\n",
              "      <td>9614.320000</td>\n",
              "      <td>9686.480000</td>\n",
              "      <td>8.410000e+06</td>\n",
              "    </tr>\n",
              "    <tr>\n",
              "      <th>25%</th>\n",
              "      <td>12977.190000</td>\n",
              "      <td>13044.985000</td>\n",
              "      <td>12921.337500</td>\n",
              "      <td>12981.207500</td>\n",
              "      <td>1.028275e+08</td>\n",
              "    </tr>\n",
              "    <tr>\n",
              "      <th>50%</th>\n",
              "      <td>17011.075000</td>\n",
              "      <td>17081.805000</td>\n",
              "      <td>16943.140000</td>\n",
              "      <td>17008.230000</td>\n",
              "      <td>1.516350e+08</td>\n",
              "    </tr>\n",
              "    <tr>\n",
              "      <th>75%</th>\n",
              "      <td>21426.617500</td>\n",
              "      <td>21488.690000</td>\n",
              "      <td>21383.437500</td>\n",
              "      <td>21411.107500</td>\n",
              "      <td>2.602025e+08</td>\n",
              "    </tr>\n",
              "    <tr>\n",
              "      <th>max</th>\n",
              "      <td>28675.340000</td>\n",
              "      <td>28701.660000</td>\n",
              "      <td>28608.980000</td>\n",
              "      <td>28645.260000</td>\n",
              "      <td>9.005100e+08</td>\n",
              "    </tr>\n",
              "  </tbody>\n",
              "</table>\n",
              "</div>\n",
              "      <button class=\"colab-df-convert\" onclick=\"convertToInteractive('df-f5a0e55a-b167-47a0-a432-81e42a793c60')\"\n",
              "              title=\"Convert this dataframe to an interactive table.\"\n",
              "              style=\"display:none;\">\n",
              "        \n",
              "  <svg xmlns=\"http://www.w3.org/2000/svg\" height=\"24px\"viewBox=\"0 0 24 24\"\n",
              "       width=\"24px\">\n",
              "    <path d=\"M0 0h24v24H0V0z\" fill=\"none\"/>\n",
              "    <path d=\"M18.56 5.44l.94 2.06.94-2.06 2.06-.94-2.06-.94-.94-2.06-.94 2.06-2.06.94zm-11 1L8.5 8.5l.94-2.06 2.06-.94-2.06-.94L8.5 2.5l-.94 2.06-2.06.94zm10 10l.94 2.06.94-2.06 2.06-.94-2.06-.94-.94-2.06-.94 2.06-2.06.94z\"/><path d=\"M17.41 7.96l-1.37-1.37c-.4-.4-.92-.59-1.43-.59-.52 0-1.04.2-1.43.59L10.3 9.45l-7.72 7.72c-.78.78-.78 2.05 0 2.83L4 21.41c.39.39.9.59 1.41.59.51 0 1.02-.2 1.41-.59l7.78-7.78 2.81-2.81c.8-.78.8-2.07 0-2.86zM5.41 20L4 18.59l7.72-7.72 1.47 1.35L5.41 20z\"/>\n",
              "  </svg>\n",
              "      </button>\n",
              "      \n",
              "  <style>\n",
              "    .colab-df-container {\n",
              "      display:flex;\n",
              "      flex-wrap:wrap;\n",
              "      gap: 12px;\n",
              "    }\n",
              "\n",
              "    .colab-df-convert {\n",
              "      background-color: #E8F0FE;\n",
              "      border: none;\n",
              "      border-radius: 50%;\n",
              "      cursor: pointer;\n",
              "      display: none;\n",
              "      fill: #1967D2;\n",
              "      height: 32px;\n",
              "      padding: 0 0 0 0;\n",
              "      width: 32px;\n",
              "    }\n",
              "\n",
              "    .colab-df-convert:hover {\n",
              "      background-color: #E2EBFA;\n",
              "      box-shadow: 0px 1px 2px rgba(60, 64, 67, 0.3), 0px 1px 3px 1px rgba(60, 64, 67, 0.15);\n",
              "      fill: #174EA6;\n",
              "    }\n",
              "\n",
              "    [theme=dark] .colab-df-convert {\n",
              "      background-color: #3B4455;\n",
              "      fill: #D2E3FC;\n",
              "    }\n",
              "\n",
              "    [theme=dark] .colab-df-convert:hover {\n",
              "      background-color: #434B5C;\n",
              "      box-shadow: 0px 1px 3px 1px rgba(0, 0, 0, 0.15);\n",
              "      filter: drop-shadow(0px 1px 2px rgba(0, 0, 0, 0.3));\n",
              "      fill: #FFFFFF;\n",
              "    }\n",
              "  </style>\n",
              "\n",
              "      <script>\n",
              "        const buttonEl =\n",
              "          document.querySelector('#df-f5a0e55a-b167-47a0-a432-81e42a793c60 button.colab-df-convert');\n",
              "        buttonEl.style.display =\n",
              "          google.colab.kernel.accessAllowed ? 'block' : 'none';\n",
              "\n",
              "        async function convertToInteractive(key) {\n",
              "          const element = document.querySelector('#df-f5a0e55a-b167-47a0-a432-81e42a793c60');\n",
              "          const dataTable =\n",
              "            await google.colab.kernel.invokeFunction('convertToInteractive',\n",
              "                                                     [key], {});\n",
              "          if (!dataTable) return;\n",
              "\n",
              "          const docLinkHtml = 'Like what you see? Visit the ' +\n",
              "            '<a target=\"_blank\" href=https://colab.research.google.com/notebooks/data_table.ipynb>data table notebook</a>'\n",
              "            + ' to learn more about interactive tables.';\n",
              "          element.innerHTML = '';\n",
              "          dataTable['output_type'] = 'display_data';\n",
              "          await google.colab.output.renderOutput(dataTable, element);\n",
              "          const docLink = document.createElement('div');\n",
              "          docLink.innerHTML = docLinkHtml;\n",
              "          element.appendChild(docLink);\n",
              "        }\n",
              "      </script>\n",
              "    </div>\n",
              "  </div>\n",
              "  "
            ]
          },
          "metadata": {},
          "execution_count": 9
        }
      ]
    },
    {
      "cell_type": "code",
      "source": [
        "DJIA_raw.iloc[:,4]"
      ],
      "metadata": {
        "id": "0jMNAgbTyXtL",
        "outputId": "d8720736-b572-45ba-e574-704193fb7ab2",
        "colab": {
          "base_uri": "https://localhost:8080/"
        }
      },
      "execution_count": 10,
      "outputs": [
        {
          "output_type": "execute_result",
          "data": {
            "text/plain": [
              "0       10583.96\n",
              "1       10572.02\n",
              "2       10573.68\n",
              "3       10606.86\n",
              "4       10618.19\n",
              "          ...   \n",
              "2511    28515.45\n",
              "2512    28621.39\n",
              "2513    28645.26\n",
              "2514    28462.14\n",
              "2515    28538.44\n",
              "Name: Close, Length: 2516, dtype: float64"
            ]
          },
          "metadata": {},
          "execution_count": 10
        }
      ]
    },
    {
      "cell_type": "markdown",
      "source": [
        "Use the close price as the time series to be predicted."
      ],
      "metadata": {
        "id": "ZXdYs-onqWfq"
      }
    },
    {
      "cell_type": "code",
      "source": [
        "DJIA_timeseries = DJIA_raw.iloc[:,4]\n",
        "DJIA_timeseries.shape"
      ],
      "metadata": {
        "colab": {
          "base_uri": "https://localhost:8080/"
        },
        "id": "KaFMFoA3pxUh",
        "outputId": "df66822d-0368-497c-add1-95d5ecf67ec7"
      },
      "execution_count": 11,
      "outputs": [
        {
          "output_type": "execute_result",
          "data": {
            "text/plain": [
              "(2516,)"
            ]
          },
          "metadata": {},
          "execution_count": 11
        }
      ]
    },
    {
      "cell_type": "code",
      "source": [
        "DJIA_timeseries.ndim"
      ],
      "metadata": {
        "id": "EJquA9wrvoUL",
        "outputId": "b4b64cb6-e86f-45f4-d3e3-54897e93af9a",
        "colab": {
          "base_uri": "https://localhost:8080/"
        }
      },
      "execution_count": 12,
      "outputs": [
        {
          "output_type": "execute_result",
          "data": {
            "text/plain": [
              "1"
            ]
          },
          "metadata": {},
          "execution_count": 12
        }
      ]
    },
    {
      "cell_type": "code",
      "source": [
        "DJIA_timeseries.iloc[:]"
      ],
      "metadata": {
        "id": "BCVdkvGUyn-k",
        "outputId": "e2cca77a-a375-4f80-f530-df09cad00417",
        "colab": {
          "base_uri": "https://localhost:8080/"
        }
      },
      "execution_count": 13,
      "outputs": [
        {
          "output_type": "execute_result",
          "data": {
            "text/plain": [
              "0       10583.96\n",
              "1       10572.02\n",
              "2       10573.68\n",
              "3       10606.86\n",
              "4       10618.19\n",
              "          ...   \n",
              "2511    28515.45\n",
              "2512    28621.39\n",
              "2513    28645.26\n",
              "2514    28462.14\n",
              "2515    28538.44\n",
              "Name: Close, Length: 2516, dtype: float64"
            ]
          },
          "metadata": {},
          "execution_count": 13
        }
      ]
    },
    {
      "cell_type": "markdown",
      "source": [
        "Convert Pandas series to Numpy Array"
      ],
      "metadata": {
        "id": "MhlJPaOj80y9"
      }
    },
    {
      "cell_type": "code",
      "source": [
        "DJIA_timeseries_array = DJIA_timeseries.to_numpy()\n",
        "DJIA_timeseries_array.shape\n"
      ],
      "metadata": {
        "id": "uUNfEsRK86VY",
        "outputId": "97bc6561-e5fc-4f48-9b87-2caac2ef770d",
        "colab": {
          "base_uri": "https://localhost:8080/"
        }
      },
      "execution_count": 14,
      "outputs": [
        {
          "output_type": "execute_result",
          "data": {
            "text/plain": [
              "(2516,)"
            ]
          },
          "metadata": {},
          "execution_count": 14
        }
      ]
    },
    {
      "cell_type": "code",
      "source": [
        "DJIA_timeseries_array.dtype"
      ],
      "metadata": {
        "id": "b_YgwBUzCEO1",
        "outputId": "ee5900c9-7566-42bd-e60c-1a7ecd876c16",
        "colab": {
          "base_uri": "https://localhost:8080/"
        }
      },
      "execution_count": 15,
      "outputs": [
        {
          "output_type": "execute_result",
          "data": {
            "text/plain": [
              "dtype('float64')"
            ]
          },
          "metadata": {},
          "execution_count": 15
        }
      ]
    },
    {
      "cell_type": "markdown",
      "source": [
        "Convert object to float64"
      ],
      "metadata": {
        "id": "EdiVbQheF6eh"
      }
    },
    {
      "cell_type": "code",
      "source": [
        "DJIA_timeseries_array = pd.to_numeric(DJIA_timeseries_array)"
      ],
      "metadata": {
        "id": "4kuxWm0sEGum"
      },
      "execution_count": 16,
      "outputs": []
    },
    {
      "cell_type": "code",
      "source": [
        "DJIA_timeseries_array.dtype"
      ],
      "metadata": {
        "id": "_jZLPKB0EJv1",
        "outputId": "979cd92c-54a4-49a5-f355-7be9b48a1ba6",
        "colab": {
          "base_uri": "https://localhost:8080/"
        }
      },
      "execution_count": 17,
      "outputs": [
        {
          "output_type": "execute_result",
          "data": {
            "text/plain": [
              "dtype('float64')"
            ]
          },
          "metadata": {},
          "execution_count": 17
        }
      ]
    },
    {
      "cell_type": "markdown",
      "source": [
        "## Empirical Mode Decomposition of close price"
      ],
      "metadata": {
        "id": "yenGACf98b_M"
      }
    },
    {
      "cell_type": "code",
      "source": [
        "emd = EMD()"
      ],
      "metadata": {
        "id": "iBKSl30y5NVk"
      },
      "execution_count": 18,
      "outputs": []
    },
    {
      "cell_type": "code",
      "source": [
        "emd.emd(DJIA_timeseries_array)"
      ],
      "metadata": {
        "id": "yE5i88Co-PVh",
        "outputId": "77d6b88b-ce4d-4d58-944e-576466839091",
        "colab": {
          "base_uri": "https://localhost:8080/"
        }
      },
      "execution_count": 19,
      "outputs": [
        {
          "output_type": "execute_result",
          "data": {
            "text/plain": [
              "array([[ 1.78640000e+00,  1.89517291e+00, -2.44098827e+00, ...,\n",
              "         7.29041178e+01, -7.73223490e+01, -2.66244367e+01],\n",
              "       [ 5.77899559e+00, -1.29183364e+01, -1.51624708e+01, ...,\n",
              "         7.73435808e+00, -1.29472919e+01,  1.41700453e+01],\n",
              "       [ 9.18207935e+00, -2.85318650e+01, -5.66752607e+01, ...,\n",
              "        -1.17590457e+01, -2.81462492e+01, -2.20480251e+01],\n",
              "       ...,\n",
              "       [ 3.15364135e+02,  3.19676443e+02,  3.23933848e+02, ...,\n",
              "         3.52962566e+02,  3.52065696e+02,  3.50592037e+02],\n",
              "       [ 1.03442129e+02,  9.88571437e+01,  9.43202199e+01, ...,\n",
              "         4.79945846e+02,  4.79746293e+02,  4.79368062e+02],\n",
              "       [ 1.02363608e+04,  1.02394222e+04,  1.02424917e+04, ...,\n",
              "         2.69894818e+04,  2.69917270e+04,  2.69939419e+04]])"
            ]
          },
          "metadata": {},
          "execution_count": 19
        }
      ]
    },
    {
      "cell_type": "code",
      "source": [
        "imfs, res = emd.get_imfs_and_residue()\n",
        "vis = Visualisation()\n",
        "vis.plot_imfs(imfs=imfs, residue=res, include_residue=True)\n",
        "#vis.plot_instant_freq(imfs=imfs)\n",
        "vis.show()"
      ],
      "metadata": {
        "id": "R-Q4W-Db8boH",
        "outputId": "5d2a01ea-c6a3-41ab-dca8-1edeb1080589",
        "colab": {
          "base_uri": "https://localhost:8080/",
          "height": 873
        }
      },
      "execution_count": 20,
      "outputs": [
        {
          "output_type": "display_data",
          "data": {
            "text/plain": [
              "<Figure size 432x864 with 8 Axes>"
            ],
            "image/png": "[encoded data removed]"
          },
          "metadata": {
            "needs_background": "light"
          }
        }
      ]
    },
    {
      "cell_type": "markdown",
      "source": [
        "Create imf1, 2, 3, 4, 5, 6, 7 "
      ],
      "metadata": {
        "id": "KisW4vplKKgu"
      }
    },
    {
      "cell_type": "code",
      "source": [
        "imf1 = imfs[0,:]\n",
        "imf2 = imfs[1,:]\n",
        "imf3 = imfs[2,:]\n",
        "imf4 = imfs[3,:]\n",
        "imf5 = imfs[4,:]\n",
        "imf6 = imfs[5,:]\n",
        "imf7 = imfs[6,:]"
      ],
      "metadata": {
        "id": "dsXnS29NKTON"
      },
      "execution_count": 21,
      "outputs": []
    },
    {
      "cell_type": "markdown",
      "source": [
        "## Data splitting"
      ],
      "metadata": {
        "id": "dHvxYFGDaoQY"
      }
    },
    {
      "cell_type": "markdown",
      "source": [
        "Data splitting: the last 150 samples will be used as the test set. For the rest, the first 80% will be the training set, and the last 20% will be the validation set."
      ],
      "metadata": {
        "id": "xJ2hrPb1Klkw"
      }
    },
    {
      "cell_type": "code",
      "source": [
        "index_length = len(imf1)\n",
        "imf1_test = imf1[(index_length-150) : index_length] # the start index is included, but the end index is not included.\n",
        "imf2_test = imf2[(index_length-150) : index_length] # 100 - 10 = 90, the last 10 element index should be from 90 to 99\n",
        "imf3_test = imf3[(index_length-150) : index_length] # the last 10 elements should be from 91 to 100.\n",
        "imf4_test = imf4[(index_length-150) : index_length]\n",
        "imf5_test = imf5[(index_length-150) : index_length]\n",
        "imf6_test = imf6[(index_length-150) : index_length]\n",
        "imf7_test = imf7[(index_length-150) : index_length]\n",
        "res_test = res[(index_length-150) : index_length]"
      ],
      "metadata": {
        "id": "RwO3b7lxJT4M"
      },
      "execution_count": 22,
      "outputs": []
    },
    {
      "cell_type": "code",
      "source": [
        "train_start_index = 0\n",
        "train_end_index = round(0.8 * (index_length - 150))"
      ],
      "metadata": {
        "id": "kUxKJIkoapjt"
      },
      "execution_count": 23,
      "outputs": []
    },
    {
      "cell_type": "code",
      "source": [
        "imf1_train = imf1[0 : train_end_index]\n",
        "imf2_train = imf2[0 : train_end_index]\n",
        "imf3_train = imf3[0 : train_end_index]\n",
        "imf4_train = imf4[0 : train_end_index]\n",
        "imf5_train = imf5[0 : train_end_index]\n",
        "imf6_train = imf6[0 : train_end_index]\n",
        "imf7_train = imf7[0 : train_end_index]\n",
        "res_train = res[0 : train_end_index]"
      ],
      "metadata": {
        "id": "3I1JRubWdk3_"
      },
      "execution_count": 24,
      "outputs": []
    },
    {
      "cell_type": "code",
      "source": [
        "validation_start_index = train_end_index\n",
        "validation_end_index = index_length-150\n"
      ],
      "metadata": {
        "id": "xNF8C0m8WRUn"
      },
      "execution_count": 25,
      "outputs": []
    },
    {
      "cell_type": "code",
      "source": [
        "imf1_validation = imf1[validation_start_index:validation_end_index]\n",
        "imf2_validation = imf2[validation_start_index:validation_end_index]\n",
        "imf3_validation = imf3[validation_start_index:validation_end_index]\n",
        "imf4_validation = imf4[validation_start_index:validation_end_index]\n",
        "imf5_validation = imf5[validation_start_index:validation_end_index]\n",
        "imf6_validation = imf6[validation_start_index:validation_end_index]\n",
        "imf7_validation = imf7[validation_start_index:validation_end_index]\n",
        "res_validation = res[validation_start_index:validation_end_index]"
      ],
      "metadata": {
        "id": "dH-EF8N6dvyj"
      },
      "execution_count": 26,
      "outputs": []
    },
    {
      "cell_type": "markdown",
      "source": [
        "## Normalization (min-max)\n",
        "\n",
        "Calculate the maximum and the minimum of the training set sequence, then use them to normalize the training set, the validation set, and the test set."
      ],
      "metadata": {
        "id": "sztOzK8UgWa9"
      }
    },
    {
      "cell_type": "code",
      "source": [
        "# normalization of imf1_train, imf1_validation, and imf1_test\n",
        "imf1_train_norm = (imf1_train - min(imf1_train))/(max(imf1_train) - min(imf1_train))\n",
        "imf1_validation_norm = (imf1_validation - min(imf1_train))/(max(imf1_train) - min(imf1_train))\n",
        "imf1_test_norm = (imf1_test - min(imf1_train))/(max(imf1_train) - min(imf1_train))"
      ],
      "metadata": {
        "id": "Fitu4QR3hLKy"
      },
      "execution_count": 27,
      "outputs": []
    },
    {
      "cell_type": "code",
      "source": [
        "# normalization of imf2_train, imf2_validation, and imf2_test\n",
        "imf2_train_norm = (imf2_train - min(imf2_train))/(max(imf2_train) - min(imf2_train))\n",
        "imf2_validation_norm = (imf2_validation - min(imf2_train))/(max(imf2_train) - min(imf2_train))\n",
        "imf2_test_norm = (imf2_test - min(imf2_train))/(max(imf2_train) - min(imf2_train))"
      ],
      "metadata": {
        "id": "TVOxt7V6i3Ap"
      },
      "execution_count": 28,
      "outputs": []
    },
    {
      "cell_type": "code",
      "source": [
        "# normalization of imf3_train, imf3_validation, and imf3_test\n",
        "imf3_train_norm = (imf3_train - min(imf3_train))/(max(imf3_train) - min(imf3_train))\n",
        "imf3_validation_norm = (imf3_validation - min(imf3_train))/(max(imf3_train) - min(imf3_train))\n",
        "imf3_test_norm = (imf3_test - min(imf3_train))/(max(imf3_train) - min(imf3_train))"
      ],
      "metadata": {
        "id": "QzhvtMq8i25S"
      },
      "execution_count": 29,
      "outputs": []
    },
    {
      "cell_type": "code",
      "source": [
        "# normalization of imf4_train, imf4_validation, and imf4_test\n",
        "imf4_train_norm = (imf4_train - min(imf4_train))/(max(imf4_train) - min(imf4_train))\n",
        "imf4_validation_norm = (imf4_validation - min(imf4_train))/(max(imf4_train) - min(imf4_train))\n",
        "imf4_test_norm = (imf4_test - min(imf4_train))/(max(imf4_train) - min(imf4_train))"
      ],
      "metadata": {
        "id": "rMGGgl2oi2xN"
      },
      "execution_count": 30,
      "outputs": []
    },
    {
      "cell_type": "code",
      "source": [
        "# normalization of imf5_train, imf5_validation, and imf5_test\n",
        "imf5_train_norm = (imf5_train - min(imf5_train))/(max(imf5_train) - min(imf5_train))\n",
        "imf5_validation_norm = (imf5_validation - min(imf5_train))/(max(imf5_train) - min(imf5_train))\n",
        "imf5_test_norm = (imf5_test - min(imf5_train))/(max(imf5_train) - min(imf5_train))"
      ],
      "metadata": {
        "id": "cp2sPAeVi2en"
      },
      "execution_count": 31,
      "outputs": []
    },
    {
      "cell_type": "code",
      "source": [
        "# normalization of imf6_train, imf6_validation, and imf6_test\n",
        "imf6_train_norm = (imf6_train - min(imf6_train))/(max(imf6_train) - min(imf6_train))\n",
        "imf6_validation_norm = (imf6_validation - min(imf6_train))/(max(imf6_train) - min(imf6_train))\n",
        "imf6_test_norm = (imf6_test - min(imf6_train))/(max(imf6_train) - min(imf6_train))"
      ],
      "metadata": {
        "id": "dXtHFGB5i2RO"
      },
      "execution_count": 32,
      "outputs": []
    },
    {
      "cell_type": "code",
      "source": [
        "# normalization of imf7_train, imf7_validation, and imf7_test\n",
        "imf7_train_norm = (imf7_train - min(imf7_train))/(max(imf7_train) - min(imf7_train))\n",
        "imf7_validation_norm = (imf7_validation - min(imf7_train))/(max(imf7_train) - min(imf7_train))\n",
        "imf7_test_norm = (imf7_test - min(imf7_train))/(max(imf7_train) - min(imf7_train))"
      ],
      "metadata": {
        "id": "vtYUvYlmi2AX"
      },
      "execution_count": 33,
      "outputs": []
    },
    {
      "cell_type": "code",
      "source": [
        "# normalization of res_train, res_validation, and res_test\n",
        "res_train_norm = (res_train - min(res_train))/(max(res_train) - min(res_train))\n",
        "res_validation_norm = (res_validation - min(res_train))/(max(res_train) - min(res_train))\n",
        "res_test_norm = (res_test - min(res_train))/(max(res_train) - min(res_train))"
      ],
      "metadata": {
        "id": "L5SGspR1i6Sq"
      },
      "execution_count": 34,
      "outputs": []
    },
    {
      "cell_type": "markdown",
      "source": [
        "## Build the input sequences. Each sequence contains 250 elements. "
      ],
      "metadata": {
        "id": "bGeZqYA6qH7h"
      }
    },
    {
      "cell_type": "markdown",
      "source": [
        "Combine train_norm, validation_norm, and test_norm."
      ],
      "metadata": {
        "id": "ihIGSBnv52j4"
      }
    },
    {
      "cell_type": "code",
      "source": [
        "# Could combine sequence together, then produce the datasets.\n",
        "imf1_norm = np.concatenate((imf1_train_norm, imf1_validation_norm, imf1_test_norm), axis = 0)\n",
        "imf2_norm = np.concatenate((imf2_train_norm, imf2_validation_norm, imf2_test_norm), axis = 0)\n",
        "imf3_norm = np.concatenate((imf3_train_norm, imf3_validation_norm, imf3_test_norm), axis = 0)\n",
        "imf4_norm = np.concatenate((imf4_train_norm, imf4_validation_norm, imf4_test_norm), axis = 0)\n",
        "imf5_norm = np.concatenate((imf5_train_norm, imf5_validation_norm, imf5_test_norm), axis = 0)\n",
        "imf6_norm = np.concatenate((imf6_train_norm, imf6_validation_norm, imf6_test_norm), axis = 0)\n",
        "imf7_norm = np.concatenate((imf7_train_norm, imf7_validation_norm, imf7_test_norm), axis = 0)\n",
        "res_norm = np.concatenate((res_train_norm, res_validation_norm, res_test_norm), axis = 0)"
      ],
      "metadata": {
        "id": "3yNMUA8S512t"
      },
      "execution_count": 35,
      "outputs": []
    },
    {
      "cell_type": "markdown",
      "source": [
        "For one time series, the input of the model is a sequence with 250 time steps. The output should be a prediction on the next time step. Based on this principle, generate input dataset and target dataset."
      ],
      "metadata": {
        "id": "OSM9daX-I-nz"
      }
    },
    {
      "cell_type": "markdown",
      "source": [
        "Input shape\n",
        "\n",
        "3+D tensor with shape: batch_shape + (steps, input_dim)\n",
        "\n",
        "Output shape\n",
        "\n",
        "3+D tensor with shape: batch_shape + (new_steps, filters) steps value might have changed due to padding or strides.\n",
        "\n",
        "Returns\n",
        "\n",
        "A tensor of rank 3 representing activation(conv1d(inputs, kernel) + bias)."
      ],
      "metadata": {
        "id": "wpPBCvTiH6Gh"
      }
    },
    {
      "cell_type": "markdown",
      "source": [
        "The input and output of the forecasting model should be array."
      ],
      "metadata": {
        "id": "EnWGsuGu_k6f"
      }
    },
    {
      "cell_type": "code",
      "source": [
        "# the width of one sequence, could be tuned as one hyper-parameter\n",
        "sequence_width = 250  \n",
        "imf1_norm_X = np.zeros((index_length-sequence_width, sequence_width),dtype=float)\n",
        "imf1_norm_Y = np.zeros((index_length-sequence_width, sequence_width),dtype=float)\n",
        "for i in range(index_length-sequence_width):\n",
        "  imf1_norm_X[i] = imf1_norm[i:i+sequence_width]\n",
        "  imf1_norm_Y[i] = imf1_norm[i+1:i+sequence_width+1]\n",
        "\n",
        "# split the norm_X, and norm_Y to get the corresponding training set, validation set, and test set.\n",
        "# The last 150 samples is test set.\n",
        "imf1_norm_X_train = imf1_norm_X[0 : train_end_index-sequence_width]\n",
        "imf1_norm_Y_train = imf1_norm_Y[0 : train_end_index-sequence_width]\n",
        "imf1_norm_X_validation = imf1_norm_X[train_end_index-sequence_width : validation_end_index-sequence_width]\n",
        "imf1_norm_Y_validation = imf1_norm_Y[train_end_index-sequence_width : validation_end_index-sequence_width]\n",
        "imf1_norm_X_test = imf1_norm_X[validation_end_index-sequence_width : index_length-sequence_width]\n",
        "imf1_norm_Y_test = imf1_norm_Y[validation_end_index-sequence_width : index_length-sequence_width]\n",
        "\n",
        "# Reshape x to shape (nb_of_examples, nb_of_features, 1).\n",
        "# imf1_norm_X_train = imf1_norm_X_train.reshape(imf1_norm_X_train.shape[0], sequence_width, 1)\n",
        "# imf1_norm_Y_train = imf1_norm_Y_train.reshape(imf1_norm_Y_train.shape[0], sequence_width, 1)\n",
        "# imf1_norm_X_validation = imf1_norm_X_validation.reshape(imf1_norm_X_validation.shape[0], sequence_width, 1)\n",
        "# imf1_norm_Y_validation = imf1_norm_Y_validation.reshape(imf1_norm_Y_validation.shape[0], sequence_width, 1)\n",
        "# imf1_norm_X_test = imf1_norm_X_test.reshape(imf1_norm_X_test.shape[0], sequence_width, 1)\n",
        "# imf1_norm_Y_test = imf1_norm_Y_test.reshape(imf1_norm_Y_test.shape[0], sequence_width, 1)"
      ],
      "metadata": {
        "id": "QvE3klX9IJU7"
      },
      "execution_count": 36,
      "outputs": []
    },
    {
      "cell_type": "code",
      "source": [
        "# imf2\n",
        "\n",
        "imf2_norm_X = np.zeros((index_length-sequence_width, sequence_width),dtype=float)\n",
        "imf2_norm_Y = np.zeros((index_length-sequence_width, sequence_width),dtype=float)\n",
        "for i in range(index_length-sequence_width):\n",
        "  imf2_norm_X[i] = imf2_norm[i:i+sequence_width]\n",
        "  imf2_norm_Y[i] = imf2_norm[i+1:i+sequence_width+1]\n",
        "\n",
        "# split the norm_X, and norm_Y to get the corresponding training set, validation set, and test set.\n",
        "# The last 150 samples is test set.\n",
        "imf2_norm_X_train = imf2_norm_X[0 : train_end_index-sequence_width]\n",
        "imf2_norm_Y_train = imf2_norm_Y[0 : train_end_index-sequence_width]\n",
        "imf2_norm_X_validation = imf2_norm_X[train_end_index-sequence_width : validation_end_index-sequence_width]\n",
        "imf2_norm_Y_validation = imf2_norm_Y[train_end_index-sequence_width : validation_end_index-sequence_width]\n",
        "imf2_norm_X_test = imf2_norm_X[validation_end_index-sequence_width : index_length-sequence_width]\n",
        "imf2_norm_Y_test = imf2_norm_Y[validation_end_index-sequence_width : index_length-sequence_width]\n",
        "\n",
        "# Reshape x to shape (nb_of_examples, nb_of_features, 1).\n",
        "# imf2_norm_X_train = imf2_norm_X_train.reshape(imf2_norm_X_train.shape[0], sequence_width, 1)\n",
        "# imf2_norm_Y_train = imf2_norm_Y_train.reshape(imf2_norm_Y_train.shape[0], sequence_width, 1)\n",
        "# imf2_norm_X_validation = imf2_norm_X_validation.reshape(imf2_norm_X_validation.shape[0], sequence_width, 1)\n",
        "# imf2_norm_Y_validation = imf2_norm_Y_validation.reshape(imf2_norm_Y_validation.shape[0], sequence_width, 1)\n",
        "# imf2_norm_X_test = imf2_norm_X_test.reshape(imf2_norm_X_test.shape[0], sequence_width, 1)\n",
        "# imf2_norm_Y_test = imf2_norm_Y_test.reshape(imf2_norm_Y_test.shape[0], sequence_width, 1)"
      ],
      "metadata": {
        "id": "Q1SlshAGTfgu"
      },
      "execution_count": 37,
      "outputs": []
    },
    {
      "cell_type": "code",
      "source": [
        "# imf3\n",
        "\n",
        "imf3_norm_X = np.zeros((index_length-sequence_width, sequence_width),dtype=float)\n",
        "imf3_norm_Y = np.zeros((index_length-sequence_width, sequence_width),dtype=float)\n",
        "for i in range(index_length-sequence_width):\n",
        "  imf3_norm_X[i] = imf3_norm[i:i+sequence_width]\n",
        "  imf3_norm_Y[i] = imf3_norm[i+1:i+sequence_width+1]\n",
        "\n",
        "# split the norm_X, and norm_Y to get the corresponding training set, validation set, and test set.\n",
        "# The last 150 samples is test set.\n",
        "imf3_norm_X_train = imf3_norm_X[0 : train_end_index-sequence_width]\n",
        "imf3_norm_Y_train = imf3_norm_Y[0 : train_end_index-sequence_width]\n",
        "imf3_norm_X_validation = imf3_norm_X[train_end_index-sequence_width : validation_end_index-sequence_width]\n",
        "imf3_norm_Y_validation = imf3_norm_Y[train_end_index-sequence_width : validation_end_index-sequence_width]\n",
        "imf3_norm_X_test = imf3_norm_X[validation_end_index-sequence_width : index_length-sequence_width]\n",
        "imf3_norm_Y_test = imf3_norm_Y[validation_end_index-sequence_width : index_length-sequence_width]\n",
        "\n",
        "# Reshape x to shape (nb_of_examples, nb_of_features, 1).\n",
        "# imf3_norm_X_train = imf3_norm_X_train.reshape(imf3_norm_X_train.shape[0], sequence_width, 1)\n",
        "# imf3_norm_Y_train = imf3_norm_Y_train.reshape(imf3_norm_Y_train.shape[0], sequence_width, 1)\n",
        "# imf3_norm_X_validation = imf3_norm_X_validation.reshape(imf3_norm_X_validation.shape[0], sequence_width, 1)\n",
        "# imf3_norm_Y_validation = imf3_norm_Y_validation.reshape(imf3_norm_Y_validation.shape[0], sequence_width, 1)\n",
        "# imf3_norm_X_test = imf3_norm_X_test.reshape(imf3_norm_X_test.shape[0], sequence_width, 1)\n",
        "# imf3_norm_Y_test = imf3_norm_Y_test.reshape(imf3_norm_Y_test.shape[0], sequence_width, 1)"
      ],
      "metadata": {
        "id": "vRr96NvlWvVG"
      },
      "execution_count": 38,
      "outputs": []
    },
    {
      "cell_type": "code",
      "source": [
        "# imf4\n",
        "\n",
        "imf4_norm_X = np.zeros((index_length-sequence_width, sequence_width),dtype=float)\n",
        "imf4_norm_Y = np.zeros((index_length-sequence_width, sequence_width),dtype=float)\n",
        "for i in range(index_length-sequence_width):\n",
        "  imf4_norm_X[i] = imf4_norm[i:i+sequence_width]\n",
        "  imf4_norm_Y[i] = imf4_norm[i+1:i+sequence_width+1]\n",
        "\n",
        "# split the norm_X, and norm_Y to get the corresponding training set, validation set, and test set.\n",
        "# The last 150 samples is test set.\n",
        "imf4_norm_X_train = imf4_norm_X[0 : train_end_index-sequence_width]\n",
        "imf4_norm_Y_train = imf4_norm_Y[0 : train_end_index-sequence_width]\n",
        "imf4_norm_X_validation = imf4_norm_X[train_end_index-sequence_width : validation_end_index-sequence_width]\n",
        "imf4_norm_Y_validation = imf4_norm_Y[train_end_index-sequence_width : validation_end_index-sequence_width]\n",
        "imf4_norm_X_test = imf4_norm_X[validation_end_index-sequence_width : index_length-sequence_width]\n",
        "imf4_norm_Y_test = imf4_norm_Y[validation_end_index-sequence_width : index_length-sequence_width]\n",
        "\n",
        "# Reshape x to shape (nb_of_examples, nb_of_features, 1).\n",
        "# imf4_norm_X_train = imf4_norm_X_train.reshape(imf4_norm_X_train.shape[0], sequence_width, 1)\n",
        "# imf4_norm_Y_train = imf4_norm_Y_train.reshape(imf4_norm_Y_train.shape[0], sequence_width, 1)\n",
        "# imf4_norm_X_validation = imf4_norm_X_validation.reshape(imf4_norm_X_validation.shape[0], sequence_width, 1)\n",
        "# imf4_norm_Y_validation = imf4_norm_Y_validation.reshape(imf4_norm_Y_validation.shape[0], sequence_width, 1)\n",
        "# imf4_norm_X_test = imf4_norm_X_test.reshape(imf4_norm_X_test.shape[0], sequence_width, 1)\n",
        "# imf4_norm_Y_test = imf4_norm_Y_test.reshape(imf4_norm_Y_test.shape[0], sequence_width, 1)"
      ],
      "metadata": {
        "id": "isvX_Jp1XQOz"
      },
      "execution_count": 39,
      "outputs": []
    },
    {
      "cell_type": "code",
      "source": [
        "# imf5\n",
        " \n",
        "imf5_norm_X = np.zeros((index_length-sequence_width, sequence_width),dtype=float)\n",
        "imf5_norm_Y = np.zeros((index_length-sequence_width, sequence_width),dtype=float)\n",
        "for i in range(index_length-sequence_width):\n",
        "  imf5_norm_X[i] = imf5_norm[i:i+sequence_width]\n",
        "  imf5_norm_Y[i] = imf5_norm[i+1:i+sequence_width+1]\n",
        "\n",
        "# split the norm_X, and norm_Y to get the corresponding training set, validation set, and test set.\n",
        "# The last 150 samples is test set.\n",
        "imf5_norm_X_train = imf5_norm_X[0 : train_end_index-sequence_width]\n",
        "imf5_norm_Y_train = imf5_norm_Y[0 : train_end_index-sequence_width]\n",
        "imf5_norm_X_validation = imf5_norm_X[train_end_index-sequence_width : validation_end_index-sequence_width]\n",
        "imf5_norm_Y_validation = imf5_norm_Y[train_end_index-sequence_width : validation_end_index-sequence_width]\n",
        "imf5_norm_X_test = imf5_norm_X[validation_end_index-sequence_width : index_length-sequence_width]\n",
        "imf5_norm_Y_test = imf5_norm_Y[validation_end_index-sequence_width : index_length-sequence_width]\n",
        "\n",
        "# Reshape x to shape (nb_of_examples, nb_of_features, 1).\n",
        "# imf5_norm_X_train = imf5_norm_X_train.reshape(imf5_norm_X_train.shape[0], sequence_width, 1)\n",
        "# imf5_norm_Y_train = imf5_norm_Y_train.reshape(imf5_norm_Y_train.shape[0], sequence_width, 1)\n",
        "# imf5_norm_X_validation = imf5_norm_X_validation.reshape(imf5_norm_X_validation.shape[0], sequence_width, 1)\n",
        "# imf5_norm_Y_validation = imf5_norm_Y_validation.reshape(imf5_norm_Y_validation.shape[0], sequence_width, 1)\n",
        "# imf5_norm_X_test = imf5_norm_X_test.reshape(imf5_norm_X_test.shape[0], sequence_width, 1)\n",
        "# imf5_norm_Y_test = imf5_norm_Y_test.reshape(imf5_norm_Y_test.shape[0], sequence_width, 1)"
      ],
      "metadata": {
        "id": "C7321Y5KXlM6"
      },
      "execution_count": 40,
      "outputs": []
    },
    {
      "cell_type": "code",
      "source": [
        "# imf6\n",
        " \n",
        "imf6_norm_X = np.zeros((index_length-sequence_width, sequence_width),dtype=float)\n",
        "imf6_norm_Y = np.zeros((index_length-sequence_width, sequence_width),dtype=float)\n",
        "for i in range(index_length-sequence_width):\n",
        "  imf6_norm_X[i] = imf6_norm[i:i+sequence_width]\n",
        "  imf6_norm_Y[i] = imf6_norm[i+1:i+sequence_width+1]\n",
        "\n",
        "# split the norm_X, and norm_Y to get the corresponding training set, validation set, and test set.\n",
        "# The last 150 samples is test set.\n",
        "imf6_norm_X_train = imf6_norm_X[0 : train_end_index-sequence_width]\n",
        "imf6_norm_Y_train = imf6_norm_Y[0 : train_end_index-sequence_width]\n",
        "imf6_norm_X_validation = imf6_norm_X[train_end_index-sequence_width : validation_end_index-sequence_width]\n",
        "imf6_norm_Y_validation = imf6_norm_Y[train_end_index-sequence_width : validation_end_index-sequence_width]\n",
        "imf6_norm_X_test = imf6_norm_X[validation_end_index-sequence_width : index_length-sequence_width]\n",
        "imf6_norm_Y_test = imf6_norm_Y[validation_end_index-sequence_width : index_length-sequence_width]\n",
        "\n",
        "# Reshape x to shape (nb_of_examples, nb_of_features, 1).\n",
        "# imf6_norm_X_train = imf6_norm_X_train.reshape(imf6_norm_X_train.shape[0], sequence_width, 1)\n",
        "# imf6_norm_Y_train = imf6_norm_Y_train.reshape(imf6_norm_Y_train.shape[0], sequence_width, 1)\n",
        "# imf6_norm_X_validation = imf6_norm_X_validation.reshape(imf6_norm_X_validation.shape[0], sequence_width, 1)\n",
        "# imf6_norm_Y_validation = imf6_norm_Y_validation.reshape(imf6_norm_Y_validation.shape[0], sequence_width, 1)\n",
        "# imf6_norm_X_test = imf6_norm_X_test.reshape(imf6_norm_X_test.shape[0], sequence_width, 1)\n",
        "# imf6_norm_Y_test = imf6_norm_Y_test.reshape(imf6_norm_Y_test.shape[0], sequence_width, 1)"
      ],
      "metadata": {
        "id": "gf_AILoRYIfw"
      },
      "execution_count": 41,
      "outputs": []
    },
    {
      "cell_type": "code",
      "source": [
        "# imf7\n",
        "\n",
        "imf7_norm_X = np.zeros((index_length-sequence_width, sequence_width),dtype=float)\n",
        "imf7_norm_Y = np.zeros((index_length-sequence_width, sequence_width),dtype=float)\n",
        "for i in range(index_length-sequence_width):\n",
        "  imf7_norm_X[i] = imf7_norm[i:i+sequence_width]\n",
        "  imf7_norm_Y[i] = imf7_norm[i+1:i+sequence_width+1]\n",
        "\n",
        "# split the norm_X, and norm_Y to get the corresponding training set, validation set, and test set.\n",
        "# The last 150 samples is test set.\n",
        "imf7_norm_X_train = imf7_norm_X[0 : train_end_index-sequence_width]\n",
        "imf7_norm_Y_train = imf7_norm_Y[0 : train_end_index-sequence_width]\n",
        "imf7_norm_X_validation = imf7_norm_X[train_end_index-sequence_width : validation_end_index-sequence_width]\n",
        "imf7_norm_Y_validation = imf7_norm_Y[train_end_index-sequence_width : validation_end_index-sequence_width]\n",
        "imf7_norm_X_test = imf7_norm_X[validation_end_index-sequence_width : index_length-sequence_width]\n",
        "imf7_norm_Y_test = imf7_norm_Y[validation_end_index-sequence_width : index_length-sequence_width]\n",
        "\n",
        "# Reshape x to shape (nb_of_examples, nb_of_features, 1).\n",
        "# imf7_norm_X_train = imf7_norm_X_train.reshape(imf7_norm_X_train.shape[0], sequence_width, 1)\n",
        "# imf7_norm_Y_train = imf7_norm_Y_train.reshape(imf7_norm_Y_train.shape[0], sequence_width, 1)\n",
        "# imf7_norm_X_validation = imf7_norm_X_validation.reshape(imf7_norm_X_validation.shape[0], sequence_width, 1)\n",
        "# imf7_norm_Y_validation = imf7_norm_Y_validation.reshape(imf7_norm_Y_validation.shape[0], sequence_width, 1)\n",
        "# imf7_norm_X_test = imf7_norm_X_test.reshape(imf7_norm_X_test.shape[0], sequence_width, 1)\n",
        "# imf7_norm_Y_test = imf7_norm_Y_test.reshape(imf7_norm_Y_test.shape[0], sequence_width, 1)"
      ],
      "metadata": {
        "id": "2k9DmUvMYZS7"
      },
      "execution_count": 42,
      "outputs": []
    },
    {
      "cell_type": "code",
      "source": [
        "# residual\n",
        " \n",
        "res_norm_X = np.zeros((index_length-sequence_width, sequence_width),dtype=float)\n",
        "res_norm_Y = np.zeros((index_length-sequence_width, sequence_width),dtype=float)\n",
        "for i in range(index_length-sequence_width):\n",
        "  res_norm_X[i] = res_norm[i:i+sequence_width]\n",
        "  res_norm_Y[i] = res_norm[i+1:i+sequence_width+1]\n",
        "\n",
        "# split the norm_X, and norm_Y to get the corresponding training set, validation set, and test set.\n",
        "# The last 150 samples is test set.\n",
        "res_norm_X_train = res_norm_X[0 : train_end_index-sequence_width]\n",
        "res_norm_Y_train = res_norm_Y[0 : train_end_index-sequence_width]\n",
        "res_norm_X_validation = res_norm_X[train_end_index-sequence_width : validation_end_index-sequence_width]\n",
        "res_norm_Y_validation = res_norm_Y[train_end_index-sequence_width : validation_end_index-sequence_width]\n",
        "res_norm_X_test = res_norm_X[validation_end_index-sequence_width : index_length-sequence_width]\n",
        "res_norm_Y_test = res_norm_Y[validation_end_index-sequence_width : index_length-sequence_width]\n",
        "\n",
        "# Reshape x to shape (nb_of_examples, nb_of_features, 1).\n",
        "# res_norm_X_train = res_norm_X_train.reshape(res_norm_X_train.shape[0], sequence_width, 1)\n",
        "# res_norm_Y_train = res_norm_Y_train.reshape(res_norm_Y_train.shape[0], sequence_width, 1)\n",
        "# res_norm_X_validation = res_norm_X_validation.reshape(res_norm_X_validation.shape[0], sequence_width, 1)\n",
        "# res_norm_Y_validation = res_norm_Y_validation.reshape(res_norm_Y_validation.shape[0], sequence_width, 1)\n",
        "# res_norm_X_test = res_norm_X_test.reshape(res_norm_X_test.shape[0], sequence_width, 1)\n",
        "# res_norm_Y_test = res_norm_Y_test.reshape(res_norm_Y_test.shape[0], sequence_width, 1)"
      ],
      "metadata": {
        "id": "L8pwtZA0Zgd-"
      },
      "execution_count": 43,
      "outputs": []
    },
    {
      "cell_type": "markdown",
      "source": [
        "## Build the forecasing model"
      ],
      "metadata": {
        "id": "o-s01Kt2aAc5"
      }
    },
    {
      "cell_type": "markdown",
      "source": [
        "Define a function, namely EMD_CNN_LSTM, which creates the forecasting model."
      ],
      "metadata": {
        "id": "2ibTBQamb1UZ"
      }
    },
    {
      "cell_type": "code",
      "source": [
        "# Input to base learner\n",
        "inputs = keras.Input(shape=(sequence_width,1), name=\"sequence_input\")"
      ],
      "metadata": {
        "id": "X4C1JLHoawA_"
      },
      "execution_count": 44,
      "outputs": []
    },
    {
      "cell_type": "code",
      "source": [
        "inputs.shape"
      ],
      "metadata": {
        "id": "meaQiIRmirmO",
        "outputId": "0ef617ca-a512-4c33-8849-b6567f4efbaa",
        "colab": {
          "base_uri": "https://localhost:8080/"
        }
      },
      "execution_count": 45,
      "outputs": [
        {
          "output_type": "execute_result",
          "data": {
            "text/plain": [
              "TensorShape([None, 250, 1])"
            ]
          },
          "metadata": {},
          "execution_count": 45
        }
      ]
    },
    {
      "cell_type": "code",
      "source": [
        "# Convolution 1d layer padding = 'same' or 'causal', activation='tanh' or 'none' \n",
        "x_1 = layers.Conv1D(512, 2, strides=1, padding = 'causal', activation= 'sigmoid')(inputs)"
      ],
      "metadata": {
        "id": "VvcdqA7fbQre"
      },
      "execution_count": 46,
      "outputs": []
    },
    {
      "cell_type": "code",
      "source": [
        "x_1.shape"
      ],
      "metadata": {
        "id": "A4IGWJY2i1Ax",
        "outputId": "34a7c091-10f2-4efe-e044-49df54212a23",
        "colab": {
          "base_uri": "https://localhost:8080/"
        }
      },
      "execution_count": 47,
      "outputs": [
        {
          "output_type": "execute_result",
          "data": {
            "text/plain": [
              "TensorShape([None, 250, 512])"
            ]
          },
          "metadata": {},
          "execution_count": 47
        }
      ]
    },
    {
      "cell_type": "code",
      "source": [
        "# max pooling layer\n",
        "x_2 = layers.MaxPooling1D(pool_size=2, strides=1, padding=\"same\")(x_1)"
      ],
      "metadata": {
        "id": "pDkVk_kNbUUH"
      },
      "execution_count": 48,
      "outputs": []
    },
    {
      "cell_type": "code",
      "source": [
        "x_2.shape"
      ],
      "metadata": {
        "id": "p_o0eLTujV7K",
        "outputId": "df329a01-1deb-41c2-e3bd-c37e9e2548c0",
        "colab": {
          "base_uri": "https://localhost:8080/"
        }
      },
      "execution_count": 49,
      "outputs": [
        {
          "output_type": "execute_result",
          "data": {
            "text/plain": [
              "TensorShape([None, 250, 512])"
            ]
          },
          "metadata": {},
          "execution_count": 49
        }
      ]
    },
    {
      "cell_type": "code",
      "source": [
        "# LSTM layer \n",
        "x_3 = layers.LSTM(200, return_sequences=True)(x_2)"
      ],
      "metadata": {
        "id": "G2faic5fih5d"
      },
      "execution_count": 50,
      "outputs": []
    },
    {
      "cell_type": "code",
      "source": [
        "x_3.shape"
      ],
      "metadata": {
        "id": "GcDlfmik1YHs",
        "outputId": "9e20bde2-db67-4ec0-d4dc-48056c7b2158",
        "colab": {
          "base_uri": "https://localhost:8080/"
        }
      },
      "execution_count": 51,
      "outputs": [
        {
          "output_type": "execute_result",
          "data": {
            "text/plain": [
              "TensorShape([None, 250, 200])"
            ]
          },
          "metadata": {},
          "execution_count": 51
        }
      ]
    },
    {
      "cell_type": "code",
      "source": [
        "output = layers.Dense(1)(x_3[:,199])"
      ],
      "metadata": {
        "id": "ZLEcEhweW7_L"
      },
      "execution_count": 52,
      "outputs": []
    },
    {
      "cell_type": "code",
      "source": [
        "output.shape"
      ],
      "metadata": {
        "id": "KKEWkZPGiug-",
        "outputId": "44a6bf59-54bb-4907-e32b-700365eb6954",
        "colab": {
          "base_uri": "https://localhost:8080/"
        }
      },
      "execution_count": 53,
      "outputs": [
        {
          "output_type": "execute_result",
          "data": {
            "text/plain": [
              "TensorShape([None, 1])"
            ]
          },
          "metadata": {},
          "execution_count": 53
        }
      ]
    },
    {
      "cell_type": "code",
      "source": [
        "# Build the model 'Capsule_ConvLSTM_Attention'\n",
        "model_imf1 = keras.Model(inputs=inputs, outputs=output, name=\"model_imf1\")\n",
        "model_imf2 = keras.Model(inputs=inputs, outputs=output, name=\"model_imf2\")\n",
        "model_imf3 = keras.Model(inputs=inputs, outputs=output, name=\"model_imf3\")\n",
        "model_imf4 = keras.Model(inputs=inputs, outputs=output, name=\"model_imf4\")\n",
        "model_imf5 = keras.Model(inputs=inputs, outputs=output, name=\"model_imf5\")\n",
        "model_imf6 = keras.Model(inputs=inputs, outputs=output, name=\"model_imf6\")\n",
        "model_imf7 = keras.Model(inputs=inputs, outputs=output, name=\"model_imf7\")\n",
        "model_res = keras.Model(inputs=inputs, outputs=output, name=\"model_res\")\n"
      ],
      "metadata": {
        "id": "43sa-LDbjxNU"
      },
      "execution_count": 54,
      "outputs": []
    },
    {
      "cell_type": "code",
      "source": [
        "model_imf1.summary()"
      ],
      "metadata": {
        "id": "PQNpWaKmkDFP",
        "outputId": "e5e2ed11-690c-4bea-ecda-8b6faf0642d7",
        "colab": {
          "base_uri": "https://localhost:8080/"
        }
      },
      "execution_count": 55,
      "outputs": [
        {
          "output_type": "stream",
          "name": "stdout",
          "text": [
            "Model: \"model_imf1\"\n",
            "_________________________________________________________________\n",
            " Layer (type)                Output Shape              Param #   \n",
            "=================================================================\n",
            " sequence_input (InputLayer)  [(None, 250, 1)]         0         \n",
            "                                                                 \n",
            " conv1d (Conv1D)             (None, 250, 512)          1536      \n",
            "                                                                 \n",
            " max_pooling1d (MaxPooling1D  (None, 250, 512)         0         \n",
            " )                                                               \n",
            "                                                                 \n",
            " lstm (LSTM)                 (None, 250, 200)          570400    \n",
            "                                                                 \n",
            " tf.__operators__.getitem (S  (None, 200)              0         \n",
            " licingOpLambda)                                                 \n",
            "                                                                 \n",
            " dense (Dense)               (None, 1)                 201       \n",
            "                                                                 \n",
            "=================================================================\n",
            "Total params: 572,137\n",
            "Trainable params: 572,137\n",
            "Non-trainable params: 0\n",
            "_________________________________________________________________\n"
          ]
        }
      ]
    },
    {
      "cell_type": "code",
      "source": [
        "keras.utils.plot_model(model_imf1, \"CNN_LSTM.png\",show_shapes=True)"
      ],
      "metadata": {
        "id": "mWYCwMB0laqh",
        "outputId": "ec534a2b-3ca7-4788-8d42-9276dff6324d",
        "colab": {
          "base_uri": "https://localhost:8080/",
          "height": 644
        }
      },
      "execution_count": 56,
      "outputs": [
        {
          "output_type": "execute_result",
          "data": {
            "text/plain": [
              "<IPython.core.display.Image object>"
            ],
            "image/png": "[encoded data removed]"
          },
          "metadata": {},
          "execution_count": 56
        }
      ]
    },
    {
      "cell_type": "code",
      "source": [
        "# setting optimizer \n",
        "RMSprop_1 = tf.keras.optimizers.RMSprop(learning_rate=0.00005,rho=0.9,momentum=0.0,epsilon=1e-07,centered=False,name=\"RMSprop\",)"
      ],
      "metadata": {
        "id": "-g7pjoNQKxqY"
      },
      "execution_count": 95,
      "outputs": []
    },
    {
      "cell_type": "code",
      "source": [
        "# compile model\n",
        "model_imf1.compile(optimizer= RMSprop_1,  loss=tf.keras.losses.MeanSquaredError(), metrics=[tf.keras.metrics.RootMeanSquaredError()])\n",
        "model_imf2.compile(optimizer=RMSprop_1,  loss=tf.keras.losses.MeanSquaredError(), metrics=[tf.keras.metrics.RootMeanSquaredError()])\n",
        "model_imf3.compile(optimizer=RMSprop_1,  loss=tf.keras.losses.MeanSquaredError(), metrics=[tf.keras.metrics.RootMeanSquaredError()])\n",
        "model_imf4.compile(optimizer=RMSprop_1,  loss=tf.keras.losses.MeanSquaredError(), metrics=[tf.keras.metrics.RootMeanSquaredError()])\n",
        "model_imf5.compile(optimizer=RMSprop_1,  loss=tf.keras.losses.MeanSquaredError(), metrics=[tf.keras.metrics.RootMeanSquaredError()])\n",
        "model_imf6.compile(optimizer=RMSprop_1,  loss=tf.keras.losses.MeanSquaredError(), metrics=[tf.keras.metrics.RootMeanSquaredError()])\n",
        "model_imf7.compile(optimizer=RMSprop_1,  loss=tf.keras.losses.MeanSquaredError(), metrics=[tf.keras.metrics.RootMeanSquaredError()])\n",
        "model_res.compile(optimizer=RMSprop_1,  loss=tf.keras.losses.MeanSquaredError(), metrics=[tf.keras.metrics.RootMeanSquaredError()])\n",
        "    "
      ],
      "metadata": {
        "id": "hPungFZ3ltDv"
      },
      "execution_count": 96,
      "outputs": []
    },
    {
      "cell_type": "code",
      "source": [
        "(x_train, y_train), (x_test, y_test) = keras.datasets.mnist.load_data()\n",
        "\n",
        "x_train = x_train.reshape(60000, 784).astype(\"float32\") / 255\n",
        "x_test = x_test.reshape(10000, 784).astype(\"float32\") / 255"
      ],
      "metadata": {
        "id": "gz97k8mMtQmQ"
      },
      "execution_count": 59,
      "outputs": []
    },
    {
      "cell_type": "code",
      "source": [
        "x_train.shape"
      ],
      "metadata": {
        "id": "pKAfZ9ZKtiux",
        "outputId": "93734b97-1284-4be6-d1d0-887044adfd02",
        "colab": {
          "base_uri": "https://localhost:8080/"
        }
      },
      "execution_count": 60,
      "outputs": [
        {
          "output_type": "execute_result",
          "data": {
            "text/plain": [
              "(60000, 784)"
            ]
          },
          "metadata": {},
          "execution_count": 60
        }
      ]
    },
    {
      "cell_type": "code",
      "source": [
        "x_train.dtype"
      ],
      "metadata": {
        "id": "6NHmeJUgtp1I",
        "outputId": "823913eb-1009-4506-d152-1670704a9a76",
        "colab": {
          "base_uri": "https://localhost:8080/"
        }
      },
      "execution_count": 61,
      "outputs": [
        {
          "output_type": "execute_result",
          "data": {
            "text/plain": [
              "dtype('float32')"
            ]
          },
          "metadata": {},
          "execution_count": 61
        }
      ]
    },
    {
      "cell_type": "code",
      "source": [
        "# fit the model\n",
        "\n",
        "imf1_training_history = model_imf1.fit(imf1_norm_X_train, imf1_norm_Y_train, validation_data=(imf1_norm_X_validation, imf1_norm_Y_validation), epochs=50, batch_size=50, verbose=1)"
      ],
      "metadata": {
        "id": "fX9W11qQorFy",
        "outputId": "cc91a4b5-464c-49e7-b5cc-cb08d911bb86",
        "colab": {
          "base_uri": "https://localhost:8080/"
        }
      },
      "execution_count": 97,
      "outputs": [
        {
          "output_type": "stream",
          "name": "stdout",
          "text": [
            "Epoch 1/50\n",
            "33/33 [==============================] - 3s 47ms/step - loss: 0.0061 - root_mean_squared_error: 0.0781 - val_loss: 0.0139 - val_root_mean_squared_error: 0.1181\n",
            "Epoch 2/50\n",
            "33/33 [==============================] - 1s 33ms/step - loss: 0.0061 - root_mean_squared_error: 0.0780 - val_loss: 0.0139 - val_root_mean_squared_error: 0.1181\n",
            "Epoch 3/50\n",
            "33/33 [==============================] - 1s 34ms/step - loss: 0.0061 - root_mean_squared_error: 0.0780 - val_loss: 0.0139 - val_root_mean_squared_error: 0.1181\n",
            "Epoch 4/50\n",
            "33/33 [==============================] - 1s 33ms/step - loss: 0.0061 - root_mean_squared_error: 0.0780 - val_loss: 0.0139 - val_root_mean_squared_error: 0.1181\n",
            "Epoch 5/50\n",
            "33/33 [==============================] - 1s 34ms/step - loss: 0.0061 - root_mean_squared_error: 0.0780 - val_loss: 0.0139 - val_root_mean_squared_error: 0.1181\n",
            "Epoch 6/50\n",
            "33/33 [==============================] - 1s 34ms/step - loss: 0.0061 - root_mean_squared_error: 0.0780 - val_loss: 0.0139 - val_root_mean_squared_error: 0.1181\n",
            "Epoch 7/50\n",
            "33/33 [==============================] - 1s 34ms/step - loss: 0.0061 - root_mean_squared_error: 0.0780 - val_loss: 0.0139 - val_root_mean_squared_error: 0.1181\n",
            "Epoch 8/50\n",
            "33/33 [==============================] - 1s 34ms/step - loss: 0.0061 - root_mean_squared_error: 0.0780 - val_loss: 0.0139 - val_root_mean_squared_error: 0.1181\n",
            "Epoch 9/50\n",
            "33/33 [==============================] - 1s 34ms/step - loss: 0.0061 - root_mean_squared_error: 0.0780 - val_loss: 0.0139 - val_root_mean_squared_error: 0.1181\n",
            "Epoch 10/50\n",
            "33/33 [==============================] - 1s 34ms/step - loss: 0.0061 - root_mean_squared_error: 0.0780 - val_loss: 0.0139 - val_root_mean_squared_error: 0.1181\n",
            "Epoch 11/50\n",
            "33/33 [==============================] - 1s 34ms/step - loss: 0.0061 - root_mean_squared_error: 0.0780 - val_loss: 0.0139 - val_root_mean_squared_error: 0.1181\n",
            "Epoch 12/50\n",
            "33/33 [==============================] - 1s 34ms/step - loss: 0.0061 - root_mean_squared_error: 0.0780 - val_loss: 0.0139 - val_root_mean_squared_error: 0.1181\n",
            "Epoch 13/50\n",
            "33/33 [==============================] - 1s 34ms/step - loss: 0.0061 - root_mean_squared_error: 0.0780 - val_loss: 0.0139 - val_root_mean_squared_error: 0.1181\n",
            "Epoch 14/50\n",
            "33/33 [==============================] - 1s 34ms/step - loss: 0.0061 - root_mean_squared_error: 0.0780 - val_loss: 0.0139 - val_root_mean_squared_error: 0.1181\n",
            "Epoch 15/50\n",
            "33/33 [==============================] - 1s 34ms/step - loss: 0.0061 - root_mean_squared_error: 0.0780 - val_loss: 0.0139 - val_root_mean_squared_error: 0.1181\n",
            "Epoch 16/50\n",
            "33/33 [==============================] - 1s 34ms/step - loss: 0.0061 - root_mean_squared_error: 0.0780 - val_loss: 0.0139 - val_root_mean_squared_error: 0.1181\n",
            "Epoch 17/50\n",
            "33/33 [==============================] - 1s 34ms/step - loss: 0.0061 - root_mean_squared_error: 0.0780 - val_loss: 0.0139 - val_root_mean_squared_error: 0.1181\n",
            "Epoch 18/50\n",
            "33/33 [==============================] - 1s 35ms/step - loss: 0.0061 - root_mean_squared_error: 0.0780 - val_loss: 0.0139 - val_root_mean_squared_error: 0.1181\n",
            "Epoch 19/50\n",
            "33/33 [==============================] - 1s 34ms/step - loss: 0.0061 - root_mean_squared_error: 0.0780 - val_loss: 0.0139 - val_root_mean_squared_error: 0.1181\n",
            "Epoch 20/50\n",
            "33/33 [==============================] - 1s 34ms/step - loss: 0.0061 - root_mean_squared_error: 0.0780 - val_loss: 0.0139 - val_root_mean_squared_error: 0.1181\n",
            "Epoch 21/50\n",
            "33/33 [==============================] - 1s 34ms/step - loss: 0.0061 - root_mean_squared_error: 0.0780 - val_loss: 0.0139 - val_root_mean_squared_error: 0.1181\n",
            "Epoch 22/50\n",
            "33/33 [==============================] - 1s 34ms/step - loss: 0.0061 - root_mean_squared_error: 0.0780 - val_loss: 0.0139 - val_root_mean_squared_error: 0.1181\n",
            "Epoch 23/50\n",
            "33/33 [==============================] - 1s 34ms/step - loss: 0.0061 - root_mean_squared_error: 0.0780 - val_loss: 0.0139 - val_root_mean_squared_error: 0.1181\n",
            "Epoch 24/50\n",
            "33/33 [==============================] - 1s 34ms/step - loss: 0.0061 - root_mean_squared_error: 0.0780 - val_loss: 0.0139 - val_root_mean_squared_error: 0.1181\n",
            "Epoch 25/50\n",
            "33/33 [==============================] - 1s 34ms/step - loss: 0.0061 - root_mean_squared_error: 0.0780 - val_loss: 0.0139 - val_root_mean_squared_error: 0.1181\n",
            "Epoch 26/50\n",
            "33/33 [==============================] - 1s 34ms/step - loss: 0.0061 - root_mean_squared_error: 0.0780 - val_loss: 0.0139 - val_root_mean_squared_error: 0.1181\n",
            "Epoch 27/50\n",
            "33/33 [==============================] - 1s 34ms/step - loss: 0.0061 - root_mean_squared_error: 0.0780 - val_loss: 0.0139 - val_root_mean_squared_error: 0.1181\n",
            "Epoch 28/50\n",
            "33/33 [==============================] - 1s 35ms/step - loss: 0.0061 - root_mean_squared_error: 0.0780 - val_loss: 0.0139 - val_root_mean_squared_error: 0.1181\n",
            "Epoch 29/50\n",
            "33/33 [==============================] - 1s 35ms/step - loss: 0.0061 - root_mean_squared_error: 0.0780 - val_loss: 0.0139 - val_root_mean_squared_error: 0.1181\n",
            "Epoch 30/50\n",
            "33/33 [==============================] - 1s 35ms/step - loss: 0.0061 - root_mean_squared_error: 0.0780 - val_loss: 0.0139 - val_root_mean_squared_error: 0.1181\n",
            "Epoch 31/50\n",
            "33/33 [==============================] - 1s 35ms/step - loss: 0.0061 - root_mean_squared_error: 0.0780 - val_loss: 0.0139 - val_root_mean_squared_error: 0.1181\n",
            "Epoch 32/50\n",
            "33/33 [==============================] - 1s 34ms/step - loss: 0.0061 - root_mean_squared_error: 0.0780 - val_loss: 0.0139 - val_root_mean_squared_error: 0.1181\n",
            "Epoch 33/50\n",
            "33/33 [==============================] - 1s 35ms/step - loss: 0.0061 - root_mean_squared_error: 0.0780 - val_loss: 0.0139 - val_root_mean_squared_error: 0.1181\n",
            "Epoch 34/50\n",
            "33/33 [==============================] - 1s 34ms/step - loss: 0.0061 - root_mean_squared_error: 0.0780 - val_loss: 0.0139 - val_root_mean_squared_error: 0.1181\n",
            "Epoch 35/50\n",
            "33/33 [==============================] - 1s 34ms/step - loss: 0.0061 - root_mean_squared_error: 0.0780 - val_loss: 0.0139 - val_root_mean_squared_error: 0.1181\n",
            "Epoch 36/50\n",
            "33/33 [==============================] - 1s 34ms/step - loss: 0.0061 - root_mean_squared_error: 0.0780 - val_loss: 0.0139 - val_root_mean_squared_error: 0.1181\n",
            "Epoch 37/50\n",
            "33/33 [==============================] - 1s 34ms/step - loss: 0.0061 - root_mean_squared_error: 0.0780 - val_loss: 0.0139 - val_root_mean_squared_error: 0.1181\n",
            "Epoch 38/50\n",
            "33/33 [==============================] - 1s 34ms/step - loss: 0.0061 - root_mean_squared_error: 0.0780 - val_loss: 0.0139 - val_root_mean_squared_error: 0.1181\n",
            "Epoch 39/50\n",
            "33/33 [==============================] - 1s 34ms/step - loss: 0.0061 - root_mean_squared_error: 0.0780 - val_loss: 0.0139 - val_root_mean_squared_error: 0.1181\n",
            "Epoch 40/50\n",
            "33/33 [==============================] - 1s 34ms/step - loss: 0.0061 - root_mean_squared_error: 0.0780 - val_loss: 0.0139 - val_root_mean_squared_error: 0.1181\n",
            "Epoch 41/50\n",
            "33/33 [==============================] - 1s 35ms/step - loss: 0.0061 - root_mean_squared_error: 0.0780 - val_loss: 0.0139 - val_root_mean_squared_error: 0.1181\n",
            "Epoch 42/50\n",
            "33/33 [==============================] - 1s 34ms/step - loss: 0.0061 - root_mean_squared_error: 0.0780 - val_loss: 0.0139 - val_root_mean_squared_error: 0.1181\n",
            "Epoch 43/50\n",
            "33/33 [==============================] - 1s 34ms/step - loss: 0.0061 - root_mean_squared_error: 0.0780 - val_loss: 0.0139 - val_root_mean_squared_error: 0.1181\n",
            "Epoch 44/50\n",
            "33/33 [==============================] - 1s 34ms/step - loss: 0.0061 - root_mean_squared_error: 0.0780 - val_loss: 0.0139 - val_root_mean_squared_error: 0.1181\n",
            "Epoch 45/50\n",
            "33/33 [==============================] - 1s 34ms/step - loss: 0.0061 - root_mean_squared_error: 0.0780 - val_loss: 0.0139 - val_root_mean_squared_error: 0.1181\n",
            "Epoch 46/50\n",
            "33/33 [==============================] - 1s 34ms/step - loss: 0.0061 - root_mean_squared_error: 0.0780 - val_loss: 0.0139 - val_root_mean_squared_error: 0.1181\n",
            "Epoch 47/50\n",
            "33/33 [==============================] - 1s 35ms/step - loss: 0.0061 - root_mean_squared_error: 0.0780 - val_loss: 0.0139 - val_root_mean_squared_error: 0.1181\n",
            "Epoch 48/50\n",
            "33/33 [==============================] - 1s 34ms/step - loss: 0.0061 - root_mean_squared_error: 0.0780 - val_loss: 0.0139 - val_root_mean_squared_error: 0.1181\n",
            "Epoch 49/50\n",
            "33/33 [==============================] - 1s 34ms/step - loss: 0.0061 - root_mean_squared_error: 0.0780 - val_loss: 0.0139 - val_root_mean_squared_error: 0.1181\n",
            "Epoch 50/50\n",
            "33/33 [==============================] - 1s 34ms/step - loss: 0.0061 - root_mean_squared_error: 0.0780 - val_loss: 0.0139 - val_root_mean_squared_error: 0.1181\n"
          ]
        }
      ]
    },
    {
      "cell_type": "code",
      "source": [
        "!nvidia-smi -L"
      ],
      "metadata": {
        "colab": {
          "base_uri": "https://localhost:8080/"
        },
        "id": "ZpW6f3MY5H1p",
        "outputId": "2dc7591f-6d49-4c03-c697-0e664cb97d53"
      },
      "execution_count": 63,
      "outputs": [
        {
          "output_type": "stream",
          "name": "stdout",
          "text": [
            "GPU 0: Tesla T4 (UUID: GPU-8c1c2a0e-14f3-2689-dd34-0463c4c873e8)\n"
          ]
        }
      ]
    },
    {
      "cell_type": "code",
      "source": [
        "plt.plot(imf1_training_history.history['root_mean_squared_error'])\n",
        "plt.plot(imf1_training_history.history['val_root_mean_squared_error'])\n",
        "plt.title('model RMSE')\n",
        "plt.ylabel('RMSE')\n",
        "plt.xlabel('epoch')\n",
        "plt.legend(['train', 'val'], loc='upper left')\n",
        "plt.show()"
      ],
      "metadata": {
        "colab": {
          "base_uri": "https://localhost:8080/",
          "height": 295
        },
        "id": "TbHgCf4J7RzC",
        "outputId": "bc270aea-1468-412c-f9ec-db26207a598c"
      },
      "execution_count": 98,
      "outputs": [
        {
          "output_type": "display_data",
          "data": {
            "text/plain": [
              "<Figure size 432x288 with 1 Axes>"
            ],
            "image/png": "[encoded data removed]"
          },
          "metadata": {
            "needs_background": "light"
          }
        }
      ]
    },
    {
      "cell_type": "code",
      "source": [
        "# make a prediction on imf1\n",
        "imf1_norm_Y_hat = model_imf1.predict(imf1_norm_X_test)"
      ],
      "metadata": {
        "id": "EbdD4ibk_wIh"
      },
      "execution_count": 65,
      "outputs": []
    },
    {
      "cell_type": "code",
      "source": [
        "imf1_norm_Y_hat_train = model_imf1.predict(imf1_norm_X_train)"
      ],
      "metadata": {
        "id": "1rlLKjJyNIG0"
      },
      "execution_count": 66,
      "outputs": []
    },
    {
      "cell_type": "code",
      "source": [
        "plt.plot(imf1_norm_Y_hat_train)\n"
      ],
      "metadata": {
        "id": "A4XIcOcyNPyh",
        "outputId": "a8c3a8a0-6003-4f72-d820-b664944285bf",
        "colab": {
          "base_uri": "https://localhost:8080/",
          "height": 283
        }
      },
      "execution_count": 67,
      "outputs": [
        {
          "output_type": "execute_result",
          "data": {
            "text/plain": [
              "[<matplotlib.lines.Line2D at 0x7f43f3383c50>]"
            ]
          },
          "metadata": {},
          "execution_count": 67
        },
        {
          "output_type": "display_data",
          "data": {
            "text/plain": [
              "<Figure size 432x288 with 1 Axes>"
            ],
            "image/png": "[encoded data removed]"
          },
          "metadata": {
            "needs_background": "light"
          }
        }
      ]
    },
    {
      "cell_type": "code",
      "source": [
        "plt.plot(imf1_train_norm)"
      ],
      "metadata": {
        "id": "pBnBj6rZNv-o",
        "outputId": "af827598-a4f2-4bf1-d24c-db9956bef3a6",
        "colab": {
          "base_uri": "https://localhost:8080/",
          "height": 283
        }
      },
      "execution_count": 68,
      "outputs": [
        {
          "output_type": "execute_result",
          "data": {
            "text/plain": [
              "[<matplotlib.lines.Line2D at 0x7f43f3b3b5d0>]"
            ]
          },
          "metadata": {},
          "execution_count": 68
        },
        {
          "output_type": "display_data",
          "data": {
            "text/plain": [
              "<Figure size 432x288 with 1 Axes>"
            ],
            "image/png": "[encoded data removed]"
          },
          "metadata": {
            "needs_background": "light"
          }
        }
      ]
    },
    {
      "cell_type": "code",
      "source": [
        "imf1_norm_Y_hat.shape"
      ],
      "metadata": {
        "colab": {
          "base_uri": "https://localhost:8080/"
        },
        "id": "bOcl67ddA-va",
        "outputId": "f3f05828-8180-4d49-e1d1-57de81eb8d68"
      },
      "execution_count": 69,
      "outputs": [
        {
          "output_type": "execute_result",
          "data": {
            "text/plain": [
              "(150, 1)"
            ]
          },
          "metadata": {},
          "execution_count": 69
        }
      ]
    },
    {
      "cell_type": "code",
      "source": [
        "imf1_norm_Y_hat = np.reshape(imf1_norm_Y_hat, (150,))"
      ],
      "metadata": {
        "id": "MykKTuNqHuUF"
      },
      "execution_count": 70,
      "outputs": []
    },
    {
      "cell_type": "code",
      "source": [
        "imf1_norm_Y_hat.shape"
      ],
      "metadata": {
        "colab": {
          "base_uri": "https://localhost:8080/"
        },
        "id": "h-OCWP_lH9Ob",
        "outputId": "e29a8546-18ee-4623-a0b1-7b3e2db99df8"
      },
      "execution_count": 71,
      "outputs": [
        {
          "output_type": "execute_result",
          "data": {
            "text/plain": [
              "(150,)"
            ]
          },
          "metadata": {},
          "execution_count": 71
        }
      ]
    },
    {
      "cell_type": "code",
      "source": [
        "imf1_test_norm.shape"
      ],
      "metadata": {
        "colab": {
          "base_uri": "https://localhost:8080/"
        },
        "id": "EXWFniYuHl7K",
        "outputId": "92a5b535-2c37-411f-f00e-816a1af3959a"
      },
      "execution_count": 72,
      "outputs": [
        {
          "output_type": "execute_result",
          "data": {
            "text/plain": [
              "(150,)"
            ]
          },
          "metadata": {},
          "execution_count": 72
        }
      ]
    },
    {
      "cell_type": "code",
      "source": [
        "plt.plot(imf1_norm_Y_hat)\n",
        "plt.plot(imf1_test_norm)\n",
        "plt.show()"
      ],
      "metadata": {
        "colab": {
          "base_uri": "https://localhost:8080/",
          "height": 265
        },
        "id": "CFXyXqYxAbxB",
        "outputId": "8d97f061-7668-4eca-ca67-d5c12d085b21"
      },
      "execution_count": 73,
      "outputs": [
        {
          "output_type": "display_data",
          "data": {
            "text/plain": [
              "<Figure size 432x288 with 1 Axes>"
            ],
            "image/png": "[encoded data removed]"
          },
          "metadata": {
            "needs_background": "light"
          }
        }
      ]
    },
    {
      "cell_type": "code",
      "source": [
        "# reverse the norm prediction\n",
        "imf1_Y_hat = imf1_norm_Y_hat * (max(imf1_train) - min(imf1_train)) + min(imf1_train)\n"
      ],
      "metadata": {
        "id": "DXKmVycWlVCB"
      },
      "execution_count": 74,
      "outputs": []
    },
    {
      "cell_type": "code",
      "source": [
        "plt.plot(imf1_Y_hat)\n",
        "plt.plot(imf1_test)\n",
        "plt.show()"
      ],
      "metadata": {
        "colab": {
          "base_uri": "https://localhost:8080/",
          "height": 265
        },
        "id": "irzbjdvyCIKZ",
        "outputId": "9a678d38-aa23-4a2c-c110-491969064c1f"
      },
      "execution_count": 75,
      "outputs": [
        {
          "output_type": "display_data",
          "data": {
            "text/plain": [
              "<Figure size 432x288 with 1 Axes>"
            ],
            "image/png": "[encoded data removed]"
          },
          "metadata": {
            "needs_background": "light"
          }
        }
      ]
    },
    {
      "cell_type": "code",
      "source": [
        "imf1_Y_hat.shape"
      ],
      "metadata": {
        "colab": {
          "base_uri": "https://localhost:8080/"
        },
        "id": "q8-u_sGFGXrb",
        "outputId": "36366669-a05e-46af-b992-dc6f9188e3ce"
      },
      "execution_count": 76,
      "outputs": [
        {
          "output_type": "execute_result",
          "data": {
            "text/plain": [
              "(150,)"
            ]
          },
          "metadata": {},
          "execution_count": 76
        }
      ]
    },
    {
      "cell_type": "code",
      "source": [
        "imf1_test.shape"
      ],
      "metadata": {
        "colab": {
          "base_uri": "https://localhost:8080/"
        },
        "id": "S3QqV__hHLX-",
        "outputId": "7a77d843-690e-4ac6-a0f4-a9f37b1e41eb"
      },
      "execution_count": 77,
      "outputs": [
        {
          "output_type": "execute_result",
          "data": {
            "text/plain": [
              "(150,)"
            ]
          },
          "metadata": {},
          "execution_count": 77
        }
      ]
    },
    {
      "cell_type": "code",
      "source": [
        "rmse_1 = np.mean(np.sqrt(np.mean((imf1_Y_hat - imf1_test) ** 2)))"
      ],
      "metadata": {
        "id": "KO71ZmCBDLwA"
      },
      "execution_count": 78,
      "outputs": []
    },
    {
      "cell_type": "code",
      "source": [
        "rmse_1"
      ],
      "metadata": {
        "colab": {
          "base_uri": "https://localhost:8080/"
        },
        "id": "GfJJ2SCeGDoF",
        "outputId": "8b325e37-ddbe-4a27-9d9e-cce06727d678"
      },
      "execution_count": 79,
      "outputs": [
        {
          "output_type": "execute_result",
          "data": {
            "text/plain": [
              "97.35257829600162"
            ]
          },
          "metadata": {},
          "execution_count": 79
        }
      ]
    },
    {
      "cell_type": "code",
      "source": [
        "# train model_imf2\n",
        "imf2_training_history = model_imf2.fit(imf2_norm_X_train, imf2_norm_Y_train, validation_data=(imf2_norm_X_validation, imf2_norm_Y_validation), epochs=50, batch_size=200, verbose=1)"
      ],
      "metadata": {
        "colab": {
          "base_uri": "https://localhost:8080/"
        },
        "id": "CLyIad_YCzii",
        "outputId": "87b90de1-adea-49a4-d131-8e5c24540dd3"
      },
      "execution_count": 80,
      "outputs": [
        {
          "output_type": "stream",
          "name": "stdout",
          "text": [
            "Epoch 1/50\n",
            "9/9 [==============================] - 2s 139ms/step - loss: 0.0208 - root_mean_squared_error: 0.1441 - val_loss: 0.0580 - val_root_mean_squared_error: 0.2408\n",
            "Epoch 2/50\n",
            "9/9 [==============================] - 1s 92ms/step - loss: 0.0206 - root_mean_squared_error: 0.1436 - val_loss: 0.0580 - val_root_mean_squared_error: 0.2409\n",
            "Epoch 3/50\n",
            "9/9 [==============================] - 1s 91ms/step - loss: 0.0206 - root_mean_squared_error: 0.1437 - val_loss: 0.0580 - val_root_mean_squared_error: 0.2408\n",
            "Epoch 4/50\n",
            "9/9 [==============================] - 1s 91ms/step - loss: 0.0206 - root_mean_squared_error: 0.1436 - val_loss: 0.0580 - val_root_mean_squared_error: 0.2408\n",
            "Epoch 5/50\n",
            "9/9 [==============================] - 1s 92ms/step - loss: 0.0206 - root_mean_squared_error: 0.1437 - val_loss: 0.0581 - val_root_mean_squared_error: 0.2409\n",
            "Epoch 6/50\n",
            "9/9 [==============================] - 1s 91ms/step - loss: 0.0206 - root_mean_squared_error: 0.1436 - val_loss: 0.0580 - val_root_mean_squared_error: 0.2408\n",
            "Epoch 7/50\n",
            "9/9 [==============================] - 1s 91ms/step - loss: 0.0206 - root_mean_squared_error: 0.1436 - val_loss: 0.0581 - val_root_mean_squared_error: 0.2409\n",
            "Epoch 8/50\n",
            "9/9 [==============================] - 1s 91ms/step - loss: 0.0206 - root_mean_squared_error: 0.1437 - val_loss: 0.0580 - val_root_mean_squared_error: 0.2408\n",
            "Epoch 9/50\n",
            "9/9 [==============================] - 1s 92ms/step - loss: 0.0206 - root_mean_squared_error: 0.1436 - val_loss: 0.0580 - val_root_mean_squared_error: 0.2408\n",
            "Epoch 10/50\n",
            "9/9 [==============================] - 1s 91ms/step - loss: 0.0206 - root_mean_squared_error: 0.1437 - val_loss: 0.0580 - val_root_mean_squared_error: 0.2408\n",
            "Epoch 11/50\n",
            "9/9 [==============================] - 1s 91ms/step - loss: 0.0206 - root_mean_squared_error: 0.1436 - val_loss: 0.0580 - val_root_mean_squared_error: 0.2408\n",
            "Epoch 12/50\n",
            "9/9 [==============================] - 1s 92ms/step - loss: 0.0206 - root_mean_squared_error: 0.1436 - val_loss: 0.0580 - val_root_mean_squared_error: 0.2409\n",
            "Epoch 13/50\n",
            "9/9 [==============================] - 1s 91ms/step - loss: 0.0206 - root_mean_squared_error: 0.1436 - val_loss: 0.0580 - val_root_mean_squared_error: 0.2409\n",
            "Epoch 14/50\n",
            "9/9 [==============================] - 1s 91ms/step - loss: 0.0206 - root_mean_squared_error: 0.1437 - val_loss: 0.0580 - val_root_mean_squared_error: 0.2408\n",
            "Epoch 15/50\n",
            "9/9 [==============================] - 1s 92ms/step - loss: 0.0206 - root_mean_squared_error: 0.1436 - val_loss: 0.0581 - val_root_mean_squared_error: 0.2411\n",
            "Epoch 16/50\n",
            "9/9 [==============================] - 1s 91ms/step - loss: 0.0206 - root_mean_squared_error: 0.1436 - val_loss: 0.0580 - val_root_mean_squared_error: 0.2408\n",
            "Epoch 17/50\n",
            "9/9 [==============================] - 1s 92ms/step - loss: 0.0206 - root_mean_squared_error: 0.1437 - val_loss: 0.0580 - val_root_mean_squared_error: 0.2409\n",
            "Epoch 18/50\n",
            "9/9 [==============================] - 1s 91ms/step - loss: 0.0206 - root_mean_squared_error: 0.1436 - val_loss: 0.0580 - val_root_mean_squared_error: 0.2408\n",
            "Epoch 19/50\n",
            "9/9 [==============================] - 1s 92ms/step - loss: 0.0206 - root_mean_squared_error: 0.1436 - val_loss: 0.0581 - val_root_mean_squared_error: 0.2410\n",
            "Epoch 20/50\n",
            "9/9 [==============================] - 1s 92ms/step - loss: 0.0206 - root_mean_squared_error: 0.1437 - val_loss: 0.0580 - val_root_mean_squared_error: 0.2408\n",
            "Epoch 21/50\n",
            "9/9 [==============================] - 1s 92ms/step - loss: 0.0206 - root_mean_squared_error: 0.1436 - val_loss: 0.0581 - val_root_mean_squared_error: 0.2411\n",
            "Epoch 22/50\n",
            "9/9 [==============================] - 1s 91ms/step - loss: 0.0206 - root_mean_squared_error: 0.1436 - val_loss: 0.0580 - val_root_mean_squared_error: 0.2409\n",
            "Epoch 23/50\n",
            "9/9 [==============================] - 1s 92ms/step - loss: 0.0206 - root_mean_squared_error: 0.1436 - val_loss: 0.0580 - val_root_mean_squared_error: 0.2409\n",
            "Epoch 24/50\n",
            "9/9 [==============================] - 1s 91ms/step - loss: 0.0206 - root_mean_squared_error: 0.1436 - val_loss: 0.0580 - val_root_mean_squared_error: 0.2408\n",
            "Epoch 25/50\n",
            "9/9 [==============================] - 1s 91ms/step - loss: 0.0206 - root_mean_squared_error: 0.1437 - val_loss: 0.0580 - val_root_mean_squared_error: 0.2408\n",
            "Epoch 26/50\n",
            "9/9 [==============================] - 1s 92ms/step - loss: 0.0206 - root_mean_squared_error: 0.1436 - val_loss: 0.0580 - val_root_mean_squared_error: 0.2408\n",
            "Epoch 27/50\n",
            "9/9 [==============================] - 1s 92ms/step - loss: 0.0206 - root_mean_squared_error: 0.1436 - val_loss: 0.0581 - val_root_mean_squared_error: 0.2410\n",
            "Epoch 28/50\n",
            "9/9 [==============================] - 1s 91ms/step - loss: 0.0206 - root_mean_squared_error: 0.1436 - val_loss: 0.0580 - val_root_mean_squared_error: 0.2408\n",
            "Epoch 29/50\n",
            "9/9 [==============================] - 1s 91ms/step - loss: 0.0206 - root_mean_squared_error: 0.1436 - val_loss: 0.0581 - val_root_mean_squared_error: 0.2410\n",
            "Epoch 30/50\n",
            "9/9 [==============================] - 1s 92ms/step - loss: 0.0206 - root_mean_squared_error: 0.1436 - val_loss: 0.0580 - val_root_mean_squared_error: 0.2408\n",
            "Epoch 31/50\n",
            "9/9 [==============================] - 1s 91ms/step - loss: 0.0206 - root_mean_squared_error: 0.1436 - val_loss: 0.0580 - val_root_mean_squared_error: 0.2409\n",
            "Epoch 32/50\n",
            "9/9 [==============================] - 1s 91ms/step - loss: 0.0207 - root_mean_squared_error: 0.1437 - val_loss: 0.0580 - val_root_mean_squared_error: 0.2408\n",
            "Epoch 33/50\n",
            "9/9 [==============================] - 1s 92ms/step - loss: 0.0206 - root_mean_squared_error: 0.1436 - val_loss: 0.0580 - val_root_mean_squared_error: 0.2409\n",
            "Epoch 34/50\n",
            "9/9 [==============================] - 1s 92ms/step - loss: 0.0206 - root_mean_squared_error: 0.1436 - val_loss: 0.0581 - val_root_mean_squared_error: 0.2410\n",
            "Epoch 35/50\n",
            "9/9 [==============================] - 1s 92ms/step - loss: 0.0206 - root_mean_squared_error: 0.1436 - val_loss: 0.0580 - val_root_mean_squared_error: 0.2408\n",
            "Epoch 36/50\n",
            "9/9 [==============================] - 1s 91ms/step - loss: 0.0206 - root_mean_squared_error: 0.1436 - val_loss: 0.0581 - val_root_mean_squared_error: 0.2410\n",
            "Epoch 37/50\n",
            "9/9 [==============================] - 1s 91ms/step - loss: 0.0206 - root_mean_squared_error: 0.1436 - val_loss: 0.0580 - val_root_mean_squared_error: 0.2408\n",
            "Epoch 38/50\n",
            "9/9 [==============================] - 1s 92ms/step - loss: 0.0206 - root_mean_squared_error: 0.1437 - val_loss: 0.0580 - val_root_mean_squared_error: 0.2409\n",
            "Epoch 39/50\n",
            "9/9 [==============================] - 1s 92ms/step - loss: 0.0206 - root_mean_squared_error: 0.1436 - val_loss: 0.0580 - val_root_mean_squared_error: 0.2408\n",
            "Epoch 40/50\n",
            "9/9 [==============================] - 1s 91ms/step - loss: 0.0207 - root_mean_squared_error: 0.1437 - val_loss: 0.0580 - val_root_mean_squared_error: 0.2408\n",
            "Epoch 41/50\n",
            "9/9 [==============================] - 1s 91ms/step - loss: 0.0206 - root_mean_squared_error: 0.1436 - val_loss: 0.0581 - val_root_mean_squared_error: 0.2411\n",
            "Epoch 42/50\n",
            "9/9 [==============================] - 1s 92ms/step - loss: 0.0206 - root_mean_squared_error: 0.1436 - val_loss: 0.0580 - val_root_mean_squared_error: 0.2408\n",
            "Epoch 43/50\n",
            "9/9 [==============================] - 1s 92ms/step - loss: 0.0206 - root_mean_squared_error: 0.1437 - val_loss: 0.0580 - val_root_mean_squared_error: 0.2409\n",
            "Epoch 44/50\n",
            "9/9 [==============================] - 1s 91ms/step - loss: 0.0206 - root_mean_squared_error: 0.1436 - val_loss: 0.0580 - val_root_mean_squared_error: 0.2408\n",
            "Epoch 45/50\n",
            "9/9 [==============================] - 1s 92ms/step - loss: 0.0206 - root_mean_squared_error: 0.1436 - val_loss: 0.0581 - val_root_mean_squared_error: 0.2410\n",
            "Epoch 46/50\n",
            "9/9 [==============================] - 1s 92ms/step - loss: 0.0206 - root_mean_squared_error: 0.1436 - val_loss: 0.0580 - val_root_mean_squared_error: 0.2408\n",
            "Epoch 47/50\n",
            "9/9 [==============================] - 1s 92ms/step - loss: 0.0206 - root_mean_squared_error: 0.1437 - val_loss: 0.0580 - val_root_mean_squared_error: 0.2408\n",
            "Epoch 48/50\n",
            "9/9 [==============================] - 1s 92ms/step - loss: 0.0206 - root_mean_squared_error: 0.1436 - val_loss: 0.0582 - val_root_mean_squared_error: 0.2413\n",
            "Epoch 49/50\n",
            "9/9 [==============================] - 1s 92ms/step - loss: 0.0206 - root_mean_squared_error: 0.1437 - val_loss: 0.0580 - val_root_mean_squared_error: 0.2408\n",
            "Epoch 50/50\n",
            "9/9 [==============================] - 1s 92ms/step - loss: 0.0206 - root_mean_squared_error: 0.1437 - val_loss: 0.0580 - val_root_mean_squared_error: 0.2409\n"
          ]
        }
      ]
    },
    {
      "cell_type": "code",
      "source": [
        "plt.plot(imf2_training_history.history['root_mean_squared_error'])\n",
        "plt.plot(imf2_training_history.history['val_root_mean_squared_error'])\n",
        "plt.title('model RMSE')\n",
        "plt.ylabel('RMSE')\n",
        "plt.xlabel('epoch')\n",
        "plt.legend(['train', 'val'], loc='upper left')\n",
        "plt.show()"
      ],
      "metadata": {
        "colab": {
          "base_uri": "https://localhost:8080/",
          "height": 295
        },
        "id": "KoNRK-LhE3mA",
        "outputId": "4f87ff28-5645-446a-e238-5e64dde5b78f"
      },
      "execution_count": 81,
      "outputs": [
        {
          "output_type": "display_data",
          "data": {
            "text/plain": [
              "<Figure size 432x288 with 1 Axes>"
            ],
            "image/png": "[encoded data removed]"
          },
          "metadata": {
            "needs_background": "light"
          }
        }
      ]
    },
    {
      "cell_type": "code",
      "source": [
        "# make a prediction on imf2\n",
        "imf2_norm_Y_hat = model_imf2.predict(imf2_norm_X_test)"
      ],
      "metadata": {
        "id": "u8UyxFHoFESQ"
      },
      "execution_count": 82,
      "outputs": []
    },
    {
      "cell_type": "code",
      "source": [
        "plt.plot(imf2_norm_Y_hat)\n",
        "plt.plot(imf2_test_norm)\n",
        "plt.show()"
      ],
      "metadata": {
        "colab": {
          "base_uri": "https://localhost:8080/",
          "height": 265
        },
        "id": "qHveATDFFLXG",
        "outputId": "37bfaa29-0963-4282-b321-956880dcc5ec"
      },
      "execution_count": 83,
      "outputs": [
        {
          "output_type": "display_data",
          "data": {
            "text/plain": [
              "<Figure size 432x288 with 1 Axes>"
            ],
            "image/png": "[encoded data removed]"
          },
          "metadata": {
            "needs_background": "light"
          }
        }
      ]
    },
    {
      "cell_type": "code",
      "source": [
        "# reverse the norm prediction\n",
        "imf2_Y_hat = imf2_norm_Y_hat * (max(imf2_train) - min(imf2_train)) + min(imf2_train)"
      ],
      "metadata": {
        "id": "GBa06Hq8FYiQ"
      },
      "execution_count": 84,
      "outputs": []
    },
    {
      "cell_type": "code",
      "source": [
        "plt.plot(imf2_Y_hat)\n",
        "plt.plot(imf2_test)\n",
        "plt.show()"
      ],
      "metadata": {
        "colab": {
          "base_uri": "https://localhost:8080/",
          "height": 265
        },
        "id": "bod_VSZ6FjMi",
        "outputId": "5fd71e15-164c-4502-955b-4918a7ca4d5f"
      },
      "execution_count": 85,
      "outputs": [
        {
          "output_type": "display_data",
          "data": {
            "text/plain": [
              "<Figure size 432x288 with 1 Axes>"
            ],
            "image/png": "[encoded data removed]"
          },
          "metadata": {
            "needs_background": "light"
          }
        }
      ]
    },
    {
      "cell_type": "code",
      "source": [
        "rmse_2 = np.mean(np.sqrt(np.mean((imf2_Y_hat - imf2_test) ** 2)))"
      ],
      "metadata": {
        "id": "_ktITdMrbsaN"
      },
      "execution_count": 86,
      "outputs": []
    },
    {
      "cell_type": "code",
      "source": [
        "rmse_2"
      ],
      "metadata": {
        "colab": {
          "base_uri": "https://localhost:8080/"
        },
        "id": "pvEjj2YqbvqE",
        "outputId": "0af57795-3930-4e91-c341-36a40970ed45"
      },
      "execution_count": 87,
      "outputs": [
        {
          "output_type": "execute_result",
          "data": {
            "text/plain": [
              "122.61170036116059"
            ]
          },
          "metadata": {},
          "execution_count": 87
        }
      ]
    },
    {
      "cell_type": "code",
      "source": [
        "imf3_training_history = model_imf3.fit(imf3_norm_X_train, imf3_norm_Y_train, validation_data=(imf3_norm_X_validation, imf3_norm_Y_validation), epochs=260, batch_size=200, verbose=1)"
      ],
      "metadata": {
        "colab": {
          "base_uri": "https://localhost:8080/"
        },
        "id": "cinfpUq8iTvq",
        "outputId": "e520cd19-d6a0-45d7-a402-173aa30ed720"
      },
      "execution_count": 88,
      "outputs": [
        {
          "output_type": "stream",
          "name": "stdout",
          "text": [
            "Epoch 1/260\n",
            "9/9 [==============================] - 2s 140ms/step - loss: 0.0109 - root_mean_squared_error: 0.1044 - val_loss: 0.0399 - val_root_mean_squared_error: 0.1996\n",
            "Epoch 2/260\n",
            "9/9 [==============================] - 1s 92ms/step - loss: 0.0109 - root_mean_squared_error: 0.1042 - val_loss: 0.0401 - val_root_mean_squared_error: 0.2002\n",
            "Epoch 3/260\n",
            "9/9 [==============================] - 1s 91ms/step - loss: 0.0109 - root_mean_squared_error: 0.1043 - val_loss: 0.0398 - val_root_mean_squared_error: 0.1995\n",
            "Epoch 4/260\n",
            "9/9 [==============================] - 1s 91ms/step - loss: 0.0109 - root_mean_squared_error: 0.1043 - val_loss: 0.0400 - val_root_mean_squared_error: 0.2000\n",
            "Epoch 5/260\n",
            "9/9 [==============================] - 1s 92ms/step - loss: 0.0109 - root_mean_squared_error: 0.1043 - val_loss: 0.0398 - val_root_mean_squared_error: 0.1995\n",
            "Epoch 6/260\n",
            "9/9 [==============================] - 1s 91ms/step - loss: 0.0109 - root_mean_squared_error: 0.1042 - val_loss: 0.0399 - val_root_mean_squared_error: 0.1997\n",
            "Epoch 7/260\n",
            "9/9 [==============================] - 1s 91ms/step - loss: 0.0109 - root_mean_squared_error: 0.1043 - val_loss: 0.0398 - val_root_mean_squared_error: 0.1995\n",
            "Epoch 8/260\n",
            "9/9 [==============================] - 1s 92ms/step - loss: 0.0109 - root_mean_squared_error: 0.1043 - val_loss: 0.0400 - val_root_mean_squared_error: 0.2000\n",
            "Epoch 9/260\n",
            "9/9 [==============================] - 1s 91ms/step - loss: 0.0109 - root_mean_squared_error: 0.1043 - val_loss: 0.0398 - val_root_mean_squared_error: 0.1995\n",
            "Epoch 10/260\n",
            "9/9 [==============================] - 1s 91ms/step - loss: 0.0109 - root_mean_squared_error: 0.1043 - val_loss: 0.0399 - val_root_mean_squared_error: 0.1997\n",
            "Epoch 11/260\n",
            "9/9 [==============================] - 1s 91ms/step - loss: 0.0109 - root_mean_squared_error: 0.1042 - val_loss: 0.0398 - val_root_mean_squared_error: 0.1995\n",
            "Epoch 12/260\n",
            "9/9 [==============================] - 1s 92ms/step - loss: 0.0109 - root_mean_squared_error: 0.1043 - val_loss: 0.0399 - val_root_mean_squared_error: 0.1996\n",
            "Epoch 13/260\n",
            "9/9 [==============================] - 1s 92ms/step - loss: 0.0109 - root_mean_squared_error: 0.1043 - val_loss: 0.0400 - val_root_mean_squared_error: 0.2000\n",
            "Epoch 14/260\n",
            "9/9 [==============================] - 1s 92ms/step - loss: 0.0109 - root_mean_squared_error: 0.1042 - val_loss: 0.0398 - val_root_mean_squared_error: 0.1996\n",
            "Epoch 15/260\n",
            "9/9 [==============================] - 1s 92ms/step - loss: 0.0109 - root_mean_squared_error: 0.1043 - val_loss: 0.0398 - val_root_mean_squared_error: 0.1995\n",
            "Epoch 16/260\n",
            "9/9 [==============================] - 1s 93ms/step - loss: 0.0109 - root_mean_squared_error: 0.1042 - val_loss: 0.0400 - val_root_mean_squared_error: 0.1999\n",
            "Epoch 17/260\n",
            "9/9 [==============================] - 1s 93ms/step - loss: 0.0109 - root_mean_squared_error: 0.1043 - val_loss: 0.0398 - val_root_mean_squared_error: 0.1995\n",
            "Epoch 18/260\n",
            "9/9 [==============================] - 1s 93ms/step - loss: 0.0109 - root_mean_squared_error: 0.1042 - val_loss: 0.0399 - val_root_mean_squared_error: 0.1998\n",
            "Epoch 19/260\n",
            "9/9 [==============================] - 1s 92ms/step - loss: 0.0109 - root_mean_squared_error: 0.1043 - val_loss: 0.0398 - val_root_mean_squared_error: 0.1995\n",
            "Epoch 20/260\n",
            "9/9 [==============================] - 1s 92ms/step - loss: 0.0109 - root_mean_squared_error: 0.1042 - val_loss: 0.0399 - val_root_mean_squared_error: 0.1998\n",
            "Epoch 21/260\n",
            "9/9 [==============================] - 1s 92ms/step - loss: 0.0109 - root_mean_squared_error: 0.1043 - val_loss: 0.0398 - val_root_mean_squared_error: 0.1995\n",
            "Epoch 22/260\n",
            "9/9 [==============================] - 1s 93ms/step - loss: 0.0109 - root_mean_squared_error: 0.1042 - val_loss: 0.0399 - val_root_mean_squared_error: 0.1997\n",
            "Epoch 23/260\n",
            "9/9 [==============================] - 1s 92ms/step - loss: 0.0109 - root_mean_squared_error: 0.1044 - val_loss: 0.0399 - val_root_mean_squared_error: 0.1997\n",
            "Epoch 24/260\n",
            "9/9 [==============================] - 1s 92ms/step - loss: 0.0109 - root_mean_squared_error: 0.1042 - val_loss: 0.0398 - val_root_mean_squared_error: 0.1995\n",
            "Epoch 25/260\n",
            "9/9 [==============================] - 1s 92ms/step - loss: 0.0109 - root_mean_squared_error: 0.1042 - val_loss: 0.0399 - val_root_mean_squared_error: 0.1998\n",
            "Epoch 26/260\n",
            "9/9 [==============================] - 1s 92ms/step - loss: 0.0109 - root_mean_squared_error: 0.1043 - val_loss: 0.0398 - val_root_mean_squared_error: 0.1995\n",
            "Epoch 27/260\n",
            "9/9 [==============================] - 1s 92ms/step - loss: 0.0109 - root_mean_squared_error: 0.1043 - val_loss: 0.0400 - val_root_mean_squared_error: 0.1999\n",
            "Epoch 28/260\n",
            "9/9 [==============================] - 1s 92ms/step - loss: 0.0109 - root_mean_squared_error: 0.1042 - val_loss: 0.0398 - val_root_mean_squared_error: 0.1996\n",
            "Epoch 29/260\n",
            "9/9 [==============================] - 1s 92ms/step - loss: 0.0109 - root_mean_squared_error: 0.1043 - val_loss: 0.0400 - val_root_mean_squared_error: 0.1999\n",
            "Epoch 30/260\n",
            "9/9 [==============================] - 1s 92ms/step - loss: 0.0109 - root_mean_squared_error: 0.1042 - val_loss: 0.0398 - val_root_mean_squared_error: 0.1995\n",
            "Epoch 31/260\n",
            "9/9 [==============================] - 1s 92ms/step - loss: 0.0109 - root_mean_squared_error: 0.1042 - val_loss: 0.0398 - val_root_mean_squared_error: 0.1996\n",
            "Epoch 32/260\n",
            "9/9 [==============================] - 1s 92ms/step - loss: 0.0109 - root_mean_squared_error: 0.1043 - val_loss: 0.0399 - val_root_mean_squared_error: 0.1998\n",
            "Epoch 33/260\n",
            "9/9 [==============================] - 1s 92ms/step - loss: 0.0109 - root_mean_squared_error: 0.1043 - val_loss: 0.0399 - val_root_mean_squared_error: 0.1997\n",
            "Epoch 34/260\n",
            "9/9 [==============================] - 1s 93ms/step - loss: 0.0109 - root_mean_squared_error: 0.1043 - val_loss: 0.0398 - val_root_mean_squared_error: 0.1996\n",
            "Epoch 35/260\n",
            "9/9 [==============================] - 1s 92ms/step - loss: 0.0109 - root_mean_squared_error: 0.1042 - val_loss: 0.0400 - val_root_mean_squared_error: 0.1999\n",
            "Epoch 36/260\n",
            "9/9 [==============================] - 1s 92ms/step - loss: 0.0109 - root_mean_squared_error: 0.1043 - val_loss: 0.0399 - val_root_mean_squared_error: 0.1997\n",
            "Epoch 37/260\n",
            "9/9 [==============================] - 1s 92ms/step - loss: 0.0108 - root_mean_squared_error: 0.1042 - val_loss: 0.0400 - val_root_mean_squared_error: 0.1999\n",
            "Epoch 38/260\n",
            "9/9 [==============================] - 1s 92ms/step - loss: 0.0109 - root_mean_squared_error: 0.1043 - val_loss: 0.0399 - val_root_mean_squared_error: 0.1997\n",
            "Epoch 39/260\n",
            "9/9 [==============================] - 1s 92ms/step - loss: 0.0109 - root_mean_squared_error: 0.1042 - val_loss: 0.0398 - val_root_mean_squared_error: 0.1996\n",
            "Epoch 40/260\n",
            "9/9 [==============================] - 1s 92ms/step - loss: 0.0109 - root_mean_squared_error: 0.1043 - val_loss: 0.0399 - val_root_mean_squared_error: 0.1997\n",
            "Epoch 41/260\n",
            "9/9 [==============================] - 1s 93ms/step - loss: 0.0109 - root_mean_squared_error: 0.1043 - val_loss: 0.0398 - val_root_mean_squared_error: 0.1995\n",
            "Epoch 42/260\n",
            "9/9 [==============================] - 1s 92ms/step - loss: 0.0109 - root_mean_squared_error: 0.1042 - val_loss: 0.0398 - val_root_mean_squared_error: 0.1995\n",
            "Epoch 43/260\n",
            "9/9 [==============================] - 1s 92ms/step - loss: 0.0109 - root_mean_squared_error: 0.1043 - val_loss: 0.0400 - val_root_mean_squared_error: 0.1999\n",
            "Epoch 44/260\n",
            "9/9 [==============================] - 1s 92ms/step - loss: 0.0109 - root_mean_squared_error: 0.1043 - val_loss: 0.0398 - val_root_mean_squared_error: 0.1995\n",
            "Epoch 45/260\n",
            "9/9 [==============================] - 1s 93ms/step - loss: 0.0109 - root_mean_squared_error: 0.1043 - val_loss: 0.0398 - val_root_mean_squared_error: 0.1996\n",
            "Epoch 46/260\n",
            "9/9 [==============================] - 1s 92ms/step - loss: 0.0109 - root_mean_squared_error: 0.1042 - val_loss: 0.0400 - val_root_mean_squared_error: 0.2000\n",
            "Epoch 47/260\n",
            "9/9 [==============================] - 1s 91ms/step - loss: 0.0109 - root_mean_squared_error: 0.1042 - val_loss: 0.0399 - val_root_mean_squared_error: 0.1997\n",
            "Epoch 48/260\n",
            "9/9 [==============================] - 1s 92ms/step - loss: 0.0109 - root_mean_squared_error: 0.1043 - val_loss: 0.0398 - val_root_mean_squared_error: 0.1996\n",
            "Epoch 49/260\n",
            "9/9 [==============================] - 1s 92ms/step - loss: 0.0108 - root_mean_squared_error: 0.1042 - val_loss: 0.0398 - val_root_mean_squared_error: 0.1996\n",
            "Epoch 50/260\n",
            "9/9 [==============================] - 1s 92ms/step - loss: 0.0109 - root_mean_squared_error: 0.1043 - val_loss: 0.0399 - val_root_mean_squared_error: 0.1998\n",
            "Epoch 51/260\n",
            "9/9 [==============================] - 1s 92ms/step - loss: 0.0109 - root_mean_squared_error: 0.1042 - val_loss: 0.0399 - val_root_mean_squared_error: 0.1997\n",
            "Epoch 52/260\n",
            "9/9 [==============================] - 1s 92ms/step - loss: 0.0109 - root_mean_squared_error: 0.1044 - val_loss: 0.0398 - val_root_mean_squared_error: 0.1995\n",
            "Epoch 53/260\n",
            "9/9 [==============================] - 1s 92ms/step - loss: 0.0109 - root_mean_squared_error: 0.1042 - val_loss: 0.0399 - val_root_mean_squared_error: 0.1999\n",
            "Epoch 54/260\n",
            "9/9 [==============================] - 1s 93ms/step - loss: 0.0109 - root_mean_squared_error: 0.1043 - val_loss: 0.0398 - val_root_mean_squared_error: 0.1996\n",
            "Epoch 55/260\n",
            "9/9 [==============================] - 1s 91ms/step - loss: 0.0109 - root_mean_squared_error: 0.1044 - val_loss: 0.0398 - val_root_mean_squared_error: 0.1995\n",
            "Epoch 56/260\n",
            "9/9 [==============================] - 1s 91ms/step - loss: 0.0109 - root_mean_squared_error: 0.1042 - val_loss: 0.0399 - val_root_mean_squared_error: 0.1996\n",
            "Epoch 57/260\n",
            "9/9 [==============================] - 1s 92ms/step - loss: 0.0109 - root_mean_squared_error: 0.1043 - val_loss: 0.0398 - val_root_mean_squared_error: 0.1995\n",
            "Epoch 58/260\n",
            "9/9 [==============================] - 1s 92ms/step - loss: 0.0109 - root_mean_squared_error: 0.1042 - val_loss: 0.0399 - val_root_mean_squared_error: 0.1998\n",
            "Epoch 59/260\n",
            "9/9 [==============================] - 1s 92ms/step - loss: 0.0109 - root_mean_squared_error: 0.1043 - val_loss: 0.0398 - val_root_mean_squared_error: 0.1996\n",
            "Epoch 60/260\n",
            "9/9 [==============================] - 1s 92ms/step - loss: 0.0109 - root_mean_squared_error: 0.1042 - val_loss: 0.0401 - val_root_mean_squared_error: 0.2002\n",
            "Epoch 61/260\n",
            "9/9 [==============================] - 1s 92ms/step - loss: 0.0109 - root_mean_squared_error: 0.1043 - val_loss: 0.0398 - val_root_mean_squared_error: 0.1995\n",
            "Epoch 62/260\n",
            "9/9 [==============================] - 1s 92ms/step - loss: 0.0109 - root_mean_squared_error: 0.1043 - val_loss: 0.0400 - val_root_mean_squared_error: 0.1999\n",
            "Epoch 63/260\n",
            "9/9 [==============================] - 1s 92ms/step - loss: 0.0109 - root_mean_squared_error: 0.1042 - val_loss: 0.0399 - val_root_mean_squared_error: 0.1998\n",
            "Epoch 64/260\n",
            "9/9 [==============================] - 1s 92ms/step - loss: 0.0109 - root_mean_squared_error: 0.1043 - val_loss: 0.0398 - val_root_mean_squared_error: 0.1995\n",
            "Epoch 65/260\n",
            "9/9 [==============================] - 1s 92ms/step - loss: 0.0109 - root_mean_squared_error: 0.1042 - val_loss: 0.0400 - val_root_mean_squared_error: 0.1999\n",
            "Epoch 66/260\n",
            "9/9 [==============================] - 1s 92ms/step - loss: 0.0109 - root_mean_squared_error: 0.1043 - val_loss: 0.0398 - val_root_mean_squared_error: 0.1995\n",
            "Epoch 67/260\n",
            "9/9 [==============================] - 1s 91ms/step - loss: 0.0109 - root_mean_squared_error: 0.1042 - val_loss: 0.0399 - val_root_mean_squared_error: 0.1998\n",
            "Epoch 68/260\n",
            "9/9 [==============================] - 1s 92ms/step - loss: 0.0109 - root_mean_squared_error: 0.1043 - val_loss: 0.0398 - val_root_mean_squared_error: 0.1995\n",
            "Epoch 69/260\n",
            "9/9 [==============================] - 1s 92ms/step - loss: 0.0109 - root_mean_squared_error: 0.1043 - val_loss: 0.0400 - val_root_mean_squared_error: 0.1999\n",
            "Epoch 70/260\n",
            "9/9 [==============================] - 1s 91ms/step - loss: 0.0109 - root_mean_squared_error: 0.1042 - val_loss: 0.0400 - val_root_mean_squared_error: 0.1999\n",
            "Epoch 71/260\n",
            "9/9 [==============================] - 1s 92ms/step - loss: 0.0109 - root_mean_squared_error: 0.1043 - val_loss: 0.0399 - val_root_mean_squared_error: 0.1999\n",
            "Epoch 72/260\n",
            "9/9 [==============================] - 1s 92ms/step - loss: 0.0109 - root_mean_squared_error: 0.1043 - val_loss: 0.0398 - val_root_mean_squared_error: 0.1995\n",
            "Epoch 73/260\n",
            "9/9 [==============================] - 1s 91ms/step - loss: 0.0109 - root_mean_squared_error: 0.1043 - val_loss: 0.0399 - val_root_mean_squared_error: 0.1999\n",
            "Epoch 74/260\n",
            "9/9 [==============================] - 1s 92ms/step - loss: 0.0109 - root_mean_squared_error: 0.1042 - val_loss: 0.0398 - val_root_mean_squared_error: 0.1995\n",
            "Epoch 75/260\n",
            "9/9 [==============================] - 1s 92ms/step - loss: 0.0109 - root_mean_squared_error: 0.1043 - val_loss: 0.0398 - val_root_mean_squared_error: 0.1996\n",
            "Epoch 76/260\n",
            "9/9 [==============================] - 1s 93ms/step - loss: 0.0109 - root_mean_squared_error: 0.1043 - val_loss: 0.0398 - val_root_mean_squared_error: 0.1995\n",
            "Epoch 77/260\n",
            "9/9 [==============================] - 1s 91ms/step - loss: 0.0109 - root_mean_squared_error: 0.1042 - val_loss: 0.0399 - val_root_mean_squared_error: 0.1996\n",
            "Epoch 78/260\n",
            "9/9 [==============================] - 1s 91ms/step - loss: 0.0109 - root_mean_squared_error: 0.1043 - val_loss: 0.0398 - val_root_mean_squared_error: 0.1996\n",
            "Epoch 79/260\n",
            "9/9 [==============================] - 1s 91ms/step - loss: 0.0109 - root_mean_squared_error: 0.1042 - val_loss: 0.0399 - val_root_mean_squared_error: 0.1998\n",
            "Epoch 80/260\n",
            "9/9 [==============================] - 1s 91ms/step - loss: 0.0109 - root_mean_squared_error: 0.1044 - val_loss: 0.0398 - val_root_mean_squared_error: 0.1995\n",
            "Epoch 81/260\n",
            "9/9 [==============================] - 1s 91ms/step - loss: 0.0109 - root_mean_squared_error: 0.1042 - val_loss: 0.0399 - val_root_mean_squared_error: 0.1997\n",
            "Epoch 82/260\n",
            "9/9 [==============================] - 1s 91ms/step - loss: 0.0109 - root_mean_squared_error: 0.1043 - val_loss: 0.0399 - val_root_mean_squared_error: 0.1996\n",
            "Epoch 83/260\n",
            "9/9 [==============================] - 1s 91ms/step - loss: 0.0109 - root_mean_squared_error: 0.1042 - val_loss: 0.0399 - val_root_mean_squared_error: 0.1998\n",
            "Epoch 84/260\n",
            "9/9 [==============================] - 1s 92ms/step - loss: 0.0109 - root_mean_squared_error: 0.1042 - val_loss: 0.0398 - val_root_mean_squared_error: 0.1995\n",
            "Epoch 85/260\n",
            "9/9 [==============================] - 1s 92ms/step - loss: 0.0109 - root_mean_squared_error: 0.1043 - val_loss: 0.0400 - val_root_mean_squared_error: 0.1999\n",
            "Epoch 86/260\n",
            "9/9 [==============================] - 1s 92ms/step - loss: 0.0109 - root_mean_squared_error: 0.1043 - val_loss: 0.0398 - val_root_mean_squared_error: 0.1995\n",
            "Epoch 87/260\n",
            "9/9 [==============================] - 1s 92ms/step - loss: 0.0109 - root_mean_squared_error: 0.1042 - val_loss: 0.0400 - val_root_mean_squared_error: 0.2000\n",
            "Epoch 88/260\n",
            "9/9 [==============================] - 1s 91ms/step - loss: 0.0109 - root_mean_squared_error: 0.1042 - val_loss: 0.0398 - val_root_mean_squared_error: 0.1996\n",
            "Epoch 89/260\n",
            "9/9 [==============================] - 1s 92ms/step - loss: 0.0109 - root_mean_squared_error: 0.1044 - val_loss: 0.0399 - val_root_mean_squared_error: 0.1998\n",
            "Epoch 90/260\n",
            "9/9 [==============================] - 1s 92ms/step - loss: 0.0109 - root_mean_squared_error: 0.1042 - val_loss: 0.0398 - val_root_mean_squared_error: 0.1995\n",
            "Epoch 91/260\n",
            "9/9 [==============================] - 1s 92ms/step - loss: 0.0109 - root_mean_squared_error: 0.1043 - val_loss: 0.0399 - val_root_mean_squared_error: 0.1997\n",
            "Epoch 92/260\n",
            "9/9 [==============================] - 1s 91ms/step - loss: 0.0109 - root_mean_squared_error: 0.1042 - val_loss: 0.0400 - val_root_mean_squared_error: 0.1999\n",
            "Epoch 93/260\n",
            "9/9 [==============================] - 1s 91ms/step - loss: 0.0109 - root_mean_squared_error: 0.1042 - val_loss: 0.0398 - val_root_mean_squared_error: 0.1996\n",
            "Epoch 94/260\n",
            "9/9 [==============================] - 1s 92ms/step - loss: 0.0109 - root_mean_squared_error: 0.1044 - val_loss: 0.0398 - val_root_mean_squared_error: 0.1996\n",
            "Epoch 95/260\n",
            "9/9 [==============================] - 1s 92ms/step - loss: 0.0109 - root_mean_squared_error: 0.1042 - val_loss: 0.0400 - val_root_mean_squared_error: 0.1999\n",
            "Epoch 96/260\n",
            "9/9 [==============================] - 1s 92ms/step - loss: 0.0109 - root_mean_squared_error: 0.1042 - val_loss: 0.0398 - val_root_mean_squared_error: 0.1995\n",
            "Epoch 97/260\n",
            "9/9 [==============================] - 1s 92ms/step - loss: 0.0109 - root_mean_squared_error: 0.1043 - val_loss: 0.0399 - val_root_mean_squared_error: 0.1997\n",
            "Epoch 98/260\n",
            "9/9 [==============================] - 1s 92ms/step - loss: 0.0109 - root_mean_squared_error: 0.1043 - val_loss: 0.0398 - val_root_mean_squared_error: 0.1995\n",
            "Epoch 99/260\n",
            "9/9 [==============================] - 1s 92ms/step - loss: 0.0109 - root_mean_squared_error: 0.1042 - val_loss: 0.0400 - val_root_mean_squared_error: 0.2000\n",
            "Epoch 100/260\n",
            "9/9 [==============================] - 1s 92ms/step - loss: 0.0109 - root_mean_squared_error: 0.1043 - val_loss: 0.0398 - val_root_mean_squared_error: 0.1996\n",
            "Epoch 101/260\n",
            "9/9 [==============================] - 1s 91ms/step - loss: 0.0109 - root_mean_squared_error: 0.1043 - val_loss: 0.0400 - val_root_mean_squared_error: 0.1999\n",
            "Epoch 102/260\n",
            "9/9 [==============================] - 1s 91ms/step - loss: 0.0109 - root_mean_squared_error: 0.1042 - val_loss: 0.0398 - val_root_mean_squared_error: 0.1996\n",
            "Epoch 103/260\n",
            "9/9 [==============================] - 1s 91ms/step - loss: 0.0109 - root_mean_squared_error: 0.1043 - val_loss: 0.0399 - val_root_mean_squared_error: 0.1997\n",
            "Epoch 104/260\n",
            "9/9 [==============================] - 1s 92ms/step - loss: 0.0109 - root_mean_squared_error: 0.1042 - val_loss: 0.0399 - val_root_mean_squared_error: 0.1999\n",
            "Epoch 105/260\n",
            "9/9 [==============================] - 1s 92ms/step - loss: 0.0109 - root_mean_squared_error: 0.1043 - val_loss: 0.0399 - val_root_mean_squared_error: 0.1997\n",
            "Epoch 106/260\n",
            "9/9 [==============================] - 1s 91ms/step - loss: 0.0109 - root_mean_squared_error: 0.1043 - val_loss: 0.0398 - val_root_mean_squared_error: 0.1995\n",
            "Epoch 107/260\n",
            "9/9 [==============================] - 1s 91ms/step - loss: 0.0109 - root_mean_squared_error: 0.1043 - val_loss: 0.0399 - val_root_mean_squared_error: 0.1998\n",
            "Epoch 108/260\n",
            "9/9 [==============================] - 1s 91ms/step - loss: 0.0109 - root_mean_squared_error: 0.1043 - val_loss: 0.0398 - val_root_mean_squared_error: 0.1995\n",
            "Epoch 109/260\n",
            "9/9 [==============================] - 1s 91ms/step - loss: 0.0109 - root_mean_squared_error: 0.1043 - val_loss: 0.0399 - val_root_mean_squared_error: 0.1997\n",
            "Epoch 110/260\n",
            "9/9 [==============================] - 1s 92ms/step - loss: 0.0109 - root_mean_squared_error: 0.1042 - val_loss: 0.0398 - val_root_mean_squared_error: 0.1996\n",
            "Epoch 111/260\n",
            "9/9 [==============================] - 1s 92ms/step - loss: 0.0109 - root_mean_squared_error: 0.1043 - val_loss: 0.0399 - val_root_mean_squared_error: 0.1997\n",
            "Epoch 112/260\n",
            "9/9 [==============================] - 1s 92ms/step - loss: 0.0109 - root_mean_squared_error: 0.1042 - val_loss: 0.0398 - val_root_mean_squared_error: 0.1995\n",
            "Epoch 113/260\n",
            "9/9 [==============================] - 1s 91ms/step - loss: 0.0109 - root_mean_squared_error: 0.1043 - val_loss: 0.0399 - val_root_mean_squared_error: 0.1997\n",
            "Epoch 114/260\n",
            "9/9 [==============================] - 1s 92ms/step - loss: 0.0109 - root_mean_squared_error: 0.1043 - val_loss: 0.0398 - val_root_mean_squared_error: 0.1995\n",
            "Epoch 115/260\n",
            "9/9 [==============================] - 1s 92ms/step - loss: 0.0109 - root_mean_squared_error: 0.1042 - val_loss: 0.0401 - val_root_mean_squared_error: 0.2002\n",
            "Epoch 116/260\n",
            "9/9 [==============================] - 1s 91ms/step - loss: 0.0109 - root_mean_squared_error: 0.1043 - val_loss: 0.0398 - val_root_mean_squared_error: 0.1995\n",
            "Epoch 117/260\n",
            "9/9 [==============================] - 1s 91ms/step - loss: 0.0109 - root_mean_squared_error: 0.1042 - val_loss: 0.0398 - val_root_mean_squared_error: 0.1996\n",
            "Epoch 118/260\n",
            "9/9 [==============================] - 1s 91ms/step - loss: 0.0109 - root_mean_squared_error: 0.1044 - val_loss: 0.0399 - val_root_mean_squared_error: 0.1996\n",
            "Epoch 119/260\n",
            "9/9 [==============================] - 1s 92ms/step - loss: 0.0109 - root_mean_squared_error: 0.1042 - val_loss: 0.0398 - val_root_mean_squared_error: 0.1995\n",
            "Epoch 120/260\n",
            "9/9 [==============================] - 1s 92ms/step - loss: 0.0109 - root_mean_squared_error: 0.1043 - val_loss: 0.0399 - val_root_mean_squared_error: 0.1998\n",
            "Epoch 121/260\n",
            "9/9 [==============================] - 1s 91ms/step - loss: 0.0109 - root_mean_squared_error: 0.1043 - val_loss: 0.0398 - val_root_mean_squared_error: 0.1995\n",
            "Epoch 122/260\n",
            "9/9 [==============================] - 1s 92ms/step - loss: 0.0109 - root_mean_squared_error: 0.1042 - val_loss: 0.0399 - val_root_mean_squared_error: 0.1998\n",
            "Epoch 123/260\n",
            "9/9 [==============================] - 1s 92ms/step - loss: 0.0109 - root_mean_squared_error: 0.1043 - val_loss: 0.0398 - val_root_mean_squared_error: 0.1995\n",
            "Epoch 124/260\n",
            "9/9 [==============================] - 1s 92ms/step - loss: 0.0109 - root_mean_squared_error: 0.1043 - val_loss: 0.0400 - val_root_mean_squared_error: 0.1999\n",
            "Epoch 125/260\n",
            "9/9 [==============================] - 1s 91ms/step - loss: 0.0109 - root_mean_squared_error: 0.1042 - val_loss: 0.0398 - val_root_mean_squared_error: 0.1995\n",
            "Epoch 126/260\n",
            "9/9 [==============================] - 1s 92ms/step - loss: 0.0109 - root_mean_squared_error: 0.1043 - val_loss: 0.0399 - val_root_mean_squared_error: 0.1999\n",
            "Epoch 127/260\n",
            "9/9 [==============================] - 1s 92ms/step - loss: 0.0109 - root_mean_squared_error: 0.1043 - val_loss: 0.0398 - val_root_mean_squared_error: 0.1996\n",
            "Epoch 128/260\n",
            "9/9 [==============================] - 1s 91ms/step - loss: 0.0109 - root_mean_squared_error: 0.1043 - val_loss: 0.0399 - val_root_mean_squared_error: 0.1997\n",
            "Epoch 129/260\n",
            "9/9 [==============================] - 1s 92ms/step - loss: 0.0109 - root_mean_squared_error: 0.1042 - val_loss: 0.0398 - val_root_mean_squared_error: 0.1995\n",
            "Epoch 130/260\n",
            "9/9 [==============================] - 1s 91ms/step - loss: 0.0109 - root_mean_squared_error: 0.1043 - val_loss: 0.0399 - val_root_mean_squared_error: 0.1997\n",
            "Epoch 131/260\n",
            "9/9 [==============================] - 1s 91ms/step - loss: 0.0109 - root_mean_squared_error: 0.1043 - val_loss: 0.0398 - val_root_mean_squared_error: 0.1996\n",
            "Epoch 132/260\n",
            "9/9 [==============================] - 1s 91ms/step - loss: 0.0109 - root_mean_squared_error: 0.1042 - val_loss: 0.0398 - val_root_mean_squared_error: 0.1996\n",
            "Epoch 133/260\n",
            "9/9 [==============================] - 1s 92ms/step - loss: 0.0109 - root_mean_squared_error: 0.1043 - val_loss: 0.0399 - val_root_mean_squared_error: 0.1997\n",
            "Epoch 134/260\n",
            "9/9 [==============================] - 1s 92ms/step - loss: 0.0109 - root_mean_squared_error: 0.1043 - val_loss: 0.0399 - val_root_mean_squared_error: 0.1997\n",
            "Epoch 135/260\n",
            "9/9 [==============================] - 1s 91ms/step - loss: 0.0108 - root_mean_squared_error: 0.1042 - val_loss: 0.0400 - val_root_mean_squared_error: 0.1999\n",
            "Epoch 136/260\n",
            "9/9 [==============================] - 1s 92ms/step - loss: 0.0109 - root_mean_squared_error: 0.1044 - val_loss: 0.0398 - val_root_mean_squared_error: 0.1995\n",
            "Epoch 137/260\n",
            "9/9 [==============================] - 1s 92ms/step - loss: 0.0109 - root_mean_squared_error: 0.1042 - val_loss: 0.0399 - val_root_mean_squared_error: 0.1998\n",
            "Epoch 138/260\n",
            "9/9 [==============================] - 1s 92ms/step - loss: 0.0109 - root_mean_squared_error: 0.1043 - val_loss: 0.0398 - val_root_mean_squared_error: 0.1995\n",
            "Epoch 139/260\n",
            "9/9 [==============================] - 1s 91ms/step - loss: 0.0109 - root_mean_squared_error: 0.1043 - val_loss: 0.0400 - val_root_mean_squared_error: 0.2001\n",
            "Epoch 140/260\n",
            "9/9 [==============================] - 1s 92ms/step - loss: 0.0109 - root_mean_squared_error: 0.1042 - val_loss: 0.0398 - val_root_mean_squared_error: 0.1995\n",
            "Epoch 141/260\n",
            "9/9 [==============================] - 1s 92ms/step - loss: 0.0109 - root_mean_squared_error: 0.1043 - val_loss: 0.0399 - val_root_mean_squared_error: 0.1997\n",
            "Epoch 142/260\n",
            "9/9 [==============================] - 1s 92ms/step - loss: 0.0108 - root_mean_squared_error: 0.1042 - val_loss: 0.0398 - val_root_mean_squared_error: 0.1995\n",
            "Epoch 143/260\n",
            "9/9 [==============================] - 1s 92ms/step - loss: 0.0109 - root_mean_squared_error: 0.1043 - val_loss: 0.0399 - val_root_mean_squared_error: 0.1997\n",
            "Epoch 144/260\n",
            "9/9 [==============================] - 1s 91ms/step - loss: 0.0109 - root_mean_squared_error: 0.1043 - val_loss: 0.0398 - val_root_mean_squared_error: 0.1995\n",
            "Epoch 145/260\n",
            "9/9 [==============================] - 1s 91ms/step - loss: 0.0109 - root_mean_squared_error: 0.1042 - val_loss: 0.0398 - val_root_mean_squared_error: 0.1995\n",
            "Epoch 146/260\n",
            "9/9 [==============================] - 1s 92ms/step - loss: 0.0109 - root_mean_squared_error: 0.1043 - val_loss: 0.0399 - val_root_mean_squared_error: 0.1998\n",
            "Epoch 147/260\n",
            "9/9 [==============================] - 1s 92ms/step - loss: 0.0109 - root_mean_squared_error: 0.1043 - val_loss: 0.0398 - val_root_mean_squared_error: 0.1995\n",
            "Epoch 148/260\n",
            "9/9 [==============================] - 1s 91ms/step - loss: 0.0109 - root_mean_squared_error: 0.1042 - val_loss: 0.0400 - val_root_mean_squared_error: 0.2000\n",
            "Epoch 149/260\n",
            "9/9 [==============================] - 1s 92ms/step - loss: 0.0109 - root_mean_squared_error: 0.1043 - val_loss: 0.0399 - val_root_mean_squared_error: 0.1998\n",
            "Epoch 150/260\n",
            "9/9 [==============================] - 1s 92ms/step - loss: 0.0109 - root_mean_squared_error: 0.1043 - val_loss: 0.0398 - val_root_mean_squared_error: 0.1995\n",
            "Epoch 151/260\n",
            "9/9 [==============================] - 1s 92ms/step - loss: 0.0109 - root_mean_squared_error: 0.1043 - val_loss: 0.0399 - val_root_mean_squared_error: 0.1998\n",
            "Epoch 152/260\n",
            "9/9 [==============================] - 1s 92ms/step - loss: 0.0109 - root_mean_squared_error: 0.1043 - val_loss: 0.0398 - val_root_mean_squared_error: 0.1995\n",
            "Epoch 153/260\n",
            "9/9 [==============================] - 1s 91ms/step - loss: 0.0109 - root_mean_squared_error: 0.1042 - val_loss: 0.0400 - val_root_mean_squared_error: 0.2000\n",
            "Epoch 154/260\n",
            "9/9 [==============================] - 1s 91ms/step - loss: 0.0109 - root_mean_squared_error: 0.1043 - val_loss: 0.0398 - val_root_mean_squared_error: 0.1995\n",
            "Epoch 155/260\n",
            "9/9 [==============================] - 1s 92ms/step - loss: 0.0109 - root_mean_squared_error: 0.1042 - val_loss: 0.0399 - val_root_mean_squared_error: 0.1998\n",
            "Epoch 156/260\n",
            "9/9 [==============================] - 1s 91ms/step - loss: 0.0109 - root_mean_squared_error: 0.1043 - val_loss: 0.0398 - val_root_mean_squared_error: 0.1995\n",
            "Epoch 157/260\n",
            "9/9 [==============================] - 1s 91ms/step - loss: 0.0109 - root_mean_squared_error: 0.1042 - val_loss: 0.0399 - val_root_mean_squared_error: 0.1997\n",
            "Epoch 158/260\n",
            "9/9 [==============================] - 1s 92ms/step - loss: 0.0109 - root_mean_squared_error: 0.1043 - val_loss: 0.0398 - val_root_mean_squared_error: 0.1996\n",
            "Epoch 159/260\n",
            "9/9 [==============================] - 1s 92ms/step - loss: 0.0109 - root_mean_squared_error: 0.1042 - val_loss: 0.0399 - val_root_mean_squared_error: 0.1997\n",
            "Epoch 160/260\n",
            "9/9 [==============================] - 1s 93ms/step - loss: 0.0109 - root_mean_squared_error: 0.1044 - val_loss: 0.0398 - val_root_mean_squared_error: 0.1995\n",
            "Epoch 161/260\n",
            "9/9 [==============================] - 1s 92ms/step - loss: 0.0109 - root_mean_squared_error: 0.1042 - val_loss: 0.0399 - val_root_mean_squared_error: 0.1997\n",
            "Epoch 162/260\n",
            "9/9 [==============================] - 1s 92ms/step - loss: 0.0109 - root_mean_squared_error: 0.1043 - val_loss: 0.0398 - val_root_mean_squared_error: 0.1995\n",
            "Epoch 163/260\n",
            "9/9 [==============================] - 1s 91ms/step - loss: 0.0109 - root_mean_squared_error: 0.1042 - val_loss: 0.0400 - val_root_mean_squared_error: 0.1999\n",
            "Epoch 164/260\n",
            "9/9 [==============================] - 1s 92ms/step - loss: 0.0109 - root_mean_squared_error: 0.1043 - val_loss: 0.0398 - val_root_mean_squared_error: 0.1996\n",
            "Epoch 165/260\n",
            "9/9 [==============================] - 1s 92ms/step - loss: 0.0109 - root_mean_squared_error: 0.1042 - val_loss: 0.0399 - val_root_mean_squared_error: 0.1998\n",
            "Epoch 166/260\n",
            "9/9 [==============================] - 1s 92ms/step - loss: 0.0109 - root_mean_squared_error: 0.1043 - val_loss: 0.0398 - val_root_mean_squared_error: 0.1996\n",
            "Epoch 167/260\n",
            "9/9 [==============================] - 1s 92ms/step - loss: 0.0109 - root_mean_squared_error: 0.1042 - val_loss: 0.0398 - val_root_mean_squared_error: 0.1995\n",
            "Epoch 168/260\n",
            "9/9 [==============================] - 1s 92ms/step - loss: 0.0109 - root_mean_squared_error: 0.1042 - val_loss: 0.0399 - val_root_mean_squared_error: 0.1998\n",
            "Epoch 169/260\n",
            "9/9 [==============================] - 1s 92ms/step - loss: 0.0109 - root_mean_squared_error: 0.1043 - val_loss: 0.0398 - val_root_mean_squared_error: 0.1995\n",
            "Epoch 170/260\n",
            "9/9 [==============================] - 1s 92ms/step - loss: 0.0109 - root_mean_squared_error: 0.1042 - val_loss: 0.0399 - val_root_mean_squared_error: 0.1997\n",
            "Epoch 171/260\n",
            "9/9 [==============================] - 1s 92ms/step - loss: 0.0109 - root_mean_squared_error: 0.1043 - val_loss: 0.0398 - val_root_mean_squared_error: 0.1995\n",
            "Epoch 172/260\n",
            "9/9 [==============================] - 1s 92ms/step - loss: 0.0109 - root_mean_squared_error: 0.1043 - val_loss: 0.0399 - val_root_mean_squared_error: 0.1997\n",
            "Epoch 173/260\n",
            "9/9 [==============================] - 1s 91ms/step - loss: 0.0109 - root_mean_squared_error: 0.1043 - val_loss: 0.0398 - val_root_mean_squared_error: 0.1996\n",
            "Epoch 174/260\n",
            "9/9 [==============================] - 1s 92ms/step - loss: 0.0109 - root_mean_squared_error: 0.1042 - val_loss: 0.0398 - val_root_mean_squared_error: 0.1995\n",
            "Epoch 175/260\n",
            "9/9 [==============================] - 1s 92ms/step - loss: 0.0109 - root_mean_squared_error: 0.1043 - val_loss: 0.0399 - val_root_mean_squared_error: 0.1999\n",
            "Epoch 176/260\n",
            "9/9 [==============================] - 1s 92ms/step - loss: 0.0109 - root_mean_squared_error: 0.1043 - val_loss: 0.0398 - val_root_mean_squared_error: 0.1996\n",
            "Epoch 177/260\n",
            "9/9 [==============================] - 1s 91ms/step - loss: 0.0109 - root_mean_squared_error: 0.1042 - val_loss: 0.0400 - val_root_mean_squared_error: 0.1999\n",
            "Epoch 178/260\n",
            "9/9 [==============================] - 1s 93ms/step - loss: 0.0109 - root_mean_squared_error: 0.1043 - val_loss: 0.0398 - val_root_mean_squared_error: 0.1996\n",
            "Epoch 179/260\n",
            "9/9 [==============================] - 1s 92ms/step - loss: 0.0109 - root_mean_squared_error: 0.1042 - val_loss: 0.0399 - val_root_mean_squared_error: 0.1996\n",
            "Epoch 180/260\n",
            "9/9 [==============================] - 1s 92ms/step - loss: 0.0109 - root_mean_squared_error: 0.1043 - val_loss: 0.0399 - val_root_mean_squared_error: 0.1998\n",
            "Epoch 181/260\n",
            "9/9 [==============================] - 1s 92ms/step - loss: 0.0109 - root_mean_squared_error: 0.1043 - val_loss: 0.0398 - val_root_mean_squared_error: 0.1995\n",
            "Epoch 182/260\n",
            "9/9 [==============================] - 1s 92ms/step - loss: 0.0109 - root_mean_squared_error: 0.1042 - val_loss: 0.0401 - val_root_mean_squared_error: 0.2002\n",
            "Epoch 183/260\n",
            "9/9 [==============================] - 1s 92ms/step - loss: 0.0109 - root_mean_squared_error: 0.1042 - val_loss: 0.0400 - val_root_mean_squared_error: 0.1999\n",
            "Epoch 184/260\n",
            "9/9 [==============================] - 1s 92ms/step - loss: 0.0109 - root_mean_squared_error: 0.1043 - val_loss: 0.0398 - val_root_mean_squared_error: 0.1995\n",
            "Epoch 185/260\n",
            "9/9 [==============================] - 1s 91ms/step - loss: 0.0109 - root_mean_squared_error: 0.1043 - val_loss: 0.0399 - val_root_mean_squared_error: 0.1997\n",
            "Epoch 186/260\n",
            "9/9 [==============================] - 1s 92ms/step - loss: 0.0109 - root_mean_squared_error: 0.1043 - val_loss: 0.0398 - val_root_mean_squared_error: 0.1996\n",
            "Epoch 187/260\n",
            "9/9 [==============================] - 1s 92ms/step - loss: 0.0109 - root_mean_squared_error: 0.1043 - val_loss: 0.0401 - val_root_mean_squared_error: 0.2002\n",
            "Epoch 188/260\n",
            "9/9 [==============================] - 1s 92ms/step - loss: 0.0109 - root_mean_squared_error: 0.1042 - val_loss: 0.0400 - val_root_mean_squared_error: 0.2000\n",
            "Epoch 189/260\n",
            "9/9 [==============================] - 1s 92ms/step - loss: 0.0109 - root_mean_squared_error: 0.1043 - val_loss: 0.0398 - val_root_mean_squared_error: 0.1995\n",
            "Epoch 190/260\n",
            "9/9 [==============================] - 1s 92ms/step - loss: 0.0109 - root_mean_squared_error: 0.1043 - val_loss: 0.0399 - val_root_mean_squared_error: 0.1997\n",
            "Epoch 191/260\n",
            "9/9 [==============================] - 1s 92ms/step - loss: 0.0109 - root_mean_squared_error: 0.1043 - val_loss: 0.0398 - val_root_mean_squared_error: 0.1995\n",
            "Epoch 192/260\n",
            "9/9 [==============================] - 1s 91ms/step - loss: 0.0109 - root_mean_squared_error: 0.1042 - val_loss: 0.0400 - val_root_mean_squared_error: 0.2000\n",
            "Epoch 193/260\n",
            "9/9 [==============================] - 1s 92ms/step - loss: 0.0109 - root_mean_squared_error: 0.1043 - val_loss: 0.0398 - val_root_mean_squared_error: 0.1995\n",
            "Epoch 194/260\n",
            "9/9 [==============================] - 1s 91ms/step - loss: 0.0109 - root_mean_squared_error: 0.1043 - val_loss: 0.0399 - val_root_mean_squared_error: 0.1997\n",
            "Epoch 195/260\n",
            "9/9 [==============================] - 1s 92ms/step - loss: 0.0109 - root_mean_squared_error: 0.1043 - val_loss: 0.0398 - val_root_mean_squared_error: 0.1995\n",
            "Epoch 196/260\n",
            "9/9 [==============================] - 1s 92ms/step - loss: 0.0109 - root_mean_squared_error: 0.1042 - val_loss: 0.0399 - val_root_mean_squared_error: 0.1998\n",
            "Epoch 197/260\n",
            "9/9 [==============================] - 1s 92ms/step - loss: 0.0109 - root_mean_squared_error: 0.1043 - val_loss: 0.0398 - val_root_mean_squared_error: 0.1995\n",
            "Epoch 198/260\n",
            "9/9 [==============================] - 1s 92ms/step - loss: 0.0109 - root_mean_squared_error: 0.1043 - val_loss: 0.0400 - val_root_mean_squared_error: 0.2000\n",
            "Epoch 199/260\n",
            "9/9 [==============================] - 1s 92ms/step - loss: 0.0109 - root_mean_squared_error: 0.1043 - val_loss: 0.0399 - val_root_mean_squared_error: 0.1996\n",
            "Epoch 200/260\n",
            "9/9 [==============================] - 1s 93ms/step - loss: 0.0109 - root_mean_squared_error: 0.1042 - val_loss: 0.0401 - val_root_mean_squared_error: 0.2003\n",
            "Epoch 201/260\n",
            "9/9 [==============================] - 1s 93ms/step - loss: 0.0109 - root_mean_squared_error: 0.1043 - val_loss: 0.0399 - val_root_mean_squared_error: 0.1997\n",
            "Epoch 202/260\n",
            "9/9 [==============================] - 1s 92ms/step - loss: 0.0109 - root_mean_squared_error: 0.1043 - val_loss: 0.0398 - val_root_mean_squared_error: 0.1996\n",
            "Epoch 203/260\n",
            "9/9 [==============================] - 1s 92ms/step - loss: 0.0109 - root_mean_squared_error: 0.1042 - val_loss: 0.0400 - val_root_mean_squared_error: 0.2000\n",
            "Epoch 204/260\n",
            "9/9 [==============================] - 1s 92ms/step - loss: 0.0109 - root_mean_squared_error: 0.1043 - val_loss: 0.0398 - val_root_mean_squared_error: 0.1996\n",
            "Epoch 205/260\n",
            "9/9 [==============================] - 1s 92ms/step - loss: 0.0109 - root_mean_squared_error: 0.1043 - val_loss: 0.0399 - val_root_mean_squared_error: 0.1998\n",
            "Epoch 206/260\n",
            "9/9 [==============================] - 1s 92ms/step - loss: 0.0109 - root_mean_squared_error: 0.1042 - val_loss: 0.0399 - val_root_mean_squared_error: 0.1998\n",
            "Epoch 207/260\n",
            "9/9 [==============================] - 1s 91ms/step - loss: 0.0109 - root_mean_squared_error: 0.1043 - val_loss: 0.0398 - val_root_mean_squared_error: 0.1995\n",
            "Epoch 208/260\n",
            "9/9 [==============================] - 1s 93ms/step - loss: 0.0109 - root_mean_squared_error: 0.1042 - val_loss: 0.0399 - val_root_mean_squared_error: 0.1997\n",
            "Epoch 209/260\n",
            "9/9 [==============================] - 1s 92ms/step - loss: 0.0109 - root_mean_squared_error: 0.1043 - val_loss: 0.0398 - val_root_mean_squared_error: 0.1996\n",
            "Epoch 210/260\n",
            "9/9 [==============================] - 1s 92ms/step - loss: 0.0109 - root_mean_squared_error: 0.1042 - val_loss: 0.0398 - val_root_mean_squared_error: 0.1995\n",
            "Epoch 211/260\n",
            "9/9 [==============================] - 1s 91ms/step - loss: 0.0109 - root_mean_squared_error: 0.1043 - val_loss: 0.0399 - val_root_mean_squared_error: 0.1997\n",
            "Epoch 212/260\n",
            "9/9 [==============================] - 1s 92ms/step - loss: 0.0109 - root_mean_squared_error: 0.1043 - val_loss: 0.0398 - val_root_mean_squared_error: 0.1995\n",
            "Epoch 213/260\n",
            "9/9 [==============================] - 1s 92ms/step - loss: 0.0109 - root_mean_squared_error: 0.1042 - val_loss: 0.0398 - val_root_mean_squared_error: 0.1996\n",
            "Epoch 214/260\n",
            "9/9 [==============================] - 1s 92ms/step - loss: 0.0109 - root_mean_squared_error: 0.1042 - val_loss: 0.0398 - val_root_mean_squared_error: 0.1996\n",
            "Epoch 215/260\n",
            "9/9 [==============================] - 1s 93ms/step - loss: 0.0109 - root_mean_squared_error: 0.1043 - val_loss: 0.0398 - val_root_mean_squared_error: 0.1996\n",
            "Epoch 216/260\n",
            "9/9 [==============================] - 1s 91ms/step - loss: 0.0109 - root_mean_squared_error: 0.1042 - val_loss: 0.0399 - val_root_mean_squared_error: 0.1998\n",
            "Epoch 217/260\n",
            "9/9 [==============================] - 1s 91ms/step - loss: 0.0109 - root_mean_squared_error: 0.1043 - val_loss: 0.0399 - val_root_mean_squared_error: 0.1997\n",
            "Epoch 218/260\n",
            "9/9 [==============================] - 1s 92ms/step - loss: 0.0109 - root_mean_squared_error: 0.1042 - val_loss: 0.0400 - val_root_mean_squared_error: 0.2001\n",
            "Epoch 219/260\n",
            "9/9 [==============================] - 1s 91ms/step - loss: 0.0109 - root_mean_squared_error: 0.1042 - val_loss: 0.0398 - val_root_mean_squared_error: 0.1995\n",
            "Epoch 220/260\n",
            "9/9 [==============================] - 1s 92ms/step - loss: 0.0109 - root_mean_squared_error: 0.1043 - val_loss: 0.0399 - val_root_mean_squared_error: 0.1998\n",
            "Epoch 221/260\n",
            "9/9 [==============================] - 1s 91ms/step - loss: 0.0109 - root_mean_squared_error: 0.1043 - val_loss: 0.0398 - val_root_mean_squared_error: 0.1995\n",
            "Epoch 222/260\n",
            "9/9 [==============================] - 1s 92ms/step - loss: 0.0109 - root_mean_squared_error: 0.1042 - val_loss: 0.0400 - val_root_mean_squared_error: 0.2001\n",
            "Epoch 223/260\n",
            "9/9 [==============================] - 1s 93ms/step - loss: 0.0109 - root_mean_squared_error: 0.1043 - val_loss: 0.0398 - val_root_mean_squared_error: 0.1996\n",
            "Epoch 224/260\n",
            "9/9 [==============================] - 1s 91ms/step - loss: 0.0109 - root_mean_squared_error: 0.1043 - val_loss: 0.0399 - val_root_mean_squared_error: 0.1998\n",
            "Epoch 225/260\n",
            "9/9 [==============================] - 1s 93ms/step - loss: 0.0109 - root_mean_squared_error: 0.1042 - val_loss: 0.0398 - val_root_mean_squared_error: 0.1996\n",
            "Epoch 226/260\n",
            "9/9 [==============================] - 1s 92ms/step - loss: 0.0109 - root_mean_squared_error: 0.1043 - val_loss: 0.0399 - val_root_mean_squared_error: 0.1997\n",
            "Epoch 227/260\n",
            "9/9 [==============================] - 1s 92ms/step - loss: 0.0109 - root_mean_squared_error: 0.1042 - val_loss: 0.0398 - val_root_mean_squared_error: 0.1995\n",
            "Epoch 228/260\n",
            "9/9 [==============================] - 1s 92ms/step - loss: 0.0109 - root_mean_squared_error: 0.1043 - val_loss: 0.0399 - val_root_mean_squared_error: 0.1998\n",
            "Epoch 229/260\n",
            "9/9 [==============================] - 1s 91ms/step - loss: 0.0109 - root_mean_squared_error: 0.1042 - val_loss: 0.0398 - val_root_mean_squared_error: 0.1995\n",
            "Epoch 230/260\n",
            "9/9 [==============================] - 1s 93ms/step - loss: 0.0109 - root_mean_squared_error: 0.1043 - val_loss: 0.0400 - val_root_mean_squared_error: 0.1999\n",
            "Epoch 231/260\n",
            "9/9 [==============================] - 1s 92ms/step - loss: 0.0109 - root_mean_squared_error: 0.1043 - val_loss: 0.0398 - val_root_mean_squared_error: 0.1995\n",
            "Epoch 232/260\n",
            "9/9 [==============================] - 1s 92ms/step - loss: 0.0109 - root_mean_squared_error: 0.1043 - val_loss: 0.0399 - val_root_mean_squared_error: 0.1999\n",
            "Epoch 233/260\n",
            "9/9 [==============================] - 1s 93ms/step - loss: 0.0109 - root_mean_squared_error: 0.1042 - val_loss: 0.0399 - val_root_mean_squared_error: 0.1997\n",
            "Epoch 234/260\n",
            "9/9 [==============================] - 1s 93ms/step - loss: 0.0109 - root_mean_squared_error: 0.1043 - val_loss: 0.0399 - val_root_mean_squared_error: 0.1997\n",
            "Epoch 235/260\n",
            "9/9 [==============================] - 1s 92ms/step - loss: 0.0109 - root_mean_squared_error: 0.1042 - val_loss: 0.0398 - val_root_mean_squared_error: 0.1995\n",
            "Epoch 236/260\n",
            "9/9 [==============================] - 1s 92ms/step - loss: 0.0109 - root_mean_squared_error: 0.1043 - val_loss: 0.0399 - val_root_mean_squared_error: 0.1996\n",
            "Epoch 237/260\n",
            "9/9 [==============================] - 1s 92ms/step - loss: 0.0109 - root_mean_squared_error: 0.1042 - val_loss: 0.0398 - val_root_mean_squared_error: 0.1995\n",
            "Epoch 238/260\n",
            "9/9 [==============================] - 1s 92ms/step - loss: 0.0109 - root_mean_squared_error: 0.1043 - val_loss: 0.0399 - val_root_mean_squared_error: 0.1998\n",
            "Epoch 239/260\n",
            "9/9 [==============================] - 1s 92ms/step - loss: 0.0109 - root_mean_squared_error: 0.1043 - val_loss: 0.0398 - val_root_mean_squared_error: 0.1995\n",
            "Epoch 240/260\n",
            "9/9 [==============================] - 1s 92ms/step - loss: 0.0109 - root_mean_squared_error: 0.1043 - val_loss: 0.0399 - val_root_mean_squared_error: 0.1998\n",
            "Epoch 241/260\n",
            "9/9 [==============================] - 1s 93ms/step - loss: 0.0109 - root_mean_squared_error: 0.1043 - val_loss: 0.0398 - val_root_mean_squared_error: 0.1995\n",
            "Epoch 242/260\n",
            "9/9 [==============================] - 1s 91ms/step - loss: 0.0109 - root_mean_squared_error: 0.1042 - val_loss: 0.0399 - val_root_mean_squared_error: 0.1998\n",
            "Epoch 243/260\n",
            "9/9 [==============================] - 1s 91ms/step - loss: 0.0109 - root_mean_squared_error: 0.1042 - val_loss: 0.0398 - val_root_mean_squared_error: 0.1995\n",
            "Epoch 244/260\n",
            "9/9 [==============================] - 1s 92ms/step - loss: 0.0109 - root_mean_squared_error: 0.1043 - val_loss: 0.0399 - val_root_mean_squared_error: 0.1997\n",
            "Epoch 245/260\n",
            "9/9 [==============================] - 1s 92ms/step - loss: 0.0109 - root_mean_squared_error: 0.1043 - val_loss: 0.0398 - val_root_mean_squared_error: 0.1995\n",
            "Epoch 246/260\n",
            "9/9 [==============================] - 1s 92ms/step - loss: 0.0109 - root_mean_squared_error: 0.1042 - val_loss: 0.0401 - val_root_mean_squared_error: 0.2002\n",
            "Epoch 247/260\n",
            "9/9 [==============================] - 1s 91ms/step - loss: 0.0109 - root_mean_squared_error: 0.1043 - val_loss: 0.0399 - val_root_mean_squared_error: 0.1997\n",
            "Epoch 248/260\n",
            "9/9 [==============================] - 1s 92ms/step - loss: 0.0109 - root_mean_squared_error: 0.1043 - val_loss: 0.0398 - val_root_mean_squared_error: 0.1996\n",
            "Epoch 249/260\n",
            "9/9 [==============================] - 1s 92ms/step - loss: 0.0109 - root_mean_squared_error: 0.1042 - val_loss: 0.0400 - val_root_mean_squared_error: 0.1999\n",
            "Epoch 250/260\n",
            "9/9 [==============================] - 1s 91ms/step - loss: 0.0109 - root_mean_squared_error: 0.1043 - val_loss: 0.0398 - val_root_mean_squared_error: 0.1996\n",
            "Epoch 251/260\n",
            "9/9 [==============================] - 1s 92ms/step - loss: 0.0109 - root_mean_squared_error: 0.1042 - val_loss: 0.0401 - val_root_mean_squared_error: 0.2002\n",
            "Epoch 252/260\n",
            "9/9 [==============================] - 1s 92ms/step - loss: 0.0109 - root_mean_squared_error: 0.1043 - val_loss: 0.0399 - val_root_mean_squared_error: 0.1997\n",
            "Epoch 253/260\n",
            "9/9 [==============================] - 1s 92ms/step - loss: 0.0109 - root_mean_squared_error: 0.1043 - val_loss: 0.0400 - val_root_mean_squared_error: 0.2000\n",
            "Epoch 254/260\n",
            "9/9 [==============================] - 1s 91ms/step - loss: 0.0109 - root_mean_squared_error: 0.1042 - val_loss: 0.0398 - val_root_mean_squared_error: 0.1995\n",
            "Epoch 255/260\n",
            "9/9 [==============================] - 1s 92ms/step - loss: 0.0109 - root_mean_squared_error: 0.1043 - val_loss: 0.0399 - val_root_mean_squared_error: 0.1997\n",
            "Epoch 256/260\n",
            "9/9 [==============================] - 1s 93ms/step - loss: 0.0109 - root_mean_squared_error: 0.1043 - val_loss: 0.0398 - val_root_mean_squared_error: 0.1995\n",
            "Epoch 257/260\n",
            "9/9 [==============================] - 1s 92ms/step - loss: 0.0109 - root_mean_squared_error: 0.1042 - val_loss: 0.0399 - val_root_mean_squared_error: 0.1997\n",
            "Epoch 258/260\n",
            "9/9 [==============================] - 1s 92ms/step - loss: 0.0109 - root_mean_squared_error: 0.1043 - val_loss: 0.0398 - val_root_mean_squared_error: 0.1995\n",
            "Epoch 259/260\n",
            "9/9 [==============================] - 1s 92ms/step - loss: 0.0109 - root_mean_squared_error: 0.1043 - val_loss: 0.0399 - val_root_mean_squared_error: 0.1999\n",
            "Epoch 260/260\n",
            "9/9 [==============================] - 1s 91ms/step - loss: 0.0109 - root_mean_squared_error: 0.1042 - val_loss: 0.0398 - val_root_mean_squared_error: 0.1995\n"
          ]
        }
      ]
    },
    {
      "cell_type": "code",
      "source": [
        "plt.plot(imf3_training_history.history['root_mean_squared_error'])\n",
        "plt.plot(imf3_training_history.history['val_root_mean_squared_error'])\n",
        "plt.title('model RMSE')\n",
        "plt.ylabel('RMSE')\n",
        "plt.xlabel('epoch')\n",
        "plt.legend(['train', 'val'], loc='upper left')\n",
        "plt.show()"
      ],
      "metadata": {
        "colab": {
          "base_uri": "https://localhost:8080/",
          "height": 295
        },
        "id": "dXb73FaLicaB",
        "outputId": "8fcf45d8-4917-4ceb-9491-0e856e1e111c"
      },
      "execution_count": 89,
      "outputs": [
        {
          "output_type": "display_data",
          "data": {
            "text/plain": [
              "<Figure size 432x288 with 1 Axes>"
            ],
            "image/png": "[encoded data removed]"
          },
          "metadata": {
            "needs_background": "light"
          }
        }
      ]
    },
    {
      "cell_type": "code",
      "source": [
        "# make a prediction on imf3\n",
        "imf3_norm_Y_hat = model_imf3.predict(imf3_norm_X_test)"
      ],
      "metadata": {
        "id": "w7u6Tdmsiia3"
      },
      "execution_count": 90,
      "outputs": []
    },
    {
      "cell_type": "code",
      "source": [
        "# reverse the norm prediction\n",
        "imf3_Y_hat = imf3_norm_Y_hat * (max(imf3_train) - min(imf3_train)) + min(imf3_train)"
      ],
      "metadata": {
        "id": "8HHvOFYDiqCR"
      },
      "execution_count": 91,
      "outputs": []
    },
    {
      "cell_type": "code",
      "source": [
        "plt.plot(imf3_Y_hat)\n",
        "plt.plot(imf3_test)\n",
        "plt.show()"
      ],
      "metadata": {
        "colab": {
          "base_uri": "https://localhost:8080/",
          "height": 265
        },
        "id": "yaAstex8iu7R",
        "outputId": "937ffae1-462f-4432-e1ad-5de21403968d"
      },
      "execution_count": 92,
      "outputs": [
        {
          "output_type": "display_data",
          "data": {
            "text/plain": [
              "<Figure size 432x288 with 1 Axes>"
            ],
            "image/png": "[encoded data removed]"
          },
          "metadata": {
            "needs_background": "light"
          }
        }
      ]
    },
    {
      "cell_type": "code",
      "source": [
        "rmse_3 = np.mean(np.sqrt(np.mean((imf3_Y_hat - imf3_test) ** 2)))"
      ],
      "metadata": {
        "id": "iSTozgTQixfn"
      },
      "execution_count": 93,
      "outputs": []
    },
    {
      "cell_type": "code",
      "source": [
        "rmse_3"
      ],
      "metadata": {
        "colab": {
          "base_uri": "https://localhost:8080/"
        },
        "id": "HrD2ol_fi0Uz",
        "outputId": "b6b8e158-4458-4891-b751-d389bcd49a86"
      },
      "execution_count": 94,
      "outputs": [
        {
          "output_type": "execute_result",
          "data": {
            "text/plain": [
              "127.73910353390113"
            ]
          },
          "metadata": {},
          "execution_count": 94
        }
      ]
    }
  ]
}