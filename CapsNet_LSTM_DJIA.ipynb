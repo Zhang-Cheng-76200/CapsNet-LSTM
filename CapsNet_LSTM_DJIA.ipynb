{
  "cells": [
    {
      "cell_type": "markdown",
      "metadata": {
        "id": "view-in-github",
        "colab_type": "text"
      },
      "source": [
        "<a href=\"https://colab.research.google.com/github/Orangefox76200/CapsNet-LSTM/blob/main/CapsNet_LSTM.ipynb\" target=\"_parent\"><img src=\"https://colab.research.google.com/assets/colab-badge.svg\" alt=\"Open In Colab\"/></a>"
      ]
    },
    {
      "cell_type": "markdown",
      "metadata": {
        "id": "G92ON7NXEnkW"
      },
      "source": [
        "# Financial Time Series Forecasting Using A Hybrid CapsNet-LSTM Architecture: Using real world data (DJIA Index)\n",
        "\n",
        "DJIA Index dataset contains data of the daily DJIA Index prices recorded from Jan 1st, 2010 to Dec 31st, 2019. In addition to be using Tensorflow's layers for processing sequence data such as LSTMs we will also intergrate Capsule Network in our proposed hybrid architecture to improve the model's performance.\n",
        "\n",
        "Let's get started!"
      ]
    },
    {
      "cell_type": "code",
      "source": [
        "!pip install keras-tuner -q"
      ],
      "metadata": {
        "id": "q-8z1SiOcPgO",
        "colab": {
          "base_uri": "https://localhost:8080/"
        },
        "outputId": "480af253-cb58-4d47-be94-6c31b124a9ca"
      },
      "execution_count": 1,
      "outputs": [
        {
          "output_type": "stream",
          "name": "stdout",
          "text": [
            "\u001b[K     |████████████████████████████████| 135 kB 5.1 MB/s \n",
            "\u001b[K     |████████████████████████████████| 1.6 MB 50.5 MB/s \n",
            "\u001b[?25h"
          ]
        }
      ]
    },
    {
      "cell_type": "code",
      "execution_count": 2,
      "metadata": {
        "id": "56XEQOGknrAk"
      },
      "outputs": [],
      "source": [
        "import keras.backend as K\n",
        "import tensorflow as tf\n",
        "\n",
        "import keras\n",
        "import keras_tuner\n",
        "from keras import backend as K\n",
        "from keras import initializers, layers, models, optimizers, callbacks, utils\n",
        "from keras.models import load_model\n",
        "from keras.models import model_from_json\n",
        "\n",
        "from keras.initializers import glorot_uniform\n",
        "\n",
        "from keras.initializers import *\n",
        "from keras.layers import *\n",
        "from keras.models import *\n",
        "from keras.optimizers import *\n",
        "from keras.callbacks import EarlyStopping\n",
        "from keras.utils import *\n",
        "\n",
        "from keras import losses\n",
        "from keras.utils.io_utils import ask_to_proceed_with_overwrite\n",
        "from tensorflow.python.platform import tf_logging as logging\n",
        "\n",
        "import os\n",
        "import copy\n",
        "import pickle\n",
        "import pandas as pd\n",
        "import numpy as np\n",
        "import matplotlib.pyplot as plt\n",
        "from dataclasses import dataclass"
      ]
    },
    {
      "cell_type": "code",
      "source": [
        "# Set seed\n",
        "from numpy.random import seed\n",
        "seed(1)\n",
        "tf.random.set_seed(1)"
      ],
      "metadata": {
        "id": "Xe-Rnq9QbQ7A"
      },
      "execution_count": 41,
      "outputs": []
    },
    {
      "cell_type": "code",
      "source": [
        "# If code is running on TPU\n",
        "resolver = tf.distribute.cluster_resolver.TPUClusterResolver(tpu='')\n",
        "tf.config.experimental_connect_to_cluster(resolver)\n",
        "# This is the TPU initialization code that has to be at the beginning.\n",
        "tf.tpu.experimental.initialize_tpu_system(resolver)\n",
        "print(\"All devices: \", tf.config.list_logical_devices('TPU'))"
      ],
      "metadata": {
        "colab": {
          "base_uri": "https://localhost:8080/"
        },
        "id": "CnjuziNxZdvf",
        "outputId": "2f83d773-f8c9-4ba7-ff98-6dda364fad31"
      },
      "execution_count": 4,
      "outputs": [
        {
          "output_type": "stream",
          "name": "stdout",
          "text": [
            "All devices:  [LogicalDevice(name='/job:worker/replica:0/task:0/device:TPU:0', device_type='TPU'), LogicalDevice(name='/job:worker/replica:0/task:0/device:TPU:1', device_type='TPU'), LogicalDevice(name='/job:worker/replica:0/task:0/device:TPU:2', device_type='TPU'), LogicalDevice(name='/job:worker/replica:0/task:0/device:TPU:3', device_type='TPU'), LogicalDevice(name='/job:worker/replica:0/task:0/device:TPU:4', device_type='TPU'), LogicalDevice(name='/job:worker/replica:0/task:0/device:TPU:5', device_type='TPU'), LogicalDevice(name='/job:worker/replica:0/task:0/device:TPU:6', device_type='TPU'), LogicalDevice(name='/job:worker/replica:0/task:0/device:TPU:7', device_type='TPU')]\n"
          ]
        }
      ]
    },
    {
      "cell_type": "code",
      "source": [
        "strategy = tf.distribute.TPUStrategy(resolver)"
      ],
      "metadata": {
        "id": "eb5Za_rOMFVx"
      },
      "execution_count": 5,
      "outputs": []
    },
    {
      "cell_type": "code",
      "source": [
        "print(tf.__version__)"
      ],
      "metadata": {
        "colab": {
          "base_uri": "https://localhost:8080/"
        },
        "id": "rA-JsdF3y5eE",
        "outputId": "21542adb-9e36-41ec-9a46-08a93f51890d"
      },
      "execution_count": 6,
      "outputs": [
        {
          "output_type": "stream",
          "name": "stdout",
          "text": [
            "2.8.2\n"
          ]
        }
      ]
    },
    {
      "cell_type": "markdown",
      "metadata": {
        "id": "RBR7h1IgEnkc"
      },
      "source": [
        "## Parsing the raw data\n",
        "\n",
        "A couple of things to note:\n",
        "\n",
        "- There is no need to save the data points as numpy arrays, regular lists is fine.\n",
        "- The `time` list should contain every timestep (starting at zero), which is just a sequence of ordered numbers with the same length as the `series` list.\n",
        "- The values of the `series` should be of `float` type. You can use Python's built-in `float` function to ensure this."
      ]
    },
    {
      "cell_type": "markdown",
      "metadata": {
        "id": "GeP3JMZHEnkZ"
      },
      "source": [
        "Begin by looking at the structure of the xlsx file that contains the data:"
      ]
    },
    {
      "cell_type": "code",
      "source": [
        "from google.colab import drive\n",
        "drive.mount ('gdrive')"
      ],
      "metadata": {
        "colab": {
          "base_uri": "https://localhost:8080/"
        },
        "id": "o4Vkj4Y8DYm7",
        "outputId": "9de3cc50-22eb-48c5-8cf1-576507bb3981"
      },
      "execution_count": 7,
      "outputs": [
        {
          "output_type": "stream",
          "name": "stdout",
          "text": [
            "Mounted at gdrive\n"
          ]
        }
      ]
    },
    {
      "cell_type": "code",
      "source": [
        "DJIA_raw = pd.read_excel('/content/gdrive/MyDrive/Colab Notebooks/DJIA.xlsx')\n",
        "DJIA_raw"
      ],
      "metadata": {
        "colab": {
          "base_uri": "https://localhost:8080/",
          "height": 424
        },
        "id": "vKv3toTHFgnh",
        "outputId": "e491b2e2-f118-4670-ce84-7b3cb4f86d3f"
      },
      "execution_count": 8,
      "outputs": [
        {
          "output_type": "execute_result",
          "data": {
            "text/plain": [
              "              Date      Open      High       Low     Close     Volume\n",
              "0     Jan 04, 2010  10430.69  10604.97  10430.69  10583.96  179780000\n",
              "1     Jan 05, 2010  10584.56  10584.56  10522.52  10572.02  188540000\n",
              "2     Jan 06, 2010  10564.72  10594.99  10546.55  10573.68  186040000\n",
              "3     Jan 07, 2010  10571.11  10612.37  10505.21  10606.86  217390000\n",
              "4     Jan 08, 2010  10606.40  10619.40  10554.33  10618.19  172710000\n",
              "...            ...       ...       ...       ...       ...        ...\n",
              "2511  Dec 24, 2019  28572.57  28576.80  28503.21  28515.45   86150000\n",
              "2512  Dec 26, 2019  28539.46  28624.10  28535.15  28621.39  155970000\n",
              "2513  Dec 27, 2019  28675.34  28701.66  28608.98  28645.26  182280000\n",
              "2514  Dec 30, 2019  28654.76  28664.69  28428.98  28462.14  181600000\n",
              "2515  Dec 31, 2019  28414.64  28547.35  28376.49  28538.44  193340000\n",
              "\n",
              "[2516 rows x 6 columns]"
            ],
            "text/html": [
              "\n",
              "  <div id=\"df-f65f6444-acb6-4973-b81f-71c80bfc2a72\">\n",
              "    <div class=\"colab-df-container\">\n",
              "      <div>\n",
              "<style scoped>\n",
              "    .dataframe tbody tr th:only-of-type {\n",
              "        vertical-align: middle;\n",
              "    }\n",
              "\n",
              "    .dataframe tbody tr th {\n",
              "        vertical-align: top;\n",
              "    }\n",
              "\n",
              "    .dataframe thead th {\n",
              "        text-align: right;\n",
              "    }\n",
              "</style>\n",
              "<table border=\"1\" class=\"dataframe\">\n",
              "  <thead>\n",
              "    <tr style=\"text-align: right;\">\n",
              "      <th></th>\n",
              "      <th>Date</th>\n",
              "      <th>Open</th>\n",
              "      <th>High</th>\n",
              "      <th>Low</th>\n",
              "      <th>Close</th>\n",
              "      <th>Volume</th>\n",
              "    </tr>\n",
              "  </thead>\n",
              "  <tbody>\n",
              "    <tr>\n",
              "      <th>0</th>\n",
              "      <td>Jan 04, 2010</td>\n",
              "      <td>10430.69</td>\n",
              "      <td>10604.97</td>\n",
              "      <td>10430.69</td>\n",
              "      <td>10583.96</td>\n",
              "      <td>179780000</td>\n",
              "    </tr>\n",
              "    <tr>\n",
              "      <th>1</th>\n",
              "      <td>Jan 05, 2010</td>\n",
              "      <td>10584.56</td>\n",
              "      <td>10584.56</td>\n",
              "      <td>10522.52</td>\n",
              "      <td>10572.02</td>\n",
              "      <td>188540000</td>\n",
              "    </tr>\n",
              "    <tr>\n",
              "      <th>2</th>\n",
              "      <td>Jan 06, 2010</td>\n",
              "      <td>10564.72</td>\n",
              "      <td>10594.99</td>\n",
              "      <td>10546.55</td>\n",
              "      <td>10573.68</td>\n",
              "      <td>186040000</td>\n",
              "    </tr>\n",
              "    <tr>\n",
              "      <th>3</th>\n",
              "      <td>Jan 07, 2010</td>\n",
              "      <td>10571.11</td>\n",
              "      <td>10612.37</td>\n",
              "      <td>10505.21</td>\n",
              "      <td>10606.86</td>\n",
              "      <td>217390000</td>\n",
              "    </tr>\n",
              "    <tr>\n",
              "      <th>4</th>\n",
              "      <td>Jan 08, 2010</td>\n",
              "      <td>10606.40</td>\n",
              "      <td>10619.40</td>\n",
              "      <td>10554.33</td>\n",
              "      <td>10618.19</td>\n",
              "      <td>172710000</td>\n",
              "    </tr>\n",
              "    <tr>\n",
              "      <th>...</th>\n",
              "      <td>...</td>\n",
              "      <td>...</td>\n",
              "      <td>...</td>\n",
              "      <td>...</td>\n",
              "      <td>...</td>\n",
              "      <td>...</td>\n",
              "    </tr>\n",
              "    <tr>\n",
              "      <th>2511</th>\n",
              "      <td>Dec 24, 2019</td>\n",
              "      <td>28572.57</td>\n",
              "      <td>28576.80</td>\n",
              "      <td>28503.21</td>\n",
              "      <td>28515.45</td>\n",
              "      <td>86150000</td>\n",
              "    </tr>\n",
              "    <tr>\n",
              "      <th>2512</th>\n",
              "      <td>Dec 26, 2019</td>\n",
              "      <td>28539.46</td>\n",
              "      <td>28624.10</td>\n",
              "      <td>28535.15</td>\n",
              "      <td>28621.39</td>\n",
              "      <td>155970000</td>\n",
              "    </tr>\n",
              "    <tr>\n",
              "      <th>2513</th>\n",
              "      <td>Dec 27, 2019</td>\n",
              "      <td>28675.34</td>\n",
              "      <td>28701.66</td>\n",
              "      <td>28608.98</td>\n",
              "      <td>28645.26</td>\n",
              "      <td>182280000</td>\n",
              "    </tr>\n",
              "    <tr>\n",
              "      <th>2514</th>\n",
              "      <td>Dec 30, 2019</td>\n",
              "      <td>28654.76</td>\n",
              "      <td>28664.69</td>\n",
              "      <td>28428.98</td>\n",
              "      <td>28462.14</td>\n",
              "      <td>181600000</td>\n",
              "    </tr>\n",
              "    <tr>\n",
              "      <th>2515</th>\n",
              "      <td>Dec 31, 2019</td>\n",
              "      <td>28414.64</td>\n",
              "      <td>28547.35</td>\n",
              "      <td>28376.49</td>\n",
              "      <td>28538.44</td>\n",
              "      <td>193340000</td>\n",
              "    </tr>\n",
              "  </tbody>\n",
              "</table>\n",
              "<p>2516 rows × 6 columns</p>\n",
              "</div>\n",
              "      <button class=\"colab-df-convert\" onclick=\"convertToInteractive('df-f65f6444-acb6-4973-b81f-71c80bfc2a72')\"\n",
              "              title=\"Convert this dataframe to an interactive table.\"\n",
              "              style=\"display:none;\">\n",
              "        \n",
              "  <svg xmlns=\"http://www.w3.org/2000/svg\" height=\"24px\"viewBox=\"0 0 24 24\"\n",
              "       width=\"24px\">\n",
              "    <path d=\"M0 0h24v24H0V0z\" fill=\"none\"/>\n",
              "    <path d=\"M18.56 5.44l.94 2.06.94-2.06 2.06-.94-2.06-.94-.94-2.06-.94 2.06-2.06.94zm-11 1L8.5 8.5l.94-2.06 2.06-.94-2.06-.94L8.5 2.5l-.94 2.06-2.06.94zm10 10l.94 2.06.94-2.06 2.06-.94-2.06-.94-.94-2.06-.94 2.06-2.06.94z\"/><path d=\"M17.41 7.96l-1.37-1.37c-.4-.4-.92-.59-1.43-.59-.52 0-1.04.2-1.43.59L10.3 9.45l-7.72 7.72c-.78.78-.78 2.05 0 2.83L4 21.41c.39.39.9.59 1.41.59.51 0 1.02-.2 1.41-.59l7.78-7.78 2.81-2.81c.8-.78.8-2.07 0-2.86zM5.41 20L4 18.59l7.72-7.72 1.47 1.35L5.41 20z\"/>\n",
              "  </svg>\n",
              "      </button>\n",
              "      \n",
              "  <style>\n",
              "    .colab-df-container {\n",
              "      display:flex;\n",
              "      flex-wrap:wrap;\n",
              "      gap: 12px;\n",
              "    }\n",
              "\n",
              "    .colab-df-convert {\n",
              "      background-color: #E8F0FE;\n",
              "      border: none;\n",
              "      border-radius: 50%;\n",
              "      cursor: pointer;\n",
              "      display: none;\n",
              "      fill: #1967D2;\n",
              "      height: 32px;\n",
              "      padding: 0 0 0 0;\n",
              "      width: 32px;\n",
              "    }\n",
              "\n",
              "    .colab-df-convert:hover {\n",
              "      background-color: #E2EBFA;\n",
              "      box-shadow: 0px 1px 2px rgba(60, 64, 67, 0.3), 0px 1px 3px 1px rgba(60, 64, 67, 0.15);\n",
              "      fill: #174EA6;\n",
              "    }\n",
              "\n",
              "    [theme=dark] .colab-df-convert {\n",
              "      background-color: #3B4455;\n",
              "      fill: #D2E3FC;\n",
              "    }\n",
              "\n",
              "    [theme=dark] .colab-df-convert:hover {\n",
              "      background-color: #434B5C;\n",
              "      box-shadow: 0px 1px 3px 1px rgba(0, 0, 0, 0.15);\n",
              "      filter: drop-shadow(0px 1px 2px rgba(0, 0, 0, 0.3));\n",
              "      fill: #FFFFFF;\n",
              "    }\n",
              "  </style>\n",
              "\n",
              "      <script>\n",
              "        const buttonEl =\n",
              "          document.querySelector('#df-f65f6444-acb6-4973-b81f-71c80bfc2a72 button.colab-df-convert');\n",
              "        buttonEl.style.display =\n",
              "          google.colab.kernel.accessAllowed ? 'block' : 'none';\n",
              "\n",
              "        async function convertToInteractive(key) {\n",
              "          const element = document.querySelector('#df-f65f6444-acb6-4973-b81f-71c80bfc2a72');\n",
              "          const dataTable =\n",
              "            await google.colab.kernel.invokeFunction('convertToInteractive',\n",
              "                                                     [key], {});\n",
              "          if (!dataTable) return;\n",
              "\n",
              "          const docLinkHtml = 'Like what you see? Visit the ' +\n",
              "            '<a target=\"_blank\" href=https://colab.research.google.com/notebooks/data_table.ipynb>data table notebook</a>'\n",
              "            + ' to learn more about interactive tables.';\n",
              "          element.innerHTML = '';\n",
              "          dataTable['output_type'] = 'display_data';\n",
              "          await google.colab.output.renderOutput(dataTable, element);\n",
              "          const docLink = document.createElement('div');\n",
              "          docLink.innerHTML = docLinkHtml;\n",
              "          element.appendChild(docLink);\n",
              "        }\n",
              "      </script>\n",
              "    </div>\n",
              "  </div>\n",
              "  "
            ]
          },
          "metadata": {},
          "execution_count": 8
        }
      ]
    },
    {
      "cell_type": "code",
      "source": [
        "series = DJIA_raw.iloc[:,4]"
      ],
      "metadata": {
        "id": "vTg-wdf-Vpbi"
      },
      "execution_count": 9,
      "outputs": []
    },
    {
      "cell_type": "code",
      "source": [
        "time = []\n",
        "for i in range(0, len(series)):\n",
        "  time.append(i)"
      ],
      "metadata": {
        "id": "4P3cPCrbVpVl"
      },
      "execution_count": 10,
      "outputs": []
    },
    {
      "cell_type": "markdown",
      "source": [
        "A helper function to plot the time series:"
      ],
      "metadata": {
        "id": "XQh2IH8Tl0Le"
      }
    },
    {
      "cell_type": "code",
      "source": [
        "def plot_series(time, series, format=\"-\", start=0, end=None):\n",
        "    plt.plot(time[start:end], series[start:end], format)\n",
        "    plt.xlabel(\"Time\")\n",
        "    plt.ylabel(\"Value\")\n",
        "    plt.grid(True)"
      ],
      "metadata": {
        "id": "qMGyMzGelzEW"
      },
      "execution_count": 11,
      "outputs": []
    },
    {
      "cell_type": "markdown",
      "metadata": {
        "id": "tT1tB8J1Enkd"
      },
      "source": [
        "The next cell will use functions to compute the `time` and `series` and will save these as numpy arrays within the `G` dataclass. This cell will also plot the time series:"
      ]
    },
    {
      "cell_type": "code",
      "execution_count": 12,
      "metadata": {
        "colab": {
          "base_uri": "https://localhost:8080/",
          "height": 388
        },
        "id": "R8UYoZlKEnke",
        "outputId": "48279c6e-c2cc-463b-b531-6ce43108519d"
      },
      "outputs": [
        {
          "output_type": "display_data",
          "data": {
            "text/plain": [
              "<Figure size 720x432 with 1 Axes>"
            ],
            "image/png": "[encoded data removed]"
          },
          "metadata": {
            "needs_background": "light"
          }
        }
      ],
      "source": [
        "# Save all \"global\" variables within the G class (G stands for global)\n",
        "@dataclass\n",
        "class G:\n",
        "    TIME = np.array(time)\n",
        "    SERIES = np.array(series)\n",
        "    SPLIT_TIME = int((len(series)-150)*0.8)\n",
        "    WINDOW_SIZE = 250\n",
        "    BATCH_SIZE = 32\n",
        "    SHUFFLE_BUFFER_SIZE = 60\n",
        "\n",
        "plt.figure(figsize=(10, 6))\n",
        "plot_series(G.TIME, G.SERIES)\n",
        "plt.show()"
      ]
    },
    {
      "cell_type": "markdown",
      "metadata": {
        "id": "Y8U3ckcaEnke"
      },
      "source": [
        "## Processing the data\n",
        "\n",
        "The `train_val_split` and `windowed_dataset` functions:"
      ]
    },
    {
      "cell_type": "code",
      "execution_count": 13,
      "metadata": {
        "id": "3O7A_9XdEnkf"
      },
      "outputs": [],
      "source": [
        "def train_val_test_split(time, series, time_step=G.SPLIT_TIME):\n",
        "\n",
        "    time_train = time[:time_step]\n",
        "    series_train = series[:time_step]\n",
        "    time_valid = time[time_step:-150]\n",
        "    series_valid = series[time_step:-150]\n",
        "    time_test = time[-150:]\n",
        "    series_test = series[-150:]\n",
        "\n",
        "    return time_train, series_train, time_valid, series_valid, time_test, series_test\n",
        "\n",
        "# Split the dataset\n",
        "time_train, series_train, time_valid, series_valid, time_test, series_test = train_val_test_split(G.TIME, G.SERIES)"
      ]
    },
    {
      "cell_type": "markdown",
      "source": [
        "min-max normalization:"
      ],
      "metadata": {
        "id": "M8xZy3QTZD8e"
      }
    },
    {
      "cell_type": "code",
      "source": [
        "def min_max_normalization(series):\n",
        "  series = (series - min(series_train))/(max(series_train) - min(series_train))\n",
        "  return series"
      ],
      "metadata": {
        "id": "aRkvaM6AauAy"
      },
      "execution_count": 14,
      "outputs": []
    },
    {
      "cell_type": "code",
      "source": [
        "series_norm = min_max_normalization(G.SERIES)"
      ],
      "metadata": {
        "id": "UR8bYse7ZC-G"
      },
      "execution_count": 15,
      "outputs": []
    },
    {
      "cell_type": "code",
      "source": [
        "series_train_norm = series_norm[:G.SPLIT_TIME]\n",
        "series_valid_norm = series_norm[G.SPLIT_TIME:-150]\n",
        "series_test_norm = series_norm[-150:]"
      ],
      "metadata": {
        "id": "CQr8LSVw4BIV"
      },
      "execution_count": 16,
      "outputs": []
    },
    {
      "cell_type": "code",
      "source": [
        "plot_series(time_train, series_train_norm)"
      ],
      "metadata": {
        "colab": {
          "base_uri": "https://localhost:8080/",
          "height": 279
        },
        "id": "slIykxCnn9Eb",
        "outputId": "ad28368e-75dd-4f8b-b35d-71c1099ab9a6"
      },
      "execution_count": 17,
      "outputs": [
        {
          "output_type": "display_data",
          "data": {
            "text/plain": [
              "<Figure size 432x288 with 1 Axes>"
            ],
            "image/png": "[encoded data removed]"
          },
          "metadata": {
            "needs_background": "light"
          }
        }
      ]
    },
    {
      "cell_type": "code",
      "source": [
        "plot_series(time_valid, series_valid_norm)"
      ],
      "metadata": {
        "colab": {
          "base_uri": "https://localhost:8080/",
          "height": 279
        },
        "id": "2dBiTEwnoPCf",
        "outputId": "1a819fc1-dfb7-4b6e-f045-136b77e0902a"
      },
      "execution_count": 18,
      "outputs": [
        {
          "output_type": "display_data",
          "data": {
            "text/plain": [
              "<Figure size 432x288 with 1 Axes>"
            ],
            "image/png": "[encoded data removed]"
          },
          "metadata": {
            "needs_background": "light"
          }
        }
      ]
    },
    {
      "cell_type": "code",
      "source": [
        "plot_series(time_test, series_test_norm)"
      ],
      "metadata": {
        "colab": {
          "base_uri": "https://localhost:8080/",
          "height": 279
        },
        "id": "bCGYGHZC4oSt",
        "outputId": "30c14081-378a-428e-9fad-4ab51bc483b4"
      },
      "execution_count": 19,
      "outputs": [
        {
          "output_type": "display_data",
          "data": {
            "text/plain": [
              "<Figure size 432x288 with 1 Axes>"
            ],
            "image/png": "[encoded data removed]"
          },
          "metadata": {
            "needs_background": "light"
          }
        }
      ]
    },
    {
      "cell_type": "code",
      "source": [
        "# Create train_set, val_set, and train_val_set. train_set and val_set are used for hyper=parameters tuning, and train_val_set is used for training.\n",
        "def windowed_dataset(series, window_size=G.WINDOW_SIZE, batch_size=G.BATCH_SIZE):\n",
        "    ds = tf.data.Dataset.from_tensor_slices(series)\n",
        "    ds = ds.window(window_size + 1, shift=1, drop_remainder=True)\n",
        "    ds = ds.flat_map(lambda w: w.batch(window_size + 1))\n",
        "    ds = ds.map(lambda w: (w[:-1], w[-1]))\n",
        "    ds = ds.batch(batch_size).prefetch(1)\n",
        "    return ds\n",
        "train_set = windowed_dataset(series_train_norm, window_size=G.WINDOW_SIZE, batch_size=G.BATCH_SIZE)\n",
        "val_set = windowed_dataset(series_norm[G.SPLIT_TIME-G.WINDOW_SIZE:-150], window_size=G.WINDOW_SIZE, batch_size=G.BATCH_SIZE)\n",
        "train_val_set = windowed_dataset(series_norm[0:-150], window_size=G.WINDOW_SIZE, batch_size=G.BATCH_SIZE)"
      ],
      "metadata": {
        "id": "Uix6YCADP4wK"
      },
      "execution_count": 20,
      "outputs": []
    },
    {
      "cell_type": "markdown",
      "metadata": {
        "id": "E6stIQIqEnkh"
      },
      "source": [
        "## Compiling the model\n"
      ]
    },
    {
      "cell_type": "markdown",
      "metadata": {
        "id": "GaMon77MEnkf"
      },
      "source": [
        "### Defining the model architecture (CapsNet-LSTM)\n"
      ]
    },
    {
      "cell_type": "code",
      "source": [
        "# Squash function\n",
        "\n",
        "def squash(vectors, axis=-1):\n",
        "    \"\"\"\n",
        "    The non-linear activation used in Capsule. It drives the length of a large vector to near 1 and small vector to 0\n",
        "    :param vectors: some vectors to be squashed, N-dim tensor\n",
        "    :param axis: the axis to squash\n",
        "    :return: a Tensor with same shape as input vectors\n",
        "    \"\"\"\n",
        "    s_squared_norm = K.sum(K.square(vectors), axis, keepdims=True) \n",
        "    scale = s_squared_norm / (1 + s_squared_norm) / K.sqrt(s_squared_norm + K.epsilon())\n",
        "    return scale * vectors\n"
      ],
      "metadata": {
        "id": "NAPDHkls8FGx"
      },
      "execution_count": 21,
      "outputs": []
    },
    {
      "cell_type": "code",
      "source": [
        "# Dynamic routing (layer)\n",
        "#    The capsule layer. It is similar to Dense layer. Dense layer has `in_num` inputs, each is a scalar, the output of the \n",
        "#    neuron from the former layer, and it has `out_num` output neurons. CapsuleLayer just expand the output of the neuron\n",
        "#    from scalar to vector. So its input shape = [None, input_num_capsule, input_dim_capsule] and output shape = \\\n",
        "#    [None, num_capsule, dim_capsule]. For Dense Layer, input_dim_capsule = dim_capsule = 1.\n",
        "\n",
        "#    :param dim_capsule: dimension of the output vectors of the capsules in this layer\n",
        "#    :param routings: number of iterations for the routing algorithm \n",
        "\n",
        "#@tf.keras.utils.register_keras_serializable() should use this line next time when need to save the model with a custom layer.\n",
        "class Routing(keras.layers.Layer):\n",
        "\n",
        "    def __init__(self, dim_capsule = 32 , routings=3, kernel_initializer='glorot_uniform'):\n",
        "        super(Routing, self).__init__()\n",
        "        self.dim_capsule = dim_capsule\n",
        "        self.routings = routings\n",
        "        self.kernel_initializer = initializers.get(kernel_initializer)\n",
        "\n",
        "    def build(self, input_shape):\n",
        "        # build tansform matrix which can convert one primary cap to a vector with the same order as the digit cap.\n",
        "        # assert len(input_shape) >= 3  # The input Tensor should have shape=[None, input_num_capsule, input_dim_capsule]\n",
        "        self.input_num_capsule = input_shape[1]\n",
        "        self.input_dim_capsule = input_shape[2]\n",
        "        \n",
        "        # Transform matrix\n",
        "       \n",
        "        self.W = self.add_weight(shape=[self.input_num_capsule,self.dim_capsule, self.input_dim_capsule],initializer=self.kernel_initializer,name='W')\n",
        "\n",
        "    def call(self, inputs): #training=None\n",
        "        # inputs.shape=[input_num_capsule, input_dim_capsule]\n",
        "        # inputs_expand.shape=[input_num_capsule, input_dim_capsule, 1]\n",
        "        inputs_expand = K.expand_dims(inputs, -1)    \n",
        "\n",
        "        # Compute `inputs * W` by scanning inputs_tiled on dimension 0.\n",
        "        # x.shape=[None, input_num_capsule, input_dim_capsule, 1]\n",
        "        # W.shape=[input_num_capsule, dim_capsule, input_dim_capsule]\n",
        "        # Regard the first dimension as `batch` dimension,\n",
        "        # then matmul: [dim_capsule, input_dim_capsule] x [input_dim_capsule, 1] -> [dim_capsule].\n",
        "        # inputs_hat.shape = [None, input_num_capsule, dim_capsule, 1]     \n",
        "          \n",
        "        inputs_hat = K.map_fn(lambda x: K.batch_dot(self.W, x, [2, 1]), elems=inputs_expand) \n",
        "\n",
        "        inputs_hat = K.squeeze(inputs_hat, axis = -1)\n",
        "        # inputs_hat.shape = [None, input_num_capsule, dim_capsule]\n",
        "       \n",
        "        # Begin: Routing algorithm ---------------------------------------------------------------------#\n",
        "        # The prior for coupling coefficient, initialized as zeros.\n",
        "        # b.shape = [None, self.input_num_capsule].\n",
        "        b = tf.zeros(shape=[K.shape(inputs_hat)[0], self.input_num_capsule])\n",
        "        \n",
        "        assert self.routings > 0\n",
        "        for i in range(self.routings):\n",
        "            # c.shape=[batch_size, input_num_capsule]\n",
        "            c = tf.nn.softmax(b, axis=-1)\n",
        "\n",
        "            # c.shape =  [batch_size, input_num_capsule]\n",
        "            # inputs_hat.shape=[batch_size, input_num_capsule, dim_capsule]\n",
        "            # The first dimensions as `batch` dimension,\n",
        "            # then matmal: [input_num_capsule] x [input_num_capsule, dim_capsule] -> [dim_capsule].\n",
        "            # outputs.shape=[None, dim_capsule]\n",
        "            \n",
        "            #outputs = squash(K.batch_dot(c, inputs_hat, [1, 1])) \n",
        "            outputs = K.batch_dot(c, inputs_hat, [1, 1])\n",
        "\n",
        "            if i < self.routings - 1:\n",
        "                # outputs.shape =  [None, dim_capsule]\n",
        "                # inputs_hat.shape=[None, input_num_capsule, dim_capsule]\n",
        "                # The first dimension as `batch` dimension,\n",
        "                # then matmal: [dim_capsule] x [input_num_capsule, dim_capsule]^T -> [input_num_capsule].\n",
        "                # b.shape=[batch_size, input_num_capsule]\n",
        "                b += K.batch_dot(outputs, inputs_hat, [1, 2])\n",
        "       \n",
        "        # End: Routing algorithm -----------------------------------------------------------------------#\n",
        "\n",
        "        return outputs\n",
        "\n",
        "    def compute_output_shape(self, input_shape):\n",
        "        return tuple([None, self.dim_capsule])\n",
        "\n",
        "    def get_config(self):\n",
        "        config = super().get_config()\n",
        "        config.update({\n",
        "            \"dim_capsule\": self.dim_capsule,\n",
        "            \"routings\": self.routings,\n",
        "            \"kernel_initializer\": self.kernel_initializer,\n",
        "        })\n",
        "        return config"
      ],
      "metadata": {
        "id": "n2SUkh9LAFqP"
      },
      "execution_count": 22,
      "outputs": []
    },
    {
      "cell_type": "code",
      "execution_count": 23,
      "metadata": {
        "id": "1Y12KaJYEnki"
      },
      "outputs": [],
      "source": [
        "def compute_metrics(true_series, forecast):\n",
        "    \n",
        "    mse = tf.keras.metrics.mean_squared_error(true_series, forecast).numpy()   \n",
        "    rmse = tf.math.sqrt(mse).numpy()\n",
        "    mae = tf.keras.metrics.mean_absolute_error(true_series, forecast).numpy()\n",
        "    mape = tf.keras.metrics.mean_absolute_percentage_error(true_series, forecast).numpy()\n",
        "    return rmse, mae, mape"
      ]
    },
    {
      "cell_type": "code",
      "execution_count": 24,
      "metadata": {
        "id": "4XwGrf-A_wF0"
      },
      "outputs": [],
      "source": [
        "def model_forecast(model, series, window_size):\n",
        "    ds = tf.data.Dataset.from_tensor_slices(series)\n",
        "    ds = ds.window(window_size, shift=1, drop_remainder=True)\n",
        "    ds = ds.flat_map(lambda w: w.batch(window_size))\n",
        "    ds = ds.batch(32).prefetch(1)\n",
        "    forecast = model.predict(ds)\n",
        "    return forecast"
      ]
    },
    {
      "cell_type": "code",
      "source": [
        "def reverse_normalization(series):\n",
        "  series = series * (max(series_train) - min(series_train)) + min(series_train)\n",
        "  return series"
      ],
      "metadata": {
        "id": "xG8kJO3blWny"
      },
      "execution_count": 25,
      "outputs": []
    },
    {
      "cell_type": "code",
      "source": [
        "input_shape = (G.WINDOW_SIZE, 1)"
      ],
      "metadata": {
        "id": "uh3dZo2eVk0K"
      },
      "execution_count": 26,
      "outputs": []
    },
    {
      "cell_type": "code",
      "source": [
        "# Prepare callback\n",
        "stop_early = tf.keras.callbacks.EarlyStopping(monitor='val_mae', patience=5)"
      ],
      "metadata": {
        "id": "LxTHiYBFhIhF"
      },
      "execution_count": 27,
      "outputs": []
    },
    {
      "cell_type": "code",
      "source": [
        "K.clear_session()"
      ],
      "metadata": {
        "id": "-dD6KzvejX_o"
      },
      "execution_count": 28,
      "outputs": []
    },
    {
      "cell_type": "markdown",
      "source": [
        "### Tune hyper-parameters"
      ],
      "metadata": {
        "id": "HAgEm3Ue4PNF"
      }
    },
    {
      "cell_type": "code",
      "source": [
        "def build_CapsNet_LSTM(hp):\n",
        "   \n",
        "    input = tf.keras.layers.Input(shape=input_shape)\n",
        "      \n",
        "    # First layer\n",
        "    conv1d_1 = tf.keras.layers.Conv1D(filters=hp.Int('Conv1_units', 256, 1024, 256), kernel_size=2, strides=1, padding='causal', activation='relu', name = 'conv1d_1')(input)\n",
        "          \n",
        "    # Primary caps\n",
        "    conv1d_2 = tf.keras.layers.Conv1D(filters=512, kernel_size=2, strides=1, padding='causal',name = 'conv1d_2')(conv1d_1)\n",
        "\n",
        "    unsquashed_caps = tf.keras.layers.Reshape((G.WINDOW_SIZE, 64, 8))(conv1d_2)\n",
        "    squashed_caps = tf.keras.layers.Lambda(squash)(unsquashed_caps)\n",
        "\n",
        "    # Digit caps\n",
        "     \n",
        "    digit_caps = tf.keras.layers.TimeDistributed(Routing(dim_capsule = hp.Int('dim_capsule', 256, 1024, 256), routings = hp.Int('routings', 3, 5, 1)))(squashed_caps)\n",
        "\n",
        "    # LSTM layer\n",
        "    lstm = tf.keras.layers.LSTM(hp.Int('lstm_units', 150, 300, 50))(digit_caps)\n",
        "\n",
        "    # Dropout  \n",
        "    dropout = tf.keras.layers.Dropout(hp.Float('dropout', 0.1, 0.5, 0.1))(lstm)\n",
        "\n",
        "    # Dense layer\n",
        "    dense1 = tf.keras.layers.Dense(hp.Int('dense1_units', 20, 50, 10), activation=\"relu\")(dropout)\n",
        "    dense2 = tf.keras.layers.Dense(hp.Int('dense2_units', 5, 20, 5), activation=\"relu\")(dense1)\n",
        "    output = tf.keras.layers.Dense(1)(dense2)\n",
        "\n",
        "    model = keras.Model(inputs=input, outputs=output, name=\"capsnet_lstm\")\n",
        "\n",
        "    learning_rate = hp.Float(\"lr\", min_value=1e-4, max_value=1e-2, sampling=\"log\")\n",
        "    model.compile(\n",
        "        optimizer=tf.keras.optimizers.Adam(learning_rate = learning_rate),\n",
        "        loss=tf.keras.losses.Huber(),\n",
        "        metrics=[\"mae\"])\n",
        "\n",
        "    return model"
      ],
      "metadata": {
        "id": "CV7ss5NiVBZy"
      },
      "execution_count": 29,
      "outputs": []
    },
    {
      "cell_type": "code",
      "source": [
        "build_CapsNet_LSTM(keras_tuner.HyperParameters())\n",
        "\n",
        "tuner_capsnet_lstm = keras_tuner.Hyperband(\n",
        "    hypermodel=build_CapsNet_LSTM,\n",
        "    objective=\"val_mae\",\n",
        "    max_epochs=50,\n",
        "    factor=3,\n",
        "    hyperband_iterations=1,\n",
        "    distribution_strategy=strategy,\n",
        "    seed = 1,\n",
        "    directory='/content/gdrive/MyDrive/Tuner',\n",
        "    project_name='capsnet_lstm_noshuffle',\n",
        "    overwrite = False)\n",
        "\n",
        "tuner_capsnet_lstm.search(train_set, epochs=50, validation_data=val_set, callbacks=[stop_early])\n",
        "\n",
        "tuner_capsnet_lstm.results_summary()\n",
        "\n",
        "# Get the top 5 hyperparameters.\n",
        "best_hps_capsnet_lstm = tuner_capsnet_lstm.get_best_hyperparameters(5)"
      ],
      "metadata": {
        "id": "Clw6kk0hViJD",
        "outputId": "6849c53f-7ba0-4a23-e32c-3a11c121ac28",
        "colab": {
          "base_uri": "https://localhost:8080/"
        }
      },
      "execution_count": 30,
      "outputs": [
        {
          "output_type": "stream",
          "name": "stdout",
          "text": [
            "Trial 90 Complete [00h 02m 07s]\n",
            "val_mae: 0.1632605493068695\n",
            "\n",
            "Best val_mae So Far: 0.024929076433181763\n",
            "Total elapsed time: 00h 54m 56s\n",
            "Results summary\n",
            "Results in /content/gdrive/MyDrive/Tuner/capsnet_lstm_noshuffle\n",
            "Showing 10 best trials\n",
            "<keras_tuner.engine.objective.Objective object at 0x7f1d86ec2150>\n",
            "Trial summary\n",
            "Hyperparameters:\n",
            "Conv1_units: 256\n",
            "dim_capsule: 768\n",
            "routings: 3\n",
            "lstm_units: 200\n",
            "dropout: 0.30000000000000004\n",
            "dense1_units: 20\n",
            "dense2_units: 15\n",
            "lr: 0.00036151371126048177\n",
            "tuner/epochs: 6\n",
            "tuner/initial_epoch: 2\n",
            "tuner/bracket: 3\n",
            "tuner/round: 1\n",
            "tuner/trial_id: 0025\n",
            "Score: 0.024929076433181763\n",
            "Trial summary\n",
            "Hyperparameters:\n",
            "Conv1_units: 256\n",
            "dim_capsule: 768\n",
            "routings: 3\n",
            "lstm_units: 200\n",
            "dropout: 0.30000000000000004\n",
            "dense1_units: 20\n",
            "dense2_units: 15\n",
            "lr: 0.00036151371126048177\n",
            "tuner/epochs: 50\n",
            "tuner/initial_epoch: 17\n",
            "tuner/bracket: 3\n",
            "tuner/round: 3\n",
            "tuner/trial_id: 0046\n",
            "Score: 0.02809988707304001\n",
            "Trial summary\n",
            "Hyperparameters:\n",
            "Conv1_units: 512\n",
            "dim_capsule: 768\n",
            "routings: 5\n",
            "lstm_units: 200\n",
            "dropout: 0.2\n",
            "dense1_units: 40\n",
            "dense2_units: 10\n",
            "lr: 0.00011465640987948183\n",
            "tuner/epochs: 50\n",
            "tuner/initial_epoch: 17\n",
            "tuner/bracket: 3\n",
            "tuner/round: 3\n",
            "tuner/trial_id: 0049\n",
            "Score: 0.030999358743429184\n",
            "Trial summary\n",
            "Hyperparameters:\n",
            "Conv1_units: 1024\n",
            "dim_capsule: 768\n",
            "routings: 4\n",
            "lstm_units: 250\n",
            "dropout: 0.30000000000000004\n",
            "dense1_units: 30\n",
            "dense2_units: 20\n",
            "lr: 0.00014000006471192848\n",
            "tuner/epochs: 6\n",
            "tuner/initial_epoch: 0\n",
            "tuner/bracket: 2\n",
            "tuner/round: 0\n",
            "Score: 0.031247109174728394\n",
            "Trial summary\n",
            "Hyperparameters:\n",
            "Conv1_units: 768\n",
            "dim_capsule: 768\n",
            "routings: 4\n",
            "lstm_units: 250\n",
            "dropout: 0.30000000000000004\n",
            "dense1_units: 20\n",
            "dense2_units: 10\n",
            "lr: 0.00012337256785879854\n",
            "tuner/epochs: 6\n",
            "tuner/initial_epoch: 2\n",
            "tuner/bracket: 3\n",
            "tuner/round: 1\n",
            "tuner/trial_id: 0024\n",
            "Score: 0.033517755568027496\n",
            "Trial summary\n",
            "Hyperparameters:\n",
            "Conv1_units: 768\n",
            "dim_capsule: 1024\n",
            "routings: 5\n",
            "lstm_units: 200\n",
            "dropout: 0.30000000000000004\n",
            "dense1_units: 50\n",
            "dense2_units: 5\n",
            "lr: 0.0001029562160619873\n",
            "tuner/epochs: 17\n",
            "tuner/initial_epoch: 6\n",
            "tuner/bracket: 2\n",
            "tuner/round: 1\n",
            "tuner/trial_id: 0059\n",
            "Score: 0.03390945866703987\n",
            "Trial summary\n",
            "Hyperparameters:\n",
            "Conv1_units: 768\n",
            "dim_capsule: 1024\n",
            "routings: 5\n",
            "lstm_units: 200\n",
            "dropout: 0.30000000000000004\n",
            "dense1_units: 50\n",
            "dense2_units: 5\n",
            "lr: 0.0001029562160619873\n",
            "tuner/epochs: 50\n",
            "tuner/initial_epoch: 17\n",
            "tuner/bracket: 2\n",
            "tuner/round: 2\n",
            "tuner/trial_id: 0068\n",
            "Score: 0.03396565467119217\n",
            "Trial summary\n",
            "Hyperparameters:\n",
            "Conv1_units: 1024\n",
            "dim_capsule: 1024\n",
            "routings: 5\n",
            "lstm_units: 150\n",
            "dropout: 0.30000000000000004\n",
            "dense1_units: 30\n",
            "dense2_units: 5\n",
            "lr: 0.0003563164068303565\n",
            "tuner/epochs: 6\n",
            "tuner/initial_epoch: 2\n",
            "tuner/bracket: 3\n",
            "tuner/round: 1\n",
            "tuner/trial_id: 0022\n",
            "Score: 0.034006379544734955\n",
            "Trial summary\n",
            "Hyperparameters:\n",
            "Conv1_units: 512\n",
            "dim_capsule: 768\n",
            "routings: 5\n",
            "lstm_units: 200\n",
            "dropout: 0.2\n",
            "dense1_units: 40\n",
            "dense2_units: 10\n",
            "lr: 0.00011465640987948183\n",
            "tuner/epochs: 6\n",
            "tuner/initial_epoch: 2\n",
            "tuner/bracket: 3\n",
            "tuner/round: 1\n",
            "tuner/trial_id: 0021\n",
            "Score: 0.03629755228757858\n",
            "Trial summary\n",
            "Hyperparameters:\n",
            "Conv1_units: 512\n",
            "dim_capsule: 512\n",
            "routings: 5\n",
            "lstm_units: 200\n",
            "dropout: 0.30000000000000004\n",
            "dense1_units: 30\n",
            "dense2_units: 10\n",
            "lr: 0.00017722137181005657\n",
            "tuner/epochs: 17\n",
            "tuner/initial_epoch: 0\n",
            "tuner/bracket: 1\n",
            "tuner/round: 0\n",
            "Score: 0.03667775169014931\n"
          ]
        }
      ]
    },
    {
      "cell_type": "code",
      "source": [
        "# Build the model with the best hp.\n",
        "with strategy.scope():\n",
        "  capsnet_lstm = build_CapsNet_LSTM(best_hps_capsnet_lstm[0])\n",
        "# Fit with the entire dataset.\n",
        "capsnet_lstm.fit(train_val_set, epochs=200)"
      ],
      "metadata": {
        "id": "Bz4kTlU3C_r_",
        "colab": {
          "base_uri": "https://localhost:8080/"
        },
        "outputId": "25bba2c2-4d90-4b21-bede-5ff4d717478b"
      },
      "execution_count": 32,
      "outputs": [
        {
          "output_type": "stream",
          "name": "stdout",
          "text": [
            "Epoch 1/200\n",
            "67/67 [==============================] - 24s 234ms/step - loss: 0.0112 - mae: 0.1209\n",
            "Epoch 2/200\n",
            "67/67 [==============================] - 12s 184ms/step - loss: 0.0494 - mae: 0.2504\n",
            "Epoch 3/200\n",
            "67/67 [==============================] - 12s 184ms/step - loss: 0.0079 - mae: 0.1026\n",
            "Epoch 4/200\n",
            "67/67 [==============================] - 12s 184ms/step - loss: 0.0036 - mae: 0.0687\n",
            "Epoch 5/200\n",
            "67/67 [==============================] - 12s 184ms/step - loss: 0.0024 - mae: 0.0556\n",
            "Epoch 6/200\n",
            "67/67 [==============================] - 12s 185ms/step - loss: 0.0018 - mae: 0.0467\n",
            "Epoch 7/200\n",
            "67/67 [==============================] - 12s 185ms/step - loss: 0.0015 - mae: 0.0404\n",
            "Epoch 8/200\n",
            "67/67 [==============================] - 12s 184ms/step - loss: 0.0013 - mae: 0.0385\n",
            "Epoch 9/200\n",
            "67/67 [==============================] - 12s 185ms/step - loss: 0.0012 - mae: 0.0363\n",
            "Epoch 10/200\n",
            "67/67 [==============================] - 12s 184ms/step - loss: 0.0015 - mae: 0.0420\n",
            "Epoch 11/200\n",
            "67/67 [==============================] - 12s 185ms/step - loss: 0.0014 - mae: 0.0414\n",
            "Epoch 12/200\n",
            "67/67 [==============================] - 12s 184ms/step - loss: 0.0014 - mae: 0.0410\n",
            "Epoch 13/200\n",
            "67/67 [==============================] - 12s 185ms/step - loss: 0.0014 - mae: 0.0413\n",
            "Epoch 14/200\n",
            "67/67 [==============================] - 12s 185ms/step - loss: 0.0012 - mae: 0.0382\n",
            "Epoch 15/200\n",
            "67/67 [==============================] - 12s 185ms/step - loss: 0.0010 - mae: 0.0343\n",
            "Epoch 16/200\n",
            "67/67 [==============================] - 12s 185ms/step - loss: 0.0012 - mae: 0.0355\n",
            "Epoch 17/200\n",
            "67/67 [==============================] - 12s 184ms/step - loss: 0.0011 - mae: 0.0336\n",
            "Epoch 18/200\n",
            "67/67 [==============================] - 12s 185ms/step - loss: 0.0011 - mae: 0.0348\n",
            "Epoch 19/200\n",
            "67/67 [==============================] - 12s 185ms/step - loss: 0.0012 - mae: 0.0387\n",
            "Epoch 20/200\n",
            "67/67 [==============================] - 12s 185ms/step - loss: 0.0012 - mae: 0.0376\n",
            "Epoch 21/200\n",
            "67/67 [==============================] - 12s 185ms/step - loss: 0.0012 - mae: 0.0353\n",
            "Epoch 22/200\n",
            "67/67 [==============================] - 12s 185ms/step - loss: 0.0010 - mae: 0.0338\n",
            "Epoch 23/200\n",
            "67/67 [==============================] - 12s 185ms/step - loss: 0.0010 - mae: 0.0343\n",
            "Epoch 24/200\n",
            "67/67 [==============================] - 12s 185ms/step - loss: 9.5035e-04 - mae: 0.0329\n",
            "Epoch 25/200\n",
            "67/67 [==============================] - 12s 184ms/step - loss: 0.0011 - mae: 0.0343\n",
            "Epoch 26/200\n",
            "67/67 [==============================] - 12s 185ms/step - loss: 0.0011 - mae: 0.0344\n",
            "Epoch 27/200\n",
            "67/67 [==============================] - 12s 184ms/step - loss: 9.9792e-04 - mae: 0.0343\n",
            "Epoch 28/200\n",
            "67/67 [==============================] - 12s 185ms/step - loss: 0.0010 - mae: 0.0341\n",
            "Epoch 29/200\n",
            "67/67 [==============================] - 12s 185ms/step - loss: 0.0011 - mae: 0.0359\n",
            "Epoch 30/200\n",
            "67/67 [==============================] - 12s 185ms/step - loss: 0.0012 - mae: 0.0379\n",
            "Epoch 31/200\n",
            "67/67 [==============================] - 12s 185ms/step - loss: 9.8352e-04 - mae: 0.0339\n",
            "Epoch 32/200\n",
            "67/67 [==============================] - 12s 185ms/step - loss: 0.0011 - mae: 0.0370\n",
            "Epoch 33/200\n",
            "67/67 [==============================] - 12s 185ms/step - loss: 0.0012 - mae: 0.0377\n",
            "Epoch 34/200\n",
            "67/67 [==============================] - 12s 185ms/step - loss: 0.0011 - mae: 0.0358\n",
            "Epoch 35/200\n",
            "67/67 [==============================] - 12s 184ms/step - loss: 9.6529e-04 - mae: 0.0338\n",
            "Epoch 36/200\n",
            "67/67 [==============================] - 12s 185ms/step - loss: 8.8789e-04 - mae: 0.0321\n",
            "Epoch 37/200\n",
            "67/67 [==============================] - 12s 185ms/step - loss: 0.0010 - mae: 0.0344\n",
            "Epoch 38/200\n",
            "67/67 [==============================] - 12s 184ms/step - loss: 9.7459e-04 - mae: 0.0326\n",
            "Epoch 39/200\n",
            "67/67 [==============================] - 12s 185ms/step - loss: 9.4871e-04 - mae: 0.0326\n",
            "Epoch 40/200\n",
            "67/67 [==============================] - 12s 185ms/step - loss: 8.2390e-04 - mae: 0.0308\n",
            "Epoch 41/200\n",
            "67/67 [==============================] - 12s 184ms/step - loss: 9.3760e-04 - mae: 0.0333\n",
            "Epoch 42/200\n",
            "67/67 [==============================] - 12s 185ms/step - loss: 0.0010 - mae: 0.0341\n",
            "Epoch 43/200\n",
            "67/67 [==============================] - 12s 184ms/step - loss: 8.9183e-04 - mae: 0.0307\n",
            "Epoch 44/200\n",
            "67/67 [==============================] - 12s 184ms/step - loss: 8.1280e-04 - mae: 0.0305\n",
            "Epoch 45/200\n",
            "67/67 [==============================] - 12s 184ms/step - loss: 8.9540e-04 - mae: 0.0318\n",
            "Epoch 46/200\n",
            "67/67 [==============================] - 12s 185ms/step - loss: 8.3236e-04 - mae: 0.0304\n",
            "Epoch 47/200\n",
            "67/67 [==============================] - 12s 185ms/step - loss: 0.0012 - mae: 0.0383\n",
            "Epoch 48/200\n",
            "67/67 [==============================] - 12s 185ms/step - loss: 0.0013 - mae: 0.0400\n",
            "Epoch 49/200\n",
            "67/67 [==============================] - 12s 184ms/step - loss: 9.1611e-04 - mae: 0.0330\n",
            "Epoch 50/200\n",
            "67/67 [==============================] - 12s 184ms/step - loss: 8.4917e-04 - mae: 0.0319\n",
            "Epoch 51/200\n",
            "67/67 [==============================] - 12s 185ms/step - loss: 8.8487e-04 - mae: 0.0325\n",
            "Epoch 52/200\n",
            "67/67 [==============================] - 12s 185ms/step - loss: 8.2453e-04 - mae: 0.0301\n",
            "Epoch 53/200\n",
            "67/67 [==============================] - 12s 184ms/step - loss: 8.3891e-04 - mae: 0.0299\n",
            "Epoch 54/200\n",
            "67/67 [==============================] - 12s 184ms/step - loss: 7.4598e-04 - mae: 0.0287\n",
            "Epoch 55/200\n",
            "67/67 [==============================] - 12s 184ms/step - loss: 7.1777e-04 - mae: 0.0286\n",
            "Epoch 56/200\n",
            "67/67 [==============================] - 12s 185ms/step - loss: 8.1211e-04 - mae: 0.0298\n",
            "Epoch 57/200\n",
            "67/67 [==============================] - 12s 184ms/step - loss: 8.8146e-04 - mae: 0.0307\n",
            "Epoch 58/200\n",
            "67/67 [==============================] - 12s 185ms/step - loss: 8.3622e-04 - mae: 0.0306\n",
            "Epoch 59/200\n",
            "67/67 [==============================] - 12s 185ms/step - loss: 7.3956e-04 - mae: 0.0280\n",
            "Epoch 60/200\n",
            "67/67 [==============================] - 12s 185ms/step - loss: 6.8973e-04 - mae: 0.0271\n",
            "Epoch 61/200\n",
            "67/67 [==============================] - 12s 185ms/step - loss: 8.4745e-04 - mae: 0.0295\n",
            "Epoch 62/200\n",
            "67/67 [==============================] - 12s 185ms/step - loss: 8.7101e-04 - mae: 0.0320\n",
            "Epoch 63/200\n",
            "67/67 [==============================] - 12s 185ms/step - loss: 7.5394e-04 - mae: 0.0284\n",
            "Epoch 64/200\n",
            "67/67 [==============================] - 12s 185ms/step - loss: 7.6668e-04 - mae: 0.0291\n",
            "Epoch 65/200\n",
            "67/67 [==============================] - 12s 185ms/step - loss: 8.1946e-04 - mae: 0.0307\n",
            "Epoch 66/200\n",
            "67/67 [==============================] - 12s 184ms/step - loss: 8.5780e-04 - mae: 0.0311\n",
            "Epoch 67/200\n",
            "67/67 [==============================] - 12s 184ms/step - loss: 8.5421e-04 - mae: 0.0318\n",
            "Epoch 68/200\n",
            "67/67 [==============================] - 12s 185ms/step - loss: 7.1795e-04 - mae: 0.0287\n",
            "Epoch 69/200\n",
            "67/67 [==============================] - 12s 184ms/step - loss: 7.5149e-04 - mae: 0.0307\n",
            "Epoch 70/200\n",
            "67/67 [==============================] - 12s 184ms/step - loss: 7.9603e-04 - mae: 0.0311\n",
            "Epoch 71/200\n",
            "67/67 [==============================] - 12s 184ms/step - loss: 8.7767e-04 - mae: 0.0309\n",
            "Epoch 72/200\n",
            "67/67 [==============================] - 12s 185ms/step - loss: 8.3975e-04 - mae: 0.0301\n",
            "Epoch 73/200\n",
            "67/67 [==============================] - 12s 185ms/step - loss: 9.1351e-04 - mae: 0.0333\n",
            "Epoch 74/200\n",
            "67/67 [==============================] - 12s 185ms/step - loss: 7.1123e-04 - mae: 0.0285\n",
            "Epoch 75/200\n",
            "67/67 [==============================] - 12s 185ms/step - loss: 7.5285e-04 - mae: 0.0295\n",
            "Epoch 76/200\n",
            "67/67 [==============================] - 12s 185ms/step - loss: 6.0790e-04 - mae: 0.0261\n",
            "Epoch 77/200\n",
            "67/67 [==============================] - 12s 184ms/step - loss: 7.3353e-04 - mae: 0.0272\n",
            "Epoch 78/200\n",
            "67/67 [==============================] - 12s 184ms/step - loss: 7.5273e-04 - mae: 0.0280\n",
            "Epoch 79/200\n",
            "67/67 [==============================] - 12s 184ms/step - loss: 7.5119e-04 - mae: 0.0299\n",
            "Epoch 80/200\n",
            "67/67 [==============================] - 12s 184ms/step - loss: 8.2744e-04 - mae: 0.0316\n",
            "Epoch 81/200\n",
            "67/67 [==============================] - 12s 184ms/step - loss: 0.0016 - mae: 0.0459\n",
            "Epoch 82/200\n",
            "67/67 [==============================] - 12s 184ms/step - loss: 9.7781e-04 - mae: 0.0339\n",
            "Epoch 83/200\n",
            "67/67 [==============================] - 12s 184ms/step - loss: 6.1073e-04 - mae: 0.0261\n",
            "Epoch 84/200\n",
            "67/67 [==============================] - 12s 185ms/step - loss: 5.8714e-04 - mae: 0.0238\n",
            "Epoch 85/200\n",
            "67/67 [==============================] - 12s 184ms/step - loss: 7.4832e-04 - mae: 0.0271\n",
            "Epoch 86/200\n",
            "67/67 [==============================] - 12s 185ms/step - loss: 8.0831e-04 - mae: 0.0306\n",
            "Epoch 87/200\n",
            "67/67 [==============================] - 12s 185ms/step - loss: 7.1865e-04 - mae: 0.0283\n",
            "Epoch 88/200\n",
            "67/67 [==============================] - 12s 185ms/step - loss: 5.8867e-04 - mae: 0.0259\n",
            "Epoch 89/200\n",
            "67/67 [==============================] - 12s 184ms/step - loss: 6.1672e-04 - mae: 0.0265\n",
            "Epoch 90/200\n",
            "67/67 [==============================] - 12s 184ms/step - loss: 9.2907e-04 - mae: 0.0331\n",
            "Epoch 91/200\n",
            "67/67 [==============================] - 12s 184ms/step - loss: 5.6161e-04 - mae: 0.0236\n",
            "Epoch 92/200\n",
            "67/67 [==============================] - 12s 185ms/step - loss: 5.9011e-04 - mae: 0.0243\n",
            "Epoch 93/200\n",
            "67/67 [==============================] - 12s 184ms/step - loss: 5.7959e-04 - mae: 0.0255\n",
            "Epoch 94/200\n",
            "67/67 [==============================] - 12s 184ms/step - loss: 5.2589e-04 - mae: 0.0227\n",
            "Epoch 95/200\n",
            "67/67 [==============================] - 12s 184ms/step - loss: 4.7550e-04 - mae: 0.0222\n",
            "Epoch 96/200\n",
            "67/67 [==============================] - 12s 185ms/step - loss: 4.9692e-04 - mae: 0.0219\n",
            "Epoch 97/200\n",
            "67/67 [==============================] - 12s 184ms/step - loss: 5.8046e-04 - mae: 0.0234\n",
            "Epoch 98/200\n",
            "67/67 [==============================] - 12s 185ms/step - loss: 5.9707e-04 - mae: 0.0235\n",
            "Epoch 99/200\n",
            "67/67 [==============================] - 12s 184ms/step - loss: 5.6561e-04 - mae: 0.0238\n",
            "Epoch 100/200\n",
            "67/67 [==============================] - 12s 184ms/step - loss: 7.0293e-04 - mae: 0.0282\n",
            "Epoch 101/200\n",
            "67/67 [==============================] - 12s 184ms/step - loss: 6.9508e-04 - mae: 0.0287\n",
            "Epoch 102/200\n",
            "67/67 [==============================] - 12s 185ms/step - loss: 5.7212e-04 - mae: 0.0252\n",
            "Epoch 103/200\n",
            "67/67 [==============================] - 12s 184ms/step - loss: 6.0932e-04 - mae: 0.0260\n",
            "Epoch 104/200\n",
            "67/67 [==============================] - 12s 185ms/step - loss: 7.1559e-04 - mae: 0.0287\n",
            "Epoch 105/200\n",
            "67/67 [==============================] - 12s 184ms/step - loss: 6.6609e-04 - mae: 0.0263\n",
            "Epoch 106/200\n",
            "67/67 [==============================] - 12s 184ms/step - loss: 5.8629e-04 - mae: 0.0248\n",
            "Epoch 107/200\n",
            "67/67 [==============================] - 12s 184ms/step - loss: 6.8745e-04 - mae: 0.0271\n",
            "Epoch 108/200\n",
            "67/67 [==============================] - 12s 185ms/step - loss: 5.1631e-04 - mae: 0.0229\n",
            "Epoch 109/200\n",
            "67/67 [==============================] - 12s 185ms/step - loss: 5.7847e-04 - mae: 0.0249\n",
            "Epoch 110/200\n",
            "67/67 [==============================] - 12s 184ms/step - loss: 5.8230e-04 - mae: 0.0254\n",
            "Epoch 111/200\n",
            "67/67 [==============================] - 13s 187ms/step - loss: 5.0750e-04 - mae: 0.0238\n",
            "Epoch 112/200\n",
            "67/67 [==============================] - 12s 185ms/step - loss: 4.8291e-04 - mae: 0.0221\n",
            "Epoch 113/200\n",
            "67/67 [==============================] - 12s 185ms/step - loss: 6.4093e-04 - mae: 0.0242\n",
            "Epoch 114/200\n",
            "67/67 [==============================] - 12s 185ms/step - loss: 0.0012 - mae: 0.0373\n",
            "Epoch 115/200\n",
            "67/67 [==============================] - 13s 186ms/step - loss: 0.0010 - mae: 0.0350\n",
            "Epoch 116/200\n",
            "67/67 [==============================] - 12s 185ms/step - loss: 0.0030 - mae: 0.0515\n",
            "Epoch 117/200\n",
            "67/67 [==============================] - 12s 185ms/step - loss: 0.0014 - mae: 0.0380\n",
            "Epoch 118/200\n",
            "67/67 [==============================] - 12s 185ms/step - loss: 9.3135e-04 - mae: 0.0328\n",
            "Epoch 119/200\n",
            "67/67 [==============================] - 12s 185ms/step - loss: 5.6043e-04 - mae: 0.0244\n",
            "Epoch 120/200\n",
            "67/67 [==============================] - 12s 185ms/step - loss: 6.4320e-04 - mae: 0.0272\n",
            "Epoch 121/200\n",
            "67/67 [==============================] - 12s 186ms/step - loss: 7.1772e-04 - mae: 0.0284\n",
            "Epoch 122/200\n",
            "67/67 [==============================] - 12s 185ms/step - loss: 9.1144e-04 - mae: 0.0317\n",
            "Epoch 123/200\n",
            "67/67 [==============================] - 12s 185ms/step - loss: 5.5262e-04 - mae: 0.0235\n",
            "Epoch 124/200\n",
            "67/67 [==============================] - 12s 185ms/step - loss: 5.3884e-04 - mae: 0.0235\n",
            "Epoch 125/200\n",
            "67/67 [==============================] - 12s 185ms/step - loss: 5.5407e-04 - mae: 0.0246\n",
            "Epoch 126/200\n",
            "67/67 [==============================] - 12s 185ms/step - loss: 5.2792e-04 - mae: 0.0233\n",
            "Epoch 127/200\n",
            "67/67 [==============================] - 12s 185ms/step - loss: 5.9306e-04 - mae: 0.0248\n",
            "Epoch 128/200\n",
            "67/67 [==============================] - 12s 185ms/step - loss: 6.2576e-04 - mae: 0.0258\n",
            "Epoch 129/200\n",
            "67/67 [==============================] - 12s 185ms/step - loss: 5.7025e-04 - mae: 0.0258\n",
            "Epoch 130/200\n",
            "67/67 [==============================] - 12s 185ms/step - loss: 5.3380e-04 - mae: 0.0241\n",
            "Epoch 131/200\n",
            "67/67 [==============================] - 12s 186ms/step - loss: 6.1030e-04 - mae: 0.0261\n",
            "Epoch 132/200\n",
            "67/67 [==============================] - 12s 185ms/step - loss: 4.4012e-04 - mae: 0.0206\n",
            "Epoch 133/200\n",
            "67/67 [==============================] - 12s 186ms/step - loss: 4.6989e-04 - mae: 0.0216\n",
            "Epoch 134/200\n",
            "67/67 [==============================] - 12s 186ms/step - loss: 4.7524e-04 - mae: 0.0227\n",
            "Epoch 135/200\n",
            "67/67 [==============================] - 13s 187ms/step - loss: 4.8280e-04 - mae: 0.0214\n",
            "Epoch 136/200\n",
            "67/67 [==============================] - 12s 185ms/step - loss: 4.8596e-04 - mae: 0.0214\n",
            "Epoch 137/200\n",
            "67/67 [==============================] - 12s 185ms/step - loss: 4.8289e-04 - mae: 0.0221\n",
            "Epoch 138/200\n",
            "67/67 [==============================] - 12s 185ms/step - loss: 5.5016e-04 - mae: 0.0242\n",
            "Epoch 139/200\n",
            "67/67 [==============================] - 12s 185ms/step - loss: 5.5518e-04 - mae: 0.0250\n",
            "Epoch 140/200\n",
            "67/67 [==============================] - 12s 185ms/step - loss: 9.9347e-04 - mae: 0.0337\n",
            "Epoch 141/200\n",
            "67/67 [==============================] - 12s 186ms/step - loss: 5.6306e-04 - mae: 0.0248\n",
            "Epoch 142/200\n",
            "67/67 [==============================] - 12s 185ms/step - loss: 5.8170e-04 - mae: 0.0259\n",
            "Epoch 143/200\n",
            "67/67 [==============================] - 12s 185ms/step - loss: 4.7972e-04 - mae: 0.0224\n",
            "Epoch 144/200\n",
            "67/67 [==============================] - 12s 185ms/step - loss: 5.2506e-04 - mae: 0.0221\n",
            "Epoch 145/200\n",
            "67/67 [==============================] - 12s 185ms/step - loss: 5.0353e-04 - mae: 0.0231\n",
            "Epoch 146/200\n",
            "67/67 [==============================] - 12s 185ms/step - loss: 6.1304e-04 - mae: 0.0265\n",
            "Epoch 147/200\n",
            "67/67 [==============================] - 12s 185ms/step - loss: 6.0650e-04 - mae: 0.0258\n",
            "Epoch 148/200\n",
            "67/67 [==============================] - 12s 185ms/step - loss: 7.6625e-04 - mae: 0.0301\n",
            "Epoch 149/200\n",
            "67/67 [==============================] - 12s 185ms/step - loss: 8.0261e-04 - mae: 0.0297\n",
            "Epoch 150/200\n",
            "67/67 [==============================] - 12s 185ms/step - loss: 5.1698e-04 - mae: 0.0222\n",
            "Epoch 151/200\n",
            "67/67 [==============================] - 12s 185ms/step - loss: 4.4649e-04 - mae: 0.0223\n",
            "Epoch 152/200\n",
            "67/67 [==============================] - 12s 185ms/step - loss: 5.2506e-04 - mae: 0.0244\n",
            "Epoch 153/200\n",
            "67/67 [==============================] - 12s 185ms/step - loss: 5.2591e-04 - mae: 0.0236\n",
            "Epoch 154/200\n",
            "67/67 [==============================] - 12s 185ms/step - loss: 5.3841e-04 - mae: 0.0257\n",
            "Epoch 155/200\n",
            "67/67 [==============================] - 12s 185ms/step - loss: 4.0563e-04 - mae: 0.0211\n",
            "Epoch 156/200\n",
            "67/67 [==============================] - 12s 185ms/step - loss: 4.7255e-04 - mae: 0.0228\n",
            "Epoch 157/200\n",
            "67/67 [==============================] - 12s 185ms/step - loss: 6.1815e-04 - mae: 0.0265\n",
            "Epoch 158/200\n",
            "67/67 [==============================] - 12s 185ms/step - loss: 4.4359e-04 - mae: 0.0221\n",
            "Epoch 159/200\n",
            "67/67 [==============================] - 13s 186ms/step - loss: 5.0212e-04 - mae: 0.0237\n",
            "Epoch 160/200\n",
            "67/67 [==============================] - 13s 186ms/step - loss: 4.9430e-04 - mae: 0.0246\n",
            "Epoch 161/200\n",
            "67/67 [==============================] - 12s 186ms/step - loss: 4.4171e-04 - mae: 0.0216\n",
            "Epoch 162/200\n",
            "67/67 [==============================] - 12s 186ms/step - loss: 4.2213e-04 - mae: 0.0214\n",
            "Epoch 163/200\n",
            "67/67 [==============================] - 12s 185ms/step - loss: 3.5933e-04 - mae: 0.0191\n",
            "Epoch 164/200\n",
            "67/67 [==============================] - 12s 185ms/step - loss: 3.6789e-04 - mae: 0.0193\n",
            "Epoch 165/200\n",
            "67/67 [==============================] - 12s 185ms/step - loss: 3.8728e-04 - mae: 0.0198\n",
            "Epoch 166/200\n",
            "67/67 [==============================] - 12s 185ms/step - loss: 3.7041e-04 - mae: 0.0201\n",
            "Epoch 167/200\n",
            "67/67 [==============================] - 12s 185ms/step - loss: 5.1715e-04 - mae: 0.0221\n",
            "Epoch 168/200\n",
            "67/67 [==============================] - 12s 185ms/step - loss: 4.5935e-04 - mae: 0.0225\n",
            "Epoch 169/200\n",
            "67/67 [==============================] - 12s 184ms/step - loss: 3.7804e-04 - mae: 0.0202\n",
            "Epoch 170/200\n",
            "67/67 [==============================] - 12s 185ms/step - loss: 5.6812e-04 - mae: 0.0262\n",
            "Epoch 171/200\n",
            "67/67 [==============================] - 12s 184ms/step - loss: 8.6089e-04 - mae: 0.0314\n",
            "Epoch 172/200\n",
            "67/67 [==============================] - 12s 185ms/step - loss: 4.8475e-04 - mae: 0.0235\n",
            "Epoch 173/200\n",
            "67/67 [==============================] - 12s 185ms/step - loss: 4.2209e-04 - mae: 0.0205\n",
            "Epoch 174/200\n",
            "67/67 [==============================] - 12s 185ms/step - loss: 5.4161e-04 - mae: 0.0251\n",
            "Epoch 175/200\n",
            "67/67 [==============================] - 12s 185ms/step - loss: 6.4589e-04 - mae: 0.0261\n",
            "Epoch 176/200\n",
            "67/67 [==============================] - 12s 185ms/step - loss: 8.1482e-04 - mae: 0.0316\n",
            "Epoch 177/200\n",
            "67/67 [==============================] - 12s 185ms/step - loss: 8.6094e-04 - mae: 0.0301\n",
            "Epoch 178/200\n",
            "67/67 [==============================] - 12s 185ms/step - loss: 5.0209e-04 - mae: 0.0238\n",
            "Epoch 179/200\n",
            "67/67 [==============================] - 12s 185ms/step - loss: 3.9856e-04 - mae: 0.0196\n",
            "Epoch 180/200\n",
            "67/67 [==============================] - 12s 185ms/step - loss: 3.9710e-04 - mae: 0.0197\n",
            "Epoch 181/200\n",
            "67/67 [==============================] - 12s 185ms/step - loss: 3.4289e-04 - mae: 0.0189\n",
            "Epoch 182/200\n",
            "67/67 [==============================] - 12s 184ms/step - loss: 4.1821e-04 - mae: 0.0210\n",
            "Epoch 183/200\n",
            "67/67 [==============================] - 13s 186ms/step - loss: 5.3185e-04 - mae: 0.0251\n",
            "Epoch 184/200\n",
            "67/67 [==============================] - 12s 185ms/step - loss: 5.1587e-04 - mae: 0.0240\n",
            "Epoch 185/200\n",
            "67/67 [==============================] - 12s 185ms/step - loss: 7.2649e-04 - mae: 0.0301\n",
            "Epoch 186/200\n",
            "67/67 [==============================] - 12s 184ms/step - loss: 5.7683e-04 - mae: 0.0257\n",
            "Epoch 187/200\n",
            "67/67 [==============================] - 12s 185ms/step - loss: 4.1308e-04 - mae: 0.0203\n",
            "Epoch 188/200\n",
            "67/67 [==============================] - 12s 185ms/step - loss: 3.5283e-04 - mae: 0.0196\n",
            "Epoch 189/200\n",
            "67/67 [==============================] - 12s 185ms/step - loss: 3.6088e-04 - mae: 0.0194\n",
            "Epoch 190/200\n",
            "67/67 [==============================] - 12s 185ms/step - loss: 3.7378e-04 - mae: 0.0193\n",
            "Epoch 191/200\n",
            "67/67 [==============================] - 12s 185ms/step - loss: 3.4752e-04 - mae: 0.0186\n",
            "Epoch 192/200\n",
            "67/67 [==============================] - 12s 185ms/step - loss: 3.5173e-04 - mae: 0.0194\n",
            "Epoch 193/200\n",
            "67/67 [==============================] - 12s 185ms/step - loss: 4.1893e-04 - mae: 0.0211\n",
            "Epoch 194/200\n",
            "67/67 [==============================] - 12s 185ms/step - loss: 6.9403e-04 - mae: 0.0295\n",
            "Epoch 195/200\n",
            "67/67 [==============================] - 12s 184ms/step - loss: 4.7104e-04 - mae: 0.0224\n",
            "Epoch 196/200\n",
            "67/67 [==============================] - 12s 185ms/step - loss: 3.9802e-04 - mae: 0.0197\n",
            "Epoch 197/200\n",
            "67/67 [==============================] - 12s 186ms/step - loss: 4.4573e-04 - mae: 0.0213\n",
            "Epoch 198/200\n",
            "67/67 [==============================] - 12s 185ms/step - loss: 4.0385e-04 - mae: 0.0209\n",
            "Epoch 199/200\n",
            "67/67 [==============================] - 12s 185ms/step - loss: 3.6224e-04 - mae: 0.0199\n",
            "Epoch 200/200\n",
            "67/67 [==============================] - 12s 185ms/step - loss: 5.4101e-04 - mae: 0.0259\n"
          ]
        },
        {
          "output_type": "execute_result",
          "data": {
            "text/plain": [
              "<keras.callbacks.History at 0x7f1d859ff910>"
            ]
          },
          "metadata": {},
          "execution_count": 32
        }
      ]
    },
    {
      "cell_type": "code",
      "source": [
        "print(capsnet_lstm.summary())"
      ],
      "metadata": {
        "id": "bRU73bByvkyi",
        "colab": {
          "base_uri": "https://localhost:8080/"
        },
        "outputId": "d21b5e3f-bd12-4232-dde7-da39bedd8f92"
      },
      "execution_count": 34,
      "outputs": [
        {
          "output_type": "stream",
          "name": "stdout",
          "text": [
            "Model: \"capsnet_lstm\"\n",
            "_________________________________________________________________\n",
            " Layer (type)                Output Shape              Param #   \n",
            "=================================================================\n",
            " input_2 (InputLayer)        [(None, 250, 1)]          0         \n",
            "                                                                 \n",
            " conv1d_1 (Conv1D)           (None, 250, 256)          768       \n",
            "                                                                 \n",
            " conv1d_2 (Conv1D)           (None, 250, 512)          262656    \n",
            "                                                                 \n",
            " reshape_1 (Reshape)         (None, 250, 64, 8)        0         \n",
            "                                                                 \n",
            " lambda_1 (Lambda)           (None, 250, 64, 8)        0         \n",
            "                                                                 \n",
            " time_distributed_1 (TimeDis  (None, 250, 768)         393216    \n",
            " tributed)                                                       \n",
            "                                                                 \n",
            " lstm_1 (LSTM)               (None, 200)               775200    \n",
            "                                                                 \n",
            " dropout_1 (Dropout)         (None, 200)               0         \n",
            "                                                                 \n",
            " dense_3 (Dense)             (None, 20)                4020      \n",
            "                                                                 \n",
            " dense_4 (Dense)             (None, 15)                315       \n",
            "                                                                 \n",
            " dense_5 (Dense)             (None, 1)                 16        \n",
            "                                                                 \n",
            "=================================================================\n",
            "Total params: 1,436,191\n",
            "Trainable params: 1,436,191\n",
            "Non-trainable params: 0\n",
            "_________________________________________________________________\n",
            "None\n"
          ]
        }
      ]
    },
    {
      "cell_type": "markdown",
      "metadata": {
        "id": "69lcH5cAEnki"
      },
      "source": [
        "## Evaluating the forecast\n",
        "\n",
        "Now it is time to evaluate the performance of the forecast. For this we use the `compute_metrics` function:"
      ]
    },
    {
      "cell_type": "markdown",
      "metadata": {
        "id": "r7V0kTKHEnki"
      },
      "source": [
        "At this point only the model that will perform the forecast is ready but we still need to compute the actual forecast.\n",
        "\n"
      ]
    },
    {
      "cell_type": "markdown",
      "metadata": {
        "id": "rJtDyAD9Enkj"
      },
      "source": [
        "### Faster model forecasts\n",
        "\n",
        "\n",
        "- The dataset is windowed using `window_size` rather than `window_size + 1`\n",
        "- No shuffle should be used\n",
        "- No need to split the data into features and labels\n",
        "- A model is used to predict batches of the dataset"
      ]
    },
    {
      "cell_type": "markdown",
      "metadata": {
        "id": "kIyFlTEwEnkj"
      },
      "source": [
        "Now compute the actual forecast:"
      ]
    },
    {
      "cell_type": "code",
      "execution_count": 77,
      "metadata": {
        "id": "yEiYgYaA28PR"
      },
      "outputs": [],
      "source": [
        "# Compute the forecast for all the series\n",
        "capsnet_lstm_forecast = model_forecast(capsnet_lstm, series_norm, G.WINDOW_SIZE).squeeze()\n",
        "\n",
        "# Slice the forecast to get only the predictions for the validation set\n",
        "series_test_hat_capsnet_lstm = capsnet_lstm_forecast[-150:]\n",
        "\n",
        "# Reverse normalization\n",
        "series_test_hat_capsnet_lstm = reverse_normalization(series_test_hat_capsnet_lstm)"
      ]
    },
    {
      "cell_type": "code",
      "source": [
        "# Plot the forecast\n",
        "\n",
        "plt.figure(figsize=(10, 6))\n",
        "plot_series(np.arange( 1, len(time_test)+1 ), series_test)\n",
        "plot_series(np.arange( 1, len(time_test)+1 ), series_test_hat_capsnet_lstm)\n",
        "plt.ylabel(\"Index Value\")\n",
        "plt.xlabel(\"Time Step\")\n",
        "legend_drawn_flag = True\n",
        "plt.legend([\"Original Value (DJIA)\", \"Predicted Value (DJIA)\"], loc=0, frameon=legend_drawn_flag)\n",
        "plt.savefig(\"/content/gdrive/MyDrive/Forecasting_results/capsnet_lstm_forecasts.svg\")"
      ],
      "metadata": {
        "colab": {
          "base_uri": "https://localhost:8080/",
          "height": 388
        },
        "id": "SmSKga7VAAKf",
        "outputId": "92054d30-6f82-49d3-f60b-8f5fa4dcc030"
      },
      "execution_count": 94,
      "outputs": [
        {
          "output_type": "display_data",
          "data": {
            "text/plain": [
              "<Figure size 720x432 with 1 Axes>"
            ],
            "image/png": "[encoded data removed]"
          },
          "metadata": {
            "needs_background": "light"
          }
        }
      ]
    },
    {
      "cell_type": "code",
      "execution_count": 114,
      "metadata": {
        "id": "OmelEr6a3I70",
        "colab": {
          "base_uri": "https://localhost:8080/"
        },
        "outputId": "c2d40b0f-f18c-4806-e339-79ed99f1122d"
      },
      "outputs": [
        {
          "output_type": "stream",
          "name": "stdout",
          "text": [
            "mse: 48.39, mae: 38.48 , mape: 0.14 for forecast\n"
          ]
        }
      ],
      "source": [
        "rmse_capsnet_lstm, mae_capsnet_lstm, mape_capsnet_lstm= compute_metrics(series_test, series_test_hat_capsnet_lstm)\n",
        "\n",
        "print(f\"mse: {rmse_capsnet_lstm:.2f}, mae: {mae_capsnet_lstm:.2f} , mape: {mape_capsnet_lstm:.2f} for forecast\")"
      ]
    },
    {
      "cell_type": "code",
      "source": [
        "# Save model\n",
        "\n",
        "capsnet_lstm.save('/content/gdrive/MyDrive/Saved_models/capsnet_lstm.h5')"
      ],
      "metadata": {
        "id": "31KC2l1EEpTk"
      },
      "execution_count": 156,
      "outputs": []
    },
    {
      "cell_type": "markdown",
      "source": [
        "### Load the saved model\n",
        "Direct loading the saved model encounters issues. On this occasion, we first rebuild the proposed model using the optimal hyper-parameters, then load the saved weights to this model."
      ],
      "metadata": {
        "id": "J3Lje6VBQbDU"
      }
    },
    {
      "cell_type": "code",
      "source": [
        "# Load saved model\n",
        "\n",
        "def CapsNet_LSTM():\n",
        "   \n",
        "    input = tf.keras.layers.Input(shape=input_shape)\n",
        "      \n",
        "    # First layer\n",
        "    conv1d_1 = tf.keras.layers.Conv1D(filters=256, kernel_size=2, strides=1, padding='causal', activation='relu', name = 'conv1d_1')(input)\n",
        "          \n",
        "    # Primary caps\n",
        "    conv1d_2 = tf.keras.layers.Conv1D(filters=512, kernel_size=2, strides=1, padding='causal',name = 'conv1d_2')(conv1d_1)\n",
        "\n",
        "    unsquashed_caps = tf.keras.layers.Reshape((G.WINDOW_SIZE, 64, 8))(conv1d_2)\n",
        "    squashed_caps = tf.keras.layers.Lambda(squash)(unsquashed_caps)\n",
        "\n",
        "    # Digit caps\n",
        "     \n",
        "    digit_caps = tf.keras.layers.TimeDistributed(Routing(dim_capsule = 768, routings = 3))(squashed_caps)\n",
        "\n",
        "    # LSTM layer\n",
        "    lstm = tf.keras.layers.LSTM(200)(digit_caps)\n",
        "\n",
        "    # Dropout  \n",
        "    dropout = tf.keras.layers.Dropout(0.30000000000000004)(lstm)\n",
        "\n",
        "    # Dense layer\n",
        "    dense1 = tf.keras.layers.Dense(20, activation=\"relu\")(dropout)\n",
        "    dense2 = tf.keras.layers.Dense(15, activation=\"relu\")(dense1)\n",
        "    output = tf.keras.layers.Dense(1)(dense2)\n",
        "\n",
        "    model = keras.Model(inputs=input, outputs=output, name=\"capsnet_lstm\")\n",
        "\n",
        "    learning_rate = 0.00036151371126048177\n",
        "    model.compile(\n",
        "        optimizer=tf.keras.optimizers.Adam(learning_rate = learning_rate),\n",
        "        loss=tf.keras.losses.Huber(),\n",
        "        metrics=[\"mae\"])\n",
        "\n",
        "    return model\n"
      ],
      "metadata": {
        "id": "F11Kle8H2Y17"
      },
      "execution_count": 42,
      "outputs": []
    },
    {
      "cell_type": "code",
      "source": [
        "saved_capsnet_lstm = CapsNet_LSTM()"
      ],
      "metadata": {
        "id": "TWg3IGUZR3SY"
      },
      "execution_count": 43,
      "outputs": []
    },
    {
      "cell_type": "code",
      "source": [
        "print(saved_capsnet_lstm.summary())"
      ],
      "metadata": {
        "colab": {
          "base_uri": "https://localhost:8080/"
        },
        "id": "AEcAj7eDZdoW",
        "outputId": "363029a8-0f6c-4809-a1f4-50fde841ca4e"
      },
      "execution_count": 44,
      "outputs": [
        {
          "output_type": "stream",
          "name": "stdout",
          "text": [
            "Model: \"capsnet_lstm\"\n",
            "_________________________________________________________________\n",
            " Layer (type)                Output Shape              Param #   \n",
            "=================================================================\n",
            " input_2 (InputLayer)        [(None, 250, 1)]          0         \n",
            "                                                                 \n",
            " conv1d_1 (Conv1D)           (None, 250, 256)          768       \n",
            "                                                                 \n",
            " conv1d_2 (Conv1D)           (None, 250, 512)          262656    \n",
            "                                                                 \n",
            " reshape_1 (Reshape)         (None, 250, 64, 8)        0         \n",
            "                                                                 \n",
            " lambda_1 (Lambda)           (None, 250, 64, 8)        0         \n",
            "                                                                 \n",
            " time_distributed_1 (TimeDis  (None, 250, 768)         393216    \n",
            " tributed)                                                       \n",
            "                                                                 \n",
            " lstm_1 (LSTM)               (None, 200)               775200    \n",
            "                                                                 \n",
            " dropout_1 (Dropout)         (None, 200)               0         \n",
            "                                                                 \n",
            " dense_3 (Dense)             (None, 20)                4020      \n",
            "                                                                 \n",
            " dense_4 (Dense)             (None, 15)                315       \n",
            "                                                                 \n",
            " dense_5 (Dense)             (None, 1)                 16        \n",
            "                                                                 \n",
            "=================================================================\n",
            "Total params: 1,436,191\n",
            "Trainable params: 1,436,191\n",
            "Non-trainable params: 0\n",
            "_________________________________________________________________\n",
            "None\n"
          ]
        }
      ]
    },
    {
      "cell_type": "code",
      "source": [
        "# Load the saved weights\n",
        "saved_capsnet_lstm.load_weights('/content/gdrive/MyDrive/Saved_models/Capsnet_lstm_json/capsnet_lstm_weights.h5')\n"
      ],
      "metadata": {
        "id": "5lpruFCDSBoq"
      },
      "execution_count": 45,
      "outputs": []
    },
    {
      "cell_type": "code",
      "source": [
        "# Compute the forecast for all the series\n",
        "saved_capsnet_lstm_forecast = model_forecast(saved_capsnet_lstm, series_norm, G.WINDOW_SIZE).squeeze()\n",
        "\n",
        "# Slice the forecast to get only the predictions for the validation set\n",
        "series_test_hat_saved_capsnet_lstm = saved_capsnet_lstm_forecast[-150:]\n",
        "series_test_hat_saved_capsnet_lstm = reverse_normalization(series_test_hat_saved_capsnet_lstm)"
      ],
      "metadata": {
        "id": "Et87GoahZgr0"
      },
      "execution_count": 46,
      "outputs": []
    },
    {
      "cell_type": "code",
      "source": [
        "# Plot the forecast\n",
        "\n",
        "plt.figure(figsize=(10, 6))\n",
        "plot_series(np.arange( 1, len(time_test)+1 ), series_test)\n",
        "plot_series(np.arange( 1, len(time_test)+1 ), series_test_hat_saved_capsnet_lstm)\n",
        "plt.ylabel(\"Index Value\")\n",
        "plt.xlabel(\"Time Step\")\n",
        "legend_drawn_flag = True\n",
        "plt.legend([\"Original Value (DJIA)\", \"Predicted Value (DJIA)\"], loc=0, frameon=legend_drawn_flag)\n",
        "plt.savefig(\"/content/gdrive/MyDrive/Forecasting_results/saved_capsnet_lstm_forecasts.svg\")"
      ],
      "metadata": {
        "colab": {
          "base_uri": "https://localhost:8080/",
          "height": 388
        },
        "id": "DOCvrIDTZj0t",
        "outputId": "5274961c-8a95-409b-91e5-a080b2bc00f1"
      },
      "execution_count": 47,
      "outputs": [
        {
          "output_type": "display_data",
          "data": {
            "text/plain": [
              "<Figure size 720x432 with 1 Axes>"
            ],
            "image/png": "[encoded data removed]"
          },
          "metadata": {
            "needs_background": "light"
          }
        }
      ]
    },
    {
      "cell_type": "code",
      "source": [
        "rmse_saved_capsnet_lstm, mae_saved_capsnet_lstm, mape_saved_capsnet_lstm= compute_metrics(series_test, series_test_hat_saved_capsnet_lstm)\n",
        "\n",
        "print(f\"mse: {rmse_saved_capsnet_lstm:.2f}, mae: {mae_saved_capsnet_lstm:.2f} , mape: {mape_saved_capsnet_lstm:.2f} for forecast\")"
      ],
      "metadata": {
        "colab": {
          "base_uri": "https://localhost:8080/"
        },
        "id": "Qg_xuBMZaGaN",
        "outputId": "4d17bb43-f6ba-4632-ce28-a190fa3f1a2b"
      },
      "execution_count": 48,
      "outputs": [
        {
          "output_type": "stream",
          "name": "stdout",
          "text": [
            "mse: 40.34, mae: 31.51 , mape: 0.12 for forecast\n"
          ]
        }
      ]
    },
    {
      "cell_type": "markdown",
      "source": [
        "## Baseline (LSTM, CNN-LSTM)"
      ],
      "metadata": {
        "id": "og2vNXLVgOeC"
      }
    },
    {
      "cell_type": "markdown",
      "source": [
        "### LSTM"
      ],
      "metadata": {
        "id": "DTXrC28w_ZGT"
      }
    },
    {
      "cell_type": "code",
      "execution_count": 38,
      "metadata": {
        "id": "Sc6pU_kiEnkg"
      },
      "outputs": [],
      "source": [
        "def build_LSTM(hp):\n",
        "   \n",
        "    model = tf.keras.models.Sequential([\n",
        "          tf.keras.layers.LSTM(hp.Int('lstm_units', 100, 300, 50), input_shape=[G.WINDOW_SIZE, 1]),\n",
        "          tf.keras.layers.Dense(hp.Int('dense1_units', 20, 50, 10), activation=\"relu\"),\n",
        "          tf.keras.layers.Dense(hp.Int('dense2_units', 5, 20, 5), activation=\"relu\"),\n",
        "          tf.keras.layers.Dense(1)\n",
        "    ])\n",
        "    learning_rate = hp.Float(\"lr\", min_value=1e-4, max_value=1e-2, sampling=\"log\")\n",
        "    model.compile(\n",
        "        optimizer=tf.keras.optimizers.Adam(learning_rate=learning_rate),\n",
        "        loss=tf.keras.losses.Huber(),\n",
        "        metrics=[\"mae\"])\n",
        "\n",
        "    return model"
      ]
    },
    {
      "cell_type": "code",
      "source": [
        "build_LSTM(keras_tuner.HyperParameters())\n",
        "\n",
        "tuner_lstm = keras_tuner.Hyperband(\n",
        "    hypermodel=build_LSTM,\n",
        "    objective=\"val_mae\",\n",
        "    max_epochs=50,\n",
        "    factor=3,\n",
        "    hyperband_iterations=1,\n",
        "    distribution_strategy=strategy,\n",
        "    seed = 1,\n",
        "    directory='/content/gdrive/MyDrive/Tuner',\n",
        "    project_name=\"lstm_noshuffle\",\n",
        "    overwrite=False)\n",
        "\n",
        "tuner_lstm.search(train_set, epochs=50, validation_data=val_set,callbacks=[stop_early])\n",
        "\n",
        "tuner_lstm.results_summary()\n",
        "\n",
        "# Get the top 5 hyperparameters.\n",
        "best_hps_lstm = tuner_lstm.get_best_hyperparameters(5)\n",
        "\n"
      ],
      "metadata": {
        "id": "JQ5JlaaZ8dD_",
        "colab": {
          "base_uri": "https://localhost:8080/"
        },
        "outputId": "b243ceba-6f1d-4e8f-f018-ec1b517b7144"
      },
      "execution_count": 39,
      "outputs": [
        {
          "output_type": "stream",
          "name": "stdout",
          "text": [
            "Trial 90 Complete [00h 00m 29s]\n",
            "val_mae: 0.1030595675110817\n",
            "\n",
            "Best val_mae So Far: 0.023295018821954727\n",
            "Total elapsed time: 00h 41m 14s\n",
            "Results summary\n",
            "Results in /content/gdrive/MyDrive/Tuner/lstm_noshuffle\n",
            "Showing 10 best trials\n",
            "<keras_tuner.engine.objective.Objective object at 0x7f1d85950ed0>\n",
            "Trial summary\n",
            "Hyperparameters:\n",
            "lstm_units: 200\n",
            "dense1_units: 30\n",
            "dense2_units: 15\n",
            "lr: 0.0006201914963139159\n",
            "tuner/epochs: 17\n",
            "tuner/initial_epoch: 0\n",
            "tuner/bracket: 1\n",
            "tuner/round: 0\n",
            "Score: 0.023295018821954727\n",
            "Trial summary\n",
            "Hyperparameters:\n",
            "lstm_units: 200\n",
            "dense1_units: 20\n",
            "dense2_units: 15\n",
            "lr: 0.00036151371126048177\n",
            "tuner/epochs: 17\n",
            "tuner/initial_epoch: 0\n",
            "tuner/bracket: 1\n",
            "tuner/round: 0\n",
            "Score: 0.02489211969077587\n",
            "Trial summary\n",
            "Hyperparameters:\n",
            "lstm_units: 200\n",
            "dense1_units: 30\n",
            "dense2_units: 15\n",
            "lr: 0.0006201914963139159\n",
            "tuner/epochs: 50\n",
            "tuner/initial_epoch: 17\n",
            "tuner/bracket: 1\n",
            "tuner/round: 1\n",
            "tuner/trial_id: 0077\n",
            "Score: 0.02494310587644577\n",
            "Trial summary\n",
            "Hyperparameters:\n",
            "lstm_units: 300\n",
            "dense1_units: 40\n",
            "dense2_units: 10\n",
            "lr: 0.000182406562825328\n",
            "tuner/epochs: 17\n",
            "tuner/initial_epoch: 6\n",
            "tuner/bracket: 3\n",
            "tuner/round: 2\n",
            "tuner/trial_id: 0035\n",
            "Score: 0.025634463876485825\n",
            "Trial summary\n",
            "Hyperparameters:\n",
            "lstm_units: 200\n",
            "dense1_units: 40\n",
            "dense2_units: 20\n",
            "lr: 0.0003647863570162414\n",
            "tuner/epochs: 50\n",
            "tuner/initial_epoch: 0\n",
            "tuner/bracket: 0\n",
            "tuner/round: 0\n",
            "Score: 0.026299171149730682\n",
            "Trial summary\n",
            "Hyperparameters:\n",
            "lstm_units: 200\n",
            "dense1_units: 20\n",
            "dense2_units: 15\n",
            "lr: 0.00015512071610085412\n",
            "tuner/epochs: 6\n",
            "tuner/initial_epoch: 0\n",
            "tuner/bracket: 2\n",
            "tuner/round: 0\n",
            "Score: 0.02720123529434204\n",
            "Trial summary\n",
            "Hyperparameters:\n",
            "lstm_units: 200\n",
            "dense1_units: 40\n",
            "dense2_units: 10\n",
            "lr: 0.00017582232810420384\n",
            "tuner/epochs: 6\n",
            "tuner/initial_epoch: 0\n",
            "tuner/bracket: 2\n",
            "tuner/round: 0\n",
            "Score: 0.02839774265885353\n",
            "Trial summary\n",
            "Hyperparameters:\n",
            "lstm_units: 200\n",
            "dense1_units: 30\n",
            "dense2_units: 5\n",
            "lr: 0.0003563164068303565\n",
            "tuner/epochs: 50\n",
            "tuner/initial_epoch: 17\n",
            "tuner/bracket: 2\n",
            "tuner/round: 2\n",
            "tuner/trial_id: 0070\n",
            "Score: 0.02896108292043209\n",
            "Trial summary\n",
            "Hyperparameters:\n",
            "lstm_units: 150\n",
            "dense1_units: 40\n",
            "dense2_units: 10\n",
            "lr: 0.00011465640987948183\n",
            "tuner/epochs: 6\n",
            "tuner/initial_epoch: 0\n",
            "tuner/bracket: 2\n",
            "tuner/round: 0\n",
            "Score: 0.029211783781647682\n",
            "Trial summary\n",
            "Hyperparameters:\n",
            "lstm_units: 200\n",
            "dense1_units: 30\n",
            "dense2_units: 5\n",
            "lr: 0.0003563164068303565\n",
            "tuner/epochs: 6\n",
            "tuner/initial_epoch: 0\n",
            "tuner/bracket: 2\n",
            "tuner/round: 0\n",
            "Score: 0.029258038848638535\n"
          ]
        }
      ]
    },
    {
      "cell_type": "code",
      "source": [
        "# Build the model with the best hp.\n",
        "with strategy.scope():\n",
        "  lstm = build_LSTM(best_hps_lstm[0])\n",
        "# Fit with the entire dataset.\n",
        "lstm.fit(train_val_set, epochs=200)"
      ],
      "metadata": {
        "id": "VveQt5UllpUD",
        "colab": {
          "base_uri": "https://localhost:8080/"
        },
        "outputId": "26e4face-5078-4981-aa82-96ba03a21d52"
      },
      "execution_count": 41,
      "outputs": [
        {
          "output_type": "stream",
          "name": "stdout",
          "text": [
            "Epoch 1/200\n",
            "67/67 [==============================] - 8s 49ms/step - loss: 0.0024 - mae: 0.0489\n",
            "Epoch 2/200\n",
            "67/67 [==============================] - 2s 30ms/step - loss: 0.0026 - mae: 0.0577\n",
            "Epoch 3/200\n",
            "67/67 [==============================] - 2s 30ms/step - loss: 0.0016 - mae: 0.0434\n",
            "Epoch 4/200\n",
            "67/67 [==============================] - 2s 29ms/step - loss: 0.0014 - mae: 0.0407\n",
            "Epoch 5/200\n",
            "67/67 [==============================] - 2s 30ms/step - loss: 0.0011 - mae: 0.0358\n",
            "Epoch 6/200\n",
            "67/67 [==============================] - 2s 30ms/step - loss: 8.0170e-04 - mae: 0.0310\n",
            "Epoch 7/200\n",
            "67/67 [==============================] - 2s 30ms/step - loss: 5.7321e-04 - mae: 0.0263\n",
            "Epoch 8/200\n",
            "67/67 [==============================] - 2s 29ms/step - loss: 4.0676e-04 - mae: 0.0219\n",
            "Epoch 9/200\n",
            "67/67 [==============================] - 2s 29ms/step - loss: 3.0020e-04 - mae: 0.0183\n",
            "Epoch 10/200\n",
            "67/67 [==============================] - 2s 30ms/step - loss: 2.5122e-04 - mae: 0.0161\n",
            "Epoch 11/200\n",
            "67/67 [==============================] - 2s 30ms/step - loss: 2.4030e-04 - mae: 0.0154\n",
            "Epoch 12/200\n",
            "67/67 [==============================] - 2s 30ms/step - loss: 2.3401e-04 - mae: 0.0151\n",
            "Epoch 13/200\n",
            "67/67 [==============================] - 2s 30ms/step - loss: 2.2691e-04 - mae: 0.0149\n",
            "Epoch 14/200\n",
            "67/67 [==============================] - 2s 30ms/step - loss: 2.2997e-04 - mae: 0.0149\n",
            "Epoch 15/200\n",
            "67/67 [==============================] - 2s 30ms/step - loss: 2.2215e-04 - mae: 0.0147\n",
            "Epoch 16/200\n",
            "67/67 [==============================] - 2s 30ms/step - loss: 2.1519e-04 - mae: 0.0144\n",
            "Epoch 17/200\n",
            "67/67 [==============================] - 2s 30ms/step - loss: 2.0717e-04 - mae: 0.0142\n",
            "Epoch 18/200\n",
            "67/67 [==============================] - 2s 30ms/step - loss: 2.0858e-04 - mae: 0.0141\n",
            "Epoch 19/200\n",
            "67/67 [==============================] - 2s 30ms/step - loss: 2.0597e-04 - mae: 0.0141\n",
            "Epoch 20/200\n",
            "67/67 [==============================] - 2s 30ms/step - loss: 1.9879e-04 - mae: 0.0139\n",
            "Epoch 21/200\n",
            "67/67 [==============================] - 2s 30ms/step - loss: 1.9977e-04 - mae: 0.0139\n",
            "Epoch 22/200\n",
            "67/67 [==============================] - 2s 29ms/step - loss: 1.8826e-04 - mae: 0.0136\n",
            "Epoch 23/200\n",
            "67/67 [==============================] - 2s 30ms/step - loss: 1.8590e-04 - mae: 0.0135\n",
            "Epoch 24/200\n",
            "67/67 [==============================] - 2s 30ms/step - loss: 1.8882e-04 - mae: 0.0136\n",
            "Epoch 25/200\n",
            "67/67 [==============================] - 2s 30ms/step - loss: 1.8558e-04 - mae: 0.0136\n",
            "Epoch 26/200\n",
            "67/67 [==============================] - 2s 30ms/step - loss: 1.8493e-04 - mae: 0.0136\n",
            "Epoch 27/200\n",
            "67/67 [==============================] - 2s 30ms/step - loss: 1.8696e-04 - mae: 0.0137\n",
            "Epoch 28/200\n",
            "67/67 [==============================] - 2s 30ms/step - loss: 1.8523e-04 - mae: 0.0137\n",
            "Epoch 29/200\n",
            "67/67 [==============================] - 2s 30ms/step - loss: 1.7841e-04 - mae: 0.0134\n",
            "Epoch 30/200\n",
            "67/67 [==============================] - 2s 31ms/step - loss: 1.8203e-04 - mae: 0.0135\n",
            "Epoch 31/200\n",
            "67/67 [==============================] - 2s 31ms/step - loss: 1.8361e-04 - mae: 0.0139\n",
            "Epoch 32/200\n",
            "67/67 [==============================] - 2s 31ms/step - loss: 1.8003e-04 - mae: 0.0136\n",
            "Epoch 33/200\n",
            "67/67 [==============================] - 2s 31ms/step - loss: 1.7579e-04 - mae: 0.0135\n",
            "Epoch 34/200\n",
            "67/67 [==============================] - 2s 31ms/step - loss: 1.6837e-04 - mae: 0.0131\n",
            "Epoch 35/200\n",
            "67/67 [==============================] - 2s 31ms/step - loss: 1.6464e-04 - mae: 0.0129\n",
            "Epoch 36/200\n",
            "67/67 [==============================] - 2s 30ms/step - loss: 1.7305e-04 - mae: 0.0133\n",
            "Epoch 37/200\n",
            "67/67 [==============================] - 2s 30ms/step - loss: 1.6524e-04 - mae: 0.0130\n",
            "Epoch 38/200\n",
            "67/67 [==============================] - 2s 30ms/step - loss: 1.6559e-04 - mae: 0.0131\n",
            "Epoch 39/200\n",
            "67/67 [==============================] - 2s 30ms/step - loss: 1.6358e-04 - mae: 0.0129\n",
            "Epoch 40/200\n",
            "67/67 [==============================] - 2s 30ms/step - loss: 1.5548e-04 - mae: 0.0126\n",
            "Epoch 41/200\n",
            "67/67 [==============================] - 2s 30ms/step - loss: 1.4963e-04 - mae: 0.0122\n",
            "Epoch 42/200\n",
            "67/67 [==============================] - 2s 30ms/step - loss: 1.5454e-04 - mae: 0.0126\n",
            "Epoch 43/200\n",
            "67/67 [==============================] - 2s 30ms/step - loss: 1.5503e-04 - mae: 0.0128\n",
            "Epoch 44/200\n",
            "67/67 [==============================] - 2s 30ms/step - loss: 1.4476e-04 - mae: 0.0121\n",
            "Epoch 45/200\n",
            "67/67 [==============================] - 2s 30ms/step - loss: 1.4468e-04 - mae: 0.0121\n",
            "Epoch 46/200\n",
            "67/67 [==============================] - 2s 30ms/step - loss: 1.4226e-04 - mae: 0.0120\n",
            "Epoch 47/200\n",
            "67/67 [==============================] - 2s 30ms/step - loss: 1.5003e-04 - mae: 0.0122\n",
            "Epoch 48/200\n",
            "67/67 [==============================] - 2s 30ms/step - loss: 1.5067e-04 - mae: 0.0126\n",
            "Epoch 49/200\n",
            "67/67 [==============================] - 2s 30ms/step - loss: 1.4607e-04 - mae: 0.0124\n",
            "Epoch 50/200\n",
            "67/67 [==============================] - 2s 30ms/step - loss: 1.3515e-04 - mae: 0.0115\n",
            "Epoch 51/200\n",
            "67/67 [==============================] - 2s 30ms/step - loss: 1.3469e-04 - mae: 0.0115\n",
            "Epoch 52/200\n",
            "67/67 [==============================] - 2s 30ms/step - loss: 1.3912e-04 - mae: 0.0120\n",
            "Epoch 53/200\n",
            "67/67 [==============================] - 2s 30ms/step - loss: 1.2908e-04 - mae: 0.0113\n",
            "Epoch 54/200\n",
            "67/67 [==============================] - 2s 30ms/step - loss: 1.2859e-04 - mae: 0.0112\n",
            "Epoch 55/200\n",
            "67/67 [==============================] - 2s 30ms/step - loss: 1.2354e-04 - mae: 0.0110\n",
            "Epoch 56/200\n",
            "67/67 [==============================] - 2s 30ms/step - loss: 1.2420e-04 - mae: 0.0109\n",
            "Epoch 57/200\n",
            "67/67 [==============================] - 2s 30ms/step - loss: 1.2831e-04 - mae: 0.0113\n",
            "Epoch 58/200\n",
            "67/67 [==============================] - 2s 30ms/step - loss: 1.2272e-04 - mae: 0.0109\n",
            "Epoch 59/200\n",
            "67/67 [==============================] - 2s 30ms/step - loss: 1.1623e-04 - mae: 0.0106\n",
            "Epoch 60/200\n",
            "67/67 [==============================] - 2s 30ms/step - loss: 1.2080e-04 - mae: 0.0108\n",
            "Epoch 61/200\n",
            "67/67 [==============================] - 2s 30ms/step - loss: 1.2024e-04 - mae: 0.0109\n",
            "Epoch 62/200\n",
            "67/67 [==============================] - 2s 30ms/step - loss: 1.1906e-04 - mae: 0.0107\n",
            "Epoch 63/200\n",
            "67/67 [==============================] - 2s 30ms/step - loss: 1.2094e-04 - mae: 0.0108\n",
            "Epoch 64/200\n",
            "67/67 [==============================] - 2s 29ms/step - loss: 1.2428e-04 - mae: 0.0110\n",
            "Epoch 65/200\n",
            "67/67 [==============================] - 2s 30ms/step - loss: 1.4066e-04 - mae: 0.0122\n",
            "Epoch 66/200\n",
            "67/67 [==============================] - 2s 30ms/step - loss: 1.3326e-04 - mae: 0.0119\n",
            "Epoch 67/200\n",
            "67/67 [==============================] - 2s 30ms/step - loss: 1.2014e-04 - mae: 0.0110\n",
            "Epoch 68/200\n",
            "67/67 [==============================] - 2s 30ms/step - loss: 1.1412e-04 - mae: 0.0106\n",
            "Epoch 69/200\n",
            "67/67 [==============================] - 2s 29ms/step - loss: 1.0788e-04 - mae: 0.0101\n",
            "Epoch 70/200\n",
            "67/67 [==============================] - 2s 29ms/step - loss: 1.0758e-04 - mae: 0.0102\n",
            "Epoch 71/200\n",
            "67/67 [==============================] - 2s 30ms/step - loss: 1.0837e-04 - mae: 0.0101\n",
            "Epoch 72/200\n",
            "67/67 [==============================] - 2s 30ms/step - loss: 1.1174e-04 - mae: 0.0106\n",
            "Epoch 73/200\n",
            "67/67 [==============================] - 2s 30ms/step - loss: 1.0562e-04 - mae: 0.0100\n",
            "Epoch 74/200\n",
            "67/67 [==============================] - 2s 30ms/step - loss: 1.0701e-04 - mae: 0.0103\n",
            "Epoch 75/200\n",
            "67/67 [==============================] - 2s 30ms/step - loss: 1.0680e-04 - mae: 0.0100\n",
            "Epoch 76/200\n",
            "67/67 [==============================] - 2s 30ms/step - loss: 1.1251e-04 - mae: 0.0107\n",
            "Epoch 77/200\n",
            "67/67 [==============================] - 2s 30ms/step - loss: 1.1258e-04 - mae: 0.0104\n",
            "Epoch 78/200\n",
            "67/67 [==============================] - 2s 30ms/step - loss: 1.2572e-04 - mae: 0.0115\n",
            "Epoch 79/200\n",
            "67/67 [==============================] - 2s 30ms/step - loss: 1.3208e-04 - mae: 0.0119\n",
            "Epoch 80/200\n",
            "67/67 [==============================] - 2s 30ms/step - loss: 1.2407e-04 - mae: 0.0113\n",
            "Epoch 81/200\n",
            "67/67 [==============================] - 2s 30ms/step - loss: 1.2933e-04 - mae: 0.0119\n",
            "Epoch 82/200\n",
            "67/67 [==============================] - 2s 30ms/step - loss: 1.1278e-04 - mae: 0.0103\n",
            "Epoch 83/200\n",
            "67/67 [==============================] - 2s 30ms/step - loss: 1.3410e-04 - mae: 0.0122\n",
            "Epoch 84/200\n",
            "67/67 [==============================] - 2s 29ms/step - loss: 1.1309e-04 - mae: 0.0106\n",
            "Epoch 85/200\n",
            "67/67 [==============================] - 2s 30ms/step - loss: 1.0825e-04 - mae: 0.0105\n",
            "Epoch 86/200\n",
            "67/67 [==============================] - 2s 29ms/step - loss: 1.1191e-04 - mae: 0.0104\n",
            "Epoch 87/200\n",
            "67/67 [==============================] - 2s 30ms/step - loss: 1.0756e-04 - mae: 0.0105\n",
            "Epoch 88/200\n",
            "67/67 [==============================] - 2s 30ms/step - loss: 1.1213e-04 - mae: 0.0103\n",
            "Epoch 89/200\n",
            "67/67 [==============================] - 2s 30ms/step - loss: 1.1591e-04 - mae: 0.0112\n",
            "Epoch 90/200\n",
            "67/67 [==============================] - 2s 30ms/step - loss: 1.1431e-04 - mae: 0.0104\n",
            "Epoch 91/200\n",
            "67/67 [==============================] - 2s 29ms/step - loss: 1.2599e-04 - mae: 0.0119\n",
            "Epoch 92/200\n",
            "67/67 [==============================] - 2s 30ms/step - loss: 1.2099e-04 - mae: 0.0105\n",
            "Epoch 93/200\n",
            "67/67 [==============================] - 2s 30ms/step - loss: 1.4826e-04 - mae: 0.0131\n",
            "Epoch 94/200\n",
            "67/67 [==============================] - 2s 30ms/step - loss: 1.2094e-04 - mae: 0.0111\n",
            "Epoch 95/200\n",
            "67/67 [==============================] - 2s 30ms/step - loss: 1.3381e-04 - mae: 0.0124\n",
            "Epoch 96/200\n",
            "67/67 [==============================] - 2s 29ms/step - loss: 1.0299e-04 - mae: 0.0099\n",
            "Epoch 97/200\n",
            "67/67 [==============================] - 2s 30ms/step - loss: 1.0089e-04 - mae: 0.0099\n",
            "Epoch 98/200\n",
            "67/67 [==============================] - 2s 30ms/step - loss: 9.7200e-05 - mae: 0.0096\n",
            "Epoch 99/200\n",
            "67/67 [==============================] - 2s 29ms/step - loss: 9.6278e-05 - mae: 0.0096\n",
            "Epoch 100/200\n",
            "67/67 [==============================] - 2s 30ms/step - loss: 9.6958e-05 - mae: 0.0096\n",
            "Epoch 101/200\n",
            "67/67 [==============================] - 2s 30ms/step - loss: 9.6832e-05 - mae: 0.0096\n",
            "Epoch 102/200\n",
            "67/67 [==============================] - 2s 29ms/step - loss: 9.8938e-05 - mae: 0.0096\n",
            "Epoch 103/200\n",
            "67/67 [==============================] - 2s 29ms/step - loss: 9.5197e-05 - mae: 0.0095\n",
            "Epoch 104/200\n",
            "67/67 [==============================] - 2s 29ms/step - loss: 1.0114e-04 - mae: 0.0097\n",
            "Epoch 105/200\n",
            "67/67 [==============================] - 2s 29ms/step - loss: 1.0030e-04 - mae: 0.0100\n",
            "Epoch 106/200\n",
            "67/67 [==============================] - 2s 30ms/step - loss: 1.0586e-04 - mae: 0.0100\n",
            "Epoch 107/200\n",
            "67/67 [==============================] - 2s 30ms/step - loss: 1.0285e-04 - mae: 0.0103\n",
            "Epoch 108/200\n",
            "67/67 [==============================] - 2s 30ms/step - loss: 1.1672e-04 - mae: 0.0103\n",
            "Epoch 109/200\n",
            "67/67 [==============================] - 2s 30ms/step - loss: 1.3680e-04 - mae: 0.0124\n",
            "Epoch 110/200\n",
            "67/67 [==============================] - 2s 30ms/step - loss: 1.1284e-04 - mae: 0.0106\n",
            "Epoch 111/200\n",
            "67/67 [==============================] - 2s 30ms/step - loss: 1.1348e-04 - mae: 0.0111\n",
            "Epoch 112/200\n",
            "67/67 [==============================] - 2s 29ms/step - loss: 1.0618e-04 - mae: 0.0100\n",
            "Epoch 113/200\n",
            "67/67 [==============================] - 2s 29ms/step - loss: 1.1028e-04 - mae: 0.0108\n",
            "Epoch 114/200\n",
            "67/67 [==============================] - 2s 30ms/step - loss: 1.0822e-04 - mae: 0.0103\n",
            "Epoch 115/200\n",
            "67/67 [==============================] - 2s 30ms/step - loss: 1.1387e-04 - mae: 0.0111\n",
            "Epoch 116/200\n",
            "67/67 [==============================] - 2s 30ms/step - loss: 1.1290e-04 - mae: 0.0102\n",
            "Epoch 117/200\n",
            "67/67 [==============================] - 2s 30ms/step - loss: 1.3498e-04 - mae: 0.0124\n",
            "Epoch 118/200\n",
            "67/67 [==============================] - 2s 30ms/step - loss: 1.1299e-04 - mae: 0.0106\n",
            "Epoch 119/200\n",
            "67/67 [==============================] - 2s 30ms/step - loss: 1.4112e-04 - mae: 0.0125\n",
            "Epoch 120/200\n",
            "67/67 [==============================] - 2s 30ms/step - loss: 1.0910e-04 - mae: 0.0104\n",
            "Epoch 121/200\n",
            "67/67 [==============================] - 2s 30ms/step - loss: 1.5879e-04 - mae: 0.0133\n",
            "Epoch 122/200\n",
            "67/67 [==============================] - 2s 30ms/step - loss: 2.3460e-04 - mae: 0.0159\n",
            "Epoch 123/200\n",
            "67/67 [==============================] - 2s 30ms/step - loss: 1.4599e-04 - mae: 0.0127\n",
            "Epoch 124/200\n",
            "67/67 [==============================] - 2s 30ms/step - loss: 1.1364e-04 - mae: 0.0110\n",
            "Epoch 125/200\n",
            "67/67 [==============================] - 2s 30ms/step - loss: 9.4824e-05 - mae: 0.0095\n",
            "Epoch 126/200\n",
            "67/67 [==============================] - 2s 30ms/step - loss: 9.3615e-05 - mae: 0.0094\n",
            "Epoch 127/200\n",
            "67/67 [==============================] - 2s 30ms/step - loss: 9.3176e-05 - mae: 0.0094\n",
            "Epoch 128/200\n",
            "67/67 [==============================] - 2s 30ms/step - loss: 9.4372e-05 - mae: 0.0094\n",
            "Epoch 129/200\n",
            "67/67 [==============================] - 2s 30ms/step - loss: 9.4429e-05 - mae: 0.0094\n",
            "Epoch 130/200\n",
            "67/67 [==============================] - 2s 30ms/step - loss: 9.3612e-05 - mae: 0.0094\n",
            "Epoch 131/200\n",
            "67/67 [==============================] - 2s 30ms/step - loss: 9.3075e-05 - mae: 0.0094\n",
            "Epoch 132/200\n",
            "67/67 [==============================] - 2s 30ms/step - loss: 9.3856e-05 - mae: 0.0094\n",
            "Epoch 133/200\n",
            "67/67 [==============================] - 2s 30ms/step - loss: 9.2392e-05 - mae: 0.0094\n",
            "Epoch 134/200\n",
            "67/67 [==============================] - 2s 30ms/step - loss: 1.0097e-04 - mae: 0.0097\n",
            "Epoch 135/200\n",
            "67/67 [==============================] - 2s 30ms/step - loss: 9.9303e-05 - mae: 0.0100\n",
            "Epoch 136/200\n",
            "67/67 [==============================] - 2s 30ms/step - loss: 1.1352e-04 - mae: 0.0102\n",
            "Epoch 137/200\n",
            "67/67 [==============================] - 2s 30ms/step - loss: 1.4415e-04 - mae: 0.0129\n",
            "Epoch 138/200\n",
            "67/67 [==============================] - 2s 29ms/step - loss: 1.1554e-04 - mae: 0.0107\n",
            "Epoch 139/200\n",
            "67/67 [==============================] - 2s 30ms/step - loss: 1.4156e-04 - mae: 0.0128\n",
            "Epoch 140/200\n",
            "67/67 [==============================] - 2s 30ms/step - loss: 1.0070e-04 - mae: 0.0097\n",
            "Epoch 141/200\n",
            "67/67 [==============================] - 2s 30ms/step - loss: 1.1717e-04 - mae: 0.0113\n",
            "Epoch 142/200\n",
            "67/67 [==============================] - 2s 30ms/step - loss: 9.5154e-05 - mae: 0.0095\n",
            "Epoch 143/200\n",
            "67/67 [==============================] - 2s 30ms/step - loss: 9.2554e-05 - mae: 0.0094\n",
            "Epoch 144/200\n",
            "67/67 [==============================] - 2s 30ms/step - loss: 9.5070e-05 - mae: 0.0095\n",
            "Epoch 145/200\n",
            "67/67 [==============================] - 2s 30ms/step - loss: 9.2921e-05 - mae: 0.0093\n",
            "Epoch 146/200\n",
            "67/67 [==============================] - 2s 30ms/step - loss: 9.4089e-05 - mae: 0.0094\n",
            "Epoch 147/200\n",
            "67/67 [==============================] - 2s 30ms/step - loss: 9.3596e-05 - mae: 0.0094\n",
            "Epoch 148/200\n",
            "67/67 [==============================] - 2s 30ms/step - loss: 9.5289e-05 - mae: 0.0094\n",
            "Epoch 149/200\n",
            "67/67 [==============================] - 2s 30ms/step - loss: 9.3937e-05 - mae: 0.0095\n",
            "Epoch 150/200\n",
            "67/67 [==============================] - 2s 30ms/step - loss: 1.1117e-04 - mae: 0.0101\n",
            "Epoch 151/200\n",
            "67/67 [==============================] - 2s 30ms/step - loss: 1.4794e-04 - mae: 0.0130\n",
            "Epoch 152/200\n",
            "67/67 [==============================] - 2s 30ms/step - loss: 1.1172e-04 - mae: 0.0105\n",
            "Epoch 153/200\n",
            "67/67 [==============================] - 2s 30ms/step - loss: 1.3204e-04 - mae: 0.0123\n",
            "Epoch 154/200\n",
            "67/67 [==============================] - 2s 30ms/step - loss: 1.1045e-04 - mae: 0.0102\n",
            "Epoch 155/200\n",
            "67/67 [==============================] - 2s 30ms/step - loss: 1.4125e-04 - mae: 0.0125\n",
            "Epoch 156/200\n",
            "67/67 [==============================] - 2s 31ms/step - loss: 1.1397e-04 - mae: 0.0106\n",
            "Epoch 157/200\n",
            "67/67 [==============================] - 2s 31ms/step - loss: 1.4188e-04 - mae: 0.0126\n",
            "Epoch 158/200\n",
            "67/67 [==============================] - 2s 30ms/step - loss: 9.8326e-05 - mae: 0.0096\n",
            "Epoch 159/200\n",
            "67/67 [==============================] - 2s 30ms/step - loss: 1.2096e-04 - mae: 0.0116\n",
            "Epoch 160/200\n",
            "67/67 [==============================] - 2s 30ms/step - loss: 9.7302e-05 - mae: 0.0095\n",
            "Epoch 161/200\n",
            "67/67 [==============================] - 2s 30ms/step - loss: 1.0007e-04 - mae: 0.0101\n",
            "Epoch 162/200\n",
            "67/67 [==============================] - 2s 30ms/step - loss: 1.0140e-04 - mae: 0.0099\n",
            "Epoch 163/200\n",
            "67/67 [==============================] - 2s 30ms/step - loss: 1.0611e-04 - mae: 0.0106\n",
            "Epoch 164/200\n",
            "67/67 [==============================] - 2s 30ms/step - loss: 9.7505e-05 - mae: 0.0096\n",
            "Epoch 165/200\n",
            "67/67 [==============================] - 2s 30ms/step - loss: 9.8894e-05 - mae: 0.0100\n",
            "Epoch 166/200\n",
            "67/67 [==============================] - 2s 30ms/step - loss: 9.5641e-05 - mae: 0.0095\n",
            "Epoch 167/200\n",
            "67/67 [==============================] - 2s 30ms/step - loss: 9.5053e-05 - mae: 0.0096\n",
            "Epoch 168/200\n",
            "67/67 [==============================] - 2s 30ms/step - loss: 1.0489e-04 - mae: 0.0099\n",
            "Epoch 169/200\n",
            "67/67 [==============================] - 2s 29ms/step - loss: 1.2145e-04 - mae: 0.0117\n",
            "Epoch 170/200\n",
            "67/67 [==============================] - 2s 30ms/step - loss: 1.1205e-04 - mae: 0.0103\n",
            "Epoch 171/200\n",
            "67/67 [==============================] - 2s 30ms/step - loss: 1.4706e-04 - mae: 0.0127\n",
            "Epoch 172/200\n",
            "67/67 [==============================] - 2s 30ms/step - loss: 1.0864e-04 - mae: 0.0103\n",
            "Epoch 173/200\n",
            "67/67 [==============================] - 2s 30ms/step - loss: 1.2526e-04 - mae: 0.0118\n",
            "Epoch 174/200\n",
            "67/67 [==============================] - 2s 30ms/step - loss: 1.0431e-04 - mae: 0.0101\n",
            "Epoch 175/200\n",
            "67/67 [==============================] - 2s 30ms/step - loss: 1.2343e-04 - mae: 0.0118\n",
            "Epoch 176/200\n",
            "67/67 [==============================] - 2s 30ms/step - loss: 9.6883e-05 - mae: 0.0096\n",
            "Epoch 177/200\n",
            "67/67 [==============================] - 2s 30ms/step - loss: 1.0009e-04 - mae: 0.0101\n",
            "Epoch 178/200\n",
            "67/67 [==============================] - 2s 30ms/step - loss: 9.6473e-05 - mae: 0.0096\n",
            "Epoch 179/200\n",
            "67/67 [==============================] - 2s 30ms/step - loss: 9.7490e-05 - mae: 0.0098\n",
            "Epoch 180/200\n",
            "67/67 [==============================] - 2s 30ms/step - loss: 9.8084e-05 - mae: 0.0096\n",
            "Epoch 181/200\n",
            "67/67 [==============================] - 2s 30ms/step - loss: 9.9670e-05 - mae: 0.0101\n",
            "Epoch 182/200\n",
            "67/67 [==============================] - 2s 30ms/step - loss: 1.0188e-04 - mae: 0.0099\n",
            "Epoch 183/200\n",
            "67/67 [==============================] - 2s 29ms/step - loss: 1.0942e-04 - mae: 0.0109\n",
            "Epoch 184/200\n",
            "67/67 [==============================] - 2s 30ms/step - loss: 1.0415e-04 - mae: 0.0099\n",
            "Epoch 185/200\n",
            "67/67 [==============================] - 2s 29ms/step - loss: 1.1528e-04 - mae: 0.0112\n",
            "Epoch 186/200\n",
            "67/67 [==============================] - 2s 30ms/step - loss: 1.0516e-04 - mae: 0.0101\n",
            "Epoch 187/200\n",
            "67/67 [==============================] - 2s 30ms/step - loss: 1.1642e-04 - mae: 0.0114\n",
            "Epoch 188/200\n",
            "67/67 [==============================] - 2s 30ms/step - loss: 9.8110e-05 - mae: 0.0097\n",
            "Epoch 189/200\n",
            "67/67 [==============================] - 2s 30ms/step - loss: 9.9395e-05 - mae: 0.0101\n",
            "Epoch 190/200\n",
            "67/67 [==============================] - 2s 30ms/step - loss: 9.5613e-05 - mae: 0.0096\n",
            "Epoch 191/200\n",
            "67/67 [==============================] - 2s 30ms/step - loss: 9.4906e-05 - mae: 0.0097\n",
            "Epoch 192/200\n",
            "67/67 [==============================] - 2s 30ms/step - loss: 9.5997e-05 - mae: 0.0095\n",
            "Epoch 193/200\n",
            "67/67 [==============================] - 2s 30ms/step - loss: 9.7631e-05 - mae: 0.0099\n",
            "Epoch 194/200\n",
            "67/67 [==============================] - 2s 30ms/step - loss: 1.0380e-04 - mae: 0.0099\n",
            "Epoch 195/200\n",
            "67/67 [==============================] - 2s 30ms/step - loss: 1.1658e-04 - mae: 0.0113\n",
            "Epoch 196/200\n",
            "67/67 [==============================] - 2s 30ms/step - loss: 1.0633e-04 - mae: 0.0099\n",
            "Epoch 197/200\n",
            "67/67 [==============================] - 2s 31ms/step - loss: 1.2127e-04 - mae: 0.0115\n",
            "Epoch 198/200\n",
            "67/67 [==============================] - 2s 31ms/step - loss: 1.1712e-04 - mae: 0.0106\n",
            "Epoch 199/200\n",
            "67/67 [==============================] - 2s 31ms/step - loss: 1.4276e-04 - mae: 0.0126\n",
            "Epoch 200/200\n",
            "67/67 [==============================] - 2s 30ms/step - loss: 1.0441e-04 - mae: 0.0102\n"
          ]
        },
        {
          "output_type": "execute_result",
          "data": {
            "text/plain": [
              "<keras.callbacks.History at 0x7f1d8623cd50>"
            ]
          },
          "metadata": {},
          "execution_count": 41
        }
      ]
    },
    {
      "cell_type": "code",
      "source": [
        "print(lstm.summary())"
      ],
      "metadata": {
        "id": "CUVX9mrUwRc_",
        "colab": {
          "base_uri": "https://localhost:8080/"
        },
        "outputId": "e5d6ac7c-834b-41bb-e541-df8d1e56142a"
      },
      "execution_count": 43,
      "outputs": [
        {
          "output_type": "stream",
          "name": "stdout",
          "text": [
            "Model: \"sequential_1\"\n",
            "_________________________________________________________________\n",
            " Layer (type)                Output Shape              Param #   \n",
            "=================================================================\n",
            " lstm_1 (LSTM)               (None, 200)               161600    \n",
            "                                                                 \n",
            " dense_3 (Dense)             (None, 30)                6030      \n",
            "                                                                 \n",
            " dense_4 (Dense)             (None, 15)                465       \n",
            "                                                                 \n",
            " dense_5 (Dense)             (None, 1)                 16        \n",
            "                                                                 \n",
            "=================================================================\n",
            "Total params: 168,111\n",
            "Trainable params: 168,111\n",
            "Non-trainable params: 0\n",
            "_________________________________________________________________\n",
            "None\n"
          ]
        }
      ]
    },
    {
      "cell_type": "code",
      "source": [
        "# Compute the forecast for all the series\n",
        "lstm_forecast = model_forecast(lstm, series_norm, G.WINDOW_SIZE).squeeze()\n",
        "\n",
        "# Slice the forecast to get only the predictions for the validation set\n",
        "series_test_hat_lstm = lstm_forecast[-150:]\n",
        "series_test_hat_lstm = reverse_normalization(series_test_hat_lstm)"
      ],
      "metadata": {
        "id": "usOQ3cl6_rPV"
      },
      "execution_count": 96,
      "outputs": []
    },
    {
      "cell_type": "code",
      "source": [
        "# Plot the forecast\n",
        "\n",
        "plt.figure(figsize=(10, 6))\n",
        "plot_series(np.arange( 1, len(time_test)+1 ), series_test)\n",
        "plot_series(np.arange( 1, len(time_test)+1 ), series_test_hat_lstm)\n",
        "plt.ylabel(\"Index Value\")\n",
        "plt.xlabel(\"Time Step\")\n",
        "legend_drawn_flag = True\n",
        "plt.legend([\"Original Value (DJIA)\", \"Predicted Value (DJIA)\"], loc=0, frameon=legend_drawn_flag)\n",
        "plt.savefig(\"/content/gdrive/MyDrive/Forecasting_results/lstm_forecasts.svg\")"
      ],
      "metadata": {
        "colab": {
          "base_uri": "https://localhost:8080/",
          "height": 388
        },
        "id": "B_fYj_UQJjl1",
        "outputId": "68bbcece-aecf-4304-c8ae-7a8c030629c4"
      },
      "execution_count": 97,
      "outputs": [
        {
          "output_type": "display_data",
          "data": {
            "text/plain": [
              "<Figure size 720x432 with 1 Axes>"
            ],
            "image/png": "[encoded data removed]"
          },
          "metadata": {
            "needs_background": "light"
          }
        }
      ]
    },
    {
      "cell_type": "code",
      "source": [
        "rmse_lstm, mae_lstm, mape_lstm= compute_metrics(series_test, series_test_hat_lstm)\n",
        "\n",
        "print(f\"mse: {rmse_lstm:.2f}, mae: {mae_lstm:.2f} , mape: {mape_lstm:.2f} for forecast\")"
      ],
      "metadata": {
        "id": "-U4UwUsf_Tp2",
        "colab": {
          "base_uri": "https://localhost:8080/"
        },
        "outputId": "5e1bc875-8770-49ac-a9b9-408d10c3525c"
      },
      "execution_count": 116,
      "outputs": [
        {
          "output_type": "stream",
          "name": "stdout",
          "text": [
            "mse: 68.83, mae: 58.62 , mape: 0.22 for forecast\n"
          ]
        }
      ]
    },
    {
      "cell_type": "code",
      "source": [
        "# Save model\n",
        "lstm.save(\"/content/gdrive/MyDrive/Saved_models/lstm.h5\")"
      ],
      "metadata": {
        "id": "SjvYU_82luNw"
      },
      "execution_count": 124,
      "outputs": []
    },
    {
      "cell_type": "markdown",
      "source": [
        "### CNN-LSTM"
      ],
      "metadata": {
        "id": "EgSv9-FX_UEA"
      }
    },
    {
      "cell_type": "code",
      "source": [
        "def build_CNN_LSTM(hp):\n",
        "   \n",
        "    model = tf.keras.models.Sequential([\n",
        "          tf.keras.layers.Conv1D(filters=hp.Int('Conv_units', 256, 1024, 256), kernel_size=2,\n",
        "                                 strides=1,\n",
        "                                 activation=\"relu\",\n",
        "                                 padding='causal',\n",
        "                                 input_shape=[G.WINDOW_SIZE, 1]),\n",
        "          tf.keras.layers.MaxPooling1D(pool_size=2, strides=1, padding=\"same\"),\n",
        "          tf.keras.layers.LSTM(hp.Int('lstm_units', 100, 300, 50)),\n",
        "          tf.keras.layers.Dense(hp.Int('dense1_units', 20, 50, step = 10), activation=\"relu\"),\n",
        "          tf.keras.layers.Dense(hp.Int('dense2_units', 5, 20, step = 5), activation=\"relu\"),\n",
        "          tf.keras.layers.Dense(1)\n",
        "    ])\n",
        "    learning_rate = hp.Float(\"lr\", min_value=1e-4, max_value=1e-2, sampling=\"log\")\n",
        "    model.compile(\n",
        "        optimizer=tf.keras.optimizers.Adam(learning_rate=learning_rate),\n",
        "        loss=tf.keras.losses.Huber(),\n",
        "        metrics=[\"mae\"])\n",
        "\n",
        "    return model"
      ],
      "metadata": {
        "id": "Amka1E2csj3H"
      },
      "execution_count": 66,
      "outputs": []
    },
    {
      "cell_type": "code",
      "source": [
        "build_CNN_LSTM(keras_tuner.HyperParameters())\n",
        "\n",
        "tuner_cnn_lstm = keras_tuner.Hyperband(\n",
        "    hypermodel=build_CNN_LSTM,\n",
        "    objective=\"val_mae\",\n",
        "    max_epochs=50,\n",
        "    factor=3,\n",
        "    hyperband_iterations=1,\n",
        "    distribution_strategy=strategy,\n",
        "    seed = 1,\n",
        "    directory='/content/gdrive/MyDrive/Tuner',\n",
        "    project_name=\"cnn_lstm_noshuffle\",\n",
        "    overwrite=False)\n",
        "\n",
        "\n",
        "tuner_cnn_lstm.search(train_set, epochs=50, validation_data=val_set, callbacks=[stop_early])\n",
        "\n",
        "tuner_cnn_lstm.results_summary()\n",
        "\n",
        "# Get the top 5 hyperparameters.\n",
        "best_hps_cnn_lstm = tuner_cnn_lstm.get_best_hyperparameters(5)"
      ],
      "metadata": {
        "id": "A1PtMSsr-vSO",
        "colab": {
          "base_uri": "https://localhost:8080/"
        },
        "outputId": "c76eee9c-785d-4095-ac89-141e050209b2"
      },
      "execution_count": 67,
      "outputs": [
        {
          "output_type": "stream",
          "name": "stdout",
          "text": [
            "Trial 90 Complete [00h 00m 57s]\n",
            "val_mae: 0.20366719365119934\n",
            "\n",
            "Best val_mae So Far: 0.01952478662133217\n",
            "Total elapsed time: 01h 19m 54s\n",
            "Results summary\n",
            "Results in /content/gdrive/MyDrive/Tuner/cnn_lstm_noshuffle\n",
            "Showing 10 best trials\n",
            "<keras_tuner.engine.objective.Objective object at 0x7f1d857099d0>\n",
            "Trial summary\n",
            "Hyperparameters:\n",
            "Conv_units: 1024\n",
            "lstm_units: 200\n",
            "dense1_units: 50\n",
            "dense2_units: 10\n",
            "lr: 0.0005958165881034709\n",
            "tuner/epochs: 17\n",
            "tuner/initial_epoch: 0\n",
            "tuner/bracket: 1\n",
            "tuner/round: 0\n",
            "Score: 0.01952478662133217\n",
            "Trial summary\n",
            "Hyperparameters:\n",
            "Conv_units: 512\n",
            "lstm_units: 300\n",
            "dense1_units: 30\n",
            "dense2_units: 10\n",
            "lr: 0.0006752863927347823\n",
            "tuner/epochs: 2\n",
            "tuner/initial_epoch: 0\n",
            "tuner/bracket: 3\n",
            "tuner/round: 0\n",
            "Score: 0.02344345673918724\n",
            "Trial summary\n",
            "Hyperparameters:\n",
            "Conv_units: 512\n",
            "lstm_units: 300\n",
            "dense1_units: 30\n",
            "dense2_units: 10\n",
            "lr: 0.0006752863927347823\n",
            "tuner/epochs: 6\n",
            "tuner/initial_epoch: 2\n",
            "tuner/bracket: 3\n",
            "tuner/round: 1\n",
            "tuner/trial_id: 0012\n",
            "Score: 0.023567834869027138\n",
            "Trial summary\n",
            "Hyperparameters:\n",
            "Conv_units: 512\n",
            "lstm_units: 150\n",
            "dense1_units: 40\n",
            "dense2_units: 10\n",
            "lr: 0.00014098552596271755\n",
            "tuner/epochs: 6\n",
            "tuner/initial_epoch: 0\n",
            "tuner/bracket: 2\n",
            "tuner/round: 0\n",
            "Score: 0.024223340675234795\n",
            "Trial summary\n",
            "Hyperparameters:\n",
            "Conv_units: 512\n",
            "lstm_units: 250\n",
            "dense1_units: 40\n",
            "dense2_units: 10\n",
            "lr: 0.0008264439766792489\n",
            "tuner/epochs: 2\n",
            "tuner/initial_epoch: 0\n",
            "tuner/bracket: 3\n",
            "tuner/round: 0\n",
            "Score: 0.026211051270365715\n",
            "Trial summary\n",
            "Hyperparameters:\n",
            "Conv_units: 768\n",
            "lstm_units: 200\n",
            "dense1_units: 20\n",
            "dense2_units: 10\n",
            "lr: 0.00012337256785879854\n",
            "tuner/epochs: 50\n",
            "tuner/initial_epoch: 17\n",
            "tuner/bracket: 2\n",
            "tuner/round: 2\n",
            "tuner/trial_id: 0071\n",
            "Score: 0.026553772389888763\n",
            "Trial summary\n",
            "Hyperparameters:\n",
            "Conv_units: 256\n",
            "lstm_units: 300\n",
            "dense1_units: 50\n",
            "dense2_units: 15\n",
            "lr: 0.0005674460859990781\n",
            "tuner/epochs: 17\n",
            "tuner/initial_epoch: 6\n",
            "tuner/bracket: 3\n",
            "tuner/round: 2\n",
            "tuner/trial_id: 0036\n",
            "Score: 0.02663106843829155\n",
            "Trial summary\n",
            "Hyperparameters:\n",
            "Conv_units: 256\n",
            "lstm_units: 300\n",
            "dense1_units: 50\n",
            "dense2_units: 20\n",
            "lr: 0.00019430304760198347\n",
            "tuner/epochs: 17\n",
            "tuner/initial_epoch: 6\n",
            "tuner/bracket: 2\n",
            "tuner/round: 1\n",
            "tuner/trial_id: 0053\n",
            "Score: 0.028560945764183998\n",
            "Trial summary\n",
            "Hyperparameters:\n",
            "Conv_units: 512\n",
            "lstm_units: 300\n",
            "dense1_units: 40\n",
            "dense2_units: 20\n",
            "lr: 0.00015159319577885927\n",
            "tuner/epochs: 17\n",
            "tuner/initial_epoch: 6\n",
            "tuner/bracket: 3\n",
            "tuner/round: 2\n",
            "tuner/trial_id: 0042\n",
            "Score: 0.028647812083363533\n",
            "Trial summary\n",
            "Hyperparameters:\n",
            "Conv_units: 512\n",
            "lstm_units: 250\n",
            "dense1_units: 40\n",
            "dense2_units: 10\n",
            "lr: 0.0008264439766792489\n",
            "tuner/epochs: 6\n",
            "tuner/initial_epoch: 2\n",
            "tuner/bracket: 3\n",
            "tuner/round: 1\n",
            "tuner/trial_id: 0007\n",
            "Score: 0.028919382020831108\n"
          ]
        }
      ]
    },
    {
      "cell_type": "code",
      "source": [
        "# Build the model with the best hp.\n",
        "with strategy.scope():\n",
        "  cnn_lstm = build_CNN_LSTM(best_hps_cnn_lstm[0])\n",
        "# Fit with the entire dataset.\n",
        "cnn_lstm.fit(train_val_set, epochs=200)"
      ],
      "metadata": {
        "id": "TM5Zy7HdmTgU",
        "colab": {
          "base_uri": "https://localhost:8080/"
        },
        "outputId": "955e2396-4dcc-4188-b4d7-9163f74799e3"
      },
      "execution_count": 68,
      "outputs": [
        {
          "output_type": "stream",
          "name": "stdout",
          "text": [
            "Epoch 1/200\n",
            "67/67 [==============================] - 21s 219ms/step - loss: 0.0022 - mae: 0.0483\n",
            "Epoch 2/200\n",
            "67/67 [==============================] - 11s 152ms/step - loss: 0.0027 - mae: 0.0538\n",
            "Epoch 3/200\n",
            "67/67 [==============================] - 9s 132ms/step - loss: 6.6513e-04 - mae: 0.0274\n",
            "Epoch 4/200\n",
            "67/67 [==============================] - 9s 135ms/step - loss: 2.6946e-04 - mae: 0.0157\n",
            "Epoch 5/200\n",
            "67/67 [==============================] - 10s 156ms/step - loss: 2.9689e-04 - mae: 0.0167\n",
            "Epoch 6/200\n",
            "67/67 [==============================] - 10s 146ms/step - loss: 2.7335e-04 - mae: 0.0167\n",
            "Epoch 7/200\n",
            "67/67 [==============================] - 11s 166ms/step - loss: 2.3415e-04 - mae: 0.0144\n",
            "Epoch 8/200\n",
            "67/67 [==============================] - 10s 152ms/step - loss: 2.4140e-04 - mae: 0.0145\n",
            "Epoch 9/200\n",
            "67/67 [==============================] - 7s 104ms/step - loss: 2.3945e-04 - mae: 0.0146\n",
            "Epoch 10/200\n",
            "67/67 [==============================] - 10s 149ms/step - loss: 2.3626e-04 - mae: 0.0147\n",
            "Epoch 11/200\n",
            "67/67 [==============================] - 10s 151ms/step - loss: 2.2304e-04 - mae: 0.0142\n",
            "Epoch 12/200\n",
            "67/67 [==============================] - 8s 123ms/step - loss: 2.4283e-04 - mae: 0.0146\n",
            "Epoch 13/200\n",
            "67/67 [==============================] - 10s 144ms/step - loss: 3.5374e-04 - mae: 0.0174\n",
            "Epoch 14/200\n",
            "67/67 [==============================] - 11s 161ms/step - loss: 6.3883e-04 - mae: 0.0279\n",
            "Epoch 15/200\n",
            "67/67 [==============================] - 9s 133ms/step - loss: 1.9366e-04 - mae: 0.0138\n",
            "Epoch 16/200\n",
            "67/67 [==============================] - 10s 139ms/step - loss: 1.8383e-04 - mae: 0.0131\n",
            "Epoch 17/200\n",
            "67/67 [==============================] - 9s 134ms/step - loss: 1.7952e-04 - mae: 0.0128\n",
            "Epoch 18/200\n",
            "67/67 [==============================] - 10s 144ms/step - loss: 1.7761e-04 - mae: 0.0127\n",
            "Epoch 19/200\n",
            "67/67 [==============================] - 10s 141ms/step - loss: 1.8458e-04 - mae: 0.0129\n",
            "Epoch 20/200\n",
            "67/67 [==============================] - 11s 153ms/step - loss: 1.8618e-04 - mae: 0.0131\n",
            "Epoch 21/200\n",
            "67/67 [==============================] - 9s 140ms/step - loss: 2.4696e-04 - mae: 0.0148\n",
            "Epoch 22/200\n",
            "67/67 [==============================] - 8s 114ms/step - loss: 7.0179e-04 - mae: 0.0255\n",
            "Epoch 23/200\n",
            "67/67 [==============================] - 9s 133ms/step - loss: 0.0012 - mae: 0.0354\n",
            "Epoch 24/200\n",
            "67/67 [==============================] - 10s 150ms/step - loss: 2.2527e-04 - mae: 0.0160\n",
            "Epoch 25/200\n",
            "67/67 [==============================] - 10s 150ms/step - loss: 1.9364e-04 - mae: 0.0146\n",
            "Epoch 26/200\n",
            "67/67 [==============================] - 12s 174ms/step - loss: 1.5566e-04 - mae: 0.0124\n",
            "Epoch 27/200\n",
            "67/67 [==============================] - 8s 115ms/step - loss: 1.4989e-04 - mae: 0.0120\n",
            "Epoch 28/200\n",
            "67/67 [==============================] - 10s 142ms/step - loss: 1.4859e-04 - mae: 0.0119\n",
            "Epoch 29/200\n",
            "67/67 [==============================] - 9s 129ms/step - loss: 1.5869e-04 - mae: 0.0126\n",
            "Epoch 30/200\n",
            "67/67 [==============================] - 9s 138ms/step - loss: 1.5747e-04 - mae: 0.0124\n",
            "Epoch 31/200\n",
            "67/67 [==============================] - 10s 148ms/step - loss: 1.6195e-04 - mae: 0.0128\n",
            "Epoch 32/200\n",
            "67/67 [==============================] - 11s 157ms/step - loss: 1.7193e-04 - mae: 0.0132\n",
            "Epoch 33/200\n",
            "67/67 [==============================] - 10s 152ms/step - loss: 1.8468e-04 - mae: 0.0140\n",
            "Epoch 34/200\n",
            "67/67 [==============================] - 10s 143ms/step - loss: 1.8233e-04 - mae: 0.0139\n",
            "Epoch 35/200\n",
            "67/67 [==============================] - 8s 126ms/step - loss: 1.9008e-04 - mae: 0.0143\n",
            "Epoch 36/200\n",
            "67/67 [==============================] - 8s 117ms/step - loss: 1.7886e-04 - mae: 0.0137\n",
            "Epoch 37/200\n",
            "67/67 [==============================] - 10s 148ms/step - loss: 1.7376e-04 - mae: 0.0135\n",
            "Epoch 38/200\n",
            "67/67 [==============================] - 9s 140ms/step - loss: 1.8832e-04 - mae: 0.0142\n",
            "Epoch 39/200\n",
            "67/67 [==============================] - 11s 158ms/step - loss: 1.9430e-04 - mae: 0.0144\n",
            "Epoch 40/200\n",
            "67/67 [==============================] - 9s 136ms/step - loss: 1.8727e-04 - mae: 0.0141\n",
            "Epoch 41/200\n",
            "67/67 [==============================] - 11s 168ms/step - loss: 2.0348e-04 - mae: 0.0147\n",
            "Epoch 42/200\n",
            "67/67 [==============================] - 9s 130ms/step - loss: 2.1636e-04 - mae: 0.0154\n",
            "Epoch 43/200\n",
            "67/67 [==============================] - 10s 136ms/step - loss: 2.1375e-04 - mae: 0.0152\n",
            "Epoch 44/200\n",
            "67/67 [==============================] - 11s 153ms/step - loss: 2.0435e-04 - mae: 0.0149\n",
            "Epoch 45/200\n",
            "67/67 [==============================] - 11s 165ms/step - loss: 1.8641e-04 - mae: 0.0141\n",
            "Epoch 46/200\n",
            "67/67 [==============================] - 10s 139ms/step - loss: 1.9099e-04 - mae: 0.0142\n",
            "Epoch 47/200\n",
            "67/67 [==============================] - 9s 132ms/step - loss: 1.9611e-04 - mae: 0.0144\n",
            "Epoch 48/200\n",
            "67/67 [==============================] - 11s 168ms/step - loss: 1.9910e-04 - mae: 0.0147\n",
            "Epoch 49/200\n",
            "67/67 [==============================] - 11s 158ms/step - loss: 1.8283e-04 - mae: 0.0141\n",
            "Epoch 50/200\n",
            "67/67 [==============================] - 8s 124ms/step - loss: 1.6100e-04 - mae: 0.0130\n",
            "Epoch 51/200\n",
            "67/67 [==============================] - 11s 160ms/step - loss: 1.5999e-04 - mae: 0.0127\n",
            "Epoch 52/200\n",
            "67/67 [==============================] - 9s 132ms/step - loss: 1.6747e-04 - mae: 0.0131\n",
            "Epoch 53/200\n",
            "67/67 [==============================] - 9s 140ms/step - loss: 1.7080e-04 - mae: 0.0133\n",
            "Epoch 54/200\n",
            "67/67 [==============================] - 12s 168ms/step - loss: 1.7675e-04 - mae: 0.0139\n",
            "Epoch 55/200\n",
            "67/67 [==============================] - 11s 159ms/step - loss: 1.6315e-04 - mae: 0.0129\n",
            "Epoch 56/200\n",
            "67/67 [==============================] - 9s 129ms/step - loss: 1.6186e-04 - mae: 0.0130\n",
            "Epoch 57/200\n",
            "67/67 [==============================] - 9s 133ms/step - loss: 1.5512e-04 - mae: 0.0126\n",
            "Epoch 58/200\n",
            "67/67 [==============================] - 10s 147ms/step - loss: 1.5180e-04 - mae: 0.0124\n",
            "Epoch 59/200\n",
            "67/67 [==============================] - 11s 168ms/step - loss: 1.5279e-04 - mae: 0.0124\n",
            "Epoch 60/200\n",
            "67/67 [==============================] - 9s 130ms/step - loss: 1.4682e-04 - mae: 0.0123\n",
            "Epoch 61/200\n",
            "67/67 [==============================] - 11s 162ms/step - loss: 1.4805e-04 - mae: 0.0116\n",
            "Epoch 62/200\n",
            "67/67 [==============================] - 11s 156ms/step - loss: 1.4296e-04 - mae: 0.0122\n",
            "Epoch 63/200\n",
            "67/67 [==============================] - 10s 143ms/step - loss: 1.8445e-04 - mae: 0.0126\n",
            "Epoch 64/200\n",
            "67/67 [==============================] - 12s 183ms/step - loss: 2.1997e-04 - mae: 0.0157\n",
            "Epoch 65/200\n",
            "67/67 [==============================] - 10s 143ms/step - loss: 2.2283e-04 - mae: 0.0142\n",
            "Epoch 66/200\n",
            "67/67 [==============================] - 10s 152ms/step - loss: 6.5742e-04 - mae: 0.0256\n",
            "Epoch 67/200\n",
            "67/67 [==============================] - 9s 124ms/step - loss: 8.5439e-04 - mae: 0.0275\n",
            "Epoch 68/200\n",
            "67/67 [==============================] - 8s 124ms/step - loss: 1.9688e-04 - mae: 0.0137\n",
            "Epoch 69/200\n",
            "67/67 [==============================] - 10s 153ms/step - loss: 2.4206e-04 - mae: 0.0176\n",
            "Epoch 70/200\n",
            "67/67 [==============================] - 10s 151ms/step - loss: 1.6280e-04 - mae: 0.0130\n",
            "Epoch 71/200\n",
            "67/67 [==============================] - 10s 147ms/step - loss: 1.3273e-04 - mae: 0.0118\n",
            "Epoch 72/200\n",
            "67/67 [==============================] - 7s 108ms/step - loss: 1.3862e-04 - mae: 0.0121\n",
            "Epoch 73/200\n",
            "67/67 [==============================] - 9s 128ms/step - loss: 1.5301e-04 - mae: 0.0127\n",
            "Epoch 74/200\n",
            "67/67 [==============================] - 10s 155ms/step - loss: 1.8428e-04 - mae: 0.0146\n",
            "Epoch 75/200\n",
            "67/67 [==============================] - 10s 151ms/step - loss: 1.6143e-04 - mae: 0.0135\n",
            "Epoch 76/200\n",
            "67/67 [==============================] - 8s 114ms/step - loss: 1.4975e-04 - mae: 0.0129\n",
            "Epoch 77/200\n",
            "67/67 [==============================] - 11s 160ms/step - loss: 1.5319e-04 - mae: 0.0129\n",
            "Epoch 78/200\n",
            "67/67 [==============================] - 10s 149ms/step - loss: 1.9946e-04 - mae: 0.0151\n",
            "Epoch 79/200\n",
            "67/67 [==============================] - 8s 126ms/step - loss: 1.9090e-04 - mae: 0.0148\n",
            "Epoch 80/200\n",
            "67/67 [==============================] - 10s 150ms/step - loss: 2.2535e-04 - mae: 0.0161\n",
            "Epoch 81/200\n",
            "67/67 [==============================] - 9s 130ms/step - loss: 2.6791e-04 - mae: 0.0177\n",
            "Epoch 82/200\n",
            "67/67 [==============================] - 10s 149ms/step - loss: 2.5187e-04 - mae: 0.0169\n",
            "Epoch 83/200\n",
            "67/67 [==============================] - 8s 126ms/step - loss: 3.1872e-04 - mae: 0.0192\n",
            "Epoch 84/200\n",
            "67/67 [==============================] - 13s 181ms/step - loss: 2.7558e-04 - mae: 0.0176\n",
            "Epoch 85/200\n",
            "67/67 [==============================] - 11s 161ms/step - loss: 2.8559e-04 - mae: 0.0184\n",
            "Epoch 86/200\n",
            "67/67 [==============================] - 11s 157ms/step - loss: 2.7061e-04 - mae: 0.0173\n",
            "Epoch 87/200\n",
            "67/67 [==============================] - 11s 150ms/step - loss: 2.8116e-04 - mae: 0.0183\n",
            "Epoch 88/200\n",
            "67/67 [==============================] - 9s 135ms/step - loss: 2.6483e-04 - mae: 0.0174\n",
            "Epoch 89/200\n",
            "67/67 [==============================] - 12s 174ms/step - loss: 3.4895e-04 - mae: 0.0205\n",
            "Epoch 90/200\n",
            "67/67 [==============================] - 11s 167ms/step - loss: 3.8850e-04 - mae: 0.0205\n",
            "Epoch 91/200\n",
            "67/67 [==============================] - 12s 186ms/step - loss: 2.3241e-04 - mae: 0.0166\n",
            "Epoch 92/200\n",
            "67/67 [==============================] - 10s 157ms/step - loss: 2.1104e-04 - mae: 0.0160\n",
            "Epoch 93/200\n",
            "67/67 [==============================] - 10s 156ms/step - loss: 1.7447e-04 - mae: 0.0139\n",
            "Epoch 94/200\n",
            "67/67 [==============================] - 10s 142ms/step - loss: 2.3135e-04 - mae: 0.0165\n",
            "Epoch 95/200\n",
            "67/67 [==============================] - 9s 134ms/step - loss: 1.6297e-04 - mae: 0.0134\n",
            "Epoch 96/200\n",
            "67/67 [==============================] - 9s 130ms/step - loss: 1.4254e-04 - mae: 0.0124\n",
            "Epoch 97/200\n",
            "67/67 [==============================] - 9s 131ms/step - loss: 1.3608e-04 - mae: 0.0119\n",
            "Epoch 98/200\n",
            "67/67 [==============================] - 9s 135ms/step - loss: 1.3641e-04 - mae: 0.0119\n",
            "Epoch 99/200\n",
            "67/67 [==============================] - 9s 131ms/step - loss: 1.3839e-04 - mae: 0.0120\n",
            "Epoch 100/200\n",
            "67/67 [==============================] - 11s 158ms/step - loss: 1.3791e-04 - mae: 0.0120\n",
            "Epoch 101/200\n",
            "67/67 [==============================] - 10s 154ms/step - loss: 1.3321e-04 - mae: 0.0116\n",
            "Epoch 102/200\n",
            "67/67 [==============================] - 10s 143ms/step - loss: 1.3417e-04 - mae: 0.0117\n",
            "Epoch 103/200\n",
            "67/67 [==============================] - 8s 123ms/step - loss: 1.3842e-04 - mae: 0.0119\n",
            "Epoch 104/200\n",
            "67/67 [==============================] - 9s 141ms/step - loss: 1.2915e-04 - mae: 0.0114\n",
            "Epoch 105/200\n",
            "67/67 [==============================] - 12s 158ms/step - loss: 1.3370e-04 - mae: 0.0116\n",
            "Epoch 106/200\n",
            "67/67 [==============================] - 9s 126ms/step - loss: 1.3522e-04 - mae: 0.0117\n",
            "Epoch 107/200\n",
            "67/67 [==============================] - 8s 125ms/step - loss: 1.3528e-04 - mae: 0.0117\n",
            "Epoch 108/200\n",
            "67/67 [==============================] - 11s 168ms/step - loss: 1.3866e-04 - mae: 0.0118\n",
            "Epoch 109/200\n",
            "67/67 [==============================] - 11s 154ms/step - loss: 1.4261e-04 - mae: 0.0121\n",
            "Epoch 110/200\n",
            "67/67 [==============================] - 10s 142ms/step - loss: 1.3268e-04 - mae: 0.0115\n",
            "Epoch 111/200\n",
            "67/67 [==============================] - 12s 169ms/step - loss: 1.2155e-04 - mae: 0.0110\n",
            "Epoch 112/200\n",
            "67/67 [==============================] - 10s 147ms/step - loss: 1.2673e-04 - mae: 0.0109\n",
            "Epoch 113/200\n",
            "67/67 [==============================] - 8s 119ms/step - loss: 1.2264e-04 - mae: 0.0111\n",
            "Epoch 114/200\n",
            "67/67 [==============================] - 6s 93ms/step - loss: 1.3143e-04 - mae: 0.0109\n",
            "Epoch 115/200\n",
            "67/67 [==============================] - 6s 93ms/step - loss: 1.3310e-04 - mae: 0.0119\n",
            "Epoch 116/200\n",
            "67/67 [==============================] - 6s 93ms/step - loss: 1.3970e-04 - mae: 0.0112\n",
            "Epoch 117/200\n",
            "67/67 [==============================] - 6s 93ms/step - loss: 1.5386e-04 - mae: 0.0131\n",
            "Epoch 118/200\n",
            "67/67 [==============================] - 8s 112ms/step - loss: 1.2815e-04 - mae: 0.0108\n",
            "Epoch 119/200\n",
            "67/67 [==============================] - 9s 134ms/step - loss: 1.2936e-04 - mae: 0.0119\n",
            "Epoch 120/200\n",
            "67/67 [==============================] - 9s 136ms/step - loss: 1.1867e-04 - mae: 0.0107\n",
            "Epoch 121/200\n",
            "67/67 [==============================] - 10s 154ms/step - loss: 1.1789e-04 - mae: 0.0110\n",
            "Epoch 122/200\n",
            "67/67 [==============================] - 12s 177ms/step - loss: 1.1429e-04 - mae: 0.0103\n",
            "Epoch 123/200\n",
            "67/67 [==============================] - 10s 141ms/step - loss: 1.1131e-04 - mae: 0.0106\n",
            "Epoch 124/200\n",
            "67/67 [==============================] - 8s 124ms/step - loss: 1.1278e-04 - mae: 0.0102\n",
            "Epoch 125/200\n",
            "67/67 [==============================] - 9s 134ms/step - loss: 1.1550e-04 - mae: 0.0106\n",
            "Epoch 126/200\n",
            "67/67 [==============================] - 11s 163ms/step - loss: 1.1591e-04 - mae: 0.0104\n",
            "Epoch 127/200\n",
            "67/67 [==============================] - 10s 143ms/step - loss: 1.1005e-04 - mae: 0.0102\n",
            "Epoch 128/200\n",
            "67/67 [==============================] - 10s 145ms/step - loss: 1.1128e-04 - mae: 0.0101\n",
            "Epoch 129/200\n",
            "67/67 [==============================] - 10s 143ms/step - loss: 1.0681e-04 - mae: 0.0101\n",
            "Epoch 130/200\n",
            "67/67 [==============================] - 10s 147ms/step - loss: 1.2386e-04 - mae: 0.0106\n",
            "Epoch 131/200\n",
            "67/67 [==============================] - 10s 145ms/step - loss: 1.0413e-04 - mae: 0.0101\n",
            "Epoch 132/200\n",
            "67/67 [==============================] - 11s 161ms/step - loss: 1.4157e-04 - mae: 0.0113\n",
            "Epoch 133/200\n",
            "67/67 [==============================] - 11s 151ms/step - loss: 1.4741e-04 - mae: 0.0130\n",
            "Epoch 134/200\n",
            "67/67 [==============================] - 10s 149ms/step - loss: 1.5013e-04 - mae: 0.0117\n",
            "Epoch 135/200\n",
            "67/67 [==============================] - 11s 158ms/step - loss: 1.5317e-04 - mae: 0.0129\n",
            "Epoch 136/200\n",
            "67/67 [==============================] - 11s 164ms/step - loss: 3.5962e-04 - mae: 0.0171\n",
            "Epoch 137/200\n",
            "67/67 [==============================] - 11s 158ms/step - loss: 2.5617e-04 - mae: 0.0162\n",
            "Epoch 138/200\n",
            "67/67 [==============================] - 9s 140ms/step - loss: 1.8251e-04 - mae: 0.0147\n",
            "Epoch 139/200\n",
            "67/67 [==============================] - 8s 124ms/step - loss: 1.5526e-04 - mae: 0.0137\n",
            "Epoch 140/200\n",
            "67/67 [==============================] - 10s 152ms/step - loss: 1.7133e-04 - mae: 0.0132\n",
            "Epoch 141/200\n",
            "67/67 [==============================] - 11s 157ms/step - loss: 1.9407e-04 - mae: 0.0155\n",
            "Epoch 142/200\n",
            "67/67 [==============================] - 11s 166ms/step - loss: 1.3068e-04 - mae: 0.0114\n",
            "Epoch 143/200\n",
            "67/67 [==============================] - 9s 134ms/step - loss: 1.3166e-04 - mae: 0.0122\n",
            "Epoch 144/200\n",
            "67/67 [==============================] - 11s 164ms/step - loss: 1.1981e-04 - mae: 0.0109\n",
            "Epoch 145/200\n",
            "67/67 [==============================] - 10s 143ms/step - loss: 1.2995e-04 - mae: 0.0122\n",
            "Epoch 146/200\n",
            "67/67 [==============================] - 11s 164ms/step - loss: 1.0848e-04 - mae: 0.0105\n",
            "Epoch 147/200\n",
            "67/67 [==============================] - 10s 141ms/step - loss: 1.3371e-04 - mae: 0.0120\n",
            "Epoch 148/200\n",
            "67/67 [==============================] - 11s 162ms/step - loss: 1.4333e-04 - mae: 0.0125\n",
            "Epoch 149/200\n",
            "67/67 [==============================] - 11s 162ms/step - loss: 1.6658e-04 - mae: 0.0131\n",
            "Epoch 150/200\n",
            "67/67 [==============================] - 9s 129ms/step - loss: 2.3279e-04 - mae: 0.0157\n",
            "Epoch 151/200\n",
            "67/67 [==============================] - 10s 146ms/step - loss: 2.1258e-04 - mae: 0.0147\n",
            "Epoch 152/200\n",
            "67/67 [==============================] - 10s 141ms/step - loss: 2.1654e-04 - mae: 0.0157\n",
            "Epoch 153/200\n",
            "67/67 [==============================] - 10s 154ms/step - loss: 2.9245e-04 - mae: 0.0173\n",
            "Epoch 154/200\n",
            "67/67 [==============================] - 11s 159ms/step - loss: 1.4532e-04 - mae: 0.0126\n",
            "Epoch 155/200\n",
            "67/67 [==============================] - 12s 170ms/step - loss: 1.9367e-04 - mae: 0.0151\n",
            "Epoch 156/200\n",
            "67/67 [==============================] - 10s 156ms/step - loss: 2.6369e-04 - mae: 0.0174\n",
            "Epoch 157/200\n",
            "67/67 [==============================] - 11s 172ms/step - loss: 3.1619e-04 - mae: 0.0192\n",
            "Epoch 158/200\n",
            "67/67 [==============================] - 9s 131ms/step - loss: 2.5950e-04 - mae: 0.0162\n",
            "Epoch 159/200\n",
            "67/67 [==============================] - 9s 140ms/step - loss: 1.4931e-04 - mae: 0.0126\n",
            "Epoch 160/200\n",
            "67/67 [==============================] - 11s 160ms/step - loss: 1.4424e-04 - mae: 0.0129\n",
            "Epoch 161/200\n",
            "67/67 [==============================] - 11s 165ms/step - loss: 1.8440e-04 - mae: 0.0141\n",
            "Epoch 162/200\n",
            "67/67 [==============================] - 9s 136ms/step - loss: 1.8678e-04 - mae: 0.0153\n",
            "Epoch 163/200\n",
            "67/67 [==============================] - 11s 156ms/step - loss: 2.6552e-04 - mae: 0.0164\n",
            "Epoch 164/200\n",
            "67/67 [==============================] - 9s 140ms/step - loss: 2.0658e-04 - mae: 0.0153\n",
            "Epoch 165/200\n",
            "67/67 [==============================] - 11s 158ms/step - loss: 1.9554e-04 - mae: 0.0145\n",
            "Epoch 166/200\n",
            "67/67 [==============================] - 9s 124ms/step - loss: 1.5132e-04 - mae: 0.0133\n",
            "Epoch 167/200\n",
            "67/67 [==============================] - 9s 137ms/step - loss: 1.5873e-04 - mae: 0.0128\n",
            "Epoch 168/200\n",
            "67/67 [==============================] - 13s 187ms/step - loss: 1.1246e-04 - mae: 0.0108\n",
            "Epoch 169/200\n",
            "67/67 [==============================] - 10s 145ms/step - loss: 1.1770e-04 - mae: 0.0109\n",
            "Epoch 170/200\n",
            "67/67 [==============================] - 10s 140ms/step - loss: 1.0986e-04 - mae: 0.0106\n",
            "Epoch 171/200\n",
            "67/67 [==============================] - 9s 134ms/step - loss: 1.1574e-04 - mae: 0.0112\n",
            "Epoch 172/200\n",
            "67/67 [==============================] - 10s 152ms/step - loss: 1.1927e-04 - mae: 0.0110\n",
            "Epoch 173/200\n",
            "67/67 [==============================] - 9s 142ms/step - loss: 1.0422e-04 - mae: 0.0102\n",
            "Epoch 174/200\n",
            "67/67 [==============================] - 10s 143ms/step - loss: 1.2802e-04 - mae: 0.0115\n",
            "Epoch 175/200\n",
            "67/67 [==============================] - 9s 136ms/step - loss: 1.0657e-04 - mae: 0.0104\n",
            "Epoch 176/200\n",
            "67/67 [==============================] - 10s 142ms/step - loss: 1.3303e-04 - mae: 0.0116\n",
            "Epoch 177/200\n",
            "67/67 [==============================] - 12s 170ms/step - loss: 1.2441e-04 - mae: 0.0118\n",
            "Epoch 178/200\n",
            "67/67 [==============================] - 11s 163ms/step - loss: 1.2966e-04 - mae: 0.0114\n",
            "Epoch 179/200\n",
            "67/67 [==============================] - 11s 156ms/step - loss: 1.2859e-04 - mae: 0.0121\n",
            "Epoch 180/200\n",
            "67/67 [==============================] - 9s 131ms/step - loss: 1.3303e-04 - mae: 0.0117\n",
            "Epoch 181/200\n",
            "67/67 [==============================] - 10s 135ms/step - loss: 1.3143e-04 - mae: 0.0123\n",
            "Epoch 182/200\n",
            "67/67 [==============================] - 8s 118ms/step - loss: 1.2758e-04 - mae: 0.0114\n",
            "Epoch 183/200\n",
            "67/67 [==============================] - 9s 129ms/step - loss: 1.2844e-04 - mae: 0.0120\n",
            "Epoch 184/200\n",
            "67/67 [==============================] - 9s 127ms/step - loss: 1.1335e-04 - mae: 0.0108\n",
            "Epoch 185/200\n",
            "67/67 [==============================] - 10s 153ms/step - loss: 1.1006e-04 - mae: 0.0107\n",
            "Epoch 186/200\n",
            "67/67 [==============================] - 11s 164ms/step - loss: 1.1031e-04 - mae: 0.0104\n",
            "Epoch 187/200\n",
            "67/67 [==============================] - 12s 166ms/step - loss: 1.0431e-04 - mae: 0.0102\n",
            "Epoch 188/200\n",
            "67/67 [==============================] - 11s 157ms/step - loss: 1.0358e-04 - mae: 0.0101\n",
            "Epoch 189/200\n",
            "67/67 [==============================] - 11s 169ms/step - loss: 1.0410e-04 - mae: 0.0102\n",
            "Epoch 190/200\n",
            "67/67 [==============================] - 10s 143ms/step - loss: 1.0745e-04 - mae: 0.0103\n",
            "Epoch 191/200\n",
            "67/67 [==============================] - 10s 143ms/step - loss: 1.0605e-04 - mae: 0.0105\n",
            "Epoch 192/200\n",
            "67/67 [==============================] - 11s 158ms/step - loss: 1.1281e-04 - mae: 0.0104\n",
            "Epoch 193/200\n",
            "67/67 [==============================] - 9s 142ms/step - loss: 1.0996e-04 - mae: 0.0108\n",
            "Epoch 194/200\n",
            "67/67 [==============================] - 11s 154ms/step - loss: 1.8945e-04 - mae: 0.0131\n",
            "Epoch 195/200\n",
            "67/67 [==============================] - 8s 110ms/step - loss: 2.5614e-04 - mae: 0.0180\n",
            "Epoch 196/200\n",
            "67/67 [==============================] - 9s 131ms/step - loss: 1.7938e-04 - mae: 0.0142\n",
            "Epoch 197/200\n",
            "67/67 [==============================] - 10s 143ms/step - loss: 1.7320e-04 - mae: 0.0143\n",
            "Epoch 198/200\n",
            "67/67 [==============================] - 11s 163ms/step - loss: 1.1585e-04 - mae: 0.0108\n",
            "Epoch 199/200\n",
            "67/67 [==============================] - 12s 172ms/step - loss: 1.5233e-04 - mae: 0.0133\n",
            "Epoch 200/200\n",
            "67/67 [==============================] - 8s 120ms/step - loss: 1.0198e-04 - mae: 0.0100\n"
          ]
        },
        {
          "output_type": "execute_result",
          "data": {
            "text/plain": [
              "<keras.callbacks.History at 0x7f1d83fe5790>"
            ]
          },
          "metadata": {},
          "execution_count": 68
        }
      ]
    },
    {
      "cell_type": "code",
      "source": [
        "print(cnn_lstm.summary())"
      ],
      "metadata": {
        "id": "JRRKJ2VswVHY",
        "colab": {
          "base_uri": "https://localhost:8080/"
        },
        "outputId": "d561a4e4-3668-425a-9aae-3dd46e0dbee4"
      },
      "execution_count": 69,
      "outputs": [
        {
          "output_type": "stream",
          "name": "stdout",
          "text": [
            "Model: \"sequential_1\"\n",
            "_________________________________________________________________\n",
            " Layer (type)                Output Shape              Param #   \n",
            "=================================================================\n",
            " conv1d_1 (Conv1D)           (None, 250, 1024)         3072      \n",
            "                                                                 \n",
            " max_pooling1d_1 (MaxPooling  (None, 250, 1024)        0         \n",
            " 1D)                                                             \n",
            "                                                                 \n",
            " lstm_1 (LSTM)               (None, 200)               980000    \n",
            "                                                                 \n",
            " dense_3 (Dense)             (None, 50)                10050     \n",
            "                                                                 \n",
            " dense_4 (Dense)             (None, 10)                510       \n",
            "                                                                 \n",
            " dense_5 (Dense)             (None, 1)                 11        \n",
            "                                                                 \n",
            "=================================================================\n",
            "Total params: 993,643\n",
            "Trainable params: 993,643\n",
            "Non-trainable params: 0\n",
            "_________________________________________________________________\n",
            "None\n"
          ]
        }
      ]
    },
    {
      "cell_type": "code",
      "source": [
        "# Compute the forecast for all the series\n",
        "cnn_lstm_forecast = model_forecast(cnn_lstm, series_norm, G.WINDOW_SIZE).squeeze()\n",
        "\n",
        "# Slice the forecast to get only the predictions for the validation set\n",
        "series_test_hat_cnn_lstm = cnn_lstm_forecast[-150:]\n",
        "series_test_hat_cnn_lstm = reverse_normalization(series_test_hat_cnn_lstm)"
      ],
      "metadata": {
        "id": "54nm9-qaAU9o"
      },
      "execution_count": 99,
      "outputs": []
    },
    {
      "cell_type": "code",
      "source": [
        "# Plot the forecast\n",
        "\n",
        "plt.figure(figsize=(10, 6))\n",
        "plot_series(np.arange( 1, len(time_test)+1 ), series_test)\n",
        "plot_series(np.arange( 1, len(time_test)+1 ), series_test_hat_cnn_lstm)\n",
        "plt.ylabel(\"Index Value\")\n",
        "plt.xlabel(\"Time Step\")\n",
        "legend_drawn_flag = True\n",
        "plt.legend([\"Original Value (DJIA)\", \"Predicted Value (DJIA)\"], loc=0, frameon=legend_drawn_flag)\n",
        "plt.savefig(\"/content/gdrive/MyDrive/Forecasting_results/cnn_lstm_forecasts.svg\")"
      ],
      "metadata": {
        "colab": {
          "base_uri": "https://localhost:8080/",
          "height": 388
        },
        "id": "aunNgSHlJ7A6",
        "outputId": "6757c750-3bf6-4482-a3df-7a36b29747c5"
      },
      "execution_count": 104,
      "outputs": [
        {
          "output_type": "display_data",
          "data": {
            "text/plain": [
              "<Figure size 720x432 with 1 Axes>"
            ],
            "image/png": "[encoded data removed]"
          },
          "metadata": {
            "needs_background": "light"
          }
        }
      ]
    },
    {
      "cell_type": "code",
      "source": [
        "rmse_cnn_lstm, mae_cnn_lstm, mape_cnn_lstm= compute_metrics(series_test, series_test_hat_cnn_lstm)\n",
        "\n",
        "print(f\"mse: {rmse_cnn_lstm:.2f}, mae: {mae_cnn_lstm:.2f} , mape: {mape_cnn_lstm:.2f} for forecast\")"
      ],
      "metadata": {
        "id": "hW0VZCxdAVjO",
        "colab": {
          "base_uri": "https://localhost:8080/"
        },
        "outputId": "9a55f380-3ebd-4b43-8bd2-dd70408d4de8"
      },
      "execution_count": 118,
      "outputs": [
        {
          "output_type": "stream",
          "name": "stdout",
          "text": [
            "mse: 101.35, mae: 87.53 , mape: 0.33 for forecast\n"
          ]
        }
      ]
    },
    {
      "cell_type": "code",
      "source": [
        "# Save model\n",
        "cnn_lstm.save('/content/gdrive/MyDrive/Saved_models/cnn_lstm.h5')"
      ],
      "metadata": {
        "id": "ZTLG7OoYmWjD"
      },
      "execution_count": 125,
      "outputs": []
    },
    {
      "cell_type": "markdown",
      "source": [
        "## Camparison"
      ],
      "metadata": {
        "id": "15FrV8PMAimg"
      }
    },
    {
      "cell_type": "markdown",
      "source": [
        "Compare our proposed Capsnet-LSTM with LSTM and CNN-LSTM"
      ],
      "metadata": {
        "id": "Z330X9SE8RWm"
      }
    },
    {
      "cell_type": "markdown",
      "source": [
        "### Three forecasting results in one figure:"
      ],
      "metadata": {
        "id": "x8SF-DmK78l9"
      }
    },
    {
      "cell_type": "code",
      "source": [
        "plt.figure(figsize=(30, 20))\n",
        "plot_series(np.arange( 1, len(time_test)+1 ), series_test)\n",
        "plot_series(np.arange( 1, len(time_test)+1 ), series_test_hat_capsnet_lstm)\n",
        "plot_series(np.arange( 1, len(time_test)+1 ), series_test_hat_lstm)\n",
        "plot_series(np.arange( 1, len(time_test)+1 ), series_test_hat_cnn_lstm)\n",
        "plt.ylabel(\"Index Value\")\n",
        "plt.xlabel(\"Time Step\")\n",
        "legend_drawn_flag = True\n",
        "plt.legend([\"Original Value\", \"Predicted Value (CapsNet-LSTM)\",\"Predicted Value (LSTM)\",\"Predicted Value (CNN-LSTM)\"], loc=0, frameon=legend_drawn_flag)\n",
        "plt.savefig(\"/content/gdrive/MyDrive/Forecasting_results/all_together_forecasts.svg\")"
      ],
      "metadata": {
        "id": "rNCmNekCAuAF",
        "colab": {
          "base_uri": "https://localhost:8080/",
          "height": 990
        },
        "outputId": "3bc239dc-4444-4d62-e550-561caa5beb5f"
      },
      "execution_count": 106,
      "outputs": [
        {
          "output_type": "display_data",
          "data": {
            "text/plain": [
              "<Figure size 2160x1440 with 1 Axes>"
            ],
            "image/png": "[encoded data removed]"
          },
          "metadata": {
            "needs_background": "light"
          }
        }
      ]
    },
    {
      "cell_type": "markdown",
      "source": [
        "### Compare the rmse, mae mape"
      ],
      "metadata": {
        "id": "3frHiK9N8F87"
      }
    },
    {
      "cell_type": "code",
      "source": [
        "# Print RMSE\n",
        "\n",
        "print(rmse_capsnet_lstm)\n",
        "print(rmse_lstm)\n",
        "print(rmse_cnn_lstm)"
      ],
      "metadata": {
        "id": "JzlMIn_iAt7w",
        "colab": {
          "base_uri": "https://localhost:8080/"
        },
        "outputId": "f0beb7a8-b667-4110-e682-e0a9dd831efe"
      },
      "execution_count": 119,
      "outputs": [
        {
          "output_type": "stream",
          "name": "stdout",
          "text": [
            "48.38981\n",
            "68.82716\n",
            "101.34581\n"
          ]
        }
      ]
    },
    {
      "cell_type": "code",
      "source": [
        "# Print MAE\n",
        "\n",
        "print(mae_capsnet_lstm)\n",
        "print(mae_lstm)\n",
        "print(mae_cnn_lstm)"
      ],
      "metadata": {
        "colab": {
          "base_uri": "https://localhost:8080/"
        },
        "id": "DbjZwg30MfWH",
        "outputId": "fa7ff773-accf-4b85-989f-447c290d347a"
      },
      "execution_count": 120,
      "outputs": [
        {
          "output_type": "stream",
          "name": "stdout",
          "text": [
            "38.475155\n",
            "58.62129\n",
            "87.5316\n"
          ]
        }
      ]
    },
    {
      "cell_type": "code",
      "source": [
        "# Print MAPE\n",
        "\n",
        "print(mape_capsnet_lstm)\n",
        "print(mape_lstm)\n",
        "print(mape_cnn_lstm)"
      ],
      "metadata": {
        "colab": {
          "base_uri": "https://localhost:8080/"
        },
        "id": "_oui7lBDMWo7",
        "outputId": "aae8c9a8-cc12-471e-874a-f472adf685c5"
      },
      "execution_count": 121,
      "outputs": [
        {
          "output_type": "stream",
          "name": "stdout",
          "text": [
            "0.14213905\n",
            "0.2197646\n",
            "0.32844836\n"
          ]
        }
      ]
    }
  ],
  "metadata": {
    "kernelspec": {
      "display_name": "Python 3",
      "language": "python",
      "name": "python3"
    },
    "language_info": {
      "codemirror_mode": {
        "name": "ipython",
        "version": 3
      },
      "file_extension": ".py",
      "mimetype": "text/x-python",
      "name": "python",
      "nbconvert_exporter": "python",
      "pygments_lexer": "ipython3",
      "version": "3.8.8"
    },
    "colab": {
      "name": "CapsNet_LSTM.ipynb",
      "provenance": [],
      "collapsed_sections": [],
      "machine_shape": "hm",
      "include_colab_link": true
    },
    "accelerator": "TPU",
    "gpuClass": "standard"
  },
  "nbformat": 4,
  "nbformat_minor": 0
}
