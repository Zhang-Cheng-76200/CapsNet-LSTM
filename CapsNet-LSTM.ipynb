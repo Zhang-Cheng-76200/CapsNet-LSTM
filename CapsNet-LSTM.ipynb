{
  "cells": [
    {
      "cell_type": "markdown",
      "metadata": {
        "id": "view-in-github",
        "colab_type": "text"
      },
      "source": [
        "<a href=\"https://colab.research.google.com/github/Orangefox76200/EMD-Capsule-LSTM/blob/main/CapsNet-LSTM.ipynb\" target=\"_parent\"><img src=\"https://colab.research.google.com/assets/colab-badge.svg\" alt=\"Open In Colab\"/></a>"
      ]
    },
    {
      "cell_type": "markdown",
      "metadata": {
        "id": "mSX0wwNCwWRa"
      },
      "source": [
        "## CapsNet-LSTM\n"
      ]
    },
    {
      "cell_type": "markdown",
      "metadata": {
        "id": "RRueEVZEaab3"
      },
      "source": [
        "## Install and import packages"
      ]
    },
    {
      "cell_type": "markdown",
      "metadata": {
        "id": "zMmfUkbM6xEk"
      },
      "source": [
        "Install pyEMD (EMD-signal 1.2.3)"
      ]
    },
    {
      "cell_type": "code",
      "execution_count": 1,
      "metadata": {
        "colab": {
          "base_uri": "https://localhost:8080/"
        },
        "id": "3_OAd5_-6wci",
        "outputId": "25c0a8db-4295-475f-b7f6-c6d979ee1a1e"
      },
      "outputs": [
        {
          "output_type": "stream",
          "name": "stdout",
          "text": [
            "Looking in indexes: https://pypi.org/simple, https://us-python.pkg.dev/colab-wheels/public/simple/\n",
            "Collecting EMD-signal\n",
            "  Downloading EMD_signal-1.2.3-py3-none-any.whl (64 kB)\n",
            "\u001b[K     |████████████████████████████████| 64 kB 2.0 MB/s \n",
            "\u001b[?25hRequirement already satisfied: numpy>=1.12 in /usr/local/lib/python3.7/dist-packages (from EMD-signal) (1.21.6)\n",
            "Requirement already satisfied: scipy>=0.19 in /usr/local/lib/python3.7/dist-packages (from EMD-signal) (1.7.3)\n",
            "Collecting pathos>=0.2.1\n",
            "  Downloading pathos-0.2.9-py3-none-any.whl (76 kB)\n",
            "\u001b[K     |████████████████████████████████| 76 kB 4.2 MB/s \n",
            "\u001b[?25hCollecting multiprocess>=0.70.13\n",
            "  Downloading multiprocess-0.70.13-py37-none-any.whl (115 kB)\n",
            "\u001b[K     |████████████████████████████████| 115 kB 46.7 MB/s \n",
            "\u001b[?25hCollecting pox>=0.3.1\n",
            "  Downloading pox-0.3.1-py2.py3-none-any.whl (28 kB)\n",
            "Collecting ppft>=1.7.6.5\n",
            "  Downloading ppft-1.7.6.5-py2.py3-none-any.whl (52 kB)\n",
            "\u001b[K     |████████████████████████████████| 52 kB 1.1 MB/s \n",
            "\u001b[?25hRequirement already satisfied: dill>=0.3.5.1 in /usr/local/lib/python3.7/dist-packages (from pathos>=0.2.1->EMD-signal) (0.3.5.1)\n",
            "Requirement already satisfied: six>=1.7.3 in /usr/local/lib/python3.7/dist-packages (from ppft>=1.7.6.5->pathos>=0.2.1->EMD-signal) (1.15.0)\n",
            "Installing collected packages: ppft, pox, multiprocess, pathos, EMD-signal\n",
            "Successfully installed EMD-signal-1.2.3 multiprocess-0.70.13 pathos-0.2.9 pox-0.3.1 ppft-1.7.6.5\n"
          ]
        }
      ],
      "source": [
        "!pip install EMD-signal"
      ]
    },
    {
      "cell_type": "code",
      "execution_count": 2,
      "metadata": {
        "colab": {
          "base_uri": "https://localhost:8080/"
        },
        "id": "r0U4Nj6dVZXT",
        "outputId": "0ca1e88c-f50e-4823-8f30-f0f7469abedf"
      },
      "outputs": [
        {
          "output_type": "stream",
          "name": "stdout",
          "text": [
            "Looking in indexes: https://pypi.org/simple, https://us-python.pkg.dev/colab-wheels/public/simple/\n",
            "Collecting keras-utils\n",
            "  Downloading keras-utils-1.0.13.tar.gz (2.4 kB)\n",
            "Requirement already satisfied: Keras>=2.1.5 in /usr/local/lib/python3.7/dist-packages (from keras-utils) (2.8.0)\n",
            "Building wheels for collected packages: keras-utils\n",
            "  Building wheel for keras-utils (setup.py) ... \u001b[?25l\u001b[?25hdone\n",
            "  Created wheel for keras-utils: filename=keras_utils-1.0.13-py3-none-any.whl size=2656 sha256=70d45ae32f0b87bf0549d7475cb4915b99e868771e38c409bed96821450e9ebc\n",
            "  Stored in directory: /root/.cache/pip/wheels/d0/dd/3b/493952a5240d486a83805d65360dedadbadeae71d25e2c877f\n",
            "Successfully built keras-utils\n",
            "Installing collected packages: keras-utils\n",
            "Successfully installed keras-utils-1.0.13\n"
          ]
        }
      ],
      "source": [
        "!pip install keras-utils"
      ]
    },
    {
      "cell_type": "code",
      "execution_count": 3,
      "metadata": {
        "id": "D1IdHd-NOmsJ"
      },
      "outputs": [],
      "source": [
        "#!pip list"
      ]
    },
    {
      "cell_type": "markdown",
      "metadata": {
        "id": "Xz1kL_zQk2xf"
      },
      "source": [
        "Import Packages"
      ]
    },
    {
      "cell_type": "code",
      "execution_count": 4,
      "metadata": {
        "id": "xDgncICuXnfw"
      },
      "outputs": [],
      "source": [
        "import tensorflow as tf\n",
        "from tensorflow import keras\n",
        "from tensorflow.keras import layers\n",
        "import pandas as pd\n",
        "import numpy as np\n",
        "from PyEMD import EMD , Visualisation\n",
        "from PyEMD import EEMD\n",
        "from PyEMD import CEEMDAN\n",
        "from matplotlib import pyplot as plt"
      ]
    },
    {
      "cell_type": "markdown",
      "metadata": {
        "id": "KEnabwKgaOi5"
      },
      "source": [
        "## Select the time series from raw data"
      ]
    },
    {
      "cell_type": "markdown",
      "metadata": {
        "id": "jrF_Re5ii1Co"
      },
      "source": [
        "Stock Index Dataset: DJIA (Jan 04,2010-Dec 31,2019)\n",
        "\n",
        "Upload **Orangefox76200/EMD-Capsule-LSTM/DJIA.xlsx** (Github) to Google Drive, then import it from Google Drive to EMD_Capsule_LSTM.ipynb"
      ]
    },
    {
      "cell_type": "code",
      "execution_count": 5,
      "metadata": {
        "colab": {
          "base_uri": "https://localhost:8080/",
          "height": 441
        },
        "id": "7FD_RJZwKbVZ",
        "outputId": "12d0a19f-96a1-4489-bd63-ae603e50c75b"
      },
      "outputs": [
        {
          "output_type": "stream",
          "name": "stdout",
          "text": [
            "Mounted at gdrive\n"
          ]
        },
        {
          "output_type": "execute_result",
          "data": {
            "text/plain": [
              "              Date      Open      High       Low     Close     Volume\n",
              "0     Jan 04, 2010  10430.69  10604.97  10430.69  10583.96  179780000\n",
              "1     Jan 05, 2010  10584.56  10584.56  10522.52  10572.02  188540000\n",
              "2     Jan 06, 2010  10564.72  10594.99  10546.55  10573.68  186040000\n",
              "3     Jan 07, 2010  10571.11  10612.37  10505.21  10606.86  217390000\n",
              "4     Jan 08, 2010  10606.40  10619.40  10554.33  10618.19  172710000\n",
              "...            ...       ...       ...       ...       ...        ...\n",
              "2511  Dec 24, 2019  28572.57  28576.80  28503.21  28515.45   86150000\n",
              "2512  Dec 26, 2019  28539.46  28624.10  28535.15  28621.39  155970000\n",
              "2513  Dec 27, 2019  28675.34  28701.66  28608.98  28645.26  182280000\n",
              "2514  Dec 30, 2019  28654.76  28664.69  28428.98  28462.14  181600000\n",
              "2515  Dec 31, 2019  28414.64  28547.35  28376.49  28538.44  193340000\n",
              "\n",
              "[2516 rows x 6 columns]"
            ],
            "text/html": [
              "\n",
              "  <div id=\"df-621208e6-44dc-495c-8d60-bef4650ca111\">\n",
              "    <div class=\"colab-df-container\">\n",
              "      <div>\n",
              "<style scoped>\n",
              "    .dataframe tbody tr th:only-of-type {\n",
              "        vertical-align: middle;\n",
              "    }\n",
              "\n",
              "    .dataframe tbody tr th {\n",
              "        vertical-align: top;\n",
              "    }\n",
              "\n",
              "    .dataframe thead th {\n",
              "        text-align: right;\n",
              "    }\n",
              "</style>\n",
              "<table border=\"1\" class=\"dataframe\">\n",
              "  <thead>\n",
              "    <tr style=\"text-align: right;\">\n",
              "      <th></th>\n",
              "      <th>Date</th>\n",
              "      <th>Open</th>\n",
              "      <th>High</th>\n",
              "      <th>Low</th>\n",
              "      <th>Close</th>\n",
              "      <th>Volume</th>\n",
              "    </tr>\n",
              "  </thead>\n",
              "  <tbody>\n",
              "    <tr>\n",
              "      <th>0</th>\n",
              "      <td>Jan 04, 2010</td>\n",
              "      <td>10430.69</td>\n",
              "      <td>10604.97</td>\n",
              "      <td>10430.69</td>\n",
              "      <td>10583.96</td>\n",
              "      <td>179780000</td>\n",
              "    </tr>\n",
              "    <tr>\n",
              "      <th>1</th>\n",
              "      <td>Jan 05, 2010</td>\n",
              "      <td>10584.56</td>\n",
              "      <td>10584.56</td>\n",
              "      <td>10522.52</td>\n",
              "      <td>10572.02</td>\n",
              "      <td>188540000</td>\n",
              "    </tr>\n",
              "    <tr>\n",
              "      <th>2</th>\n",
              "      <td>Jan 06, 2010</td>\n",
              "      <td>10564.72</td>\n",
              "      <td>10594.99</td>\n",
              "      <td>10546.55</td>\n",
              "      <td>10573.68</td>\n",
              "      <td>186040000</td>\n",
              "    </tr>\n",
              "    <tr>\n",
              "      <th>3</th>\n",
              "      <td>Jan 07, 2010</td>\n",
              "      <td>10571.11</td>\n",
              "      <td>10612.37</td>\n",
              "      <td>10505.21</td>\n",
              "      <td>10606.86</td>\n",
              "      <td>217390000</td>\n",
              "    </tr>\n",
              "    <tr>\n",
              "      <th>4</th>\n",
              "      <td>Jan 08, 2010</td>\n",
              "      <td>10606.40</td>\n",
              "      <td>10619.40</td>\n",
              "      <td>10554.33</td>\n",
              "      <td>10618.19</td>\n",
              "      <td>172710000</td>\n",
              "    </tr>\n",
              "    <tr>\n",
              "      <th>...</th>\n",
              "      <td>...</td>\n",
              "      <td>...</td>\n",
              "      <td>...</td>\n",
              "      <td>...</td>\n",
              "      <td>...</td>\n",
              "      <td>...</td>\n",
              "    </tr>\n",
              "    <tr>\n",
              "      <th>2511</th>\n",
              "      <td>Dec 24, 2019</td>\n",
              "      <td>28572.57</td>\n",
              "      <td>28576.80</td>\n",
              "      <td>28503.21</td>\n",
              "      <td>28515.45</td>\n",
              "      <td>86150000</td>\n",
              "    </tr>\n",
              "    <tr>\n",
              "      <th>2512</th>\n",
              "      <td>Dec 26, 2019</td>\n",
              "      <td>28539.46</td>\n",
              "      <td>28624.10</td>\n",
              "      <td>28535.15</td>\n",
              "      <td>28621.39</td>\n",
              "      <td>155970000</td>\n",
              "    </tr>\n",
              "    <tr>\n",
              "      <th>2513</th>\n",
              "      <td>Dec 27, 2019</td>\n",
              "      <td>28675.34</td>\n",
              "      <td>28701.66</td>\n",
              "      <td>28608.98</td>\n",
              "      <td>28645.26</td>\n",
              "      <td>182280000</td>\n",
              "    </tr>\n",
              "    <tr>\n",
              "      <th>2514</th>\n",
              "      <td>Dec 30, 2019</td>\n",
              "      <td>28654.76</td>\n",
              "      <td>28664.69</td>\n",
              "      <td>28428.98</td>\n",
              "      <td>28462.14</td>\n",
              "      <td>181600000</td>\n",
              "    </tr>\n",
              "    <tr>\n",
              "      <th>2515</th>\n",
              "      <td>Dec 31, 2019</td>\n",
              "      <td>28414.64</td>\n",
              "      <td>28547.35</td>\n",
              "      <td>28376.49</td>\n",
              "      <td>28538.44</td>\n",
              "      <td>193340000</td>\n",
              "    </tr>\n",
              "  </tbody>\n",
              "</table>\n",
              "<p>2516 rows × 6 columns</p>\n",
              "</div>\n",
              "      <button class=\"colab-df-convert\" onclick=\"convertToInteractive('df-621208e6-44dc-495c-8d60-bef4650ca111')\"\n",
              "              title=\"Convert this dataframe to an interactive table.\"\n",
              "              style=\"display:none;\">\n",
              "        \n",
              "  <svg xmlns=\"http://www.w3.org/2000/svg\" height=\"24px\"viewBox=\"0 0 24 24\"\n",
              "       width=\"24px\">\n",
              "    <path d=\"M0 0h24v24H0V0z\" fill=\"none\"/>\n",
              "    <path d=\"M18.56 5.44l.94 2.06.94-2.06 2.06-.94-2.06-.94-.94-2.06-.94 2.06-2.06.94zm-11 1L8.5 8.5l.94-2.06 2.06-.94-2.06-.94L8.5 2.5l-.94 2.06-2.06.94zm10 10l.94 2.06.94-2.06 2.06-.94-2.06-.94-.94-2.06-.94 2.06-2.06.94z\"/><path d=\"M17.41 7.96l-1.37-1.37c-.4-.4-.92-.59-1.43-.59-.52 0-1.04.2-1.43.59L10.3 9.45l-7.72 7.72c-.78.78-.78 2.05 0 2.83L4 21.41c.39.39.9.59 1.41.59.51 0 1.02-.2 1.41-.59l7.78-7.78 2.81-2.81c.8-.78.8-2.07 0-2.86zM5.41 20L4 18.59l7.72-7.72 1.47 1.35L5.41 20z\"/>\n",
              "  </svg>\n",
              "      </button>\n",
              "      \n",
              "  <style>\n",
              "    .colab-df-container {\n",
              "      display:flex;\n",
              "      flex-wrap:wrap;\n",
              "      gap: 12px;\n",
              "    }\n",
              "\n",
              "    .colab-df-convert {\n",
              "      background-color: #E8F0FE;\n",
              "      border: none;\n",
              "      border-radius: 50%;\n",
              "      cursor: pointer;\n",
              "      display: none;\n",
              "      fill: #1967D2;\n",
              "      height: 32px;\n",
              "      padding: 0 0 0 0;\n",
              "      width: 32px;\n",
              "    }\n",
              "\n",
              "    .colab-df-convert:hover {\n",
              "      background-color: #E2EBFA;\n",
              "      box-shadow: 0px 1px 2px rgba(60, 64, 67, 0.3), 0px 1px 3px 1px rgba(60, 64, 67, 0.15);\n",
              "      fill: #174EA6;\n",
              "    }\n",
              "\n",
              "    [theme=dark] .colab-df-convert {\n",
              "      background-color: #3B4455;\n",
              "      fill: #D2E3FC;\n",
              "    }\n",
              "\n",
              "    [theme=dark] .colab-df-convert:hover {\n",
              "      background-color: #434B5C;\n",
              "      box-shadow: 0px 1px 3px 1px rgba(0, 0, 0, 0.15);\n",
              "      filter: drop-shadow(0px 1px 2px rgba(0, 0, 0, 0.3));\n",
              "      fill: #FFFFFF;\n",
              "    }\n",
              "  </style>\n",
              "\n",
              "      <script>\n",
              "        const buttonEl =\n",
              "          document.querySelector('#df-621208e6-44dc-495c-8d60-bef4650ca111 button.colab-df-convert');\n",
              "        buttonEl.style.display =\n",
              "          google.colab.kernel.accessAllowed ? 'block' : 'none';\n",
              "\n",
              "        async function convertToInteractive(key) {\n",
              "          const element = document.querySelector('#df-621208e6-44dc-495c-8d60-bef4650ca111');\n",
              "          const dataTable =\n",
              "            await google.colab.kernel.invokeFunction('convertToInteractive',\n",
              "                                                     [key], {});\n",
              "          if (!dataTable) return;\n",
              "\n",
              "          const docLinkHtml = 'Like what you see? Visit the ' +\n",
              "            '<a target=\"_blank\" href=https://colab.research.google.com/notebooks/data_table.ipynb>data table notebook</a>'\n",
              "            + ' to learn more about interactive tables.';\n",
              "          element.innerHTML = '';\n",
              "          dataTable['output_type'] = 'display_data';\n",
              "          await google.colab.output.renderOutput(dataTable, element);\n",
              "          const docLink = document.createElement('div');\n",
              "          docLink.innerHTML = docLinkHtml;\n",
              "          element.appendChild(docLink);\n",
              "        }\n",
              "      </script>\n",
              "    </div>\n",
              "  </div>\n",
              "  "
            ]
          },
          "metadata": {},
          "execution_count": 5
        }
      ],
      "source": [
        "from google.colab import drive\n",
        "drive.mount ('gdrive')\n",
        "DJIA_raw = pd.read_excel ('gdrive/MyDrive/Colab Notebooks/DJIA.xlsx')\n",
        "DJIA_raw"
      ]
    },
    {
      "cell_type": "code",
      "execution_count": 6,
      "metadata": {
        "colab": {
          "base_uri": "https://localhost:8080/"
        },
        "id": "Kxhn0aFTvFSa",
        "outputId": "633507c2-1471-4c18-a7eb-460334b9f393"
      },
      "outputs": [
        {
          "output_type": "execute_result",
          "data": {
            "text/plain": [
              "(2516, 6)"
            ]
          },
          "metadata": {},
          "execution_count": 6
        }
      ],
      "source": [
        "DJIA_raw.shape"
      ]
    },
    {
      "cell_type": "code",
      "execution_count": 7,
      "metadata": {
        "colab": {
          "base_uri": "https://localhost:8080/"
        },
        "id": "BBowUaJcq-by",
        "outputId": "d24916b2-e576-4f8f-bac2-a68049fd580c"
      },
      "outputs": [
        {
          "output_type": "execute_result",
          "data": {
            "text/plain": [
              "2"
            ]
          },
          "metadata": {},
          "execution_count": 7
        }
      ],
      "source": [
        "DJIA_raw.ndim"
      ]
    },
    {
      "cell_type": "code",
      "execution_count": 8,
      "metadata": {
        "colab": {
          "base_uri": "https://localhost:8080/"
        },
        "id": "sTGzHSEdv0Nq",
        "outputId": "cffabe9c-bce3-43fe-969b-dac420ba1a77"
      },
      "outputs": [
        {
          "output_type": "execute_result",
          "data": {
            "text/plain": [
              "Date       object\n",
              "Open      float64\n",
              "High      float64\n",
              "Low       float64\n",
              "Close     float64\n",
              "Volume      int64\n",
              "dtype: object"
            ]
          },
          "metadata": {},
          "execution_count": 8
        }
      ],
      "source": [
        "DJIA_raw.dtypes"
      ]
    },
    {
      "cell_type": "code",
      "execution_count": 9,
      "metadata": {
        "colab": {
          "base_uri": "https://localhost:8080/",
          "height": 300
        },
        "id": "RYiYWK1sztXK",
        "outputId": "9806787c-cf22-4a0f-bd07-ad99387955ac"
      },
      "outputs": [
        {
          "output_type": "execute_result",
          "data": {
            "text/plain": [
              "               Open          High           Low         Close        Volume\n",
              "count   2516.000000   2516.000000   2516.000000   2516.000000  2.516000e+03\n",
              "mean   17601.997731  17686.674499  17513.448593  17606.741574  1.895687e+08\n",
              "std     5148.425951   5162.804510   5131.962418   5147.050108  1.106612e+08\n",
              "min     9686.480000   9770.870000   9614.320000   9686.480000  8.410000e+06\n",
              "25%    12977.190000  13044.985000  12921.337500  12981.207500  1.028275e+08\n",
              "50%    17011.075000  17081.805000  16943.140000  17008.230000  1.516350e+08\n",
              "75%    21426.617500  21488.690000  21383.437500  21411.107500  2.602025e+08\n",
              "max    28675.340000  28701.660000  28608.980000  28645.260000  9.005100e+08"
            ],
            "text/html": [
              "\n",
              "  <div id=\"df-c4e09a7c-cc6c-4a90-ae7a-33a9559bd57c\">\n",
              "    <div class=\"colab-df-container\">\n",
              "      <div>\n",
              "<style scoped>\n",
              "    .dataframe tbody tr th:only-of-type {\n",
              "        vertical-align: middle;\n",
              "    }\n",
              "\n",
              "    .dataframe tbody tr th {\n",
              "        vertical-align: top;\n",
              "    }\n",
              "\n",
              "    .dataframe thead th {\n",
              "        text-align: right;\n",
              "    }\n",
              "</style>\n",
              "<table border=\"1\" class=\"dataframe\">\n",
              "  <thead>\n",
              "    <tr style=\"text-align: right;\">\n",
              "      <th></th>\n",
              "      <th>Open</th>\n",
              "      <th>High</th>\n",
              "      <th>Low</th>\n",
              "      <th>Close</th>\n",
              "      <th>Volume</th>\n",
              "    </tr>\n",
              "  </thead>\n",
              "  <tbody>\n",
              "    <tr>\n",
              "      <th>count</th>\n",
              "      <td>2516.000000</td>\n",
              "      <td>2516.000000</td>\n",
              "      <td>2516.000000</td>\n",
              "      <td>2516.000000</td>\n",
              "      <td>2.516000e+03</td>\n",
              "    </tr>\n",
              "    <tr>\n",
              "      <th>mean</th>\n",
              "      <td>17601.997731</td>\n",
              "      <td>17686.674499</td>\n",
              "      <td>17513.448593</td>\n",
              "      <td>17606.741574</td>\n",
              "      <td>1.895687e+08</td>\n",
              "    </tr>\n",
              "    <tr>\n",
              "      <th>std</th>\n",
              "      <td>5148.425951</td>\n",
              "      <td>5162.804510</td>\n",
              "      <td>5131.962418</td>\n",
              "      <td>5147.050108</td>\n",
              "      <td>1.106612e+08</td>\n",
              "    </tr>\n",
              "    <tr>\n",
              "      <th>min</th>\n",
              "      <td>9686.480000</td>\n",
              "      <td>9770.870000</td>\n",
              "      <td>9614.320000</td>\n",
              "      <td>9686.480000</td>\n",
              "      <td>8.410000e+06</td>\n",
              "    </tr>\n",
              "    <tr>\n",
              "      <th>25%</th>\n",
              "      <td>12977.190000</td>\n",
              "      <td>13044.985000</td>\n",
              "      <td>12921.337500</td>\n",
              "      <td>12981.207500</td>\n",
              "      <td>1.028275e+08</td>\n",
              "    </tr>\n",
              "    <tr>\n",
              "      <th>50%</th>\n",
              "      <td>17011.075000</td>\n",
              "      <td>17081.805000</td>\n",
              "      <td>16943.140000</td>\n",
              "      <td>17008.230000</td>\n",
              "      <td>1.516350e+08</td>\n",
              "    </tr>\n",
              "    <tr>\n",
              "      <th>75%</th>\n",
              "      <td>21426.617500</td>\n",
              "      <td>21488.690000</td>\n",
              "      <td>21383.437500</td>\n",
              "      <td>21411.107500</td>\n",
              "      <td>2.602025e+08</td>\n",
              "    </tr>\n",
              "    <tr>\n",
              "      <th>max</th>\n",
              "      <td>28675.340000</td>\n",
              "      <td>28701.660000</td>\n",
              "      <td>28608.980000</td>\n",
              "      <td>28645.260000</td>\n",
              "      <td>9.005100e+08</td>\n",
              "    </tr>\n",
              "  </tbody>\n",
              "</table>\n",
              "</div>\n",
              "      <button class=\"colab-df-convert\" onclick=\"convertToInteractive('df-c4e09a7c-cc6c-4a90-ae7a-33a9559bd57c')\"\n",
              "              title=\"Convert this dataframe to an interactive table.\"\n",
              "              style=\"display:none;\">\n",
              "        \n",
              "  <svg xmlns=\"http://www.w3.org/2000/svg\" height=\"24px\"viewBox=\"0 0 24 24\"\n",
              "       width=\"24px\">\n",
              "    <path d=\"M0 0h24v24H0V0z\" fill=\"none\"/>\n",
              "    <path d=\"M18.56 5.44l.94 2.06.94-2.06 2.06-.94-2.06-.94-.94-2.06-.94 2.06-2.06.94zm-11 1L8.5 8.5l.94-2.06 2.06-.94-2.06-.94L8.5 2.5l-.94 2.06-2.06.94zm10 10l.94 2.06.94-2.06 2.06-.94-2.06-.94-.94-2.06-.94 2.06-2.06.94z\"/><path d=\"M17.41 7.96l-1.37-1.37c-.4-.4-.92-.59-1.43-.59-.52 0-1.04.2-1.43.59L10.3 9.45l-7.72 7.72c-.78.78-.78 2.05 0 2.83L4 21.41c.39.39.9.59 1.41.59.51 0 1.02-.2 1.41-.59l7.78-7.78 2.81-2.81c.8-.78.8-2.07 0-2.86zM5.41 20L4 18.59l7.72-7.72 1.47 1.35L5.41 20z\"/>\n",
              "  </svg>\n",
              "      </button>\n",
              "      \n",
              "  <style>\n",
              "    .colab-df-container {\n",
              "      display:flex;\n",
              "      flex-wrap:wrap;\n",
              "      gap: 12px;\n",
              "    }\n",
              "\n",
              "    .colab-df-convert {\n",
              "      background-color: #E8F0FE;\n",
              "      border: none;\n",
              "      border-radius: 50%;\n",
              "      cursor: pointer;\n",
              "      display: none;\n",
              "      fill: #1967D2;\n",
              "      height: 32px;\n",
              "      padding: 0 0 0 0;\n",
              "      width: 32px;\n",
              "    }\n",
              "\n",
              "    .colab-df-convert:hover {\n",
              "      background-color: #E2EBFA;\n",
              "      box-shadow: 0px 1px 2px rgba(60, 64, 67, 0.3), 0px 1px 3px 1px rgba(60, 64, 67, 0.15);\n",
              "      fill: #174EA6;\n",
              "    }\n",
              "\n",
              "    [theme=dark] .colab-df-convert {\n",
              "      background-color: #3B4455;\n",
              "      fill: #D2E3FC;\n",
              "    }\n",
              "\n",
              "    [theme=dark] .colab-df-convert:hover {\n",
              "      background-color: #434B5C;\n",
              "      box-shadow: 0px 1px 3px 1px rgba(0, 0, 0, 0.15);\n",
              "      filter: drop-shadow(0px 1px 2px rgba(0, 0, 0, 0.3));\n",
              "      fill: #FFFFFF;\n",
              "    }\n",
              "  </style>\n",
              "\n",
              "      <script>\n",
              "        const buttonEl =\n",
              "          document.querySelector('#df-c4e09a7c-cc6c-4a90-ae7a-33a9559bd57c button.colab-df-convert');\n",
              "        buttonEl.style.display =\n",
              "          google.colab.kernel.accessAllowed ? 'block' : 'none';\n",
              "\n",
              "        async function convertToInteractive(key) {\n",
              "          const element = document.querySelector('#df-c4e09a7c-cc6c-4a90-ae7a-33a9559bd57c');\n",
              "          const dataTable =\n",
              "            await google.colab.kernel.invokeFunction('convertToInteractive',\n",
              "                                                     [key], {});\n",
              "          if (!dataTable) return;\n",
              "\n",
              "          const docLinkHtml = 'Like what you see? Visit the ' +\n",
              "            '<a target=\"_blank\" href=https://colab.research.google.com/notebooks/data_table.ipynb>data table notebook</a>'\n",
              "            + ' to learn more about interactive tables.';\n",
              "          element.innerHTML = '';\n",
              "          dataTable['output_type'] = 'display_data';\n",
              "          await google.colab.output.renderOutput(dataTable, element);\n",
              "          const docLink = document.createElement('div');\n",
              "          docLink.innerHTML = docLinkHtml;\n",
              "          element.appendChild(docLink);\n",
              "        }\n",
              "      </script>\n",
              "    </div>\n",
              "  </div>\n",
              "  "
            ]
          },
          "metadata": {},
          "execution_count": 9
        }
      ],
      "source": [
        "DJIA_raw.describe()"
      ]
    },
    {
      "cell_type": "code",
      "execution_count": 10,
      "metadata": {
        "colab": {
          "base_uri": "https://localhost:8080/"
        },
        "id": "0jMNAgbTyXtL",
        "outputId": "34a43f82-aee3-4f1a-c885-cd0b22b667d1"
      },
      "outputs": [
        {
          "output_type": "execute_result",
          "data": {
            "text/plain": [
              "0       10583.96\n",
              "1       10572.02\n",
              "2       10573.68\n",
              "3       10606.86\n",
              "4       10618.19\n",
              "          ...   \n",
              "2511    28515.45\n",
              "2512    28621.39\n",
              "2513    28645.26\n",
              "2514    28462.14\n",
              "2515    28538.44\n",
              "Name: Close, Length: 2516, dtype: float64"
            ]
          },
          "metadata": {},
          "execution_count": 10
        }
      ],
      "source": [
        "DJIA_raw.iloc[:,4]"
      ]
    },
    {
      "cell_type": "markdown",
      "metadata": {
        "id": "ZXdYs-onqWfq"
      },
      "source": [
        "Use the close price as the time series to be predicted."
      ]
    },
    {
      "cell_type": "code",
      "execution_count": 11,
      "metadata": {
        "colab": {
          "base_uri": "https://localhost:8080/"
        },
        "id": "KaFMFoA3pxUh",
        "outputId": "2a2083fc-8f75-48d9-b658-e9f523bb7d65"
      },
      "outputs": [
        {
          "output_type": "execute_result",
          "data": {
            "text/plain": [
              "(2516,)"
            ]
          },
          "metadata": {},
          "execution_count": 11
        }
      ],
      "source": [
        "DJIA_timeseries = DJIA_raw.iloc[:,4]\n",
        "DJIA_timeseries.shape"
      ]
    },
    {
      "cell_type": "code",
      "execution_count": 12,
      "metadata": {
        "colab": {
          "base_uri": "https://localhost:8080/"
        },
        "id": "EJquA9wrvoUL",
        "outputId": "73ec89c4-55d8-4d7a-931d-30f60f6e6099"
      },
      "outputs": [
        {
          "output_type": "execute_result",
          "data": {
            "text/plain": [
              "1"
            ]
          },
          "metadata": {},
          "execution_count": 12
        }
      ],
      "source": [
        "DJIA_timeseries.ndim"
      ]
    },
    {
      "cell_type": "code",
      "execution_count": 13,
      "metadata": {
        "colab": {
          "base_uri": "https://localhost:8080/"
        },
        "id": "BCVdkvGUyn-k",
        "outputId": "a9358d51-4f45-4e94-f597-1f593753e3e7"
      },
      "outputs": [
        {
          "output_type": "execute_result",
          "data": {
            "text/plain": [
              "0       10583.96\n",
              "1       10572.02\n",
              "2       10573.68\n",
              "3       10606.86\n",
              "4       10618.19\n",
              "          ...   \n",
              "2511    28515.45\n",
              "2512    28621.39\n",
              "2513    28645.26\n",
              "2514    28462.14\n",
              "2515    28538.44\n",
              "Name: Close, Length: 2516, dtype: float64"
            ]
          },
          "metadata": {},
          "execution_count": 13
        }
      ],
      "source": [
        "DJIA_timeseries.iloc[:]"
      ]
    },
    {
      "cell_type": "markdown",
      "metadata": {
        "id": "MhlJPaOj80y9"
      },
      "source": [
        "Convert Pandas series to Numpy Array"
      ]
    },
    {
      "cell_type": "code",
      "execution_count": 14,
      "metadata": {
        "colab": {
          "base_uri": "https://localhost:8080/"
        },
        "id": "uUNfEsRK86VY",
        "outputId": "129dcbc5-d56b-4dad-dc5d-bd7d9f0e5b96"
      },
      "outputs": [
        {
          "output_type": "execute_result",
          "data": {
            "text/plain": [
              "(2516,)"
            ]
          },
          "metadata": {},
          "execution_count": 14
        }
      ],
      "source": [
        "DJIA_timeseries_array = DJIA_timeseries.to_numpy()\n",
        "DJIA_timeseries_array.shape\n"
      ]
    },
    {
      "cell_type": "code",
      "execution_count": 15,
      "metadata": {
        "colab": {
          "base_uri": "https://localhost:8080/"
        },
        "id": "b_YgwBUzCEO1",
        "outputId": "5eb78100-7c40-44de-8081-a6d95d26b0b2"
      },
      "outputs": [
        {
          "output_type": "execute_result",
          "data": {
            "text/plain": [
              "dtype('float64')"
            ]
          },
          "metadata": {},
          "execution_count": 15
        }
      ],
      "source": [
        "DJIA_timeseries_array.dtype"
      ]
    },
    {
      "cell_type": "markdown",
      "metadata": {
        "id": "EdiVbQheF6eh"
      },
      "source": [
        "Convert object to float64"
      ]
    },
    {
      "cell_type": "code",
      "execution_count": 16,
      "metadata": {
        "id": "4kuxWm0sEGum"
      },
      "outputs": [],
      "source": [
        "DJIA_timeseries_array = pd.to_numeric(DJIA_timeseries_array)"
      ]
    },
    {
      "cell_type": "code",
      "execution_count": 17,
      "metadata": {
        "colab": {
          "base_uri": "https://localhost:8080/"
        },
        "id": "_jZLPKB0EJv1",
        "outputId": "ec0b8fdf-bfea-48c3-ff56-52ac7eeb57b6"
      },
      "outputs": [
        {
          "output_type": "execute_result",
          "data": {
            "text/plain": [
              "dtype('float64')"
            ]
          },
          "metadata": {},
          "execution_count": 17
        }
      ],
      "source": [
        "DJIA_timeseries_array.dtype"
      ]
    },
    {
      "cell_type": "markdown",
      "metadata": {
        "id": "dHvxYFGDaoQY"
      },
      "source": [
        "## Data splitting"
      ]
    },
    {
      "cell_type": "markdown",
      "metadata": {
        "id": "xJ2hrPb1Klkw"
      },
      "source": [
        "Data splitting: the last 150 samples will be used as the test set. For the rest, the first 80% will be the training set, and the last 20% will be the validation set."
      ]
    },
    {
      "cell_type": "code",
      "execution_count": 18,
      "metadata": {
        "id": "RwO3b7lxJT4M"
      },
      "outputs": [],
      "source": [
        "index_length = len(DJIA_timeseries_array)\n",
        "DJIA_test = DJIA_timeseries_array[(index_length-150) : index_length] # the start index is included, but the end index is not included."
      ]
    },
    {
      "cell_type": "code",
      "execution_count": 19,
      "metadata": {
        "id": "kUxKJIkoapjt"
      },
      "outputs": [],
      "source": [
        "train_start_index = 0\n",
        "train_end_index = round(0.8 * (index_length - 150))"
      ]
    },
    {
      "cell_type": "code",
      "execution_count": 20,
      "metadata": {
        "id": "3I1JRubWdk3_"
      },
      "outputs": [],
      "source": [
        "DJIA_train = DJIA_timeseries_array[0 : train_end_index]"
      ]
    },
    {
      "cell_type": "code",
      "execution_count": 21,
      "metadata": {
        "id": "xNF8C0m8WRUn"
      },
      "outputs": [],
      "source": [
        "validation_start_index = train_end_index\n",
        "validation_end_index = index_length-150\n"
      ]
    },
    {
      "cell_type": "code",
      "execution_count": 22,
      "metadata": {
        "id": "dH-EF8N6dvyj"
      },
      "outputs": [],
      "source": [
        "DJIA_validation = DJIA_timeseries_array[validation_start_index:validation_end_index]"
      ]
    },
    {
      "cell_type": "markdown",
      "metadata": {
        "id": "sztOzK8UgWa9"
      },
      "source": [
        "## Normalization (min-max)\n",
        "\n",
        "Calculate the maximum and the minimum of the training set sequence, then use them to normalize the training set, the validation set, and the test set."
      ]
    },
    {
      "cell_type": "code",
      "execution_count": 23,
      "metadata": {
        "id": "Fitu4QR3hLKy"
      },
      "outputs": [],
      "source": [
        "# normalization of DJIA_train, DJIA_validation, and DJIA_test\n",
        "DJIA_train_norm = (DJIA_train - min(DJIA_train))/(max(DJIA_train) - min(DJIA_train))\n",
        "DJIA_validation_norm = (DJIA_validation - min(DJIA_train))/(max(DJIA_train) - min(DJIA_train))\n",
        "DJIA_test_norm = (DJIA_test - min(DJIA_train))/(max(DJIA_train) - min(DJIA_train))"
      ]
    },
    {
      "cell_type": "markdown",
      "metadata": {
        "id": "bGeZqYA6qH7h"
      },
      "source": [
        "## Build the input sequences. Each sequence contains 250 elements. "
      ]
    },
    {
      "cell_type": "markdown",
      "metadata": {
        "id": "ihIGSBnv52j4"
      },
      "source": [
        "Combine train_norm, validation_norm, and test_norm."
      ]
    },
    {
      "cell_type": "code",
      "execution_count": 24,
      "metadata": {
        "id": "3yNMUA8S512t"
      },
      "outputs": [],
      "source": [
        "# Could combine sequence together, then produce the datasets.\n",
        "DJIA_norm = np.concatenate((DJIA_train_norm, DJIA_validation_norm, DJIA_test_norm), axis = 0)"
      ]
    },
    {
      "cell_type": "markdown",
      "metadata": {
        "id": "OSM9daX-I-nz"
      },
      "source": [
        "For one time series, the input of the model is a sequence with 250 time steps. The output should be a prediction on the next time step. Based on this principle, generate input dataset and target dataset."
      ]
    },
    {
      "cell_type": "markdown",
      "metadata": {
        "id": "wpPBCvTiH6Gh"
      },
      "source": [
        "Input shape\n",
        "\n",
        "3+D tensor with shape: batch_shape + (steps, input_dim)\n",
        "\n",
        "Output shape\n",
        "\n",
        "3+D tensor with shape: batch_shape + (new_steps, filters) steps value might have changed due to padding or strides.\n",
        "\n",
        "Returns\n",
        "\n",
        "A tensor of rank 3 representing activation(conv1d(inputs, kernel) + bias)."
      ]
    },
    {
      "cell_type": "markdown",
      "metadata": {
        "id": "EnWGsuGu_k6f"
      },
      "source": [
        "The input and output of the forecasting model should be array."
      ]
    },
    {
      "cell_type": "code",
      "execution_count": 25,
      "metadata": {
        "id": "QvE3klX9IJU7"
      },
      "outputs": [],
      "source": [
        "# the width of one sequence, could be tuned as one hyper-parameter\n",
        "sequence_width = 250  \n",
        "DJIA_norm_X = np.zeros((index_length-sequence_width, sequence_width),dtype=float)\n",
        "DJIA_norm_Y = np.zeros((index_length-sequence_width, sequence_width),dtype=float)\n",
        "for i in range(index_length-sequence_width):\n",
        "  DJIA_norm_X[i] = DJIA_norm[i:i+sequence_width]\n",
        "  DJIA_norm_Y[i] = DJIA_norm[i+1:i+sequence_width+1]\n",
        "\n",
        "# split the norm_X, and norm_Y to get the corresponding training set, validation set, and test set.\n",
        "# The last 150 samples is test set.\n",
        "DJIA_norm_X_train = DJIA_norm_X[0 : train_end_index-sequence_width]\n",
        "DJIA_norm_Y_train = DJIA_norm_Y[0 : train_end_index-sequence_width]\n",
        "DJIA_norm_X_validation = DJIA_norm_X[train_end_index-sequence_width : validation_end_index-sequence_width]\n",
        "DJIA_norm_Y_validation = DJIA_norm_Y[train_end_index-sequence_width : validation_end_index-sequence_width]\n",
        "DJIA_norm_X_test = DJIA_norm_X[validation_end_index-sequence_width : index_length-sequence_width]\n",
        "DJIA_norm_Y_test = DJIA_norm_Y[validation_end_index-sequence_width : index_length-sequence_width]"
      ]
    },
    {
      "cell_type": "code",
      "execution_count": 26,
      "metadata": {
        "colab": {
          "base_uri": "https://localhost:8080/"
        },
        "id": "wtfFi2RZLEvh",
        "outputId": "25b44f5e-fb26-4c82-8856-892fbc8116ce"
      },
      "outputs": [
        {
          "output_type": "execute_result",
          "data": {
            "text/plain": [
              "(1643, 250)"
            ]
          },
          "metadata": {},
          "execution_count": 26
        }
      ],
      "source": [
        "DJIA_norm_Y_train.shape"
      ]
    },
    {
      "cell_type": "code",
      "execution_count": 27,
      "metadata": {
        "colab": {
          "base_uri": "https://localhost:8080/",
          "height": 282
        },
        "id": "lZyvcrs-ISOF",
        "outputId": "dd2c85af-2b69-4dfe-92b4-0841794ba816"
      },
      "outputs": [
        {
          "output_type": "execute_result",
          "data": {
            "text/plain": [
              "[<matplotlib.lines.Line2D at 0x7f70b0095b50>]"
            ]
          },
          "metadata": {},
          "execution_count": 27
        },
        {
          "output_type": "display_data",
          "data": {
            "text/plain": [
              "<Figure size 432x288 with 1 Axes>"
            ],
            "image/png": "[encoded data removed]"
          },
          "metadata": {
            "needs_background": "light"
          }
        }
      ],
      "source": [
        "plt.plot(DJIA_norm_Y_train[1,:])"
      ]
    },
    {
      "cell_type": "markdown",
      "metadata": {
        "id": "o-s01Kt2aAc5"
      },
      "source": [
        "## Build the forecasing model"
      ]
    },
    {
      "cell_type": "markdown",
      "metadata": {
        "id": "2ibTBQamb1UZ"
      },
      "source": [
        "Define a function, namely CapsNet_LSTM, which creates the forecasting model."
      ]
    },
    {
      "cell_type": "code",
      "execution_count": 28,
      "metadata": {
        "id": "X4C1JLHoawA_"
      },
      "outputs": [],
      "source": [
        "# Input to base learner\n",
        "inputs = keras.Input(shape=(sequence_width,1), name=\"sequence_input\")"
      ]
    },
    {
      "cell_type": "code",
      "execution_count": 29,
      "metadata": {
        "colab": {
          "base_uri": "https://localhost:8080/"
        },
        "id": "meaQiIRmirmO",
        "outputId": "7a3351b5-658f-45bc-ea99-549382784ef1"
      },
      "outputs": [
        {
          "output_type": "execute_result",
          "data": {
            "text/plain": [
              "TensorShape([None, 250, 1])"
            ]
          },
          "metadata": {},
          "execution_count": 29
        }
      ],
      "source": [
        "inputs.shape"
      ]
    },
    {
      "cell_type": "code",
      "execution_count": 39,
      "metadata": {
        "id": "G2faic5fih5d"
      },
      "outputs": [],
      "source": [
        "# LSTM layer \n",
        "x_1 = layers.LSTM(units = 32, return_sequences=True, activity_regularizer = tf.keras.regularizers.L2(l2=0.0001))(inputs)"
      ]
    },
    {
      "cell_type": "code",
      "execution_count": 40,
      "metadata": {
        "colab": {
          "base_uri": "https://localhost:8080/"
        },
        "id": "GcDlfmik1YHs",
        "outputId": "aa0646d8-f7ee-4ed3-d6ed-9ff477cb7e5e"
      },
      "outputs": [
        {
          "output_type": "execute_result",
          "data": {
            "text/plain": [
              "TensorShape([None, 250, 32])"
            ]
          },
          "metadata": {},
          "execution_count": 40
        }
      ],
      "source": [
        "x_1.shape"
      ]
    },
    {
      "cell_type": "code",
      "execution_count": 41,
      "metadata": {
        "id": "ZLEcEhweW7_L"
      },
      "outputs": [],
      "source": [
        "output = layers.Dense(1)(x_1[:,249,:])"
      ]
    },
    {
      "cell_type": "code",
      "execution_count": 42,
      "metadata": {
        "colab": {
          "base_uri": "https://localhost:8080/"
        },
        "id": "KKEWkZPGiug-",
        "outputId": "dbb87e8f-e3e2-4b63-cf81-b45325cd07db"
      },
      "outputs": [
        {
          "output_type": "execute_result",
          "data": {
            "text/plain": [
              "TensorShape([None, 1])"
            ]
          },
          "metadata": {},
          "execution_count": 42
        }
      ],
      "source": [
        "output.shape"
      ]
    },
    {
      "cell_type": "code",
      "execution_count": 43,
      "metadata": {
        "id": "43sa-LDbjxNU"
      },
      "outputs": [],
      "source": [
        "# Build the model 'CNN_LSTM'\n",
        "model = keras.Model(inputs=inputs, outputs=output, name=\"model_lstm\")\n"
      ]
    },
    {
      "cell_type": "code",
      "execution_count": 44,
      "metadata": {
        "colab": {
          "base_uri": "https://localhost:8080/"
        },
        "id": "PQNpWaKmkDFP",
        "outputId": "f4363ba6-3f47-4972-92ab-4f3d52a7317e"
      },
      "outputs": [
        {
          "output_type": "stream",
          "name": "stdout",
          "text": [
            "Model: \"model_lstm\"\n",
            "_________________________________________________________________\n",
            " Layer (type)                Output Shape              Param #   \n",
            "=================================================================\n",
            " sequence_input (InputLayer)  [(None, 250, 1)]         0         \n",
            "                                                                 \n",
            " lstm_1 (LSTM)               (None, 250, 32)           4352      \n",
            "                                                                 \n",
            " tf.__operators__.getitem_1   (None, 32)               0         \n",
            " (SlicingOpLambda)                                               \n",
            "                                                                 \n",
            " dense_1 (Dense)             (None, 1)                 33        \n",
            "                                                                 \n",
            "=================================================================\n",
            "Total params: 4,385\n",
            "Trainable params: 4,385\n",
            "Non-trainable params: 0\n",
            "_________________________________________________________________\n"
          ]
        }
      ],
      "source": [
        "model.summary()"
      ]
    },
    {
      "cell_type": "code",
      "execution_count": 45,
      "metadata": {
        "colab": {
          "base_uri": "https://localhost:8080/",
          "height": 422
        },
        "id": "mWYCwMB0laqh",
        "outputId": "9824e102-c724-4e64-ce6b-8992fb693f09"
      },
      "outputs": [
        {
          "output_type": "execute_result",
          "data": {
            "image/png": "[encoded data removed]",
            "text/plain": [
              "<IPython.core.display.Image object>"
            ]
          },
          "metadata": {},
          "execution_count": 45
        }
      ],
      "source": [
        "keras.utils.plot_model(model, \"LSTM.png\",show_shapes=True)"
      ]
    },
    {
      "cell_type": "code",
      "execution_count": 46,
      "metadata": {
        "id": "-g7pjoNQKxqY"
      },
      "outputs": [],
      "source": [
        "# setting optimizer \n",
        "Adam_1 = tf.keras.optimizers.Adam(learning_rate=0.0001, beta_1=0.9, beta_2=0.999, epsilon=1e-07, amsgrad=False)\n",
        "RMSprop_1 = tf.keras.optimizers.RMSprop(learning_rate=0.0001,rho=0.9,momentum=0.0,epsilon=1e-07,centered=False,name=\"RMSprop\")"
      ]
    },
    {
      "cell_type": "code",
      "execution_count": 47,
      "metadata": {
        "id": "hPungFZ3ltDv"
      },
      "outputs": [],
      "source": [
        "# compile model\n",
        "model.compile(optimizer= Adam_1,  loss=tf.keras.losses.MeanSquaredError(), metrics=[tf.keras.metrics.RootMeanSquaredError()])\n"
      ]
    },
    {
      "cell_type": "code",
      "execution_count": 48,
      "metadata": {
        "colab": {
          "base_uri": "https://localhost:8080/"
        },
        "id": "fX9W11qQorFy",
        "outputId": "d3107dcc-b78c-4aef-a17f-630d91b23368"
      },
      "outputs": [
        {
          "output_type": "stream",
          "name": "stdout",
          "text": [
            "Epoch 1/200\n",
            "33/33 [==============================] - 8s 31ms/step - loss: 0.1403 - root_mean_squared_error: 0.3701 - val_loss: 0.5932 - val_root_mean_squared_error: 0.7595\n",
            "Epoch 2/200\n",
            "33/33 [==============================] - 0s 14ms/step - loss: 0.0772 - root_mean_squared_error: 0.2714 - val_loss: 0.3404 - val_root_mean_squared_error: 0.5673\n",
            "Epoch 3/200\n",
            "33/33 [==============================] - 0s 14ms/step - loss: 0.0368 - root_mean_squared_error: 0.1803 - val_loss: 0.1715 - val_root_mean_squared_error: 0.3863\n",
            "Epoch 4/200\n",
            "33/33 [==============================] - 0s 14ms/step - loss: 0.0178 - root_mean_squared_error: 0.1127 - val_loss: 0.0942 - val_root_mean_squared_error: 0.2617\n",
            "Epoch 5/200\n",
            "33/33 [==============================] - 0s 14ms/step - loss: 0.0138 - root_mean_squared_error: 0.0898 - val_loss: 0.0733 - val_root_mean_squared_error: 0.2150\n",
            "Epoch 6/200\n",
            "33/33 [==============================] - 0s 14ms/step - loss: 0.0134 - root_mean_squared_error: 0.0872 - val_loss: 0.0696 - val_root_mean_squared_error: 0.2068\n",
            "Epoch 7/200\n",
            "33/33 [==============================] - 0s 14ms/step - loss: 0.0131 - root_mean_squared_error: 0.0864 - val_loss: 0.0669 - val_root_mean_squared_error: 0.2011\n",
            "Epoch 8/200\n",
            "33/33 [==============================] - 0s 14ms/step - loss: 0.0128 - root_mean_squared_error: 0.0857 - val_loss: 0.0638 - val_root_mean_squared_error: 0.1937\n",
            "Epoch 9/200\n",
            "33/33 [==============================] - 0s 15ms/step - loss: 0.0125 - root_mean_squared_error: 0.0848 - val_loss: 0.0608 - val_root_mean_squared_error: 0.1866\n",
            "Epoch 10/200\n",
            "33/33 [==============================] - 0s 15ms/step - loss: 0.0123 - root_mean_squared_error: 0.0841 - val_loss: 0.0585 - val_root_mean_squared_error: 0.1812\n",
            "Epoch 11/200\n",
            "33/33 [==============================] - 0s 14ms/step - loss: 0.0121 - root_mean_squared_error: 0.0835 - val_loss: 0.0560 - val_root_mean_squared_error: 0.1751\n",
            "Epoch 12/200\n",
            "33/33 [==============================] - 0s 15ms/step - loss: 0.0118 - root_mean_squared_error: 0.0829 - val_loss: 0.0535 - val_root_mean_squared_error: 0.1682\n",
            "Epoch 13/200\n",
            "33/33 [==============================] - 0s 14ms/step - loss: 0.0116 - root_mean_squared_error: 0.0824 - val_loss: 0.0516 - val_root_mean_squared_error: 0.1634\n",
            "Epoch 14/200\n",
            "33/33 [==============================] - 0s 14ms/step - loss: 0.0114 - root_mean_squared_error: 0.0819 - val_loss: 0.0498 - val_root_mean_squared_error: 0.1586\n",
            "Epoch 15/200\n",
            "33/33 [==============================] - 0s 14ms/step - loss: 0.0113 - root_mean_squared_error: 0.0815 - val_loss: 0.0483 - val_root_mean_squared_error: 0.1549\n",
            "Epoch 16/200\n",
            "33/33 [==============================] - 0s 14ms/step - loss: 0.0111 - root_mean_squared_error: 0.0812 - val_loss: 0.0472 - val_root_mean_squared_error: 0.1522\n",
            "Epoch 17/200\n",
            "33/33 [==============================] - 0s 14ms/step - loss: 0.0110 - root_mean_squared_error: 0.0809 - val_loss: 0.0456 - val_root_mean_squared_error: 0.1477\n",
            "Epoch 18/200\n",
            "33/33 [==============================] - 0s 14ms/step - loss: 0.0109 - root_mean_squared_error: 0.0808 - val_loss: 0.0448 - val_root_mean_squared_error: 0.1461\n",
            "Epoch 19/200\n",
            "33/33 [==============================] - 0s 15ms/step - loss: 0.0107 - root_mean_squared_error: 0.0805 - val_loss: 0.0439 - val_root_mean_squared_error: 0.1439\n",
            "Epoch 20/200\n",
            "33/33 [==============================] - 0s 14ms/step - loss: 0.0106 - root_mean_squared_error: 0.0803 - val_loss: 0.0432 - val_root_mean_squared_error: 0.1425\n",
            "Epoch 21/200\n",
            "33/33 [==============================] - 0s 14ms/step - loss: 0.0105 - root_mean_squared_error: 0.0802 - val_loss: 0.0424 - val_root_mean_squared_error: 0.1406\n",
            "Epoch 22/200\n",
            "33/33 [==============================] - 0s 14ms/step - loss: 0.0104 - root_mean_squared_error: 0.0802 - val_loss: 0.0418 - val_root_mean_squared_error: 0.1395\n",
            "Epoch 23/200\n",
            "33/33 [==============================] - 0s 14ms/step - loss: 0.0103 - root_mean_squared_error: 0.0800 - val_loss: 0.0412 - val_root_mean_squared_error: 0.1386\n",
            "Epoch 24/200\n",
            "33/33 [==============================] - 0s 14ms/step - loss: 0.0103 - root_mean_squared_error: 0.0799 - val_loss: 0.0407 - val_root_mean_squared_error: 0.1380\n",
            "Epoch 25/200\n",
            "33/33 [==============================] - 0s 14ms/step - loss: 0.0102 - root_mean_squared_error: 0.0800 - val_loss: 0.0403 - val_root_mean_squared_error: 0.1376\n",
            "Epoch 26/200\n",
            "33/33 [==============================] - 0s 14ms/step - loss: 0.0101 - root_mean_squared_error: 0.0798 - val_loss: 0.0400 - val_root_mean_squared_error: 0.1382\n",
            "Epoch 27/200\n",
            "33/33 [==============================] - 0s 14ms/step - loss: 0.0100 - root_mean_squared_error: 0.0798 - val_loss: 0.0395 - val_root_mean_squared_error: 0.1370\n",
            "Epoch 28/200\n",
            "33/33 [==============================] - 0s 14ms/step - loss: 0.0100 - root_mean_squared_error: 0.0798 - val_loss: 0.0392 - val_root_mean_squared_error: 0.1373\n",
            "Epoch 29/200\n",
            "33/33 [==============================] - 0s 14ms/step - loss: 0.0099 - root_mean_squared_error: 0.0797 - val_loss: 0.0389 - val_root_mean_squared_error: 0.1371\n",
            "Epoch 30/200\n",
            "33/33 [==============================] - 0s 14ms/step - loss: 0.0098 - root_mean_squared_error: 0.0797 - val_loss: 0.0386 - val_root_mean_squared_error: 0.1376\n",
            "Epoch 31/200\n",
            "33/33 [==============================] - 0s 14ms/step - loss: 0.0098 - root_mean_squared_error: 0.0796 - val_loss: 0.0382 - val_root_mean_squared_error: 0.1361\n",
            "Epoch 32/200\n",
            "33/33 [==============================] - 0s 14ms/step - loss: 0.0097 - root_mean_squared_error: 0.0796 - val_loss: 0.0379 - val_root_mean_squared_error: 0.1360\n",
            "Epoch 33/200\n",
            "33/33 [==============================] - 0s 14ms/step - loss: 0.0096 - root_mean_squared_error: 0.0795 - val_loss: 0.0376 - val_root_mean_squared_error: 0.1366\n",
            "Epoch 34/200\n",
            "33/33 [==============================] - 0s 14ms/step - loss: 0.0096 - root_mean_squared_error: 0.0796 - val_loss: 0.0374 - val_root_mean_squared_error: 0.1363\n",
            "Epoch 35/200\n",
            "33/33 [==============================] - 0s 14ms/step - loss: 0.0095 - root_mean_squared_error: 0.0795 - val_loss: 0.0371 - val_root_mean_squared_error: 0.1361\n",
            "Epoch 36/200\n",
            "33/33 [==============================] - 0s 14ms/step - loss: 0.0095 - root_mean_squared_error: 0.0794 - val_loss: 0.0369 - val_root_mean_squared_error: 0.1365\n",
            "Epoch 37/200\n",
            "33/33 [==============================] - 0s 14ms/step - loss: 0.0094 - root_mean_squared_error: 0.0793 - val_loss: 0.0367 - val_root_mean_squared_error: 0.1370\n",
            "Epoch 38/200\n",
            "33/33 [==============================] - 0s 14ms/step - loss: 0.0094 - root_mean_squared_error: 0.0794 - val_loss: 0.0364 - val_root_mean_squared_error: 0.1365\n",
            "Epoch 39/200\n",
            "33/33 [==============================] - 0s 15ms/step - loss: 0.0093 - root_mean_squared_error: 0.0793 - val_loss: 0.0362 - val_root_mean_squared_error: 0.1369\n",
            "Epoch 40/200\n",
            "33/33 [==============================] - 0s 14ms/step - loss: 0.0093 - root_mean_squared_error: 0.0792 - val_loss: 0.0360 - val_root_mean_squared_error: 0.1366\n",
            "Epoch 41/200\n",
            "33/33 [==============================] - 0s 14ms/step - loss: 0.0092 - root_mean_squared_error: 0.0792 - val_loss: 0.0358 - val_root_mean_squared_error: 0.1367\n",
            "Epoch 42/200\n",
            "33/33 [==============================] - 0s 14ms/step - loss: 0.0092 - root_mean_squared_error: 0.0792 - val_loss: 0.0356 - val_root_mean_squared_error: 0.1371\n",
            "Epoch 43/200\n",
            "33/33 [==============================] - 0s 14ms/step - loss: 0.0092 - root_mean_squared_error: 0.0792 - val_loss: 0.0354 - val_root_mean_squared_error: 0.1367\n",
            "Epoch 44/200\n",
            "33/33 [==============================] - 0s 14ms/step - loss: 0.0091 - root_mean_squared_error: 0.0790 - val_loss: 0.0354 - val_root_mean_squared_error: 0.1380\n",
            "Epoch 45/200\n",
            "33/33 [==============================] - 0s 14ms/step - loss: 0.0091 - root_mean_squared_error: 0.0790 - val_loss: 0.0351 - val_root_mean_squared_error: 0.1374\n",
            "Epoch 46/200\n",
            "33/33 [==============================] - 0s 14ms/step - loss: 0.0090 - root_mean_squared_error: 0.0790 - val_loss: 0.0350 - val_root_mean_squared_error: 0.1380\n",
            "Epoch 47/200\n",
            "33/33 [==============================] - 0s 14ms/step - loss: 0.0090 - root_mean_squared_error: 0.0790 - val_loss: 0.0348 - val_root_mean_squared_error: 0.1379\n",
            "Epoch 48/200\n",
            "33/33 [==============================] - 0s 14ms/step - loss: 0.0089 - root_mean_squared_error: 0.0788 - val_loss: 0.0347 - val_root_mean_squared_error: 0.1384\n",
            "Epoch 49/200\n",
            "33/33 [==============================] - 0s 14ms/step - loss: 0.0089 - root_mean_squared_error: 0.0789 - val_loss: 0.0344 - val_root_mean_squared_error: 0.1377\n",
            "Epoch 50/200\n",
            "33/33 [==============================] - 0s 14ms/step - loss: 0.0089 - root_mean_squared_error: 0.0788 - val_loss: 0.0345 - val_root_mean_squared_error: 0.1389\n",
            "Epoch 51/200\n",
            "33/33 [==============================] - 0s 14ms/step - loss: 0.0088 - root_mean_squared_error: 0.0787 - val_loss: 0.0346 - val_root_mean_squared_error: 0.1402\n",
            "Epoch 52/200\n",
            "33/33 [==============================] - 0s 14ms/step - loss: 0.0088 - root_mean_squared_error: 0.0787 - val_loss: 0.0343 - val_root_mean_squared_error: 0.1394\n",
            "Epoch 53/200\n",
            "33/33 [==============================] - 0s 14ms/step - loss: 0.0088 - root_mean_squared_error: 0.0787 - val_loss: 0.0341 - val_root_mean_squared_error: 0.1393\n",
            "Epoch 54/200\n",
            "33/33 [==============================] - 0s 14ms/step - loss: 0.0087 - root_mean_squared_error: 0.0786 - val_loss: 0.0344 - val_root_mean_squared_error: 0.1413\n",
            "Epoch 55/200\n",
            "33/33 [==============================] - 0s 14ms/step - loss: 0.0087 - root_mean_squared_error: 0.0785 - val_loss: 0.0342 - val_root_mean_squared_error: 0.1414\n",
            "Epoch 56/200\n",
            "33/33 [==============================] - 0s 14ms/step - loss: 0.0086 - root_mean_squared_error: 0.0786 - val_loss: 0.0338 - val_root_mean_squared_error: 0.1401\n",
            "Epoch 57/200\n",
            "33/33 [==============================] - 0s 14ms/step - loss: 0.0086 - root_mean_squared_error: 0.0784 - val_loss: 0.0338 - val_root_mean_squared_error: 0.1406\n",
            "Epoch 58/200\n",
            "33/33 [==============================] - 0s 14ms/step - loss: 0.0086 - root_mean_squared_error: 0.0782 - val_loss: 0.0344 - val_root_mean_squared_error: 0.1437\n",
            "Epoch 59/200\n",
            "33/33 [==============================] - 0s 14ms/step - loss: 0.0085 - root_mean_squared_error: 0.0784 - val_loss: 0.0336 - val_root_mean_squared_error: 0.1407\n",
            "Epoch 60/200\n",
            "33/33 [==============================] - 0s 14ms/step - loss: 0.0085 - root_mean_squared_error: 0.0783 - val_loss: 0.0337 - val_root_mean_squared_error: 0.1418\n",
            "Epoch 61/200\n",
            "33/33 [==============================] - 0s 14ms/step - loss: 0.0085 - root_mean_squared_error: 0.0782 - val_loss: 0.0339 - val_root_mean_squared_error: 0.1434\n",
            "Epoch 62/200\n",
            "33/33 [==============================] - 0s 14ms/step - loss: 0.0084 - root_mean_squared_error: 0.0782 - val_loss: 0.0337 - val_root_mean_squared_error: 0.1429\n",
            "Epoch 63/200\n",
            "33/33 [==============================] - 0s 14ms/step - loss: 0.0084 - root_mean_squared_error: 0.0781 - val_loss: 0.0340 - val_root_mean_squared_error: 0.1449\n",
            "Epoch 64/200\n",
            "33/33 [==============================] - 0s 14ms/step - loss: 0.0084 - root_mean_squared_error: 0.0780 - val_loss: 0.0344 - val_root_mean_squared_error: 0.1470\n",
            "Epoch 65/200\n",
            "33/33 [==============================] - 0s 14ms/step - loss: 0.0083 - root_mean_squared_error: 0.0780 - val_loss: 0.0344 - val_root_mean_squared_error: 0.1472\n",
            "Epoch 66/200\n",
            "33/33 [==============================] - 0s 14ms/step - loss: 0.0083 - root_mean_squared_error: 0.0780 - val_loss: 0.0333 - val_root_mean_squared_error: 0.1431\n",
            "Epoch 67/200\n",
            "33/33 [==============================] - 0s 14ms/step - loss: 0.0083 - root_mean_squared_error: 0.0778 - val_loss: 0.0341 - val_root_mean_squared_error: 0.1468\n",
            "Epoch 68/200\n",
            "33/33 [==============================] - 0s 14ms/step - loss: 0.0083 - root_mean_squared_error: 0.0778 - val_loss: 0.0342 - val_root_mean_squared_error: 0.1479\n",
            "Epoch 69/200\n",
            "33/33 [==============================] - 0s 14ms/step - loss: 0.0082 - root_mean_squared_error: 0.0778 - val_loss: 0.0350 - val_root_mean_squared_error: 0.1511\n",
            "Epoch 70/200\n",
            "33/33 [==============================] - 0s 14ms/step - loss: 0.0082 - root_mean_squared_error: 0.0777 - val_loss: 0.0343 - val_root_mean_squared_error: 0.1488\n",
            "Epoch 71/200\n",
            "33/33 [==============================] - 0s 14ms/step - loss: 0.0082 - root_mean_squared_error: 0.0776 - val_loss: 0.0340 - val_root_mean_squared_error: 0.1479\n",
            "Epoch 72/200\n",
            "33/33 [==============================] - 0s 14ms/step - loss: 0.0081 - root_mean_squared_error: 0.0776 - val_loss: 0.0347 - val_root_mean_squared_error: 0.1509\n",
            "Epoch 73/200\n",
            "33/33 [==============================] - 0s 14ms/step - loss: 0.0081 - root_mean_squared_error: 0.0775 - val_loss: 0.0344 - val_root_mean_squared_error: 0.1501\n",
            "Epoch 74/200\n",
            "33/33 [==============================] - 0s 14ms/step - loss: 0.0081 - root_mean_squared_error: 0.0774 - val_loss: 0.0356 - val_root_mean_squared_error: 0.1551\n",
            "Epoch 75/200\n",
            "33/33 [==============================] - 0s 14ms/step - loss: 0.0081 - root_mean_squared_error: 0.0775 - val_loss: 0.0355 - val_root_mean_squared_error: 0.1549\n",
            "Epoch 76/200\n",
            "33/33 [==============================] - 0s 14ms/step - loss: 0.0080 - root_mean_squared_error: 0.0773 - val_loss: 0.0345 - val_root_mean_squared_error: 0.1516\n",
            "Epoch 77/200\n",
            "33/33 [==============================] - 0s 14ms/step - loss: 0.0080 - root_mean_squared_error: 0.0773 - val_loss: 0.0353 - val_root_mean_squared_error: 0.1550\n",
            "Epoch 78/200\n",
            "33/33 [==============================] - 0s 14ms/step - loss: 0.0080 - root_mean_squared_error: 0.0771 - val_loss: 0.0359 - val_root_mean_squared_error: 0.1571\n",
            "Epoch 79/200\n",
            "33/33 [==============================] - 0s 14ms/step - loss: 0.0080 - root_mean_squared_error: 0.0771 - val_loss: 0.0354 - val_root_mean_squared_error: 0.1558\n",
            "Epoch 80/200\n",
            "33/33 [==============================] - 0s 14ms/step - loss: 0.0079 - root_mean_squared_error: 0.0771 - val_loss: 0.0344 - val_root_mean_squared_error: 0.1522\n",
            "Epoch 81/200\n",
            "33/33 [==============================] - 0s 14ms/step - loss: 0.0079 - root_mean_squared_error: 0.0769 - val_loss: 0.0353 - val_root_mean_squared_error: 0.1558\n",
            "Epoch 82/200\n",
            "33/33 [==============================] - 0s 14ms/step - loss: 0.0079 - root_mean_squared_error: 0.0769 - val_loss: 0.0350 - val_root_mean_squared_error: 0.1552\n",
            "Epoch 83/200\n",
            "33/33 [==============================] - 0s 14ms/step - loss: 0.0078 - root_mean_squared_error: 0.0768 - val_loss: 0.0356 - val_root_mean_squared_error: 0.1575\n",
            "Epoch 84/200\n",
            "33/33 [==============================] - 0s 14ms/step - loss: 0.0078 - root_mean_squared_error: 0.0767 - val_loss: 0.0353 - val_root_mean_squared_error: 0.1566\n",
            "Epoch 85/200\n",
            "33/33 [==============================] - 0s 14ms/step - loss: 0.0078 - root_mean_squared_error: 0.0766 - val_loss: 0.0359 - val_root_mean_squared_error: 0.1591\n",
            "Epoch 86/200\n",
            "33/33 [==============================] - 0s 14ms/step - loss: 0.0078 - root_mean_squared_error: 0.0765 - val_loss: 0.0366 - val_root_mean_squared_error: 0.1616\n",
            "Epoch 87/200\n",
            "33/33 [==============================] - 0s 14ms/step - loss: 0.0077 - root_mean_squared_error: 0.0764 - val_loss: 0.0375 - val_root_mean_squared_error: 0.1650\n",
            "Epoch 88/200\n",
            "33/33 [==============================] - 0s 14ms/step - loss: 0.0077 - root_mean_squared_error: 0.0762 - val_loss: 0.0378 - val_root_mean_squared_error: 0.1660\n",
            "Epoch 89/200\n",
            "33/33 [==============================] - 0s 14ms/step - loss: 0.0077 - root_mean_squared_error: 0.0762 - val_loss: 0.0383 - val_root_mean_squared_error: 0.1680\n",
            "Epoch 90/200\n",
            "33/33 [==============================] - 0s 14ms/step - loss: 0.0076 - root_mean_squared_error: 0.0761 - val_loss: 0.0371 - val_root_mean_squared_error: 0.1640\n",
            "Epoch 91/200\n",
            "33/33 [==============================] - 0s 14ms/step - loss: 0.0076 - root_mean_squared_error: 0.0760 - val_loss: 0.0399 - val_root_mean_squared_error: 0.1732\n",
            "Epoch 92/200\n",
            "33/33 [==============================] - 0s 14ms/step - loss: 0.0076 - root_mean_squared_error: 0.0757 - val_loss: 0.0378 - val_root_mean_squared_error: 0.1667\n",
            "Epoch 93/200\n",
            "33/33 [==============================] - 0s 14ms/step - loss: 0.0075 - root_mean_squared_error: 0.0756 - val_loss: 0.0407 - val_root_mean_squared_error: 0.1762\n",
            "Epoch 94/200\n",
            "33/33 [==============================] - 0s 14ms/step - loss: 0.0075 - root_mean_squared_error: 0.0757 - val_loss: 0.0374 - val_root_mean_squared_error: 0.1657\n",
            "Epoch 95/200\n",
            "33/33 [==============================] - 0s 14ms/step - loss: 0.0075 - root_mean_squared_error: 0.0754 - val_loss: 0.0431 - val_root_mean_squared_error: 0.1835\n",
            "Epoch 96/200\n",
            "33/33 [==============================] - 0s 14ms/step - loss: 0.0074 - root_mean_squared_error: 0.0751 - val_loss: 0.0406 - val_root_mean_squared_error: 0.1761\n",
            "Epoch 97/200\n",
            "33/33 [==============================] - 0s 14ms/step - loss: 0.0074 - root_mean_squared_error: 0.0747 - val_loss: 0.0423 - val_root_mean_squared_error: 0.1816\n",
            "Epoch 98/200\n",
            "33/33 [==============================] - 0s 14ms/step - loss: 0.0073 - root_mean_squared_error: 0.0744 - val_loss: 0.0423 - val_root_mean_squared_error: 0.1816\n",
            "Epoch 99/200\n",
            "33/33 [==============================] - 0s 14ms/step - loss: 0.0072 - root_mean_squared_error: 0.0741 - val_loss: 0.0435 - val_root_mean_squared_error: 0.1852\n",
            "Epoch 100/200\n",
            "33/33 [==============================] - 0s 14ms/step - loss: 0.0071 - root_mean_squared_error: 0.0734 - val_loss: 0.0487 - val_root_mean_squared_error: 0.1997\n",
            "Epoch 101/200\n",
            "33/33 [==============================] - 0s 14ms/step - loss: 0.0070 - root_mean_squared_error: 0.0727 - val_loss: 0.0481 - val_root_mean_squared_error: 0.1981\n",
            "Epoch 102/200\n",
            "33/33 [==============================] - 0s 14ms/step - loss: 0.0068 - root_mean_squared_error: 0.0716 - val_loss: 0.0595 - val_root_mean_squared_error: 0.2262\n",
            "Epoch 103/200\n",
            "33/33 [==============================] - 0s 14ms/step - loss: 0.0066 - root_mean_squared_error: 0.0704 - val_loss: 0.0652 - val_root_mean_squared_error: 0.2390\n",
            "Epoch 104/200\n",
            "33/33 [==============================] - 0s 14ms/step - loss: 0.0062 - root_mean_squared_error: 0.0678 - val_loss: 0.0922 - val_root_mean_squared_error: 0.2912\n",
            "Epoch 105/200\n",
            "33/33 [==============================] - 0s 14ms/step - loss: 0.0058 - root_mean_squared_error: 0.0652 - val_loss: 0.1259 - val_root_mean_squared_error: 0.3449\n",
            "Epoch 106/200\n",
            "33/33 [==============================] - 0s 14ms/step - loss: 0.0057 - root_mean_squared_error: 0.0649 - val_loss: 0.1114 - val_root_mean_squared_error: 0.3233\n",
            "Epoch 107/200\n",
            "33/33 [==============================] - 0s 14ms/step - loss: 0.0055 - root_mean_squared_error: 0.0635 - val_loss: 0.1129 - val_root_mean_squared_error: 0.3256\n",
            "Epoch 108/200\n",
            "33/33 [==============================] - 0s 14ms/step - loss: 0.0053 - root_mean_squared_error: 0.0628 - val_loss: 0.1143 - val_root_mean_squared_error: 0.3278\n",
            "Epoch 109/200\n",
            "33/33 [==============================] - 0s 14ms/step - loss: 0.0054 - root_mean_squared_error: 0.0632 - val_loss: 0.0955 - val_root_mean_squared_error: 0.2975\n",
            "Epoch 110/200\n",
            "33/33 [==============================] - 0s 14ms/step - loss: 0.0053 - root_mean_squared_error: 0.0624 - val_loss: 0.1057 - val_root_mean_squared_error: 0.3145\n",
            "Epoch 111/200\n",
            "33/33 [==============================] - 0s 14ms/step - loss: 0.0051 - root_mean_squared_error: 0.0614 - val_loss: 0.1172 - val_root_mean_squared_error: 0.3324\n",
            "Epoch 112/200\n",
            "33/33 [==============================] - 0s 14ms/step - loss: 0.0051 - root_mean_squared_error: 0.0614 - val_loss: 0.1157 - val_root_mean_squared_error: 0.3302\n",
            "Epoch 113/200\n",
            "33/33 [==============================] - 0s 14ms/step - loss: 0.0051 - root_mean_squared_error: 0.0612 - val_loss: 0.1021 - val_root_mean_squared_error: 0.3089\n",
            "Epoch 114/200\n",
            "33/33 [==============================] - 0s 14ms/step - loss: 0.0051 - root_mean_squared_error: 0.0615 - val_loss: 0.1072 - val_root_mean_squared_error: 0.3170\n",
            "Epoch 115/200\n",
            "33/33 [==============================] - 0s 14ms/step - loss: 0.0051 - root_mean_squared_error: 0.0612 - val_loss: 0.1100 - val_root_mean_squared_error: 0.3216\n",
            "Epoch 116/200\n",
            "33/33 [==============================] - 0s 14ms/step - loss: 0.0052 - root_mean_squared_error: 0.0620 - val_loss: 0.0958 - val_root_mean_squared_error: 0.2983\n",
            "Epoch 117/200\n",
            "33/33 [==============================] - 0s 14ms/step - loss: 0.0051 - root_mean_squared_error: 0.0612 - val_loss: 0.1072 - val_root_mean_squared_error: 0.3172\n",
            "Epoch 118/200\n",
            "33/33 [==============================] - 0s 14ms/step - loss: 0.0051 - root_mean_squared_error: 0.0616 - val_loss: 0.0947 - val_root_mean_squared_error: 0.2967\n",
            "Epoch 119/200\n",
            "33/33 [==============================] - 0s 14ms/step - loss: 0.0051 - root_mean_squared_error: 0.0612 - val_loss: 0.1022 - val_root_mean_squared_error: 0.3092\n",
            "Epoch 120/200\n",
            "33/33 [==============================] - 0s 14ms/step - loss: 0.0050 - root_mean_squared_error: 0.0610 - val_loss: 0.1127 - val_root_mean_squared_error: 0.3259\n",
            "Epoch 121/200\n",
            "33/33 [==============================] - 0s 14ms/step - loss: 0.0052 - root_mean_squared_error: 0.0622 - val_loss: 0.0891 - val_root_mean_squared_error: 0.2870\n",
            "Epoch 122/200\n",
            "33/33 [==============================] - 0s 14ms/step - loss: 0.0050 - root_mean_squared_error: 0.0608 - val_loss: 0.1026 - val_root_mean_squared_error: 0.3099\n",
            "Epoch 123/200\n",
            "33/33 [==============================] - 0s 14ms/step - loss: 0.0050 - root_mean_squared_error: 0.0607 - val_loss: 0.0950 - val_root_mean_squared_error: 0.2972\n",
            "Epoch 124/200\n",
            "33/33 [==============================] - 0s 14ms/step - loss: 0.0050 - root_mean_squared_error: 0.0608 - val_loss: 0.1020 - val_root_mean_squared_error: 0.3090\n",
            "Epoch 125/200\n",
            "33/33 [==============================] - 0s 14ms/step - loss: 0.0050 - root_mean_squared_error: 0.0607 - val_loss: 0.0996 - val_root_mean_squared_error: 0.3052\n",
            "Epoch 126/200\n",
            "33/33 [==============================] - 0s 14ms/step - loss: 0.0050 - root_mean_squared_error: 0.0609 - val_loss: 0.1041 - val_root_mean_squared_error: 0.3125\n",
            "Epoch 127/200\n",
            "33/33 [==============================] - 0s 14ms/step - loss: 0.0050 - root_mean_squared_error: 0.0610 - val_loss: 0.0932 - val_root_mean_squared_error: 0.2943\n",
            "Epoch 128/200\n",
            "33/33 [==============================] - 0s 14ms/step - loss: 0.0050 - root_mean_squared_error: 0.0609 - val_loss: 0.1026 - val_root_mean_squared_error: 0.3101\n",
            "Epoch 129/200\n",
            "33/33 [==============================] - 0s 14ms/step - loss: 0.0051 - root_mean_squared_error: 0.0615 - val_loss: 0.0905 - val_root_mean_squared_error: 0.2896\n",
            "Epoch 130/200\n",
            "33/33 [==============================] - 0s 14ms/step - loss: 0.0050 - root_mean_squared_error: 0.0609 - val_loss: 0.0950 - val_root_mean_squared_error: 0.2975\n",
            "Epoch 131/200\n",
            "33/33 [==============================] - 0s 14ms/step - loss: 0.0049 - root_mean_squared_error: 0.0604 - val_loss: 0.1036 - val_root_mean_squared_error: 0.3118\n",
            "Epoch 132/200\n",
            "33/33 [==============================] - 0s 14ms/step - loss: 0.0050 - root_mean_squared_error: 0.0610 - val_loss: 0.0980 - val_root_mean_squared_error: 0.3026\n",
            "Epoch 133/200\n",
            "33/33 [==============================] - 0s 14ms/step - loss: 0.0050 - root_mean_squared_error: 0.0608 - val_loss: 0.0956 - val_root_mean_squared_error: 0.2986\n",
            "Epoch 134/200\n",
            "33/33 [==============================] - 0s 14ms/step - loss: 0.0049 - root_mean_squared_error: 0.0606 - val_loss: 0.0994 - val_root_mean_squared_error: 0.3050\n",
            "Epoch 135/200\n",
            "33/33 [==============================] - 0s 14ms/step - loss: 0.0049 - root_mean_squared_error: 0.0603 - val_loss: 0.1056 - val_root_mean_squared_error: 0.3152\n",
            "Epoch 136/200\n",
            "33/33 [==============================] - 0s 14ms/step - loss: 0.0049 - root_mean_squared_error: 0.0608 - val_loss: 0.1004 - val_root_mean_squared_error: 0.3067\n",
            "Epoch 137/200\n",
            "33/33 [==============================] - 0s 14ms/step - loss: 0.0049 - root_mean_squared_error: 0.0607 - val_loss: 0.1034 - val_root_mean_squared_error: 0.3116\n",
            "Epoch 138/200\n",
            "33/33 [==============================] - 0s 14ms/step - loss: 0.0049 - root_mean_squared_error: 0.0604 - val_loss: 0.0962 - val_root_mean_squared_error: 0.2998\n",
            "Epoch 139/200\n",
            "33/33 [==============================] - 0s 14ms/step - loss: 0.0049 - root_mean_squared_error: 0.0605 - val_loss: 0.0930 - val_root_mean_squared_error: 0.2943\n",
            "Epoch 140/200\n",
            "33/33 [==============================] - 0s 14ms/step - loss: 0.0050 - root_mean_squared_error: 0.0611 - val_loss: 0.0920 - val_root_mean_squared_error: 0.2926\n",
            "Epoch 141/200\n",
            "33/33 [==============================] - 0s 14ms/step - loss: 0.0049 - root_mean_squared_error: 0.0607 - val_loss: 0.0946 - val_root_mean_squared_error: 0.2971\n",
            "Epoch 142/200\n",
            "33/33 [==============================] - 0s 14ms/step - loss: 0.0049 - root_mean_squared_error: 0.0604 - val_loss: 0.0988 - val_root_mean_squared_error: 0.3042\n",
            "Epoch 143/200\n",
            "33/33 [==============================] - 0s 14ms/step - loss: 0.0049 - root_mean_squared_error: 0.0603 - val_loss: 0.1001 - val_root_mean_squared_error: 0.3064\n",
            "Epoch 144/200\n",
            "33/33 [==============================] - 0s 14ms/step - loss: 0.0048 - root_mean_squared_error: 0.0602 - val_loss: 0.1066 - val_root_mean_squared_error: 0.3169\n",
            "Epoch 145/200\n",
            "33/33 [==============================] - 0s 14ms/step - loss: 0.0049 - root_mean_squared_error: 0.0604 - val_loss: 0.1009 - val_root_mean_squared_error: 0.3077\n",
            "Epoch 146/200\n",
            "33/33 [==============================] - 0s 14ms/step - loss: 0.0048 - root_mean_squared_error: 0.0603 - val_loss: 0.0963 - val_root_mean_squared_error: 0.3002\n",
            "Epoch 147/200\n",
            "33/33 [==============================] - 0s 14ms/step - loss: 0.0048 - root_mean_squared_error: 0.0602 - val_loss: 0.1005 - val_root_mean_squared_error: 0.3071\n",
            "Epoch 148/200\n",
            "33/33 [==============================] - 0s 14ms/step - loss: 0.0048 - root_mean_squared_error: 0.0602 - val_loss: 0.1051 - val_root_mean_squared_error: 0.3147\n",
            "Epoch 149/200\n",
            "33/33 [==============================] - 0s 14ms/step - loss: 0.0048 - root_mean_squared_error: 0.0604 - val_loss: 0.0985 - val_root_mean_squared_error: 0.3039\n",
            "Epoch 150/200\n",
            "33/33 [==============================] - 0s 14ms/step - loss: 0.0049 - root_mean_squared_error: 0.0607 - val_loss: 0.0946 - val_root_mean_squared_error: 0.2974\n",
            "Epoch 151/200\n",
            "33/33 [==============================] - 0s 14ms/step - loss: 0.0048 - root_mean_squared_error: 0.0602 - val_loss: 0.0916 - val_root_mean_squared_error: 0.2922\n",
            "Epoch 152/200\n",
            "33/33 [==============================] - 0s 15ms/step - loss: 0.0048 - root_mean_squared_error: 0.0604 - val_loss: 0.0942 - val_root_mean_squared_error: 0.2968\n",
            "Epoch 153/200\n",
            "33/33 [==============================] - 0s 14ms/step - loss: 0.0048 - root_mean_squared_error: 0.0601 - val_loss: 0.1012 - val_root_mean_squared_error: 0.3085\n",
            "Epoch 154/200\n",
            "33/33 [==============================] - 0s 14ms/step - loss: 0.0048 - root_mean_squared_error: 0.0601 - val_loss: 0.0946 - val_root_mean_squared_error: 0.2975\n",
            "Epoch 155/200\n",
            "33/33 [==============================] - 0s 14ms/step - loss: 0.0049 - root_mean_squared_error: 0.0611 - val_loss: 0.0926 - val_root_mean_squared_error: 0.2941\n",
            "Epoch 156/200\n",
            "33/33 [==============================] - 0s 14ms/step - loss: 0.0048 - root_mean_squared_error: 0.0604 - val_loss: 0.0932 - val_root_mean_squared_error: 0.2951\n",
            "Epoch 157/200\n",
            "33/33 [==============================] - 0s 14ms/step - loss: 0.0047 - root_mean_squared_error: 0.0599 - val_loss: 0.0959 - val_root_mean_squared_error: 0.2998\n",
            "Epoch 158/200\n",
            "33/33 [==============================] - 0s 14ms/step - loss: 0.0048 - root_mean_squared_error: 0.0602 - val_loss: 0.0946 - val_root_mean_squared_error: 0.2976\n",
            "Epoch 159/200\n",
            "33/33 [==============================] - 0s 14ms/step - loss: 0.0048 - root_mean_squared_error: 0.0603 - val_loss: 0.0923 - val_root_mean_squared_error: 0.2937\n",
            "Epoch 160/200\n",
            "33/33 [==============================] - 0s 14ms/step - loss: 0.0048 - root_mean_squared_error: 0.0604 - val_loss: 0.0922 - val_root_mean_squared_error: 0.2936\n",
            "Epoch 161/200\n",
            "33/33 [==============================] - 0s 14ms/step - loss: 0.0048 - root_mean_squared_error: 0.0601 - val_loss: 0.0912 - val_root_mean_squared_error: 0.2918\n",
            "Epoch 162/200\n",
            "33/33 [==============================] - 0s 14ms/step - loss: 0.0048 - root_mean_squared_error: 0.0604 - val_loss: 0.0893 - val_root_mean_squared_error: 0.2885\n",
            "Epoch 163/200\n",
            "33/33 [==============================] - 0s 14ms/step - loss: 0.0047 - root_mean_squared_error: 0.0599 - val_loss: 0.0928 - val_root_mean_squared_error: 0.2946\n",
            "Epoch 164/200\n",
            "33/33 [==============================] - 0s 14ms/step - loss: 0.0047 - root_mean_squared_error: 0.0600 - val_loss: 0.0974 - val_root_mean_squared_error: 0.3024\n",
            "Epoch 165/200\n",
            "33/33 [==============================] - 0s 14ms/step - loss: 0.0047 - root_mean_squared_error: 0.0598 - val_loss: 0.0927 - val_root_mean_squared_error: 0.2946\n",
            "Epoch 166/200\n",
            "33/33 [==============================] - 0s 14ms/step - loss: 0.0047 - root_mean_squared_error: 0.0599 - val_loss: 0.0940 - val_root_mean_squared_error: 0.2969\n",
            "Epoch 167/200\n",
            "33/33 [==============================] - 0s 14ms/step - loss: 0.0047 - root_mean_squared_error: 0.0599 - val_loss: 0.0945 - val_root_mean_squared_error: 0.2976\n",
            "Epoch 168/200\n",
            "33/33 [==============================] - 0s 14ms/step - loss: 0.0047 - root_mean_squared_error: 0.0599 - val_loss: 0.0904 - val_root_mean_squared_error: 0.2907\n",
            "Epoch 169/200\n",
            "33/33 [==============================] - 0s 14ms/step - loss: 0.0047 - root_mean_squared_error: 0.0598 - val_loss: 0.0986 - val_root_mean_squared_error: 0.3046\n",
            "Epoch 170/200\n",
            "33/33 [==============================] - 0s 14ms/step - loss: 0.0047 - root_mean_squared_error: 0.0600 - val_loss: 0.0917 - val_root_mean_squared_error: 0.2929\n",
            "Epoch 171/200\n",
            "33/33 [==============================] - 0s 14ms/step - loss: 0.0047 - root_mean_squared_error: 0.0600 - val_loss: 0.0983 - val_root_mean_squared_error: 0.3041\n",
            "Epoch 172/200\n",
            "33/33 [==============================] - 0s 14ms/step - loss: 0.0048 - root_mean_squared_error: 0.0608 - val_loss: 0.0800 - val_root_mean_squared_error: 0.2719\n",
            "Epoch 173/200\n",
            "33/33 [==============================] - 0s 14ms/step - loss: 0.0047 - root_mean_squared_error: 0.0601 - val_loss: 0.0859 - val_root_mean_squared_error: 0.2829\n",
            "Epoch 174/200\n",
            "33/33 [==============================] - 0s 14ms/step - loss: 0.0047 - root_mean_squared_error: 0.0596 - val_loss: 0.0967 - val_root_mean_squared_error: 0.3015\n",
            "Epoch 175/200\n",
            "33/33 [==============================] - 0s 14ms/step - loss: 0.0047 - root_mean_squared_error: 0.0603 - val_loss: 0.0896 - val_root_mean_squared_error: 0.2893\n",
            "Epoch 176/200\n",
            "33/33 [==============================] - 0s 14ms/step - loss: 0.0046 - root_mean_squared_error: 0.0596 - val_loss: 0.0917 - val_root_mean_squared_error: 0.2930\n",
            "Epoch 177/200\n",
            "33/33 [==============================] - 0s 14ms/step - loss: 0.0047 - root_mean_squared_error: 0.0598 - val_loss: 0.0913 - val_root_mean_squared_error: 0.2925\n",
            "Epoch 178/200\n",
            "33/33 [==============================] - 0s 14ms/step - loss: 0.0047 - root_mean_squared_error: 0.0600 - val_loss: 0.0876 - val_root_mean_squared_error: 0.2860\n",
            "Epoch 179/200\n",
            "33/33 [==============================] - 0s 14ms/step - loss: 0.0046 - root_mean_squared_error: 0.0597 - val_loss: 0.0916 - val_root_mean_squared_error: 0.2930\n",
            "Epoch 180/200\n",
            "33/33 [==============================] - 0s 14ms/step - loss: 0.0047 - root_mean_squared_error: 0.0602 - val_loss: 0.0879 - val_root_mean_squared_error: 0.2866\n",
            "Epoch 181/200\n",
            "33/33 [==============================] - 0s 14ms/step - loss: 0.0046 - root_mean_squared_error: 0.0596 - val_loss: 0.0885 - val_root_mean_squared_error: 0.2877\n",
            "Epoch 182/200\n",
            "33/33 [==============================] - 0s 15ms/step - loss: 0.0047 - root_mean_squared_error: 0.0603 - val_loss: 0.0794 - val_root_mean_squared_error: 0.2712\n",
            "Epoch 183/200\n",
            "33/33 [==============================] - 0s 14ms/step - loss: 0.0047 - root_mean_squared_error: 0.0600 - val_loss: 0.0867 - val_root_mean_squared_error: 0.2845\n",
            "Epoch 184/200\n",
            "33/33 [==============================] - 0s 14ms/step - loss: 0.0047 - root_mean_squared_error: 0.0599 - val_loss: 0.0794 - val_root_mean_squared_error: 0.2712\n",
            "Epoch 185/200\n",
            "33/33 [==============================] - 0s 14ms/step - loss: 0.0046 - root_mean_squared_error: 0.0598 - val_loss: 0.0846 - val_root_mean_squared_error: 0.2807\n",
            "Epoch 186/200\n",
            "33/33 [==============================] - 0s 14ms/step - loss: 0.0046 - root_mean_squared_error: 0.0596 - val_loss: 0.0934 - val_root_mean_squared_error: 0.2962\n",
            "Epoch 187/200\n",
            "33/33 [==============================] - 0s 14ms/step - loss: 0.0046 - root_mean_squared_error: 0.0597 - val_loss: 0.0881 - val_root_mean_squared_error: 0.2871\n",
            "Epoch 188/200\n",
            "33/33 [==============================] - 0s 14ms/step - loss: 0.0046 - root_mean_squared_error: 0.0594 - val_loss: 0.0900 - val_root_mean_squared_error: 0.2905\n",
            "Epoch 189/200\n",
            "33/33 [==============================] - 0s 14ms/step - loss: 0.0046 - root_mean_squared_error: 0.0597 - val_loss: 0.0856 - val_root_mean_squared_error: 0.2826\n",
            "Epoch 190/200\n",
            "33/33 [==============================] - 0s 14ms/step - loss: 0.0046 - root_mean_squared_error: 0.0597 - val_loss: 0.0873 - val_root_mean_squared_error: 0.2858\n",
            "Epoch 191/200\n",
            "33/33 [==============================] - 0s 14ms/step - loss: 0.0047 - root_mean_squared_error: 0.0604 - val_loss: 0.0866 - val_root_mean_squared_error: 0.2845\n",
            "Epoch 192/200\n",
            "33/33 [==============================] - 0s 14ms/step - loss: 0.0046 - root_mean_squared_error: 0.0596 - val_loss: 0.0861 - val_root_mean_squared_error: 0.2835\n",
            "Epoch 193/200\n",
            "33/33 [==============================] - 0s 14ms/step - loss: 0.0046 - root_mean_squared_error: 0.0595 - val_loss: 0.0799 - val_root_mean_squared_error: 0.2724\n",
            "Epoch 194/200\n",
            "33/33 [==============================] - 0s 14ms/step - loss: 0.0046 - root_mean_squared_error: 0.0598 - val_loss: 0.0876 - val_root_mean_squared_error: 0.2863\n",
            "Epoch 195/200\n",
            "33/33 [==============================] - 0s 14ms/step - loss: 0.0046 - root_mean_squared_error: 0.0594 - val_loss: 0.0822 - val_root_mean_squared_error: 0.2767\n",
            "Epoch 196/200\n",
            "33/33 [==============================] - 0s 14ms/step - loss: 0.0046 - root_mean_squared_error: 0.0597 - val_loss: 0.0826 - val_root_mean_squared_error: 0.2774\n",
            "Epoch 197/200\n",
            "33/33 [==============================] - 0s 14ms/step - loss: 0.0046 - root_mean_squared_error: 0.0597 - val_loss: 0.0854 - val_root_mean_squared_error: 0.2824\n",
            "Epoch 198/200\n",
            "33/33 [==============================] - 0s 14ms/step - loss: 0.0046 - root_mean_squared_error: 0.0594 - val_loss: 0.0828 - val_root_mean_squared_error: 0.2779\n",
            "Epoch 199/200\n",
            "33/33 [==============================] - 0s 14ms/step - loss: 0.0046 - root_mean_squared_error: 0.0597 - val_loss: 0.0797 - val_root_mean_squared_error: 0.2721\n",
            "Epoch 200/200\n",
            "33/33 [==============================] - 0s 14ms/step - loss: 0.0046 - root_mean_squared_error: 0.0600 - val_loss: 0.0847 - val_root_mean_squared_error: 0.2812\n"
          ]
        }
      ],
      "source": [
        "# fit the model\n",
        "\n",
        "training_history = model.fit(DJIA_norm_X_train, DJIA_norm_Y_train, validation_data=(DJIA_norm_X_validation, DJIA_norm_Y_validation), epochs=200, batch_size=50, verbose=1)"
      ]
    },
    {
      "cell_type": "code",
      "execution_count": 49,
      "metadata": {
        "colab": {
          "base_uri": "https://localhost:8080/"
        },
        "id": "ZpW6f3MY5H1p",
        "outputId": "4d943a2e-ecd3-4865-9fab-1a23960f8df1"
      },
      "outputs": [
        {
          "output_type": "stream",
          "name": "stdout",
          "text": [
            "GPU 0: Tesla P100-PCIE-16GB (UUID: GPU-242e07da-60de-8a35-369d-e2662daba2b4)\n"
          ]
        }
      ],
      "source": [
        "!nvidia-smi -L"
      ]
    },
    {
      "cell_type": "code",
      "execution_count": 51,
      "metadata": {
        "colab": {
          "base_uri": "https://localhost:8080/",
          "height": 295
        },
        "id": "TbHgCf4J7RzC",
        "outputId": "89845ee1-8287-498d-d2fa-c034aea5f8f1"
      },
      "outputs": [
        {
          "output_type": "display_data",
          "data": {
            "text/plain": [
              "<Figure size 432x288 with 1 Axes>"
            ],
            "image/png": "[encoded data removed]"
          },
          "metadata": {
            "needs_background": "light"
          }
        }
      ],
      "source": [
        "plt.plot(training_history.history['root_mean_squared_error'])\n",
        "plt.plot(training_history.history['val_root_mean_squared_error'])\n",
        "plt.title('model RMSE')\n",
        "plt.ylabel('RMSE')\n",
        "plt.xlabel('epoch')\n",
        "plt.legend(['train', 'val'], loc='upper left')\n",
        "plt.show()"
      ]
    },
    {
      "cell_type": "code",
      "execution_count": 52,
      "metadata": {
        "id": "EbdD4ibk_wIh"
      },
      "outputs": [],
      "source": [
        "# make a prediction on imf1\n",
        "DJIA_norm_Y_hat = model.predict(DJIA_norm_X_test)"
      ]
    },
    {
      "cell_type": "code",
      "execution_count": 53,
      "metadata": {
        "id": "1rlLKjJyNIG0"
      },
      "outputs": [],
      "source": [
        "DJIA_norm_Y_hat_train = model.predict(DJIA_norm_X_train)"
      ]
    },
    {
      "cell_type": "code",
      "execution_count": 54,
      "metadata": {
        "colab": {
          "base_uri": "https://localhost:8080/",
          "height": 282
        },
        "id": "A4XIcOcyNPyh",
        "outputId": "2b4524c6-56e4-4e04-ef27-66d484d19c95"
      },
      "outputs": [
        {
          "output_type": "execute_result",
          "data": {
            "text/plain": [
              "[<matplotlib.lines.Line2D at 0x7f701a0c40d0>]"
            ]
          },
          "metadata": {},
          "execution_count": 54
        },
        {
          "output_type": "display_data",
          "data": {
            "text/plain": [
              "<Figure size 432x288 with 1 Axes>"
            ],
            "image/png": "[encoded data removed]"
          },
          "metadata": {
            "needs_background": "light"
          }
        }
      ],
      "source": [
        "plt.plot(DJIA_norm_Y_hat_train)\n"
      ]
    },
    {
      "cell_type": "code",
      "execution_count": 56,
      "metadata": {
        "colab": {
          "base_uri": "https://localhost:8080/",
          "height": 282
        },
        "id": "pBnBj6rZNv-o",
        "outputId": "ab240e27-8778-47a0-c3d8-638f2d2f607b"
      },
      "outputs": [
        {
          "output_type": "execute_result",
          "data": {
            "text/plain": [
              "[<matplotlib.lines.Line2D at 0x7f70197a6110>]"
            ]
          },
          "metadata": {},
          "execution_count": 56
        },
        {
          "output_type": "display_data",
          "data": {
            "text/plain": [
              "<Figure size 432x288 with 1 Axes>"
            ],
            "image/png": "[encoded data removed]"
          },
          "metadata": {
            "needs_background": "light"
          }
        }
      ],
      "source": [
        "plt.plot(DJIA_train_norm)"
      ]
    },
    {
      "cell_type": "code",
      "execution_count": 57,
      "metadata": {
        "colab": {
          "base_uri": "https://localhost:8080/"
        },
        "id": "bOcl67ddA-va",
        "outputId": "8d8a2f39-ad7e-416e-9ddc-f6b6b84269bd"
      },
      "outputs": [
        {
          "output_type": "execute_result",
          "data": {
            "text/plain": [
              "(150, 1)"
            ]
          },
          "metadata": {},
          "execution_count": 57
        }
      ],
      "source": [
        "DJIA_norm_Y_hat.shape"
      ]
    },
    {
      "cell_type": "code",
      "execution_count": 58,
      "metadata": {
        "id": "MykKTuNqHuUF"
      },
      "outputs": [],
      "source": [
        "DJIA_norm_Y_hat = np.reshape(DJIA_norm_Y_hat, (150,))"
      ]
    },
    {
      "cell_type": "code",
      "execution_count": 59,
      "metadata": {
        "colab": {
          "base_uri": "https://localhost:8080/"
        },
        "id": "h-OCWP_lH9Ob",
        "outputId": "12811f59-b0f5-4d1b-bfe0-1f880b6a8733"
      },
      "outputs": [
        {
          "output_type": "execute_result",
          "data": {
            "text/plain": [
              "(150,)"
            ]
          },
          "metadata": {},
          "execution_count": 59
        }
      ],
      "source": [
        "DJIA_norm_Y_hat.shape"
      ]
    },
    {
      "cell_type": "code",
      "execution_count": 60,
      "metadata": {
        "colab": {
          "base_uri": "https://localhost:8080/"
        },
        "id": "EXWFniYuHl7K",
        "outputId": "30147fea-5af1-4d9d-86a3-870b93656c61"
      },
      "outputs": [
        {
          "output_type": "execute_result",
          "data": {
            "text/plain": [
              "(150,)"
            ]
          },
          "metadata": {},
          "execution_count": 60
        }
      ],
      "source": [
        "DJIA_test_norm.shape"
      ]
    },
    {
      "cell_type": "code",
      "execution_count": 62,
      "metadata": {
        "colab": {
          "base_uri": "https://localhost:8080/",
          "height": 265
        },
        "id": "CFXyXqYxAbxB",
        "outputId": "736173ca-9aca-4f3c-c14c-9f5b022b909e"
      },
      "outputs": [
        {
          "output_type": "display_data",
          "data": {
            "text/plain": [
              "<Figure size 432x288 with 1 Axes>"
            ],
            "image/png": "[encoded data removed]"
          },
          "metadata": {
            "needs_background": "light"
          }
        }
      ],
      "source": [
        "plt.plot(DJIA_norm_Y_hat)\n",
        "plt.plot(DJIA_test_norm)\n",
        "plt.show()"
      ]
    },
    {
      "cell_type": "code",
      "execution_count": 63,
      "metadata": {
        "id": "DXKmVycWlVCB"
      },
      "outputs": [],
      "source": [
        "# reverse the norm prediction\n",
        "DJIA_Y_hat = DJIA_norm_Y_hat * (max(DJIA_train) - min(DJIA_train)) + min(DJIA_train)\n"
      ]
    },
    {
      "cell_type": "code",
      "execution_count": 64,
      "metadata": {
        "colab": {
          "base_uri": "https://localhost:8080/",
          "height": 268
        },
        "id": "irzbjdvyCIKZ",
        "outputId": "c75bbec7-add6-4a14-ef75-45d94b4f2525"
      },
      "outputs": [
        {
          "output_type": "display_data",
          "data": {
            "text/plain": [
              "<Figure size 432x288 with 1 Axes>"
            ],
            "image/png": "[encoded data removed]"
          },
          "metadata": {
            "needs_background": "light"
          }
        }
      ],
      "source": [
        "plt.plot(DJIA_Y_hat)\n",
        "plt.plot(DJIA_test)\n",
        "plt.show()"
      ]
    },
    {
      "cell_type": "code",
      "execution_count": 65,
      "metadata": {
        "colab": {
          "base_uri": "https://localhost:8080/"
        },
        "id": "q8-u_sGFGXrb",
        "outputId": "2d182455-b402-4736-ce56-c9ea118ef068"
      },
      "outputs": [
        {
          "output_type": "execute_result",
          "data": {
            "text/plain": [
              "(150,)"
            ]
          },
          "metadata": {},
          "execution_count": 65
        }
      ],
      "source": [
        "DJIA_Y_hat.shape"
      ]
    },
    {
      "cell_type": "code",
      "execution_count": 66,
      "metadata": {
        "colab": {
          "base_uri": "https://localhost:8080/"
        },
        "id": "S3QqV__hHLX-",
        "outputId": "106d3002-e6b8-495e-dc76-b4757c6c973c"
      },
      "outputs": [
        {
          "output_type": "execute_result",
          "data": {
            "text/plain": [
              "(150,)"
            ]
          },
          "metadata": {},
          "execution_count": 66
        }
      ],
      "source": [
        "DJIA_test.shape"
      ]
    },
    {
      "cell_type": "code",
      "execution_count": 67,
      "metadata": {
        "id": "KO71ZmCBDLwA"
      },
      "outputs": [],
      "source": [
        "rmse = np.mean(np.sqrt(np.mean((DJIA_Y_hat - DJIA_test) ** 2)))"
      ]
    },
    {
      "cell_type": "code",
      "execution_count": 68,
      "metadata": {
        "colab": {
          "base_uri": "https://localhost:8080/"
        },
        "id": "GfJJ2SCeGDoF",
        "outputId": "bc9f1996-6753-4592-a420-26321e52b7b5"
      },
      "outputs": [
        {
          "output_type": "execute_result",
          "data": {
            "text/plain": [
              "6080.36027126597"
            ]
          },
          "metadata": {},
          "execution_count": 68
        }
      ],
      "source": [
        "rmse"
      ]
    }
  ],
  "metadata": {
    "accelerator": "GPU",
    "colab": {
      "machine_shape": "hm",
      "name": "Untitled0.ipynb",
      "provenance": [],
      "authorship_tag": "ABX9TyMiG+uYfz60OmXrVQYnVfHB",
      "include_colab_link": true
    },
    "gpuClass": "standard",
    "kernelspec": {
      "display_name": "Python 3",
      "name": "python3"
    },
    "language_info": {
      "name": "python"
    }
  },
  "nbformat": 4,
  "nbformat_minor": 0
}