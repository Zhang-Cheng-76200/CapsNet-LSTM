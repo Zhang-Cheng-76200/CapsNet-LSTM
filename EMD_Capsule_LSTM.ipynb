{
  "nbformat": 4,
  "nbformat_minor": 0,
  "metadata": {
    "colab": {
      "name": "EMD-CapsNet-LSTM-Attention.ipynb",
      "provenance": [],
      "collapsed_sections": [],
      "machine_shape": "hm",
      "include_colab_link": true
    },
    "kernelspec": {
      "name": "python3",
      "display_name": "Python 3"
    },
    "language_info": {
      "name": "python"
    },
    "accelerator": "GPU",
    "gpuClass": "standard"
  },
  "cells": [
    {
      "cell_type": "markdown",
      "metadata": {
        "id": "view-in-github",
        "colab_type": "text"
      },
      "source": [
        "<a href=\"https://colab.research.google.com/github/Orangefox76200/EMD-Capsule-LSTM/blob/main/EMD_Capsule_LSTM.ipynb\" target=\"_parent\"><img src=\"https://colab.research.google.com/assets/colab-badge.svg\" alt=\"Open In Colab\"/></a>"
      ]
    },
    {
      "cell_type": "markdown",
      "source": [
        "# **EMD-Capsule-LSTM with Attention Mechanism**"
      ],
      "metadata": {
        "id": "Pvmp4R5xj7t_"
      }
    },
    {
      "cell_type": "markdown",
      "source": [
        "## Install and import packages"
      ],
      "metadata": {
        "id": "RRueEVZEaab3"
      }
    },
    {
      "cell_type": "markdown",
      "source": [
        "Install pyEMD (EMD-signal 1.2.3)"
      ],
      "metadata": {
        "id": "zMmfUkbM6xEk"
      }
    },
    {
      "cell_type": "code",
      "source": [
        "!pip install EMD-signal"
      ],
      "metadata": {
        "id": "3_OAd5_-6wci",
        "outputId": "c8942ec4-4078-45e8-8280-6ce9523e4621",
        "colab": {
          "base_uri": "https://localhost:8080/"
        }
      },
      "execution_count": 2,
      "outputs": [
        {
          "output_type": "stream",
          "name": "stdout",
          "text": [
            "Looking in indexes: https://pypi.org/simple, https://us-python.pkg.dev/colab-wheels/public/simple/\n",
            "Collecting EMD-signal\n",
            "  Downloading EMD_signal-1.2.3-py3-none-any.whl (64 kB)\n",
            "\u001b[K     |████████████████████████████████| 64 kB 2.5 MB/s \n",
            "\u001b[?25hRequirement already satisfied: scipy>=0.19 in /usr/local/lib/python3.7/dist-packages (from EMD-signal) (1.7.3)\n",
            "Collecting pathos>=0.2.1\n",
            "  Downloading pathos-0.2.9-py3-none-any.whl (76 kB)\n",
            "\u001b[K     |████████████████████████████████| 76 kB 6.0 MB/s \n",
            "\u001b[?25hRequirement already satisfied: numpy>=1.12 in /usr/local/lib/python3.7/dist-packages (from EMD-signal) (1.21.6)\n",
            "Collecting ppft>=1.7.6.5\n",
            "  Downloading ppft-1.7.6.5-py2.py3-none-any.whl (52 kB)\n",
            "\u001b[K     |████████████████████████████████| 52 kB 1.3 MB/s \n",
            "\u001b[?25hCollecting multiprocess>=0.70.13\n",
            "  Downloading multiprocess-0.70.13-py37-none-any.whl (115 kB)\n",
            "\u001b[K     |████████████████████████████████| 115 kB 59.8 MB/s \n",
            "\u001b[?25hCollecting pox>=0.3.1\n",
            "  Downloading pox-0.3.1-py2.py3-none-any.whl (28 kB)\n",
            "Requirement already satisfied: dill>=0.3.5.1 in /usr/local/lib/python3.7/dist-packages (from pathos>=0.2.1->EMD-signal) (0.3.5.1)\n",
            "Requirement already satisfied: six>=1.7.3 in /usr/local/lib/python3.7/dist-packages (from ppft>=1.7.6.5->pathos>=0.2.1->EMD-signal) (1.15.0)\n",
            "Installing collected packages: ppft, pox, multiprocess, pathos, EMD-signal\n",
            "Successfully installed EMD-signal-1.2.3 multiprocess-0.70.13 pathos-0.2.9 pox-0.3.1 ppft-1.7.6.5\n"
          ]
        }
      ]
    },
    {
      "cell_type": "code",
      "source": [
        "!pip install keras-utils"
      ],
      "metadata": {
        "id": "r0U4Nj6dVZXT",
        "outputId": "a6a92d61-f680-40c3-90e7-6e5d18b096e0",
        "colab": {
          "base_uri": "https://localhost:8080/"
        }
      },
      "execution_count": 3,
      "outputs": [
        {
          "output_type": "stream",
          "name": "stdout",
          "text": [
            "Looking in indexes: https://pypi.org/simple, https://us-python.pkg.dev/colab-wheels/public/simple/\n",
            "Collecting keras-utils\n",
            "  Downloading keras-utils-1.0.13.tar.gz (2.4 kB)\n",
            "Requirement already satisfied: Keras>=2.1.5 in /usr/local/lib/python3.7/dist-packages (from keras-utils) (2.8.0)\n",
            "Building wheels for collected packages: keras-utils\n",
            "  Building wheel for keras-utils (setup.py) ... \u001b[?25l\u001b[?25hdone\n",
            "  Created wheel for keras-utils: filename=keras_utils-1.0.13-py3-none-any.whl size=2656 sha256=5078e353f528f931c4d0b09cffc75984e1c1b48deb362399039045d5c8c28d84\n",
            "  Stored in directory: /root/.cache/pip/wheels/d0/dd/3b/493952a5240d486a83805d65360dedadbadeae71d25e2c877f\n",
            "Successfully built keras-utils\n",
            "Installing collected packages: keras-utils\n",
            "Successfully installed keras-utils-1.0.13\n"
          ]
        }
      ]
    },
    {
      "cell_type": "code",
      "source": [
        "#!pip list"
      ],
      "metadata": {
        "id": "D1IdHd-NOmsJ"
      },
      "execution_count": 4,
      "outputs": []
    },
    {
      "cell_type": "markdown",
      "source": [
        "Import Packages"
      ],
      "metadata": {
        "id": "Xz1kL_zQk2xf"
      }
    },
    {
      "cell_type": "code",
      "source": [
        "import tensorflow as tf\n",
        "from tensorflow import keras\n",
        "from tensorflow.keras import layers\n",
        "import pandas as pd\n",
        "import numpy as np\n",
        "from PyEMD import EMD , Visualisation\n",
        "from PyEMD import EEMD\n",
        "from PyEMD import CEEMDAN\n",
        "from matplotlib import pyplot as plt"
      ],
      "metadata": {
        "id": "xDgncICuXnfw"
      },
      "execution_count": 5,
      "outputs": []
    },
    {
      "cell_type": "markdown",
      "source": [
        "## Select the time series from raw data"
      ],
      "metadata": {
        "id": "KEnabwKgaOi5"
      }
    },
    {
      "cell_type": "markdown",
      "source": [
        "Stock Index Dataset: DJIA (Jan 04,2010-Dec 31,2019)\n",
        "\n",
        "Upload **Orangefox76200/EMD-Capsule-LSTM/DJIA.xlsx** (Github) to Google Drive, then import it from Google Drive to EMD_Capsule_LSTM.ipynb"
      ],
      "metadata": {
        "id": "jrF_Re5ii1Co"
      }
    },
    {
      "cell_type": "code",
      "source": [
        "from google.colab import drive\n",
        "drive.mount ('gdrive')\n",
        "DJIA_raw = pd.read_excel ('gdrive/MyDrive/Colab Notebooks/DJIA.xlsx')\n",
        "DJIA_raw"
      ],
      "metadata": {
        "id": "7FD_RJZwKbVZ",
        "colab": {
          "base_uri": "https://localhost:8080/",
          "height": 441
        },
        "outputId": "2dd41299-aa43-479e-d27e-381286f84124"
      },
      "execution_count": 6,
      "outputs": [
        {
          "output_type": "stream",
          "name": "stdout",
          "text": [
            "Mounted at gdrive\n"
          ]
        },
        {
          "output_type": "execute_result",
          "data": {
            "text/plain": [
              "              Date      Open      High       Low     Close     Volume\n",
              "0     Jan 04, 2010  10430.69  10604.97  10430.69  10583.96  179780000\n",
              "1     Jan 05, 2010  10584.56  10584.56  10522.52  10572.02  188540000\n",
              "2     Jan 06, 2010  10564.72  10594.99  10546.55  10573.68  186040000\n",
              "3     Jan 07, 2010  10571.11  10612.37  10505.21  10606.86  217390000\n",
              "4     Jan 08, 2010  10606.40  10619.40  10554.33  10618.19  172710000\n",
              "...            ...       ...       ...       ...       ...        ...\n",
              "2511  Dec 24, 2019  28572.57  28576.80  28503.21  28515.45   86150000\n",
              "2512  Dec 26, 2019  28539.46  28624.10  28535.15  28621.39  155970000\n",
              "2513  Dec 27, 2019  28675.34  28701.66  28608.98  28645.26  182280000\n",
              "2514  Dec 30, 2019  28654.76  28664.69  28428.98  28462.14  181600000\n",
              "2515  Dec 31, 2019  28414.64  28547.35  28376.49  28538.44  193340000\n",
              "\n",
              "[2516 rows x 6 columns]"
            ],
            "text/html": [
              "\n",
              "  <div id=\"df-73bae8c1-9247-49aa-89fa-c0e3c6e7b01d\">\n",
              "    <div class=\"colab-df-container\">\n",
              "      <div>\n",
              "<style scoped>\n",
              "    .dataframe tbody tr th:only-of-type {\n",
              "        vertical-align: middle;\n",
              "    }\n",
              "\n",
              "    .dataframe tbody tr th {\n",
              "        vertical-align: top;\n",
              "    }\n",
              "\n",
              "    .dataframe thead th {\n",
              "        text-align: right;\n",
              "    }\n",
              "</style>\n",
              "<table border=\"1\" class=\"dataframe\">\n",
              "  <thead>\n",
              "    <tr style=\"text-align: right;\">\n",
              "      <th></th>\n",
              "      <th>Date</th>\n",
              "      <th>Open</th>\n",
              "      <th>High</th>\n",
              "      <th>Low</th>\n",
              "      <th>Close</th>\n",
              "      <th>Volume</th>\n",
              "    </tr>\n",
              "  </thead>\n",
              "  <tbody>\n",
              "    <tr>\n",
              "      <th>0</th>\n",
              "      <td>Jan 04, 2010</td>\n",
              "      <td>10430.69</td>\n",
              "      <td>10604.97</td>\n",
              "      <td>10430.69</td>\n",
              "      <td>10583.96</td>\n",
              "      <td>179780000</td>\n",
              "    </tr>\n",
              "    <tr>\n",
              "      <th>1</th>\n",
              "      <td>Jan 05, 2010</td>\n",
              "      <td>10584.56</td>\n",
              "      <td>10584.56</td>\n",
              "      <td>10522.52</td>\n",
              "      <td>10572.02</td>\n",
              "      <td>188540000</td>\n",
              "    </tr>\n",
              "    <tr>\n",
              "      <th>2</th>\n",
              "      <td>Jan 06, 2010</td>\n",
              "      <td>10564.72</td>\n",
              "      <td>10594.99</td>\n",
              "      <td>10546.55</td>\n",
              "      <td>10573.68</td>\n",
              "      <td>186040000</td>\n",
              "    </tr>\n",
              "    <tr>\n",
              "      <th>3</th>\n",
              "      <td>Jan 07, 2010</td>\n",
              "      <td>10571.11</td>\n",
              "      <td>10612.37</td>\n",
              "      <td>10505.21</td>\n",
              "      <td>10606.86</td>\n",
              "      <td>217390000</td>\n",
              "    </tr>\n",
              "    <tr>\n",
              "      <th>4</th>\n",
              "      <td>Jan 08, 2010</td>\n",
              "      <td>10606.40</td>\n",
              "      <td>10619.40</td>\n",
              "      <td>10554.33</td>\n",
              "      <td>10618.19</td>\n",
              "      <td>172710000</td>\n",
              "    </tr>\n",
              "    <tr>\n",
              "      <th>...</th>\n",
              "      <td>...</td>\n",
              "      <td>...</td>\n",
              "      <td>...</td>\n",
              "      <td>...</td>\n",
              "      <td>...</td>\n",
              "      <td>...</td>\n",
              "    </tr>\n",
              "    <tr>\n",
              "      <th>2511</th>\n",
              "      <td>Dec 24, 2019</td>\n",
              "      <td>28572.57</td>\n",
              "      <td>28576.80</td>\n",
              "      <td>28503.21</td>\n",
              "      <td>28515.45</td>\n",
              "      <td>86150000</td>\n",
              "    </tr>\n",
              "    <tr>\n",
              "      <th>2512</th>\n",
              "      <td>Dec 26, 2019</td>\n",
              "      <td>28539.46</td>\n",
              "      <td>28624.10</td>\n",
              "      <td>28535.15</td>\n",
              "      <td>28621.39</td>\n",
              "      <td>155970000</td>\n",
              "    </tr>\n",
              "    <tr>\n",
              "      <th>2513</th>\n",
              "      <td>Dec 27, 2019</td>\n",
              "      <td>28675.34</td>\n",
              "      <td>28701.66</td>\n",
              "      <td>28608.98</td>\n",
              "      <td>28645.26</td>\n",
              "      <td>182280000</td>\n",
              "    </tr>\n",
              "    <tr>\n",
              "      <th>2514</th>\n",
              "      <td>Dec 30, 2019</td>\n",
              "      <td>28654.76</td>\n",
              "      <td>28664.69</td>\n",
              "      <td>28428.98</td>\n",
              "      <td>28462.14</td>\n",
              "      <td>181600000</td>\n",
              "    </tr>\n",
              "    <tr>\n",
              "      <th>2515</th>\n",
              "      <td>Dec 31, 2019</td>\n",
              "      <td>28414.64</td>\n",
              "      <td>28547.35</td>\n",
              "      <td>28376.49</td>\n",
              "      <td>28538.44</td>\n",
              "      <td>193340000</td>\n",
              "    </tr>\n",
              "  </tbody>\n",
              "</table>\n",
              "<p>2516 rows × 6 columns</p>\n",
              "</div>\n",
              "      <button class=\"colab-df-convert\" onclick=\"convertToInteractive('df-73bae8c1-9247-49aa-89fa-c0e3c6e7b01d')\"\n",
              "              title=\"Convert this dataframe to an interactive table.\"\n",
              "              style=\"display:none;\">\n",
              "        \n",
              "  <svg xmlns=\"http://www.w3.org/2000/svg\" height=\"24px\"viewBox=\"0 0 24 24\"\n",
              "       width=\"24px\">\n",
              "    <path d=\"M0 0h24v24H0V0z\" fill=\"none\"/>\n",
              "    <path d=\"M18.56 5.44l.94 2.06.94-2.06 2.06-.94-2.06-.94-.94-2.06-.94 2.06-2.06.94zm-11 1L8.5 8.5l.94-2.06 2.06-.94-2.06-.94L8.5 2.5l-.94 2.06-2.06.94zm10 10l.94 2.06.94-2.06 2.06-.94-2.06-.94-.94-2.06-.94 2.06-2.06.94z\"/><path d=\"M17.41 7.96l-1.37-1.37c-.4-.4-.92-.59-1.43-.59-.52 0-1.04.2-1.43.59L10.3 9.45l-7.72 7.72c-.78.78-.78 2.05 0 2.83L4 21.41c.39.39.9.59 1.41.59.51 0 1.02-.2 1.41-.59l7.78-7.78 2.81-2.81c.8-.78.8-2.07 0-2.86zM5.41 20L4 18.59l7.72-7.72 1.47 1.35L5.41 20z\"/>\n",
              "  </svg>\n",
              "      </button>\n",
              "      \n",
              "  <style>\n",
              "    .colab-df-container {\n",
              "      display:flex;\n",
              "      flex-wrap:wrap;\n",
              "      gap: 12px;\n",
              "    }\n",
              "\n",
              "    .colab-df-convert {\n",
              "      background-color: #E8F0FE;\n",
              "      border: none;\n",
              "      border-radius: 50%;\n",
              "      cursor: pointer;\n",
              "      display: none;\n",
              "      fill: #1967D2;\n",
              "      height: 32px;\n",
              "      padding: 0 0 0 0;\n",
              "      width: 32px;\n",
              "    }\n",
              "\n",
              "    .colab-df-convert:hover {\n",
              "      background-color: #E2EBFA;\n",
              "      box-shadow: 0px 1px 2px rgba(60, 64, 67, 0.3), 0px 1px 3px 1px rgba(60, 64, 67, 0.15);\n",
              "      fill: #174EA6;\n",
              "    }\n",
              "\n",
              "    [theme=dark] .colab-df-convert {\n",
              "      background-color: #3B4455;\n",
              "      fill: #D2E3FC;\n",
              "    }\n",
              "\n",
              "    [theme=dark] .colab-df-convert:hover {\n",
              "      background-color: #434B5C;\n",
              "      box-shadow: 0px 1px 3px 1px rgba(0, 0, 0, 0.15);\n",
              "      filter: drop-shadow(0px 1px 2px rgba(0, 0, 0, 0.3));\n",
              "      fill: #FFFFFF;\n",
              "    }\n",
              "  </style>\n",
              "\n",
              "      <script>\n",
              "        const buttonEl =\n",
              "          document.querySelector('#df-73bae8c1-9247-49aa-89fa-c0e3c6e7b01d button.colab-df-convert');\n",
              "        buttonEl.style.display =\n",
              "          google.colab.kernel.accessAllowed ? 'block' : 'none';\n",
              "\n",
              "        async function convertToInteractive(key) {\n",
              "          const element = document.querySelector('#df-73bae8c1-9247-49aa-89fa-c0e3c6e7b01d');\n",
              "          const dataTable =\n",
              "            await google.colab.kernel.invokeFunction('convertToInteractive',\n",
              "                                                     [key], {});\n",
              "          if (!dataTable) return;\n",
              "\n",
              "          const docLinkHtml = 'Like what you see? Visit the ' +\n",
              "            '<a target=\"_blank\" href=https://colab.research.google.com/notebooks/data_table.ipynb>data table notebook</a>'\n",
              "            + ' to learn more about interactive tables.';\n",
              "          element.innerHTML = '';\n",
              "          dataTable['output_type'] = 'display_data';\n",
              "          await google.colab.output.renderOutput(dataTable, element);\n",
              "          const docLink = document.createElement('div');\n",
              "          docLink.innerHTML = docLinkHtml;\n",
              "          element.appendChild(docLink);\n",
              "        }\n",
              "      </script>\n",
              "    </div>\n",
              "  </div>\n",
              "  "
            ]
          },
          "metadata": {},
          "execution_count": 6
        }
      ]
    },
    {
      "cell_type": "code",
      "source": [
        "DJIA_raw.shape"
      ],
      "metadata": {
        "id": "Kxhn0aFTvFSa",
        "outputId": "6cd199b1-b965-4de9-e2a8-93471e142a3e",
        "colab": {
          "base_uri": "https://localhost:8080/"
        }
      },
      "execution_count": 7,
      "outputs": [
        {
          "output_type": "execute_result",
          "data": {
            "text/plain": [
              "(2516, 6)"
            ]
          },
          "metadata": {},
          "execution_count": 7
        }
      ]
    },
    {
      "cell_type": "code",
      "source": [
        "DJIA_raw.ndim"
      ],
      "metadata": {
        "id": "BBowUaJcq-by",
        "outputId": "d84ae204-de07-4beb-dd0a-2a3fb942ae99",
        "colab": {
          "base_uri": "https://localhost:8080/"
        }
      },
      "execution_count": 8,
      "outputs": [
        {
          "output_type": "execute_result",
          "data": {
            "text/plain": [
              "2"
            ]
          },
          "metadata": {},
          "execution_count": 8
        }
      ]
    },
    {
      "cell_type": "code",
      "source": [
        "DJIA_raw.dtypes"
      ],
      "metadata": {
        "id": "sTGzHSEdv0Nq",
        "outputId": "df2f49ef-97a3-4498-ff71-d15c22674418",
        "colab": {
          "base_uri": "https://localhost:8080/"
        }
      },
      "execution_count": 9,
      "outputs": [
        {
          "output_type": "execute_result",
          "data": {
            "text/plain": [
              "Date       object\n",
              "Open      float64\n",
              "High      float64\n",
              "Low       float64\n",
              "Close     float64\n",
              "Volume      int64\n",
              "dtype: object"
            ]
          },
          "metadata": {},
          "execution_count": 9
        }
      ]
    },
    {
      "cell_type": "code",
      "source": [
        "DJIA_raw.describe()"
      ],
      "metadata": {
        "id": "RYiYWK1sztXK",
        "outputId": "f5558bf7-13a4-450a-c3b6-4c3d911053e3",
        "colab": {
          "base_uri": "https://localhost:8080/",
          "height": 300
        }
      },
      "execution_count": 10,
      "outputs": [
        {
          "output_type": "execute_result",
          "data": {
            "text/plain": [
              "               Open          High           Low         Close        Volume\n",
              "count   2516.000000   2516.000000   2516.000000   2516.000000  2.516000e+03\n",
              "mean   17601.997731  17686.674499  17513.448593  17606.741574  1.895687e+08\n",
              "std     5148.425951   5162.804510   5131.962418   5147.050108  1.106612e+08\n",
              "min     9686.480000   9770.870000   9614.320000   9686.480000  8.410000e+06\n",
              "25%    12977.190000  13044.985000  12921.337500  12981.207500  1.028275e+08\n",
              "50%    17011.075000  17081.805000  16943.140000  17008.230000  1.516350e+08\n",
              "75%    21426.617500  21488.690000  21383.437500  21411.107500  2.602025e+08\n",
              "max    28675.340000  28701.660000  28608.980000  28645.260000  9.005100e+08"
            ],
            "text/html": [
              "\n",
              "  <div id=\"df-06287bd0-b69e-4587-9292-e3da728e9aa3\">\n",
              "    <div class=\"colab-df-container\">\n",
              "      <div>\n",
              "<style scoped>\n",
              "    .dataframe tbody tr th:only-of-type {\n",
              "        vertical-align: middle;\n",
              "    }\n",
              "\n",
              "    .dataframe tbody tr th {\n",
              "        vertical-align: top;\n",
              "    }\n",
              "\n",
              "    .dataframe thead th {\n",
              "        text-align: right;\n",
              "    }\n",
              "</style>\n",
              "<table border=\"1\" class=\"dataframe\">\n",
              "  <thead>\n",
              "    <tr style=\"text-align: right;\">\n",
              "      <th></th>\n",
              "      <th>Open</th>\n",
              "      <th>High</th>\n",
              "      <th>Low</th>\n",
              "      <th>Close</th>\n",
              "      <th>Volume</th>\n",
              "    </tr>\n",
              "  </thead>\n",
              "  <tbody>\n",
              "    <tr>\n",
              "      <th>count</th>\n",
              "      <td>2516.000000</td>\n",
              "      <td>2516.000000</td>\n",
              "      <td>2516.000000</td>\n",
              "      <td>2516.000000</td>\n",
              "      <td>2.516000e+03</td>\n",
              "    </tr>\n",
              "    <tr>\n",
              "      <th>mean</th>\n",
              "      <td>17601.997731</td>\n",
              "      <td>17686.674499</td>\n",
              "      <td>17513.448593</td>\n",
              "      <td>17606.741574</td>\n",
              "      <td>1.895687e+08</td>\n",
              "    </tr>\n",
              "    <tr>\n",
              "      <th>std</th>\n",
              "      <td>5148.425951</td>\n",
              "      <td>5162.804510</td>\n",
              "      <td>5131.962418</td>\n",
              "      <td>5147.050108</td>\n",
              "      <td>1.106612e+08</td>\n",
              "    </tr>\n",
              "    <tr>\n",
              "      <th>min</th>\n",
              "      <td>9686.480000</td>\n",
              "      <td>9770.870000</td>\n",
              "      <td>9614.320000</td>\n",
              "      <td>9686.480000</td>\n",
              "      <td>8.410000e+06</td>\n",
              "    </tr>\n",
              "    <tr>\n",
              "      <th>25%</th>\n",
              "      <td>12977.190000</td>\n",
              "      <td>13044.985000</td>\n",
              "      <td>12921.337500</td>\n",
              "      <td>12981.207500</td>\n",
              "      <td>1.028275e+08</td>\n",
              "    </tr>\n",
              "    <tr>\n",
              "      <th>50%</th>\n",
              "      <td>17011.075000</td>\n",
              "      <td>17081.805000</td>\n",
              "      <td>16943.140000</td>\n",
              "      <td>17008.230000</td>\n",
              "      <td>1.516350e+08</td>\n",
              "    </tr>\n",
              "    <tr>\n",
              "      <th>75%</th>\n",
              "      <td>21426.617500</td>\n",
              "      <td>21488.690000</td>\n",
              "      <td>21383.437500</td>\n",
              "      <td>21411.107500</td>\n",
              "      <td>2.602025e+08</td>\n",
              "    </tr>\n",
              "    <tr>\n",
              "      <th>max</th>\n",
              "      <td>28675.340000</td>\n",
              "      <td>28701.660000</td>\n",
              "      <td>28608.980000</td>\n",
              "      <td>28645.260000</td>\n",
              "      <td>9.005100e+08</td>\n",
              "    </tr>\n",
              "  </tbody>\n",
              "</table>\n",
              "</div>\n",
              "      <button class=\"colab-df-convert\" onclick=\"convertToInteractive('df-06287bd0-b69e-4587-9292-e3da728e9aa3')\"\n",
              "              title=\"Convert this dataframe to an interactive table.\"\n",
              "              style=\"display:none;\">\n",
              "        \n",
              "  <svg xmlns=\"http://www.w3.org/2000/svg\" height=\"24px\"viewBox=\"0 0 24 24\"\n",
              "       width=\"24px\">\n",
              "    <path d=\"M0 0h24v24H0V0z\" fill=\"none\"/>\n",
              "    <path d=\"M18.56 5.44l.94 2.06.94-2.06 2.06-.94-2.06-.94-.94-2.06-.94 2.06-2.06.94zm-11 1L8.5 8.5l.94-2.06 2.06-.94-2.06-.94L8.5 2.5l-.94 2.06-2.06.94zm10 10l.94 2.06.94-2.06 2.06-.94-2.06-.94-.94-2.06-.94 2.06-2.06.94z\"/><path d=\"M17.41 7.96l-1.37-1.37c-.4-.4-.92-.59-1.43-.59-.52 0-1.04.2-1.43.59L10.3 9.45l-7.72 7.72c-.78.78-.78 2.05 0 2.83L4 21.41c.39.39.9.59 1.41.59.51 0 1.02-.2 1.41-.59l7.78-7.78 2.81-2.81c.8-.78.8-2.07 0-2.86zM5.41 20L4 18.59l7.72-7.72 1.47 1.35L5.41 20z\"/>\n",
              "  </svg>\n",
              "      </button>\n",
              "      \n",
              "  <style>\n",
              "    .colab-df-container {\n",
              "      display:flex;\n",
              "      flex-wrap:wrap;\n",
              "      gap: 12px;\n",
              "    }\n",
              "\n",
              "    .colab-df-convert {\n",
              "      background-color: #E8F0FE;\n",
              "      border: none;\n",
              "      border-radius: 50%;\n",
              "      cursor: pointer;\n",
              "      display: none;\n",
              "      fill: #1967D2;\n",
              "      height: 32px;\n",
              "      padding: 0 0 0 0;\n",
              "      width: 32px;\n",
              "    }\n",
              "\n",
              "    .colab-df-convert:hover {\n",
              "      background-color: #E2EBFA;\n",
              "      box-shadow: 0px 1px 2px rgba(60, 64, 67, 0.3), 0px 1px 3px 1px rgba(60, 64, 67, 0.15);\n",
              "      fill: #174EA6;\n",
              "    }\n",
              "\n",
              "    [theme=dark] .colab-df-convert {\n",
              "      background-color: #3B4455;\n",
              "      fill: #D2E3FC;\n",
              "    }\n",
              "\n",
              "    [theme=dark] .colab-df-convert:hover {\n",
              "      background-color: #434B5C;\n",
              "      box-shadow: 0px 1px 3px 1px rgba(0, 0, 0, 0.15);\n",
              "      filter: drop-shadow(0px 1px 2px rgba(0, 0, 0, 0.3));\n",
              "      fill: #FFFFFF;\n",
              "    }\n",
              "  </style>\n",
              "\n",
              "      <script>\n",
              "        const buttonEl =\n",
              "          document.querySelector('#df-06287bd0-b69e-4587-9292-e3da728e9aa3 button.colab-df-convert');\n",
              "        buttonEl.style.display =\n",
              "          google.colab.kernel.accessAllowed ? 'block' : 'none';\n",
              "\n",
              "        async function convertToInteractive(key) {\n",
              "          const element = document.querySelector('#df-06287bd0-b69e-4587-9292-e3da728e9aa3');\n",
              "          const dataTable =\n",
              "            await google.colab.kernel.invokeFunction('convertToInteractive',\n",
              "                                                     [key], {});\n",
              "          if (!dataTable) return;\n",
              "\n",
              "          const docLinkHtml = 'Like what you see? Visit the ' +\n",
              "            '<a target=\"_blank\" href=https://colab.research.google.com/notebooks/data_table.ipynb>data table notebook</a>'\n",
              "            + ' to learn more about interactive tables.';\n",
              "          element.innerHTML = '';\n",
              "          dataTable['output_type'] = 'display_data';\n",
              "          await google.colab.output.renderOutput(dataTable, element);\n",
              "          const docLink = document.createElement('div');\n",
              "          docLink.innerHTML = docLinkHtml;\n",
              "          element.appendChild(docLink);\n",
              "        }\n",
              "      </script>\n",
              "    </div>\n",
              "  </div>\n",
              "  "
            ]
          },
          "metadata": {},
          "execution_count": 10
        }
      ]
    },
    {
      "cell_type": "code",
      "source": [
        "DJIA_raw.iloc[:,4]"
      ],
      "metadata": {
        "id": "0jMNAgbTyXtL",
        "outputId": "ac92db29-f44a-4c23-97ad-c6d8cc4180b2",
        "colab": {
          "base_uri": "https://localhost:8080/"
        }
      },
      "execution_count": 11,
      "outputs": [
        {
          "output_type": "execute_result",
          "data": {
            "text/plain": [
              "0       10583.96\n",
              "1       10572.02\n",
              "2       10573.68\n",
              "3       10606.86\n",
              "4       10618.19\n",
              "          ...   \n",
              "2511    28515.45\n",
              "2512    28621.39\n",
              "2513    28645.26\n",
              "2514    28462.14\n",
              "2515    28538.44\n",
              "Name: Close, Length: 2516, dtype: float64"
            ]
          },
          "metadata": {},
          "execution_count": 11
        }
      ]
    },
    {
      "cell_type": "markdown",
      "source": [
        "Use the close price as the time series to be predicted."
      ],
      "metadata": {
        "id": "ZXdYs-onqWfq"
      }
    },
    {
      "cell_type": "code",
      "source": [
        "DJIA_timeseries = DJIA_raw.iloc[:,4]\n",
        "DJIA_timeseries.shape"
      ],
      "metadata": {
        "colab": {
          "base_uri": "https://localhost:8080/"
        },
        "id": "KaFMFoA3pxUh",
        "outputId": "bca426f5-c766-4be7-965f-f5b4d71ff55f"
      },
      "execution_count": 12,
      "outputs": [
        {
          "output_type": "execute_result",
          "data": {
            "text/plain": [
              "(2516,)"
            ]
          },
          "metadata": {},
          "execution_count": 12
        }
      ]
    },
    {
      "cell_type": "code",
      "source": [
        "DJIA_timeseries.ndim"
      ],
      "metadata": {
        "id": "EJquA9wrvoUL",
        "outputId": "9734ac2c-ce58-444a-eaf8-8f275032e7b3",
        "colab": {
          "base_uri": "https://localhost:8080/"
        }
      },
      "execution_count": 13,
      "outputs": [
        {
          "output_type": "execute_result",
          "data": {
            "text/plain": [
              "1"
            ]
          },
          "metadata": {},
          "execution_count": 13
        }
      ]
    },
    {
      "cell_type": "code",
      "source": [
        "DJIA_timeseries.iloc[:]"
      ],
      "metadata": {
        "id": "BCVdkvGUyn-k",
        "outputId": "e4665be4-8b2a-4b5e-dd52-984981def70d",
        "colab": {
          "base_uri": "https://localhost:8080/"
        }
      },
      "execution_count": 14,
      "outputs": [
        {
          "output_type": "execute_result",
          "data": {
            "text/plain": [
              "0       10583.96\n",
              "1       10572.02\n",
              "2       10573.68\n",
              "3       10606.86\n",
              "4       10618.19\n",
              "          ...   \n",
              "2511    28515.45\n",
              "2512    28621.39\n",
              "2513    28645.26\n",
              "2514    28462.14\n",
              "2515    28538.44\n",
              "Name: Close, Length: 2516, dtype: float64"
            ]
          },
          "metadata": {},
          "execution_count": 14
        }
      ]
    },
    {
      "cell_type": "markdown",
      "source": [
        "Convert Pandas series to Numpy Array"
      ],
      "metadata": {
        "id": "MhlJPaOj80y9"
      }
    },
    {
      "cell_type": "code",
      "source": [
        "DJIA_timeseries_array = DJIA_timeseries.to_numpy()\n",
        "DJIA_timeseries_array.shape\n"
      ],
      "metadata": {
        "id": "uUNfEsRK86VY",
        "outputId": "1a42587f-ca01-4cfe-f851-59434796fe4a",
        "colab": {
          "base_uri": "https://localhost:8080/"
        }
      },
      "execution_count": 15,
      "outputs": [
        {
          "output_type": "execute_result",
          "data": {
            "text/plain": [
              "(2516,)"
            ]
          },
          "metadata": {},
          "execution_count": 15
        }
      ]
    },
    {
      "cell_type": "code",
      "source": [
        "DJIA_timeseries_array.dtype"
      ],
      "metadata": {
        "id": "b_YgwBUzCEO1",
        "outputId": "a7a65540-e16e-4e57-a986-f1c0c35542f1",
        "colab": {
          "base_uri": "https://localhost:8080/"
        }
      },
      "execution_count": 16,
      "outputs": [
        {
          "output_type": "execute_result",
          "data": {
            "text/plain": [
              "dtype('float64')"
            ]
          },
          "metadata": {},
          "execution_count": 16
        }
      ]
    },
    {
      "cell_type": "markdown",
      "source": [
        "Convert object to float64"
      ],
      "metadata": {
        "id": "EdiVbQheF6eh"
      }
    },
    {
      "cell_type": "code",
      "source": [
        "DJIA_timeseries_array = pd.to_numeric(DJIA_timeseries_array)"
      ],
      "metadata": {
        "id": "4kuxWm0sEGum"
      },
      "execution_count": 17,
      "outputs": []
    },
    {
      "cell_type": "code",
      "source": [
        "DJIA_timeseries_array.dtype"
      ],
      "metadata": {
        "id": "_jZLPKB0EJv1",
        "outputId": "167f3447-343c-4fc5-f95e-5e8402ae37b1",
        "colab": {
          "base_uri": "https://localhost:8080/"
        }
      },
      "execution_count": 18,
      "outputs": [
        {
          "output_type": "execute_result",
          "data": {
            "text/plain": [
              "dtype('float64')"
            ]
          },
          "metadata": {},
          "execution_count": 18
        }
      ]
    },
    {
      "cell_type": "markdown",
      "source": [
        "## Empirical Mode Decomposition of close price"
      ],
      "metadata": {
        "id": "yenGACf98b_M"
      }
    },
    {
      "cell_type": "code",
      "source": [
        "emd = EMD()"
      ],
      "metadata": {
        "id": "iBKSl30y5NVk"
      },
      "execution_count": 19,
      "outputs": []
    },
    {
      "cell_type": "code",
      "source": [
        "emd.emd(DJIA_timeseries_array)"
      ],
      "metadata": {
        "id": "yE5i88Co-PVh",
        "outputId": "aac0c506-3a11-4358-f6e3-92caf3f36207",
        "colab": {
          "base_uri": "https://localhost:8080/"
        }
      },
      "execution_count": 20,
      "outputs": [
        {
          "output_type": "execute_result",
          "data": {
            "text/plain": [
              "array([[ 1.78640000e+00,  1.89517291e+00, -2.44098827e+00, ...,\n",
              "         7.29041178e+01, -7.73223490e+01, -2.66244367e+01],\n",
              "       [ 5.77899559e+00, -1.29183364e+01, -1.51624708e+01, ...,\n",
              "         7.73435808e+00, -1.29472919e+01,  1.41700453e+01],\n",
              "       [ 9.18207935e+00, -2.85318650e+01, -5.66752607e+01, ...,\n",
              "        -1.17590457e+01, -2.81462492e+01, -2.20480251e+01],\n",
              "       ...,\n",
              "       [ 3.15364135e+02,  3.19676443e+02,  3.23933848e+02, ...,\n",
              "         3.52962566e+02,  3.52065696e+02,  3.50592037e+02],\n",
              "       [ 1.03442129e+02,  9.88571437e+01,  9.43202199e+01, ...,\n",
              "         4.79945846e+02,  4.79746293e+02,  4.79368062e+02],\n",
              "       [ 1.02363608e+04,  1.02394222e+04,  1.02424917e+04, ...,\n",
              "         2.69894818e+04,  2.69917270e+04,  2.69939419e+04]])"
            ]
          },
          "metadata": {},
          "execution_count": 20
        }
      ]
    },
    {
      "cell_type": "code",
      "source": [
        "imfs, res = emd.get_imfs_and_residue()\n",
        "vis = Visualisation()\n",
        "vis.plot_imfs(imfs=imfs, residue=res, include_residue=True)\n",
        "#vis.plot_instant_freq(imfs=imfs)\n",
        "vis.show()"
      ],
      "metadata": {
        "id": "R-Q4W-Db8boH",
        "outputId": "30713c58-f092-4ec9-f7af-c0ef9caa9ac3",
        "colab": {
          "base_uri": "https://localhost:8080/",
          "height": 873
        }
      },
      "execution_count": 21,
      "outputs": [
        {
          "output_type": "display_data",
          "data": {
            "text/plain": [
              "<Figure size 432x864 with 8 Axes>"
            ],
            "image/png": "[encoded data removed]"
          },
          "metadata": {
            "needs_background": "light"
          }
        }
      ]
    },
    {
      "cell_type": "markdown",
      "source": [
        "Create imf1, 2, 3, 4, 5, 6, 7 "
      ],
      "metadata": {
        "id": "KisW4vplKKgu"
      }
    },
    {
      "cell_type": "code",
      "source": [
        "imf1 = imfs[0,:]\n",
        "imf2 = imfs[1,:]\n",
        "imf3 = imfs[2,:]\n",
        "imf4 = imfs[3,:]\n",
        "imf5 = imfs[4,:]\n",
        "imf6 = imfs[5,:]\n",
        "imf7 = imfs[6,:]"
      ],
      "metadata": {
        "id": "dsXnS29NKTON"
      },
      "execution_count": 22,
      "outputs": []
    },
    {
      "cell_type": "markdown",
      "source": [
        "## Data splitting"
      ],
      "metadata": {
        "id": "dHvxYFGDaoQY"
      }
    },
    {
      "cell_type": "markdown",
      "source": [
        "Data splitting: the last 150 samples will be used as the test set. For the rest, the first 80% will be the training set, and the last 20% will be the validation set."
      ],
      "metadata": {
        "id": "xJ2hrPb1Klkw"
      }
    },
    {
      "cell_type": "code",
      "source": [
        "index_length = len(imf1)\n",
        "imf1_test = imf1[(index_length-150) : index_length] # the start index is included, but the end index is not included.\n",
        "imf2_test = imf2[(index_length-150) : index_length] # 100 - 10 = 90, the last 10 element index should be from 90 to 99\n",
        "imf3_test = imf3[(index_length-150) : index_length] # the last 10 elements should be from 91 to 100.\n",
        "imf4_test = imf4[(index_length-150) : index_length]\n",
        "imf5_test = imf5[(index_length-150) : index_length]\n",
        "imf6_test = imf6[(index_length-150) : index_length]\n",
        "imf7_test = imf7[(index_length-150) : index_length]\n",
        "res_test = res[(index_length-150) : index_length]"
      ],
      "metadata": {
        "id": "RwO3b7lxJT4M"
      },
      "execution_count": 23,
      "outputs": []
    },
    {
      "cell_type": "code",
      "source": [
        "train_start_index = 0\n",
        "train_end_index = round(0.8 * (index_length - 150))"
      ],
      "metadata": {
        "id": "kUxKJIkoapjt"
      },
      "execution_count": 24,
      "outputs": []
    },
    {
      "cell_type": "code",
      "source": [
        "imf1_train = imf1[0 : train_end_index]\n",
        "imf2_train = imf2[0 : train_end_index]\n",
        "imf3_train = imf3[0 : train_end_index]\n",
        "imf4_train = imf4[0 : train_end_index]\n",
        "imf5_train = imf5[0 : train_end_index]\n",
        "imf6_train = imf6[0 : train_end_index]\n",
        "imf7_train = imf7[0 : train_end_index]\n",
        "res_train = res[0 : train_end_index]"
      ],
      "metadata": {
        "id": "3I1JRubWdk3_"
      },
      "execution_count": 25,
      "outputs": []
    },
    {
      "cell_type": "code",
      "source": [
        "validation_start_index = train_end_index\n",
        "validation_end_index = index_length-150\n"
      ],
      "metadata": {
        "id": "xNF8C0m8WRUn"
      },
      "execution_count": 26,
      "outputs": []
    },
    {
      "cell_type": "code",
      "source": [
        "imf1_validation = imf1[validation_start_index:validation_end_index]\n",
        "imf2_validation = imf2[validation_start_index:validation_end_index]\n",
        "imf3_validation = imf3[validation_start_index:validation_end_index]\n",
        "imf4_validation = imf4[validation_start_index:validation_end_index]\n",
        "imf5_validation = imf5[validation_start_index:validation_end_index]\n",
        "imf6_validation = imf6[validation_start_index:validation_end_index]\n",
        "imf7_validation = imf7[validation_start_index:validation_end_index]\n",
        "res_validation = res[validation_start_index:validation_end_index]"
      ],
      "metadata": {
        "id": "dH-EF8N6dvyj"
      },
      "execution_count": 27,
      "outputs": []
    },
    {
      "cell_type": "markdown",
      "source": [
        "## Normalization (min-max)\n",
        "\n",
        "Calculate the maximum and the minimum of the training set sequence, then use them to normalize the training set, the validation set, and the test set."
      ],
      "metadata": {
        "id": "sztOzK8UgWa9"
      }
    },
    {
      "cell_type": "code",
      "source": [
        "# normalization of imf1_train, imf1_validation, and imf1_test\n",
        "imf1_train_norm = (imf1_train - min(imf1_train))/(max(imf1_train) - min(imf1_train))\n",
        "imf1_validation_norm = (imf1_validation - min(imf1_train))/(max(imf1_train) - min(imf1_train))\n",
        "imf1_test_norm = (imf1_test - min(imf1_train))/(max(imf1_train) - min(imf1_train))"
      ],
      "metadata": {
        "id": "Fitu4QR3hLKy"
      },
      "execution_count": 28,
      "outputs": []
    },
    {
      "cell_type": "code",
      "source": [
        "# normalization of imf2_train, imf2_validation, and imf2_test\n",
        "imf2_train_norm = (imf2_train - min(imf2_train))/(max(imf2_train) - min(imf2_train))\n",
        "imf2_validation_norm = (imf2_validation - min(imf2_train))/(max(imf2_train) - min(imf2_train))\n",
        "imf2_test_norm = (imf2_test - min(imf2_train))/(max(imf2_train) - min(imf2_train))"
      ],
      "metadata": {
        "id": "TVOxt7V6i3Ap"
      },
      "execution_count": 29,
      "outputs": []
    },
    {
      "cell_type": "code",
      "source": [
        "# normalization of imf3_train, imf3_validation, and imf3_test\n",
        "imf3_train_norm = (imf3_train - min(imf3_train))/(max(imf3_train) - min(imf3_train))\n",
        "imf3_validation_norm = (imf3_validation - min(imf3_train))/(max(imf3_train) - min(imf3_train))\n",
        "imf3_test_norm = (imf3_test - min(imf3_train))/(max(imf3_train) - min(imf3_train))"
      ],
      "metadata": {
        "id": "QzhvtMq8i25S"
      },
      "execution_count": 30,
      "outputs": []
    },
    {
      "cell_type": "code",
      "source": [
        "# normalization of imf4_train, imf4_validation, and imf4_test\n",
        "imf4_train_norm = (imf4_train - min(imf4_train))/(max(imf4_train) - min(imf4_train))\n",
        "imf4_validation_norm = (imf4_validation - min(imf4_train))/(max(imf4_train) - min(imf4_train))\n",
        "imf4_test_norm = (imf4_test - min(imf4_train))/(max(imf4_train) - min(imf4_train))"
      ],
      "metadata": {
        "id": "rMGGgl2oi2xN"
      },
      "execution_count": 31,
      "outputs": []
    },
    {
      "cell_type": "code",
      "source": [
        "# normalization of imf5_train, imf5_validation, and imf5_test\n",
        "imf5_train_norm = (imf5_train - min(imf5_train))/(max(imf5_train) - min(imf5_train))\n",
        "imf5_validation_norm = (imf5_validation - min(imf5_train))/(max(imf5_train) - min(imf5_train))\n",
        "imf5_test_norm = (imf5_test - min(imf5_train))/(max(imf5_train) - min(imf5_train))"
      ],
      "metadata": {
        "id": "cp2sPAeVi2en"
      },
      "execution_count": 32,
      "outputs": []
    },
    {
      "cell_type": "code",
      "source": [
        "# normalization of imf6_train, imf6_validation, and imf6_test\n",
        "imf6_train_norm = (imf6_train - min(imf6_train))/(max(imf6_train) - min(imf6_train))\n",
        "imf6_validation_norm = (imf6_validation - min(imf6_train))/(max(imf6_train) - min(imf6_train))\n",
        "imf6_test_norm = (imf6_test - min(imf6_train))/(max(imf6_train) - min(imf6_train))"
      ],
      "metadata": {
        "id": "dXtHFGB5i2RO"
      },
      "execution_count": 33,
      "outputs": []
    },
    {
      "cell_type": "code",
      "source": [
        "# normalization of imf7_train, imf7_validation, and imf7_test\n",
        "imf7_train_norm = (imf7_train - min(imf7_train))/(max(imf7_train) - min(imf7_train))\n",
        "imf7_validation_norm = (imf7_validation - min(imf7_train))/(max(imf7_train) - min(imf7_train))\n",
        "imf7_test_norm = (imf7_test - min(imf7_train))/(max(imf7_train) - min(imf7_train))"
      ],
      "metadata": {
        "id": "vtYUvYlmi2AX"
      },
      "execution_count": 34,
      "outputs": []
    },
    {
      "cell_type": "code",
      "source": [
        "# normalization of res_train, res_validation, and res_test\n",
        "res_train_norm = (res_train - min(res_train))/(max(res_train) - min(res_train))\n",
        "res_validation_norm = (res_validation - min(res_train))/(max(res_train) - min(res_train))\n",
        "res_test_norm = (res_test - min(res_train))/(max(res_train) - min(res_train))"
      ],
      "metadata": {
        "id": "L5SGspR1i6Sq"
      },
      "execution_count": 35,
      "outputs": []
    },
    {
      "cell_type": "markdown",
      "source": [
        "## Build the input sequences. Each sequence contains 250 elements. "
      ],
      "metadata": {
        "id": "bGeZqYA6qH7h"
      }
    },
    {
      "cell_type": "markdown",
      "source": [
        "Combine train_norm, validation_norm, and test_norm."
      ],
      "metadata": {
        "id": "ihIGSBnv52j4"
      }
    },
    {
      "cell_type": "code",
      "source": [
        "# Could combine sequence together, then produce the datasets.\n",
        "imf1_norm = np.concatenate((imf1_train_norm, imf1_validation_norm, imf1_test_norm), axis = 0)\n",
        "imf2_norm = np.concatenate((imf2_train_norm, imf2_validation_norm, imf2_test_norm), axis = 0)\n",
        "imf3_norm = np.concatenate((imf3_train_norm, imf3_validation_norm, imf3_test_norm), axis = 0)\n",
        "imf4_norm = np.concatenate((imf4_train_norm, imf4_validation_norm, imf4_test_norm), axis = 0)\n",
        "imf5_norm = np.concatenate((imf5_train_norm, imf5_validation_norm, imf5_test_norm), axis = 0)\n",
        "imf6_norm = np.concatenate((imf6_train_norm, imf6_validation_norm, imf6_test_norm), axis = 0)\n",
        "imf7_norm = np.concatenate((imf7_train_norm, imf7_validation_norm, imf7_test_norm), axis = 0)\n",
        "res_norm = np.concatenate((res_train_norm, res_validation_norm, res_test_norm), axis = 0)"
      ],
      "metadata": {
        "id": "3yNMUA8S512t"
      },
      "execution_count": 36,
      "outputs": []
    },
    {
      "cell_type": "markdown",
      "source": [
        "For one time series, the input of the model is a sequence with 250 time steps. The output should be a prediction on the next time step. Based on this principle, generate input dataset and target dataset."
      ],
      "metadata": {
        "id": "OSM9daX-I-nz"
      }
    },
    {
      "cell_type": "markdown",
      "source": [
        "Input shape\n",
        "\n",
        "3+D tensor with shape: batch_shape + (steps, input_dim)\n",
        "\n",
        "Output shape\n",
        "\n",
        "3+D tensor with shape: batch_shape + (new_steps, filters) steps value might have changed due to padding or strides.\n",
        "\n",
        "Returns\n",
        "\n",
        "A tensor of rank 3 representing activation(conv1d(inputs, kernel) + bias)."
      ],
      "metadata": {
        "id": "wpPBCvTiH6Gh"
      }
    },
    {
      "cell_type": "markdown",
      "source": [
        "The input and output of the forecasting model should be array."
      ],
      "metadata": {
        "id": "EnWGsuGu_k6f"
      }
    },
    {
      "cell_type": "code",
      "source": [
        "# the width of one sequence, could be tuned as one hyper-parameter\n",
        "sequence_width = 250  \n",
        "imf1_norm_X = np.zeros((index_length-sequence_width, sequence_width),dtype=float)\n",
        "imf1_norm_Y = np.zeros((index_length-sequence_width, sequence_width),dtype=float)\n",
        "for i in range(index_length-sequence_width):\n",
        "  imf1_norm_X[i] = imf1_norm[i:i+sequence_width]\n",
        "  imf1_norm_Y[i] = imf1_norm[i+1:i+sequence_width+1]\n",
        "\n",
        "# split the norm_X, and norm_Y to get the corresponding training set, validation set, and test set.\n",
        "# The last 150 samples is test set.\n",
        "imf1_norm_X_train = imf1_norm_X[0 : train_end_index-sequence_width]\n",
        "imf1_norm_Y_train = imf1_norm_Y[0 : train_end_index-sequence_width]\n",
        "imf1_norm_X_validation = imf1_norm_X[train_end_index-sequence_width : validation_end_index-sequence_width]\n",
        "imf1_norm_Y_validation = imf1_norm_Y[train_end_index-sequence_width : validation_end_index-sequence_width]\n",
        "imf1_norm_X_test = imf1_norm_X[validation_end_index-sequence_width : index_length-sequence_width]\n",
        "imf1_norm_Y_test = imf1_norm_Y[validation_end_index-sequence_width : index_length-sequence_width]\n",
        "\n",
        "# Reshape x to shape (nb_of_examples, nb_of_features, 1).\n",
        "imf1_norm_X_train = imf1_norm_X_train.reshape(imf1_norm_X_train.shape[0], sequence_width, 1)\n",
        "imf1_norm_Y_train = imf1_norm_Y_train.reshape(imf1_norm_Y_train.shape[0], sequence_width, 1)\n",
        "imf1_norm_X_validation = imf1_norm_X_validation.reshape(imf1_norm_X_validation.shape[0], sequence_width, 1)\n",
        "imf1_norm_Y_validation = imf1_norm_Y_validation.reshape(imf1_norm_Y_validation.shape[0], sequence_width, 1)\n",
        "imf1_norm_X_test = imf1_norm_X_test.reshape(imf1_norm_X_test.shape[0], sequence_width, 1)\n",
        "imf1_norm_Y_test = imf1_norm_Y_test.reshape(imf1_norm_Y_test.shape[0], sequence_width, 1)"
      ],
      "metadata": {
        "id": "QvE3klX9IJU7"
      },
      "execution_count": 37,
      "outputs": []
    },
    {
      "cell_type": "code",
      "source": [
        "# imf2\n",
        "\n",
        "imf2_norm_X = np.zeros((index_length-sequence_width, sequence_width),dtype=float)\n",
        "imf2_norm_Y = np.zeros((index_length-sequence_width, sequence_width),dtype=float)\n",
        "for i in range(index_length-sequence_width):\n",
        "  imf2_norm_X[i] = imf2_norm[i:i+sequence_width]\n",
        "  imf2_norm_Y[i] = imf2_norm[i+1:i+sequence_width+1]\n",
        "\n",
        "# split the norm_X, and norm_Y to get the corresponding training set, validation set, and test set.\n",
        "# The last 150 samples is test set.\n",
        "imf2_norm_X_train = imf2_norm_X[0 : train_end_index-sequence_width]\n",
        "imf2_norm_Y_train = imf2_norm_Y[0 : train_end_index-sequence_width]\n",
        "imf2_norm_X_validation = imf2_norm_X[train_end_index-sequence_width : validation_end_index-sequence_width]\n",
        "imf2_norm_Y_validation = imf2_norm_Y[train_end_index-sequence_width : validation_end_index-sequence_width]\n",
        "imf2_norm_X_test = imf2_norm_X[validation_end_index-sequence_width : index_length-sequence_width]\n",
        "imf2_norm_Y_test = imf2_norm_Y[validation_end_index-sequence_width : index_length-sequence_width]\n",
        "\n",
        "# Reshape x to shape (nb_of_examples, nb_of_features, 1).\n",
        "imf2_norm_X_train = imf2_norm_X_train.reshape(imf2_norm_X_train.shape[0], sequence_width, 1)\n",
        "imf2_norm_Y_train = imf2_norm_Y_train.reshape(imf2_norm_Y_train.shape[0], sequence_width, 1)\n",
        "imf2_norm_X_validation = imf2_norm_X_validation.reshape(imf2_norm_X_validation.shape[0], sequence_width, 1)\n",
        "imf2_norm_Y_validation = imf2_norm_Y_validation.reshape(imf2_norm_Y_validation.shape[0], sequence_width, 1)\n",
        "imf2_norm_X_test = imf2_norm_X_test.reshape(imf2_norm_X_test.shape[0], sequence_width, 1)\n",
        "imf2_norm_Y_test = imf2_norm_Y_test.reshape(imf2_norm_Y_test.shape[0], sequence_width, 1)"
      ],
      "metadata": {
        "id": "Q1SlshAGTfgu"
      },
      "execution_count": 38,
      "outputs": []
    },
    {
      "cell_type": "code",
      "source": [
        "# imf3\n",
        "\n",
        "imf3_norm_X = np.zeros((index_length-sequence_width, sequence_width),dtype=float)\n",
        "imf3_norm_Y = np.zeros((index_length-sequence_width, sequence_width),dtype=float)\n",
        "for i in range(index_length-sequence_width):\n",
        "  imf3_norm_X[i] = imf3_norm[i:i+sequence_width]\n",
        "  imf3_norm_Y[i] = imf3_norm[i+1:i+sequence_width+1]\n",
        "\n",
        "# split the norm_X, and norm_Y to get the corresponding training set, validation set, and test set.\n",
        "# The last 150 samples is test set.\n",
        "imf3_norm_X_train = imf3_norm_X[0 : train_end_index-sequence_width]\n",
        "imf3_norm_Y_train = imf3_norm_Y[0 : train_end_index-sequence_width]\n",
        "imf3_norm_X_validation = imf3_norm_X[train_end_index-sequence_width : validation_end_index-sequence_width]\n",
        "imf3_norm_Y_validation = imf3_norm_Y[train_end_index-sequence_width : validation_end_index-sequence_width]\n",
        "imf3_norm_X_test = imf3_norm_X[validation_end_index-sequence_width : index_length-sequence_width]\n",
        "imf3_norm_Y_test = imf3_norm_Y[validation_end_index-sequence_width : index_length-sequence_width]\n",
        "\n",
        "# Reshape x to shape (nb_of_examples, nb_of_features, 1).\n",
        "imf3_norm_X_train = imf3_norm_X_train.reshape(imf3_norm_X_train.shape[0], sequence_width, 1)\n",
        "imf3_norm_Y_train = imf3_norm_Y_train.reshape(imf3_norm_Y_train.shape[0], sequence_width, 1)\n",
        "imf3_norm_X_validation = imf3_norm_X_validation.reshape(imf3_norm_X_validation.shape[0], sequence_width, 1)\n",
        "imf3_norm_Y_validation = imf3_norm_Y_validation.reshape(imf3_norm_Y_validation.shape[0], sequence_width, 1)\n",
        "imf3_norm_X_test = imf3_norm_X_test.reshape(imf3_norm_X_test.shape[0], sequence_width, 1)\n",
        "imf3_norm_Y_test = imf3_norm_Y_test.reshape(imf3_norm_Y_test.shape[0], sequence_width, 1)"
      ],
      "metadata": {
        "id": "vRr96NvlWvVG"
      },
      "execution_count": 39,
      "outputs": []
    },
    {
      "cell_type": "code",
      "source": [
        "# imf4\n",
        "\n",
        "imf4_norm_X = np.zeros((index_length-sequence_width, sequence_width),dtype=float)\n",
        "imf4_norm_Y = np.zeros((index_length-sequence_width, sequence_width),dtype=float)\n",
        "for i in range(index_length-sequence_width):\n",
        "  imf4_norm_X[i] = imf4_norm[i:i+sequence_width]\n",
        "  imf4_norm_Y[i] = imf4_norm[i+1:i+sequence_width+1]\n",
        "\n",
        "# split the norm_X, and norm_Y to get the corresponding training set, validation set, and test set.\n",
        "# The last 150 samples is test set.\n",
        "imf4_norm_X_train = imf4_norm_X[0 : train_end_index-sequence_width]\n",
        "imf4_norm_Y_train = imf4_norm_Y[0 : train_end_index-sequence_width]\n",
        "imf4_norm_X_validation = imf4_norm_X[train_end_index-sequence_width : validation_end_index-sequence_width]\n",
        "imf4_norm_Y_validation = imf4_norm_Y[train_end_index-sequence_width : validation_end_index-sequence_width]\n",
        "imf4_norm_X_test = imf4_norm_X[validation_end_index-sequence_width : index_length-sequence_width]\n",
        "imf4_norm_Y_test = imf4_norm_Y[validation_end_index-sequence_width : index_length-sequence_width]\n",
        "\n",
        "# Reshape x to shape (nb_of_examples, nb_of_features, 1).\n",
        "imf4_norm_X_train = imf4_norm_X_train.reshape(imf4_norm_X_train.shape[0], sequence_width, 1)\n",
        "imf4_norm_Y_train = imf4_norm_Y_train.reshape(imf4_norm_Y_train.shape[0], sequence_width, 1)\n",
        "imf4_norm_X_validation = imf4_norm_X_validation.reshape(imf4_norm_X_validation.shape[0], sequence_width, 1)\n",
        "imf4_norm_Y_validation = imf4_norm_Y_validation.reshape(imf4_norm_Y_validation.shape[0], sequence_width, 1)\n",
        "imf4_norm_X_test = imf4_norm_X_test.reshape(imf4_norm_X_test.shape[0], sequence_width, 1)\n",
        "imf4_norm_Y_test = imf4_norm_Y_test.reshape(imf4_norm_Y_test.shape[0], sequence_width, 1)"
      ],
      "metadata": {
        "id": "isvX_Jp1XQOz"
      },
      "execution_count": 40,
      "outputs": []
    },
    {
      "cell_type": "code",
      "source": [
        "# imf5\n",
        " \n",
        "imf5_norm_X = np.zeros((index_length-sequence_width, sequence_width),dtype=float)\n",
        "imf5_norm_Y = np.zeros((index_length-sequence_width, sequence_width),dtype=float)\n",
        "for i in range(index_length-sequence_width):\n",
        "  imf5_norm_X[i] = imf5_norm[i:i+sequence_width]\n",
        "  imf5_norm_Y[i] = imf5_norm[i+1:i+sequence_width+1]\n",
        "\n",
        "# split the norm_X, and norm_Y to get the corresponding training set, validation set, and test set.\n",
        "# The last 150 samples is test set.\n",
        "imf5_norm_X_train = imf5_norm_X[0 : train_end_index-sequence_width]\n",
        "imf5_norm_Y_train = imf5_norm_Y[0 : train_end_index-sequence_width]\n",
        "imf5_norm_X_validation = imf5_norm_X[train_end_index-sequence_width : validation_end_index-sequence_width]\n",
        "imf5_norm_Y_validation = imf5_norm_Y[train_end_index-sequence_width : validation_end_index-sequence_width]\n",
        "imf5_norm_X_test = imf5_norm_X[validation_end_index-sequence_width : index_length-sequence_width]\n",
        "imf5_norm_Y_test = imf5_norm_Y[validation_end_index-sequence_width : index_length-sequence_width]\n",
        "\n",
        "# Reshape x to shape (nb_of_examples, nb_of_features, 1).\n",
        "imf5_norm_X_train = imf5_norm_X_train.reshape(imf5_norm_X_train.shape[0], sequence_width, 1)\n",
        "imf5_norm_Y_train = imf5_norm_Y_train.reshape(imf5_norm_Y_train.shape[0], sequence_width, 1)\n",
        "imf5_norm_X_validation = imf5_norm_X_validation.reshape(imf5_norm_X_validation.shape[0], sequence_width, 1)\n",
        "imf5_norm_Y_validation = imf5_norm_Y_validation.reshape(imf5_norm_Y_validation.shape[0], sequence_width, 1)\n",
        "imf5_norm_X_test = imf5_norm_X_test.reshape(imf5_norm_X_test.shape[0], sequence_width, 1)\n",
        "imf5_norm_Y_test = imf5_norm_Y_test.reshape(imf5_norm_Y_test.shape[0], sequence_width, 1)"
      ],
      "metadata": {
        "id": "C7321Y5KXlM6"
      },
      "execution_count": 41,
      "outputs": []
    },
    {
      "cell_type": "code",
      "source": [
        "# imf6\n",
        " \n",
        "imf6_norm_X = np.zeros((index_length-sequence_width, sequence_width),dtype=float)\n",
        "imf6_norm_Y = np.zeros((index_length-sequence_width, sequence_width),dtype=float)\n",
        "for i in range(index_length-sequence_width):\n",
        "  imf6_norm_X[i] = imf6_norm[i:i+sequence_width]\n",
        "  imf6_norm_Y[i] = imf6_norm[i+1:i+sequence_width+1]\n",
        "\n",
        "# split the norm_X, and norm_Y to get the corresponding training set, validation set, and test set.\n",
        "# The last 150 samples is test set.\n",
        "imf6_norm_X_train = imf6_norm_X[0 : train_end_index-sequence_width]\n",
        "imf6_norm_Y_train = imf6_norm_Y[0 : train_end_index-sequence_width]\n",
        "imf6_norm_X_validation = imf6_norm_X[train_end_index-sequence_width : validation_end_index-sequence_width]\n",
        "imf6_norm_Y_validation = imf6_norm_Y[train_end_index-sequence_width : validation_end_index-sequence_width]\n",
        "imf6_norm_X_test = imf6_norm_X[validation_end_index-sequence_width : index_length-sequence_width]\n",
        "imf6_norm_Y_test = imf6_norm_Y[validation_end_index-sequence_width : index_length-sequence_width]\n",
        "\n",
        "# Reshape x to shape (nb_of_examples, nb_of_features, 1).\n",
        "imf6_norm_X_train = imf6_norm_X_train.reshape(imf6_norm_X_train.shape[0], sequence_width, 1)\n",
        "imf6_norm_Y_train = imf6_norm_Y_train.reshape(imf6_norm_Y_train.shape[0], sequence_width, 1)\n",
        "imf6_norm_X_validation = imf6_norm_X_validation.reshape(imf6_norm_X_validation.shape[0], sequence_width, 1)\n",
        "imf6_norm_Y_validation = imf6_norm_Y_validation.reshape(imf6_norm_Y_validation.shape[0], sequence_width, 1)\n",
        "imf6_norm_X_test = imf6_norm_X_test.reshape(imf6_norm_X_test.shape[0], sequence_width, 1)\n",
        "imf6_norm_Y_test = imf6_norm_Y_test.reshape(imf6_norm_Y_test.shape[0], sequence_width, 1)"
      ],
      "metadata": {
        "id": "gf_AILoRYIfw"
      },
      "execution_count": 42,
      "outputs": []
    },
    {
      "cell_type": "code",
      "source": [
        "# imf7\n",
        "\n",
        "imf7_norm_X = np.zeros((index_length-sequence_width, sequence_width),dtype=float)\n",
        "imf7_norm_Y = np.zeros((index_length-sequence_width, sequence_width),dtype=float)\n",
        "for i in range(index_length-sequence_width):\n",
        "  imf7_norm_X[i] = imf7_norm[i:i+sequence_width]\n",
        "  imf7_norm_Y[i] = imf7_norm[i+1:i+sequence_width+1]\n",
        "\n",
        "# split the norm_X, and norm_Y to get the corresponding training set, validation set, and test set.\n",
        "# The last 150 samples is test set.\n",
        "imf7_norm_X_train = imf7_norm_X[0 : train_end_index-sequence_width]\n",
        "imf7_norm_Y_train = imf7_norm_Y[0 : train_end_index-sequence_width]\n",
        "imf7_norm_X_validation = imf7_norm_X[train_end_index-sequence_width : validation_end_index-sequence_width]\n",
        "imf7_norm_Y_validation = imf7_norm_Y[train_end_index-sequence_width : validation_end_index-sequence_width]\n",
        "imf7_norm_X_test = imf7_norm_X[validation_end_index-sequence_width : index_length-sequence_width]\n",
        "imf7_norm_Y_test = imf7_norm_Y[validation_end_index-sequence_width : index_length-sequence_width]\n",
        "\n",
        "# Reshape x to shape (nb_of_examples, nb_of_features, 1).\n",
        "imf7_norm_X_train = imf7_norm_X_train.reshape(imf7_norm_X_train.shape[0], sequence_width, 1)\n",
        "imf7_norm_Y_train = imf7_norm_Y_train.reshape(imf7_norm_Y_train.shape[0], sequence_width, 1)\n",
        "imf7_norm_X_validation = imf7_norm_X_validation.reshape(imf7_norm_X_validation.shape[0], sequence_width, 1)\n",
        "imf7_norm_Y_validation = imf7_norm_Y_validation.reshape(imf7_norm_Y_validation.shape[0], sequence_width, 1)\n",
        "imf7_norm_X_test = imf7_norm_X_test.reshape(imf7_norm_X_test.shape[0], sequence_width, 1)\n",
        "imf7_norm_Y_test = imf7_norm_Y_test.reshape(imf7_norm_Y_test.shape[0], sequence_width, 1)"
      ],
      "metadata": {
        "id": "2k9DmUvMYZS7"
      },
      "execution_count": 43,
      "outputs": []
    },
    {
      "cell_type": "code",
      "source": [
        "# residual\n",
        " \n",
        "res_norm_X = np.zeros((index_length-sequence_width, sequence_width),dtype=float)\n",
        "res_norm_Y = np.zeros((index_length-sequence_width, sequence_width),dtype=float)\n",
        "for i in range(index_length-sequence_width):\n",
        "  res_norm_X[i] = res_norm[i:i+sequence_width]\n",
        "  res_norm_Y[i] = res_norm[i+1:i+sequence_width+1]\n",
        "\n",
        "# split the norm_X, and norm_Y to get the corresponding training set, validation set, and test set.\n",
        "# The last 150 samples is test set.\n",
        "res_norm_X_train = res_norm_X[0 : train_end_index-sequence_width]\n",
        "res_norm_Y_train = res_norm_Y[0 : train_end_index-sequence_width]\n",
        "res_norm_X_validation = res_norm_X[train_end_index-sequence_width : validation_end_index-sequence_width]\n",
        "res_norm_Y_validation = res_norm_Y[train_end_index-sequence_width : validation_end_index-sequence_width]\n",
        "res_norm_X_test = res_norm_X[validation_end_index-sequence_width : index_length-sequence_width]\n",
        "res_norm_Y_test = res_norm_Y[validation_end_index-sequence_width : index_length-sequence_width]\n",
        "\n",
        "# Reshape x to shape (nb_of_examples, nb_of_features, 1).\n",
        "res_norm_X_train = res_norm_X_train.reshape(res_norm_X_train.shape[0], sequence_width, 1)\n",
        "res_norm_Y_train = res_norm_Y_train.reshape(res_norm_Y_train.shape[0], sequence_width, 1)\n",
        "res_norm_X_validation = res_norm_X_validation.reshape(res_norm_X_validation.shape[0], sequence_width, 1)\n",
        "res_norm_Y_validation = res_norm_Y_validation.reshape(res_norm_Y_validation.shape[0], sequence_width, 1)\n",
        "res_norm_X_test = res_norm_X_test.reshape(res_norm_X_test.shape[0], sequence_width, 1)\n",
        "res_norm_Y_test = res_norm_Y_test.reshape(res_norm_Y_test.shape[0], sequence_width, 1)"
      ],
      "metadata": {
        "id": "L8pwtZA0Zgd-"
      },
      "execution_count": 44,
      "outputs": []
    },
    {
      "cell_type": "markdown",
      "source": [
        "## Build the forecasing model"
      ],
      "metadata": {
        "id": "o-s01Kt2aAc5"
      }
    },
    {
      "cell_type": "markdown",
      "source": [
        "Define a function, namely EMD_Capsule_LSTM, which creates the forecasting model."
      ],
      "metadata": {
        "id": "2ibTBQamb1UZ"
      }
    },
    {
      "cell_type": "code",
      "source": [
        "# Input to base learner\n",
        "inputs = keras.Input(shape=(sequence_width, 1), name=\"sequence_input\")"
      ],
      "metadata": {
        "id": "X4C1JLHoawA_"
      },
      "execution_count": 45,
      "outputs": []
    },
    {
      "cell_type": "code",
      "source": [
        "inputs.shape"
      ],
      "metadata": {
        "id": "meaQiIRmirmO",
        "outputId": "97585f30-3212-45dc-a8f3-ebc21b9b2436",
        "colab": {
          "base_uri": "https://localhost:8080/"
        }
      },
      "execution_count": 46,
      "outputs": [
        {
          "output_type": "execute_result",
          "data": {
            "text/plain": [
              "TensorShape([None, 250, 1])"
            ]
          },
          "metadata": {},
          "execution_count": 46
        }
      ]
    },
    {
      "cell_type": "code",
      "source": [
        "# Convolution 1d layer padding = 'same' or 'causal', activation='tanh' or 'none' \n",
        "x_1 = layers.Conv1D(512, 2, strides=1, padding = 'causal', activation= 'tanh')(inputs)"
      ],
      "metadata": {
        "id": "VvcdqA7fbQre"
      },
      "execution_count": 47,
      "outputs": []
    },
    {
      "cell_type": "code",
      "source": [
        "x_1.shape"
      ],
      "metadata": {
        "id": "A4IGWJY2i1Ax",
        "outputId": "4746a36f-06e9-4c16-c1f6-69ce746c9efe",
        "colab": {
          "base_uri": "https://localhost:8080/"
        }
      },
      "execution_count": 48,
      "outputs": [
        {
          "output_type": "execute_result",
          "data": {
            "text/plain": [
              "TensorShape([None, 250, 512])"
            ]
          },
          "metadata": {},
          "execution_count": 48
        }
      ]
    },
    {
      "cell_type": "code",
      "source": [
        "# group convolution 1d layer replacing the max pooling layer for creating capsules.\n",
        "x_2 = layers.Conv1D(512, 2, strides=1, padding = 'causal', groups = 64, activation='tanh')(x_1)  # sqaushing funcion transfers the elements in capsules to positive values, which will lead to a forecast being only positive."
      ],
      "metadata": {
        "id": "pDkVk_kNbUUH"
      },
      "execution_count": 49,
      "outputs": []
    },
    {
      "cell_type": "code",
      "source": [
        "x_2.shape"
      ],
      "metadata": {
        "id": "p_o0eLTujV7K",
        "outputId": "e61477f8-643a-4ced-f507-3db35c953c53",
        "colab": {
          "base_uri": "https://localhost:8080/"
        }
      },
      "execution_count": 50,
      "outputs": [
        {
          "output_type": "execute_result",
          "data": {
            "text/plain": [
              "TensorShape([None, 250, 512])"
            ]
          },
          "metadata": {},
          "execution_count": 50
        }
      ]
    },
    {
      "cell_type": "code",
      "source": [
        "# build capsules\n",
        "x_3 = layers.Reshape((sequence_width,64,8))(x_2)"
      ],
      "metadata": {
        "id": "Cw2cCZAbifPF"
      },
      "execution_count": 51,
      "outputs": []
    },
    {
      "cell_type": "code",
      "source": [
        "x_3.shape"
      ],
      "metadata": {
        "id": "SzeoK9540xxR",
        "outputId": "ae7c4fc2-3237-4183-b267-ceb353e1ed61",
        "colab": {
          "base_uri": "https://localhost:8080/"
        }
      },
      "execution_count": 52,
      "outputs": [
        {
          "output_type": "execute_result",
          "data": {
            "text/plain": [
              "TensorShape([None, 250, 64, 8])"
            ]
          },
          "metadata": {},
          "execution_count": 52
        }
      ]
    },
    {
      "cell_type": "code",
      "source": [
        "# ConvLSTM1D layer (the hidden unit # has not been settled. In ConvLSTM, the fully connected layer is replaced by filter, so the filter size should be the hyper-parameter )\n",
        "x_4 = layers.ConvLSTM1D(64, kernel_size= 2, padding = 'same', data_format = 'channels_first', return_sequences=True)(x_3)"
      ],
      "metadata": {
        "id": "G2faic5fih5d"
      },
      "execution_count": 53,
      "outputs": []
    },
    {
      "cell_type": "code",
      "source": [
        "x_4.shape"
      ],
      "metadata": {
        "id": "GcDlfmik1YHs",
        "outputId": "a929dcd7-7fa0-4cd7-e9a9-f1bda38723f4",
        "colab": {
          "base_uri": "https://localhost:8080/"
        }
      },
      "execution_count": 54,
      "outputs": [
        {
          "output_type": "execute_result",
          "data": {
            "text/plain": [
              "TensorShape([None, 250, 64, 8])"
            ]
          },
          "metadata": {},
          "execution_count": 54
        }
      ]
    },
    {
      "cell_type": "code",
      "source": [
        "x_5 = layers.Reshape((sequence_width,512))(x_4)"
      ],
      "metadata": {
        "id": "meutR8KeM-7L"
      },
      "execution_count": 55,
      "outputs": []
    },
    {
      "cell_type": "code",
      "source": [
        "x_5.shape"
      ],
      "metadata": {
        "id": "P9x9Hv4XNMxn",
        "outputId": "8b5e9c23-c8f9-4cfc-94c7-fe11a5506001",
        "colab": {
          "base_uri": "https://localhost:8080/"
        }
      },
      "execution_count": 56,
      "outputs": [
        {
          "output_type": "execute_result",
          "data": {
            "text/plain": [
              "TensorShape([None, 250, 512])"
            ]
          },
          "metadata": {},
          "execution_count": 56
        }
      ]
    },
    {
      "cell_type": "code",
      "source": [
        "# Attention mechanism\n",
        "attention_1 = layers.Dense(1, activation = 'tanh')(x_4)"
      ],
      "metadata": {
        "id": "eXsPGZz_ij7N"
      },
      "execution_count": 57,
      "outputs": []
    },
    {
      "cell_type": "code",
      "source": [
        "attention_1.shape"
      ],
      "metadata": {
        "id": "DMhRfAh7QIB0",
        "outputId": "e160b739-78e3-4785-ff53-99a7db846596",
        "colab": {
          "base_uri": "https://localhost:8080/"
        }
      },
      "execution_count": 58,
      "outputs": [
        {
          "output_type": "execute_result",
          "data": {
            "text/plain": [
              "TensorShape([None, 250, 64, 1])"
            ]
          },
          "metadata": {},
          "execution_count": 58
        }
      ]
    },
    {
      "cell_type": "code",
      "source": [
        "attention_2 = layers.Reshape((sequence_width,64))(attention_1)"
      ],
      "metadata": {
        "id": "fu6mT8JBlMHK"
      },
      "execution_count": 59,
      "outputs": []
    },
    {
      "cell_type": "code",
      "source": [
        "attention_2.shape"
      ],
      "metadata": {
        "id": "NcbWTXG0lYs7",
        "outputId": "79649c73-9e47-4d48-ffff-97288be096f0",
        "colab": {
          "base_uri": "https://localhost:8080/"
        }
      },
      "execution_count": 60,
      "outputs": [
        {
          "output_type": "execute_result",
          "data": {
            "text/plain": [
              "TensorShape([None, 250, 64])"
            ]
          },
          "metadata": {},
          "execution_count": 60
        }
      ]
    },
    {
      "cell_type": "code",
      "source": [
        "attention_3 = layers.Dense(1, activation = 'tanh')(attention_2)"
      ],
      "metadata": {
        "id": "Xs8VJNljlcki"
      },
      "execution_count": 61,
      "outputs": []
    },
    {
      "cell_type": "code",
      "source": [
        "attention_3.shape"
      ],
      "metadata": {
        "id": "yHeMyXQolvim",
        "outputId": "5f42fa74-d614-4869-c0b5-18316b51e649",
        "colab": {
          "base_uri": "https://localhost:8080/"
        }
      },
      "execution_count": 62,
      "outputs": [
        {
          "output_type": "execute_result",
          "data": {
            "text/plain": [
              "TensorShape([None, 250, 1])"
            ]
          },
          "metadata": {},
          "execution_count": 62
        }
      ]
    },
    {
      "cell_type": "code",
      "source": [
        "attention_4 = layers.Reshape((sequence_width,))(attention_3)"
      ],
      "metadata": {
        "id": "Ho-1_jJ5l0c6"
      },
      "execution_count": 63,
      "outputs": []
    },
    {
      "cell_type": "code",
      "source": [
        "attention_4.shape"
      ],
      "metadata": {
        "id": "5-iAw5oNmITd",
        "outputId": "029ad5d5-de46-4865-b70b-b877e9b2893d",
        "colab": {
          "base_uri": "https://localhost:8080/"
        }
      },
      "execution_count": 64,
      "outputs": [
        {
          "output_type": "execute_result",
          "data": {
            "text/plain": [
              "TensorShape([None, 250])"
            ]
          },
          "metadata": {},
          "execution_count": 64
        }
      ]
    },
    {
      "cell_type": "code",
      "source": [
        "attention_5 = layers.Activation('softmax')(attention_4)"
      ],
      "metadata": {
        "id": "yHoTOwKCnx-r"
      },
      "execution_count": 65,
      "outputs": []
    },
    {
      "cell_type": "code",
      "source": [
        "attention_5.shape"
      ],
      "metadata": {
        "id": "JM-ELzn5n_uG",
        "outputId": "b9e25a82-616c-473f-be2f-722acfe0a10c",
        "colab": {
          "base_uri": "https://localhost:8080/"
        }
      },
      "execution_count": 66,
      "outputs": [
        {
          "output_type": "execute_result",
          "data": {
            "text/plain": [
              "TensorShape([None, 250])"
            ]
          },
          "metadata": {},
          "execution_count": 66
        }
      ]
    },
    {
      "cell_type": "code",
      "source": [
        "attention_6 = layers.Reshape((sequence_width,1))(attention_5)"
      ],
      "metadata": {
        "id": "v88AICEROZLS"
      },
      "execution_count": 67,
      "outputs": []
    },
    {
      "cell_type": "code",
      "source": [
        "attention_6.shape"
      ],
      "metadata": {
        "id": "Y6PzEyXbU5j7",
        "outputId": "0005247b-e0dc-48f5-cf69-50f3d5f98d8f",
        "colab": {
          "base_uri": "https://localhost:8080/"
        }
      },
      "execution_count": 68,
      "outputs": [
        {
          "output_type": "execute_result",
          "data": {
            "text/plain": [
              "TensorShape([None, 250, 1])"
            ]
          },
          "metadata": {},
          "execution_count": 68
        }
      ]
    },
    {
      "cell_type": "code",
      "source": [
        "x_6 = layers.Multiply()([x_5,attention_6])"
      ],
      "metadata": {
        "id": "nBtQzbzQrfaM"
      },
      "execution_count": 69,
      "outputs": []
    },
    {
      "cell_type": "code",
      "source": [
        "x_6.shape"
      ],
      "metadata": {
        "id": "eSA5JbXxU_Zr",
        "outputId": "5d6ba1f5-2dc2-4436-9aff-d8f9082c17d7",
        "colab": {
          "base_uri": "https://localhost:8080/"
        }
      },
      "execution_count": 70,
      "outputs": [
        {
          "output_type": "execute_result",
          "data": {
            "text/plain": [
              "TensorShape([None, 250, 512])"
            ]
          },
          "metadata": {},
          "execution_count": 70
        }
      ]
    },
    {
      "cell_type": "code",
      "source": [
        "x_7 = layers.Reshape((sequence_width,64,8))(x_6)"
      ],
      "metadata": {
        "id": "s53vt6Mvs4Ws"
      },
      "execution_count": 71,
      "outputs": []
    },
    {
      "cell_type": "code",
      "source": [
        "x_7.shape"
      ],
      "metadata": {
        "id": "kQyp3Z4sXpq6",
        "outputId": "e6e71e42-5303-4c72-ee7e-413004f48c04",
        "colab": {
          "base_uri": "https://localhost:8080/"
        }
      },
      "execution_count": 72,
      "outputs": [
        {
          "output_type": "execute_result",
          "data": {
            "text/plain": [
              "TensorShape([None, 250, 64, 8])"
            ]
          },
          "metadata": {},
          "execution_count": 72
        }
      ]
    },
    {
      "cell_type": "code",
      "source": [
        "x_8 = layers.Lambda(lambda x: tf.math.reduce_sum(x, axis = 1))(x_7)"
      ],
      "metadata": {
        "id": "RimJUkSis4Ta"
      },
      "execution_count": 73,
      "outputs": []
    },
    {
      "cell_type": "code",
      "source": [
        "x_8.shape"
      ],
      "metadata": {
        "id": "UjxbVNxig1O-",
        "outputId": "7212d190-1e58-405b-aff2-046710f1a025",
        "colab": {
          "base_uri": "https://localhost:8080/"
        }
      },
      "execution_count": 74,
      "outputs": [
        {
          "output_type": "execute_result",
          "data": {
            "text/plain": [
              "TensorShape([None, 64, 8])"
            ]
          },
          "metadata": {},
          "execution_count": 74
        }
      ]
    },
    {
      "cell_type": "code",
      "source": [
        "x_9 = layers.Dense(1)(x_8)"
      ],
      "metadata": {
        "id": "_ME2ZwKJs4Qq"
      },
      "execution_count": 75,
      "outputs": []
    },
    {
      "cell_type": "code",
      "source": [
        "x_9.shape"
      ],
      "metadata": {
        "id": "KKEWkZPGiug-",
        "outputId": "6fe0536e-57e0-4845-99b6-0ed8d7dfb6fa",
        "colab": {
          "base_uri": "https://localhost:8080/"
        }
      },
      "execution_count": 76,
      "outputs": [
        {
          "output_type": "execute_result",
          "data": {
            "text/plain": [
              "TensorShape([None, 64, 1])"
            ]
          },
          "metadata": {},
          "execution_count": 76
        }
      ]
    },
    {
      "cell_type": "code",
      "source": [
        "x_10 = layers.Reshape((64,))(x_9)"
      ],
      "metadata": {
        "id": "IfrEhjY4iyyN"
      },
      "execution_count": 77,
      "outputs": []
    },
    {
      "cell_type": "code",
      "source": [
        "x_10.shape"
      ],
      "metadata": {
        "id": "_yy1HR2ljEXs",
        "outputId": "ae210b89-0a16-4404-b0a6-156547753dda",
        "colab": {
          "base_uri": "https://localhost:8080/"
        }
      },
      "execution_count": 78,
      "outputs": [
        {
          "output_type": "execute_result",
          "data": {
            "text/plain": [
              "TensorShape([None, 64])"
            ]
          },
          "metadata": {},
          "execution_count": 78
        }
      ]
    },
    {
      "cell_type": "code",
      "source": [
        "output = layers.Dense(1)(x_10)"
      ],
      "metadata": {
        "id": "uL_5Z6jHjImK"
      },
      "execution_count": 79,
      "outputs": []
    },
    {
      "cell_type": "code",
      "source": [
        "output.shape"
      ],
      "metadata": {
        "id": "EnOF0UR6jQnK",
        "outputId": "0a632ae4-969a-4fe2-e8a7-8fd3f79f828a",
        "colab": {
          "base_uri": "https://localhost:8080/"
        }
      },
      "execution_count": 80,
      "outputs": [
        {
          "output_type": "execute_result",
          "data": {
            "text/plain": [
              "TensorShape([None, 1])"
            ]
          },
          "metadata": {},
          "execution_count": 80
        }
      ]
    },
    {
      "cell_type": "code",
      "source": [
        "# Build the model 'Capsule_ConvLSTM_Attention'\n",
        "model_imf1 = keras.Model(inputs=inputs, outputs=output, name=\"model_imf1\")\n",
        "model_imf2 = keras.Model(inputs=inputs, outputs=output, name=\"model_imf2\")\n",
        "model_imf3 = keras.Model(inputs=inputs, outputs=output, name=\"model_imf3\")\n",
        "model_imf4 = keras.Model(inputs=inputs, outputs=output, name=\"model_imf4\")\n",
        "model_imf5 = keras.Model(inputs=inputs, outputs=output, name=\"model_imf5\")\n",
        "model_imf6 = keras.Model(inputs=inputs, outputs=output, name=\"model_imf6\")\n",
        "model_imf7 = keras.Model(inputs=inputs, outputs=output, name=\"model_imf7\")\n",
        "model_res = keras.Model(inputs=inputs, outputs=output, name=\"model_res\")\n"
      ],
      "metadata": {
        "id": "43sa-LDbjxNU"
      },
      "execution_count": 81,
      "outputs": []
    },
    {
      "cell_type": "code",
      "source": [
        "model_imf1.summary()"
      ],
      "metadata": {
        "id": "PQNpWaKmkDFP",
        "outputId": "10480325-4c8b-4156-a226-4cfc5ba17b82",
        "colab": {
          "base_uri": "https://localhost:8080/"
        }
      },
      "execution_count": 82,
      "outputs": [
        {
          "output_type": "stream",
          "name": "stdout",
          "text": [
            "Model: \"model_imf1\"\n",
            "__________________________________________________________________________________________________\n",
            " Layer (type)                   Output Shape         Param #     Connected to                     \n",
            "==================================================================================================\n",
            " sequence_input (InputLayer)    [(None, 250, 1)]     0           []                               \n",
            "                                                                                                  \n",
            " conv1d (Conv1D)                (None, 250, 512)     1536        ['sequence_input[0][0]']         \n",
            "                                                                                                  \n",
            " conv1d_1 (Conv1D)              (None, 250, 512)     8704        ['conv1d[0][0]']                 \n",
            "                                                                                                  \n",
            " reshape (Reshape)              (None, 250, 64, 8)   0           ['conv1d_1[0][0]']               \n",
            "                                                                                                  \n",
            " conv_lstm1d (ConvLSTM1D)       (None, 250, 64, 8)   65792       ['reshape[0][0]']                \n",
            "                                                                                                  \n",
            " dense (Dense)                  (None, 250, 64, 1)   9           ['conv_lstm1d[0][0]']            \n",
            "                                                                                                  \n",
            " reshape_2 (Reshape)            (None, 250, 64)      0           ['dense[0][0]']                  \n",
            "                                                                                                  \n",
            " dense_1 (Dense)                (None, 250, 1)       65          ['reshape_2[0][0]']              \n",
            "                                                                                                  \n",
            " reshape_3 (Reshape)            (None, 250)          0           ['dense_1[0][0]']                \n",
            "                                                                                                  \n",
            " activation (Activation)        (None, 250)          0           ['reshape_3[0][0]']              \n",
            "                                                                                                  \n",
            " reshape_1 (Reshape)            (None, 250, 512)     0           ['conv_lstm1d[0][0]']            \n",
            "                                                                                                  \n",
            " reshape_4 (Reshape)            (None, 250, 1)       0           ['activation[0][0]']             \n",
            "                                                                                                  \n",
            " multiply (Multiply)            (None, 250, 512)     0           ['reshape_1[0][0]',              \n",
            "                                                                  'reshape_4[0][0]']              \n",
            "                                                                                                  \n",
            " reshape_5 (Reshape)            (None, 250, 64, 8)   0           ['multiply[0][0]']               \n",
            "                                                                                                  \n",
            " lambda (Lambda)                (None, 64, 8)        0           ['reshape_5[0][0]']              \n",
            "                                                                                                  \n",
            " dense_2 (Dense)                (None, 64, 1)        9           ['lambda[0][0]']                 \n",
            "                                                                                                  \n",
            " reshape_6 (Reshape)            (None, 64)           0           ['dense_2[0][0]']                \n",
            "                                                                                                  \n",
            " dense_3 (Dense)                (None, 1)            65          ['reshape_6[0][0]']              \n",
            "                                                                                                  \n",
            "==================================================================================================\n",
            "Total params: 76,180\n",
            "Trainable params: 76,180\n",
            "Non-trainable params: 0\n",
            "__________________________________________________________________________________________________\n"
          ]
        }
      ]
    },
    {
      "cell_type": "code",
      "source": [
        "keras.utils.plot_model(model_imf1, \"Capsule_ConvLSTM_Attention.png\",show_shapes=True)"
      ],
      "metadata": {
        "id": "mWYCwMB0laqh",
        "outputId": "7b58fb1b-ea11-494a-aa52-8d2d46d0d11d",
        "colab": {
          "base_uri": "https://localhost:8080/",
          "height": 1000
        }
      },
      "execution_count": 83,
      "outputs": [
        {
          "output_type": "execute_result",
          "data": {
            "text/plain": [
              "<IPython.core.display.Image object>"
            ],
            "image/png": "[encoded data removed]"
          },
          "metadata": {},
          "execution_count": 83
        }
      ]
    },
    {
      "cell_type": "code",
      "source": [
        "# setting optimizer \n",
        "adam_1 = tf.keras.optimizers.Adam(\n",
        "                                    learning_rate=0.00008,\n",
        "                                    beta_1=0.9,\n",
        "                                    beta_2=0.999,\n",
        "                                    epsilon=1e-07,\n",
        "                                    amsgrad=False)"
      ],
      "metadata": {
        "id": "-g7pjoNQKxqY"
      },
      "execution_count": 111,
      "outputs": []
    },
    {
      "cell_type": "code",
      "source": [
        "# compile model\n",
        "model_imf1.compile(optimizer= adam_1,  loss=tf.keras.losses.MeanAbsoluteError(), metrics=[tf.keras.metrics.RootMeanSquaredError()])\n",
        "model_imf2.compile(optimizer=adam_1,  loss=tf.keras.losses.MeanAbsoluteError(), metrics=[tf.keras.metrics.RootMeanSquaredError()])\n",
        "model_imf3.compile(optimizer=adam_1,  loss=tf.keras.losses.MeanAbsoluteError(), metrics=[tf.keras.metrics.RootMeanSquaredError()])\n",
        "model_imf4.compile(optimizer=adam_1,  loss=tf.keras.losses.MeanAbsoluteError(), metrics=[tf.keras.metrics.RootMeanSquaredError()])\n",
        "model_imf5.compile(optimizer=adam_1,  loss=tf.keras.losses.MeanAbsoluteError(), metrics=[tf.keras.metrics.RootMeanSquaredError()])\n",
        "model_imf6.compile(optimizer=adam_1,  loss=tf.keras.losses.MeanAbsoluteError(), metrics=[tf.keras.metrics.RootMeanSquaredError()])\n",
        "model_imf7.compile(optimizer=adam_1,  loss=tf.keras.losses.MeanAbsoluteError(), metrics=[tf.keras.metrics.RootMeanSquaredError()])\n",
        "model_res.compile(optimizer=adam_1,  loss=tf.keras.losses.MeanAbsoluteError(), metrics=[tf.keras.metrics.RootMeanSquaredError()])\n",
        "    "
      ],
      "metadata": {
        "id": "hPungFZ3ltDv"
      },
      "execution_count": 112,
      "outputs": []
    },
    {
      "cell_type": "code",
      "source": [
        "# fit the model\n",
        "\n",
        "imf1_training_history = model_imf1.fit(imf1_norm_X_train, imf1_norm_Y_train, validation_data=(imf1_norm_X_validation, imf1_norm_Y_validation), epochs=10, batch_size=200, verbose=1)"
      ],
      "metadata": {
        "id": "fX9W11qQorFy",
        "outputId": "17eebe51-ed05-4225-a4b2-62aa67cc67d6",
        "colab": {
          "base_uri": "https://localhost:8080/"
        }
      },
      "execution_count": 91,
      "outputs": [
        {
          "output_type": "stream",
          "name": "stdout",
          "text": [
            "Epoch 1/10\n",
            "9/9 [==============================] - 33s 3s/step - loss: 0.4779 - root_mean_squared_error: 0.4844 - val_loss: 0.4384 - val_root_mean_squared_error: 0.4533\n",
            "Epoch 2/10\n",
            "9/9 [==============================] - 25s 3s/step - loss: 0.4021 - root_mean_squared_error: 0.4101 - val_loss: 0.3426 - val_root_mean_squared_error: 0.3602\n",
            "Epoch 3/10\n",
            "9/9 [==============================] - 24s 3s/step - loss: 0.2807 - root_mean_squared_error: 0.2938 - val_loss: 0.1810 - val_root_mean_squared_error: 0.2066\n",
            "Epoch 4/10\n",
            "9/9 [==============================] - 23s 3s/step - loss: 0.0991 - root_mean_squared_error: 0.1236 - val_loss: 0.1193 - val_root_mean_squared_error: 0.1497\n",
            "Epoch 5/10\n",
            "9/9 [==============================] - 24s 3s/step - loss: 0.0837 - root_mean_squared_error: 0.1049 - val_loss: 0.0811 - val_root_mean_squared_error: 0.1193\n",
            "Epoch 6/10\n",
            "9/9 [==============================] - 26s 3s/step - loss: 0.0672 - root_mean_squared_error: 0.0873 - val_loss: 0.0837 - val_root_mean_squared_error: 0.1220\n",
            "Epoch 7/10\n",
            "9/9 [==============================] - 23s 3s/step - loss: 0.0611 - root_mean_squared_error: 0.0798 - val_loss: 0.0830 - val_root_mean_squared_error: 0.1203\n",
            "Epoch 8/10\n",
            "9/9 [==============================] - 23s 3s/step - loss: 0.0613 - root_mean_squared_error: 0.0801 - val_loss: 0.0806 - val_root_mean_squared_error: 0.1181\n",
            "Epoch 9/10\n",
            "9/9 [==============================] - 24s 3s/step - loss: 0.0603 - root_mean_squared_error: 0.0785 - val_loss: 0.0806 - val_root_mean_squared_error: 0.1185\n",
            "Epoch 10/10\n",
            "9/9 [==============================] - 22s 2s/step - loss: 0.0601 - root_mean_squared_error: 0.0781 - val_loss: 0.0807 - val_root_mean_squared_error: 0.1181\n"
          ]
        }
      ]
    },
    {
      "cell_type": "code",
      "source": [
        "!nvidia-smi -L"
      ],
      "metadata": {
        "colab": {
          "base_uri": "https://localhost:8080/"
        },
        "id": "ZpW6f3MY5H1p",
        "outputId": "72422b00-7ea4-4238-ba65-cc1b58037428"
      },
      "execution_count": 92,
      "outputs": [
        {
          "output_type": "stream",
          "name": "stdout",
          "text": [
            "GPU 0: Tesla P100-PCIE-16GB (UUID: GPU-18ee6943-4e13-e2e8-a9d8-087401e2a050)\n"
          ]
        }
      ]
    },
    {
      "cell_type": "code",
      "source": [
        "plt.plot(imf1_training_history.history['root_mean_squared_error'])\n",
        "plt.plot(imf1_training_history.history['val_root_mean_squared_error'])\n",
        "plt.title('model RMSE')\n",
        "plt.ylabel('RMSE')\n",
        "plt.xlabel('epoch')\n",
        "plt.legend(['train', 'val'], loc='upper left')\n",
        "plt.show()"
      ],
      "metadata": {
        "colab": {
          "base_uri": "https://localhost:8080/",
          "height": 295
        },
        "id": "TbHgCf4J7RzC",
        "outputId": "08fb3827-588b-4180-9389-28ba73a33335"
      },
      "execution_count": 109,
      "outputs": [
        {
          "output_type": "display_data",
          "data": {
            "text/plain": [
              "<Figure size 432x288 with 1 Axes>"
            ],
            "image/png": "[encoded data removed]"
          },
          "metadata": {
            "needs_background": "light"
          }
        }
      ]
    },
    {
      "cell_type": "code",
      "source": [
        "# make a prediction on imf1\n",
        "imf1_norm_Y_hat = model_imf1.predict(imf1_norm_X_test)"
      ],
      "metadata": {
        "id": "EbdD4ibk_wIh"
      },
      "execution_count": 94,
      "outputs": []
    },
    {
      "cell_type": "code",
      "source": [
        "imf1_norm_Y_hat.shape"
      ],
      "metadata": {
        "colab": {
          "base_uri": "https://localhost:8080/"
        },
        "id": "bOcl67ddA-va",
        "outputId": "27c22390-f583-48dc-9b9f-5031a4a063ba"
      },
      "execution_count": 95,
      "outputs": [
        {
          "output_type": "execute_result",
          "data": {
            "text/plain": [
              "(150, 1)"
            ]
          },
          "metadata": {},
          "execution_count": 95
        }
      ]
    },
    {
      "cell_type": "code",
      "source": [
        "imf1_norm_Y_hat = np.reshape(imf1_norm_Y_hat, (150,))"
      ],
      "metadata": {
        "id": "MykKTuNqHuUF"
      },
      "execution_count": 96,
      "outputs": []
    },
    {
      "cell_type": "code",
      "source": [
        "imf1_norm_Y_hat.shape"
      ],
      "metadata": {
        "colab": {
          "base_uri": "https://localhost:8080/"
        },
        "id": "h-OCWP_lH9Ob",
        "outputId": "4c454c53-0a62-4f9b-a992-b2d7593f9a27"
      },
      "execution_count": 97,
      "outputs": [
        {
          "output_type": "execute_result",
          "data": {
            "text/plain": [
              "(150,)"
            ]
          },
          "metadata": {},
          "execution_count": 97
        }
      ]
    },
    {
      "cell_type": "code",
      "source": [
        "imf1_test_norm.shape"
      ],
      "metadata": {
        "colab": {
          "base_uri": "https://localhost:8080/"
        },
        "id": "EXWFniYuHl7K",
        "outputId": "87762590-3c96-45f3-93f6-7aecf0904dd9"
      },
      "execution_count": 98,
      "outputs": [
        {
          "output_type": "execute_result",
          "data": {
            "text/plain": [
              "(150,)"
            ]
          },
          "metadata": {},
          "execution_count": 98
        }
      ]
    },
    {
      "cell_type": "code",
      "source": [
        "plt.plot(imf1_norm_Y_hat)\n",
        "plt.plot(imf1_test_norm)\n",
        "plt.show()"
      ],
      "metadata": {
        "colab": {
          "base_uri": "https://localhost:8080/",
          "height": 265
        },
        "id": "CFXyXqYxAbxB",
        "outputId": "25a242b4-d124-4815-a955-c040872bc6c0"
      },
      "execution_count": 99,
      "outputs": [
        {
          "output_type": "display_data",
          "data": {
            "text/plain": [
              "<Figure size 432x288 with 1 Axes>"
            ],
            "image/png": "[encoded data removed]"
          },
          "metadata": {
            "needs_background": "light"
          }
        }
      ]
    },
    {
      "cell_type": "code",
      "source": [
        "# reverse the norm prediction\n",
        "imf1_Y_hat = imf1_norm_Y_hat * (max(imf1_train) - min(imf1_train)) + min(imf1_train)\n"
      ],
      "metadata": {
        "id": "DXKmVycWlVCB"
      },
      "execution_count": 100,
      "outputs": []
    },
    {
      "cell_type": "code",
      "source": [
        "plt.plot(imf1_Y_hat)\n",
        "plt.plot(imf1_test)\n",
        "plt.show()"
      ],
      "metadata": {
        "colab": {
          "base_uri": "https://localhost:8080/",
          "height": 265
        },
        "id": "irzbjdvyCIKZ",
        "outputId": "1772a6ab-b562-445b-e097-6aebe56f0eb4"
      },
      "execution_count": 101,
      "outputs": [
        {
          "output_type": "display_data",
          "data": {
            "text/plain": [
              "<Figure size 432x288 with 1 Axes>"
            ],
            "image/png": "[encoded data removed]"
          },
          "metadata": {
            "needs_background": "light"
          }
        }
      ]
    },
    {
      "cell_type": "code",
      "source": [
        "imf1_Y_hat.shape"
      ],
      "metadata": {
        "colab": {
          "base_uri": "https://localhost:8080/"
        },
        "id": "q8-u_sGFGXrb",
        "outputId": "97111c4e-5e75-4080-e430-61b63e582afe"
      },
      "execution_count": 102,
      "outputs": [
        {
          "output_type": "execute_result",
          "data": {
            "text/plain": [
              "(150,)"
            ]
          },
          "metadata": {},
          "execution_count": 102
        }
      ]
    },
    {
      "cell_type": "code",
      "source": [
        "imf1_test.shape"
      ],
      "metadata": {
        "colab": {
          "base_uri": "https://localhost:8080/"
        },
        "id": "S3QqV__hHLX-",
        "outputId": "7cf05731-f625-4669-e7f0-372c5f57d6aa"
      },
      "execution_count": 103,
      "outputs": [
        {
          "output_type": "execute_result",
          "data": {
            "text/plain": [
              "(150,)"
            ]
          },
          "metadata": {},
          "execution_count": 103
        }
      ]
    },
    {
      "cell_type": "code",
      "source": [
        "rmse_1 = np.mean(np.sqrt(np.mean((imf1_Y_hat - imf1_test) ** 2)))"
      ],
      "metadata": {
        "id": "KO71ZmCBDLwA"
      },
      "execution_count": 104,
      "outputs": []
    },
    {
      "cell_type": "code",
      "source": [
        "rmse_1"
      ],
      "metadata": {
        "colab": {
          "base_uri": "https://localhost:8080/"
        },
        "id": "GfJJ2SCeGDoF",
        "outputId": "31ea488d-eb84-479f-bc5e-e40ff7e2f155"
      },
      "execution_count": 105,
      "outputs": [
        {
          "output_type": "execute_result",
          "data": {
            "text/plain": [
              "97.50020148289953"
            ]
          },
          "metadata": {},
          "execution_count": 105
        }
      ]
    },
    {
      "cell_type": "code",
      "source": [
        "# train model_imf2\n",
        "imf2_training_history = model_imf2.fit(imf2_norm_X_train, imf2_norm_Y_train, validation_data=(imf2_norm_X_validation, imf2_norm_Y_validation), epochs=10, batch_size=200, verbose=1)"
      ],
      "metadata": {
        "colab": {
          "base_uri": "https://localhost:8080/"
        },
        "id": "CLyIad_YCzii",
        "outputId": "cf975f33-2743-4efd-b36b-1e8c9f164ac1"
      },
      "execution_count": 113,
      "outputs": [
        {
          "output_type": "stream",
          "name": "stdout",
          "text": [
            "Epoch 1/10\n",
            "9/9 [==============================] - 30s 3s/step - loss: 0.1067 - root_mean_squared_error: 0.1437 - val_loss: 0.1662 - val_root_mean_squared_error: 0.2408\n",
            "Epoch 2/10\n",
            "9/9 [==============================] - 25s 3s/step - loss: 0.1065 - root_mean_squared_error: 0.1435 - val_loss: 0.1660 - val_root_mean_squared_error: 0.2408\n",
            "Epoch 3/10\n",
            "9/9 [==============================] - 24s 3s/step - loss: 0.1065 - root_mean_squared_error: 0.1435 - val_loss: 0.1659 - val_root_mean_squared_error: 0.2408\n",
            "Epoch 4/10\n",
            "9/9 [==============================] - 24s 3s/step - loss: 0.1064 - root_mean_squared_error: 0.1434 - val_loss: 0.1658 - val_root_mean_squared_error: 0.2408\n",
            "Epoch 5/10\n",
            "9/9 [==============================] - 23s 3s/step - loss: 0.1064 - root_mean_squared_error: 0.1434 - val_loss: 0.1658 - val_root_mean_squared_error: 0.2408\n",
            "Epoch 6/10\n",
            "9/9 [==============================] - 27s 3s/step - loss: 0.1064 - root_mean_squared_error: 0.1434 - val_loss: 0.1658 - val_root_mean_squared_error: 0.2408\n",
            "Epoch 7/10\n",
            "9/9 [==============================] - 24s 3s/step - loss: 0.1064 - root_mean_squared_error: 0.1434 - val_loss: 0.1659 - val_root_mean_squared_error: 0.2408\n",
            "Epoch 8/10\n",
            "9/9 [==============================] - 22s 2s/step - loss: 0.1064 - root_mean_squared_error: 0.1434 - val_loss: 0.1658 - val_root_mean_squared_error: 0.2408\n",
            "Epoch 9/10\n",
            "9/9 [==============================] - 25s 3s/step - loss: 0.1064 - root_mean_squared_error: 0.1434 - val_loss: 0.1658 - val_root_mean_squared_error: 0.2408\n",
            "Epoch 10/10\n",
            "9/9 [==============================] - 24s 3s/step - loss: 0.1064 - root_mean_squared_error: 0.1434 - val_loss: 0.1658 - val_root_mean_squared_error: 0.2408\n"
          ]
        }
      ]
    },
    {
      "cell_type": "code",
      "source": [
        "plt.plot(imf2_training_history.history['root_mean_squared_error'])\n",
        "plt.plot(imf2_training_history.history['val_root_mean_squared_error'])\n",
        "plt.title('model RMSE')\n",
        "plt.ylabel('RMSE')\n",
        "plt.xlabel('epoch')\n",
        "plt.legend(['train', 'val'], loc='upper left')\n",
        "plt.show()"
      ],
      "metadata": {
        "colab": {
          "base_uri": "https://localhost:8080/",
          "height": 295
        },
        "id": "KoNRK-LhE3mA",
        "outputId": "04e14015-4f03-4744-c86a-df6c0fc6708d"
      },
      "execution_count": 110,
      "outputs": [
        {
          "output_type": "display_data",
          "data": {
            "text/plain": [
              "<Figure size 432x288 with 1 Axes>"
            ],
            "image/png": "[encoded data removed]"
          },
          "metadata": {
            "needs_background": "light"
          }
        }
      ]
    },
    {
      "cell_type": "code",
      "source": [
        "# make a prediction on imf2\n",
        "imf2_norm_Y_hat = model_imf2.predict(imf2_norm_X_test)"
      ],
      "metadata": {
        "id": "u8UyxFHoFESQ"
      },
      "execution_count": 142,
      "outputs": []
    },
    {
      "cell_type": "code",
      "source": [
        "plt.plot(imf2_norm_Y_hat)\n",
        "plt.plot(imf2_test_norm)\n",
        "plt.show()"
      ],
      "metadata": {
        "colab": {
          "base_uri": "https://localhost:8080/",
          "height": 265
        },
        "id": "qHveATDFFLXG",
        "outputId": "63cf1cf4-1250-4f48-d244-efed2aff3827"
      },
      "execution_count": 143,
      "outputs": [
        {
          "output_type": "display_data",
          "data": {
            "text/plain": [
              "<Figure size 432x288 with 1 Axes>"
            ],
            "image/png": "[encoded data removed]"
          },
          "metadata": {
            "needs_background": "light"
          }
        }
      ]
    },
    {
      "cell_type": "code",
      "source": [
        "# reverse the norm prediction\n",
        "imf2_Y_hat = imf2_norm_Y_hat * (max(imf2_train) - min(imf2_train)) + min(imf2_train)"
      ],
      "metadata": {
        "id": "GBa06Hq8FYiQ"
      },
      "execution_count": 144,
      "outputs": []
    },
    {
      "cell_type": "code",
      "source": [
        "plt.plot(imf2_Y_hat)\n",
        "plt.plot(imf2_test)\n",
        "plt.show()"
      ],
      "metadata": {
        "colab": {
          "base_uri": "https://localhost:8080/",
          "height": 265
        },
        "id": "bod_VSZ6FjMi",
        "outputId": "5665db2a-64e6-4158-b2c0-938db94deea5"
      },
      "execution_count": 145,
      "outputs": [
        {
          "output_type": "display_data",
          "data": {
            "text/plain": [
              "<Figure size 432x288 with 1 Axes>"
            ],
            "image/png": "[encoded data removed]"
          },
          "metadata": {
            "needs_background": "light"
          }
        }
      ]
    }
  ]
}